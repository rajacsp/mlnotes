{
 "cells": [
  {
   "cell_type": "code",
   "execution_count": null,
   "id": "5d78aad9-ff69-47e6-b4d7-59056ba2fc21",
   "metadata": {},
   "outputs": [],
   "source": []
  },
  {
   "cell_type": "code",
   "execution_count": 1,
   "id": "cf77abdd-6022-4f20-ab93-c88cc412ceea",
   "metadata": {},
   "outputs": [
    {
     "name": "stdout",
     "output_type": "stream",
     "text": [
      "(2, 3, 1)\n"
     ]
    }
   ],
   "source": [
    "import numpy as np\n",
    "\n",
    "x = np.array([0, 1, 2, 3, 4, 5, 6, 7, 8, 9])\n",
    "#print(x)\n",
    "\n",
    "x = x[1:7:5]\n",
    "#print(x)\n",
    "\n",
    "x = np.array([\n",
    "            [\n",
    "                [1],[2],[3]\n",
    "            ], \n",
    "            [\n",
    "                [4],[5],[6]\n",
    "            ]\n",
    "        ])\n",
    "#print(x)\n",
    "print(x.shape)"
   ]
  },
  {
   "cell_type": "code",
   "execution_count": null,
   "id": "eacc797d-4e34-45a9-aa11-0bb48118ab12",
   "metadata": {},
   "outputs": [],
   "source": []
  }
 ],
 "metadata": {
  "kernelspec": {
   "display_name": "Python 3 (ipykernel)",
   "language": "python",
   "name": "python3"
  },
  "language_info": {
   "codemirror_mode": {
    "name": "ipython",
    "version": 3
   },
   "file_extension": ".py",
   "mimetype": "text/x-python",
   "name": "python",
   "nbconvert_exporter": "python",
   "pygments_lexer": "ipython3",
   "version": "3.12.4"
  }
 },
 "nbformat": 4,
 "nbformat_minor": 5
}

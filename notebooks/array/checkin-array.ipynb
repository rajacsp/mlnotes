{
 "cells": [
  {
   "cell_type": "code",
   "execution_count": null,
   "id": "1e1369a8-5b69-4b92-ab79-c139c17432f6",
   "metadata": {},
   "outputs": [],
   "source": []
  },
  {
   "cell_type": "code",
   "execution_count": 1,
   "id": "c27207ff-cb34-45a3-a1c4-6bf7abf6e2be",
   "metadata": {},
   "outputs": [
    {
     "name": "stdout",
     "output_type": "stream",
     "text": [
      "baeldung\n",
      "abcde.com\n",
      "docs.spring.io\n",
      "springframework.guru\n",
      "x[springframework.guru] ==> springframework.guru\n",
      "java\n"
     ]
    }
   ],
   "source": [
    "def checkInArray(list, cc):\n",
    "    #print(len(list))\n",
    "    for x in list:\n",
    "        print(x)\n",
    "        \n",
    "        if(x in cc):\n",
    "            print('x['+x+'] ==> '+cc)\n",
    "            return True\n",
    "    \n",
    "    return False\n",
    "\n",
    "\n",
    "domain = \"springframework.guru\"\n",
    "\n",
    "if(checkInArray([\"baeldung\", \"abcde.com\", \"docs.spring.io\", \"springframework.guru\",\n",
    "                     \"logback.qos.ch\", \"javabeat.net\"], domain) ):\n",
    "    print(\"java\")"
   ]
  },
  {
   "cell_type": "code",
   "execution_count": null,
   "id": "de0c17ff-bf37-4829-802f-d34805c2774d",
   "metadata": {},
   "outputs": [],
   "source": []
  }
 ],
 "metadata": {
  "kernelspec": {
   "display_name": "Python 3 (ipykernel)",
   "language": "python",
   "name": "python3"
  },
  "language_info": {
   "codemirror_mode": {
    "name": "ipython",
    "version": 3
   },
   "file_extension": ".py",
   "mimetype": "text/x-python",
   "name": "python",
   "nbconvert_exporter": "python",
   "pygments_lexer": "ipython3",
   "version": "3.12.4"
  }
 },
 "nbformat": 4,
 "nbformat_minor": 5
}

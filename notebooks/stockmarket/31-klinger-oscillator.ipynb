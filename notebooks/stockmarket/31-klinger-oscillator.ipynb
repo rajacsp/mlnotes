{
 "cells": [
  {
   "cell_type": "code",
   "execution_count": 4,
   "id": "db25c914-1252-4bae-8dbe-3a20e361bd73",
   "metadata": {},
   "outputs": [],
   "source": [
    "# Created: 20250104"
   ]
  },
  {
   "cell_type": "code",
   "execution_count": 1,
   "id": "0c10588e-e9e7-4b8c-b92b-91104a273df0",
   "metadata": {},
   "outputs": [
    {
     "data": {
      "text/plain": [
       "'conda env: ml312-2024; pyv: 3.12.7 | packaged by Anaconda, Inc. | (main, Oct  4 2024, 13:27:36) [GCC 11.2.0]'"
      ]
     },
     "execution_count": 1,
     "metadata": {},
     "output_type": "execute_result"
    }
   ],
   "source": [
    "import pyutil as pyu\n",
    "pyu.get_local_pyinfo()"
   ]
  },
  {
   "cell_type": "code",
   "execution_count": 2,
   "id": "c2ccb592-b983-4856-a241-5898cab06699",
   "metadata": {},
   "outputs": [
    {
     "name": "stdout",
     "output_type": "stream",
     "text": [
      "yfinance==0.2.51\n",
      "pandas==2.2.3\n",
      "matplotlib==3.9.3\n",
      "\n"
     ]
    }
   ],
   "source": [
    "print(pyu.ps2(\"yfinance pandas matplotlib\"))"
   ]
  },
  {
   "cell_type": "code",
   "execution_count": 3,
   "id": "e290a4be-0793-4902-b10b-44429cb937f9",
   "metadata": {},
   "outputs": [],
   "source": [
    "import yfinance as yf\n",
    "import pandas as pd\n",
    "import numpy as np\n",
    "import matplotlib.pyplot as plt"
   ]
  },
  {
   "cell_type": "code",
   "execution_count": 1,
   "id": "6aa358ac-b50d-4002-b639-6ef6ff742ade",
   "metadata": {},
   "outputs": [
    {
     "name": "stderr",
     "output_type": "stream",
     "text": [
      "[*********************100%***********************]  1 of 1 completed"
     ]
    },
    {
     "name": "stdout",
     "output_type": "stream",
     "text": [
      "Unexpected exception formatting exception. Falling back to standard exception\n"
     ]
    },
    {
     "name": "stderr",
     "output_type": "stream",
     "text": [
      "\n",
      "Traceback (most recent call last):\n",
      "  File \"/home/rajaraman/miniconda3/envs/ml312-2024/lib/python3.12/site-packages/IPython/core/interactiveshell.py\", line 3508, in run_code\n",
      "    exec(code_obj, self.user_global_ns, self.user_ns)\n",
      "  File \"/tmp/ipykernel_1242957/3777612313.py\", line 38, in <module>\n",
      "    data = calculate_klinger(data)\n",
      "           ^^^^^^^^^^^^^^^^^^^^^^^\n",
      "  File \"/tmp/ipykernel_1242957/3777612313.py\", line 19, in calculate_klinger\n",
      "    vf = trend * data['Volume'] * (\n",
      "         ~~~~~~^~~~~~~~~~~~~~~~\n",
      "  File \"/home/rajaraman/miniconda3/envs/ml312-2024/lib/python3.12/site-packages/pandas/core/generic.py\", line 2171, in __array_ufunc__\n",
      "    return arraylike.array_ufunc(self, ufunc, method, *inputs, **kwargs)\n",
      "           ^^^^^^^^^^^^^^^^^^^^^^^^^^^^^^^^^^^^^^^^^^^^^^^^^^^^^^^^^^^^^\n",
      "  File \"/home/rajaraman/miniconda3/envs/ml312-2024/lib/python3.12/site-packages/pandas/core/arraylike.py\", line 276, in array_ufunc\n",
      "    result = maybe_dispatch_ufunc_to_dunder_op(self, ufunc, method, *inputs, **kwargs)\n",
      "             ^^^^^^^^^^^^^^^^^^^^^^^^^^^^^^^^^^^^^^^^^^^^^^^^^^^^^^^^^^^^^^^^^^^^^^^^^\n",
      "  File \"ops_dispatch.pyx\", line 113, in pandas._libs.ops_dispatch.maybe_dispatch_ufunc_to_dunder_op\n",
      "  File \"/home/rajaraman/miniconda3/envs/ml312-2024/lib/python3.12/site-packages/pandas/core/ops/common.py\", line 76, in new_method\n",
      "    return method(self, other)\n",
      "           ^^^^^^^^^^^^^^^^^^^\n",
      "  File \"/home/rajaraman/miniconda3/envs/ml312-2024/lib/python3.12/site-packages/pandas/core/arraylike.py\", line 206, in __rmul__\n",
      "    return self._arith_method(other, roperator.rmul)\n",
      "           ^^^^^^^^^^^^^^^^^^^^^^^^^^^^^^^^^^^^^^^^^\n",
      "  File \"/home/rajaraman/miniconda3/envs/ml312-2024/lib/python3.12/site-packages/pandas/core/frame.py\", line 7910, in _arith_method\n",
      "    self, other = self._align_for_op(other, axis, flex=True, level=None)\n",
      "                  ^^^^^^^^^^^^^^^^^^^^^^^^^^^^^^^^^^^^^^^^^^^^^^^^^^^^^^\n",
      "  File \"/home/rajaraman/miniconda3/envs/ml312-2024/lib/python3.12/site-packages/pandas/core/frame.py\", line 8141, in _align_for_op\n",
      "    right = to_series(right)\n",
      "            ^^^^^^^^^^^^^^^^\n",
      "  File \"/home/rajaraman/miniconda3/envs/ml312-2024/lib/python3.12/site-packages/pandas/core/frame.py\", line 8133, in to_series\n",
      "    raise ValueError(\n",
      "ValueError: Unable to coerce to Series, length must be 1: given 1006\n",
      "\n",
      "During handling of the above exception, another exception occurred:\n",
      "\n",
      "Traceback (most recent call last):\n",
      "  File \"/home/rajaraman/miniconda3/envs/ml312-2024/lib/python3.12/site-packages/IPython/core/interactiveshell.py\", line 2105, in showtraceback\n",
      "    stb = self.InteractiveTB.structured_traceback(\n",
      "          ^^^^^^^^^^^^^^^^^^^^^^^^^^^^^^^^^^^^^^^^\n",
      "  File \"/home/rajaraman/miniconda3/envs/ml312-2024/lib/python3.12/site-packages/IPython/core/ultratb.py\", line 1396, in structured_traceback\n",
      "    return FormattedTB.structured_traceback(\n",
      "           ^^^^^^^^^^^^^^^^^^^^^^^^^^^^^^^^^\n",
      "  File \"/home/rajaraman/miniconda3/envs/ml312-2024/lib/python3.12/site-packages/IPython/core/ultratb.py\", line 1287, in structured_traceback\n",
      "    return VerboseTB.structured_traceback(\n",
      "           ^^^^^^^^^^^^^^^^^^^^^^^^^^^^^^^\n",
      "  File \"/home/rajaraman/miniconda3/envs/ml312-2024/lib/python3.12/site-packages/IPython/core/ultratb.py\", line 1140, in structured_traceback\n",
      "    formatted_exception = self.format_exception_as_a_whole(etype, evalue, etb, number_of_lines_of_context,\n",
      "                          ^^^^^^^^^^^^^^^^^^^^^^^^^^^^^^^^^^^^^^^^^^^^^^^^^^^^^^^^^^^^^^^^^^^^^^^^^^^^^^^^\n",
      "  File \"/home/rajaraman/miniconda3/envs/ml312-2024/lib/python3.12/site-packages/IPython/core/ultratb.py\", line 1030, in format_exception_as_a_whole\n",
      "    self.get_records(etb, number_of_lines_of_context, tb_offset) if etb else []\n",
      "    ^^^^^^^^^^^^^^^^^^^^^^^^^^^^^^^^^^^^^^^^^^^^^^^^^^^^^^^^^^^^\n",
      "  File \"/home/rajaraman/miniconda3/envs/ml312-2024/lib/python3.12/site-packages/IPython/core/ultratb.py\", line 1122, in get_records\n",
      "    FrameInfo(\n",
      "  File \"/home/rajaraman/miniconda3/envs/ml312-2024/lib/python3.12/site-packages/IPython/core/ultratb.py\", line 766, in __init__\n",
      "    ix = inspect.getsourcelines(frame)\n",
      "         ^^^^^^^^^^^^^^^^^^^^^^^^^^^^^\n",
      "  File \"/home/rajaraman/miniconda3/envs/ml312-2024/lib/python3.12/inspect.py\", line 1267, in getsourcelines\n",
      "    lines, lnum = findsource(object)\n",
      "                  ^^^^^^^^^^^^^^^^^^\n",
      "  File \"/home/rajaraman/miniconda3/envs/ml312-2024/lib/python3.12/inspect.py\", line 1088, in findsource\n",
      "    raise OSError('source code not available')\n",
      "OSError: source code not available\n"
     ]
    }
   ],
   "source": [
    "import yfinance as yf\n",
    "import pandas as pd\n",
    "import numpy as np\n",
    "import matplotlib.pyplot as plt\n",
    "\n",
    "# Step 1: Download historical data\n",
    "symbol = \"^GSPC\"  # S&P 500 as an example\n",
    "start = \"2020-01-01\"\n",
    "end = \"2023-12-31\"\n",
    "data = yf.download(symbol, start=start, end=end)\n",
    "\n",
    "# Step 2: Calculate Klinger Oscillator\n",
    "def calculate_klinger(data, short_period=34, long_period=55, signal_period=13):\n",
    "    # Calculate Trend Direction\n",
    "    typical_price = data[['High', 'Low', 'Close']].sum(axis=1)\n",
    "    trend = np.where(typical_price > typical_price.shift(1), 1, -1)\n",
    "    \n",
    "    # Calculate Volume Force (VF)\n",
    "    vf = trend * data['Volume'] * (\n",
    "        (2 * (data['Close'] - data['Low'] - (data['High'] - data['Close'])) / \n",
    "         (data['High'] - data['Low']) - 1)\n",
    "    )\n",
    "    vf = vf.fillna(0)\n",
    "    \n",
    "    # Calculate Short EMA and Long EMA of VF\n",
    "    short_ema = vf.ewm(span=short_period, adjust=False).mean()\n",
    "    long_ema = vf.ewm(span=long_period, adjust=False).mean()\n",
    "    \n",
    "    # Klinger Oscillator\n",
    "    data['Klinger Oscillator'] = short_ema - long_ema\n",
    "    \n",
    "    # Signal Line\n",
    "    data['Signal Line'] = data['Klinger Oscillator'].ewm(span=signal_period, adjust=False).mean()\n",
    "    \n",
    "    return data\n",
    "\n",
    "# Apply Klinger Oscillator calculation\n",
    "data = calculate_klinger(data)\n",
    "\n",
    "# Step 3: Plot Close Price and Klinger Oscillator\n",
    "plt.figure(figsize=(14, 7))\n",
    "\n",
    "# Plot Close Price\n",
    "plt.subplot(2, 1, 1)\n",
    "plt.plot(data['Close'], label='Close Price', color='blue')\n",
    "plt.title(f'{symbol} Close Price')\n",
    "plt.xlabel('Date')\n",
    "plt.ylabel('Price')\n",
    "plt.legend()\n",
    "plt.grid(True)\n",
    "\n",
    "# Plot Klinger Oscillator\n",
    "plt.subplot(2, 1, 2)\n",
    "plt.plot(data['Klinger Oscillator'], label='Klinger Oscillator', color='purple', linewidth=1.5)\n",
    "plt.plot(data['Signal Line'], label='Signal Line', color='orange', linestyle='--', linewidth=1.5)\n",
    "plt.axhline(0, color='black', linestyle='--', linewidth=1, label='Zero Line')\n",
    "plt.title(f'Klinger Oscillator for {symbol}')\n",
    "plt.xlabel('Date')\n",
    "plt.ylabel('Value')\n",
    "plt.legend(loc='best')\n",
    "plt.grid(True)\n",
    "\n",
    "plt.tight_layout()\n",
    "plt.show()"
   ]
  },
  {
   "cell_type": "code",
   "execution_count": null,
   "id": "186b902a-1c7f-459b-ad84-d9f654eaed99",
   "metadata": {},
   "outputs": [],
   "source": []
  },
  {
   "cell_type": "code",
   "execution_count": 4,
   "id": "967b2f24-6382-4078-9d06-bba6b183b32d",
   "metadata": {},
   "outputs": [],
   "source": [
    "def show_graph(symbol):\n",
    "\n",
    "pass"
   ]
  },
  {
   "cell_type": "code",
   "execution_count": 5,
   "id": "4dc15a77-590b-40e6-a652-56070a0bb60b",
   "metadata": {},
   "outputs": [
    {
     "ename": "NameError",
     "evalue": "name 'show_graph' is not defined",
     "output_type": "error",
     "traceback": [
      "\u001b[0;31m---------------------------------------------------------------------------\u001b[0m",
      "\u001b[0;31mNameError\u001b[0m                                 Traceback (most recent call last)",
      "Cell \u001b[0;32mIn[5], line 1\u001b[0m\n\u001b[0;32m----> 1\u001b[0m \u001b[43mshow_graph\u001b[49m(\u001b[38;5;124m\"\u001b[39m\u001b[38;5;124mAMZN\u001b[39m\u001b[38;5;124m\"\u001b[39m)\n",
      "\u001b[0;31mNameError\u001b[0m: name 'show_graph' is not defined"
     ]
    }
   ],
   "source": [
    "show_graph(\"AMZN\")"
   ]
  },
  {
   "cell_type": "code",
   "execution_count": null,
   "id": "dfda9bf4-aac9-4b77-8fd5-ccfb4cbc4ba3",
   "metadata": {},
   "outputs": [],
   "source": []
  }
 ],
 "metadata": {
  "kernelspec": {
   "display_name": "Python 3 (ipykernel)",
   "language": "python",
   "name": "python3"
  },
  "language_info": {
   "codemirror_mode": {
    "name": "ipython",
    "version": 3
   },
   "file_extension": ".py",
   "mimetype": "text/x-python",
   "name": "python",
   "nbconvert_exporter": "python",
   "pygments_lexer": "ipython3",
   "version": "3.12.7"
  }
 },
 "nbformat": 4,
 "nbformat_minor": 5
}

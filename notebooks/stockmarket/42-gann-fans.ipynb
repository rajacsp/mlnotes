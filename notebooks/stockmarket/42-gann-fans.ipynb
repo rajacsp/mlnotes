{
 "cells": [
  {
   "cell_type": "code",
   "execution_count": 4,
   "id": "db25c914-1252-4bae-8dbe-3a20e361bd73",
   "metadata": {},
   "outputs": [],
   "source": [
    "# Created: 20250104"
   ]
  },
  {
   "cell_type": "code",
   "execution_count": 1,
   "id": "0c10588e-e9e7-4b8c-b92b-91104a273df0",
   "metadata": {},
   "outputs": [
    {
     "data": {
      "text/plain": [
       "'conda env: ml312-2024; pyv: 3.12.7 | packaged by Anaconda, Inc. | (main, Oct  4 2024, 13:27:36) [GCC 11.2.0]'"
      ]
     },
     "execution_count": 1,
     "metadata": {},
     "output_type": "execute_result"
    }
   ],
   "source": [
    "import pyutil as pyu\n",
    "pyu.get_local_pyinfo()"
   ]
  },
  {
   "cell_type": "code",
   "execution_count": 2,
   "id": "c2ccb592-b983-4856-a241-5898cab06699",
   "metadata": {},
   "outputs": [
    {
     "name": "stdout",
     "output_type": "stream",
     "text": [
      "yfinance==0.2.51\n",
      "pandas==2.2.3\n",
      "matplotlib==3.9.3\n",
      "\n"
     ]
    }
   ],
   "source": [
    "print(pyu.ps2(\"yfinance pandas matplotlib\"))"
   ]
  },
  {
   "cell_type": "code",
   "execution_count": 3,
   "id": "e290a4be-0793-4902-b10b-44429cb937f9",
   "metadata": {},
   "outputs": [],
   "source": [
    "import yfinance as yf\n",
    "import pandas as pd\n",
    "import numpy as np\n",
    "import matplotlib.pyplot as plt"
   ]
  },
  {
   "cell_type": "code",
   "execution_count": 7,
   "id": "6aa358ac-b50d-4002-b639-6ef6ff742ade",
   "metadata": {},
   "outputs": [
    {
     "name": "stderr",
     "output_type": "stream",
     "text": [
      "[*********************100%***********************]  1 of 1 completed\n"
     ]
    },
    {
     "ename": "InvalidIndexError",
     "evalue": "Ticker\n^GSPC   2020-03-23\ndtype: datetime64[ns]",
     "output_type": "error",
     "traceback": [
      "\u001b[0;31m---------------------------------------------------------------------------\u001b[0m",
      "\u001b[0;31mInvalidIndexError\u001b[0m                         Traceback (most recent call last)",
      "Cell \u001b[0;32mIn[7], line 15\u001b[0m\n\u001b[1;32m     13\u001b[0m pivot_date \u001b[38;5;241m=\u001b[39m data[\u001b[38;5;124m'\u001b[39m\u001b[38;5;124mClose\u001b[39m\u001b[38;5;124m'\u001b[39m]\u001b[38;5;241m.\u001b[39midxmin()  \u001b[38;5;66;03m# Recent low\u001b[39;00m\n\u001b[1;32m     14\u001b[0m pivot_price \u001b[38;5;241m=\u001b[39m data[\u001b[38;5;124m'\u001b[39m\u001b[38;5;124mClose\u001b[39m\u001b[38;5;124m'\u001b[39m]\u001b[38;5;241m.\u001b[39mmin()\n\u001b[0;32m---> 15\u001b[0m pivot_index \u001b[38;5;241m=\u001b[39m \u001b[43mdata\u001b[49m\u001b[38;5;241;43m.\u001b[39;49m\u001b[43mindex\u001b[49m\u001b[38;5;241;43m.\u001b[39;49m\u001b[43mget_loc\u001b[49m\u001b[43m(\u001b[49m\u001b[43mpivot_date\u001b[49m\u001b[43m)\u001b[49m\n\u001b[1;32m     17\u001b[0m \u001b[38;5;66;03m# Step 3: Define Gann angles\u001b[39;00m\n\u001b[1;32m     18\u001b[0m angles \u001b[38;5;241m=\u001b[39m {\n\u001b[1;32m     19\u001b[0m     \u001b[38;5;124m'\u001b[39m\u001b[38;5;124m1x1\u001b[39m\u001b[38;5;124m'\u001b[39m: \u001b[38;5;241m45\u001b[39m,\n\u001b[1;32m     20\u001b[0m     \u001b[38;5;124m'\u001b[39m\u001b[38;5;124m2x1\u001b[39m\u001b[38;5;124m'\u001b[39m: \u001b[38;5;241m63.5\u001b[39m,\n\u001b[0;32m   (...)\u001b[0m\n\u001b[1;32m     23\u001b[0m     \u001b[38;5;124m'\u001b[39m\u001b[38;5;124m1x3\u001b[39m\u001b[38;5;124m'\u001b[39m: \u001b[38;5;241m18.5\u001b[39m,\n\u001b[1;32m     24\u001b[0m }\n",
      "File \u001b[0;32m~/miniconda3/envs/ml312-2024/lib/python3.12/site-packages/pandas/core/indexes/datetimes.py:590\u001b[0m, in \u001b[0;36mDatetimeIndex.get_loc\u001b[0;34m(self, key)\u001b[0m\n\u001b[1;32m    582\u001b[0m \u001b[38;5;28;01mdef\u001b[39;00m \u001b[38;5;21mget_loc\u001b[39m(\u001b[38;5;28mself\u001b[39m, key):\n\u001b[1;32m    583\u001b[0m \u001b[38;5;250m    \u001b[39m\u001b[38;5;124;03m\"\"\"\u001b[39;00m\n\u001b[1;32m    584\u001b[0m \u001b[38;5;124;03m    Get integer location for requested label\u001b[39;00m\n\u001b[1;32m    585\u001b[0m \n\u001b[0;32m   (...)\u001b[0m\n\u001b[1;32m    588\u001b[0m \u001b[38;5;124;03m    loc : int\u001b[39;00m\n\u001b[1;32m    589\u001b[0m \u001b[38;5;124;03m    \"\"\"\u001b[39;00m\n\u001b[0;32m--> 590\u001b[0m     \u001b[38;5;28;43mself\u001b[39;49m\u001b[38;5;241;43m.\u001b[39;49m\u001b[43m_check_indexing_error\u001b[49m\u001b[43m(\u001b[49m\u001b[43mkey\u001b[49m\u001b[43m)\u001b[49m\n\u001b[1;32m    592\u001b[0m     orig_key \u001b[38;5;241m=\u001b[39m key\n\u001b[1;32m    593\u001b[0m     \u001b[38;5;28;01mif\u001b[39;00m is_valid_na_for_dtype(key, \u001b[38;5;28mself\u001b[39m\u001b[38;5;241m.\u001b[39mdtype):\n",
      "File \u001b[0;32m~/miniconda3/envs/ml312-2024/lib/python3.12/site-packages/pandas/core/indexes/base.py:6059\u001b[0m, in \u001b[0;36mIndex._check_indexing_error\u001b[0;34m(self, key)\u001b[0m\n\u001b[1;32m   6055\u001b[0m \u001b[38;5;28;01mdef\u001b[39;00m \u001b[38;5;21m_check_indexing_error\u001b[39m(\u001b[38;5;28mself\u001b[39m, key):\n\u001b[1;32m   6056\u001b[0m     \u001b[38;5;28;01mif\u001b[39;00m \u001b[38;5;129;01mnot\u001b[39;00m is_scalar(key):\n\u001b[1;32m   6057\u001b[0m         \u001b[38;5;66;03m# if key is not a scalar, directly raise an error (the code below\u001b[39;00m\n\u001b[1;32m   6058\u001b[0m         \u001b[38;5;66;03m# would convert to numpy arrays and raise later any way) - GH29926\u001b[39;00m\n\u001b[0;32m-> 6059\u001b[0m         \u001b[38;5;28;01mraise\u001b[39;00m InvalidIndexError(key)\n",
      "\u001b[0;31mInvalidIndexError\u001b[0m: Ticker\n^GSPC   2020-03-23\ndtype: datetime64[ns]"
     ]
    }
   ],
   "source": [
    "import yfinance as yf\n",
    "import pandas as pd\n",
    "import matplotlib.pyplot as plt\n",
    "import numpy as np\n",
    "\n",
    "# Step 1: Download historical data\n",
    "symbol = \"^GSPC\"  # S&P 500 as an example\n",
    "start = \"2020-01-01\"\n",
    "end = \"2023-12-31\"\n",
    "data = yf.download(symbol, start=start, end=end)\n",
    "\n",
    "# Step 2: Identify a pivot point (e.g., the most recent low)\n",
    "pivot_date = data['Close'].idxmin()  # Recent low\n",
    "pivot_price = data['Close'].min()\n",
    "pivot_index = data.index.get_loc(pivot_date)\n",
    "\n",
    "# Step 3: Define Gann angles\n",
    "angles = {\n",
    "    '1x1': 45,\n",
    "    '2x1': 63.5,\n",
    "    '1x2': 26.5,\n",
    "    '3x1': 71.5,\n",
    "    '1x3': 18.5,\n",
    "}\n",
    "\n",
    "# Step 4: Plot Gann Fans\n",
    "plt.figure(figsize=(14, 7))\n",
    "plt.plot(data['Close'], label='Close Price', color='blue', linewidth=1)\n",
    "plt.scatter(pivot_date, pivot_price, color='red', label='Pivot Point', zorder=3)\n",
    "\n",
    "# Draw Gann angles\n",
    "for label, angle in angles.items():\n",
    "    # Create x values from the pivot point\n",
    "    x = np.arange(0, len(data) - pivot_index)\n",
    "    y = pivot_price + x * np.tan(np.radians(angle))\n",
    "    \n",
    "    # Adjust y values to align with the index\n",
    "    gann_x = data.index[pivot_index : pivot_index + len(x)]\n",
    "    gann_y = y[:len(gann_x)]  # Ensure lengths match\n",
    "    \n",
    "    plt.plot(gann_x, gann_y, label=f'Gann Fan {label}', linestyle='--')\n",
    "\n",
    "# Customize plot\n",
    "plt.title(f'{symbol} Gann Fans')\n",
    "plt.xlabel('Date')\n",
    "plt.ylabel('Price')\n",
    "plt.legend(loc='best')\n",
    "plt.grid(True)\n",
    "plt.tight_layout()\n",
    "plt.show()"
   ]
  },
  {
   "cell_type": "code",
   "execution_count": null,
   "id": "186b902a-1c7f-459b-ad84-d9f654eaed99",
   "metadata": {},
   "outputs": [],
   "source": []
  },
  {
   "cell_type": "code",
   "execution_count": 4,
   "id": "967b2f24-6382-4078-9d06-bba6b183b32d",
   "metadata": {},
   "outputs": [],
   "source": [
    "def show_graph(symbol):\n",
    "\n",
    "pass"
   ]
  },
  {
   "cell_type": "code",
   "execution_count": 5,
   "id": "4dc15a77-590b-40e6-a652-56070a0bb60b",
   "metadata": {},
   "outputs": [
    {
     "ename": "NameError",
     "evalue": "name 'show_graph' is not defined",
     "output_type": "error",
     "traceback": [
      "\u001b[0;31m---------------------------------------------------------------------------\u001b[0m",
      "\u001b[0;31mNameError\u001b[0m                                 Traceback (most recent call last)",
      "Cell \u001b[0;32mIn[5], line 1\u001b[0m\n\u001b[0;32m----> 1\u001b[0m \u001b[43mshow_graph\u001b[49m(\u001b[38;5;124m\"\u001b[39m\u001b[38;5;124mAMZN\u001b[39m\u001b[38;5;124m\"\u001b[39m)\n",
      "\u001b[0;31mNameError\u001b[0m: name 'show_graph' is not defined"
     ]
    }
   ],
   "source": [
    "show_graph(\"AMZN\")"
   ]
  },
  {
   "cell_type": "code",
   "execution_count": null,
   "id": "dfda9bf4-aac9-4b77-8fd5-ccfb4cbc4ba3",
   "metadata": {},
   "outputs": [],
   "source": []
  }
 ],
 "metadata": {
  "kernelspec": {
   "display_name": "Python 3 (ipykernel)",
   "language": "python",
   "name": "python3"
  },
  "language_info": {
   "codemirror_mode": {
    "name": "ipython",
    "version": 3
   },
   "file_extension": ".py",
   "mimetype": "text/x-python",
   "name": "python",
   "nbconvert_exporter": "python",
   "pygments_lexer": "ipython3",
   "version": "3.12.7"
  }
 },
 "nbformat": 4,
 "nbformat_minor": 5
}

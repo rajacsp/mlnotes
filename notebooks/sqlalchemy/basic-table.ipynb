{
 "cells": [
  {
   "cell_type": "code",
   "execution_count": 1,
   "id": "211f472a-6bd6-4a4b-afda-7fe38964e45f",
   "metadata": {},
   "outputs": [],
   "source": [
    "import sqlalchemy\n",
    "from sqlalchemy import create_engine\n",
    "from sqlalchemy.ext.declarative import declarative_base\n",
    "from sqlalchemy import Column, Integer, String"
   ]
  },
  {
   "cell_type": "code",
   "execution_count": 2,
   "id": "8f2e77c6-f29f-419d-aaf4-fd8c187917b6",
   "metadata": {},
   "outputs": [
    {
     "name": "stderr",
     "output_type": "stream",
     "text": [
      "/tmp/ipykernel_4126507/3500228846.py:2: MovedIn20Warning: The ``declarative_base()`` function is now available as sqlalchemy.orm.declarative_base(). (deprecated since: 2.0) (Background on SQLAlchemy 2.0 at: https://sqlalche.me/e/b8d9)\n",
      "  Base = declarative_base()\n"
     ]
    }
   ],
   "source": [
    "engine = create_engine('sqlite:///:memory:', echo=True)\n",
    "Base = declarative_base()"
   ]
  },
  {
   "cell_type": "code",
   "execution_count": 3,
   "id": "bb24e7eb-2ff3-4286-90f7-de3cb65b4154",
   "metadata": {},
   "outputs": [
    {
     "data": {
      "text/plain": [
       "Engine(sqlite:///:memory:)"
      ]
     },
     "execution_count": 3,
     "metadata": {},
     "output_type": "execute_result"
    }
   ],
   "source": [
    "engine"
   ]
  },
  {
   "cell_type": "code",
   "execution_count": 4,
   "id": "ccf43c12-7d02-4ab0-be0d-3fbd9153c538",
   "metadata": {},
   "outputs": [],
   "source": [
    "class City(Base):\n",
    "     __tablename__ = 'city'\n",
    "\n",
    "     id = Column(Integer, primary_key=True)\n",
    "     name = Column(String)\n",
    "     province = Column(String)\n",
    "     country = Column(String)\n",
    "\n",
    "     def __repr__(self):\n",
    "        return \"<City(name='%s', province='%s', country='%s')>\" % (\n",
    "                             self.name, self.province, self.country)"
   ]
  },
  {
   "cell_type": "code",
   "execution_count": 5,
   "id": "972c953a-49f5-4a7f-a7e5-f38aae4e215a",
   "metadata": {},
   "outputs": [
    {
     "data": {
      "text/plain": [
       "Table('city', MetaData(), Column('id', Integer(), table=<city>, primary_key=True, nullable=False), Column('name', String(), table=<city>), Column('province', String(), table=<city>), Column('country', String(), table=<city>), schema=None)"
      ]
     },
     "execution_count": 5,
     "metadata": {},
     "output_type": "execute_result"
    }
   ],
   "source": [
    "City.__table__ "
   ]
  },
  {
   "cell_type": "code",
   "execution_count": 6,
   "id": "45bd89de-886a-48fd-a1fb-e754957dd3a4",
   "metadata": {},
   "outputs": [
    {
     "name": "stdout",
     "output_type": "stream",
     "text": [
      "2024-11-16 13:50:11,009 INFO sqlalchemy.engine.Engine BEGIN (implicit)\n",
      "2024-11-16 13:50:11,010 INFO sqlalchemy.engine.Engine PRAGMA main.table_info(\"city\")\n",
      "2024-11-16 13:50:11,011 INFO sqlalchemy.engine.Engine [raw sql] ()\n",
      "2024-11-16 13:50:11,011 INFO sqlalchemy.engine.Engine PRAGMA temp.table_info(\"city\")\n",
      "2024-11-16 13:50:11,012 INFO sqlalchemy.engine.Engine [raw sql] ()\n",
      "2024-11-16 13:50:11,013 INFO sqlalchemy.engine.Engine \n",
      "CREATE TABLE city (\n",
      "\tid INTEGER NOT NULL, \n",
      "\tname VARCHAR, \n",
      "\tprovince VARCHAR, \n",
      "\tcountry VARCHAR, \n",
      "\tPRIMARY KEY (id)\n",
      ")\n",
      "\n",
      "\n",
      "2024-11-16 13:50:11,013 INFO sqlalchemy.engine.Engine [no key 0.00045s] ()\n",
      "2024-11-16 13:50:11,014 INFO sqlalchemy.engine.Engine COMMIT\n"
     ]
    }
   ],
   "source": [
    "Base.metadata.create_all(engine)"
   ]
  },
  {
   "cell_type": "code",
   "execution_count": 7,
   "id": "e1483e6b-86d4-48f4-b7ab-ab6395d95fdc",
   "metadata": {},
   "outputs": [],
   "source": [
    "toronto = City(name='Toronto', province='Ontario', country='Canada')"
   ]
  },
  {
   "cell_type": "code",
   "execution_count": 8,
   "id": "e8018bfb-2873-4696-9fe9-dc3726c06455",
   "metadata": {},
   "outputs": [],
   "source": [
    "# Create a session\n",
    "from sqlalchemy.orm import sessionmaker\n",
    "Session = sessionmaker(bind=engine)"
   ]
  },
  {
   "cell_type": "code",
   "execution_count": 9,
   "id": "a7b33836-5e42-448f-b447-90086bdfcb9a",
   "metadata": {},
   "outputs": [],
   "source": [
    "session = Session()"
   ]
  },
  {
   "cell_type": "code",
   "execution_count": 10,
   "id": "dd6a8b7b-9175-493d-a37d-4844ce0d25a3",
   "metadata": {},
   "outputs": [],
   "source": [
    "session.add(toronto)"
   ]
  },
  {
   "cell_type": "code",
   "execution_count": 11,
   "id": "ae6dea9f-e0fc-4e24-849e-1bec5b84e3f9",
   "metadata": {},
   "outputs": [
    {
     "name": "stdout",
     "output_type": "stream",
     "text": [
      "2024-11-16 13:50:32,379 INFO sqlalchemy.engine.Engine BEGIN (implicit)\n",
      "2024-11-16 13:50:32,382 INFO sqlalchemy.engine.Engine INSERT INTO city (name, province, country) VALUES (?, ?, ?)\n",
      "2024-11-16 13:50:32,383 INFO sqlalchemy.engine.Engine [generated in 0.00058s] ('Toronto', 'Ontario', 'Canada')\n",
      "2024-11-16 13:50:32,385 INFO sqlalchemy.engine.Engine SELECT city.id AS city_id, city.name AS city_name, city.province AS city_province, city.country AS city_country \n",
      "FROM city\n",
      "2024-11-16 13:50:32,386 INFO sqlalchemy.engine.Engine [generated in 0.00042s] ()\n"
     ]
    }
   ],
   "source": [
    "cities = session.query(City).all() "
   ]
  },
  {
   "cell_type": "code",
   "execution_count": 12,
   "id": "ee3e7445-d347-40a2-9256-65848cf2b73e",
   "metadata": {},
   "outputs": [
    {
     "data": {
      "text/plain": [
       "[<City(name='Toronto', province='Ontario', country='Canada')>]"
      ]
     },
     "execution_count": 12,
     "metadata": {},
     "output_type": "execute_result"
    }
   ],
   "source": [
    "cities"
   ]
  },
  {
   "cell_type": "code",
   "execution_count": 13,
   "id": "77c31f0c-3d08-4fd3-a4d5-9b34bc9ae432",
   "metadata": {},
   "outputs": [],
   "source": [
    "montreal = City(name='Montreal', province='Quebec', country='Canada')"
   ]
  },
  {
   "cell_type": "code",
   "execution_count": 14,
   "id": "a1d2c9a3-8a9c-4e5e-9aaa-18df92754a35",
   "metadata": {},
   "outputs": [],
   "source": [
    "session.add(montreal)"
   ]
  },
  {
   "cell_type": "code",
   "execution_count": 15,
   "id": "38289a6e-9491-4bf8-aedb-3f43c66a4fe3",
   "metadata": {},
   "outputs": [
    {
     "data": {
      "text/plain": [
       "[<City(name='Toronto', province='Ontario', country='Canada')>]"
      ]
     },
     "execution_count": 15,
     "metadata": {},
     "output_type": "execute_result"
    }
   ],
   "source": [
    "cities"
   ]
  },
  {
   "cell_type": "code",
   "execution_count": 16,
   "id": "e48690e5-07a1-4763-b449-63d67468551f",
   "metadata": {},
   "outputs": [
    {
     "name": "stdout",
     "output_type": "stream",
     "text": [
      "<City(name='Toronto', province='Ontario', country='Canada')>\n"
     ]
    }
   ],
   "source": [
    "for city in cities:\n",
    "    print(city)"
   ]
  },
  {
   "cell_type": "code",
   "execution_count": 17,
   "id": "4b9ca045-f820-47e7-adfe-76d25b6b84ee",
   "metadata": {},
   "outputs": [
    {
     "name": "stdout",
     "output_type": "stream",
     "text": [
      "Toronto\n"
     ]
    }
   ],
   "source": [
    "for city in cities:\n",
    "    print(city.name)"
   ]
  },
  {
   "cell_type": "code",
   "execution_count": 18,
   "id": "ac3d2aa2-2b8e-4f6c-8d73-5e44e4ea3666",
   "metadata": {},
   "outputs": [],
   "source": [
    "session.add_all([\n",
    "    City(name='Waterloo', province='Ontario', country='Canada'),\n",
    "    City(name='Kitchener', province='Ontario', country='Canada'),\n",
    "    City(name='Quebec City', province='Quebec', country='Canada')\n",
    "])"
   ]
  },
  {
   "cell_type": "code",
   "execution_count": 19,
   "id": "cedff582-3423-4936-9f12-fd67ce96ea53",
   "metadata": {},
   "outputs": [
    {
     "name": "stdout",
     "output_type": "stream",
     "text": [
      "2024-11-16 13:51:04,339 INFO sqlalchemy.engine.Engine INSERT INTO city (name, province, country) VALUES (?, ?, ?) RETURNING id\n",
      "2024-11-16 13:51:04,341 INFO sqlalchemy.engine.Engine [generated in 0.00023s (insertmanyvalues) 1/4 (ordered; batch not supported)] ('Montreal', 'Quebec', 'Canada')\n",
      "2024-11-16 13:51:04,341 INFO sqlalchemy.engine.Engine INSERT INTO city (name, province, country) VALUES (?, ?, ?) RETURNING id\n",
      "2024-11-16 13:51:04,342 INFO sqlalchemy.engine.Engine [insertmanyvalues 2/4 (ordered; batch not supported)] ('Waterloo', 'Ontario', 'Canada')\n",
      "2024-11-16 13:51:04,343 INFO sqlalchemy.engine.Engine INSERT INTO city (name, province, country) VALUES (?, ?, ?) RETURNING id\n",
      "2024-11-16 13:51:04,343 INFO sqlalchemy.engine.Engine [insertmanyvalues 3/4 (ordered; batch not supported)] ('Kitchener', 'Ontario', 'Canada')\n",
      "2024-11-16 13:51:04,344 INFO sqlalchemy.engine.Engine INSERT INTO city (name, province, country) VALUES (?, ?, ?) RETURNING id\n",
      "2024-11-16 13:51:04,344 INFO sqlalchemy.engine.Engine [insertmanyvalues 4/4 (ordered; batch not supported)] ('Quebec City', 'Quebec', 'Canada')\n",
      "2024-11-16 13:51:04,345 INFO sqlalchemy.engine.Engine SELECT city.id AS city_id, city.name AS city_name, city.province AS city_province, city.country AS city_country \n",
      "FROM city\n",
      "2024-11-16 13:51:04,346 INFO sqlalchemy.engine.Engine [cached since 31.96s ago] ()\n"
     ]
    }
   ],
   "source": [
    "cities = session.query(City).all() "
   ]
  },
  {
   "cell_type": "code",
   "execution_count": 20,
   "id": "d375dd21-1204-4be7-a234-b191af3f6444",
   "metadata": {},
   "outputs": [
    {
     "name": "stdout",
     "output_type": "stream",
     "text": [
      "Toronto Ontario\n",
      "Montreal Quebec\n",
      "Waterloo Ontario\n",
      "Kitchener Ontario\n",
      "Quebec City Quebec\n"
     ]
    }
   ],
   "source": [
    "for city in cities:\n",
    "    print(city.name, city.province)"
   ]
  },
  {
   "cell_type": "code",
   "execution_count": null,
   "id": "ddda54c6-6062-430d-9e55-48fb88655a7c",
   "metadata": {},
   "outputs": [],
   "source": []
  }
 ],
 "metadata": {
  "kernelspec": {
   "display_name": "Python 3 (ipykernel)",
   "language": "python",
   "name": "python3"
  },
  "language_info": {
   "codemirror_mode": {
    "name": "ipython",
    "version": 3
   },
   "file_extension": ".py",
   "mimetype": "text/x-python",
   "name": "python",
   "nbconvert_exporter": "python",
   "pygments_lexer": "ipython3",
   "version": "3.12.4"
  }
 },
 "nbformat": 4,
 "nbformat_minor": 5
}

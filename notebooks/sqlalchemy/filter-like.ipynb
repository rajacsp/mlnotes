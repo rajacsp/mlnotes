{
 "cells": [
  {
   "cell_type": "raw",
   "metadata": {},
   "source": [
    "---\n",
    "title: \"Filter Like\"\n",
    "author: \"Rj\"\n",
    "date: 2019-04-20\n",
    "description: \"List Test\"\n",
    "type: technical_note\n",
    "draft: false\n",
    "---"
   ]
  },
  {
   "cell_type": "code",
   "execution_count": 2,
   "metadata": {},
   "outputs": [],
   "source": [
    "import os\n",
    "import sys\n",
    "\n",
    "from sqlalchemy import create_engine\n",
    "from sqlalchemy.orm import sessionmaker\n",
    "from sqlalchemy.ext.declarative import declarative_base\n",
    "from sqlalchemy import Column, ForeignKey, Integer, String"
   ]
  },
  {
   "cell_type": "code",
   "execution_count": 3,
   "metadata": {},
   "outputs": [],
   "source": [
    "Base = declarative_base()"
   ]
  },
  {
   "cell_type": "code",
   "execution_count": 4,
   "metadata": {},
   "outputs": [],
   "source": [
    "class City(Base):\n",
    "    __tablename__ = 'city'\n",
    "    # Here we define columns for the table person\n",
    "    # Notice that each column is also a normal Python instance attribute.\n",
    "    id = Column(Integer, primary_key=True)\n",
    "    name = Column(String(50), nullable=False)\n",
    "    province = Column(String(50), nullable=True)\n",
    "    country = Column(String(50), nullable=True)"
   ]
  },
  {
   "cell_type": "code",
   "execution_count": 5,
   "metadata": {},
   "outputs": [],
   "source": [
    "engine = create_engine('sqlite:///city.db')\n",
    "Base.metadata.bind = engine\n",
    "\n",
    "DBSession = sessionmaker()\n",
    "\n",
    "DBSession.bind = engine\n",
    "\n",
    "session = DBSession()"
   ]
  },
  {
   "cell_type": "code",
   "execution_count": 6,
   "metadata": {},
   "outputs": [
    {
     "name": "stdout",
     "output_type": "stream",
     "text": [
      "1 Toronto\n",
      "5 Toronto\n"
     ]
    }
   ],
   "source": [
    "for c in session.query(City).\\\n",
    "          filter(City.name.like('%to%')):\n",
    "        print(c.id, c.name)"
   ]
  },
  {
   "cell_type": "code",
   "execution_count": 7,
   "metadata": {},
   "outputs": [
    {
     "name": "stdout",
     "output_type": "stream",
     "text": [
      "1 Toronto\n",
      "2 Montreal\n",
      "3 Waterloo\n",
      "5 Toronto\n",
      "6 Montreal\n",
      "7 Waterloo\n"
     ]
    }
   ],
   "source": [
    "for c in session.query(City).\\\n",
    "          filter(City.name.like('%o%')):\n",
    "        print(c.id, c.name)"
   ]
  },
  {
   "cell_type": "code",
   "execution_count": 8,
   "metadata": {},
   "outputs": [
    {
     "name": "stdout",
     "output_type": "stream",
     "text": [
      "1 Toronto\n",
      "2 Montreal\n",
      "3 Waterloo\n",
      "4 Kitchener\n",
      "5 Toronto\n",
      "6 Montreal\n",
      "7 Waterloo\n",
      "8 Kitchener\n"
     ]
    }
   ],
   "source": [
    "for c in session.query(City).\\\n",
    "          filter(City.name.like('%t%')):\n",
    "        print(c.id, c.name)"
   ]
  },
  {
   "cell_type": "code",
   "execution_count": 9,
   "metadata": {},
   "outputs": [
    {
     "name": "stdout",
     "output_type": "stream",
     "text": [
      "1 Toronto\n",
      "3 Waterloo\n",
      "5 Toronto\n",
      "7 Waterloo\n"
     ]
    }
   ],
   "source": [
    "for c in session.query(City).\\\n",
    "          filter(City.name.like('%o')):\n",
    "        print(c.id, c.name)"
   ]
  },
  {
   "cell_type": "code",
   "execution_count": 10,
   "metadata": {},
   "outputs": [
    {
     "name": "stdout",
     "output_type": "stream",
     "text": [
      "Toronto\n",
      "Waterloo\n",
      "Toronto\n",
      "Waterloo\n"
     ]
    }
   ],
   "source": [
    "# Get only one column\n",
    "for c in session.query(City.name).\\\n",
    "          filter(City.name.like('%o')):\n",
    "        print(c.name)"
   ]
  },
  {
   "cell_type": "code",
   "execution_count": 11,
   "metadata": {
    "scrolled": true
   },
   "outputs": [
    {
     "name": "stdout",
     "output_type": "stream",
     "text": [
      "Toronto Ontario\n",
      "Waterloo Ontario\n",
      "Toronto Ontario\n",
      "Waterloo Ontario\n"
     ]
    }
   ],
   "source": [
    "# Get only two columns\n",
    "for c in session.query(City.name, City.province).\\\n",
    "          filter(City.name.like('%o')):\n",
    "        print(c.name, c.province)"
   ]
  },
  {
   "cell_type": "code",
   "execution_count": 12,
   "metadata": {
    "scrolled": true
   },
   "outputs": [
    {
     "name": "stdout",
     "output_type": "stream",
     "text": [
      "Ontario Toronto\n",
      "Ontario Waterloo\n",
      "Ontario Toronto\n",
      "Ontario Waterloo\n"
     ]
    }
   ],
   "source": [
    "# Get only two columns\n",
    "for name, state in session.query(City.name, City.province).\\\n",
    "          filter(City.name.like('%o')):\n",
    "        print(state, name)"
   ]
  },
  {
   "cell_type": "code",
   "execution_count": null,
   "metadata": {},
   "outputs": [],
   "source": []
  }
 ],
 "metadata": {
  "kernelspec": {
   "display_name": "Python 3",
   "language": "python",
   "name": "python3"
  },
  "language_info": {
   "codemirror_mode": {
    "name": "ipython",
    "version": 3
   },
   "file_extension": ".py",
   "mimetype": "text/x-python",
   "name": "python",
   "nbconvert_exporter": "python",
   "pygments_lexer": "ipython3",
   "version": "3.6.8"
  }
 },
 "nbformat": 4,
 "nbformat_minor": 2
}

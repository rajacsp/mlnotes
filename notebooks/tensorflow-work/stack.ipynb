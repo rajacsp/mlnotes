{
 "cells": [
  {
   "cell_type": "raw",
   "metadata": {},
   "source": [
    "---\n",
    "author: \"Raja CSP Raman\"\n",
    "date: 2019-05-07\n",
    "description: \"-\"\n",
    "type: technical_note\n",
    "draft: false\n",
    "---"
   ]
  },
  {
   "cell_type": "code",
   "execution_count": 43,
   "metadata": {},
   "outputs": [],
   "source": [
    "import tensorflow as tf\n",
    "\n",
    "import os\n",
    "\n",
    "# Just disables the warning, doesn't enable AVX/FMA\n",
    "os.environ['TF_CPP_MIN_LOG_LEVEL'] = '2'"
   ]
  },
  {
   "cell_type": "code",
   "execution_count": 49,
   "metadata": {},
   "outputs": [],
   "source": [
    "a = tf.constant([1, 2])\n",
    "b = tf.constant([3, 4])\n",
    "c = tf.constant([10, 20])"
   ]
  },
  {
   "cell_type": "code",
   "execution_count": 52,
   "metadata": {},
   "outputs": [
    {
     "data": {
      "text/plain": [
       "<tf.Tensor 'Const_12:0' shape=(2,) dtype=int32>"
      ]
     },
     "execution_count": 52,
     "metadata": {},
     "output_type": "execute_result"
    }
   ],
   "source": [
    "a"
   ]
  },
  {
   "cell_type": "code",
   "execution_count": 53,
   "metadata": {},
   "outputs": [
    {
     "data": {
      "text/plain": [
       "<tf.Tensor 'Const_13:0' shape=(2,) dtype=int32>"
      ]
     },
     "execution_count": 53,
     "metadata": {},
     "output_type": "execute_result"
    }
   ],
   "source": [
    "b"
   ]
  },
  {
   "cell_type": "code",
   "execution_count": 54,
   "metadata": {},
   "outputs": [],
   "source": [
    "d = tf.stack([a, b, c])"
   ]
  },
  {
   "cell_type": "code",
   "execution_count": 56,
   "metadata": {},
   "outputs": [
    {
     "name": "stdout",
     "output_type": "stream",
     "text": [
      "Tensor(\"Const_12:0\", shape=(2,), dtype=int32)\n",
      "Tensor(\"stack_2:0\", shape=(3, 2), dtype=int32)\n",
      "[[ 1  2]\n",
      " [ 3  4]\n",
      " [10 20]]\n"
     ]
    }
   ],
   "source": [
    "with tf.Session() as sess:\n",
    "    d_val = sess.run(d)\n",
    "    print(a)\n",
    "    print(d)\n",
    "    print(d_val)"
   ]
  },
  {
   "cell_type": "code",
   "execution_count": 58,
   "metadata": {},
   "outputs": [
    {
     "name": "stdout",
     "output_type": "stream",
     "text": [
      "Tensor(\"Const_12:0\", shape=(2,), dtype=int32)\n",
      "Tensor(\"stack_3:0\", shape=(2, 3), dtype=int32)\n",
      "[[ 1  3 10]\n",
      " [ 2  4 20]]\n"
     ]
    }
   ],
   "source": [
    "e = tf.stack([a, b, c], axis=1)\n",
    "\n",
    "with tf.Session() as sess:\n",
    "    e_val = sess.run(e)\n",
    "    print(a)\n",
    "    print(e)\n",
    "    print(e_val)"
   ]
  },
  {
   "cell_type": "code",
   "execution_count": null,
   "metadata": {},
   "outputs": [],
   "source": []
  }
 ],
 "metadata": {
  "kernelspec": {
   "display_name": "Python 3",
   "language": "python",
   "name": "python3"
  },
  "language_info": {
   "codemirror_mode": {
    "name": "ipython",
    "version": 3
   },
   "file_extension": ".py",
   "mimetype": "text/x-python",
   "name": "python",
   "nbconvert_exporter": "python",
   "pygments_lexer": "ipython3",
   "version": "3.6.8"
  }
 },
 "nbformat": 4,
 "nbformat_minor": 2
}

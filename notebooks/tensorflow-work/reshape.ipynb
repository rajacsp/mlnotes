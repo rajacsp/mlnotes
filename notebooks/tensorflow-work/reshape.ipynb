{
 "cells": [
  {
   "cell_type": "raw",
   "metadata": {},
   "source": [
    "---\n",
    "title: \"Reshape\"\n",
    "author: \"Raja CSP Raman\"\n",
    "date: 2019-05-07\n",
    "description: \"-\"\n",
    "type: technical_note\n",
    "draft: false\n",
    "---"
   ]
  },
  {
   "cell_type": "code",
   "execution_count": 2,
   "metadata": {},
   "outputs": [],
   "source": [
    "import tensorflow as tf\n",
    "\n",
    "import os\n",
    "\n",
    "# Just disables the warning, doesn't enable AVX/FMA\n",
    "os.environ['TF_CPP_MIN_LOG_LEVEL'] = '2'"
   ]
  },
  {
   "cell_type": "code",
   "execution_count": 3,
   "metadata": {},
   "outputs": [
    {
     "name": "stdout",
     "output_type": "stream",
     "text": [
      "[2. 2.]\n",
      "(2, 2)\n",
      "[[0. 0. 0. 0.]]\n"
     ]
    }
   ],
   "source": [
    "tf.InteractiveSession()\n",
    "\n",
    "a = tf.zeros((2, 2))\n",
    "b = tf.ones((2, 2))\n",
    "\n",
    "abc = tf.reduce_sum(b, reduction_indices=1).eval()\n",
    "#rray([2., 2.], dtype=float32)\n",
    "print(abc)\n",
    "\n",
    "print(a.get_shape())\n",
    "\n",
    "# reshape\n",
    "ef = tf.reshape(a, (1, 4)).eval()\n",
    "print(ef)"
   ]
  },
  {
   "cell_type": "markdown",
   "metadata": {},
   "source": [
    "##### Notes:\n",
    "\n",
    "Tensorflow compuations define a compuation graph that has no numerical value until \n",
    "\n",
    "InteractiveSession() will help you to keep a default session open in ipython\n",
    "\n",
    "In a construction phase, tensorflow programs assemble a graph. \n",
    "Then in the execution phase, the session is used to execute ops in the graph\n",
    "\n",
    "All computations add nodes to global default graph\n",
    "\n",
    "When you train a model you use variables to hold and update parameters.\n",
    "Variables are in-memory buffers containing tensors."
   ]
  }
 ],
 "metadata": {
  "kernelspec": {
   "display_name": "Python 3",
   "language": "python",
   "name": "python3"
  },
  "language_info": {
   "codemirror_mode": {
    "name": "ipython",
    "version": 3
   },
   "file_extension": ".py",
   "mimetype": "text/x-python",
   "name": "python",
   "nbconvert_exporter": "python",
   "pygments_lexer": "ipython3",
   "version": "3.6.8"
  }
 },
 "nbformat": 4,
 "nbformat_minor": 2
}

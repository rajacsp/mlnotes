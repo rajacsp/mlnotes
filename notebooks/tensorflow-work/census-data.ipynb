{
 "cells": [
  {
   "cell_type": "raw",
   "metadata": {},
   "source": [
    "---\n",
    "title: \"Census Data and Linear Classifier\"\n",
    "author: \"Raja CSP Raman\"\n",
    "date: 2019-05-07\n",
    "description: \"-\"\n",
    "type: technical_note\n",
    "draft: false\n",
    "---"
   ]
  },
  {
   "cell_type": "code",
   "execution_count": 12,
   "metadata": {},
   "outputs": [],
   "source": [
    "import tensorflow as tf\n",
    "\n",
    "import os\n",
    "\n",
    "# Just disables the warning, doesn't enable AVX/FMA\n",
    "os.environ['TF_CPP_MIN_LOG_LEVEL'] = '2'"
   ]
  },
  {
   "cell_type": "code",
   "execution_count": 13,
   "metadata": {},
   "outputs": [],
   "source": [
    "import numpy as np\n",
    "import pandas as pd"
   ]
  },
  {
   "cell_type": "code",
   "execution_count": 14,
   "metadata": {},
   "outputs": [],
   "source": [
    "census = pd.read_csv(\"/Users/rajacsp/datasets/census_data.csv\")"
   ]
  },
  {
   "cell_type": "code",
   "execution_count": 15,
   "metadata": {},
   "outputs": [
    {
     "data": {
      "text/html": [
       "<div>\n",
       "<style scoped>\n",
       "    .dataframe tbody tr th:only-of-type {\n",
       "        vertical-align: middle;\n",
       "    }\n",
       "\n",
       "    .dataframe tbody tr th {\n",
       "        vertical-align: top;\n",
       "    }\n",
       "\n",
       "    .dataframe thead th {\n",
       "        text-align: right;\n",
       "    }\n",
       "</style>\n",
       "<table border=\"1\" class=\"dataframe\">\n",
       "  <thead>\n",
       "    <tr style=\"text-align: right;\">\n",
       "      <th></th>\n",
       "      <th>age</th>\n",
       "      <th>workclass</th>\n",
       "      <th>education</th>\n",
       "      <th>education_num</th>\n",
       "      <th>marital_status</th>\n",
       "      <th>occupation</th>\n",
       "      <th>relationship</th>\n",
       "      <th>race</th>\n",
       "      <th>gender</th>\n",
       "      <th>capital_gain</th>\n",
       "      <th>capital_loss</th>\n",
       "      <th>hours_per_week</th>\n",
       "      <th>native_country</th>\n",
       "      <th>income_bracket</th>\n",
       "    </tr>\n",
       "  </thead>\n",
       "  <tbody>\n",
       "    <tr>\n",
       "      <th>0</th>\n",
       "      <td>39</td>\n",
       "      <td>State-gov</td>\n",
       "      <td>Bachelors</td>\n",
       "      <td>13</td>\n",
       "      <td>Never-married</td>\n",
       "      <td>Adm-clerical</td>\n",
       "      <td>Not-in-family</td>\n",
       "      <td>White</td>\n",
       "      <td>Male</td>\n",
       "      <td>2174</td>\n",
       "      <td>0</td>\n",
       "      <td>40</td>\n",
       "      <td>United-States</td>\n",
       "      <td>&lt;=50K</td>\n",
       "    </tr>\n",
       "    <tr>\n",
       "      <th>1</th>\n",
       "      <td>50</td>\n",
       "      <td>Self-emp-not-inc</td>\n",
       "      <td>Bachelors</td>\n",
       "      <td>13</td>\n",
       "      <td>Married-civ-spouse</td>\n",
       "      <td>Exec-managerial</td>\n",
       "      <td>Husband</td>\n",
       "      <td>White</td>\n",
       "      <td>Male</td>\n",
       "      <td>0</td>\n",
       "      <td>0</td>\n",
       "      <td>13</td>\n",
       "      <td>United-States</td>\n",
       "      <td>&lt;=50K</td>\n",
       "    </tr>\n",
       "    <tr>\n",
       "      <th>2</th>\n",
       "      <td>38</td>\n",
       "      <td>Private</td>\n",
       "      <td>HS-grad</td>\n",
       "      <td>9</td>\n",
       "      <td>Divorced</td>\n",
       "      <td>Handlers-cleaners</td>\n",
       "      <td>Not-in-family</td>\n",
       "      <td>White</td>\n",
       "      <td>Male</td>\n",
       "      <td>0</td>\n",
       "      <td>0</td>\n",
       "      <td>40</td>\n",
       "      <td>United-States</td>\n",
       "      <td>&lt;=50K</td>\n",
       "    </tr>\n",
       "    <tr>\n",
       "      <th>3</th>\n",
       "      <td>53</td>\n",
       "      <td>Private</td>\n",
       "      <td>11th</td>\n",
       "      <td>7</td>\n",
       "      <td>Married-civ-spouse</td>\n",
       "      <td>Handlers-cleaners</td>\n",
       "      <td>Husband</td>\n",
       "      <td>Black</td>\n",
       "      <td>Male</td>\n",
       "      <td>0</td>\n",
       "      <td>0</td>\n",
       "      <td>40</td>\n",
       "      <td>United-States</td>\n",
       "      <td>&lt;=50K</td>\n",
       "    </tr>\n",
       "    <tr>\n",
       "      <th>4</th>\n",
       "      <td>28</td>\n",
       "      <td>Private</td>\n",
       "      <td>Bachelors</td>\n",
       "      <td>13</td>\n",
       "      <td>Married-civ-spouse</td>\n",
       "      <td>Prof-specialty</td>\n",
       "      <td>Wife</td>\n",
       "      <td>Black</td>\n",
       "      <td>Female</td>\n",
       "      <td>0</td>\n",
       "      <td>0</td>\n",
       "      <td>40</td>\n",
       "      <td>Cuba</td>\n",
       "      <td>&lt;=50K</td>\n",
       "    </tr>\n",
       "  </tbody>\n",
       "</table>\n",
       "</div>"
      ],
      "text/plain": [
       "   age          workclass   education  education_num       marital_status  \\\n",
       "0   39          State-gov   Bachelors             13        Never-married   \n",
       "1   50   Self-emp-not-inc   Bachelors             13   Married-civ-spouse   \n",
       "2   38            Private     HS-grad              9             Divorced   \n",
       "3   53            Private        11th              7   Married-civ-spouse   \n",
       "4   28            Private   Bachelors             13   Married-civ-spouse   \n",
       "\n",
       "           occupation    relationship    race   gender  capital_gain  \\\n",
       "0        Adm-clerical   Not-in-family   White     Male          2174   \n",
       "1     Exec-managerial         Husband   White     Male             0   \n",
       "2   Handlers-cleaners   Not-in-family   White     Male             0   \n",
       "3   Handlers-cleaners         Husband   Black     Male             0   \n",
       "4      Prof-specialty            Wife   Black   Female             0   \n",
       "\n",
       "   capital_loss  hours_per_week  native_country income_bracket  \n",
       "0             0              40   United-States          <=50K  \n",
       "1             0              13   United-States          <=50K  \n",
       "2             0              40   United-States          <=50K  \n",
       "3             0              40   United-States          <=50K  \n",
       "4             0              40            Cuba          <=50K  "
      ]
     },
     "execution_count": 15,
     "metadata": {},
     "output_type": "execute_result"
    }
   ],
   "source": [
    "census.head()"
   ]
  },
  {
   "cell_type": "code",
   "execution_count": 18,
   "metadata": {},
   "outputs": [
    {
     "data": {
      "text/plain": [
       "array([' <=50K', ' >50K'], dtype=object)"
      ]
     },
     "execution_count": 18,
     "metadata": {},
     "output_type": "execute_result"
    }
   ],
   "source": [
    "census['income_bracket'].unique()"
   ]
  },
  {
   "cell_type": "code",
   "execution_count": 19,
   "metadata": {},
   "outputs": [],
   "source": [
    "# Fix the income bracket\n",
    "def label_fix(label):\n",
    "    label = label.strip().lower()\n",
    "    if(label == '<=50k'):\n",
    "        return 0\n",
    "    return 1\n",
    "        "
   ]
  },
  {
   "cell_type": "code",
   "execution_count": 20,
   "metadata": {},
   "outputs": [],
   "source": [
    "census['income_bracket'] = census['income_bracket'].apply(label_fix)"
   ]
  },
  {
   "cell_type": "code",
   "execution_count": 21,
   "metadata": {},
   "outputs": [
    {
     "data": {
      "text/plain": [
       "array([0, 1])"
      ]
     },
     "execution_count": 21,
     "metadata": {},
     "output_type": "execute_result"
    }
   ],
   "source": [
    "census['income_bracket'].unique()"
   ]
  },
  {
   "cell_type": "code",
   "execution_count": 25,
   "metadata": {},
   "outputs": [],
   "source": [
    "# Train Test Split\n",
    "from sklearn.model_selection import train_test_split\n",
    "\n"
   ]
  },
  {
   "cell_type": "code",
   "execution_count": 27,
   "metadata": {},
   "outputs": [],
   "source": [
    "x_data = census.drop('income_bracket', axis=1)\n",
    "y_labels = census['income_bracket']\n",
    "\n",
    "X_train, x_test, y_train, y_est = train_test_split(x_data, y_labels, test_size=0.3, random_state=101)"
   ]
  },
  {
   "cell_type": "code",
   "execution_count": 28,
   "metadata": {},
   "outputs": [
    {
     "data": {
      "text/plain": [
       "Index(['age', 'workclass', 'education', 'education_num', 'marital_status',\n",
       "       'occupation', 'relationship', 'race', 'gender', 'capital_gain',\n",
       "       'capital_loss', 'hours_per_week', 'native_country', 'income_bracket'],\n",
       "      dtype='object')"
      ]
     },
     "execution_count": 28,
     "metadata": {},
     "output_type": "execute_result"
    }
   ],
   "source": [
    "census.columns"
   ]
  },
  {
   "cell_type": "code",
   "execution_count": 32,
   "metadata": {},
   "outputs": [],
   "source": [
    "import tensorflow as tf\n",
    "from tensorflow.feature_column import categorical_column_with_vocabulary_list as vlist"
   ]
  },
  {
   "cell_type": "code",
   "execution_count": 33,
   "metadata": {},
   "outputs": [],
   "source": [
    "gender = vlist(\"gender\", [\"Female\", \"Male\"])"
   ]
  },
  {
   "cell_type": "code",
   "execution_count": 34,
   "metadata": {},
   "outputs": [
    {
     "data": {
      "text/plain": [
       "VocabularyListCategoricalColumn(key='gender', vocabulary_list=('Female', 'Male'), dtype=tf.string, default_value=-1, num_oov_buckets=0)"
      ]
     },
     "execution_count": 34,
     "metadata": {},
     "output_type": "execute_result"
    }
   ],
   "source": [
    "gender"
   ]
  },
  {
   "cell_type": "code",
   "execution_count": 35,
   "metadata": {},
   "outputs": [],
   "source": [
    "from tensorflow.feature_column import categorical_column_with_hash_bucket as bucket"
   ]
  },
  {
   "cell_type": "code",
   "execution_count": 38,
   "metadata": {},
   "outputs": [],
   "source": [
    "occupation = bucket(\"occupation\", hash_bucket_size=1000)\n",
    "marital_status = bucket(\"marital_status\", hash_bucket_size=1000)\n",
    "relationship = bucket(\"relationship\", hash_bucket_size=1000)\n",
    "education = bucket(\"education\", hash_bucket_size=1000)\n",
    "workclass = bucket(\"workclass\", hash_bucket_size=1000)\n",
    "native_country = bucket(\"native_country\", hash_bucket_size=1000)"
   ]
  },
  {
   "cell_type": "code",
   "execution_count": 39,
   "metadata": {},
   "outputs": [],
   "source": [
    "from tensorflow.feature_column import numeric_column as nc"
   ]
  },
  {
   "cell_type": "code",
   "execution_count": 41,
   "metadata": {},
   "outputs": [],
   "source": [
    "age = nc(\"age\")\n",
    "education_num = nc(\"education_num\")\n",
    "capital_gain = nc(\"capital_gain\")\n",
    "capital_loss = nc(\"capital_loss\")\n",
    "hours_per_week = nc(\"hours_per_week\")"
   ]
  },
  {
   "cell_type": "code",
   "execution_count": 42,
   "metadata": {},
   "outputs": [],
   "source": [
    "feat_cols = [gender, occupation, marital_status, relationship, education, workclass, native_country, age, education_num, \n",
    "            capital_gain, capital_loss, hours_per_week]"
   ]
  },
  {
   "cell_type": "code",
   "execution_count": 43,
   "metadata": {},
   "outputs": [
    {
     "data": {
      "text/plain": [
       "[VocabularyListCategoricalColumn(key='gender', vocabulary_list=('Female', 'Male'), dtype=tf.string, default_value=-1, num_oov_buckets=0),\n",
       " HashedCategoricalColumn(key='occupation', hash_bucket_size=1000, dtype=tf.string),\n",
       " HashedCategoricalColumn(key='marital_status', hash_bucket_size=1000, dtype=tf.string),\n",
       " HashedCategoricalColumn(key='relationship', hash_bucket_size=1000, dtype=tf.string),\n",
       " HashedCategoricalColumn(key='education', hash_bucket_size=1000, dtype=tf.string),\n",
       " HashedCategoricalColumn(key='workclass', hash_bucket_size=1000, dtype=tf.string),\n",
       " HashedCategoricalColumn(key='native_country', hash_bucket_size=1000, dtype=tf.string),\n",
       " NumericColumn(key='age', shape=(1,), default_value=None, dtype=tf.float32, normalizer_fn=None),\n",
       " NumericColumn(key='education_num', shape=(1,), default_value=None, dtype=tf.float32, normalizer_fn=None),\n",
       " NumericColumn(key='capital_gain', shape=(1,), default_value=None, dtype=tf.float32, normalizer_fn=None),\n",
       " NumericColumn(key='capital_loss', shape=(1,), default_value=None, dtype=tf.float32, normalizer_fn=None),\n",
       " NumericColumn(key='hours_per_week', shape=(1,), default_value=None, dtype=tf.float32, normalizer_fn=None)]"
      ]
     },
     "execution_count": 43,
     "metadata": {},
     "output_type": "execute_result"
    }
   ],
   "source": [
    "feat_cols"
   ]
  },
  {
   "cell_type": "code",
   "execution_count": 45,
   "metadata": {},
   "outputs": [],
   "source": [
    "input_func = tf.estimator.inputs.pandas_input_fn(x=X_train, y = y_train, batch_size=100, num_epochs=None, shuffle=True)"
   ]
  },
  {
   "cell_type": "code",
   "execution_count": 46,
   "metadata": {},
   "outputs": [
    {
     "name": "stdout",
     "output_type": "stream",
     "text": [
      "INFO:tensorflow:Using default config.\n",
      "WARNING:tensorflow:Using temporary folder as model directory: /var/folders/fk/b_m_3t9915zc2llvfkwd4d_h0000gn/T/tmp3xkmlm9h\n",
      "INFO:tensorflow:Using config: {'_model_dir': '/var/folders/fk/b_m_3t9915zc2llvfkwd4d_h0000gn/T/tmp3xkmlm9h', '_tf_random_seed': None, '_save_summary_steps': 100, '_save_checkpoints_steps': None, '_save_checkpoints_secs': 600, '_session_config': allow_soft_placement: true\n",
      "graph_options {\n",
      "  rewrite_options {\n",
      "    meta_optimizer_iterations: ONE\n",
      "  }\n",
      "}\n",
      ", '_keep_checkpoint_max': 5, '_keep_checkpoint_every_n_hours': 10000, '_log_step_count_steps': 100, '_train_distribute': None, '_device_fn': None, '_protocol': None, '_eval_distribute': None, '_experimental_distribute': None, '_service': None, '_cluster_spec': <tensorflow.python.training.server_lib.ClusterSpec object at 0x130e60e80>, '_task_type': 'worker', '_task_id': 0, '_global_id_in_cluster': 0, '_master': '', '_evaluation_master': '', '_is_chief': True, '_num_ps_replicas': 0, '_num_worker_replicas': 1}\n"
     ]
    }
   ],
   "source": [
    "model = tf.estimator.LinearClassifier(feature_columns=feat_cols)"
   ]
  },
  {
   "cell_type": "code",
   "execution_count": 47,
   "metadata": {},
   "outputs": [
    {
     "name": "stdout",
     "output_type": "stream",
     "text": [
      "WARNING:tensorflow:From /Users/rajacsp/anaconda3/envs/py36/lib/python3.6/site-packages/tensorflow/python/framework/op_def_library.py:263: colocate_with (from tensorflow.python.framework.ops) is deprecated and will be removed in a future version.\n",
      "Instructions for updating:\n",
      "Colocations handled automatically by placer.\n",
      "WARNING:tensorflow:From /Users/rajacsp/anaconda3/envs/py36/lib/python3.6/site-packages/tensorflow_estimator/python/estimator/inputs/queues/feeding_queue_runner.py:62: QueueRunner.__init__ (from tensorflow.python.training.queue_runner_impl) is deprecated and will be removed in a future version.\n",
      "Instructions for updating:\n",
      "To construct input pipelines, use the `tf.data` module.\n",
      "WARNING:tensorflow:From /Users/rajacsp/anaconda3/envs/py36/lib/python3.6/site-packages/tensorflow_estimator/python/estimator/inputs/queues/feeding_functions.py:500: add_queue_runner (from tensorflow.python.training.queue_runner_impl) is deprecated and will be removed in a future version.\n",
      "Instructions for updating:\n",
      "To construct input pipelines, use the `tf.data` module.\n",
      "INFO:tensorflow:Calling model_fn.\n",
      "WARNING:tensorflow:From /Users/rajacsp/anaconda3/envs/py36/lib/python3.6/site-packages/tensorflow/python/feature_column/feature_column_v2.py:2703: to_float (from tensorflow.python.ops.math_ops) is deprecated and will be removed in a future version.\n",
      "Instructions for updating:\n",
      "Use tf.cast instead.\n",
      "WARNING:tensorflow:From /Users/rajacsp/anaconda3/envs/py36/lib/python3.6/site-packages/tensorflow/python/ops/lookup_ops.py:1137: to_int64 (from tensorflow.python.ops.math_ops) is deprecated and will be removed in a future version.\n",
      "Instructions for updating:\n",
      "Use tf.cast instead.\n",
      "INFO:tensorflow:Done calling model_fn.\n",
      "INFO:tensorflow:Create CheckpointSaverHook.\n",
      "INFO:tensorflow:Graph was finalized.\n",
      "INFO:tensorflow:Running local_init_op.\n",
      "INFO:tensorflow:Done running local_init_op.\n",
      "WARNING:tensorflow:From /Users/rajacsp/anaconda3/envs/py36/lib/python3.6/site-packages/tensorflow/python/training/monitored_session.py:809: start_queue_runners (from tensorflow.python.training.queue_runner_impl) is deprecated and will be removed in a future version.\n",
      "Instructions for updating:\n",
      "To construct input pipelines, use the `tf.data` module.\n",
      "INFO:tensorflow:Saving checkpoints for 0 into /var/folders/fk/b_m_3t9915zc2llvfkwd4d_h0000gn/T/tmp3xkmlm9h/model.ckpt.\n",
      "INFO:tensorflow:loss = 69.31472, step = 1\n",
      "INFO:tensorflow:global_step/sec: 183.162\n",
      "INFO:tensorflow:loss = 74.34316, step = 101 (0.549 sec)\n",
      "INFO:tensorflow:global_step/sec: 282.272\n",
      "INFO:tensorflow:loss = 258.81635, step = 201 (0.354 sec)\n",
      "INFO:tensorflow:global_step/sec: 360.103\n",
      "INFO:tensorflow:loss = 92.93664, step = 301 (0.277 sec)\n",
      "INFO:tensorflow:global_step/sec: 310.323\n",
      "INFO:tensorflow:loss = 479.21606, step = 401 (0.323 sec)\n",
      "INFO:tensorflow:global_step/sec: 363.822\n",
      "INFO:tensorflow:loss = 64.496826, step = 501 (0.273 sec)\n",
      "INFO:tensorflow:global_step/sec: 287.337\n",
      "INFO:tensorflow:loss = 142.80907, step = 601 (0.349 sec)\n",
      "INFO:tensorflow:global_step/sec: 329.981\n",
      "INFO:tensorflow:loss = 158.61514, step = 701 (0.303 sec)\n",
      "INFO:tensorflow:global_step/sec: 361.742\n",
      "INFO:tensorflow:loss = 92.889305, step = 801 (0.276 sec)\n",
      "INFO:tensorflow:global_step/sec: 336.053\n",
      "INFO:tensorflow:loss = 47.939163, step = 901 (0.298 sec)\n",
      "INFO:tensorflow:global_step/sec: 386.539\n",
      "INFO:tensorflow:loss = 109.61961, step = 1001 (0.258 sec)\n",
      "INFO:tensorflow:global_step/sec: 349.966\n",
      "INFO:tensorflow:loss = 97.20078, step = 1101 (0.287 sec)\n",
      "INFO:tensorflow:global_step/sec: 367.692\n",
      "INFO:tensorflow:loss = 102.36524, step = 1201 (0.272 sec)\n",
      "INFO:tensorflow:global_step/sec: 386.157\n",
      "INFO:tensorflow:loss = 97.24974, step = 1301 (0.258 sec)\n",
      "INFO:tensorflow:global_step/sec: 426.666\n",
      "INFO:tensorflow:loss = 106.33708, step = 1401 (0.234 sec)\n",
      "INFO:tensorflow:global_step/sec: 390.189\n",
      "INFO:tensorflow:loss = 88.20786, step = 1501 (0.258 sec)\n",
      "INFO:tensorflow:global_step/sec: 392.219\n",
      "INFO:tensorflow:loss = 40.560345, step = 1601 (0.254 sec)\n",
      "INFO:tensorflow:global_step/sec: 408.792\n",
      "INFO:tensorflow:loss = 67.237366, step = 1701 (0.243 sec)\n",
      "INFO:tensorflow:global_step/sec: 392.664\n",
      "INFO:tensorflow:loss = 100.42717, step = 1801 (0.257 sec)\n",
      "INFO:tensorflow:global_step/sec: 391.489\n",
      "INFO:tensorflow:loss = 104.48391, step = 1901 (0.254 sec)\n",
      "INFO:tensorflow:global_step/sec: 346.702\n",
      "INFO:tensorflow:loss = 30.307816, step = 2001 (0.289 sec)\n",
      "INFO:tensorflow:global_step/sec: 381.499\n",
      "INFO:tensorflow:loss = 41.16053, step = 2101 (0.261 sec)\n",
      "INFO:tensorflow:global_step/sec: 292.709\n",
      "INFO:tensorflow:loss = 73.87081, step = 2201 (0.342 sec)\n",
      "INFO:tensorflow:global_step/sec: 341.69\n",
      "INFO:tensorflow:loss = 42.253674, step = 2301 (0.295 sec)\n",
      "INFO:tensorflow:global_step/sec: 333.577\n",
      "INFO:tensorflow:loss = 32.43901, step = 2401 (0.300 sec)\n",
      "INFO:tensorflow:global_step/sec: 380.409\n",
      "INFO:tensorflow:loss = 37.70379, step = 2501 (0.262 sec)\n",
      "INFO:tensorflow:global_step/sec: 340.751\n",
      "INFO:tensorflow:loss = 39.260693, step = 2601 (0.294 sec)\n",
      "INFO:tensorflow:global_step/sec: 291.395\n",
      "INFO:tensorflow:loss = 51.416866, step = 2701 (0.343 sec)\n",
      "INFO:tensorflow:global_step/sec: 315.53\n",
      "INFO:tensorflow:loss = 184.38156, step = 2801 (0.316 sec)\n",
      "INFO:tensorflow:global_step/sec: 366.986\n",
      "INFO:tensorflow:loss = 53.05883, step = 2901 (0.272 sec)\n",
      "INFO:tensorflow:global_step/sec: 265.167\n",
      "INFO:tensorflow:loss = 27.692787, step = 3001 (0.380 sec)\n",
      "INFO:tensorflow:global_step/sec: 339.134\n",
      "INFO:tensorflow:loss = 39.770794, step = 3101 (0.292 sec)\n",
      "INFO:tensorflow:global_step/sec: 358.485\n",
      "INFO:tensorflow:loss = 47.001534, step = 3201 (0.279 sec)\n",
      "INFO:tensorflow:global_step/sec: 281.97\n",
      "INFO:tensorflow:loss = 36.61994, step = 3301 (0.356 sec)\n",
      "INFO:tensorflow:global_step/sec: 343.422\n",
      "INFO:tensorflow:loss = 46.674873, step = 3401 (0.289 sec)\n",
      "INFO:tensorflow:global_step/sec: 281.989\n",
      "INFO:tensorflow:loss = 36.499893, step = 3501 (0.356 sec)\n",
      "INFO:tensorflow:global_step/sec: 352.627\n",
      "INFO:tensorflow:loss = 44.82026, step = 3601 (0.282 sec)\n",
      "INFO:tensorflow:global_step/sec: 357.209\n",
      "INFO:tensorflow:loss = 109.4581, step = 3701 (0.280 sec)\n",
      "INFO:tensorflow:global_step/sec: 289.537\n",
      "INFO:tensorflow:loss = 52.670895, step = 3801 (0.349 sec)\n",
      "INFO:tensorflow:global_step/sec: 337.938\n",
      "INFO:tensorflow:loss = 25.518808, step = 3901 (0.294 sec)\n",
      "INFO:tensorflow:global_step/sec: 326.968\n",
      "INFO:tensorflow:loss = 88.96236, step = 4001 (0.306 sec)\n",
      "INFO:tensorflow:global_step/sec: 335.375\n",
      "INFO:tensorflow:loss = 34.12282, step = 4101 (0.296 sec)\n",
      "INFO:tensorflow:global_step/sec: 330.084\n",
      "INFO:tensorflow:loss = 26.477894, step = 4201 (0.304 sec)\n",
      "INFO:tensorflow:global_step/sec: 342.657\n",
      "INFO:tensorflow:loss = 58.477943, step = 4301 (0.292 sec)\n",
      "INFO:tensorflow:global_step/sec: 320.761\n",
      "INFO:tensorflow:loss = 109.7404, step = 4401 (0.313 sec)\n",
      "INFO:tensorflow:global_step/sec: 322.263\n",
      "INFO:tensorflow:loss = 70.80423, step = 4501 (0.309 sec)\n",
      "INFO:tensorflow:global_step/sec: 276.567\n",
      "INFO:tensorflow:loss = 42.813023, step = 4601 (0.362 sec)\n",
      "INFO:tensorflow:global_step/sec: 335.875\n",
      "INFO:tensorflow:loss = 50.28676, step = 4701 (0.296 sec)\n",
      "INFO:tensorflow:global_step/sec: 263.377\n",
      "INFO:tensorflow:loss = 69.291405, step = 4801 (0.382 sec)\n",
      "INFO:tensorflow:global_step/sec: 297.762\n",
      "INFO:tensorflow:loss = 112.38106, step = 4901 (0.336 sec)\n",
      "INFO:tensorflow:Saving checkpoints for 5000 into /var/folders/fk/b_m_3t9915zc2llvfkwd4d_h0000gn/T/tmp3xkmlm9h/model.ckpt.\n",
      "INFO:tensorflow:Loss for final step: 32.800762.\n"
     ]
    },
    {
     "data": {
      "text/plain": [
       "<tensorflow_estimator.python.estimator.canned.linear.LinearClassifier at 0x130e60940>"
      ]
     },
     "execution_count": 47,
     "metadata": {},
     "output_type": "execute_result"
    }
   ],
   "source": [
    "model.train(input_fn=input_func, steps=5000)"
   ]
  },
  {
   "cell_type": "code",
   "execution_count": 50,
   "metadata": {},
   "outputs": [],
   "source": [
    "# Evaluation\n",
    "\n",
    "pred_fn = tf.estimator.inputs.pandas_input_fn(x=x_test, batch_size=len(x_test), shuffle=False)"
   ]
  },
  {
   "cell_type": "code",
   "execution_count": 51,
   "metadata": {},
   "outputs": [
    {
     "name": "stdout",
     "output_type": "stream",
     "text": [
      "INFO:tensorflow:Calling model_fn.\n",
      "INFO:tensorflow:Done calling model_fn.\n",
      "INFO:tensorflow:Graph was finalized.\n",
      "WARNING:tensorflow:From /Users/rajacsp/anaconda3/envs/py36/lib/python3.6/site-packages/tensorflow/python/training/saver.py:1266: checkpoint_exists (from tensorflow.python.training.checkpoint_management) is deprecated and will be removed in a future version.\n",
      "Instructions for updating:\n",
      "Use standard file APIs to check for files with this prefix.\n",
      "INFO:tensorflow:Restoring parameters from /var/folders/fk/b_m_3t9915zc2llvfkwd4d_h0000gn/T/tmp3xkmlm9h/model.ckpt-5000\n",
      "INFO:tensorflow:Running local_init_op.\n",
      "INFO:tensorflow:Done running local_init_op.\n"
     ]
    }
   ],
   "source": [
    "prediction = list(model.predict(input_fn=pred_fn))"
   ]
  },
  {
   "cell_type": "code",
   "execution_count": 53,
   "metadata": {},
   "outputs": [
    {
     "data": {
      "text/plain": [
       "{'class_ids': array([0]),\n",
       " 'classes': array([b'0'], dtype=object),\n",
       " 'logistic': array([0.24731174], dtype=float32),\n",
       " 'logits': array([-1.1130015], dtype=float32),\n",
       " 'probabilities': array([0.7526882 , 0.24731174], dtype=float32)}"
      ]
     },
     "execution_count": 53,
     "metadata": {},
     "output_type": "execute_result"
    }
   ],
   "source": [
    "prediction[0]"
   ]
  },
  {
   "cell_type": "code",
   "execution_count": 55,
   "metadata": {},
   "outputs": [],
   "source": [
    "final_preds = []\n",
    "\n",
    "for pred in prediction:\n",
    "    final_preds.append(pred['class_ids'][0])"
   ]
  },
  {
   "cell_type": "code",
   "execution_count": 56,
   "metadata": {},
   "outputs": [
    {
     "data": {
      "text/plain": [
       "[0, 0, 0, 0, 1, 0, 0, 0, 0, 0]"
      ]
     },
     "execution_count": 56,
     "metadata": {},
     "output_type": "execute_result"
    }
   ],
   "source": [
    "final_preds[:10]"
   ]
  },
  {
   "cell_type": "code",
   "execution_count": 57,
   "metadata": {},
   "outputs": [],
   "source": [
    "from sklearn.metrics import classification_report"
   ]
  },
  {
   "cell_type": "code",
   "execution_count": 59,
   "metadata": {},
   "outputs": [
    {
     "name": "stdout",
     "output_type": "stream",
     "text": [
      "              precision    recall  f1-score   support\n",
      "\n",
      "           0       0.86      0.93      0.89      7436\n",
      "           1       0.70      0.54      0.61      2333\n",
      "\n",
      "   micro avg       0.83      0.83      0.83      9769\n",
      "   macro avg       0.78      0.73      0.75      9769\n",
      "weighted avg       0.83      0.83      0.83      9769\n",
      "\n"
     ]
    }
   ],
   "source": [
    "print(classification_report(y_est, final_preds))"
   ]
  }
 ],
 "metadata": {
  "kernelspec": {
   "display_name": "Python 3",
   "language": "python",
   "name": "python3"
  },
  "language_info": {
   "codemirror_mode": {
    "name": "ipython",
    "version": 3
   },
   "file_extension": ".py",
   "mimetype": "text/x-python",
   "name": "python",
   "nbconvert_exporter": "python",
   "pygments_lexer": "ipython3",
   "version": "3.6.8"
  }
 },
 "nbformat": 4,
 "nbformat_minor": 2
}

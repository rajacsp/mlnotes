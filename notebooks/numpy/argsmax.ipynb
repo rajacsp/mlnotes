{
 "cells": [
  {
   "cell_type": "code",
   "execution_count": 1,
   "id": "a10f2514-813c-4ef8-a606-96332f49072e",
   "metadata": {},
   "outputs": [],
   "source": [
    "import numpy as np"
   ]
  },
  {
   "cell_type": "code",
   "execution_count": 2,
   "id": "269ebb04-c0db-4d1b-b149-ae234393f859",
   "metadata": {},
   "outputs": [],
   "source": [
    "a = np.array(\n",
    "    [\n",
    "        [1,2,44,7], \n",
    "        [9,88,6,45], \n",
    "        [19,76,3,4]\n",
    "    ]\n",
    ")"
   ]
  },
  {
   "cell_type": "code",
   "execution_count": 3,
   "id": "25bf9f3a-a379-4513-8049-0af642d2faa6",
   "metadata": {},
   "outputs": [
    {
     "data": {
      "text/plain": [
       "array([[ 1,  2, 44,  7],\n",
       "       [ 9, 88,  6, 45],\n",
       "       [19, 76,  3,  4]])"
      ]
     },
     "execution_count": 3,
     "metadata": {},
     "output_type": "execute_result"
    }
   ],
   "source": [
    "a"
   ]
  },
  {
   "cell_type": "code",
   "execution_count": 4,
   "id": "d0b07d5f-d761-469d-b964-c55eb045a1be",
   "metadata": {},
   "outputs": [
    {
     "data": {
      "text/plain": [
       "12"
      ]
     },
     "execution_count": 4,
     "metadata": {},
     "output_type": "execute_result"
    }
   ],
   "source": [
    "a.size"
   ]
  },
  {
   "cell_type": "code",
   "execution_count": 5,
   "id": "a05a2df3-894f-4d21-8c0d-a2b6ec5222e7",
   "metadata": {},
   "outputs": [
    {
     "data": {
      "text/plain": [
       "(3, 4)"
      ]
     },
     "execution_count": 5,
     "metadata": {},
     "output_type": "execute_result"
    }
   ],
   "source": [
    "a.shape"
   ]
  },
  {
   "cell_type": "code",
   "execution_count": 6,
   "id": "1526e017-dd73-4fd5-aa0d-11f56a6499c3",
   "metadata": {},
   "outputs": [
    {
     "data": {
      "text/plain": [
       "2"
      ]
     },
     "execution_count": 6,
     "metadata": {},
     "output_type": "execute_result"
    }
   ],
   "source": [
    "a.ndim"
   ]
  },
  {
   "cell_type": "code",
   "execution_count": 7,
   "id": "d0b6322a-04b4-46d5-a65e-d20c7c4f601b",
   "metadata": {},
   "outputs": [
    {
     "data": {
      "text/plain": [
       "5"
      ]
     },
     "execution_count": 7,
     "metadata": {},
     "output_type": "execute_result"
    }
   ],
   "source": [
    "np.argmax(a)"
   ]
  },
  {
   "cell_type": "code",
   "execution_count": 8,
   "id": "5d4a1507-27a6-4b86-a23f-763e6a0324f8",
   "metadata": {},
   "outputs": [
    {
     "data": {
      "text/plain": [
       "array([ 1,  2, 44,  7,  9, 88,  6, 45, 19, 76,  3,  4])"
      ]
     },
     "execution_count": 8,
     "metadata": {},
     "output_type": "execute_result"
    }
   ],
   "source": [
    "a.flatten()"
   ]
  },
  {
   "cell_type": "markdown",
   "id": "ffdc5c19-766c-4025-b07f-fa606b620ed5",
   "metadata": {},
   "source": [
    "Note:\n",
    "\n",
    "argmax Returns the indices of the maximum values along an axis.\n",
    "\n",
    "The np.argmax function by default works along the flattened array, unless you specify an axis"
   ]
  },
  {
   "cell_type": "code",
   "execution_count": 9,
   "id": "b57a509b-d533-4a7f-819f-5ed2ca40601b",
   "metadata": {},
   "outputs": [
    {
     "data": {
      "text/plain": [
       "0"
      ]
     },
     "execution_count": 9,
     "metadata": {},
     "output_type": "execute_result"
    }
   ],
   "source": [
    "np.argmin(a) # returns the index of the minimum value"
   ]
  },
  {
   "cell_type": "code",
   "execution_count": 10,
   "id": "e8d468ef-6e6f-440b-8190-b4380d40fa27",
   "metadata": {},
   "outputs": [
    {
     "data": {
      "text/plain": [
       "array([2, 1, 0, 1])"
      ]
     },
     "execution_count": 10,
     "metadata": {},
     "output_type": "execute_result"
    }
   ],
   "source": [
    "np.argmax(a, axis=0) # index of numbers 19, 88, 44, 45"
   ]
  },
  {
   "cell_type": "markdown",
   "id": "92ac5d2d-e6f0-4a0a-bef7-ece8fa2548fe",
   "metadata": {},
   "source": [
    "Note\n",
    "\n",
    "np.argmax(a, axis=0) returns the index of the maximum value in each of the four columns."
   ]
  },
  {
   "cell_type": "code",
   "execution_count": 11,
   "id": "bbbca9da-efdb-4790-b93b-42527b6bddc2",
   "metadata": {},
   "outputs": [
    {
     "data": {
      "text/plain": [
       "array([2, 1, 1])"
      ]
     },
     "execution_count": 11,
     "metadata": {},
     "output_type": "execute_result"
    }
   ],
   "source": [
    "np.argmax(a, axis=1)"
   ]
  },
  {
   "cell_type": "markdown",
   "id": "5ab03bb0-2714-4a31-8a62-5375cd5098b4",
   "metadata": {},
   "source": [
    "Note:\n",
    "\n",
    "That means np.argmax(a, axis=1) returns\n",
    "2,1,1\n",
    "because a has three rows. The index of the maximum value in the first row is 2 (44), the index of the maximum value of the second and third rows is 1 (88, 76)"
   ]
  },
  {
   "cell_type": "code",
   "execution_count": 12,
   "id": "2dfd9929-d260-4b7e-ba26-f76390ed1e73",
   "metadata": {},
   "outputs": [],
   "source": [
    "b = np.array(\n",
    "    [\n",
    "        [2, 4], \n",
    "        [5, 3] \n",
    "       \n",
    "    ]\n",
    ")"
   ]
  },
  {
   "cell_type": "code",
   "execution_count": 13,
   "id": "df1583da-0032-4524-b302-9453f50afc60",
   "metadata": {},
   "outputs": [
    {
     "data": {
      "text/plain": [
       "array([[2, 4],\n",
       "       [5, 3]])"
      ]
     },
     "execution_count": 13,
     "metadata": {},
     "output_type": "execute_result"
    }
   ],
   "source": [
    "b"
   ]
  },
  {
   "cell_type": "code",
   "execution_count": 14,
   "id": "6e41a74c-3837-4e11-9ef5-0f6e8c5b9a61",
   "metadata": {},
   "outputs": [
    {
     "data": {
      "text/plain": [
       "4"
      ]
     },
     "execution_count": 14,
     "metadata": {},
     "output_type": "execute_result"
    }
   ],
   "source": [
    "b.size"
   ]
  },
  {
   "cell_type": "code",
   "execution_count": 15,
   "id": "1f4a1c25-9a36-474a-b030-138d90ca227b",
   "metadata": {},
   "outputs": [
    {
     "data": {
      "text/plain": [
       "(2, 2)"
      ]
     },
     "execution_count": 15,
     "metadata": {},
     "output_type": "execute_result"
    }
   ],
   "source": [
    "b.shape"
   ]
  },
  {
   "cell_type": "code",
   "execution_count": 16,
   "id": "43e136c8-946f-474f-bc86-02cf14ae8585",
   "metadata": {},
   "outputs": [
    {
     "data": {
      "text/plain": [
       "array([2, 4, 5, 3])"
      ]
     },
     "execution_count": 16,
     "metadata": {},
     "output_type": "execute_result"
    }
   ],
   "source": [
    "b.flatten()"
   ]
  },
  {
   "cell_type": "code",
   "execution_count": 17,
   "id": "127b8425-540e-4279-aa8e-7c53acf05873",
   "metadata": {},
   "outputs": [
    {
     "data": {
      "text/plain": [
       "2"
      ]
     },
     "execution_count": 17,
     "metadata": {},
     "output_type": "execute_result"
    }
   ],
   "source": [
    "np.argmax(b)"
   ]
  },
  {
   "cell_type": "code",
   "execution_count": 18,
   "id": "7526e238-8548-45e5-9bce-27f8b7639e0a",
   "metadata": {},
   "outputs": [
    {
     "data": {
      "text/plain": [
       "array([1, 0])"
      ]
     },
     "execution_count": 18,
     "metadata": {},
     "output_type": "execute_result"
    }
   ],
   "source": [
    "np.argmax(b, axis=0)"
   ]
  },
  {
   "cell_type": "code",
   "execution_count": 19,
   "id": "1426837d-cddc-4e84-af47-98db243a2f00",
   "metadata": {},
   "outputs": [
    {
     "data": {
      "text/plain": [
       "array([1, 0])"
      ]
     },
     "execution_count": 19,
     "metadata": {},
     "output_type": "execute_result"
    }
   ],
   "source": [
    "np.argmax(b, axis=1)"
   ]
  },
  {
   "cell_type": "markdown",
   "id": "dbc3022c-9135-45c9-8bb3-29cd44cf1f44",
   "metadata": {},
   "source": [
    "https://stackoverflow.com/questions/28697993/numpy-what-is-the-logic-of-the-argmin-and-argmax-functions"
   ]
  },
  {
   "cell_type": "code",
   "execution_count": null,
   "id": "1ae9fea0-9274-4d05-9c1e-7cc5f7242866",
   "metadata": {},
   "outputs": [],
   "source": []
  }
 ],
 "metadata": {
  "kernelspec": {
   "display_name": "Python 3 (ipykernel)",
   "language": "python",
   "name": "python3"
  },
  "language_info": {
   "codemirror_mode": {
    "name": "ipython",
    "version": 3
   },
   "file_extension": ".py",
   "mimetype": "text/x-python",
   "name": "python",
   "nbconvert_exporter": "python",
   "pygments_lexer": "ipython3",
   "version": "3.12.4"
  }
 },
 "nbformat": 4,
 "nbformat_minor": 5
}

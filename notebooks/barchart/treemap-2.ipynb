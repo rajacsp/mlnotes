{
 "cells": [
  {
   "cell_type": "code",
   "execution_count": 1,
   "id": "8913f0e7-6294-46b6-a8d0-1e0d05885deb",
   "metadata": {},
   "outputs": [
    {
     "name": "stdout",
     "output_type": "stream",
     "text": [
      "(162, 56, 34, 21, 2)\n",
      "[0, 0] [1, 1]\n",
      "[0, 0] [0.5890909090909091, 1]\n",
      "[0.5890909090909091, 0] [0.7927272727272727, 1]\n",
      "[0.7927272727272727, 0] [0.9163636363636364, 1]\n",
      "[0.9163636363636364, 0] [0.9927272727272728, 1]\n",
      "[0.9927272727272728, 0] [1.0, 1]\n"
     ]
    },
    {
     "data": {
      "image/png": "[encoded data removed]",
      "text/plain": [
       "<Figure size 640x480 with 1 Axes>"
      ]
     },
     "metadata": {},
     "output_type": "display_data"
    }
   ],
   "source": [
    "import pylab\n",
    "from matplotlib.patches import Rectangle\n",
    "from functools import reduce\n",
    "\n",
    "class Treemap:\n",
    "    def __init__(self, tree, iter_method, size_method, color_method):\n",
    "        \"\"\"create a tree map from tree, using itermethod(node) to walk tree,\n",
    "        size_method(node) to get object size and color_method(node) to get its\n",
    "        color\"\"\"\n",
    "\n",
    "        self.ax = pylab.subplot(111,aspect='equal')\n",
    "        pylab.subplots_adjust(left=0, right=1, top=1, bottom=0)\n",
    "        self.ax.set_xticks([])\n",
    "        self.ax.set_yticks([])\n",
    "\n",
    "        self.size_method = size_method\n",
    "        self.iter_method = iter_method\n",
    "        self.color_method = color_method\n",
    "        self.addnode(tree)\n",
    "\n",
    "    def addnode(self, node, lower=[0,0], upper=[1,1], axis=0):\n",
    "        axis = axis % 2\n",
    "        self.draw_rectangle(lower, upper, node)\n",
    "        width = upper[axis] - lower[axis]\n",
    "        try:\n",
    "            for child in self.iter_method(node):\n",
    "                upper[axis] = lower[axis] + (width * float(size(child))) / size(node)\n",
    "                self.addnode(child, list(lower), list(upper), axis + 1)\n",
    "                lower[axis] = upper[axis]\n",
    "\n",
    "        except TypeError:\n",
    "            pass\n",
    "\n",
    "    def draw_rectangle(self, lower, upper, node):\n",
    "        print(lower, upper);\n",
    "        r = Rectangle( lower, upper[0]-lower[0], upper[1] - lower[1],\n",
    "                   edgecolor='k',\n",
    "                   facecolor= self.color_method(node))\n",
    "        self.ax.add_patch(r)\n",
    "\n",
    "\n",
    "if __name__ == '__main__':\n",
    "    # example using nested lists, iter to walk and random colors\n",
    "\n",
    "    size_cache = {}\n",
    "    def size(thing):\n",
    "        if isinstance(thing, int):\n",
    "            return thing\n",
    "        if thing in size_cache:\n",
    "            return size_cache[thing]\n",
    "        else:\n",
    "            size_cache[thing] = reduce(int.__add__, [size(x) for x in thing])\n",
    "            return size_cache[thing]\n",
    "    import random\n",
    "    def random_color(thing):\n",
    "        return (random.random(),random.random(),random.random())\n",
    "\n",
    "    tree= (162, 56, 34, 21, 2)\n",
    "    \n",
    "    print(tree);\n",
    "\n",
    "    Treemap(tree, iter, size, random_color)\n",
    "    pylab.show()"
   ]
  },
  {
   "cell_type": "code",
   "execution_count": null,
   "id": "c800a556-4b1b-4d1e-9818-86661c796728",
   "metadata": {},
   "outputs": [],
   "source": []
  }
 ],
 "metadata": {
  "kernelspec": {
   "display_name": "Python 3 (ipykernel)",
   "language": "python",
   "name": "python3"
  },
  "language_info": {
   "codemirror_mode": {
    "name": "ipython",
    "version": 3
   },
   "file_extension": ".py",
   "mimetype": "text/x-python",
   "name": "python",
   "nbconvert_exporter": "python",
   "pygments_lexer": "ipython3",
   "version": "3.12.4"
  }
 },
 "nbformat": 4,
 "nbformat_minor": 5
}

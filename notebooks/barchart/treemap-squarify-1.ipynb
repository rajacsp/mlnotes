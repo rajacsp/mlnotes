{
 "cells": [
  {
   "cell_type": "code",
   "execution_count": null,
   "id": "b6ea3a4c-e9f7-4582-8cbe-62627c486695",
   "metadata": {},
   "outputs": [],
   "source": []
  },
  {
   "cell_type": "code",
   "execution_count": 3,
   "id": "aaf5b49b-ad52-4acc-b421-3fa2f246bc08",
   "metadata": {},
   "outputs": [],
   "source": [
    "#!pip install squarify"
   ]
  },
  {
   "cell_type": "code",
   "execution_count": 4,
   "id": "0338324c-bc2d-41eb-bca6-f1877b45085e",
   "metadata": {},
   "outputs": [
    {
     "name": "stdout",
     "output_type": "stream",
     "text": [
      "[{'x': 1.0, 'y': 1.0, 'dx': 325.7153558052434, 'dy': 431.0}, {'x': 328.7153558052434, 'y': 1.0, 'dx': 370.2846441947566, 'dy': 328.0862676056338}, {'x': 328.7153558052434, 'y': 331.0862676056338, 'dx': 213.0977944236371, 'dy': 100.9137323943662}, {'x': 543.8131502288805, 'y': 331.0862676056338, 'dx': 66.94160077680677, 'dy': 100.9137323943662}, {'x': 612.7547510056874, 'y': 331.0862676056338, 'dx': 86.24524899431273, 'dy': 78.40135343309854}, {'x': 612.7547510056874, 'y': 411.4876210387323, 'dx': 86.2452489943124, 'dy': 20.51237896126767}]\n"
     ]
    }
   ],
   "source": [
    "import squarify\n",
    "\n",
    "# these values define the coordinate system for the returned rectangles\n",
    "# the values will range from x to x + width and y to y + height\n",
    "x = 0.\n",
    "y = 0.\n",
    "width = 700.\n",
    "height = 433.\n",
    "\n",
    "values = [500, 433, 78, 25, 25, 7]\n",
    "\n",
    "# values must be sorted descending (and positive, obviously)\n",
    "values.sort(reverse=True)\n",
    "\n",
    "# the sum of the values must equal the total area to be laid out\n",
    "# i.e., sum(values) == width * height\n",
    "values = squarify.normalize_sizes(values, width, height)\n",
    "\n",
    "# returns a list of rectangles\n",
    "rects = squarify.squarify(values, x, y, width, height)\n",
    "\n",
    "# padded rectangles will probably visualize better for certain cases\n",
    "padded_rects = squarify.padded_squarify(values, x, y, width, height)\n",
    "\n",
    "print(padded_rects);"
   ]
  },
  {
   "cell_type": "code",
   "execution_count": null,
   "id": "b6c7408f-57b9-4bbe-958b-93881ce9967f",
   "metadata": {},
   "outputs": [],
   "source": []
  }
 ],
 "metadata": {
  "kernelspec": {
   "display_name": "Python 3 (ipykernel)",
   "language": "python",
   "name": "python3"
  },
  "language_info": {
   "codemirror_mode": {
    "name": "ipython",
    "version": 3
   },
   "file_extension": ".py",
   "mimetype": "text/x-python",
   "name": "python",
   "nbconvert_exporter": "python",
   "pygments_lexer": "ipython3",
   "version": "3.12.4"
  }
 },
 "nbformat": 4,
 "nbformat_minor": 5
}

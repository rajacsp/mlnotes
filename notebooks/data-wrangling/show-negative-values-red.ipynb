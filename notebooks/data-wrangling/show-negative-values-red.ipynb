{
 "cells": [
  {
   "cell_type": "raw",
   "metadata": {},
   "source": [
    "---\n",
    "title: \"Show Negative values red\"\n",
    "author: \"Rj\"\n",
    "date: 2019-09-05\n",
    "description: \"List Test\"\n",
    "type: technical_note\n",
    "draft: false\n",
    "---"
   ]
  },
  {
   "cell_type": "code",
   "execution_count": 20,
   "metadata": {},
   "outputs": [],
   "source": [
    "import pandas as pd"
   ]
  },
  {
   "cell_type": "code",
   "execution_count": 51,
   "metadata": {},
   "outputs": [],
   "source": [
    "data = {\n",
    "    'Month' : [1, 2, 3],\n",
    "    'Temp' : [7, -18, -20]\n",
    "}"
   ]
  },
  {
   "cell_type": "code",
   "execution_count": 52,
   "metadata": {},
   "outputs": [
    {
     "data": {
      "text/plain": [
       "{'Month': [1, 2, 3], 'Temp': [7, -18, -20]}"
      ]
     },
     "execution_count": 52,
     "metadata": {},
     "output_type": "execute_result"
    }
   ],
   "source": [
    "data"
   ]
  },
  {
   "cell_type": "code",
   "execution_count": 53,
   "metadata": {},
   "outputs": [
    {
     "data": {
      "text/plain": [
       "dict"
      ]
     },
     "execution_count": 53,
     "metadata": {},
     "output_type": "execute_result"
    }
   ],
   "source": [
    "type(data)"
   ]
  },
  {
   "cell_type": "code",
   "execution_count": 54,
   "metadata": {},
   "outputs": [],
   "source": [
    "df = pd.DataFrame(data)"
   ]
  },
  {
   "cell_type": "code",
   "execution_count": 55,
   "metadata": {},
   "outputs": [
    {
     "data": {
      "text/html": [
       "<div>\n",
       "<style scoped>\n",
       "    .dataframe tbody tr th:only-of-type {\n",
       "        vertical-align: middle;\n",
       "    }\n",
       "\n",
       "    .dataframe tbody tr th {\n",
       "        vertical-align: top;\n",
       "    }\n",
       "\n",
       "    .dataframe thead th {\n",
       "        text-align: right;\n",
       "    }\n",
       "</style>\n",
       "<table border=\"1\" class=\"dataframe\">\n",
       "  <thead>\n",
       "    <tr style=\"text-align: right;\">\n",
       "      <th></th>\n",
       "      <th>Month</th>\n",
       "      <th>Temp</th>\n",
       "    </tr>\n",
       "  </thead>\n",
       "  <tbody>\n",
       "    <tr>\n",
       "      <th>0</th>\n",
       "      <td>1</td>\n",
       "      <td>7</td>\n",
       "    </tr>\n",
       "    <tr>\n",
       "      <th>1</th>\n",
       "      <td>2</td>\n",
       "      <td>-18</td>\n",
       "    </tr>\n",
       "    <tr>\n",
       "      <th>2</th>\n",
       "      <td>3</td>\n",
       "      <td>-20</td>\n",
       "    </tr>\n",
       "  </tbody>\n",
       "</table>\n",
       "</div>"
      ],
      "text/plain": [
       "   Month  Temp\n",
       "0      1     7\n",
       "1      2   -18\n",
       "2      3   -20"
      ]
     },
     "execution_count": 55,
     "metadata": {},
     "output_type": "execute_result"
    }
   ],
   "source": [
    "df"
   ]
  },
  {
   "cell_type": "code",
   "execution_count": 56,
   "metadata": {},
   "outputs": [],
   "source": [
    "def color_negative_red(val):\n",
    "    \"\"\"\n",
    "    Takes a scalar and returns a string with\n",
    "    the css property `'color: red'` for negative\n",
    "    strings, black otherwise.\n",
    "    \"\"\"\n",
    "    color = 'red' if val < 0 else 'black'\n",
    "    return 'color: %s' % color"
   ]
  },
  {
   "cell_type": "code",
   "execution_count": 57,
   "metadata": {},
   "outputs": [
    {
     "data": {
      "text/html": [
       "<style  type=\"text/css\" >\n",
       "#T_fe8d9290_efe7_11ea_a05d_38f9d3497ee0row0_col0,#T_fe8d9290_efe7_11ea_a05d_38f9d3497ee0row0_col1,#T_fe8d9290_efe7_11ea_a05d_38f9d3497ee0row1_col0,#T_fe8d9290_efe7_11ea_a05d_38f9d3497ee0row2_col0{\n",
       "            color:  black;\n",
       "        }#T_fe8d9290_efe7_11ea_a05d_38f9d3497ee0row1_col1,#T_fe8d9290_efe7_11ea_a05d_38f9d3497ee0row2_col1{\n",
       "            color:  red;\n",
       "        }</style><table id=\"T_fe8d9290_efe7_11ea_a05d_38f9d3497ee0\" ><thead>    <tr>        <th class=\"blank level0\" ></th>        <th class=\"col_heading level0 col0\" >Month</th>        <th class=\"col_heading level0 col1\" >Temp</th>    </tr></thead><tbody>\n",
       "                <tr>\n",
       "                        <th id=\"T_fe8d9290_efe7_11ea_a05d_38f9d3497ee0level0_row0\" class=\"row_heading level0 row0\" >0</th>\n",
       "                        <td id=\"T_fe8d9290_efe7_11ea_a05d_38f9d3497ee0row0_col0\" class=\"data row0 col0\" >1</td>\n",
       "                        <td id=\"T_fe8d9290_efe7_11ea_a05d_38f9d3497ee0row0_col1\" class=\"data row0 col1\" >7</td>\n",
       "            </tr>\n",
       "            <tr>\n",
       "                        <th id=\"T_fe8d9290_efe7_11ea_a05d_38f9d3497ee0level0_row1\" class=\"row_heading level0 row1\" >1</th>\n",
       "                        <td id=\"T_fe8d9290_efe7_11ea_a05d_38f9d3497ee0row1_col0\" class=\"data row1 col0\" >2</td>\n",
       "                        <td id=\"T_fe8d9290_efe7_11ea_a05d_38f9d3497ee0row1_col1\" class=\"data row1 col1\" >-18</td>\n",
       "            </tr>\n",
       "            <tr>\n",
       "                        <th id=\"T_fe8d9290_efe7_11ea_a05d_38f9d3497ee0level0_row2\" class=\"row_heading level0 row2\" >2</th>\n",
       "                        <td id=\"T_fe8d9290_efe7_11ea_a05d_38f9d3497ee0row2_col0\" class=\"data row2 col0\" >3</td>\n",
       "                        <td id=\"T_fe8d9290_efe7_11ea_a05d_38f9d3497ee0row2_col1\" class=\"data row2 col1\" >-20</td>\n",
       "            </tr>\n",
       "    </tbody></table>"
      ],
      "text/plain": [
       "<pandas.io.formats.style.Styler at 0x7f8cd47b2a60>"
      ]
     },
     "execution_count": 57,
     "metadata": {},
     "output_type": "execute_result"
    }
   ],
   "source": [
    "df.style.applymap(color_negative_red)"
   ]
  },
  {
   "cell_type": "code",
   "execution_count": 58,
   "metadata": {},
   "outputs": [
    {
     "data": {
      "text/html": [
       "<div>\n",
       "<style scoped>\n",
       "    .dataframe tbody tr th:only-of-type {\n",
       "        vertical-align: middle;\n",
       "    }\n",
       "\n",
       "    .dataframe tbody tr th {\n",
       "        vertical-align: top;\n",
       "    }\n",
       "\n",
       "    .dataframe thead th {\n",
       "        text-align: right;\n",
       "    }\n",
       "</style>\n",
       "<table border=\"1\" class=\"dataframe\">\n",
       "  <thead>\n",
       "    <tr style=\"text-align: right;\">\n",
       "      <th></th>\n",
       "      <th>Month</th>\n",
       "      <th>Temp</th>\n",
       "    </tr>\n",
       "  </thead>\n",
       "  <tbody>\n",
       "    <tr>\n",
       "      <th>0</th>\n",
       "      <td>1</td>\n",
       "      <td>7</td>\n",
       "    </tr>\n",
       "    <tr>\n",
       "      <th>1</th>\n",
       "      <td>2</td>\n",
       "      <td>-18</td>\n",
       "    </tr>\n",
       "    <tr>\n",
       "      <th>2</th>\n",
       "      <td>3</td>\n",
       "      <td>-20</td>\n",
       "    </tr>\n",
       "  </tbody>\n",
       "</table>\n",
       "</div>"
      ],
      "text/plain": [
       "   Month  Temp\n",
       "0      1     7\n",
       "1      2   -18\n",
       "2      3   -20"
      ]
     },
     "execution_count": 58,
     "metadata": {},
     "output_type": "execute_result"
    }
   ],
   "source": [
    "df"
   ]
  },
  {
   "cell_type": "code",
   "execution_count": 59,
   "metadata": {},
   "outputs": [
    {
     "data": {
      "text/html": [
       "<style  type=\"text/css\" >\n",
       "#T_ff5ba95a_efe7_11ea_a05d_38f9d3497ee0row0_col1,#T_ff5ba95a_efe7_11ea_a05d_38f9d3497ee0row2_col0{\n",
       "            background-color:  yellow;\n",
       "        }</style><table id=\"T_ff5ba95a_efe7_11ea_a05d_38f9d3497ee0\" ><thead>    <tr>        <th class=\"blank level0\" ></th>        <th class=\"col_heading level0 col0\" >Month</th>        <th class=\"col_heading level0 col1\" >Temp</th>    </tr></thead><tbody>\n",
       "                <tr>\n",
       "                        <th id=\"T_ff5ba95a_efe7_11ea_a05d_38f9d3497ee0level0_row0\" class=\"row_heading level0 row0\" >0</th>\n",
       "                        <td id=\"T_ff5ba95a_efe7_11ea_a05d_38f9d3497ee0row0_col0\" class=\"data row0 col0\" >1</td>\n",
       "                        <td id=\"T_ff5ba95a_efe7_11ea_a05d_38f9d3497ee0row0_col1\" class=\"data row0 col1\" >7</td>\n",
       "            </tr>\n",
       "            <tr>\n",
       "                        <th id=\"T_ff5ba95a_efe7_11ea_a05d_38f9d3497ee0level0_row1\" class=\"row_heading level0 row1\" >1</th>\n",
       "                        <td id=\"T_ff5ba95a_efe7_11ea_a05d_38f9d3497ee0row1_col0\" class=\"data row1 col0\" >2</td>\n",
       "                        <td id=\"T_ff5ba95a_efe7_11ea_a05d_38f9d3497ee0row1_col1\" class=\"data row1 col1\" >-18</td>\n",
       "            </tr>\n",
       "            <tr>\n",
       "                        <th id=\"T_ff5ba95a_efe7_11ea_a05d_38f9d3497ee0level0_row2\" class=\"row_heading level0 row2\" >2</th>\n",
       "                        <td id=\"T_ff5ba95a_efe7_11ea_a05d_38f9d3497ee0row2_col0\" class=\"data row2 col0\" >3</td>\n",
       "                        <td id=\"T_ff5ba95a_efe7_11ea_a05d_38f9d3497ee0row2_col1\" class=\"data row2 col1\" >-20</td>\n",
       "            </tr>\n",
       "    </tbody></table>"
      ],
      "text/plain": [
       "<pandas.io.formats.style.Styler at 0x7f8cd475c6a0>"
      ]
     },
     "execution_count": 59,
     "metadata": {},
     "output_type": "execute_result"
    }
   ],
   "source": [
    "# Highlight max (axis = 0)\n",
    "# https://pandas.pydata.org/pandas-docs/stable/user_guide/style.html\n",
    "\n",
    "df.style.highlight_max(axis = 0)"
   ]
  },
  {
   "cell_type": "code",
   "execution_count": 60,
   "metadata": {},
   "outputs": [],
   "source": [
    "def highlight_max_rj(s, color = 'lightgreen'):\n",
    "    '''\n",
    "    highlight the maximum in a Series yellow.\n",
    "    '''\n",
    "    is_max = s == s.max()\n",
    "    return ['background-color: '+color if v else '' for v in is_max]"
   ]
  },
  {
   "cell_type": "code",
   "execution_count": 62,
   "metadata": {},
   "outputs": [
    {
     "data": {
      "text/html": [
       "<style  type=\"text/css\" >\n",
       "#T_07677b9c_efe8_11ea_a05d_38f9d3497ee0row0_col1{\n",
       "            background-color:  lightblue;\n",
       "        }</style><table id=\"T_07677b9c_efe8_11ea_a05d_38f9d3497ee0\" ><thead>    <tr>        <th class=\"blank level0\" ></th>        <th class=\"col_heading level0 col0\" >Month</th>        <th class=\"col_heading level0 col1\" >Temp</th>    </tr></thead><tbody>\n",
       "                <tr>\n",
       "                        <th id=\"T_07677b9c_efe8_11ea_a05d_38f9d3497ee0level0_row0\" class=\"row_heading level0 row0\" >0</th>\n",
       "                        <td id=\"T_07677b9c_efe8_11ea_a05d_38f9d3497ee0row0_col0\" class=\"data row0 col0\" >1</td>\n",
       "                        <td id=\"T_07677b9c_efe8_11ea_a05d_38f9d3497ee0row0_col1\" class=\"data row0 col1\" >7</td>\n",
       "            </tr>\n",
       "            <tr>\n",
       "                        <th id=\"T_07677b9c_efe8_11ea_a05d_38f9d3497ee0level0_row1\" class=\"row_heading level0 row1\" >1</th>\n",
       "                        <td id=\"T_07677b9c_efe8_11ea_a05d_38f9d3497ee0row1_col0\" class=\"data row1 col0\" >2</td>\n",
       "                        <td id=\"T_07677b9c_efe8_11ea_a05d_38f9d3497ee0row1_col1\" class=\"data row1 col1\" >-18</td>\n",
       "            </tr>\n",
       "            <tr>\n",
       "                        <th id=\"T_07677b9c_efe8_11ea_a05d_38f9d3497ee0level0_row2\" class=\"row_heading level0 row2\" >2</th>\n",
       "                        <td id=\"T_07677b9c_efe8_11ea_a05d_38f9d3497ee0row2_col0\" class=\"data row2 col0\" >3</td>\n",
       "                        <td id=\"T_07677b9c_efe8_11ea_a05d_38f9d3497ee0row2_col1\" class=\"data row2 col1\" >-20</td>\n",
       "            </tr>\n",
       "    </tbody></table>"
      ],
      "text/plain": [
       "<pandas.io.formats.style.Styler at 0x7f8cd47b2a00>"
      ]
     },
     "execution_count": 62,
     "metadata": {},
     "output_type": "execute_result"
    }
   ],
   "source": [
    "df.style.apply(highlight_max_rj, color = 'lightblue',  axis = 0, subset=['Temp'])"
   ]
  },
  {
   "cell_type": "code",
   "execution_count": 65,
   "metadata": {},
   "outputs": [
    {
     "data": {
      "text/html": [
       "<style  type=\"text/css\" >\n",
       "#T_1011fc5e_efe8_11ea_a05d_38f9d3497ee0row0_col1,#T_1011fc5e_efe8_11ea_a05d_38f9d3497ee0row1_col1,#T_1011fc5e_efe8_11ea_a05d_38f9d3497ee0row2_col1{\n",
       "            background-color:  lightgreen;\n",
       "        }</style><table id=\"T_1011fc5e_efe8_11ea_a05d_38f9d3497ee0\" ><thead>    <tr>        <th class=\"blank level0\" ></th>        <th class=\"col_heading level0 col0\" >Month</th>        <th class=\"col_heading level0 col1\" >Temp</th>    </tr></thead><tbody>\n",
       "                <tr>\n",
       "                        <th id=\"T_1011fc5e_efe8_11ea_a05d_38f9d3497ee0level0_row0\" class=\"row_heading level0 row0\" >0</th>\n",
       "                        <td id=\"T_1011fc5e_efe8_11ea_a05d_38f9d3497ee0row0_col0\" class=\"data row0 col0\" >1</td>\n",
       "                        <td id=\"T_1011fc5e_efe8_11ea_a05d_38f9d3497ee0row0_col1\" class=\"data row0 col1\" >7</td>\n",
       "            </tr>\n",
       "            <tr>\n",
       "                        <th id=\"T_1011fc5e_efe8_11ea_a05d_38f9d3497ee0level0_row1\" class=\"row_heading level0 row1\" >1</th>\n",
       "                        <td id=\"T_1011fc5e_efe8_11ea_a05d_38f9d3497ee0row1_col0\" class=\"data row1 col0\" >2</td>\n",
       "                        <td id=\"T_1011fc5e_efe8_11ea_a05d_38f9d3497ee0row1_col1\" class=\"data row1 col1\" >-18</td>\n",
       "            </tr>\n",
       "            <tr>\n",
       "                        <th id=\"T_1011fc5e_efe8_11ea_a05d_38f9d3497ee0level0_row2\" class=\"row_heading level0 row2\" >2</th>\n",
       "                        <td id=\"T_1011fc5e_efe8_11ea_a05d_38f9d3497ee0row2_col0\" class=\"data row2 col0\" >3</td>\n",
       "                        <td id=\"T_1011fc5e_efe8_11ea_a05d_38f9d3497ee0row2_col1\" class=\"data row2 col1\" >-20</td>\n",
       "            </tr>\n",
       "    </tbody></table>"
      ],
      "text/plain": [
       "<pandas.io.formats.style.Styler at 0x7f8cd475cd30>"
      ]
     },
     "execution_count": 65,
     "metadata": {},
     "output_type": "execute_result"
    }
   ],
   "source": [
    "df.style.apply(highlight_max_rj, axis = 1, subset = ['Temp'])"
   ]
  },
  {
   "cell_type": "code",
   "execution_count": null,
   "metadata": {},
   "outputs": [],
   "source": []
  }
 ],
 "metadata": {
  "kernelspec": {
   "display_name": "Python 3",
   "language": "python",
   "name": "python3"
  },
  "language_info": {
   "codemirror_mode": {
    "name": "ipython",
    "version": 3
   },
   "file_extension": ".py",
   "mimetype": "text/x-python",
   "name": "python",
   "nbconvert_exporter": "python",
   "pygments_lexer": "ipython3",
   "version": "3.8.5"
  }
 },
 "nbformat": 4,
 "nbformat_minor": 2
}

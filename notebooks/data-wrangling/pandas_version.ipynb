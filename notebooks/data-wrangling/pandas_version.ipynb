{
 "cells": [
  {
   "cell_type": "raw",
   "metadata": {},
   "source": [
    "---\n",
    "title: \"Pandas Version\"\n",
    "author: \"Rj\"\n",
    "date: 2019-04-24\n",
    "description: \"-\"\n",
    "type: technical_note\n",
    "draft: false\n",
    "---"
   ]
  },
  {
   "cell_type": "code",
   "execution_count": 9,
   "metadata": {},
   "outputs": [],
   "source": [
    "import pandas as pd"
   ]
  },
  {
   "cell_type": "code",
   "execution_count": 10,
   "metadata": {},
   "outputs": [
    {
     "data": {
      "text/plain": [
       "'0.24.2'"
      ]
     },
     "execution_count": 10,
     "metadata": {},
     "output_type": "execute_result"
    }
   ],
   "source": [
    "pd.__version__"
   ]
  },
  {
   "cell_type": "code",
   "execution_count": 11,
   "metadata": {},
   "outputs": [
    {
     "name": "stdout",
     "output_type": "stream",
     "text": [
      "\n",
      "INSTALLED VERSIONS\n",
      "------------------\n",
      "commit: None\n",
      "python: 3.6.8.final.0\n",
      "python-bits: 64\n",
      "OS: Darwin\n",
      "OS-release: 18.5.0\n",
      "machine: x86_64\n",
      "processor: i386\n",
      "byteorder: little\n",
      "LC_ALL: None\n",
      "LANG: en_CA.UTF-8\n",
      "LOCALE: en_CA.UTF-8\n",
      "\n",
      "pandas: 0.24.2\n",
      "pytest: 4.5.0\n",
      "pip: 19.0.3\n",
      "setuptools: 40.8.0\n",
      "Cython: None\n",
      "numpy: 1.16.3\n",
      "scipy: 1.2.1\n",
      "pyarrow: None\n",
      "xarray: 0.12.1\n",
      "IPython: 6.2.1\n",
      "sphinx: None\n",
      "patsy: 0.5.1\n",
      "dateutil: 2.8.0\n",
      "pytz: 2019.1\n",
      "blosc: None\n",
      "bottleneck: None\n",
      "tables: None\n",
      "numexpr: None\n",
      "feather: None\n",
      "matplotlib: 3.0.3\n",
      "openpyxl: None\n",
      "xlrd: None\n",
      "xlwt: None\n",
      "xlsxwriter: None\n",
      "lxml.etree: 4.3.3\n",
      "bs4: 4.7.1\n",
      "html5lib: 1.0b10\n",
      "sqlalchemy: 1.3.3\n",
      "pymysql: None\n",
      "psycopg2: 2.8.2 (dt dec pq3 ext lo64)\n",
      "jinja2: 2.10.1\n",
      "s3fs: None\n",
      "fastparquet: None\n",
      "pandas_gbq: None\n",
      "pandas_datareader: 0.7.0\n",
      "gcsfs: None\n"
     ]
    }
   ],
   "source": [
    "pd.show_versions(as_json=False)"
   ]
  },
  {
   "cell_type": "code",
   "execution_count": 12,
   "metadata": {},
   "outputs": [
    {
     "name": "stdout",
     "output_type": "stream",
     "text": [
      "{'system': {'commit': None, 'python': '3.6.8.final.0', 'python-bits': 64, 'OS': 'Darwin', 'OS-release': '18.5.0', 'machine': 'x86_64', 'processor': 'i386', 'byteorder': 'little', 'LC_ALL': 'None', 'LANG': 'en_CA.UTF-8', 'LOCALE': 'en_CA.UTF-8'}, 'dependencies': {'pandas': '0.24.2', 'pytest': '4.5.0', 'pip': '19.0.3', 'setuptools': '40.8.0', 'Cython': None, 'numpy': '1.16.3', 'scipy': '1.2.1', 'pyarrow': None, 'xarray': '0.12.1', 'IPython': '6.2.1', 'sphinx': None, 'patsy': '0.5.1', 'dateutil': '2.8.0', 'pytz': '2019.1', 'blosc': None, 'bottleneck': None, 'tables': None, 'numexpr': None, 'feather': None, 'matplotlib': '3.0.3', 'openpyxl': None, 'xlrd': None, 'xlwt': None, 'xlsxwriter': None, 'lxml.etree': '4.3.3', 'bs4': '4.7.1', 'html5lib': '1.0b10', 'sqlalchemy': '1.3.3', 'pymysql': None, 'psycopg2': '2.8.2 (dt dec pq3 ext lo64)', 'jinja2': '2.10.1', 's3fs': None, 'fastparquet': None, 'pandas_gbq': None, 'pandas_datareader': '0.7.0', 'gcsfs': None}}\n"
     ]
    }
   ],
   "source": [
    "pd.show_versions(as_json=True)"
   ]
  },
  {
   "cell_type": "code",
   "execution_count": 13,
   "metadata": {},
   "outputs": [],
   "source": [
    "import pprint"
   ]
  },
  {
   "cell_type": "code",
   "execution_count": 14,
   "metadata": {},
   "outputs": [
    {
     "name": "stdout",
     "output_type": "stream",
     "text": [
      "{'system': {'commit': None, 'python': '3.6.8.final.0', 'python-bits': 64, 'OS': 'Darwin', 'OS-release': '18.5.0', 'machine': 'x86_64', 'processor': 'i386', 'byteorder': 'little', 'LC_ALL': 'None', 'LANG': 'en_CA.UTF-8', 'LOCALE': 'en_CA.UTF-8'}, 'dependencies': {'pandas': '0.24.2', 'pytest': '4.5.0', 'pip': '19.0.3', 'setuptools': '40.8.0', 'Cython': None, 'numpy': '1.16.3', 'scipy': '1.2.1', 'pyarrow': None, 'xarray': '0.12.1', 'IPython': '6.2.1', 'sphinx': None, 'patsy': '0.5.1', 'dateutil': '2.8.0', 'pytz': '2019.1', 'blosc': None, 'bottleneck': None, 'tables': None, 'numexpr': None, 'feather': None, 'matplotlib': '3.0.3', 'openpyxl': None, 'xlrd': None, 'xlwt': None, 'xlsxwriter': None, 'lxml.etree': '4.3.3', 'bs4': '4.7.1', 'html5lib': '1.0b10', 'sqlalchemy': '1.3.3', 'pymysql': None, 'psycopg2': '2.8.2 (dt dec pq3 ext lo64)', 'jinja2': '2.10.1', 's3fs': None, 'fastparquet': None, 'pandas_gbq': None, 'pandas_datareader': '0.7.0', 'gcsfs': None}}\n",
      "None\n"
     ]
    }
   ],
   "source": [
    "pprint.pprint(pd.show_versions(as_json=True))"
   ]
  }
 ],
 "metadata": {
  "kernelspec": {
   "display_name": "Python 3",
   "language": "python",
   "name": "python3"
  },
  "language_info": {
   "codemirror_mode": {
    "name": "ipython",
    "version": 3
   },
   "file_extension": ".py",
   "mimetype": "text/x-python",
   "name": "python",
   "nbconvert_exporter": "python",
   "pygments_lexer": "ipython3",
   "version": "3.6.8"
  }
 },
 "nbformat": 4,
 "nbformat_minor": 2
}

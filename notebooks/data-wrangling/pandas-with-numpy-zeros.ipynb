{
 "cells": [
  {
   "cell_type": "raw",
   "metadata": {},
   "source": [
    "---\n",
    "title: \"Pandas with Numpy Zeros\"\n",
    "author: \"Rj\"\n",
    "date: 2019-04-20\n",
    "description: \"-\"\n",
    "type: technical_note\n",
    "draft: false\n",
    "---"
   ]
  },
  {
   "cell_type": "code",
   "execution_count": 3,
   "metadata": {},
   "outputs": [],
   "source": [
    "import numpy as np\n",
    "import pandas as pd"
   ]
  },
  {
   "cell_type": "code",
   "execution_count": 5,
   "metadata": {},
   "outputs": [],
   "source": [
    "dtype = [('Col1','int32'), ('Col2','float32'), ('Col3','float32')]\n",
    "values = np.zeros(20, dtype=dtype)\n",
    "index = ['Row'+str(i) for i in range(1, len(values)+1)]"
   ]
  },
  {
   "cell_type": "code",
   "execution_count": 7,
   "metadata": {},
   "outputs": [
    {
     "name": "stdout",
     "output_type": "stream",
     "text": [
      "       Col1  Col2  Col3\n",
      "Row1      0   0.0   0.0\n",
      "Row2      0   0.0   0.0\n",
      "Row3      0   0.0   0.0\n",
      "Row4      0   0.0   0.0\n",
      "Row5      0   0.0   0.0\n",
      "Row6      0   0.0   0.0\n",
      "Row7      0   0.0   0.0\n",
      "Row8      0   0.0   0.0\n",
      "Row9      0   0.0   0.0\n",
      "Row10     0   0.0   0.0\n",
      "Row11     0   0.0   0.0\n",
      "Row12     0   0.0   0.0\n",
      "Row13     0   0.0   0.0\n",
      "Row14     0   0.0   0.0\n",
      "Row15     0   0.0   0.0\n",
      "Row16     0   0.0   0.0\n",
      "Row17     0   0.0   0.0\n",
      "Row18     0   0.0   0.0\n",
      "Row19     0   0.0   0.0\n",
      "Row20     0   0.0   0.0\n"
     ]
    }
   ],
   "source": [
    "df = pd.DataFrame(values, index=index)\n",
    "print(df)"
   ]
  }
 ],
 "metadata": {
  "kernelspec": {
   "display_name": "Python 3",
   "language": "python",
   "name": "python3"
  },
  "language_info": {
   "codemirror_mode": {
    "name": "ipython",
    "version": 3
   },
   "file_extension": ".py",
   "mimetype": "text/x-python",
   "name": "python",
   "nbconvert_exporter": "python",
   "pygments_lexer": "ipython3",
   "version": "3.6.8"
  }
 },
 "nbformat": 4,
 "nbformat_minor": 2
}

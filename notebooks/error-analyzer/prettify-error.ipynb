{
 "cells": [
  {
   "cell_type": "code",
   "execution_count": null,
   "id": "95d3b830-49b1-4848-8798-301bd31b606f",
   "metadata": {},
   "outputs": [],
   "source": []
  },
  {
   "cell_type": "code",
   "execution_count": 1,
   "id": "5b83488b-bb44-4205-9980-7658617bc8f4",
   "metadata": {},
   "outputs": [],
   "source": [
    "error_string = \"\"\"\n",
    "{\n",
    "    \"error\": {\n",
    "        \"error_code\": 1002,\n",
    "        \"error_message\": \"Unspecified Error\",\n",
    "        \"details\": \"Unexpected error: ['Traceback (most recent call last):', '  File \\\"/home/rajaraman/rprojects/ml-api-work/ml-api-raja/services/mlapi/app/main.py\\\", line 228, in post_predict_classic_joblib_api', '    result_obj = await label_generator.match_with_multi(', '                 ^^^^^^^^^^^^^^^^^^^^^^^^^^^^^^^^^^^^^^^', '  File \\\"/home/rajaraman/rprojects/ml-api-work/ml-api-raja/services/mlapi/app/label_generator.py\\\", line 770, in match_with_multi', '    feature_scores, overall_score = get_match_scores(', '                                    ^^^^^^^^^^^^^^^^^', '  File \\\"/home/rajaraman/rprojects/ml-api-work/ml-api-raja/services/mlapi/app/label_generator.py\\\", line 559, in get_match_scores', '    overall_score = get_average_feature_score(', '                    ^^^^^^^^^^^^^^^^^^^^^^^^^^', '  File \\\"/home/rajaraman/rprojects/ml-api-work/ml-api-raja/services/mlapi/app/label_generator.py\\\", line 332, in get_average_feature_score', '    weighted_scores = get_feature_name_score_pair(', '                      ^^^^^^^^^^^^^^^^^^^^^^^^^^^^', '  File \\\"/home/rajaraman/rprojects/ml-api-work/ml-api-raja/services/mlapi/app/label_generator.py\\\", line 292, in get_feature_name_score_pair', '    if feature_prefix in individual_algo_feature_score_map.keys():', '       ^^^^^^^^^^^^^^', \\\"UnboundLocalError: cannot access local variable 'feature_prefix' where it is not associated with a value\\\"]\"\n",
    "    }\n",
    "}\n",
    "\"\"\""
   ]
  },
  {
   "cell_type": "code",
   "execution_count": 2,
   "id": "db5dbf20-7fc2-499b-9d50-edcb4d2251d7",
   "metadata": {},
   "outputs": [
    {
     "data": {
      "text/plain": [
       "'\\n{\\n    \"error\": {\\n        \"error_code\": 1002,\\n        \"error_message\": \"Unspecified Error\",\\n        \"details\": \"Unexpected error: [\\'Traceback (most recent call last):\\', \\'  File \"/home/rajaraman/rprojects/ml-api-work/ml-api-raja/services/mlapi/app/main.py\", line 228, in post_predict_classic_joblib_api\\', \\'    result_obj = await label_generator.match_with_multi(\\', \\'                 ^^^^^^^^^^^^^^^^^^^^^^^^^^^^^^^^^^^^^^^\\', \\'  File \"/home/rajaraman/rprojects/ml-api-work/ml-api-raja/services/mlapi/app/label_generator.py\", line 770, in match_with_multi\\', \\'    feature_scores, overall_score = get_match_scores(\\', \\'                                    ^^^^^^^^^^^^^^^^^\\', \\'  File \"/home/rajaraman/rprojects/ml-api-work/ml-api-raja/services/mlapi/app/label_generator.py\", line 559, in get_match_scores\\', \\'    overall_score = get_average_feature_score(\\', \\'                    ^^^^^^^^^^^^^^^^^^^^^^^^^^\\', \\'  File \"/home/rajaraman/rprojects/ml-api-work/ml-api-raja/services/mlapi/app/label_generator.py\", line 332, in get_average_feature_score\\', \\'    weighted_scores = get_feature_name_score_pair(\\', \\'                      ^^^^^^^^^^^^^^^^^^^^^^^^^^^^\\', \\'  File \"/home/rajaraman/rprojects/ml-api-work/ml-api-raja/services/mlapi/app/label_generator.py\", line 292, in get_feature_name_score_pair\\', \\'    if feature_prefix in individual_algo_feature_score_map.keys():\\', \\'       ^^^^^^^^^^^^^^\\', \"UnboundLocalError: cannot access local variable \\'feature_prefix\\' where it is not associated with a value\"]\"\\n    }\\n}\\n'"
      ]
     },
     "execution_count": 2,
     "metadata": {},
     "output_type": "execute_result"
    }
   ],
   "source": [
    "error_string"
   ]
  },
  {
   "cell_type": "code",
   "execution_count": 3,
   "id": "7f73e97f-f1de-44da-bc58-09949c315f63",
   "metadata": {},
   "outputs": [],
   "source": [
    "import json\n",
    "\n",
    "def prettify_error(error):\n",
    "    \"\"\"\n",
    "    Prettify the given error dictionary for better readability.\n",
    "    \"\"\"\n",
    "    try:\n",
    "        # Extract error details\n",
    "        error_code = error.get(\"error\", {}).get(\"error_code\", \"N/A\")\n",
    "        error_message = error.get(\"error\", {}).get(\"error_message\", \"N/A\")\n",
    "        details = error.get(\"error\", {}).get(\"details\", \"N/A\")\n",
    "\n",
    "        # Format traceback details (if present) into a structured list\n",
    "        if isinstance(details, str):\n",
    "            traceback_details = details.split(\"\\n\")\n",
    "        else:\n",
    "            traceback_details = details\n",
    "\n",
    "        # Construct the prettified error message\n",
    "        prettified_error = {\n",
    "            \"Error Code\": error_code,\n",
    "            \"Error Message\": error_message,\n",
    "            \"Traceback Details\": traceback_details\n",
    "        }\n",
    "\n",
    "        # Return prettified JSON output\n",
    "        return json.dumps(prettified_error, indent=4)\n",
    "    except Exception as e:\n",
    "        return f\"An error occurred while prettifying: {str(e)}\""
   ]
  },
  {
   "cell_type": "code",
   "execution_count": 4,
   "id": "ed94eeed-d554-45da-b2c2-9f330f40a925",
   "metadata": {},
   "outputs": [
    {
     "name": "stdout",
     "output_type": "stream",
     "text": [
      "An error occurred while prettifying: 'str' object has no attribute 'get'\n"
     ]
    }
   ],
   "source": [
    "# Call the prettify function\n",
    "prettified_output = prettify_error(error_string)\n",
    "print(prettified_output)"
   ]
  },
  {
   "cell_type": "code",
   "execution_count": null,
   "id": "c9fc17f6-ad96-4359-852c-18ae4371c8c5",
   "metadata": {},
   "outputs": [],
   "source": []
  },
  {
   "cell_type": "code",
   "execution_count": null,
   "id": "aada898b-46b1-4477-9b68-ad24e6a5709b",
   "metadata": {},
   "outputs": [],
   "source": []
  },
  {
   "cell_type": "code",
   "execution_count": 5,
   "id": "6413dc8d-a149-4676-a858-2f940cdaf1a8",
   "metadata": {},
   "outputs": [],
   "source": [
    "import json\n",
    "\n",
    "def prettify_error_from_string(error_string):\n",
    "    \"\"\"\n",
    "    Prettify the error message from a JSON string.\n",
    "    \"\"\"\n",
    "    try:\n",
    "        # Parse the string into a dictionary\n",
    "        error_dict = json.loads(error_string)\n",
    "        \n",
    "        # Extract error details\n",
    "        error_code = error_dict.get(\"error\", {}).get(\"error_code\", \"N/A\")\n",
    "        error_message = error_dict.get(\"error\", {}).get(\"error_message\", \"N/A\")\n",
    "        details = error_dict.get(\"error\", {}).get(\"details\", \"N/A\")\n",
    "\n",
    "        # Format traceback details (if present) into a structured list\n",
    "        if isinstance(details, str):\n",
    "            traceback_details = details.split(\"\\n\")\n",
    "        else:\n",
    "            traceback_details = details\n",
    "\n",
    "        # Construct the prettified error message\n",
    "        prettified_error = {\n",
    "            \"Error Code\": error_code,\n",
    "            \"Error Message\": error_message,\n",
    "            \"Traceback Details\": traceback_details\n",
    "        }\n",
    "\n",
    "        # Return prettified JSON output\n",
    "        return json.dumps(prettified_error, indent=4)\n",
    "    except json.JSONDecodeError as e:\n",
    "        return f\"Error decoding JSON: {str(e)}\"\n",
    "    except Exception as e:\n",
    "        return f\"An error occurred: {str(e)}\""
   ]
  },
  {
   "cell_type": "code",
   "execution_count": 6,
   "id": "492a5625-cc79-409d-8233-0e7f378ab3df",
   "metadata": {},
   "outputs": [
    {
     "name": "stdout",
     "output_type": "stream",
     "text": [
      "Error decoding JSON: Expecting ',' delimiter: line 6 column 87 (char 178)\n"
     ]
    }
   ],
   "source": [
    "# Call the prettify function with the error string\n",
    "prettified_output = prettify_error_from_string(error_string)\n",
    "print(prettified_output)"
   ]
  },
  {
   "cell_type": "code",
   "execution_count": null,
   "id": "16be169d-b980-46e8-94e6-42c4d1933bcd",
   "metadata": {},
   "outputs": [],
   "source": []
  },
  {
   "cell_type": "code",
   "execution_count": 7,
   "id": "90ffebc4-cddf-47b6-b4db-ad6d47db9ce8",
   "metadata": {},
   "outputs": [
    {
     "name": "stdout",
     "output_type": "stream",
     "text": [
      "Error decoding JSON: Expecting property name enclosed in double quotes: line 3 column 5 (char 7)\n"
     ]
    }
   ],
   "source": [
    "\n",
    "import json\n",
    "\n",
    "def fix_and_prettify_error(error_string):\n",
    "    \"\"\"\n",
    "    Fix the JSON string by escaping quotes and prettify the error message.\n",
    "    \"\"\"\n",
    "    try:\n",
    "        # Fix the error string by replacing unescaped quotes\n",
    "        fixed_error_string = error_string.replace('\"', '\\\\\"').replace('\\\\\"{', '{').replace('}\\\\\"', '}')\n",
    "\n",
    "        # Parse the fixed string into a Python dictionary\n",
    "        error_dict = json.loads(fixed_error_string)\n",
    "\n",
    "        # Extract error details\n",
    "        error_code = error_dict.get(\"error\", {}).get(\"error_code\", \"N/A\")\n",
    "        error_message = error_dict.get(\"error\", {}).get(\"error_message\", \"N/A\")\n",
    "        details = error_dict.get(\"error\", {}).get(\"details\", \"N/A\")\n",
    "\n",
    "        # Format traceback details (if present) into a structured list\n",
    "        if isinstance(details, str):\n",
    "            traceback_details = details.split(\"\\n\")\n",
    "        else:\n",
    "            traceback_details = details\n",
    "\n",
    "        # Construct the prettified error message\n",
    "        prettified_error = {\n",
    "            \"Error Code\": error_code,\n",
    "            \"Error Message\": error_message,\n",
    "            \"Traceback Details\": traceback_details\n",
    "        }\n",
    "\n",
    "        # Return prettified JSON output\n",
    "        return json.dumps(prettified_error, indent=4)\n",
    "    except json.JSONDecodeError as e:\n",
    "        return f\"Error decoding JSON: {str(e)}\"\n",
    "    except Exception as e:\n",
    "        return f\"An error occurred: {str(e)}\"\n",
    "\n",
    "# Fix and prettify the error string\n",
    "prettified_output = fix_and_prettify_error(error_string)\n",
    "print(prettified_output)\n"
   ]
  },
  {
   "cell_type": "code",
   "execution_count": null,
   "id": "726d6d5a-5f78-4e94-a143-630838608246",
   "metadata": {},
   "outputs": [],
   "source": []
  },
  {
   "cell_type": "code",
   "execution_count": null,
   "id": "a0ffdc16-efe2-45f5-95f2-42c287be8d35",
   "metadata": {},
   "outputs": [],
   "source": []
  },
  {
   "cell_type": "code",
   "execution_count": 8,
   "id": "9c730320-ad70-4795-89bc-acaa37b58f3f",
   "metadata": {},
   "outputs": [
    {
     "name": "stdout",
     "output_type": "stream",
     "text": [
      "Error decoding JSON: Expecting ',' delimiter: line 6 column 87 (char 178)\n"
     ]
    }
   ],
   "source": [
    "import json\n",
    "\n",
    "def prettify_error(error_string):\n",
    "    try:\n",
    "        # Parse the string into a dictionary\n",
    "        error_dict = json.loads(error_string)\n",
    "\n",
    "        # Extract error details\n",
    "        error_code = error_dict.get(\"error\", {}).get(\"error_code\", \"N/A\")\n",
    "        error_message = error_dict.get(\"error\", {}).get(\"error_message\", \"N/A\")\n",
    "        details = error_dict.get(\"error\", {}).get(\"details\", \"N/A\")\n",
    "\n",
    "        # Format traceback details (if present) into a structured list\n",
    "        if isinstance(details, str):\n",
    "            traceback_details = details.split(\"\\n\")\n",
    "        else:\n",
    "            traceback_details = details\n",
    "\n",
    "        # Construct the prettified error message\n",
    "        prettified_error = {\n",
    "            \"Error Code\": error_code,\n",
    "            \"Error Message\": error_message,\n",
    "            \"Traceback Details\": traceback_details\n",
    "        }\n",
    "\n",
    "        # Return prettified JSON output\n",
    "        return json.dumps(prettified_error, indent=4)\n",
    "    except json.JSONDecodeError as e:\n",
    "        return f\"Error decoding JSON: {str(e)}\"\n",
    "    except Exception as e:\n",
    "        return f\"An error occurred: {str(e)}\"\n",
    "\n",
    "# Call the prettify function\n",
    "prettified_output = prettify_error(error_string)\n",
    "print(prettified_output)\n"
   ]
  },
  {
   "cell_type": "code",
   "execution_count": null,
   "id": "a0405d6b-bb67-43b3-b155-51dd92e7f9f3",
   "metadata": {},
   "outputs": [],
   "source": []
  },
  {
   "cell_type": "code",
   "execution_count": null,
   "id": "052b6919-7c0d-455b-8aa9-7c8474663797",
   "metadata": {},
   "outputs": [],
   "source": []
  },
  {
   "cell_type": "code",
   "execution_count": 9,
   "id": "b3ce6ac2-023d-4f93-bc52-60dc20a57949",
   "metadata": {},
   "outputs": [
    {
     "name": "stdout",
     "output_type": "stream",
     "text": [
      "Error decoding JSON: Expecting ',' delimiter: line 6 column 41 (char 132)\n"
     ]
    }
   ],
   "source": [
    "import json\n",
    "import re\n",
    "\n",
    "def sanitize_and_prettify_error(error_string):\n",
    "    \"\"\"\n",
    "    Sanitize the input JSON string and prettify the error message.\n",
    "    \"\"\"\n",
    "    try:\n",
    "        # Use regex to replace single quotes inside the 'details' field with double quotes\n",
    "        sanitized_string = re.sub(\n",
    "            r\"(')(?:(?=(\\\\?))\\2.)*?\\1\",  # Match strings wrapped in single quotes\n",
    "            lambda match: f'\"{match.group(0)[1:-1]}\"',  # Replace single quotes with double quotes\n",
    "            error_string\n",
    "        )\n",
    "\n",
    "        # Parse the sanitized string into a Python dictionary\n",
    "        error_dict = json.loads(sanitized_string)\n",
    "\n",
    "        # Extract error details\n",
    "        error_code = error_dict[\"error\"].get(\"error_code\", \"N/A\")\n",
    "        error_message = error_dict[\"error\"].get(\"error_message\", \"N/A\")\n",
    "        details = error_dict[\"error\"].get(\"details\", \"N/A\")\n",
    "\n",
    "        # Split traceback details if it's a string\n",
    "        if isinstance(details, str):\n",
    "            traceback_details = details.split(\", \")\n",
    "        else:\n",
    "            traceback_details = details\n",
    "\n",
    "        # Construct prettified output\n",
    "        prettified_error = {\n",
    "            \"Error Code\": error_code,\n",
    "            \"Error Message\": error_message,\n",
    "            \"Traceback Details\": traceback_details\n",
    "        }\n",
    "\n",
    "        # Return the prettified JSON\n",
    "        return json.dumps(prettified_error, indent=4)\n",
    "    except json.JSONDecodeError as e:\n",
    "        return f\"Error decoding JSON: {str(e)}\"\n",
    "    except Exception as e:\n",
    "        return f\"An error occurred: {str(e)}\"\n",
    "\n",
    "# Call the function with the given error_string\n",
    "prettified_output = sanitize_and_prettify_error(error_string)\n",
    "print(prettified_output)\n"
   ]
  },
  {
   "cell_type": "code",
   "execution_count": null,
   "id": "d1d6fd3d-0ce9-4de3-8b17-8a7c75b8da5c",
   "metadata": {},
   "outputs": [],
   "source": []
  },
  {
   "cell_type": "code",
   "execution_count": null,
   "id": "09a5a864-83e1-4883-a26e-77bebd98295a",
   "metadata": {},
   "outputs": [],
   "source": []
  },
  {
   "cell_type": "code",
   "execution_count": 11,
   "id": "77d838f9-ca51-47e7-83ff-fb14a3f20fe3",
   "metadata": {},
   "outputs": [
    {
     "name": "stdout",
     "output_type": "stream",
     "text": [
      "Error decoding JSON: Expecting ',' delimiter: line 6 column 41 (char 132)\n"
     ]
    }
   ],
   "source": [
    "import json\n",
    "import re\n",
    "\n",
    "def sanitize_and_prettify_error(error_string):\n",
    "    \"\"\"\n",
    "    Sanitize and parse a malformed JSON string, then prettify the output.\n",
    "    \"\"\"\n",
    "    try:\n",
    "        # Fix the single quotes in JSON-like fields with regex\n",
    "        sanitized_string = re.sub(\n",
    "            r\"(?<!\\\\)'\",  # Match single quotes not preceded by a backslash\n",
    "            '\"',  # Replace with double quotes\n",
    "            error_string\n",
    "        )\n",
    "\n",
    "        # Parse the fixed string into a Python dictionary\n",
    "        error_dict = json.loads(sanitized_string)\n",
    "\n",
    "        # Extract error details\n",
    "        error_code = error_dict.get(\"error\", {}).get(\"error_code\", \"N/A\")\n",
    "        error_message = error_dict.get(\"error\", {}).get(\"error_message\", \"N/A\")\n",
    "        details = error_dict.get(\"error\", {}).get(\"details\", \"N/A\")\n",
    "\n",
    "        # Split traceback details if it's a string\n",
    "        if isinstance(details, str):\n",
    "            traceback_details = details.split(\", \")\n",
    "        else:\n",
    "            traceback_details = details\n",
    "\n",
    "        # Construct a prettified dictionary\n",
    "        prettified_error = {\n",
    "            \"Error Code\": error_code,\n",
    "            \"Error Message\": error_message,\n",
    "            \"Traceback Details\": traceback_details\n",
    "        }\n",
    "\n",
    "        # Return prettified JSON\n",
    "        return json.dumps(prettified_error, indent=4)\n",
    "    except json.JSONDecodeError as e:\n",
    "        return f\"Error decoding JSON: {str(e)}\"\n",
    "    except Exception as e:\n",
    "        return f\"An error occurred: {str(e)}\"\n",
    "\n",
    "# Input string\n",
    "error_string = \"\"\"\n",
    "{\n",
    "    \"error\": {\n",
    "        \"error_code\": 1002,\n",
    "        \"error_message\": \"Unspecified Error\",\n",
    "        \"details\": \"Unexpected error: ['Traceback (most recent call last):', '  File \\\"/home/rajaraman/rprojects/ml-api-work/ml-api-raja/services/mlapi/app/main.py\\\", line 228, in post_predict_classic_joblib_api', '    result_obj = await label_generator.match_with_multi(', '                 ^^^^^^^^^^^^^^^^^^^^^^^^^^^^^^^^^^^^^^^', '  File \\\"/home/rajaraman/rprojects/ml-api-work/ml-api-raja/services/mlapi/app/label_generator.py\\\", line 770, in match_with_multi', '    feature_scores, overall_score = get_match_scores(', '                                    ^^^^^^^^^^^^^^^^^', '  File \\\"/home/rajaraman/rprojects/ml-api-work/ml-api-raja/services/mlapi/app/label_generator.py\\\", line 559, in get_match_scores', '    overall_score = get_average_feature_score(', '                    ^^^^^^^^^^^^^^^^^^^^^^^^^^', '  File \\\"/home/rajaraman/rprojects/ml-api-work/ml-api-raja/services/mlapi/app/label_generator.py\\\", line 332, in get_average_feature_score', '    weighted_scores = get_feature_name_score_pair(', '                      ^^^^^^^^^^^^^^^^^^^^^^^^^^^^', '  File \\\"/home/rajaraman/rprojects/ml-api-work/ml-api-raja/services/mlapi/app/label_generator.py\\\", line 292, in get_feature_name_score_pair', '    if feature_prefix in individual_algo_feature_score_map.keys():', '       ^^^^^^^^^^^^^^', \\\"UnboundLocalError: cannot access local variable 'feature_prefix' where it is not associated with a value\\\"]\"\n",
    "    }\n",
    "}\n",
    "\"\"\"\n",
    "\n",
    "# Prettify and sanitize the error string\n",
    "prettified_output = sanitize_and_prettify_error(error_string)\n",
    "print(prettified_output)"
   ]
  },
  {
   "cell_type": "code",
   "execution_count": null,
   "id": "7d630d52-4607-495a-ae66-864bd701d2ab",
   "metadata": {},
   "outputs": [],
   "source": []
  }
 ],
 "metadata": {
  "kernelspec": {
   "display_name": "Python 3 (ipykernel)",
   "language": "python",
   "name": "python3"
  },
  "language_info": {
   "codemirror_mode": {
    "name": "ipython",
    "version": 3
   },
   "file_extension": ".py",
   "mimetype": "text/x-python",
   "name": "python",
   "nbconvert_exporter": "python",
   "pygments_lexer": "ipython3",
   "version": "3.12.7"
  }
 },
 "nbformat": 4,
 "nbformat_minor": 5
}

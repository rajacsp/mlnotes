{
 "cells": [
  {
   "cell_type": "code",
   "execution_count": null,
   "id": "eec5d2ec-8ee9-443b-b0a0-58fd1d850d93",
   "metadata": {},
   "outputs": [],
   "source": []
  },
  {
   "cell_type": "code",
   "execution_count": 1,
   "id": "d9e155a8-9d0a-40bf-b0e9-fb839c456103",
   "metadata": {},
   "outputs": [
    {
     "name": "stdout",
     "output_type": "stream",
     "text": [
      "Encoded: Z0n800VU\n"
     ]
    },
    {
     "ename": "ValueError",
     "evalue": "Decoded value does not match the original GUID.",
     "output_type": "error",
     "traceback": [
      "\u001b[0;31m---------------------------------------------------------------------------\u001b[0m",
      "\u001b[0;31mValueError\u001b[0m                                Traceback (most recent call last)",
      "Cell \u001b[0;32mIn[1], line 33\u001b[0m\n\u001b[1;32m     30\u001b[0m encoded \u001b[38;5;241m=\u001b[39m encode_to_8_characters(guid)\n\u001b[1;32m     31\u001b[0m \u001b[38;5;28mprint\u001b[39m(\u001b[38;5;124m\"\u001b[39m\u001b[38;5;124mEncoded:\u001b[39m\u001b[38;5;124m\"\u001b[39m, encoded)\n\u001b[0;32m---> 33\u001b[0m decoded \u001b[38;5;241m=\u001b[39m \u001b[43mdecode_from_8_characters\u001b[49m\u001b[43m(\u001b[49m\u001b[43mencoded\u001b[49m\u001b[43m,\u001b[49m\u001b[43m \u001b[49m\u001b[43mguid\u001b[49m\u001b[43m)\u001b[49m\n\u001b[1;32m     34\u001b[0m \u001b[38;5;28mprint\u001b[39m(\u001b[38;5;124m\"\u001b[39m\u001b[38;5;124mDecoded:\u001b[39m\u001b[38;5;124m\"\u001b[39m, decoded)\n",
      "Cell \u001b[0;32mIn[1], line 26\u001b[0m, in \u001b[0;36mdecode_from_8_characters\u001b[0;34m(encoded, original_guid)\u001b[0m\n\u001b[1;32m     24\u001b[0m     \u001b[38;5;28;01mreturn\u001b[39;00m \u001b[38;5;28mstr\u001b[39m(uuid\u001b[38;5;241m.\u001b[39mUUID(\u001b[38;5;28mbytes\u001b[39m\u001b[38;5;241m=\u001b[39mdecoded_bytes))\n\u001b[1;32m     25\u001b[0m \u001b[38;5;28;01melse\u001b[39;00m:\n\u001b[0;32m---> 26\u001b[0m     \u001b[38;5;28;01mraise\u001b[39;00m \u001b[38;5;167;01mValueError\u001b[39;00m(\u001b[38;5;124m\"\u001b[39m\u001b[38;5;124mDecoded value does not match the original GUID.\u001b[39m\u001b[38;5;124m\"\u001b[39m)\n",
      "\u001b[0;31mValueError\u001b[0m: Decoded value does not match the original GUID."
     ]
    }
   ],
   "source": [
    "import uuid\n",
    "import base64\n",
    "\n",
    "def encode_to_8_characters(guid: str) -> str:\n",
    "    \"\"\"\n",
    "    Encode a GUID into an 8-character string.\n",
    "    \"\"\"\n",
    "    # Convert GUID to bytes\n",
    "    guid_bytes = uuid.UUID(guid).bytes\n",
    "    # Encode to base64 and take the first 8 characters\n",
    "    encoded = base64.urlsafe_b64encode(guid_bytes).decode('utf-8')[:8]\n",
    "    return encoded\n",
    "\n",
    "def decode_from_8_characters(encoded: str, original_guid: str) -> str:\n",
    "    \"\"\"\n",
    "    Decode the 8-character string back to the original GUID.\n",
    "    \"\"\"\n",
    "    # Convert the original GUID to bytes (needed for verification)\n",
    "    original_bytes = uuid.UUID(original_guid).bytes\n",
    "    # Decode back from base64 (with padding)\n",
    "    decoded_bytes = base64.urlsafe_b64decode(encoded + '=='[:len(encoded) % 4])\n",
    "    # Verify and return the original GUID\n",
    "    if decoded_bytes == original_bytes:\n",
    "        return str(uuid.UUID(bytes=decoded_bytes))\n",
    "    else:\n",
    "        raise ValueError(\"Decoded value does not match the original GUID.\")\n",
    "\n",
    "# Example usage\n",
    "guid = \"6749fcd3-4554-800f-b668-b3cdbb5c89ea\"\n",
    "encoded = encode_to_8_characters(guid)\n",
    "print(\"Encoded:\", encoded)\n",
    "\n",
    "decoded = decode_from_8_characters(encoded, guid)\n",
    "print(\"Decoded:\", decoded)"
   ]
  },
  {
   "cell_type": "code",
   "execution_count": null,
   "id": "83be982a-d91d-4603-a13d-f7bb4eb979e2",
   "metadata": {},
   "outputs": [],
   "source": []
  },
  {
   "cell_type": "code",
   "execution_count": 2,
   "id": "7a5dd8c5-43e8-42ad-92b4-f484426b0809",
   "metadata": {},
   "outputs": [
    {
     "name": "stdout",
     "output_type": "stream",
     "text": [
      "Encoded: dda39475\n",
      "Decoded: 6749fcd3-4554-800f-b668-b3cdbb5c89ea\n"
     ]
    }
   ],
   "source": [
    "import uuid\n",
    "import hashlib\n",
    "\n",
    "def encode_to_8_characters(guid: str) -> str:\n",
    "    \"\"\"\n",
    "    Encode a GUID into an 8-character string using a hash function.\n",
    "    \"\"\"\n",
    "    # Create a hash of the GUID\n",
    "    hashed = hashlib.sha256(guid.encode()).hexdigest()\n",
    "    # Use the first 8 characters of the hash as the encoded string\n",
    "    return hashed[:8]\n",
    "\n",
    "def decode_with_lookup(encoded: str, lookup: dict) -> str:\n",
    "    \"\"\"\n",
    "    Decode the 8-character string back to the original GUID using a lookup table.\n",
    "    \"\"\"\n",
    "    if encoded in lookup:\n",
    "        return lookup[encoded]\n",
    "    else:\n",
    "        raise ValueError(\"Encoded value not found in the lookup table.\")\n",
    "\n",
    "# Example usage\n",
    "guid = \"6749fcd3-4554-800f-b668-b3cdbb5c89ea\"\n",
    "\n",
    "# Create a lookup table for the encoding\n",
    "lookup_table = {}\n",
    "\n",
    "# Encode the GUID\n",
    "encoded = encode_to_8_characters(guid)\n",
    "lookup_table[encoded] = guid\n",
    "print(\"Encoded:\", encoded)\n",
    "\n",
    "# Decode the GUID using the lookup table\n",
    "decoded = decode_with_lookup(encoded, lookup_table)\n",
    "print(\"Decoded:\", decoded)"
   ]
  },
  {
   "cell_type": "code",
   "execution_count": null,
   "id": "cb7a0f7d-08a3-45fe-81aa-cb735067932c",
   "metadata": {},
   "outputs": [],
   "source": []
  }
 ],
 "metadata": {
  "kernelspec": {
   "display_name": "Python 3 (ipykernel)",
   "language": "python",
   "name": "python3"
  },
  "language_info": {
   "codemirror_mode": {
    "name": "ipython",
    "version": 3
   },
   "file_extension": ".py",
   "mimetype": "text/x-python",
   "name": "python",
   "nbconvert_exporter": "python",
   "pygments_lexer": "ipython3",
   "version": "3.12.7"
  }
 },
 "nbformat": 4,
 "nbformat_minor": 5
}

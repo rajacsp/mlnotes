{
 "cells": [
  {
   "cell_type": "raw",
   "metadata": {},
   "source": [
    "---\n",
    "title: \"Text Classification - Naive Bayes - Product Summary\"\n",
    "author: \"Rj\"\n",
    "date: 2019-04-21\n",
    "description: \"-\"\n",
    "type: technical_note\n",
    "draft: false\n",
    "---"
   ]
  },
  {
   "cell_type": "code",
   "execution_count": 2,
   "metadata": {},
   "outputs": [],
   "source": [
    "# Disclaimer: some code copied form this https://towardsdatascience.com/multi-class-text-classification-model-comparison-and-selection-5eb066197568"
   ]
  },
  {
   "cell_type": "code",
   "execution_count": 3,
   "metadata": {},
   "outputs": [],
   "source": [
    "import logging\n",
    "import pandas as pd\n",
    "import numpy as np\n",
    "from numpy import random\n",
    "import gensim\n",
    "import nltk\n",
    "from sklearn.model_selection import train_test_split\n",
    "from sklearn.feature_extraction.text import CountVectorizer, TfidfVectorizer"
   ]
  },
  {
   "cell_type": "code",
   "execution_count": 4,
   "metadata": {},
   "outputs": [],
   "source": [
    "from sklearn.metrics import accuracy_score, confusion_matrix\n",
    "import matplotlib.pyplot as plt\n",
    "from nltk.corpus import stopwords\n",
    "import re\n",
    "from bs4 import BeautifulSoup\n",
    "from io import BytesIO\n",
    "import requests"
   ]
  },
  {
   "cell_type": "markdown",
   "metadata": {},
   "source": [
    "%matplotlib inline"
   ]
  },
  {
   "cell_type": "code",
   "execution_count": 12,
   "metadata": {},
   "outputs": [],
   "source": [
    "filename = 'https://docs.google.com/spreadsheet/ccc?key=1sN_OwRH8evSuMjjpjUJTonuJ3vKWC5iZj8yiEAF728k&output=csv'\n",
    "\n",
    "r = requests.get(filename)\n",
    "data = r.content"
   ]
  },
  {
   "cell_type": "code",
   "execution_count": 13,
   "metadata": {},
   "outputs": [],
   "source": [
    "df = pd.read_csv(BytesIO(data))"
   ]
  },
  {
   "cell_type": "code",
   "execution_count": 14,
   "metadata": {},
   "outputs": [
    {
     "data": {
      "text/html": [
       "<div>\n",
       "<style scoped>\n",
       "    .dataframe tbody tr th:only-of-type {\n",
       "        vertical-align: middle;\n",
       "    }\n",
       "\n",
       "    .dataframe tbody tr th {\n",
       "        vertical-align: top;\n",
       "    }\n",
       "\n",
       "    .dataframe thead th {\n",
       "        text-align: right;\n",
       "    }\n",
       "</style>\n",
       "<table border=\"1\" class=\"dataframe\">\n",
       "  <thead>\n",
       "    <tr style=\"text-align: right;\">\n",
       "      <th></th>\n",
       "      <th>link</th>\n",
       "      <th>title</th>\n",
       "      <th>summary</th>\n",
       "      <th>category</th>\n",
       "    </tr>\n",
       "  </thead>\n",
       "  <tbody>\n",
       "    <tr>\n",
       "      <th>0</th>\n",
       "      <td>https://www.walmart.ca/en/ip/seiki-50-class-4k...</td>\n",
       "      <td>NaN</td>\n",
       "      <td>Introducing the Seiki 50 Inch ULTRA HD (2160P)...</td>\n",
       "      <td>electronics</td>\n",
       "    </tr>\n",
       "    <tr>\n",
       "      <th>1</th>\n",
       "      <td>https://www.walmart.ca/en/ip/sharp-60-class-4k...</td>\n",
       "      <td>NaN</td>\n",
       "      <td>Enjoy Ultra HD entertainment on a amazing look...</td>\n",
       "      <td>electronics</td>\n",
       "    </tr>\n",
       "    <tr>\n",
       "      <th>2</th>\n",
       "      <td>https://www.walmart.ca/en/ip/rca-24-led-hd-tv/...</td>\n",
       "      <td>NaN</td>\n",
       "      <td>The RCA 24\" 720p Class 60Hz LED D TV features ...</td>\n",
       "      <td>electronics</td>\n",
       "    </tr>\n",
       "    <tr>\n",
       "      <th>3</th>\n",
       "      <td>https://www.walmart.ca/en/ip/rca-32-tvdvd-comb...</td>\n",
       "      <td>NaN</td>\n",
       "      <td>The RCA 32\" ultra-slim 720p 60HZ LED-LCD HDTV ...</td>\n",
       "      <td>electronics</td>\n",
       "    </tr>\n",
       "    <tr>\n",
       "      <th>4</th>\n",
       "      <td>https://www.walmart.ca/en/ip/rca-65-4k-ultra-h...</td>\n",
       "      <td>NaN</td>\n",
       "      <td>With the RTUC6520 Curved TV, enjoy 4K Ultra HD...</td>\n",
       "      <td>electronics</td>\n",
       "    </tr>\n",
       "  </tbody>\n",
       "</table>\n",
       "</div>"
      ],
      "text/plain": [
       "                                                link  title  \\\n",
       "0  https://www.walmart.ca/en/ip/seiki-50-class-4k...    NaN   \n",
       "1  https://www.walmart.ca/en/ip/sharp-60-class-4k...    NaN   \n",
       "2  https://www.walmart.ca/en/ip/rca-24-led-hd-tv/...    NaN   \n",
       "3  https://www.walmart.ca/en/ip/rca-32-tvdvd-comb...    NaN   \n",
       "4  https://www.walmart.ca/en/ip/rca-65-4k-ultra-h...    NaN   \n",
       "\n",
       "                                             summary     category  \n",
       "0  Introducing the Seiki 50 Inch ULTRA HD (2160P)...  electronics  \n",
       "1  Enjoy Ultra HD entertainment on a amazing look...  electronics  \n",
       "2  The RCA 24\" 720p Class 60Hz LED D TV features ...  electronics  \n",
       "3  The RCA 32\" ultra-slim 720p 60HZ LED-LCD HDTV ...  electronics  \n",
       "4  With the RTUC6520 Curved TV, enjoy 4K Ultra HD...  electronics  "
      ]
     },
     "execution_count": 14,
     "metadata": {},
     "output_type": "execute_result"
    }
   ],
   "source": [
    "df.head()"
   ]
  },
  {
   "cell_type": "code",
   "execution_count": 15,
   "metadata": {},
   "outputs": [],
   "source": [
    "# remove not null\n",
    "\n",
    "df = df[pd.notnull(df['category'])]"
   ]
  },
  {
   "cell_type": "code",
   "execution_count": 16,
   "metadata": {},
   "outputs": [
    {
     "data": {
      "text/html": [
       "<div>\n",
       "<style scoped>\n",
       "    .dataframe tbody tr th:only-of-type {\n",
       "        vertical-align: middle;\n",
       "    }\n",
       "\n",
       "    .dataframe tbody tr th {\n",
       "        vertical-align: top;\n",
       "    }\n",
       "\n",
       "    .dataframe thead th {\n",
       "        text-align: right;\n",
       "    }\n",
       "</style>\n",
       "<table border=\"1\" class=\"dataframe\">\n",
       "  <thead>\n",
       "    <tr style=\"text-align: right;\">\n",
       "      <th></th>\n",
       "      <th>title</th>\n",
       "    </tr>\n",
       "  </thead>\n",
       "  <tbody>\n",
       "    <tr>\n",
       "      <th>count</th>\n",
       "      <td>0.0</td>\n",
       "    </tr>\n",
       "    <tr>\n",
       "      <th>mean</th>\n",
       "      <td>NaN</td>\n",
       "    </tr>\n",
       "    <tr>\n",
       "      <th>std</th>\n",
       "      <td>NaN</td>\n",
       "    </tr>\n",
       "    <tr>\n",
       "      <th>min</th>\n",
       "      <td>NaN</td>\n",
       "    </tr>\n",
       "    <tr>\n",
       "      <th>25%</th>\n",
       "      <td>NaN</td>\n",
       "    </tr>\n",
       "    <tr>\n",
       "      <th>50%</th>\n",
       "      <td>NaN</td>\n",
       "    </tr>\n",
       "    <tr>\n",
       "      <th>75%</th>\n",
       "      <td>NaN</td>\n",
       "    </tr>\n",
       "    <tr>\n",
       "      <th>max</th>\n",
       "      <td>NaN</td>\n",
       "    </tr>\n",
       "  </tbody>\n",
       "</table>\n",
       "</div>"
      ],
      "text/plain": [
       "       title\n",
       "count    0.0\n",
       "mean     NaN\n",
       "std      NaN\n",
       "min      NaN\n",
       "25%      NaN\n",
       "50%      NaN\n",
       "75%      NaN\n",
       "max      NaN"
      ]
     },
     "execution_count": 16,
     "metadata": {},
     "output_type": "execute_result"
    }
   ],
   "source": [
    "df.describe()"
   ]
  },
  {
   "cell_type": "code",
   "execution_count": 17,
   "metadata": {},
   "outputs": [
    {
     "data": {
      "text/plain": [
       "(19, 4)"
      ]
     },
     "execution_count": 17,
     "metadata": {},
     "output_type": "execute_result"
    }
   ],
   "source": [
    "df.shape"
   ]
  },
  {
   "cell_type": "code",
   "execution_count": 18,
   "metadata": {},
   "outputs": [
    {
     "data": {
      "text/html": [
       "<div>\n",
       "<style scoped>\n",
       "    .dataframe tbody tr th:only-of-type {\n",
       "        vertical-align: middle;\n",
       "    }\n",
       "\n",
       "    .dataframe tbody tr th {\n",
       "        vertical-align: top;\n",
       "    }\n",
       "\n",
       "    .dataframe thead th {\n",
       "        text-align: right;\n",
       "    }\n",
       "</style>\n",
       "<table border=\"1\" class=\"dataframe\">\n",
       "  <thead>\n",
       "    <tr style=\"text-align: right;\">\n",
       "      <th></th>\n",
       "      <th>link</th>\n",
       "      <th>title</th>\n",
       "      <th>summary</th>\n",
       "      <th>category</th>\n",
       "    </tr>\n",
       "  </thead>\n",
       "  <tbody>\n",
       "    <tr>\n",
       "      <th>0</th>\n",
       "      <td>https://www.walmart.ca/en/ip/seiki-50-class-4k...</td>\n",
       "      <td>NaN</td>\n",
       "      <td>Introducing the Seiki 50 Inch ULTRA HD (2160P)...</td>\n",
       "      <td>electronics</td>\n",
       "    </tr>\n",
       "    <tr>\n",
       "      <th>1</th>\n",
       "      <td>https://www.walmart.ca/en/ip/sharp-60-class-4k...</td>\n",
       "      <td>NaN</td>\n",
       "      <td>Enjoy Ultra HD entertainment on a amazing look...</td>\n",
       "      <td>electronics</td>\n",
       "    </tr>\n",
       "    <tr>\n",
       "      <th>2</th>\n",
       "      <td>https://www.walmart.ca/en/ip/rca-24-led-hd-tv/...</td>\n",
       "      <td>NaN</td>\n",
       "      <td>The RCA 24\" 720p Class 60Hz LED D TV features ...</td>\n",
       "      <td>electronics</td>\n",
       "    </tr>\n",
       "    <tr>\n",
       "      <th>3</th>\n",
       "      <td>https://www.walmart.ca/en/ip/rca-32-tvdvd-comb...</td>\n",
       "      <td>NaN</td>\n",
       "      <td>The RCA 32\" ultra-slim 720p 60HZ LED-LCD HDTV ...</td>\n",
       "      <td>electronics</td>\n",
       "    </tr>\n",
       "    <tr>\n",
       "      <th>4</th>\n",
       "      <td>https://www.walmart.ca/en/ip/rca-65-4k-ultra-h...</td>\n",
       "      <td>NaN</td>\n",
       "      <td>With the RTUC6520 Curved TV, enjoy 4K Ultra HD...</td>\n",
       "      <td>electronics</td>\n",
       "    </tr>\n",
       "    <tr>\n",
       "      <th>5</th>\n",
       "      <td>https://www.walmart.ca/en/ip/movelo-algonquin-...</td>\n",
       "      <td>NaN</td>\n",
       "      <td>\\nMetallic purple with sky blue streaks, the M...</td>\n",
       "      <td>bikes</td>\n",
       "    </tr>\n",
       "    <tr>\n",
       "      <th>6</th>\n",
       "      <td>https://www.walmart.ca/en/ip/movelo-algonquin-...</td>\n",
       "      <td>NaN</td>\n",
       "      <td>\\nSix speeds, hand brakes and a metallic blue ...</td>\n",
       "      <td>bikes</td>\n",
       "    </tr>\n",
       "    <tr>\n",
       "      <th>7</th>\n",
       "      <td>https://www.walmart.ca/en/ip/movelo-algonquin-...</td>\n",
       "      <td>NaN</td>\n",
       "      <td>Six speeds, hand brakes and a striking blue ap...</td>\n",
       "      <td>bikes</td>\n",
       "    </tr>\n",
       "    <tr>\n",
       "      <th>8</th>\n",
       "      <td>https://www.walmart.ca/en/ip/275-hyper-bicycle...</td>\n",
       "      <td>NaN</td>\n",
       "      <td>Popular for trails and casual riding; full sus...</td>\n",
       "      <td>bikes</td>\n",
       "    </tr>\n",
       "    <tr>\n",
       "      <th>9</th>\n",
       "      <td>https://www.walmart.ca/en/ip/26-hyper-bicycles...</td>\n",
       "      <td>NaN</td>\n",
       "      <td>Popular for trails and casual riding; full sus...</td>\n",
       "      <td>bikes</td>\n",
       "    </tr>\n",
       "  </tbody>\n",
       "</table>\n",
       "</div>"
      ],
      "text/plain": [
       "                                                link  title  \\\n",
       "0  https://www.walmart.ca/en/ip/seiki-50-class-4k...    NaN   \n",
       "1  https://www.walmart.ca/en/ip/sharp-60-class-4k...    NaN   \n",
       "2  https://www.walmart.ca/en/ip/rca-24-led-hd-tv/...    NaN   \n",
       "3  https://www.walmart.ca/en/ip/rca-32-tvdvd-comb...    NaN   \n",
       "4  https://www.walmart.ca/en/ip/rca-65-4k-ultra-h...    NaN   \n",
       "5  https://www.walmart.ca/en/ip/movelo-algonquin-...    NaN   \n",
       "6  https://www.walmart.ca/en/ip/movelo-algonquin-...    NaN   \n",
       "7  https://www.walmart.ca/en/ip/movelo-algonquin-...    NaN   \n",
       "8  https://www.walmart.ca/en/ip/275-hyper-bicycle...    NaN   \n",
       "9  https://www.walmart.ca/en/ip/26-hyper-bicycles...    NaN   \n",
       "\n",
       "                                             summary     category  \n",
       "0  Introducing the Seiki 50 Inch ULTRA HD (2160P)...  electronics  \n",
       "1  Enjoy Ultra HD entertainment on a amazing look...  electronics  \n",
       "2  The RCA 24\" 720p Class 60Hz LED D TV features ...  electronics  \n",
       "3  The RCA 32\" ultra-slim 720p 60HZ LED-LCD HDTV ...  electronics  \n",
       "4  With the RTUC6520 Curved TV, enjoy 4K Ultra HD...  electronics  \n",
       "5  \\nMetallic purple with sky blue streaks, the M...        bikes  \n",
       "6  \\nSix speeds, hand brakes and a metallic blue ...        bikes  \n",
       "7  Six speeds, hand brakes and a striking blue ap...        bikes  \n",
       "8  Popular for trails and casual riding; full sus...        bikes  \n",
       "9  Popular for trails and casual riding; full sus...        bikes  "
      ]
     },
     "execution_count": 18,
     "metadata": {},
     "output_type": "execute_result"
    }
   ],
   "source": [
    "# Count words\n",
    "\n",
    "df.head(10)"
   ]
  },
  {
   "cell_type": "code",
   "execution_count": 19,
   "metadata": {},
   "outputs": [
    {
     "data": {
      "text/plain": [
       "0     Introducing the Seiki 50 Inch ULTRA HD (2160P)...\n",
       "1     Enjoy Ultra HD entertainment on a amazing look...\n",
       "2     The RCA 24\" 720p Class 60Hz LED D TV features ...\n",
       "3     The RCA 32\" ultra-slim 720p 60HZ LED-LCD HDTV ...\n",
       "4     With the RTUC6520 Curved TV, enjoy 4K Ultra HD...\n",
       "5     \\nMetallic purple with sky blue streaks, the M...\n",
       "6     \\nSix speeds, hand brakes and a metallic blue ...\n",
       "7     Six speeds, hand brakes and a striking blue ap...\n",
       "8     Popular for trails and casual riding; full sus...\n",
       "9     Popular for trails and casual riding; full sus...\n",
       "10    Two striking colors, metallic blue and hot pin...\n",
       "11    Midnight blue with scarlet red streaks, the 26...\n",
       "12    The steel gray steel frame and the acid green ...\n",
       "13    Help the LEGO® City farmer manage his crops wi...\n",
       "14    \\nEnter the Dragon Pit with throne, gate-openi...\n",
       "15    Travel with Han Solo, Chewbacca and their frie...\n",
       "16    Evade the HunterCopter’s stud shooters and Ven...\n",
       "17    Fly a sleek interceptor with LEGO® Star Wars A...\n",
       "18    Display and role-play with this majestic meter...\n",
       "Name: summary, dtype: object"
      ]
     },
     "execution_count": 19,
     "metadata": {},
     "output_type": "execute_result"
    }
   ],
   "source": [
    "df = df[pd.notnull(df['summary'])]\n",
    "\n",
    "\n",
    "df['summary']\n"
   ]
  },
  {
   "cell_type": "code",
   "execution_count": 20,
   "metadata": {},
   "outputs": [
    {
     "data": {
      "text/plain": [
       "3041"
      ]
     },
     "execution_count": 20,
     "metadata": {},
     "output_type": "execute_result"
    }
   ],
   "source": [
    "# count words\n",
    "df['summary'].apply ( lambda x: len(x.split(' ')) ).sum()"
   ]
  },
  {
   "cell_type": "code",
   "execution_count": 21,
   "metadata": {},
   "outputs": [],
   "source": [
    "REPLACE_BY_SPACE_RE = re.compile('[/(){}\\[\\]\\|@,;]')\n",
    "BAD_SYMBOLS_RE = re.compile('[^0-9a-z #+_]')\n",
    "STOPWORDS = set(stopwords.words('english'))\n",
    "\n",
    "def clean_text(text):\n",
    "    \"\"\"\n",
    "        text: a string\n",
    "        \n",
    "        return: modified initial string\n",
    "    \"\"\"\n",
    "    text = BeautifulSoup(text, \"lxml\").text # HTML decoding\n",
    "    text = text.lower() # lowercase text\n",
    "    text = REPLACE_BY_SPACE_RE.sub(' ', text) # replace REPLACE_BY_SPACE_RE symbols by space in text\n",
    "    text = BAD_SYMBOLS_RE.sub('', text) # delete symbols which are in BAD_SYMBOLS_RE from text\n",
    "    text = ' '.join(word for word in text.split() if word not in STOPWORDS) # delete stopwors from text\n",
    "    return text"
   ]
  },
  {
   "cell_type": "code",
   "execution_count": 22,
   "metadata": {},
   "outputs": [],
   "source": [
    "df['summary'] = df['summary'].apply(clean_text)"
   ]
  },
  {
   "cell_type": "code",
   "execution_count": 23,
   "metadata": {},
   "outputs": [
    {
     "data": {
      "text/plain": [
       "2333"
      ]
     },
     "execution_count": 23,
     "metadata": {},
     "output_type": "execute_result"
    }
   ],
   "source": [
    "# Check the words count again\n",
    "\n",
    "df['summary'].apply ( lambda x: len(x.split(' ')) ).sum()"
   ]
  },
  {
   "cell_type": "code",
   "execution_count": 24,
   "metadata": {},
   "outputs": [],
   "source": [
    "X = df.summary\n",
    "y = df.category"
   ]
  },
  {
   "cell_type": "code",
   "execution_count": 25,
   "metadata": {},
   "outputs": [],
   "source": [
    "X_train, X_test, y_train, y_test = train_test_split(X, y, test_size=0.3, random_state=42)"
   ]
  },
  {
   "cell_type": "code",
   "execution_count": 26,
   "metadata": {},
   "outputs": [],
   "source": [
    "# Using NB\n",
    "\n",
    "from sklearn.naive_bayes import MultinomialNB\n",
    "from sklearn.pipeline import Pipeline\n",
    "from sklearn.feature_extraction.text import TfidfTransformer"
   ]
  },
  {
   "cell_type": "code",
   "execution_count": 27,
   "metadata": {},
   "outputs": [
    {
     "data": {
      "text/plain": [
       "Pipeline(memory=None,\n",
       "     steps=[('vect', CountVectorizer(analyzer='word', binary=False, decode_error='strict',\n",
       "        dtype=<class 'numpy.int64'>, encoding='utf-8', input='content',\n",
       "        lowercase=True, max_df=1.0, max_features=None, min_df=1,\n",
       "        ngram_range=(1, 1), preprocessor=None, stop_words=None,\n",
       "        strip...inear_tf=False, use_idf=True)), ('clf', MultinomialNB(alpha=1.0, class_prior=None, fit_prior=True))])"
      ]
     },
     "execution_count": 27,
     "metadata": {},
     "output_type": "execute_result"
    }
   ],
   "source": [
    "nb = Pipeline([('vect', CountVectorizer()),\n",
    "               ('tfidf', TfidfTransformer()),\n",
    "               ('clf', MultinomialNB()),\n",
    "              ])\n",
    "nb.fit(X_train, y_train)"
   ]
  },
  {
   "cell_type": "code",
   "execution_count": 28,
   "metadata": {},
   "outputs": [
    {
     "data": {
      "text/plain": [
       "Pipeline(memory=None,\n",
       "     steps=[('vect', CountVectorizer(analyzer='word', binary=False, decode_error='strict',\n",
       "        dtype=<class 'numpy.int64'>, encoding='utf-8', input='content',\n",
       "        lowercase=True, max_df=1.0, max_features=None, min_df=1,\n",
       "        ngram_range=(1, 1), preprocessor=None, stop_words=None,\n",
       "        strip...inear_tf=False, use_idf=True)), ('clf', MultinomialNB(alpha=1.0, class_prior=None, fit_prior=True))])"
      ]
     },
     "execution_count": 28,
     "metadata": {},
     "output_type": "execute_result"
    }
   ],
   "source": [
    "nb.fit(X_train, y_train)"
   ]
  },
  {
   "cell_type": "code",
   "execution_count": 29,
   "metadata": {},
   "outputs": [
    {
     "name": "stdout",
     "output_type": "stream",
     "text": [
      "accuracy 1.0\n"
     ]
    }
   ],
   "source": [
    "from sklearn.metrics import classification_report\n",
    "y_pred = nb.predict(X_test)\n",
    "\n",
    "print('accuracy %s' % accuracy_score(y_pred, y_test))"
   ]
  },
  {
   "cell_type": "markdown",
   "metadata": {},
   "source": [
    "##### What did we do?\n",
    "\n",
    "We have just passed summary as an input and predicted category based on the summary. For the testing purpose, we have used only 5 rows. "
   ]
  }
 ],
 "metadata": {
  "kernelspec": {
   "display_name": "Python 3",
   "language": "python",
   "name": "python3"
  },
  "language_info": {
   "codemirror_mode": {
    "name": "ipython",
    "version": 3
   },
   "file_extension": ".py",
   "mimetype": "text/x-python",
   "name": "python",
   "nbconvert_exporter": "python",
   "pygments_lexer": "ipython3",
   "version": "3.6.8"
  }
 },
 "nbformat": 4,
 "nbformat_minor": 2
}

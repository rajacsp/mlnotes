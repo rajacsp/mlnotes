{
 "cells": [
  {
   "cell_type": "raw",
   "metadata": {},
   "source": [
    "---\n",
    "title: \"Wav 2 Text\"\n",
    "author: \"Rj\"\n",
    "date: 2019-04-21\n",
    "description: \"-\"\n",
    "type: technical_note\n",
    "draft: false\n",
    "---"
   ]
  },
  {
   "cell_type": "code",
   "execution_count": 3,
   "metadata": {},
   "outputs": [],
   "source": [
    "import speech_recognition as sr\n",
    "from os import path\n",
    "from pydub import AudioSegment"
   ]
  },
  {
   "cell_type": "code",
   "execution_count": 6,
   "metadata": {},
   "outputs": [
    {
     "data": {
      "text/plain": [
       "'\\nHow to install ffmpeg:\\nbrew tap varenc/ffmpeg\\nbrew tap-pin varenc/ffmpeg\\nbrew install ffmpeg $(brew options ffmpeg --compact)\\n    https://gist.github.com/clayton/6196167\\n'"
      ]
     },
     "execution_count": 6,
     "metadata": {},
     "output_type": "execute_result"
    }
   ],
   "source": [
    "'''\n",
    "How to install ffmpeg:\n",
    "brew tap varenc/ffmpeg\n",
    "brew tap-pin varenc/ffmpeg\n",
    "brew install ffmpeg $(brew options ffmpeg --compact)\n",
    "    https://gist.github.com/clayton/6196167\n",
    "'''"
   ]
  },
  {
   "cell_type": "code",
   "execution_count": 8,
   "metadata": {},
   "outputs": [
    {
     "name": "stdout",
     "output_type": "stream",
     "text": [
      "Transcription: a pencil with black LED rights best coax a young calf to drink from a bucket schools for ladies teach charm and Grace the lamp Shone with a steady green flame they took the ax and the saw to the forest the ancient coin was quite a doll and warn the shaky Barn fell with a loud crash Jazz and swing fans like fast music rates the rubbish up and then let rake the rubbish up and then burn it stashed the gold cloth into fine ribbon the gold cloth into fine ribbons\n"
     ]
    }
   ],
   "source": [
    "# transcribe audio file                                                         \n",
    "AUDIO_FILE = \"/tmp/one.wav\"\n",
    "\n",
    "# use the audio file as the audio source                                        \n",
    "r = sr.Recognizer()\n",
    "with sr.AudioFile(AUDIO_FILE) as source:\n",
    "    audio = r.record(source)  # read the entire audio file                  \n",
    "\n",
    "print(\"Transcription: \" + r.recognize_google(audio))"
   ]
  },
  {
   "cell_type": "code",
   "execution_count": null,
   "metadata": {},
   "outputs": [],
   "source": []
  }
 ],
 "metadata": {
  "kernelspec": {
   "display_name": "Python 3",
   "language": "python",
   "name": "python3"
  },
  "language_info": {
   "codemirror_mode": {
    "name": "ipython",
    "version": 3
   },
   "file_extension": ".py",
   "mimetype": "text/x-python",
   "name": "python",
   "nbconvert_exporter": "python",
   "pygments_lexer": "ipython3",
   "version": "3.6.8"
  }
 },
 "nbformat": 4,
 "nbformat_minor": 2
}

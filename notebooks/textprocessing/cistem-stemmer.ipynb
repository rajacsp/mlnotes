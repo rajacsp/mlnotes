{
 "cells": [
  {
   "cell_type": "code",
   "execution_count": 1,
   "id": "6318338e-2be7-44d4-8001-aafb97cf0308",
   "metadata": {},
   "outputs": [],
   "source": [
    "from nltk.stem.cistem import Cistem"
   ]
  },
  {
   "cell_type": "code",
   "execution_count": 2,
   "id": "a5e9921f-02de-4b8e-8da4-adfe3bb8f2d9",
   "metadata": {},
   "outputs": [],
   "source": [
    "c_stemmer = Cistem()"
   ]
  },
  {
   "cell_type": "code",
   "execution_count": 3,
   "id": "8ba14faa-2304-4ea8-922c-491dc6631521",
   "metadata": {},
   "outputs": [
    {
     "data": {
      "text/plain": [
       "'filtering'"
      ]
     },
     "execution_count": 3,
     "metadata": {},
     "output_type": "execute_result"
    }
   ],
   "source": [
    "c_stemmer.stem(\"filtering\")"
   ]
  },
  {
   "cell_type": "code",
   "execution_count": 4,
   "id": "ce38441e-dcf0-4393-b24e-76819dbe92cd",
   "metadata": {},
   "outputs": [
    {
     "data": {
      "text/plain": [
       "('filtering', '')"
      ]
     },
     "execution_count": 4,
     "metadata": {},
     "output_type": "execute_result"
    }
   ],
   "source": [
    "c_stemmer.segment(\"filtering\")"
   ]
  },
  {
   "cell_type": "code",
   "execution_count": 5,
   "id": "101c8110-95f2-42ac-984a-5de18de310c2",
   "metadata": {},
   "outputs": [
    {
     "data": {
      "text/plain": [
       "('ausgefeilt', 'ere')"
      ]
     },
     "execution_count": 5,
     "metadata": {},
     "output_type": "execute_result"
    }
   ],
   "source": [
    "c_stemmer.segment(\"Ausgefeiltere\")"
   ]
  },
  {
   "cell_type": "markdown",
   "id": "4788d7ea-a5ab-4079-98d1-e60b66cc4882",
   "metadata": {},
   "source": [
    "segment method will return both the stem and the rest that was removed at the end"
   ]
  }
 ],
 "metadata": {
  "kernelspec": {
   "display_name": "Python 3 (ipykernel)",
   "language": "python",
   "name": "python3"
  },
  "language_info": {
   "codemirror_mode": {
    "name": "ipython",
    "version": 3
   },
   "file_extension": ".py",
   "mimetype": "text/x-python",
   "name": "python",
   "nbconvert_exporter": "python",
   "pygments_lexer": "ipython3",
   "version": "3.12.4"
  }
 },
 "nbformat": 4,
 "nbformat_minor": 5
}

{
 "cells": [
  {
   "cell_type": "raw",
   "metadata": {},
   "source": [
    "---\n",
    "title: \"Text Classification - Naive Bayes - LinkedIn Summary\"\n",
    "author: \"Rj\"\n",
    "date: 2019-04-21\n",
    "description: \"-\"\n",
    "type: technical_note\n",
    "draft: false\n",
    "---"
   ]
  },
  {
   "cell_type": "code",
   "execution_count": 1,
   "metadata": {},
   "outputs": [],
   "source": [
    "# Disclaimer: some code copied form this https://towardsdatascience.com/multi-class-text-classification-model-comparison-and-selection-5eb066197568"
   ]
  },
  {
   "cell_type": "code",
   "execution_count": 2,
   "metadata": {},
   "outputs": [],
   "source": [
    "import logging\n",
    "import pandas as pd\n",
    "import numpy as np\n",
    "from numpy import random\n",
    "import gensim\n",
    "import nltk\n",
    "from sklearn.model_selection import train_test_split\n",
    "from sklearn.feature_extraction.text import CountVectorizer, TfidfVectorizer"
   ]
  },
  {
   "cell_type": "code",
   "execution_count": 3,
   "metadata": {},
   "outputs": [],
   "source": [
    "from sklearn.metrics import accuracy_score, confusion_matrix\n",
    "import matplotlib.pyplot as plt\n",
    "from nltk.corpus import stopwords\n",
    "import re\n",
    "from bs4 import BeautifulSoup\n",
    "from io import BytesIO\n",
    "import requests"
   ]
  },
  {
   "cell_type": "markdown",
   "metadata": {},
   "source": [
    "%matplotlib inline"
   ]
  },
  {
   "cell_type": "code",
   "execution_count": 4,
   "metadata": {},
   "outputs": [],
   "source": [
    "filename = 'https://docs.google.com/spreadsheet/ccc?key=1MtpNgoJKlgqkPOw_SkMt3dP5GUZRQL4cJxzZ6FEKgzg&output=csv'\n",
    "\n",
    "r = requests.get(filename)\n",
    "data = r.content"
   ]
  },
  {
   "cell_type": "code",
   "execution_count": 5,
   "metadata": {},
   "outputs": [],
   "source": [
    "df = pd.read_csv(BytesIO(data))"
   ]
  },
  {
   "cell_type": "code",
   "execution_count": 6,
   "metadata": {},
   "outputs": [
    {
     "data": {
      "text/html": [
       "<div>\n",
       "<style scoped>\n",
       "    .dataframe tbody tr th:only-of-type {\n",
       "        vertical-align: middle;\n",
       "    }\n",
       "\n",
       "    .dataframe tbody tr th {\n",
       "        vertical-align: top;\n",
       "    }\n",
       "\n",
       "    .dataframe thead th {\n",
       "        text-align: right;\n",
       "    }\n",
       "</style>\n",
       "<table border=\"1\" class=\"dataframe\">\n",
       "  <thead>\n",
       "    <tr style=\"text-align: right;\">\n",
       "      <th></th>\n",
       "      <th>link</th>\n",
       "      <th>title</th>\n",
       "      <th>summary</th>\n",
       "      <th>category</th>\n",
       "    </tr>\n",
       "  </thead>\n",
       "  <tbody>\n",
       "    <tr>\n",
       "      <th>0</th>\n",
       "      <td>https://www.linkedin.com/in/claire-lesage/</td>\n",
       "      <td>Computational Linguist at Facebook (via Infote...</td>\n",
       "      <td>NaN</td>\n",
       "      <td>datascientist</td>\n",
       "    </tr>\n",
       "    <tr>\n",
       "      <th>1</th>\n",
       "      <td>https://www.linkedin.com/in/shayna-gardiner-38...</td>\n",
       "      <td>Computational Linguist &amp; Data Scientist @ Rece...</td>\n",
       "      <td>Linguist, scientist, PhD. Focus on language va...</td>\n",
       "      <td>datascientist</td>\n",
       "    </tr>\n",
       "    <tr>\n",
       "      <th>2</th>\n",
       "      <td>https://www.linkedin.com/in/varada-kolhatkar-b...</td>\n",
       "      <td>Computational Linguist. Computer Scientist.</td>\n",
       "      <td>NaN</td>\n",
       "      <td>datascientist</td>\n",
       "    </tr>\n",
       "    <tr>\n",
       "      <th>3</th>\n",
       "      <td>https://www.linkedin.com/in/mukesh-vaghasiya-a...</td>\n",
       "      <td>Java Developer</td>\n",
       "      <td>5+ years of experience developing web applicat...</td>\n",
       "      <td>backend-developer</td>\n",
       "    </tr>\n",
       "    <tr>\n",
       "      <th>4</th>\n",
       "      <td>https://www.linkedin.com/in/pratik-bhatt-34143...</td>\n",
       "      <td>Java Developer at eClinicalWorks</td>\n",
       "      <td>I am a dynamic personality with curiosity to l...</td>\n",
       "      <td>backend-developer</td>\n",
       "    </tr>\n",
       "  </tbody>\n",
       "</table>\n",
       "</div>"
      ],
      "text/plain": [
       "                                                link  \\\n",
       "0         https://www.linkedin.com/in/claire-lesage/   \n",
       "1  https://www.linkedin.com/in/shayna-gardiner-38...   \n",
       "2  https://www.linkedin.com/in/varada-kolhatkar-b...   \n",
       "3  https://www.linkedin.com/in/mukesh-vaghasiya-a...   \n",
       "4  https://www.linkedin.com/in/pratik-bhatt-34143...   \n",
       "\n",
       "                                               title  \\\n",
       "0  Computational Linguist at Facebook (via Infote...   \n",
       "1  Computational Linguist & Data Scientist @ Rece...   \n",
       "2        Computational Linguist. Computer Scientist.   \n",
       "3                                     Java Developer   \n",
       "4                   Java Developer at eClinicalWorks   \n",
       "\n",
       "                                             summary           category  \n",
       "0                                                NaN      datascientist  \n",
       "1  Linguist, scientist, PhD. Focus on language va...      datascientist  \n",
       "2                                                NaN      datascientist  \n",
       "3  5+ years of experience developing web applicat...  backend-developer  \n",
       "4  I am a dynamic personality with curiosity to l...  backend-developer  "
      ]
     },
     "execution_count": 6,
     "metadata": {},
     "output_type": "execute_result"
    }
   ],
   "source": [
    "df.head()"
   ]
  },
  {
   "cell_type": "code",
   "execution_count": 8,
   "metadata": {},
   "outputs": [],
   "source": [
    "# remove not null\n",
    "\n",
    "df = df[pd.notnull(df['category'])]"
   ]
  },
  {
   "cell_type": "code",
   "execution_count": 9,
   "metadata": {},
   "outputs": [
    {
     "data": {
      "text/html": [
       "<div>\n",
       "<style scoped>\n",
       "    .dataframe tbody tr th:only-of-type {\n",
       "        vertical-align: middle;\n",
       "    }\n",
       "\n",
       "    .dataframe tbody tr th {\n",
       "        vertical-align: top;\n",
       "    }\n",
       "\n",
       "    .dataframe thead th {\n",
       "        text-align: right;\n",
       "    }\n",
       "</style>\n",
       "<table border=\"1\" class=\"dataframe\">\n",
       "  <thead>\n",
       "    <tr style=\"text-align: right;\">\n",
       "      <th></th>\n",
       "      <th>link</th>\n",
       "      <th>title</th>\n",
       "      <th>summary</th>\n",
       "      <th>category</th>\n",
       "    </tr>\n",
       "  </thead>\n",
       "  <tbody>\n",
       "    <tr>\n",
       "      <th>count</th>\n",
       "      <td>7</td>\n",
       "      <td>7</td>\n",
       "      <td>5</td>\n",
       "      <td>7</td>\n",
       "    </tr>\n",
       "    <tr>\n",
       "      <th>unique</th>\n",
       "      <td>7</td>\n",
       "      <td>7</td>\n",
       "      <td>5</td>\n",
       "      <td>2</td>\n",
       "    </tr>\n",
       "    <tr>\n",
       "      <th>top</th>\n",
       "      <td>https://www.linkedin.com/in/claire-lesage/</td>\n",
       "      <td>Software Engineer at Microsoft | Full stack de...</td>\n",
       "      <td>Experienced Software Engineer with a demonstra...</td>\n",
       "      <td>backend-developer</td>\n",
       "    </tr>\n",
       "    <tr>\n",
       "      <th>freq</th>\n",
       "      <td>1</td>\n",
       "      <td>1</td>\n",
       "      <td>1</td>\n",
       "      <td>4</td>\n",
       "    </tr>\n",
       "  </tbody>\n",
       "</table>\n",
       "</div>"
      ],
      "text/plain": [
       "                                              link  \\\n",
       "count                                            7   \n",
       "unique                                           7   \n",
       "top     https://www.linkedin.com/in/claire-lesage/   \n",
       "freq                                             1   \n",
       "\n",
       "                                                    title  \\\n",
       "count                                                   7   \n",
       "unique                                                  7   \n",
       "top     Software Engineer at Microsoft | Full stack de...   \n",
       "freq                                                    1   \n",
       "\n",
       "                                                  summary           category  \n",
       "count                                                   5                  7  \n",
       "unique                                                  5                  2  \n",
       "top     Experienced Software Engineer with a demonstra...  backend-developer  \n",
       "freq                                                    1                  4  "
      ]
     },
     "execution_count": 9,
     "metadata": {},
     "output_type": "execute_result"
    }
   ],
   "source": [
    "df.describe()"
   ]
  },
  {
   "cell_type": "code",
   "execution_count": 10,
   "metadata": {},
   "outputs": [
    {
     "data": {
      "text/plain": [
       "(7, 4)"
      ]
     },
     "execution_count": 10,
     "metadata": {},
     "output_type": "execute_result"
    }
   ],
   "source": [
    "df.shape"
   ]
  },
  {
   "cell_type": "code",
   "execution_count": 11,
   "metadata": {},
   "outputs": [
    {
     "data": {
      "text/html": [
       "<div>\n",
       "<style scoped>\n",
       "    .dataframe tbody tr th:only-of-type {\n",
       "        vertical-align: middle;\n",
       "    }\n",
       "\n",
       "    .dataframe tbody tr th {\n",
       "        vertical-align: top;\n",
       "    }\n",
       "\n",
       "    .dataframe thead th {\n",
       "        text-align: right;\n",
       "    }\n",
       "</style>\n",
       "<table border=\"1\" class=\"dataframe\">\n",
       "  <thead>\n",
       "    <tr style=\"text-align: right;\">\n",
       "      <th></th>\n",
       "      <th>link</th>\n",
       "      <th>title</th>\n",
       "      <th>summary</th>\n",
       "      <th>category</th>\n",
       "    </tr>\n",
       "  </thead>\n",
       "  <tbody>\n",
       "    <tr>\n",
       "      <th>0</th>\n",
       "      <td>https://www.linkedin.com/in/claire-lesage/</td>\n",
       "      <td>Computational Linguist at Facebook (via Infote...</td>\n",
       "      <td>NaN</td>\n",
       "      <td>datascientist</td>\n",
       "    </tr>\n",
       "    <tr>\n",
       "      <th>1</th>\n",
       "      <td>https://www.linkedin.com/in/shayna-gardiner-38...</td>\n",
       "      <td>Computational Linguist &amp; Data Scientist @ Rece...</td>\n",
       "      <td>Linguist, scientist, PhD. Focus on language va...</td>\n",
       "      <td>datascientist</td>\n",
       "    </tr>\n",
       "    <tr>\n",
       "      <th>2</th>\n",
       "      <td>https://www.linkedin.com/in/varada-kolhatkar-b...</td>\n",
       "      <td>Computational Linguist. Computer Scientist.</td>\n",
       "      <td>NaN</td>\n",
       "      <td>datascientist</td>\n",
       "    </tr>\n",
       "    <tr>\n",
       "      <th>3</th>\n",
       "      <td>https://www.linkedin.com/in/mukesh-vaghasiya-a...</td>\n",
       "      <td>Java Developer</td>\n",
       "      <td>5+ years of experience developing web applicat...</td>\n",
       "      <td>backend-developer</td>\n",
       "    </tr>\n",
       "    <tr>\n",
       "      <th>4</th>\n",
       "      <td>https://www.linkedin.com/in/pratik-bhatt-34143...</td>\n",
       "      <td>Java Developer at eClinicalWorks</td>\n",
       "      <td>I am a dynamic personality with curiosity to l...</td>\n",
       "      <td>backend-developer</td>\n",
       "    </tr>\n",
       "    <tr>\n",
       "      <th>5</th>\n",
       "      <td>https://www.linkedin.com/in/komal-shah-a2917151/</td>\n",
       "      <td>Software Engineer at Microsoft | Full stack de...</td>\n",
       "      <td>Experienced Software Engineer with a demonstra...</td>\n",
       "      <td>backend-developer</td>\n",
       "    </tr>\n",
       "    <tr>\n",
       "      <th>6</th>\n",
       "      <td>https://www.linkedin.com/in/anjali-jaiswal-b3a...</td>\n",
       "      <td>Java Developer at CDN Software Solutions</td>\n",
       "      <td>Experienced Java Software Engineer with a demo...</td>\n",
       "      <td>backend-developer</td>\n",
       "    </tr>\n",
       "  </tbody>\n",
       "</table>\n",
       "</div>"
      ],
      "text/plain": [
       "                                                link  \\\n",
       "0         https://www.linkedin.com/in/claire-lesage/   \n",
       "1  https://www.linkedin.com/in/shayna-gardiner-38...   \n",
       "2  https://www.linkedin.com/in/varada-kolhatkar-b...   \n",
       "3  https://www.linkedin.com/in/mukesh-vaghasiya-a...   \n",
       "4  https://www.linkedin.com/in/pratik-bhatt-34143...   \n",
       "5   https://www.linkedin.com/in/komal-shah-a2917151/   \n",
       "6  https://www.linkedin.com/in/anjali-jaiswal-b3a...   \n",
       "\n",
       "                                               title  \\\n",
       "0  Computational Linguist at Facebook (via Infote...   \n",
       "1  Computational Linguist & Data Scientist @ Rece...   \n",
       "2        Computational Linguist. Computer Scientist.   \n",
       "3                                     Java Developer   \n",
       "4                   Java Developer at eClinicalWorks   \n",
       "5  Software Engineer at Microsoft | Full stack de...   \n",
       "6           Java Developer at CDN Software Solutions   \n",
       "\n",
       "                                             summary           category  \n",
       "0                                                NaN      datascientist  \n",
       "1  Linguist, scientist, PhD. Focus on language va...      datascientist  \n",
       "2                                                NaN      datascientist  \n",
       "3  5+ years of experience developing web applicat...  backend-developer  \n",
       "4  I am a dynamic personality with curiosity to l...  backend-developer  \n",
       "5  Experienced Software Engineer with a demonstra...  backend-developer  \n",
       "6  Experienced Java Software Engineer with a demo...  backend-developer  "
      ]
     },
     "execution_count": 11,
     "metadata": {},
     "output_type": "execute_result"
    }
   ],
   "source": [
    "# Count words\n",
    "\n",
    "df.head(10)"
   ]
  },
  {
   "cell_type": "code",
   "execution_count": 19,
   "metadata": {},
   "outputs": [
    {
     "data": {
      "text/plain": [
       "1    Linguist, scientist, PhD. Focus on language va...\n",
       "3    5+ years of experience developing web applicat...\n",
       "4    I am a dynamic personality with curiosity to l...\n",
       "5    Experienced Software Engineer with a demonstra...\n",
       "6    Experienced Java Software Engineer with a demo...\n",
       "Name: summary, dtype: object"
      ]
     },
     "execution_count": 19,
     "metadata": {},
     "output_type": "execute_result"
    }
   ],
   "source": [
    "df = df[pd.notnull(df['summary'])]\n",
    "\n",
    "\n",
    "df['summary']\n"
   ]
  },
  {
   "cell_type": "code",
   "execution_count": 20,
   "metadata": {},
   "outputs": [
    {
     "data": {
      "text/plain": [
       "227"
      ]
     },
     "execution_count": 20,
     "metadata": {},
     "output_type": "execute_result"
    }
   ],
   "source": [
    "# count words\n",
    "df['summary'].apply ( lambda x: len(x.split(' ')) ).sum()"
   ]
  },
  {
   "cell_type": "code",
   "execution_count": 21,
   "metadata": {},
   "outputs": [],
   "source": [
    "REPLACE_BY_SPACE_RE = re.compile('[/(){}\\[\\]\\|@,;]')\n",
    "BAD_SYMBOLS_RE = re.compile('[^0-9a-z #+_]')\n",
    "STOPWORDS = set(stopwords.words('english'))\n",
    "\n",
    "def clean_text(text):\n",
    "    \"\"\"\n",
    "        text: a string\n",
    "        \n",
    "        return: modified initial string\n",
    "    \"\"\"\n",
    "    text = BeautifulSoup(text, \"lxml\").text # HTML decoding\n",
    "    text = text.lower() # lowercase text\n",
    "    text = REPLACE_BY_SPACE_RE.sub(' ', text) # replace REPLACE_BY_SPACE_RE symbols by space in text\n",
    "    text = BAD_SYMBOLS_RE.sub('', text) # delete symbols which are in BAD_SYMBOLS_RE from text\n",
    "    text = ' '.join(word for word in text.split() if word not in STOPWORDS) # delete stopwors from text\n",
    "    return text"
   ]
  },
  {
   "cell_type": "code",
   "execution_count": 22,
   "metadata": {},
   "outputs": [],
   "source": [
    "df['summary'] = df['summary'].apply(clean_text)"
   ]
  },
  {
   "cell_type": "code",
   "execution_count": 23,
   "metadata": {},
   "outputs": [
    {
     "data": {
      "text/plain": [
       "166"
      ]
     },
     "execution_count": 23,
     "metadata": {},
     "output_type": "execute_result"
    }
   ],
   "source": [
    "# Check the words count again\n",
    "\n",
    "df['summary'].apply ( lambda x: len(x.split(' ')) ).sum()"
   ]
  },
  {
   "cell_type": "code",
   "execution_count": 24,
   "metadata": {},
   "outputs": [],
   "source": [
    "X = df.summary\n",
    "y = df.category"
   ]
  },
  {
   "cell_type": "code",
   "execution_count": 25,
   "metadata": {},
   "outputs": [],
   "source": [
    "X_train, X_test, y_train, y_test = train_test_split(X, y, test_size=0.3, random_state=42)"
   ]
  },
  {
   "cell_type": "code",
   "execution_count": 26,
   "metadata": {},
   "outputs": [],
   "source": [
    "# Using NB\n",
    "\n",
    "from sklearn.naive_bayes import MultinomialNB\n",
    "from sklearn.pipeline import Pipeline\n",
    "from sklearn.feature_extraction.text import TfidfTransformer"
   ]
  },
  {
   "cell_type": "code",
   "execution_count": 27,
   "metadata": {},
   "outputs": [
    {
     "data": {
      "text/plain": [
       "Pipeline(memory=None,\n",
       "     steps=[('vect', CountVectorizer(analyzer='word', binary=False, decode_error='strict',\n",
       "        dtype=<class 'numpy.int64'>, encoding='utf-8', input='content',\n",
       "        lowercase=True, max_df=1.0, max_features=None, min_df=1,\n",
       "        ngram_range=(1, 1), preprocessor=None, stop_words=None,\n",
       "        strip...inear_tf=False, use_idf=True)), ('clf', MultinomialNB(alpha=1.0, class_prior=None, fit_prior=True))])"
      ]
     },
     "execution_count": 27,
     "metadata": {},
     "output_type": "execute_result"
    }
   ],
   "source": [
    "nb = Pipeline([('vect', CountVectorizer()),\n",
    "               ('tfidf', TfidfTransformer()),\n",
    "               ('clf', MultinomialNB()),\n",
    "              ])\n",
    "nb.fit(X_train, y_train)"
   ]
  },
  {
   "cell_type": "code",
   "execution_count": 28,
   "metadata": {},
   "outputs": [
    {
     "data": {
      "text/plain": [
       "Pipeline(memory=None,\n",
       "     steps=[('vect', CountVectorizer(analyzer='word', binary=False, decode_error='strict',\n",
       "        dtype=<class 'numpy.int64'>, encoding='utf-8', input='content',\n",
       "        lowercase=True, max_df=1.0, max_features=None, min_df=1,\n",
       "        ngram_range=(1, 1), preprocessor=None, stop_words=None,\n",
       "        strip...inear_tf=False, use_idf=True)), ('clf', MultinomialNB(alpha=1.0, class_prior=None, fit_prior=True))])"
      ]
     },
     "execution_count": 28,
     "metadata": {},
     "output_type": "execute_result"
    }
   ],
   "source": [
    "nb.fit(X_train, y_train)"
   ]
  },
  {
   "cell_type": "code",
   "execution_count": 29,
   "metadata": {},
   "outputs": [
    {
     "name": "stdout",
     "output_type": "stream",
     "text": [
      "accuracy 1.0\n"
     ]
    }
   ],
   "source": [
    "from sklearn.metrics import classification_report\n",
    "y_pred = nb.predict(X_test)\n",
    "\n",
    "print('accuracy %s' % accuracy_score(y_pred, y_test))"
   ]
  },
  {
   "cell_type": "markdown",
   "metadata": {},
   "source": [
    "##### What did we do?\n",
    "\n",
    "We have just passed summary as an input and predicted category based on the summary. For the testing purpose, we have used only 5 rows. "
   ]
  },
  {
   "cell_type": "code",
   "execution_count": null,
   "metadata": {},
   "outputs": [],
   "source": []
  }
 ],
 "metadata": {
  "kernelspec": {
   "display_name": "Python 3",
   "language": "python",
   "name": "python3"
  },
  "language_info": {
   "codemirror_mode": {
    "name": "ipython",
    "version": 3
   },
   "file_extension": ".py",
   "mimetype": "text/x-python",
   "name": "python",
   "nbconvert_exporter": "python",
   "pygments_lexer": "ipython3",
   "version": "3.6.8"
  }
 },
 "nbformat": 4,
 "nbformat_minor": 2
}

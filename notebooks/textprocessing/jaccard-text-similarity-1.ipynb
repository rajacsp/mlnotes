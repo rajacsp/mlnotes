{
 "cells": [
  {
   "cell_type": "raw",
   "metadata": {},
   "source": [
    "---\n",
    "title: \"Jaccard Text Similarity 1\"\n",
    "author: \"Rj\"\n",
    "date: 2019-04-21\n",
    "description: \"-\"\n",
    "type: technical_note\n",
    "draft: false\n",
    "---"
   ]
  },
  {
   "cell_type": "code",
   "execution_count": 3,
   "metadata": {},
   "outputs": [],
   "source": [
    "def get_jaccard_similarity(content1, content2): \n",
    "    \n",
    "    content1_similarity = set(content1.split()) \n",
    "    content2_similarity = set(content2.split())\n",
    "    \n",
    "    \n",
    "    intersection = content1_similarity.intersection(content2_similarity)\n",
    "    \n",
    "    return float(len(intersection)) / (len(content1_similarity) + len(content2_similarity) - len(intersection))"
   ]
  },
  {
   "cell_type": "code",
   "execution_count": 2,
   "metadata": {},
   "outputs": [
    {
     "name": "stdout",
     "output_type": "stream",
     "text": [
      "['These', 'data', 'could', 'show', 'that', 'the', 'people', 'of', 'Brazil', 'are', 'happy', 'with', 'product', 'A,', 'while', 'the', 'people', 'of', 'the', 'US', 'are', 'happier', 'with', 'product', 'B.', 'With', 'NLP,', 'this', 'knowledge', 'can', 'be', 'found', 'instantly', '(i.e.', 'a', 'real-time', 'result).', 'For', 'example,', 'search', 'engines', 'are', 'a', 'type', 'of', 'NLP', 'that', 'give', 'the', 'appropriate', 'results', 'to', 'the', 'right', 'people', 'at', 'the', 'right', 'time.']\n",
      "1.0\n"
     ]
    }
   ],
   "source": [
    "# test 2  \n",
    "content1 = \"These data could show that the people of Brazil are happy with product A, while the people of the US are happier with product B. With NLP, this knowledge can be found instantly (i.e. a real-time result). For example, search engines are a type of NLP that give the appropriate results to the right people at the right time.\"\n",
    "# source: https://dzone.com/articles/nlp-tutorial-using-python-nltk-simple-examples    \n",
    "\n",
    "print(content1.split())\n",
    "\n",
    "content2 = \"These data could show that the people of Brazil are happy with product A, while the people of the US are happier with product B. With NLP, this knowledge can be found instantly (i.e. a real-time result). For example, search engines are a type of NLP that give the appropriate results to the right people at the right time.\"    \n",
    "# source : https://www.linkedin.com/pulse/machine-learning-natural-language-processing-sentiment-sharma/\n",
    "\n",
    "sim = get_jaccard_similarity(content1, content2)    \n",
    "print(sim)"
   ]
  },
  {
   "cell_type": "code",
   "execution_count": null,
   "metadata": {},
   "outputs": [],
   "source": []
  }
 ],
 "metadata": {
  "kernelspec": {
   "display_name": "Python 3",
   "language": "python",
   "name": "python3"
  },
  "language_info": {
   "codemirror_mode": {
    "name": "ipython",
    "version": 3
   },
   "file_extension": ".py",
   "mimetype": "text/x-python",
   "name": "python",
   "nbconvert_exporter": "python",
   "pygments_lexer": "ipython3",
   "version": "3.6.8"
  }
 },
 "nbformat": 4,
 "nbformat_minor": 2
}

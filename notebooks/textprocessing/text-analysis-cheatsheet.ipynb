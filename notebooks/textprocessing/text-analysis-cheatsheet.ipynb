{
 "cells": [
  {
   "cell_type": "raw",
   "metadata": {},
   "source": [
    "---\n",
    "title: \"Template\"\n",
    "author: \"Rj\"\n",
    "date: 2019-04-21\n",
    "description: \"-\"\n",
    "type: technical_note\n",
    "draft: false\n",
    "---"
   ]
  },
  {
   "cell_type": "markdown",
   "metadata": {},
   "source": [
    "Basics\n",
    "\n",
    "#####  tokens\n",
    "\n",
    " text1[0:100] - first 101 tokens \n",
    " \n",
    " text2[5] - fifth token\n",
    " "
   ]
  },
  {
   "cell_type": "markdown",
   "metadata": {},
   "source": [
    "##### concordance\n",
    "\n",
    "text3.concordance(‘begat’) - basic keyword-in-context\n",
    "\n",
    "text1.concordance(‘sea’, lines=100) - show other than default 25 lines\n",
    "\n",
    "text1.concordance(‘sea’, lines=all) - show all results\n",
    "\n",
    "text1.concordance(‘sea’, 10, lines=all) - change left and right context width to 10 characters and show all result"
   ]
  },
  {
   "cell_type": "markdown",
   "metadata": {},
   "source": [
    "moreL http://sapir.psych.wisc.edu/programming_for_psychologists/cheat_sheets/Text-Analysis-with-NLTK-Cheatsheet.pdfmore: "
   ]
  },
  {
   "cell_type": "code",
   "execution_count": null,
   "metadata": {},
   "outputs": [],
   "source": []
  }
 ],
 "metadata": {
  "kernelspec": {
   "display_name": "Python 3",
   "language": "python",
   "name": "python3"
  },
  "language_info": {
   "codemirror_mode": {
    "name": "ipython",
    "version": 3
   },
   "file_extension": ".py",
   "mimetype": "text/x-python",
   "name": "python",
   "nbconvert_exporter": "python",
   "pygments_lexer": "ipython3",
   "version": "3.6.8"
  }
 },
 "nbformat": 4,
 "nbformat_minor": 2
}

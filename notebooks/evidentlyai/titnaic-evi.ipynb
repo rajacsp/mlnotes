{
 "cells": [
  {
   "cell_type": "code",
   "execution_count": null,
   "id": "7302eb34-c5fe-4fc3-bba7-0aff8e0c6d1c",
   "metadata": {},
   "outputs": [],
   "source": []
  },
  {
   "cell_type": "code",
   "execution_count": 1,
   "id": "ed3c57a0-c705-4021-89a9-c7894ca084ee",
   "metadata": {},
   "outputs": [],
   "source": [
    "# https://github.com/datasciencedojo/datasets/blob/master/titanic.csv"
   ]
  },
  {
   "cell_type": "code",
   "execution_count": 5,
   "id": "50fb1d02-f128-434d-bf2f-7ddbeef4f86e",
   "metadata": {},
   "outputs": [],
   "source": [
    "import pandas as pd"
   ]
  },
  {
   "cell_type": "code",
   "execution_count": 7,
   "id": "2aca9de1-b5bb-44a1-91ec-99481989c56c",
   "metadata": {},
   "outputs": [
    {
     "name": "stdout",
     "output_type": "stream",
     "text": [
      "../titanic.csv\n"
     ]
    }
   ],
   "source": [
    "!ls ../titanic.csv"
   ]
  },
  {
   "cell_type": "code",
   "execution_count": 8,
   "id": "f08b8dc1-58ed-4ade-9c4f-8bc2849d1807",
   "metadata": {},
   "outputs": [],
   "source": [
    "# Load the dataset\n",
    "data = pd.read_csv('../titanic.csv')"
   ]
  },
  {
   "cell_type": "code",
   "execution_count": 10,
   "id": "19c96ba7-6e1d-4e74-9444-8991ed0562ce",
   "metadata": {},
   "outputs": [
    {
     "name": "stdout",
     "output_type": "stream",
     "text": [
      "<class 'pandas.core.frame.DataFrame'>\n",
      "RangeIndex: 891 entries, 0 to 890\n",
      "Data columns (total 12 columns):\n",
      " #   Column       Non-Null Count  Dtype  \n",
      "---  ------       --------------  -----  \n",
      " 0   PassengerId  891 non-null    int64  \n",
      " 1   Survived     891 non-null    int64  \n",
      " 2   Pclass       891 non-null    int64  \n",
      " 3   Name         891 non-null    object \n",
      " 4   Sex          891 non-null    object \n",
      " 5   Age          714 non-null    float64\n",
      " 6   SibSp        891 non-null    int64  \n",
      " 7   Parch        891 non-null    int64  \n",
      " 8   Ticket       891 non-null    object \n",
      " 9   Fare         891 non-null    float64\n",
      " 10  Cabin        204 non-null    object \n",
      " 11  Embarked     889 non-null    object \n",
      "dtypes: float64(2), int64(5), object(5)\n",
      "memory usage: 83.7+ KB\n"
     ]
    }
   ],
   "source": [
    "data.info()"
   ]
  },
  {
   "cell_type": "code",
   "execution_count": 27,
   "id": "45be68a7-144e-4c80-aba3-ef1a2ce55cb5",
   "metadata": {},
   "outputs": [
    {
     "data": {
      "text/html": [
       "<div>\n",
       "<style scoped>\n",
       "    .dataframe tbody tr th:only-of-type {\n",
       "        vertical-align: middle;\n",
       "    }\n",
       "\n",
       "    .dataframe tbody tr th {\n",
       "        vertical-align: top;\n",
       "    }\n",
       "\n",
       "    .dataframe thead th {\n",
       "        text-align: right;\n",
       "    }\n",
       "</style>\n",
       "<table border=\"1\" class=\"dataframe\">\n",
       "  <thead>\n",
       "    <tr style=\"text-align: right;\">\n",
       "      <th></th>\n",
       "      <th>PassengerId</th>\n",
       "      <th>Survived</th>\n",
       "      <th>Pclass</th>\n",
       "      <th>Name</th>\n",
       "      <th>Sex</th>\n",
       "      <th>Age</th>\n",
       "      <th>SibSp</th>\n",
       "      <th>Parch</th>\n",
       "      <th>Ticket</th>\n",
       "      <th>Fare</th>\n",
       "      <th>Cabin</th>\n",
       "      <th>Embarked</th>\n",
       "    </tr>\n",
       "  </thead>\n",
       "  <tbody>\n",
       "    <tr>\n",
       "      <th>0</th>\n",
       "      <td>1</td>\n",
       "      <td>0</td>\n",
       "      <td>3</td>\n",
       "      <td>Braund, Mr. Owen Harris</td>\n",
       "      <td>0</td>\n",
       "      <td>22.0</td>\n",
       "      <td>1</td>\n",
       "      <td>0</td>\n",
       "      <td>A/5 21171</td>\n",
       "      <td>7.2500</td>\n",
       "      <td>Unknown</td>\n",
       "      <td>S</td>\n",
       "    </tr>\n",
       "    <tr>\n",
       "      <th>1</th>\n",
       "      <td>2</td>\n",
       "      <td>1</td>\n",
       "      <td>1</td>\n",
       "      <td>Cumings, Mrs. John Bradley (Florence Briggs Th...</td>\n",
       "      <td>1</td>\n",
       "      <td>38.0</td>\n",
       "      <td>1</td>\n",
       "      <td>0</td>\n",
       "      <td>PC 17599</td>\n",
       "      <td>71.2833</td>\n",
       "      <td>C85</td>\n",
       "      <td>C</td>\n",
       "    </tr>\n",
       "    <tr>\n",
       "      <th>2</th>\n",
       "      <td>3</td>\n",
       "      <td>1</td>\n",
       "      <td>3</td>\n",
       "      <td>Heikkinen, Miss. Laina</td>\n",
       "      <td>1</td>\n",
       "      <td>26.0</td>\n",
       "      <td>0</td>\n",
       "      <td>0</td>\n",
       "      <td>STON/O2. 3101282</td>\n",
       "      <td>7.9250</td>\n",
       "      <td>Unknown</td>\n",
       "      <td>S</td>\n",
       "    </tr>\n",
       "    <tr>\n",
       "      <th>3</th>\n",
       "      <td>4</td>\n",
       "      <td>1</td>\n",
       "      <td>1</td>\n",
       "      <td>Futrelle, Mrs. Jacques Heath (Lily May Peel)</td>\n",
       "      <td>1</td>\n",
       "      <td>35.0</td>\n",
       "      <td>1</td>\n",
       "      <td>0</td>\n",
       "      <td>113803</td>\n",
       "      <td>53.1000</td>\n",
       "      <td>C123</td>\n",
       "      <td>S</td>\n",
       "    </tr>\n",
       "    <tr>\n",
       "      <th>4</th>\n",
       "      <td>5</td>\n",
       "      <td>0</td>\n",
       "      <td>3</td>\n",
       "      <td>Allen, Mr. William Henry</td>\n",
       "      <td>0</td>\n",
       "      <td>35.0</td>\n",
       "      <td>0</td>\n",
       "      <td>0</td>\n",
       "      <td>373450</td>\n",
       "      <td>8.0500</td>\n",
       "      <td>Unknown</td>\n",
       "      <td>S</td>\n",
       "    </tr>\n",
       "  </tbody>\n",
       "</table>\n",
       "</div>"
      ],
      "text/plain": [
       "   PassengerId  Survived  Pclass  \\\n",
       "0            1         0       3   \n",
       "1            2         1       1   \n",
       "2            3         1       3   \n",
       "3            4         1       1   \n",
       "4            5         0       3   \n",
       "\n",
       "                                                Name  Sex   Age  SibSp  Parch  \\\n",
       "0                            Braund, Mr. Owen Harris    0  22.0      1      0   \n",
       "1  Cumings, Mrs. John Bradley (Florence Briggs Th...    1  38.0      1      0   \n",
       "2                             Heikkinen, Miss. Laina    1  26.0      0      0   \n",
       "3       Futrelle, Mrs. Jacques Heath (Lily May Peel)    1  35.0      1      0   \n",
       "4                           Allen, Mr. William Henry    0  35.0      0      0   \n",
       "\n",
       "             Ticket     Fare    Cabin Embarked  \n",
       "0         A/5 21171   7.2500  Unknown        S  \n",
       "1          PC 17599  71.2833      C85        C  \n",
       "2  STON/O2. 3101282   7.9250  Unknown        S  \n",
       "3            113803  53.1000     C123        S  \n",
       "4            373450   8.0500  Unknown        S  "
      ]
     },
     "execution_count": 27,
     "metadata": {},
     "output_type": "execute_result"
    }
   ],
   "source": [
    "data.head()"
   ]
  },
  {
   "cell_type": "code",
   "execution_count": 12,
   "id": "1af17988-25ad-471c-93e9-9f1dce0e9b29",
   "metadata": {},
   "outputs": [],
   "source": [
    "# data['Age'].fillna(data['Age'].median(), inplace=True)\n",
    "data['Age'] = data['Age'].fillna(data['Age'].median())"
   ]
  },
  {
   "cell_type": "code",
   "execution_count": 13,
   "id": "34b090d9-79c6-4c1b-a7f7-2dcbe28f6974",
   "metadata": {},
   "outputs": [],
   "source": [
    "# Encode categorical variables if necessary\n",
    "# Example: Convert 'Sex' to numerical values\n",
    "data['Sex'] = data['Sex'].map({'male': 0, 'female': 1})"
   ]
  },
  {
   "cell_type": "code",
   "execution_count": 14,
   "id": "1e96c3be-fc9f-4c0f-9c3f-1a28c35e6d33",
   "metadata": {},
   "outputs": [],
   "source": []
  },
  {
   "cell_type": "code",
   "execution_count": 15,
   "id": "0bce7050-fe13-4a01-8751-3ae7c5e3822e",
   "metadata": {},
   "outputs": [],
   "source": [
    "from evidently.report import Report\n",
    "from evidently.metric_preset import DataDriftPreset"
   ]
  },
  {
   "cell_type": "code",
   "execution_count": 16,
   "id": "08aad7f7-5a16-4a25-a214-0b6051a1768b",
   "metadata": {},
   "outputs": [],
   "source": [
    "# Initialize the report with the Data Drift preset\n",
    "report = Report(metrics=[DataDriftPreset()])"
   ]
  },
  {
   "cell_type": "code",
   "execution_count": 18,
   "id": "f837281c-34fa-405e-a0d3-d0f952426782",
   "metadata": {},
   "outputs": [
    {
     "data": {
      "text/plain": [
       "PassengerId      0\n",
       "Survived         0\n",
       "Pclass           0\n",
       "Name             0\n",
       "Sex              0\n",
       "Age              0\n",
       "SibSp            0\n",
       "Parch            0\n",
       "Ticket           0\n",
       "Fare             0\n",
       "Cabin          687\n",
       "Embarked         2\n",
       "dtype: int64"
      ]
     },
     "execution_count": 18,
     "metadata": {},
     "output_type": "execute_result"
    }
   ],
   "source": [
    "data.isnull().sum()"
   ]
  },
  {
   "cell_type": "code",
   "execution_count": 19,
   "id": "6e7b6870-9ed8-4e59-a026-e263a333849d",
   "metadata": {},
   "outputs": [
    {
     "data": {
      "text/html": [
       "<div>\n",
       "<style scoped>\n",
       "    .dataframe tbody tr th:only-of-type {\n",
       "        vertical-align: middle;\n",
       "    }\n",
       "\n",
       "    .dataframe tbody tr th {\n",
       "        vertical-align: top;\n",
       "    }\n",
       "\n",
       "    .dataframe thead th {\n",
       "        text-align: right;\n",
       "    }\n",
       "</style>\n",
       "<table border=\"1\" class=\"dataframe\">\n",
       "  <thead>\n",
       "    <tr style=\"text-align: right;\">\n",
       "      <th></th>\n",
       "      <th>PassengerId</th>\n",
       "      <th>Survived</th>\n",
       "      <th>Pclass</th>\n",
       "      <th>Sex</th>\n",
       "      <th>Age</th>\n",
       "      <th>SibSp</th>\n",
       "      <th>Parch</th>\n",
       "      <th>Fare</th>\n",
       "    </tr>\n",
       "  </thead>\n",
       "  <tbody>\n",
       "    <tr>\n",
       "      <th>count</th>\n",
       "      <td>891.000000</td>\n",
       "      <td>891.000000</td>\n",
       "      <td>891.000000</td>\n",
       "      <td>891.000000</td>\n",
       "      <td>891.000000</td>\n",
       "      <td>891.000000</td>\n",
       "      <td>891.000000</td>\n",
       "      <td>891.000000</td>\n",
       "    </tr>\n",
       "    <tr>\n",
       "      <th>mean</th>\n",
       "      <td>446.000000</td>\n",
       "      <td>0.383838</td>\n",
       "      <td>2.308642</td>\n",
       "      <td>0.352413</td>\n",
       "      <td>29.361582</td>\n",
       "      <td>0.523008</td>\n",
       "      <td>0.381594</td>\n",
       "      <td>32.204208</td>\n",
       "    </tr>\n",
       "    <tr>\n",
       "      <th>std</th>\n",
       "      <td>257.353842</td>\n",
       "      <td>0.486592</td>\n",
       "      <td>0.836071</td>\n",
       "      <td>0.477990</td>\n",
       "      <td>13.019697</td>\n",
       "      <td>1.102743</td>\n",
       "      <td>0.806057</td>\n",
       "      <td>49.693429</td>\n",
       "    </tr>\n",
       "    <tr>\n",
       "      <th>min</th>\n",
       "      <td>1.000000</td>\n",
       "      <td>0.000000</td>\n",
       "      <td>1.000000</td>\n",
       "      <td>0.000000</td>\n",
       "      <td>0.420000</td>\n",
       "      <td>0.000000</td>\n",
       "      <td>0.000000</td>\n",
       "      <td>0.000000</td>\n",
       "    </tr>\n",
       "    <tr>\n",
       "      <th>25%</th>\n",
       "      <td>223.500000</td>\n",
       "      <td>0.000000</td>\n",
       "      <td>2.000000</td>\n",
       "      <td>0.000000</td>\n",
       "      <td>22.000000</td>\n",
       "      <td>0.000000</td>\n",
       "      <td>0.000000</td>\n",
       "      <td>7.910400</td>\n",
       "    </tr>\n",
       "    <tr>\n",
       "      <th>50%</th>\n",
       "      <td>446.000000</td>\n",
       "      <td>0.000000</td>\n",
       "      <td>3.000000</td>\n",
       "      <td>0.000000</td>\n",
       "      <td>28.000000</td>\n",
       "      <td>0.000000</td>\n",
       "      <td>0.000000</td>\n",
       "      <td>14.454200</td>\n",
       "    </tr>\n",
       "    <tr>\n",
       "      <th>75%</th>\n",
       "      <td>668.500000</td>\n",
       "      <td>1.000000</td>\n",
       "      <td>3.000000</td>\n",
       "      <td>1.000000</td>\n",
       "      <td>35.000000</td>\n",
       "      <td>1.000000</td>\n",
       "      <td>0.000000</td>\n",
       "      <td>31.000000</td>\n",
       "    </tr>\n",
       "    <tr>\n",
       "      <th>max</th>\n",
       "      <td>891.000000</td>\n",
       "      <td>1.000000</td>\n",
       "      <td>3.000000</td>\n",
       "      <td>1.000000</td>\n",
       "      <td>80.000000</td>\n",
       "      <td>8.000000</td>\n",
       "      <td>6.000000</td>\n",
       "      <td>512.329200</td>\n",
       "    </tr>\n",
       "  </tbody>\n",
       "</table>\n",
       "</div>"
      ],
      "text/plain": [
       "       PassengerId    Survived      Pclass         Sex         Age  \\\n",
       "count   891.000000  891.000000  891.000000  891.000000  891.000000   \n",
       "mean    446.000000    0.383838    2.308642    0.352413   29.361582   \n",
       "std     257.353842    0.486592    0.836071    0.477990   13.019697   \n",
       "min       1.000000    0.000000    1.000000    0.000000    0.420000   \n",
       "25%     223.500000    0.000000    2.000000    0.000000   22.000000   \n",
       "50%     446.000000    0.000000    3.000000    0.000000   28.000000   \n",
       "75%     668.500000    1.000000    3.000000    1.000000   35.000000   \n",
       "max     891.000000    1.000000    3.000000    1.000000   80.000000   \n",
       "\n",
       "            SibSp       Parch        Fare  \n",
       "count  891.000000  891.000000  891.000000  \n",
       "mean     0.523008    0.381594   32.204208  \n",
       "std      1.102743    0.806057   49.693429  \n",
       "min      0.000000    0.000000    0.000000  \n",
       "25%      0.000000    0.000000    7.910400  \n",
       "50%      0.000000    0.000000   14.454200  \n",
       "75%      1.000000    0.000000   31.000000  \n",
       "max      8.000000    6.000000  512.329200  "
      ]
     },
     "execution_count": 19,
     "metadata": {},
     "output_type": "execute_result"
    }
   ],
   "source": [
    "data.describe()"
   ]
  },
  {
   "cell_type": "code",
   "execution_count": 28,
   "id": "9be03200-85ee-4efe-b2ee-65e12b042554",
   "metadata": {},
   "outputs": [],
   "source": [
    "data['Cabin'] = data['Cabin'].fillna('Unknown')"
   ]
  },
  {
   "cell_type": "code",
   "execution_count": 29,
   "id": "7bb55a69-22e1-4775-9295-04c06cd8c0e0",
   "metadata": {},
   "outputs": [],
   "source": [
    "data['Embarked'] = data['Embarked'].fillna(data['Embarked'].mode()[0])"
   ]
  },
  {
   "cell_type": "code",
   "execution_count": 30,
   "id": "52fa5137-577f-467b-9d89-7d13643ee974",
   "metadata": {},
   "outputs": [
    {
     "data": {
      "text/plain": [
       "PassengerId    0\n",
       "Survived       0\n",
       "Pclass         0\n",
       "Name           0\n",
       "Sex            0\n",
       "Age            0\n",
       "SibSp          0\n",
       "Parch          0\n",
       "Ticket         0\n",
       "Fare           0\n",
       "Cabin          0\n",
       "Embarked       0\n",
       "dtype: int64"
      ]
     },
     "execution_count": 30,
     "metadata": {},
     "output_type": "execute_result"
    }
   ],
   "source": [
    "data.isnull().sum()"
   ]
  },
  {
   "cell_type": "code",
   "execution_count": 35,
   "id": "33acbe43-e2ff-471f-bee5-c35461101f25",
   "metadata": {},
   "outputs": [
    {
     "data": {
      "text/plain": [
       "PassengerId    891\n",
       "Survived         2\n",
       "Pclass           3\n",
       "Name           891\n",
       "Sex              2\n",
       "Age             88\n",
       "SibSp            7\n",
       "Parch            7\n",
       "Ticket         681\n",
       "Fare           248\n",
       "Cabin          148\n",
       "Embarked         3\n",
       "dtype: int64"
      ]
     },
     "execution_count": 35,
     "metadata": {},
     "output_type": "execute_result"
    }
   ],
   "source": [
    "data.nunique()"
   ]
  },
  {
   "cell_type": "code",
   "execution_count": 36,
   "id": "b5a2c0fd-8fe3-48e3-b1a5-170d4e8b5b31",
   "metadata": {},
   "outputs": [],
   "source": [
    "# Split the data into reference and current datasets\n",
    "reference_data = data.sample(frac=0.7, random_state=42)  # 70% as reference\n",
    "current_data = data.drop(reference_data.index)  # Remaining 30% as current"
   ]
  },
  {
   "cell_type": "code",
   "execution_count": 37,
   "id": "44e9876f-c016-4555-8e3f-1854f6446f58",
   "metadata": {},
   "outputs": [
    {
     "data": {
      "text/html": [
       "<div>\n",
       "<style scoped>\n",
       "    .dataframe tbody tr th:only-of-type {\n",
       "        vertical-align: middle;\n",
       "    }\n",
       "\n",
       "    .dataframe tbody tr th {\n",
       "        vertical-align: top;\n",
       "    }\n",
       "\n",
       "    .dataframe thead th {\n",
       "        text-align: right;\n",
       "    }\n",
       "</style>\n",
       "<table border=\"1\" class=\"dataframe\">\n",
       "  <thead>\n",
       "    <tr style=\"text-align: right;\">\n",
       "      <th></th>\n",
       "      <th>PassengerId</th>\n",
       "      <th>Survived</th>\n",
       "      <th>Pclass</th>\n",
       "      <th>Name</th>\n",
       "      <th>Sex</th>\n",
       "      <th>Age</th>\n",
       "      <th>SibSp</th>\n",
       "      <th>Parch</th>\n",
       "      <th>Ticket</th>\n",
       "      <th>Fare</th>\n",
       "      <th>Cabin</th>\n",
       "      <th>Embarked</th>\n",
       "    </tr>\n",
       "  </thead>\n",
       "  <tbody>\n",
       "    <tr>\n",
       "      <th>count</th>\n",
       "      <td>624.000000</td>\n",
       "      <td>624.000000</td>\n",
       "      <td>624.000000</td>\n",
       "      <td>624</td>\n",
       "      <td>624.000000</td>\n",
       "      <td>624.000000</td>\n",
       "      <td>624.000000</td>\n",
       "      <td>624.000000</td>\n",
       "      <td>624</td>\n",
       "      <td>624.000000</td>\n",
       "      <td>624</td>\n",
       "      <td>624</td>\n",
       "    </tr>\n",
       "    <tr>\n",
       "      <th>unique</th>\n",
       "      <td>NaN</td>\n",
       "      <td>NaN</td>\n",
       "      <td>NaN</td>\n",
       "      <td>624</td>\n",
       "      <td>NaN</td>\n",
       "      <td>NaN</td>\n",
       "      <td>NaN</td>\n",
       "      <td>NaN</td>\n",
       "      <td>509</td>\n",
       "      <td>NaN</td>\n",
       "      <td>113</td>\n",
       "      <td>3</td>\n",
       "    </tr>\n",
       "    <tr>\n",
       "      <th>top</th>\n",
       "      <td>NaN</td>\n",
       "      <td>NaN</td>\n",
       "      <td>NaN</td>\n",
       "      <td>Greenberg, Mr. Samuel</td>\n",
       "      <td>NaN</td>\n",
       "      <td>NaN</td>\n",
       "      <td>NaN</td>\n",
       "      <td>NaN</td>\n",
       "      <td>382652</td>\n",
       "      <td>NaN</td>\n",
       "      <td>Unknown</td>\n",
       "      <td>S</td>\n",
       "    </tr>\n",
       "    <tr>\n",
       "      <th>freq</th>\n",
       "      <td>NaN</td>\n",
       "      <td>NaN</td>\n",
       "      <td>NaN</td>\n",
       "      <td>1</td>\n",
       "      <td>NaN</td>\n",
       "      <td>NaN</td>\n",
       "      <td>NaN</td>\n",
       "      <td>NaN</td>\n",
       "      <td>5</td>\n",
       "      <td>NaN</td>\n",
       "      <td>488</td>\n",
       "      <td>440</td>\n",
       "    </tr>\n",
       "    <tr>\n",
       "      <th>mean</th>\n",
       "      <td>438.080128</td>\n",
       "      <td>0.391026</td>\n",
       "      <td>2.314103</td>\n",
       "      <td>NaN</td>\n",
       "      <td>0.360577</td>\n",
       "      <td>29.239984</td>\n",
       "      <td>0.504808</td>\n",
       "      <td>0.400641</td>\n",
       "      <td>NaN</td>\n",
       "      <td>31.846708</td>\n",
       "      <td>NaN</td>\n",
       "      <td>NaN</td>\n",
       "    </tr>\n",
       "    <tr>\n",
       "      <th>std</th>\n",
       "      <td>258.247396</td>\n",
       "      <td>0.488372</td>\n",
       "      <td>0.831209</td>\n",
       "      <td>NaN</td>\n",
       "      <td>0.480553</td>\n",
       "      <td>13.146780</td>\n",
       "      <td>1.018280</td>\n",
       "      <td>0.815027</td>\n",
       "      <td>NaN</td>\n",
       "      <td>49.422675</td>\n",
       "      <td>NaN</td>\n",
       "      <td>NaN</td>\n",
       "    </tr>\n",
       "    <tr>\n",
       "      <th>min</th>\n",
       "      <td>1.000000</td>\n",
       "      <td>0.000000</td>\n",
       "      <td>1.000000</td>\n",
       "      <td>NaN</td>\n",
       "      <td>0.000000</td>\n",
       "      <td>0.750000</td>\n",
       "      <td>0.000000</td>\n",
       "      <td>0.000000</td>\n",
       "      <td>NaN</td>\n",
       "      <td>0.000000</td>\n",
       "      <td>NaN</td>\n",
       "      <td>NaN</td>\n",
       "    </tr>\n",
       "    <tr>\n",
       "      <th>25%</th>\n",
       "      <td>213.750000</td>\n",
       "      <td>0.000000</td>\n",
       "      <td>2.000000</td>\n",
       "      <td>NaN</td>\n",
       "      <td>0.000000</td>\n",
       "      <td>22.000000</td>\n",
       "      <td>0.000000</td>\n",
       "      <td>0.000000</td>\n",
       "      <td>NaN</td>\n",
       "      <td>7.925000</td>\n",
       "      <td>NaN</td>\n",
       "      <td>NaN</td>\n",
       "    </tr>\n",
       "    <tr>\n",
       "      <th>50%</th>\n",
       "      <td>434.500000</td>\n",
       "      <td>0.000000</td>\n",
       "      <td>3.000000</td>\n",
       "      <td>NaN</td>\n",
       "      <td>0.000000</td>\n",
       "      <td>28.000000</td>\n",
       "      <td>0.000000</td>\n",
       "      <td>0.000000</td>\n",
       "      <td>NaN</td>\n",
       "      <td>14.500000</td>\n",
       "      <td>NaN</td>\n",
       "      <td>NaN</td>\n",
       "    </tr>\n",
       "    <tr>\n",
       "      <th>75%</th>\n",
       "      <td>658.250000</td>\n",
       "      <td>1.000000</td>\n",
       "      <td>3.000000</td>\n",
       "      <td>NaN</td>\n",
       "      <td>1.000000</td>\n",
       "      <td>35.000000</td>\n",
       "      <td>1.000000</td>\n",
       "      <td>1.000000</td>\n",
       "      <td>NaN</td>\n",
       "      <td>30.178100</td>\n",
       "      <td>NaN</td>\n",
       "      <td>NaN</td>\n",
       "    </tr>\n",
       "    <tr>\n",
       "      <th>max</th>\n",
       "      <td>891.000000</td>\n",
       "      <td>1.000000</td>\n",
       "      <td>3.000000</td>\n",
       "      <td>NaN</td>\n",
       "      <td>1.000000</td>\n",
       "      <td>80.000000</td>\n",
       "      <td>8.000000</td>\n",
       "      <td>6.000000</td>\n",
       "      <td>NaN</td>\n",
       "      <td>512.329200</td>\n",
       "      <td>NaN</td>\n",
       "      <td>NaN</td>\n",
       "    </tr>\n",
       "  </tbody>\n",
       "</table>\n",
       "</div>"
      ],
      "text/plain": [
       "        PassengerId    Survived      Pclass                   Name  \\\n",
       "count    624.000000  624.000000  624.000000                    624   \n",
       "unique          NaN         NaN         NaN                    624   \n",
       "top             NaN         NaN         NaN  Greenberg, Mr. Samuel   \n",
       "freq            NaN         NaN         NaN                      1   \n",
       "mean     438.080128    0.391026    2.314103                    NaN   \n",
       "std      258.247396    0.488372    0.831209                    NaN   \n",
       "min        1.000000    0.000000    1.000000                    NaN   \n",
       "25%      213.750000    0.000000    2.000000                    NaN   \n",
       "50%      434.500000    0.000000    3.000000                    NaN   \n",
       "75%      658.250000    1.000000    3.000000                    NaN   \n",
       "max      891.000000    1.000000    3.000000                    NaN   \n",
       "\n",
       "               Sex         Age       SibSp       Parch  Ticket        Fare  \\\n",
       "count   624.000000  624.000000  624.000000  624.000000     624  624.000000   \n",
       "unique         NaN         NaN         NaN         NaN     509         NaN   \n",
       "top            NaN         NaN         NaN         NaN  382652         NaN   \n",
       "freq           NaN         NaN         NaN         NaN       5         NaN   \n",
       "mean      0.360577   29.239984    0.504808    0.400641     NaN   31.846708   \n",
       "std       0.480553   13.146780    1.018280    0.815027     NaN   49.422675   \n",
       "min       0.000000    0.750000    0.000000    0.000000     NaN    0.000000   \n",
       "25%       0.000000   22.000000    0.000000    0.000000     NaN    7.925000   \n",
       "50%       0.000000   28.000000    0.000000    0.000000     NaN   14.500000   \n",
       "75%       1.000000   35.000000    1.000000    1.000000     NaN   30.178100   \n",
       "max       1.000000   80.000000    8.000000    6.000000     NaN  512.329200   \n",
       "\n",
       "          Cabin Embarked  \n",
       "count       624      624  \n",
       "unique      113        3  \n",
       "top     Unknown        S  \n",
       "freq        488      440  \n",
       "mean        NaN      NaN  \n",
       "std         NaN      NaN  \n",
       "min         NaN      NaN  \n",
       "25%         NaN      NaN  \n",
       "50%         NaN      NaN  \n",
       "75%         NaN      NaN  \n",
       "max         NaN      NaN  "
      ]
     },
     "execution_count": 37,
     "metadata": {},
     "output_type": "execute_result"
    }
   ],
   "source": [
    "reference_data.describe(include='all')"
   ]
  },
  {
   "cell_type": "code",
   "execution_count": 32,
   "id": "dc4cf1cc-324d-4a9c-af5a-ebcbb2790c46",
   "metadata": {},
   "outputs": [
    {
     "data": {
      "text/plain": [
       "PassengerId    0\n",
       "Survived       0\n",
       "Pclass         0\n",
       "Name           0\n",
       "Sex            0\n",
       "Age            0\n",
       "SibSp          0\n",
       "Parch          0\n",
       "Ticket         0\n",
       "Fare           0\n",
       "Cabin          0\n",
       "Embarked       0\n",
       "dtype: int64"
      ]
     },
     "execution_count": 32,
     "metadata": {},
     "output_type": "execute_result"
    }
   ],
   "source": [
    "current_data.isnull().sum()"
   ]
  },
  {
   "cell_type": "code",
   "execution_count": null,
   "id": "f63e3024-b163-4a4c-9b06-b5bc2604d4ba",
   "metadata": {},
   "outputs": [],
   "source": []
  },
  {
   "cell_type": "code",
   "execution_count": 33,
   "id": "ba2d6cb6-dacc-4af2-935c-71010cd74b98",
   "metadata": {},
   "outputs": [
    {
     "data": {
      "text/plain": [
       "PassengerId    0\n",
       "Survived       0\n",
       "Pclass         0\n",
       "Name           0\n",
       "Sex            0\n",
       "Age            0\n",
       "SibSp          0\n",
       "Parch          0\n",
       "Ticket         0\n",
       "Fare           0\n",
       "Cabin          0\n",
       "Embarked       0\n",
       "dtype: int64"
      ]
     },
     "execution_count": 33,
     "metadata": {},
     "output_type": "execute_result"
    }
   ],
   "source": [
    "reference_data.isnull().sum()"
   ]
  },
  {
   "cell_type": "code",
   "execution_count": 34,
   "id": "163537a5-808d-4b30-9355-4bcf151dec2e",
   "metadata": {},
   "outputs": [
    {
     "name": "stderr",
     "output_type": "stream",
     "text": [
      "/home/rajaraman/miniconda3/envs/ml312/lib/python3.12/site-packages/scipy/stats/_stats_py.py:8064: RuntimeWarning: divide by zero encountered in divide\n",
      "  terms = (f_obs_float - f_exp)**2 / f_exp\n",
      "/home/rajaraman/miniconda3/envs/ml312/lib/python3.12/site-packages/scipy/stats/_stats_py.py:8064: RuntimeWarning: divide by zero encountered in divide\n",
      "  terms = (f_obs_float - f_exp)**2 / f_exp\n",
      "/home/rajaraman/miniconda3/envs/ml312/lib/python3.12/site-packages/scipy/stats/_stats_py.py:8064: RuntimeWarning: divide by zero encountered in divide\n",
      "  terms = (f_obs_float - f_exp)**2 / f_exp\n",
      "/home/rajaraman/miniconda3/envs/ml312/lib/python3.12/site-packages/scipy/stats/_stats_py.py:8064: RuntimeWarning: divide by zero encountered in divide\n",
      "  terms = (f_obs_float - f_exp)**2 / f_exp\n",
      "/home/rajaraman/miniconda3/envs/ml312/lib/python3.12/site-packages/scipy/stats/_stats_py.py:8064: RuntimeWarning: divide by zero encountered in divide\n",
      "  terms = (f_obs_float - f_exp)**2 / f_exp\n",
      "/home/rajaraman/miniconda3/envs/ml312/lib/python3.12/site-packages/scipy/stats/_stats_py.py:8064: RuntimeWarning: divide by zero encountered in divide\n",
      "  terms = (f_obs_float - f_exp)**2 / f_exp\n"
     ]
    }
   ],
   "source": [
    "# Run the report\n",
    "report.run(reference_data=reference_data, current_data=current_data)"
   ]
  },
  {
   "cell_type": "code",
   "execution_count": 38,
   "id": "d3e97556-09a7-4141-aeb3-3c51a35f0f24",
   "metadata": {},
   "outputs": [],
   "source": [
    "from evidently.report import Report\n",
    "from evidently.metric_preset import DataDriftPreset"
   ]
  },
  {
   "cell_type": "code",
   "execution_count": 39,
   "id": "fdd46ed4-3577-4689-a073-04f28a2a6ce8",
   "metadata": {},
   "outputs": [],
   "source": [
    "# Initialize the report with the Data Drift preset\n",
    "report = Report(metrics=[DataDriftPreset()])"
   ]
  },
  {
   "cell_type": "code",
   "execution_count": 40,
   "id": "7c9e399b-d05b-4108-9f47-fecd9ccf6c92",
   "metadata": {},
   "outputs": [
    {
     "name": "stderr",
     "output_type": "stream",
     "text": [
      "/home/rajaraman/miniconda3/envs/ml312/lib/python3.12/site-packages/scipy/stats/_stats_py.py:8064: RuntimeWarning: divide by zero encountered in divide\n",
      "  terms = (f_obs_float - f_exp)**2 / f_exp\n",
      "/home/rajaraman/miniconda3/envs/ml312/lib/python3.12/site-packages/scipy/stats/_stats_py.py:8064: RuntimeWarning: divide by zero encountered in divide\n",
      "  terms = (f_obs_float - f_exp)**2 / f_exp\n",
      "/home/rajaraman/miniconda3/envs/ml312/lib/python3.12/site-packages/scipy/stats/_stats_py.py:8064: RuntimeWarning: divide by zero encountered in divide\n",
      "  terms = (f_obs_float - f_exp)**2 / f_exp\n",
      "/home/rajaraman/miniconda3/envs/ml312/lib/python3.12/site-packages/scipy/stats/_stats_py.py:8064: RuntimeWarning: divide by zero encountered in divide\n",
      "  terms = (f_obs_float - f_exp)**2 / f_exp\n",
      "/home/rajaraman/miniconda3/envs/ml312/lib/python3.12/site-packages/scipy/stats/_stats_py.py:8064: RuntimeWarning: divide by zero encountered in divide\n",
      "  terms = (f_obs_float - f_exp)**2 / f_exp\n",
      "/home/rajaraman/miniconda3/envs/ml312/lib/python3.12/site-packages/scipy/stats/_stats_py.py:8064: RuntimeWarning: divide by zero encountered in divide\n",
      "  terms = (f_obs_float - f_exp)**2 / f_exp\n"
     ]
    }
   ],
   "source": [
    "# Run the report\n",
    "report.run(reference_data=reference_data, current_data=current_data)"
   ]
  },
  {
   "cell_type": "code",
   "execution_count": 41,
   "id": "a30e7909-756a-442a-9dc6-ae015664e564",
   "metadata": {},
   "outputs": [],
   "source": [
    "# Save the report to an HTML file\n",
    "report.save_html('titanic_data_drift_report.html')"
   ]
  },
  {
   "cell_type": "code",
   "execution_count": null,
   "id": "b7c7e6aa-1feb-44d1-bba9-5b5e3e765ba2",
   "metadata": {},
   "outputs": [],
   "source": []
  },
  {
   "cell_type": "code",
   "execution_count": 44,
   "id": "773263ef-543b-4a13-b41e-b01360599b49",
   "metadata": {},
   "outputs": [
    {
     "name": "stdout",
     "output_type": "stream",
     "text": [
      "<class 'pandas.core.frame.DataFrame'>\n",
      "Index: 624 entries, 709 to 714\n",
      "Data columns (total 12 columns):\n",
      " #   Column       Non-Null Count  Dtype  \n",
      "---  ------       --------------  -----  \n",
      " 0   PassengerId  624 non-null    int64  \n",
      " 1   Survived     624 non-null    int64  \n",
      " 2   Pclass       624 non-null    int64  \n",
      " 3   Name         624 non-null    object \n",
      " 4   Sex          624 non-null    int64  \n",
      " 5   Age          624 non-null    float64\n",
      " 6   SibSp        624 non-null    int64  \n",
      " 7   Parch        624 non-null    int64  \n",
      " 8   Ticket       624 non-null    object \n",
      " 9   Fare         624 non-null    float64\n",
      " 10  Cabin        624 non-null    object \n",
      " 11  Embarked     624 non-null    object \n",
      "dtypes: float64(2), int64(6), object(4)\n",
      "memory usage: 63.4+ KB\n"
     ]
    }
   ],
   "source": [
    "reference_data.info()"
   ]
  },
  {
   "cell_type": "code",
   "execution_count": 45,
   "id": "7f21d1ed-3bde-453d-87e4-8bbef886c2a3",
   "metadata": {},
   "outputs": [
    {
     "name": "stdout",
     "output_type": "stream",
     "text": [
      "<class 'pandas.core.frame.DataFrame'>\n",
      "Index: 267 entries, 1 to 887\n",
      "Data columns (total 12 columns):\n",
      " #   Column       Non-Null Count  Dtype  \n",
      "---  ------       --------------  -----  \n",
      " 0   PassengerId  267 non-null    int64  \n",
      " 1   Survived     267 non-null    int64  \n",
      " 2   Pclass       267 non-null    int64  \n",
      " 3   Name         267 non-null    object \n",
      " 4   Sex          267 non-null    int64  \n",
      " 5   Age          267 non-null    float64\n",
      " 6   SibSp        267 non-null    int64  \n",
      " 7   Parch        267 non-null    int64  \n",
      " 8   Ticket       267 non-null    object \n",
      " 9   Fare         267 non-null    float64\n",
      " 10  Cabin        267 non-null    object \n",
      " 11  Embarked     267 non-null    object \n",
      "dtypes: float64(2), int64(6), object(4)\n",
      "memory usage: 27.1+ KB\n"
     ]
    }
   ],
   "source": [
    "current_data.info()"
   ]
  },
  {
   "cell_type": "code",
   "execution_count": null,
   "id": "ad078c1e-c61f-43a5-8cfe-7c999e773ba9",
   "metadata": {},
   "outputs": [],
   "source": []
  },
  {
   "cell_type": "code",
   "execution_count": null,
   "id": "0c8e675c-1368-40e6-b5e9-ee3eece4e9f0",
   "metadata": {},
   "outputs": [],
   "source": []
  }
 ],
 "metadata": {
  "kernelspec": {
   "display_name": "Python 3 (ipykernel)",
   "language": "python",
   "name": "python3"
  },
  "language_info": {
   "codemirror_mode": {
    "name": "ipython",
    "version": 3
   },
   "file_extension": ".py",
   "mimetype": "text/x-python",
   "name": "python",
   "nbconvert_exporter": "python",
   "pygments_lexer": "ipython3",
   "version": "3.12.4"
  }
 },
 "nbformat": 4,
 "nbformat_minor": 5
}

{
 "cells": [
  {
   "cell_type": "code",
   "execution_count": 1,
   "id": "6b1ca1e9-2d2a-4cce-a63f-1a1d8480ff4e",
   "metadata": {},
   "outputs": [
    {
     "data": {
      "text/markdown": [
       "![Image Description](deer.jpg)"
      ],
      "text/plain": [
       "<IPython.core.display.Markdown object>"
      ]
     },
     "metadata": {},
     "output_type": "display_data"
    }
   ],
   "source": [
    "from IPython.display import Markdown, display\n",
    "\n",
    "# Path to your PNG file\n",
    "image_path = 'deer.jpg'\n",
    "\n",
    "# Display the image inline\n",
    "display(Markdown(f\"![Image Description]({image_path})\"))"
   ]
  },
  {
   "cell_type": "code",
   "execution_count": null,
   "id": "0cf07331-b012-42a6-aa19-8e89145d4184",
   "metadata": {},
   "outputs": [],
   "source": []
  }
 ],
 "metadata": {
  "kernelspec": {
   "display_name": "Python 3 (ipykernel)",
   "language": "python",
   "name": "python3"
  },
  "language_info": {
   "codemirror_mode": {
    "name": "ipython",
    "version": 3
   },
   "file_extension": ".py",
   "mimetype": "text/x-python",
   "name": "python",
   "nbconvert_exporter": "python",
   "pygments_lexer": "ipython3",
   "version": "3.10.5"
  }
 },
 "nbformat": 4,
 "nbformat_minor": 5
}

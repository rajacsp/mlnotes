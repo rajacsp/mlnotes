{
 "cells": [
  {
   "cell_type": "code",
   "execution_count": 1,
   "id": "69c326c8-4f31-4621-b2f5-c3ef27406b69",
   "metadata": {},
   "outputs": [],
   "source": [
    "from gliner import GLiNER"
   ]
  },
  {
   "cell_type": "code",
   "execution_count": null,
   "id": "5a1ed780-2ce0-40a1-9d9d-2158728d379d",
   "metadata": {},
   "outputs": [],
   "source": [
    "# https://genius.com/Genius-english-translations-bts-on-english-translation-lyrics"
   ]
  },
  {
   "cell_type": "code",
   "execution_count": 2,
   "id": "43a9d409-6651-406c-934a-a46330d8da87",
   "metadata": {},
   "outputs": [
    {
     "data": {
      "application/vnd.jupyter.widget-view+json": {
       "model_id": "a1deba84e34748d38c64f97cd32c6f3d",
       "version_major": 2,
       "version_minor": 0
      },
      "text/plain": [
       "Fetching 5 files:   0%|          | 0/5 [00:00<?, ?it/s]"
      ]
     },
     "metadata": {},
     "output_type": "display_data"
    },
    {
     "name": "stderr",
     "output_type": "stream",
     "text": [
      "/home/rajaraman/miniconda3/envs/ml312/lib/python3.12/site-packages/transformers/convert_slow_tokenizer.py:562: UserWarning: The sentencepiece tokenizer that you are converting to a fast tokenizer uses the byte fallback option which is not implemented in the fast tokenizers. In practice this means that the fast version of the tokenizer can produce unknown tokens whereas the sentencepiece version would have converted these unknown tokens into a sequence of byte tokens matching the original piece of text.\n",
      "  warnings.warn(\n"
     ]
    }
   ],
   "source": [
    "# Initialize GLiNER with a pre-trained model\n",
    "model = GLiNER.from_pretrained(\"urchade/gliner_medium-v2.1\")  # Adjust to a location-specific model if needed"
   ]
  },
  {
   "cell_type": "code",
   "execution_count": 3,
   "id": "8bd2e1d3-4461-4c39-906a-6bfb1c1df109",
   "metadata": {},
   "outputs": [],
   "source": [
    "# Input text\n",
    "text = \"\"\"\n",
    "[Verse 1: Jimin, V]\n",
    "I can't understand what people are sayin'\n",
    "Who and what do I need to follow\n",
    "With each step then again grows the shadow\n",
    "Where is this place I open my eyes to\n",
    "Maybe Seoul or New York or Paris\n",
    "I get up, unsteady on my feet (Yeah)\n",
    "\n",
    "[Verse 2: RM]\n",
    "(Look) Look at my feet, look down\n",
    "The shadow resembles me\n",
    "Is it the shadow that's shaking\n",
    "Or is it my feet that are trembling\n",
    "Of course I'm not unafraid\n",
    "Of course it's not all okay\n",
    "But I know\n",
    "Awkwardly I flow\n",
    "I fly together with that black wind\n",
    "\n",
    "[Pre-Chorus: Jimin, Jung Kook, Jin]\n",
    "(Hey, na-na-na) Gotta go insane to stay sane\n",
    "(Hey, na-na-na) Throw myself whole into both worlds\n",
    "(Hey, na-na-na) Can't hold me down 'cause you know I'm a fighter\n",
    "Carried myself into this beautiful prison\n",
    "Find me and I'm gonna live with ya\n",
    "\n",
    "[Chorus: Jung Kook & Jimin, Jung Kook, Jimin]\n",
    "(Eh-oh) Bring it, bring the pain, oh yeah\n",
    "(Eh-oh) Come on up, bring the pain, oh yeah\n",
    "Rain be pourin', sky keep fallin'\n",
    "Everyday, oh na-na-na\n",
    "(Eh-oh) Bring it, bring the pain, oh yeah\n",
    "\n",
    "[Verse 3: j-hope]\n",
    "Bring the pain\n",
    "It'll become my blood and flesh\n",
    "Bring the pain\n",
    "No fear, now that I know the way\n",
    "Breathe on the small things\n",
    "My air and my light in the dark\n",
    "The power of the things that make me, \"me\"\n",
    "Even if I fall, I come right up, scream\n",
    "\n",
    "[Verse 4: SUGA]\n",
    "Even if I fall, I come right up, scream\n",
    "That's how we've always been\n",
    "Even if my knees drop to the ground\n",
    "As long as they don't get buried\n",
    "It's going to be just an ordinary happening\n",
    "Win no matter what\n",
    "Win no matter what\n",
    "Win no matter what\n",
    "Whatever you say, whatever they say\n",
    "I don't give a uhh\n",
    "I don't give a uhh\n",
    "I don't give a uhh, yeah\n",
    "\n",
    "[Pre-Chorus: Jimin, V, Jung Kook]\n",
    "(Hey, na-na-na) Gotta go insane to stay sane\n",
    "(Hey, na-na-na) Throw myself whole into both worlds\n",
    "(Hey, na-na-na) Can't hold me down 'cause you know I'm a fighter\n",
    "Carried myself into this beautiful prison\n",
    "Find me and I'm gonna live with ya\n",
    "\"\"\""
   ]
  },
  {
   "cell_type": "code",
   "execution_count": 4,
   "id": "deefa632-82d8-4616-933b-0f9660b283a3",
   "metadata": {},
   "outputs": [],
   "source": [
    "# Define the entity label for location extraction\n",
    "labels = [\"LOCATION\"]"
   ]
  },
  {
   "cell_type": "code",
   "execution_count": 5,
   "id": "6ca277af-8f00-4a7b-b832-193368c110a9",
   "metadata": {},
   "outputs": [
    {
     "name": "stderr",
     "output_type": "stream",
     "text": [
      "/home/rajaraman/miniconda3/envs/ml312/lib/python3.12/site-packages/gliner/data_processing/processor.py:269: UserWarning: Sentence of length 484 has been truncated to 384\n",
      "  warnings.warn(f\"Sentence of length {len(tokens)} has been truncated to {max_len}\")\n",
      "Asking to truncate to max_length but no maximum length is provided and the model has no predefined maximum length. Default to no truncation.\n"
     ]
    }
   ],
   "source": [
    "# Perform entity prediction\n",
    "locations = model.predict_entities(text, labels, threshold=0.5)"
   ]
  },
  {
   "cell_type": "code",
   "execution_count": 6,
   "id": "17e11e4d-2b05-4cd7-b83b-d976ea924363",
   "metadata": {},
   "outputs": [
    {
     "name": "stdout",
     "output_type": "stream",
     "text": [
      "Extracted Locations:\n",
      "Seoul => LOCATION\n",
      "New York => LOCATION\n",
      "Paris => LOCATION\n"
     ]
    }
   ],
   "source": [
    "# Display the extracted locations\n",
    "print(\"Extracted Locations:\")\n",
    "for loc in locations:\n",
    "    print(f\"{loc['text']} => {loc['label']}\")"
   ]
  },
  {
   "cell_type": "code",
   "execution_count": null,
   "id": "ce4edb4c-b75c-44fd-9c0a-5af80766c15b",
   "metadata": {},
   "outputs": [],
   "source": []
  }
 ],
 "metadata": {
  "kernelspec": {
   "display_name": "Python 3 (ipykernel)",
   "language": "python",
   "name": "python3"
  },
  "language_info": {
   "codemirror_mode": {
    "name": "ipython",
    "version": 3
   },
   "file_extension": ".py",
   "mimetype": "text/x-python",
   "name": "python",
   "nbconvert_exporter": "python",
   "pygments_lexer": "ipython3",
   "version": "3.12.4"
  }
 },
 "nbformat": 4,
 "nbformat_minor": 5
}

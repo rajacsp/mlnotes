{
 "cells": [
  {
   "cell_type": "code",
   "execution_count": 1,
   "id": "5270daab-c961-4a4d-be78-fd7addee7949",
   "metadata": {},
   "outputs": [],
   "source": [
    "import re\n",
    "from gliner import GLiNER"
   ]
  },
  {
   "cell_type": "code",
   "execution_count": 2,
   "id": "67010913-c3aa-4cab-b867-bc8dbeef05cb",
   "metadata": {},
   "outputs": [
    {
     "data": {
      "application/vnd.jupyter.widget-view+json": {
       "model_id": "07265161a99941dcaa03abdfbc45498f",
       "version_major": 2,
       "version_minor": 0
      },
      "text/plain": [
       "Fetching 5 files:   0%|          | 0/5 [00:00<?, ?it/s]"
      ]
     },
     "metadata": {},
     "output_type": "display_data"
    },
    {
     "name": "stderr",
     "output_type": "stream",
     "text": [
      "/home/rajaraman/miniconda3/envs/ml312/lib/python3.12/site-packages/transformers/convert_slow_tokenizer.py:562: UserWarning: The sentencepiece tokenizer that you are converting to a fast tokenizer uses the byte fallback option which is not implemented in the fast tokenizers. In practice this means that the fast version of the tokenizer can produce unknown tokens whereas the sentencepiece version would have converted these unknown tokens into a sequence of byte tokens matching the original piece of text.\n",
      "  warnings.warn(\n"
     ]
    }
   ],
   "source": [
    "# Initialize GLiNER with a pre-trained model\n",
    "model = GLiNER.from_pretrained(\"urchade/gliner_medium-v2.1\")  # Replace with a location-specific model if available"
   ]
  },
  {
   "cell_type": "code",
   "execution_count": 3,
   "id": "d12745cf-ec78-47e0-b2da-c88b93548bd9",
   "metadata": {},
   "outputs": [],
   "source": [
    "# Input text\n",
    "text = \"\"\"\n",
    "John traveled from New York to San Francisco last week. \n",
    "He stopped by Chicago and Denver on his way. His next trip will be to Toronto, Canada. \n",
    "He visited the Eiffel Tower in Paris and stayed in London for a week.\n",
    "\"\"\""
   ]
  },
  {
   "cell_type": "code",
   "execution_count": 4,
   "id": "3aadb2f2-2d3e-4ec1-862b-cacd920968a2",
   "metadata": {},
   "outputs": [],
   "source": [
    "# Define GLiNER labels\n",
    "labels = [\"LOCATION\"]"
   ]
  },
  {
   "cell_type": "code",
   "execution_count": 5,
   "id": "7117ee83-154d-4a0d-821a-3ddb55958e74",
   "metadata": {},
   "outputs": [
    {
     "name": "stderr",
     "output_type": "stream",
     "text": [
      "Asking to truncate to max_length but no maximum length is provided and the model has no predefined maximum length. Default to no truncation.\n"
     ]
    }
   ],
   "source": [
    "# Step 1: GLiNER's predictions\n",
    "gliner_predictions = model.predict_entities(text, labels, threshold=0.5)\n",
    "gliner_locations = {pred['text'] for pred in gliner_predictions}  # Use a set for easy merging"
   ]
  },
  {
   "cell_type": "code",
   "execution_count": 6,
   "id": "d0c7aebd-53cb-4671-bf87-6ed7c85b29a3",
   "metadata": {},
   "outputs": [],
   "source": [
    "# Step 2: Rules-based predictions using Regex (example for capitalized words indicating locations)\n",
    "rules_based_predictions = set(re.findall(r\"\\b[A-Z][a-z]+\\b(?: [A-Z][a-z]+)*\", text))"
   ]
  },
  {
   "cell_type": "code",
   "execution_count": 7,
   "id": "0048a352-4012-4efe-bcab-48d7cbd1c30a",
   "metadata": {},
   "outputs": [],
   "source": [
    "# Step 3: Combine GLiNER and Rules-Based Predictions\n",
    "combined_predictions = gliner_locations.union(rules_based_predictions)"
   ]
  },
  {
   "cell_type": "code",
   "execution_count": 8,
   "id": "5dc74dbd-169a-43d7-bd7e-444a7adf4300",
   "metadata": {},
   "outputs": [],
   "source": [
    "# Step 4: Optional Heuristic Filtering (e.g., exclude common nouns that aren't locations)\n",
    "known_non_locations = {\"John\", \"Tower\", \"week\"}\n",
    "final_predictions = {location for location in combined_predictions if location not in known_non_locations}"
   ]
  },
  {
   "cell_type": "code",
   "execution_count": 9,
   "id": "9ee61a27-22a5-4bfa-8158-8846a6b52e6e",
   "metadata": {},
   "outputs": [
    {
     "name": "stdout",
     "output_type": "stream",
     "text": [
      "GLiNER Predictions: {'Eiffel Tower', 'San Francisco', 'Denver', 'New York', 'Paris', 'Canada', 'Toronto', 'London', 'Chicago'}\n",
      "Rules-Based Predictions: {'Eiffel Tower', 'San Francisco', 'Denver', 'His', 'New York', 'John', 'Paris', 'Canada', 'He', 'Toronto', 'London', 'Chicago'}\n",
      "Final Combined Predictions: {'Eiffel Tower', 'Denver', 'San Francisco', 'His', 'New York', 'Paris', 'Canada', 'He', 'Toronto', 'London', 'Chicago'}\n"
     ]
    }
   ],
   "source": [
    "# Display results\n",
    "print(\"GLiNER Predictions:\", gliner_locations)\n",
    "print(\"Rules-Based Predictions:\", rules_based_predictions)\n",
    "print(\"Final Combined Predictions:\", final_predictions)"
   ]
  },
  {
   "cell_type": "code",
   "execution_count": null,
   "id": "bb8fd644-3c88-4f5a-9607-65c9d2f19ed0",
   "metadata": {},
   "outputs": [],
   "source": []
  }
 ],
 "metadata": {
  "kernelspec": {
   "display_name": "Python 3 (ipykernel)",
   "language": "python",
   "name": "python3"
  },
  "language_info": {
   "codemirror_mode": {
    "name": "ipython",
    "version": 3
   },
   "file_extension": ".py",
   "mimetype": "text/x-python",
   "name": "python",
   "nbconvert_exporter": "python",
   "pygments_lexer": "ipython3",
   "version": "3.12.4"
  }
 },
 "nbformat": 4,
 "nbformat_minor": 5
}

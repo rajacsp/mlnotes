{
 "cells": [
  {
   "cell_type": "code",
   "execution_count": null,
   "id": "9c50b2e5-e877-4e92-bdae-ad7744954cf5",
   "metadata": {},
   "outputs": [],
   "source": []
  },
  {
   "cell_type": "code",
   "execution_count": 1,
   "id": "2ba1d9ad-dc96-4cd6-9001-d87a88906f36",
   "metadata": {},
   "outputs": [],
   "source": [
    "from gliner import GLiNER"
   ]
  },
  {
   "cell_type": "code",
   "execution_count": 2,
   "id": "42f3cf38-5c31-4cf3-838b-be885b485825",
   "metadata": {},
   "outputs": [
    {
     "data": {
      "application/vnd.jupyter.widget-view+json": {
       "model_id": "31cc00d7353b4474a2c05cf12bfc1ae7",
       "version_major": 2,
       "version_minor": 0
      },
      "text/plain": [
       "Fetching 5 files:   0%|          | 0/5 [00:00<?, ?it/s]"
      ]
     },
     "metadata": {},
     "output_type": "display_data"
    },
    {
     "name": "stderr",
     "output_type": "stream",
     "text": [
      "/home/rajaraman/miniconda3/envs/ml312/lib/python3.12/site-packages/transformers/convert_slow_tokenizer.py:562: UserWarning: The sentencepiece tokenizer that you are converting to a fast tokenizer uses the byte fallback option which is not implemented in the fast tokenizers. In practice this means that the fast version of the tokenizer can produce unknown tokens whereas the sentencepiece version would have converted these unknown tokens into a sequence of byte tokens matching the original piece of text.\n",
      "  warnings.warn(\n"
     ]
    }
   ],
   "source": [
    "# Initialize GLiNER with a pre-trained model\n",
    "model = GLiNER.from_pretrained(\"urchade/gliner_medium-v2.1\")  # Adjust to a location-specific model if needed"
   ]
  },
  {
   "cell_type": "code",
   "execution_count": 3,
   "id": "4c036889-701d-4f3e-a838-fefa2f6c7fce",
   "metadata": {},
   "outputs": [],
   "source": [
    "# Input text\n",
    "text = \"\"\"\n",
    "John traveled from New York to San Francisco last week. \n",
    "He stopped by Chicago and Denver on his way. His next trip will be to Toronto, Canada.\n",
    "\"\"\""
   ]
  },
  {
   "cell_type": "code",
   "execution_count": 4,
   "id": "897eb198-2fa7-4af3-9d97-b002065b9a83",
   "metadata": {},
   "outputs": [],
   "source": [
    "# Define the entity label for location extraction\n",
    "labels = [\"LOCATION\"]"
   ]
  },
  {
   "cell_type": "code",
   "execution_count": 5,
   "id": "214f032f-b7f3-4ace-af2e-d20bc5f178c9",
   "metadata": {},
   "outputs": [
    {
     "name": "stderr",
     "output_type": "stream",
     "text": [
      "Asking to truncate to max_length but no maximum length is provided and the model has no predefined maximum length. Default to no truncation.\n"
     ]
    }
   ],
   "source": [
    "# Perform entity prediction\n",
    "locations = model.predict_entities(text, labels, threshold=0.5)"
   ]
  },
  {
   "cell_type": "code",
   "execution_count": 6,
   "id": "e9f68280-f669-4417-8425-c60c52bc88fb",
   "metadata": {},
   "outputs": [
    {
     "name": "stdout",
     "output_type": "stream",
     "text": [
      "Extracted Locations:\n",
      "New York => LOCATION\n",
      "San Francisco => LOCATION\n",
      "Chicago => LOCATION\n",
      "Denver => LOCATION\n",
      "Toronto => LOCATION\n",
      "Canada => LOCATION\n"
     ]
    }
   ],
   "source": [
    "# Display the extracted locations\n",
    "print(\"Extracted Locations:\")\n",
    "for loc in locations:\n",
    "    print(f\"{loc['text']} => {loc['label']}\")"
   ]
  },
  {
   "cell_type": "code",
   "execution_count": null,
   "id": "96a97b28-6d59-4dfd-9c1e-1927eaead02d",
   "metadata": {},
   "outputs": [],
   "source": []
  }
 ],
 "metadata": {
  "kernelspec": {
   "display_name": "Python 3 (ipykernel)",
   "language": "python",
   "name": "python3"
  },
  "language_info": {
   "codemirror_mode": {
    "name": "ipython",
    "version": 3
   },
   "file_extension": ".py",
   "mimetype": "text/x-python",
   "name": "python",
   "nbconvert_exporter": "python",
   "pygments_lexer": "ipython3",
   "version": "3.12.4"
  }
 },
 "nbformat": 4,
 "nbformat_minor": 5
}

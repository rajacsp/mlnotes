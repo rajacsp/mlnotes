{
 "cells": [
  {
   "cell_type": "code",
   "execution_count": 1,
   "id": "d420be21-3470-48ad-b104-c1b9a6bab86a",
   "metadata": {},
   "outputs": [],
   "source": [
    "from gliner import GLiNER"
   ]
  },
  {
   "cell_type": "code",
   "execution_count": 2,
   "id": "ba2e4018-5eb4-48e6-b6fa-10d266781051",
   "metadata": {},
   "outputs": [
    {
     "data": {
      "application/vnd.jupyter.widget-view+json": {
       "model_id": "9b6b77bc6f5b46e3aa4759d2b9235d63",
       "version_major": 2,
       "version_minor": 0
      },
      "text/plain": [
       "Fetching 5 files:   0%|          | 0/5 [00:00<?, ?it/s]"
      ]
     },
     "metadata": {},
     "output_type": "display_data"
    },
    {
     "name": "stderr",
     "output_type": "stream",
     "text": [
      "/home/rajaraman/miniconda3/envs/ml312/lib/python3.12/site-packages/transformers/convert_slow_tokenizer.py:562: UserWarning: The sentencepiece tokenizer that you are converting to a fast tokenizer uses the byte fallback option which is not implemented in the fast tokenizers. In practice this means that the fast version of the tokenizer can produce unknown tokens whereas the sentencepiece version would have converted these unknown tokens into a sequence of byte tokens matching the original piece of text.\n",
      "  warnings.warn(\n"
     ]
    }
   ],
   "source": [
    "# Initialize GLiNER with a pre-trained model\n",
    "model = GLiNER.from_pretrained(\"urchade/gliner_medium-v2.1\")  # Adjust model as needed"
   ]
  },
  {
   "cell_type": "code",
   "execution_count": 3,
   "id": "7a696808-eea5-4160-9dae-805827837341",
   "metadata": {},
   "outputs": [],
   "source": [
    "# Sample text containing a North American address\n",
    "text = \"\"\"\n",
    "1234 Elm Street, Apt 56B, Springfield, IL 62704\n",
    "5678 Maple Avenue, Suite 101, Denver, CO 80220\n",
    "9876 Pine Lane, #205, San Francisco, CA 94107\n",
    "\"\"\""
   ]
  },
  {
   "cell_type": "code",
   "execution_count": 4,
   "id": "793f3123-38f6-42f4-82a2-d2b8406358ed",
   "metadata": {},
   "outputs": [],
   "source": [
    "# Define the custom labels for entity prediction\n",
    "labels = [\"STREET_NAME\", \"SUITE_NO\", \"HOUSE_NO\"]"
   ]
  },
  {
   "cell_type": "code",
   "execution_count": 5,
   "id": "8f1b0bfe-c5fa-4e7b-abca-e228436d41ff",
   "metadata": {},
   "outputs": [
    {
     "name": "stderr",
     "output_type": "stream",
     "text": [
      "Asking to truncate to max_length but no maximum length is provided and the model has no predefined maximum length. Default to no truncation.\n"
     ]
    }
   ],
   "source": [
    "# Predict entities in the text\n",
    "entities = model.predict_entities(text, labels, threshold=0.5)"
   ]
  },
  {
   "cell_type": "code",
   "execution_count": 6,
   "id": "6ef96794-45e6-4016-b57d-e7264bdfd381",
   "metadata": {},
   "outputs": [
    {
     "name": "stdout",
     "output_type": "stream",
     "text": [
      "Extracted Entities:\n",
      "1234 Elm Street => STREET_NAME\n",
      "Apt 56B => HOUSE_NO\n",
      "5678 => STREET_NAME\n",
      "Maple Avenue => STREET_NAME\n",
      "Suite 101 => SUITE_NO\n",
      "Pine Lane => STREET_NAME\n",
      "#205 => SUITE_NO\n",
      "94107 => STREET_NAME\n"
     ]
    }
   ],
   "source": [
    "# Display the predicted entities\n",
    "print(\"Extracted Entities:\")\n",
    "for entity in entities:\n",
    "    print(f\"{entity['text']} => {entity['label']}\")"
   ]
  },
  {
   "cell_type": "code",
   "execution_count": null,
   "id": "40020838-9724-455d-be27-57c8d59be90e",
   "metadata": {},
   "outputs": [],
   "source": []
  }
 ],
 "metadata": {
  "kernelspec": {
   "display_name": "Python 3 (ipykernel)",
   "language": "python",
   "name": "python3"
  },
  "language_info": {
   "codemirror_mode": {
    "name": "ipython",
    "version": 3
   },
   "file_extension": ".py",
   "mimetype": "text/x-python",
   "name": "python",
   "nbconvert_exporter": "python",
   "pygments_lexer": "ipython3",
   "version": "3.12.4"
  }
 },
 "nbformat": 4,
 "nbformat_minor": 5
}

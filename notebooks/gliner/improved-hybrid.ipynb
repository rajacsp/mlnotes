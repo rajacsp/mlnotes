{
 "cells": [
  {
   "cell_type": "code",
   "execution_count": 2,
   "id": "f7dc56b3-fdd8-4204-9842-2184861fed45",
   "metadata": {},
   "outputs": [],
   "source": [
    "import re\n",
    "from gliner import GLiNER\n",
    "import spacy"
   ]
  },
  {
   "cell_type": "code",
   "execution_count": 3,
   "id": "46961991-98a1-473f-81a9-67681c07bd69",
   "metadata": {},
   "outputs": [],
   "source": [
    "# Load SpaCy English model\n",
    "nlp = spacy.blank(\"en\")"
   ]
  },
  {
   "cell_type": "code",
   "execution_count": 4,
   "id": "379e67f1-84ca-4708-89a4-522fbe78385e",
   "metadata": {},
   "outputs": [],
   "source": [
    "# Get SpaCy's stopword list\n",
    "stop_words = nlp.Defaults.stop_words"
   ]
  },
  {
   "cell_type": "code",
   "execution_count": 5,
   "id": "a60883a2-13e6-4faa-8b35-607908d33867",
   "metadata": {},
   "outputs": [
    {
     "data": {
      "application/vnd.jupyter.widget-view+json": {
       "model_id": "b32fca6a574642b3a3d3f8d51b21ae1b",
       "version_major": 2,
       "version_minor": 0
      },
      "text/plain": [
       "Fetching 5 files:   0%|          | 0/5 [00:00<?, ?it/s]"
      ]
     },
     "metadata": {},
     "output_type": "display_data"
    },
    {
     "name": "stderr",
     "output_type": "stream",
     "text": [
      "/home/rajaraman/miniconda3/envs/ml312/lib/python3.12/site-packages/transformers/convert_slow_tokenizer.py:562: UserWarning: The sentencepiece tokenizer that you are converting to a fast tokenizer uses the byte fallback option which is not implemented in the fast tokenizers. In practice this means that the fast version of the tokenizer can produce unknown tokens whereas the sentencepiece version would have converted these unknown tokens into a sequence of byte tokens matching the original piece of text.\n",
      "  warnings.warn(\n"
     ]
    }
   ],
   "source": [
    "# Initialize GLiNER with a pre-trained model\n",
    "model = GLiNER.from_pretrained(\"urchade/gliner_medium-v2.1\")"
   ]
  },
  {
   "cell_type": "code",
   "execution_count": 6,
   "id": "990caa31-f04a-4ec2-9209-14ee3a855e67",
   "metadata": {},
   "outputs": [],
   "source": [
    "# Input text\n",
    "text = \"\"\"\n",
    "John traveled from New York to San Francisco last week. \n",
    "He stopped by Chicago and Denver on his way. His next trip will be to Toronto, Canada. \n",
    "He visited the Eiffel Tower in Paris and stayed in London for a week.\n",
    "\"\"\""
   ]
  },
  {
   "cell_type": "code",
   "execution_count": 7,
   "id": "b2f2998a-7b7c-494f-b43e-3bf21094fa9a",
   "metadata": {},
   "outputs": [],
   "source": [
    "# Define GLiNER labels\n",
    "labels = [\"LOCATION\"]"
   ]
  },
  {
   "cell_type": "code",
   "execution_count": 8,
   "id": "cec8e659-28a4-4649-a080-76be7c0b49c6",
   "metadata": {},
   "outputs": [
    {
     "name": "stderr",
     "output_type": "stream",
     "text": [
      "Asking to truncate to max_length but no maximum length is provided and the model has no predefined maximum length. Default to no truncation.\n"
     ]
    }
   ],
   "source": [
    "# Step 1: GLiNER's predictions\n",
    "gliner_predictions = model.predict_entities(text, labels, threshold=0.5)\n",
    "gliner_locations = {pred['text'] for pred in gliner_predictions}  # Use a set for easy merging"
   ]
  },
  {
   "cell_type": "code",
   "execution_count": 9,
   "id": "250a05ed-f99e-41d7-926b-20d0ce3e5682",
   "metadata": {},
   "outputs": [],
   "source": [
    "# Step 2: Rules-based predictions using Regex (example for capitalized words indicating locations)\n",
    "rules_based_predictions = set(re.findall(r\"\\b[A-Z][a-z]+\\b(?: [A-Z][a-z]+)*\", text))"
   ]
  },
  {
   "cell_type": "code",
   "execution_count": 10,
   "id": "d0e6cb46-ccb2-4a48-a1a1-d62774debe6f",
   "metadata": {},
   "outputs": [],
   "source": [
    "# Step 3: Combine GLiNER and Rules-Based Predictions\n",
    "combined_predictions = gliner_locations.union(rules_based_predictions)"
   ]
  },
  {
   "cell_type": "code",
   "execution_count": 11,
   "id": "58e40c8f-1d09-4882-a8da-96706dae8ed0",
   "metadata": {},
   "outputs": [],
   "source": [
    "# Step 4: Enhanced Heuristic Filtering\n",
    "# Additional non-location terms (customizable)\n",
    "non_location_terms = {\"week\", \"Tower\", \"John\", \"He\", \"His\"}"
   ]
  },
  {
   "cell_type": "code",
   "execution_count": 12,
   "id": "40e821c3-8cae-4876-8ac2-ad015b45372f",
   "metadata": {},
   "outputs": [],
   "source": [
    "# Final filtering\n",
    "final_predictions = {\n",
    "    location for location in combined_predictions\n",
    "    if location.lower() not in stop_words and location not in non_location_terms\n",
    "}"
   ]
  },
  {
   "cell_type": "code",
   "execution_count": 13,
   "id": "cae89bb0-1c42-466d-a63b-3fbf8cbd9233",
   "metadata": {},
   "outputs": [
    {
     "name": "stdout",
     "output_type": "stream",
     "text": [
      "GLiNER Predictions: {'Eiffel Tower', 'Canada', 'Chicago', 'New York', 'Toronto', 'Paris', 'London', 'San Francisco', 'Denver'}\n",
      "Rules-Based Predictions: {'His', 'Eiffel Tower', 'John', 'Canada', 'Chicago', 'New York', 'Toronto', 'Paris', 'London', 'San Francisco', 'He', 'Denver'}\n",
      "Final Combined Predictions: {'Eiffel Tower', 'Canada', 'Chicago', 'New York', 'Toronto', 'Paris', 'London', 'San Francisco', 'Denver'}\n"
     ]
    }
   ],
   "source": [
    "# Display results\n",
    "print(\"GLiNER Predictions:\", gliner_locations)\n",
    "print(\"Rules-Based Predictions:\", rules_based_predictions)\n",
    "print(\"Final Combined Predictions:\", final_predictions)"
   ]
  },
  {
   "cell_type": "code",
   "execution_count": null,
   "id": "bb62c14f-5044-4898-9c87-c298fc0f7039",
   "metadata": {},
   "outputs": [],
   "source": []
  }
 ],
 "metadata": {
  "kernelspec": {
   "display_name": "Python 3 (ipykernel)",
   "language": "python",
   "name": "python3"
  },
  "language_info": {
   "codemirror_mode": {
    "name": "ipython",
    "version": 3
   },
   "file_extension": ".py",
   "mimetype": "text/x-python",
   "name": "python",
   "nbconvert_exporter": "python",
   "pygments_lexer": "ipython3",
   "version": "3.12.4"
  }
 },
 "nbformat": 4,
 "nbformat_minor": 5
}

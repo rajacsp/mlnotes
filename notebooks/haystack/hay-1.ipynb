{
 "cells": [
  {
   "cell_type": "code",
   "execution_count": 1,
   "id": "8228c0ca-20cb-4057-9ae7-8f273911552f",
   "metadata": {},
   "outputs": [],
   "source": [
    "# https://haystack.deepset.ai/integrations/ollama"
   ]
  },
  {
   "cell_type": "code",
   "execution_count": 1,
   "id": "288379e1-7c88-436c-a312-c17e27df707c",
   "metadata": {},
   "outputs": [
    {
     "data": {
      "text/plain": [
       "'conda env: ml312; pyv: 3.12.8 | packaged by Anaconda, Inc. | (main, Dec 11 2024, 16:31:09) [GCC 11.2.0]'"
      ]
     },
     "execution_count": 1,
     "metadata": {},
     "output_type": "execute_result"
    }
   ],
   "source": [
    "import pyutil as pyu\n",
    "pyu.get_local_pyinfo()"
   ]
  },
  {
   "cell_type": "code",
   "execution_count": 2,
   "id": "ae84c7f6-3afc-4f94-9fef-2b6d856e2975",
   "metadata": {},
   "outputs": [
    {
     "name": "stdout",
     "output_type": "stream",
     "text": [
      "haystack-ai==2.8.0\n",
      "ollama-haystack==2.1.1\n",
      "python-dotenv==0.21.0\n",
      "\n"
     ]
    }
   ],
   "source": [
    "print(pyu.ps2(\"haystack-ai ollama-haystack python-dotenv\"))"
   ]
  },
  {
   "cell_type": "code",
   "execution_count": 5,
   "id": "219da610-f656-445e-ba2e-b930c349a6b6",
   "metadata": {},
   "outputs": [],
   "source": [
    "from haystack import Document, Pipeline\n",
    "from haystack.components.builders.prompt_builder import PromptBuilder\n",
    "from haystack.components.retrievers.in_memory import InMemoryBM25Retriever\n",
    "from haystack.document_stores.in_memory import InMemoryDocumentStore\n",
    "\n",
    "from haystack_integrations.components.generators.ollama import OllamaGenerator\n",
    "\n",
    "document_store = InMemoryDocumentStore()\n",
    "document_store.write_documents(\n",
    "    [\n",
    "        Document(content=\"Super Mario was an important politician\"),\n",
    "        Document(content=\"Mario owns several castles and uses them to conduct important political business\"),\n",
    "        Document(\n",
    "            content=\"Super Mario was a successful military leader who fought off several invasion attempts by \"\n",
    "            \"his arch rival - Bowser\"\n",
    "        ),\n",
    "    ]\n",
    ")\n",
    "\n",
    "template = \"\"\"\n",
    "Given only the following information, answer the question.\n",
    "Ignore your own knowledge.\n",
    "\n",
    "Context:\n",
    "{% for document in documents %}\n",
    "    {{ document.content }}\n",
    "{% endfor %}\n",
    "\n",
    "Question: {{ query }}?\n",
    "\"\"\"\n",
    "\n",
    "pipe = Pipeline()\n",
    "\n",
    "pipe.add_component(\"retriever\", InMemoryBM25Retriever(document_store=document_store))\n",
    "pipe.add_component(\"prompt_builder\", PromptBuilder(template=template))\n",
    "pipe.add_component(\"llm\", OllamaGenerator(model=\"orca-mini\", url=\"http://localhost:11434\"))\n",
    "pipe.connect(\"retriever\", \"prompt_builder.documents\")\n",
    "pipe.connect(\"prompt_builder\", \"llm\")\n",
    "\n",
    "query = \"Who is Super Mario?\"\n",
    "\n",
    "response = pipe.run({\"prompt_builder\": {\"query\": query}, \"retriever\": {\"query\": query}})"
   ]
  },
  {
   "cell_type": "code",
   "execution_count": 6,
   "id": "573493dc-1370-44ab-bf8b-1d368bca904a",
   "metadata": {},
   "outputs": [
    {
     "name": "stdout",
     "output_type": "stream",
     "text": [
      " Based on the given information, Super Mario is a successful military leader who fought off several invasion attempts by his arch rival - Bowser. He is also an important politician who owns several castles and uses them to conduct important political business.\n"
     ]
    }
   ],
   "source": [
    "print(response[\"llm\"][\"replies\"][0])"
   ]
  },
  {
   "cell_type": "code",
   "execution_count": null,
   "id": "e9337c7e-5b50-4bfd-a4bc-0aa47fd145dd",
   "metadata": {},
   "outputs": [],
   "source": []
  }
 ],
 "metadata": {
  "kernelspec": {
   "display_name": "Python 3 (ipykernel)",
   "language": "python",
   "name": "python3"
  },
  "language_info": {
   "codemirror_mode": {
    "name": "ipython",
    "version": 3
   },
   "file_extension": ".py",
   "mimetype": "text/x-python",
   "name": "python",
   "nbconvert_exporter": "python",
   "pygments_lexer": "ipython3",
   "version": "3.12.8"
  }
 },
 "nbformat": 4,
 "nbformat_minor": 5
}

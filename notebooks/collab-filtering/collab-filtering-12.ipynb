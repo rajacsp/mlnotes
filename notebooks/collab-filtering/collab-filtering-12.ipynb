{
 "cells": [
  {
   "cell_type": "code",
   "execution_count": null,
   "id": "92754166-8292-4073-a71a-797778cc2c5b",
   "metadata": {},
   "outputs": [],
   "source": []
  },
  {
   "cell_type": "code",
   "execution_count": 4,
   "id": "9c0a1b9c-e86f-4268-a5a3-7f3f2f47706b",
   "metadata": {},
   "outputs": [],
   "source": [
    "# !pip install scikit-learn"
   ]
  },
  {
   "cell_type": "code",
   "execution_count": 18,
   "id": "5246acf9-21a9-4bbc-a4db-1093b2dacae9",
   "metadata": {},
   "outputs": [],
   "source": [
    "import pandas as pd\n",
    "from sklearn.metrics.pairwise import cosine_similarity\n",
    "from sklearn.impute import SimpleImputer\n",
    "\n",
    "# Step 1: Create a dummy dataset\n",
    "data = {\n",
    "    \"User\": [\"User1\", \"User1\", \"User1\", \"User2\", \"User2\", \"User3\", \"User3\", \"User4\"],\n",
    "    \"Video\": [\"Video1\", \"Video2\", \"Video3\", \"Video1\", \"Video4\", \"Video2\", \"Video3\", \"Video4\"],\n",
    "    \"Rating\": [5, 3, 4, 4, 5, 2, 3, 4]\n",
    "}"
   ]
  },
  {
   "cell_type": "code",
   "execution_count": 19,
   "id": "4d29b300-3c34-4edb-9c02-db3fc6a50ad7",
   "metadata": {},
   "outputs": [
    {
     "name": "stdout",
     "output_type": "stream",
     "text": [
      "Original Dataset:\n",
      "    User   Video  Rating\n",
      "0  User1  Video1       5\n",
      "1  User1  Video2       3\n",
      "2  User1  Video3       4\n",
      "3  User2  Video1       4\n",
      "4  User2  Video4       5\n",
      "5  User3  Video2       2\n",
      "6  User3  Video3       3\n",
      "7  User4  Video4       4\n"
     ]
    }
   ],
   "source": [
    "df = pd.DataFrame(data)\n",
    "print(\"Original Dataset:\")\n",
    "print(df)\n"
   ]
  },
  {
   "cell_type": "code",
   "execution_count": 20,
   "id": "974cf2e7-ae0d-4368-901d-9c75e2b7d5ec",
   "metadata": {},
   "outputs": [
    {
     "name": "stdout",
     "output_type": "stream",
     "text": [
      "\n",
      "User-Video Matrix:\n",
      "Video  Video1  Video2  Video3  Video4\n",
      "User                                 \n",
      "User1     5.0     3.0     4.0     NaN\n",
      "User2     4.0     NaN     NaN     5.0\n",
      "User3     NaN     2.0     3.0     NaN\n",
      "User4     NaN     NaN     NaN     4.0\n"
     ]
    }
   ],
   "source": [
    "# Step 2: Pivot the dataset to create a user-video matrix\n",
    "user_video_matrix = df.pivot_table(index='User', columns='Video', values='Rating')\n",
    "print(\"\\nUser-Video Matrix:\")\n",
    "print(user_video_matrix)"
   ]
  },
  {
   "cell_type": "code",
   "execution_count": 21,
   "id": "b61e2131-c940-4474-b494-d7bc1e67693b",
   "metadata": {},
   "outputs": [],
   "source": [
    "# Step 3: Fill missing values using the mean of each user\n",
    "imputer = SimpleImputer(strategy=\"mean\")\n",
    "user_video_matrix_imputed = imputer.fit_transform(user_video_matrix)"
   ]
  },
  {
   "cell_type": "code",
   "execution_count": 22,
   "id": "90a7b753-ef52-4b02-a062-6fa4c65032a0",
   "metadata": {},
   "outputs": [
    {
     "name": "stdout",
     "output_type": "stream",
     "text": [
      "\n",
      "User Similarity Matrix:\n",
      "User      User1     User2     User3     User4\n",
      "User                                         \n",
      "User1  1.000000  0.989916  0.990937  0.999716\n",
      "User2  0.989916  1.000000  0.992551  0.989915\n",
      "User3  0.990937  0.992551  1.000000  0.993138\n",
      "User4  0.999716  0.989915  0.993138  1.000000\n"
     ]
    }
   ],
   "source": [
    "# Step 4: Compute the similarity between users\n",
    "user_similarity = cosine_similarity(user_video_matrix_imputed)\n",
    "user_similarity_df = pd.DataFrame(user_similarity, index=user_video_matrix.index, columns=user_video_matrix.index)\n",
    "print(\"\\nUser Similarity Matrix:\")\n",
    "print(user_similarity_df)"
   ]
  },
  {
   "cell_type": "code",
   "execution_count": 23,
   "id": "7cb61767-131e-4862-aeac-d329329e3f30",
   "metadata": {},
   "outputs": [],
   "source": [
    "# Step 5: Recommend videos for a specific user (e.g., User1)\n",
    "def recommend_videos(user, user_video_matrix, user_similarity_df, top_n=2):\n",
    "    # Get the index of the target user\n",
    "    user_index = user_video_matrix.index.get_loc(user)\n",
    "    similar_users = user_similarity_df.iloc[user_index].sort_values(ascending=False).index\n",
    "    \n",
    "    # Aggregate ratings from similar users\n",
    "    recommendations = {}\n",
    "    for similar_user in similar_users:\n",
    "        if similar_user == user:\n",
    "            continue\n",
    "        for video, rating in user_video_matrix.loc[similar_user].dropna().items():\n",
    "            if pd.isna(user_video_matrix.loc[user, video]):  # Recommend only unseen videos\n",
    "                recommendations[video] = recommendations.get(video, 0) + rating\n",
    "    \n",
    "    # Sort by highest aggregated score\n",
    "    sorted_recommendations = sorted(recommendations.items(), key=lambda x: x[1], reverse=True)\n",
    "    return [video for video, _ in sorted_recommendations[:top_n]]"
   ]
  },
  {
   "cell_type": "code",
   "execution_count": 24,
   "id": "6cfe0460-9422-4590-8afc-7914e4fd1f30",
   "metadata": {},
   "outputs": [
    {
     "name": "stdout",
     "output_type": "stream",
     "text": [
      "\n",
      "Recommended Videos for User1: ['Video4']\n"
     ]
    }
   ],
   "source": [
    "# Recommend videos for User1\n",
    "recommended_videos = recommend_videos(\"User1\", user_video_matrix, user_similarity_df)\n",
    "print(f\"\\nRecommended Videos for User1: {recommended_videos}\")"
   ]
  },
  {
   "cell_type": "code",
   "execution_count": null,
   "id": "4ae8bb34-27a8-420f-bdbb-2064ddaed64f",
   "metadata": {},
   "outputs": [],
   "source": []
  },
  {
   "cell_type": "code",
   "execution_count": null,
   "id": "9315c16d-72f9-4aed-b263-e975b250036f",
   "metadata": {},
   "outputs": [],
   "source": []
  },
  {
   "cell_type": "code",
   "execution_count": null,
   "id": "c0d80f9d-9337-4c9a-8f17-679f35549ec1",
   "metadata": {},
   "outputs": [],
   "source": []
  },
  {
   "cell_type": "code",
   "execution_count": null,
   "id": "fc0b9b12-31df-422a-92cd-f6fea25869b3",
   "metadata": {},
   "outputs": [],
   "source": []
  },
  {
   "cell_type": "code",
   "execution_count": null,
   "id": "6147c2bb-31f4-4a92-bc99-6004aa977018",
   "metadata": {},
   "outputs": [],
   "source": []
  },
  {
   "cell_type": "code",
   "execution_count": null,
   "id": "0f8eb99f-9530-4065-865c-eefbad591f86",
   "metadata": {},
   "outputs": [],
   "source": []
  }
 ],
 "metadata": {
  "kernelspec": {
   "display_name": "Python 3 (ipykernel)",
   "language": "python",
   "name": "python3"
  },
  "language_info": {
   "codemirror_mode": {
    "name": "ipython",
    "version": 3
   },
   "file_extension": ".py",
   "mimetype": "text/x-python",
   "name": "python",
   "nbconvert_exporter": "python",
   "pygments_lexer": "ipython3",
   "version": "3.12.7"
  }
 },
 "nbformat": 4,
 "nbformat_minor": 5
}

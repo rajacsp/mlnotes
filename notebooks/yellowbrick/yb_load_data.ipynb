{
 "cells": [
  {
   "cell_type": "raw",
   "metadata": {},
   "source": [
    "---\n",
    "title: \"YB Load Data\"\n",
    "author: \"Raja CSP Raman\"\n",
    "date: 2019-04-20\n",
    "description: \"-\"\n",
    "type: technical_note\n",
    "draft: false\n",
    "---"
   ]
  },
  {
   "cell_type": "code",
   "execution_count": 5,
   "metadata": {},
   "outputs": [],
   "source": [
    "import pandas as pd"
   ]
  },
  {
   "cell_type": "code",
   "execution_count": 10,
   "metadata": {},
   "outputs": [],
   "source": [
    "def load_yb_data(name = 'energy'):\n",
    "    folder_path = name+'/'+name\n",
    "    return pd.read_csv('/Users/rajacsp/datasets/yb_data/'+(folder_path)+'.csv')"
   ]
  },
  {
   "cell_type": "code",
   "execution_count": 13,
   "metadata": {
    "scrolled": true
   },
   "outputs": [
    {
     "name": "stdout",
     "output_type": "stream",
     "text": [
      "   word_freq_make  word_freq_address  word_freq_all  word_freq_3d  \\\n",
      "0            0.21               0.28           0.50           0.0   \n",
      "1            0.06               0.00           0.71           0.0   \n",
      "\n",
      "   word_freq_our  word_freq_over  word_freq_remove  word_freq_internet  \\\n",
      "0           0.14            0.28              0.21                0.07   \n",
      "1           1.23            0.19              0.19                0.12   \n",
      "\n",
      "   word_freq_order  word_freq_mail  ...  char_freq_;  char_freq_(  \\\n",
      "0             0.00            0.94  ...         0.00        0.132   \n",
      "1             0.64            0.25  ...         0.01        0.143   \n",
      "\n",
      "   char_freq_[  char_freq_!  char_freq_$  char_freq_#  \\\n",
      "0          0.0        0.372        0.180        0.048   \n",
      "1          0.0        0.276        0.184        0.010   \n",
      "\n",
      "   capital_run_length_average  capital_run_length_longest  \\\n",
      "0                       5.114                         101   \n",
      "1                       9.821                         485   \n",
      "\n",
      "   capital_run_length_total  is_spam  \n",
      "0                      1028        1  \n",
      "1                      2259        1  \n",
      "\n",
      "[2 rows x 58 columns]\n"
     ]
    }
   ],
   "source": [
    "data = load_yb_data('spam')\n",
    "\n",
    "print(data.head(2))"
   ]
  }
 ],
 "metadata": {
  "kernelspec": {
   "display_name": "Python 3",
   "language": "python",
   "name": "python3"
  },
  "language_info": {
   "codemirror_mode": {
    "name": "ipython",
    "version": 3
   },
   "file_extension": ".py",
   "mimetype": "text/x-python",
   "name": "python",
   "nbconvert_exporter": "python",
   "pygments_lexer": "ipython3",
   "version": "3.6.8"
  }
 },
 "nbformat": 4,
 "nbformat_minor": 2
}

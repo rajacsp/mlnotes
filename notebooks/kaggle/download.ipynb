{
 "cells": [
  {
   "cell_type": "code",
   "execution_count": 1,
   "id": "9e87cddb-6a6d-46e7-b570-d28cc8da83d5",
   "metadata": {},
   "outputs": [],
   "source": [
    "import os\n",
    "import pandas as pd\n",
    "from kaggle.api.kaggle_api_extended import KaggleApi\n",
    "from io import BytesIO\n",
    "import zipfile"
   ]
  },
  {
   "cell_type": "code",
   "execution_count": 2,
   "id": "1750677c-dd0b-4685-ad65-bf44ba2ec2f8",
   "metadata": {},
   "outputs": [],
   "source": [
    "# Authenticate with Kaggle\n",
    "api = KaggleApi()\n",
    "api.authenticate()"
   ]
  },
  {
   "cell_type": "code",
   "execution_count": 9,
   "id": "c4f1c293-f726-49ea-bb06-ee9906c1497f",
   "metadata": {},
   "outputs": [
    {
     "name": "stdout",
     "output_type": "stream",
     "text": [
      "name                           size  creationDate         \n",
      "----------------------------  -----  -------------------  \n",
      "City_time_series.csv          658MB  2019-09-21 10:26:35  \n",
      "CountyCrossWalk_Zillow.csv    227KB  2019-09-21 10:26:18  \n",
      "County_time_series.csv        108MB  2019-09-21 10:26:21  \n",
      "DataDictionary.csv              5KB  2019-09-21 10:26:18  \n",
      "Metro_time_series.csv          54MB  2019-09-21 10:26:19  \n",
      "Neighborhood_time_series.csv  253MB  2019-09-21 10:26:23  \n",
      "State_time_series.csv           5MB  2019-09-21 10:26:18  \n",
      "Zip_time_series.csv           746MB  2019-09-21 10:26:43  \n",
      "all_available_metrics.json      3KB  2019-09-21 10:26:27  \n",
      "cities_crosswalk.csv            1MB  2019-09-21 10:26:27  \n",
      "fields_per_level.json          17KB  2019-09-21 10:26:27  \n"
     ]
    }
   ],
   "source": [
    "!kaggle datasets files zillow/zecon"
   ]
  },
  {
   "cell_type": "code",
   "execution_count": 11,
   "id": "7e3ce443-bf60-4a59-989e-e94e791e2403",
   "metadata": {},
   "outputs": [
    {
     "name": "stdout",
     "output_type": "stream",
     "text": [
      "name               size  creationDate         \n",
      "-----------------  ----  -------------------  \n",
      "kc_house_data.csv   2MB  2017-04-15 05:48:17  \n"
     ]
    }
   ],
   "source": [
    "!kaggle datasets files harlfoxem/housesalesprediction"
   ]
  },
  {
   "cell_type": "code",
   "execution_count": 12,
   "id": "c823ea3a-8b80-44f2-b272-1d84d3288982",
   "metadata": {},
   "outputs": [],
   "source": [
    "# Specify the dataset\n",
    "dataset_name = 'harlfoxem/housesalesprediction'  # Replace with the dataset slug\n",
    "file_name = 'kc_house_data'  # File within the dataset zip"
   ]
  },
  {
   "cell_type": "code",
   "execution_count": null,
   "id": "82fbd747-e41d-4a13-950f-b79f8cced4ed",
   "metadata": {},
   "outputs": [
    {
     "name": "stdout",
     "output_type": "stream",
     "text": [
      "Downloading dataset...\n",
      "Dataset URL: https://www.kaggle.com/datasets/harlfoxem/housesalesprediction\n"
     ]
    }
   ],
   "source": [
    "# Download the dataset as a stream\n",
    "print(\"Downloading dataset...\")\n",
    "dataset = api.dataset_download_file(dataset_name, file_name=file_name)"
   ]
  },
  {
   "cell_type": "code",
   "execution_count": null,
   "id": "51780d75-be46-4682-8303-1084fef09539",
   "metadata": {},
   "outputs": [],
   "source": [
    "# Open the ZIP file in memory\n",
    "print(\"Extracting and processing dataset...\")\n",
    "with zipfile.ZipFile(dataset_path, 'r') as z:\n",
    "    if file_name in z.namelist():\n",
    "        with z.open(file_name) as file:\n",
    "            data = pd.read_csv(file)\n",
    "            print(data.head())\n",
    "    else:\n",
    "        print(f\"File {file_name} not found in the dataset!\")"
   ]
  },
  {
   "cell_type": "code",
   "execution_count": null,
   "id": "9f7f48de-58ec-4999-8062-266b0426d6bf",
   "metadata": {},
   "outputs": [],
   "source": []
  }
 ],
 "metadata": {
  "kernelspec": {
   "display_name": "Python 3 (ipykernel)",
   "language": "python",
   "name": "python3"
  },
  "language_info": {
   "codemirror_mode": {
    "name": "ipython",
    "version": 3
   },
   "file_extension": ".py",
   "mimetype": "text/x-python",
   "name": "python",
   "nbconvert_exporter": "python",
   "pygments_lexer": "ipython3",
   "version": "3.12.4"
  }
 },
 "nbformat": 4,
 "nbformat_minor": 5
}

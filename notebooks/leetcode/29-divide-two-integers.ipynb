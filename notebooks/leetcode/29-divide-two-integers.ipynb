{
 "cells": [
  {
   "cell_type": "markdown",
   "id": "ff88b697",
   "metadata": {},
   "source": [
    "https://leetcode.com/problems/divide-two-integers"
   ]
  },
  {
   "cell_type": "code",
   "execution_count": null,
   "id": "5fdc85e0",
   "metadata": {},
   "outputs": [],
   "source": [
    "import pyutil as pyu\n",
    "pyu.get_local_pyinfo()"
   ]
  },
  {
   "cell_type": "code",
   "execution_count": null,
   "id": "54fdc903",
   "metadata": {},
   "outputs": [],
   "source": [
    "print(pyu.ps2(\"python-dotenv\"))"
   ]
  },
  {
   "cell_type": "code",
   "execution_count": null,
   "id": "30bd27a6",
   "metadata": {},
   "outputs": [],
   "source": [
    "from typing import List"
   ]
  },
  {
   "cell_type": "code",
   "execution_count": null,
   "id": "b05e56fe",
   "metadata": {},
   "outputs": [],
   "source": [
    "class Solution:\n",
    "  def divide(self, dividend: int, divisor: int) -> int:\n",
    "    if dividend == -2**31 and divisor == -1:\n",
    "      return 2**31 - 1\n",
    "\n",
    "    sign = -1 if (dividend > 0) ^ (divisor > 0) else 1\n",
    "    ans = 0\n",
    "    dvd = abs(dividend)\n",
    "    dvs = abs(divisor)\n",
    "\n",
    "    while dvd >= dvs:\n",
    "      k = 1\n",
    "      while k * 2 * dvs <= dvd:\n",
    "        k <<= 1\n",
    "      dvd -= k * dvs\n",
    "      ans += k\n",
    "\n",
    "    return sign * ans"
   ]
  },
  {
   "cell_type": "code",
   "execution_count": null,
   "id": "aa733dbb",
   "metadata": {},
   "outputs": [],
   "source": [
    "new Solution().divide()"
   ]
  }
 ],
 "metadata": {},
 "nbformat": 4,
 "nbformat_minor": 5
}

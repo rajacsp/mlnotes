{
 "cells": [
  {
   "cell_type": "markdown",
   "id": "0e4acaf7",
   "metadata": {},
   "source": [
    "https://leetcode.com/problems/russian-doll-envelopes"
   ]
  },
  {
   "cell_type": "code",
   "execution_count": null,
   "id": "07144ad0",
   "metadata": {},
   "outputs": [],
   "source": [
    "import pyutil as pyu\n",
    "pyu.get_local_pyinfo()"
   ]
  },
  {
   "cell_type": "code",
   "execution_count": null,
   "id": "4d68ad34",
   "metadata": {},
   "outputs": [],
   "source": [
    "print(pyu.ps2(\"python-dotenv\"))"
   ]
  },
  {
   "cell_type": "code",
   "execution_count": null,
   "id": "b2be0f34",
   "metadata": {},
   "outputs": [],
   "source": [
    "from typing import List"
   ]
  },
  {
   "cell_type": "code",
   "execution_count": null,
   "id": "79124ab4",
   "metadata": {},
   "outputs": [],
   "source": [
    "class Solution:\n",
    "  def maxEnvelopes(self, envelopes: List[List[int]]) -> int:\n",
    "    envelopes.sort(key=lambda x: (x[0], -x[1]))\n",
    "    # Same as 300. Longest Increasing Subsequence\n",
    "    ans = 0\n",
    "    dp = [0] * len(envelopes)\n",
    "\n",
    "    for _, h in envelopes:\n",
    "      l = 0\n",
    "      r = ans\n",
    "      while l < r:\n",
    "        m = (l + r) // 2\n",
    "        if dp[m] >= h:\n",
    "          r = m\n",
    "        else:\n",
    "          l = m + 1\n",
    "      dp[l] = h\n",
    "      if l == ans:\n",
    "        ans += 1\n",
    "\n",
    "    return ans"
   ]
  },
  {
   "cell_type": "code",
   "execution_count": null,
   "id": "d7259202",
   "metadata": {},
   "outputs": [],
   "source": [
    "new Solution().maxEnvelopes()"
   ]
  }
 ],
 "metadata": {},
 "nbformat": 4,
 "nbformat_minor": 5
}

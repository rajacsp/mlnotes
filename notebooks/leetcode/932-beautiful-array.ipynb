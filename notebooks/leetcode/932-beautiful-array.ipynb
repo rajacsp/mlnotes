{
 "cells": [
  {
   "cell_type": "markdown",
   "id": "d6b0731f",
   "metadata": {},
   "source": [
    "https://leetcode.com/problems/beautiful-array"
   ]
  },
  {
   "cell_type": "code",
   "execution_count": null,
   "id": "4bb01e6a",
   "metadata": {},
   "outputs": [],
   "source": [
    "import pyutil as pyu\n",
    "pyu.get_local_pyinfo()"
   ]
  },
  {
   "cell_type": "code",
   "execution_count": null,
   "id": "f3627f7f",
   "metadata": {},
   "outputs": [],
   "source": [
    "print(pyu.ps2(\"python-dotenv\"))"
   ]
  },
  {
   "cell_type": "code",
   "execution_count": null,
   "id": "9f9b1dba",
   "metadata": {},
   "outputs": [],
   "source": [
    "from typing import List"
   ]
  },
  {
   "cell_type": "code",
   "execution_count": null,
   "id": "bf3434f6",
   "metadata": {},
   "outputs": [],
   "source": [
    "class Solution:\n",
    "  def beautifulArray(self, n: int) -> List[int]:\n",
    "    A = [i for i in range(1, n + 1)]\n",
    "\n",
    "    def partition(l: int, r: int, mask: int) -> int:\n",
    "      nextSwapped = l\n",
    "      for i in range(l, r + 1):\n",
    "        if A[i] & mask:\n",
    "          A[i], A[nextSwapped] = A[nextSwapped], A[i]\n",
    "          nextSwapped += 1\n",
    "      return nextSwapped - 1\n",
    "\n",
    "    def divide(l: int, r: int, mask: int) -> None:\n",
    "      if l >= r:\n",
    "        return\n",
    "      m = partition(l, r, mask)\n",
    "      divide(l, m, mask << 1)\n",
    "      divide(m + 1, r, mask << 1)\n",
    "\n",
    "    divide(0, n - 1, 1)\n",
    "    return A"
   ]
  },
  {
   "cell_type": "code",
   "execution_count": null,
   "id": "167f3bd4",
   "metadata": {},
   "outputs": [],
   "source": [
    "new Solution().beautifulArray()"
   ]
  }
 ],
 "metadata": {},
 "nbformat": 4,
 "nbformat_minor": 5
}

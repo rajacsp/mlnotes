{
 "cells": [
  {
   "cell_type": "markdown",
   "id": "10cad121",
   "metadata": {},
   "source": [
    "https://leetcode.com/problems/erect-the-fence"
   ]
  },
  {
   "cell_type": "code",
   "execution_count": null,
   "id": "76216412",
   "metadata": {},
   "outputs": [],
   "source": [
    "import pyutil as pyu\n",
    "pyu.get_local_pyinfo()"
   ]
  },
  {
   "cell_type": "code",
   "execution_count": null,
   "id": "0c5151c7",
   "metadata": {},
   "outputs": [],
   "source": [
    "print(pyu.ps2(\"python-dotenv\"))"
   ]
  },
  {
   "cell_type": "code",
   "execution_count": null,
   "id": "26cf6985",
   "metadata": {},
   "outputs": [],
   "source": [
    "from typing import List"
   ]
  },
  {
   "cell_type": "code",
   "execution_count": null,
   "id": "9b57536c",
   "metadata": {},
   "outputs": [],
   "source": [
    "class Solution:\n",
    "  def outerTrees(self, trees: List[List[int]]) -> List[List[int]]:\n",
    "    hull = []\n",
    "\n",
    "    trees.sort(key=lambda x: (x[0], x[1]))\n",
    "\n",
    "    def cross(p: List[int], q: List[int], r: List[int]) -> int:\n",
    "      return (q[1] - p[1]) * (r[0] - q[0]) - (q[0] - p[0]) * (r[1] - q[1])\n",
    "\n",
    "    # Build lower hull: left-to-right scan\n",
    "    for tree in trees:\n",
    "      while len(hull) > 1 and cross(hull[-1], hull[-2], tree) > 0:\n",
    "        hull.pop()\n",
    "      hull.append(tuple(tree))\n",
    "    hull.pop()\n",
    "\n",
    "    # Build upper hull: right-to-left scan\n",
    "    for tree in reversed(trees):\n",
    "      while len(hull) > 1 and cross(hull[-1], hull[-2], tree) > 0:\n",
    "        hull.pop()\n",
    "      hull.append(tuple(tree))\n",
    "\n",
    "    # Remove redundant elements from the stack\n",
    "    return list(set(hull))"
   ]
  },
  {
   "cell_type": "code",
   "execution_count": null,
   "id": "d4daa18d",
   "metadata": {},
   "outputs": [],
   "source": [
    "new Solution().outerTrees()"
   ]
  }
 ],
 "metadata": {},
 "nbformat": 4,
 "nbformat_minor": 5
}

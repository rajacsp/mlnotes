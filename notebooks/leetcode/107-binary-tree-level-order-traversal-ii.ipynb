{
 "cells": [
  {
   "cell_type": "markdown",
   "id": "6c522a4c",
   "metadata": {},
   "source": [
    "https://leetcode.com/problems/binary-tree-level-order-traversal-ii"
   ]
  },
  {
   "cell_type": "code",
   "execution_count": null,
   "id": "972743dc",
   "metadata": {},
   "outputs": [],
   "source": [
    "import pyutil as pyu\n",
    "pyu.get_local_pyinfo()"
   ]
  },
  {
   "cell_type": "code",
   "execution_count": null,
   "id": "15c60df3",
   "metadata": {},
   "outputs": [],
   "source": [
    "print(pyu.ps2(\"python-dotenv\"))"
   ]
  },
  {
   "cell_type": "code",
   "execution_count": null,
   "id": "2ef099f3",
   "metadata": {},
   "outputs": [],
   "source": [
    "from typing import List"
   ]
  },
  {
   "cell_type": "code",
   "execution_count": null,
   "id": "41d7307e",
   "metadata": {},
   "outputs": [],
   "source": [
    "class Solution:\n",
    "  def levelOrderBottom(self, root: Optional[TreeNode]) -> List[List[int]]:\n",
    "    if not root:\n",
    "      return []\n",
    "\n",
    "    ans = []\n",
    "    q = deque([root])\n",
    "\n",
    "    while q:\n",
    "      currLevel = []\n",
    "      for _ in range(len(q)):\n",
    "        node = q.popleft()\n",
    "        currLevel.append(node.val)\n",
    "        if node.left:\n",
    "          q.append(node.left)\n",
    "        if node.right:\n",
    "          q.append(node.right)\n",
    "      ans.append(currLevel)\n",
    "\n",
    "    return ans[::-1]"
   ]
  },
  {
   "cell_type": "code",
   "execution_count": null,
   "id": "7c9e2214",
   "metadata": {},
   "outputs": [],
   "source": [
    "new Solution().levelOrderBottom()"
   ]
  }
 ],
 "metadata": {},
 "nbformat": 4,
 "nbformat_minor": 5
}

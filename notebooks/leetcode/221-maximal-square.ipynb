{
 "cells": [
  {
   "cell_type": "markdown",
   "id": "30f70e6a",
   "metadata": {},
   "source": [
    "https://leetcode.com/problems/maximal-square"
   ]
  },
  {
   "cell_type": "code",
   "execution_count": null,
   "id": "f590cd44",
   "metadata": {},
   "outputs": [],
   "source": [
    "import pyutil as pyu\n",
    "pyu.get_local_pyinfo()"
   ]
  },
  {
   "cell_type": "code",
   "execution_count": null,
   "id": "47e4f26d",
   "metadata": {},
   "outputs": [],
   "source": [
    "print(pyu.ps2(\"python-dotenv\"))"
   ]
  },
  {
   "cell_type": "code",
   "execution_count": null,
   "id": "1b6a13cf",
   "metadata": {},
   "outputs": [],
   "source": [
    "from typing import List"
   ]
  },
  {
   "cell_type": "code",
   "execution_count": null,
   "id": "56698721",
   "metadata": {},
   "outputs": [],
   "source": [
    "class Solution:\n",
    "  def maximalSquare(self, matrix: List[List[str]]) -> int:\n",
    "    m = len(matrix)\n",
    "    n = len(matrix[0])\n",
    "    dp = [[0] * n for _ in range(m)]\n",
    "    maxLength = 0\n",
    "\n",
    "    for i in range(m):\n",
    "      for j in range(n):\n",
    "        if i == 0 or j == 0 or matrix[i][j] == '0':\n",
    "          dp[i][j] = 1 if matrix[i][j] == '1' else 0\n",
    "        else:\n",
    "          dp[i][j] = min(dp[i - 1][j - 1], dp[i - 1]\n",
    "                         [j], dp[i][j - 1]) + 1\n",
    "        maxLength = max(maxLength, dp[i][j])\n",
    "\n",
    "    return maxLength * maxLength"
   ]
  },
  {
   "cell_type": "code",
   "execution_count": null,
   "id": "a603ac69",
   "metadata": {},
   "outputs": [],
   "source": [
    "new Solution().maximalSquare()"
   ]
  }
 ],
 "metadata": {},
 "nbformat": 4,
 "nbformat_minor": 5
}

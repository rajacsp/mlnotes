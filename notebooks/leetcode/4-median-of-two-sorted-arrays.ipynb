{
 "cells": [
  {
   "cell_type": "code",
   "execution_count": 1,
   "id": "db25c914-1252-4bae-8dbe-3a20e361bd73",
   "metadata": {},
   "outputs": [],
   "source": [
    "# https://leetcode.com/problems/median-of-two-sorted-arrays/description/"
   ]
  },
  {
   "cell_type": "code",
   "execution_count": 2,
   "id": "0c10588e-e9e7-4b8c-b92b-91104a273df0",
   "metadata": {},
   "outputs": [
    {
     "data": {
      "text/plain": [
       "'conda env: ml311; pyv: 3.11.10 (main, Oct  3 2024, 07:29:13) [GCC 11.2.0]'"
      ]
     },
     "execution_count": 2,
     "metadata": {},
     "output_type": "execute_result"
    }
   ],
   "source": [
    "import pyutil as pyu\n",
    "pyu.get_local_pyinfo()"
   ]
  },
  {
   "cell_type": "code",
   "execution_count": 3,
   "id": "c2ccb592-b983-4856-a241-5898cab06699",
   "metadata": {},
   "outputs": [
    {
     "name": "stdout",
     "output_type": "stream",
     "text": [
      "scipy==1.14.1\n",
      "\n"
     ]
    }
   ],
   "source": [
    "# print(pyu.ps2(\"scipy\"))"
   ]
  },
  {
   "cell_type": "code",
   "execution_count": null,
   "id": "e290a4be-0793-4902-b10b-44429cb937f9",
   "metadata": {},
   "outputs": [],
   "source": []
  },
  {
   "cell_type": "code",
   "execution_count": 6,
   "id": "a75e8983-ec7f-49eb-b473-4040c82a76c4",
   "metadata": {},
   "outputs": [],
   "source": [
    "from typing import List\n",
    "\n",
    "class Solution:\n",
    "  def findMedianSortedArrays(self, nums1: List[int], nums2: List[int]) -> float:\n",
    "    n1 = len(nums1)\n",
    "    n2 = len(nums2)\n",
    "    if n1 > n2:\n",
    "      return self.findMedianSortedArrays(nums2, nums1)\n",
    "\n",
    "    l = 0\n",
    "    r = n1\n",
    "\n",
    "    while l <= r:\n",
    "      partition1 = (l + r) // 2\n",
    "      partition2 = (n1 + n2 + 1) // 2 - partition1\n",
    "      maxLeft1 = -2**31 if partition1 == 0 else nums1[partition1 - 1]\n",
    "      maxLeft2 = -2**31 if partition2 == 0 else nums2[partition2 - 1]\n",
    "      minRight1 = 2**31 - 1 if partition1 == n1 else nums1[partition1]\n",
    "      minRight2 = 2**31 - 1 if partition2 == n2 else nums2[partition2]\n",
    "        \n",
    "      if maxLeft1 <= minRight2 and maxLeft2 <= minRight1:\n",
    "        return (max(maxLeft1, maxLeft2) + min(minRight1, minRight2)) * 0.5 if (n1 + n2) % 2 == 0 else max(maxLeft1, maxLeft2)\n",
    "      elif maxLeft1 > minRight2:\n",
    "        r = partition1 - 1\n",
    "      else:\n",
    "        l = partition1 + 1"
   ]
  },
  {
   "cell_type": "code",
   "execution_count": 4,
   "id": "71b2bd33-0c06-4353-a201-4eb2e2e62937",
   "metadata": {},
   "outputs": [
    {
     "data": {
      "text/plain": [
       "2"
      ]
     },
     "execution_count": 4,
     "metadata": {},
     "output_type": "execute_result"
    }
   ],
   "source": [
    "Solution().findMedianSortedArrays([1, 3], [2])"
   ]
  },
  {
   "cell_type": "code",
   "execution_count": 5,
   "id": "8dbad6c4-3fe4-460a-ad6f-70fedb332040",
   "metadata": {},
   "outputs": [
    {
     "data": {
      "text/plain": [
       "2.5"
      ]
     },
     "execution_count": 5,
     "metadata": {},
     "output_type": "execute_result"
    }
   ],
   "source": [
    "Solution().findMedianSortedArrays([1, 2], [3, 4])"
   ]
  },
  {
   "cell_type": "code",
   "execution_count": null,
   "id": "4af4e1de-55cd-4a8f-a201-f76ad1abd452",
   "metadata": {},
   "outputs": [],
   "source": []
  }
 ],
 "metadata": {
  "kernelspec": {
   "display_name": "Python 3 (ipykernel)",
   "language": "python",
   "name": "python3"
  },
  "language_info": {
   "codemirror_mode": {
    "name": "ipython",
    "version": 3
   },
   "file_extension": ".py",
   "mimetype": "text/x-python",
   "name": "python",
   "nbconvert_exporter": "python",
   "pygments_lexer": "ipython3",
   "version": "3.11.10"
  }
 },
 "nbformat": 4,
 "nbformat_minor": 5
}

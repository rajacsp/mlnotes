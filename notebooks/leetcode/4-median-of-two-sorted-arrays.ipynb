{
 "cells": [
  {
   "cell_type": "markdown",
   "id": "c9649776",
   "metadata": {},
   "source": [
    "https://leetcode.com/problems/median-of-two-sorted-arrays"
   ]
  },
  {
   "cell_type": "code",
   "execution_count": null,
   "id": "2be4685f",
   "metadata": {},
   "outputs": [],
   "source": [
    "import pyutil as pyu\n",
    "pyu.get_local_pyinfo()"
   ]
  },
  {
   "cell_type": "code",
   "execution_count": null,
   "id": "295ff305",
   "metadata": {},
   "outputs": [],
   "source": [
    "print(pyu.ps2(\"python-dotenv\"))"
   ]
  },
  {
   "cell_type": "code",
   "execution_count": null,
   "id": "a0526898",
   "metadata": {},
   "outputs": [],
   "source": [
    "from typing import List"
   ]
  },
  {
   "cell_type": "code",
   "execution_count": null,
   "id": "7515fb78",
   "metadata": {},
   "outputs": [],
   "source": [
    "class Solution:\n",
    "  def findMedianSortedArrays(self, nums1: List[int], nums2: List[int]) -> float:\n",
    "    n1 = len(nums1)\n",
    "    n2 = len(nums2)\n",
    "    if n1 > n2:\n",
    "      return self.findMedianSortedArrays(nums2, nums1)\n",
    "\n",
    "    l = 0\n",
    "    r = n1\n",
    "\n",
    "    while l <= r:\n",
    "      partition1 = (l + r) // 2\n",
    "      partition2 = (n1 + n2 + 1) // 2 - partition1\n",
    "      maxLeft1 = -2**31 if partition1 == 0 else nums1[partition1 - 1]\n",
    "      maxLeft2 = -2**31 if partition2 == 0 else nums2[partition2 - 1]\n",
    "      minRight1 = 2**31 - 1 if partition1 == n1 else nums1[partition1]\n",
    "      minRight2 = 2**31 - 1 if partition2 == n2 else nums2[partition2]\n",
    "      if maxLeft1 <= minRight2 and maxLeft2 <= minRight1:\n",
    "        return (max(maxLeft1, maxLeft2) + min(minRight1, minRight2)) * 0.5 if (n1 + n2) % 2 == 0 else max(maxLeft1, maxLeft2)\n",
    "      elif maxLeft1 > minRight2:\n",
    "        r = partition1 - 1\n",
    "      else:\n",
    "        l = partition1 + 1"
   ]
  },
  {
   "cell_type": "code",
   "execution_count": null,
   "id": "249c4512",
   "metadata": {},
   "outputs": [],
   "source": [
    "new Solution().findMedianSortedArrays()"
   ]
  }
 ],
 "metadata": {},
 "nbformat": 4,
 "nbformat_minor": 5
}

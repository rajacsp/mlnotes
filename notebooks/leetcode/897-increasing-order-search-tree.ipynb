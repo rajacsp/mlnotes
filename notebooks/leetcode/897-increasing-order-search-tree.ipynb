{
 "cells": [
  {
   "cell_type": "markdown",
   "id": "01e5d3e8",
   "metadata": {},
   "source": [
    "https://leetcode.com/problems/increasing-order-search-tree"
   ]
  },
  {
   "cell_type": "code",
   "execution_count": null,
   "id": "5e2050cd",
   "metadata": {},
   "outputs": [],
   "source": [
    "import pyutil as pyu\n",
    "pyu.get_local_pyinfo()"
   ]
  },
  {
   "cell_type": "code",
   "execution_count": null,
   "id": "6f4bb585",
   "metadata": {},
   "outputs": [],
   "source": [
    "print(pyu.ps2(\"python-dotenv\"))"
   ]
  },
  {
   "cell_type": "code",
   "execution_count": null,
   "id": "de4e6790",
   "metadata": {},
   "outputs": [],
   "source": [
    "from typing import List"
   ]
  },
  {
   "cell_type": "code",
   "execution_count": null,
   "id": "6c778533",
   "metadata": {},
   "outputs": [],
   "source": [
    "class Solution:\n",
    "  def increasingBST(self, root: TreeNode, tail: TreeNode = None) -> TreeNode:\n",
    "    if not root:\n",
    "      return tail\n",
    "\n",
    "    res = self.increasingBST(root.left, root)\n",
    "    root.left = None\n",
    "    root.right = self.increasingBST(root.right, tail)\n",
    "    return res"
   ]
  },
  {
   "cell_type": "code",
   "execution_count": null,
   "id": "86e386ab",
   "metadata": {},
   "outputs": [],
   "source": [
    "new Solution().increasingBST()"
   ]
  }
 ],
 "metadata": {},
 "nbformat": 4,
 "nbformat_minor": 5
}

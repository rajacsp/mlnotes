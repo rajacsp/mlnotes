{
 "cells": [
  {
   "cell_type": "markdown",
   "id": "22e527eb",
   "metadata": {},
   "source": [
    "https://leetcode.com/problems/broken-calculator"
   ]
  },
  {
   "cell_type": "code",
   "execution_count": null,
   "id": "437e8bec",
   "metadata": {},
   "outputs": [],
   "source": [
    "import pyutil as pyu\n",
    "pyu.get_local_pyinfo()"
   ]
  },
  {
   "cell_type": "code",
   "execution_count": null,
   "id": "71c57b25",
   "metadata": {},
   "outputs": [],
   "source": [
    "print(pyu.ps2(\"python-dotenv\"))"
   ]
  },
  {
   "cell_type": "code",
   "execution_count": null,
   "id": "e53ac643",
   "metadata": {},
   "outputs": [],
   "source": [
    "from typing import List"
   ]
  },
  {
   "cell_type": "code",
   "execution_count": null,
   "id": "8de6d439",
   "metadata": {},
   "outputs": [],
   "source": [
    "class Solution:\n",
    "  def brokenCalc(self, X: int, Y: int) -> int:\n",
    "    ops = 0\n",
    "\n",
    "    while X < Y:\n",
    "      if Y % 2 == 0:\n",
    "        Y //= 2\n",
    "      else:\n",
    "        Y += 1\n",
    "      ops += 1\n",
    "\n",
    "    return ops + X - Y"
   ]
  },
  {
   "cell_type": "code",
   "execution_count": null,
   "id": "becbe625",
   "metadata": {},
   "outputs": [],
   "source": [
    "new Solution().brokenCalc()"
   ]
  }
 ],
 "metadata": {},
 "nbformat": 4,
 "nbformat_minor": 5
}

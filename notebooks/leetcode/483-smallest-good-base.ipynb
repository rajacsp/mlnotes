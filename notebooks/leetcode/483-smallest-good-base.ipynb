{
 "cells": [
  {
   "cell_type": "markdown",
   "id": "609b519b",
   "metadata": {},
   "source": [
    "https://leetcode.com/problems/smallest-good-base"
   ]
  },
  {
   "cell_type": "code",
   "execution_count": null,
   "id": "fb1f1595",
   "metadata": {},
   "outputs": [],
   "source": [
    "import pyutil as pyu\n",
    "pyu.get_local_pyinfo()"
   ]
  },
  {
   "cell_type": "code",
   "execution_count": null,
   "id": "c35e63e0",
   "metadata": {},
   "outputs": [],
   "source": [
    "print(pyu.ps2(\"python-dotenv\"))"
   ]
  },
  {
   "cell_type": "code",
   "execution_count": null,
   "id": "5edf0849",
   "metadata": {},
   "outputs": [],
   "source": [
    "from typing import List"
   ]
  },
  {
   "cell_type": "code",
   "execution_count": null,
   "id": "95b40f21",
   "metadata": {},
   "outputs": [],
   "source": [
    "class Solution:\n",
    "  def smallestGoodBase(self, n: str) -> str:\n",
    "    n = int(n)\n",
    "\n",
    "    for m in range(int(math.log(n, 2)), 1, -1):\n",
    "      k = int(n**m**-1)\n",
    "      if (k**(m + 1) - 1) // (k - 1) == n:\n",
    "        return str(k)\n",
    "\n",
    "    return str(n - 1)"
   ]
  },
  {
   "cell_type": "code",
   "execution_count": null,
   "id": "e6ccff66",
   "metadata": {},
   "outputs": [],
   "source": [
    "new Solution().smallestGoodBase()"
   ]
  }
 ],
 "metadata": {},
 "nbformat": 4,
 "nbformat_minor": 5
}

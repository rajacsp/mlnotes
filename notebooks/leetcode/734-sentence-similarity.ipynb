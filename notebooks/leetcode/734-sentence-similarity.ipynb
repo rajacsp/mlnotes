{
 "cells": [
  {
   "cell_type": "markdown",
   "id": "e1f65509",
   "metadata": {},
   "source": [
    "https://leetcode.com/problems/sentence-similarity"
   ]
  },
  {
   "cell_type": "code",
   "execution_count": null,
   "id": "02f143bf",
   "metadata": {},
   "outputs": [],
   "source": [
    "import pyutil as pyu\n",
    "pyu.get_local_pyinfo()"
   ]
  },
  {
   "cell_type": "code",
   "execution_count": null,
   "id": "132a3369",
   "metadata": {},
   "outputs": [],
   "source": [
    "print(pyu.ps2(\"python-dotenv\"))"
   ]
  },
  {
   "cell_type": "code",
   "execution_count": null,
   "id": "f66175fe",
   "metadata": {},
   "outputs": [],
   "source": [
    "from typing import List"
   ]
  },
  {
   "cell_type": "code",
   "execution_count": null,
   "id": "5277b533",
   "metadata": {},
   "outputs": [],
   "source": [
    "class Solution:\n",
    "  def areSentencesSimilar(self, sentence1: List[str], sentence2: List[str], similarPairs: List[List[str]]) -> bool:\n",
    "    if len(sentence1) != len(sentence2):\n",
    "      return False\n",
    "\n",
    "    # map[key] := all similar words of key\n",
    "    map = defaultdict(set)\n",
    "\n",
    "    for a, b in similarPairs:\n",
    "      map[a].add(b)\n",
    "      map[b].add(a)\n",
    "\n",
    "    for word1, word2 in zip(sentence1, sentence2):\n",
    "      if word1 == word2:\n",
    "        continue\n",
    "      if word1 not in map:\n",
    "        return False\n",
    "      if word2 not in map[word1]:\n",
    "        return False\n",
    "\n",
    "    return True"
   ]
  },
  {
   "cell_type": "code",
   "execution_count": null,
   "id": "fa900daf",
   "metadata": {},
   "outputs": [],
   "source": [
    "new Solution().areSentencesSimilar()"
   ]
  }
 ],
 "metadata": {},
 "nbformat": 4,
 "nbformat_minor": 5
}

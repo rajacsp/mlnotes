{
 "cells": [
  {
   "cell_type": "markdown",
   "id": "19ded171",
   "metadata": {},
   "source": [
    "https://leetcode.com/problems/reverse-linked-list"
   ]
  },
  {
   "cell_type": "code",
   "execution_count": null,
   "id": "d4db22a3",
   "metadata": {},
   "outputs": [],
   "source": [
    "import pyutil as pyu\n",
    "pyu.get_local_pyinfo()"
   ]
  },
  {
   "cell_type": "code",
   "execution_count": null,
   "id": "afdedbd5",
   "metadata": {},
   "outputs": [],
   "source": [
    "print(pyu.ps2(\"python-dotenv\"))"
   ]
  },
  {
   "cell_type": "code",
   "execution_count": null,
   "id": "7ec85447",
   "metadata": {},
   "outputs": [],
   "source": [
    "from typing import List"
   ]
  },
  {
   "cell_type": "code",
   "execution_count": null,
   "id": "9af6819b",
   "metadata": {},
   "outputs": [],
   "source": [
    "class Solution:\n",
    "  def reverseList(self, head: Optional[ListNode]) -> Optional[ListNode]:\n",
    "    if not head or not head.next:\n",
    "      return head\n",
    "\n",
    "    newHead = self.reverseList(head.next)\n",
    "    head.next.next = head\n",
    "    head.next = None\n",
    "    return newHead"
   ]
  },
  {
   "cell_type": "code",
   "execution_count": null,
   "id": "cb7736e9",
   "metadata": {},
   "outputs": [],
   "source": [
    "new Solution().reverseList()"
   ]
  }
 ],
 "metadata": {},
 "nbformat": 4,
 "nbformat_minor": 5
}

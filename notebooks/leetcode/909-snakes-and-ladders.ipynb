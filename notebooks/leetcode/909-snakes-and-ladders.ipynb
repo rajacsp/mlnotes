{
 "cells": [
  {
   "cell_type": "markdown",
   "id": "551ed115",
   "metadata": {},
   "source": [
    "https://leetcode.com/problems/snakes-and-ladders"
   ]
  },
  {
   "cell_type": "code",
   "execution_count": null,
   "id": "7afba52c",
   "metadata": {},
   "outputs": [],
   "source": [
    "import pyutil as pyu\n",
    "pyu.get_local_pyinfo()"
   ]
  },
  {
   "cell_type": "code",
   "execution_count": null,
   "id": "930b9918",
   "metadata": {},
   "outputs": [],
   "source": [
    "print(pyu.ps2(\"python-dotenv\"))"
   ]
  },
  {
   "cell_type": "code",
   "execution_count": null,
   "id": "0b87ac16",
   "metadata": {},
   "outputs": [],
   "source": [
    "from typing import List"
   ]
  },
  {
   "cell_type": "code",
   "execution_count": null,
   "id": "25fc8058",
   "metadata": {},
   "outputs": [],
   "source": [
    "class Solution:\n",
    "  def snakesAndLadders(self, board: List[List[int]]) -> int:\n",
    "    n = len(board)\n",
    "    ans = 0\n",
    "    q = deque([1])\n",
    "    seen = set()\n",
    "    A = [0] * (1 + n * n)  # 2D -> 1D\n",
    "\n",
    "    for i in range(n):\n",
    "      for j in range(n):\n",
    "        A[(n - 1 - i) * n + (j + 1 if n - i & 1 else n - j)] = board[i][j]\n",
    "\n",
    "    while q:\n",
    "      ans += 1\n",
    "      for _ in range(len(q)):\n",
    "        curr = q.popleft()\n",
    "        for next in range(curr + 1, min(curr + 6, n * n) + 1):\n",
    "          dest = A[next] if A[next] > 0 else next\n",
    "          if dest == n * n:\n",
    "            return ans\n",
    "          if dest in seen:\n",
    "            continue\n",
    "          q.append(dest)\n",
    "          seen.add(dest)\n",
    "\n",
    "    return -1"
   ]
  },
  {
   "cell_type": "code",
   "execution_count": null,
   "id": "be21b19b",
   "metadata": {},
   "outputs": [],
   "source": [
    "new Solution().snakesAndLadders()"
   ]
  }
 ],
 "metadata": {},
 "nbformat": 4,
 "nbformat_minor": 5
}

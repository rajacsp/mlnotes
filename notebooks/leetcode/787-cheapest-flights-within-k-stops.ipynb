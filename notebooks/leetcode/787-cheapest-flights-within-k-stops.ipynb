{
 "cells": [
  {
   "cell_type": "markdown",
   "id": "ec3a5cab",
   "metadata": {},
   "source": [
    "https://leetcode.com/problems/cheapest-flights-within-k-stops"
   ]
  },
  {
   "cell_type": "code",
   "execution_count": null,
   "id": "1b350bbc",
   "metadata": {},
   "outputs": [],
   "source": [
    "import pyutil as pyu\n",
    "pyu.get_local_pyinfo()"
   ]
  },
  {
   "cell_type": "code",
   "execution_count": null,
   "id": "a77448ef",
   "metadata": {},
   "outputs": [],
   "source": [
    "print(pyu.ps2(\"python-dotenv\"))"
   ]
  },
  {
   "cell_type": "code",
   "execution_count": null,
   "id": "5072ef1f",
   "metadata": {},
   "outputs": [],
   "source": [
    "from typing import List"
   ]
  },
  {
   "cell_type": "code",
   "execution_count": null,
   "id": "4806fdad",
   "metadata": {},
   "outputs": [],
   "source": [
    "class Solution:\n",
    "  def findCheapestPrice(self, n: int, flights: List[List[int]], src: int, dst: int, k: int) -> int:\n",
    "    graph = [[] for _ in range(n)]\n",
    "    minHeap = [(0, src, k + 1)]  # (d, u, stops)\n",
    "    dist = [[math.inf] * (k + 2) for _ in range(n)]\n",
    "\n",
    "    for u, v, w in flights:\n",
    "      graph[u].append((v, w))\n",
    "\n",
    "    while minHeap:\n",
    "      d, u, stops = heapq.heappop(minHeap)\n",
    "      if u == dst:\n",
    "        return d\n",
    "      if stops > 0:\n",
    "        for v, w in graph[u]:\n",
    "          newDist = d + w\n",
    "          if newDist < dist[v][stops - 1]:\n",
    "            dist[v][stops - 1] = newDist\n",
    "            heapq.heappush(minHeap, (newDist, v, stops - 1))\n",
    "\n",
    "    return -1"
   ]
  },
  {
   "cell_type": "code",
   "execution_count": null,
   "id": "b6355746",
   "metadata": {},
   "outputs": [],
   "source": [
    "new Solution().findCheapestPrice()"
   ]
  }
 ],
 "metadata": {},
 "nbformat": 4,
 "nbformat_minor": 5
}

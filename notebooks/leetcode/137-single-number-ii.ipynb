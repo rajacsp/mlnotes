{
 "cells": [
  {
   "cell_type": "markdown",
   "id": "31461370",
   "metadata": {},
   "source": [
    "https://leetcode.com/problems/single-number-ii"
   ]
  },
  {
   "cell_type": "code",
   "execution_count": null,
   "id": "2f86f357",
   "metadata": {},
   "outputs": [],
   "source": [
    "import pyutil as pyu\n",
    "pyu.get_local_pyinfo()"
   ]
  },
  {
   "cell_type": "code",
   "execution_count": null,
   "id": "b031afd1",
   "metadata": {},
   "outputs": [],
   "source": [
    "print(pyu.ps2(\"python-dotenv\"))"
   ]
  },
  {
   "cell_type": "code",
   "execution_count": null,
   "id": "57d32b27",
   "metadata": {},
   "outputs": [],
   "source": [
    "from typing import List"
   ]
  },
  {
   "cell_type": "code",
   "execution_count": null,
   "id": "d5c0c16c",
   "metadata": {},
   "outputs": [],
   "source": [
    "class Solution:\n",
    "  def singleNumber(self, nums: List[int]) -> int:\n",
    "    ones = 0\n",
    "    twos = 0\n",
    "\n",
    "    for num in nums:\n",
    "      ones ^= num & ~twos\n",
    "      twos ^= num & ~ones\n",
    "\n",
    "    return ones"
   ]
  },
  {
   "cell_type": "code",
   "execution_count": null,
   "id": "aacd0c34",
   "metadata": {},
   "outputs": [],
   "source": [
    "new Solution().singleNumber()"
   ]
  }
 ],
 "metadata": {},
 "nbformat": 4,
 "nbformat_minor": 5
}

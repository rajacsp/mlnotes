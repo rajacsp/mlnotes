{
 "cells": [
  {
   "cell_type": "markdown",
   "id": "6da5e18c",
   "metadata": {},
   "source": [
    "https://leetcode.com/problems/number-of-valid-subarrays"
   ]
  },
  {
   "cell_type": "code",
   "execution_count": null,
   "id": "037ca9c1",
   "metadata": {},
   "outputs": [],
   "source": [
    "import pyutil as pyu\n",
    "pyu.get_local_pyinfo()"
   ]
  },
  {
   "cell_type": "code",
   "execution_count": null,
   "id": "35ab44a6",
   "metadata": {},
   "outputs": [],
   "source": [
    "print(pyu.ps2(\"python-dotenv\"))"
   ]
  },
  {
   "cell_type": "code",
   "execution_count": null,
   "id": "f5842e55",
   "metadata": {},
   "outputs": [],
   "source": [
    "from typing import List"
   ]
  },
  {
   "cell_type": "code",
   "execution_count": null,
   "id": "84da5c64",
   "metadata": {},
   "outputs": [],
   "source": [
    "class Solution:\n",
    "  def validSubarrays(self, nums: List[int]) -> int:\n",
    "    # For each num in nums, each element x in the stack can be the leftmost\n",
    "    # Element s.t. [x, num] forms a valid subarray, so the len(stack) is\n",
    "    # The # Of valid subarrays ending at curr num\n",
    "    #\n",
    "    # E.g. nums = [1, 3, 2]\n",
    "    # Num = 1, stack = [1] . valid subarray is [1]\n",
    "    # Num = 3, stack = [1, 3] . valid subarrays are [1, 3], [3]\n",
    "    # Num = 2, stack = [1, 2] . valid subarrays are [1, 3, 2], [2]\n",
    "    ans = 0\n",
    "    stack = []\n",
    "\n",
    "    for num in nums:\n",
    "      while stack and stack[-1] > num:\n",
    "        stack.pop()\n",
    "      stack.append(num)\n",
    "      ans += len(stack)\n",
    "\n",
    "    return ans"
   ]
  },
  {
   "cell_type": "code",
   "execution_count": null,
   "id": "5caf2a03",
   "metadata": {},
   "outputs": [],
   "source": [
    "new Solution().validSubarrays()"
   ]
  }
 ],
 "metadata": {},
 "nbformat": 4,
 "nbformat_minor": 5
}

{
 "cells": [
  {
   "cell_type": "markdown",
   "id": "82088271",
   "metadata": {},
   "source": [
    "https://leetcode.com/problems/is-graph-bipartite"
   ]
  },
  {
   "cell_type": "code",
   "execution_count": null,
   "id": "255bd106",
   "metadata": {},
   "outputs": [],
   "source": [
    "import pyutil as pyu\n",
    "pyu.get_local_pyinfo()"
   ]
  },
  {
   "cell_type": "code",
   "execution_count": null,
   "id": "45dd3470",
   "metadata": {},
   "outputs": [],
   "source": [
    "print(pyu.ps2(\"python-dotenv\"))"
   ]
  },
  {
   "cell_type": "code",
   "execution_count": null,
   "id": "6208bb46",
   "metadata": {},
   "outputs": [],
   "source": [
    "from typing import List"
   ]
  },
  {
   "cell_type": "code",
   "execution_count": null,
   "id": "62fc5c55",
   "metadata": {},
   "outputs": [],
   "source": [
    "from enum import Enum\n",
    "\n",
    "\n",
    "class Color(Enum):\n",
    "  kWhite = 0\n",
    "  kRed = 1\n",
    "  kGreen = 2\n",
    "\n",
    "\n",
    "class Solution:\n",
    "  def isBipartite(self, graph: List[List[int]]) -> bool:\n",
    "    colors = [Color.kWhite] * len(graph)\n",
    "\n",
    "    for i in range(len(graph)):\n",
    "      # Already colored, do nothing\n",
    "      if colors[i] != Color.kWhite:\n",
    "        continue\n",
    "      # colors[i] == Color.kWhite\n",
    "      colors[i] = Color.kRed  # Always paint w/ Color.kRed\n",
    "      # BFS\n",
    "      q = deque([i])\n",
    "      while q:\n",
    "        u = q.popleft()\n",
    "        for v in graph[u]:\n",
    "          if colors[v] == colors[u]:\n",
    "            return False\n",
    "          if colors[v] == Color.kWhite:\n",
    "            colors[v] = Color.kRed if colors[u] == Color.kGreen else Color.kGreen\n",
    "            q.append(v)\n",
    "\n",
    "    return True"
   ]
  },
  {
   "cell_type": "code",
   "execution_count": null,
   "id": "666ebe67",
   "metadata": {},
   "outputs": [],
   "source": [
    "new Solution().isBipartite()"
   ]
  }
 ],
 "metadata": {},
 "nbformat": 4,
 "nbformat_minor": 5
}

{
 "cells": [
  {
   "cell_type": "markdown",
   "id": "7f1eab07",
   "metadata": {},
   "source": [
    "https://leetcode.com/problems/to-lower-case"
   ]
  },
  {
   "cell_type": "code",
   "execution_count": null,
   "id": "3408aba8",
   "metadata": {},
   "outputs": [],
   "source": [
    "import pyutil as pyu\n",
    "pyu.get_local_pyinfo()"
   ]
  },
  {
   "cell_type": "code",
   "execution_count": null,
   "id": "ea6c8981",
   "metadata": {},
   "outputs": [],
   "source": [
    "print(pyu.ps2(\"python-dotenv\"))"
   ]
  },
  {
   "cell_type": "code",
   "execution_count": null,
   "id": "b79939b1",
   "metadata": {},
   "outputs": [],
   "source": [
    "from typing import List"
   ]
  },
  {
   "cell_type": "code",
   "execution_count": null,
   "id": "c27ebc2f",
   "metadata": {},
   "outputs": [],
   "source": [
    "class Solution:\n",
    "  def toLowerCase(self, str: str) -> str:\n",
    "    return ''.join(chr(ord(c) + 32) if 'A' <= c <= 'Z' else c for c in str)"
   ]
  },
  {
   "cell_type": "code",
   "execution_count": null,
   "id": "d2413984",
   "metadata": {},
   "outputs": [],
   "source": [
    "new Solution().toLowerCase()"
   ]
  }
 ],
 "metadata": {},
 "nbformat": 4,
 "nbformat_minor": 5
}

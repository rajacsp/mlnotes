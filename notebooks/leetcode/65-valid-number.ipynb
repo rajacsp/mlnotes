{
 "cells": [
  {
   "cell_type": "markdown",
   "id": "5e746795",
   "metadata": {},
   "source": [
    "https://leetcode.com/problems/valid-number"
   ]
  },
  {
   "cell_type": "code",
   "execution_count": null,
   "id": "93a89732",
   "metadata": {},
   "outputs": [],
   "source": [
    "import pyutil as pyu\n",
    "pyu.get_local_pyinfo()"
   ]
  },
  {
   "cell_type": "code",
   "execution_count": null,
   "id": "9b029d2f",
   "metadata": {},
   "outputs": [],
   "source": [
    "print(pyu.ps2(\"python-dotenv\"))"
   ]
  },
  {
   "cell_type": "code",
   "execution_count": null,
   "id": "d99c5106",
   "metadata": {},
   "outputs": [],
   "source": [
    "from typing import List"
   ]
  },
  {
   "cell_type": "code",
   "execution_count": null,
   "id": "cd8ffba3",
   "metadata": {},
   "outputs": [],
   "source": [
    "class Solution:\n",
    "  def isNumber(self, s: str) -> bool:\n",
    "    s = s.strip()\n",
    "    if not s:\n",
    "      return False\n",
    "\n",
    "    seenNum = False\n",
    "    seenDot = False\n",
    "    seenE = False\n",
    "\n",
    "    for i, c in enumerate(s):\n",
    "      if c == '.':\n",
    "        if seenDot or seenE:\n",
    "          return False\n",
    "        seenDot = True\n",
    "      elif c == 'e' or c == 'E':\n",
    "        if seenE or not seenNum:\n",
    "          return False\n",
    "        seenE = True\n",
    "        seenNum = False\n",
    "      elif c in '+-':\n",
    "        if i > 0 and s[i - 1] != 'e':\n",
    "          return False\n",
    "        seenNum = False\n",
    "      else:\n",
    "        if not c.isdigit():\n",
    "          return False\n",
    "        seenNum = True\n",
    "\n",
    "    return seenNum"
   ]
  },
  {
   "cell_type": "code",
   "execution_count": null,
   "id": "bf99dd00",
   "metadata": {},
   "outputs": [],
   "source": [
    "new Solution().isNumber()"
   ]
  }
 ],
 "metadata": {},
 "nbformat": 4,
 "nbformat_minor": 5
}

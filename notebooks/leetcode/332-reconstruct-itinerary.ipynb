{
 "cells": [
  {
   "cell_type": "markdown",
   "id": "7c4be447",
   "metadata": {},
   "source": [
    "https://leetcode.com/problems/reconstruct-itinerary"
   ]
  },
  {
   "cell_type": "code",
   "execution_count": null,
   "id": "c9962067",
   "metadata": {},
   "outputs": [],
   "source": [
    "import pyutil as pyu\n",
    "pyu.get_local_pyinfo()"
   ]
  },
  {
   "cell_type": "code",
   "execution_count": null,
   "id": "76a56f5a",
   "metadata": {},
   "outputs": [],
   "source": [
    "print(pyu.ps2(\"python-dotenv\"))"
   ]
  },
  {
   "cell_type": "code",
   "execution_count": null,
   "id": "a4cb7d38",
   "metadata": {},
   "outputs": [],
   "source": [
    "from typing import List"
   ]
  },
  {
   "cell_type": "code",
   "execution_count": null,
   "id": "8644314f",
   "metadata": {},
   "outputs": [],
   "source": [
    "class Solution:\n",
    "  def findItinerary(self, tickets: List[List[str]]) -> List[str]:\n",
    "    ans = []\n",
    "    graph = defaultdict(list)\n",
    "\n",
    "    for a, b in reversed(sorted(tickets)):\n",
    "      graph[a].append(b)\n",
    "\n",
    "    def dfs(u: str) -> None:\n",
    "      while u in graph and graph[u]:\n",
    "        dfs(graph[u].pop())\n",
    "      ans.append(u)\n",
    "\n",
    "    dfs('JFK')\n",
    "    return ans[::-1]"
   ]
  },
  {
   "cell_type": "code",
   "execution_count": null,
   "id": "d1288b4e",
   "metadata": {},
   "outputs": [],
   "source": [
    "new Solution().findItinerary()"
   ]
  }
 ],
 "metadata": {},
 "nbformat": 4,
 "nbformat_minor": 5
}

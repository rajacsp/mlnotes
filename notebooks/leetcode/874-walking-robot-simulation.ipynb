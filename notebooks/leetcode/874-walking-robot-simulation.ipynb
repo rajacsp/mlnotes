{
 "cells": [
  {
   "cell_type": "markdown",
   "id": "688175a9",
   "metadata": {},
   "source": [
    "https://leetcode.com/problems/walking-robot-simulation"
   ]
  },
  {
   "cell_type": "code",
   "execution_count": null,
   "id": "084371c3",
   "metadata": {},
   "outputs": [],
   "source": [
    "import pyutil as pyu\n",
    "pyu.get_local_pyinfo()"
   ]
  },
  {
   "cell_type": "code",
   "execution_count": null,
   "id": "6a7f1d0e",
   "metadata": {},
   "outputs": [],
   "source": [
    "print(pyu.ps2(\"python-dotenv\"))"
   ]
  },
  {
   "cell_type": "code",
   "execution_count": null,
   "id": "6194cb70",
   "metadata": {},
   "outputs": [],
   "source": [
    "from typing import List"
   ]
  },
  {
   "cell_type": "code",
   "execution_count": null,
   "id": "43689043",
   "metadata": {},
   "outputs": [],
   "source": [
    "class Solution:\n",
    "  def robotSim(self, commands: List[int], obstacles: List[List[int]]) -> int:\n",
    "    dirs = [0, 1, 0, -1, 0]\n",
    "    ans = 0\n",
    "    d = 0  # 0 := north, 1 := east, 2 := south, 3 := west\n",
    "    x = 0  # Start x\n",
    "    y = 0  # Start y\n",
    "    obstaclesSet = {(x, y) for x, y in obstacles}\n",
    "\n",
    "    for c in commands:\n",
    "      if c == -1:\n",
    "        d = (d + 1) % 4\n",
    "      elif c == -2:\n",
    "        d = (d + 3) % 4\n",
    "      else:\n",
    "        for _ in range(c):\n",
    "          if (x + dirs[d], y + dirs[d + 1]) in obstaclesSet:\n",
    "            break\n",
    "          x += dirs[d]\n",
    "          y += dirs[d + 1]\n",
    "\n",
    "      ans = max(ans, x * x + y * y)\n",
    "\n",
    "    return ans"
   ]
  },
  {
   "cell_type": "code",
   "execution_count": null,
   "id": "a5b46d07",
   "metadata": {},
   "outputs": [],
   "source": [
    "new Solution().robotSim()"
   ]
  }
 ],
 "metadata": {},
 "nbformat": 4,
 "nbformat_minor": 5
}

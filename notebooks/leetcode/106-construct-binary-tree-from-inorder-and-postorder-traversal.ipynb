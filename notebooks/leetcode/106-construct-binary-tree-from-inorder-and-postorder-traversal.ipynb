{
 "cells": [
  {
   "cell_type": "markdown",
   "id": "eb7eb233",
   "metadata": {},
   "source": [
    "https://leetcode.com/problems/construct-binary-tree-from-inorder-and-postorder-traversal"
   ]
  },
  {
   "cell_type": "code",
   "execution_count": null,
   "id": "e4f7266f",
   "metadata": {},
   "outputs": [],
   "source": [
    "import pyutil as pyu\n",
    "pyu.get_local_pyinfo()"
   ]
  },
  {
   "cell_type": "code",
   "execution_count": null,
   "id": "05461a0b",
   "metadata": {},
   "outputs": [],
   "source": [
    "print(pyu.ps2(\"python-dotenv\"))"
   ]
  },
  {
   "cell_type": "code",
   "execution_count": null,
   "id": "fd762bad",
   "metadata": {},
   "outputs": [],
   "source": [
    "from typing import List"
   ]
  },
  {
   "cell_type": "code",
   "execution_count": null,
   "id": "2f9343c6",
   "metadata": {},
   "outputs": [],
   "source": [
    "class Solution:\n",
    "  def buildTree(self, inorder: List[int], postorder: List[int]) -> Optional[TreeNode]:\n",
    "    inToIndex = {num: i for i, num in enumerate(inorder)}\n",
    "\n",
    "    def build(inStart: int, inEnd: int, postStart: int, postEnd: int) -> Optional[TreeNode]:\n",
    "      if inStart > inEnd:\n",
    "        return None\n",
    "\n",
    "      rootVal = postorder[postEnd]\n",
    "      rootInIndex = inToIndex[rootVal]\n",
    "      leftSize = rootInIndex - inStart\n",
    "\n",
    "      root = TreeNode(rootVal)\n",
    "      root.left = build(inStart, rootInIndex - 1,  postStart,\n",
    "                        postStart + leftSize - 1)\n",
    "      root.right = build(rootInIndex + 1, inEnd,  postStart + leftSize,\n",
    "                         postEnd - 1)\n",
    "      return root\n",
    "\n",
    "    return build(0, len(inorder) - 1, 0, len(postorder) - 1)"
   ]
  },
  {
   "cell_type": "code",
   "execution_count": null,
   "id": "6b5f8bf0",
   "metadata": {},
   "outputs": [],
   "source": [
    "new Solution().buildTree()"
   ]
  }
 ],
 "metadata": {},
 "nbformat": 4,
 "nbformat_minor": 5
}

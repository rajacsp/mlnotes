{
 "cells": [
  {
   "cell_type": "markdown",
   "id": "cd5e6fd3",
   "metadata": {},
   "source": [
    "https://leetcode.com/problems/frog-jump"
   ]
  },
  {
   "cell_type": "code",
   "execution_count": null,
   "id": "398ec33e",
   "metadata": {},
   "outputs": [],
   "source": [
    "import pyutil as pyu\n",
    "pyu.get_local_pyinfo()"
   ]
  },
  {
   "cell_type": "code",
   "execution_count": null,
   "id": "1c28bb0e",
   "metadata": {},
   "outputs": [],
   "source": [
    "print(pyu.ps2(\"python-dotenv\"))"
   ]
  },
  {
   "cell_type": "code",
   "execution_count": null,
   "id": "f7e4bcac",
   "metadata": {},
   "outputs": [],
   "source": [
    "from typing import List"
   ]
  },
  {
   "cell_type": "code",
   "execution_count": null,
   "id": "7250730e",
   "metadata": {},
   "outputs": [],
   "source": [
    "class Solution:\n",
    "  def canCross(self, stones: List[int]) -> bool:\n",
    "    n = len(stones)\n",
    "    # dp[i][j] := True if a frog can make a size j jump to stones[i]\n",
    "    dp = [[False] * (n + 1) for _ in range(n)]\n",
    "    dp[0][0] = True\n",
    "\n",
    "    for i in range(1, n):\n",
    "      for j in range(i):\n",
    "        k = stones[i] - stones[j]\n",
    "        if k > n:\n",
    "          continue\n",
    "        for x in (k - 1, k, k + 1):\n",
    "          if 0 <= x <= n:\n",
    "            dp[i][k] |= dp[j][x]\n",
    "\n",
    "    return any(dp[-1])"
   ]
  },
  {
   "cell_type": "code",
   "execution_count": null,
   "id": "60cfac40",
   "metadata": {},
   "outputs": [],
   "source": [
    "new Solution().canCross()"
   ]
  }
 ],
 "metadata": {},
 "nbformat": 4,
 "nbformat_minor": 5
}

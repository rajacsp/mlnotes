{
 "cells": [
  {
   "cell_type": "markdown",
   "id": "3d67bb45",
   "metadata": {},
   "source": [
    "https://leetcode.com/problems/degree-of-an-array"
   ]
  },
  {
   "cell_type": "code",
   "execution_count": null,
   "id": "511bc7f5",
   "metadata": {},
   "outputs": [],
   "source": [
    "import pyutil as pyu\n",
    "pyu.get_local_pyinfo()"
   ]
  },
  {
   "cell_type": "code",
   "execution_count": null,
   "id": "84cd545a",
   "metadata": {},
   "outputs": [],
   "source": [
    "print(pyu.ps2(\"python-dotenv\"))"
   ]
  },
  {
   "cell_type": "code",
   "execution_count": null,
   "id": "2ac0f68e",
   "metadata": {},
   "outputs": [],
   "source": [
    "from typing import List"
   ]
  },
  {
   "cell_type": "code",
   "execution_count": null,
   "id": "e7b76027",
   "metadata": {},
   "outputs": [],
   "source": [
    "class Solution:\n",
    "  def findShortestSubArray(self, nums: List[int]) -> int:\n",
    "    ans = 0\n",
    "    degree = 0\n",
    "    debut = {}\n",
    "    count = Counter()\n",
    "\n",
    "    for i, num in enumerate(nums):\n",
    "      debut.setdefault(num, i)\n",
    "      count[num] += 1\n",
    "      if count[num] > degree:\n",
    "        degree = count[num]\n",
    "        ans = i - debut[num] + 1\n",
    "      elif count[num] == degree:\n",
    "        ans = min(ans, i - debut[num] + 1)\n",
    "\n",
    "    return ans"
   ]
  },
  {
   "cell_type": "code",
   "execution_count": null,
   "id": "fb2a2e0f",
   "metadata": {},
   "outputs": [],
   "source": [
    "new Solution().findShortestSubArray()"
   ]
  }
 ],
 "metadata": {},
 "nbformat": 4,
 "nbformat_minor": 5
}

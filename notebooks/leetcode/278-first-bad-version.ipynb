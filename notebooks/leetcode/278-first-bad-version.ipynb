{
 "cells": [
  {
   "cell_type": "markdown",
   "id": "127af9bf",
   "metadata": {},
   "source": [
    "https://leetcode.com/problems/first-bad-version"
   ]
  },
  {
   "cell_type": "code",
   "execution_count": null,
   "id": "074cf94b",
   "metadata": {},
   "outputs": [],
   "source": [
    "import pyutil as pyu\n",
    "pyu.get_local_pyinfo()"
   ]
  },
  {
   "cell_type": "code",
   "execution_count": null,
   "id": "a517057f",
   "metadata": {},
   "outputs": [],
   "source": [
    "print(pyu.ps2(\"python-dotenv\"))"
   ]
  },
  {
   "cell_type": "code",
   "execution_count": null,
   "id": "ab2c5420",
   "metadata": {},
   "outputs": [],
   "source": [
    "from typing import List"
   ]
  },
  {
   "cell_type": "code",
   "execution_count": null,
   "id": "48723470",
   "metadata": {},
   "outputs": [],
   "source": [
    "class Solution:\n",
    "  def firstBadVersion(self, n: int) -> int:\n",
    "    l = 1\n",
    "    r = n\n",
    "\n",
    "    while l < r:\n",
    "      m = (l + r) >> 1\n",
    "      if isBadVersion(m):\n",
    "        r = m\n",
    "      else:\n",
    "        l = m + 1\n",
    "\n",
    "    return l"
   ]
  },
  {
   "cell_type": "code",
   "execution_count": null,
   "id": "e71ac9d2",
   "metadata": {},
   "outputs": [],
   "source": [
    "new Solution().firstBadVersion()"
   ]
  }
 ],
 "metadata": {},
 "nbformat": 4,
 "nbformat_minor": 5
}

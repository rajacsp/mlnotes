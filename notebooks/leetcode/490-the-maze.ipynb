{
 "cells": [
  {
   "cell_type": "markdown",
   "id": "fd9bacbb",
   "metadata": {},
   "source": [
    "https://leetcode.com/problems/the-maze"
   ]
  },
  {
   "cell_type": "code",
   "execution_count": null,
   "id": "958d0a3d",
   "metadata": {},
   "outputs": [],
   "source": [
    "import pyutil as pyu\n",
    "pyu.get_local_pyinfo()"
   ]
  },
  {
   "cell_type": "code",
   "execution_count": null,
   "id": "1ca25a27",
   "metadata": {},
   "outputs": [],
   "source": [
    "print(pyu.ps2(\"python-dotenv\"))"
   ]
  },
  {
   "cell_type": "code",
   "execution_count": null,
   "id": "7cf9c19e",
   "metadata": {},
   "outputs": [],
   "source": [
    "from typing import List"
   ]
  },
  {
   "cell_type": "code",
   "execution_count": null,
   "id": "e0f04600",
   "metadata": {},
   "outputs": [],
   "source": [
    "class Solution:\n",
    "  def hasPath(self, maze: List[List[int]], start: List[int], destination: List[int]) -> bool:\n",
    "    m = len(maze)\n",
    "    n = len(maze[0])\n",
    "    dirs = [0, 1, 0, -1, 0]\n",
    "    q = deque([(start[0], start[1])])\n",
    "    seen = {(start[0], start[1])}\n",
    "\n",
    "    def isValid(x: int, y: int) -> bool:\n",
    "      return 0 <= x < m and 0 <= y < n and maze[x][y] == 0\n",
    "\n",
    "    while q:\n",
    "      i, j = q.popleft()\n",
    "      for k in range(4):\n",
    "        x = i\n",
    "        y = j\n",
    "        while isValid(x + dirs[k], y + dirs[k + 1]):\n",
    "          x += dirs[k]\n",
    "          y += dirs[k + 1]\n",
    "        if [x, y] == destination:\n",
    "          return True\n",
    "        if (x, y) in seen:\n",
    "          continue\n",
    "        q.append((x, y))\n",
    "        seen.add((x, y))\n",
    "\n",
    "    return False"
   ]
  },
  {
   "cell_type": "code",
   "execution_count": null,
   "id": "686dd02a",
   "metadata": {},
   "outputs": [],
   "source": [
    "new Solution().hasPath()"
   ]
  }
 ],
 "metadata": {},
 "nbformat": 4,
 "nbformat_minor": 5
}

{
 "cells": [
  {
   "cell_type": "markdown",
   "id": "14674a69",
   "metadata": {},
   "source": [
    "https://leetcode.com/problems/best-time-to-buy-and-sell-stock-iii"
   ]
  },
  {
   "cell_type": "code",
   "execution_count": null,
   "id": "5be53e81",
   "metadata": {},
   "outputs": [],
   "source": [
    "import pyutil as pyu\n",
    "pyu.get_local_pyinfo()"
   ]
  },
  {
   "cell_type": "code",
   "execution_count": null,
   "id": "f9438179",
   "metadata": {},
   "outputs": [],
   "source": [
    "print(pyu.ps2(\"python-dotenv\"))"
   ]
  },
  {
   "cell_type": "code",
   "execution_count": null,
   "id": "2c560b0d",
   "metadata": {},
   "outputs": [],
   "source": [
    "from typing import List"
   ]
  },
  {
   "cell_type": "code",
   "execution_count": null,
   "id": "d3f598f2",
   "metadata": {},
   "outputs": [],
   "source": [
    "class Solution:\n",
    "  def maxProfit(self, prices: List[int]) -> int:\n",
    "    sellTwo = 0\n",
    "    holdTwo = -math.inf\n",
    "    sellOne = 0\n",
    "    holdOne = -math.inf\n",
    "\n",
    "    for price in prices:\n",
    "      sellTwo = max(sellTwo, holdTwo + price)\n",
    "      holdTwo = max(holdTwo, sellOne - price)\n",
    "      sellOne = max(sellOne, holdOne + price)\n",
    "      holdOne = max(holdOne, -price)\n",
    "\n",
    "    return sellTwo"
   ]
  },
  {
   "cell_type": "code",
   "execution_count": null,
   "id": "22438bdc",
   "metadata": {},
   "outputs": [],
   "source": [
    "new Solution().maxProfit()"
   ]
  }
 ],
 "metadata": {},
 "nbformat": 4,
 "nbformat_minor": 5
}

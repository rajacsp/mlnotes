{
 "cells": [
  {
   "cell_type": "markdown",
   "id": "ce65abbe",
   "metadata": {},
   "source": [
    "https://leetcode.com/problems/largest-triangle-area"
   ]
  },
  {
   "cell_type": "code",
   "execution_count": null,
   "id": "568760fc",
   "metadata": {},
   "outputs": [],
   "source": [
    "import pyutil as pyu\n",
    "pyu.get_local_pyinfo()"
   ]
  },
  {
   "cell_type": "code",
   "execution_count": null,
   "id": "ee8be822",
   "metadata": {},
   "outputs": [],
   "source": [
    "print(pyu.ps2(\"python-dotenv\"))"
   ]
  },
  {
   "cell_type": "code",
   "execution_count": null,
   "id": "07f0cd10",
   "metadata": {},
   "outputs": [],
   "source": [
    "from typing import List"
   ]
  },
  {
   "cell_type": "code",
   "execution_count": null,
   "id": "b8194f30",
   "metadata": {},
   "outputs": [],
   "source": [
    "class Solution:\n",
    "  def largestTriangleArea(self, points: List[List[int]]) -> float:\n",
    "    ans = 0\n",
    "\n",
    "    for Ax, Ay in points:\n",
    "      for Bx, By in points:\n",
    "        for Cx, Cy in points:\n",
    "          ans = max(ans, 0.5 * abs((Bx - Ax) * (Cy - Ay) -\n",
    "                                   (Cx - Ax) * (By - Ay)))\n",
    "\n",
    "    return ans"
   ]
  },
  {
   "cell_type": "code",
   "execution_count": null,
   "id": "735a9e22",
   "metadata": {},
   "outputs": [],
   "source": [
    "new Solution().largestTriangleArea()"
   ]
  }
 ],
 "metadata": {},
 "nbformat": 4,
 "nbformat_minor": 5
}

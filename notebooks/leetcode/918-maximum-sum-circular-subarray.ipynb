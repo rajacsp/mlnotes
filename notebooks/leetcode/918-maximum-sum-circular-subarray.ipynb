{
 "cells": [
  {
   "cell_type": "markdown",
   "id": "58a5ddc7",
   "metadata": {},
   "source": [
    "https://leetcode.com/problems/maximum-sum-circular-subarray"
   ]
  },
  {
   "cell_type": "code",
   "execution_count": null,
   "id": "6e1308d2",
   "metadata": {},
   "outputs": [],
   "source": [
    "import pyutil as pyu\n",
    "pyu.get_local_pyinfo()"
   ]
  },
  {
   "cell_type": "code",
   "execution_count": null,
   "id": "43db45cf",
   "metadata": {},
   "outputs": [],
   "source": [
    "print(pyu.ps2(\"python-dotenv\"))"
   ]
  },
  {
   "cell_type": "code",
   "execution_count": null,
   "id": "9504e274",
   "metadata": {},
   "outputs": [],
   "source": [
    "from typing import List"
   ]
  },
  {
   "cell_type": "code",
   "execution_count": null,
   "id": "4773b782",
   "metadata": {},
   "outputs": [],
   "source": [
    "class Solution:\n",
    "  def maxSubarraySumCircular(self, A: List[int]) -> int:\n",
    "    totalSum = 0\n",
    "    currMaxSum = 0\n",
    "    currMinSum = 0\n",
    "    maxSum = -math.inf\n",
    "    minSum = math.inf\n",
    "\n",
    "    for a in A:\n",
    "      totalSum += a\n",
    "      currMaxSum = max(currMaxSum + a, a)\n",
    "      currMinSum = min(currMinSum + a, a)\n",
    "      maxSum = max(maxSum, currMaxSum)\n",
    "      minSum = min(minSum, currMinSum)\n",
    "\n",
    "    return maxSum if maxSum < 0 else max(maxSum, totalSum - minSum)"
   ]
  },
  {
   "cell_type": "code",
   "execution_count": null,
   "id": "c3c6074c",
   "metadata": {},
   "outputs": [],
   "source": [
    "new Solution().maxSubarraySumCircular()"
   ]
  }
 ],
 "metadata": {},
 "nbformat": 4,
 "nbformat_minor": 5
}

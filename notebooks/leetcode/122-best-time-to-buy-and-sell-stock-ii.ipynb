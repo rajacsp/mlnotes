{
 "cells": [
  {
   "cell_type": "markdown",
   "id": "e5e02c59",
   "metadata": {},
   "source": [
    "https://leetcode.com/problems/best-time-to-buy-and-sell-stock-ii"
   ]
  },
  {
   "cell_type": "code",
   "execution_count": null,
   "id": "6f9f6454",
   "metadata": {},
   "outputs": [],
   "source": [
    "import pyutil as pyu\n",
    "pyu.get_local_pyinfo()"
   ]
  },
  {
   "cell_type": "code",
   "execution_count": null,
   "id": "015c32a0",
   "metadata": {},
   "outputs": [],
   "source": [
    "print(pyu.ps2(\"python-dotenv\"))"
   ]
  },
  {
   "cell_type": "code",
   "execution_count": null,
   "id": "0ac2f1d8",
   "metadata": {},
   "outputs": [],
   "source": [
    "from typing import List"
   ]
  },
  {
   "cell_type": "code",
   "execution_count": null,
   "id": "2a1a7772",
   "metadata": {},
   "outputs": [],
   "source": [
    "class Solution:\n",
    "  def maxProfit(self, prices: List[int]) -> int:\n",
    "    sell = 0\n",
    "    hold = -math.inf\n",
    "\n",
    "    for price in prices:\n",
    "      sell = max(sell, hold + price)\n",
    "      hold = max(hold, sell - price)\n",
    "\n",
    "    return sell"
   ]
  },
  {
   "cell_type": "code",
   "execution_count": null,
   "id": "a11e2724",
   "metadata": {},
   "outputs": [],
   "source": [
    "new Solution().maxProfit()"
   ]
  }
 ],
 "metadata": {},
 "nbformat": 4,
 "nbformat_minor": 5
}

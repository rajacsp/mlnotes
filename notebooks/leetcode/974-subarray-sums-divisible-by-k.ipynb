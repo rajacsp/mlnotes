{
 "cells": [
  {
   "cell_type": "markdown",
   "id": "d257bf25",
   "metadata": {},
   "source": [
    "https://leetcode.com/problems/subarray-sums-divisible-by-k"
   ]
  },
  {
   "cell_type": "code",
   "execution_count": null,
   "id": "de0336ab",
   "metadata": {},
   "outputs": [],
   "source": [
    "import pyutil as pyu\n",
    "pyu.get_local_pyinfo()"
   ]
  },
  {
   "cell_type": "code",
   "execution_count": null,
   "id": "b7315fe9",
   "metadata": {},
   "outputs": [],
   "source": [
    "print(pyu.ps2(\"python-dotenv\"))"
   ]
  },
  {
   "cell_type": "code",
   "execution_count": null,
   "id": "2cbb3a6b",
   "metadata": {},
   "outputs": [],
   "source": [
    "from typing import List"
   ]
  },
  {
   "cell_type": "code",
   "execution_count": null,
   "id": "a9f8d4aa",
   "metadata": {},
   "outputs": [],
   "source": [
    "class Solution:\n",
    "  def subarraysDivByK(self, A: List[int], K: int) -> int:\n",
    "    ans = 0\n",
    "    prefix = 0\n",
    "    count = [1] + [0] * (K - 1)\n",
    "\n",
    "    for a in A:\n",
    "      prefix = (prefix + a) % K\n",
    "      ans += count[prefix]\n",
    "      count[prefix] += 1\n",
    "\n",
    "    return ans"
   ]
  },
  {
   "cell_type": "code",
   "execution_count": null,
   "id": "ca8c158a",
   "metadata": {},
   "outputs": [],
   "source": [
    "new Solution().subarraysDivByK()"
   ]
  }
 ],
 "metadata": {},
 "nbformat": 4,
 "nbformat_minor": 5
}

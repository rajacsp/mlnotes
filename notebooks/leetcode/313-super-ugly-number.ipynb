{
 "cells": [
  {
   "cell_type": "markdown",
   "id": "ce1a64ca",
   "metadata": {},
   "source": [
    "https://leetcode.com/problems/super-ugly-number"
   ]
  },
  {
   "cell_type": "code",
   "execution_count": null,
   "id": "6bf390af",
   "metadata": {},
   "outputs": [],
   "source": [
    "import pyutil as pyu\n",
    "pyu.get_local_pyinfo()"
   ]
  },
  {
   "cell_type": "code",
   "execution_count": null,
   "id": "6d81474f",
   "metadata": {},
   "outputs": [],
   "source": [
    "print(pyu.ps2(\"python-dotenv\"))"
   ]
  },
  {
   "cell_type": "code",
   "execution_count": null,
   "id": "86a0beec",
   "metadata": {},
   "outputs": [],
   "source": [
    "from typing import List"
   ]
  },
  {
   "cell_type": "code",
   "execution_count": null,
   "id": "e2553a4c",
   "metadata": {},
   "outputs": [],
   "source": [
    "class Solution:\n",
    "  def nthSuperUglyNumber(self, n: int, primes: List[int]) -> int:\n",
    "    k = len(primes)\n",
    "    nums = [1]\n",
    "    indices = [0] * k\n",
    "\n",
    "    while len(nums) < n:\n",
    "      nexts = [0] * k\n",
    "      for i in range(k):\n",
    "        nexts[i] = nums[indices[i]] * primes[i]\n",
    "      next = min(nexts)\n",
    "      for i in range(k):\n",
    "        if next == nexts[i]:\n",
    "          indices[i] += 1\n",
    "      nums.append(next)\n",
    "\n",
    "    return nums[-1]"
   ]
  },
  {
   "cell_type": "code",
   "execution_count": null,
   "id": "4437eb0e",
   "metadata": {},
   "outputs": [],
   "source": [
    "new Solution().nthSuperUglyNumber()"
   ]
  }
 ],
 "metadata": {},
 "nbformat": 4,
 "nbformat_minor": 5
}

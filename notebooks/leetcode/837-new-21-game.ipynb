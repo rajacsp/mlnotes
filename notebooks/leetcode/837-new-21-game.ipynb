{
 "cells": [
  {
   "cell_type": "markdown",
   "id": "a35ce0a6",
   "metadata": {},
   "source": [
    "https://leetcode.com/problems/new-21-game"
   ]
  },
  {
   "cell_type": "code",
   "execution_count": null,
   "id": "4f9ccb36",
   "metadata": {},
   "outputs": [],
   "source": [
    "import pyutil as pyu\n",
    "pyu.get_local_pyinfo()"
   ]
  },
  {
   "cell_type": "code",
   "execution_count": null,
   "id": "cd5185b5",
   "metadata": {},
   "outputs": [],
   "source": [
    "print(pyu.ps2(\"python-dotenv\"))"
   ]
  },
  {
   "cell_type": "code",
   "execution_count": null,
   "id": "5fe3db4f",
   "metadata": {},
   "outputs": [],
   "source": [
    "from typing import List"
   ]
  },
  {
   "cell_type": "code",
   "execution_count": null,
   "id": "2617d815",
   "metadata": {},
   "outputs": [],
   "source": [
    "class Solution:\n",
    "  def new21Game(self, n: int, k: int, maxPts: int) -> float:\n",
    "    # When the game ends, the point is in [k..k - 1 + maxPts]\n",
    "    #   P = 1, if n >= k - 1 + maxPts\n",
    "    #   P = 0, if n < k (note the constraints already have k <= n)\n",
    "    if k == 0 or n >= k - 1 + maxPts:\n",
    "      return 1.0\n",
    "\n",
    "    ans = 0.0\n",
    "    dp = [1.0] + [0] * n  # dp[i] := prob to have i points\n",
    "    windowSum = dp[0]  # P(i - 1) + P(i - 2) + ... + P(i - maxPts)\n",
    "\n",
    "    for i in range(1, n + 1):\n",
    "      # The prob to get point i is\n",
    "      # P(i) = [P(i - 1) + P(i - 2) + ... + P(i - maxPts)] / maxPts\n",
    "      dp[i] = windowSum / maxPts\n",
    "      if i < k:\n",
    "        windowSum += dp[i]\n",
    "      else:  # The game ends\n",
    "        ans += dp[i]\n",
    "      if i - maxPts >= 0:\n",
    "        windowSum -= dp[i - maxPts]\n",
    "\n",
    "    return ans"
   ]
  },
  {
   "cell_type": "code",
   "execution_count": null,
   "id": "bdf325ae",
   "metadata": {},
   "outputs": [],
   "source": [
    "new Solution().new21Game()"
   ]
  }
 ],
 "metadata": {},
 "nbformat": 4,
 "nbformat_minor": 5
}

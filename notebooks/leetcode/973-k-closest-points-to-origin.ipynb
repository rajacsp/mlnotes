{
 "cells": [
  {
   "cell_type": "markdown",
   "id": "ad4ad903",
   "metadata": {},
   "source": [
    "https://leetcode.com/problems/k-closest-points-to-origin"
   ]
  },
  {
   "cell_type": "code",
   "execution_count": null,
   "id": "7355e9bd",
   "metadata": {},
   "outputs": [],
   "source": [
    "import pyutil as pyu\n",
    "pyu.get_local_pyinfo()"
   ]
  },
  {
   "cell_type": "code",
   "execution_count": null,
   "id": "88a1f0ea",
   "metadata": {},
   "outputs": [],
   "source": [
    "print(pyu.ps2(\"python-dotenv\"))"
   ]
  },
  {
   "cell_type": "code",
   "execution_count": null,
   "id": "49894abf",
   "metadata": {},
   "outputs": [],
   "source": [
    "from typing import List"
   ]
  },
  {
   "cell_type": "code",
   "execution_count": null,
   "id": "5b410df9",
   "metadata": {},
   "outputs": [],
   "source": [
    "class Solution:\n",
    "  def kClosest(self, points: List[List[int]], K: int) -> List[List[int]]:\n",
    "    maxHeap = []\n",
    "\n",
    "    for x, y in points:\n",
    "      heapq.heappush(maxHeap, (- x * x - y * y, [x, y]))\n",
    "      if len(maxHeap) > K:\n",
    "        heapq.heappop(maxHeap)\n",
    "\n",
    "    return [pair[1] for pair in maxHeap]"
   ]
  },
  {
   "cell_type": "code",
   "execution_count": null,
   "id": "fed3d3ad",
   "metadata": {},
   "outputs": [],
   "source": [
    "new Solution().kClosest()"
   ]
  }
 ],
 "metadata": {},
 "nbformat": 4,
 "nbformat_minor": 5
}

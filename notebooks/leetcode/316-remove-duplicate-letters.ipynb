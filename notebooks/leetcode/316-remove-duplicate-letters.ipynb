{
 "cells": [
  {
   "cell_type": "markdown",
   "id": "95b7a824",
   "metadata": {},
   "source": [
    "https://leetcode.com/problems/remove-duplicate-letters"
   ]
  },
  {
   "cell_type": "code",
   "execution_count": null,
   "id": "78ed2dd3",
   "metadata": {},
   "outputs": [],
   "source": [
    "import pyutil as pyu\n",
    "pyu.get_local_pyinfo()"
   ]
  },
  {
   "cell_type": "code",
   "execution_count": null,
   "id": "4b7d68c7",
   "metadata": {},
   "outputs": [],
   "source": [
    "print(pyu.ps2(\"python-dotenv\"))"
   ]
  },
  {
   "cell_type": "code",
   "execution_count": null,
   "id": "8cf65a50",
   "metadata": {},
   "outputs": [],
   "source": [
    "from typing import List"
   ]
  },
  {
   "cell_type": "code",
   "execution_count": null,
   "id": "3802e30d",
   "metadata": {},
   "outputs": [],
   "source": [
    "class Solution:\n",
    "  def removeDuplicateLetters(self, s: str) -> str:\n",
    "    ans = []\n",
    "    count = Counter(s)\n",
    "    used = [False] * 26\n",
    "\n",
    "    for c in s:\n",
    "      count[c] -= 1\n",
    "      if used[ord(c) - ord('a')]:\n",
    "        continue\n",
    "      while ans and ans[-1] > c and count[ans[-1]] > 0:\n",
    "        used[ord(ans[-1]) - ord('a')] = False\n",
    "        ans.pop()\n",
    "      ans.append(c)\n",
    "      used[ord(ans[-1]) - ord('a')] = True\n",
    "\n",
    "    return ''.join(ans)"
   ]
  },
  {
   "cell_type": "code",
   "execution_count": null,
   "id": "2bd8cb7c",
   "metadata": {},
   "outputs": [],
   "source": [
    "new Solution().removeDuplicateLetters()"
   ]
  }
 ],
 "metadata": {},
 "nbformat": 4,
 "nbformat_minor": 5
}

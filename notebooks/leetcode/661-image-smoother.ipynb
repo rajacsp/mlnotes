{
 "cells": [
  {
   "cell_type": "markdown",
   "id": "2bfe0cf4",
   "metadata": {},
   "source": [
    "https://leetcode.com/problems/image-smoother"
   ]
  },
  {
   "cell_type": "code",
   "execution_count": null,
   "id": "85828c83",
   "metadata": {},
   "outputs": [],
   "source": [
    "import pyutil as pyu\n",
    "pyu.get_local_pyinfo()"
   ]
  },
  {
   "cell_type": "code",
   "execution_count": null,
   "id": "3e58e008",
   "metadata": {},
   "outputs": [],
   "source": [
    "print(pyu.ps2(\"python-dotenv\"))"
   ]
  },
  {
   "cell_type": "code",
   "execution_count": null,
   "id": "8e175435",
   "metadata": {},
   "outputs": [],
   "source": [
    "from typing import List"
   ]
  },
  {
   "cell_type": "code",
   "execution_count": null,
   "id": "f7706ffe",
   "metadata": {},
   "outputs": [],
   "source": [
    "class Solution:\n",
    "  def imageSmoother(self, M: List[List[int]]) -> List[List[int]]:\n",
    "    m = len(M)\n",
    "    n = len(M[0])\n",
    "    ans = [[0 for j in range(n)] for i in range(m)]\n",
    "\n",
    "    for i in range(m):\n",
    "      for j in range(n):\n",
    "        ones = 0\n",
    "        count = 0\n",
    "        for y in range(max(0, i - 1), min(m, i + 2)):\n",
    "          for x in range(max(0, j - 1), min(n, j + 2)):\n",
    "            ones += M[y][x]\n",
    "            count += 1\n",
    "        ans[i][j] = ones // count\n",
    "\n",
    "    return ans"
   ]
  },
  {
   "cell_type": "code",
   "execution_count": null,
   "id": "2cdc30eb",
   "metadata": {},
   "outputs": [],
   "source": [
    "new Solution().imageSmoother()"
   ]
  }
 ],
 "metadata": {},
 "nbformat": 4,
 "nbformat_minor": 5
}

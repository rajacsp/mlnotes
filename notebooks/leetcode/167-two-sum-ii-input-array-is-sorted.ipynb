{
 "cells": [
  {
   "cell_type": "markdown",
   "id": "a3f4a23e",
   "metadata": {},
   "source": [
    "https://leetcode.com/problems/two-sum-ii-input-array-is-sorted"
   ]
  },
  {
   "cell_type": "code",
   "execution_count": null,
   "id": "e8ae031c",
   "metadata": {},
   "outputs": [],
   "source": [
    "import pyutil as pyu\n",
    "pyu.get_local_pyinfo()"
   ]
  },
  {
   "cell_type": "code",
   "execution_count": null,
   "id": "6902f9e1",
   "metadata": {},
   "outputs": [],
   "source": [
    "print(pyu.ps2(\"python-dotenv\"))"
   ]
  },
  {
   "cell_type": "code",
   "execution_count": null,
   "id": "cd5a45bd",
   "metadata": {},
   "outputs": [],
   "source": [
    "from typing import List"
   ]
  },
  {
   "cell_type": "code",
   "execution_count": null,
   "id": "a1311b7b",
   "metadata": {},
   "outputs": [],
   "source": [
    "class Solution:\n",
    "  def twoSum(self, numbers: List[int], target: int) -> List[int]:\n",
    "    l = 0\n",
    "    r = len(numbers) - 1\n",
    "\n",
    "    while l < r:\n",
    "      summ = numbers[l] + numbers[r]\n",
    "      if summ == target:\n",
    "        return [l + 1, r + 1]\n",
    "      if summ < target:\n",
    "        l += 1\n",
    "      else:\n",
    "        r -= 1"
   ]
  },
  {
   "cell_type": "code",
   "execution_count": null,
   "id": "cf3dc98a",
   "metadata": {},
   "outputs": [],
   "source": [
    "new Solution().twoSum()"
   ]
  }
 ],
 "metadata": {},
 "nbformat": 4,
 "nbformat_minor": 5
}

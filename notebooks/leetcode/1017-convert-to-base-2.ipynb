{
 "cells": [
  {
   "cell_type": "markdown",
   "id": "8925300a",
   "metadata": {},
   "source": [
    "https://leetcode.com/problems/convert-to-base-2"
   ]
  },
  {
   "cell_type": "code",
   "execution_count": null,
   "id": "b200cbc6",
   "metadata": {},
   "outputs": [],
   "source": [
    "import pyutil as pyu\n",
    "pyu.get_local_pyinfo()"
   ]
  },
  {
   "cell_type": "code",
   "execution_count": null,
   "id": "8cc78803",
   "metadata": {},
   "outputs": [],
   "source": [
    "print(pyu.ps2(\"python-dotenv\"))"
   ]
  },
  {
   "cell_type": "code",
   "execution_count": null,
   "id": "316343f9",
   "metadata": {},
   "outputs": [],
   "source": [
    "from typing import List"
   ]
  },
  {
   "cell_type": "code",
   "execution_count": null,
   "id": "5cb2974c",
   "metadata": {},
   "outputs": [],
   "source": [
    "class Solution:\n",
    "  def baseNeg2(self, N: int) -> str:\n",
    "    ans = ''\n",
    "\n",
    "    while N:\n",
    "      ans = str(N & 1) + ans\n",
    "      N = -(N >> 1)\n",
    "\n",
    "    return '0' if ans == '' else ans"
   ]
  },
  {
   "cell_type": "code",
   "execution_count": null,
   "id": "4d408968",
   "metadata": {},
   "outputs": [],
   "source": [
    "new Solution().baseNeg2()"
   ]
  }
 ],
 "metadata": {},
 "nbformat": 4,
 "nbformat_minor": 5
}

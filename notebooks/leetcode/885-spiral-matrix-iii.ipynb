{
 "cells": [
  {
   "cell_type": "markdown",
   "id": "b07d38bc",
   "metadata": {},
   "source": [
    "https://leetcode.com/problems/spiral-matrix-iii"
   ]
  },
  {
   "cell_type": "code",
   "execution_count": null,
   "id": "2fd068df",
   "metadata": {},
   "outputs": [],
   "source": [
    "import pyutil as pyu\n",
    "pyu.get_local_pyinfo()"
   ]
  },
  {
   "cell_type": "code",
   "execution_count": null,
   "id": "4a3ccfe4",
   "metadata": {},
   "outputs": [],
   "source": [
    "print(pyu.ps2(\"python-dotenv\"))"
   ]
  },
  {
   "cell_type": "code",
   "execution_count": null,
   "id": "c69e6163",
   "metadata": {},
   "outputs": [],
   "source": [
    "from typing import List"
   ]
  },
  {
   "cell_type": "code",
   "execution_count": null,
   "id": "b1bcc5d0",
   "metadata": {},
   "outputs": [],
   "source": [
    "class Solution:\n",
    "  def spiralMatrixIII(self, R: int, C: int, r0: int, c0: int) -> List[List[int]]:\n",
    "    ans = [[r0, c0]]\n",
    "    dx = [1, 0, -1, 0]\n",
    "    dy = [0, 1, 0, -1]\n",
    "    i = 0\n",
    "\n",
    "    while len(ans) < R * C:\n",
    "      for _ in range(i // 2 + 1):\n",
    "        r0 += dy[i % 4]\n",
    "        c0 += dx[i % 4]\n",
    "        if 0 <= r0 < R and 0 <= c0 < C:\n",
    "          ans.append([r0, c0])\n",
    "      i += 1\n",
    "\n",
    "    return ans"
   ]
  },
  {
   "cell_type": "code",
   "execution_count": null,
   "id": "ef06c394",
   "metadata": {},
   "outputs": [],
   "source": [
    "new Solution().spiralMatrixIII()"
   ]
  }
 ],
 "metadata": {},
 "nbformat": 4,
 "nbformat_minor": 5
}

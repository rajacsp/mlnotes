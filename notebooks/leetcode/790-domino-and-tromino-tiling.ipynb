{
 "cells": [
  {
   "cell_type": "markdown",
   "id": "d19110c1",
   "metadata": {},
   "source": [
    "https://leetcode.com/problems/domino-and-tromino-tiling"
   ]
  },
  {
   "cell_type": "code",
   "execution_count": null,
   "id": "86d74976",
   "metadata": {},
   "outputs": [],
   "source": [
    "import pyutil as pyu\n",
    "pyu.get_local_pyinfo()"
   ]
  },
  {
   "cell_type": "code",
   "execution_count": null,
   "id": "2b6139ec",
   "metadata": {},
   "outputs": [],
   "source": [
    "print(pyu.ps2(\"python-dotenv\"))"
   ]
  },
  {
   "cell_type": "code",
   "execution_count": null,
   "id": "6f39bcc2",
   "metadata": {},
   "outputs": [],
   "source": [
    "from typing import List"
   ]
  },
  {
   "cell_type": "code",
   "execution_count": null,
   "id": "d15b2ff0",
   "metadata": {},
   "outputs": [],
   "source": [
    "class Solution:\n",
    "  def numTilings(self, N: int) -> int:\n",
    "    kMod = 1_000_000_007\n",
    "    dp = [0, 1, 2, 5] + [0] * 997\n",
    "\n",
    "    for i in range(4, N + 1):\n",
    "      dp[i] = 2 * dp[i - 1] + dp[i - 3]\n",
    "\n",
    "    return dp[N] % kMod"
   ]
  },
  {
   "cell_type": "code",
   "execution_count": null,
   "id": "c1c36623",
   "metadata": {},
   "outputs": [],
   "source": [
    "new Solution().numTilings()"
   ]
  }
 ],
 "metadata": {},
 "nbformat": 4,
 "nbformat_minor": 5
}

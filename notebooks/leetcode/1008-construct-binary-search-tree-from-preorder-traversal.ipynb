{
 "cells": [
  {
   "cell_type": "markdown",
   "id": "2d96e549",
   "metadata": {},
   "source": [
    "https://leetcode.com/problems/construct-binary-search-tree-from-preorder-traversal"
   ]
  },
  {
   "cell_type": "code",
   "execution_count": null,
   "id": "11017cfe",
   "metadata": {},
   "outputs": [],
   "source": [
    "import pyutil as pyu\n",
    "pyu.get_local_pyinfo()"
   ]
  },
  {
   "cell_type": "code",
   "execution_count": null,
   "id": "8e66e79d",
   "metadata": {},
   "outputs": [],
   "source": [
    "print(pyu.ps2(\"python-dotenv\"))"
   ]
  },
  {
   "cell_type": "code",
   "execution_count": null,
   "id": "e819240c",
   "metadata": {},
   "outputs": [],
   "source": [
    "from typing import List"
   ]
  },
  {
   "cell_type": "code",
   "execution_count": null,
   "id": "c747d5a7",
   "metadata": {},
   "outputs": [],
   "source": [
    "class Solution:\n",
    "  def bstFromPreorder(self, preorder: List[int]) -> Optional[TreeNode]:\n",
    "    root = TreeNode(preorder[0])\n",
    "    stack = [root]\n",
    "\n",
    "    for i in range(1, len(preorder)):\n",
    "      parent = stack[-1]\n",
    "      child = TreeNode(preorder[i])\n",
    "      # Adjust parent\n",
    "      while stack and stack[-1].val < child.val:\n",
    "        parent = stack.pop()\n",
    "      # Create parent-child link according to BST property\n",
    "      if parent.val > child.val:\n",
    "        parent.left = child\n",
    "      else:\n",
    "        parent.right = child\n",
    "      stack.append(child)\n",
    "\n",
    "    return root"
   ]
  },
  {
   "cell_type": "code",
   "execution_count": null,
   "id": "9690463a",
   "metadata": {},
   "outputs": [],
   "source": [
    "new Solution().bstFromPreorder()"
   ]
  }
 ],
 "metadata": {},
 "nbformat": 4,
 "nbformat_minor": 5
}

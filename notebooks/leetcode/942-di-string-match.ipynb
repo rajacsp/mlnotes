{
 "cells": [
  {
   "cell_type": "markdown",
   "id": "b0e41718",
   "metadata": {},
   "source": [
    "https://leetcode.com/problems/di-string-match"
   ]
  },
  {
   "cell_type": "code",
   "execution_count": null,
   "id": "a8522165",
   "metadata": {},
   "outputs": [],
   "source": [
    "import pyutil as pyu\n",
    "pyu.get_local_pyinfo()"
   ]
  },
  {
   "cell_type": "code",
   "execution_count": null,
   "id": "7a63ed69",
   "metadata": {},
   "outputs": [],
   "source": [
    "print(pyu.ps2(\"python-dotenv\"))"
   ]
  },
  {
   "cell_type": "code",
   "execution_count": null,
   "id": "2dc5e627",
   "metadata": {},
   "outputs": [],
   "source": [
    "from typing import List"
   ]
  },
  {
   "cell_type": "code",
   "execution_count": null,
   "id": "b7d10b20",
   "metadata": {},
   "outputs": [],
   "source": [
    "class Solution:\n",
    "  def diStringMatch(self, S: str) -> List[int]:\n",
    "    ans = []\n",
    "    mini = 0\n",
    "    maxi = len(S)\n",
    "\n",
    "    for c in S:\n",
    "      if c == 'I':\n",
    "        ans.append(mini)\n",
    "        mini += 1\n",
    "      else:\n",
    "        ans.append(maxi)\n",
    "        maxi -= 1\n",
    "    ans.append(mini)\n",
    "\n",
    "    return ans"
   ]
  },
  {
   "cell_type": "code",
   "execution_count": null,
   "id": "e410a8f2",
   "metadata": {},
   "outputs": [],
   "source": [
    "new Solution().diStringMatch()"
   ]
  }
 ],
 "metadata": {},
 "nbformat": 4,
 "nbformat_minor": 5
}

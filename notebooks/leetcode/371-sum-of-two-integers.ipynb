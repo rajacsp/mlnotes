{
 "cells": [
  {
   "cell_type": "markdown",
   "id": "9f144775",
   "metadata": {},
   "source": [
    "https://leetcode.com/problems/sum-of-two-integers"
   ]
  },
  {
   "cell_type": "code",
   "execution_count": null,
   "id": "4390534f",
   "metadata": {},
   "outputs": [],
   "source": [
    "import pyutil as pyu\n",
    "pyu.get_local_pyinfo()"
   ]
  },
  {
   "cell_type": "code",
   "execution_count": null,
   "id": "d18d16a7",
   "metadata": {},
   "outputs": [],
   "source": [
    "print(pyu.ps2(\"python-dotenv\"))"
   ]
  },
  {
   "cell_type": "code",
   "execution_count": null,
   "id": "37b4c2e0",
   "metadata": {},
   "outputs": [],
   "source": [
    "from typing import List"
   ]
  },
  {
   "cell_type": "code",
   "execution_count": null,
   "id": "eeb407f8",
   "metadata": {},
   "outputs": [],
   "source": [
    "class Solution:\n",
    "  def getSum(self, a: int, b: int) -> int:\n",
    "    mask = 0xFFFFFFFF\n",
    "    kMax = 2000\n",
    "\n",
    "    while b:\n",
    "      a, b = (a ^ b) & mask, ((a & b) << 1) & mask\n",
    "\n",
    "    return a if a < kMax else ~(a ^ mask)"
   ]
  },
  {
   "cell_type": "code",
   "execution_count": null,
   "id": "cc39b15a",
   "metadata": {},
   "outputs": [],
   "source": [
    "new Solution().getSum()"
   ]
  }
 ],
 "metadata": {},
 "nbformat": 4,
 "nbformat_minor": 5
}

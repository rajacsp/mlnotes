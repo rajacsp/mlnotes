{
 "cells": [
  {
   "cell_type": "markdown",
   "id": "3f80183a",
   "metadata": {},
   "source": [
    "https://leetcode.com/problems/word-pattern"
   ]
  },
  {
   "cell_type": "code",
   "execution_count": null,
   "id": "ec2fc16b",
   "metadata": {},
   "outputs": [],
   "source": [
    "import pyutil as pyu\n",
    "pyu.get_local_pyinfo()"
   ]
  },
  {
   "cell_type": "code",
   "execution_count": null,
   "id": "44cfcb3f",
   "metadata": {},
   "outputs": [],
   "source": [
    "print(pyu.ps2(\"python-dotenv\"))"
   ]
  },
  {
   "cell_type": "code",
   "execution_count": null,
   "id": "cafa0d7f",
   "metadata": {},
   "outputs": [],
   "source": [
    "from typing import List"
   ]
  },
  {
   "cell_type": "code",
   "execution_count": null,
   "id": "9d6a57be",
   "metadata": {},
   "outputs": [],
   "source": [
    "class Solution:\n",
    "  def wordPattern(self, pattern: str, str: str) -> bool:\n",
    "    t = str.split()\n",
    "    return [*map(pattern.index, pattern)] == [*map(t.index, t)]"
   ]
  },
  {
   "cell_type": "code",
   "execution_count": null,
   "id": "8ef917f6",
   "metadata": {},
   "outputs": [],
   "source": [
    "new Solution().wordPattern()"
   ]
  }
 ],
 "metadata": {},
 "nbformat": 4,
 "nbformat_minor": 5
}

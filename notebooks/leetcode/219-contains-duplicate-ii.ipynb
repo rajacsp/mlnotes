{
 "cells": [
  {
   "cell_type": "markdown",
   "id": "fb6ca714",
   "metadata": {},
   "source": [
    "https://leetcode.com/problems/contains-duplicate-ii"
   ]
  },
  {
   "cell_type": "code",
   "execution_count": null,
   "id": "afc38760",
   "metadata": {},
   "outputs": [],
   "source": [
    "import pyutil as pyu\n",
    "pyu.get_local_pyinfo()"
   ]
  },
  {
   "cell_type": "code",
   "execution_count": null,
   "id": "136c8cf2",
   "metadata": {},
   "outputs": [],
   "source": [
    "print(pyu.ps2(\"python-dotenv\"))"
   ]
  },
  {
   "cell_type": "code",
   "execution_count": null,
   "id": "8bb942be",
   "metadata": {},
   "outputs": [],
   "source": [
    "from typing import List"
   ]
  },
  {
   "cell_type": "code",
   "execution_count": null,
   "id": "72aeb0eb",
   "metadata": {},
   "outputs": [],
   "source": [
    "class Solution:\n",
    "  def containsNearbyDuplicate(self, nums: List[int], k: int) -> bool:\n",
    "    seen = set()\n",
    "\n",
    "    for i, num in enumerate(nums):\n",
    "      if i > k:\n",
    "        seen.remove(nums[i - k - 1])\n",
    "      if num in seen:\n",
    "        return True\n",
    "      seen.add(num)\n",
    "\n",
    "    return False"
   ]
  },
  {
   "cell_type": "code",
   "execution_count": null,
   "id": "f6b46751",
   "metadata": {},
   "outputs": [],
   "source": [
    "new Solution().containsNearbyDuplicate()"
   ]
  }
 ],
 "metadata": {},
 "nbformat": 4,
 "nbformat_minor": 5
}

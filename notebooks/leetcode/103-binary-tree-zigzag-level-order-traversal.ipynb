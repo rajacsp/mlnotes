{
 "cells": [
  {
   "cell_type": "markdown",
   "id": "3ab6b750",
   "metadata": {},
   "source": [
    "https://leetcode.com/problems/binary-tree-zigzag-level-order-traversal"
   ]
  },
  {
   "cell_type": "code",
   "execution_count": null,
   "id": "e9aef39f",
   "metadata": {},
   "outputs": [],
   "source": [
    "import pyutil as pyu\n",
    "pyu.get_local_pyinfo()"
   ]
  },
  {
   "cell_type": "code",
   "execution_count": null,
   "id": "45a16c32",
   "metadata": {},
   "outputs": [],
   "source": [
    "print(pyu.ps2(\"python-dotenv\"))"
   ]
  },
  {
   "cell_type": "code",
   "execution_count": null,
   "id": "40dd149c",
   "metadata": {},
   "outputs": [],
   "source": [
    "from typing import List"
   ]
  },
  {
   "cell_type": "code",
   "execution_count": null,
   "id": "46b3062b",
   "metadata": {},
   "outputs": [],
   "source": [
    "class Solution:\n",
    "  def zigzagLevelOrder(self, root: Optional[TreeNode]) -> List[List[int]]:\n",
    "    if not root:\n",
    "      return []\n",
    "\n",
    "    ans = []\n",
    "    q = deque([root])\n",
    "    isLeftToRight = True\n",
    "\n",
    "    while q:\n",
    "      currLevel = []\n",
    "      for _ in range(len(q)):\n",
    "        if isLeftToRight:\n",
    "          node = q.popleft()\n",
    "          currLevel.append(node.val)\n",
    "          if node.left:\n",
    "            q.append(node.left)\n",
    "          if node.right:\n",
    "            q.append(node.right)\n",
    "        else:\n",
    "          node = q.pop()\n",
    "          currLevel.append(node.val)\n",
    "          if node.right:\n",
    "            q.appendleft(node.right)\n",
    "          if node.left:\n",
    "            q.appendleft(node.left)\n",
    "      ans.append(currLevel)\n",
    "      isLeftToRight = not isLeftToRight\n",
    "\n",
    "    return ans"
   ]
  },
  {
   "cell_type": "code",
   "execution_count": null,
   "id": "fb396b97",
   "metadata": {},
   "outputs": [],
   "source": [
    "new Solution().zigzagLevelOrder()"
   ]
  }
 ],
 "metadata": {},
 "nbformat": 4,
 "nbformat_minor": 5
}

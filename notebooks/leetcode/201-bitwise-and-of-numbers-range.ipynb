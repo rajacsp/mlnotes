{
 "cells": [
  {
   "cell_type": "markdown",
   "id": "0159f045",
   "metadata": {},
   "source": [
    "https://leetcode.com/problems/bitwise-and-of-numbers-range"
   ]
  },
  {
   "cell_type": "code",
   "execution_count": null,
   "id": "b35c79c5",
   "metadata": {},
   "outputs": [],
   "source": [
    "import pyutil as pyu\n",
    "pyu.get_local_pyinfo()"
   ]
  },
  {
   "cell_type": "code",
   "execution_count": null,
   "id": "466ce601",
   "metadata": {},
   "outputs": [],
   "source": [
    "print(pyu.ps2(\"python-dotenv\"))"
   ]
  },
  {
   "cell_type": "code",
   "execution_count": null,
   "id": "5c65c0b4",
   "metadata": {},
   "outputs": [],
   "source": [
    "from typing import List"
   ]
  },
  {
   "cell_type": "code",
   "execution_count": null,
   "id": "2e146201",
   "metadata": {},
   "outputs": [],
   "source": [
    "class Solution:\n",
    "  def rangeBitwiseAnd(self, m: int, n: int) -> int:\n",
    "    return self.rangeBitwiseAnd(m >> 1, n >> 1) << 1 if m < n else m"
   ]
  },
  {
   "cell_type": "code",
   "execution_count": null,
   "id": "89b312b6",
   "metadata": {},
   "outputs": [],
   "source": [
    "new Solution().rangeBitwiseAnd()"
   ]
  }
 ],
 "metadata": {},
 "nbformat": 4,
 "nbformat_minor": 5
}

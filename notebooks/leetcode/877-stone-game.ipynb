{
 "cells": [
  {
   "cell_type": "markdown",
   "id": "9f3a8be0",
   "metadata": {},
   "source": [
    "https://leetcode.com/problems/stone-game"
   ]
  },
  {
   "cell_type": "code",
   "execution_count": null,
   "id": "24efc878",
   "metadata": {},
   "outputs": [],
   "source": [
    "import pyutil as pyu\n",
    "pyu.get_local_pyinfo()"
   ]
  },
  {
   "cell_type": "code",
   "execution_count": null,
   "id": "5784504e",
   "metadata": {},
   "outputs": [],
   "source": [
    "print(pyu.ps2(\"python-dotenv\"))"
   ]
  },
  {
   "cell_type": "code",
   "execution_count": null,
   "id": "fb996a9f",
   "metadata": {},
   "outputs": [],
   "source": [
    "from typing import List"
   ]
  },
  {
   "cell_type": "code",
   "execution_count": null,
   "id": "4f53386f",
   "metadata": {},
   "outputs": [],
   "source": [
    "class Solution:\n",
    "  def stoneGame(self, piles: List[int]) -> bool:\n",
    "    n = len(piles)\n",
    "    # dp[i][j] := max stones you can get more than your opponent in piles[i..j]\n",
    "    dp = [[0] * n for _ in range(n)]\n",
    "\n",
    "    for i, pile in enumerate(piles):\n",
    "      dp[i][i] = pile\n",
    "\n",
    "    for d in range(1, n):\n",
    "      for i in range(n - d):\n",
    "        j = i + d\n",
    "        dp[i][j] = max(piles[i] - dp[i + 1][j],\n",
    "                       piles[j] - dp[i][j - 1])\n",
    "\n",
    "    return dp[0][n - 1] > 0"
   ]
  },
  {
   "cell_type": "code",
   "execution_count": null,
   "id": "41ec147f",
   "metadata": {},
   "outputs": [],
   "source": [
    "new Solution().stoneGame()"
   ]
  }
 ],
 "metadata": {},
 "nbformat": 4,
 "nbformat_minor": 5
}

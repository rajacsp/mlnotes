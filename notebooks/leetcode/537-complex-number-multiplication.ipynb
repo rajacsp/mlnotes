{
 "cells": [
  {
   "cell_type": "markdown",
   "id": "a056f16f",
   "metadata": {},
   "source": [
    "https://leetcode.com/problems/complex-number-multiplication"
   ]
  },
  {
   "cell_type": "code",
   "execution_count": null,
   "id": "48e6f57a",
   "metadata": {},
   "outputs": [],
   "source": [
    "import pyutil as pyu\n",
    "pyu.get_local_pyinfo()"
   ]
  },
  {
   "cell_type": "code",
   "execution_count": null,
   "id": "e3e2ee09",
   "metadata": {},
   "outputs": [],
   "source": [
    "print(pyu.ps2(\"python-dotenv\"))"
   ]
  },
  {
   "cell_type": "code",
   "execution_count": null,
   "id": "4908fb9e",
   "metadata": {},
   "outputs": [],
   "source": [
    "from typing import List"
   ]
  },
  {
   "cell_type": "code",
   "execution_count": null,
   "id": "26ace6fe",
   "metadata": {},
   "outputs": [],
   "source": [
    "class Solution:\n",
    "  def complexNumberMultiply(self, a: str, b: str) -> str:\n",
    "    def getRealAndImag(s: str) -> tuple:\n",
    "      return int(s[:s.index('+')]), int(s[s.index('+') + 1:-1])\n",
    "\n",
    "    A, B = getRealAndImag(a)\n",
    "    C, D = getRealAndImag(b)\n",
    "\n",
    "    return str(A * C - B * D) + '+' + str(A * D + B * C) + 'i'"
   ]
  },
  {
   "cell_type": "code",
   "execution_count": null,
   "id": "778f75ea",
   "metadata": {},
   "outputs": [],
   "source": [
    "new Solution().complexNumberMultiply()"
   ]
  }
 ],
 "metadata": {},
 "nbformat": 4,
 "nbformat_minor": 5
}

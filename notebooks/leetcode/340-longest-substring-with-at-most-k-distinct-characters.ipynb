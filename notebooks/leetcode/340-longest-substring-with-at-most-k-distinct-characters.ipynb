{
 "cells": [
  {
   "cell_type": "markdown",
   "id": "4d521b9a",
   "metadata": {},
   "source": [
    "https://leetcode.com/problems/longest-substring-with-at-most-k-distinct-characters"
   ]
  },
  {
   "cell_type": "code",
   "execution_count": null,
   "id": "520972ef",
   "metadata": {},
   "outputs": [],
   "source": [
    "import pyutil as pyu\n",
    "pyu.get_local_pyinfo()"
   ]
  },
  {
   "cell_type": "code",
   "execution_count": null,
   "id": "1efc189f",
   "metadata": {},
   "outputs": [],
   "source": [
    "print(pyu.ps2(\"python-dotenv\"))"
   ]
  },
  {
   "cell_type": "code",
   "execution_count": null,
   "id": "58b881bc",
   "metadata": {},
   "outputs": [],
   "source": [
    "from typing import List"
   ]
  },
  {
   "cell_type": "code",
   "execution_count": null,
   "id": "321b5a88",
   "metadata": {},
   "outputs": [],
   "source": [
    "class Solution:\n",
    "  def lengthOfLongestSubstringKDistinct(self, s: str, k: int) -> int:\n",
    "    ans = 0\n",
    "    distinct = 0\n",
    "    count = Counter()\n",
    "\n",
    "    l = 0\n",
    "    for r, c in enumerate(s):\n",
    "      count[c] += 1\n",
    "      if count[c] == 1:\n",
    "        distinct += 1\n",
    "      while distinct == k + 1:\n",
    "        count[s[l]] -= 1\n",
    "        if count[s[l]] == 0:\n",
    "          distinct -= 1\n",
    "        l += 1\n",
    "      ans = max(ans, r - l + 1)\n",
    "\n",
    "    return ans"
   ]
  },
  {
   "cell_type": "code",
   "execution_count": null,
   "id": "83942506",
   "metadata": {},
   "outputs": [],
   "source": [
    "new Solution().lengthOfLongestSubstringKDistinct()"
   ]
  }
 ],
 "metadata": {},
 "nbformat": 4,
 "nbformat_minor": 5
}

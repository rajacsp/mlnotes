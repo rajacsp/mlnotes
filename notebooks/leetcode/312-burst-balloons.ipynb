{
 "cells": [
  {
   "cell_type": "markdown",
   "id": "07880b92",
   "metadata": {},
   "source": [
    "https://leetcode.com/problems/burst-balloons"
   ]
  },
  {
   "cell_type": "code",
   "execution_count": null,
   "id": "8e615100",
   "metadata": {},
   "outputs": [],
   "source": [
    "import pyutil as pyu\n",
    "pyu.get_local_pyinfo()"
   ]
  },
  {
   "cell_type": "code",
   "execution_count": null,
   "id": "35b8765e",
   "metadata": {},
   "outputs": [],
   "source": [
    "print(pyu.ps2(\"python-dotenv\"))"
   ]
  },
  {
   "cell_type": "code",
   "execution_count": null,
   "id": "9ad6e3c0",
   "metadata": {},
   "outputs": [],
   "source": [
    "from typing import List"
   ]
  },
  {
   "cell_type": "code",
   "execution_count": null,
   "id": "ca5a6b73",
   "metadata": {},
   "outputs": [],
   "source": [
    "class Solution:\n",
    "  def maxCoins(self, nums: List[int]) -> int:\n",
    "    A = [1] + nums + [1]\n",
    "\n",
    "    @functools.lru_cache(None)\n",
    "    def dp(i: int, j: int) -> int:\n",
    "      if i > j:\n",
    "        return 0\n",
    "\n",
    "      return max(dp(i, k - 1) + dp(k + 1, j) + A[i - 1] * A[k] * A[j + 1]\n",
    "                 for k in range(i, j + 1))\n",
    "\n",
    "    return dp(1, len(nums))"
   ]
  },
  {
   "cell_type": "code",
   "execution_count": null,
   "id": "9fca8ab3",
   "metadata": {},
   "outputs": [],
   "source": [
    "new Solution().maxCoins()"
   ]
  }
 ],
 "metadata": {},
 "nbformat": 4,
 "nbformat_minor": 5
}

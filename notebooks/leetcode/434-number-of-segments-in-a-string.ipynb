{
 "cells": [
  {
   "cell_type": "markdown",
   "id": "fb3c42e4",
   "metadata": {},
   "source": [
    "https://leetcode.com/problems/number-of-segments-in-a-string"
   ]
  },
  {
   "cell_type": "code",
   "execution_count": null,
   "id": "16ca4c88",
   "metadata": {},
   "outputs": [],
   "source": [
    "import pyutil as pyu\n",
    "pyu.get_local_pyinfo()"
   ]
  },
  {
   "cell_type": "code",
   "execution_count": null,
   "id": "6f3c658c",
   "metadata": {},
   "outputs": [],
   "source": [
    "print(pyu.ps2(\"python-dotenv\"))"
   ]
  },
  {
   "cell_type": "code",
   "execution_count": null,
   "id": "66f58710",
   "metadata": {},
   "outputs": [],
   "source": [
    "from typing import List"
   ]
  },
  {
   "cell_type": "code",
   "execution_count": null,
   "id": "942b8f48",
   "metadata": {},
   "outputs": [],
   "source": [
    "class Solution:\n",
    "  def countSegments(self, s: str) -> int:\n",
    "    return len(s.split())"
   ]
  },
  {
   "cell_type": "code",
   "execution_count": null,
   "id": "ac958fa4",
   "metadata": {},
   "outputs": [],
   "source": [
    "new Solution().countSegments()"
   ]
  }
 ],
 "metadata": {},
 "nbformat": 4,
 "nbformat_minor": 5
}

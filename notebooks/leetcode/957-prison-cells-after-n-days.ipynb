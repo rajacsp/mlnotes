{
 "cells": [
  {
   "cell_type": "markdown",
   "id": "dff04db5",
   "metadata": {},
   "source": [
    "https://leetcode.com/problems/prison-cells-after-n-days"
   ]
  },
  {
   "cell_type": "code",
   "execution_count": null,
   "id": "e5fac7a2",
   "metadata": {},
   "outputs": [],
   "source": [
    "import pyutil as pyu\n",
    "pyu.get_local_pyinfo()"
   ]
  },
  {
   "cell_type": "code",
   "execution_count": null,
   "id": "2f09c9af",
   "metadata": {},
   "outputs": [],
   "source": [
    "print(pyu.ps2(\"python-dotenv\"))"
   ]
  },
  {
   "cell_type": "code",
   "execution_count": null,
   "id": "68f6cc90",
   "metadata": {},
   "outputs": [],
   "source": [
    "from typing import List"
   ]
  },
  {
   "cell_type": "code",
   "execution_count": null,
   "id": "f9bf774c",
   "metadata": {},
   "outputs": [],
   "source": [
    "class Solution:\n",
    "  def prisonAfterNDays(self, cells: List[int], N: int) -> List[int]:\n",
    "    nextDayCells = [0] * len(cells)\n",
    "    day = 0\n",
    "\n",
    "    while N > 0:\n",
    "      N -= 1\n",
    "      for i in range(1, len(cells) - 1):\n",
    "        nextDayCells[i] = 1 if cells[i - 1] == cells[i + 1] else 0\n",
    "      if day == 0:\n",
    "        firstDayCells = nextDayCells.copy()\n",
    "      elif nextDayCells == firstDayCells:\n",
    "        N %= day\n",
    "      cells = nextDayCells.copy()\n",
    "      day += 1\n",
    "\n",
    "    return cells"
   ]
  },
  {
   "cell_type": "code",
   "execution_count": null,
   "id": "0bc1e764",
   "metadata": {},
   "outputs": [],
   "source": [
    "new Solution().prisonAfterNDays()"
   ]
  }
 ],
 "metadata": {},
 "nbformat": 4,
 "nbformat_minor": 5
}

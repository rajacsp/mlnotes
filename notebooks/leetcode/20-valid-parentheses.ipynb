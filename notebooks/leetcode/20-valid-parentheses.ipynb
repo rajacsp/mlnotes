{
 "cells": [
  {
   "cell_type": "markdown",
   "id": "e3f25d47",
   "metadata": {},
   "source": [
    "https://leetcode.com/problems/valid-parentheses"
   ]
  },
  {
   "cell_type": "code",
   "execution_count": null,
   "id": "3a637817",
   "metadata": {},
   "outputs": [],
   "source": [
    "import pyutil as pyu\n",
    "pyu.get_local_pyinfo()"
   ]
  },
  {
   "cell_type": "code",
   "execution_count": null,
   "id": "92fc2d4b",
   "metadata": {},
   "outputs": [],
   "source": [
    "print(pyu.ps2(\"python-dotenv\"))"
   ]
  },
  {
   "cell_type": "code",
   "execution_count": null,
   "id": "e1c7b304",
   "metadata": {},
   "outputs": [],
   "source": [
    "from typing import List"
   ]
  },
  {
   "cell_type": "code",
   "execution_count": null,
   "id": "4b8a338b",
   "metadata": {},
   "outputs": [],
   "source": [
    "class Solution:\n",
    "  def isValid(self, s: str) -> bool:\n",
    "    stack = []\n",
    "\n",
    "    for c in s:\n",
    "      if c == '(':\n",
    "        stack.append(')')\n",
    "      elif c == '{':\n",
    "        stack.append('}')\n",
    "      elif c == '[':\n",
    "        stack.append(']')\n",
    "      elif not stack or stack.pop() != c:\n",
    "        return False\n",
    "\n",
    "    return not stack"
   ]
  },
  {
   "cell_type": "code",
   "execution_count": null,
   "id": "1c3cd56d",
   "metadata": {},
   "outputs": [],
   "source": [
    "new Solution().isValid()"
   ]
  }
 ],
 "metadata": {},
 "nbformat": 4,
 "nbformat_minor": 5
}

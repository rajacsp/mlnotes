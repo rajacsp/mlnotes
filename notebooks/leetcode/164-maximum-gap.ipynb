{
 "cells": [
  {
   "cell_type": "markdown",
   "id": "399bc927",
   "metadata": {},
   "source": [
    "https://leetcode.com/problems/maximum-gap"
   ]
  },
  {
   "cell_type": "code",
   "execution_count": null,
   "id": "ebc1adf2",
   "metadata": {},
   "outputs": [],
   "source": [
    "import pyutil as pyu\n",
    "pyu.get_local_pyinfo()"
   ]
  },
  {
   "cell_type": "code",
   "execution_count": null,
   "id": "060bc8d9",
   "metadata": {},
   "outputs": [],
   "source": [
    "print(pyu.ps2(\"python-dotenv\"))"
   ]
  },
  {
   "cell_type": "code",
   "execution_count": null,
   "id": "bafb126b",
   "metadata": {},
   "outputs": [],
   "source": [
    "from typing import List"
   ]
  },
  {
   "cell_type": "code",
   "execution_count": null,
   "id": "498eb8d6",
   "metadata": {},
   "outputs": [],
   "source": [
    "class Bucket:\n",
    "  def __init__(self, mini: int, maxi: int):\n",
    "    self.mini = mini\n",
    "    self.maxi = maxi\n",
    "\n",
    "\n",
    "class Solution:\n",
    "  def maximumGap(self, nums: List[int]) -> int:\n",
    "    if len(nums) < 2:\n",
    "      return 0\n",
    "\n",
    "    mini = min(nums)\n",
    "    maxi = max(nums)\n",
    "    if mini == maxi:\n",
    "      return 0\n",
    "\n",
    "    gap = ceil((maxi - mini) / (len(nums) - 1))\n",
    "    bucketSize = (maxi - mini) // gap + 1\n",
    "    buckets = [Bucket(math.inf, -math.inf) for _ in range(bucketSize)]\n",
    "\n",
    "    for num in nums:\n",
    "      i = (num - mini) // gap\n",
    "      buckets[i].mini = min(buckets[i].mini, num)\n",
    "      buckets[i].maxi = max(buckets[i].maxi, num)\n",
    "\n",
    "    ans = 0\n",
    "    prevMax = mini\n",
    "\n",
    "    for bucket in buckets:\n",
    "      if bucket.mini == math.inf:\n",
    "        continue  # Empty bucket\n",
    "      ans = max(ans, bucket.mini - prevMax)\n",
    "      prevMax = bucket.maxi\n",
    "\n",
    "    return ans"
   ]
  },
  {
   "cell_type": "code",
   "execution_count": null,
   "id": "ce85e1f0",
   "metadata": {},
   "outputs": [],
   "source": [
    "new Solution().maximumGap()"
   ]
  }
 ],
 "metadata": {},
 "nbformat": 4,
 "nbformat_minor": 5
}

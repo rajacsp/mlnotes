{
 "cells": [
  {
   "cell_type": "markdown",
   "id": "9a4e0e1d",
   "metadata": {},
   "source": [
    "https://leetcode.com/problems/power-of-four"
   ]
  },
  {
   "cell_type": "code",
   "execution_count": null,
   "id": "488bb761",
   "metadata": {},
   "outputs": [],
   "source": [
    "import pyutil as pyu\n",
    "pyu.get_local_pyinfo()"
   ]
  },
  {
   "cell_type": "code",
   "execution_count": null,
   "id": "bb85dbb5",
   "metadata": {},
   "outputs": [],
   "source": [
    "print(pyu.ps2(\"python-dotenv\"))"
   ]
  },
  {
   "cell_type": "code",
   "execution_count": null,
   "id": "759d298d",
   "metadata": {},
   "outputs": [],
   "source": [
    "from typing import List"
   ]
  },
  {
   "cell_type": "code",
   "execution_count": null,
   "id": "a43589bc",
   "metadata": {},
   "outputs": [],
   "source": [
    "class Solution:\n",
    "  def isPowerOfFour(self, n: int) -> bool:\n",
    "    # Why (4^n - 1) % 3 == 0?\n",
    "    # (4^n - 1) = (2^n - 1)(2^n + 1) and 2^n - 1, 2^n, 2^n + 1 are\n",
    "    # Three consecutive numbers among one of them, there must be a multiple\n",
    "    # Of 3, and that can't be 2^n, so it must be either 2^n - 1 or 2^n + 1.\n",
    "    # Therefore, 4^n - 1 is a multiple of 3.\n",
    "    return n > 0 and bin(n).count('1') == 1 and (n - 1) % 3 == 0"
   ]
  },
  {
   "cell_type": "code",
   "execution_count": null,
   "id": "2b47bf35",
   "metadata": {},
   "outputs": [],
   "source": [
    "new Solution().isPowerOfFour()"
   ]
  }
 ],
 "metadata": {},
 "nbformat": 4,
 "nbformat_minor": 5
}

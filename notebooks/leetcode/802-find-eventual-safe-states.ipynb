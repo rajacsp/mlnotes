{
 "cells": [
  {
   "cell_type": "markdown",
   "id": "c8d8b928",
   "metadata": {},
   "source": [
    "https://leetcode.com/problems/find-eventual-safe-states"
   ]
  },
  {
   "cell_type": "code",
   "execution_count": null,
   "id": "34d07433",
   "metadata": {},
   "outputs": [],
   "source": [
    "import pyutil as pyu\n",
    "pyu.get_local_pyinfo()"
   ]
  },
  {
   "cell_type": "code",
   "execution_count": null,
   "id": "78ca923c",
   "metadata": {},
   "outputs": [],
   "source": [
    "print(pyu.ps2(\"python-dotenv\"))"
   ]
  },
  {
   "cell_type": "code",
   "execution_count": null,
   "id": "0e8aa96a",
   "metadata": {},
   "outputs": [],
   "source": [
    "from typing import List"
   ]
  },
  {
   "cell_type": "code",
   "execution_count": null,
   "id": "fa0ae397",
   "metadata": {},
   "outputs": [],
   "source": [
    "from enum import Enum\n",
    "\n",
    "\n",
    "class State(Enum):\n",
    "  kInit = 0\n",
    "  kVisiting = 1\n",
    "  kVisited = 2\n",
    "\n",
    "\n",
    "class Solution:\n",
    "  def eventualSafeNodes(self, graph: List[List[int]]) -> List[int]:\n",
    "    state = [State.kInit] * len(graph)\n",
    "\n",
    "    def hasCycle(u: int) -> bool:\n",
    "      if state[u] == State.kVisiting:\n",
    "        return True\n",
    "      if state[u] == State.kVisited:\n",
    "        return False\n",
    "\n",
    "      state[u] = State.kVisiting\n",
    "      if any(hasCycle(v) for v in graph[u]):\n",
    "        return True\n",
    "      state[u] = State.kVisited\n",
    "\n",
    "    return [i for i in range(len(graph)) if not hasCycle(i)]"
   ]
  },
  {
   "cell_type": "code",
   "execution_count": null,
   "id": "d86663a6",
   "metadata": {},
   "outputs": [],
   "source": [
    "new Solution().eventualSafeNodes()"
   ]
  }
 ],
 "metadata": {},
 "nbformat": 4,
 "nbformat_minor": 5
}

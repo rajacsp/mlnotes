{
 "cells": [
  {
   "cell_type": "markdown",
   "id": "8c0a52f5",
   "metadata": {},
   "source": [
    "https://leetcode.com/problems/sum-root-to-leaf-numbers"
   ]
  },
  {
   "cell_type": "code",
   "execution_count": null,
   "id": "cd793c1d",
   "metadata": {},
   "outputs": [],
   "source": [
    "import pyutil as pyu\n",
    "pyu.get_local_pyinfo()"
   ]
  },
  {
   "cell_type": "code",
   "execution_count": null,
   "id": "e68f1927",
   "metadata": {},
   "outputs": [],
   "source": [
    "print(pyu.ps2(\"python-dotenv\"))"
   ]
  },
  {
   "cell_type": "code",
   "execution_count": null,
   "id": "82954449",
   "metadata": {},
   "outputs": [],
   "source": [
    "from typing import List"
   ]
  },
  {
   "cell_type": "code",
   "execution_count": null,
   "id": "3a4ee231",
   "metadata": {},
   "outputs": [],
   "source": [
    "class Solution:\n",
    "  def sumNumbers(self, root: Optional[TreeNode]) -> int:\n",
    "    ans = 0\n",
    "\n",
    "    def dfs(root: Optional[TreeNode], path: int) -> None:\n",
    "      nonlocal ans\n",
    "      if not root:\n",
    "        return\n",
    "      if not root.left and not root.right:\n",
    "        ans += path * 10 + root.val\n",
    "        return\n",
    "\n",
    "      dfs(root.left, path * 10 + root.val)\n",
    "      dfs(root.right, path * 10 + root.val)\n",
    "\n",
    "    dfs(root, 0)\n",
    "    return ans"
   ]
  },
  {
   "cell_type": "code",
   "execution_count": null,
   "id": "c56ddfcf",
   "metadata": {},
   "outputs": [],
   "source": [
    "new Solution().sumNumbers()"
   ]
  }
 ],
 "metadata": {},
 "nbformat": 4,
 "nbformat_minor": 5
}

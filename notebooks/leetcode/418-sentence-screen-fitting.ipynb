{
 "cells": [
  {
   "cell_type": "markdown",
   "id": "cacd8a4f",
   "metadata": {},
   "source": [
    "https://leetcode.com/problems/sentence-screen-fitting"
   ]
  },
  {
   "cell_type": "code",
   "execution_count": null,
   "id": "af370bec",
   "metadata": {},
   "outputs": [],
   "source": [
    "import pyutil as pyu\n",
    "pyu.get_local_pyinfo()"
   ]
  },
  {
   "cell_type": "code",
   "execution_count": null,
   "id": "844ea6e4",
   "metadata": {},
   "outputs": [],
   "source": [
    "print(pyu.ps2(\"python-dotenv\"))"
   ]
  },
  {
   "cell_type": "code",
   "execution_count": null,
   "id": "2c5645fc",
   "metadata": {},
   "outputs": [],
   "source": [
    "from typing import List"
   ]
  },
  {
   "cell_type": "code",
   "execution_count": null,
   "id": "13b62b6f",
   "metadata": {},
   "outputs": [],
   "source": [
    "class Solution:\n",
    "  def wordsTyping(self, sentence: List[str], rows: int, cols: int) -> int:\n",
    "    combined = ' '.join(sentence) + ' '\n",
    "    n = len(combined)\n",
    "    i = 0\n",
    "\n",
    "    for _ in range(rows):\n",
    "      i += cols\n",
    "      if combined[i % n] == ' ':\n",
    "        i += 1\n",
    "      else:\n",
    "        while i > 0 and combined[(i - 1) % n] != ' ':\n",
    "          i -= 1\n",
    "\n",
    "    return i // n"
   ]
  },
  {
   "cell_type": "code",
   "execution_count": null,
   "id": "c6bfdb83",
   "metadata": {},
   "outputs": [],
   "source": [
    "new Solution().wordsTyping()"
   ]
  }
 ],
 "metadata": {},
 "nbformat": 4,
 "nbformat_minor": 5
}

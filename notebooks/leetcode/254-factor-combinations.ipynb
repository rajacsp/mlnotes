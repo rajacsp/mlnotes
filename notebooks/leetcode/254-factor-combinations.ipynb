{
 "cells": [
  {
   "cell_type": "markdown",
   "id": "795e6db2",
   "metadata": {},
   "source": [
    "https://leetcode.com/problems/factor-combinations"
   ]
  },
  {
   "cell_type": "code",
   "execution_count": null,
   "id": "e9340d28",
   "metadata": {},
   "outputs": [],
   "source": [
    "import pyutil as pyu\n",
    "pyu.get_local_pyinfo()"
   ]
  },
  {
   "cell_type": "code",
   "execution_count": null,
   "id": "3ed3b53d",
   "metadata": {},
   "outputs": [],
   "source": [
    "print(pyu.ps2(\"python-dotenv\"))"
   ]
  },
  {
   "cell_type": "code",
   "execution_count": null,
   "id": "218ab87c",
   "metadata": {},
   "outputs": [],
   "source": [
    "from typing import List"
   ]
  },
  {
   "cell_type": "code",
   "execution_count": null,
   "id": "908e25a8",
   "metadata": {},
   "outputs": [],
   "source": [
    "class Solution:\n",
    "  def getFactors(self, n: int) -> List[List[int]]:\n",
    "    ans = []\n",
    "\n",
    "    def dfs(n: int, s: int, path: List[int]) -> None:\n",
    "      if n <= 1:\n",
    "        if len(path) > 1:\n",
    "          ans.append(path.copy())\n",
    "        return\n",
    "\n",
    "      for i in range(s, n + 1):\n",
    "        if n % i == 0:\n",
    "          path.append(i)\n",
    "          dfs(n // i, i, path)\n",
    "          path.pop()\n",
    "\n",
    "    dfs(n, 2, [])  # The smallest factor is 2\n",
    "    return ans"
   ]
  },
  {
   "cell_type": "code",
   "execution_count": null,
   "id": "e81e79cb",
   "metadata": {},
   "outputs": [],
   "source": [
    "new Solution().getFactors()"
   ]
  }
 ],
 "metadata": {},
 "nbformat": 4,
 "nbformat_minor": 5
}

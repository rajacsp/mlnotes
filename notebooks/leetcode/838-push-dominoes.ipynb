{
 "cells": [
  {
   "cell_type": "markdown",
   "id": "0a90e446",
   "metadata": {},
   "source": [
    "https://leetcode.com/problems/push-dominoes"
   ]
  },
  {
   "cell_type": "code",
   "execution_count": null,
   "id": "f605c4e4",
   "metadata": {},
   "outputs": [],
   "source": [
    "import pyutil as pyu\n",
    "pyu.get_local_pyinfo()"
   ]
  },
  {
   "cell_type": "code",
   "execution_count": null,
   "id": "69efff41",
   "metadata": {},
   "outputs": [],
   "source": [
    "print(pyu.ps2(\"python-dotenv\"))"
   ]
  },
  {
   "cell_type": "code",
   "execution_count": null,
   "id": "0bf9872f",
   "metadata": {},
   "outputs": [],
   "source": [
    "from typing import List"
   ]
  },
  {
   "cell_type": "code",
   "execution_count": null,
   "id": "9e65aad1",
   "metadata": {},
   "outputs": [],
   "source": [
    "class Solution:\n",
    "  def pushDominoes(self, dominoes: str) -> str:\n",
    "    ans = list(dominoes)\n",
    "    L = -1\n",
    "    R = -1\n",
    "\n",
    "    for i in range(len(dominoes) + 1):\n",
    "      if i == len(dominoes) or dominoes[i] == 'R':\n",
    "        if L < R:\n",
    "          while R < i:\n",
    "            ans[R] = 'R'\n",
    "            R += 1\n",
    "        R = i\n",
    "      elif dominoes[i] == 'L':\n",
    "        if R < L or (L, R) == (-1, -1):\n",
    "          if (L, R) == (-1, -1):\n",
    "            L += 1\n",
    "          while L < i:\n",
    "            ans[L] = 'L'\n",
    "            L += 1\n",
    "        else:\n",
    "          l = R + 1\n",
    "          r = i - 1\n",
    "          while l < r:\n",
    "            ans[l] = 'R'\n",
    "            ans[r] = 'L'\n",
    "            l += 1\n",
    "            r -= 1\n",
    "        L = i\n",
    "\n",
    "    return ''.join(ans)"
   ]
  },
  {
   "cell_type": "code",
   "execution_count": null,
   "id": "f4c26420",
   "metadata": {},
   "outputs": [],
   "source": [
    "new Solution().pushDominoes()"
   ]
  }
 ],
 "metadata": {},
 "nbformat": 4,
 "nbformat_minor": 5
}

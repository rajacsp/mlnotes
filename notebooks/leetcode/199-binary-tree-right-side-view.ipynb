{
 "cells": [
  {
   "cell_type": "markdown",
   "id": "caa6259d",
   "metadata": {},
   "source": [
    "https://leetcode.com/problems/binary-tree-right-side-view"
   ]
  },
  {
   "cell_type": "code",
   "execution_count": null,
   "id": "578c7b23",
   "metadata": {},
   "outputs": [],
   "source": [
    "import pyutil as pyu\n",
    "pyu.get_local_pyinfo()"
   ]
  },
  {
   "cell_type": "code",
   "execution_count": null,
   "id": "6a66b35d",
   "metadata": {},
   "outputs": [],
   "source": [
    "print(pyu.ps2(\"python-dotenv\"))"
   ]
  },
  {
   "cell_type": "code",
   "execution_count": null,
   "id": "34fb9640",
   "metadata": {},
   "outputs": [],
   "source": [
    "from typing import List"
   ]
  },
  {
   "cell_type": "code",
   "execution_count": null,
   "id": "6a7bf35b",
   "metadata": {},
   "outputs": [],
   "source": [
    "class Solution:\n",
    "  def rightSideView(self, root: Optional[TreeNode]) -> List[int]:\n",
    "    if not root:\n",
    "      return []\n",
    "\n",
    "    ans = []\n",
    "    q = deque([root])\n",
    "\n",
    "    while q:\n",
    "      size = len(q)\n",
    "      for i in range(size):\n",
    "        root = q.popleft()\n",
    "        if i == size - 1:\n",
    "          ans.append(root.val)\n",
    "        if root.left:\n",
    "          q.append(root.left)\n",
    "        if root.right:\n",
    "          q.append(root.right)\n",
    "\n",
    "    return ans"
   ]
  },
  {
   "cell_type": "code",
   "execution_count": null,
   "id": "da9c8191",
   "metadata": {},
   "outputs": [],
   "source": [
    "new Solution().rightSideView()"
   ]
  }
 ],
 "metadata": {},
 "nbformat": 4,
 "nbformat_minor": 5
}

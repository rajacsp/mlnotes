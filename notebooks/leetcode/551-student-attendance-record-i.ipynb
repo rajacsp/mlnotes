{
 "cells": [
  {
   "cell_type": "markdown",
   "id": "c21489e9",
   "metadata": {},
   "source": [
    "https://leetcode.com/problems/student-attendance-record-i"
   ]
  },
  {
   "cell_type": "code",
   "execution_count": null,
   "id": "fa57ed27",
   "metadata": {},
   "outputs": [],
   "source": [
    "import pyutil as pyu\n",
    "pyu.get_local_pyinfo()"
   ]
  },
  {
   "cell_type": "code",
   "execution_count": null,
   "id": "abf965a2",
   "metadata": {},
   "outputs": [],
   "source": [
    "print(pyu.ps2(\"python-dotenv\"))"
   ]
  },
  {
   "cell_type": "code",
   "execution_count": null,
   "id": "57ec30ce",
   "metadata": {},
   "outputs": [],
   "source": [
    "from typing import List"
   ]
  },
  {
   "cell_type": "code",
   "execution_count": null,
   "id": "ceec906c",
   "metadata": {},
   "outputs": [],
   "source": [
    "class Solution:\n",
    "  def checkRecord(self, s: str) -> bool:\n",
    "    return s.count('A') <= 1 and 'LLL' not in s"
   ]
  },
  {
   "cell_type": "code",
   "execution_count": null,
   "id": "2e76eb70",
   "metadata": {},
   "outputs": [],
   "source": [
    "new Solution().checkRecord()"
   ]
  }
 ],
 "metadata": {},
 "nbformat": 4,
 "nbformat_minor": 5
}

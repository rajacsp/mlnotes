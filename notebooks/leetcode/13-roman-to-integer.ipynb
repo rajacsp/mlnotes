{
 "cells": [
  {
   "cell_type": "markdown",
   "id": "e3a50493",
   "metadata": {},
   "source": [
    "https://leetcode.com/problems/roman-to-integer"
   ]
  },
  {
   "cell_type": "code",
   "execution_count": null,
   "id": "01f7afe0",
   "metadata": {},
   "outputs": [],
   "source": [
    "import pyutil as pyu\n",
    "pyu.get_local_pyinfo()"
   ]
  },
  {
   "cell_type": "code",
   "execution_count": null,
   "id": "a66b96eb",
   "metadata": {},
   "outputs": [],
   "source": [
    "print(pyu.ps2(\"python-dotenv\"))"
   ]
  },
  {
   "cell_type": "code",
   "execution_count": null,
   "id": "35023122",
   "metadata": {},
   "outputs": [],
   "source": [
    "from typing import List"
   ]
  },
  {
   "cell_type": "code",
   "execution_count": null,
   "id": "6afb946d",
   "metadata": {},
   "outputs": [],
   "source": [
    "class Solution:\n",
    "  def romanToInt(self, s: str) -> int:\n",
    "    ans = 0\n",
    "    roman = {'I': 1, 'V': 5, 'X': 10, 'L': 50,\n",
    "             'C': 100, 'D': 500, 'M': 1000}\n",
    "\n",
    "    for a, b in zip(s, s[1:]):\n",
    "      if roman[a] < roman[b]:\n",
    "        ans -= roman[a]\n",
    "      else:\n",
    "        ans += roman[a]\n",
    "\n",
    "    return ans + roman[s[-1]]"
   ]
  },
  {
   "cell_type": "code",
   "execution_count": null,
   "id": "03869988",
   "metadata": {},
   "outputs": [],
   "source": [
    "new Solution().romanToInt()"
   ]
  }
 ],
 "metadata": {},
 "nbformat": 4,
 "nbformat_minor": 5
}

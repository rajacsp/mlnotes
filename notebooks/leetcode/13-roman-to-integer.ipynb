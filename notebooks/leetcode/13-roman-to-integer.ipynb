{
 "cells": [
  {
   "cell_type": "code",
   "execution_count": null,
   "id": "db25c914-1252-4bae-8dbe-3a20e361bd73",
   "metadata": {},
   "outputs": [],
   "source": [
    "# https://leetcode.com/problems/roman-to-integer/description/"
   ]
  },
  {
   "cell_type": "code",
   "execution_count": 1,
   "id": "0c10588e-e9e7-4b8c-b92b-91104a273df0",
   "metadata": {},
   "outputs": [
    {
     "data": {
      "text/plain": [
       "'conda env: ml311; pyv: 3.11.10 (main, Oct  3 2024, 07:29:13) [GCC 11.2.0]'"
      ]
     },
     "execution_count": 1,
     "metadata": {},
     "output_type": "execute_result"
    }
   ],
   "source": [
    "import pyutil as pyu\n",
    "pyu.get_local_pyinfo()"
   ]
  },
  {
   "cell_type": "code",
   "execution_count": 2,
   "id": "c2ccb592-b983-4856-a241-5898cab06699",
   "metadata": {},
   "outputs": [],
   "source": [
    "# print(pyu.ps2(\"scipy\"))"
   ]
  },
  {
   "cell_type": "code",
   "execution_count": 5,
   "id": "e290a4be-0793-4902-b10b-44429cb937f9",
   "metadata": {},
   "outputs": [],
   "source": [
    "# from typing import List "
   ]
  },
  {
   "cell_type": "code",
   "execution_count": 4,
   "id": "2254118f-d279-4865-9ef8-74018c0d0bff",
   "metadata": {},
   "outputs": [],
   "source": [
    "class Solution:\n",
    "  def romanToInt(self, s: str) -> int:\n",
    "    ans = 0\n",
    "    roman = {'I': 1, 'V': 5, 'X': 10, 'L': 50,\n",
    "             'C': 100, 'D': 500, 'M': 1000}\n",
    "\n",
    "    for a, b in zip(s, s[1:]):\n",
    "      if roman[a] < roman[b]:\n",
    "        ans -= roman[a]\n",
    "      else:\n",
    "        ans += roman[a]\n",
    "\n",
    "    return ans + roman[s[-1]]"
   ]
  },
  {
   "cell_type": "code",
   "execution_count": 5,
   "id": "b7c8b16b-1f70-4df3-90d5-a107bd15d641",
   "metadata": {},
   "outputs": [
    {
     "data": {
      "text/plain": [
       "10"
      ]
     },
     "execution_count": 5,
     "metadata": {},
     "output_type": "execute_result"
    }
   ],
   "source": [
    "Solution().romanToInt(\"X\")"
   ]
  },
  {
   "cell_type": "code",
   "execution_count": 7,
   "id": "09c306a5-812b-495b-8358-3c44218106c8",
   "metadata": {},
   "outputs": [
    {
     "data": {
      "text/plain": [
       "3"
      ]
     },
     "execution_count": 7,
     "metadata": {},
     "output_type": "execute_result"
    }
   ],
   "source": [
    "Solution().romanToInt(\"III\")"
   ]
  },
  {
   "cell_type": "code",
   "execution_count": 8,
   "id": "90ac777c-b672-43de-ae58-af7604b6b790",
   "metadata": {},
   "outputs": [
    {
     "data": {
      "text/plain": [
       "58"
      ]
     },
     "execution_count": 8,
     "metadata": {},
     "output_type": "execute_result"
    }
   ],
   "source": [
    "Solution().romanToInt(\"LVIII\")"
   ]
  },
  {
   "cell_type": "code",
   "execution_count": 9,
   "id": "c28c7e83-488c-440a-b056-4ffe7fd5fa5d",
   "metadata": {},
   "outputs": [
    {
     "data": {
      "text/plain": [
       "1994"
      ]
     },
     "execution_count": 9,
     "metadata": {},
     "output_type": "execute_result"
    }
   ],
   "source": [
    "Solution().romanToInt(\"MCMXCIV\")"
   ]
  },
  {
   "cell_type": "code",
   "execution_count": null,
   "id": "732ad641-cd9e-4a8d-b959-70c7b95d6fab",
   "metadata": {},
   "outputs": [],
   "source": []
  }
 ],
 "metadata": {
  "kernelspec": {
   "display_name": "Python 3 (ipykernel)",
   "language": "python",
   "name": "python3"
  },
  "language_info": {
   "codemirror_mode": {
    "name": "ipython",
    "version": 3
   },
   "file_extension": ".py",
   "mimetype": "text/x-python",
   "name": "python",
   "nbconvert_exporter": "python",
   "pygments_lexer": "ipython3",
   "version": "3.11.10"
  }
 },
 "nbformat": 4,
 "nbformat_minor": 5
}

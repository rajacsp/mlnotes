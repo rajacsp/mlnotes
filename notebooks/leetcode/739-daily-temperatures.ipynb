{
 "cells": [
  {
   "cell_type": "markdown",
   "id": "1b933292",
   "metadata": {},
   "source": [
    "https://leetcode.com/problems/daily-temperatures"
   ]
  },
  {
   "cell_type": "code",
   "execution_count": null,
   "id": "e7e0cfb7",
   "metadata": {},
   "outputs": [],
   "source": [
    "import pyutil as pyu\n",
    "pyu.get_local_pyinfo()"
   ]
  },
  {
   "cell_type": "code",
   "execution_count": null,
   "id": "ca6ea32a",
   "metadata": {},
   "outputs": [],
   "source": [
    "print(pyu.ps2(\"python-dotenv\"))"
   ]
  },
  {
   "cell_type": "code",
   "execution_count": null,
   "id": "ef37507f",
   "metadata": {},
   "outputs": [],
   "source": [
    "from typing import List"
   ]
  },
  {
   "cell_type": "code",
   "execution_count": null,
   "id": "f8cdaf99",
   "metadata": {},
   "outputs": [],
   "source": [
    "class Solution:\n",
    "  def dailyTemperatures(self, temperatures: List[int]) -> List[int]:\n",
    "    ans = [0] * len(temperatures)\n",
    "    stack = []\n",
    "\n",
    "    for i, t in enumerate(temperatures):\n",
    "      while stack and t > temperatures[stack[-1]]:\n",
    "        index = stack.pop()\n",
    "        ans[index] = i - index\n",
    "      stack.append(i)\n",
    "\n",
    "    return ans"
   ]
  },
  {
   "cell_type": "code",
   "execution_count": null,
   "id": "26d6817d",
   "metadata": {},
   "outputs": [],
   "source": [
    "new Solution().dailyTemperatures()"
   ]
  }
 ],
 "metadata": {},
 "nbformat": 4,
 "nbformat_minor": 5
}

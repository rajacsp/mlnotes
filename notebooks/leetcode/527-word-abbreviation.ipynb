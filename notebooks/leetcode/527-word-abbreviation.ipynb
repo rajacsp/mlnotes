{
 "cells": [
  {
   "cell_type": "markdown",
   "id": "22ebf4d4",
   "metadata": {},
   "source": [
    "https://leetcode.com/problems/word-abbreviation"
   ]
  },
  {
   "cell_type": "code",
   "execution_count": null,
   "id": "f2e0e4c3",
   "metadata": {},
   "outputs": [],
   "source": [
    "import pyutil as pyu\n",
    "pyu.get_local_pyinfo()"
   ]
  },
  {
   "cell_type": "code",
   "execution_count": null,
   "id": "c2488e60",
   "metadata": {},
   "outputs": [],
   "source": [
    "print(pyu.ps2(\"python-dotenv\"))"
   ]
  },
  {
   "cell_type": "code",
   "execution_count": null,
   "id": "8446cdc0",
   "metadata": {},
   "outputs": [],
   "source": [
    "from typing import List"
   ]
  },
  {
   "cell_type": "code",
   "execution_count": null,
   "id": "55dc2eac",
   "metadata": {},
   "outputs": [],
   "source": [
    "class Solution:\n",
    "  def wordsAbbreviation(self, words: List[str]) -> List[str]:\n",
    "    n = len(words)\n",
    "\n",
    "    def getAbbrev(s: str, prefixIndex: int) -> str:\n",
    "      n = len(s)\n",
    "      num = n - (prefixIndex + 1) - 1\n",
    "      numLength = 1 if num < 10 else (2 if num < 100 else 3)\n",
    "      abbrevLength = (prefixIndex + 1) + numLength + 1\n",
    "      if abbrevLength >= n:\n",
    "        return s\n",
    "      return s[:prefixIndex + 1] + str(num) + s[-1]\n",
    "\n",
    "    ans = [getAbbrev(word, 0) for word in words]\n",
    "    # prefix[i] := ans[i] takes words[i][0..prefix[i]]\n",
    "    prefix = [0] * n\n",
    "\n",
    "    for i in range(n):\n",
    "      while True:\n",
    "        dupeIndices = []\n",
    "        for j in range(i + 1, n):\n",
    "          if ans[i] == ans[j]:\n",
    "            dupeIndices.append(j)\n",
    "        if not dupeIndices:\n",
    "          break\n",
    "        dupeIndices.append(i)\n",
    "        for index in dupeIndices:\n",
    "          prefix[index] += 1\n",
    "          ans[index] = getAbbrev(words[index], prefix[index])\n",
    "\n",
    "    return ans"
   ]
  },
  {
   "cell_type": "code",
   "execution_count": null,
   "id": "426db485",
   "metadata": {},
   "outputs": [],
   "source": [
    "new Solution().wordsAbbreviation()"
   ]
  }
 ],
 "metadata": {},
 "nbformat": 4,
 "nbformat_minor": 5
}

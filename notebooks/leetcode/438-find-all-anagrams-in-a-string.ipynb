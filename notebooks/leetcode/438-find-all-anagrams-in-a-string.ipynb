{
 "cells": [
  {
   "cell_type": "markdown",
   "id": "005f18fd",
   "metadata": {},
   "source": [
    "https://leetcode.com/problems/find-all-anagrams-in-a-string"
   ]
  },
  {
   "cell_type": "code",
   "execution_count": null,
   "id": "fb171c8c",
   "metadata": {},
   "outputs": [],
   "source": [
    "import pyutil as pyu\n",
    "pyu.get_local_pyinfo()"
   ]
  },
  {
   "cell_type": "code",
   "execution_count": null,
   "id": "ec8a3c25",
   "metadata": {},
   "outputs": [],
   "source": [
    "print(pyu.ps2(\"python-dotenv\"))"
   ]
  },
  {
   "cell_type": "code",
   "execution_count": null,
   "id": "967d858d",
   "metadata": {},
   "outputs": [],
   "source": [
    "from typing import List"
   ]
  },
  {
   "cell_type": "code",
   "execution_count": null,
   "id": "e5b89933",
   "metadata": {},
   "outputs": [],
   "source": [
    "class Solution:\n",
    "  def findAnagrams(self, s: str, p: str) -> List[int]:\n",
    "    ans = []\n",
    "    count = Counter(p)\n",
    "    required = len(p)\n",
    "\n",
    "    for r, c in enumerate(s):\n",
    "      count[c] -= 1\n",
    "      if count[c] >= 0:\n",
    "        required -= 1\n",
    "      if r >= len(p):\n",
    "        count[s[r - len(p)]] += 1\n",
    "        if count[s[r - len(p)]] > 0:\n",
    "          required += 1\n",
    "      if required == 0:\n",
    "        ans.append(r - len(p) + 1)\n",
    "\n",
    "    return ans"
   ]
  },
  {
   "cell_type": "code",
   "execution_count": null,
   "id": "06f887d8",
   "metadata": {},
   "outputs": [],
   "source": [
    "new Solution().findAnagrams()"
   ]
  }
 ],
 "metadata": {},
 "nbformat": 4,
 "nbformat_minor": 5
}

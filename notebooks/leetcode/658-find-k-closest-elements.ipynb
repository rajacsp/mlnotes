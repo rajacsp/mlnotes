{
 "cells": [
  {
   "cell_type": "markdown",
   "id": "5117c095",
   "metadata": {},
   "source": [
    "https://leetcode.com/problems/find-k-closest-elements"
   ]
  },
  {
   "cell_type": "code",
   "execution_count": null,
   "id": "92c9749f",
   "metadata": {},
   "outputs": [],
   "source": [
    "import pyutil as pyu\n",
    "pyu.get_local_pyinfo()"
   ]
  },
  {
   "cell_type": "code",
   "execution_count": null,
   "id": "e572a37f",
   "metadata": {},
   "outputs": [],
   "source": [
    "print(pyu.ps2(\"python-dotenv\"))"
   ]
  },
  {
   "cell_type": "code",
   "execution_count": null,
   "id": "90e4c6ef",
   "metadata": {},
   "outputs": [],
   "source": [
    "from typing import List"
   ]
  },
  {
   "cell_type": "code",
   "execution_count": null,
   "id": "c1d523bd",
   "metadata": {},
   "outputs": [],
   "source": [
    "class Solution:\n",
    "  def findClosestElements(self, arr: List[int], k: int, x: int) -> List[int]:\n",
    "    l = 0\n",
    "    r = len(arr) - k\n",
    "\n",
    "    while l < r:\n",
    "      m = (l + r) // 2\n",
    "      if x - arr[m] <= arr[m + k] - x:\n",
    "        r = m\n",
    "      else:\n",
    "        l = m + 1\n",
    "\n",
    "    return arr[l:l + k]"
   ]
  },
  {
   "cell_type": "code",
   "execution_count": null,
   "id": "d58e5c79",
   "metadata": {},
   "outputs": [],
   "source": [
    "new Solution().findClosestElements()"
   ]
  }
 ],
 "metadata": {},
 "nbformat": 4,
 "nbformat_minor": 5
}

{
 "cells": [
  {
   "cell_type": "markdown",
   "id": "2fc007f7",
   "metadata": {},
   "source": [
    "https://leetcode.com/problems/palindrome-permutation-ii"
   ]
  },
  {
   "cell_type": "code",
   "execution_count": null,
   "id": "ddab2867",
   "metadata": {},
   "outputs": [],
   "source": [
    "import pyutil as pyu\n",
    "pyu.get_local_pyinfo()"
   ]
  },
  {
   "cell_type": "code",
   "execution_count": null,
   "id": "b63c422e",
   "metadata": {},
   "outputs": [],
   "source": [
    "print(pyu.ps2(\"python-dotenv\"))"
   ]
  },
  {
   "cell_type": "code",
   "execution_count": null,
   "id": "9c9e0fd9",
   "metadata": {},
   "outputs": [],
   "source": [
    "from typing import List"
   ]
  },
  {
   "cell_type": "code",
   "execution_count": null,
   "id": "448024b8",
   "metadata": {},
   "outputs": [],
   "source": [
    "class Solution:\n",
    "  def generatePalindromes(self, s: str) -> List[str]:\n",
    "    # Get character occurrence\n",
    "    count = Counter(s)\n",
    "\n",
    "    # Count odd one\n",
    "    odd = sum(value & 1 for value in count.values())\n",
    "\n",
    "    # can't form any palindrome\n",
    "    if odd > 1:\n",
    "      return []\n",
    "\n",
    "    ans = []\n",
    "    candidates = []\n",
    "    mid = ''\n",
    "\n",
    "    # Get mid and candidates characters\n",
    "    for key, value in count.items():\n",
    "      if value & 1:\n",
    "        mid += key\n",
    "      for _ in range(value // 2):\n",
    "        candidates.append(key)\n",
    "\n",
    "    # Generate all unique palindromes from candidates\n",
    "    def dfs(used: List[bool], path: List[chr]) -> None:\n",
    "      if len(path) == len(candidates):\n",
    "        ans.append(''.join(path) + mid + ''.join(path[::-1]))\n",
    "        return\n",
    "\n",
    "      for i, candidate in enumerate(candidates):\n",
    "        if used[i]:\n",
    "          continue\n",
    "        if i > 0 and candidate == candidates[i - 1] and not used[i - 1]:\n",
    "          continue\n",
    "        used[i] = True\n",
    "        path.append(candidate)\n",
    "        dfs(used, path)\n",
    "        path.pop()\n",
    "        used[i] = False\n",
    "\n",
    "    # Backtracking to generate our ans (strings)\n",
    "    dfs([False] * len(candidates), [])\n",
    "    return ans"
   ]
  },
  {
   "cell_type": "code",
   "execution_count": null,
   "id": "35987d39",
   "metadata": {},
   "outputs": [],
   "source": [
    "new Solution().generatePalindromes()"
   ]
  }
 ],
 "metadata": {},
 "nbformat": 4,
 "nbformat_minor": 5
}

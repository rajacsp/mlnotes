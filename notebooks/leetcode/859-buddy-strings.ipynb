{
 "cells": [
  {
   "cell_type": "markdown",
   "id": "767b380f",
   "metadata": {},
   "source": [
    "https://leetcode.com/problems/buddy-strings"
   ]
  },
  {
   "cell_type": "code",
   "execution_count": null,
   "id": "272293f8",
   "metadata": {},
   "outputs": [],
   "source": [
    "import pyutil as pyu\n",
    "pyu.get_local_pyinfo()"
   ]
  },
  {
   "cell_type": "code",
   "execution_count": null,
   "id": "2e9a3a93",
   "metadata": {},
   "outputs": [],
   "source": [
    "print(pyu.ps2(\"python-dotenv\"))"
   ]
  },
  {
   "cell_type": "code",
   "execution_count": null,
   "id": "93d5bc55",
   "metadata": {},
   "outputs": [],
   "source": [
    "from typing import List"
   ]
  },
  {
   "cell_type": "code",
   "execution_count": null,
   "id": "3d516830",
   "metadata": {},
   "outputs": [],
   "source": [
    "class Solution:\n",
    "  def buddyStrings(self, A: str, B: str) -> bool:\n",
    "    if len(A) != len(B):\n",
    "      return False\n",
    "    if A == B and len(set(A)) < len(A):\n",
    "      return True\n",
    "\n",
    "    diff = [(a, b) for a, b in zip(A, B) if a != b]\n",
    "\n",
    "    return len(diff) == 2 and diff[0] == diff[1][::-1]"
   ]
  },
  {
   "cell_type": "code",
   "execution_count": null,
   "id": "771be146",
   "metadata": {},
   "outputs": [],
   "source": [
    "new Solution().buddyStrings()"
   ]
  }
 ],
 "metadata": {},
 "nbformat": 4,
 "nbformat_minor": 5
}

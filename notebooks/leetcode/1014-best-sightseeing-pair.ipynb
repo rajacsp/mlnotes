{
 "cells": [
  {
   "cell_type": "markdown",
   "id": "65886555",
   "metadata": {},
   "source": [
    "https://leetcode.com/problems/best-sightseeing-pair"
   ]
  },
  {
   "cell_type": "code",
   "execution_count": null,
   "id": "9a8879cf",
   "metadata": {},
   "outputs": [],
   "source": [
    "import pyutil as pyu\n",
    "pyu.get_local_pyinfo()"
   ]
  },
  {
   "cell_type": "code",
   "execution_count": null,
   "id": "e800963f",
   "metadata": {},
   "outputs": [],
   "source": [
    "print(pyu.ps2(\"python-dotenv\"))"
   ]
  },
  {
   "cell_type": "code",
   "execution_count": null,
   "id": "4444c4b9",
   "metadata": {},
   "outputs": [],
   "source": [
    "from typing import List"
   ]
  },
  {
   "cell_type": "code",
   "execution_count": null,
   "id": "a8571a5e",
   "metadata": {},
   "outputs": [],
   "source": [
    "class Solution:\n",
    "  def maxScoreSightseeingPair(self, A: List[int]) -> int:\n",
    "    ans = 0\n",
    "    bestPrev = 0\n",
    "\n",
    "    for a in A:\n",
    "      ans = max(ans, a + bestPrev)\n",
    "      bestPrev = max(bestPrev, a) - 1\n",
    "\n",
    "    return ans"
   ]
  },
  {
   "cell_type": "code",
   "execution_count": null,
   "id": "72370a71",
   "metadata": {},
   "outputs": [],
   "source": [
    "new Solution().maxScoreSightseeingPair()"
   ]
  }
 ],
 "metadata": {},
 "nbformat": 4,
 "nbformat_minor": 5
}

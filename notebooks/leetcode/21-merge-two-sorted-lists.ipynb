{
 "cells": [
  {
   "cell_type": "markdown",
   "id": "1d46f9a6",
   "metadata": {},
   "source": [
    "https://leetcode.com/problems/merge-two-sorted-lists"
   ]
  },
  {
   "cell_type": "code",
   "execution_count": null,
   "id": "c5ae6e37",
   "metadata": {},
   "outputs": [],
   "source": [
    "import pyutil as pyu\n",
    "pyu.get_local_pyinfo()"
   ]
  },
  {
   "cell_type": "code",
   "execution_count": null,
   "id": "7c4adaf3",
   "metadata": {},
   "outputs": [],
   "source": [
    "print(pyu.ps2(\"python-dotenv\"))"
   ]
  },
  {
   "cell_type": "code",
   "execution_count": null,
   "id": "a2755368",
   "metadata": {},
   "outputs": [],
   "source": [
    "from typing import List"
   ]
  },
  {
   "cell_type": "code",
   "execution_count": null,
   "id": "c48c14e8",
   "metadata": {},
   "outputs": [],
   "source": [
    "class Solution:\n",
    "  def mergeTwoLists(self, list1: Optional[ListNode], list2: Optional[ListNode]) -> Optional[ListNode]:\n",
    "    if not list1 or not list2:\n",
    "      return list1 if list1 else list2\n",
    "    if list1.val > list2.val:\n",
    "      list1, list2 = list2, list1\n",
    "    list1.next = self.mergeTwoLists(list1.next, list2)\n",
    "    return list1"
   ]
  },
  {
   "cell_type": "code",
   "execution_count": null,
   "id": "b03a5b2f",
   "metadata": {},
   "outputs": [],
   "source": [
    "new Solution().mergeTwoLists()"
   ]
  }
 ],
 "metadata": {},
 "nbformat": 4,
 "nbformat_minor": 5
}

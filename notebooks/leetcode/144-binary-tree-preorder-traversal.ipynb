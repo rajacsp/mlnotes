{
 "cells": [
  {
   "cell_type": "markdown",
   "id": "fc406b55",
   "metadata": {},
   "source": [
    "https://leetcode.com/problems/binary-tree-preorder-traversal"
   ]
  },
  {
   "cell_type": "code",
   "execution_count": null,
   "id": "2db00ecb",
   "metadata": {},
   "outputs": [],
   "source": [
    "import pyutil as pyu\n",
    "pyu.get_local_pyinfo()"
   ]
  },
  {
   "cell_type": "code",
   "execution_count": null,
   "id": "d08b8e97",
   "metadata": {},
   "outputs": [],
   "source": [
    "print(pyu.ps2(\"python-dotenv\"))"
   ]
  },
  {
   "cell_type": "code",
   "execution_count": null,
   "id": "483ee0d4",
   "metadata": {},
   "outputs": [],
   "source": [
    "from typing import List"
   ]
  },
  {
   "cell_type": "code",
   "execution_count": null,
   "id": "921a8d15",
   "metadata": {},
   "outputs": [],
   "source": [
    "class Solution:\n",
    "  def preorderTraversal(self, root: Optional[TreeNode]) -> List[int]:\n",
    "    ans = []\n",
    "\n",
    "    def preorder(root: Optional[TreeNode]) -> None:\n",
    "      if not root:\n",
    "        return\n",
    "\n",
    "      ans.append(root.val)\n",
    "      preorder(root.left)\n",
    "      preorder(root.right)\n",
    "\n",
    "    preorder(root)\n",
    "    return ans"
   ]
  },
  {
   "cell_type": "code",
   "execution_count": null,
   "id": "3c30a410",
   "metadata": {},
   "outputs": [],
   "source": [
    "new Solution().preorderTraversal()"
   ]
  }
 ],
 "metadata": {},
 "nbformat": 4,
 "nbformat_minor": 5
}

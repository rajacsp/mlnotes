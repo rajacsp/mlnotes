{
 "cells": [
  {
   "cell_type": "markdown",
   "id": "d004903f",
   "metadata": {},
   "source": [
    "https://leetcode.com/problems/subdomain-visit-count"
   ]
  },
  {
   "cell_type": "code",
   "execution_count": null,
   "id": "68ab51c4",
   "metadata": {},
   "outputs": [],
   "source": [
    "import pyutil as pyu\n",
    "pyu.get_local_pyinfo()"
   ]
  },
  {
   "cell_type": "code",
   "execution_count": null,
   "id": "1afabdcd",
   "metadata": {},
   "outputs": [],
   "source": [
    "print(pyu.ps2(\"python-dotenv\"))"
   ]
  },
  {
   "cell_type": "code",
   "execution_count": null,
   "id": "a4def36a",
   "metadata": {},
   "outputs": [],
   "source": [
    "from typing import List"
   ]
  },
  {
   "cell_type": "code",
   "execution_count": null,
   "id": "90410808",
   "metadata": {},
   "outputs": [],
   "source": [
    "class Solution:\n",
    "  def subdomainVisits(self, cpdomains: List[str]) -> List[str]:\n",
    "    ans = []\n",
    "    count = Counter()\n",
    "\n",
    "    for cpdomain in cpdomains:\n",
    "      num, domains = cpdomain.split()\n",
    "      num, domains = int(num), domains.split('.')\n",
    "      for i in reversed(range(len(domains))):\n",
    "        count['.'.join(domains[i:])] += num\n",
    "\n",
    "    return [str(freq) + ' ' + domain for domain, freq in count.items()]"
   ]
  },
  {
   "cell_type": "code",
   "execution_count": null,
   "id": "8519457c",
   "metadata": {},
   "outputs": [],
   "source": [
    "new Solution().subdomainVisits()"
   ]
  }
 ],
 "metadata": {},
 "nbformat": 4,
 "nbformat_minor": 5
}

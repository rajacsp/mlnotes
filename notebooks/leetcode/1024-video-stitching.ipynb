{
 "cells": [
  {
   "cell_type": "markdown",
   "id": "6a4204ae",
   "metadata": {},
   "source": [
    "https://leetcode.com/problems/video-stitching"
   ]
  },
  {
   "cell_type": "code",
   "execution_count": null,
   "id": "1de0f47f",
   "metadata": {},
   "outputs": [],
   "source": [
    "import pyutil as pyu\n",
    "pyu.get_local_pyinfo()"
   ]
  },
  {
   "cell_type": "code",
   "execution_count": null,
   "id": "eb2f64be",
   "metadata": {},
   "outputs": [],
   "source": [
    "print(pyu.ps2(\"python-dotenv\"))"
   ]
  },
  {
   "cell_type": "code",
   "execution_count": null,
   "id": "f7a2dc94",
   "metadata": {},
   "outputs": [],
   "source": [
    "from typing import List"
   ]
  },
  {
   "cell_type": "code",
   "execution_count": null,
   "id": "51ee69f0",
   "metadata": {},
   "outputs": [],
   "source": [
    "class Solution:\n",
    "  def videoStitching(self, clips: List[List[int]], time: int) -> int:\n",
    "    ans = 0\n",
    "    end = 0\n",
    "    farthest = 0\n",
    "\n",
    "    clips.sort()\n",
    "\n",
    "    i = 0\n",
    "    while farthest < time:\n",
    "      while i < len(clips) and clips[i][0] <= end:\n",
    "        farthest = max(farthest, clips[i][1])\n",
    "        i += 1\n",
    "      if end == farthest:\n",
    "        return -1\n",
    "      ans += 1\n",
    "      end = farthest\n",
    "\n",
    "    return ans"
   ]
  },
  {
   "cell_type": "code",
   "execution_count": null,
   "id": "5f49068d",
   "metadata": {},
   "outputs": [],
   "source": [
    "new Solution().videoStitching()"
   ]
  }
 ],
 "metadata": {},
 "nbformat": 4,
 "nbformat_minor": 5
}

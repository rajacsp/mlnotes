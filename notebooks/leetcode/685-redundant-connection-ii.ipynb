{
 "cells": [
  {
   "cell_type": "markdown",
   "id": "ffd50a9a",
   "metadata": {},
   "source": [
    "https://leetcode.com/problems/redundant-connection-ii"
   ]
  },
  {
   "cell_type": "code",
   "execution_count": null,
   "id": "8572c189",
   "metadata": {},
   "outputs": [],
   "source": [
    "import pyutil as pyu\n",
    "pyu.get_local_pyinfo()"
   ]
  },
  {
   "cell_type": "code",
   "execution_count": null,
   "id": "a83bc105",
   "metadata": {},
   "outputs": [],
   "source": [
    "print(pyu.ps2(\"python-dotenv\"))"
   ]
  },
  {
   "cell_type": "code",
   "execution_count": null,
   "id": "3e6c9098",
   "metadata": {},
   "outputs": [],
   "source": [
    "from typing import List"
   ]
  },
  {
   "cell_type": "code",
   "execution_count": null,
   "id": "56430410",
   "metadata": {},
   "outputs": [],
   "source": [
    "class UnionFind:\n",
    "  def __init__(self, n: int):\n",
    "    self.id = [i for i in range(n + 1)]\n",
    "\n",
    "  def union(self, u: int, v: int) -> bool:\n",
    "    i = self.find(u)\n",
    "    j = self.find(v)\n",
    "    if i == j:\n",
    "      return False\n",
    "    self.id[i] = j\n",
    "    return True\n",
    "\n",
    "  def find(self, u: int) -> int:\n",
    "    if self.id[u] != u:\n",
    "      self.id[u] = self.find(self.id[u])\n",
    "    return self.id[u]\n",
    "\n",
    "\n",
    "class Solution:\n",
    "  def findRedundantDirectedConnection(self, edges: List[List[int]]) -> List[int]:\n",
    "    ids = [0] * (len(edges) + 1)\n",
    "    nodeWithTwoParents = 0\n",
    "\n",
    "    for u, v in edges:\n",
    "      ids[v] += 1\n",
    "      if ids[v] == 2:\n",
    "        nodeWithTwoParents = v\n",
    "\n",
    "    def findRedundantDirectedConnection(skippedEdgeIndex: int) -> List[int]:\n",
    "      uf = UnionFind(len(edges) + 1)\n",
    "\n",
    "      for i, edge in enumerate(edges):\n",
    "        if i == skippedEdgeIndex:\n",
    "          continue\n",
    "        if not uf.union(edge[0], edge[1]):\n",
    "          return edge\n",
    "\n",
    "      return []\n",
    "\n",
    "    # If there is no edge with two ids\n",
    "    # We don't have to skip any edge\n",
    "    if nodeWithTwoParents == 0:\n",
    "      return findRedundantDirectedConnection(-1)\n",
    "\n",
    "    for i in reversed(range(len(edges))):\n",
    "      _, v = edges[i]\n",
    "      if v == nodeWithTwoParents:\n",
    "        # Try to delete edges[i]\n",
    "        if not findRedundantDirectedConnection(i):\n",
    "          return edges[i]"
   ]
  },
  {
   "cell_type": "code",
   "execution_count": null,
   "id": "35c892e7",
   "metadata": {},
   "outputs": [],
   "source": [
    "new Solution().findRedundantDirectedConnection()"
   ]
  }
 ],
 "metadata": {},
 "nbformat": 4,
 "nbformat_minor": 5
}

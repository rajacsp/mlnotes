{
 "cells": [
  {
   "cell_type": "markdown",
   "id": "956d249a",
   "metadata": {},
   "source": [
    "https://leetcode.com/problems/coin-path"
   ]
  },
  {
   "cell_type": "code",
   "execution_count": null,
   "id": "a337baaf",
   "metadata": {},
   "outputs": [],
   "source": [
    "import pyutil as pyu\n",
    "pyu.get_local_pyinfo()"
   ]
  },
  {
   "cell_type": "code",
   "execution_count": null,
   "id": "bd866901",
   "metadata": {},
   "outputs": [],
   "source": [
    "print(pyu.ps2(\"python-dotenv\"))"
   ]
  },
  {
   "cell_type": "code",
   "execution_count": null,
   "id": "3281138c",
   "metadata": {},
   "outputs": [],
   "source": [
    "from typing import List"
   ]
  },
  {
   "cell_type": "code",
   "execution_count": null,
   "id": "edbfc601",
   "metadata": {},
   "outputs": [],
   "source": [
    "class Solution:\n",
    "  def cheapestJump(self, coins: List[int], maxJump: int) -> List[int]:\n",
    "    if coins[-1] == -1:\n",
    "      return []\n",
    "\n",
    "    n = len(coins)\n",
    "    # dp[i] := min cost to jump from i to n - 1\n",
    "    dp = [math.inf] * n\n",
    "    next = [-1] * n\n",
    "\n",
    "    def cheapestJump(i: int) -> int:\n",
    "      if i == len(coins) - 1:\n",
    "        dp[i] = coins[i]\n",
    "        return dp[i]\n",
    "      if dp[i] < math.inf:\n",
    "        return dp[i]\n",
    "      if coins[i] == -1:\n",
    "        return math.inf\n",
    "\n",
    "      for j in range(i + 1, min(i + maxJump + 1, n)):\n",
    "        res = cheapestJump(j)\n",
    "        if res == math.inf:\n",
    "          continue\n",
    "        cost = coins[i] + res\n",
    "        if cost < dp[i]:\n",
    "          dp[i] = cost\n",
    "          next[i] = j\n",
    "\n",
    "      return dp[i]\n",
    "\n",
    "    cheapestJump(0)\n",
    "    if dp[0] == math.inf:\n",
    "      return []\n",
    "    return self._constructPath(next, 0)\n",
    "\n",
    "  def _constructPath(self, next: List[int], i: int) -> List[int]:\n",
    "    ans = []\n",
    "    while i != -1:\n",
    "      ans.append(i + 1)  # 1-indexed\n",
    "      i = next[i]\n",
    "    return ans"
   ]
  },
  {
   "cell_type": "code",
   "execution_count": null,
   "id": "4e17b55e",
   "metadata": {},
   "outputs": [],
   "source": [
    "new Solution().cheapestJump()"
   ]
  }
 ],
 "metadata": {},
 "nbformat": 4,
 "nbformat_minor": 5
}

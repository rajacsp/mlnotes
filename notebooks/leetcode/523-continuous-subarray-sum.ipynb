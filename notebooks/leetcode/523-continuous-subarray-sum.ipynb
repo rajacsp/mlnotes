{
 "cells": [
  {
   "cell_type": "markdown",
   "id": "5316348c",
   "metadata": {},
   "source": [
    "https://leetcode.com/problems/continuous-subarray-sum"
   ]
  },
  {
   "cell_type": "code",
   "execution_count": null,
   "id": "fd24fc87",
   "metadata": {},
   "outputs": [],
   "source": [
    "import pyutil as pyu\n",
    "pyu.get_local_pyinfo()"
   ]
  },
  {
   "cell_type": "code",
   "execution_count": null,
   "id": "0357e33b",
   "metadata": {},
   "outputs": [],
   "source": [
    "print(pyu.ps2(\"python-dotenv\"))"
   ]
  },
  {
   "cell_type": "code",
   "execution_count": null,
   "id": "94a5b0e2",
   "metadata": {},
   "outputs": [],
   "source": [
    "from typing import List"
   ]
  },
  {
   "cell_type": "code",
   "execution_count": null,
   "id": "34c37fd2",
   "metadata": {},
   "outputs": [],
   "source": [
    "class Solution:\n",
    "  def checkSubarraySum(self, nums: List[int], k: int) -> bool:\n",
    "    prefix = 0\n",
    "    prefixToIndex = {0: -1}\n",
    "\n",
    "    for i, num in enumerate(nums):\n",
    "      prefix += num\n",
    "      if k != 0:\n",
    "        prefix %= k\n",
    "      if prefix in prefixToIndex:\n",
    "        if i - prefixToIndex[prefix] > 1:\n",
    "          return True\n",
    "      else:\n",
    "        prefixToIndex[prefix] = i\n",
    "\n",
    "    return False"
   ]
  },
  {
   "cell_type": "code",
   "execution_count": null,
   "id": "bd6689cb",
   "metadata": {},
   "outputs": [],
   "source": [
    "new Solution().checkSubarraySum()"
   ]
  }
 ],
 "metadata": {},
 "nbformat": 4,
 "nbformat_minor": 5
}

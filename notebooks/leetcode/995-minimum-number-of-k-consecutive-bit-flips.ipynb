{
 "cells": [
  {
   "cell_type": "markdown",
   "id": "b372672e",
   "metadata": {},
   "source": [
    "https://leetcode.com/problems/minimum-number-of-k-consecutive-bit-flips"
   ]
  },
  {
   "cell_type": "code",
   "execution_count": null,
   "id": "e774ca40",
   "metadata": {},
   "outputs": [],
   "source": [
    "import pyutil as pyu\n",
    "pyu.get_local_pyinfo()"
   ]
  },
  {
   "cell_type": "code",
   "execution_count": null,
   "id": "3a16afa9",
   "metadata": {},
   "outputs": [],
   "source": [
    "print(pyu.ps2(\"python-dotenv\"))"
   ]
  },
  {
   "cell_type": "code",
   "execution_count": null,
   "id": "b54aba17",
   "metadata": {},
   "outputs": [],
   "source": [
    "from typing import List"
   ]
  },
  {
   "cell_type": "code",
   "execution_count": null,
   "id": "15d3dad3",
   "metadata": {},
   "outputs": [],
   "source": [
    "class Solution:\n",
    "  def minKBitFlips(self, A: List[int], K: int) -> int:\n",
    "    ans = 0\n",
    "    flippedTime = 0\n",
    "\n",
    "    for r, a in enumerate(A):\n",
    "      if r >= K and A[r - K] == 2:\n",
    "        flippedTime -= 1\n",
    "      if flippedTime % 2 == a:\n",
    "        if r + K > len(A):\n",
    "          return -1\n",
    "        ans += 1\n",
    "        flippedTime += 1\n",
    "        A[r] = 2\n",
    "\n",
    "    return ans"
   ]
  },
  {
   "cell_type": "code",
   "execution_count": null,
   "id": "ccdb0ede",
   "metadata": {},
   "outputs": [],
   "source": [
    "new Solution().minKBitFlips()"
   ]
  }
 ],
 "metadata": {},
 "nbformat": 4,
 "nbformat_minor": 5
}

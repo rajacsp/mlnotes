{
 "cells": [
  {
   "cell_type": "markdown",
   "id": "8fb279d4",
   "metadata": {},
   "source": [
    "https://leetcode.com/problems/valid-parenthesis-string"
   ]
  },
  {
   "cell_type": "code",
   "execution_count": null,
   "id": "cd6e7e31",
   "metadata": {},
   "outputs": [],
   "source": [
    "import pyutil as pyu\n",
    "pyu.get_local_pyinfo()"
   ]
  },
  {
   "cell_type": "code",
   "execution_count": null,
   "id": "bec77eff",
   "metadata": {},
   "outputs": [],
   "source": [
    "print(pyu.ps2(\"python-dotenv\"))"
   ]
  },
  {
   "cell_type": "code",
   "execution_count": null,
   "id": "4d3ec460",
   "metadata": {},
   "outputs": [],
   "source": [
    "from typing import List"
   ]
  },
  {
   "cell_type": "code",
   "execution_count": null,
   "id": "75f766fa",
   "metadata": {},
   "outputs": [],
   "source": [
    "class Solution:\n",
    "  def checkValidString(self, s: str) -> bool:\n",
    "    low = 0\n",
    "    high = 0\n",
    "\n",
    "    for c in s:\n",
    "      if c == '(':\n",
    "        low += 1\n",
    "        high += 1\n",
    "      elif c == ')':\n",
    "        if low > 0:\n",
    "          low -= 1\n",
    "        high -= 1\n",
    "      else:\n",
    "        if low > 0:\n",
    "          low -= 1\n",
    "        high += 1\n",
    "      if high < 0:\n",
    "        return False\n",
    "\n",
    "    return low == 0"
   ]
  },
  {
   "cell_type": "code",
   "execution_count": null,
   "id": "fcd0cb7c",
   "metadata": {},
   "outputs": [],
   "source": [
    "new Solution().checkValidString()"
   ]
  }
 ],
 "metadata": {},
 "nbformat": 4,
 "nbformat_minor": 5
}

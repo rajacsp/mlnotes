{
 "cells": [
  {
   "cell_type": "markdown",
   "id": "5a262fad",
   "metadata": {},
   "source": [
    "https://leetcode.com/problems/merge-intervals"
   ]
  },
  {
   "cell_type": "code",
   "execution_count": null,
   "id": "7adf5509",
   "metadata": {},
   "outputs": [],
   "source": [
    "import pyutil as pyu\n",
    "pyu.get_local_pyinfo()"
   ]
  },
  {
   "cell_type": "code",
   "execution_count": null,
   "id": "479ec5fa",
   "metadata": {},
   "outputs": [],
   "source": [
    "print(pyu.ps2(\"python-dotenv\"))"
   ]
  },
  {
   "cell_type": "code",
   "execution_count": null,
   "id": "52379be9",
   "metadata": {},
   "outputs": [],
   "source": [
    "from typing import List"
   ]
  },
  {
   "cell_type": "code",
   "execution_count": null,
   "id": "da26b70e",
   "metadata": {},
   "outputs": [],
   "source": [
    "class Solution:\n",
    "  def merge(self, intervals: List[List[int]]) -> List[List[int]]:\n",
    "    ans = []\n",
    "\n",
    "    for interval in sorted(intervals):\n",
    "      if not ans or ans[-1][1] < interval[0]:\n",
    "        ans.append(interval)\n",
    "      else:\n",
    "        ans[-1][1] = max(ans[-1][1], interval[1])\n",
    "\n",
    "    return ans"
   ]
  },
  {
   "cell_type": "code",
   "execution_count": null,
   "id": "42817584",
   "metadata": {},
   "outputs": [],
   "source": [
    "new Solution().merge()"
   ]
  }
 ],
 "metadata": {},
 "nbformat": 4,
 "nbformat_minor": 5
}

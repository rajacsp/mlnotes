{
 "cells": [
  {
   "cell_type": "markdown",
   "id": "b5f9720b",
   "metadata": {},
   "source": [
    "https://leetcode.com/problems/fruit-into-baskets"
   ]
  },
  {
   "cell_type": "code",
   "execution_count": null,
   "id": "829f9323",
   "metadata": {},
   "outputs": [],
   "source": [
    "import pyutil as pyu\n",
    "pyu.get_local_pyinfo()"
   ]
  },
  {
   "cell_type": "code",
   "execution_count": null,
   "id": "0d1389f3",
   "metadata": {},
   "outputs": [],
   "source": [
    "print(pyu.ps2(\"python-dotenv\"))"
   ]
  },
  {
   "cell_type": "code",
   "execution_count": null,
   "id": "d83da274",
   "metadata": {},
   "outputs": [],
   "source": [
    "from typing import List"
   ]
  },
  {
   "cell_type": "code",
   "execution_count": null,
   "id": "949f9058",
   "metadata": {},
   "outputs": [],
   "source": [
    "class Solution:\n",
    "  def totalFruit(self, tree: List[int]) -> int:\n",
    "    ans = 0\n",
    "    count = defaultdict(int)\n",
    "\n",
    "    l = 0\n",
    "    for r, t in enumerate(tree):\n",
    "      count[t] += 1\n",
    "      while len(count) > 2:\n",
    "        count[tree[l]] -= 1\n",
    "        if count[tree[l]] == 0:\n",
    "          del count[tree[l]]\n",
    "        l += 1\n",
    "      ans = max(ans, r - l + 1)\n",
    "\n",
    "    return ans"
   ]
  },
  {
   "cell_type": "code",
   "execution_count": null,
   "id": "b73a0768",
   "metadata": {},
   "outputs": [],
   "source": [
    "new Solution().totalFruit()"
   ]
  }
 ],
 "metadata": {},
 "nbformat": 4,
 "nbformat_minor": 5
}

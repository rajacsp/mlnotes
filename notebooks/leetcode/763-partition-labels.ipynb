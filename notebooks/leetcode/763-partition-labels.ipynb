{
 "cells": [
  {
   "cell_type": "markdown",
   "id": "34765d37",
   "metadata": {},
   "source": [
    "https://leetcode.com/problems/partition-labels"
   ]
  },
  {
   "cell_type": "code",
   "execution_count": null,
   "id": "3df31dd0",
   "metadata": {},
   "outputs": [],
   "source": [
    "import pyutil as pyu\n",
    "pyu.get_local_pyinfo()"
   ]
  },
  {
   "cell_type": "code",
   "execution_count": null,
   "id": "e57afb54",
   "metadata": {},
   "outputs": [],
   "source": [
    "print(pyu.ps2(\"python-dotenv\"))"
   ]
  },
  {
   "cell_type": "code",
   "execution_count": null,
   "id": "730f9899",
   "metadata": {},
   "outputs": [],
   "source": [
    "from typing import List"
   ]
  },
  {
   "cell_type": "code",
   "execution_count": null,
   "id": "8a5104c3",
   "metadata": {},
   "outputs": [],
   "source": [
    "class Solution:\n",
    "  def partitionLabels(self, S: str) -> List[int]:\n",
    "    ans = []\n",
    "    letterToRightmostIndex = {c: i for i, c in enumerate(S)}\n",
    "\n",
    "    l = 0\n",
    "    r = 0\n",
    "\n",
    "    for i, c in enumerate(S):\n",
    "      r = max(r, letterToRightmostIndex[c])\n",
    "      if i == r:\n",
    "        ans.append(r - l + 1)\n",
    "        l = r + 1\n",
    "\n",
    "    return ans"
   ]
  },
  {
   "cell_type": "code",
   "execution_count": null,
   "id": "235a01e0",
   "metadata": {},
   "outputs": [],
   "source": [
    "new Solution().partitionLabels()"
   ]
  }
 ],
 "metadata": {},
 "nbformat": 4,
 "nbformat_minor": 5
}

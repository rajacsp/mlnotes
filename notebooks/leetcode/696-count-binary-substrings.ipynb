{
 "cells": [
  {
   "cell_type": "markdown",
   "id": "e46ea222",
   "metadata": {},
   "source": [
    "https://leetcode.com/problems/count-binary-substrings"
   ]
  },
  {
   "cell_type": "code",
   "execution_count": null,
   "id": "2c7cd157",
   "metadata": {},
   "outputs": [],
   "source": [
    "import pyutil as pyu\n",
    "pyu.get_local_pyinfo()"
   ]
  },
  {
   "cell_type": "code",
   "execution_count": null,
   "id": "299673d8",
   "metadata": {},
   "outputs": [],
   "source": [
    "print(pyu.ps2(\"python-dotenv\"))"
   ]
  },
  {
   "cell_type": "code",
   "execution_count": null,
   "id": "47cacc7e",
   "metadata": {},
   "outputs": [],
   "source": [
    "from typing import List"
   ]
  },
  {
   "cell_type": "code",
   "execution_count": null,
   "id": "8d672d7a",
   "metadata": {},
   "outputs": [],
   "source": [
    "class Solution:\n",
    "  def countBinarySubstrings(self, s: str) -> int:\n",
    "    ans = 0\n",
    "    prevCount = 0\n",
    "    equals = 1\n",
    "\n",
    "    for i in range(len(s) - 1):\n",
    "      if s[i] == s[i + 1]:\n",
    "        equals += 1\n",
    "      else:\n",
    "        ans += min(prevCount, equals)\n",
    "        prevCount = equals\n",
    "        equals = 1\n",
    "\n",
    "    return ans + min(prevCount, equals)"
   ]
  },
  {
   "cell_type": "code",
   "execution_count": null,
   "id": "cff76f44",
   "metadata": {},
   "outputs": [],
   "source": [
    "new Solution().countBinarySubstrings()"
   ]
  }
 ],
 "metadata": {},
 "nbformat": 4,
 "nbformat_minor": 5
}

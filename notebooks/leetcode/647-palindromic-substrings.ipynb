{
 "cells": [
  {
   "cell_type": "markdown",
   "id": "cf92abaa",
   "metadata": {},
   "source": [
    "https://leetcode.com/problems/palindromic-substrings"
   ]
  },
  {
   "cell_type": "code",
   "execution_count": null,
   "id": "0ec61502",
   "metadata": {},
   "outputs": [],
   "source": [
    "import pyutil as pyu\n",
    "pyu.get_local_pyinfo()"
   ]
  },
  {
   "cell_type": "code",
   "execution_count": null,
   "id": "52a93036",
   "metadata": {},
   "outputs": [],
   "source": [
    "print(pyu.ps2(\"python-dotenv\"))"
   ]
  },
  {
   "cell_type": "code",
   "execution_count": null,
   "id": "d2b5e246",
   "metadata": {},
   "outputs": [],
   "source": [
    "from typing import List"
   ]
  },
  {
   "cell_type": "code",
   "execution_count": null,
   "id": "5832147f",
   "metadata": {},
   "outputs": [],
   "source": [
    "class Solution:\n",
    "  def countSubstrings(self, s: str) -> int:\n",
    "    def extendPalindromes(l: int, r: int) -> int:\n",
    "      count = 0\n",
    "\n",
    "      while l >= 0 and r < len(s) and s[l] == s[r]:\n",
    "        count += 1\n",
    "        l -= 1\n",
    "        r += 1\n",
    "\n",
    "      return count\n",
    "\n",
    "    ans = 0\n",
    "\n",
    "    for i in range(len(s)):\n",
    "      ans += extendPalindromes(i, i)\n",
    "      ans += extendPalindromes(i, i + 1)\n",
    "\n",
    "    return ans"
   ]
  },
  {
   "cell_type": "code",
   "execution_count": null,
   "id": "735b598c",
   "metadata": {},
   "outputs": [],
   "source": [
    "new Solution().countSubstrings()"
   ]
  }
 ],
 "metadata": {},
 "nbformat": 4,
 "nbformat_minor": 5
}

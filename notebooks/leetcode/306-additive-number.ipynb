{
 "cells": [
  {
   "cell_type": "markdown",
   "id": "19c5acdf",
   "metadata": {},
   "source": [
    "https://leetcode.com/problems/additive-number"
   ]
  },
  {
   "cell_type": "code",
   "execution_count": null,
   "id": "6ee9883f",
   "metadata": {},
   "outputs": [],
   "source": [
    "import pyutil as pyu\n",
    "pyu.get_local_pyinfo()"
   ]
  },
  {
   "cell_type": "code",
   "execution_count": null,
   "id": "ab7f7167",
   "metadata": {},
   "outputs": [],
   "source": [
    "print(pyu.ps2(\"python-dotenv\"))"
   ]
  },
  {
   "cell_type": "code",
   "execution_count": null,
   "id": "1402bfa0",
   "metadata": {},
   "outputs": [],
   "source": [
    "from typing import List"
   ]
  },
  {
   "cell_type": "code",
   "execution_count": null,
   "id": "09a9d150",
   "metadata": {},
   "outputs": [],
   "source": [
    "class Solution:\n",
    "  def isAdditiveNumber(self, num: str) -> bool:\n",
    "    n = len(num)\n",
    "\n",
    "    def dfs(firstNum: int, secondNum: int, s: int) -> bool:\n",
    "      if s == len(num):\n",
    "        return True\n",
    "\n",
    "      thirdNum = firstNum + secondNum\n",
    "      thirdNumStr = str(thirdNum)\n",
    "\n",
    "      return num.find(thirdNumStr, s) == s and dfs(secondNum, thirdNum, s + len(thirdNumStr))\n",
    "\n",
    "    # num[0..i] = firstNum\n",
    "    for i in range(n // 2):\n",
    "      if i > 0 and num[0] == '0':\n",
    "        return False\n",
    "      firstNum = int(num[:i + 1])\n",
    "      # num[i + 1..j] = secondNum\n",
    "      # Len(thirdNum) >= max(len(firstNum), len(secondNum))\n",
    "      j = i + 1\n",
    "      while max(i, j - i) < n - j:\n",
    "        if j > i + 1 and num[i + 1] == '0':\n",
    "          break\n",
    "        secondNum = int(num[i + 1:j + 1])\n",
    "        if dfs(firstNum, secondNum, j + 1):\n",
    "          return True\n",
    "        j += 1\n",
    "\n",
    "    return False"
   ]
  },
  {
   "cell_type": "code",
   "execution_count": null,
   "id": "6526fe59",
   "metadata": {},
   "outputs": [],
   "source": [
    "new Solution().isAdditiveNumber()"
   ]
  }
 ],
 "metadata": {},
 "nbformat": 4,
 "nbformat_minor": 5
}

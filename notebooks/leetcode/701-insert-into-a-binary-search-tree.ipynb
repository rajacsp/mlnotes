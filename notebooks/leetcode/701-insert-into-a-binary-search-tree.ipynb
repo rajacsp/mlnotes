{
 "cells": [
  {
   "cell_type": "markdown",
   "id": "e53658ac",
   "metadata": {},
   "source": [
    "https://leetcode.com/problems/insert-into-a-binary-search-tree"
   ]
  },
  {
   "cell_type": "code",
   "execution_count": null,
   "id": "bc9db2b7",
   "metadata": {},
   "outputs": [],
   "source": [
    "import pyutil as pyu\n",
    "pyu.get_local_pyinfo()"
   ]
  },
  {
   "cell_type": "code",
   "execution_count": null,
   "id": "0f987c0a",
   "metadata": {},
   "outputs": [],
   "source": [
    "print(pyu.ps2(\"python-dotenv\"))"
   ]
  },
  {
   "cell_type": "code",
   "execution_count": null,
   "id": "ae343e82",
   "metadata": {},
   "outputs": [],
   "source": [
    "from typing import List"
   ]
  },
  {
   "cell_type": "code",
   "execution_count": null,
   "id": "d31e04cf",
   "metadata": {},
   "outputs": [],
   "source": [
    "class Solution:\n",
    "  def insertIntoBST(self, root: Optional[TreeNode], val: int) -> Optional[TreeNode]:\n",
    "    if not root:\n",
    "      return TreeNode(val)\n",
    "    if root.val > val:\n",
    "      root.left = self.insertIntoBST(root.left, val)\n",
    "    else:\n",
    "      root.right = self.insertIntoBST(root.right, val)\n",
    "    return root"
   ]
  },
  {
   "cell_type": "code",
   "execution_count": null,
   "id": "bba77336",
   "metadata": {},
   "outputs": [],
   "source": [
    "new Solution().insertIntoBST()"
   ]
  }
 ],
 "metadata": {},
 "nbformat": 4,
 "nbformat_minor": 5
}

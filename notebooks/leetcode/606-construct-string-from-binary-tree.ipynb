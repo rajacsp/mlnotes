{
 "cells": [
  {
   "cell_type": "markdown",
   "id": "abe900a1",
   "metadata": {},
   "source": [
    "https://leetcode.com/problems/construct-string-from-binary-tree"
   ]
  },
  {
   "cell_type": "code",
   "execution_count": null,
   "id": "2becd338",
   "metadata": {},
   "outputs": [],
   "source": [
    "import pyutil as pyu\n",
    "pyu.get_local_pyinfo()"
   ]
  },
  {
   "cell_type": "code",
   "execution_count": null,
   "id": "ae494d12",
   "metadata": {},
   "outputs": [],
   "source": [
    "print(pyu.ps2(\"python-dotenv\"))"
   ]
  },
  {
   "cell_type": "code",
   "execution_count": null,
   "id": "30d11e5f",
   "metadata": {},
   "outputs": [],
   "source": [
    "from typing import List"
   ]
  },
  {
   "cell_type": "code",
   "execution_count": null,
   "id": "9fdbba5e",
   "metadata": {},
   "outputs": [],
   "source": [
    "class Solution:\n",
    "  def tree2str(self, t: Optional[TreeNode]) -> str:\n",
    "    def dfs(root: Optional[TreeNode]) -> str:\n",
    "      if not root:\n",
    "        return ''\n",
    "      if root.right:\n",
    "        return str(root.val) + '(' + dfs(root.left) + ')(' + dfs(root.right) + ')'\n",
    "      if root.left:\n",
    "        return str(root.val) + '(' + dfs(root.left) + ')'\n",
    "      return str(root.val)\n",
    "    return dfs(t)"
   ]
  },
  {
   "cell_type": "code",
   "execution_count": null,
   "id": "6197969e",
   "metadata": {},
   "outputs": [],
   "source": [
    "new Solution().tree2str()"
   ]
  }
 ],
 "metadata": {},
 "nbformat": 4,
 "nbformat_minor": 5
}

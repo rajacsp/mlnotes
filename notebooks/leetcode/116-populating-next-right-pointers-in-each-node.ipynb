{
 "cells": [
  {
   "cell_type": "markdown",
   "id": "9ba49303",
   "metadata": {},
   "source": [
    "https://leetcode.com/problems/populating-next-right-pointers-in-each-node"
   ]
  },
  {
   "cell_type": "code",
   "execution_count": null,
   "id": "f29b636a",
   "metadata": {},
   "outputs": [],
   "source": [
    "import pyutil as pyu\n",
    "pyu.get_local_pyinfo()"
   ]
  },
  {
   "cell_type": "code",
   "execution_count": null,
   "id": "b67966cc",
   "metadata": {},
   "outputs": [],
   "source": [
    "print(pyu.ps2(\"python-dotenv\"))"
   ]
  },
  {
   "cell_type": "code",
   "execution_count": null,
   "id": "802b10db",
   "metadata": {},
   "outputs": [],
   "source": [
    "from typing import List"
   ]
  },
  {
   "cell_type": "code",
   "execution_count": null,
   "id": "11eab467",
   "metadata": {},
   "outputs": [],
   "source": [
    "class Solution:\n",
    "  def connect(self, root: 'Optional[Node]') -> 'Optional[Node]':\n",
    "    if not root:\n",
    "      return None\n",
    "\n",
    "    def connectTwoNodes(p, q) -> None:\n",
    "      if not p:\n",
    "        return\n",
    "      p.next = q\n",
    "      connectTwoNodes(p.left, p.right)\n",
    "      connectTwoNodes(q.left, q.right)\n",
    "      connectTwoNodes(p.right, q.left)\n",
    "\n",
    "    connectTwoNodes(root.left, root.right)\n",
    "    return root"
   ]
  },
  {
   "cell_type": "code",
   "execution_count": null,
   "id": "caca6884",
   "metadata": {},
   "outputs": [],
   "source": [
    "new Solution().connect()"
   ]
  }
 ],
 "metadata": {},
 "nbformat": 4,
 "nbformat_minor": 5
}

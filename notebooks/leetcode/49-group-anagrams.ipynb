{
 "cells": [
  {
   "cell_type": "markdown",
   "id": "ffdf9306",
   "metadata": {},
   "source": [
    "https://leetcode.com/problems/group-anagrams"
   ]
  },
  {
   "cell_type": "code",
   "execution_count": null,
   "id": "32639af6",
   "metadata": {},
   "outputs": [],
   "source": [
    "import pyutil as pyu\n",
    "pyu.get_local_pyinfo()"
   ]
  },
  {
   "cell_type": "code",
   "execution_count": null,
   "id": "e9983f8d",
   "metadata": {},
   "outputs": [],
   "source": [
    "print(pyu.ps2(\"python-dotenv\"))"
   ]
  },
  {
   "cell_type": "code",
   "execution_count": null,
   "id": "4b6cafaf",
   "metadata": {},
   "outputs": [],
   "source": [
    "from typing import List"
   ]
  },
  {
   "cell_type": "code",
   "execution_count": null,
   "id": "2e899605",
   "metadata": {},
   "outputs": [],
   "source": [
    "class Solution:\n",
    "  def groupAnagrams(self, strs: List[str]) -> List[List[str]]:\n",
    "    dict = defaultdict(list)\n",
    "\n",
    "    for str in strs:\n",
    "      key = ''.join(sorted(str))\n",
    "      dict[key].append(str)\n",
    "\n",
    "    return dict.values()"
   ]
  },
  {
   "cell_type": "code",
   "execution_count": null,
   "id": "739205df",
   "metadata": {},
   "outputs": [],
   "source": [
    "new Solution().groupAnagrams()"
   ]
  }
 ],
 "metadata": {},
 "nbformat": 4,
 "nbformat_minor": 5
}

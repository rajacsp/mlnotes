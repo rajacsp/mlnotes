{
 "cells": [
  {
   "cell_type": "markdown",
   "id": "6d828d30",
   "metadata": {},
   "source": [
    "https://leetcode.com/problems/palindrome-partitioning"
   ]
  },
  {
   "cell_type": "code",
   "execution_count": null,
   "id": "5d05ff95",
   "metadata": {},
   "outputs": [],
   "source": [
    "import pyutil as pyu\n",
    "pyu.get_local_pyinfo()"
   ]
  },
  {
   "cell_type": "code",
   "execution_count": null,
   "id": "1dd312b2",
   "metadata": {},
   "outputs": [],
   "source": [
    "print(pyu.ps2(\"python-dotenv\"))"
   ]
  },
  {
   "cell_type": "code",
   "execution_count": null,
   "id": "5a8a25fb",
   "metadata": {},
   "outputs": [],
   "source": [
    "from typing import List"
   ]
  },
  {
   "cell_type": "code",
   "execution_count": null,
   "id": "f7187ecf",
   "metadata": {},
   "outputs": [],
   "source": [
    "class Solution:\n",
    "  def partition(self, s: str) -> List[List[str]]:\n",
    "    ans = []\n",
    "\n",
    "    def isPalindrome(s: str) -> bool:\n",
    "      return s == s[::-1]\n",
    "\n",
    "    def dfs(s: str, j: int, path: List[str], ans: List[List[str]]) -> None:\n",
    "      if j == len(s):\n",
    "        ans.append(path)\n",
    "        return\n",
    "\n",
    "      for i in range(j, len(s)):\n",
    "        if isPalindrome(s[j: i + 1]):\n",
    "          dfs(s, i + 1, path + [s[j: i + 1]], ans)\n",
    "\n",
    "    dfs(s, 0, [], ans)\n",
    "    return ans"
   ]
  },
  {
   "cell_type": "code",
   "execution_count": null,
   "id": "eee46c68",
   "metadata": {},
   "outputs": [],
   "source": [
    "new Solution().partition()"
   ]
  }
 ],
 "metadata": {},
 "nbformat": 4,
 "nbformat_minor": 5
}

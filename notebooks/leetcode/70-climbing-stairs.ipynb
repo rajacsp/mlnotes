{
 "cells": [
  {
   "cell_type": "markdown",
   "id": "ba0b4b3a",
   "metadata": {},
   "source": [
    "https://leetcode.com/problems/climbing-stairs"
   ]
  },
  {
   "cell_type": "code",
   "execution_count": null,
   "id": "2996387a",
   "metadata": {},
   "outputs": [],
   "source": [
    "import pyutil as pyu\n",
    "pyu.get_local_pyinfo()"
   ]
  },
  {
   "cell_type": "code",
   "execution_count": null,
   "id": "93a99684",
   "metadata": {},
   "outputs": [],
   "source": [
    "print(pyu.ps2(\"python-dotenv\"))"
   ]
  },
  {
   "cell_type": "code",
   "execution_count": null,
   "id": "05891d00",
   "metadata": {},
   "outputs": [],
   "source": [
    "from typing import List"
   ]
  },
  {
   "cell_type": "code",
   "execution_count": null,
   "id": "993b9060",
   "metadata": {},
   "outputs": [],
   "source": [
    "class Solution:\n",
    "  def climbStairs(self, n: int) -> int:\n",
    "    # dp[i] := # Of distinct ways to climb to i-th stair\n",
    "    dp = [1, 1] + [0] * (n - 1)\n",
    "\n",
    "    for i in range(2, n + 1):\n",
    "      dp[i] = dp[i - 1] + dp[i - 2]\n",
    "\n",
    "    return dp[n]"
   ]
  },
  {
   "cell_type": "code",
   "execution_count": null,
   "id": "3368f30f",
   "metadata": {},
   "outputs": [],
   "source": [
    "new Solution().climbStairs()"
   ]
  }
 ],
 "metadata": {},
 "nbformat": 4,
 "nbformat_minor": 5
}

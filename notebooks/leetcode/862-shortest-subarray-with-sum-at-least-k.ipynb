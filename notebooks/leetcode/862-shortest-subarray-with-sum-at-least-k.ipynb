{
 "cells": [
  {
   "cell_type": "markdown",
   "id": "02dc35f5",
   "metadata": {},
   "source": [
    "https://leetcode.com/problems/shortest-subarray-with-sum-at-least-k"
   ]
  },
  {
   "cell_type": "code",
   "execution_count": null,
   "id": "2f85cefc",
   "metadata": {},
   "outputs": [],
   "source": [
    "import pyutil as pyu\n",
    "pyu.get_local_pyinfo()"
   ]
  },
  {
   "cell_type": "code",
   "execution_count": null,
   "id": "5c7fc6f4",
   "metadata": {},
   "outputs": [],
   "source": [
    "print(pyu.ps2(\"python-dotenv\"))"
   ]
  },
  {
   "cell_type": "code",
   "execution_count": null,
   "id": "7a8e3c70",
   "metadata": {},
   "outputs": [],
   "source": [
    "from typing import List"
   ]
  },
  {
   "cell_type": "code",
   "execution_count": null,
   "id": "36d61cac",
   "metadata": {},
   "outputs": [],
   "source": [
    "class Solution:\n",
    "  def shortestSubarray(self, A: List[int], K: int) -> int:\n",
    "    n = len(A)\n",
    "    ans = n + 1\n",
    "    q = deque()\n",
    "    prefix = [0] + list(itertools.accumulate(A))\n",
    "\n",
    "    for i in range(n + 1):\n",
    "      while q and prefix[i] - prefix[q[0]] >= K:\n",
    "        ans = min(ans, i - q.popleft())\n",
    "      while q and prefix[i] <= prefix[q[-1]]:\n",
    "        q.pop()\n",
    "      q.append(i)\n",
    "\n",
    "    return ans if ans <= n else -1"
   ]
  },
  {
   "cell_type": "code",
   "execution_count": null,
   "id": "05481229",
   "metadata": {},
   "outputs": [],
   "source": [
    "new Solution().shortestSubarray()"
   ]
  }
 ],
 "metadata": {},
 "nbformat": 4,
 "nbformat_minor": 5
}

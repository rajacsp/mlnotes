{
 "cells": [
  {
   "cell_type": "markdown",
   "id": "3e2c4fef",
   "metadata": {},
   "source": [
    "https://leetcode.com/problems/happy-number"
   ]
  },
  {
   "cell_type": "code",
   "execution_count": null,
   "id": "36f250ba",
   "metadata": {},
   "outputs": [],
   "source": [
    "import pyutil as pyu\n",
    "pyu.get_local_pyinfo()"
   ]
  },
  {
   "cell_type": "code",
   "execution_count": null,
   "id": "a1bd67ec",
   "metadata": {},
   "outputs": [],
   "source": [
    "print(pyu.ps2(\"python-dotenv\"))"
   ]
  },
  {
   "cell_type": "code",
   "execution_count": null,
   "id": "0b2e3aad",
   "metadata": {},
   "outputs": [],
   "source": [
    "from typing import List"
   ]
  },
  {
   "cell_type": "code",
   "execution_count": null,
   "id": "dd1fd28b",
   "metadata": {},
   "outputs": [],
   "source": [
    "class Solution:\n",
    "  def isHappy(self, n: int) -> bool:\n",
    "    def squaredSum(n: int) -> bool:\n",
    "      summ = 0\n",
    "      while n:\n",
    "        summ += pow(n % 10, 2)\n",
    "        n //= 10\n",
    "      return summ\n",
    "\n",
    "    slow = squaredSum(n)\n",
    "    fast = squaredSum(squaredSum(n))\n",
    "\n",
    "    while slow != fast:\n",
    "      slow = squaredSum(slow)\n",
    "      fast = squaredSum(squaredSum(fast))\n",
    "\n",
    "    return slow == 1"
   ]
  },
  {
   "cell_type": "code",
   "execution_count": null,
   "id": "ac4b163d",
   "metadata": {},
   "outputs": [],
   "source": [
    "new Solution().isHappy()"
   ]
  }
 ],
 "metadata": {},
 "nbformat": 4,
 "nbformat_minor": 5
}

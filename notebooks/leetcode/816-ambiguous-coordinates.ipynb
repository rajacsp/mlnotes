{
 "cells": [
  {
   "cell_type": "markdown",
   "id": "cb7e146e",
   "metadata": {},
   "source": [
    "https://leetcode.com/problems/ambiguous-coordinates"
   ]
  },
  {
   "cell_type": "code",
   "execution_count": null,
   "id": "814fb7e1",
   "metadata": {},
   "outputs": [],
   "source": [
    "import pyutil as pyu\n",
    "pyu.get_local_pyinfo()"
   ]
  },
  {
   "cell_type": "code",
   "execution_count": null,
   "id": "fee81474",
   "metadata": {},
   "outputs": [],
   "source": [
    "print(pyu.ps2(\"python-dotenv\"))"
   ]
  },
  {
   "cell_type": "code",
   "execution_count": null,
   "id": "90826fa7",
   "metadata": {},
   "outputs": [],
   "source": [
    "from typing import List"
   ]
  },
  {
   "cell_type": "code",
   "execution_count": null,
   "id": "1769b388",
   "metadata": {},
   "outputs": [],
   "source": [
    "class Solution:\n",
    "  def ambiguousCoordinates(self, S: str) -> List[str]:\n",
    "    def splits(S: str) -> List[str]:\n",
    "      if not S or len(S) > 1 and S[0] == S[-1] == '0':\n",
    "        return []\n",
    "      if S[-1] == '0':\n",
    "        return [S]\n",
    "      if S[0] == '0':\n",
    "        return [S[0] + '.' + S[1:]]\n",
    "      return [S] + [S[:i] + '.' + S[i:] for i in range(1, len(S))]\n",
    "\n",
    "    ans = []\n",
    "    S = S[1:-1]\n",
    "\n",
    "    for i in range(1, len(S)):\n",
    "      for x in splits(S[:i]):\n",
    "        for y in splits(S[i:]):\n",
    "          ans.append('(%s, %s)' % (x, y))\n",
    "\n",
    "    return ans"
   ]
  },
  {
   "cell_type": "code",
   "execution_count": null,
   "id": "755faa37",
   "metadata": {},
   "outputs": [],
   "source": [
    "new Solution().ambiguousCoordinates()"
   ]
  }
 ],
 "metadata": {},
 "nbformat": 4,
 "nbformat_minor": 5
}

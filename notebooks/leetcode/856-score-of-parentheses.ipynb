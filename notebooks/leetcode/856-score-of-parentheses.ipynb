{
 "cells": [
  {
   "cell_type": "markdown",
   "id": "e2d400f3",
   "metadata": {},
   "source": [
    "https://leetcode.com/problems/score-of-parentheses"
   ]
  },
  {
   "cell_type": "code",
   "execution_count": null,
   "id": "e732940f",
   "metadata": {},
   "outputs": [],
   "source": [
    "import pyutil as pyu\n",
    "pyu.get_local_pyinfo()"
   ]
  },
  {
   "cell_type": "code",
   "execution_count": null,
   "id": "26688e45",
   "metadata": {},
   "outputs": [],
   "source": [
    "print(pyu.ps2(\"python-dotenv\"))"
   ]
  },
  {
   "cell_type": "code",
   "execution_count": null,
   "id": "88e2592d",
   "metadata": {},
   "outputs": [],
   "source": [
    "from typing import List"
   ]
  },
  {
   "cell_type": "code",
   "execution_count": null,
   "id": "58e175df",
   "metadata": {},
   "outputs": [],
   "source": [
    "class Solution:\n",
    "  def scoreOfParentheses(self, S: str) -> int:\n",
    "    ans = 0\n",
    "    layer = 0\n",
    "\n",
    "    for a, b in zip(S, S[1:]):\n",
    "      if a + b == '()':\n",
    "        ans += 1 << layer\n",
    "      layer += 1 if a == '(' else -1\n",
    "\n",
    "    return ans"
   ]
  },
  {
   "cell_type": "code",
   "execution_count": null,
   "id": "6632e2e7",
   "metadata": {},
   "outputs": [],
   "source": [
    "new Solution().scoreOfParentheses()"
   ]
  }
 ],
 "metadata": {},
 "nbformat": 4,
 "nbformat_minor": 5
}

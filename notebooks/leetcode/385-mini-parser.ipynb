{
 "cells": [
  {
   "cell_type": "markdown",
   "id": "f1ab7f55",
   "metadata": {},
   "source": [
    "https://leetcode.com/problems/mini-parser"
   ]
  },
  {
   "cell_type": "code",
   "execution_count": null,
   "id": "09a55a2a",
   "metadata": {},
   "outputs": [],
   "source": [
    "import pyutil as pyu\n",
    "pyu.get_local_pyinfo()"
   ]
  },
  {
   "cell_type": "code",
   "execution_count": null,
   "id": "46ddded6",
   "metadata": {},
   "outputs": [],
   "source": [
    "print(pyu.ps2(\"python-dotenv\"))"
   ]
  },
  {
   "cell_type": "code",
   "execution_count": null,
   "id": "6c2c7bd7",
   "metadata": {},
   "outputs": [],
   "source": [
    "from typing import List"
   ]
  },
  {
   "cell_type": "code",
   "execution_count": null,
   "id": "c883f0f5",
   "metadata": {},
   "outputs": [],
   "source": [
    "class Solution:\n",
    "  def deserialize(self, s: str) -> NestedInteger:\n",
    "    if s[0] != '[':\n",
    "      return NestedInteger(int(s))\n",
    "\n",
    "    stack = []\n",
    "\n",
    "    for i, c in enumerate(s):\n",
    "      if c == '[':\n",
    "        stack.append(NestedInteger())\n",
    "        start = i + 1\n",
    "      elif c == ',':\n",
    "        if i > start:\n",
    "          num = int(s[start:i])\n",
    "          stack[-1].add(NestedInteger(num))\n",
    "        start = i + 1\n",
    "      elif c == ']':\n",
    "        popped = stack.pop()\n",
    "        if i > start:\n",
    "          num = int(s[start:i])\n",
    "          popped.add(NestedInteger(num))\n",
    "        if stack:\n",
    "          stack[-1].add(popped)\n",
    "        else:\n",
    "          return popped\n",
    "        start = i + 1"
   ]
  },
  {
   "cell_type": "code",
   "execution_count": null,
   "id": "09069daf",
   "metadata": {},
   "outputs": [],
   "source": [
    "new Solution().deserialize()"
   ]
  }
 ],
 "metadata": {},
 "nbformat": 4,
 "nbformat_minor": 5
}

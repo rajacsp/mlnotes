{
 "cells": [
  {
   "cell_type": "markdown",
   "id": "b8b75711",
   "metadata": {},
   "source": [
    "https://leetcode.com/problems/shopping-offers"
   ]
  },
  {
   "cell_type": "code",
   "execution_count": null,
   "id": "96754d20",
   "metadata": {},
   "outputs": [],
   "source": [
    "import pyutil as pyu\n",
    "pyu.get_local_pyinfo()"
   ]
  },
  {
   "cell_type": "code",
   "execution_count": null,
   "id": "533e8643",
   "metadata": {},
   "outputs": [],
   "source": [
    "print(pyu.ps2(\"python-dotenv\"))"
   ]
  },
  {
   "cell_type": "code",
   "execution_count": null,
   "id": "60f500e2",
   "metadata": {},
   "outputs": [],
   "source": [
    "from typing import List"
   ]
  },
  {
   "cell_type": "code",
   "execution_count": null,
   "id": "33b21778",
   "metadata": {},
   "outputs": [],
   "source": [
    "class Solution:\n",
    "  def shoppingOffers(self, price: List[int], special: List[List[int]], needs: List[int]) -> int:\n",
    "    def dfs(s: int) -> int:\n",
    "      ans = 0\n",
    "      for i, need in enumerate(needs):\n",
    "        ans += need * price[i]\n",
    "\n",
    "      for i in range(s, len(special)):\n",
    "        offer = special[i]\n",
    "        if all(offer[j] <= need for j, need in enumerate(needs)):\n",
    "          # Use special[i]\n",
    "          for j in range(len(needs)):\n",
    "            needs[j] -= offer[j]\n",
    "          ans = min(ans, offer[-1] + dfs(i))\n",
    "          # Backtracking - unuse special[i]\n",
    "          for j in range(len(needs)):\n",
    "            needs[j] += offer[j]\n",
    "\n",
    "      return ans\n",
    "\n",
    "    return dfs(0)"
   ]
  },
  {
   "cell_type": "code",
   "execution_count": null,
   "id": "aae6fc7a",
   "metadata": {},
   "outputs": [],
   "source": [
    "new Solution().shoppingOffers()"
   ]
  }
 ],
 "metadata": {},
 "nbformat": 4,
 "nbformat_minor": 5
}

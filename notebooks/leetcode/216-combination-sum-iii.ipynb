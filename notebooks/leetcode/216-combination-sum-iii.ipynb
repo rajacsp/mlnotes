{
 "cells": [
  {
   "cell_type": "markdown",
   "id": "aa026550",
   "metadata": {},
   "source": [
    "https://leetcode.com/problems/combination-sum-iii"
   ]
  },
  {
   "cell_type": "code",
   "execution_count": null,
   "id": "38c644a9",
   "metadata": {},
   "outputs": [],
   "source": [
    "import pyutil as pyu\n",
    "pyu.get_local_pyinfo()"
   ]
  },
  {
   "cell_type": "code",
   "execution_count": null,
   "id": "fdf0b2ef",
   "metadata": {},
   "outputs": [],
   "source": [
    "print(pyu.ps2(\"python-dotenv\"))"
   ]
  },
  {
   "cell_type": "code",
   "execution_count": null,
   "id": "85ff3778",
   "metadata": {},
   "outputs": [],
   "source": [
    "from typing import List"
   ]
  },
  {
   "cell_type": "code",
   "execution_count": null,
   "id": "46ba7372",
   "metadata": {},
   "outputs": [],
   "source": [
    "class Solution:\n",
    "  def combinationSum3(self, k: int, n: int) -> List[List[int]]:\n",
    "    ans = []\n",
    "\n",
    "    def dfs(k: int, n: int, s: int, path: List[int]) -> None:\n",
    "      if k == 0 and n == 0:\n",
    "        ans.append(path)\n",
    "        return\n",
    "      if k == 0 or n < 0:\n",
    "        return\n",
    "\n",
    "      for i in range(s, 10):\n",
    "        dfs(k - 1, n - i, i + 1, path + [i])\n",
    "\n",
    "    dfs(k, n, 1, [])\n",
    "    return ans"
   ]
  },
  {
   "cell_type": "code",
   "execution_count": null,
   "id": "fd501641",
   "metadata": {},
   "outputs": [],
   "source": [
    "new Solution().combinationSum3()"
   ]
  }
 ],
 "metadata": {},
 "nbformat": 4,
 "nbformat_minor": 5
}

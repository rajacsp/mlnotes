{
 "cells": [
  {
   "cell_type": "markdown",
   "id": "0f8fe5af",
   "metadata": {},
   "source": [
    "https://leetcode.com/problems/perfect-number"
   ]
  },
  {
   "cell_type": "code",
   "execution_count": null,
   "id": "b7457e8b",
   "metadata": {},
   "outputs": [],
   "source": [
    "import pyutil as pyu\n",
    "pyu.get_local_pyinfo()"
   ]
  },
  {
   "cell_type": "code",
   "execution_count": null,
   "id": "ad8bd31d",
   "metadata": {},
   "outputs": [],
   "source": [
    "print(pyu.ps2(\"python-dotenv\"))"
   ]
  },
  {
   "cell_type": "code",
   "execution_count": null,
   "id": "fce82bf2",
   "metadata": {},
   "outputs": [],
   "source": [
    "from typing import List"
   ]
  },
  {
   "cell_type": "code",
   "execution_count": null,
   "id": "d0869fc3",
   "metadata": {},
   "outputs": [],
   "source": [
    "class Solution:\n",
    "  def checkPerfectNumber(self, num: int) -> bool:\n",
    "    return num in {6, 28, 496, 8128, 33550336}"
   ]
  },
  {
   "cell_type": "code",
   "execution_count": null,
   "id": "79168979",
   "metadata": {},
   "outputs": [],
   "source": [
    "new Solution().checkPerfectNumber()"
   ]
  }
 ],
 "metadata": {},
 "nbformat": 4,
 "nbformat_minor": 5
}

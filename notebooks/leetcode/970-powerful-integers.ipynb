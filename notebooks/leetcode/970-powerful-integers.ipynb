{
 "cells": [
  {
   "cell_type": "markdown",
   "id": "fe5e4994",
   "metadata": {},
   "source": [
    "https://leetcode.com/problems/powerful-integers"
   ]
  },
  {
   "cell_type": "code",
   "execution_count": null,
   "id": "f2619607",
   "metadata": {},
   "outputs": [],
   "source": [
    "import pyutil as pyu\n",
    "pyu.get_local_pyinfo()"
   ]
  },
  {
   "cell_type": "code",
   "execution_count": null,
   "id": "ecd1cb32",
   "metadata": {},
   "outputs": [],
   "source": [
    "print(pyu.ps2(\"python-dotenv\"))"
   ]
  },
  {
   "cell_type": "code",
   "execution_count": null,
   "id": "bb66fe83",
   "metadata": {},
   "outputs": [],
   "source": [
    "from typing import List"
   ]
  },
  {
   "cell_type": "code",
   "execution_count": null,
   "id": "2105326f",
   "metadata": {},
   "outputs": [],
   "source": [
    "class Solution:\n",
    "  def powerfulIntegers(self, x: int, y: int, bound: int) -> List[int]:\n",
    "    xs = {x**i for i in range(20) if x**i < bound}\n",
    "    ys = {y**i for i in range(20) if y**i < bound}\n",
    "    return list({i + j for i in xs for j in ys if i + j <= bound})"
   ]
  },
  {
   "cell_type": "code",
   "execution_count": null,
   "id": "0724ca0b",
   "metadata": {},
   "outputs": [],
   "source": [
    "new Solution().powerfulIntegers()"
   ]
  }
 ],
 "metadata": {},
 "nbformat": 4,
 "nbformat_minor": 5
}

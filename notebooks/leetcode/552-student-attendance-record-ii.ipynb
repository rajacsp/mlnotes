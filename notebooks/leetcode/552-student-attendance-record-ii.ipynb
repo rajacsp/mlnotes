{
 "cells": [
  {
   "cell_type": "markdown",
   "id": "8fa4a77b",
   "metadata": {},
   "source": [
    "https://leetcode.com/problems/student-attendance-record-ii"
   ]
  },
  {
   "cell_type": "code",
   "execution_count": null,
   "id": "c74023a4",
   "metadata": {},
   "outputs": [],
   "source": [
    "import pyutil as pyu\n",
    "pyu.get_local_pyinfo()"
   ]
  },
  {
   "cell_type": "code",
   "execution_count": null,
   "id": "9afefc99",
   "metadata": {},
   "outputs": [],
   "source": [
    "print(pyu.ps2(\"python-dotenv\"))"
   ]
  },
  {
   "cell_type": "code",
   "execution_count": null,
   "id": "1d79f49a",
   "metadata": {},
   "outputs": [],
   "source": [
    "from typing import List"
   ]
  },
  {
   "cell_type": "code",
   "execution_count": null,
   "id": "a43b8281",
   "metadata": {},
   "outputs": [],
   "source": [
    "class Solution:\n",
    "  def checkRecord(self, n: int) -> int:\n",
    "    kMod = 1_000_000_007\n",
    "    # dp[i][j] := length so far w/ i A's and the latest chars are j L's\n",
    "    dp = [[0] * 3 for _ in range(2)]\n",
    "    dp[0][0] = 1\n",
    "\n",
    "    for _ in range(n):\n",
    "      prev = [A[:] for A in dp]\n",
    "\n",
    "      # Append P\n",
    "      dp[0][0] = (prev[0][0] + prev[0][1] + prev[0][2]) % kMod\n",
    "\n",
    "      # Append L\n",
    "      dp[0][1] = prev[0][0]\n",
    "\n",
    "      # Append L\n",
    "      dp[0][2] = prev[0][1]\n",
    "\n",
    "      # Append A or append P\n",
    "      dp[1][0] = (prev[0][0] + prev[0][1] + prev[0][2] +\n",
    "                  prev[1][0] + prev[1][1] + prev[1][2]) % kMod\n",
    "\n",
    "      # Append L\n",
    "      dp[1][1] = prev[1][0]\n",
    "\n",
    "      # Append L\n",
    "      dp[1][2] = prev[1][1]\n",
    "\n",
    "    return (sum(dp[0]) + sum(dp[1])) % kMod"
   ]
  },
  {
   "cell_type": "code",
   "execution_count": null,
   "id": "6aec127f",
   "metadata": {},
   "outputs": [],
   "source": [
    "new Solution().checkRecord()"
   ]
  }
 ],
 "metadata": {},
 "nbformat": 4,
 "nbformat_minor": 5
}

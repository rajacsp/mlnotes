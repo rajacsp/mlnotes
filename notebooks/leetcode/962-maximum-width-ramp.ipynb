{
 "cells": [
  {
   "cell_type": "markdown",
   "id": "f253a750",
   "metadata": {},
   "source": [
    "https://leetcode.com/problems/maximum-width-ramp"
   ]
  },
  {
   "cell_type": "code",
   "execution_count": null,
   "id": "8156a619",
   "metadata": {},
   "outputs": [],
   "source": [
    "import pyutil as pyu\n",
    "pyu.get_local_pyinfo()"
   ]
  },
  {
   "cell_type": "code",
   "execution_count": null,
   "id": "ca484220",
   "metadata": {},
   "outputs": [],
   "source": [
    "print(pyu.ps2(\"python-dotenv\"))"
   ]
  },
  {
   "cell_type": "code",
   "execution_count": null,
   "id": "c67a4b51",
   "metadata": {},
   "outputs": [],
   "source": [
    "from typing import List"
   ]
  },
  {
   "cell_type": "code",
   "execution_count": null,
   "id": "a6432140",
   "metadata": {},
   "outputs": [],
   "source": [
    "class Solution:\n",
    "  def maxWidthRamp(self, nums: List[int]) -> int:\n",
    "    ans = 0\n",
    "    stack = []\n",
    "\n",
    "    for i, num in enumerate(nums):\n",
    "      if stack == [] or num <= nums[stack[-1]]:\n",
    "        stack.append(i)\n",
    "\n",
    "    for i, num in reversed(list(enumerate(nums))):\n",
    "      while stack and num >= nums[stack[-1]]:\n",
    "        ans = max(ans, i - stack.pop())\n",
    "\n",
    "    return ans"
   ]
  },
  {
   "cell_type": "code",
   "execution_count": null,
   "id": "60547d9f",
   "metadata": {},
   "outputs": [],
   "source": [
    "new Solution().maxWidthRamp()"
   ]
  }
 ],
 "metadata": {},
 "nbformat": 4,
 "nbformat_minor": 5
}

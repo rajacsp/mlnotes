{
 "cells": [
  {
   "cell_type": "markdown",
   "id": "7914d220",
   "metadata": {},
   "source": [
    "https://leetcode.com/problems/validate-stack-sequences"
   ]
  },
  {
   "cell_type": "code",
   "execution_count": null,
   "id": "dcd141b4",
   "metadata": {},
   "outputs": [],
   "source": [
    "import pyutil as pyu\n",
    "pyu.get_local_pyinfo()"
   ]
  },
  {
   "cell_type": "code",
   "execution_count": null,
   "id": "90efb65f",
   "metadata": {},
   "outputs": [],
   "source": [
    "print(pyu.ps2(\"python-dotenv\"))"
   ]
  },
  {
   "cell_type": "code",
   "execution_count": null,
   "id": "488691ed",
   "metadata": {},
   "outputs": [],
   "source": [
    "from typing import List"
   ]
  },
  {
   "cell_type": "code",
   "execution_count": null,
   "id": "b305782a",
   "metadata": {},
   "outputs": [],
   "source": [
    "class Solution:\n",
    "  def validateStackSequences(self, pushed: List[int], popped: List[int]) -> bool:\n",
    "    stack = []\n",
    "    i = 0  # popped's index\n",
    "\n",
    "    for x in pushed:\n",
    "      stack.append(x)\n",
    "      while stack and stack[-1] == popped[i]:\n",
    "        stack.pop()\n",
    "        i += 1\n",
    "\n",
    "    return not stack"
   ]
  },
  {
   "cell_type": "code",
   "execution_count": null,
   "id": "38a57f47",
   "metadata": {},
   "outputs": [],
   "source": [
    "new Solution().validateStackSequences()"
   ]
  }
 ],
 "metadata": {},
 "nbformat": 4,
 "nbformat_minor": 5
}

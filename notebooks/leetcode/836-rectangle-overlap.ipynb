{
 "cells": [
  {
   "cell_type": "markdown",
   "id": "41c79cd6",
   "metadata": {},
   "source": [
    "https://leetcode.com/problems/rectangle-overlap"
   ]
  },
  {
   "cell_type": "code",
   "execution_count": null,
   "id": "6a97fcac",
   "metadata": {},
   "outputs": [],
   "source": [
    "import pyutil as pyu\n",
    "pyu.get_local_pyinfo()"
   ]
  },
  {
   "cell_type": "code",
   "execution_count": null,
   "id": "09277cd6",
   "metadata": {},
   "outputs": [],
   "source": [
    "print(pyu.ps2(\"python-dotenv\"))"
   ]
  },
  {
   "cell_type": "code",
   "execution_count": null,
   "id": "e976d0fd",
   "metadata": {},
   "outputs": [],
   "source": [
    "from typing import List"
   ]
  },
  {
   "cell_type": "code",
   "execution_count": null,
   "id": "2208934d",
   "metadata": {},
   "outputs": [],
   "source": [
    "class Solution:\n",
    "  def isRectangleOverlap(self, rec1: List[int], rec2: List[int]) -> bool:\n",
    "    return rec1[0] < rec2[2] and rec2[0] < rec1[2] and rec1[1] < rec2[3] and rec2[1] < rec1[3]"
   ]
  },
  {
   "cell_type": "code",
   "execution_count": null,
   "id": "22c2dd60",
   "metadata": {},
   "outputs": [],
   "source": [
    "new Solution().isRectangleOverlap()"
   ]
  }
 ],
 "metadata": {},
 "nbformat": 4,
 "nbformat_minor": 5
}

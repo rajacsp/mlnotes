{
 "cells": [
  {
   "cell_type": "markdown",
   "id": "6808f302",
   "metadata": {},
   "source": [
    "https://leetcode.com/problems/asteroid-collision"
   ]
  },
  {
   "cell_type": "code",
   "execution_count": null,
   "id": "4bd720db",
   "metadata": {},
   "outputs": [],
   "source": [
    "import pyutil as pyu\n",
    "pyu.get_local_pyinfo()"
   ]
  },
  {
   "cell_type": "code",
   "execution_count": null,
   "id": "d1511299",
   "metadata": {},
   "outputs": [],
   "source": [
    "print(pyu.ps2(\"python-dotenv\"))"
   ]
  },
  {
   "cell_type": "code",
   "execution_count": null,
   "id": "de72d590",
   "metadata": {},
   "outputs": [],
   "source": [
    "from typing import List"
   ]
  },
  {
   "cell_type": "code",
   "execution_count": null,
   "id": "d158c346",
   "metadata": {},
   "outputs": [],
   "source": [
    "class Solution:\n",
    "  def asteroidCollision(self, asteroids: List[int]) -> List[int]:\n",
    "    stack = []\n",
    "\n",
    "    for a in asteroids:\n",
    "      if a > 0:\n",
    "        stack.append(a)\n",
    "      else:  # A < 0\n",
    "        # Destroy previous positive one(s)\n",
    "        while stack and stack[-1] > 0 and stack[-1] < -a:\n",
    "          stack.pop()\n",
    "        if not stack or stack[-1] < 0:\n",
    "          stack.append(a)\n",
    "        elif stack[-1] == -a:\n",
    "          stack.pop()  # Both explode\n",
    "        else:  # stack[-1] > current\n",
    "          pass  # Destroy current, so do nothing\n",
    "\n",
    "    return stack"
   ]
  },
  {
   "cell_type": "code",
   "execution_count": null,
   "id": "67f958a0",
   "metadata": {},
   "outputs": [],
   "source": [
    "new Solution().asteroidCollision()"
   ]
  }
 ],
 "metadata": {},
 "nbformat": 4,
 "nbformat_minor": 5
}

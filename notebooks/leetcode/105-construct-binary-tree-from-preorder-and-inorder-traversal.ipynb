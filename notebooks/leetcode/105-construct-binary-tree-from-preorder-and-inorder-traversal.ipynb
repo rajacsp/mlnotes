{
 "cells": [
  {
   "cell_type": "markdown",
   "id": "b9202d90",
   "metadata": {},
   "source": [
    "https://leetcode.com/problems/construct-binary-tree-from-preorder-and-inorder-traversal"
   ]
  },
  {
   "cell_type": "code",
   "execution_count": null,
   "id": "f2a69c2e",
   "metadata": {},
   "outputs": [],
   "source": [
    "import pyutil as pyu\n",
    "pyu.get_local_pyinfo()"
   ]
  },
  {
   "cell_type": "code",
   "execution_count": null,
   "id": "46dd2ad6",
   "metadata": {},
   "outputs": [],
   "source": [
    "print(pyu.ps2(\"python-dotenv\"))"
   ]
  },
  {
   "cell_type": "code",
   "execution_count": null,
   "id": "a6a78045",
   "metadata": {},
   "outputs": [],
   "source": [
    "from typing import List"
   ]
  },
  {
   "cell_type": "code",
   "execution_count": null,
   "id": "c854e8a7",
   "metadata": {},
   "outputs": [],
   "source": [
    "class Solution:\n",
    "  def buildTree(self, preorder: List[int], inorder: List[int]) -> Optional[TreeNode]:\n",
    "    inToIndex = {num: i for i, num in enumerate(inorder)}\n",
    "\n",
    "    def build(preStart: int, preEnd: int, inStart: int, inEnd: int) -> Optional[TreeNode]:\n",
    "      if preStart > preEnd:\n",
    "        return None\n",
    "\n",
    "      rootVal = preorder[preStart]\n",
    "      rootInIndex = inToIndex[rootVal]\n",
    "      leftSize = rootInIndex - inStart\n",
    "\n",
    "      root = TreeNode(rootVal)\n",
    "      root.left = build(preStart + 1, preStart + leftSize,\n",
    "                        inStart, rootInIndex - 1)\n",
    "      root.right = build(preStart + leftSize + 1,\n",
    "                         preEnd, rootInIndex + 1, inEnd)\n",
    "      return root\n",
    "\n",
    "    return build(0, len(preorder) - 1, 0, len(inorder) - 1)"
   ]
  },
  {
   "cell_type": "code",
   "execution_count": null,
   "id": "a7ff7a28",
   "metadata": {},
   "outputs": [],
   "source": [
    "new Solution().buildTree()"
   ]
  }
 ],
 "metadata": {},
 "nbformat": 4,
 "nbformat_minor": 5
}

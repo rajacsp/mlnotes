{
 "cells": [
  {
   "cell_type": "markdown",
   "id": "a93157d7",
   "metadata": {},
   "source": [
    "https://leetcode.com/problems/search-insert-position"
   ]
  },
  {
   "cell_type": "code",
   "execution_count": null,
   "id": "cb9cd177",
   "metadata": {},
   "outputs": [],
   "source": [
    "import pyutil as pyu\n",
    "pyu.get_local_pyinfo()"
   ]
  },
  {
   "cell_type": "code",
   "execution_count": null,
   "id": "219e83dd",
   "metadata": {},
   "outputs": [],
   "source": [
    "print(pyu.ps2(\"python-dotenv\"))"
   ]
  },
  {
   "cell_type": "code",
   "execution_count": null,
   "id": "27b9477f",
   "metadata": {},
   "outputs": [],
   "source": [
    "from typing import List"
   ]
  },
  {
   "cell_type": "code",
   "execution_count": null,
   "id": "47dca7cc",
   "metadata": {},
   "outputs": [],
   "source": [
    "class Solution:\n",
    "  def searchInsert(self, nums: List[int], target: int) -> int:\n",
    "    l = 0\n",
    "    r = len(nums)\n",
    "\n",
    "    while l < r:\n",
    "      m = (l + r) // 2\n",
    "      if nums[m] == target:\n",
    "        return m\n",
    "      if nums[m] < target:\n",
    "        l = m + 1\n",
    "      else:\n",
    "        r = m\n",
    "\n",
    "    return l"
   ]
  },
  {
   "cell_type": "code",
   "execution_count": null,
   "id": "c7300609",
   "metadata": {},
   "outputs": [],
   "source": [
    "new Solution().searchInsert()"
   ]
  }
 ],
 "metadata": {},
 "nbformat": 4,
 "nbformat_minor": 5
}

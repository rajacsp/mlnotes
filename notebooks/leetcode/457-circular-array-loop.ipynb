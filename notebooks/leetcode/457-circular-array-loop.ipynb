{
 "cells": [
  {
   "cell_type": "markdown",
   "id": "5e340f9f",
   "metadata": {},
   "source": [
    "https://leetcode.com/problems/circular-array-loop"
   ]
  },
  {
   "cell_type": "code",
   "execution_count": null,
   "id": "2fd9fda0",
   "metadata": {},
   "outputs": [],
   "source": [
    "import pyutil as pyu\n",
    "pyu.get_local_pyinfo()"
   ]
  },
  {
   "cell_type": "code",
   "execution_count": null,
   "id": "06c17e41",
   "metadata": {},
   "outputs": [],
   "source": [
    "print(pyu.ps2(\"python-dotenv\"))"
   ]
  },
  {
   "cell_type": "code",
   "execution_count": null,
   "id": "10ed16a3",
   "metadata": {},
   "outputs": [],
   "source": [
    "from typing import List"
   ]
  },
  {
   "cell_type": "code",
   "execution_count": null,
   "id": "e82fe834",
   "metadata": {},
   "outputs": [],
   "source": [
    "class Solution:\n",
    "  def circularArrayLoop(self, nums: List[int]) -> bool:\n",
    "    def advance(i: int) -> int:\n",
    "      return (i + nums[i]) % len(nums)\n",
    "\n",
    "    if len(nums) < 2:\n",
    "      return False\n",
    "\n",
    "    for i, num in enumerate(nums):\n",
    "      if num == 0:\n",
    "        continue\n",
    "\n",
    "      slow = i\n",
    "      fast = advance(slow)\n",
    "      while num * nums[fast] > 0 and num * nums[advance(fast)] > 0:\n",
    "        if slow == fast:\n",
    "          if slow == advance(slow):\n",
    "            break\n",
    "          return True\n",
    "        slow = advance(slow)\n",
    "        fast = advance(advance(fast))\n",
    "\n",
    "      slow = i\n",
    "      sign = num\n",
    "      while sign * nums[slow] > 0:\n",
    "        next = advance(slow)\n",
    "        nums[slow] = 0\n",
    "        slow = next\n",
    "\n",
    "    return False"
   ]
  },
  {
   "cell_type": "code",
   "execution_count": null,
   "id": "8fa6a619",
   "metadata": {},
   "outputs": [],
   "source": [
    "new Solution().circularArrayLoop()"
   ]
  }
 ],
 "metadata": {},
 "nbformat": 4,
 "nbformat_minor": 5
}

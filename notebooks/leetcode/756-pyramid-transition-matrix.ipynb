{
 "cells": [
  {
   "cell_type": "markdown",
   "id": "3bfa65ed",
   "metadata": {},
   "source": [
    "https://leetcode.com/problems/pyramid-transition-matrix"
   ]
  },
  {
   "cell_type": "code",
   "execution_count": null,
   "id": "da219897",
   "metadata": {},
   "outputs": [],
   "source": [
    "import pyutil as pyu\n",
    "pyu.get_local_pyinfo()"
   ]
  },
  {
   "cell_type": "code",
   "execution_count": null,
   "id": "fab2669c",
   "metadata": {},
   "outputs": [],
   "source": [
    "print(pyu.ps2(\"python-dotenv\"))"
   ]
  },
  {
   "cell_type": "code",
   "execution_count": null,
   "id": "fdb20df0",
   "metadata": {},
   "outputs": [],
   "source": [
    "from typing import List"
   ]
  },
  {
   "cell_type": "code",
   "execution_count": null,
   "id": "51dd0f96",
   "metadata": {},
   "outputs": [],
   "source": [
    "class Solution:\n",
    "  def pyramidTransition(self, bottom: str, allowed: List[str]) -> bool:\n",
    "    prefixToBlocks = defaultdict(list)\n",
    "\n",
    "    for a in allowed:\n",
    "      prefixToBlocks[a[:2]].append(a[2])\n",
    "\n",
    "    def dfs(row: str, nextRow: str, i: int) -> bool:\n",
    "      if len(row) == 1:\n",
    "        return True\n",
    "      if len(nextRow) + 1 == len(row):\n",
    "        return dfs(nextRow, '', 0)\n",
    "\n",
    "      for c in prefixToBlocks[row[i:i + 2]]:\n",
    "        if dfs(row, nextRow + c, i + 1):\n",
    "          return True\n",
    "\n",
    "      return False\n",
    "\n",
    "    return dfs(bottom, '', 0)"
   ]
  },
  {
   "cell_type": "code",
   "execution_count": null,
   "id": "4c9f5148",
   "metadata": {},
   "outputs": [],
   "source": [
    "new Solution().pyramidTransition()"
   ]
  }
 ],
 "metadata": {},
 "nbformat": 4,
 "nbformat_minor": 5
}

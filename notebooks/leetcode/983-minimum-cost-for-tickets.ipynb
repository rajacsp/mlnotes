{
 "cells": [
  {
   "cell_type": "markdown",
   "id": "d5c8062f",
   "metadata": {},
   "source": [
    "https://leetcode.com/problems/minimum-cost-for-tickets"
   ]
  },
  {
   "cell_type": "code",
   "execution_count": null,
   "id": "227fa622",
   "metadata": {},
   "outputs": [],
   "source": [
    "import pyutil as pyu\n",
    "pyu.get_local_pyinfo()"
   ]
  },
  {
   "cell_type": "code",
   "execution_count": null,
   "id": "0ea5ba00",
   "metadata": {},
   "outputs": [],
   "source": [
    "print(pyu.ps2(\"python-dotenv\"))"
   ]
  },
  {
   "cell_type": "code",
   "execution_count": null,
   "id": "069374bf",
   "metadata": {},
   "outputs": [],
   "source": [
    "from typing import List"
   ]
  },
  {
   "cell_type": "code",
   "execution_count": null,
   "id": "829e1a55",
   "metadata": {},
   "outputs": [],
   "source": [
    "class Solution:\n",
    "  def mincostTickets(self, days: List[int], costs: List[int]) -> int:\n",
    "    ans = 0\n",
    "    last7 = deque()\n",
    "    last30 = deque()\n",
    "\n",
    "    for day in days:\n",
    "      while last7 and last7[0][0] + 7 <= day:\n",
    "        last7.popleft()\n",
    "      while last30 and last30[0][0] + 30 <= day:\n",
    "        last30.popleft()\n",
    "      last7.append([day, ans + costs[1]])\n",
    "      last30.append([day, ans + costs[2]])\n",
    "      ans = min(ans + costs[0], last7[0][1], last30[0][1])\n",
    "\n",
    "    return ans"
   ]
  },
  {
   "cell_type": "code",
   "execution_count": null,
   "id": "314bfea3",
   "metadata": {},
   "outputs": [],
   "source": [
    "new Solution().mincostTickets()"
   ]
  }
 ],
 "metadata": {},
 "nbformat": 4,
 "nbformat_minor": 5
}

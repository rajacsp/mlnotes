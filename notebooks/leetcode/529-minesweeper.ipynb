{
 "cells": [
  {
   "cell_type": "markdown",
   "id": "d573a469",
   "metadata": {},
   "source": [
    "https://leetcode.com/problems/minesweeper"
   ]
  },
  {
   "cell_type": "code",
   "execution_count": null,
   "id": "17772000",
   "metadata": {},
   "outputs": [],
   "source": [
    "import pyutil as pyu\n",
    "pyu.get_local_pyinfo()"
   ]
  },
  {
   "cell_type": "code",
   "execution_count": null,
   "id": "a0d52079",
   "metadata": {},
   "outputs": [],
   "source": [
    "print(pyu.ps2(\"python-dotenv\"))"
   ]
  },
  {
   "cell_type": "code",
   "execution_count": null,
   "id": "1a858e2f",
   "metadata": {},
   "outputs": [],
   "source": [
    "from typing import List"
   ]
  },
  {
   "cell_type": "code",
   "execution_count": null,
   "id": "3d00cd41",
   "metadata": {},
   "outputs": [],
   "source": [
    "class Solution:\n",
    "  def updateBoard(self, board: List[List[str]], click: List[int]) -> List[List[str]]:\n",
    "    if board[click[0]][click[1]] == 'M':\n",
    "      board[click[0]][click[1]] = 'X'\n",
    "      return board\n",
    "\n",
    "    dirs = [(-1, -1), (-1, 0), (-1, 1), (0, -1),\n",
    "            (0, 1), (1, -1), (1, 0), (1, 1)]\n",
    "\n",
    "    def getMinesCount(i: int, j: int) -> int:\n",
    "      minesCount = 0\n",
    "      for dx, dy in dirs:\n",
    "        x = i + dx\n",
    "        y = j + dy\n",
    "        if x < 0 or x == len(board) or y < 0 or y == len(board[0]):\n",
    "          continue\n",
    "        if board[x][y] == 'M':\n",
    "          minesCount += 1\n",
    "      return minesCount\n",
    "\n",
    "    def dfs(i: int, j: int) -> None:\n",
    "      if i < 0 or i == len(board) or j < 0 or j == len(board[0]):\n",
    "        return\n",
    "      if board[i][j] != 'E':\n",
    "        return\n",
    "\n",
    "      minesCount = getMinesCount(i, j)\n",
    "      board[i][j] = 'B' if minesCount == 0 else str(minesCount)\n",
    "\n",
    "      if minesCount == 0:\n",
    "        for dx, dy in dirs:\n",
    "          dfs(i + dx, j + dy)\n",
    "\n",
    "    dfs(click[0], click[1])\n",
    "\n",
    "    return board"
   ]
  },
  {
   "cell_type": "code",
   "execution_count": null,
   "id": "c79b7c32",
   "metadata": {},
   "outputs": [],
   "source": [
    "new Solution().updateBoard()"
   ]
  }
 ],
 "metadata": {},
 "nbformat": 4,
 "nbformat_minor": 5
}

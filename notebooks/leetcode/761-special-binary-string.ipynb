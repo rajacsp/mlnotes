{
 "cells": [
  {
   "cell_type": "markdown",
   "id": "50765496",
   "metadata": {},
   "source": [
    "https://leetcode.com/problems/special-binary-string"
   ]
  },
  {
   "cell_type": "code",
   "execution_count": null,
   "id": "3f620619",
   "metadata": {},
   "outputs": [],
   "source": [
    "import pyutil as pyu\n",
    "pyu.get_local_pyinfo()"
   ]
  },
  {
   "cell_type": "code",
   "execution_count": null,
   "id": "418932b4",
   "metadata": {},
   "outputs": [],
   "source": [
    "print(pyu.ps2(\"python-dotenv\"))"
   ]
  },
  {
   "cell_type": "code",
   "execution_count": null,
   "id": "d93d0865",
   "metadata": {},
   "outputs": [],
   "source": [
    "from typing import List"
   ]
  },
  {
   "cell_type": "code",
   "execution_count": null,
   "id": "7bf75c49",
   "metadata": {},
   "outputs": [],
   "source": [
    "class Solution:\n",
    "  def makeLargestSpecial(self, S: str) -> str:\n",
    "    specials = []\n",
    "    count = 0\n",
    "\n",
    "    i = 0\n",
    "    for j, c in enumerate(S):\n",
    "      count += 1 if c == '1' else -1\n",
    "      if count == 0:\n",
    "        specials.append(\n",
    "            '1' + self.makeLargestSpecial(S[i + 1:j]) + '0')\n",
    "        i = j + 1\n",
    "\n",
    "    return ''.join(sorted(specials)[::-1])"
   ]
  },
  {
   "cell_type": "code",
   "execution_count": null,
   "id": "4889f1f7",
   "metadata": {},
   "outputs": [],
   "source": [
    "new Solution().makeLargestSpecial()"
   ]
  }
 ],
 "metadata": {},
 "nbformat": 4,
 "nbformat_minor": 5
}

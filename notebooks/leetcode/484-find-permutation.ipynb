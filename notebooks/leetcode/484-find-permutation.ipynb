{
 "cells": [
  {
   "cell_type": "markdown",
   "id": "665c48f5",
   "metadata": {},
   "source": [
    "https://leetcode.com/problems/find-permutation"
   ]
  },
  {
   "cell_type": "code",
   "execution_count": null,
   "id": "c4cc704b",
   "metadata": {},
   "outputs": [],
   "source": [
    "import pyutil as pyu\n",
    "pyu.get_local_pyinfo()"
   ]
  },
  {
   "cell_type": "code",
   "execution_count": null,
   "id": "1ac21e60",
   "metadata": {},
   "outputs": [],
   "source": [
    "print(pyu.ps2(\"python-dotenv\"))"
   ]
  },
  {
   "cell_type": "code",
   "execution_count": null,
   "id": "7957ff73",
   "metadata": {},
   "outputs": [],
   "source": [
    "from typing import List"
   ]
  },
  {
   "cell_type": "code",
   "execution_count": null,
   "id": "51569d46",
   "metadata": {},
   "outputs": [],
   "source": [
    "class Solution:\n",
    "  def findPermutation(self, s: str) -> List[int]:\n",
    "    ans = []\n",
    "    stack = []\n",
    "\n",
    "    for i, c in enumerate(s):\n",
    "      stack.append(i + 1)\n",
    "      if c == 'I':\n",
    "        while stack:  # Consume all decreasings\n",
    "          ans.append(stack.pop())\n",
    "    stack.append(len(s) + 1)\n",
    "\n",
    "    while stack:\n",
    "      ans.append(stack.pop())\n",
    "\n",
    "    return ans"
   ]
  },
  {
   "cell_type": "code",
   "execution_count": null,
   "id": "fd4dd7c5",
   "metadata": {},
   "outputs": [],
   "source": [
    "new Solution().findPermutation()"
   ]
  }
 ],
 "metadata": {},
 "nbformat": 4,
 "nbformat_minor": 5
}

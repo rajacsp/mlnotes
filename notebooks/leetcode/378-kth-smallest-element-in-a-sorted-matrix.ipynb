{
 "cells": [
  {
   "cell_type": "markdown",
   "id": "ac1e3288",
   "metadata": {},
   "source": [
    "https://leetcode.com/problems/kth-smallest-element-in-a-sorted-matrix"
   ]
  },
  {
   "cell_type": "code",
   "execution_count": null,
   "id": "bc859e2e",
   "metadata": {},
   "outputs": [],
   "source": [
    "import pyutil as pyu\n",
    "pyu.get_local_pyinfo()"
   ]
  },
  {
   "cell_type": "code",
   "execution_count": null,
   "id": "a8f0d032",
   "metadata": {},
   "outputs": [],
   "source": [
    "print(pyu.ps2(\"python-dotenv\"))"
   ]
  },
  {
   "cell_type": "code",
   "execution_count": null,
   "id": "bb464be9",
   "metadata": {},
   "outputs": [],
   "source": [
    "from typing import List"
   ]
  },
  {
   "cell_type": "code",
   "execution_count": null,
   "id": "4d4e1a00",
   "metadata": {},
   "outputs": [],
   "source": [
    "class Solution:\n",
    "  def kthSmallest(self, matrix: List[List[int]], k: int) -> int:\n",
    "    minHeap = []  # (matrix[i][j], i, j)\n",
    "\n",
    "    i = 0\n",
    "    while i < k and i < len(matrix):\n",
    "      heapq.heappush(minHeap, (matrix[i][0], i, 0))\n",
    "      i += 1\n",
    "\n",
    "    while k > 1:\n",
    "      k -= 1\n",
    "      _, i, j = heapq.heappop(minHeap)\n",
    "      if j + 1 < len(matrix[0]):\n",
    "        heapq.heappush(minHeap, (matrix[i][j + 1], i, j + 1))\n",
    "\n",
    "    return minHeap[0][0]"
   ]
  },
  {
   "cell_type": "code",
   "execution_count": null,
   "id": "ad26391b",
   "metadata": {},
   "outputs": [],
   "source": [
    "new Solution().kthSmallest()"
   ]
  }
 ],
 "metadata": {},
 "nbformat": 4,
 "nbformat_minor": 5
}

{
 "cells": [
  {
   "cell_type": "code",
   "execution_count": 4,
   "id": "db25c914-1252-4bae-8dbe-3a20e361bd73",
   "metadata": {},
   "outputs": [],
   "source": [
    "# https://leetcode.com/problems/regular-expression-matching/description/"
   ]
  },
  {
   "cell_type": "code",
   "execution_count": 2,
   "id": "0c10588e-e9e7-4b8c-b92b-91104a273df0",
   "metadata": {},
   "outputs": [
    {
     "data": {
      "text/plain": [
       "'conda env: ml311; pyv: 3.11.10 (main, Oct  3 2024, 07:29:13) [GCC 11.2.0]'"
      ]
     },
     "execution_count": 2,
     "metadata": {},
     "output_type": "execute_result"
    }
   ],
   "source": [
    "import pyutil as pyu\n",
    "pyu.get_local_pyinfo()"
   ]
  },
  {
   "cell_type": "code",
   "execution_count": 4,
   "id": "c2ccb592-b983-4856-a241-5898cab06699",
   "metadata": {},
   "outputs": [],
   "source": [
    "# print(pyu.ps2(\"scipy\"))"
   ]
  },
  {
   "cell_type": "code",
   "execution_count": null,
   "id": "e290a4be-0793-4902-b10b-44429cb937f9",
   "metadata": {},
   "outputs": [],
   "source": []
  },
  {
   "cell_type": "code",
   "execution_count": 1,
   "id": "2254118f-d279-4865-9ef8-74018c0d0bff",
   "metadata": {},
   "outputs": [],
   "source": [
    "class Solution:\n",
    "  def isMatch(self, s: str, p: str) -> bool:\n",
    "    m = len(s)\n",
    "    n = len(p)\n",
    "    # dp[i][j] := True if s[0..i) matches p[0..j)\n",
    "    dp = [[False] * (n + 1) for _ in range(m + 1)]\n",
    "    dp[0][0] = True\n",
    "\n",
    "    def isMatch(i: int, j: int) -> bool:\n",
    "      return j >= 0 and p[j] == '.' or s[i] == p[j]\n",
    "\n",
    "    for j, c in enumerate(p):\n",
    "      if c == '*' and dp[0][j - 1]:\n",
    "        dp[0][j + 1] = True\n",
    "\n",
    "    for i in range(m):\n",
    "      for j in range(n):\n",
    "        if p[j] == '*':\n",
    "          noRepeat = dp[i + 1][j - 1]  # Min index of '*' is 1\n",
    "          doRepeat = isMatch(i, j - 1) and dp[i][j + 1]\n",
    "          dp[i + 1][j + 1] = noRepeat or doRepeat\n",
    "        elif isMatch(i, j):\n",
    "          dp[i + 1][j + 1] = dp[i][j]\n",
    "\n",
    "    return dp[m][n]"
   ]
  },
  {
   "cell_type": "code",
   "execution_count": 2,
   "id": "b7c8b16b-1f70-4df3-90d5-a107bd15d641",
   "metadata": {},
   "outputs": [
    {
     "data": {
      "text/plain": [
       "False"
      ]
     },
     "execution_count": 2,
     "metadata": {},
     "output_type": "execute_result"
    }
   ],
   "source": [
    "Solution().isMatch(\"aa\", \"a\")"
   ]
  },
  {
   "cell_type": "code",
   "execution_count": 3,
   "id": "e852b0a6-a323-4004-8a0c-e8cd84e5b663",
   "metadata": {},
   "outputs": [
    {
     "data": {
      "text/plain": [
       "True"
      ]
     },
     "execution_count": 3,
     "metadata": {},
     "output_type": "execute_result"
    }
   ],
   "source": [
    "Solution().isMatch(\"aa\", \"a*\")"
   ]
  },
  {
   "cell_type": "code",
   "execution_count": null,
   "id": "47ce03a1-a466-4d49-8273-f9be6954827c",
   "metadata": {},
   "outputs": [],
   "source": [
    "Solution().isMatch(\"aa\", \"a*\")"
   ]
  }
 ],
 "metadata": {
  "kernelspec": {
   "display_name": "Python 3 (ipykernel)",
   "language": "python",
   "name": "python3"
  },
  "language_info": {
   "codemirror_mode": {
    "name": "ipython",
    "version": 3
   },
   "file_extension": ".py",
   "mimetype": "text/x-python",
   "name": "python",
   "nbconvert_exporter": "python",
   "pygments_lexer": "ipython3",
   "version": "3.11.10"
  }
 },
 "nbformat": 4,
 "nbformat_minor": 5
}

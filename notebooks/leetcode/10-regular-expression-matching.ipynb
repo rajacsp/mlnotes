{
 "cells": [
  {
   "cell_type": "markdown",
   "id": "033852a5",
   "metadata": {},
   "source": [
    "https://leetcode.com/problems/regular-expression-matching"
   ]
  },
  {
   "cell_type": "code",
   "execution_count": null,
   "id": "9e3dec6e",
   "metadata": {},
   "outputs": [],
   "source": [
    "import pyutil as pyu\n",
    "pyu.get_local_pyinfo()"
   ]
  },
  {
   "cell_type": "code",
   "execution_count": null,
   "id": "b3a1c4dc",
   "metadata": {},
   "outputs": [],
   "source": [
    "print(pyu.ps2(\"python-dotenv\"))"
   ]
  },
  {
   "cell_type": "code",
   "execution_count": null,
   "id": "07835b56",
   "metadata": {},
   "outputs": [],
   "source": [
    "from typing import List"
   ]
  },
  {
   "cell_type": "code",
   "execution_count": null,
   "id": "09d1d151",
   "metadata": {},
   "outputs": [],
   "source": [
    "class Solution:\n",
    "  def isMatch(self, s: str, p: str) -> bool:\n",
    "    m = len(s)\n",
    "    n = len(p)\n",
    "    # dp[i][j] := True if s[0..i) matches p[0..j)\n",
    "    dp = [[False] * (n + 1) for _ in range(m + 1)]\n",
    "    dp[0][0] = True\n",
    "\n",
    "    def isMatch(i: int, j: int) -> bool:\n",
    "      return j >= 0 and p[j] == '.' or s[i] == p[j]\n",
    "\n",
    "    for j, c in enumerate(p):\n",
    "      if c == '*' and dp[0][j - 1]:\n",
    "        dp[0][j + 1] = True\n",
    "\n",
    "    for i in range(m):\n",
    "      for j in range(n):\n",
    "        if p[j] == '*':\n",
    "          noRepeat = dp[i + 1][j - 1]  # Min index of '*' is 1\n",
    "          doRepeat = isMatch(i, j - 1) and dp[i][j + 1]\n",
    "          dp[i + 1][j + 1] = noRepeat or doRepeat\n",
    "        elif isMatch(i, j):\n",
    "          dp[i + 1][j + 1] = dp[i][j]\n",
    "\n",
    "    return dp[m][n]"
   ]
  },
  {
   "cell_type": "code",
   "execution_count": null,
   "id": "15d5b2c7",
   "metadata": {},
   "outputs": [],
   "source": [
    "new Solution().isMatch()"
   ]
  }
 ],
 "metadata": {},
 "nbformat": 4,
 "nbformat_minor": 5
}

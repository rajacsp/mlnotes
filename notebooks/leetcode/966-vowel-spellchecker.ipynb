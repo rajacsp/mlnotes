{
 "cells": [
  {
   "cell_type": "markdown",
   "id": "3e9969f2",
   "metadata": {},
   "source": [
    "https://leetcode.com/problems/vowel-spellchecker"
   ]
  },
  {
   "cell_type": "code",
   "execution_count": null,
   "id": "9e1bac98",
   "metadata": {},
   "outputs": [],
   "source": [
    "import pyutil as pyu\n",
    "pyu.get_local_pyinfo()"
   ]
  },
  {
   "cell_type": "code",
   "execution_count": null,
   "id": "c389aa83",
   "metadata": {},
   "outputs": [],
   "source": [
    "print(pyu.ps2(\"python-dotenv\"))"
   ]
  },
  {
   "cell_type": "code",
   "execution_count": null,
   "id": "170565b8",
   "metadata": {},
   "outputs": [],
   "source": [
    "from typing import List"
   ]
  },
  {
   "cell_type": "code",
   "execution_count": null,
   "id": "b238242f",
   "metadata": {},
   "outputs": [],
   "source": [
    "class Solution:\n",
    "  def spellchecker(self, wordlist: List[str], queries: List[str]) -> List[str]:\n",
    "    def lowerKey(word: str) -> str:\n",
    "      return '$' + ''.join([c.lower() for c in word])\n",
    "\n",
    "    def vowelKey(word: str) -> str:\n",
    "      return ''.join(['*' if c.lower() in 'aeiou' else c.lower() for c in word])\n",
    "\n",
    "    ans = []\n",
    "    dict = {}\n",
    "\n",
    "    for word in wordlist:\n",
    "      dict.setdefault(word, word)\n",
    "      dict.setdefault(lowerKey(word), word)\n",
    "      dict.setdefault(vowelKey(word), word)\n",
    "\n",
    "    for q in queries:\n",
    "      if q in dict:\n",
    "        ans.append(dict[q])\n",
    "      elif lowerKey(q) in dict:\n",
    "        ans.append(dict[lowerKey(q)])\n",
    "      elif vowelKey(q) in dict:\n",
    "        ans.append(dict[vowelKey(q)])\n",
    "      else:\n",
    "        ans.append('')\n",
    "\n",
    "    return ans"
   ]
  },
  {
   "cell_type": "code",
   "execution_count": null,
   "id": "81f487f1",
   "metadata": {},
   "outputs": [],
   "source": [
    "new Solution().spellchecker()"
   ]
  }
 ],
 "metadata": {},
 "nbformat": 4,
 "nbformat_minor": 5
}

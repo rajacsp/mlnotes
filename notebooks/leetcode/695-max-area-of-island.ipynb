{
 "cells": [
  {
   "cell_type": "markdown",
   "id": "9387a267",
   "metadata": {},
   "source": [
    "https://leetcode.com/problems/max-area-of-island"
   ]
  },
  {
   "cell_type": "code",
   "execution_count": null,
   "id": "27d18cd9",
   "metadata": {},
   "outputs": [],
   "source": [
    "import pyutil as pyu\n",
    "pyu.get_local_pyinfo()"
   ]
  },
  {
   "cell_type": "code",
   "execution_count": null,
   "id": "c92c572a",
   "metadata": {},
   "outputs": [],
   "source": [
    "print(pyu.ps2(\"python-dotenv\"))"
   ]
  },
  {
   "cell_type": "code",
   "execution_count": null,
   "id": "28d5c5ff",
   "metadata": {},
   "outputs": [],
   "source": [
    "from typing import List"
   ]
  },
  {
   "cell_type": "code",
   "execution_count": null,
   "id": "46e5adb2",
   "metadata": {},
   "outputs": [],
   "source": [
    "class Solution:\n",
    "  def maxAreaOfIsland(self, grid: List[List[int]]) -> int:\n",
    "    def dfs(i: int, j: int) -> int:\n",
    "      if i < 0 or i == len(grid) or j < 0 or j == len(grid[0]):\n",
    "        return 0\n",
    "      if grid[i][j] != 1:\n",
    "        return 0\n",
    "\n",
    "      grid[i][j] = 2\n",
    "\n",
    "      return 1 + dfs(i + 1, j) + dfs(i - 1, j) + dfs(i, j + 1) + dfs(i, j - 1)\n",
    "\n",
    "    return max(dfs(i, j) for i in range(len(grid)) for j in range(len(grid[0])))"
   ]
  },
  {
   "cell_type": "code",
   "execution_count": null,
   "id": "da70a073",
   "metadata": {},
   "outputs": [],
   "source": [
    "new Solution().maxAreaOfIsland()"
   ]
  }
 ],
 "metadata": {},
 "nbformat": 4,
 "nbformat_minor": 5
}

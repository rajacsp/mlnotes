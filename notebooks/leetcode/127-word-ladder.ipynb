{
 "cells": [
  {
   "cell_type": "markdown",
   "id": "48438289",
   "metadata": {},
   "source": [
    "https://leetcode.com/problems/word-ladder"
   ]
  },
  {
   "cell_type": "code",
   "execution_count": null,
   "id": "467ece7c",
   "metadata": {},
   "outputs": [],
   "source": [
    "import pyutil as pyu\n",
    "pyu.get_local_pyinfo()"
   ]
  },
  {
   "cell_type": "code",
   "execution_count": null,
   "id": "62dbb306",
   "metadata": {},
   "outputs": [],
   "source": [
    "print(pyu.ps2(\"python-dotenv\"))"
   ]
  },
  {
   "cell_type": "code",
   "execution_count": null,
   "id": "03b24d0c",
   "metadata": {},
   "outputs": [],
   "source": [
    "from typing import List"
   ]
  },
  {
   "cell_type": "code",
   "execution_count": null,
   "id": "bd565945",
   "metadata": {},
   "outputs": [],
   "source": [
    "class Solution:\n",
    "  def ladderLength(self, beginWord: str, endWord: str, wordList: List[str]) -> int:\n",
    "    wordSet = set(wordList)\n",
    "    if endWord not in wordSet:\n",
    "      return 0\n",
    "\n",
    "    ans = 0\n",
    "    q = deque([beginWord])\n",
    "\n",
    "    while q:\n",
    "      ans += 1\n",
    "      for _ in range(len(q)):\n",
    "        wordList = list(q.popleft())\n",
    "        for i, cache in enumerate(wordList):\n",
    "          for c in string.ascii_lowercase:\n",
    "            wordList[i] = c\n",
    "            word = ''.join(wordList)\n",
    "            if word == endWord:\n",
    "              return ans + 1\n",
    "            if word in wordSet:\n",
    "              q.append(word)\n",
    "              wordSet.remove(word)\n",
    "          wordList[i] = cache\n",
    "\n",
    "    return 0"
   ]
  },
  {
   "cell_type": "code",
   "execution_count": null,
   "id": "82fe65ea",
   "metadata": {},
   "outputs": [],
   "source": [
    "new Solution().ladderLength()"
   ]
  }
 ],
 "metadata": {},
 "nbformat": 4,
 "nbformat_minor": 5
}

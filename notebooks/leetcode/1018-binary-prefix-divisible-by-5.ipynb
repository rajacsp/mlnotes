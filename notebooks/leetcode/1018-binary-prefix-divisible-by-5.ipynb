{
 "cells": [
  {
   "cell_type": "markdown",
   "id": "a8370124",
   "metadata": {},
   "source": [
    "https://leetcode.com/problems/binary-prefix-divisible-by-5"
   ]
  },
  {
   "cell_type": "code",
   "execution_count": null,
   "id": "8ae45ce4",
   "metadata": {},
   "outputs": [],
   "source": [
    "import pyutil as pyu\n",
    "pyu.get_local_pyinfo()"
   ]
  },
  {
   "cell_type": "code",
   "execution_count": null,
   "id": "6d592cba",
   "metadata": {},
   "outputs": [],
   "source": [
    "print(pyu.ps2(\"python-dotenv\"))"
   ]
  },
  {
   "cell_type": "code",
   "execution_count": null,
   "id": "f480aa3b",
   "metadata": {},
   "outputs": [],
   "source": [
    "from typing import List"
   ]
  },
  {
   "cell_type": "code",
   "execution_count": null,
   "id": "c2842b1d",
   "metadata": {},
   "outputs": [],
   "source": [
    "class Solution:\n",
    "  def prefixesDivBy5(self, A: List[int]) -> List[bool]:\n",
    "    ans = []\n",
    "    num = 0\n",
    "\n",
    "    for a in A:\n",
    "      num = (num * 2 + a) % 5\n",
    "      ans.append(num % 5 == 0)\n",
    "\n",
    "    return ans"
   ]
  },
  {
   "cell_type": "code",
   "execution_count": null,
   "id": "a60bb213",
   "metadata": {},
   "outputs": [],
   "source": [
    "new Solution().prefixesDivBy5()"
   ]
  }
 ],
 "metadata": {},
 "nbformat": 4,
 "nbformat_minor": 5
}

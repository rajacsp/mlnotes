{
 "cells": [
  {
   "cell_type": "markdown",
   "id": "c6b417ed",
   "metadata": {},
   "source": [
    "https://leetcode.com/problems/remove-invalid-parentheses"
   ]
  },
  {
   "cell_type": "code",
   "execution_count": null,
   "id": "112e9de3",
   "metadata": {},
   "outputs": [],
   "source": [
    "import pyutil as pyu\n",
    "pyu.get_local_pyinfo()"
   ]
  },
  {
   "cell_type": "code",
   "execution_count": null,
   "id": "8d625f6f",
   "metadata": {},
   "outputs": [],
   "source": [
    "print(pyu.ps2(\"python-dotenv\"))"
   ]
  },
  {
   "cell_type": "code",
   "execution_count": null,
   "id": "76b681b0",
   "metadata": {},
   "outputs": [],
   "source": [
    "from typing import List"
   ]
  },
  {
   "cell_type": "code",
   "execution_count": null,
   "id": "a46d839f",
   "metadata": {},
   "outputs": [],
   "source": [
    "class Solution:\n",
    "  def removeInvalidParentheses(self, s: str) -> List[str]:\n",
    "    def getLeftAndRightCounts(s: str) -> tuple:\n",
    "      l = 0\n",
    "      r = 0\n",
    "\n",
    "      for c in s:\n",
    "        if c == '(':\n",
    "          l += 1\n",
    "        elif c == ')':\n",
    "          if l == 0:\n",
    "            r += 1\n",
    "          else:\n",
    "            l -= 1\n",
    "\n",
    "      return l, r\n",
    "\n",
    "    def isValid(s: str):\n",
    "      count = 0  # Number of '(' - # Of ')'\n",
    "      for c in s:\n",
    "        if c == '(':\n",
    "          count += 1\n",
    "        elif c == ')':\n",
    "          count -= 1\n",
    "        if count < 0:\n",
    "          return False\n",
    "      return True  # Count == 0\n",
    "\n",
    "    ans = []\n",
    "\n",
    "    def dfs(s: str, start: int, l: int, r: int) -> None:\n",
    "      if l == 0 and r == 0 and isValid(s):\n",
    "        ans.append(s)\n",
    "        return\n",
    "\n",
    "      for i in range(start, len(s)):\n",
    "        if i > start and s[i] == s[i - 1]:\n",
    "          continue\n",
    "        if r > 0 and s[i] == ')':  # Delete s[i]\n",
    "          dfs(s[:i] + s[i + 1:], i, l, r - 1)\n",
    "        elif l > 0 and s[i] == '(':  # Delete s[i]\n",
    "          dfs(s[:i] + s[i + 1:], i, l - 1, r)\n",
    "\n",
    "    l, r = getLeftAndRightCounts(s)\n",
    "    dfs(s, 0, l, r)\n",
    "    return ans"
   ]
  },
  {
   "cell_type": "code",
   "execution_count": null,
   "id": "b7846ee2",
   "metadata": {},
   "outputs": [],
   "source": [
    "new Solution().removeInvalidParentheses()"
   ]
  }
 ],
 "metadata": {},
 "nbformat": 4,
 "nbformat_minor": 5
}

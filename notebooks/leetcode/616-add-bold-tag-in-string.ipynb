{
 "cells": [
  {
   "cell_type": "markdown",
   "id": "50e3e923",
   "metadata": {},
   "source": [
    "https://leetcode.com/problems/add-bold-tag-in-string"
   ]
  },
  {
   "cell_type": "code",
   "execution_count": null,
   "id": "2910d6ab",
   "metadata": {},
   "outputs": [],
   "source": [
    "import pyutil as pyu\n",
    "pyu.get_local_pyinfo()"
   ]
  },
  {
   "cell_type": "code",
   "execution_count": null,
   "id": "6d7f36b9",
   "metadata": {},
   "outputs": [],
   "source": [
    "print(pyu.ps2(\"python-dotenv\"))"
   ]
  },
  {
   "cell_type": "code",
   "execution_count": null,
   "id": "a5d9b3c5",
   "metadata": {},
   "outputs": [],
   "source": [
    "from typing import List"
   ]
  },
  {
   "cell_type": "code",
   "execution_count": null,
   "id": "65d043cf",
   "metadata": {},
   "outputs": [],
   "source": [
    "class Solution:\n",
    "  def addBoldTag(self, s: str, words: List[str]) -> str:\n",
    "    n = len(s)\n",
    "    ans = []\n",
    "    # bold[i] := True if s[i] should be bolded\n",
    "    bold = [0] * n\n",
    "\n",
    "    boldEnd = -1  # s[i:boldEnd] should be bolded\n",
    "    for i in range(n):\n",
    "      for word in words:\n",
    "        if s[i:].startswith(word):\n",
    "          boldEnd = max(boldEnd, i + len(word))\n",
    "      bold[i] = boldEnd > i\n",
    "\n",
    "    # Construct the with bold tags\n",
    "    i = 0\n",
    "    while i < n:\n",
    "      if bold[i]:\n",
    "        j = i\n",
    "        while j < n and bold[j]:\n",
    "          j += 1\n",
    "        # s[i:j] should be bolded\n",
    "        ans.append('<b>' + s[i:j] + '</b>')\n",
    "        i = j\n",
    "      else:\n",
    "        ans.append(s[i])\n",
    "        i += 1\n",
    "\n",
    "    return ''.join(ans)"
   ]
  },
  {
   "cell_type": "code",
   "execution_count": null,
   "id": "bc033ee7",
   "metadata": {},
   "outputs": [],
   "source": [
    "new Solution().addBoldTag()"
   ]
  }
 ],
 "metadata": {},
 "nbformat": 4,
 "nbformat_minor": 5
}

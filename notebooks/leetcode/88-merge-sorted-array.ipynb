{
 "cells": [
  {
   "cell_type": "markdown",
   "id": "454a47f1",
   "metadata": {},
   "source": [
    "https://leetcode.com/problems/merge-sorted-array"
   ]
  },
  {
   "cell_type": "code",
   "execution_count": null,
   "id": "39512a02",
   "metadata": {},
   "outputs": [],
   "source": [
    "import pyutil as pyu\n",
    "pyu.get_local_pyinfo()"
   ]
  },
  {
   "cell_type": "code",
   "execution_count": null,
   "id": "f012c41c",
   "metadata": {},
   "outputs": [],
   "source": [
    "print(pyu.ps2(\"python-dotenv\"))"
   ]
  },
  {
   "cell_type": "code",
   "execution_count": null,
   "id": "a6e6ff36",
   "metadata": {},
   "outputs": [],
   "source": [
    "from typing import List"
   ]
  },
  {
   "cell_type": "code",
   "execution_count": null,
   "id": "c114ff9a",
   "metadata": {},
   "outputs": [],
   "source": [
    "class Solution:\n",
    "  def merge(self, nums1: List[int], m: int, nums2: List[int], n: int) -> None:\n",
    "    i = m - 1      # nums1's index (actual nums)\n",
    "    j = n - 1      # nums2's index\n",
    "    k = m + n - 1  # nums1's index (next filled position)\n",
    "\n",
    "    while j >= 0:\n",
    "      if i >= 0 and nums1[i] > nums2[j]:\n",
    "        nums1[k] = nums1[i]\n",
    "        k -= 1\n",
    "        i -= 1\n",
    "      else:\n",
    "        nums1[k] = nums2[j]\n",
    "        k -= 1\n",
    "        j -= 1"
   ]
  },
  {
   "cell_type": "code",
   "execution_count": null,
   "id": "4f25a030",
   "metadata": {},
   "outputs": [],
   "source": [
    "new Solution().merge()"
   ]
  }
 ],
 "metadata": {},
 "nbformat": 4,
 "nbformat_minor": 5
}

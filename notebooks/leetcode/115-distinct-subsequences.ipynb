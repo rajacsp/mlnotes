{
 "cells": [
  {
   "cell_type": "markdown",
   "id": "3f0a8d14",
   "metadata": {},
   "source": [
    "https://leetcode.com/problems/distinct-subsequences"
   ]
  },
  {
   "cell_type": "code",
   "execution_count": null,
   "id": "3e7accf0",
   "metadata": {},
   "outputs": [],
   "source": [
    "import pyutil as pyu\n",
    "pyu.get_local_pyinfo()"
   ]
  },
  {
   "cell_type": "code",
   "execution_count": null,
   "id": "a220965a",
   "metadata": {},
   "outputs": [],
   "source": [
    "print(pyu.ps2(\"python-dotenv\"))"
   ]
  },
  {
   "cell_type": "code",
   "execution_count": null,
   "id": "ccd2bb9e",
   "metadata": {},
   "outputs": [],
   "source": [
    "from typing import List"
   ]
  },
  {
   "cell_type": "code",
   "execution_count": null,
   "id": "bf8bc431",
   "metadata": {},
   "outputs": [],
   "source": [
    "class Solution:\n",
    "  def numDistinct(self, s: str, t: str) -> int:\n",
    "    m = len(s)\n",
    "    n = len(t)\n",
    "    dp = [[0] * (n + 1) for _ in range(m + 1)]\n",
    "\n",
    "    for i in range(m + 1):\n",
    "      dp[i][0] = 1\n",
    "\n",
    "    for i in range(1, m + 1):\n",
    "      for j in range(1, n + 1):\n",
    "        if s[i - 1] == t[j - 1]:\n",
    "          dp[i][j] = dp[i - 1][j - 1] + dp[i - 1][j]\n",
    "        else:\n",
    "          dp[i][j] = dp[i - 1][j]\n",
    "\n",
    "    return dp[m][n]"
   ]
  },
  {
   "cell_type": "code",
   "execution_count": null,
   "id": "60e1bad0",
   "metadata": {},
   "outputs": [],
   "source": [
    "new Solution().numDistinct()"
   ]
  }
 ],
 "metadata": {},
 "nbformat": 4,
 "nbformat_minor": 5
}

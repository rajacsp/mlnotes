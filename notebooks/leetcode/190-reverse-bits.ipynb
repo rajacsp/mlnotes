{
 "cells": [
  {
   "cell_type": "markdown",
   "id": "d7f45e66",
   "metadata": {},
   "source": [
    "https://leetcode.com/problems/reverse-bits"
   ]
  },
  {
   "cell_type": "code",
   "execution_count": null,
   "id": "e60b1406",
   "metadata": {},
   "outputs": [],
   "source": [
    "import pyutil as pyu\n",
    "pyu.get_local_pyinfo()"
   ]
  },
  {
   "cell_type": "code",
   "execution_count": null,
   "id": "76ce1fdc",
   "metadata": {},
   "outputs": [],
   "source": [
    "print(pyu.ps2(\"python-dotenv\"))"
   ]
  },
  {
   "cell_type": "code",
   "execution_count": null,
   "id": "83e91a1b",
   "metadata": {},
   "outputs": [],
   "source": [
    "from typing import List"
   ]
  },
  {
   "cell_type": "code",
   "execution_count": null,
   "id": "0b845c59",
   "metadata": {},
   "outputs": [],
   "source": [
    "class Solution:\n",
    "  def reverseBits(self, n: int) -> int:\n",
    "    ans = 0\n",
    "\n",
    "    for i in range(32):\n",
    "      if n >> i & 1:\n",
    "        ans |= 1 << 31 - i\n",
    "\n",
    "    return ans"
   ]
  },
  {
   "cell_type": "code",
   "execution_count": null,
   "id": "937b1141",
   "metadata": {},
   "outputs": [],
   "source": [
    "new Solution().reverseBits()"
   ]
  }
 ],
 "metadata": {},
 "nbformat": 4,
 "nbformat_minor": 5
}

{
 "cells": [
  {
   "cell_type": "markdown",
   "id": "8b6c944e",
   "metadata": {},
   "source": [
    "https://leetcode.com/problems/summary-ranges"
   ]
  },
  {
   "cell_type": "code",
   "execution_count": null,
   "id": "092365d9",
   "metadata": {},
   "outputs": [],
   "source": [
    "import pyutil as pyu\n",
    "pyu.get_local_pyinfo()"
   ]
  },
  {
   "cell_type": "code",
   "execution_count": null,
   "id": "38e79849",
   "metadata": {},
   "outputs": [],
   "source": [
    "print(pyu.ps2(\"python-dotenv\"))"
   ]
  },
  {
   "cell_type": "code",
   "execution_count": null,
   "id": "d6c5855e",
   "metadata": {},
   "outputs": [],
   "source": [
    "from typing import List"
   ]
  },
  {
   "cell_type": "code",
   "execution_count": null,
   "id": "3d3fa60c",
   "metadata": {},
   "outputs": [],
   "source": [
    "class Solution:\n",
    "  def summaryRanges(self, nums: List[int]) -> List[str]:\n",
    "    ans = []\n",
    "\n",
    "    i = 0\n",
    "    while i < len(nums):\n",
    "      begin = nums[i]\n",
    "      while i < len(nums) - 1 and nums[i] == nums[i + 1] - 1:\n",
    "        i += 1\n",
    "      end = nums[i]\n",
    "      if begin == end:\n",
    "        ans.append(str(begin))\n",
    "      else:\n",
    "        ans.append(str(begin) + \"->\" + str(end))\n",
    "      i += 1\n",
    "\n",
    "    return ans"
   ]
  },
  {
   "cell_type": "code",
   "execution_count": null,
   "id": "5cd5ca2e",
   "metadata": {},
   "outputs": [],
   "source": [
    "new Solution().summaryRanges()"
   ]
  }
 ],
 "metadata": {},
 "nbformat": 4,
 "nbformat_minor": 5
}

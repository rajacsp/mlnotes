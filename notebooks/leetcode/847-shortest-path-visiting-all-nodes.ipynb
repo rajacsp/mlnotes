{
 "cells": [
  {
   "cell_type": "markdown",
   "id": "fd5880f3",
   "metadata": {},
   "source": [
    "https://leetcode.com/problems/shortest-path-visiting-all-nodes"
   ]
  },
  {
   "cell_type": "code",
   "execution_count": null,
   "id": "d23f8903",
   "metadata": {},
   "outputs": [],
   "source": [
    "import pyutil as pyu\n",
    "pyu.get_local_pyinfo()"
   ]
  },
  {
   "cell_type": "code",
   "execution_count": null,
   "id": "20e1b37c",
   "metadata": {},
   "outputs": [],
   "source": [
    "print(pyu.ps2(\"python-dotenv\"))"
   ]
  },
  {
   "cell_type": "code",
   "execution_count": null,
   "id": "3f3cea91",
   "metadata": {},
   "outputs": [],
   "source": [
    "from typing import List"
   ]
  },
  {
   "cell_type": "code",
   "execution_count": null,
   "id": "11aee02b",
   "metadata": {},
   "outputs": [],
   "source": [
    "class Solution:\n",
    "  def shortestPathLength(self, graph: List[List[int]]) -> int:\n",
    "    n = len(graph)\n",
    "    goal = (1 << n) - 1\n",
    "\n",
    "    ans = 0\n",
    "    q = deque()  # (u, state)\n",
    "    seen = set()\n",
    "\n",
    "    for i in range(n):\n",
    "      q.append((i, 1 << i))\n",
    "\n",
    "    while q:\n",
    "      for _ in range(len(q)):\n",
    "        u, state = q.popleft()\n",
    "        if state == goal:\n",
    "          return ans\n",
    "        if (u, state) in seen:\n",
    "          continue\n",
    "        seen.add((u, state))\n",
    "        for v in graph[u]:\n",
    "          q.append((v, state | (1 << v)))\n",
    "      ans += 1\n",
    "\n",
    "    return -1"
   ]
  },
  {
   "cell_type": "code",
   "execution_count": null,
   "id": "5f68fb6e",
   "metadata": {},
   "outputs": [],
   "source": [
    "new Solution().shortestPathLength()"
   ]
  }
 ],
 "metadata": {},
 "nbformat": 4,
 "nbformat_minor": 5
}

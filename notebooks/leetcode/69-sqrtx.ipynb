{
 "cells": [
  {
   "cell_type": "markdown",
   "id": "3d323864",
   "metadata": {},
   "source": [
    "https://leetcode.com/problems/sqrtx"
   ]
  },
  {
   "cell_type": "code",
   "execution_count": null,
   "id": "28d9de87",
   "metadata": {},
   "outputs": [],
   "source": [
    "import pyutil as pyu\n",
    "pyu.get_local_pyinfo()"
   ]
  },
  {
   "cell_type": "code",
   "execution_count": null,
   "id": "8c70b12b",
   "metadata": {},
   "outputs": [],
   "source": [
    "print(pyu.ps2(\"python-dotenv\"))"
   ]
  },
  {
   "cell_type": "code",
   "execution_count": null,
   "id": "1a86ee6a",
   "metadata": {},
   "outputs": [],
   "source": [
    "from typing import List"
   ]
  },
  {
   "cell_type": "code",
   "execution_count": null,
   "id": "f4cf90ff",
   "metadata": {},
   "outputs": [],
   "source": [
    "class Solution:\n",
    "  def mySqrt(self, x: int) -> int:\n",
    "    l = 1\n",
    "    r = x + 1\n",
    "\n",
    "    while l < r:\n",
    "      m = (l + r) // 2\n",
    "      if m * m > x:\n",
    "        r = m\n",
    "      else:\n",
    "        l = m + 1\n",
    "\n",
    "    # L: smallest number s.t. l * l > x\n",
    "    return l - 1"
   ]
  },
  {
   "cell_type": "code",
   "execution_count": null,
   "id": "6434ceaf",
   "metadata": {},
   "outputs": [],
   "source": [
    "new Solution().mySqrt()"
   ]
  }
 ],
 "metadata": {},
 "nbformat": 4,
 "nbformat_minor": 5
}

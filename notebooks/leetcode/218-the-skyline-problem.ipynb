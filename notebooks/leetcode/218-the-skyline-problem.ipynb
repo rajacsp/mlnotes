{
 "cells": [
  {
   "cell_type": "markdown",
   "id": "e47dfa63",
   "metadata": {},
   "source": [
    "https://leetcode.com/problems/the-skyline-problem"
   ]
  },
  {
   "cell_type": "code",
   "execution_count": null,
   "id": "68537091",
   "metadata": {},
   "outputs": [],
   "source": [
    "import pyutil as pyu\n",
    "pyu.get_local_pyinfo()"
   ]
  },
  {
   "cell_type": "code",
   "execution_count": null,
   "id": "4267f6ef",
   "metadata": {},
   "outputs": [],
   "source": [
    "print(pyu.ps2(\"python-dotenv\"))"
   ]
  },
  {
   "cell_type": "code",
   "execution_count": null,
   "id": "c9e22475",
   "metadata": {},
   "outputs": [],
   "source": [
    "from typing import List"
   ]
  },
  {
   "cell_type": "code",
   "execution_count": null,
   "id": "dad29200",
   "metadata": {},
   "outputs": [],
   "source": [
    "class Solution:\n",
    "  def getSkyline(self, buildings: List[List[int]]) -> List[List[int]]:\n",
    "    n = len(buildings)\n",
    "    if n == 0:\n",
    "      return []\n",
    "    if n == 1:\n",
    "      left, right, height = buildings[0]\n",
    "      return [[left, height], [right, 0]]\n",
    "\n",
    "    left = self.getSkyline(buildings[:n // 2])\n",
    "    right = self.getSkyline(buildings[n // 2:])\n",
    "    return self._merge(left, right)\n",
    "\n",
    "  def _merge(self, left: List[List[int]], right: List[List[int]]) -> List[List[int]]:\n",
    "    ans = []\n",
    "    i = 0  # left's index\n",
    "    j = 0  # right's index\n",
    "    leftY = 0\n",
    "    rightY = 0\n",
    "\n",
    "    while i < len(left) and j < len(right):\n",
    "      # Choose the powith smaller x\n",
    "      if left[i][0] < right[j][0]:\n",
    "        leftY = left[i][1]  # Update the ongoing leftY\n",
    "        self._addPoint(ans, left[i][0], max(left[i][1], rightY))\n",
    "        i += 1\n",
    "      else:\n",
    "        rightY = right[j][1]  # Update the ongoing rightY\n",
    "        self._addPoint(ans, right[j][0], max(right[j][1], leftY))\n",
    "        j += 1\n",
    "\n",
    "    while i < len(left):\n",
    "      self._addPoint(ans, left[i][0], left[i][1])\n",
    "      i += 1\n",
    "\n",
    "    while j < len(right):\n",
    "      self._addPoint(ans, right[j][0], right[j][1])\n",
    "      j += 1\n",
    "\n",
    "    return ans\n",
    "\n",
    "  def _addPoint(self, ans: List[List[int]], x: int, y: int) -> None:\n",
    "    if ans and ans[-1][0] == x:\n",
    "      ans[-1][1] = y\n",
    "      return\n",
    "    if ans and ans[-1][1] == y:\n",
    "      return\n",
    "    ans.append([x, y])"
   ]
  },
  {
   "cell_type": "code",
   "execution_count": null,
   "id": "b13acf6e",
   "metadata": {},
   "outputs": [],
   "source": [
    "new Solution().getSkyline()"
   ]
  }
 ],
 "metadata": {},
 "nbformat": 4,
 "nbformat_minor": 5
}

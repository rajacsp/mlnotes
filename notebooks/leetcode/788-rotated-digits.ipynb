{
 "cells": [
  {
   "cell_type": "markdown",
   "id": "abee1a4f",
   "metadata": {},
   "source": [
    "https://leetcode.com/problems/rotated-digits"
   ]
  },
  {
   "cell_type": "code",
   "execution_count": null,
   "id": "3e1e0e57",
   "metadata": {},
   "outputs": [],
   "source": [
    "import pyutil as pyu\n",
    "pyu.get_local_pyinfo()"
   ]
  },
  {
   "cell_type": "code",
   "execution_count": null,
   "id": "04a3e06a",
   "metadata": {},
   "outputs": [],
   "source": [
    "print(pyu.ps2(\"python-dotenv\"))"
   ]
  },
  {
   "cell_type": "code",
   "execution_count": null,
   "id": "6716d5ef",
   "metadata": {},
   "outputs": [],
   "source": [
    "from typing import List"
   ]
  },
  {
   "cell_type": "code",
   "execution_count": null,
   "id": "3d4e6b33",
   "metadata": {},
   "outputs": [],
   "source": [
    "class Solution:\n",
    "  def rotatedDigits(self, N: int) -> int:\n",
    "    def isGoodNumber(i: int) -> bool:\n",
    "      isRotated = False\n",
    "\n",
    "      for c in str(i):\n",
    "        if c == '0' or c == '1' or c == '8':\n",
    "          continue\n",
    "        if c == '2' or c == '5' or c == '6' or c == '9':\n",
    "          isRotated = True\n",
    "        else:\n",
    "          return False\n",
    "\n",
    "      return isRotated\n",
    "\n",
    "    return sum(isGoodNumber(i) for i in range(1, N + 1))"
   ]
  },
  {
   "cell_type": "code",
   "execution_count": null,
   "id": "c6ffc9d3",
   "metadata": {},
   "outputs": [],
   "source": [
    "new Solution().rotatedDigits()"
   ]
  }
 ],
 "metadata": {},
 "nbformat": 4,
 "nbformat_minor": 5
}

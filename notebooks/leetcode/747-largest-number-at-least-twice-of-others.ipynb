{
 "cells": [
  {
   "cell_type": "markdown",
   "id": "f28013a7",
   "metadata": {},
   "source": [
    "https://leetcode.com/problems/largest-number-at-least-twice-of-others"
   ]
  },
  {
   "cell_type": "code",
   "execution_count": null,
   "id": "b603c914",
   "metadata": {},
   "outputs": [],
   "source": [
    "import pyutil as pyu\n",
    "pyu.get_local_pyinfo()"
   ]
  },
  {
   "cell_type": "code",
   "execution_count": null,
   "id": "c3aae586",
   "metadata": {},
   "outputs": [],
   "source": [
    "print(pyu.ps2(\"python-dotenv\"))"
   ]
  },
  {
   "cell_type": "code",
   "execution_count": null,
   "id": "c5406af2",
   "metadata": {},
   "outputs": [],
   "source": [
    "from typing import List"
   ]
  },
  {
   "cell_type": "code",
   "execution_count": null,
   "id": "84299e1b",
   "metadata": {},
   "outputs": [],
   "source": [
    "class Solution:\n",
    "  def dominantIndex(self, nums: List[int]) -> int:\n",
    "    max = 0\n",
    "    secondMax = 0\n",
    "\n",
    "    for i, num in enumerate(nums):\n",
    "      if num > max:\n",
    "        secondMax = max\n",
    "        max = num\n",
    "        ans = i\n",
    "      elif num > secondMax:\n",
    "        secondMax = num\n",
    "\n",
    "    return ans if max >= 2 * secondMax else -1"
   ]
  },
  {
   "cell_type": "code",
   "execution_count": null,
   "id": "4c9d23d9",
   "metadata": {},
   "outputs": [],
   "source": [
    "new Solution().dominantIndex()"
   ]
  }
 ],
 "metadata": {},
 "nbformat": 4,
 "nbformat_minor": 5
}

{
 "cells": [
  {
   "cell_type": "markdown",
   "id": "9b3c347b",
   "metadata": {},
   "source": [
    "https://leetcode.com/problems/search-a-2d-matrix"
   ]
  },
  {
   "cell_type": "code",
   "execution_count": null,
   "id": "ef642eb9",
   "metadata": {},
   "outputs": [],
   "source": [
    "import pyutil as pyu\n",
    "pyu.get_local_pyinfo()"
   ]
  },
  {
   "cell_type": "code",
   "execution_count": null,
   "id": "dbabdfb8",
   "metadata": {},
   "outputs": [],
   "source": [
    "print(pyu.ps2(\"python-dotenv\"))"
   ]
  },
  {
   "cell_type": "code",
   "execution_count": null,
   "id": "a5323f95",
   "metadata": {},
   "outputs": [],
   "source": [
    "from typing import List"
   ]
  },
  {
   "cell_type": "code",
   "execution_count": null,
   "id": "253baa63",
   "metadata": {},
   "outputs": [],
   "source": [
    "class Solution:\n",
    "  def searchMatrix(self, matrix: List[List[int]], target: int) -> bool:\n",
    "    if not matrix:\n",
    "      return False\n",
    "\n",
    "    m = len(matrix)\n",
    "    n = len(matrix[0])\n",
    "    l = 0\n",
    "    r = m * n\n",
    "\n",
    "    while l < r:\n",
    "      mid = (l + r) // 2\n",
    "      i = mid // n\n",
    "      j = mid % n\n",
    "      if matrix[i][j] == target:\n",
    "        return True\n",
    "      if matrix[i][j] < target:\n",
    "        l = mid + 1\n",
    "      else:\n",
    "        r = mid\n",
    "\n",
    "    return False"
   ]
  },
  {
   "cell_type": "code",
   "execution_count": null,
   "id": "2102c957",
   "metadata": {},
   "outputs": [],
   "source": [
    "new Solution().searchMatrix()"
   ]
  }
 ],
 "metadata": {},
 "nbformat": 4,
 "nbformat_minor": 5
}

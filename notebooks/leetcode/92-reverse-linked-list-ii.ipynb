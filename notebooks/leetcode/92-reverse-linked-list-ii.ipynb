{
 "cells": [
  {
   "cell_type": "markdown",
   "id": "08114781",
   "metadata": {},
   "source": [
    "https://leetcode.com/problems/reverse-linked-list-ii"
   ]
  },
  {
   "cell_type": "code",
   "execution_count": null,
   "id": "00fb6f2d",
   "metadata": {},
   "outputs": [],
   "source": [
    "import pyutil as pyu\n",
    "pyu.get_local_pyinfo()"
   ]
  },
  {
   "cell_type": "code",
   "execution_count": null,
   "id": "0097ccca",
   "metadata": {},
   "outputs": [],
   "source": [
    "print(pyu.ps2(\"python-dotenv\"))"
   ]
  },
  {
   "cell_type": "code",
   "execution_count": null,
   "id": "a0966efc",
   "metadata": {},
   "outputs": [],
   "source": [
    "from typing import List"
   ]
  },
  {
   "cell_type": "code",
   "execution_count": null,
   "id": "9af94b1f",
   "metadata": {},
   "outputs": [],
   "source": [
    "class Solution:\n",
    "  def reverseBetween(self, head: Optional[ListNode], left: int, right: int) -> Optional[ListNode]:\n",
    "    if left == 1:\n",
    "      return self.reverseN(head, right)\n",
    "\n",
    "    head.next = self.reverseBetween(head.next, left - 1, right - 1)\n",
    "    return head\n",
    "\n",
    "  def reverseN(self, head: Optional[ListNode], n: int) -> Optional[ListNode]:\n",
    "    if n == 1:\n",
    "      return head\n",
    "\n",
    "    newHead = self.reverseN(head.next, n - 1)\n",
    "    headNext = head.next\n",
    "    head.next = headNext.next\n",
    "    headNext.next = head\n",
    "    return newHead"
   ]
  },
  {
   "cell_type": "code",
   "execution_count": null,
   "id": "30f3858e",
   "metadata": {},
   "outputs": [],
   "source": [
    "new Solution().reverseBetween()"
   ]
  }
 ],
 "metadata": {},
 "nbformat": 4,
 "nbformat_minor": 5
}

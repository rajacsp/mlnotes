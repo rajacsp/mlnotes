{
 "cells": [
  {
   "cell_type": "markdown",
   "id": "174ab102",
   "metadata": {},
   "source": [
    "https://leetcode.com/problems/strobogrammatic-number-iii"
   ]
  },
  {
   "cell_type": "code",
   "execution_count": null,
   "id": "5f2d3fea",
   "metadata": {},
   "outputs": [],
   "source": [
    "import pyutil as pyu\n",
    "pyu.get_local_pyinfo()"
   ]
  },
  {
   "cell_type": "code",
   "execution_count": null,
   "id": "95cd867d",
   "metadata": {},
   "outputs": [],
   "source": [
    "print(pyu.ps2(\"python-dotenv\"))"
   ]
  },
  {
   "cell_type": "code",
   "execution_count": null,
   "id": "659e9bc5",
   "metadata": {},
   "outputs": [],
   "source": [
    "from typing import List"
   ]
  },
  {
   "cell_type": "code",
   "execution_count": null,
   "id": "a2b42ee5",
   "metadata": {},
   "outputs": [],
   "source": [
    "class Solution:\n",
    "  def strobogrammaticInRange(self, low: str, high: str) -> int:\n",
    "    pairs = [['0', '0'], ['1', '1'], ['6', '9'], ['8', '8'], ['9', '6']]\n",
    "    ans = 0\n",
    "\n",
    "    def dfs(s: List[chr], l: int, r: int) -> None:\n",
    "      nonlocal ans\n",
    "      if l > r:\n",
    "        if len(s) == len(low) and ''.join(s) < low:\n",
    "          return\n",
    "        if len(s) == len(high) and ''.join(s) > high:\n",
    "          return\n",
    "        ans += 1\n",
    "        return\n",
    "\n",
    "      for leftDigit, rightDigit in pairs:\n",
    "        if l == r and leftDigit != rightDigit:\n",
    "          continue\n",
    "        s[l] = leftDigit\n",
    "        s[r] = rightDigit\n",
    "        if len(s) > 1 and s[0] == '0':\n",
    "          continue\n",
    "        dfs(s, l + 1, r - 1)\n",
    "\n",
    "    for n in range(len(low), len(high) + 1):\n",
    "      dfs([' '] * n, 0, n - 1)\n",
    "\n",
    "    return ans"
   ]
  },
  {
   "cell_type": "code",
   "execution_count": null,
   "id": "0ac0e178",
   "metadata": {},
   "outputs": [],
   "source": [
    "new Solution().strobogrammaticInRange()"
   ]
  }
 ],
 "metadata": {},
 "nbformat": 4,
 "nbformat_minor": 5
}

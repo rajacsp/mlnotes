{
 "cells": [
  {
   "cell_type": "markdown",
   "id": "7a37d972",
   "metadata": {},
   "source": [
    "https://leetcode.com/problems/squirrel-simulation"
   ]
  },
  {
   "cell_type": "code",
   "execution_count": null,
   "id": "b8f20685",
   "metadata": {},
   "outputs": [],
   "source": [
    "import pyutil as pyu\n",
    "pyu.get_local_pyinfo()"
   ]
  },
  {
   "cell_type": "code",
   "execution_count": null,
   "id": "c9d02d9d",
   "metadata": {},
   "outputs": [],
   "source": [
    "print(pyu.ps2(\"python-dotenv\"))"
   ]
  },
  {
   "cell_type": "code",
   "execution_count": null,
   "id": "8d5c20ed",
   "metadata": {},
   "outputs": [],
   "source": [
    "from typing import List"
   ]
  },
  {
   "cell_type": "code",
   "execution_count": null,
   "id": "5a74c142",
   "metadata": {},
   "outputs": [],
   "source": [
    "class Solution:\n",
    "  def minDistance(self, height: int, width: int, tree: List[int], squirrel: List[int], nuts: List[List[int]]) -> int:\n",
    "    def dist(a: List[int], b: List[int]) -> int:\n",
    "      return abs(a[0] - b[0]) + abs(a[1] - b[1])\n",
    "\n",
    "    totDist = sum(dist(nut, tree) for nut in nuts) * 2\n",
    "    maxSave = max(dist(nut, tree) - dist(nut, squirrel) for nut in nuts)\n",
    "    return totDist - maxSave"
   ]
  },
  {
   "cell_type": "code",
   "execution_count": null,
   "id": "04c5c345",
   "metadata": {},
   "outputs": [],
   "source": [
    "new Solution().minDistance()"
   ]
  }
 ],
 "metadata": {},
 "nbformat": 4,
 "nbformat_minor": 5
}

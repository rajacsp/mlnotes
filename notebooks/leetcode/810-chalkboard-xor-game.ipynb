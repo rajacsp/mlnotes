{
 "cells": [
  {
   "cell_type": "markdown",
   "id": "ec2d9dde",
   "metadata": {},
   "source": [
    "https://leetcode.com/problems/chalkboard-xor-game"
   ]
  },
  {
   "cell_type": "code",
   "execution_count": null,
   "id": "26e0f9e0",
   "metadata": {},
   "outputs": [],
   "source": [
    "import pyutil as pyu\n",
    "pyu.get_local_pyinfo()"
   ]
  },
  {
   "cell_type": "code",
   "execution_count": null,
   "id": "36249804",
   "metadata": {},
   "outputs": [],
   "source": [
    "print(pyu.ps2(\"python-dotenv\"))"
   ]
  },
  {
   "cell_type": "code",
   "execution_count": null,
   "id": "538a1715",
   "metadata": {},
   "outputs": [],
   "source": [
    "from typing import List"
   ]
  },
  {
   "cell_type": "code",
   "execution_count": null,
   "id": "34f88f8d",
   "metadata": {},
   "outputs": [],
   "source": [
    "class Solution:\n",
    "  def xorGame(self, nums: List[int]) -> bool:\n",
    "    return functools.reduce(operator.xor, nums) == 0 or len(nums) % 2 == 0"
   ]
  },
  {
   "cell_type": "code",
   "execution_count": null,
   "id": "ae41965b",
   "metadata": {},
   "outputs": [],
   "source": [
    "new Solution().xorGame()"
   ]
  }
 ],
 "metadata": {},
 "nbformat": 4,
 "nbformat_minor": 5
}

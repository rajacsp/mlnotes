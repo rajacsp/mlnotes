{
 "cells": [
  {
   "cell_type": "markdown",
   "id": "40989b8b",
   "metadata": {},
   "source": [
    "https://leetcode.com/problems/remove-nth-node-from-end-of-list"
   ]
  },
  {
   "cell_type": "code",
   "execution_count": null,
   "id": "5e2cd467",
   "metadata": {},
   "outputs": [],
   "source": [
    "import pyutil as pyu\n",
    "pyu.get_local_pyinfo()"
   ]
  },
  {
   "cell_type": "code",
   "execution_count": null,
   "id": "8625595a",
   "metadata": {},
   "outputs": [],
   "source": [
    "print(pyu.ps2(\"python-dotenv\"))"
   ]
  },
  {
   "cell_type": "code",
   "execution_count": null,
   "id": "0ce4a415",
   "metadata": {},
   "outputs": [],
   "source": [
    "from typing import List"
   ]
  },
  {
   "cell_type": "code",
   "execution_count": null,
   "id": "7b32b276",
   "metadata": {},
   "outputs": [],
   "source": [
    "class Solution:\n",
    "  def removeNthFromEnd(self, head: ListNode, n: int) -> ListNode:\n",
    "    slow = head\n",
    "    fast = head\n",
    "\n",
    "    for _ in range(n):\n",
    "      fast = fast.next\n",
    "    if not fast:\n",
    "      return head.next\n",
    "\n",
    "    while fast.next:\n",
    "      slow = slow.next\n",
    "      fast = fast.next\n",
    "    slow.next = slow.next.next\n",
    "\n",
    "    return head"
   ]
  },
  {
   "cell_type": "code",
   "execution_count": null,
   "id": "9dd59214",
   "metadata": {},
   "outputs": [],
   "source": [
    "new Solution().removeNthFromEnd()"
   ]
  }
 ],
 "metadata": {},
 "nbformat": 4,
 "nbformat_minor": 5
}

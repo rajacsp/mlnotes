{
 "cells": [
  {
   "cell_type": "markdown",
   "id": "0233ec48",
   "metadata": {},
   "source": [
    "https://leetcode.com/problems/rotate-list"
   ]
  },
  {
   "cell_type": "code",
   "execution_count": null,
   "id": "1c2b9ade",
   "metadata": {},
   "outputs": [],
   "source": [
    "import pyutil as pyu\n",
    "pyu.get_local_pyinfo()"
   ]
  },
  {
   "cell_type": "code",
   "execution_count": null,
   "id": "4761d5b7",
   "metadata": {},
   "outputs": [],
   "source": [
    "print(pyu.ps2(\"python-dotenv\"))"
   ]
  },
  {
   "cell_type": "code",
   "execution_count": null,
   "id": "c2718574",
   "metadata": {},
   "outputs": [],
   "source": [
    "from typing import List"
   ]
  },
  {
   "cell_type": "code",
   "execution_count": null,
   "id": "897f3ef8",
   "metadata": {},
   "outputs": [],
   "source": [
    "class Solution:\n",
    "  def rotateRight(self, head: ListNode, k: int) -> ListNode:\n",
    "    if not head or not head.next or k == 0:\n",
    "      return head\n",
    "\n",
    "    tail = head\n",
    "    length = 1\n",
    "    while tail.next:\n",
    "      tail = tail.next\n",
    "      length += 1\n",
    "    tail.next = head  # Circle the list\n",
    "\n",
    "    t = length - k % length\n",
    "    for _ in range(t):\n",
    "      tail = tail.next\n",
    "    newHead = tail.next\n",
    "    tail.next = None\n",
    "\n",
    "    return newHead"
   ]
  },
  {
   "cell_type": "code",
   "execution_count": null,
   "id": "de9d922e",
   "metadata": {},
   "outputs": [],
   "source": [
    "new Solution().rotateRight()"
   ]
  }
 ],
 "metadata": {},
 "nbformat": 4,
 "nbformat_minor": 5
}

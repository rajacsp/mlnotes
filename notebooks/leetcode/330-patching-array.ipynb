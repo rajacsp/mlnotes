{
 "cells": [
  {
   "cell_type": "markdown",
   "id": "f0044710",
   "metadata": {},
   "source": [
    "https://leetcode.com/problems/patching-array"
   ]
  },
  {
   "cell_type": "code",
   "execution_count": null,
   "id": "4aa82975",
   "metadata": {},
   "outputs": [],
   "source": [
    "import pyutil as pyu\n",
    "pyu.get_local_pyinfo()"
   ]
  },
  {
   "cell_type": "code",
   "execution_count": null,
   "id": "f39f4385",
   "metadata": {},
   "outputs": [],
   "source": [
    "print(pyu.ps2(\"python-dotenv\"))"
   ]
  },
  {
   "cell_type": "code",
   "execution_count": null,
   "id": "d7b89a9b",
   "metadata": {},
   "outputs": [],
   "source": [
    "from typing import List"
   ]
  },
  {
   "cell_type": "code",
   "execution_count": null,
   "id": "e387e9e8",
   "metadata": {},
   "outputs": [],
   "source": [
    "class Solution:\n",
    "  def minPatches(self, nums: List[int], n: int) -> int:\n",
    "    ans = 0\n",
    "    i = 0     # Point to nums\n",
    "    miss = 1  # Min sum in [1, n] we might miss\n",
    "\n",
    "    while miss <= n:\n",
    "      if i < len(nums) and nums[i] <= miss:\n",
    "        miss += nums[i]\n",
    "        i += 1\n",
    "      else:\n",
    "        # Greedily add miss itself to increase the range\n",
    "        # From [1, miss) to [1, 2 * miss)\n",
    "        miss += miss\n",
    "        ans += 1\n",
    "\n",
    "    return ans"
   ]
  },
  {
   "cell_type": "code",
   "execution_count": null,
   "id": "c86f5ecf",
   "metadata": {},
   "outputs": [],
   "source": [
    "new Solution().minPatches()"
   ]
  }
 ],
 "metadata": {},
 "nbformat": 4,
 "nbformat_minor": 5
}

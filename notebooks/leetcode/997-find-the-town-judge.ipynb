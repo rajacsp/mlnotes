{
 "cells": [
  {
   "cell_type": "markdown",
   "id": "15066ee9",
   "metadata": {},
   "source": [
    "https://leetcode.com/problems/find-the-town-judge"
   ]
  },
  {
   "cell_type": "code",
   "execution_count": null,
   "id": "096a4bc5",
   "metadata": {},
   "outputs": [],
   "source": [
    "import pyutil as pyu\n",
    "pyu.get_local_pyinfo()"
   ]
  },
  {
   "cell_type": "code",
   "execution_count": null,
   "id": "c7005bb8",
   "metadata": {},
   "outputs": [],
   "source": [
    "print(pyu.ps2(\"python-dotenv\"))"
   ]
  },
  {
   "cell_type": "code",
   "execution_count": null,
   "id": "a5ca3aac",
   "metadata": {},
   "outputs": [],
   "source": [
    "from typing import List"
   ]
  },
  {
   "cell_type": "code",
   "execution_count": null,
   "id": "d85914a8",
   "metadata": {},
   "outputs": [],
   "source": [
    "class Solution:\n",
    "  def findJudge(self, n: int, trust: List[List[int]]) -> int:\n",
    "    count = [0] * (n + 1)\n",
    "\n",
    "    for a, b in trust:\n",
    "      count[a] -= 1\n",
    "      count[b] += 1\n",
    "\n",
    "    for i in range(1, n + 1):\n",
    "      if count[i] == n - 1:\n",
    "        return i\n",
    "\n",
    "    return -1"
   ]
  },
  {
   "cell_type": "code",
   "execution_count": null,
   "id": "2a157cae",
   "metadata": {},
   "outputs": [],
   "source": [
    "new Solution().findJudge()"
   ]
  }
 ],
 "metadata": {},
 "nbformat": 4,
 "nbformat_minor": 5
}

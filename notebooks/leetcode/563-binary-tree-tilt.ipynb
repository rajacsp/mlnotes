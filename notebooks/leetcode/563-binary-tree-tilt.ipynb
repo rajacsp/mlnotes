{
 "cells": [
  {
   "cell_type": "markdown",
   "id": "2611dbb8",
   "metadata": {},
   "source": [
    "https://leetcode.com/problems/binary-tree-tilt"
   ]
  },
  {
   "cell_type": "code",
   "execution_count": null,
   "id": "481bf072",
   "metadata": {},
   "outputs": [],
   "source": [
    "import pyutil as pyu\n",
    "pyu.get_local_pyinfo()"
   ]
  },
  {
   "cell_type": "code",
   "execution_count": null,
   "id": "58d45a9b",
   "metadata": {},
   "outputs": [],
   "source": [
    "print(pyu.ps2(\"python-dotenv\"))"
   ]
  },
  {
   "cell_type": "code",
   "execution_count": null,
   "id": "85045b68",
   "metadata": {},
   "outputs": [],
   "source": [
    "from typing import List"
   ]
  },
  {
   "cell_type": "code",
   "execution_count": null,
   "id": "b3aa7485",
   "metadata": {},
   "outputs": [],
   "source": [
    "class Solution:\n",
    "  def findTilt(self, root: Optional[TreeNode]) -> int:\n",
    "    ans = 0\n",
    "\n",
    "    def summ(root: Optional[TreeNode]) -> None:\n",
    "      nonlocal ans\n",
    "      if not root:\n",
    "        return 0\n",
    "\n",
    "      l = summ(root.left)\n",
    "      r = summ(root.right)\n",
    "      ans += abs(l - r)\n",
    "      return root.val + l + r\n",
    "\n",
    "    summ(root)\n",
    "    return ans"
   ]
  },
  {
   "cell_type": "code",
   "execution_count": null,
   "id": "45999c79",
   "metadata": {},
   "outputs": [],
   "source": [
    "new Solution().findTilt()"
   ]
  }
 ],
 "metadata": {},
 "nbformat": 4,
 "nbformat_minor": 5
}

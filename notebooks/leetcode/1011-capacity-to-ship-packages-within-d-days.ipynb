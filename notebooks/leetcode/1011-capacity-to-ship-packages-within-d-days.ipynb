{
 "cells": [
  {
   "cell_type": "markdown",
   "id": "3db52257",
   "metadata": {},
   "source": [
    "https://leetcode.com/problems/capacity-to-ship-packages-within-d-days"
   ]
  },
  {
   "cell_type": "code",
   "execution_count": null,
   "id": "791651ad",
   "metadata": {},
   "outputs": [],
   "source": [
    "import pyutil as pyu\n",
    "pyu.get_local_pyinfo()"
   ]
  },
  {
   "cell_type": "code",
   "execution_count": null,
   "id": "502be827",
   "metadata": {},
   "outputs": [],
   "source": [
    "print(pyu.ps2(\"python-dotenv\"))"
   ]
  },
  {
   "cell_type": "code",
   "execution_count": null,
   "id": "8c0806a1",
   "metadata": {},
   "outputs": [],
   "source": [
    "from typing import List"
   ]
  },
  {
   "cell_type": "code",
   "execution_count": null,
   "id": "f2982963",
   "metadata": {},
   "outputs": [],
   "source": [
    "class Solution:\n",
    "  def shipWithinDays(self, weights: List[int], days: int) -> int:\n",
    "    l = max(weights)\n",
    "    r = sum(weights)\n",
    "\n",
    "    def shipDays(shipCapacity: int) -> int:\n",
    "      days = 1\n",
    "      capacity = 0\n",
    "      for weight in weights:\n",
    "        if capacity + weight > shipCapacity:\n",
    "          days += 1\n",
    "          capacity = weight\n",
    "        else:\n",
    "          capacity += weight\n",
    "      return days\n",
    "\n",
    "    while l < r:\n",
    "      m = (l + r) // 2\n",
    "      if shipDays(m) <= days:\n",
    "        r = m\n",
    "      else:\n",
    "        l = m + 1\n",
    "\n",
    "    return l"
   ]
  },
  {
   "cell_type": "code",
   "execution_count": null,
   "id": "2eb85432",
   "metadata": {},
   "outputs": [],
   "source": [
    "new Solution().shipWithinDays()"
   ]
  }
 ],
 "metadata": {},
 "nbformat": 4,
 "nbformat_minor": 5
}

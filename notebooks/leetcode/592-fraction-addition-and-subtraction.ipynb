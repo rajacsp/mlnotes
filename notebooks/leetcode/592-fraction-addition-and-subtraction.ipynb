{
 "cells": [
  {
   "cell_type": "markdown",
   "id": "44f3264b",
   "metadata": {},
   "source": [
    "https://leetcode.com/problems/fraction-addition-and-subtraction"
   ]
  },
  {
   "cell_type": "code",
   "execution_count": null,
   "id": "94cde52c",
   "metadata": {},
   "outputs": [],
   "source": [
    "import pyutil as pyu\n",
    "pyu.get_local_pyinfo()"
   ]
  },
  {
   "cell_type": "code",
   "execution_count": null,
   "id": "b7664ab3",
   "metadata": {},
   "outputs": [],
   "source": [
    "print(pyu.ps2(\"python-dotenv\"))"
   ]
  },
  {
   "cell_type": "code",
   "execution_count": null,
   "id": "e5fd1594",
   "metadata": {},
   "outputs": [],
   "source": [
    "from typing import List"
   ]
  },
  {
   "cell_type": "code",
   "execution_count": null,
   "id": "c6ac8ed3",
   "metadata": {},
   "outputs": [],
   "source": [
    "class Solution:\n",
    "  def fractionAddition(self, expression: str) -> str:\n",
    "    ints = list(map(int, re.findall('[+-]?[0-9]+', expression)))\n",
    "    A = 0\n",
    "    B = 1\n",
    "\n",
    "    for a, b in zip(ints[::2], ints[1::2]):\n",
    "      A = A * b + a * B\n",
    "      B *= b\n",
    "      g = math.gcd(A, B)\n",
    "      A //= g\n",
    "      B //= g\n",
    "\n",
    "    return str(A) + '/' + str(B)"
   ]
  },
  {
   "cell_type": "code",
   "execution_count": null,
   "id": "dfa531d3",
   "metadata": {},
   "outputs": [],
   "source": [
    "new Solution().fractionAddition()"
   ]
  }
 ],
 "metadata": {},
 "nbformat": 4,
 "nbformat_minor": 5
}

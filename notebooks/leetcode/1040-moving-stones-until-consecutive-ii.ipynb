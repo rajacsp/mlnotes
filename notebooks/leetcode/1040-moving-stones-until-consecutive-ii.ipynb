{
 "cells": [
  {
   "cell_type": "markdown",
   "id": "4f5f57eb",
   "metadata": {},
   "source": [
    "https://leetcode.com/problems/moving-stones-until-consecutive-ii"
   ]
  },
  {
   "cell_type": "code",
   "execution_count": null,
   "id": "aa761961",
   "metadata": {},
   "outputs": [],
   "source": [
    "import pyutil as pyu\n",
    "pyu.get_local_pyinfo()"
   ]
  },
  {
   "cell_type": "code",
   "execution_count": null,
   "id": "e9391c7a",
   "metadata": {},
   "outputs": [],
   "source": [
    "print(pyu.ps2(\"python-dotenv\"))"
   ]
  },
  {
   "cell_type": "code",
   "execution_count": null,
   "id": "0940312b",
   "metadata": {},
   "outputs": [],
   "source": [
    "from typing import List"
   ]
  },
  {
   "cell_type": "code",
   "execution_count": null,
   "id": "c3e4cedb",
   "metadata": {},
   "outputs": [],
   "source": [
    "class Solution:\n",
    "  def numMovesStonesII(self, stones: List[int]) -> List[int]:\n",
    "    n = len(stones)\n",
    "    minMoves = n\n",
    "\n",
    "    stones.sort()\n",
    "\n",
    "    l = 0\n",
    "    for r, stone in enumerate(stones):\n",
    "      while stone - stones[l] + 1 > n:\n",
    "        l += 1\n",
    "      alreadyStored = r - l + 1\n",
    "      if alreadyStored == n - 1 and stone - stones[l] + 1 == n - 1:\n",
    "        minMoves = 2\n",
    "      else:\n",
    "        minMoves = min(minMoves, n - alreadyStored)\n",
    "\n",
    "    return [minMoves, max(stones[n - 1] - stones[1] - n + 2, stones[n - 2] - stones[0] - n + 2)]"
   ]
  },
  {
   "cell_type": "code",
   "execution_count": null,
   "id": "c6d295c7",
   "metadata": {},
   "outputs": [],
   "source": [
    "new Solution().numMovesStonesII()"
   ]
  }
 ],
 "metadata": {},
 "nbformat": 4,
 "nbformat_minor": 5
}

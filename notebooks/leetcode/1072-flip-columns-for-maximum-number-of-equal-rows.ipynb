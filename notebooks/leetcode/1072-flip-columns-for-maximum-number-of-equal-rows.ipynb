{
 "cells": [
  {
   "cell_type": "markdown",
   "id": "92498394",
   "metadata": {},
   "source": [
    "https://leetcode.com/problems/flip-columns-for-maximum-number-of-equal-rows"
   ]
  },
  {
   "cell_type": "code",
   "execution_count": null,
   "id": "edb78c53",
   "metadata": {},
   "outputs": [],
   "source": [
    "import pyutil as pyu\n",
    "pyu.get_local_pyinfo()"
   ]
  },
  {
   "cell_type": "code",
   "execution_count": null,
   "id": "515d45ce",
   "metadata": {},
   "outputs": [],
   "source": [
    "print(pyu.ps2(\"python-dotenv\"))"
   ]
  },
  {
   "cell_type": "code",
   "execution_count": null,
   "id": "7cca8d04",
   "metadata": {},
   "outputs": [],
   "source": [
    "from typing import List"
   ]
  },
  {
   "cell_type": "code",
   "execution_count": null,
   "id": "c8974d24",
   "metadata": {},
   "outputs": [],
   "source": [
    "class Solution:\n",
    "  def maxEqualRowsAfterFlips(self, matrix: List[List[int]]) -> int:\n",
    "    patterns = [tuple(a ^ row[0] for a in row) for row in matrix]\n",
    "    return max(Counter(patterns).values())"
   ]
  },
  {
   "cell_type": "code",
   "execution_count": null,
   "id": "00c2f7fa",
   "metadata": {},
   "outputs": [],
   "source": [
    "new Solution().maxEqualRowsAfterFlips()"
   ]
  }
 ],
 "metadata": {},
 "nbformat": 4,
 "nbformat_minor": 5
}

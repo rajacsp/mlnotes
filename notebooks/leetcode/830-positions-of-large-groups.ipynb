{
 "cells": [
  {
   "cell_type": "markdown",
   "id": "0464a55f",
   "metadata": {},
   "source": [
    "https://leetcode.com/problems/positions-of-large-groups"
   ]
  },
  {
   "cell_type": "code",
   "execution_count": null,
   "id": "65352052",
   "metadata": {},
   "outputs": [],
   "source": [
    "import pyutil as pyu\n",
    "pyu.get_local_pyinfo()"
   ]
  },
  {
   "cell_type": "code",
   "execution_count": null,
   "id": "551eebc9",
   "metadata": {},
   "outputs": [],
   "source": [
    "print(pyu.ps2(\"python-dotenv\"))"
   ]
  },
  {
   "cell_type": "code",
   "execution_count": null,
   "id": "8bd1b4d7",
   "metadata": {},
   "outputs": [],
   "source": [
    "from typing import List"
   ]
  },
  {
   "cell_type": "code",
   "execution_count": null,
   "id": "5fc853d5",
   "metadata": {},
   "outputs": [],
   "source": [
    "class Solution:\n",
    "  def largeGroupPositions(self, S: str) -> List[List[int]]:\n",
    "    n = len(S)\n",
    "    ans = []\n",
    "    i = 0\n",
    "    j = 0\n",
    "\n",
    "    while i < n:\n",
    "      while j < n and S[j] == S[i]:\n",
    "        j += 1\n",
    "      if j - i >= 3:\n",
    "        ans.append([i, j - 1])\n",
    "      i = j\n",
    "\n",
    "    return ans"
   ]
  },
  {
   "cell_type": "code",
   "execution_count": null,
   "id": "9f15181b",
   "metadata": {},
   "outputs": [],
   "source": [
    "new Solution().largeGroupPositions()"
   ]
  }
 ],
 "metadata": {},
 "nbformat": 4,
 "nbformat_minor": 5
}

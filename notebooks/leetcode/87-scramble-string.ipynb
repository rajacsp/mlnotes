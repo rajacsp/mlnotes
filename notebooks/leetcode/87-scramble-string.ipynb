{
 "cells": [
  {
   "cell_type": "markdown",
   "id": "1d5f6fcf",
   "metadata": {},
   "source": [
    "https://leetcode.com/problems/scramble-string"
   ]
  },
  {
   "cell_type": "code",
   "execution_count": null,
   "id": "de1a973f",
   "metadata": {},
   "outputs": [],
   "source": [
    "import pyutil as pyu\n",
    "pyu.get_local_pyinfo()"
   ]
  },
  {
   "cell_type": "code",
   "execution_count": null,
   "id": "8fb6a579",
   "metadata": {},
   "outputs": [],
   "source": [
    "print(pyu.ps2(\"python-dotenv\"))"
   ]
  },
  {
   "cell_type": "code",
   "execution_count": null,
   "id": "4ef56dee",
   "metadata": {},
   "outputs": [],
   "source": [
    "from typing import List"
   ]
  },
  {
   "cell_type": "code",
   "execution_count": null,
   "id": "2ceb82fb",
   "metadata": {},
   "outputs": [],
   "source": [
    "class Solution:\n",
    "  def isScramble(self, s1: str, s2: str) -> bool:\n",
    "    if s1 == s2:\n",
    "      return True\n",
    "    if len(s1) != len(s2):\n",
    "      return False\n",
    "    if Counter(s1) != Counter(s2):\n",
    "      return False\n",
    "\n",
    "    for i in range(1, len(s1)):\n",
    "      if self.isScramble(s1[:i], s2[:i]) and self.isScramble(s1[i:], s2[i:]):\n",
    "        return True\n",
    "      if self.isScramble(s1[:i], s2[len(s2) - i:]) and self.isScramble(s1[i:], s2[:len(s2) - i]):\n",
    "        return True\n",
    "\n",
    "    return False"
   ]
  },
  {
   "cell_type": "code",
   "execution_count": null,
   "id": "a75cdac5",
   "metadata": {},
   "outputs": [],
   "source": [
    "new Solution().isScramble()"
   ]
  }
 ],
 "metadata": {},
 "nbformat": 4,
 "nbformat_minor": 5
}

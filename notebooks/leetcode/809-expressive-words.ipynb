{
 "cells": [
  {
   "cell_type": "markdown",
   "id": "9346079e",
   "metadata": {},
   "source": [
    "https://leetcode.com/problems/expressive-words"
   ]
  },
  {
   "cell_type": "code",
   "execution_count": null,
   "id": "21470214",
   "metadata": {},
   "outputs": [],
   "source": [
    "import pyutil as pyu\n",
    "pyu.get_local_pyinfo()"
   ]
  },
  {
   "cell_type": "code",
   "execution_count": null,
   "id": "0ea3c0a1",
   "metadata": {},
   "outputs": [],
   "source": [
    "print(pyu.ps2(\"python-dotenv\"))"
   ]
  },
  {
   "cell_type": "code",
   "execution_count": null,
   "id": "0893faab",
   "metadata": {},
   "outputs": [],
   "source": [
    "from typing import List"
   ]
  },
  {
   "cell_type": "code",
   "execution_count": null,
   "id": "8bef6200",
   "metadata": {},
   "outputs": [],
   "source": [
    "class Solution:\n",
    "  def expressiveWords(self, S: str, words: List[str]) -> int:\n",
    "    def isStretchy(word: str) -> bool:\n",
    "      n = len(S)\n",
    "      m = len(word)\n",
    "\n",
    "      j = 0\n",
    "      for i in range(n):\n",
    "        if j < m and S[i] == word[j]:\n",
    "          j += 1\n",
    "        elif i > 1 and S[i] == S[i - 1] == S[i - 2]:\n",
    "          continue\n",
    "        elif 0 < i < n - 1 and S[i - 1] == S[i] == S[i + 1]:\n",
    "          continue\n",
    "        else:\n",
    "          return False\n",
    "\n",
    "      return j == m\n",
    "\n",
    "    return sum(isStretchy(word) for word in words)"
   ]
  },
  {
   "cell_type": "code",
   "execution_count": null,
   "id": "f7fbbc89",
   "metadata": {},
   "outputs": [],
   "source": [
    "new Solution().expressiveWords()"
   ]
  }
 ],
 "metadata": {},
 "nbformat": 4,
 "nbformat_minor": 5
}

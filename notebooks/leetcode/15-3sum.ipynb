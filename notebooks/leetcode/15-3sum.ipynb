{
 "cells": [
  {
   "cell_type": "markdown",
   "id": "a054ca67",
   "metadata": {},
   "source": [
    "https://leetcode.com/problems/3sum"
   ]
  },
  {
   "cell_type": "code",
   "execution_count": null,
   "id": "abb18f68",
   "metadata": {},
   "outputs": [],
   "source": [
    "import pyutil as pyu\n",
    "pyu.get_local_pyinfo()"
   ]
  },
  {
   "cell_type": "code",
   "execution_count": null,
   "id": "c68370de",
   "metadata": {},
   "outputs": [],
   "source": [
    "print(pyu.ps2(\"python-dotenv\"))"
   ]
  },
  {
   "cell_type": "code",
   "execution_count": null,
   "id": "92ca09dd",
   "metadata": {},
   "outputs": [],
   "source": [
    "from typing import List"
   ]
  },
  {
   "cell_type": "code",
   "execution_count": null,
   "id": "4f69342d",
   "metadata": {},
   "outputs": [],
   "source": [
    "class Solution:\n",
    "  def threeSum(self, nums: List[int]) -> List[List[int]]:\n",
    "    if len(nums) < 3:\n",
    "      return []\n",
    "\n",
    "    ans = []\n",
    "\n",
    "    nums.sort()\n",
    "\n",
    "    for i in range(len(nums) - 2):\n",
    "      if i > 0 and nums[i] == nums[i - 1]:\n",
    "        continue\n",
    "      l = i + 1\n",
    "      r = len(nums) - 1\n",
    "      while l < r:\n",
    "        summ = nums[i] + nums[l] + nums[r]\n",
    "        if summ == 0:\n",
    "          ans.append((nums[i], nums[l], nums[r]))\n",
    "          l += 1\n",
    "          r -= 1\n",
    "          while nums[l] == nums[l - 1] and l < r:\n",
    "            l += 1\n",
    "          while nums[r] == nums[r + 1] and l < r:\n",
    "            r -= 1\n",
    "        elif summ < 0:\n",
    "          l += 1\n",
    "        else:\n",
    "          r -= 1\n",
    "\n",
    "    return ans"
   ]
  },
  {
   "cell_type": "code",
   "execution_count": null,
   "id": "3bb7c82c",
   "metadata": {},
   "outputs": [],
   "source": [
    "new Solution().threeSum()"
   ]
  }
 ],
 "metadata": {},
 "nbformat": 4,
 "nbformat_minor": 5
}

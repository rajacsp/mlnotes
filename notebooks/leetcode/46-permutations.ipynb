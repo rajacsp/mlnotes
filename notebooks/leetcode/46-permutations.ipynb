{
 "cells": [
  {
   "cell_type": "markdown",
   "id": "bb145011",
   "metadata": {},
   "source": [
    "https://leetcode.com/problems/permutations"
   ]
  },
  {
   "cell_type": "code",
   "execution_count": null,
   "id": "3bf39369",
   "metadata": {},
   "outputs": [],
   "source": [
    "import pyutil as pyu\n",
    "pyu.get_local_pyinfo()"
   ]
  },
  {
   "cell_type": "code",
   "execution_count": null,
   "id": "4db2be33",
   "metadata": {},
   "outputs": [],
   "source": [
    "print(pyu.ps2(\"python-dotenv\"))"
   ]
  },
  {
   "cell_type": "code",
   "execution_count": null,
   "id": "e8ec5c57",
   "metadata": {},
   "outputs": [],
   "source": [
    "from typing import List"
   ]
  },
  {
   "cell_type": "code",
   "execution_count": null,
   "id": "dc9da825",
   "metadata": {},
   "outputs": [],
   "source": [
    "class Solution:\n",
    "  def permute(self, nums: List[int]) -> List[List[int]]:\n",
    "    ans = []\n",
    "    used = [False] * len(nums)\n",
    "\n",
    "    def dfs(path: List[int]) -> None:\n",
    "      if len(path) == len(nums):\n",
    "        ans.append(path.copy())\n",
    "        return\n",
    "\n",
    "      for i, num in enumerate(nums):\n",
    "        if used[i]:\n",
    "          continue\n",
    "        used[i] = True\n",
    "        path.append(num)\n",
    "        dfs(path)\n",
    "        path.pop()\n",
    "        used[i] = False\n",
    "\n",
    "    dfs([])\n",
    "    return ans"
   ]
  },
  {
   "cell_type": "code",
   "execution_count": null,
   "id": "ca4e659e",
   "metadata": {},
   "outputs": [],
   "source": [
    "new Solution().permute()"
   ]
  }
 ],
 "metadata": {},
 "nbformat": 4,
 "nbformat_minor": 5
}

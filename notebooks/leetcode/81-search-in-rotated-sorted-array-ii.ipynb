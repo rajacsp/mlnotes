{
 "cells": [
  {
   "cell_type": "markdown",
   "id": "984b9fcd",
   "metadata": {},
   "source": [
    "https://leetcode.com/problems/search-in-rotated-sorted-array-ii"
   ]
  },
  {
   "cell_type": "code",
   "execution_count": null,
   "id": "6013beb7",
   "metadata": {},
   "outputs": [],
   "source": [
    "import pyutil as pyu\n",
    "pyu.get_local_pyinfo()"
   ]
  },
  {
   "cell_type": "code",
   "execution_count": null,
   "id": "32764bd6",
   "metadata": {},
   "outputs": [],
   "source": [
    "print(pyu.ps2(\"python-dotenv\"))"
   ]
  },
  {
   "cell_type": "code",
   "execution_count": null,
   "id": "5cc2d51b",
   "metadata": {},
   "outputs": [],
   "source": [
    "from typing import List"
   ]
  },
  {
   "cell_type": "code",
   "execution_count": null,
   "id": "ed758a4f",
   "metadata": {},
   "outputs": [],
   "source": [
    "class Solution:\n",
    "  def search(self, nums: List[int], target: int) -> bool:\n",
    "    l = 0\n",
    "    r = len(nums) - 1\n",
    "\n",
    "    while l <= r:\n",
    "      m = (l + r) // 2\n",
    "      if nums[m] == target:\n",
    "        return True\n",
    "      if nums[l] == nums[m] == nums[r]:\n",
    "        l += 1\n",
    "        r -= 1\n",
    "      elif nums[l] <= nums[m]:  # nums[l..m] are sorted\n",
    "        if nums[l] <= target < nums[m]:\n",
    "          r = m - 1\n",
    "        else:\n",
    "          l = m + 1\n",
    "      else:  # nums[m..n - 1] are sorted\n",
    "        if nums[m] < target <= nums[r]:\n",
    "          l = m + 1\n",
    "        else:\n",
    "          r = m - 1\n",
    "\n",
    "    return False"
   ]
  },
  {
   "cell_type": "code",
   "execution_count": null,
   "id": "00452163",
   "metadata": {},
   "outputs": [],
   "source": [
    "new Solution().search()"
   ]
  }
 ],
 "metadata": {},
 "nbformat": 4,
 "nbformat_minor": 5
}

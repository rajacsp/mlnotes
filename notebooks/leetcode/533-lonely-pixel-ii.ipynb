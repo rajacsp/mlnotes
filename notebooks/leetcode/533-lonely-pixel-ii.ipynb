{
 "cells": [
  {
   "cell_type": "markdown",
   "id": "c8922fac",
   "metadata": {},
   "source": [
    "https://leetcode.com/problems/lonely-pixel-ii"
   ]
  },
  {
   "cell_type": "code",
   "execution_count": null,
   "id": "dca35ef6",
   "metadata": {},
   "outputs": [],
   "source": [
    "import pyutil as pyu\n",
    "pyu.get_local_pyinfo()"
   ]
  },
  {
   "cell_type": "code",
   "execution_count": null,
   "id": "462c041e",
   "metadata": {},
   "outputs": [],
   "source": [
    "print(pyu.ps2(\"python-dotenv\"))"
   ]
  },
  {
   "cell_type": "code",
   "execution_count": null,
   "id": "23e757eb",
   "metadata": {},
   "outputs": [],
   "source": [
    "from typing import List"
   ]
  },
  {
   "cell_type": "code",
   "execution_count": null,
   "id": "73f171fe",
   "metadata": {},
   "outputs": [],
   "source": [
    "class Solution:\n",
    "  def findBlackPixel(self, picture: List[List[str]], target: int) -> int:\n",
    "    m = len(picture)\n",
    "    n = len(picture[0])\n",
    "    ans = 0\n",
    "    rows = [row.count('B') for row in picture]\n",
    "    cols = [col.count('B') for col in zip(*picture)]\n",
    "    rowStrings = [''.join(row) for row in picture]\n",
    "    countRowStrings = Counter(rowStrings)\n",
    "\n",
    "    for i, (row, stringRow) in enumerate(zip(rows, rowStrings)):\n",
    "      if row == target and countRowStrings[stringRow] == target:\n",
    "        for j, col in enumerate(cols):\n",
    "          if picture[i][j] == 'B' and col == target:\n",
    "            ans += 1\n",
    "\n",
    "    return ans"
   ]
  },
  {
   "cell_type": "code",
   "execution_count": null,
   "id": "3cd962fd",
   "metadata": {},
   "outputs": [],
   "source": [
    "new Solution().findBlackPixel()"
   ]
  }
 ],
 "metadata": {},
 "nbformat": 4,
 "nbformat_minor": 5
}

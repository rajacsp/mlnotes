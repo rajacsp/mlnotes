{
 "cells": [
  {
   "cell_type": "markdown",
   "id": "fcb72968",
   "metadata": {},
   "source": [
    "https://leetcode.com/problems/super-palindromes"
   ]
  },
  {
   "cell_type": "code",
   "execution_count": null,
   "id": "1840c2f1",
   "metadata": {},
   "outputs": [],
   "source": [
    "import pyutil as pyu\n",
    "pyu.get_local_pyinfo()"
   ]
  },
  {
   "cell_type": "code",
   "execution_count": null,
   "id": "661f0991",
   "metadata": {},
   "outputs": [],
   "source": [
    "print(pyu.ps2(\"python-dotenv\"))"
   ]
  },
  {
   "cell_type": "code",
   "execution_count": null,
   "id": "7dc08386",
   "metadata": {},
   "outputs": [],
   "source": [
    "from typing import List"
   ]
  },
  {
   "cell_type": "code",
   "execution_count": null,
   "id": "691696c7",
   "metadata": {},
   "outputs": [],
   "source": [
    "class Solution:\n",
    "  def superpalindromesInRange(self, left: str, right: str) -> int:\n",
    "    def nextPalindrome(num: int) -> int:\n",
    "      s = str(num)\n",
    "      n = len(s)\n",
    "\n",
    "      half = s[0:(n + 1) // 2]\n",
    "      reversedHalf = half[:n // 2][::-1]\n",
    "      candidate = int(half + reversedHalf)\n",
    "      if candidate >= num:\n",
    "        return candidate\n",
    "\n",
    "      half = str(int(half) + 1)\n",
    "      reversedHalf = half[:n // 2][::-1]\n",
    "      return int(half + reversedHalf)\n",
    "\n",
    "    def isPalindrome(num: int) -> bool:\n",
    "      s = str(num)\n",
    "      l = 0\n",
    "      r = len(s) - 1\n",
    "\n",
    "      while l < r:\n",
    "        if s[l] != s[r]:\n",
    "          return False\n",
    "        l += 1\n",
    "        r -= 1\n",
    "\n",
    "      return True\n",
    "\n",
    "    ans = 0\n",
    "    l = int(left)\n",
    "    r = int(right)\n",
    "    i = int(sqrt(l))\n",
    "\n",
    "    while i * i <= r:\n",
    "      palindrome = nextPalindrome(i)\n",
    "      squared = palindrome**2\n",
    "      if squared <= r and isPalindrome(squared):\n",
    "        ans += 1\n",
    "      i = palindrome + 1\n",
    "\n",
    "    return ans"
   ]
  },
  {
   "cell_type": "code",
   "execution_count": null,
   "id": "9920c67a",
   "metadata": {},
   "outputs": [],
   "source": [
    "new Solution().superpalindromesInRange()"
   ]
  }
 ],
 "metadata": {},
 "nbformat": 4,
 "nbformat_minor": 5
}

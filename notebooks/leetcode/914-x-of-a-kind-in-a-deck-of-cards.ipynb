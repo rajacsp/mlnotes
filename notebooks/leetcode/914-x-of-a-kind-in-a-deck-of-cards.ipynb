{
 "cells": [
  {
   "cell_type": "markdown",
   "id": "4e5c35ee",
   "metadata": {},
   "source": [
    "https://leetcode.com/problems/x-of-a-kind-in-a-deck-of-cards"
   ]
  },
  {
   "cell_type": "code",
   "execution_count": null,
   "id": "f65ba9bb",
   "metadata": {},
   "outputs": [],
   "source": [
    "import pyutil as pyu\n",
    "pyu.get_local_pyinfo()"
   ]
  },
  {
   "cell_type": "code",
   "execution_count": null,
   "id": "02f04bc3",
   "metadata": {},
   "outputs": [],
   "source": [
    "print(pyu.ps2(\"python-dotenv\"))"
   ]
  },
  {
   "cell_type": "code",
   "execution_count": null,
   "id": "bffed6d6",
   "metadata": {},
   "outputs": [],
   "source": [
    "from typing import List"
   ]
  },
  {
   "cell_type": "code",
   "execution_count": null,
   "id": "381ec0c6",
   "metadata": {},
   "outputs": [],
   "source": [
    "class Solution:\n",
    "  def hasGroupsSizeX(self, deck: List[int]) -> bool:\n",
    "    count = Counter(deck)\n",
    "    return functools.reduce(math.gcd, count.values()) >= 2"
   ]
  },
  {
   "cell_type": "code",
   "execution_count": null,
   "id": "a0752957",
   "metadata": {},
   "outputs": [],
   "source": [
    "new Solution().hasGroupsSizeX()"
   ]
  }
 ],
 "metadata": {},
 "nbformat": 4,
 "nbformat_minor": 5
}

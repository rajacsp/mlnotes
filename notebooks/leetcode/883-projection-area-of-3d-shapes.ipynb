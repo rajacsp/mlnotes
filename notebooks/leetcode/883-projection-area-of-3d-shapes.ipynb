{
 "cells": [
  {
   "cell_type": "markdown",
   "id": "3418019d",
   "metadata": {},
   "source": [
    "https://leetcode.com/problems/projection-area-of-3d-shapes"
   ]
  },
  {
   "cell_type": "code",
   "execution_count": null,
   "id": "c836a8ab",
   "metadata": {},
   "outputs": [],
   "source": [
    "import pyutil as pyu\n",
    "pyu.get_local_pyinfo()"
   ]
  },
  {
   "cell_type": "code",
   "execution_count": null,
   "id": "57779b44",
   "metadata": {},
   "outputs": [],
   "source": [
    "print(pyu.ps2(\"python-dotenv\"))"
   ]
  },
  {
   "cell_type": "code",
   "execution_count": null,
   "id": "267e20de",
   "metadata": {},
   "outputs": [],
   "source": [
    "from typing import List"
   ]
  },
  {
   "cell_type": "code",
   "execution_count": null,
   "id": "2e665efc",
   "metadata": {},
   "outputs": [],
   "source": [
    "class Solution:\n",
    "  def projectionArea(self, grid: List[List[int]]) -> int:\n",
    "    return sum(a > 0 for row in grid for a in row) + sum(max(row) for row in grid) + sum(max(col) for col in zip(*grid))"
   ]
  },
  {
   "cell_type": "code",
   "execution_count": null,
   "id": "8b9876ba",
   "metadata": {},
   "outputs": [],
   "source": [
    "new Solution().projectionArea()"
   ]
  }
 ],
 "metadata": {},
 "nbformat": 4,
 "nbformat_minor": 5
}

{
 "cells": [
  {
   "cell_type": "markdown",
   "id": "063a0a16",
   "metadata": {},
   "source": [
    "https://leetcode.com/problems/number-of-connected-components-in-an-undirected-graph"
   ]
  },
  {
   "cell_type": "code",
   "execution_count": null,
   "id": "d3e34b61",
   "metadata": {},
   "outputs": [],
   "source": [
    "import pyutil as pyu\n",
    "pyu.get_local_pyinfo()"
   ]
  },
  {
   "cell_type": "code",
   "execution_count": null,
   "id": "87cdee7b",
   "metadata": {},
   "outputs": [],
   "source": [
    "print(pyu.ps2(\"python-dotenv\"))"
   ]
  },
  {
   "cell_type": "code",
   "execution_count": null,
   "id": "c812f16e",
   "metadata": {},
   "outputs": [],
   "source": [
    "from typing import List"
   ]
  },
  {
   "cell_type": "code",
   "execution_count": null,
   "id": "e356753f",
   "metadata": {},
   "outputs": [],
   "source": [
    "class Solution:\n",
    "  def countComponents(self, n: int, edges: List[List[int]]) -> int:\n",
    "    ans = 0\n",
    "    graph = [[] for _ in range(n)]\n",
    "    seen = set()\n",
    "\n",
    "    for u, v in edges:\n",
    "      graph[u].append(v)\n",
    "      graph[v].append(u)\n",
    "\n",
    "    def bfs(node: int, seen: Set[int]) -> None:\n",
    "      q = deque([node])\n",
    "      seen.add(node)\n",
    "\n",
    "      while q:\n",
    "        u = q.pop()\n",
    "        for v in graph[u]:\n",
    "          if v not in seen:\n",
    "            q.append(v)\n",
    "            seen.add(v)\n",
    "\n",
    "    for i in range(n):\n",
    "      if i not in seen:\n",
    "        bfs(i, seen)\n",
    "        ans += 1\n",
    "\n",
    "    return ans"
   ]
  },
  {
   "cell_type": "code",
   "execution_count": null,
   "id": "e8ef37b6",
   "metadata": {},
   "outputs": [],
   "source": [
    "new Solution().countComponents()"
   ]
  }
 ],
 "metadata": {},
 "nbformat": 4,
 "nbformat_minor": 5
}

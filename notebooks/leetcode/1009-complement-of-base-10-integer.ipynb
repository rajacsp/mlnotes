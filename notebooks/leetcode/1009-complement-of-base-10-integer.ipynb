{
 "cells": [
  {
   "cell_type": "markdown",
   "id": "e714ae40",
   "metadata": {},
   "source": [
    "https://leetcode.com/problems/complement-of-base-10-integer"
   ]
  },
  {
   "cell_type": "code",
   "execution_count": null,
   "id": "62b423ed",
   "metadata": {},
   "outputs": [],
   "source": [
    "import pyutil as pyu\n",
    "pyu.get_local_pyinfo()"
   ]
  },
  {
   "cell_type": "code",
   "execution_count": null,
   "id": "a4c19aa1",
   "metadata": {},
   "outputs": [],
   "source": [
    "print(pyu.ps2(\"python-dotenv\"))"
   ]
  },
  {
   "cell_type": "code",
   "execution_count": null,
   "id": "d8c9e443",
   "metadata": {},
   "outputs": [],
   "source": [
    "from typing import List"
   ]
  },
  {
   "cell_type": "code",
   "execution_count": null,
   "id": "26adc450",
   "metadata": {},
   "outputs": [],
   "source": [
    "class Solution:\n",
    "  def bitwiseComplement(self, N: int) -> int:\n",
    "    mask = 1\n",
    "\n",
    "    while mask < N:\n",
    "      mask = (mask << 1) + 1\n",
    "\n",
    "    return mask ^ N"
   ]
  },
  {
   "cell_type": "code",
   "execution_count": null,
   "id": "f4ca3efd",
   "metadata": {},
   "outputs": [],
   "source": [
    "new Solution().bitwiseComplement()"
   ]
  }
 ],
 "metadata": {},
 "nbformat": 4,
 "nbformat_minor": 5
}

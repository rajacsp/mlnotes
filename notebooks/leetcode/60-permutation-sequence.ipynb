{
 "cells": [
  {
   "cell_type": "markdown",
   "id": "4384ab82",
   "metadata": {},
   "source": [
    "https://leetcode.com/problems/permutation-sequence"
   ]
  },
  {
   "cell_type": "code",
   "execution_count": null,
   "id": "9f130aaa",
   "metadata": {},
   "outputs": [],
   "source": [
    "import pyutil as pyu\n",
    "pyu.get_local_pyinfo()"
   ]
  },
  {
   "cell_type": "code",
   "execution_count": null,
   "id": "a0b37f39",
   "metadata": {},
   "outputs": [],
   "source": [
    "print(pyu.ps2(\"python-dotenv\"))"
   ]
  },
  {
   "cell_type": "code",
   "execution_count": null,
   "id": "158421bf",
   "metadata": {},
   "outputs": [],
   "source": [
    "from typing import List"
   ]
  },
  {
   "cell_type": "code",
   "execution_count": null,
   "id": "0b083e9c",
   "metadata": {},
   "outputs": [],
   "source": [
    "class Solution:\n",
    "  def getPermutation(self, n: int, k: int) -> str:\n",
    "    ans = ''\n",
    "    nums = [i + 1 for i in range(n)]\n",
    "    factorial = [1] * (n + 1)  # factorial[i] := i!\n",
    "\n",
    "    for i in range(2, n + 1):\n",
    "      factorial[i] = factorial[i - 1] * i\n",
    "\n",
    "    k -= 1  # 0-indexed\n",
    "\n",
    "    for i in reversed(range(n)):\n",
    "      j = k // factorial[i]\n",
    "      k %= factorial[i]\n",
    "      ans += str(nums[j])\n",
    "      nums.pop(j)\n",
    "\n",
    "    return ans"
   ]
  },
  {
   "cell_type": "code",
   "execution_count": null,
   "id": "806e0e08",
   "metadata": {},
   "outputs": [],
   "source": [
    "new Solution().getPermutation()"
   ]
  }
 ],
 "metadata": {},
 "nbformat": 4,
 "nbformat_minor": 5
}

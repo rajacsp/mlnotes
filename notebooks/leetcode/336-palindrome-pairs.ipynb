{
 "cells": [
  {
   "cell_type": "markdown",
   "id": "367f0692",
   "metadata": {},
   "source": [
    "https://leetcode.com/problems/palindrome-pairs"
   ]
  },
  {
   "cell_type": "code",
   "execution_count": null,
   "id": "2e871c3e",
   "metadata": {},
   "outputs": [],
   "source": [
    "import pyutil as pyu\n",
    "pyu.get_local_pyinfo()"
   ]
  },
  {
   "cell_type": "code",
   "execution_count": null,
   "id": "60312f08",
   "metadata": {},
   "outputs": [],
   "source": [
    "print(pyu.ps2(\"python-dotenv\"))"
   ]
  },
  {
   "cell_type": "code",
   "execution_count": null,
   "id": "b467b423",
   "metadata": {},
   "outputs": [],
   "source": [
    "from typing import List"
   ]
  },
  {
   "cell_type": "code",
   "execution_count": null,
   "id": "b3c4dadb",
   "metadata": {},
   "outputs": [],
   "source": [
    "class Solution:\n",
    "  def palindromePairs(self, words: List[str]) -> List[List[int]]:\n",
    "    ans = []\n",
    "    dict = {word[::-1]: i for i, word in enumerate(words)}\n",
    "\n",
    "    for i, word in enumerate(words):\n",
    "      if \"\" in dict and dict[\"\"] != i and word == word[::-1]:\n",
    "        ans.append([i, dict[\"\"]])\n",
    "\n",
    "      for j in range(1, len(word) + 1):\n",
    "        l = word[:j]\n",
    "        r = word[j:]\n",
    "        if l in dict and dict[l] != i and r == r[::-1]:\n",
    "          ans.append([i, dict[l]])\n",
    "        if r in dict and dict[r] != i and l == l[::-1]:\n",
    "          ans.append([dict[r], i])\n",
    "\n",
    "    return ans"
   ]
  },
  {
   "cell_type": "code",
   "execution_count": null,
   "id": "b96c5069",
   "metadata": {},
   "outputs": [],
   "source": [
    "new Solution().palindromePairs()"
   ]
  }
 ],
 "metadata": {},
 "nbformat": 4,
 "nbformat_minor": 5
}

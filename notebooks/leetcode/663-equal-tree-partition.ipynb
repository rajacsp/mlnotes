{
 "cells": [
  {
   "cell_type": "markdown",
   "id": "49f04eb6",
   "metadata": {},
   "source": [
    "https://leetcode.com/problems/equal-tree-partition"
   ]
  },
  {
   "cell_type": "code",
   "execution_count": null,
   "id": "d50c7225",
   "metadata": {},
   "outputs": [],
   "source": [
    "import pyutil as pyu\n",
    "pyu.get_local_pyinfo()"
   ]
  },
  {
   "cell_type": "code",
   "execution_count": null,
   "id": "b41ef20c",
   "metadata": {},
   "outputs": [],
   "source": [
    "print(pyu.ps2(\"python-dotenv\"))"
   ]
  },
  {
   "cell_type": "code",
   "execution_count": null,
   "id": "ebddfc83",
   "metadata": {},
   "outputs": [],
   "source": [
    "from typing import List"
   ]
  },
  {
   "cell_type": "code",
   "execution_count": null,
   "id": "54f1e83a",
   "metadata": {},
   "outputs": [],
   "source": [
    "class Solution:\n",
    "  def checkEqualTree(self, root: Optional[TreeNode]) -> bool:\n",
    "    if not root:\n",
    "      return False\n",
    "\n",
    "    seen = set()\n",
    "\n",
    "    def dfs(root: Optional[TreeNode]) -> int:\n",
    "      if not root:\n",
    "        return 0\n",
    "\n",
    "      summ = root.val + dfs(root.left) + dfs(root.right)\n",
    "      seen.add(summ)\n",
    "      return summ\n",
    "\n",
    "    summ = root.val + dfs(root.left) + dfs(root.right)\n",
    "    return summ % 2 == 0 and summ // 2 in seen"
   ]
  },
  {
   "cell_type": "code",
   "execution_count": null,
   "id": "67258f60",
   "metadata": {},
   "outputs": [],
   "source": [
    "new Solution().checkEqualTree()"
   ]
  }
 ],
 "metadata": {},
 "nbformat": 4,
 "nbformat_minor": 5
}

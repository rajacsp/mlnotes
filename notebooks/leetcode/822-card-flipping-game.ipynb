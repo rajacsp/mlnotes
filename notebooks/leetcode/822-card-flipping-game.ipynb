{
 "cells": [
  {
   "cell_type": "markdown",
   "id": "8b7e1093",
   "metadata": {},
   "source": [
    "https://leetcode.com/problems/card-flipping-game"
   ]
  },
  {
   "cell_type": "code",
   "execution_count": null,
   "id": "27986862",
   "metadata": {},
   "outputs": [],
   "source": [
    "import pyutil as pyu\n",
    "pyu.get_local_pyinfo()"
   ]
  },
  {
   "cell_type": "code",
   "execution_count": null,
   "id": "a8337559",
   "metadata": {},
   "outputs": [],
   "source": [
    "print(pyu.ps2(\"python-dotenv\"))"
   ]
  },
  {
   "cell_type": "code",
   "execution_count": null,
   "id": "1b56d92f",
   "metadata": {},
   "outputs": [],
   "source": [
    "from typing import List"
   ]
  },
  {
   "cell_type": "code",
   "execution_count": null,
   "id": "b3c72403",
   "metadata": {},
   "outputs": [],
   "source": [
    "class Solution:\n",
    "  def flipgame(self, fronts: List[int], backs: List[int]) -> int:\n",
    "    same = {f for f, b in zip(fronts, backs) if f == b}\n",
    "    return min([num for num in fronts + backs\n",
    "                if num not in same] or [0])"
   ]
  },
  {
   "cell_type": "code",
   "execution_count": null,
   "id": "11ef1af0",
   "metadata": {},
   "outputs": [],
   "source": [
    "new Solution().flipgame()"
   ]
  }
 ],
 "metadata": {},
 "nbformat": 4,
 "nbformat_minor": 5
}

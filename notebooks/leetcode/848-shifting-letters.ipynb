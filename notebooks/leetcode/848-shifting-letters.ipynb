{
 "cells": [
  {
   "cell_type": "markdown",
   "id": "83bb4f7b",
   "metadata": {},
   "source": [
    "https://leetcode.com/problems/shifting-letters"
   ]
  },
  {
   "cell_type": "code",
   "execution_count": null,
   "id": "2c5ff291",
   "metadata": {},
   "outputs": [],
   "source": [
    "import pyutil as pyu\n",
    "pyu.get_local_pyinfo()"
   ]
  },
  {
   "cell_type": "code",
   "execution_count": null,
   "id": "5c5db5b6",
   "metadata": {},
   "outputs": [],
   "source": [
    "print(pyu.ps2(\"python-dotenv\"))"
   ]
  },
  {
   "cell_type": "code",
   "execution_count": null,
   "id": "02015d97",
   "metadata": {},
   "outputs": [],
   "source": [
    "from typing import List"
   ]
  },
  {
   "cell_type": "code",
   "execution_count": null,
   "id": "ab575f88",
   "metadata": {},
   "outputs": [],
   "source": [
    "class Solution:\n",
    "  def shiftingLetters(self, s: str, shifts: List[int]) -> str:\n",
    "    ans = []\n",
    "\n",
    "    for i in reversed(range(len(shifts) - 1)):\n",
    "      shifts[i] += shifts[i + 1]\n",
    "\n",
    "    for c, shift in zip(s, shifts):\n",
    "      ans.append(chr((ord(c) - ord('a') + shift) % 26 + ord('a')))\n",
    "\n",
    "    return ''.join(ans)"
   ]
  },
  {
   "cell_type": "code",
   "execution_count": null,
   "id": "2d7e2043",
   "metadata": {},
   "outputs": [],
   "source": [
    "new Solution().shiftingLetters()"
   ]
  }
 ],
 "metadata": {},
 "nbformat": 4,
 "nbformat_minor": 5
}

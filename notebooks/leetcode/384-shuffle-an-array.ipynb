{
 "cells": [
  {
   "cell_type": "markdown",
   "id": "f833508f",
   "metadata": {},
   "source": [
    "https://leetcode.com/problems/shuffle-an-array"
   ]
  },
  {
   "cell_type": "code",
   "execution_count": null,
   "id": "2228834f",
   "metadata": {},
   "outputs": [],
   "source": [
    "import pyutil as pyu\n",
    "pyu.get_local_pyinfo()"
   ]
  },
  {
   "cell_type": "code",
   "execution_count": null,
   "id": "c2f51ffe",
   "metadata": {},
   "outputs": [],
   "source": [
    "print(pyu.ps2(\"python-dotenv\"))"
   ]
  },
  {
   "cell_type": "code",
   "execution_count": null,
   "id": "9d3777bb",
   "metadata": {},
   "outputs": [],
   "source": [
    "from typing import List"
   ]
  },
  {
   "cell_type": "code",
   "execution_count": null,
   "id": "1d6ebbb6",
   "metadata": {},
   "outputs": [],
   "source": [
    "class Solution:\n",
    "  def __init__(self, nums: List[int]):\n",
    "    self.nums = nums\n",
    "\n",
    "  def reset(self) -> List[int]:\n",
    "    \"\"\"\n",
    "    Resets the array to its original configuration and return it.\n",
    "    \"\"\"\n",
    "    return self.nums\n",
    "\n",
    "  def shuffle(self) -> List[int]:\n",
    "    \"\"\"\n",
    "    Returns a random shuffling of the array.\n",
    "    \"\"\"\n",
    "    A = self.nums.copy()\n",
    "    for i in range(len(A) - 1, 0, -1):\n",
    "      j = randint(0, i)\n",
    "      A[i], A[j] = A[j], A[i]\n",
    "    return A"
   ]
  },
  {
   "cell_type": "code",
   "execution_count": null,
   "id": "269a2409",
   "metadata": {},
   "outputs": [],
   "source": [
    "new Solution().__init__()"
   ]
  }
 ],
 "metadata": {},
 "nbformat": 4,
 "nbformat_minor": 5
}

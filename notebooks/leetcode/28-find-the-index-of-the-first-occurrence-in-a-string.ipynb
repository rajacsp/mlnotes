{
 "cells": [
  {
   "cell_type": "markdown",
   "id": "179abc99",
   "metadata": {},
   "source": [
    "https://leetcode.com/problems/find-the-index-of-the-first-occurrence-in-a-string"
   ]
  },
  {
   "cell_type": "code",
   "execution_count": null,
   "id": "a628a8fb",
   "metadata": {},
   "outputs": [],
   "source": [
    "import pyutil as pyu\n",
    "pyu.get_local_pyinfo()"
   ]
  },
  {
   "cell_type": "code",
   "execution_count": null,
   "id": "923443a5",
   "metadata": {},
   "outputs": [],
   "source": [
    "print(pyu.ps2(\"python-dotenv\"))"
   ]
  },
  {
   "cell_type": "code",
   "execution_count": null,
   "id": "2591732e",
   "metadata": {},
   "outputs": [],
   "source": [
    "from typing import List"
   ]
  },
  {
   "cell_type": "code",
   "execution_count": null,
   "id": "825ac5ce",
   "metadata": {},
   "outputs": [],
   "source": [
    "class Solution:\n",
    "  def strStr(self, haystack: str, needle: str) -> int:\n",
    "    m = len(haystack)\n",
    "    n = len(needle)\n",
    "\n",
    "    for i in range(m - n + 1):\n",
    "      if haystack[i:i + n] == needle:\n",
    "        return i\n",
    "\n",
    "    return -1"
   ]
  },
  {
   "cell_type": "code",
   "execution_count": null,
   "id": "aafeb553",
   "metadata": {},
   "outputs": [],
   "source": [
    "new Solution().strStr()"
   ]
  }
 ],
 "metadata": {
  "kernelspec": {
   "display_name": "Python 3 (ipykernel)",
   "language": "python",
   "name": "python3"
  },
  "language_info": {
   "codemirror_mode": {
    "name": "ipython",
    "version": 3
   },
   "file_extension": ".py",
   "mimetype": "text/x-python",
   "name": "python",
   "nbconvert_exporter": "python",
   "pygments_lexer": "ipython3",
   "version": "3.11.10"
  }
 },
 "nbformat": 4,
 "nbformat_minor": 5
}

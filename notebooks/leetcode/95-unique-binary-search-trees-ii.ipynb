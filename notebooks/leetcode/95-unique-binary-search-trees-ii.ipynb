{
 "cells": [
  {
   "cell_type": "markdown",
   "id": "8574f9d0",
   "metadata": {},
   "source": [
    "https://leetcode.com/problems/unique-binary-search-trees-ii"
   ]
  },
  {
   "cell_type": "code",
   "execution_count": null,
   "id": "3ce978ea",
   "metadata": {},
   "outputs": [],
   "source": [
    "import pyutil as pyu\n",
    "pyu.get_local_pyinfo()"
   ]
  },
  {
   "cell_type": "code",
   "execution_count": null,
   "id": "4dec2242",
   "metadata": {},
   "outputs": [],
   "source": [
    "print(pyu.ps2(\"python-dotenv\"))"
   ]
  },
  {
   "cell_type": "code",
   "execution_count": null,
   "id": "02d77c1f",
   "metadata": {},
   "outputs": [],
   "source": [
    "from typing import List"
   ]
  },
  {
   "cell_type": "code",
   "execution_count": null,
   "id": "9a14e8c7",
   "metadata": {},
   "outputs": [],
   "source": [
    "class Solution:\n",
    "  def generateTrees(self, n: int) -> List[TreeNode]:\n",
    "    if n == 0:\n",
    "      return []\n",
    "\n",
    "    def generateTrees(mini: int, maxi: int) -> List[Optional[int]]:\n",
    "      if mini > maxi:\n",
    "        return [None]\n",
    "\n",
    "      ans = []\n",
    "\n",
    "      for i in range(mini, maxi + 1):\n",
    "        for left in generateTrees(mini, i - 1):\n",
    "          for right in generateTrees(i + 1, maxi):\n",
    "            ans.append(TreeNode(i))\n",
    "            ans[-1].left = left\n",
    "            ans[-1].right = right\n",
    "\n",
    "      return ans\n",
    "\n",
    "    return generateTrees(1, n)"
   ]
  },
  {
   "cell_type": "code",
   "execution_count": null,
   "id": "67990c9a",
   "metadata": {},
   "outputs": [],
   "source": [
    "new Solution().generateTrees()"
   ]
  }
 ],
 "metadata": {},
 "nbformat": 4,
 "nbformat_minor": 5
}

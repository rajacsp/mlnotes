{
 "cells": [
  {
   "cell_type": "markdown",
   "id": "de4996eb",
   "metadata": {},
   "source": [
    "https://leetcode.com/problems/longest-increasing-path-in-a-matrix"
   ]
  },
  {
   "cell_type": "code",
   "execution_count": null,
   "id": "4d57493c",
   "metadata": {},
   "outputs": [],
   "source": [
    "import pyutil as pyu\n",
    "pyu.get_local_pyinfo()"
   ]
  },
  {
   "cell_type": "code",
   "execution_count": null,
   "id": "ae57569e",
   "metadata": {},
   "outputs": [],
   "source": [
    "print(pyu.ps2(\"python-dotenv\"))"
   ]
  },
  {
   "cell_type": "code",
   "execution_count": null,
   "id": "80a598ac",
   "metadata": {},
   "outputs": [],
   "source": [
    "from typing import List"
   ]
  },
  {
   "cell_type": "code",
   "execution_count": null,
   "id": "67c823ca",
   "metadata": {},
   "outputs": [],
   "source": [
    "class Solution:\n",
    "  def longestIncreasingPath(self, matrix: List[List[int]]) -> int:\n",
    "    m = len(matrix)\n",
    "    n = len(matrix[0])\n",
    "\n",
    "    @functools.lru_cache(None)\n",
    "    def dfs(i: int, j: int, prev: int) -> int:\n",
    "      if i < 0 or i == m or j < 0 or j == n:\n",
    "        return 0\n",
    "      if matrix[i][j] <= prev:\n",
    "        return 0\n",
    "\n",
    "      curr = matrix[i][j]\n",
    "      return 1 + max(dfs(i + 1, j, curr),\n",
    "                     dfs(i - 1, j, curr),\n",
    "                     dfs(i, j + 1, curr),\n",
    "                     dfs(i, j - 1, curr))\n",
    "\n",
    "    return max(dfs(i, j, -math.inf) for i in range(m) for j in range(n))"
   ]
  },
  {
   "cell_type": "code",
   "execution_count": null,
   "id": "e81fb176",
   "metadata": {},
   "outputs": [],
   "source": [
    "new Solution().longestIncreasingPath()"
   ]
  }
 ],
 "metadata": {},
 "nbformat": 4,
 "nbformat_minor": 5
}

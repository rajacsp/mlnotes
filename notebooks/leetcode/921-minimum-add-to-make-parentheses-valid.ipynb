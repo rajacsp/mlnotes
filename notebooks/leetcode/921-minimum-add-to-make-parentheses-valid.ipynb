{
 "cells": [
  {
   "cell_type": "markdown",
   "id": "660a0e16",
   "metadata": {},
   "source": [
    "https://leetcode.com/problems/minimum-add-to-make-parentheses-valid"
   ]
  },
  {
   "cell_type": "code",
   "execution_count": null,
   "id": "3100c613",
   "metadata": {},
   "outputs": [],
   "source": [
    "import pyutil as pyu\n",
    "pyu.get_local_pyinfo()"
   ]
  },
  {
   "cell_type": "code",
   "execution_count": null,
   "id": "77a31306",
   "metadata": {},
   "outputs": [],
   "source": [
    "print(pyu.ps2(\"python-dotenv\"))"
   ]
  },
  {
   "cell_type": "code",
   "execution_count": null,
   "id": "d1b5dfff",
   "metadata": {},
   "outputs": [],
   "source": [
    "from typing import List"
   ]
  },
  {
   "cell_type": "code",
   "execution_count": null,
   "id": "676d4f93",
   "metadata": {},
   "outputs": [],
   "source": [
    "class Solution:\n",
    "  def minAddToMakeValid(self, s: str) -> int:\n",
    "    l = 0\n",
    "    r = 0\n",
    "\n",
    "    for c in s:\n",
    "      if c == '(':\n",
    "        l += 1\n",
    "      else:\n",
    "        if l == 0:\n",
    "          r += 1\n",
    "        else:\n",
    "          l -= 1\n",
    "\n",
    "    return l + r"
   ]
  },
  {
   "cell_type": "code",
   "execution_count": null,
   "id": "2286262f",
   "metadata": {},
   "outputs": [],
   "source": [
    "new Solution().minAddToMakeValid()"
   ]
  }
 ],
 "metadata": {},
 "nbformat": 4,
 "nbformat_minor": 5
}

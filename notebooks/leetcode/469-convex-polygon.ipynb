{
 "cells": [
  {
   "cell_type": "markdown",
   "id": "b85104e3",
   "metadata": {},
   "source": [
    "https://leetcode.com/problems/convex-polygon"
   ]
  },
  {
   "cell_type": "code",
   "execution_count": null,
   "id": "6aa7a056",
   "metadata": {},
   "outputs": [],
   "source": [
    "import pyutil as pyu\n",
    "pyu.get_local_pyinfo()"
   ]
  },
  {
   "cell_type": "code",
   "execution_count": null,
   "id": "46c98a80",
   "metadata": {},
   "outputs": [],
   "source": [
    "print(pyu.ps2(\"python-dotenv\"))"
   ]
  },
  {
   "cell_type": "code",
   "execution_count": null,
   "id": "03bc49ef",
   "metadata": {},
   "outputs": [],
   "source": [
    "from typing import List"
   ]
  },
  {
   "cell_type": "code",
   "execution_count": null,
   "id": "423c9efb",
   "metadata": {},
   "outputs": [],
   "source": [
    "class Solution:\n",
    "  def isConvex(self, points: List[List[int]]) -> bool:\n",
    "    # Pq x qr\n",
    "    def getCross(p: List[int], q: List[int], r: List[int]):\n",
    "      return (q[0] - p[0]) * (r[1] - p[1]) - (q[1] - p[1]) * (r[0] - p[0])\n",
    "\n",
    "    sign = 0\n",
    "    for i in range(len(points)):\n",
    "      cross = getCross(points[i - 2], points[i - 1], points[i])\n",
    "      if cross == 0:  # P, q, r are collinear\n",
    "        continue\n",
    "      if sign == 0:  # Find first cross that's not 0\n",
    "        sign = cross\n",
    "      elif cross * sign < 0:\n",
    "        return False\n",
    "\n",
    "    return True"
   ]
  },
  {
   "cell_type": "code",
   "execution_count": null,
   "id": "62349249",
   "metadata": {},
   "outputs": [],
   "source": [
    "new Solution().isConvex()"
   ]
  }
 ],
 "metadata": {},
 "nbformat": 4,
 "nbformat_minor": 5
}

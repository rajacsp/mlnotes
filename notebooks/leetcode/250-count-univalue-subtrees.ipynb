{
 "cells": [
  {
   "cell_type": "markdown",
   "id": "c4805ff8",
   "metadata": {},
   "source": [
    "https://leetcode.com/problems/count-univalue-subtrees"
   ]
  },
  {
   "cell_type": "code",
   "execution_count": null,
   "id": "133f2e0d",
   "metadata": {},
   "outputs": [],
   "source": [
    "import pyutil as pyu\n",
    "pyu.get_local_pyinfo()"
   ]
  },
  {
   "cell_type": "code",
   "execution_count": null,
   "id": "443a4c3b",
   "metadata": {},
   "outputs": [],
   "source": [
    "print(pyu.ps2(\"python-dotenv\"))"
   ]
  },
  {
   "cell_type": "code",
   "execution_count": null,
   "id": "474165fa",
   "metadata": {},
   "outputs": [],
   "source": [
    "from typing import List"
   ]
  },
  {
   "cell_type": "code",
   "execution_count": null,
   "id": "a18b60ad",
   "metadata": {},
   "outputs": [],
   "source": [
    "class Solution:\n",
    "  def countUnivalSubtrees(self, root: Optional[TreeNode]) -> int:\n",
    "    ans = 0\n",
    "\n",
    "    def isUnival(root: Optional[TreeNode], val: int) -> bool:\n",
    "      nonlocal ans\n",
    "      if not root:\n",
    "        return True\n",
    "\n",
    "      if isUnival(root.left, root.val) & isUnival(root.right, root.val):\n",
    "        ans += 1\n",
    "        return root.val == val\n",
    "\n",
    "      return False\n",
    "\n",
    "    isUnival(root, math.inf)\n",
    "    return ans"
   ]
  },
  {
   "cell_type": "code",
   "execution_count": null,
   "id": "b4e9da3a",
   "metadata": {},
   "outputs": [],
   "source": [
    "new Solution().countUnivalSubtrees()"
   ]
  }
 ],
 "metadata": {},
 "nbformat": 4,
 "nbformat_minor": 5
}

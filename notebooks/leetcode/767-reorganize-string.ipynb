{
 "cells": [
  {
   "cell_type": "markdown",
   "id": "8f43d066",
   "metadata": {},
   "source": [
    "https://leetcode.com/problems/reorganize-string"
   ]
  },
  {
   "cell_type": "code",
   "execution_count": null,
   "id": "f1b9029f",
   "metadata": {},
   "outputs": [],
   "source": [
    "import pyutil as pyu\n",
    "pyu.get_local_pyinfo()"
   ]
  },
  {
   "cell_type": "code",
   "execution_count": null,
   "id": "37ca066e",
   "metadata": {},
   "outputs": [],
   "source": [
    "print(pyu.ps2(\"python-dotenv\"))"
   ]
  },
  {
   "cell_type": "code",
   "execution_count": null,
   "id": "92939bab",
   "metadata": {},
   "outputs": [],
   "source": [
    "from typing import List"
   ]
  },
  {
   "cell_type": "code",
   "execution_count": null,
   "id": "1d684cf9",
   "metadata": {},
   "outputs": [],
   "source": [
    "class Solution:\n",
    "  def reorganizeString(self, s: str) -> str:\n",
    "    count = Counter(s)\n",
    "    if max(count.values()) > (len(s) + 1) // 2:\n",
    "      return ''\n",
    "\n",
    "    ans = []\n",
    "    maxHeap = [(-freq, c) for c, freq in count.items()]\n",
    "    heapq.heapify(maxHeap)\n",
    "    prevFreq = 0\n",
    "    prevChar = '@'\n",
    "\n",
    "    while maxHeap:\n",
    "      # Get the most freq letter\n",
    "      freq, c = heapq.heappop(maxHeap)\n",
    "      ans.append(c)\n",
    "      # Add the previous letter back so that\n",
    "      # Any two adjacent characters are not the same\n",
    "      if prevFreq < 0:\n",
    "        heapq.heappush(maxHeap, (prevFreq, prevChar))\n",
    "      prevFreq = freq + 1\n",
    "      prevChar = c\n",
    "\n",
    "    return ''.join(ans)"
   ]
  },
  {
   "cell_type": "code",
   "execution_count": null,
   "id": "6534d9fb",
   "metadata": {},
   "outputs": [],
   "source": [
    "new Solution().reorganizeString()"
   ]
  }
 ],
 "metadata": {},
 "nbformat": 4,
 "nbformat_minor": 5
}

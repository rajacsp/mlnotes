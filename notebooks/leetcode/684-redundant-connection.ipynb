{
 "cells": [
  {
   "cell_type": "markdown",
   "id": "e180669b",
   "metadata": {},
   "source": [
    "https://leetcode.com/problems/redundant-connection"
   ]
  },
  {
   "cell_type": "code",
   "execution_count": null,
   "id": "a4e3920a",
   "metadata": {},
   "outputs": [],
   "source": [
    "import pyutil as pyu\n",
    "pyu.get_local_pyinfo()"
   ]
  },
  {
   "cell_type": "code",
   "execution_count": null,
   "id": "f3c0f220",
   "metadata": {},
   "outputs": [],
   "source": [
    "print(pyu.ps2(\"python-dotenv\"))"
   ]
  },
  {
   "cell_type": "code",
   "execution_count": null,
   "id": "5002664a",
   "metadata": {},
   "outputs": [],
   "source": [
    "from typing import List"
   ]
  },
  {
   "cell_type": "code",
   "execution_count": null,
   "id": "2e8eed6a",
   "metadata": {},
   "outputs": [],
   "source": [
    "class UnionFind:\n",
    "  def __init__(self, n: int):\n",
    "    self.id = [i for i in range(n + 1)]\n",
    "\n",
    "  def union(self, u: int, v: int) -> bool:\n",
    "    i = self.find(u)\n",
    "    j = self.find(v)\n",
    "    if i == j:\n",
    "      return False\n",
    "    self.id[i] = j\n",
    "    return True\n",
    "\n",
    "  def find(self, u: int) -> int:\n",
    "    if self.id[u] != u:\n",
    "      self.id[u] = self.find(self.id[u])\n",
    "    return self.id[u]\n",
    "\n",
    "\n",
    "class Solution:\n",
    "  def findRedundantConnection(self, edges: List[List[int]]) -> List[int]:\n",
    "    uf = UnionFind(len(edges))\n",
    "\n",
    "    for edge in edges:\n",
    "      if not uf.union(edge[0], edge[1]):\n",
    "        return edge"
   ]
  },
  {
   "cell_type": "code",
   "execution_count": null,
   "id": "0439c009",
   "metadata": {},
   "outputs": [],
   "source": [
    "new Solution().findRedundantConnection()"
   ]
  }
 ],
 "metadata": {},
 "nbformat": 4,
 "nbformat_minor": 5
}

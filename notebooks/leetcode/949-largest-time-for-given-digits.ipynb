{
 "cells": [
  {
   "cell_type": "markdown",
   "id": "48535863",
   "metadata": {},
   "source": [
    "https://leetcode.com/problems/largest-time-for-given-digits"
   ]
  },
  {
   "cell_type": "code",
   "execution_count": null,
   "id": "56614db9",
   "metadata": {},
   "outputs": [],
   "source": [
    "import pyutil as pyu\n",
    "pyu.get_local_pyinfo()"
   ]
  },
  {
   "cell_type": "code",
   "execution_count": null,
   "id": "8d5243eb",
   "metadata": {},
   "outputs": [],
   "source": [
    "print(pyu.ps2(\"python-dotenv\"))"
   ]
  },
  {
   "cell_type": "code",
   "execution_count": null,
   "id": "1739d920",
   "metadata": {},
   "outputs": [],
   "source": [
    "from typing import List"
   ]
  },
  {
   "cell_type": "code",
   "execution_count": null,
   "id": "fcb48899",
   "metadata": {},
   "outputs": [],
   "source": [
    "class Solution:\n",
    "  def largestTimeFromDigits(self, A: List[int]) -> str:\n",
    "    for time in itertools.permutations(sorted(A, reverse=True)):\n",
    "      if time[:2] < (2, 4) and time[2] < 6:\n",
    "        return '%d%d:%d%d' % time\n",
    "\n",
    "    return ''"
   ]
  },
  {
   "cell_type": "code",
   "execution_count": null,
   "id": "b4219d56",
   "metadata": {},
   "outputs": [],
   "source": [
    "new Solution().largestTimeFromDigits()"
   ]
  }
 ],
 "metadata": {},
 "nbformat": 4,
 "nbformat_minor": 5
}

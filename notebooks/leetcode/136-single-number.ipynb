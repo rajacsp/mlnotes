{
 "cells": [
  {
   "cell_type": "markdown",
   "id": "fa488a4c",
   "metadata": {},
   "source": [
    "https://leetcode.com/problems/single-number"
   ]
  },
  {
   "cell_type": "code",
   "execution_count": null,
   "id": "db251a37",
   "metadata": {},
   "outputs": [],
   "source": [
    "import pyutil as pyu\n",
    "pyu.get_local_pyinfo()"
   ]
  },
  {
   "cell_type": "code",
   "execution_count": null,
   "id": "9b23f8e6",
   "metadata": {},
   "outputs": [],
   "source": [
    "print(pyu.ps2(\"python-dotenv\"))"
   ]
  },
  {
   "cell_type": "code",
   "execution_count": null,
   "id": "88472b7e",
   "metadata": {},
   "outputs": [],
   "source": [
    "from typing import List"
   ]
  },
  {
   "cell_type": "code",
   "execution_count": null,
   "id": "7e7b5e82",
   "metadata": {},
   "outputs": [],
   "source": [
    "class Solution:\n",
    "  def singleNumber(self, nums: List[int]) -> int:\n",
    "    return functools.reduce(lambda x, y: x ^ y, nums, 0)"
   ]
  },
  {
   "cell_type": "code",
   "execution_count": null,
   "id": "5f61b834",
   "metadata": {},
   "outputs": [],
   "source": [
    "new Solution().singleNumber()"
   ]
  }
 ],
 "metadata": {},
 "nbformat": 4,
 "nbformat_minor": 5
}

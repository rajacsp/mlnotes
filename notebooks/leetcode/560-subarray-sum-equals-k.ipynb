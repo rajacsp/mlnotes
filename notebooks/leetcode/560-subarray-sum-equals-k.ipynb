{
 "cells": [
  {
   "cell_type": "markdown",
   "id": "a00f34f0",
   "metadata": {},
   "source": [
    "https://leetcode.com/problems/subarray-sum-equals-k"
   ]
  },
  {
   "cell_type": "code",
   "execution_count": null,
   "id": "1add1f0a",
   "metadata": {},
   "outputs": [],
   "source": [
    "import pyutil as pyu\n",
    "pyu.get_local_pyinfo()"
   ]
  },
  {
   "cell_type": "code",
   "execution_count": null,
   "id": "6e994913",
   "metadata": {},
   "outputs": [],
   "source": [
    "print(pyu.ps2(\"python-dotenv\"))"
   ]
  },
  {
   "cell_type": "code",
   "execution_count": null,
   "id": "78cc5a8d",
   "metadata": {},
   "outputs": [],
   "source": [
    "from typing import List"
   ]
  },
  {
   "cell_type": "code",
   "execution_count": null,
   "id": "4ac7e950",
   "metadata": {},
   "outputs": [],
   "source": [
    "class Solution:\n",
    "  def subarraySum(self, nums: List[int], k: int) -> int:\n",
    "    ans = 0\n",
    "    prefix = 0\n",
    "    count = Counter({0: 1})\n",
    "\n",
    "    for num in nums:\n",
    "      prefix += num\n",
    "      ans += count[prefix - k]\n",
    "      count[prefix] += 1\n",
    "\n",
    "    return ans"
   ]
  },
  {
   "cell_type": "code",
   "execution_count": null,
   "id": "ef5a3bf1",
   "metadata": {},
   "outputs": [],
   "source": [
    "new Solution().subarraySum()"
   ]
  }
 ],
 "metadata": {},
 "nbformat": 4,
 "nbformat_minor": 5
}

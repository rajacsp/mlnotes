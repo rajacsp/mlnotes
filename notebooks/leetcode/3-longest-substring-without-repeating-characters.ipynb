{
 "cells": [
  {
   "cell_type": "markdown",
   "id": "2eaa05e8",
   "metadata": {},
   "source": [
    "https://leetcode.com/problems/longest-substring-without-repeating-characters"
   ]
  },
  {
   "cell_type": "code",
   "execution_count": null,
   "id": "a0e86c73",
   "metadata": {},
   "outputs": [],
   "source": [
    "import pyutil as pyu\n",
    "pyu.get_local_pyinfo()"
   ]
  },
  {
   "cell_type": "code",
   "execution_count": null,
   "id": "5a99e0ed",
   "metadata": {},
   "outputs": [],
   "source": [
    "print(pyu.ps2(\"python-dotenv\"))"
   ]
  },
  {
   "cell_type": "code",
   "execution_count": null,
   "id": "260a7ec4",
   "metadata": {},
   "outputs": [],
   "source": [
    "from typing import List"
   ]
  },
  {
   "cell_type": "code",
   "execution_count": null,
   "id": "ae04482f",
   "metadata": {},
   "outputs": [],
   "source": [
    "class Solution:\n",
    "  def lengthOfLongestSubstring(self, s: str) -> int:\n",
    "    ans = 0\n",
    "    count = Counter()\n",
    "\n",
    "    l = 0\n",
    "    for r, c in enumerate(s):\n",
    "      count[c] += 1\n",
    "      while count[c] > 1:\n",
    "        count[s[l]] -= 1\n",
    "        l += 1\n",
    "      ans = max(ans, r - l + 1)\n",
    "\n",
    "    return ans"
   ]
  },
  {
   "cell_type": "code",
   "execution_count": null,
   "id": "bacf3591",
   "metadata": {},
   "outputs": [],
   "source": [
    "new Solution().lengthOfLongestSubstring()"
   ]
  }
 ],
 "metadata": {},
 "nbformat": 4,
 "nbformat_minor": 5
}

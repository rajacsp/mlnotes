{
 "cells": [
  {
   "cell_type": "markdown",
   "id": "96579920",
   "metadata": {},
   "source": [
    "https://leetcode.com/problems/generate-parentheses"
   ]
  },
  {
   "cell_type": "code",
   "execution_count": null,
   "id": "a20cb743",
   "metadata": {},
   "outputs": [],
   "source": [
    "import pyutil as pyu\n",
    "pyu.get_local_pyinfo()"
   ]
  },
  {
   "cell_type": "code",
   "execution_count": null,
   "id": "519cd03c",
   "metadata": {},
   "outputs": [],
   "source": [
    "print(pyu.ps2(\"python-dotenv\"))"
   ]
  },
  {
   "cell_type": "code",
   "execution_count": null,
   "id": "6ad25fdc",
   "metadata": {},
   "outputs": [],
   "source": [
    "from typing import List"
   ]
  },
  {
   "cell_type": "code",
   "execution_count": null,
   "id": "178c3f79",
   "metadata": {},
   "outputs": [],
   "source": [
    "class Solution:\n",
    "  def generateParenthesis(self, n):\n",
    "    ans = []\n",
    "\n",
    "    def dfs(l: int, r: int, s: str) -> None:\n",
    "      if l == 0 and r == 0:\n",
    "        ans.append(s)\n",
    "      if l > 0:\n",
    "        dfs(l - 1, r, s + '(')\n",
    "      if l < r:\n",
    "        dfs(l, r - 1, s + ')')\n",
    "\n",
    "    dfs(n, n, '')\n",
    "    return ans"
   ]
  },
  {
   "cell_type": "code",
   "execution_count": null,
   "id": "f7bb1448",
   "metadata": {},
   "outputs": [],
   "source": [
    "new Solution().generateParenthesis()"
   ]
  }
 ],
 "metadata": {},
 "nbformat": 4,
 "nbformat_minor": 5
}

{
 "cells": [
  {
   "cell_type": "markdown",
   "id": "461b9432",
   "metadata": {},
   "source": [
    "https://leetcode.com/problems/graph-valid-tree"
   ]
  },
  {
   "cell_type": "code",
   "execution_count": null,
   "id": "164a112d",
   "metadata": {},
   "outputs": [],
   "source": [
    "import pyutil as pyu\n",
    "pyu.get_local_pyinfo()"
   ]
  },
  {
   "cell_type": "code",
   "execution_count": null,
   "id": "6f985961",
   "metadata": {},
   "outputs": [],
   "source": [
    "print(pyu.ps2(\"python-dotenv\"))"
   ]
  },
  {
   "cell_type": "code",
   "execution_count": null,
   "id": "5cd26438",
   "metadata": {},
   "outputs": [],
   "source": [
    "from typing import List"
   ]
  },
  {
   "cell_type": "code",
   "execution_count": null,
   "id": "be1ca453",
   "metadata": {},
   "outputs": [],
   "source": [
    "class Solution:\n",
    "  def validTree(self, n: int, edges: List[List[int]]) -> bool:\n",
    "    if n == 0 or len(edges) != n - 1:\n",
    "      return False\n",
    "\n",
    "    graph = [[] for _ in range(n)]\n",
    "    q = deque([0])\n",
    "    seen = {0}\n",
    "\n",
    "    for u, v in edges:\n",
    "      graph[u].append(v)\n",
    "      graph[v].append(u)\n",
    "\n",
    "    while q:\n",
    "      u = q.popleft()\n",
    "      for v in graph[u]:\n",
    "        if v not in seen:\n",
    "          q.append(v)\n",
    "          seen.add(v)\n",
    "\n",
    "    return len(seen) == n"
   ]
  },
  {
   "cell_type": "code",
   "execution_count": null,
   "id": "4abcba95",
   "metadata": {},
   "outputs": [],
   "source": [
    "new Solution().validTree()"
   ]
  }
 ],
 "metadata": {},
 "nbformat": 4,
 "nbformat_minor": 5
}

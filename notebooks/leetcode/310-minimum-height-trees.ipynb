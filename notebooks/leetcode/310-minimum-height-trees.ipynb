{
 "cells": [
  {
   "cell_type": "markdown",
   "id": "6afc88f8",
   "metadata": {},
   "source": [
    "https://leetcode.com/problems/minimum-height-trees"
   ]
  },
  {
   "cell_type": "code",
   "execution_count": null,
   "id": "099dc1b9",
   "metadata": {},
   "outputs": [],
   "source": [
    "import pyutil as pyu\n",
    "pyu.get_local_pyinfo()"
   ]
  },
  {
   "cell_type": "code",
   "execution_count": null,
   "id": "f469b522",
   "metadata": {},
   "outputs": [],
   "source": [
    "print(pyu.ps2(\"python-dotenv\"))"
   ]
  },
  {
   "cell_type": "code",
   "execution_count": null,
   "id": "f5931b65",
   "metadata": {},
   "outputs": [],
   "source": [
    "from typing import List"
   ]
  },
  {
   "cell_type": "code",
   "execution_count": null,
   "id": "4f82a56a",
   "metadata": {},
   "outputs": [],
   "source": [
    "class Solution:\n",
    "  def findMinHeightTrees(self, n: int, edges: List[List[int]]) -> List[int]:\n",
    "    if n == 1 or not edges:\n",
    "      return [0]\n",
    "\n",
    "    ans = []\n",
    "    graph = defaultdict(set)\n",
    "\n",
    "    for u, v in edges:\n",
    "      graph[u].add(v)\n",
    "      graph[v].add(u)\n",
    "\n",
    "    for label, children in graph.items():\n",
    "      if len(children) == 1:\n",
    "        ans.append(label)\n",
    "\n",
    "    while n > 2:\n",
    "      n -= len(ans)\n",
    "      nextLeaves = []\n",
    "      for leaf in ans:\n",
    "        u = next(iter(graph[leaf]))\n",
    "        graph[u].remove(leaf)\n",
    "        if len(graph[u]) == 1:\n",
    "          nextLeaves.append(u)\n",
    "      ans = nextLeaves\n",
    "\n",
    "    return ans"
   ]
  },
  {
   "cell_type": "code",
   "execution_count": null,
   "id": "771f69f7",
   "metadata": {},
   "outputs": [],
   "source": [
    "new Solution().findMinHeightTrees()"
   ]
  }
 ],
 "metadata": {},
 "nbformat": 4,
 "nbformat_minor": 5
}

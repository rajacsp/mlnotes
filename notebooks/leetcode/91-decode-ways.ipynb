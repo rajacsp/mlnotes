{
 "cells": [
  {
   "cell_type": "markdown",
   "id": "195dbf38",
   "metadata": {},
   "source": [
    "https://leetcode.com/problems/decode-ways"
   ]
  },
  {
   "cell_type": "code",
   "execution_count": null,
   "id": "7e71f9bb",
   "metadata": {},
   "outputs": [],
   "source": [
    "import pyutil as pyu\n",
    "pyu.get_local_pyinfo()"
   ]
  },
  {
   "cell_type": "code",
   "execution_count": null,
   "id": "ab86299b",
   "metadata": {},
   "outputs": [],
   "source": [
    "print(pyu.ps2(\"python-dotenv\"))"
   ]
  },
  {
   "cell_type": "code",
   "execution_count": null,
   "id": "1b5a103d",
   "metadata": {},
   "outputs": [],
   "source": [
    "from typing import List"
   ]
  },
  {
   "cell_type": "code",
   "execution_count": null,
   "id": "91867fa8",
   "metadata": {},
   "outputs": [],
   "source": [
    "class Solution:\n",
    "  def numDecodings(self, s: str) -> int:\n",
    "    n = len(s)\n",
    "    # dp[i] := # Of ways to decode s[i..n)\n",
    "    dp = [0] * n + [1]\n",
    "\n",
    "    def isValid(a: chr, b=None) -> bool:\n",
    "      if b:\n",
    "        return a == '1' or a == '2' and b < '7'\n",
    "      return a != '0'\n",
    "\n",
    "    if isValid(s[-1]):\n",
    "      dp[n - 1] = 1\n",
    "\n",
    "    for i in reversed(range(n - 1)):\n",
    "      if isValid(s[i]):\n",
    "        dp[i] += dp[i + 1]\n",
    "      if isValid(s[i], s[i + 1]):\n",
    "        dp[i] += dp[i + 2]\n",
    "\n",
    "    return dp[0]"
   ]
  },
  {
   "cell_type": "code",
   "execution_count": null,
   "id": "819f238c",
   "metadata": {},
   "outputs": [],
   "source": [
    "new Solution().numDecodings()"
   ]
  }
 ],
 "metadata": {},
 "nbformat": 4,
 "nbformat_minor": 5
}

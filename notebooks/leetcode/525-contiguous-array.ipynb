{
 "cells": [
  {
   "cell_type": "markdown",
   "id": "aa1a87bb",
   "metadata": {},
   "source": [
    "https://leetcode.com/problems/contiguous-array"
   ]
  },
  {
   "cell_type": "code",
   "execution_count": null,
   "id": "eccde01d",
   "metadata": {},
   "outputs": [],
   "source": [
    "import pyutil as pyu\n",
    "pyu.get_local_pyinfo()"
   ]
  },
  {
   "cell_type": "code",
   "execution_count": null,
   "id": "53c14991",
   "metadata": {},
   "outputs": [],
   "source": [
    "print(pyu.ps2(\"python-dotenv\"))"
   ]
  },
  {
   "cell_type": "code",
   "execution_count": null,
   "id": "0638a091",
   "metadata": {},
   "outputs": [],
   "source": [
    "from typing import List"
   ]
  },
  {
   "cell_type": "code",
   "execution_count": null,
   "id": "6d6f3e79",
   "metadata": {},
   "outputs": [],
   "source": [
    "class Solution:\n",
    "  def findMaxLength(self, nums: List[int]) -> int:\n",
    "    ans = 0\n",
    "    prefix = 0\n",
    "    prefixToIndex = {0: -1}\n",
    "\n",
    "    for i, num in enumerate(nums):\n",
    "      prefix += 1 if num else -1\n",
    "      if prefix in prefixToIndex:\n",
    "        ans = max(ans, i - prefixToIndex[prefix])\n",
    "      else:\n",
    "        prefixToIndex[prefix] = i\n",
    "\n",
    "    return ans"
   ]
  },
  {
   "cell_type": "code",
   "execution_count": null,
   "id": "bb5cc41e",
   "metadata": {},
   "outputs": [],
   "source": [
    "new Solution().findMaxLength()"
   ]
  }
 ],
 "metadata": {},
 "nbformat": 4,
 "nbformat_minor": 5
}

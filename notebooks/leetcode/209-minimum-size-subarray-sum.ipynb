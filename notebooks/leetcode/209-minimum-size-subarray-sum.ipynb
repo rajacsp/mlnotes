{
 "cells": [
  {
   "cell_type": "markdown",
   "id": "8111e772",
   "metadata": {},
   "source": [
    "https://leetcode.com/problems/minimum-size-subarray-sum"
   ]
  },
  {
   "cell_type": "code",
   "execution_count": null,
   "id": "0b3ad8a1",
   "metadata": {},
   "outputs": [],
   "source": [
    "import pyutil as pyu\n",
    "pyu.get_local_pyinfo()"
   ]
  },
  {
   "cell_type": "code",
   "execution_count": null,
   "id": "fe6b0bed",
   "metadata": {},
   "outputs": [],
   "source": [
    "print(pyu.ps2(\"python-dotenv\"))"
   ]
  },
  {
   "cell_type": "code",
   "execution_count": null,
   "id": "f703bc0f",
   "metadata": {},
   "outputs": [],
   "source": [
    "from typing import List"
   ]
  },
  {
   "cell_type": "code",
   "execution_count": null,
   "id": "697b228f",
   "metadata": {},
   "outputs": [],
   "source": [
    "class Solution:\n",
    "  def minSubArrayLen(self, s: int, nums: List[int]) -> int:\n",
    "    ans = math.inf\n",
    "    summ = 0\n",
    "    j = 0\n",
    "\n",
    "    for i, num in enumerate(nums):\n",
    "      summ += num\n",
    "      while summ >= s:\n",
    "        ans = min(ans, i - j + 1)\n",
    "        summ -= nums[j]\n",
    "        j += 1\n",
    "\n",
    "    return ans if ans != math.inf else 0"
   ]
  },
  {
   "cell_type": "code",
   "execution_count": null,
   "id": "84e3e472",
   "metadata": {},
   "outputs": [],
   "source": [
    "new Solution().minSubArrayLen()"
   ]
  }
 ],
 "metadata": {},
 "nbformat": 4,
 "nbformat_minor": 5
}

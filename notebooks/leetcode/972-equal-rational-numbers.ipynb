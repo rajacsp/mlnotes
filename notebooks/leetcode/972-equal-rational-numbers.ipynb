{
 "cells": [
  {
   "cell_type": "markdown",
   "id": "08eb5b3e",
   "metadata": {},
   "source": [
    "https://leetcode.com/problems/equal-rational-numbers"
   ]
  },
  {
   "cell_type": "code",
   "execution_count": null,
   "id": "7e4cf0ba",
   "metadata": {},
   "outputs": [],
   "source": [
    "import pyutil as pyu\n",
    "pyu.get_local_pyinfo()"
   ]
  },
  {
   "cell_type": "code",
   "execution_count": null,
   "id": "95ea5903",
   "metadata": {},
   "outputs": [],
   "source": [
    "print(pyu.ps2(\"python-dotenv\"))"
   ]
  },
  {
   "cell_type": "code",
   "execution_count": null,
   "id": "229e7755",
   "metadata": {},
   "outputs": [],
   "source": [
    "from typing import List"
   ]
  },
  {
   "cell_type": "code",
   "execution_count": null,
   "id": "cafd3df0",
   "metadata": {},
   "outputs": [],
   "source": [
    "class Solution:\n",
    "  def isRationalEqual(self, S: str, T: str) -> bool:\n",
    "    def valueOf(s: str) -> float:\n",
    "      if s.find('(') == -1:\n",
    "        return float(s)\n",
    "\n",
    "      integer_nonRepeating = float(s[:s.find('(')])\n",
    "      nonRepeatingLength = s.find('(') - s.find('.') - 1\n",
    "      repeating = float(s[s.find('(') + 1: s.find(')')])\n",
    "      repeatingLength = s.find(')') - s.find('(') - 1\n",
    "\n",
    "      return integer_nonRepeating + repeating * 0.1**nonRepeatingLength * ratios[repeatingLength]\n",
    "\n",
    "    ratios = [1, 1 / 9, 1 / 99, 1 / 999, 1 / 9999]\n",
    "\n",
    "    return abs(valueOf(S) - valueOf(T)) < 1e-9"
   ]
  },
  {
   "cell_type": "code",
   "execution_count": null,
   "id": "4637edf5",
   "metadata": {},
   "outputs": [],
   "source": [
    "new Solution().isRationalEqual()"
   ]
  }
 ],
 "metadata": {},
 "nbformat": 4,
 "nbformat_minor": 5
}

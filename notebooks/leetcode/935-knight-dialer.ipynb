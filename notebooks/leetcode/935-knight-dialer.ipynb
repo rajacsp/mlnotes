{
 "cells": [
  {
   "cell_type": "markdown",
   "id": "709ce5d6",
   "metadata": {},
   "source": [
    "https://leetcode.com/problems/knight-dialer"
   ]
  },
  {
   "cell_type": "code",
   "execution_count": null,
   "id": "a6cf5574",
   "metadata": {},
   "outputs": [],
   "source": [
    "import pyutil as pyu\n",
    "pyu.get_local_pyinfo()"
   ]
  },
  {
   "cell_type": "code",
   "execution_count": null,
   "id": "bb2fb84e",
   "metadata": {},
   "outputs": [],
   "source": [
    "print(pyu.ps2(\"python-dotenv\"))"
   ]
  },
  {
   "cell_type": "code",
   "execution_count": null,
   "id": "92757863",
   "metadata": {},
   "outputs": [],
   "source": [
    "from typing import List"
   ]
  },
  {
   "cell_type": "code",
   "execution_count": null,
   "id": "8bb188c2",
   "metadata": {},
   "outputs": [],
   "source": [
    "class Solution:\n",
    "  def knightDialer(self, n: int) -> int:\n",
    "    kMod = 1_000_000_007\n",
    "    dirs = [(-2, 1), (-1, 2), (1, 2), (2, 1),\n",
    "            (2, -1), (1, -2), (-1, -2), (-2, -1)]\n",
    "\n",
    "    # dp[i][j] := # Of ways stand on (i, j)\n",
    "    dp = [[1] * 3 for _ in range(4)]\n",
    "    dp[3][0] = dp[3][2] = 0\n",
    "\n",
    "    for _ in range(n - 1):\n",
    "      newDp = [[0] * 3 for _ in range(4)]\n",
    "      for i in range(4):\n",
    "        for j in range(3):\n",
    "          if (i, j) in ((3, 0), (3, 2)):\n",
    "            continue\n",
    "          for dx, dy in dirs:\n",
    "            x = i + dx\n",
    "            y = j + dy\n",
    "            if x < 0 or x >= 4 or y < 0 or y >= 3:\n",
    "              continue\n",
    "            if (x, y) in ((3, 0), (3, 2)):\n",
    "              continue\n",
    "            newDp[x][y] = (newDp[x][y] + dp[i][j]) % kMod\n",
    "      dp = newDp\n",
    "\n",
    "    return sum(map(sum, dp)) % kMod"
   ]
  },
  {
   "cell_type": "code",
   "execution_count": null,
   "id": "bc359bb0",
   "metadata": {},
   "outputs": [],
   "source": [
    "new Solution().knightDialer()"
   ]
  }
 ],
 "metadata": {},
 "nbformat": 4,
 "nbformat_minor": 5
}

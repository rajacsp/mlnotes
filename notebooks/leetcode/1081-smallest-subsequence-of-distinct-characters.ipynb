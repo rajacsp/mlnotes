{
 "cells": [
  {
   "cell_type": "markdown",
   "id": "f889d008",
   "metadata": {},
   "source": [
    "https://leetcode.com/problems/smallest-subsequence-of-distinct-characters"
   ]
  },
  {
   "cell_type": "code",
   "execution_count": null,
   "id": "f63fe486",
   "metadata": {},
   "outputs": [],
   "source": [
    "import pyutil as pyu\n",
    "pyu.get_local_pyinfo()"
   ]
  },
  {
   "cell_type": "code",
   "execution_count": null,
   "id": "a5b5a84e",
   "metadata": {},
   "outputs": [],
   "source": [
    "print(pyu.ps2(\"python-dotenv\"))"
   ]
  },
  {
   "cell_type": "code",
   "execution_count": null,
   "id": "27f7e250",
   "metadata": {},
   "outputs": [],
   "source": [
    "from typing import List"
   ]
  },
  {
   "cell_type": "code",
   "execution_count": null,
   "id": "ea3dd9fc",
   "metadata": {},
   "outputs": [],
   "source": [
    "class Solution:\n",
    "  def smallestSubsequence(self, text: str) -> str:\n",
    "    ans = []\n",
    "    count = Counter(text)\n",
    "    used = [False] * 26\n",
    "\n",
    "    for c in text:\n",
    "      count[c] -= 1\n",
    "      if used[ord(c) - ord('a')]:\n",
    "        continue\n",
    "      while ans and ans[-1] > c and count[ans[-1]] > 0:\n",
    "        used[ord(ans[-1]) - ord('a')] = False\n",
    "        ans.pop()\n",
    "      ans.append(c)\n",
    "      used[ord(ans[-1]) - ord('a')] = True\n",
    "\n",
    "    return ''.join(ans)"
   ]
  },
  {
   "cell_type": "code",
   "execution_count": null,
   "id": "d4f04dc8",
   "metadata": {},
   "outputs": [],
   "source": [
    "new Solution().smallestSubsequence()"
   ]
  }
 ],
 "metadata": {},
 "nbformat": 4,
 "nbformat_minor": 5
}

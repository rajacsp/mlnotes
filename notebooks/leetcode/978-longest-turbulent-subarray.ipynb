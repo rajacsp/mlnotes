{
 "cells": [
  {
   "cell_type": "markdown",
   "id": "b4e6bbc7",
   "metadata": {},
   "source": [
    "https://leetcode.com/problems/longest-turbulent-subarray"
   ]
  },
  {
   "cell_type": "code",
   "execution_count": null,
   "id": "ab093bfb",
   "metadata": {},
   "outputs": [],
   "source": [
    "import pyutil as pyu\n",
    "pyu.get_local_pyinfo()"
   ]
  },
  {
   "cell_type": "code",
   "execution_count": null,
   "id": "d43e5f7b",
   "metadata": {},
   "outputs": [],
   "source": [
    "print(pyu.ps2(\"python-dotenv\"))"
   ]
  },
  {
   "cell_type": "code",
   "execution_count": null,
   "id": "adaee7e5",
   "metadata": {},
   "outputs": [],
   "source": [
    "from typing import List"
   ]
  },
  {
   "cell_type": "code",
   "execution_count": null,
   "id": "1c974ad8",
   "metadata": {},
   "outputs": [],
   "source": [
    "class Solution:\n",
    "  def maxTurbulenceSize(self, A: List[int]) -> int:\n",
    "    ans = 1\n",
    "    increasing = 1\n",
    "    decreasing = 1\n",
    "\n",
    "    for i in range(1, len(A)):\n",
    "      if A[i] > A[i - 1]:\n",
    "        increasing = decreasing + 1\n",
    "        decreasing = 1\n",
    "      elif A[i] < A[i - 1]:\n",
    "        decreasing = increasing + 1\n",
    "        increasing = 1\n",
    "      else:\n",
    "        increasing = 1\n",
    "        decreasing = 1\n",
    "      ans = max(ans, max(increasing, decreasing))\n",
    "\n",
    "    return ans"
   ]
  },
  {
   "cell_type": "code",
   "execution_count": null,
   "id": "2accac14",
   "metadata": {},
   "outputs": [],
   "source": [
    "new Solution().maxTurbulenceSize()"
   ]
  }
 ],
 "metadata": {},
 "nbformat": 4,
 "nbformat_minor": 5
}

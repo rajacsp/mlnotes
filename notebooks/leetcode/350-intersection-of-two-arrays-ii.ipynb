{
 "cells": [
  {
   "cell_type": "markdown",
   "id": "35d64a92",
   "metadata": {},
   "source": [
    "https://leetcode.com/problems/intersection-of-two-arrays-ii"
   ]
  },
  {
   "cell_type": "code",
   "execution_count": null,
   "id": "0a803ec6",
   "metadata": {},
   "outputs": [],
   "source": [
    "import pyutil as pyu\n",
    "pyu.get_local_pyinfo()"
   ]
  },
  {
   "cell_type": "code",
   "execution_count": null,
   "id": "1853ac79",
   "metadata": {},
   "outputs": [],
   "source": [
    "print(pyu.ps2(\"python-dotenv\"))"
   ]
  },
  {
   "cell_type": "code",
   "execution_count": null,
   "id": "22254293",
   "metadata": {},
   "outputs": [],
   "source": [
    "from typing import List"
   ]
  },
  {
   "cell_type": "code",
   "execution_count": null,
   "id": "43803827",
   "metadata": {},
   "outputs": [],
   "source": [
    "class Solution:\n",
    "  def intersect(self, nums1: List[int], nums2: List[int]) -> List[int]:\n",
    "    if len(nums1) > len(nums2):\n",
    "      return self.intersect(nums2, nums1)\n",
    "\n",
    "    ans = []\n",
    "    count = Counter(nums1)\n",
    "\n",
    "    for num in nums2:\n",
    "      if count[num] > 0:\n",
    "        ans.append(num)\n",
    "        count[num] -= 1\n",
    "\n",
    "    return ans"
   ]
  },
  {
   "cell_type": "code",
   "execution_count": null,
   "id": "f0075df2",
   "metadata": {},
   "outputs": [],
   "source": [
    "new Solution().intersect()"
   ]
  }
 ],
 "metadata": {},
 "nbformat": 4,
 "nbformat_minor": 5
}

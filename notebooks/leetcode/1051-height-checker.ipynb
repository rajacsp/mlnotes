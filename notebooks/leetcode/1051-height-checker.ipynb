{
 "cells": [
  {
   "cell_type": "markdown",
   "id": "f48a4935",
   "metadata": {},
   "source": [
    "https://leetcode.com/problems/height-checker"
   ]
  },
  {
   "cell_type": "code",
   "execution_count": null,
   "id": "4248ab13",
   "metadata": {},
   "outputs": [],
   "source": [
    "import pyutil as pyu\n",
    "pyu.get_local_pyinfo()"
   ]
  },
  {
   "cell_type": "code",
   "execution_count": null,
   "id": "e42a2b0b",
   "metadata": {},
   "outputs": [],
   "source": [
    "print(pyu.ps2(\"python-dotenv\"))"
   ]
  },
  {
   "cell_type": "code",
   "execution_count": null,
   "id": "bbd8670f",
   "metadata": {},
   "outputs": [],
   "source": [
    "from typing import List"
   ]
  },
  {
   "cell_type": "code",
   "execution_count": null,
   "id": "fef5f8aa",
   "metadata": {},
   "outputs": [],
   "source": [
    "class Solution:\n",
    "  def heightChecker(self, heights: List[int]) -> int:\n",
    "    ans = 0\n",
    "    currentHeight = 1\n",
    "    count = [0] * 101\n",
    "\n",
    "    for height in heights:\n",
    "      count[height] += 1\n",
    "\n",
    "    for height in heights:\n",
    "      while count[currentHeight] == 0:\n",
    "        currentHeight += 1\n",
    "      if height != currentHeight:\n",
    "        ans += 1\n",
    "      count[currentHeight] -= 1\n",
    "\n",
    "    return ans"
   ]
  },
  {
   "cell_type": "code",
   "execution_count": null,
   "id": "304e05a7",
   "metadata": {},
   "outputs": [],
   "source": [
    "new Solution().heightChecker()"
   ]
  }
 ],
 "metadata": {},
 "nbformat": 4,
 "nbformat_minor": 5
}

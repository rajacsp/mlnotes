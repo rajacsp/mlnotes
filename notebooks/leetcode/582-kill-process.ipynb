{
 "cells": [
  {
   "cell_type": "markdown",
   "id": "3dcc41d8",
   "metadata": {},
   "source": [
    "https://leetcode.com/problems/kill-process"
   ]
  },
  {
   "cell_type": "code",
   "execution_count": null,
   "id": "037ebdfe",
   "metadata": {},
   "outputs": [],
   "source": [
    "import pyutil as pyu\n",
    "pyu.get_local_pyinfo()"
   ]
  },
  {
   "cell_type": "code",
   "execution_count": null,
   "id": "110554cd",
   "metadata": {},
   "outputs": [],
   "source": [
    "print(pyu.ps2(\"python-dotenv\"))"
   ]
  },
  {
   "cell_type": "code",
   "execution_count": null,
   "id": "1fc4d8a2",
   "metadata": {},
   "outputs": [],
   "source": [
    "from typing import List"
   ]
  },
  {
   "cell_type": "code",
   "execution_count": null,
   "id": "f5db5c9d",
   "metadata": {},
   "outputs": [],
   "source": [
    "class Solution:\n",
    "  def killProcess(self, pid: List[int], ppid: List[int], kill: int) -> List[int]:\n",
    "    ans = []\n",
    "    tree = defaultdict(list)\n",
    "\n",
    "    for v, u in zip(pid, ppid):\n",
    "      if u == 0:\n",
    "        continue\n",
    "      tree[u].append(v)\n",
    "\n",
    "    def dfs(u: int) -> None:\n",
    "      ans.append(u)\n",
    "      for v in tree.get(u, []):\n",
    "        dfs(v)\n",
    "\n",
    "    dfs(kill)\n",
    "    return ans"
   ]
  },
  {
   "cell_type": "code",
   "execution_count": null,
   "id": "1663dfca",
   "metadata": {},
   "outputs": [],
   "source": [
    "new Solution().killProcess()"
   ]
  }
 ],
 "metadata": {},
 "nbformat": 4,
 "nbformat_minor": 5
}

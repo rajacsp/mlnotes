{
 "cells": [
  {
   "cell_type": "markdown",
   "id": "67e18cd5",
   "metadata": {},
   "source": [
    "https://leetcode.com/problems/maximize-distance-to-closest-person"
   ]
  },
  {
   "cell_type": "code",
   "execution_count": null,
   "id": "8350ddd6",
   "metadata": {},
   "outputs": [],
   "source": [
    "import pyutil as pyu\n",
    "pyu.get_local_pyinfo()"
   ]
  },
  {
   "cell_type": "code",
   "execution_count": null,
   "id": "8cf4ed0a",
   "metadata": {},
   "outputs": [],
   "source": [
    "print(pyu.ps2(\"python-dotenv\"))"
   ]
  },
  {
   "cell_type": "code",
   "execution_count": null,
   "id": "9a44e39a",
   "metadata": {},
   "outputs": [],
   "source": [
    "from typing import List"
   ]
  },
  {
   "cell_type": "code",
   "execution_count": null,
   "id": "6925a609",
   "metadata": {},
   "outputs": [],
   "source": [
    "class Solution:\n",
    "  def maxDistToClosest(self, seats: List[int]) -> int:\n",
    "    n = len(seats)\n",
    "    ans = 0\n",
    "    j = -1\n",
    "\n",
    "    for i in range(n):\n",
    "      if seats[i] == 1:\n",
    "        ans = i if j == -1 else max(ans, (i - j) // 2)\n",
    "        j = i\n",
    "\n",
    "    return max(ans, n - j - 1)"
   ]
  },
  {
   "cell_type": "code",
   "execution_count": null,
   "id": "9070131e",
   "metadata": {},
   "outputs": [],
   "source": [
    "new Solution().maxDistToClosest()"
   ]
  }
 ],
 "metadata": {},
 "nbformat": 4,
 "nbformat_minor": 5
}

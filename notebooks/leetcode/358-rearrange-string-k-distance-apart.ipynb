{
 "cells": [
  {
   "cell_type": "markdown",
   "id": "73419a22",
   "metadata": {},
   "source": [
    "https://leetcode.com/problems/rearrange-string-k-distance-apart"
   ]
  },
  {
   "cell_type": "code",
   "execution_count": null,
   "id": "f060397b",
   "metadata": {},
   "outputs": [],
   "source": [
    "import pyutil as pyu\n",
    "pyu.get_local_pyinfo()"
   ]
  },
  {
   "cell_type": "code",
   "execution_count": null,
   "id": "5797a79f",
   "metadata": {},
   "outputs": [],
   "source": [
    "print(pyu.ps2(\"python-dotenv\"))"
   ]
  },
  {
   "cell_type": "code",
   "execution_count": null,
   "id": "5379cd41",
   "metadata": {},
   "outputs": [],
   "source": [
    "from typing import List"
   ]
  },
  {
   "cell_type": "code",
   "execution_count": null,
   "id": "8ba9d789",
   "metadata": {},
   "outputs": [],
   "source": [
    "class Solution:\n",
    "  def rearrangeString(self, s: str, k: int) -> str:\n",
    "    n = len(s)\n",
    "    ans = []\n",
    "    count = Counter(s)\n",
    "    valid = Counter()  # valid[i] := the leftmost index i can appear\n",
    "\n",
    "    # Returns the letter that has most count and also valid\n",
    "    def getBestLetter(index: int) -> chr:\n",
    "      maxCount = -1\n",
    "      bestLetter = '*'\n",
    "\n",
    "      for c in string.ascii_lowercase:\n",
    "        if count[c] > 0 and count[c] > maxCount and index >= valid[c]:\n",
    "          bestLetter = c\n",
    "          maxCount = count[c]\n",
    "\n",
    "      return bestLetter\n",
    "\n",
    "    for i in range(n):\n",
    "      c = getBestLetter(i)\n",
    "      if c == '*':\n",
    "        return ''\n",
    "      ans.append(c)\n",
    "      count[c] -= 1\n",
    "      valid[c] = i + k\n",
    "\n",
    "    return ''.join(ans)"
   ]
  },
  {
   "cell_type": "code",
   "execution_count": null,
   "id": "8c580cbd",
   "metadata": {},
   "outputs": [],
   "source": [
    "new Solution().rearrangeString()"
   ]
  }
 ],
 "metadata": {},
 "nbformat": 4,
 "nbformat_minor": 5
}

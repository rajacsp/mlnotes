{
 "cells": [
  {
   "cell_type": "markdown",
   "id": "56b6edfc",
   "metadata": {},
   "source": [
    "https://leetcode.com/problems/next-permutation"
   ]
  },
  {
   "cell_type": "code",
   "execution_count": null,
   "id": "6d1c3270",
   "metadata": {},
   "outputs": [],
   "source": [
    "import pyutil as pyu\n",
    "pyu.get_local_pyinfo()"
   ]
  },
  {
   "cell_type": "code",
   "execution_count": null,
   "id": "0f19eb80",
   "metadata": {},
   "outputs": [],
   "source": [
    "print(pyu.ps2(\"python-dotenv\"))"
   ]
  },
  {
   "cell_type": "code",
   "execution_count": null,
   "id": "809ba0c7",
   "metadata": {},
   "outputs": [],
   "source": [
    "from typing import List"
   ]
  },
  {
   "cell_type": "code",
   "execution_count": null,
   "id": "bbfbdfe4",
   "metadata": {},
   "outputs": [],
   "source": [
    "class Solution:\n",
    "  def nextPermutation(self, nums: List[int]) -> None:\n",
    "    n = len(nums)\n",
    "\n",
    "    # From back to front, find the first num < nums[i + 1]\n",
    "    i = n - 2\n",
    "    while i >= 0:\n",
    "      if nums[i] < nums[i + 1]:\n",
    "        break\n",
    "      i -= 1\n",
    "\n",
    "    # From back to front, find the first num > nums[i], swap it with nums[i]\n",
    "    if i >= 0:\n",
    "      for j in range(n - 1, i, -1):\n",
    "        if nums[j] > nums[i]:\n",
    "          nums[i], nums[j] = nums[j], nums[i]\n",
    "          break\n",
    "\n",
    "    def reverse(nums: List[int], l: int, r: int) -> None:\n",
    "      while l < r:\n",
    "        nums[l], nums[r] = nums[r], nums[l]\n",
    "        l += 1\n",
    "        r -= 1\n",
    "\n",
    "    # Reverse nums[i + 1..n - 1]\n",
    "    reverse(nums, i + 1, len(nums) - 1)"
   ]
  },
  {
   "cell_type": "code",
   "execution_count": null,
   "id": "7668e4ac",
   "metadata": {},
   "outputs": [],
   "source": [
    "new Solution().nextPermutation()"
   ]
  }
 ],
 "metadata": {},
 "nbformat": 4,
 "nbformat_minor": 5
}

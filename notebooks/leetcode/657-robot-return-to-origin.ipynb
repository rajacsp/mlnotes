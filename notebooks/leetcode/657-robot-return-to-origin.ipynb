{
 "cells": [
  {
   "cell_type": "markdown",
   "id": "07d17369",
   "metadata": {},
   "source": [
    "https://leetcode.com/problems/robot-return-to-origin"
   ]
  },
  {
   "cell_type": "code",
   "execution_count": null,
   "id": "b38dd9f1",
   "metadata": {},
   "outputs": [],
   "source": [
    "import pyutil as pyu\n",
    "pyu.get_local_pyinfo()"
   ]
  },
  {
   "cell_type": "code",
   "execution_count": null,
   "id": "22d76385",
   "metadata": {},
   "outputs": [],
   "source": [
    "print(pyu.ps2(\"python-dotenv\"))"
   ]
  },
  {
   "cell_type": "code",
   "execution_count": null,
   "id": "1ce6780b",
   "metadata": {},
   "outputs": [],
   "source": [
    "from typing import List"
   ]
  },
  {
   "cell_type": "code",
   "execution_count": null,
   "id": "4f0e28b0",
   "metadata": {},
   "outputs": [],
   "source": [
    "class Solution:\n",
    "  def judgeCircle(self, moves: str) -> bool:\n",
    "    return moves.count('R') == moves.count('L') and moves.count('U') == moves.count('D')"
   ]
  },
  {
   "cell_type": "code",
   "execution_count": null,
   "id": "f5c33d29",
   "metadata": {},
   "outputs": [],
   "source": [
    "new Solution().judgeCircle()"
   ]
  }
 ],
 "metadata": {},
 "nbformat": 4,
 "nbformat_minor": 5
}

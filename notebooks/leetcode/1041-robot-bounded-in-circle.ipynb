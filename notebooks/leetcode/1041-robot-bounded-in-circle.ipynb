{
 "cells": [
  {
   "cell_type": "markdown",
   "id": "5292c48c",
   "metadata": {},
   "source": [
    "https://leetcode.com/problems/robot-bounded-in-circle"
   ]
  },
  {
   "cell_type": "code",
   "execution_count": null,
   "id": "1cb75ead",
   "metadata": {},
   "outputs": [],
   "source": [
    "import pyutil as pyu\n",
    "pyu.get_local_pyinfo()"
   ]
  },
  {
   "cell_type": "code",
   "execution_count": null,
   "id": "cb9db781",
   "metadata": {},
   "outputs": [],
   "source": [
    "print(pyu.ps2(\"python-dotenv\"))"
   ]
  },
  {
   "cell_type": "code",
   "execution_count": null,
   "id": "72a60d6a",
   "metadata": {},
   "outputs": [],
   "source": [
    "from typing import List"
   ]
  },
  {
   "cell_type": "code",
   "execution_count": null,
   "id": "32ab81f3",
   "metadata": {},
   "outputs": [],
   "source": [
    "class Solution:\n",
    "  def isRobotBounded(self, instructions: str) -> bool:\n",
    "    x = 0\n",
    "    y = 0\n",
    "    d = 0\n",
    "    directions = [(0, 1), (1, 0), (0, -1), (-1, 0)]\n",
    "\n",
    "    for instruction in instructions:\n",
    "      if instruction == 'G':\n",
    "        x += directions[d][0]\n",
    "        y += directions[d][1]\n",
    "      elif instruction == 'L':\n",
    "        d = (d + 3) % 4\n",
    "      else:\n",
    "        d = (d + 1) % 4\n",
    "\n",
    "    return (x, y) == (0, 0) or d > 0"
   ]
  },
  {
   "cell_type": "code",
   "execution_count": null,
   "id": "2471a97f",
   "metadata": {},
   "outputs": [],
   "source": [
    "new Solution().isRobotBounded()"
   ]
  }
 ],
 "metadata": {},
 "nbformat": 4,
 "nbformat_minor": 5
}

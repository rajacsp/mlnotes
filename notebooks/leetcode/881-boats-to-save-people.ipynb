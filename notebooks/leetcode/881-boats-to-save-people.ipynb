{
 "cells": [
  {
   "cell_type": "markdown",
   "id": "e3de02be",
   "metadata": {},
   "source": [
    "https://leetcode.com/problems/boats-to-save-people"
   ]
  },
  {
   "cell_type": "code",
   "execution_count": null,
   "id": "b6d21cc5",
   "metadata": {},
   "outputs": [],
   "source": [
    "import pyutil as pyu\n",
    "pyu.get_local_pyinfo()"
   ]
  },
  {
   "cell_type": "code",
   "execution_count": null,
   "id": "b93e6961",
   "metadata": {},
   "outputs": [],
   "source": [
    "print(pyu.ps2(\"python-dotenv\"))"
   ]
  },
  {
   "cell_type": "code",
   "execution_count": null,
   "id": "523a08ea",
   "metadata": {},
   "outputs": [],
   "source": [
    "from typing import List"
   ]
  },
  {
   "cell_type": "code",
   "execution_count": null,
   "id": "4673c83d",
   "metadata": {},
   "outputs": [],
   "source": [
    "class Solution:\n",
    "  def numRescueBoats(self, people: List[int], limit: int) -> int:\n",
    "    ans = 0\n",
    "    i = 0\n",
    "    j = len(people) - 1\n",
    "\n",
    "    people.sort()\n",
    "\n",
    "    while i <= j:\n",
    "      remain = limit - people[j]\n",
    "      j -= 1\n",
    "      if people[i] <= remain:\n",
    "        i += 1\n",
    "      ans += 1\n",
    "\n",
    "    return ans"
   ]
  },
  {
   "cell_type": "code",
   "execution_count": null,
   "id": "4d91685c",
   "metadata": {},
   "outputs": [],
   "source": [
    "new Solution().numRescueBoats()"
   ]
  }
 ],
 "metadata": {},
 "nbformat": 4,
 "nbformat_minor": 5
}

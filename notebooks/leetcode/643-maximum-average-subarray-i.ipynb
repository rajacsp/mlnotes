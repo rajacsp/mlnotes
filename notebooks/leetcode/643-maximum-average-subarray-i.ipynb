{
 "cells": [
  {
   "cell_type": "markdown",
   "id": "5bf9de23",
   "metadata": {},
   "source": [
    "https://leetcode.com/problems/maximum-average-subarray-i"
   ]
  },
  {
   "cell_type": "code",
   "execution_count": null,
   "id": "cab2cba9",
   "metadata": {},
   "outputs": [],
   "source": [
    "import pyutil as pyu\n",
    "pyu.get_local_pyinfo()"
   ]
  },
  {
   "cell_type": "code",
   "execution_count": null,
   "id": "9984055e",
   "metadata": {},
   "outputs": [],
   "source": [
    "print(pyu.ps2(\"python-dotenv\"))"
   ]
  },
  {
   "cell_type": "code",
   "execution_count": null,
   "id": "2f9823d5",
   "metadata": {},
   "outputs": [],
   "source": [
    "from typing import List"
   ]
  },
  {
   "cell_type": "code",
   "execution_count": null,
   "id": "ebe6986b",
   "metadata": {},
   "outputs": [],
   "source": [
    "class Solution:\n",
    "  def findMaxAverage(self, nums: List[int], k: int) -> float:\n",
    "    summ = sum(nums[:k])\n",
    "    ans = summ\n",
    "\n",
    "    for i in range(k, len(nums)):\n",
    "      summ += nums[i] - nums[i - k]\n",
    "      ans = max(ans, summ)\n",
    "\n",
    "    return ans / k"
   ]
  },
  {
   "cell_type": "code",
   "execution_count": null,
   "id": "68de5113",
   "metadata": {},
   "outputs": [],
   "source": [
    "new Solution().findMaxAverage()"
   ]
  }
 ],
 "metadata": {},
 "nbformat": 4,
 "nbformat_minor": 5
}

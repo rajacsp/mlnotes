{
 "cells": [
  {
   "cell_type": "markdown",
   "id": "7c0abd39",
   "metadata": {},
   "source": [
    "https://leetcode.com/problems/contains-duplicate"
   ]
  },
  {
   "cell_type": "code",
   "execution_count": null,
   "id": "fd298a2b",
   "metadata": {},
   "outputs": [],
   "source": [
    "import pyutil as pyu\n",
    "pyu.get_local_pyinfo()"
   ]
  },
  {
   "cell_type": "code",
   "execution_count": null,
   "id": "c2cd5614",
   "metadata": {},
   "outputs": [],
   "source": [
    "print(pyu.ps2(\"python-dotenv\"))"
   ]
  },
  {
   "cell_type": "code",
   "execution_count": null,
   "id": "550b83e5",
   "metadata": {},
   "outputs": [],
   "source": [
    "from typing import List"
   ]
  },
  {
   "cell_type": "code",
   "execution_count": null,
   "id": "7f70da43",
   "metadata": {},
   "outputs": [],
   "source": [
    "class Solution:\n",
    "  def containsDuplicate(self, nums: List[int]) -> bool:\n",
    "    return len(nums) != len(set(nums))"
   ]
  },
  {
   "cell_type": "code",
   "execution_count": null,
   "id": "0427f5c2",
   "metadata": {},
   "outputs": [],
   "source": [
    "new Solution().containsDuplicate()"
   ]
  }
 ],
 "metadata": {},
 "nbformat": 4,
 "nbformat_minor": 5
}

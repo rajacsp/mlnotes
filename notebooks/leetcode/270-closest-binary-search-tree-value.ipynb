{
 "cells": [
  {
   "cell_type": "markdown",
   "id": "99a19741",
   "metadata": {},
   "source": [
    "https://leetcode.com/problems/closest-binary-search-tree-value"
   ]
  },
  {
   "cell_type": "code",
   "execution_count": null,
   "id": "c8e11e77",
   "metadata": {},
   "outputs": [],
   "source": [
    "import pyutil as pyu\n",
    "pyu.get_local_pyinfo()"
   ]
  },
  {
   "cell_type": "code",
   "execution_count": null,
   "id": "3da43c3c",
   "metadata": {},
   "outputs": [],
   "source": [
    "print(pyu.ps2(\"python-dotenv\"))"
   ]
  },
  {
   "cell_type": "code",
   "execution_count": null,
   "id": "933c2fcb",
   "metadata": {},
   "outputs": [],
   "source": [
    "from typing import List"
   ]
  },
  {
   "cell_type": "code",
   "execution_count": null,
   "id": "39f48a57",
   "metadata": {},
   "outputs": [],
   "source": [
    "class Solution:\n",
    "  def closestValue(self, root: Optional[TreeNode], target: float) -> int:\n",
    "    # If target < root.val, search left subtree\n",
    "    if target < root.val and root.left:\n",
    "      left = self.closestValue(root.left, target)\n",
    "      if abs(left - target) < abs(root.val - target):\n",
    "        return left\n",
    "\n",
    "    # If target > root.val, search right subtree\n",
    "    if target > root.val and root.right:\n",
    "      right = self.closestValue(root.right, target)\n",
    "      if abs(right - target) < abs(root.val - target):\n",
    "        return right\n",
    "\n",
    "    return root.val"
   ]
  },
  {
   "cell_type": "code",
   "execution_count": null,
   "id": "ff68da47",
   "metadata": {},
   "outputs": [],
   "source": [
    "new Solution().closestValue()"
   ]
  }
 ],
 "metadata": {},
 "nbformat": 4,
 "nbformat_minor": 5
}

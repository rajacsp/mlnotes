{
 "cells": [
  {
   "cell_type": "markdown",
   "id": "83e38f8d",
   "metadata": {},
   "source": [
    "https://leetcode.com/problems/matchsticks-to-square"
   ]
  },
  {
   "cell_type": "code",
   "execution_count": null,
   "id": "ef18e051",
   "metadata": {},
   "outputs": [],
   "source": [
    "import pyutil as pyu\n",
    "pyu.get_local_pyinfo()"
   ]
  },
  {
   "cell_type": "code",
   "execution_count": null,
   "id": "99454ea7",
   "metadata": {},
   "outputs": [],
   "source": [
    "print(pyu.ps2(\"python-dotenv\"))"
   ]
  },
  {
   "cell_type": "code",
   "execution_count": null,
   "id": "0cb2ea4f",
   "metadata": {},
   "outputs": [],
   "source": [
    "from typing import List"
   ]
  },
  {
   "cell_type": "code",
   "execution_count": null,
   "id": "82d41f2c",
   "metadata": {},
   "outputs": [],
   "source": [
    "class Solution:\n",
    "  def makesquare(self, matchsticks: List[int]) -> bool:\n",
    "    if len(matchsticks) < 4:\n",
    "      return False\n",
    "\n",
    "    perimeter = sum(matchsticks)\n",
    "    if perimeter % 4 != 0:\n",
    "      return False\n",
    "\n",
    "    A = sorted(matchsticks)[::-1]\n",
    "\n",
    "    def dfs(selected: int, edges: List[int]) -> bool:\n",
    "      if selected == len(A):\n",
    "        return all(edge == edges[0] for edge in edges)\n",
    "\n",
    "      for i, edge in enumerate(edges):\n",
    "        if A[selected] > edge:\n",
    "          continue\n",
    "        edges[i] -= A[selected]\n",
    "        if dfs(selected + 1, edges):\n",
    "          return True\n",
    "        edges[i] += A[selected]\n",
    "\n",
    "      return False\n",
    "\n",
    "    return dfs(0, [perimeter // 4] * 4)"
   ]
  },
  {
   "cell_type": "code",
   "execution_count": null,
   "id": "b53384a6",
   "metadata": {},
   "outputs": [],
   "source": [
    "new Solution().makesquare()"
   ]
  }
 ],
 "metadata": {},
 "nbformat": 4,
 "nbformat_minor": 5
}

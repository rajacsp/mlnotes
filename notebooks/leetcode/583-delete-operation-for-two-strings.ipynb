{
 "cells": [
  {
   "cell_type": "markdown",
   "id": "51b243c6",
   "metadata": {},
   "source": [
    "https://leetcode.com/problems/delete-operation-for-two-strings"
   ]
  },
  {
   "cell_type": "code",
   "execution_count": null,
   "id": "8b10bdc3",
   "metadata": {},
   "outputs": [],
   "source": [
    "import pyutil as pyu\n",
    "pyu.get_local_pyinfo()"
   ]
  },
  {
   "cell_type": "code",
   "execution_count": null,
   "id": "0cce6c13",
   "metadata": {},
   "outputs": [],
   "source": [
    "print(pyu.ps2(\"python-dotenv\"))"
   ]
  },
  {
   "cell_type": "code",
   "execution_count": null,
   "id": "1ee5aa24",
   "metadata": {},
   "outputs": [],
   "source": [
    "from typing import List"
   ]
  },
  {
   "cell_type": "code",
   "execution_count": null,
   "id": "847970e8",
   "metadata": {},
   "outputs": [],
   "source": [
    "class Solution:\n",
    "  def minDistance(self, word1: str, word2: str) -> int:\n",
    "    m = len(word1)\n",
    "    n = len(word2)\n",
    "    dp = [0] * (n + 1)\n",
    "\n",
    "    for j in range(n + 1):\n",
    "      dp[j] = j\n",
    "\n",
    "    for i in range(1, m + 1):\n",
    "      newDp = [i] + [0] * n\n",
    "      for j in range(1, n + 1):\n",
    "        if word1[i - 1] == word2[j - 1]:\n",
    "          newDp[j] = dp[j - 1]\n",
    "        else:\n",
    "          newDp[j] = min(newDp[j - 1], dp[j]) + 1\n",
    "      dp = newDp\n",
    "\n",
    "    return dp[n]"
   ]
  },
  {
   "cell_type": "code",
   "execution_count": null,
   "id": "f9337435",
   "metadata": {},
   "outputs": [],
   "source": [
    "new Solution().minDistance()"
   ]
  }
 ],
 "metadata": {},
 "nbformat": 4,
 "nbformat_minor": 5
}

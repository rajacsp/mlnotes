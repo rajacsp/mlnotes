{
 "cells": [
  {
   "cell_type": "markdown",
   "id": "6e7ccc7c",
   "metadata": {},
   "source": [
    "https://leetcode.com/problems/alien-dictionary"
   ]
  },
  {
   "cell_type": "code",
   "execution_count": null,
   "id": "bab41735",
   "metadata": {},
   "outputs": [],
   "source": [
    "import pyutil as pyu\n",
    "pyu.get_local_pyinfo()"
   ]
  },
  {
   "cell_type": "code",
   "execution_count": null,
   "id": "833550e2",
   "metadata": {},
   "outputs": [],
   "source": [
    "print(pyu.ps2(\"python-dotenv\"))"
   ]
  },
  {
   "cell_type": "code",
   "execution_count": null,
   "id": "319dc512",
   "metadata": {},
   "outputs": [],
   "source": [
    "from typing import List"
   ]
  },
  {
   "cell_type": "code",
   "execution_count": null,
   "id": "e27f6c4f",
   "metadata": {},
   "outputs": [],
   "source": [
    "class Solution:\n",
    "  def alienOrder(self, words: List[str]) -> str:\n",
    "    graph = {}\n",
    "    inDegree = [0] * 26\n",
    "\n",
    "    self._buildGraph(graph, words, inDegree)\n",
    "    return self._topology(graph, inDegree)\n",
    "\n",
    "  def _buildGraph(self, graph: Dict[chr, Set[chr]], words: List[str], inDegree: List[int]) -> None:\n",
    "    # Create node for each character in each word\n",
    "    for word in words:\n",
    "      for c in word:\n",
    "        if c not in graph:\n",
    "          graph[c] = set()\n",
    "\n",
    "    for first, second in zip(words, words[1:]):\n",
    "      length = min(len(first), len(second))\n",
    "      for j in range(length):\n",
    "        u = first[j]\n",
    "        v = second[j]\n",
    "        if u != v:\n",
    "          if v not in graph[u]:\n",
    "            graph[u].add(v)\n",
    "            inDegree[ord(v) - ord('a')] += 1\n",
    "          break  # Later characters' order are meaningless\n",
    "        # First = 'ab', second = 'a' . invalid\n",
    "        if j == length - 1 and len(first) > len(second):\n",
    "          graph.clear()\n",
    "          return\n",
    "\n",
    "  def _topology(self, graph: Dict[chr, Set[chr]], inDegree: List[int]) -> str:\n",
    "    s = ''\n",
    "    q = deque()\n",
    "\n",
    "    for c in graph:\n",
    "      if inDegree[ord(c) - ord('a')] == 0:\n",
    "        q.append(c)\n",
    "\n",
    "    while q:\n",
    "      u = q.pop()\n",
    "      s += u\n",
    "      for v in graph[u]:\n",
    "        inDegree[ord(v) - ord('a')] -= 1\n",
    "        if inDegree[ord(v) - ord('a')] == 0:\n",
    "          q.append(v)\n",
    "\n",
    "    # Words = ['z', 'x', 'y', 'x']\n",
    "    return s if len(s) == len(graph) else ''"
   ]
  },
  {
   "cell_type": "code",
   "execution_count": null,
   "id": "d546aa13",
   "metadata": {},
   "outputs": [],
   "source": [
    "new Solution().alienOrder()"
   ]
  }
 ],
 "metadata": {},
 "nbformat": 4,
 "nbformat_minor": 5
}

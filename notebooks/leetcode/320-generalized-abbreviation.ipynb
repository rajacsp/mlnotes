{
 "cells": [
  {
   "cell_type": "markdown",
   "id": "c59666ed",
   "metadata": {},
   "source": [
    "https://leetcode.com/problems/generalized-abbreviation"
   ]
  },
  {
   "cell_type": "code",
   "execution_count": null,
   "id": "d316c7c2",
   "metadata": {},
   "outputs": [],
   "source": [
    "import pyutil as pyu\n",
    "pyu.get_local_pyinfo()"
   ]
  },
  {
   "cell_type": "code",
   "execution_count": null,
   "id": "89bfbf82",
   "metadata": {},
   "outputs": [],
   "source": [
    "print(pyu.ps2(\"python-dotenv\"))"
   ]
  },
  {
   "cell_type": "code",
   "execution_count": null,
   "id": "872adb40",
   "metadata": {},
   "outputs": [],
   "source": [
    "from typing import List"
   ]
  },
  {
   "cell_type": "code",
   "execution_count": null,
   "id": "c31720af",
   "metadata": {},
   "outputs": [],
   "source": [
    "class Solution:\n",
    "  def generateAbbreviations(self, word: str) -> List[str]:\n",
    "    ans = []\n",
    "\n",
    "    def getCountString(count: int) -> str:\n",
    "      return str(count) if count > 0 else ''\n",
    "\n",
    "    def dfs(i: int, count: int, path: List[str]) -> None:\n",
    "      if i == len(word):\n",
    "        ans.append(''.join(path) + getCountString(count))\n",
    "        return\n",
    "\n",
    "      # Abbreviate word[i]\n",
    "      dfs(i + 1, count + 1, path)\n",
    "      # Keep word[i], so consume the count as a string\n",
    "      path.append(getCountString(count) + word[i])\n",
    "      dfs(i + 1, 0, path)  # Reset count to 0\n",
    "      path.pop()\n",
    "\n",
    "    dfs(0, 0, [])\n",
    "    return ans"
   ]
  },
  {
   "cell_type": "code",
   "execution_count": null,
   "id": "16251822",
   "metadata": {},
   "outputs": [],
   "source": [
    "new Solution().generateAbbreviations()"
   ]
  }
 ],
 "metadata": {},
 "nbformat": 4,
 "nbformat_minor": 5
}

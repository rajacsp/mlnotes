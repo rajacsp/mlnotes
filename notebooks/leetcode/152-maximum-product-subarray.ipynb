{
 "cells": [
  {
   "cell_type": "markdown",
   "id": "7a1410e9",
   "metadata": {},
   "source": [
    "https://leetcode.com/problems/maximum-product-subarray"
   ]
  },
  {
   "cell_type": "code",
   "execution_count": null,
   "id": "ac9b6ad4",
   "metadata": {},
   "outputs": [],
   "source": [
    "import pyutil as pyu\n",
    "pyu.get_local_pyinfo()"
   ]
  },
  {
   "cell_type": "code",
   "execution_count": null,
   "id": "3e91812a",
   "metadata": {},
   "outputs": [],
   "source": [
    "print(pyu.ps2(\"python-dotenv\"))"
   ]
  },
  {
   "cell_type": "code",
   "execution_count": null,
   "id": "5f26d280",
   "metadata": {},
   "outputs": [],
   "source": [
    "from typing import List"
   ]
  },
  {
   "cell_type": "code",
   "execution_count": null,
   "id": "11637f89",
   "metadata": {},
   "outputs": [],
   "source": [
    "class Solution:\n",
    "  def maxProduct(self, nums: List[int]) -> int:\n",
    "    ans = nums[0]\n",
    "    prevMin = nums[0]\n",
    "    prevMax = nums[0]\n",
    "\n",
    "    for i in range(1, len(nums)):\n",
    "      mini = prevMin * nums[i]\n",
    "      maxi = prevMax * nums[i]\n",
    "      prevMin = min(nums[i], mini, maxi)\n",
    "      prevMax = max(nums[i], mini, maxi)\n",
    "      ans = max(ans, prevMax)\n",
    "\n",
    "    return ans"
   ]
  },
  {
   "cell_type": "code",
   "execution_count": null,
   "id": "7a99d0a3",
   "metadata": {},
   "outputs": [],
   "source": [
    "new Solution().maxProduct()"
   ]
  }
 ],
 "metadata": {},
 "nbformat": 4,
 "nbformat_minor": 5
}

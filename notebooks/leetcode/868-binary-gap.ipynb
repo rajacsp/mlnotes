{
 "cells": [
  {
   "cell_type": "markdown",
   "id": "9e1534c1",
   "metadata": {},
   "source": [
    "https://leetcode.com/problems/binary-gap"
   ]
  },
  {
   "cell_type": "code",
   "execution_count": null,
   "id": "d6a9dfd4",
   "metadata": {},
   "outputs": [],
   "source": [
    "import pyutil as pyu\n",
    "pyu.get_local_pyinfo()"
   ]
  },
  {
   "cell_type": "code",
   "execution_count": null,
   "id": "5894bd1c",
   "metadata": {},
   "outputs": [],
   "source": [
    "print(pyu.ps2(\"python-dotenv\"))"
   ]
  },
  {
   "cell_type": "code",
   "execution_count": null,
   "id": "4d300596",
   "metadata": {},
   "outputs": [],
   "source": [
    "from typing import List"
   ]
  },
  {
   "cell_type": "code",
   "execution_count": null,
   "id": "771d1c18",
   "metadata": {},
   "outputs": [],
   "source": [
    "class Solution:\n",
    "  def binaryGap(self, n: int) -> int:\n",
    "    ans = 0\n",
    "    d = -32  # Distance between any two 1's, initialized to a reasonable small value\n",
    "\n",
    "    while n:\n",
    "      if n & 1:\n",
    "        ans = max(ans, d)\n",
    "        d = 0\n",
    "      n //= 2\n",
    "      d += 1\n",
    "\n",
    "    return ans"
   ]
  },
  {
   "cell_type": "code",
   "execution_count": null,
   "id": "75347b11",
   "metadata": {},
   "outputs": [],
   "source": [
    "new Solution().binaryGap()"
   ]
  }
 ],
 "metadata": {},
 "nbformat": 4,
 "nbformat_minor": 5
}

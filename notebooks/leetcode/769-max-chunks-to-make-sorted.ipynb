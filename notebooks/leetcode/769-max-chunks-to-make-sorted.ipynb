{
 "cells": [
  {
   "cell_type": "markdown",
   "id": "0349024b",
   "metadata": {},
   "source": [
    "https://leetcode.com/problems/max-chunks-to-make-sorted"
   ]
  },
  {
   "cell_type": "code",
   "execution_count": null,
   "id": "bee51c28",
   "metadata": {},
   "outputs": [],
   "source": [
    "import pyutil as pyu\n",
    "pyu.get_local_pyinfo()"
   ]
  },
  {
   "cell_type": "code",
   "execution_count": null,
   "id": "dac1e954",
   "metadata": {},
   "outputs": [],
   "source": [
    "print(pyu.ps2(\"python-dotenv\"))"
   ]
  },
  {
   "cell_type": "code",
   "execution_count": null,
   "id": "da9204d0",
   "metadata": {},
   "outputs": [],
   "source": [
    "from typing import List"
   ]
  },
  {
   "cell_type": "code",
   "execution_count": null,
   "id": "edf59a28",
   "metadata": {},
   "outputs": [],
   "source": [
    "class Solution:\n",
    "  def maxChunksToSorted(self, arr: List[int]) -> int:\n",
    "    ans = 0\n",
    "    maxi = -math.inf\n",
    "\n",
    "    for i, a in enumerate(arr):\n",
    "      maxi = max(maxi, a)\n",
    "      if maxi == i:\n",
    "        ans += 1\n",
    "\n",
    "    return ans"
   ]
  },
  {
   "cell_type": "code",
   "execution_count": null,
   "id": "e499b249",
   "metadata": {},
   "outputs": [],
   "source": [
    "new Solution().maxChunksToSorted()"
   ]
  }
 ],
 "metadata": {},
 "nbformat": 4,
 "nbformat_minor": 5
}

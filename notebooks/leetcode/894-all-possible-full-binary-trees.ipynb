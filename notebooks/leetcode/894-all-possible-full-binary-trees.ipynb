{
 "cells": [
  {
   "cell_type": "markdown",
   "id": "90ed30f7",
   "metadata": {},
   "source": [
    "https://leetcode.com/problems/all-possible-full-binary-trees"
   ]
  },
  {
   "cell_type": "code",
   "execution_count": null,
   "id": "e7e77cba",
   "metadata": {},
   "outputs": [],
   "source": [
    "import pyutil as pyu\n",
    "pyu.get_local_pyinfo()"
   ]
  },
  {
   "cell_type": "code",
   "execution_count": null,
   "id": "fd593ae1",
   "metadata": {},
   "outputs": [],
   "source": [
    "print(pyu.ps2(\"python-dotenv\"))"
   ]
  },
  {
   "cell_type": "code",
   "execution_count": null,
   "id": "fc22520c",
   "metadata": {},
   "outputs": [],
   "source": [
    "from typing import List"
   ]
  },
  {
   "cell_type": "code",
   "execution_count": null,
   "id": "a38a4a21",
   "metadata": {},
   "outputs": [],
   "source": [
    "class Solution:\n",
    "  @functools.lru_cache(None)\n",
    "  def allPossibleFBT(self, n: int) -> List[Optional[TreeNode]]:\n",
    "    if n % 2 == 0:\n",
    "      return []\n",
    "    if n == 1:\n",
    "      return [TreeNode(0)]\n",
    "\n",
    "    ans = []\n",
    "\n",
    "    for leftCount in range(n):\n",
    "      rightCount = n - 1 - leftCount\n",
    "      for left in self.allPossibleFBT(leftCount):\n",
    "        for right in self.allPossibleFBT(rightCount):\n",
    "          ans.append(TreeNode(0))\n",
    "          ans[-1].left = left\n",
    "          ans[-1].right = right\n",
    "\n",
    "    return ans"
   ]
  },
  {
   "cell_type": "code",
   "execution_count": null,
   "id": "74569c40",
   "metadata": {},
   "outputs": [],
   "source": [
    "new Solution().allPossibleFBT()"
   ]
  }
 ],
 "metadata": {},
 "nbformat": 4,
 "nbformat_minor": 5
}

{
 "cells": [
  {
   "cell_type": "markdown",
   "id": "8c96f3bd",
   "metadata": {},
   "source": [
    "https://leetcode.com/problems/binary-tree-vertical-order-traversal"
   ]
  },
  {
   "cell_type": "code",
   "execution_count": null,
   "id": "207ec1fd",
   "metadata": {},
   "outputs": [],
   "source": [
    "import pyutil as pyu\n",
    "pyu.get_local_pyinfo()"
   ]
  },
  {
   "cell_type": "code",
   "execution_count": null,
   "id": "d87e56a3",
   "metadata": {},
   "outputs": [],
   "source": [
    "print(pyu.ps2(\"python-dotenv\"))"
   ]
  },
  {
   "cell_type": "code",
   "execution_count": null,
   "id": "f8ee763f",
   "metadata": {},
   "outputs": [],
   "source": [
    "from typing import List"
   ]
  },
  {
   "cell_type": "code",
   "execution_count": null,
   "id": "866a6f91",
   "metadata": {},
   "outputs": [],
   "source": [
    "class Solution:\n",
    "  def verticalOrder(self, root: Optional[TreeNode]) -> List[List[int]]:\n",
    "    if not root:\n",
    "      return []\n",
    "\n",
    "    range_ = [0] * 2\n",
    "\n",
    "    def getRange(root: Optional[TreeNode], x: int) -> None:\n",
    "      if not root:\n",
    "        return\n",
    "\n",
    "      range_[0] = min(range_[0], x)\n",
    "      range_[1] = max(range_[1], x)\n",
    "\n",
    "      getRange(root.left, x - 1)\n",
    "      getRange(root.right, x + 1)\n",
    "\n",
    "    getRange(root, 0)  # Get the leftmost and rightmost x index\n",
    "\n",
    "    ans = [[] for _ in range(range_[1] - range_[0] + 1)]\n",
    "    q = deque([(root, -range_[0])])  # (TreeNode, x)\n",
    "\n",
    "    while q:\n",
    "      node, x = q.popleft()\n",
    "      ans[x].append(node.val)\n",
    "      if node.left:\n",
    "        q.append((node.left, x - 1))\n",
    "      if node.right:\n",
    "        q.append((node.right, x + 1))\n",
    "\n",
    "    return ans"
   ]
  },
  {
   "cell_type": "code",
   "execution_count": null,
   "id": "6c2d0b9b",
   "metadata": {},
   "outputs": [],
   "source": [
    "new Solution().verticalOrder()"
   ]
  }
 ],
 "metadata": {},
 "nbformat": 4,
 "nbformat_minor": 5
}

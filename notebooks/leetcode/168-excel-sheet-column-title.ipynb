{
 "cells": [
  {
   "cell_type": "markdown",
   "id": "dca545d3",
   "metadata": {},
   "source": [
    "https://leetcode.com/problems/excel-sheet-column-title"
   ]
  },
  {
   "cell_type": "code",
   "execution_count": null,
   "id": "7f351932",
   "metadata": {},
   "outputs": [],
   "source": [
    "import pyutil as pyu\n",
    "pyu.get_local_pyinfo()"
   ]
  },
  {
   "cell_type": "code",
   "execution_count": null,
   "id": "70b1e158",
   "metadata": {},
   "outputs": [],
   "source": [
    "print(pyu.ps2(\"python-dotenv\"))"
   ]
  },
  {
   "cell_type": "code",
   "execution_count": null,
   "id": "dc00922d",
   "metadata": {},
   "outputs": [],
   "source": [
    "from typing import List"
   ]
  },
  {
   "cell_type": "code",
   "execution_count": null,
   "id": "fe6e5452",
   "metadata": {},
   "outputs": [],
   "source": [
    "class Solution:\n",
    "  def convertToTitle(self, n: int) -> str:\n",
    "    return self.convertToTitle((n - 1) // 26) + \\\n",
    "        chr(ord('A') + (n - 1) % 26) if n else ''"
   ]
  },
  {
   "cell_type": "code",
   "execution_count": null,
   "id": "a3f52f0a",
   "metadata": {},
   "outputs": [],
   "source": [
    "new Solution().convertToTitle()"
   ]
  }
 ],
 "metadata": {},
 "nbformat": 4,
 "nbformat_minor": 5
}

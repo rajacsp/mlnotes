{
 "cells": [
  {
   "cell_type": "markdown",
   "id": "326fb2c7",
   "metadata": {},
   "source": [
    "https://leetcode.com/problems/k-diff-pairs-in-an-array"
   ]
  },
  {
   "cell_type": "code",
   "execution_count": null,
   "id": "c7544cdd",
   "metadata": {},
   "outputs": [],
   "source": [
    "import pyutil as pyu\n",
    "pyu.get_local_pyinfo()"
   ]
  },
  {
   "cell_type": "code",
   "execution_count": null,
   "id": "5d2d7673",
   "metadata": {},
   "outputs": [],
   "source": [
    "print(pyu.ps2(\"python-dotenv\"))"
   ]
  },
  {
   "cell_type": "code",
   "execution_count": null,
   "id": "ca07bb97",
   "metadata": {},
   "outputs": [],
   "source": [
    "from typing import List"
   ]
  },
  {
   "cell_type": "code",
   "execution_count": null,
   "id": "356f9da6",
   "metadata": {},
   "outputs": [],
   "source": [
    "class Solution:\n",
    "  def findPairs(self, nums: List[int], k: int) -> int:\n",
    "    ans = 0\n",
    "    numToIndex = {num: i for i, num in enumerate(nums)}\n",
    "\n",
    "    for i, num in enumerate(nums):\n",
    "      target = num + k\n",
    "      if target in numToIndex and numToIndex[target] != i:\n",
    "        ans += 1\n",
    "        del numToIndex[target]\n",
    "\n",
    "    return ans"
   ]
  },
  {
   "cell_type": "code",
   "execution_count": null,
   "id": "6ca3ba87",
   "metadata": {},
   "outputs": [],
   "source": [
    "new Solution().findPairs()"
   ]
  }
 ],
 "metadata": {},
 "nbformat": 4,
 "nbformat_minor": 5
}

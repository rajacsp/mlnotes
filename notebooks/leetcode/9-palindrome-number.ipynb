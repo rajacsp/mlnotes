{
 "cells": [
  {
   "cell_type": "markdown",
   "id": "f7744156",
   "metadata": {},
   "source": [
    "https://leetcode.com/problems/palindrome-number"
   ]
  },
  {
   "cell_type": "code",
   "execution_count": null,
   "id": "c8f79a1b",
   "metadata": {},
   "outputs": [],
   "source": [
    "import pyutil as pyu\n",
    "pyu.get_local_pyinfo()"
   ]
  },
  {
   "cell_type": "code",
   "execution_count": null,
   "id": "1ddb4f82",
   "metadata": {},
   "outputs": [],
   "source": [
    "print(pyu.ps2(\"python-dotenv\"))"
   ]
  },
  {
   "cell_type": "code",
   "execution_count": null,
   "id": "e78311a2",
   "metadata": {},
   "outputs": [],
   "source": [
    "from typing import List"
   ]
  },
  {
   "cell_type": "code",
   "execution_count": null,
   "id": "07aaa113",
   "metadata": {},
   "outputs": [],
   "source": [
    "class Solution:\n",
    "  def isPalindrome(self, x: int) -> bool:\n",
    "    if x < 0:\n",
    "      return False\n",
    "\n",
    "    rev = 0\n",
    "    y = x\n",
    "\n",
    "    while y:\n",
    "      rev = rev * 10 + y % 10\n",
    "      y //= 10\n",
    "\n",
    "    return rev == x"
   ]
  },
  {
   "cell_type": "code",
   "execution_count": null,
   "id": "db174268",
   "metadata": {},
   "outputs": [],
   "source": [
    "new Solution().isPalindrome()"
   ]
  }
 ],
 "metadata": {},
 "nbformat": 4,
 "nbformat_minor": 5
}

{
 "cells": [
  {
   "cell_type": "code",
   "execution_count": 1,
   "id": "db25c914-1252-4bae-8dbe-3a20e361bd73",
   "metadata": {},
   "outputs": [],
   "source": [
    "# https://leetcode.com/problems/palindrome-number/description/"
   ]
  },
  {
   "cell_type": "code",
   "execution_count": 2,
   "id": "0c10588e-e9e7-4b8c-b92b-91104a273df0",
   "metadata": {},
   "outputs": [
    {
     "data": {
      "text/plain": [
       "'conda env: ml311; pyv: 3.11.10 (main, Oct  3 2024, 07:29:13) [GCC 11.2.0]'"
      ]
     },
     "execution_count": 2,
     "metadata": {},
     "output_type": "execute_result"
    }
   ],
   "source": [
    "import pyutil as pyu\n",
    "pyu.get_local_pyinfo()"
   ]
  },
  {
   "cell_type": "code",
   "execution_count": 4,
   "id": "c2ccb592-b983-4856-a241-5898cab06699",
   "metadata": {},
   "outputs": [],
   "source": [
    "# print(pyu.ps2(\"scipy\"))"
   ]
  },
  {
   "cell_type": "code",
   "execution_count": null,
   "id": "e290a4be-0793-4902-b10b-44429cb937f9",
   "metadata": {},
   "outputs": [],
   "source": []
  },
  {
   "cell_type": "code",
   "execution_count": 2,
   "id": "2254118f-d279-4865-9ef8-74018c0d0bff",
   "metadata": {},
   "outputs": [],
   "source": [
    "class Solution:\n",
    "  def isPalindrome(self, x: int) -> bool:\n",
    "    if x < 0:\n",
    "      return False\n",
    "\n",
    "    rev = 0\n",
    "    y = x\n",
    "\n",
    "    while y:\n",
    "      rev = rev * 10 + y % 10\n",
    "      y //= 10\n",
    "\n",
    "    return rev == x"
   ]
  },
  {
   "cell_type": "code",
   "execution_count": 3,
   "id": "b7c8b16b-1f70-4df3-90d5-a107bd15d641",
   "metadata": {},
   "outputs": [
    {
     "data": {
      "text/plain": [
       "True"
      ]
     },
     "execution_count": 3,
     "metadata": {},
     "output_type": "execute_result"
    }
   ],
   "source": [
    "Solution().isPalindrome(121)"
   ]
  },
  {
   "cell_type": "code",
   "execution_count": 4,
   "id": "6a61df57-2191-4354-80ba-15d6bd8c1106",
   "metadata": {},
   "outputs": [
    {
     "data": {
      "text/plain": [
       "False"
      ]
     },
     "execution_count": 4,
     "metadata": {},
     "output_type": "execute_result"
    }
   ],
   "source": [
    "Solution().isPalindrome(-121)"
   ]
  },
  {
   "cell_type": "code",
   "execution_count": 5,
   "id": "441bd0d6-86f8-4641-ad7f-18da5aaa86b5",
   "metadata": {},
   "outputs": [
    {
     "data": {
      "text/plain": [
       "False"
      ]
     },
     "execution_count": 5,
     "metadata": {},
     "output_type": "execute_result"
    }
   ],
   "source": [
    "Solution().isPalindrome(10)"
   ]
  },
  {
   "cell_type": "code",
   "execution_count": null,
   "id": "ee2c79b8-e1f9-4f5d-852c-b4a6521d4881",
   "metadata": {},
   "outputs": [],
   "source": []
  }
 ],
 "metadata": {
  "kernelspec": {
   "display_name": "Python 3 (ipykernel)",
   "language": "python",
   "name": "python3"
  },
  "language_info": {
   "codemirror_mode": {
    "name": "ipython",
    "version": 3
   },
   "file_extension": ".py",
   "mimetype": "text/x-python",
   "name": "python",
   "nbconvert_exporter": "python",
   "pygments_lexer": "ipython3",
   "version": "3.11.10"
  }
 },
 "nbformat": 4,
 "nbformat_minor": 5
}

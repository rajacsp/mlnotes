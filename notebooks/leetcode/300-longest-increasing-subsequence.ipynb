{
 "cells": [
  {
   "cell_type": "markdown",
   "id": "b1839a89",
   "metadata": {},
   "source": [
    "https://leetcode.com/problems/longest-increasing-subsequence"
   ]
  },
  {
   "cell_type": "code",
   "execution_count": null,
   "id": "395c73a5",
   "metadata": {},
   "outputs": [],
   "source": [
    "import pyutil as pyu\n",
    "pyu.get_local_pyinfo()"
   ]
  },
  {
   "cell_type": "code",
   "execution_count": null,
   "id": "78f26287",
   "metadata": {},
   "outputs": [],
   "source": [
    "print(pyu.ps2(\"python-dotenv\"))"
   ]
  },
  {
   "cell_type": "code",
   "execution_count": null,
   "id": "29d96c0f",
   "metadata": {},
   "outputs": [],
   "source": [
    "from typing import List"
   ]
  },
  {
   "cell_type": "code",
   "execution_count": null,
   "id": "af602312",
   "metadata": {},
   "outputs": [],
   "source": [
    "class Solution:\n",
    "  def lengthOfLIS(self, nums: List[int]) -> int:\n",
    "    if not nums:\n",
    "      return 0\n",
    "\n",
    "    # dp[i] := LIS ending at nums[i]\n",
    "    dp = [1] * len(nums)\n",
    "\n",
    "    for i in range(1, len(nums)):\n",
    "      for j in range(i):\n",
    "        if nums[j] < nums[i]:\n",
    "          dp[i] = max(dp[i], dp[j] + 1)\n",
    "\n",
    "    return max(dp)"
   ]
  },
  {
   "cell_type": "code",
   "execution_count": null,
   "id": "e01558e6",
   "metadata": {},
   "outputs": [],
   "source": [
    "new Solution().lengthOfLIS()"
   ]
  }
 ],
 "metadata": {},
 "nbformat": 4,
 "nbformat_minor": 5
}

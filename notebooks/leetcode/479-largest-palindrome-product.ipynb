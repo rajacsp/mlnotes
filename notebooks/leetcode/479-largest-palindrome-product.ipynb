{
 "cells": [
  {
   "cell_type": "markdown",
   "id": "e415c56a",
   "metadata": {},
   "source": [
    "https://leetcode.com/problems/largest-palindrome-product"
   ]
  },
  {
   "cell_type": "code",
   "execution_count": null,
   "id": "601a7d33",
   "metadata": {},
   "outputs": [],
   "source": [
    "import pyutil as pyu\n",
    "pyu.get_local_pyinfo()"
   ]
  },
  {
   "cell_type": "code",
   "execution_count": null,
   "id": "baae3f85",
   "metadata": {},
   "outputs": [],
   "source": [
    "print(pyu.ps2(\"python-dotenv\"))"
   ]
  },
  {
   "cell_type": "code",
   "execution_count": null,
   "id": "d1c72c36",
   "metadata": {},
   "outputs": [],
   "source": [
    "from typing import List"
   ]
  },
  {
   "cell_type": "code",
   "execution_count": null,
   "id": "09a8e934",
   "metadata": {},
   "outputs": [],
   "source": [
    "class Solution:\n",
    "  def largestPalindrome(self, n: int) -> int:\n",
    "    if n == 1:\n",
    "      return 9\n",
    "\n",
    "    kMod = 1337\n",
    "    upper = pow(10, n) - 1\n",
    "    lower = pow(10, n - 1) - 1\n",
    "\n",
    "    for i in range(upper, lower, -1):\n",
    "      cand = int(str(i) + str(i)[::-1])\n",
    "      j = upper\n",
    "      while j * j >= cand:\n",
    "        if cand % j == 0:\n",
    "          return cand % kMod\n",
    "        j -= 1"
   ]
  },
  {
   "cell_type": "code",
   "execution_count": null,
   "id": "816e1347",
   "metadata": {},
   "outputs": [],
   "source": [
    "new Solution().largestPalindrome()"
   ]
  }
 ],
 "metadata": {},
 "nbformat": 4,
 "nbformat_minor": 5
}

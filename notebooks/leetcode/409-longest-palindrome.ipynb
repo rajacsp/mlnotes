{
 "cells": [
  {
   "cell_type": "markdown",
   "id": "23931f52",
   "metadata": {},
   "source": [
    "https://leetcode.com/problems/longest-palindrome"
   ]
  },
  {
   "cell_type": "code",
   "execution_count": null,
   "id": "b6f6f5a4",
   "metadata": {},
   "outputs": [],
   "source": [
    "import pyutil as pyu\n",
    "pyu.get_local_pyinfo()"
   ]
  },
  {
   "cell_type": "code",
   "execution_count": null,
   "id": "3c76ba9b",
   "metadata": {},
   "outputs": [],
   "source": [
    "print(pyu.ps2(\"python-dotenv\"))"
   ]
  },
  {
   "cell_type": "code",
   "execution_count": null,
   "id": "1b08ed55",
   "metadata": {},
   "outputs": [],
   "source": [
    "from typing import List"
   ]
  },
  {
   "cell_type": "code",
   "execution_count": null,
   "id": "1d5b0d52",
   "metadata": {},
   "outputs": [],
   "source": [
    "class Solution:\n",
    "  def longestPalindrome(self, s: str) -> int:\n",
    "    ans = 0\n",
    "    count = Counter(s)\n",
    "\n",
    "    for c in count.values():\n",
    "      ans += c if c % 2 == 0 else c - 1\n",
    "\n",
    "    hasOddCount = any(c % 2 == 1 for c in count.values())\n",
    "\n",
    "    return ans + hasOddCount"
   ]
  },
  {
   "cell_type": "code",
   "execution_count": null,
   "id": "fa8fd4d3",
   "metadata": {},
   "outputs": [],
   "source": [
    "new Solution().longestPalindrome()"
   ]
  }
 ],
 "metadata": {},
 "nbformat": 4,
 "nbformat_minor": 5
}

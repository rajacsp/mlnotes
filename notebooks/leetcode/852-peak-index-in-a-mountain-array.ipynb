{
 "cells": [
  {
   "cell_type": "markdown",
   "id": "2e4eafa4",
   "metadata": {},
   "source": [
    "https://leetcode.com/problems/peak-index-in-a-mountain-array"
   ]
  },
  {
   "cell_type": "code",
   "execution_count": null,
   "id": "a9b72190",
   "metadata": {},
   "outputs": [],
   "source": [
    "import pyutil as pyu\n",
    "pyu.get_local_pyinfo()"
   ]
  },
  {
   "cell_type": "code",
   "execution_count": null,
   "id": "392bd0e6",
   "metadata": {},
   "outputs": [],
   "source": [
    "print(pyu.ps2(\"python-dotenv\"))"
   ]
  },
  {
   "cell_type": "code",
   "execution_count": null,
   "id": "bd0efcd8",
   "metadata": {},
   "outputs": [],
   "source": [
    "from typing import List"
   ]
  },
  {
   "cell_type": "code",
   "execution_count": null,
   "id": "7642f0f6",
   "metadata": {},
   "outputs": [],
   "source": [
    "class Solution:\n",
    "  def peakIndexInMountainArray(self, arr: List[int]) -> int:\n",
    "    l = 0\n",
    "    r = len(arr) - 1\n",
    "\n",
    "    while l < r:\n",
    "      m = (l + r) // 2\n",
    "      if arr[m] < arr[m + 1]:\n",
    "        l = m + 1\n",
    "      else:\n",
    "        r = m\n",
    "\n",
    "    return l"
   ]
  },
  {
   "cell_type": "code",
   "execution_count": null,
   "id": "77c9e86c",
   "metadata": {},
   "outputs": [],
   "source": [
    "new Solution().peakIndexInMountainArray()"
   ]
  }
 ],
 "metadata": {},
 "nbformat": 4,
 "nbformat_minor": 5
}

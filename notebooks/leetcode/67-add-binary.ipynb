{
 "cells": [
  {
   "cell_type": "markdown",
   "id": "47ba33be",
   "metadata": {},
   "source": [
    "https://leetcode.com/problems/add-binary"
   ]
  },
  {
   "cell_type": "code",
   "execution_count": null,
   "id": "647110f6",
   "metadata": {},
   "outputs": [],
   "source": [
    "import pyutil as pyu\n",
    "pyu.get_local_pyinfo()"
   ]
  },
  {
   "cell_type": "code",
   "execution_count": null,
   "id": "c95df1f9",
   "metadata": {},
   "outputs": [],
   "source": [
    "print(pyu.ps2(\"python-dotenv\"))"
   ]
  },
  {
   "cell_type": "code",
   "execution_count": null,
   "id": "9c289ab8",
   "metadata": {},
   "outputs": [],
   "source": [
    "from typing import List"
   ]
  },
  {
   "cell_type": "code",
   "execution_count": null,
   "id": "aa955fe3",
   "metadata": {},
   "outputs": [],
   "source": [
    "class Solution:\n",
    "  def addBinary(self, a: str, b: str) -> str:\n",
    "    s = []\n",
    "    carry = 0\n",
    "    i = len(a) - 1\n",
    "    j = len(b) - 1\n",
    "\n",
    "    while i >= 0 or j >= 0 or carry:\n",
    "      if i >= 0:\n",
    "        carry += int(a[i])\n",
    "        i -= 1\n",
    "      if j >= 0:\n",
    "        carry += int(b[j])\n",
    "        j -= 1\n",
    "      s.append(str(carry % 2))\n",
    "      carry //= 2\n",
    "\n",
    "    return ''.join(reversed(s))"
   ]
  },
  {
   "cell_type": "code",
   "execution_count": null,
   "id": "ce7da93c",
   "metadata": {},
   "outputs": [],
   "source": [
    "new Solution().addBinary()"
   ]
  }
 ],
 "metadata": {},
 "nbformat": 4,
 "nbformat_minor": 5
}

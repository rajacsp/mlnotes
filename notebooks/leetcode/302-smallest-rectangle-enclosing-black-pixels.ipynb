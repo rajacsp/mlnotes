{
 "cells": [
  {
   "cell_type": "markdown",
   "id": "1efc6c87",
   "metadata": {},
   "source": [
    "https://leetcode.com/problems/smallest-rectangle-enclosing-black-pixels"
   ]
  },
  {
   "cell_type": "code",
   "execution_count": null,
   "id": "c90f7573",
   "metadata": {},
   "outputs": [],
   "source": [
    "import pyutil as pyu\n",
    "pyu.get_local_pyinfo()"
   ]
  },
  {
   "cell_type": "code",
   "execution_count": null,
   "id": "fff3da6b",
   "metadata": {},
   "outputs": [],
   "source": [
    "print(pyu.ps2(\"python-dotenv\"))"
   ]
  },
  {
   "cell_type": "code",
   "execution_count": null,
   "id": "f2839721",
   "metadata": {},
   "outputs": [],
   "source": [
    "from typing import List"
   ]
  },
  {
   "cell_type": "code",
   "execution_count": null,
   "id": "beb7cee1",
   "metadata": {},
   "outputs": [],
   "source": [
    "class Solution:\n",
    "  def minArea(self, image: List[List[str]], x: int, y: int) -> int:\n",
    "    m = len(image)\n",
    "    n = len(image[0])\n",
    "    dirs = [0, 1, 0, -1, 0]\n",
    "    topLeft = [x, y]\n",
    "    bottomRight = [x, y]\n",
    "    q = deque([(x, y)])\n",
    "    image[x][y] = '2'  # Visited\n",
    "\n",
    "    while q:\n",
    "      i, j = q.popleft()\n",
    "      for k in range(4):\n",
    "        r = i + dirs[k]\n",
    "        c = j + dirs[k + 1]\n",
    "        if r < 0 or r == m or c < 0 or c == n:\n",
    "          continue\n",
    "        if image[r][c] != '1':\n",
    "          continue\n",
    "        topLeft[0] = min(topLeft[0], r)\n",
    "        topLeft[1] = min(topLeft[1], c)\n",
    "        bottomRight[0] = max(bottomRight[0], r)\n",
    "        bottomRight[1] = max(bottomRight[1], c)\n",
    "        q.append((r, c))\n",
    "        image[r][c] = '2'\n",
    "\n",
    "    width = bottomRight[1] - topLeft[1] + 1\n",
    "    height = bottomRight[0] - topLeft[0] + 1\n",
    "    return width * height"
   ]
  },
  {
   "cell_type": "code",
   "execution_count": null,
   "id": "93645902",
   "metadata": {},
   "outputs": [],
   "source": [
    "new Solution().minArea()"
   ]
  }
 ],
 "metadata": {},
 "nbformat": 4,
 "nbformat_minor": 5
}

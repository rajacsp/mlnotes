{
 "cells": [
  {
   "cell_type": "markdown",
   "id": "3b582d54",
   "metadata": {},
   "source": [
    "https://leetcode.com/problems/spiral-matrix"
   ]
  },
  {
   "cell_type": "code",
   "execution_count": null,
   "id": "fc95cdd9",
   "metadata": {},
   "outputs": [],
   "source": [
    "import pyutil as pyu\n",
    "pyu.get_local_pyinfo()"
   ]
  },
  {
   "cell_type": "code",
   "execution_count": null,
   "id": "07591088",
   "metadata": {},
   "outputs": [],
   "source": [
    "print(pyu.ps2(\"python-dotenv\"))"
   ]
  },
  {
   "cell_type": "code",
   "execution_count": null,
   "id": "d7eaa127",
   "metadata": {},
   "outputs": [],
   "source": [
    "from typing import List"
   ]
  },
  {
   "cell_type": "code",
   "execution_count": null,
   "id": "3fdf6e4c",
   "metadata": {},
   "outputs": [],
   "source": [
    "class Solution:\n",
    "  def spiralOrder(self, matrix: List[List[int]]) -> List[int]:\n",
    "    if not matrix:\n",
    "      return []\n",
    "\n",
    "    m = len(matrix)\n",
    "    n = len(matrix[0])\n",
    "    ans = []\n",
    "    r1 = 0\n",
    "    c1 = 0\n",
    "    r2 = m - 1\n",
    "    c2 = n - 1\n",
    "\n",
    "    # Repeatedly add matrix[r1..r2][c1..c2] to ans\n",
    "    while len(ans) < m * n:\n",
    "      j = c1\n",
    "      while j <= c2 and len(ans) < m * n:\n",
    "        ans.append(matrix[r1][j])\n",
    "        j += 1\n",
    "      i = r1 + 1\n",
    "      while i <= r2 - 1 and len(ans) < m * n:\n",
    "        ans.append(matrix[i][c2])\n",
    "        i += 1\n",
    "      j = c2\n",
    "      while j >= c1 and len(ans) < m * n:\n",
    "        ans.append(matrix[r2][j])\n",
    "        j -= 1\n",
    "      i = r2 - 1\n",
    "      while i >= r1 + 1 and len(ans) < m * n:\n",
    "        ans.append(matrix[i][c1])\n",
    "        i -= 1\n",
    "      r1 += 1\n",
    "      c1 += 1\n",
    "      r2 -= 1\n",
    "      c2 -= 1\n",
    "\n",
    "    return ans"
   ]
  },
  {
   "cell_type": "code",
   "execution_count": null,
   "id": "1e37eac7",
   "metadata": {},
   "outputs": [],
   "source": [
    "new Solution().spiralOrder()"
   ]
  }
 ],
 "metadata": {},
 "nbformat": 4,
 "nbformat_minor": 5
}

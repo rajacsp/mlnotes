{
 "cells": [
  {
   "cell_type": "markdown",
   "id": "099a7fa1",
   "metadata": {},
   "source": [
    "https://leetcode.com/problems/remove-duplicates-from-sorted-array"
   ]
  },
  {
   "cell_type": "code",
   "execution_count": null,
   "id": "2847603c",
   "metadata": {},
   "outputs": [],
   "source": [
    "import pyutil as pyu\n",
    "pyu.get_local_pyinfo()"
   ]
  },
  {
   "cell_type": "code",
   "execution_count": null,
   "id": "268a84b2",
   "metadata": {},
   "outputs": [],
   "source": [
    "print(pyu.ps2(\"python-dotenv\"))"
   ]
  },
  {
   "cell_type": "code",
   "execution_count": null,
   "id": "5da8cace",
   "metadata": {},
   "outputs": [],
   "source": [
    "from typing import List"
   ]
  },
  {
   "cell_type": "code",
   "execution_count": null,
   "id": "c88f60cb",
   "metadata": {},
   "outputs": [],
   "source": [
    "class Solution:\n",
    "  def removeDuplicates(self, nums: List[int]) -> int:\n",
    "    i = 0\n",
    "\n",
    "    for num in nums:\n",
    "      if i < 1 or num > nums[i - 1]:\n",
    "        nums[i] = num\n",
    "        i += 1\n",
    "\n",
    "    return i"
   ]
  },
  {
   "cell_type": "code",
   "execution_count": null,
   "id": "c2e398ab",
   "metadata": {},
   "outputs": [],
   "source": [
    "new Solution().removeDuplicates()"
   ]
  }
 ],
 "metadata": {},
 "nbformat": 4,
 "nbformat_minor": 5
}

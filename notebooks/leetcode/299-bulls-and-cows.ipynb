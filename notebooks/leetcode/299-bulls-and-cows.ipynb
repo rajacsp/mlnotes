{
 "cells": [
  {
   "cell_type": "markdown",
   "id": "ad38fd68",
   "metadata": {},
   "source": [
    "https://leetcode.com/problems/bulls-and-cows"
   ]
  },
  {
   "cell_type": "code",
   "execution_count": null,
   "id": "792944cc",
   "metadata": {},
   "outputs": [],
   "source": [
    "import pyutil as pyu\n",
    "pyu.get_local_pyinfo()"
   ]
  },
  {
   "cell_type": "code",
   "execution_count": null,
   "id": "464a3669",
   "metadata": {},
   "outputs": [],
   "source": [
    "print(pyu.ps2(\"python-dotenv\"))"
   ]
  },
  {
   "cell_type": "code",
   "execution_count": null,
   "id": "ec4a123c",
   "metadata": {},
   "outputs": [],
   "source": [
    "from typing import List"
   ]
  },
  {
   "cell_type": "code",
   "execution_count": null,
   "id": "96fa0c20",
   "metadata": {},
   "outputs": [],
   "source": [
    "class Solution:\n",
    "  def getHint(self, secret: str, guess: str) -> str:\n",
    "    bulls = sum(map(operator.eq, secret, guess))\n",
    "    bovine = sum(min(secret.count(x), guess.count(x)) for x in set(guess))\n",
    "    return '%dA%dB' % (bulls, bovine - bulls)"
   ]
  },
  {
   "cell_type": "code",
   "execution_count": null,
   "id": "0a9e9316",
   "metadata": {},
   "outputs": [],
   "source": [
    "new Solution().getHint()"
   ]
  }
 ],
 "metadata": {},
 "nbformat": 4,
 "nbformat_minor": 5
}

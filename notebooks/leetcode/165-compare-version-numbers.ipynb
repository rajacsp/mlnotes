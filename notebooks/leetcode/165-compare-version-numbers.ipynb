{
 "cells": [
  {
   "cell_type": "markdown",
   "id": "61b78abe",
   "metadata": {},
   "source": [
    "https://leetcode.com/problems/compare-version-numbers"
   ]
  },
  {
   "cell_type": "code",
   "execution_count": null,
   "id": "6e09e8d1",
   "metadata": {},
   "outputs": [],
   "source": [
    "import pyutil as pyu\n",
    "pyu.get_local_pyinfo()"
   ]
  },
  {
   "cell_type": "code",
   "execution_count": null,
   "id": "7cb35d63",
   "metadata": {},
   "outputs": [],
   "source": [
    "print(pyu.ps2(\"python-dotenv\"))"
   ]
  },
  {
   "cell_type": "code",
   "execution_count": null,
   "id": "bfda81bf",
   "metadata": {},
   "outputs": [],
   "source": [
    "from typing import List"
   ]
  },
  {
   "cell_type": "code",
   "execution_count": null,
   "id": "0dd6ce5d",
   "metadata": {},
   "outputs": [],
   "source": [
    "class Solution:\n",
    "  def compareVersion(self, version1: str, version2: str) -> int:\n",
    "    levels1 = version1.split('.')\n",
    "    levels2 = version2.split('.')\n",
    "    length = max(len(levels1), len(levels2))\n",
    "\n",
    "    for i in range(length):\n",
    "      v1 = int(levels1[i]) if i < len(levels1) else 0\n",
    "      v2 = int(levels2[i]) if i < len(levels2) else 0\n",
    "      if v1 < v2:\n",
    "        return -1\n",
    "      if v1 > v2:\n",
    "        return 1\n",
    "\n",
    "    return 0"
   ]
  },
  {
   "cell_type": "code",
   "execution_count": null,
   "id": "a971b36f",
   "metadata": {},
   "outputs": [],
   "source": [
    "new Solution().compareVersion()"
   ]
  }
 ],
 "metadata": {},
 "nbformat": 4,
 "nbformat_minor": 5
}

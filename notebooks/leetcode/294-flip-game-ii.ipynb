{
 "cells": [
  {
   "cell_type": "markdown",
   "id": "65d1c18a",
   "metadata": {},
   "source": [
    "https://leetcode.com/problems/flip-game-ii"
   ]
  },
  {
   "cell_type": "code",
   "execution_count": null,
   "id": "3a3ae912",
   "metadata": {},
   "outputs": [],
   "source": [
    "import pyutil as pyu\n",
    "pyu.get_local_pyinfo()"
   ]
  },
  {
   "cell_type": "code",
   "execution_count": null,
   "id": "027c7e77",
   "metadata": {},
   "outputs": [],
   "source": [
    "print(pyu.ps2(\"python-dotenv\"))"
   ]
  },
  {
   "cell_type": "code",
   "execution_count": null,
   "id": "5fc28ba9",
   "metadata": {},
   "outputs": [],
   "source": [
    "from typing import List"
   ]
  },
  {
   "cell_type": "code",
   "execution_count": null,
   "id": "c0058ac8",
   "metadata": {},
   "outputs": [],
   "source": [
    "class Solution:\n",
    "  @functools.lru_cache(None)\n",
    "  def canWin(self, currentState: str) -> bool:\n",
    "    # If any of currentState[i:i + 2] == \"++\" and your friend can't win after\n",
    "    # Changing currentState[i:i + 2] to \"--\" (or \"-\"), then you can win\n",
    "    return any(True\n",
    "               for i, (a, b) in enumerate(zip(currentState, currentState[1:]))\n",
    "               if a == '+' and b == '+' and\n",
    "               not self.canWin(currentState[:i] + '-' + currentState[i + 2:]))"
   ]
  },
  {
   "cell_type": "code",
   "execution_count": null,
   "id": "1dd05e29",
   "metadata": {},
   "outputs": [],
   "source": [
    "new Solution().canWin()"
   ]
  }
 ],
 "metadata": {},
 "nbformat": 4,
 "nbformat_minor": 5
}

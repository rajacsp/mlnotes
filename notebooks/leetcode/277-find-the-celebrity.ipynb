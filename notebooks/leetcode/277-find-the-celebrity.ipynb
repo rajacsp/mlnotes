{
 "cells": [
  {
   "cell_type": "markdown",
   "id": "31558b33",
   "metadata": {},
   "source": [
    "https://leetcode.com/problems/find-the-celebrity"
   ]
  },
  {
   "cell_type": "code",
   "execution_count": null,
   "id": "a39f97fc",
   "metadata": {},
   "outputs": [],
   "source": [
    "import pyutil as pyu\n",
    "pyu.get_local_pyinfo()"
   ]
  },
  {
   "cell_type": "code",
   "execution_count": null,
   "id": "753a2ec7",
   "metadata": {},
   "outputs": [],
   "source": [
    "print(pyu.ps2(\"python-dotenv\"))"
   ]
  },
  {
   "cell_type": "code",
   "execution_count": null,
   "id": "7821da8b",
   "metadata": {},
   "outputs": [],
   "source": [
    "from typing import List"
   ]
  },
  {
   "cell_type": "code",
   "execution_count": null,
   "id": "a3cfd094",
   "metadata": {},
   "outputs": [],
   "source": [
    "# The knows API is already defined for you.\n",
    "# Returns a bool, whether a knows b\n",
    "# Def knows(a: int, b: int) -> bool:\n",
    "\n",
    "\n",
    "class Solution:\n",
    "  def findCelebrity(self, n: int) -> int:\n",
    "    candidate = 0\n",
    "\n",
    "    # Everyone knows the celebrity\n",
    "    for i in range(1, n):\n",
    "      if knows(candidate, i):\n",
    "        candidate = i\n",
    "\n",
    "    # Candidate knows nobody and everyone knows the celebrity\n",
    "    for i in range(n):\n",
    "      if i < candidate and knows(candidate, i) or not knows(i, candidate):\n",
    "        return -1\n",
    "      if i > candidate and not knows(i, candidate):\n",
    "        return -1\n",
    "\n",
    "    return candidate"
   ]
  },
  {
   "cell_type": "code",
   "execution_count": null,
   "id": "deb9482e",
   "metadata": {},
   "outputs": [],
   "source": [
    "new Solution().findCelebrity()"
   ]
  }
 ],
 "metadata": {},
 "nbformat": 4,
 "nbformat_minor": 5
}

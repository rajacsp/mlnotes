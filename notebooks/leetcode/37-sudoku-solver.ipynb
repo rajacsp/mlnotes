{
 "cells": [
  {
   "cell_type": "markdown",
   "id": "46ee2ad9",
   "metadata": {},
   "source": [
    "https://leetcode.com/problems/sudoku-solver"
   ]
  },
  {
   "cell_type": "code",
   "execution_count": null,
   "id": "43d5f164",
   "metadata": {},
   "outputs": [],
   "source": [
    "import pyutil as pyu\n",
    "pyu.get_local_pyinfo()"
   ]
  },
  {
   "cell_type": "code",
   "execution_count": null,
   "id": "3dcb2c9e",
   "metadata": {},
   "outputs": [],
   "source": [
    "print(pyu.ps2(\"python-dotenv\"))"
   ]
  },
  {
   "cell_type": "code",
   "execution_count": null,
   "id": "87c66dac",
   "metadata": {},
   "outputs": [],
   "source": [
    "from typing import List"
   ]
  },
  {
   "cell_type": "code",
   "execution_count": null,
   "id": "ff8811a4",
   "metadata": {},
   "outputs": [],
   "source": [
    "class Solution:\n",
    "  def solveSudoku(self, board: List[List[str]]) -> None:\n",
    "    def isValid(row: int, col: int, c: chr) -> bool:\n",
    "      for i in range(9):\n",
    "        if board[i][col] == c or \\\n",
    "           board[row][i] == c or \\\n",
    "           board[3 * (row // 3) + i // 3][3 * (col // 3) + i % 3] == c:\n",
    "          return False\n",
    "      return True\n",
    "\n",
    "    def solve(s: int) -> bool:\n",
    "      if s == 81:\n",
    "        return True\n",
    "\n",
    "      i = s // 9\n",
    "      j = s % 9\n",
    "\n",
    "      if board[i][j] != '.':\n",
    "        return solve(s + 1)\n",
    "\n",
    "      for c in string.digits[1:]:\n",
    "        if isValid(i, j, c):\n",
    "          board[i][j] = c\n",
    "          if solve(s + 1):\n",
    "            return True\n",
    "          board[i][j] = '.'\n",
    "\n",
    "      return False\n",
    "\n",
    "    solve(0)"
   ]
  },
  {
   "cell_type": "code",
   "execution_count": null,
   "id": "8ea751d8",
   "metadata": {},
   "outputs": [],
   "source": [
    "new Solution().solveSudoku()"
   ]
  }
 ],
 "metadata": {},
 "nbformat": 4,
 "nbformat_minor": 5
}

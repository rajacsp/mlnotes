{
 "cells": [
  {
   "cell_type": "markdown",
   "id": "e5ef7ac8",
   "metadata": {},
   "source": [
    "https://leetcode.com/problems/maximum-product-of-three-numbers"
   ]
  },
  {
   "cell_type": "code",
   "execution_count": null,
   "id": "cba44de0",
   "metadata": {},
   "outputs": [],
   "source": [
    "import pyutil as pyu\n",
    "pyu.get_local_pyinfo()"
   ]
  },
  {
   "cell_type": "code",
   "execution_count": null,
   "id": "2b962bf5",
   "metadata": {},
   "outputs": [],
   "source": [
    "print(pyu.ps2(\"python-dotenv\"))"
   ]
  },
  {
   "cell_type": "code",
   "execution_count": null,
   "id": "daff40cf",
   "metadata": {},
   "outputs": [],
   "source": [
    "from typing import List"
   ]
  },
  {
   "cell_type": "code",
   "execution_count": null,
   "id": "df3481ab",
   "metadata": {},
   "outputs": [],
   "source": [
    "class Solution:\n",
    "  def maximumProduct(self, nums: List[int]) -> int:\n",
    "    nums.sort()\n",
    "    return max(nums[-1] * nums[0] * nums[1],\n",
    "               nums[-1] * nums[-2] * nums[-3])"
   ]
  },
  {
   "cell_type": "code",
   "execution_count": null,
   "id": "7f9cdbf6",
   "metadata": {},
   "outputs": [],
   "source": [
    "new Solution().maximumProduct()"
   ]
  }
 ],
 "metadata": {},
 "nbformat": 4,
 "nbformat_minor": 5
}

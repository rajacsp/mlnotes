{
 "cells": [
  {
   "cell_type": "markdown",
   "id": "91c0be10",
   "metadata": {},
   "source": [
    "https://leetcode.com/problems/repeated-substring-pattern"
   ]
  },
  {
   "cell_type": "code",
   "execution_count": null,
   "id": "b7fc3ebc",
   "metadata": {},
   "outputs": [],
   "source": [
    "import pyutil as pyu\n",
    "pyu.get_local_pyinfo()"
   ]
  },
  {
   "cell_type": "code",
   "execution_count": null,
   "id": "9ec9855a",
   "metadata": {},
   "outputs": [],
   "source": [
    "print(pyu.ps2(\"python-dotenv\"))"
   ]
  },
  {
   "cell_type": "code",
   "execution_count": null,
   "id": "ea68baf7",
   "metadata": {},
   "outputs": [],
   "source": [
    "from typing import List"
   ]
  },
  {
   "cell_type": "code",
   "execution_count": null,
   "id": "69396ecd",
   "metadata": {},
   "outputs": [],
   "source": [
    "class Solution:\n",
    "  def repeatedSubstringPattern(self, s: str) -> bool:\n",
    "    return s in (s + s)[1:-1]"
   ]
  },
  {
   "cell_type": "code",
   "execution_count": null,
   "id": "203bed38",
   "metadata": {},
   "outputs": [],
   "source": [
    "new Solution().repeatedSubstringPattern()"
   ]
  }
 ],
 "metadata": {},
 "nbformat": 4,
 "nbformat_minor": 5
}

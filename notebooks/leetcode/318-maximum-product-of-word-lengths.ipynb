{
 "cells": [
  {
   "cell_type": "markdown",
   "id": "c1ddc835",
   "metadata": {},
   "source": [
    "https://leetcode.com/problems/maximum-product-of-word-lengths"
   ]
  },
  {
   "cell_type": "code",
   "execution_count": null,
   "id": "e0408882",
   "metadata": {},
   "outputs": [],
   "source": [
    "import pyutil as pyu\n",
    "pyu.get_local_pyinfo()"
   ]
  },
  {
   "cell_type": "code",
   "execution_count": null,
   "id": "32b44d60",
   "metadata": {},
   "outputs": [],
   "source": [
    "print(pyu.ps2(\"python-dotenv\"))"
   ]
  },
  {
   "cell_type": "code",
   "execution_count": null,
   "id": "eb597a50",
   "metadata": {},
   "outputs": [],
   "source": [
    "from typing import List"
   ]
  },
  {
   "cell_type": "code",
   "execution_count": null,
   "id": "dc5a50f2",
   "metadata": {},
   "outputs": [],
   "source": [
    "class Solution:\n",
    "  def maxProduct(self, words: List[str]) -> int:\n",
    "    ans = 0\n",
    "\n",
    "    def getMask(word: str) -> int:\n",
    "      mask = 0\n",
    "      for c in word:\n",
    "        mask |= 1 << ord(c) - ord('a')\n",
    "      return mask\n",
    "\n",
    "    masks = [getMask(word) for word in words]\n",
    "\n",
    "    for i in range(len(words)):\n",
    "      for j in range(i):\n",
    "        if not (masks[i] & masks[j]):\n",
    "          ans = max(ans, len(words[i]) * len(words[j]))\n",
    "\n",
    "    return ans"
   ]
  },
  {
   "cell_type": "code",
   "execution_count": null,
   "id": "c52b3543",
   "metadata": {},
   "outputs": [],
   "source": [
    "new Solution().maxProduct()"
   ]
  }
 ],
 "metadata": {},
 "nbformat": 4,
 "nbformat_minor": 5
}

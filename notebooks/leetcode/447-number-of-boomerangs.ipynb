{
 "cells": [
  {
   "cell_type": "markdown",
   "id": "5d4a5c86",
   "metadata": {},
   "source": [
    "https://leetcode.com/problems/number-of-boomerangs"
   ]
  },
  {
   "cell_type": "code",
   "execution_count": null,
   "id": "b462cc76",
   "metadata": {},
   "outputs": [],
   "source": [
    "import pyutil as pyu\n",
    "pyu.get_local_pyinfo()"
   ]
  },
  {
   "cell_type": "code",
   "execution_count": null,
   "id": "39cdd207",
   "metadata": {},
   "outputs": [],
   "source": [
    "print(pyu.ps2(\"python-dotenv\"))"
   ]
  },
  {
   "cell_type": "code",
   "execution_count": null,
   "id": "bc29843f",
   "metadata": {},
   "outputs": [],
   "source": [
    "from typing import List"
   ]
  },
  {
   "cell_type": "code",
   "execution_count": null,
   "id": "1af4659e",
   "metadata": {},
   "outputs": [],
   "source": [
    "class Solution:\n",
    "  def numberOfBoomerangs(self, points: List[List[int]]) -> int:\n",
    "    ans = 0\n",
    "\n",
    "    for x1, y1 in points:\n",
    "      count = defaultdict(int)\n",
    "      for x2, y2 in points:\n",
    "        ans += 2 * count[(x1 - x2)**2 + (y1 - y2)**2]\n",
    "        count[(x1 - x2)**2 + (y1 - y2)**2] += 1\n",
    "\n",
    "    return ans"
   ]
  },
  {
   "cell_type": "code",
   "execution_count": null,
   "id": "c990905f",
   "metadata": {},
   "outputs": [],
   "source": [
    "new Solution().numberOfBoomerangs()"
   ]
  }
 ],
 "metadata": {},
 "nbformat": 4,
 "nbformat_minor": 5
}

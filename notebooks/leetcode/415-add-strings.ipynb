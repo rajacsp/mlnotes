{
 "cells": [
  {
   "cell_type": "markdown",
   "id": "777c6849",
   "metadata": {},
   "source": [
    "https://leetcode.com/problems/add-strings"
   ]
  },
  {
   "cell_type": "code",
   "execution_count": null,
   "id": "b06f0f3e",
   "metadata": {},
   "outputs": [],
   "source": [
    "import pyutil as pyu\n",
    "pyu.get_local_pyinfo()"
   ]
  },
  {
   "cell_type": "code",
   "execution_count": null,
   "id": "d31d2bcc",
   "metadata": {},
   "outputs": [],
   "source": [
    "print(pyu.ps2(\"python-dotenv\"))"
   ]
  },
  {
   "cell_type": "code",
   "execution_count": null,
   "id": "e8f5f544",
   "metadata": {},
   "outputs": [],
   "source": [
    "from typing import List"
   ]
  },
  {
   "cell_type": "code",
   "execution_count": null,
   "id": "a7c4595e",
   "metadata": {},
   "outputs": [],
   "source": [
    "class Solution:\n",
    "  def addStrings(self, num1: str, num2: str) -> str:\n",
    "    ans = []\n",
    "    carry = 0\n",
    "    i = len(num1) - 1\n",
    "    j = len(num2) - 1\n",
    "\n",
    "    while i >= 0 or j >= 0 or carry:\n",
    "      if i >= 0:\n",
    "        carry += int(num1[i])\n",
    "      if j >= 0:\n",
    "        carry += int(num2[j])\n",
    "      ans.append(str(carry % 10))\n",
    "      carry //= 10\n",
    "      i -= 1\n",
    "      j -= 1\n",
    "\n",
    "    return ''.join(reversed(ans))"
   ]
  },
  {
   "cell_type": "code",
   "execution_count": null,
   "id": "fbbc6ce5",
   "metadata": {},
   "outputs": [],
   "source": [
    "new Solution().addStrings()"
   ]
  }
 ],
 "metadata": {},
 "nbformat": 4,
 "nbformat_minor": 5
}

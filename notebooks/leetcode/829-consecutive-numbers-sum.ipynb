{
 "cells": [
  {
   "cell_type": "markdown",
   "id": "fa300ad5",
   "metadata": {},
   "source": [
    "https://leetcode.com/problems/consecutive-numbers-sum"
   ]
  },
  {
   "cell_type": "code",
   "execution_count": null,
   "id": "76c0e538",
   "metadata": {},
   "outputs": [],
   "source": [
    "import pyutil as pyu\n",
    "pyu.get_local_pyinfo()"
   ]
  },
  {
   "cell_type": "code",
   "execution_count": null,
   "id": "cfcfaa23",
   "metadata": {},
   "outputs": [],
   "source": [
    "print(pyu.ps2(\"python-dotenv\"))"
   ]
  },
  {
   "cell_type": "code",
   "execution_count": null,
   "id": "2ad86430",
   "metadata": {},
   "outputs": [],
   "source": [
    "from typing import List"
   ]
  },
  {
   "cell_type": "code",
   "execution_count": null,
   "id": "b311ebbc",
   "metadata": {},
   "outputs": [],
   "source": [
    "class Solution:\n",
    "  def consecutiveNumbersSum(self, N: int) -> int:\n",
    "    ans = 0\n",
    "    i = 1\n",
    "    triangleNum = 1\n",
    "\n",
    "    while triangleNum <= N:\n",
    "      if (N - triangleNum) % i == 0:\n",
    "        ans += 1\n",
    "      i += 1\n",
    "      triangleNum += i\n",
    "\n",
    "    return ans"
   ]
  },
  {
   "cell_type": "code",
   "execution_count": null,
   "id": "97cd1d67",
   "metadata": {},
   "outputs": [],
   "source": [
    "new Solution().consecutiveNumbersSum()"
   ]
  }
 ],
 "metadata": {},
 "nbformat": 4,
 "nbformat_minor": 5
}

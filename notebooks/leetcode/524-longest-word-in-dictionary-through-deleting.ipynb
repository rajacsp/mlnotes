{
 "cells": [
  {
   "cell_type": "markdown",
   "id": "e05af39d",
   "metadata": {},
   "source": [
    "https://leetcode.com/problems/longest-word-in-dictionary-through-deleting"
   ]
  },
  {
   "cell_type": "code",
   "execution_count": null,
   "id": "6c0ac087",
   "metadata": {},
   "outputs": [],
   "source": [
    "import pyutil as pyu\n",
    "pyu.get_local_pyinfo()"
   ]
  },
  {
   "cell_type": "code",
   "execution_count": null,
   "id": "1c0ae481",
   "metadata": {},
   "outputs": [],
   "source": [
    "print(pyu.ps2(\"python-dotenv\"))"
   ]
  },
  {
   "cell_type": "code",
   "execution_count": null,
   "id": "6890526c",
   "metadata": {},
   "outputs": [],
   "source": [
    "from typing import List"
   ]
  },
  {
   "cell_type": "code",
   "execution_count": null,
   "id": "1e4a4e6b",
   "metadata": {},
   "outputs": [],
   "source": [
    "class Solution:\n",
    "  def findLongestWord(self, s: str, d: List[str]) -> str:\n",
    "    ans = ''\n",
    "\n",
    "    for word in d:\n",
    "      i = 0\n",
    "      for c in s:\n",
    "        if i < len(word) and c == word[i]:\n",
    "          i += 1\n",
    "      if i == len(word):\n",
    "        if len(word) > len(ans) or len(word) == len(ans) and word < ans:\n",
    "          ans = word\n",
    "\n",
    "    return ans"
   ]
  },
  {
   "cell_type": "code",
   "execution_count": null,
   "id": "dff148dd",
   "metadata": {},
   "outputs": [],
   "source": [
    "new Solution().findLongestWord()"
   ]
  }
 ],
 "metadata": {},
 "nbformat": 4,
 "nbformat_minor": 5
}

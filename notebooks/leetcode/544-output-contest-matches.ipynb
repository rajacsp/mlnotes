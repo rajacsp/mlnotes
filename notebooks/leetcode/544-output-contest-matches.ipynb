{
 "cells": [
  {
   "cell_type": "markdown",
   "id": "87626778",
   "metadata": {},
   "source": [
    "https://leetcode.com/problems/output-contest-matches"
   ]
  },
  {
   "cell_type": "code",
   "execution_count": null,
   "id": "e00ebe12",
   "metadata": {},
   "outputs": [],
   "source": [
    "import pyutil as pyu\n",
    "pyu.get_local_pyinfo()"
   ]
  },
  {
   "cell_type": "code",
   "execution_count": null,
   "id": "71340577",
   "metadata": {},
   "outputs": [],
   "source": [
    "print(pyu.ps2(\"python-dotenv\"))"
   ]
  },
  {
   "cell_type": "code",
   "execution_count": null,
   "id": "31ea9d2c",
   "metadata": {},
   "outputs": [],
   "source": [
    "from typing import List"
   ]
  },
  {
   "cell_type": "code",
   "execution_count": null,
   "id": "dd07d3e0",
   "metadata": {},
   "outputs": [],
   "source": [
    "class Solution:\n",
    "  def findContestMatch(self, n: int) -> str:\n",
    "    def generateMatches(matches: List[str]) -> str:\n",
    "      if len(matches) == 1:\n",
    "        return matches[0]\n",
    "\n",
    "      nextMatches = []\n",
    "\n",
    "      for i in range(len(matches) // 2):\n",
    "        nextMatches.append(\n",
    "            '(' + matches[i] + ',' + matches[len(matches) - 1 - i] + ')')\n",
    "\n",
    "      return generateMatches(nextMatches)\n",
    "\n",
    "    return generateMatches([str(i + 1) for i in range(n)])"
   ]
  },
  {
   "cell_type": "code",
   "execution_count": null,
   "id": "c86e46c3",
   "metadata": {},
   "outputs": [],
   "source": [
    "new Solution().findContestMatch()"
   ]
  }
 ],
 "metadata": {},
 "nbformat": 4,
 "nbformat_minor": 5
}

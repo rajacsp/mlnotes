{
 "cells": [
  {
   "cell_type": "markdown",
   "id": "c0c1a213",
   "metadata": {},
   "source": [
    "https://leetcode.com/problems/can-place-flowers"
   ]
  },
  {
   "cell_type": "code",
   "execution_count": null,
   "id": "d6c2dc54",
   "metadata": {},
   "outputs": [],
   "source": [
    "import pyutil as pyu\n",
    "pyu.get_local_pyinfo()"
   ]
  },
  {
   "cell_type": "code",
   "execution_count": null,
   "id": "4ac7cb0d",
   "metadata": {},
   "outputs": [],
   "source": [
    "print(pyu.ps2(\"python-dotenv\"))"
   ]
  },
  {
   "cell_type": "code",
   "execution_count": null,
   "id": "092a4d05",
   "metadata": {},
   "outputs": [],
   "source": [
    "from typing import List"
   ]
  },
  {
   "cell_type": "code",
   "execution_count": null,
   "id": "c173f8c0",
   "metadata": {},
   "outputs": [],
   "source": [
    "class Solution:\n",
    "  def canPlaceFlowers(self, flowerbed: List[int], n: int) -> bool:\n",
    "    for i, flower in enumerate(flowerbed):\n",
    "      if flower == 0 and (i == 0 or flowerbed[i - 1] == 0) and (i == len(flowerbed) - 1 or flowerbed[i + 1] == 0):\n",
    "        flowerbed[i] = 1\n",
    "        n -= 1\n",
    "      if n <= 0:\n",
    "        return True\n",
    "\n",
    "    return False"
   ]
  },
  {
   "cell_type": "code",
   "execution_count": null,
   "id": "a8ecc3c0",
   "metadata": {},
   "outputs": [],
   "source": [
    "new Solution().canPlaceFlowers()"
   ]
  }
 ],
 "metadata": {},
 "nbformat": 4,
 "nbformat_minor": 5
}

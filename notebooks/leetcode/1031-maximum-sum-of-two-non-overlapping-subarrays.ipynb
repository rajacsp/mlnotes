{
 "cells": [
  {
   "cell_type": "markdown",
   "id": "9d7b7f7d",
   "metadata": {},
   "source": [
    "https://leetcode.com/problems/maximum-sum-of-two-non-overlapping-subarrays"
   ]
  },
  {
   "cell_type": "code",
   "execution_count": null,
   "id": "1791b82b",
   "metadata": {},
   "outputs": [],
   "source": [
    "import pyutil as pyu\n",
    "pyu.get_local_pyinfo()"
   ]
  },
  {
   "cell_type": "code",
   "execution_count": null,
   "id": "1c3aa783",
   "metadata": {},
   "outputs": [],
   "source": [
    "print(pyu.ps2(\"python-dotenv\"))"
   ]
  },
  {
   "cell_type": "code",
   "execution_count": null,
   "id": "22c59aa2",
   "metadata": {},
   "outputs": [],
   "source": [
    "from typing import List"
   ]
  },
  {
   "cell_type": "code",
   "execution_count": null,
   "id": "e15c0a51",
   "metadata": {},
   "outputs": [],
   "source": [
    "class Solution:\n",
    "  def maxSumTwoNoOverlap(self, nums: List[int], firstLen: int, secondLen: int) -> int:\n",
    "    def helper(l: int, r: int) -> int:\n",
    "      n = len(nums)\n",
    "      left = [0] * n\n",
    "      summ = 0\n",
    "\n",
    "      for i in range(n):\n",
    "        summ += nums[i]\n",
    "        if i >= l:\n",
    "          summ -= nums[i - l]\n",
    "        if i >= l - 1:\n",
    "          left[i] = max(left[i - 1], summ) if i > 0 else summ\n",
    "\n",
    "      right = [0] * n\n",
    "      summ = 0\n",
    "\n",
    "      for i in reversed(range(n)):\n",
    "        summ += nums[i]\n",
    "        if i <= n - r - 1:\n",
    "          summ -= nums[i + r]\n",
    "        if i <= n - r:\n",
    "          right[i] = max(right[i + 1], summ) if i < n - 1 else summ\n",
    "\n",
    "      return max(left[i] + right[i + 1] for i in range(n - 1))\n",
    "\n",
    "    return max(helper(firstLen, secondLen), helper(secondLen, firstLen))"
   ]
  },
  {
   "cell_type": "code",
   "execution_count": null,
   "id": "19de4aed",
   "metadata": {},
   "outputs": [],
   "source": [
    "new Solution().maxSumTwoNoOverlap()"
   ]
  }
 ],
 "metadata": {},
 "nbformat": 4,
 "nbformat_minor": 5
}

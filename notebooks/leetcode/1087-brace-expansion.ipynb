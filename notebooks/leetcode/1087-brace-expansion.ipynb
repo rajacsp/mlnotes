{
 "cells": [
  {
   "cell_type": "markdown",
   "id": "966093c1",
   "metadata": {},
   "source": [
    "https://leetcode.com/problems/brace-expansion"
   ]
  },
  {
   "cell_type": "code",
   "execution_count": null,
   "id": "5fb48a9a",
   "metadata": {},
   "outputs": [],
   "source": [
    "import pyutil as pyu\n",
    "pyu.get_local_pyinfo()"
   ]
  },
  {
   "cell_type": "code",
   "execution_count": null,
   "id": "36ceafaa",
   "metadata": {},
   "outputs": [],
   "source": [
    "print(pyu.ps2(\"python-dotenv\"))"
   ]
  },
  {
   "cell_type": "code",
   "execution_count": null,
   "id": "86855fc9",
   "metadata": {},
   "outputs": [],
   "source": [
    "from typing import List"
   ]
  },
  {
   "cell_type": "code",
   "execution_count": null,
   "id": "166b62c4",
   "metadata": {},
   "outputs": [],
   "source": [
    "class Solution:\n",
    "  def expand(self, s: str) -> List[str]:\n",
    "    ans = []\n",
    "\n",
    "    def dfs(i: int, path: List[str]) -> None:\n",
    "      if i == len(s):\n",
    "        ans.append(''.join(path))\n",
    "        return\n",
    "      if s[i] == '{':\n",
    "        nextRightBraceIndex = s.find('}', i)\n",
    "        for c in s[i + 1:nextRightBraceIndex].split(','):\n",
    "          path.append(c)\n",
    "          dfs(nextRightBraceIndex + 1, path)\n",
    "          path.pop()\n",
    "      else:  # s[i] != '{'\n",
    "        path.append(s[i])\n",
    "        dfs(i + 1, path)\n",
    "        path.pop()\n",
    "\n",
    "    dfs(0, [])\n",
    "    return sorted(ans)"
   ]
  },
  {
   "cell_type": "code",
   "execution_count": null,
   "id": "bb1744d8",
   "metadata": {},
   "outputs": [],
   "source": [
    "new Solution().expand()"
   ]
  }
 ],
 "metadata": {},
 "nbformat": 4,
 "nbformat_minor": 5
}

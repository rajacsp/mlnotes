{
 "cells": [
  {
   "cell_type": "markdown",
   "id": "6dd33746",
   "metadata": {},
   "source": [
    "https://leetcode.com/problems/word-break"
   ]
  },
  {
   "cell_type": "code",
   "execution_count": null,
   "id": "862080d4",
   "metadata": {},
   "outputs": [],
   "source": [
    "import pyutil as pyu\n",
    "pyu.get_local_pyinfo()"
   ]
  },
  {
   "cell_type": "code",
   "execution_count": null,
   "id": "6b692d65",
   "metadata": {},
   "outputs": [],
   "source": [
    "print(pyu.ps2(\"python-dotenv\"))"
   ]
  },
  {
   "cell_type": "code",
   "execution_count": null,
   "id": "29039a3b",
   "metadata": {},
   "outputs": [],
   "source": [
    "from typing import List"
   ]
  },
  {
   "cell_type": "code",
   "execution_count": null,
   "id": "8fc204f4",
   "metadata": {},
   "outputs": [],
   "source": [
    "class Solution:\n",
    "  def wordBreak(self, s: str, wordDict: List[str]) -> bool:\n",
    "    wordSet = set(wordDict)\n",
    "\n",
    "    @functools.lru_cache(None)\n",
    "    def wordBreak(s: str) -> bool:\n",
    "      if s in wordSet:\n",
    "        return True\n",
    "      return any(s[:i] in wordSet and wordBreak(s[i:]) for i in range(len(s)))\n",
    "\n",
    "    return wordBreak(s)"
   ]
  },
  {
   "cell_type": "code",
   "execution_count": null,
   "id": "f480167a",
   "metadata": {},
   "outputs": [],
   "source": [
    "new Solution().wordBreak()"
   ]
  }
 ],
 "metadata": {},
 "nbformat": 4,
 "nbformat_minor": 5
}

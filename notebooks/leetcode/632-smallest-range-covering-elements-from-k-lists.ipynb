{
 "cells": [
  {
   "cell_type": "markdown",
   "id": "0d3f9077",
   "metadata": {},
   "source": [
    "https://leetcode.com/problems/smallest-range-covering-elements-from-k-lists"
   ]
  },
  {
   "cell_type": "code",
   "execution_count": null,
   "id": "551b82d0",
   "metadata": {},
   "outputs": [],
   "source": [
    "import pyutil as pyu\n",
    "pyu.get_local_pyinfo()"
   ]
  },
  {
   "cell_type": "code",
   "execution_count": null,
   "id": "82fb7e1f",
   "metadata": {},
   "outputs": [],
   "source": [
    "print(pyu.ps2(\"python-dotenv\"))"
   ]
  },
  {
   "cell_type": "code",
   "execution_count": null,
   "id": "a5b08442",
   "metadata": {},
   "outputs": [],
   "source": [
    "from typing import List"
   ]
  },
  {
   "cell_type": "code",
   "execution_count": null,
   "id": "4f9e1cdc",
   "metadata": {},
   "outputs": [],
   "source": [
    "class Solution:\n",
    "  def smallestRange(self, nums: List[List[int]]) -> List[int]:\n",
    "    minHeap = [(row[0], i, 0) for i, row in enumerate(nums)]\n",
    "    heapq.heapify(minHeap)\n",
    "\n",
    "    maxRange = max(row[0] for row in nums)\n",
    "    minRange = heapq.nsmallest(1, minHeap)[0][0]\n",
    "    ans = [minRange, maxRange]\n",
    "\n",
    "    while len(minHeap) == len(nums):\n",
    "      num, r, c = heapq.heappop(minHeap)\n",
    "      if c + 1 < len(nums[r]):\n",
    "        heapq.heappush(minHeap, (nums[r][c + 1], r, c + 1))\n",
    "        maxRange = max(maxRange, nums[r][c + 1])\n",
    "        minRange = heapq.nsmallest(1, minHeap)[0][0]\n",
    "        if maxRange - minRange < ans[1] - ans[0]:\n",
    "          ans[0], ans[1] = minRange, maxRange\n",
    "\n",
    "    return ans"
   ]
  },
  {
   "cell_type": "code",
   "execution_count": null,
   "id": "93ab8a3f",
   "metadata": {},
   "outputs": [],
   "source": [
    "new Solution().smallestRange()"
   ]
  }
 ],
 "metadata": {},
 "nbformat": 4,
 "nbformat_minor": 5
}

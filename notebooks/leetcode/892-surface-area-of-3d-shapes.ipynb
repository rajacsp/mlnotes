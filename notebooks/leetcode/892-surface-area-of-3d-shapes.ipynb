{
 "cells": [
  {
   "cell_type": "markdown",
   "id": "a0a12ad9",
   "metadata": {},
   "source": [
    "https://leetcode.com/problems/surface-area-of-3d-shapes"
   ]
  },
  {
   "cell_type": "code",
   "execution_count": null,
   "id": "d46e0bd9",
   "metadata": {},
   "outputs": [],
   "source": [
    "import pyutil as pyu\n",
    "pyu.get_local_pyinfo()"
   ]
  },
  {
   "cell_type": "code",
   "execution_count": null,
   "id": "7061c4e0",
   "metadata": {},
   "outputs": [],
   "source": [
    "print(pyu.ps2(\"python-dotenv\"))"
   ]
  },
  {
   "cell_type": "code",
   "execution_count": null,
   "id": "6861b83e",
   "metadata": {},
   "outputs": [],
   "source": [
    "from typing import List"
   ]
  },
  {
   "cell_type": "code",
   "execution_count": null,
   "id": "f536e22d",
   "metadata": {},
   "outputs": [],
   "source": [
    "class Solution:\n",
    "  def surfaceArea(self, grid: List[List[int]]) -> int:\n",
    "    ans = 0\n",
    "\n",
    "    for i in range(len(grid)):\n",
    "      for j in range(len(grid)):\n",
    "        if grid[i][j]:\n",
    "          ans += grid[i][j] * 4 + 2\n",
    "        if i > 0:\n",
    "          ans -= min(grid[i][j], grid[i - 1][j]) * 2\n",
    "        if j > 0:\n",
    "          ans -= min(grid[i][j], grid[i][j - 1]) * 2\n",
    "\n",
    "    return ans"
   ]
  },
  {
   "cell_type": "code",
   "execution_count": null,
   "id": "428d87b7",
   "metadata": {},
   "outputs": [],
   "source": [
    "new Solution().surfaceArea()"
   ]
  }
 ],
 "metadata": {},
 "nbformat": 4,
 "nbformat_minor": 5
}

{
 "cells": [
  {
   "cell_type": "markdown",
   "id": "3210c42c",
   "metadata": {},
   "source": [
    "https://leetcode.com/problems/escape-a-large-maze"
   ]
  },
  {
   "cell_type": "code",
   "execution_count": null,
   "id": "b4609e68",
   "metadata": {},
   "outputs": [],
   "source": [
    "import pyutil as pyu\n",
    "pyu.get_local_pyinfo()"
   ]
  },
  {
   "cell_type": "code",
   "execution_count": null,
   "id": "02d8e84e",
   "metadata": {},
   "outputs": [],
   "source": [
    "print(pyu.ps2(\"python-dotenv\"))"
   ]
  },
  {
   "cell_type": "code",
   "execution_count": null,
   "id": "44424f85",
   "metadata": {},
   "outputs": [],
   "source": [
    "from typing import List"
   ]
  },
  {
   "cell_type": "code",
   "execution_count": null,
   "id": "b25bf9cd",
   "metadata": {},
   "outputs": [],
   "source": [
    "class Solution:\n",
    "  def isEscapePossible(self, blocked: List[List[int]], source: List[int], target: List[int]) -> bool:\n",
    "    def dfs(i: int, j: int, target: List[int], visited: set) -> bool:\n",
    "      if not 0 <= i < 10**6 or not 0 <= j < 10**6 or (i, j) in blocked or (i, j) in visited:\n",
    "        return False\n",
    "\n",
    "      visited.add((i, j))\n",
    "      if len(visited) > (1 + 199) * 199 // 2 or [i, j] == target:\n",
    "        return True\n",
    "      return dfs(i + 1, j, target, visited) or \\\n",
    "          dfs(i - 1, j, target, visited) or \\\n",
    "          dfs(i, j + 1, target, visited) or \\\n",
    "          dfs(i, j - 1, target, visited)\n",
    "\n",
    "    blocked = set(tuple(b) for b in blocked)\n",
    "    return dfs(source[0], source[1], target, set()) and dfs(target[0], target[1], source, set())"
   ]
  },
  {
   "cell_type": "code",
   "execution_count": null,
   "id": "23915b6e",
   "metadata": {},
   "outputs": [],
   "source": [
    "new Solution().isEscapePossible()"
   ]
  }
 ],
 "metadata": {},
 "nbformat": 4,
 "nbformat_minor": 5
}

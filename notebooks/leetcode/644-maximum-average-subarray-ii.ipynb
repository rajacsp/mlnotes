{
 "cells": [
  {
   "cell_type": "markdown",
   "id": "0f4bd15e",
   "metadata": {},
   "source": [
    "https://leetcode.com/problems/maximum-average-subarray-ii"
   ]
  },
  {
   "cell_type": "code",
   "execution_count": null,
   "id": "5efef248",
   "metadata": {},
   "outputs": [],
   "source": [
    "import pyutil as pyu\n",
    "pyu.get_local_pyinfo()"
   ]
  },
  {
   "cell_type": "code",
   "execution_count": null,
   "id": "6f4123c7",
   "metadata": {},
   "outputs": [],
   "source": [
    "print(pyu.ps2(\"python-dotenv\"))"
   ]
  },
  {
   "cell_type": "code",
   "execution_count": null,
   "id": "5204863c",
   "metadata": {},
   "outputs": [],
   "source": [
    "from typing import List"
   ]
  },
  {
   "cell_type": "code",
   "execution_count": null,
   "id": "0707f003",
   "metadata": {},
   "outputs": [],
   "source": [
    "class Solution:\n",
    "  def findMaxAverage(self, nums: List[int], k: int) -> float:\n",
    "    kErr = 1e-5\n",
    "    l = min(nums)\n",
    "    r = max(nums)\n",
    "\n",
    "    # True if there's a subarray with length >= k and average sum >= m\n",
    "    def check(m: float) -> bool:\n",
    "      summ = 0\n",
    "      prevSum = 0\n",
    "      minPrevSum = 0\n",
    "\n",
    "      for i, num in enumerate(nums):\n",
    "        # Trick: -m for each num so that we can check if the sum of the\n",
    "        # Subarray >= 0\n",
    "        summ += num - m\n",
    "        if i >= k:\n",
    "          prevSum += nums[i - k] - m\n",
    "          minPrevSum = min(minPrevSum, prevSum)\n",
    "        # If sum - minPrevSum >= 0,\n",
    "        # We know there's a subarray with length >= k and average sum >= m\n",
    "        if i + 1 >= k and summ >= minPrevSum:\n",
    "          return True\n",
    "\n",
    "      return False\n",
    "\n",
    "    while r - l > kErr:\n",
    "      m = (l + r) / 2\n",
    "      if check(m):\n",
    "        l = m\n",
    "      else:\n",
    "        r = m\n",
    "\n",
    "    return l"
   ]
  },
  {
   "cell_type": "code",
   "execution_count": null,
   "id": "60464ed0",
   "metadata": {},
   "outputs": [],
   "source": [
    "new Solution().findMaxAverage()"
   ]
  }
 ],
 "metadata": {},
 "nbformat": 4,
 "nbformat_minor": 5
}

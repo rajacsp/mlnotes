{
 "cells": [
  {
   "cell_type": "markdown",
   "id": "bd3feec9",
   "metadata": {},
   "source": [
    "https://leetcode.com/problems/grid-illumination"
   ]
  },
  {
   "cell_type": "code",
   "execution_count": null,
   "id": "e970e118",
   "metadata": {},
   "outputs": [],
   "source": [
    "import pyutil as pyu\n",
    "pyu.get_local_pyinfo()"
   ]
  },
  {
   "cell_type": "code",
   "execution_count": null,
   "id": "0b580e5c",
   "metadata": {},
   "outputs": [],
   "source": [
    "print(pyu.ps2(\"python-dotenv\"))"
   ]
  },
  {
   "cell_type": "code",
   "execution_count": null,
   "id": "b8e0902c",
   "metadata": {},
   "outputs": [],
   "source": [
    "from typing import List"
   ]
  },
  {
   "cell_type": "code",
   "execution_count": null,
   "id": "054fe572",
   "metadata": {},
   "outputs": [],
   "source": [
    "class Solution:\n",
    "  def gridIllumination(self, N: int, lamps: List[List[int]], queries: List[List[int]]) -> List[int]:\n",
    "    ans = []\n",
    "    rows = Counter()\n",
    "    cols = Counter()\n",
    "    diag1 = Counter()\n",
    "    diag2 = Counter()\n",
    "    lampsSet = set()\n",
    "\n",
    "    for i, j in lamps:\n",
    "      if (i, j) not in lampsSet:\n",
    "        lampsSet.add((i, j))\n",
    "        rows[i] += 1\n",
    "        cols[j] += 1\n",
    "        diag1[i + j] += 1\n",
    "        diag2[i - j] += 1\n",
    "\n",
    "    for i, j in queries:\n",
    "      if rows[i] or cols[j] or diag1[i + j] or diag2[i - j]:\n",
    "        ans.append(1)\n",
    "        for y in range(max(0, i - 1), min(N, i + 2)):\n",
    "          for x in range(max(0, j - 1), min(N, j + 2)):\n",
    "            if (y, x) in lampsSet:\n",
    "              lampsSet.remove((y, x))\n",
    "              rows[y] -= 1\n",
    "              cols[x] -= 1\n",
    "              diag1[y + x] -= 1\n",
    "              diag2[y - x] -= 1\n",
    "      else:\n",
    "        ans.append(0)\n",
    "\n",
    "    return ans"
   ]
  },
  {
   "cell_type": "code",
   "execution_count": null,
   "id": "ce60b980",
   "metadata": {},
   "outputs": [],
   "source": [
    "new Solution().gridIllumination()"
   ]
  }
 ],
 "metadata": {},
 "nbformat": 4,
 "nbformat_minor": 5
}

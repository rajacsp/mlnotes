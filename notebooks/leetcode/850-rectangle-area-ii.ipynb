{
 "cells": [
  {
   "cell_type": "markdown",
   "id": "121ef9a8",
   "metadata": {},
   "source": [
    "https://leetcode.com/problems/rectangle-area-ii"
   ]
  },
  {
   "cell_type": "code",
   "execution_count": null,
   "id": "0b0c2307",
   "metadata": {},
   "outputs": [],
   "source": [
    "import pyutil as pyu\n",
    "pyu.get_local_pyinfo()"
   ]
  },
  {
   "cell_type": "code",
   "execution_count": null,
   "id": "e7e77344",
   "metadata": {},
   "outputs": [],
   "source": [
    "print(pyu.ps2(\"python-dotenv\"))"
   ]
  },
  {
   "cell_type": "code",
   "execution_count": null,
   "id": "d3b5de15",
   "metadata": {},
   "outputs": [],
   "source": [
    "from typing import List"
   ]
  },
  {
   "cell_type": "code",
   "execution_count": null,
   "id": "899e05be",
   "metadata": {},
   "outputs": [],
   "source": [
    "class Solution:\n",
    "  def rectangleArea(self, rectangles: List[List[int]]) -> int:\n",
    "    events = []\n",
    "\n",
    "    for x1, y1, x2, y2 in rectangles:\n",
    "      events.append((x1, y1, y2, 's'))\n",
    "      events.append((x2, y1, y2, 'e'))\n",
    "\n",
    "    events.sort(key=lambda x: x[0])\n",
    "\n",
    "    ans = 0\n",
    "    prevX = 0\n",
    "    yPairs = []\n",
    "\n",
    "    def getHeight(yPairs: List[Tuple[int, int]]) -> int:\n",
    "      height = 0\n",
    "      prevY = 0\n",
    "\n",
    "      for y1, y2 in yPairs:\n",
    "        prevY = max(prevY, y1)\n",
    "        if y2 > prevY:\n",
    "          height += y2 - prevY\n",
    "          prevY = y2\n",
    "\n",
    "      return height\n",
    "\n",
    "    for currX, y1, y2, type in events:\n",
    "      if currX > prevX:\n",
    "        width = currX - prevX\n",
    "        ans += width * getHeight(yPairs)\n",
    "        prevX = currX\n",
    "      if type == 's':\n",
    "        yPairs.append((y1, y2))\n",
    "        yPairs.sort()\n",
    "      else:  # Type == 'e'\n",
    "        yPairs.remove((y1, y2))\n",
    "\n",
    "    return ans % (10**9 + 7)"
   ]
  },
  {
   "cell_type": "code",
   "execution_count": null,
   "id": "76dc5a54",
   "metadata": {},
   "outputs": [],
   "source": [
    "new Solution().rectangleArea()"
   ]
  }
 ],
 "metadata": {},
 "nbformat": 4,
 "nbformat_minor": 5
}

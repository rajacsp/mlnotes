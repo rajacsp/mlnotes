{
 "cells": [
  {
   "cell_type": "markdown",
   "id": "05a4f0eb",
   "metadata": {},
   "source": [
    "https://leetcode.com/problems/symmetric-tree"
   ]
  },
  {
   "cell_type": "code",
   "execution_count": null,
   "id": "c194108f",
   "metadata": {},
   "outputs": [],
   "source": [
    "import pyutil as pyu\n",
    "pyu.get_local_pyinfo()"
   ]
  },
  {
   "cell_type": "code",
   "execution_count": null,
   "id": "a4cdbcba",
   "metadata": {},
   "outputs": [],
   "source": [
    "print(pyu.ps2(\"python-dotenv\"))"
   ]
  },
  {
   "cell_type": "code",
   "execution_count": null,
   "id": "5d87e428",
   "metadata": {},
   "outputs": [],
   "source": [
    "from typing import List"
   ]
  },
  {
   "cell_type": "code",
   "execution_count": null,
   "id": "0d600895",
   "metadata": {},
   "outputs": [],
   "source": [
    "class Solution:\n",
    "  def isSymmetric(self, root: Optional[TreeNode]) -> bool:\n",
    "    def isSymmetric(p: Optional[TreeNode], q: Optional[TreeNode]) -> bool:\n",
    "      if not p or not q:\n",
    "        return p == q\n",
    "\n",
    "      return p.val == q.val and \\\n",
    "          isSymmetric(p.left, q.right) and \\\n",
    "          isSymmetric(p.right, q.left)\n",
    "\n",
    "    return isSymmetric(root, root)"
   ]
  },
  {
   "cell_type": "code",
   "execution_count": null,
   "id": "9aba8d2c",
   "metadata": {},
   "outputs": [],
   "source": [
    "new Solution().isSymmetric()"
   ]
  }
 ],
 "metadata": {},
 "nbformat": 4,
 "nbformat_minor": 5
}

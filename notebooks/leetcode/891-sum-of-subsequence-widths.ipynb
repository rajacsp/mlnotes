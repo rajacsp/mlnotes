{
 "cells": [
  {
   "cell_type": "markdown",
   "id": "396bbcf9",
   "metadata": {},
   "source": [
    "https://leetcode.com/problems/sum-of-subsequence-widths"
   ]
  },
  {
   "cell_type": "code",
   "execution_count": null,
   "id": "12e27bc1",
   "metadata": {},
   "outputs": [],
   "source": [
    "import pyutil as pyu\n",
    "pyu.get_local_pyinfo()"
   ]
  },
  {
   "cell_type": "code",
   "execution_count": null,
   "id": "bb7de6e3",
   "metadata": {},
   "outputs": [],
   "source": [
    "print(pyu.ps2(\"python-dotenv\"))"
   ]
  },
  {
   "cell_type": "code",
   "execution_count": null,
   "id": "131007f6",
   "metadata": {},
   "outputs": [],
   "source": [
    "from typing import List"
   ]
  },
  {
   "cell_type": "code",
   "execution_count": null,
   "id": "e4b687d8",
   "metadata": {},
   "outputs": [],
   "source": [
    "class Solution:\n",
    "  def sumSubseqWidths(self, nums: List[int]) -> int:\n",
    "    kMod = 1_000_000_007\n",
    "    n = len(nums)\n",
    "    ans = 0\n",
    "    exp = 1\n",
    "\n",
    "    nums.sort()\n",
    "\n",
    "    for i in range(n):\n",
    "      ans += (nums[i] - nums[n - i - 1]) * exp\n",
    "      ans %= kMod\n",
    "      exp = exp * 2 % kMod\n",
    "\n",
    "    return ans"
   ]
  },
  {
   "cell_type": "code",
   "execution_count": null,
   "id": "3f3da3a0",
   "metadata": {},
   "outputs": [],
   "source": [
    "new Solution().sumSubseqWidths()"
   ]
  }
 ],
 "metadata": {},
 "nbformat": 4,
 "nbformat_minor": 5
}

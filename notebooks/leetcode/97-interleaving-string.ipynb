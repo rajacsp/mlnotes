{
 "cells": [
  {
   "cell_type": "markdown",
   "id": "1b9047f0",
   "metadata": {},
   "source": [
    "https://leetcode.com/problems/interleaving-string"
   ]
  },
  {
   "cell_type": "code",
   "execution_count": null,
   "id": "140bc646",
   "metadata": {},
   "outputs": [],
   "source": [
    "import pyutil as pyu\n",
    "pyu.get_local_pyinfo()"
   ]
  },
  {
   "cell_type": "code",
   "execution_count": null,
   "id": "7b8b44a4",
   "metadata": {},
   "outputs": [],
   "source": [
    "print(pyu.ps2(\"python-dotenv\"))"
   ]
  },
  {
   "cell_type": "code",
   "execution_count": null,
   "id": "fe730213",
   "metadata": {},
   "outputs": [],
   "source": [
    "from typing import List"
   ]
  },
  {
   "cell_type": "code",
   "execution_count": null,
   "id": "e870135b",
   "metadata": {},
   "outputs": [],
   "source": [
    "class Solution:\n",
    "  def isInterleave(self, s1: str, s2: str, s3: str) -> bool:\n",
    "    m = len(s1)\n",
    "    n = len(s2)\n",
    "    if m + n != len(s3):\n",
    "      return False\n",
    "\n",
    "    # dp[i][j] := true if s3[0..i + j) is formed by the interleaving of\n",
    "    #             s1[0..i) and s2[0..j)\n",
    "    dp = [[False] * (n + 1) for _ in range(m + 1)]\n",
    "    dp[0][0] = True\n",
    "\n",
    "    for i in range(1, m + 1):\n",
    "      dp[i][0] = dp[i - 1][0] and s1[i - 1] == s3[i - 1]\n",
    "\n",
    "    for j in range(1, n + 1):\n",
    "      dp[0][j] = dp[0][j - 1] and s2[j - 1] == s3[j - 1]\n",
    "\n",
    "    for i in range(1, m + 1):\n",
    "      for j in range(1, n + 1):\n",
    "        dp[i][j] = (dp[i - 1][j] and s1[i - 1] == s3[i + j - 1]) or \\\n",
    "            (dp[i][j - 1] and s2[j - 1] == s3[i + j - 1])\n",
    "\n",
    "    return dp[m][n]"
   ]
  },
  {
   "cell_type": "code",
   "execution_count": null,
   "id": "88409e6e",
   "metadata": {},
   "outputs": [],
   "source": [
    "new Solution().isInterleave()"
   ]
  }
 ],
 "metadata": {},
 "nbformat": 4,
 "nbformat_minor": 5
}

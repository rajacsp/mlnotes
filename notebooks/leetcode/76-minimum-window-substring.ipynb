{
 "cells": [
  {
   "cell_type": "markdown",
   "id": "66ee6e1b",
   "metadata": {},
   "source": [
    "https://leetcode.com/problems/minimum-window-substring"
   ]
  },
  {
   "cell_type": "code",
   "execution_count": null,
   "id": "421e9fe0",
   "metadata": {},
   "outputs": [],
   "source": [
    "import pyutil as pyu\n",
    "pyu.get_local_pyinfo()"
   ]
  },
  {
   "cell_type": "code",
   "execution_count": null,
   "id": "a9dcd68f",
   "metadata": {},
   "outputs": [],
   "source": [
    "print(pyu.ps2(\"python-dotenv\"))"
   ]
  },
  {
   "cell_type": "code",
   "execution_count": null,
   "id": "7c82d555",
   "metadata": {},
   "outputs": [],
   "source": [
    "from typing import List"
   ]
  },
  {
   "cell_type": "code",
   "execution_count": null,
   "id": "5cb721e0",
   "metadata": {},
   "outputs": [],
   "source": [
    "class Solution:\n",
    "  def minWindow(self, s: str, t: str) -> str:\n",
    "    count = Counter(t)\n",
    "    required = len(t)\n",
    "    bestLeft = -1\n",
    "    minLength = len(s) + 1\n",
    "\n",
    "    l = 0\n",
    "    for r, c in enumerate(s):\n",
    "      count[c] -= 1\n",
    "      if count[c] >= 0:\n",
    "        required -= 1\n",
    "      while required == 0:\n",
    "        if r - l + 1 < minLength:\n",
    "          bestLeft = l\n",
    "          minLength = r - l + 1\n",
    "        count[s[l]] += 1\n",
    "        if count[s[l]] > 0:\n",
    "          required += 1\n",
    "        l += 1\n",
    "\n",
    "    return '' if bestLeft == -1 else s[bestLeft: bestLeft + minLength]"
   ]
  },
  {
   "cell_type": "code",
   "execution_count": null,
   "id": "33d63ae3",
   "metadata": {},
   "outputs": [],
   "source": [
    "new Solution().minWindow()"
   ]
  }
 ],
 "metadata": {},
 "nbformat": 4,
 "nbformat_minor": 5
}

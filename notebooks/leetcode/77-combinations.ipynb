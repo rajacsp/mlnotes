{
 "cells": [
  {
   "cell_type": "markdown",
   "id": "d42eb7d6",
   "metadata": {},
   "source": [
    "https://leetcode.com/problems/combinations"
   ]
  },
  {
   "cell_type": "code",
   "execution_count": null,
   "id": "d688ade7",
   "metadata": {},
   "outputs": [],
   "source": [
    "import pyutil as pyu\n",
    "pyu.get_local_pyinfo()"
   ]
  },
  {
   "cell_type": "code",
   "execution_count": null,
   "id": "34c1efd3",
   "metadata": {},
   "outputs": [],
   "source": [
    "print(pyu.ps2(\"python-dotenv\"))"
   ]
  },
  {
   "cell_type": "code",
   "execution_count": null,
   "id": "2481cbea",
   "metadata": {},
   "outputs": [],
   "source": [
    "from typing import List"
   ]
  },
  {
   "cell_type": "code",
   "execution_count": null,
   "id": "c10eea37",
   "metadata": {},
   "outputs": [],
   "source": [
    "class Solution:\n",
    "  def combine(self, n: int, k: int) -> List[List[int]]:\n",
    "    ans = []\n",
    "\n",
    "    def dfs(s: int, path: List[int]) -> None:\n",
    "      if len(path) == k:\n",
    "        ans.append(path.copy())\n",
    "        return\n",
    "\n",
    "      for i in range(s, n + 1):\n",
    "        path.append(i)\n",
    "        dfs(i + 1, path)\n",
    "        path.pop()\n",
    "\n",
    "    dfs(1, [])\n",
    "    return ans"
   ]
  },
  {
   "cell_type": "code",
   "execution_count": null,
   "id": "e8362d74",
   "metadata": {},
   "outputs": [],
   "source": [
    "new Solution().combine()"
   ]
  }
 ],
 "metadata": {},
 "nbformat": 4,
 "nbformat_minor": 5
}

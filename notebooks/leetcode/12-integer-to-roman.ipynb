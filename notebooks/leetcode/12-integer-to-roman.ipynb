{
 "cells": [
  {
   "cell_type": "markdown",
   "id": "7ffb89f7",
   "metadata": {},
   "source": [
    "https://leetcode.com/problems/integer-to-roman"
   ]
  },
  {
   "cell_type": "code",
   "execution_count": null,
   "id": "0da01b9f",
   "metadata": {},
   "outputs": [],
   "source": [
    "import pyutil as pyu\n",
    "pyu.get_local_pyinfo()"
   ]
  },
  {
   "cell_type": "code",
   "execution_count": null,
   "id": "758b9934",
   "metadata": {},
   "outputs": [],
   "source": [
    "print(pyu.ps2(\"python-dotenv\"))"
   ]
  },
  {
   "cell_type": "code",
   "execution_count": null,
   "id": "aecfe201",
   "metadata": {},
   "outputs": [],
   "source": [
    "from typing import List"
   ]
  },
  {
   "cell_type": "code",
   "execution_count": null,
   "id": "b9b09a25",
   "metadata": {},
   "outputs": [],
   "source": [
    "class Solution:\n",
    "  def intToRoman(self, num: int) -> str:\n",
    "    valueSymbols = [(1000, 'M'), (900, 'CM'),\n",
    "                    (500, 'D'), (400, 'CD'),\n",
    "                    (100, 'C'), (90, 'XC'),\n",
    "                    (50, 'L'), (40, 'XL'),\n",
    "                    (10, 'X'), (9, 'IX'),\n",
    "                    (5, 'V'), (4, 'IV'),\n",
    "                    (1, 'I')]\n",
    "    ans = []\n",
    "\n",
    "    for value, symbol in valueSymbols:\n",
    "      if num == 0:\n",
    "        break\n",
    "      count, num = divmod(num, value)\n",
    "      ans.append(symbol * count)\n",
    "\n",
    "    return ''.join(ans)"
   ]
  },
  {
   "cell_type": "code",
   "execution_count": null,
   "id": "d8fcb7c9",
   "metadata": {},
   "outputs": [],
   "source": [
    "new Solution().intToRoman()"
   ]
  }
 ],
 "metadata": {},
 "nbformat": 4,
 "nbformat_minor": 5
}

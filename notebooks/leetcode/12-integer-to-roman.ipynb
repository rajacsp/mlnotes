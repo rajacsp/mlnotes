{
 "cells": [
  {
   "cell_type": "code",
   "execution_count": null,
   "id": "db25c914-1252-4bae-8dbe-3a20e361bd73",
   "metadata": {},
   "outputs": [],
   "source": [
    "# https://leetcode.com/problems/integer-to-roman/description/"
   ]
  },
  {
   "cell_type": "code",
   "execution_count": 1,
   "id": "0c10588e-e9e7-4b8c-b92b-91104a273df0",
   "metadata": {},
   "outputs": [
    {
     "data": {
      "text/plain": [
       "'conda env: ml311; pyv: 3.11.10 (main, Oct  3 2024, 07:29:13) [GCC 11.2.0]'"
      ]
     },
     "execution_count": 1,
     "metadata": {},
     "output_type": "execute_result"
    }
   ],
   "source": [
    "import pyutil as pyu\n",
    "pyu.get_local_pyinfo()"
   ]
  },
  {
   "cell_type": "code",
   "execution_count": 2,
   "id": "c2ccb592-b983-4856-a241-5898cab06699",
   "metadata": {},
   "outputs": [],
   "source": [
    "# print(pyu.ps2(\"scipy\"))"
   ]
  },
  {
   "cell_type": "code",
   "execution_count": 3,
   "id": "e290a4be-0793-4902-b10b-44429cb937f9",
   "metadata": {},
   "outputs": [],
   "source": [
    "# from typing import List "
   ]
  },
  {
   "cell_type": "code",
   "execution_count": 4,
   "id": "2254118f-d279-4865-9ef8-74018c0d0bff",
   "metadata": {},
   "outputs": [],
   "source": [
    "class Solution:\n",
    "  def intToRoman(self, num: int) -> str:\n",
    "    valueSymbols = [(1000, 'M'), (900, 'CM'),\n",
    "                    (500, 'D'), (400, 'CD'),\n",
    "                    (100, 'C'), (90, 'XC'),\n",
    "                    (50, 'L'), (40, 'XL'),\n",
    "                    (10, 'X'), (9, 'IX'),\n",
    "                    (5, 'V'), (4, 'IV'),\n",
    "                    (1, 'I')]\n",
    "    ans = []\n",
    "\n",
    "    for value, symbol in valueSymbols:\n",
    "      if num == 0:\n",
    "        break\n",
    "      count, num = divmod(num, value)\n",
    "      ans.append(symbol * count)\n",
    "\n",
    "    return ''.join(ans)\n"
   ]
  },
  {
   "cell_type": "code",
   "execution_count": 6,
   "id": "b7c8b16b-1f70-4df3-90d5-a107bd15d641",
   "metadata": {},
   "outputs": [
    {
     "data": {
      "text/plain": [
       "'MMMDCCXLIX'"
      ]
     },
     "execution_count": 6,
     "metadata": {},
     "output_type": "execute_result"
    }
   ],
   "source": [
    "Solution().intToRoman(3749)"
   ]
  },
  {
   "cell_type": "code",
   "execution_count": 7,
   "id": "9f6099cf-d098-4be0-b1f2-f6893110f8d3",
   "metadata": {},
   "outputs": [
    {
     "data": {
      "text/plain": [
       "'X'"
      ]
     },
     "execution_count": 7,
     "metadata": {},
     "output_type": "execute_result"
    }
   ],
   "source": [
    "Solution().intToRoman(10)"
   ]
  },
  {
   "cell_type": "code",
   "execution_count": 8,
   "id": "e2a624eb-240a-4bd7-a6c5-51968ad742a9",
   "metadata": {},
   "outputs": [
    {
     "data": {
      "text/plain": [
       "'MMXXIV'"
      ]
     },
     "execution_count": 8,
     "metadata": {},
     "output_type": "execute_result"
    }
   ],
   "source": [
    "Solution().intToRoman(2024)"
   ]
  },
  {
   "cell_type": "code",
   "execution_count": 9,
   "id": "17ee6923-30bb-454d-b224-86c666a516d9",
   "metadata": {},
   "outputs": [
    {
     "data": {
      "text/plain": [
       "'MMXXV'"
      ]
     },
     "execution_count": 9,
     "metadata": {},
     "output_type": "execute_result"
    }
   ],
   "source": [
    "Solution().intToRoman(2025)"
   ]
  },
  {
   "cell_type": "code",
   "execution_count": null,
   "id": "b78df3b1-4144-43a2-9cc6-2635833cdb0d",
   "metadata": {},
   "outputs": [],
   "source": []
  }
 ],
 "metadata": {
  "kernelspec": {
   "display_name": "Python 3 (ipykernel)",
   "language": "python",
   "name": "python3"
  },
  "language_info": {
   "codemirror_mode": {
    "name": "ipython",
    "version": 3
   },
   "file_extension": ".py",
   "mimetype": "text/x-python",
   "name": "python",
   "nbconvert_exporter": "python",
   "pygments_lexer": "ipython3",
   "version": "3.11.10"
  }
 },
 "nbformat": 4,
 "nbformat_minor": 5
}

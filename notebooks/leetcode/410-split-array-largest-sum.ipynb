{
 "cells": [
  {
   "cell_type": "markdown",
   "id": "63f3bc61",
   "metadata": {},
   "source": [
    "https://leetcode.com/problems/split-array-largest-sum"
   ]
  },
  {
   "cell_type": "code",
   "execution_count": null,
   "id": "237d32c5",
   "metadata": {},
   "outputs": [],
   "source": [
    "import pyutil as pyu\n",
    "pyu.get_local_pyinfo()"
   ]
  },
  {
   "cell_type": "code",
   "execution_count": null,
   "id": "0f24a6a7",
   "metadata": {},
   "outputs": [],
   "source": [
    "print(pyu.ps2(\"python-dotenv\"))"
   ]
  },
  {
   "cell_type": "code",
   "execution_count": null,
   "id": "272dfca7",
   "metadata": {},
   "outputs": [],
   "source": [
    "from typing import List"
   ]
  },
  {
   "cell_type": "code",
   "execution_count": null,
   "id": "dca862f4",
   "metadata": {},
   "outputs": [],
   "source": [
    "class Solution:\n",
    "  def splitArray(self, nums: List[int], m: int) -> int:\n",
    "    n = len(nums)\n",
    "    prefix = [0] + list(itertools.accumulate(nums))\n",
    "\n",
    "    # Dp(i, k) := min of largest sum to split first i nums into k groups\n",
    "    @functools.lru_cache(None)\n",
    "    def dp(i: int, k: int) -> int:\n",
    "      if k == 1:\n",
    "        return prefix[i]\n",
    "\n",
    "      ans = math.inf\n",
    "\n",
    "      # Try all possible partitions\n",
    "      for j in range(k - 1, i):\n",
    "        ans = min(ans, max(dp(j, k - 1), prefix[i] - prefix[j]))\n",
    "\n",
    "      return ans\n",
    "\n",
    "    return dp(n, m)"
   ]
  },
  {
   "cell_type": "code",
   "execution_count": null,
   "id": "8cb26ec6",
   "metadata": {},
   "outputs": [],
   "source": [
    "new Solution().splitArray()"
   ]
  }
 ],
 "metadata": {},
 "nbformat": 4,
 "nbformat_minor": 5
}

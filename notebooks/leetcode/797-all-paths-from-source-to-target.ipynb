{
 "cells": [
  {
   "cell_type": "markdown",
   "id": "2d293d78",
   "metadata": {},
   "source": [
    "https://leetcode.com/problems/all-paths-from-source-to-target"
   ]
  },
  {
   "cell_type": "code",
   "execution_count": null,
   "id": "911394d7",
   "metadata": {},
   "outputs": [],
   "source": [
    "import pyutil as pyu\n",
    "pyu.get_local_pyinfo()"
   ]
  },
  {
   "cell_type": "code",
   "execution_count": null,
   "id": "9373909d",
   "metadata": {},
   "outputs": [],
   "source": [
    "print(pyu.ps2(\"python-dotenv\"))"
   ]
  },
  {
   "cell_type": "code",
   "execution_count": null,
   "id": "560a9f56",
   "metadata": {},
   "outputs": [],
   "source": [
    "from typing import List"
   ]
  },
  {
   "cell_type": "code",
   "execution_count": null,
   "id": "7b2fcb5f",
   "metadata": {},
   "outputs": [],
   "source": [
    "class Solution:\n",
    "  def allPathsSourceTarget(self, graph: List[List[int]]) -> List[List[int]]:\n",
    "    ans = []\n",
    "\n",
    "    def dfs(u: int, path: List[int]) -> None:\n",
    "      if u == len(graph) - 1:\n",
    "        ans.append(path)\n",
    "        return\n",
    "\n",
    "      for v in graph[u]:\n",
    "        dfs(v, path + [v])\n",
    "\n",
    "    dfs(0, [0])\n",
    "    return ans"
   ]
  },
  {
   "cell_type": "code",
   "execution_count": null,
   "id": "21b0edce",
   "metadata": {},
   "outputs": [],
   "source": [
    "new Solution().allPathsSourceTarget()"
   ]
  }
 ],
 "metadata": {},
 "nbformat": 4,
 "nbformat_minor": 5
}

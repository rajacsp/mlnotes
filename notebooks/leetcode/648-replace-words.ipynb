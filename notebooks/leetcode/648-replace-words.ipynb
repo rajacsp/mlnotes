{
 "cells": [
  {
   "cell_type": "markdown",
   "id": "bc9c1779",
   "metadata": {},
   "source": [
    "https://leetcode.com/problems/replace-words"
   ]
  },
  {
   "cell_type": "code",
   "execution_count": null,
   "id": "dcaa620a",
   "metadata": {},
   "outputs": [],
   "source": [
    "import pyutil as pyu\n",
    "pyu.get_local_pyinfo()"
   ]
  },
  {
   "cell_type": "code",
   "execution_count": null,
   "id": "c3722c10",
   "metadata": {},
   "outputs": [],
   "source": [
    "print(pyu.ps2(\"python-dotenv\"))"
   ]
  },
  {
   "cell_type": "code",
   "execution_count": null,
   "id": "effa987a",
   "metadata": {},
   "outputs": [],
   "source": [
    "from typing import List"
   ]
  },
  {
   "cell_type": "code",
   "execution_count": null,
   "id": "0ba19ed9",
   "metadata": {},
   "outputs": [],
   "source": [
    "class Solution:\n",
    "  def __init__(self):\n",
    "    self.root = {}\n",
    "\n",
    "  def insert(self, word: str) -> None:\n",
    "    node = self.root\n",
    "    for c in word:\n",
    "      if c not in node:\n",
    "        node[c] = {}\n",
    "      node = node[c]\n",
    "    node['word'] = word\n",
    "\n",
    "  def search(self, word: str) -> str:\n",
    "    node = self.root\n",
    "    for c in word:\n",
    "      if 'word' in node:\n",
    "        return node['word']\n",
    "      if c not in node:\n",
    "        return word\n",
    "      node = node[c]\n",
    "    return word\n",
    "\n",
    "  def replaceWords(self, dict: List[str], sentence: str) -> str:\n",
    "    for word in dict:\n",
    "      self.insert(word)\n",
    "\n",
    "    words = sentence.split(' ')\n",
    "    return ' '.join([self.search(word) for word in words])"
   ]
  },
  {
   "cell_type": "code",
   "execution_count": null,
   "id": "6d5ec1e6",
   "metadata": {},
   "outputs": [],
   "source": [
    "new Solution().__init__()"
   ]
  }
 ],
 "metadata": {},
 "nbformat": 4,
 "nbformat_minor": 5
}

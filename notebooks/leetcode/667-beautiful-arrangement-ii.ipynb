{
 "cells": [
  {
   "cell_type": "markdown",
   "id": "9341e33e",
   "metadata": {},
   "source": [
    "https://leetcode.com/problems/beautiful-arrangement-ii"
   ]
  },
  {
   "cell_type": "code",
   "execution_count": null,
   "id": "9953ed3b",
   "metadata": {},
   "outputs": [],
   "source": [
    "import pyutil as pyu\n",
    "pyu.get_local_pyinfo()"
   ]
  },
  {
   "cell_type": "code",
   "execution_count": null,
   "id": "2ecea316",
   "metadata": {},
   "outputs": [],
   "source": [
    "print(pyu.ps2(\"python-dotenv\"))"
   ]
  },
  {
   "cell_type": "code",
   "execution_count": null,
   "id": "8a7cc8e4",
   "metadata": {},
   "outputs": [],
   "source": [
    "from typing import List"
   ]
  },
  {
   "cell_type": "code",
   "execution_count": null,
   "id": "9656bf98",
   "metadata": {},
   "outputs": [],
   "source": [
    "class Solution:\n",
    "  def constructArray(self, n: int, k: int) -> List[int]:\n",
    "    ans = list(range(1, n - k + 1))\n",
    "\n",
    "    for i in range(k):\n",
    "      if i % 2 == 0:\n",
    "        ans.append(n - i // 2)\n",
    "      else:\n",
    "        ans.append(n - k + (i + 1) // 2)\n",
    "\n",
    "    return ans"
   ]
  },
  {
   "cell_type": "code",
   "execution_count": null,
   "id": "ea586432",
   "metadata": {},
   "outputs": [],
   "source": [
    "new Solution().constructArray()"
   ]
  }
 ],
 "metadata": {},
 "nbformat": 4,
 "nbformat_minor": 5
}

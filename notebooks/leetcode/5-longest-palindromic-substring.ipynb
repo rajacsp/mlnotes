{
 "cells": [
  {
   "cell_type": "code",
   "execution_count": 7,
   "id": "db25c914-1252-4bae-8dbe-3a20e361bd73",
   "metadata": {},
   "outputs": [],
   "source": [
    "# https://leetcode.com/problems/longest-palindromic-substring/"
   ]
  },
  {
   "cell_type": "code",
   "execution_count": 8,
   "id": "0c10588e-e9e7-4b8c-b92b-91104a273df0",
   "metadata": {},
   "outputs": [
    {
     "data": {
      "text/plain": [
       "'conda env: ml311; pyv: 3.11.10 (main, Oct  3 2024, 07:29:13) [GCC 11.2.0]'"
      ]
     },
     "execution_count": 8,
     "metadata": {},
     "output_type": "execute_result"
    }
   ],
   "source": [
    "import pyutil as pyu\n",
    "pyu.get_local_pyinfo()"
   ]
  },
  {
   "cell_type": "code",
   "execution_count": 4,
   "id": "c2ccb592-b983-4856-a241-5898cab06699",
   "metadata": {},
   "outputs": [],
   "source": [
    "# print(pyu.ps2(\"scipy\"))"
   ]
  },
  {
   "cell_type": "code",
   "execution_count": 3,
   "id": "e290a4be-0793-4902-b10b-44429cb937f9",
   "metadata": {},
   "outputs": [],
   "source": [
    "from typing import Tuple"
   ]
  },
  {
   "cell_type": "code",
   "execution_count": 4,
   "id": "1a4fec76-1b9d-4c82-bdcb-0afd999d2ce1",
   "metadata": {},
   "outputs": [],
   "source": [
    "class Solution:\n",
    "  def longestPalindrome(self, s: str) -> str:\n",
    "    if not s:\n",
    "      return ''\n",
    "\n",
    "    indices = [0, 0]\n",
    "\n",
    "    # Returns [start, end] indices of the longest palindrome extended from s[i..j]\n",
    "    def extend(s: str, i: int, j: int) -> Tuple[int, int]:\n",
    "      while i >= 0 and j < len(s):\n",
    "        if s[i] != s[j]:\n",
    "          break\n",
    "        i -= 1\n",
    "        j += 1\n",
    "      return i + 1, j - 1\n",
    "\n",
    "    for i in range(len(s)):\n",
    "      l1, r1 = extend(s, i, i)\n",
    "      if r1 - l1 > indices[1] - indices[0]:\n",
    "        indices = l1, r1\n",
    "      if i + 1 < len(s) and s[i] == s[i + 1]:\n",
    "        l2, r2 = extend(s, i, i + 1)\n",
    "        if r2 - l2 > indices[1] - indices[0]:\n",
    "          indices = l2, r2\n",
    "\n",
    "    return s[indices[0]:indices[1] + 1]"
   ]
  },
  {
   "cell_type": "code",
   "execution_count": 5,
   "id": "44f142b9-646d-4bd8-86c3-5c59b1b5476e",
   "metadata": {},
   "outputs": [
    {
     "data": {
      "text/plain": [
       "'bab'"
      ]
     },
     "execution_count": 5,
     "metadata": {},
     "output_type": "execute_result"
    }
   ],
   "source": [
    "Solution().longestPalindrome(\"babad\")"
   ]
  },
  {
   "cell_type": "code",
   "execution_count": 6,
   "id": "a2c375c7-cf06-4567-9a1d-4f7900225390",
   "metadata": {},
   "outputs": [
    {
     "data": {
      "text/plain": [
       "'bb'"
      ]
     },
     "execution_count": 6,
     "metadata": {},
     "output_type": "execute_result"
    }
   ],
   "source": [
    "Solution().longestPalindrome(\"cbbd\")"
   ]
  },
  {
   "cell_type": "code",
   "execution_count": null,
   "id": "2ea86d5d-e503-4adb-bd7c-c3e96a3e4428",
   "metadata": {},
   "outputs": [],
   "source": []
  }
 ],
 "metadata": {
  "kernelspec": {
   "display_name": "Python 3 (ipykernel)",
   "language": "python",
   "name": "python3"
  },
  "language_info": {
   "codemirror_mode": {
    "name": "ipython",
    "version": 3
   },
   "file_extension": ".py",
   "mimetype": "text/x-python",
   "name": "python",
   "nbconvert_exporter": "python",
   "pygments_lexer": "ipython3",
   "version": "3.11.10"
  }
 },
 "nbformat": 4,
 "nbformat_minor": 5
}

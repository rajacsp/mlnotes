{
 "cells": [
  {
   "cell_type": "markdown",
   "id": "0854ff48",
   "metadata": {},
   "source": [
    "https://leetcode.com/problems/longest-palindromic-substring"
   ]
  },
  {
   "cell_type": "code",
   "execution_count": null,
   "id": "97eddf4b",
   "metadata": {},
   "outputs": [],
   "source": [
    "import pyutil as pyu\n",
    "pyu.get_local_pyinfo()"
   ]
  },
  {
   "cell_type": "code",
   "execution_count": null,
   "id": "ffec6035",
   "metadata": {},
   "outputs": [],
   "source": [
    "print(pyu.ps2(\"python-dotenv\"))"
   ]
  },
  {
   "cell_type": "code",
   "execution_count": null,
   "id": "13e188f7",
   "metadata": {},
   "outputs": [],
   "source": [
    "from typing import List"
   ]
  },
  {
   "cell_type": "code",
   "execution_count": null,
   "id": "5ea004ad",
   "metadata": {},
   "outputs": [],
   "source": [
    "class Solution:\n",
    "  def longestPalindrome(self, s: str) -> str:\n",
    "    if not s:\n",
    "      return ''\n",
    "\n",
    "    indices = [0, 0]\n",
    "\n",
    "    # Returns [start, end] indices of the longest palindrome extended from s[i..j]\n",
    "    def extend(s: str, i: int, j: int) -> Tuple[int, int]:\n",
    "      while i >= 0 and j < len(s):\n",
    "        if s[i] != s[j]:\n",
    "          break\n",
    "        i -= 1\n",
    "        j += 1\n",
    "      return i + 1, j - 1\n",
    "\n",
    "    for i in range(len(s)):\n",
    "      l1, r1 = extend(s, i, i)\n",
    "      if r1 - l1 > indices[1] - indices[0]:\n",
    "        indices = l1, r1\n",
    "      if i + 1 < len(s) and s[i] == s[i + 1]:\n",
    "        l2, r2 = extend(s, i, i + 1)\n",
    "        if r2 - l2 > indices[1] - indices[0]:\n",
    "          indices = l2, r2\n",
    "\n",
    "    return s[indices[0]:indices[1] + 1]"
   ]
  },
  {
   "cell_type": "code",
   "execution_count": null,
   "id": "c7fffb10",
   "metadata": {},
   "outputs": [],
   "source": [
    "new Solution().longestPalindrome()"
   ]
  }
 ],
 "metadata": {},
 "nbformat": 4,
 "nbformat_minor": 5
}

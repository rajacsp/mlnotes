{
 "cells": [
  {
   "cell_type": "markdown",
   "id": "8e556c2d",
   "metadata": {},
   "source": [
    "https://leetcode.com/problems/bag-of-tokens"
   ]
  },
  {
   "cell_type": "code",
   "execution_count": null,
   "id": "55448f90",
   "metadata": {},
   "outputs": [],
   "source": [
    "import pyutil as pyu\n",
    "pyu.get_local_pyinfo()"
   ]
  },
  {
   "cell_type": "code",
   "execution_count": null,
   "id": "7a4eb645",
   "metadata": {},
   "outputs": [],
   "source": [
    "print(pyu.ps2(\"python-dotenv\"))"
   ]
  },
  {
   "cell_type": "code",
   "execution_count": null,
   "id": "2ee36d3d",
   "metadata": {},
   "outputs": [],
   "source": [
    "from typing import List"
   ]
  },
  {
   "cell_type": "code",
   "execution_count": null,
   "id": "287343af",
   "metadata": {},
   "outputs": [],
   "source": [
    "class Solution:\n",
    "  def bagOfTokensScore(self, tokens: List[int], power: int) -> int:\n",
    "    ans = 0\n",
    "    score = 0\n",
    "    q = deque(sorted(tokens))\n",
    "\n",
    "    while q and (power >= q[0] or score):\n",
    "      while q and power >= q[0]:\n",
    "        # Play the smallest face up\n",
    "        power -= q.popleft()\n",
    "        score += 1\n",
    "      ans = max(ans, score)\n",
    "      if q and score:\n",
    "        # Play the largest face down\n",
    "        power += q.pop()\n",
    "        score -= 1\n",
    "\n",
    "    return ans"
   ]
  },
  {
   "cell_type": "code",
   "execution_count": null,
   "id": "65a4edd6",
   "metadata": {},
   "outputs": [],
   "source": [
    "new Solution().bagOfTokensScore()"
   ]
  }
 ],
 "metadata": {},
 "nbformat": 4,
 "nbformat_minor": 5
}

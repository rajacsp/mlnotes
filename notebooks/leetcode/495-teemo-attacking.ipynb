{
 "cells": [
  {
   "cell_type": "markdown",
   "id": "18f9a948",
   "metadata": {},
   "source": [
    "https://leetcode.com/problems/teemo-attacking"
   ]
  },
  {
   "cell_type": "code",
   "execution_count": null,
   "id": "84a8a3a2",
   "metadata": {},
   "outputs": [],
   "source": [
    "import pyutil as pyu\n",
    "pyu.get_local_pyinfo()"
   ]
  },
  {
   "cell_type": "code",
   "execution_count": null,
   "id": "fb793d1d",
   "metadata": {},
   "outputs": [],
   "source": [
    "print(pyu.ps2(\"python-dotenv\"))"
   ]
  },
  {
   "cell_type": "code",
   "execution_count": null,
   "id": "2e5ab3b6",
   "metadata": {},
   "outputs": [],
   "source": [
    "from typing import List"
   ]
  },
  {
   "cell_type": "code",
   "execution_count": null,
   "id": "52a1d6f3",
   "metadata": {},
   "outputs": [],
   "source": [
    "class Solution:\n",
    "  def findPoisonedDuration(self, timeSeries: List[int], duration: int) -> int:\n",
    "    if duration == 0:\n",
    "      return 0\n",
    "\n",
    "    ans = 0\n",
    "\n",
    "    for i in range(0, len(timeSeries) - 1):\n",
    "      ans += min(timeSeries[i + 1] - timeSeries[i], duration)\n",
    "\n",
    "    return ans + duration"
   ]
  },
  {
   "cell_type": "code",
   "execution_count": null,
   "id": "debe87a9",
   "metadata": {},
   "outputs": [],
   "source": [
    "new Solution().findPoisonedDuration()"
   ]
  }
 ],
 "metadata": {},
 "nbformat": 4,
 "nbformat_minor": 5
}

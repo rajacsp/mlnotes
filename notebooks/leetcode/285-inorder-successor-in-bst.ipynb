{
 "cells": [
  {
   "cell_type": "markdown",
   "id": "6ba25724",
   "metadata": {},
   "source": [
    "https://leetcode.com/problems/inorder-successor-in-bst"
   ]
  },
  {
   "cell_type": "code",
   "execution_count": null,
   "id": "bd438c4f",
   "metadata": {},
   "outputs": [],
   "source": [
    "import pyutil as pyu\n",
    "pyu.get_local_pyinfo()"
   ]
  },
  {
   "cell_type": "code",
   "execution_count": null,
   "id": "547ba288",
   "metadata": {},
   "outputs": [],
   "source": [
    "print(pyu.ps2(\"python-dotenv\"))"
   ]
  },
  {
   "cell_type": "code",
   "execution_count": null,
   "id": "0039c9f7",
   "metadata": {},
   "outputs": [],
   "source": [
    "from typing import List"
   ]
  },
  {
   "cell_type": "code",
   "execution_count": null,
   "id": "e373f747",
   "metadata": {},
   "outputs": [],
   "source": [
    "class Solution:\n",
    "  def inorderSuccessor(self, root: Optional[TreeNode], p: Optional[TreeNode]) -> Optional[TreeNode]:\n",
    "    if not root:\n",
    "      return None\n",
    "    if root.val <= p.val:\n",
    "      return self.inorderSuccessor(root.right, p)\n",
    "    return self.inorderSuccessor(root.left, p) or root"
   ]
  },
  {
   "cell_type": "code",
   "execution_count": null,
   "id": "a6febc83",
   "metadata": {},
   "outputs": [],
   "source": [
    "new Solution().inorderSuccessor()"
   ]
  }
 ],
 "metadata": {},
 "nbformat": 4,
 "nbformat_minor": 5
}

{
 "cells": [
  {
   "cell_type": "markdown",
   "id": "4412c3e5",
   "metadata": {},
   "source": [
    "https://leetcode.com/problems/valid-palindrome-ii"
   ]
  },
  {
   "cell_type": "code",
   "execution_count": null,
   "id": "210f38a5",
   "metadata": {},
   "outputs": [],
   "source": [
    "import pyutil as pyu\n",
    "pyu.get_local_pyinfo()"
   ]
  },
  {
   "cell_type": "code",
   "execution_count": null,
   "id": "3c309038",
   "metadata": {},
   "outputs": [],
   "source": [
    "print(pyu.ps2(\"python-dotenv\"))"
   ]
  },
  {
   "cell_type": "code",
   "execution_count": null,
   "id": "37bf6a4a",
   "metadata": {},
   "outputs": [],
   "source": [
    "from typing import List"
   ]
  },
  {
   "cell_type": "code",
   "execution_count": null,
   "id": "56c3124c",
   "metadata": {},
   "outputs": [],
   "source": [
    "class Solution:\n",
    "  def validPalindrome(self, s: str) -> bool:\n",
    "    def validPalindrome(l: int, r: int) -> bool:\n",
    "      return all(s[i] == s[r - i + l] for i in range(l, (l + r) // 2 + 1))\n",
    "\n",
    "    n = len(s)\n",
    "\n",
    "    for i in range(n // 2):\n",
    "      if s[i] != s[~i]:\n",
    "        return validPalindrome(i + 1, n - 1 - i) or validPalindrome(i, n - 2 - i)\n",
    "\n",
    "    return True"
   ]
  },
  {
   "cell_type": "code",
   "execution_count": null,
   "id": "9c6d5fb2",
   "metadata": {},
   "outputs": [],
   "source": [
    "new Solution().validPalindrome()"
   ]
  }
 ],
 "metadata": {},
 "nbformat": 4,
 "nbformat_minor": 5
}

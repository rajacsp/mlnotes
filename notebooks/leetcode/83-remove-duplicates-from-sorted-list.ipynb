{
 "cells": [
  {
   "cell_type": "markdown",
   "id": "6f8168fd",
   "metadata": {},
   "source": [
    "https://leetcode.com/problems/remove-duplicates-from-sorted-list"
   ]
  },
  {
   "cell_type": "code",
   "execution_count": null,
   "id": "9a5b950e",
   "metadata": {},
   "outputs": [],
   "source": [
    "import pyutil as pyu\n",
    "pyu.get_local_pyinfo()"
   ]
  },
  {
   "cell_type": "code",
   "execution_count": null,
   "id": "be9e4210",
   "metadata": {},
   "outputs": [],
   "source": [
    "print(pyu.ps2(\"python-dotenv\"))"
   ]
  },
  {
   "cell_type": "code",
   "execution_count": null,
   "id": "0133cb79",
   "metadata": {},
   "outputs": [],
   "source": [
    "from typing import List"
   ]
  },
  {
   "cell_type": "code",
   "execution_count": null,
   "id": "6346aa1f",
   "metadata": {},
   "outputs": [],
   "source": [
    "class Solution:\n",
    "  def deleteDuplicates(self, head: ListNode) -> ListNode:\n",
    "    curr = head\n",
    "\n",
    "    while curr:\n",
    "      while curr.next and curr.val == curr.next.val:\n",
    "        curr.next = curr.next.next\n",
    "      curr = curr.next\n",
    "\n",
    "    return head"
   ]
  },
  {
   "cell_type": "code",
   "execution_count": null,
   "id": "475d380c",
   "metadata": {},
   "outputs": [],
   "source": [
    "new Solution().deleteDuplicates()"
   ]
  }
 ],
 "metadata": {},
 "nbformat": 4,
 "nbformat_minor": 5
}

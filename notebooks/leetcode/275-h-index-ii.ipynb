{
 "cells": [
  {
   "cell_type": "markdown",
   "id": "3a35b0b0",
   "metadata": {},
   "source": [
    "https://leetcode.com/problems/h-index-ii"
   ]
  },
  {
   "cell_type": "code",
   "execution_count": null,
   "id": "0699517a",
   "metadata": {},
   "outputs": [],
   "source": [
    "import pyutil as pyu\n",
    "pyu.get_local_pyinfo()"
   ]
  },
  {
   "cell_type": "code",
   "execution_count": null,
   "id": "0c6d998e",
   "metadata": {},
   "outputs": [],
   "source": [
    "print(pyu.ps2(\"python-dotenv\"))"
   ]
  },
  {
   "cell_type": "code",
   "execution_count": null,
   "id": "569b7335",
   "metadata": {},
   "outputs": [],
   "source": [
    "from typing import List"
   ]
  },
  {
   "cell_type": "code",
   "execution_count": null,
   "id": "3a0c6872",
   "metadata": {},
   "outputs": [],
   "source": [
    "class Solution:\n",
    "  def hIndex(self, citations: List[int]) -> int:\n",
    "    l = 0\n",
    "    r = len(citations)\n",
    "\n",
    "    while l < r:\n",
    "      m = (l + r) // 2\n",
    "      if citations[m] >= len(citations) - m:\n",
    "        r = m\n",
    "      else:\n",
    "        l = m + 1\n",
    "\n",
    "    return len(citations) - l"
   ]
  },
  {
   "cell_type": "code",
   "execution_count": null,
   "id": "67ecf8d3",
   "metadata": {},
   "outputs": [],
   "source": [
    "new Solution().hIndex()"
   ]
  }
 ],
 "metadata": {},
 "nbformat": 4,
 "nbformat_minor": 5
}

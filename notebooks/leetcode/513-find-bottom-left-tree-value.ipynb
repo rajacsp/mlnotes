{
 "cells": [
  {
   "cell_type": "markdown",
   "id": "0de39102",
   "metadata": {},
   "source": [
    "https://leetcode.com/problems/find-bottom-left-tree-value"
   ]
  },
  {
   "cell_type": "code",
   "execution_count": null,
   "id": "9d788077",
   "metadata": {},
   "outputs": [],
   "source": [
    "import pyutil as pyu\n",
    "pyu.get_local_pyinfo()"
   ]
  },
  {
   "cell_type": "code",
   "execution_count": null,
   "id": "7952a31b",
   "metadata": {},
   "outputs": [],
   "source": [
    "print(pyu.ps2(\"python-dotenv\"))"
   ]
  },
  {
   "cell_type": "code",
   "execution_count": null,
   "id": "36ad8a11",
   "metadata": {},
   "outputs": [],
   "source": [
    "from typing import List"
   ]
  },
  {
   "cell_type": "code",
   "execution_count": null,
   "id": "aa1903a3",
   "metadata": {},
   "outputs": [],
   "source": [
    "class Solution:\n",
    "  def findBottomLeftValue(self, root: Optional[TreeNode]) -> int:\n",
    "    q = deque([root])\n",
    "\n",
    "    while q:\n",
    "      root = q.popleft()\n",
    "      if root.right:\n",
    "        q.append(root.right)\n",
    "      if root.left:\n",
    "        q.append(root.left)\n",
    "\n",
    "    return root.val"
   ]
  },
  {
   "cell_type": "code",
   "execution_count": null,
   "id": "5311e03e",
   "metadata": {},
   "outputs": [],
   "source": [
    "new Solution().findBottomLeftValue()"
   ]
  }
 ],
 "metadata": {},
 "nbformat": 4,
 "nbformat_minor": 5
}

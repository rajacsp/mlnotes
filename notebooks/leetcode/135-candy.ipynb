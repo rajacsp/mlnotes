{
 "cells": [
  {
   "cell_type": "markdown",
   "id": "6465a730",
   "metadata": {},
   "source": [
    "https://leetcode.com/problems/candy"
   ]
  },
  {
   "cell_type": "code",
   "execution_count": null,
   "id": "4616bad6",
   "metadata": {},
   "outputs": [],
   "source": [
    "import pyutil as pyu\n",
    "pyu.get_local_pyinfo()"
   ]
  },
  {
   "cell_type": "code",
   "execution_count": null,
   "id": "8e37b84d",
   "metadata": {},
   "outputs": [],
   "source": [
    "print(pyu.ps2(\"python-dotenv\"))"
   ]
  },
  {
   "cell_type": "code",
   "execution_count": null,
   "id": "ee505ec5",
   "metadata": {},
   "outputs": [],
   "source": [
    "from typing import List"
   ]
  },
  {
   "cell_type": "code",
   "execution_count": null,
   "id": "18b8bcd9",
   "metadata": {},
   "outputs": [],
   "source": [
    "class Solution:\n",
    "  def candy(self, ratings: List[int]) -> int:\n",
    "    n = len(ratings)\n",
    "\n",
    "    ans = 0\n",
    "    l = [1] * n\n",
    "    r = [1] * n\n",
    "\n",
    "    for i in range(1, n):\n",
    "      if ratings[i] > ratings[i - 1]:\n",
    "        l[i] = l[i - 1] + 1\n",
    "\n",
    "    for i in range(n - 2, -1, -1):\n",
    "      if ratings[i] > ratings[i + 1]:\n",
    "        r[i] = r[i + 1] + 1\n",
    "\n",
    "    for a, b in zip(l, r):\n",
    "      ans += max(a, b)\n",
    "\n",
    "    return ans"
   ]
  },
  {
   "cell_type": "code",
   "execution_count": null,
   "id": "fb4dd427",
   "metadata": {},
   "outputs": [],
   "source": [
    "new Solution().candy()"
   ]
  }
 ],
 "metadata": {},
 "nbformat": 4,
 "nbformat_minor": 5
}

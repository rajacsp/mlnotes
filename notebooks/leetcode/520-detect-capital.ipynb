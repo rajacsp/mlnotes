{
 "cells": [
  {
   "cell_type": "markdown",
   "id": "0a871b7c",
   "metadata": {},
   "source": [
    "https://leetcode.com/problems/detect-capital"
   ]
  },
  {
   "cell_type": "code",
   "execution_count": null,
   "id": "8de1fae6",
   "metadata": {},
   "outputs": [],
   "source": [
    "import pyutil as pyu\n",
    "pyu.get_local_pyinfo()"
   ]
  },
  {
   "cell_type": "code",
   "execution_count": null,
   "id": "0de9425e",
   "metadata": {},
   "outputs": [],
   "source": [
    "print(pyu.ps2(\"python-dotenv\"))"
   ]
  },
  {
   "cell_type": "code",
   "execution_count": null,
   "id": "a1d8c87a",
   "metadata": {},
   "outputs": [],
   "source": [
    "from typing import List"
   ]
  },
  {
   "cell_type": "code",
   "execution_count": null,
   "id": "9f7a72ca",
   "metadata": {},
   "outputs": [],
   "source": [
    "class Solution:\n",
    "  def detectCapitalUse(self, word: str) -> bool:\n",
    "    return word.isupper() or word.islower() or word.istitle()"
   ]
  },
  {
   "cell_type": "code",
   "execution_count": null,
   "id": "b50a5812",
   "metadata": {},
   "outputs": [],
   "source": [
    "new Solution().detectCapitalUse()"
   ]
  }
 ],
 "metadata": {},
 "nbformat": 4,
 "nbformat_minor": 5
}

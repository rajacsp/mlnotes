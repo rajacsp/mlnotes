{
 "cells": [
  {
   "cell_type": "markdown",
   "id": "0089b7ae",
   "metadata": {},
   "source": [
    "https://leetcode.com/problems/balanced-binary-tree"
   ]
  },
  {
   "cell_type": "code",
   "execution_count": null,
   "id": "d1d4476d",
   "metadata": {},
   "outputs": [],
   "source": [
    "import pyutil as pyu\n",
    "pyu.get_local_pyinfo()"
   ]
  },
  {
   "cell_type": "code",
   "execution_count": null,
   "id": "6d63785e",
   "metadata": {},
   "outputs": [],
   "source": [
    "print(pyu.ps2(\"python-dotenv\"))"
   ]
  },
  {
   "cell_type": "code",
   "execution_count": null,
   "id": "2c494024",
   "metadata": {},
   "outputs": [],
   "source": [
    "from typing import List"
   ]
  },
  {
   "cell_type": "code",
   "execution_count": null,
   "id": "a90939e2",
   "metadata": {},
   "outputs": [],
   "source": [
    "class Solution:\n",
    "  def isBalanced(self, root: Optional[TreeNode]) -> bool:\n",
    "    if not root:\n",
    "      return True\n",
    "\n",
    "    def maxDepth(root: Optional[TreeNode]) -> int:\n",
    "      if not root:\n",
    "        return 0\n",
    "      return 1 + max(maxDepth(root.left), maxDepth(root.right))\n",
    "\n",
    "    return abs(maxDepth(root.left) - maxDepth(root.right)) <= 1 and \\\n",
    "        self.isBalanced(root.left) and self.isBalanced(root.right)"
   ]
  },
  {
   "cell_type": "code",
   "execution_count": null,
   "id": "fa082247",
   "metadata": {},
   "outputs": [],
   "source": [
    "new Solution().isBalanced()"
   ]
  }
 ],
 "metadata": {},
 "nbformat": 4,
 "nbformat_minor": 5
}

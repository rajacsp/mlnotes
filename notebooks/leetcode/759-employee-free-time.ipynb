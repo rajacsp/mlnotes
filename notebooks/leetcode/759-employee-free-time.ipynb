{
 "cells": [
  {
   "cell_type": "markdown",
   "id": "ce999ea3",
   "metadata": {},
   "source": [
    "https://leetcode.com/problems/employee-free-time"
   ]
  },
  {
   "cell_type": "code",
   "execution_count": null,
   "id": "f9ecec1d",
   "metadata": {},
   "outputs": [],
   "source": [
    "import pyutil as pyu\n",
    "pyu.get_local_pyinfo()"
   ]
  },
  {
   "cell_type": "code",
   "execution_count": null,
   "id": "20bc568e",
   "metadata": {},
   "outputs": [],
   "source": [
    "print(pyu.ps2(\"python-dotenv\"))"
   ]
  },
  {
   "cell_type": "code",
   "execution_count": null,
   "id": "905d56e4",
   "metadata": {},
   "outputs": [],
   "source": [
    "from typing import List"
   ]
  },
  {
   "cell_type": "code",
   "execution_count": null,
   "id": "b4ad9fd6",
   "metadata": {},
   "outputs": [],
   "source": [
    "class Solution:\n",
    "  def employeeFreeTime(self, schedule: '[[Interval]]') -> '[Interval]':\n",
    "    ans = []\n",
    "    intervals = []\n",
    "\n",
    "    for s in schedule:\n",
    "      intervals.extend(s)\n",
    "\n",
    "    intervals.sort(key=lambda x: x.start)\n",
    "\n",
    "    prevEnd = intervals[0].end\n",
    "\n",
    "    for interval in intervals:\n",
    "      if interval.start > prevEnd:\n",
    "        ans.append(Interval(prevEnd, interval.start))\n",
    "      prevEnd = max(prevEnd, interval.end)\n",
    "\n",
    "    return ans"
   ]
  },
  {
   "cell_type": "code",
   "execution_count": null,
   "id": "c480c57a",
   "metadata": {},
   "outputs": [],
   "source": [
    "new Solution().employeeFreeTime()"
   ]
  }
 ],
 "metadata": {},
 "nbformat": 4,
 "nbformat_minor": 5
}

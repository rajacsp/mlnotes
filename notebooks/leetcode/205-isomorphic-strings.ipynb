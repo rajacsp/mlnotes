{
 "cells": [
  {
   "cell_type": "markdown",
   "id": "c28ed529",
   "metadata": {},
   "source": [
    "https://leetcode.com/problems/isomorphic-strings"
   ]
  },
  {
   "cell_type": "code",
   "execution_count": null,
   "id": "e4dc4559",
   "metadata": {},
   "outputs": [],
   "source": [
    "import pyutil as pyu\n",
    "pyu.get_local_pyinfo()"
   ]
  },
  {
   "cell_type": "code",
   "execution_count": null,
   "id": "da6f64a8",
   "metadata": {},
   "outputs": [],
   "source": [
    "print(pyu.ps2(\"python-dotenv\"))"
   ]
  },
  {
   "cell_type": "code",
   "execution_count": null,
   "id": "4e9e5843",
   "metadata": {},
   "outputs": [],
   "source": [
    "from typing import List"
   ]
  },
  {
   "cell_type": "code",
   "execution_count": null,
   "id": "dcc8a69f",
   "metadata": {},
   "outputs": [],
   "source": [
    "class Solution:\n",
    "  def isIsomorphic(self, s: str, t: str) -> bool:\n",
    "    return [*map(s.index, s)] == [*map(t.index, t)]"
   ]
  },
  {
   "cell_type": "code",
   "execution_count": null,
   "id": "f4e155e0",
   "metadata": {},
   "outputs": [],
   "source": [
    "new Solution().isIsomorphic()"
   ]
  }
 ],
 "metadata": {},
 "nbformat": 4,
 "nbformat_minor": 5
}

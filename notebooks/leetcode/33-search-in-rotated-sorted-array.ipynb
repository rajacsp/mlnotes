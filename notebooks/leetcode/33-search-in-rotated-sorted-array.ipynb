{
 "cells": [
  {
   "cell_type": "markdown",
   "id": "3b73fb08",
   "metadata": {},
   "source": [
    "https://leetcode.com/problems/search-in-rotated-sorted-array"
   ]
  },
  {
   "cell_type": "code",
   "execution_count": null,
   "id": "2ec595eb",
   "metadata": {},
   "outputs": [],
   "source": [
    "import pyutil as pyu\n",
    "pyu.get_local_pyinfo()"
   ]
  },
  {
   "cell_type": "code",
   "execution_count": null,
   "id": "9e75ddbc",
   "metadata": {},
   "outputs": [],
   "source": [
    "print(pyu.ps2(\"python-dotenv\"))"
   ]
  },
  {
   "cell_type": "code",
   "execution_count": null,
   "id": "4d5ba50d",
   "metadata": {},
   "outputs": [],
   "source": [
    "from typing import List"
   ]
  },
  {
   "cell_type": "code",
   "execution_count": null,
   "id": "42d6059e",
   "metadata": {},
   "outputs": [],
   "source": [
    "class Solution:\n",
    "  def search(self, nums: List[int], target: int) -> int:\n",
    "    l = 0\n",
    "    r = len(nums) - 1\n",
    "\n",
    "    while l <= r:\n",
    "      m = (l + r) // 2\n",
    "      if nums[m] == target:\n",
    "        return m\n",
    "      if nums[l] <= nums[m]:  # nums[l..m] are sorted\n",
    "        if nums[l] <= target < nums[m]:\n",
    "          r = m - 1\n",
    "        else:\n",
    "          l = m + 1\n",
    "      else:  # nums[m..n - 1] are sorted\n",
    "        if nums[m] < target <= nums[r]:\n",
    "          l = m + 1\n",
    "        else:\n",
    "          r = m - 1\n",
    "\n",
    "    return -1"
   ]
  },
  {
   "cell_type": "code",
   "execution_count": null,
   "id": "a218555f",
   "metadata": {},
   "outputs": [],
   "source": [
    "new Solution().search()"
   ]
  }
 ],
 "metadata": {},
 "nbformat": 4,
 "nbformat_minor": 5
}

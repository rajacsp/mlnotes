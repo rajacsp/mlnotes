{
 "cells": [
  {
   "cell_type": "markdown",
   "id": "7a5b2738",
   "metadata": {},
   "source": [
    "https://leetcode.com/problems/find-the-closest-palindrome"
   ]
  },
  {
   "cell_type": "code",
   "execution_count": null,
   "id": "3d208104",
   "metadata": {},
   "outputs": [],
   "source": [
    "import pyutil as pyu\n",
    "pyu.get_local_pyinfo()"
   ]
  },
  {
   "cell_type": "code",
   "execution_count": null,
   "id": "80c5c146",
   "metadata": {},
   "outputs": [],
   "source": [
    "print(pyu.ps2(\"python-dotenv\"))"
   ]
  },
  {
   "cell_type": "code",
   "execution_count": null,
   "id": "73c621f8",
   "metadata": {},
   "outputs": [],
   "source": [
    "from typing import List"
   ]
  },
  {
   "cell_type": "code",
   "execution_count": null,
   "id": "62ba56bd",
   "metadata": {},
   "outputs": [],
   "source": [
    "class Solution:\n",
    "  def nearestPalindromic(self, n: str) -> str:\n",
    "    def getPalindromes(s: str) -> tuple:\n",
    "      num = int(s)\n",
    "      k = len(s)\n",
    "      palindromes = []\n",
    "      half = s[0:(k + 1) // 2]\n",
    "      reversedHalf = half[:k // 2][::-1]\n",
    "      candidate = int(half + reversedHalf)\n",
    "\n",
    "      if candidate < num:\n",
    "        palindromes.append(candidate)\n",
    "      else:\n",
    "        prevHalf = str(int(half) - 1)\n",
    "        reversedPrevHalf = prevHalf[:k // 2][::-1]\n",
    "        if k % 2 == 0 and int(prevHalf) == 0:\n",
    "          palindromes.append(9)\n",
    "        elif k % 2 == 0 and (int(prevHalf) + 1) % 10 == 0:\n",
    "          palindromes.append(int(prevHalf + '9' + reversedPrevHalf))\n",
    "        else:\n",
    "          palindromes.append(int(prevHalf + reversedPrevHalf))\n",
    "\n",
    "      if candidate > num:\n",
    "        palindromes.append(candidate)\n",
    "      else:\n",
    "        nextHalf = str(int(half) + 1)\n",
    "        reversedNextHalf = nextHalf[:k // 2][::-1]\n",
    "        palindromes.append(int(nextHalf + reversedNextHalf))\n",
    "\n",
    "      return palindromes\n",
    "\n",
    "    prevPalindrome, nextPalindrome = getPalindromes(n)\n",
    "    return str(prevPalindrome) if abs(prevPalindrome - int(n)) <= abs(nextPalindrome - int(n)) else str(nextPalindrome)"
   ]
  },
  {
   "cell_type": "code",
   "execution_count": null,
   "id": "f772c723",
   "metadata": {},
   "outputs": [],
   "source": [
    "new Solution().nearestPalindromic()"
   ]
  }
 ],
 "metadata": {},
 "nbformat": 4,
 "nbformat_minor": 5
}

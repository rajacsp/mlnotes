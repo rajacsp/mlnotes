{
 "cells": [
  {
   "cell_type": "markdown",
   "id": "8a329b18",
   "metadata": {},
   "source": [
    "https://leetcode.com/problems/validate-binary-search-tree"
   ]
  },
  {
   "cell_type": "code",
   "execution_count": null,
   "id": "b5cc7dab",
   "metadata": {},
   "outputs": [],
   "source": [
    "import pyutil as pyu\n",
    "pyu.get_local_pyinfo()"
   ]
  },
  {
   "cell_type": "code",
   "execution_count": null,
   "id": "fe43360c",
   "metadata": {},
   "outputs": [],
   "source": [
    "print(pyu.ps2(\"python-dotenv\"))"
   ]
  },
  {
   "cell_type": "code",
   "execution_count": null,
   "id": "5303d9fe",
   "metadata": {},
   "outputs": [],
   "source": [
    "from typing import List"
   ]
  },
  {
   "cell_type": "code",
   "execution_count": null,
   "id": "7c8c31a2",
   "metadata": {},
   "outputs": [],
   "source": [
    "class Solution:\n",
    "  def isValidBST(self, root: Optional[TreeNode]) -> bool:\n",
    "    def isValidBST(root: Optional[TreeNode],\n",
    "                   minNode: Optional[TreeNode], maxNode: Optional[TreeNode]) -> bool:\n",
    "      if not root:\n",
    "        return True\n",
    "      if minNode and root.val <= minNode.val:\n",
    "        return False\n",
    "      if maxNode and root.val >= maxNode.val:\n",
    "        return False\n",
    "\n",
    "      return isValidBST(root.left, minNode, root) and \\\n",
    "          isValidBST(root.right, root, maxNode)\n",
    "\n",
    "    return isValidBST(root, None, None)"
   ]
  },
  {
   "cell_type": "code",
   "execution_count": null,
   "id": "d32a5aa5",
   "metadata": {},
   "outputs": [],
   "source": [
    "new Solution().isValidBST()"
   ]
  }
 ],
 "metadata": {},
 "nbformat": 4,
 "nbformat_minor": 5
}

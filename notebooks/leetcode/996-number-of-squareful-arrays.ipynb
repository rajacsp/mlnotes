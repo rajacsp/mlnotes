{
 "cells": [
  {
   "cell_type": "markdown",
   "id": "152339eb",
   "metadata": {},
   "source": [
    "https://leetcode.com/problems/number-of-squareful-arrays"
   ]
  },
  {
   "cell_type": "code",
   "execution_count": null,
   "id": "6a61d8dd",
   "metadata": {},
   "outputs": [],
   "source": [
    "import pyutil as pyu\n",
    "pyu.get_local_pyinfo()"
   ]
  },
  {
   "cell_type": "code",
   "execution_count": null,
   "id": "0e24d461",
   "metadata": {},
   "outputs": [],
   "source": [
    "print(pyu.ps2(\"python-dotenv\"))"
   ]
  },
  {
   "cell_type": "code",
   "execution_count": null,
   "id": "40a2b998",
   "metadata": {},
   "outputs": [],
   "source": [
    "from typing import List"
   ]
  },
  {
   "cell_type": "code",
   "execution_count": null,
   "id": "ad6ef375",
   "metadata": {},
   "outputs": [],
   "source": [
    "class Solution:\n",
    "  def numSquarefulPerms(self, A: List[int]) -> int:\n",
    "    ans = 0\n",
    "    used = [False] * len(A)\n",
    "\n",
    "    def isSquare(num: int) -> bool:\n",
    "      root = int(sqrt(num))\n",
    "      return root * root == num\n",
    "\n",
    "    def dfs(path: List[int]) -> None:\n",
    "      nonlocal ans\n",
    "      if len(path) > 1 and not isSquare(path[-1] + path[-2]):\n",
    "        return\n",
    "      if len(path) == len(A):\n",
    "        ans += 1\n",
    "        return\n",
    "\n",
    "      for i, a in enumerate(A):\n",
    "        if used[i]:\n",
    "          continue\n",
    "        if i > 0 and A[i] == A[i - 1] and not used[i - 1]:\n",
    "          continue\n",
    "        used[i] = True\n",
    "        dfs(path + [a])\n",
    "        used[i] = False\n",
    "\n",
    "    A.sort()\n",
    "    dfs([])\n",
    "    return ans"
   ]
  },
  {
   "cell_type": "code",
   "execution_count": null,
   "id": "c526b905",
   "metadata": {},
   "outputs": [],
   "source": [
    "new Solution().numSquarefulPerms()"
   ]
  }
 ],
 "metadata": {},
 "nbformat": 4,
 "nbformat_minor": 5
}

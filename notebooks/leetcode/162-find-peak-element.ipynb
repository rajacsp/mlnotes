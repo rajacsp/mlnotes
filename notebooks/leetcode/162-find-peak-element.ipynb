{
 "cells": [
  {
   "cell_type": "markdown",
   "id": "d8572cea",
   "metadata": {},
   "source": [
    "https://leetcode.com/problems/find-peak-element"
   ]
  },
  {
   "cell_type": "code",
   "execution_count": null,
   "id": "21327174",
   "metadata": {},
   "outputs": [],
   "source": [
    "import pyutil as pyu\n",
    "pyu.get_local_pyinfo()"
   ]
  },
  {
   "cell_type": "code",
   "execution_count": null,
   "id": "21a268b6",
   "metadata": {},
   "outputs": [],
   "source": [
    "print(pyu.ps2(\"python-dotenv\"))"
   ]
  },
  {
   "cell_type": "code",
   "execution_count": null,
   "id": "0a0308ab",
   "metadata": {},
   "outputs": [],
   "source": [
    "from typing import List"
   ]
  },
  {
   "cell_type": "code",
   "execution_count": null,
   "id": "75b79184",
   "metadata": {},
   "outputs": [],
   "source": [
    "class Solution:\n",
    "  def findPeakElement(self, nums: List[int]) -> int:\n",
    "    l = 0\n",
    "    r = len(nums) - 1\n",
    "\n",
    "    while l < r:\n",
    "      m = (l + r) // 2\n",
    "      if nums[m] >= nums[m + 1]:\n",
    "        r = m\n",
    "      else:\n",
    "        l = m + 1\n",
    "\n",
    "    return l"
   ]
  },
  {
   "cell_type": "code",
   "execution_count": null,
   "id": "29770530",
   "metadata": {},
   "outputs": [],
   "source": [
    "new Solution().findPeakElement()"
   ]
  }
 ],
 "metadata": {},
 "nbformat": 4,
 "nbformat_minor": 5
}

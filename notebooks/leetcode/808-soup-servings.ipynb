{
 "cells": [
  {
   "cell_type": "markdown",
   "id": "f1299aac",
   "metadata": {},
   "source": [
    "https://leetcode.com/problems/soup-servings"
   ]
  },
  {
   "cell_type": "code",
   "execution_count": null,
   "id": "cbc6d748",
   "metadata": {},
   "outputs": [],
   "source": [
    "import pyutil as pyu\n",
    "pyu.get_local_pyinfo()"
   ]
  },
  {
   "cell_type": "code",
   "execution_count": null,
   "id": "3eeb6e24",
   "metadata": {},
   "outputs": [],
   "source": [
    "print(pyu.ps2(\"python-dotenv\"))"
   ]
  },
  {
   "cell_type": "code",
   "execution_count": null,
   "id": "a37b6c21",
   "metadata": {},
   "outputs": [],
   "source": [
    "from typing import List"
   ]
  },
  {
   "cell_type": "code",
   "execution_count": null,
   "id": "958034e4",
   "metadata": {},
   "outputs": [],
   "source": [
    "class Solution:\n",
    "  def soupServings(self, N: int) -> float:\n",
    "    def dfs(a: int, b: int) -> float:\n",
    "      if a <= 0 and b <= 0:\n",
    "        return 0.5\n",
    "      if a <= 0:\n",
    "        return 1.0\n",
    "      if b <= 0:\n",
    "        return 0.0\n",
    "      if memo[a][b] > 0:\n",
    "        return memo[a][b]\n",
    "\n",
    "      memo[a][b] = 0.25 * (dfs(a - 4, b) +\n",
    "                           dfs(a - 3, b - 1) +\n",
    "                           dfs(a - 2, b - 2) +\n",
    "                           dfs(a - 1, b - 3))\n",
    "      return memo[a][b]\n",
    "\n",
    "    memo = [[0.0] * 192 for _ in range(192)]\n",
    "    return 1 if N >= 4800 else dfs((N + 24) // 25, (N + 24) // 25)"
   ]
  },
  {
   "cell_type": "code",
   "execution_count": null,
   "id": "37293dad",
   "metadata": {},
   "outputs": [],
   "source": [
    "new Solution().soupServings()"
   ]
  }
 ],
 "metadata": {},
 "nbformat": 4,
 "nbformat_minor": 5
}

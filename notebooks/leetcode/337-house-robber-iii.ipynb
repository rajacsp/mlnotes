{
 "cells": [
  {
   "cell_type": "markdown",
   "id": "40d7f208",
   "metadata": {},
   "source": [
    "https://leetcode.com/problems/house-robber-iii"
   ]
  },
  {
   "cell_type": "code",
   "execution_count": null,
   "id": "8c28548a",
   "metadata": {},
   "outputs": [],
   "source": [
    "import pyutil as pyu\n",
    "pyu.get_local_pyinfo()"
   ]
  },
  {
   "cell_type": "code",
   "execution_count": null,
   "id": "0f36e9f3",
   "metadata": {},
   "outputs": [],
   "source": [
    "print(pyu.ps2(\"python-dotenv\"))"
   ]
  },
  {
   "cell_type": "code",
   "execution_count": null,
   "id": "14104df2",
   "metadata": {},
   "outputs": [],
   "source": [
    "from typing import List"
   ]
  },
  {
   "cell_type": "code",
   "execution_count": null,
   "id": "0507f764",
   "metadata": {},
   "outputs": [],
   "source": [
    "class Solution:\n",
    "  def rob(self, root: Optional[TreeNode]) -> int:\n",
    "    def robOrNot(root: Optional[TreeNode]) -> tuple:\n",
    "      if not root:\n",
    "        return (0, 0)\n",
    "\n",
    "      robLeft, notRobLeft = robOrNot(root.left)\n",
    "      robRight, notRobRight = robOrNot(root.right)\n",
    "\n",
    "      return (root.val + notRobLeft + notRobRight,\n",
    "              max(robLeft, notRobLeft) + max(robRight, notRobRight))\n",
    "\n",
    "    return max(robOrNot(root))"
   ]
  },
  {
   "cell_type": "code",
   "execution_count": null,
   "id": "a3c1228e",
   "metadata": {},
   "outputs": [],
   "source": [
    "new Solution().rob()"
   ]
  }
 ],
 "metadata": {},
 "nbformat": 4,
 "nbformat_minor": 5
}

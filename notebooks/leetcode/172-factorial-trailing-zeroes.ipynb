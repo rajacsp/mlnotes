{
 "cells": [
  {
   "cell_type": "markdown",
   "id": "f5ede7b2",
   "metadata": {},
   "source": [
    "https://leetcode.com/problems/factorial-trailing-zeroes"
   ]
  },
  {
   "cell_type": "code",
   "execution_count": null,
   "id": "a8d28d93",
   "metadata": {},
   "outputs": [],
   "source": [
    "import pyutil as pyu\n",
    "pyu.get_local_pyinfo()"
   ]
  },
  {
   "cell_type": "code",
   "execution_count": null,
   "id": "84239fe9",
   "metadata": {},
   "outputs": [],
   "source": [
    "print(pyu.ps2(\"python-dotenv\"))"
   ]
  },
  {
   "cell_type": "code",
   "execution_count": null,
   "id": "bf75a894",
   "metadata": {},
   "outputs": [],
   "source": [
    "from typing import List"
   ]
  },
  {
   "cell_type": "code",
   "execution_count": null,
   "id": "c53d2e5a",
   "metadata": {},
   "outputs": [],
   "source": [
    "class Solution:\n",
    "  def trailingZeroes(self, n: int) -> int:\n",
    "    return 0 if n == 0 else n // 5 + self.trailingZeroes(n // 5)"
   ]
  },
  {
   "cell_type": "code",
   "execution_count": null,
   "id": "109f6472",
   "metadata": {},
   "outputs": [],
   "source": [
    "new Solution().trailingZeroes()"
   ]
  }
 ],
 "metadata": {},
 "nbformat": 4,
 "nbformat_minor": 5
}

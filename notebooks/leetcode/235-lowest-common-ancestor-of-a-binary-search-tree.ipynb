{
 "cells": [
  {
   "cell_type": "markdown",
   "id": "f6dd9f97",
   "metadata": {},
   "source": [
    "https://leetcode.com/problems/lowest-common-ancestor-of-a-binary-search-tree"
   ]
  },
  {
   "cell_type": "code",
   "execution_count": null,
   "id": "b1418f92",
   "metadata": {},
   "outputs": [],
   "source": [
    "import pyutil as pyu\n",
    "pyu.get_local_pyinfo()"
   ]
  },
  {
   "cell_type": "code",
   "execution_count": null,
   "id": "b815044b",
   "metadata": {},
   "outputs": [],
   "source": [
    "print(pyu.ps2(\"python-dotenv\"))"
   ]
  },
  {
   "cell_type": "code",
   "execution_count": null,
   "id": "aea8ad9b",
   "metadata": {},
   "outputs": [],
   "source": [
    "from typing import List"
   ]
  },
  {
   "cell_type": "code",
   "execution_count": null,
   "id": "ba023bd1",
   "metadata": {},
   "outputs": [],
   "source": [
    "class Solution:\n",
    "  def lowestCommonAncestor(self, root: 'TreeNode', p: 'TreeNode', q: 'TreeNode') -> 'TreeNode':\n",
    "    if root.val > max(p.val, q.val):\n",
    "      return self.lowestCommonAncestor(root.left, p, q)\n",
    "    if root.val < min(p.val, q.val):\n",
    "      return self.lowestCommonAncestor(root.right, p, q)\n",
    "    return root"
   ]
  },
  {
   "cell_type": "code",
   "execution_count": null,
   "id": "a343b001",
   "metadata": {},
   "outputs": [],
   "source": [
    "new Solution().lowestCommonAncestor()"
   ]
  }
 ],
 "metadata": {},
 "nbformat": 4,
 "nbformat_minor": 5
}

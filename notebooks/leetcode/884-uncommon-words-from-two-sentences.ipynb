{
 "cells": [
  {
   "cell_type": "markdown",
   "id": "6eddbadf",
   "metadata": {},
   "source": [
    "https://leetcode.com/problems/uncommon-words-from-two-sentences"
   ]
  },
  {
   "cell_type": "code",
   "execution_count": null,
   "id": "9e157231",
   "metadata": {},
   "outputs": [],
   "source": [
    "import pyutil as pyu\n",
    "pyu.get_local_pyinfo()"
   ]
  },
  {
   "cell_type": "code",
   "execution_count": null,
   "id": "6ed516c9",
   "metadata": {},
   "outputs": [],
   "source": [
    "print(pyu.ps2(\"python-dotenv\"))"
   ]
  },
  {
   "cell_type": "code",
   "execution_count": null,
   "id": "9a22f8c8",
   "metadata": {},
   "outputs": [],
   "source": [
    "from typing import List"
   ]
  },
  {
   "cell_type": "code",
   "execution_count": null,
   "id": "4b7f605d",
   "metadata": {},
   "outputs": [],
   "source": [
    "class Solution:\n",
    "  def uncommonFromSentences(self, A: str, B: str) -> List[str]:\n",
    "    count = Counter((A + ' ' + B).split())\n",
    "    return [word for word, freq in count.items() if freq == 1]"
   ]
  },
  {
   "cell_type": "code",
   "execution_count": null,
   "id": "3707258e",
   "metadata": {},
   "outputs": [],
   "source": [
    "new Solution().uncommonFromSentences()"
   ]
  }
 ],
 "metadata": {},
 "nbformat": 4,
 "nbformat_minor": 5
}

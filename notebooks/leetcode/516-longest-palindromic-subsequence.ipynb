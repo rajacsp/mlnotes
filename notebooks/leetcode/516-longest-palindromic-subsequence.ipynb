{
 "cells": [
  {
   "cell_type": "markdown",
   "id": "621a15dd",
   "metadata": {},
   "source": [
    "https://leetcode.com/problems/longest-palindromic-subsequence"
   ]
  },
  {
   "cell_type": "code",
   "execution_count": null,
   "id": "bb18e9f7",
   "metadata": {},
   "outputs": [],
   "source": [
    "import pyutil as pyu\n",
    "pyu.get_local_pyinfo()"
   ]
  },
  {
   "cell_type": "code",
   "execution_count": null,
   "id": "82c9c678",
   "metadata": {},
   "outputs": [],
   "source": [
    "print(pyu.ps2(\"python-dotenv\"))"
   ]
  },
  {
   "cell_type": "code",
   "execution_count": null,
   "id": "0cb04d9b",
   "metadata": {},
   "outputs": [],
   "source": [
    "from typing import List"
   ]
  },
  {
   "cell_type": "code",
   "execution_count": null,
   "id": "71c67dca",
   "metadata": {},
   "outputs": [],
   "source": [
    "class Solution:\n",
    "  def longestPalindromeSubseq(self, s: str) -> int:\n",
    "    # Dp(i, j) := LPS's length in s[i..j]\n",
    "    @functools.lru_cache(None)\n",
    "    def dp(i: int, j: int) -> int:\n",
    "      if i > j:\n",
    "        return 0\n",
    "      if i == j:\n",
    "        return 1\n",
    "      if s[i] == s[j]:\n",
    "        return 2 + dp(i + 1, j - 1)\n",
    "      return max(dp(i + 1, j), dp(i, j - 1))\n",
    "\n",
    "    return dp(0, len(s) - 1)"
   ]
  },
  {
   "cell_type": "code",
   "execution_count": null,
   "id": "9aaa222e",
   "metadata": {},
   "outputs": [],
   "source": [
    "new Solution().longestPalindromeSubseq()"
   ]
  }
 ],
 "metadata": {},
 "nbformat": 4,
 "nbformat_minor": 5
}

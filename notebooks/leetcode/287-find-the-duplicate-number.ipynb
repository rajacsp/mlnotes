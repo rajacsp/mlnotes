{
 "cells": [
  {
   "cell_type": "markdown",
   "id": "39f2aac3",
   "metadata": {},
   "source": [
    "https://leetcode.com/problems/find-the-duplicate-number"
   ]
  },
  {
   "cell_type": "code",
   "execution_count": null,
   "id": "9953eabb",
   "metadata": {},
   "outputs": [],
   "source": [
    "import pyutil as pyu\n",
    "pyu.get_local_pyinfo()"
   ]
  },
  {
   "cell_type": "code",
   "execution_count": null,
   "id": "81dab132",
   "metadata": {},
   "outputs": [],
   "source": [
    "print(pyu.ps2(\"python-dotenv\"))"
   ]
  },
  {
   "cell_type": "code",
   "execution_count": null,
   "id": "5d62e924",
   "metadata": {},
   "outputs": [],
   "source": [
    "from typing import List"
   ]
  },
  {
   "cell_type": "code",
   "execution_count": null,
   "id": "408ed517",
   "metadata": {},
   "outputs": [],
   "source": [
    "class Solution:\n",
    "  def findDuplicate(self, nums: List[int]) -> int:\n",
    "    slow = nums[nums[0]]\n",
    "    fast = nums[nums[nums[0]]]\n",
    "\n",
    "    while slow != fast:\n",
    "      slow = nums[slow]\n",
    "      fast = nums[nums[fast]]\n",
    "\n",
    "    slow = nums[0]\n",
    "\n",
    "    while slow != fast:\n",
    "      slow = nums[slow]\n",
    "      fast = nums[fast]\n",
    "\n",
    "    return slow"
   ]
  },
  {
   "cell_type": "code",
   "execution_count": null,
   "id": "478dc353",
   "metadata": {},
   "outputs": [],
   "source": [
    "new Solution().findDuplicate()"
   ]
  }
 ],
 "metadata": {},
 "nbformat": 4,
 "nbformat_minor": 5
}

{
 "cells": [
  {
   "cell_type": "markdown",
   "id": "ef9061f5",
   "metadata": {},
   "source": [
    "https://leetcode.com/problems/best-time-to-buy-and-sell-stock-iv"
   ]
  },
  {
   "cell_type": "code",
   "execution_count": null,
   "id": "83320a3f",
   "metadata": {},
   "outputs": [],
   "source": [
    "import pyutil as pyu\n",
    "pyu.get_local_pyinfo()"
   ]
  },
  {
   "cell_type": "code",
   "execution_count": null,
   "id": "9e9fcad8",
   "metadata": {},
   "outputs": [],
   "source": [
    "print(pyu.ps2(\"python-dotenv\"))"
   ]
  },
  {
   "cell_type": "code",
   "execution_count": null,
   "id": "c358b96f",
   "metadata": {},
   "outputs": [],
   "source": [
    "from typing import List"
   ]
  },
  {
   "cell_type": "code",
   "execution_count": null,
   "id": "86200ddc",
   "metadata": {},
   "outputs": [],
   "source": [
    "class Solution:\n",
    "  def maxProfit(self, k: int, prices: List[int]) -> int:\n",
    "    if k >= len(prices) // 2:\n",
    "      sell = 0\n",
    "      hold = -math.inf\n",
    "\n",
    "      for price in prices:\n",
    "        sell = max(sell, hold + price)\n",
    "        hold = max(hold, sell - price)\n",
    "\n",
    "      return sell\n",
    "\n",
    "    sell = [0] * (k + 1)\n",
    "    hold = [-math.inf] * (k + 1)\n",
    "\n",
    "    for price in prices:\n",
    "      for i in range(k, 0, -1):\n",
    "        sell[i] = max(sell[i], hold[i] + price)\n",
    "        hold[i] = max(hold[i], sell[i - 1] - price)\n",
    "\n",
    "    return sell[k]"
   ]
  },
  {
   "cell_type": "code",
   "execution_count": null,
   "id": "45f0be45",
   "metadata": {},
   "outputs": [],
   "source": [
    "new Solution().maxProfit()"
   ]
  }
 ],
 "metadata": {},
 "nbformat": 4,
 "nbformat_minor": 5
}

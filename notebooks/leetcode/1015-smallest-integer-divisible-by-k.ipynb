{
 "cells": [
  {
   "cell_type": "markdown",
   "id": "dfed44c7",
   "metadata": {},
   "source": [
    "https://leetcode.com/problems/smallest-integer-divisible-by-k"
   ]
  },
  {
   "cell_type": "code",
   "execution_count": null,
   "id": "c47841a8",
   "metadata": {},
   "outputs": [],
   "source": [
    "import pyutil as pyu\n",
    "pyu.get_local_pyinfo()"
   ]
  },
  {
   "cell_type": "code",
   "execution_count": null,
   "id": "e4eef352",
   "metadata": {},
   "outputs": [],
   "source": [
    "print(pyu.ps2(\"python-dotenv\"))"
   ]
  },
  {
   "cell_type": "code",
   "execution_count": null,
   "id": "a84ed842",
   "metadata": {},
   "outputs": [],
   "source": [
    "from typing import List"
   ]
  },
  {
   "cell_type": "code",
   "execution_count": null,
   "id": "e0b8756f",
   "metadata": {},
   "outputs": [],
   "source": [
    "class Solution:\n",
    "  def smallestRepunitDivByK(self, K: int) -> int:\n",
    "    if K % 10 not in {1, 3, 7, 9}:\n",
    "      return -1\n",
    "\n",
    "    seen = set()\n",
    "    N = 0\n",
    "\n",
    "    for length in range(1, K + 1):\n",
    "      N = (N * 10 + 1) % K\n",
    "      if N == 0:\n",
    "        return length\n",
    "      if N in seen:\n",
    "        return -1\n",
    "      seen.add(N)\n",
    "\n",
    "    return -1"
   ]
  },
  {
   "cell_type": "code",
   "execution_count": null,
   "id": "423fca3f",
   "metadata": {},
   "outputs": [],
   "source": [
    "new Solution().smallestRepunitDivByK()"
   ]
  }
 ],
 "metadata": {},
 "nbformat": 4,
 "nbformat_minor": 5
}

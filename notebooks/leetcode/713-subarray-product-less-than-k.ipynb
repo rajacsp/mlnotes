{
 "cells": [
  {
   "cell_type": "markdown",
   "id": "8985909c",
   "metadata": {},
   "source": [
    "https://leetcode.com/problems/subarray-product-less-than-k"
   ]
  },
  {
   "cell_type": "code",
   "execution_count": null,
   "id": "6e9f81cd",
   "metadata": {},
   "outputs": [],
   "source": [
    "import pyutil as pyu\n",
    "pyu.get_local_pyinfo()"
   ]
  },
  {
   "cell_type": "code",
   "execution_count": null,
   "id": "e2113d1e",
   "metadata": {},
   "outputs": [],
   "source": [
    "print(pyu.ps2(\"python-dotenv\"))"
   ]
  },
  {
   "cell_type": "code",
   "execution_count": null,
   "id": "25817772",
   "metadata": {},
   "outputs": [],
   "source": [
    "from typing import List"
   ]
  },
  {
   "cell_type": "code",
   "execution_count": null,
   "id": "fdee3a25",
   "metadata": {},
   "outputs": [],
   "source": [
    "class Solution:\n",
    "  def numSubarrayProductLessThanK(self, nums: List[int], k: int) -> int:\n",
    "    if k <= 1:\n",
    "      return 0\n",
    "\n",
    "    ans = 0\n",
    "    prod = 1\n",
    "\n",
    "    j = 0\n",
    "    for i, num in enumerate(nums):\n",
    "      prod *= num\n",
    "      while prod >= k:\n",
    "        prod /= nums[j]\n",
    "        j += 1\n",
    "      ans += i - j + 1\n",
    "\n",
    "    return ans"
   ]
  },
  {
   "cell_type": "code",
   "execution_count": null,
   "id": "fac3a356",
   "metadata": {},
   "outputs": [],
   "source": [
    "new Solution().numSubarrayProductLessThanK()"
   ]
  }
 ],
 "metadata": {},
 "nbformat": 4,
 "nbformat_minor": 5
}

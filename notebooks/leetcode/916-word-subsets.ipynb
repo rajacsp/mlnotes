{
 "cells": [
  {
   "cell_type": "markdown",
   "id": "75c76a11",
   "metadata": {},
   "source": [
    "https://leetcode.com/problems/word-subsets"
   ]
  },
  {
   "cell_type": "code",
   "execution_count": null,
   "id": "5e996765",
   "metadata": {},
   "outputs": [],
   "source": [
    "import pyutil as pyu\n",
    "pyu.get_local_pyinfo()"
   ]
  },
  {
   "cell_type": "code",
   "execution_count": null,
   "id": "d9eaf12c",
   "metadata": {},
   "outputs": [],
   "source": [
    "print(pyu.ps2(\"python-dotenv\"))"
   ]
  },
  {
   "cell_type": "code",
   "execution_count": null,
   "id": "f12cd091",
   "metadata": {},
   "outputs": [],
   "source": [
    "from typing import List"
   ]
  },
  {
   "cell_type": "code",
   "execution_count": null,
   "id": "bd6008a5",
   "metadata": {},
   "outputs": [],
   "source": [
    "class Solution:\n",
    "  def wordSubsets(self, A: List[str], B: List[str]) -> List[str]:\n",
    "    count = Counter()\n",
    "\n",
    "    for b in B:\n",
    "      count = count | Counter(b)\n",
    "\n",
    "    return [a for a in A if Counter(a) & count == count]"
   ]
  },
  {
   "cell_type": "code",
   "execution_count": null,
   "id": "a0b7db5b",
   "metadata": {},
   "outputs": [],
   "source": [
    "new Solution().wordSubsets()"
   ]
  }
 ],
 "metadata": {},
 "nbformat": 4,
 "nbformat_minor": 5
}

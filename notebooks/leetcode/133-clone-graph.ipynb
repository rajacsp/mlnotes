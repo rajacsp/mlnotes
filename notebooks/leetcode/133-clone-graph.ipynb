{
 "cells": [
  {
   "cell_type": "markdown",
   "id": "8e527fb2",
   "metadata": {},
   "source": [
    "https://leetcode.com/problems/clone-graph"
   ]
  },
  {
   "cell_type": "code",
   "execution_count": null,
   "id": "9523ceba",
   "metadata": {},
   "outputs": [],
   "source": [
    "import pyutil as pyu\n",
    "pyu.get_local_pyinfo()"
   ]
  },
  {
   "cell_type": "code",
   "execution_count": null,
   "id": "072b0e44",
   "metadata": {},
   "outputs": [],
   "source": [
    "print(pyu.ps2(\"python-dotenv\"))"
   ]
  },
  {
   "cell_type": "code",
   "execution_count": null,
   "id": "a7236136",
   "metadata": {},
   "outputs": [],
   "source": [
    "from typing import List"
   ]
  },
  {
   "cell_type": "code",
   "execution_count": null,
   "id": "11fee110",
   "metadata": {},
   "outputs": [],
   "source": [
    "class Solution:\n",
    "  def cloneGraph(self, node: 'Node') -> 'Node':\n",
    "    if not node:\n",
    "      return None\n",
    "\n",
    "    q = deque([node])\n",
    "    map = {node: Node(node.val)}\n",
    "\n",
    "    while q:\n",
    "      u = q.popleft()\n",
    "      for v in u.neighbors:\n",
    "        if v not in map:\n",
    "          map[v] = Node(v.val)\n",
    "          q.append(v)\n",
    "        map[u].neighbors.append(map[v])\n",
    "\n",
    "    return map[node]"
   ]
  },
  {
   "cell_type": "code",
   "execution_count": null,
   "id": "db551dfc",
   "metadata": {},
   "outputs": [],
   "source": [
    "new Solution().cloneGraph()"
   ]
  }
 ],
 "metadata": {},
 "nbformat": 4,
 "nbformat_minor": 5
}

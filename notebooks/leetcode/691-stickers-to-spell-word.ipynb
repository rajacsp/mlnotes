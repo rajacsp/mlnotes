{
 "cells": [
  {
   "cell_type": "markdown",
   "id": "5166a42b",
   "metadata": {},
   "source": [
    "https://leetcode.com/problems/stickers-to-spell-word"
   ]
  },
  {
   "cell_type": "code",
   "execution_count": null,
   "id": "dfb00552",
   "metadata": {},
   "outputs": [],
   "source": [
    "import pyutil as pyu\n",
    "pyu.get_local_pyinfo()"
   ]
  },
  {
   "cell_type": "code",
   "execution_count": null,
   "id": "56c71a85",
   "metadata": {},
   "outputs": [],
   "source": [
    "print(pyu.ps2(\"python-dotenv\"))"
   ]
  },
  {
   "cell_type": "code",
   "execution_count": null,
   "id": "33850ec6",
   "metadata": {},
   "outputs": [],
   "source": [
    "from typing import List"
   ]
  },
  {
   "cell_type": "code",
   "execution_count": null,
   "id": "80d1d396",
   "metadata": {},
   "outputs": [],
   "source": [
    "class Solution:\n",
    "  def minStickers(self, stickers: List[str], target: str) -> int:\n",
    "    n = len(target)\n",
    "    maxMask = 1 << n\n",
    "    # dp[i] := min # Of stickers to spell out i,\n",
    "    # Where i is the bit representation of target\n",
    "    dp = [math.inf] * maxMask\n",
    "    dp[0] = 0\n",
    "\n",
    "    for mask in range(maxMask):\n",
    "      if dp[mask] == math.inf:\n",
    "        continue\n",
    "      # Try to expand from `mask` by using each sticker\n",
    "      for sticker in stickers:\n",
    "        superMask = mask\n",
    "        for c in sticker:\n",
    "          for i, t in enumerate(target):\n",
    "            # Try to apply it on a missing char\n",
    "            if c == t and not (superMask >> i & 1):\n",
    "              superMask |= 1 << i\n",
    "              break\n",
    "        dp[superMask] = min(dp[superMask], dp[mask] + 1)\n",
    "\n",
    "    return -1 if dp[-1] == math.inf else dp[-1]"
   ]
  },
  {
   "cell_type": "code",
   "execution_count": null,
   "id": "781f7134",
   "metadata": {},
   "outputs": [],
   "source": [
    "new Solution().minStickers()"
   ]
  }
 ],
 "metadata": {},
 "nbformat": 4,
 "nbformat_minor": 5
}

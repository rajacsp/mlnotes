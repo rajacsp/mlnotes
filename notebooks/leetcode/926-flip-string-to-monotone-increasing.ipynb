{
 "cells": [
  {
   "cell_type": "markdown",
   "id": "91ad16e8",
   "metadata": {},
   "source": [
    "https://leetcode.com/problems/flip-string-to-monotone-increasing"
   ]
  },
  {
   "cell_type": "code",
   "execution_count": null,
   "id": "38150fc9",
   "metadata": {},
   "outputs": [],
   "source": [
    "import pyutil as pyu\n",
    "pyu.get_local_pyinfo()"
   ]
  },
  {
   "cell_type": "code",
   "execution_count": null,
   "id": "af4b35c5",
   "metadata": {},
   "outputs": [],
   "source": [
    "print(pyu.ps2(\"python-dotenv\"))"
   ]
  },
  {
   "cell_type": "code",
   "execution_count": null,
   "id": "bb0d3069",
   "metadata": {},
   "outputs": [],
   "source": [
    "from typing import List"
   ]
  },
  {
   "cell_type": "code",
   "execution_count": null,
   "id": "6ed58967",
   "metadata": {},
   "outputs": [],
   "source": [
    "class Solution:\n",
    "  def minFlipsMonoIncr(self, S: str) -> int:\n",
    "    dp = [0] * 2\n",
    "\n",
    "    for i, c in enumerate(S):\n",
    "      dp[0], dp[1] = dp[0] + (c == '1'), min(dp[0], dp[1]) + (c == '0')\n",
    "\n",
    "    return min(dp[0], dp[1])"
   ]
  },
  {
   "cell_type": "code",
   "execution_count": null,
   "id": "0669b13d",
   "metadata": {},
   "outputs": [],
   "source": [
    "new Solution().minFlipsMonoIncr()"
   ]
  }
 ],
 "metadata": {},
 "nbformat": 4,
 "nbformat_minor": 5
}

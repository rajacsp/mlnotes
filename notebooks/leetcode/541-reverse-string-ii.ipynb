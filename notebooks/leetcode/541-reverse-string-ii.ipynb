{
 "cells": [
  {
   "cell_type": "markdown",
   "id": "1b1c20e0",
   "metadata": {},
   "source": [
    "https://leetcode.com/problems/reverse-string-ii"
   ]
  },
  {
   "cell_type": "code",
   "execution_count": null,
   "id": "83a64625",
   "metadata": {},
   "outputs": [],
   "source": [
    "import pyutil as pyu\n",
    "pyu.get_local_pyinfo()"
   ]
  },
  {
   "cell_type": "code",
   "execution_count": null,
   "id": "b616505d",
   "metadata": {},
   "outputs": [],
   "source": [
    "print(pyu.ps2(\"python-dotenv\"))"
   ]
  },
  {
   "cell_type": "code",
   "execution_count": null,
   "id": "6562501f",
   "metadata": {},
   "outputs": [],
   "source": [
    "from typing import List"
   ]
  },
  {
   "cell_type": "code",
   "execution_count": null,
   "id": "d5eaf8da",
   "metadata": {},
   "outputs": [],
   "source": [
    "class Solution:\n",
    "  def reverseStr(self, s: str, k: int) -> str:\n",
    "    return s[:k][::-1] + s[k:2 * k] + self.reverseStr(s[2 * k:], k) if s else \"\""
   ]
  },
  {
   "cell_type": "code",
   "execution_count": null,
   "id": "32df6cc5",
   "metadata": {},
   "outputs": [],
   "source": [
    "new Solution().reverseStr()"
   ]
  }
 ],
 "metadata": {},
 "nbformat": 4,
 "nbformat_minor": 5
}

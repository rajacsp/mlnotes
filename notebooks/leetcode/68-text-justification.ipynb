{
 "cells": [
  {
   "cell_type": "markdown",
   "id": "25d51480",
   "metadata": {},
   "source": [
    "https://leetcode.com/problems/text-justification"
   ]
  },
  {
   "cell_type": "code",
   "execution_count": null,
   "id": "efe2c2e4",
   "metadata": {},
   "outputs": [],
   "source": [
    "import pyutil as pyu\n",
    "pyu.get_local_pyinfo()"
   ]
  },
  {
   "cell_type": "code",
   "execution_count": null,
   "id": "40c7c919",
   "metadata": {},
   "outputs": [],
   "source": [
    "print(pyu.ps2(\"python-dotenv\"))"
   ]
  },
  {
   "cell_type": "code",
   "execution_count": null,
   "id": "583c75b1",
   "metadata": {},
   "outputs": [],
   "source": [
    "from typing import List"
   ]
  },
  {
   "cell_type": "code",
   "execution_count": null,
   "id": "b0d65a37",
   "metadata": {},
   "outputs": [],
   "source": [
    "class Solution:\n",
    "  def fullJustify(self, words: List[str], maxWidth: int) -> List[str]:\n",
    "    ans = []\n",
    "    row = []\n",
    "    rowLetters = 0\n",
    "\n",
    "    for word in words:\n",
    "      if rowLetters + len(word) + len(row) > maxWidth:\n",
    "        for i in range(maxWidth - rowLetters):\n",
    "          row[i % (len(row) - 1 or 1)] += ' '\n",
    "        ans.append(''.join(row))\n",
    "        row = []\n",
    "        rowLetters = 0\n",
    "      row.append(word)\n",
    "      rowLetters += len(word)\n",
    "\n",
    "    return ans + [' '.join(row).ljust(maxWidth)]"
   ]
  },
  {
   "cell_type": "code",
   "execution_count": null,
   "id": "f647dac7",
   "metadata": {},
   "outputs": [],
   "source": [
    "new Solution().fullJustify()"
   ]
  }
 ],
 "metadata": {},
 "nbformat": 4,
 "nbformat_minor": 5
}

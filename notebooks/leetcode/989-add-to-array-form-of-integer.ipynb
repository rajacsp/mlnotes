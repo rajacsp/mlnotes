{
 "cells": [
  {
   "cell_type": "markdown",
   "id": "2405668d",
   "metadata": {},
   "source": [
    "https://leetcode.com/problems/add-to-array-form-of-integer"
   ]
  },
  {
   "cell_type": "code",
   "execution_count": null,
   "id": "f5a4a9fa",
   "metadata": {},
   "outputs": [],
   "source": [
    "import pyutil as pyu\n",
    "pyu.get_local_pyinfo()"
   ]
  },
  {
   "cell_type": "code",
   "execution_count": null,
   "id": "676a6a58",
   "metadata": {},
   "outputs": [],
   "source": [
    "print(pyu.ps2(\"python-dotenv\"))"
   ]
  },
  {
   "cell_type": "code",
   "execution_count": null,
   "id": "b58576fd",
   "metadata": {},
   "outputs": [],
   "source": [
    "from typing import List"
   ]
  },
  {
   "cell_type": "code",
   "execution_count": null,
   "id": "91909227",
   "metadata": {},
   "outputs": [],
   "source": [
    "class Solution:\n",
    "  def addToArrayForm(self, num: List[int], k: int) -> List[int]:\n",
    "    for i in reversed(range(len(num))):\n",
    "      k, num[i] = divmod(num[i] + k, 10)\n",
    "\n",
    "    while k > 0:\n",
    "      num = [k % 10] + num\n",
    "      k //= 10\n",
    "\n",
    "    return num"
   ]
  },
  {
   "cell_type": "code",
   "execution_count": null,
   "id": "4c4a7d4f",
   "metadata": {},
   "outputs": [],
   "source": [
    "new Solution().addToArrayForm()"
   ]
  }
 ],
 "metadata": {},
 "nbformat": 4,
 "nbformat_minor": 5
}

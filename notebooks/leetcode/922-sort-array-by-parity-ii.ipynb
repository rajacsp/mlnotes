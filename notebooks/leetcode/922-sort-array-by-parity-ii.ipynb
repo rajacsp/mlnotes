{
 "cells": [
  {
   "cell_type": "markdown",
   "id": "4aded29d",
   "metadata": {},
   "source": [
    "https://leetcode.com/problems/sort-array-by-parity-ii"
   ]
  },
  {
   "cell_type": "code",
   "execution_count": null,
   "id": "194c2de9",
   "metadata": {},
   "outputs": [],
   "source": [
    "import pyutil as pyu\n",
    "pyu.get_local_pyinfo()"
   ]
  },
  {
   "cell_type": "code",
   "execution_count": null,
   "id": "94ea12b0",
   "metadata": {},
   "outputs": [],
   "source": [
    "print(pyu.ps2(\"python-dotenv\"))"
   ]
  },
  {
   "cell_type": "code",
   "execution_count": null,
   "id": "216478ae",
   "metadata": {},
   "outputs": [],
   "source": [
    "from typing import List"
   ]
  },
  {
   "cell_type": "code",
   "execution_count": null,
   "id": "23a411c4",
   "metadata": {},
   "outputs": [],
   "source": [
    "class Solution:\n",
    "  def sortArrayByParityII(self, A: List[int]) -> List[int]:\n",
    "    n = len(A)\n",
    "\n",
    "    i = 0\n",
    "    j = 1\n",
    "    while i < n:\n",
    "      while i < n and A[i] % 2 == 0:\n",
    "        i += 2\n",
    "      while j < n and A[j] % 2 == 1:\n",
    "        j += 2\n",
    "      if i < n:\n",
    "        A[i], A[j] = A[j], A[i]\n",
    "      i += 2\n",
    "      j += 2\n",
    "\n",
    "    return A"
   ]
  },
  {
   "cell_type": "code",
   "execution_count": null,
   "id": "b535f3c8",
   "metadata": {},
   "outputs": [],
   "source": [
    "new Solution().sortArrayByParityII()"
   ]
  }
 ],
 "metadata": {},
 "nbformat": 4,
 "nbformat_minor": 5
}

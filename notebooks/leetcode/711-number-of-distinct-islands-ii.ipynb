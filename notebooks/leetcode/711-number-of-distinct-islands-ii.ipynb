{
 "cells": [
  {
   "cell_type": "markdown",
   "id": "99a73ecc",
   "metadata": {},
   "source": [
    "https://leetcode.com/problems/number-of-distinct-islands-ii"
   ]
  },
  {
   "cell_type": "code",
   "execution_count": null,
   "id": "7a4ad8d1",
   "metadata": {},
   "outputs": [],
   "source": [
    "import pyutil as pyu\n",
    "pyu.get_local_pyinfo()"
   ]
  },
  {
   "cell_type": "code",
   "execution_count": null,
   "id": "dc969664",
   "metadata": {},
   "outputs": [],
   "source": [
    "print(pyu.ps2(\"python-dotenv\"))"
   ]
  },
  {
   "cell_type": "code",
   "execution_count": null,
   "id": "d554f5aa",
   "metadata": {},
   "outputs": [],
   "source": [
    "from typing import List"
   ]
  },
  {
   "cell_type": "code",
   "execution_count": null,
   "id": "db8bdbcd",
   "metadata": {},
   "outputs": [],
   "source": [
    "class Solution:\n",
    "  def numDistinctIslands2(self, grid: List[List[int]]) -> int:\n",
    "    seen = set()\n",
    "\n",
    "    def dfs(i: int, j: int):\n",
    "      if i < 0 or i == len(grid) or j < 0 or j == len(grid[0]):\n",
    "        return\n",
    "      if grid[i][j] == 0 or (i, j) in seen:\n",
    "        return\n",
    "\n",
    "      seen.add((i, j))\n",
    "      island.append((i, j))\n",
    "      dfs(i + 1, j)\n",
    "      dfs(i - 1, j)\n",
    "      dfs(i, j + 1)\n",
    "      dfs(i, j - 1)\n",
    "\n",
    "    def normalize(island: List[tuple]) -> List[tuple]:\n",
    "      # points[i] := 8 different rotations/reflections of island\n",
    "      points = [[] for _ in range(8)]\n",
    "\n",
    "      for i, j in island:\n",
    "        points[0].append((i, j))\n",
    "        points[1].append((i, -j))\n",
    "        points[2].append((-i, j))\n",
    "        points[3].append((-i, -j))\n",
    "        points[4].append((j, i))\n",
    "        points[5].append((j, -i))\n",
    "        points[6].append((-j, i))\n",
    "        points[7].append((-j, -i))\n",
    "\n",
    "      points = [sorted(p) for p in points]\n",
    "\n",
    "      # Normalize each p by minus p[1:] w/ p[0]\n",
    "      for p in points:\n",
    "        for i in range(1, len(island)):\n",
    "          p[i] = (p[i][0] - p[0][0],\n",
    "                  p[i][1] - p[0][1])\n",
    "        p[0] = (0, 0)\n",
    "\n",
    "      return sorted(points)[0]\n",
    "\n",
    "    islands = set()  # All different shape islands\n",
    "\n",
    "    for i in range(len(grid)):\n",
    "      for j in range(len(grid[0])):\n",
    "        island = []\n",
    "        dfs(i, j)\n",
    "        if island:\n",
    "          islands.add(frozenset(normalize(island)))\n",
    "\n",
    "    return len(islands)"
   ]
  },
  {
   "cell_type": "code",
   "execution_count": null,
   "id": "d0259fcb",
   "metadata": {},
   "outputs": [],
   "source": [
    "new Solution().numDistinctIslands2()"
   ]
  }
 ],
 "metadata": {},
 "nbformat": 4,
 "nbformat_minor": 5
}

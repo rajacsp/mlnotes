{
 "cells": [
  {
   "cell_type": "markdown",
   "id": "f4138ea7",
   "metadata": {},
   "source": [
    "https://leetcode.com/problems/pacific-atlantic-water-flow"
   ]
  },
  {
   "cell_type": "code",
   "execution_count": null,
   "id": "35ff6ff7",
   "metadata": {},
   "outputs": [],
   "source": [
    "import pyutil as pyu\n",
    "pyu.get_local_pyinfo()"
   ]
  },
  {
   "cell_type": "code",
   "execution_count": null,
   "id": "9e05fb16",
   "metadata": {},
   "outputs": [],
   "source": [
    "print(pyu.ps2(\"python-dotenv\"))"
   ]
  },
  {
   "cell_type": "code",
   "execution_count": null,
   "id": "510f5dd0",
   "metadata": {},
   "outputs": [],
   "source": [
    "from typing import List"
   ]
  },
  {
   "cell_type": "code",
   "execution_count": null,
   "id": "52a8f850",
   "metadata": {},
   "outputs": [],
   "source": [
    "class Solution:\n",
    "  def pacificAtlantic(self, heights: List[List[int]]) -> List[List[int]]:\n",
    "    m = len(heights)\n",
    "    n = len(heights[0])\n",
    "    dirs = [0, 1, 0, -1, 0]\n",
    "    qP = deque()\n",
    "    qA = deque()\n",
    "    seenP = [[False] * n for _ in range(m)]\n",
    "    seenA = [[False] * n for _ in range(m)]\n",
    "\n",
    "    for i in range(m):\n",
    "      qP.append((i, 0))\n",
    "      qA.append((i, n - 1))\n",
    "      seenP[i][0] = True\n",
    "      seenA[i][n - 1] = True\n",
    "\n",
    "    for j in range(n):\n",
    "      qP.append((0, j))\n",
    "      qA.append((m - 1, j))\n",
    "      seenP[0][j] = True\n",
    "      seenA[m - 1][j] = True\n",
    "\n",
    "    def bfs(q: deque, seen: List[List[bool]]):\n",
    "      while q:\n",
    "        i, j = q.popleft()\n",
    "        h = heights[i][j]\n",
    "        for k in range(4):\n",
    "          x = i + dirs[k]\n",
    "          y = j + dirs[k + 1]\n",
    "          if x < 0 or x == m or y < 0 or y == n:\n",
    "            continue\n",
    "          if seen[x][y] or heights[x][y] < h:\n",
    "            continue\n",
    "          q.append((x, y))\n",
    "          seen[x][y] = True\n",
    "\n",
    "    bfs(qP, seenP)\n",
    "    bfs(qA, seenA)\n",
    "\n",
    "    return [[i, j] for i in range(m) for j in range(n) if seenP[i][j] and seenA[i][j]]"
   ]
  },
  {
   "cell_type": "code",
   "execution_count": null,
   "id": "b36a2a1c",
   "metadata": {},
   "outputs": [],
   "source": [
    "new Solution().pacificAtlantic()"
   ]
  }
 ],
 "metadata": {},
 "nbformat": 4,
 "nbformat_minor": 5
}

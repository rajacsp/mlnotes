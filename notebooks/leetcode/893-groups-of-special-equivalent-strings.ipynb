{
 "cells": [
  {
   "cell_type": "markdown",
   "id": "09712b26",
   "metadata": {},
   "source": [
    "https://leetcode.com/problems/groups-of-special-equivalent-strings"
   ]
  },
  {
   "cell_type": "code",
   "execution_count": null,
   "id": "e2c3b00a",
   "metadata": {},
   "outputs": [],
   "source": [
    "import pyutil as pyu\n",
    "pyu.get_local_pyinfo()"
   ]
  },
  {
   "cell_type": "code",
   "execution_count": null,
   "id": "d2d5c9d3",
   "metadata": {},
   "outputs": [],
   "source": [
    "print(pyu.ps2(\"python-dotenv\"))"
   ]
  },
  {
   "cell_type": "code",
   "execution_count": null,
   "id": "34e5e63c",
   "metadata": {},
   "outputs": [],
   "source": [
    "from typing import List"
   ]
  },
  {
   "cell_type": "code",
   "execution_count": null,
   "id": "81668193",
   "metadata": {},
   "outputs": [],
   "source": [
    "class Solution:\n",
    "  def numSpecialEquivGroups(self, A: List[str]) -> int:\n",
    "    return len({''.join(sorted(s[::2])) + ''.join(sorted(s[1::2])) for s in A})"
   ]
  },
  {
   "cell_type": "code",
   "execution_count": null,
   "id": "5d26f3df",
   "metadata": {},
   "outputs": [],
   "source": [
    "new Solution().numSpecialEquivGroups()"
   ]
  }
 ],
 "metadata": {},
 "nbformat": 4,
 "nbformat_minor": 5
}

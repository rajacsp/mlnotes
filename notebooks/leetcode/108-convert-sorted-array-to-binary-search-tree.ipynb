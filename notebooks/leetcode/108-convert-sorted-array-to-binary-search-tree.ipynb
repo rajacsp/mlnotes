{
 "cells": [
  {
   "cell_type": "markdown",
   "id": "8c674467",
   "metadata": {},
   "source": [
    "https://leetcode.com/problems/convert-sorted-array-to-binary-search-tree"
   ]
  },
  {
   "cell_type": "code",
   "execution_count": null,
   "id": "69e34b2f",
   "metadata": {},
   "outputs": [],
   "source": [
    "import pyutil as pyu\n",
    "pyu.get_local_pyinfo()"
   ]
  },
  {
   "cell_type": "code",
   "execution_count": null,
   "id": "f62f2a56",
   "metadata": {},
   "outputs": [],
   "source": [
    "print(pyu.ps2(\"python-dotenv\"))"
   ]
  },
  {
   "cell_type": "code",
   "execution_count": null,
   "id": "ae80cd59",
   "metadata": {},
   "outputs": [],
   "source": [
    "from typing import List"
   ]
  },
  {
   "cell_type": "code",
   "execution_count": null,
   "id": "4b623017",
   "metadata": {},
   "outputs": [],
   "source": [
    "class Solution:\n",
    "  def sortedArrayToBST(self, nums: List[int]) -> Optional[TreeNode]:\n",
    "    def build(l: int, r: int) -> Optional[TreeNode]:\n",
    "      if l > r:\n",
    "        return None\n",
    "\n",
    "      m = (l + r) // 2\n",
    "      return TreeNode(nums[m],\n",
    "                      build(l, m - 1),\n",
    "                      build(m + 1, r))\n",
    "\n",
    "    return build(0, len(nums) - 1)"
   ]
  },
  {
   "cell_type": "code",
   "execution_count": null,
   "id": "0d291f37",
   "metadata": {},
   "outputs": [],
   "source": [
    "new Solution().sortedArrayToBST()"
   ]
  }
 ],
 "metadata": {},
 "nbformat": 4,
 "nbformat_minor": 5
}

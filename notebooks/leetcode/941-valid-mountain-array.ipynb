{
 "cells": [
  {
   "cell_type": "markdown",
   "id": "91fb926b",
   "metadata": {},
   "source": [
    "https://leetcode.com/problems/valid-mountain-array"
   ]
  },
  {
   "cell_type": "code",
   "execution_count": null,
   "id": "1aedc3b1",
   "metadata": {},
   "outputs": [],
   "source": [
    "import pyutil as pyu\n",
    "pyu.get_local_pyinfo()"
   ]
  },
  {
   "cell_type": "code",
   "execution_count": null,
   "id": "fb77cd62",
   "metadata": {},
   "outputs": [],
   "source": [
    "print(pyu.ps2(\"python-dotenv\"))"
   ]
  },
  {
   "cell_type": "code",
   "execution_count": null,
   "id": "451ab7a9",
   "metadata": {},
   "outputs": [],
   "source": [
    "from typing import List"
   ]
  },
  {
   "cell_type": "code",
   "execution_count": null,
   "id": "8fcc4305",
   "metadata": {},
   "outputs": [],
   "source": [
    "class Solution:\n",
    "  def validMountainArray(self, A: List[int]) -> bool:\n",
    "    if len(A) < 3:\n",
    "      return False\n",
    "\n",
    "    l = 0\n",
    "    r = len(A) - 1\n",
    "\n",
    "    while l + 1 < len(A) and A[l] < A[l + 1]:\n",
    "      l += 1\n",
    "    while r > 0 and A[r] < A[r - 1]:\n",
    "      r -= 1\n",
    "\n",
    "    return l > 0 and r < len(A) - 1 and l == r"
   ]
  },
  {
   "cell_type": "code",
   "execution_count": null,
   "id": "c25b8211",
   "metadata": {},
   "outputs": [],
   "source": [
    "new Solution().validMountainArray()"
   ]
  }
 ],
 "metadata": {},
 "nbformat": 4,
 "nbformat_minor": 5
}

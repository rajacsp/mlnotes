{
 "cells": [
  {
   "cell_type": "markdown",
   "id": "d96fad4a",
   "metadata": {},
   "source": [
    "https://leetcode.com/problems/maximal-rectangle"
   ]
  },
  {
   "cell_type": "code",
   "execution_count": null,
   "id": "e61d557c",
   "metadata": {},
   "outputs": [],
   "source": [
    "import pyutil as pyu\n",
    "pyu.get_local_pyinfo()"
   ]
  },
  {
   "cell_type": "code",
   "execution_count": null,
   "id": "523ea107",
   "metadata": {},
   "outputs": [],
   "source": [
    "print(pyu.ps2(\"python-dotenv\"))"
   ]
  },
  {
   "cell_type": "code",
   "execution_count": null,
   "id": "ad610dc6",
   "metadata": {},
   "outputs": [],
   "source": [
    "from typing import List"
   ]
  },
  {
   "cell_type": "code",
   "execution_count": null,
   "id": "8173af15",
   "metadata": {},
   "outputs": [],
   "source": [
    "class Solution:\n",
    "  def maximalRectangle(self, matrix: List[List[str]]) -> int:\n",
    "    if not matrix:\n",
    "      return 0\n",
    "\n",
    "    ans = 0\n",
    "    hist = [0] * len(matrix[0])\n",
    "\n",
    "    def largestRectangleArea(heights: List[int]) -> int:\n",
    "      ans = 0\n",
    "      stack = []\n",
    "\n",
    "      for i in range(len(heights) + 1):\n",
    "        while stack and (i == len(heights) or heights[stack[-1]] > heights[i]):\n",
    "          h = heights[stack.pop()]\n",
    "          w = i - stack[-1] - 1 if stack else i\n",
    "          ans = max(ans, h * w)\n",
    "        stack.append(i)\n",
    "\n",
    "      return ans\n",
    "\n",
    "    for row in matrix:\n",
    "      for i, num in enumerate(row):\n",
    "        hist[i] = 0 if num == '0' else hist[i] + 1\n",
    "      ans = max(ans, largestRectangleArea(hist))\n",
    "\n",
    "    return ans"
   ]
  },
  {
   "cell_type": "code",
   "execution_count": null,
   "id": "d6d0dcac",
   "metadata": {},
   "outputs": [],
   "source": [
    "new Solution().maximalRectangle()"
   ]
  }
 ],
 "metadata": {},
 "nbformat": 4,
 "nbformat_minor": 5
}

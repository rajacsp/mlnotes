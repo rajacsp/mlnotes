{
 "cells": [
  {
   "cell_type": "markdown",
   "id": "1807b8c4",
   "metadata": {},
   "source": [
    "https://leetcode.com/problems/valid-boomerang"
   ]
  },
  {
   "cell_type": "code",
   "execution_count": null,
   "id": "2650d022",
   "metadata": {},
   "outputs": [],
   "source": [
    "import pyutil as pyu\n",
    "pyu.get_local_pyinfo()"
   ]
  },
  {
   "cell_type": "code",
   "execution_count": null,
   "id": "57bea1b5",
   "metadata": {},
   "outputs": [],
   "source": [
    "print(pyu.ps2(\"python-dotenv\"))"
   ]
  },
  {
   "cell_type": "code",
   "execution_count": null,
   "id": "835ccd9e",
   "metadata": {},
   "outputs": [],
   "source": [
    "from typing import List"
   ]
  },
  {
   "cell_type": "code",
   "execution_count": null,
   "id": "ef8f97aa",
   "metadata": {},
   "outputs": [],
   "source": [
    "class Solution:\n",
    "  def isBoomerang(self, points: List[List[int]]) -> bool:\n",
    "    return (points[1][0] - points[0][0]) * (points[2][1] - points[1][1]) != \\\n",
    "        (points[1][1] - points[0][1]) * (points[2][0] - points[1][0])"
   ]
  },
  {
   "cell_type": "code",
   "execution_count": null,
   "id": "6d98d39c",
   "metadata": {},
   "outputs": [],
   "source": [
    "new Solution().isBoomerang()"
   ]
  }
 ],
 "metadata": {},
 "nbformat": 4,
 "nbformat_minor": 5
}

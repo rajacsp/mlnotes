{
 "cells": [
  {
   "cell_type": "markdown",
   "id": "bc4e78fd",
   "metadata": {},
   "source": [
    "https://leetcode.com/problems/copy-list-with-random-pointer"
   ]
  },
  {
   "cell_type": "code",
   "execution_count": null,
   "id": "a33728e4",
   "metadata": {},
   "outputs": [],
   "source": [
    "import pyutil as pyu\n",
    "pyu.get_local_pyinfo()"
   ]
  },
  {
   "cell_type": "code",
   "execution_count": null,
   "id": "f97c2967",
   "metadata": {},
   "outputs": [],
   "source": [
    "print(pyu.ps2(\"python-dotenv\"))"
   ]
  },
  {
   "cell_type": "code",
   "execution_count": null,
   "id": "a0e67e3c",
   "metadata": {},
   "outputs": [],
   "source": [
    "from typing import List"
   ]
  },
  {
   "cell_type": "code",
   "execution_count": null,
   "id": "eecf1c1d",
   "metadata": {},
   "outputs": [],
   "source": [
    "class Solution:\n",
    "  def copyRandomList(self, head: 'Node') -> 'Node':\n",
    "    if not head:\n",
    "      return None\n",
    "    if head in self.map:\n",
    "      return self.map[head]\n",
    "\n",
    "    newNode = Node(head.val)\n",
    "    self.map[head] = newNode\n",
    "    newNode.next = self.copyRandomList(head.next)\n",
    "    newNode.random = self.copyRandomList(head.random)\n",
    "    return newNode\n",
    "\n",
    "  map = {}"
   ]
  },
  {
   "cell_type": "code",
   "execution_count": null,
   "id": "ddbd49ec",
   "metadata": {},
   "outputs": [],
   "source": [
    "new Solution().copyRandomList()"
   ]
  }
 ],
 "metadata": {},
 "nbformat": 4,
 "nbformat_minor": 5
}

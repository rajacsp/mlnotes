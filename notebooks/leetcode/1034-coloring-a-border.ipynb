{
 "cells": [
  {
   "cell_type": "markdown",
   "id": "61e0ca84",
   "metadata": {},
   "source": [
    "https://leetcode.com/problems/coloring-a-border"
   ]
  },
  {
   "cell_type": "code",
   "execution_count": null,
   "id": "6bee270c",
   "metadata": {},
   "outputs": [],
   "source": [
    "import pyutil as pyu\n",
    "pyu.get_local_pyinfo()"
   ]
  },
  {
   "cell_type": "code",
   "execution_count": null,
   "id": "ffd031e6",
   "metadata": {},
   "outputs": [],
   "source": [
    "print(pyu.ps2(\"python-dotenv\"))"
   ]
  },
  {
   "cell_type": "code",
   "execution_count": null,
   "id": "d7abfc4d",
   "metadata": {},
   "outputs": [],
   "source": [
    "from typing import List"
   ]
  },
  {
   "cell_type": "code",
   "execution_count": null,
   "id": "fc7a2d1b",
   "metadata": {},
   "outputs": [],
   "source": [
    "class Solution:\n",
    "  def colorBorder(self, grid: List[List[int]], r0: int, c0: int, color: int) -> List[List[int]]:\n",
    "    def dfs(i: int, j: int, originalColor: int) -> None:\n",
    "      if not 0 <= i < len(grid) or not 0 <= j < len(grid[0]) or grid[i][j] != originalColor:\n",
    "        return\n",
    "\n",
    "      grid[i][j] = -originalColor\n",
    "      dfs(i + 1, j, originalColor)\n",
    "      dfs(i - 1, j, originalColor)\n",
    "      dfs(i, j + 1, originalColor)\n",
    "      dfs(i, j - 1, originalColor)\n",
    "\n",
    "      if 0 < i < len(grid) - 1 and 0 < j < len(grid[0]) - 1 and \\\n",
    "              abs(grid[i + 1][j]) == originalColor and \\\n",
    "              abs(grid[i - 1][j]) == originalColor and \\\n",
    "              abs(grid[i][j + 1]) == originalColor and \\\n",
    "              abs(grid[i][j - 1]) == originalColor:\n",
    "        grid[i][j] = originalColor\n",
    "\n",
    "    dfs(r0, c0, grid[r0][c0])\n",
    "\n",
    "    for i in range(len(grid)):\n",
    "      for j in range(len(grid[0])):\n",
    "        if grid[i][j] < 0:\n",
    "          grid[i][j] = color\n",
    "\n",
    "    return grid"
   ]
  },
  {
   "cell_type": "code",
   "execution_count": null,
   "id": "0600c43d",
   "metadata": {},
   "outputs": [],
   "source": [
    "new Solution().colorBorder()"
   ]
  }
 ],
 "metadata": {},
 "nbformat": 4,
 "nbformat_minor": 5
}

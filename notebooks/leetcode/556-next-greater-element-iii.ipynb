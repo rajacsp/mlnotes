{
 "cells": [
  {
   "cell_type": "markdown",
   "id": "e26ec7e2",
   "metadata": {},
   "source": [
    "https://leetcode.com/problems/next-greater-element-iii"
   ]
  },
  {
   "cell_type": "code",
   "execution_count": null,
   "id": "c14f0db3",
   "metadata": {},
   "outputs": [],
   "source": [
    "import pyutil as pyu\n",
    "pyu.get_local_pyinfo()"
   ]
  },
  {
   "cell_type": "code",
   "execution_count": null,
   "id": "aeb8c4f5",
   "metadata": {},
   "outputs": [],
   "source": [
    "print(pyu.ps2(\"python-dotenv\"))"
   ]
  },
  {
   "cell_type": "code",
   "execution_count": null,
   "id": "5566fa50",
   "metadata": {},
   "outputs": [],
   "source": [
    "from typing import List"
   ]
  },
  {
   "cell_type": "code",
   "execution_count": null,
   "id": "f266b9cc",
   "metadata": {},
   "outputs": [],
   "source": [
    "class Solution:\n",
    "  def nextGreaterElement(self, n: int) -> int:\n",
    "    def nextPermutation(s: List[chr]) -> str:\n",
    "      i = len(s) - 2\n",
    "      while i >= 0:\n",
    "        if s[i] < s[i + 1]:\n",
    "          break\n",
    "        i -= 1\n",
    "\n",
    "      if i >= 0:\n",
    "        for j in range(len(s) - 1, i, -1):\n",
    "          if s[j] > s[i]:\n",
    "            break\n",
    "        s[i], s[j] = s[j], s[i]\n",
    "\n",
    "      reverse(s, i + 1, len(s) - 1)\n",
    "      return ''.join(s)\n",
    "\n",
    "    def reverse(s: List[chr], l: int, r: int):\n",
    "      while l < r:\n",
    "        s[l], s[r] = s[r], s[l]\n",
    "        l += 1\n",
    "        r -= 1\n",
    "\n",
    "    s = nextPermutation(list(str(n)))\n",
    "    ans = int(s)\n",
    "    return -1 if ans > 2**31 - 1 or ans <= n else ans"
   ]
  },
  {
   "cell_type": "code",
   "execution_count": null,
   "id": "62868266",
   "metadata": {},
   "outputs": [],
   "source": [
    "new Solution().nextGreaterElement()"
   ]
  }
 ],
 "metadata": {},
 "nbformat": 4,
 "nbformat_minor": 5
}

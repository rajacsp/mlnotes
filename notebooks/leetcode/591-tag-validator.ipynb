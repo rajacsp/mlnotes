{
 "cells": [
  {
   "cell_type": "markdown",
   "id": "e3529cd4",
   "metadata": {},
   "source": [
    "https://leetcode.com/problems/tag-validator"
   ]
  },
  {
   "cell_type": "code",
   "execution_count": null,
   "id": "d2c22387",
   "metadata": {},
   "outputs": [],
   "source": [
    "import pyutil as pyu\n",
    "pyu.get_local_pyinfo()"
   ]
  },
  {
   "cell_type": "code",
   "execution_count": null,
   "id": "1f4a0026",
   "metadata": {},
   "outputs": [],
   "source": [
    "print(pyu.ps2(\"python-dotenv\"))"
   ]
  },
  {
   "cell_type": "code",
   "execution_count": null,
   "id": "96cb3c8b",
   "metadata": {},
   "outputs": [],
   "source": [
    "from typing import List"
   ]
  },
  {
   "cell_type": "code",
   "execution_count": null,
   "id": "c53c7af1",
   "metadata": {},
   "outputs": [],
   "source": [
    "class Solution:\n",
    "  def isValid(self, code: str) -> bool:\n",
    "    if code[0] != '<' or code[-1] != '>':\n",
    "      return False\n",
    "\n",
    "    containsTag = False\n",
    "    stack = []\n",
    "\n",
    "    def isValidCdata(s: str) -> bool:\n",
    "      return s.find('[CDATA[') == 0\n",
    "\n",
    "    def isValidTagName(tagName: str, isEndTag: bool) -> bool:\n",
    "      nonlocal containsTag\n",
    "      if not tagName or len(tagName) > 9:\n",
    "        return False\n",
    "      if any(not c.isupper() for c in tagName):\n",
    "        return False\n",
    "\n",
    "      if isEndTag:\n",
    "        return stack and stack.pop() == tagName\n",
    "\n",
    "      containsTag = True\n",
    "      stack.append(tagName)\n",
    "      return True\n",
    "\n",
    "    i = 0\n",
    "    while i < len(code):\n",
    "      if not stack and containsTag:\n",
    "        return False\n",
    "      if code[i] == '<':\n",
    "        # Inside a tag, so we can check if it's a cdata\n",
    "        if stack and code[i + 1] == '!':\n",
    "          closeIndex = code.find(']]>', i + 2)\n",
    "          if closeIndex == -1 or not isValidCdata(code[i + 2:closeIndex]):\n",
    "            return False\n",
    "        elif code[i + 1] == '/':  # End tag\n",
    "          closeIndex = code.find('>', i + 2)\n",
    "          if closeIndex == -1 or not isValidTagName(code[i + 2:closeIndex], True):\n",
    "            return False\n",
    "        else:  # Start tag\n",
    "          closeIndex = code.find('>', i + 1)\n",
    "          if closeIndex == -1 or not isValidTagName(code[i + 1:closeIndex], False):\n",
    "            return False\n",
    "        i = closeIndex\n",
    "      i += 1\n",
    "\n",
    "    return not stack and containsTag"
   ]
  },
  {
   "cell_type": "code",
   "execution_count": null,
   "id": "fb964aae",
   "metadata": {},
   "outputs": [],
   "source": [
    "new Solution().isValid()"
   ]
  }
 ],
 "metadata": {},
 "nbformat": 4,
 "nbformat_minor": 5
}

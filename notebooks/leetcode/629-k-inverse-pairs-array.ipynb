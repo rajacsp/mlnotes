{
 "cells": [
  {
   "cell_type": "markdown",
   "id": "80fdea77",
   "metadata": {},
   "source": [
    "https://leetcode.com/problems/k-inverse-pairs-array"
   ]
  },
  {
   "cell_type": "code",
   "execution_count": null,
   "id": "3bb1ad1a",
   "metadata": {},
   "outputs": [],
   "source": [
    "import pyutil as pyu\n",
    "pyu.get_local_pyinfo()"
   ]
  },
  {
   "cell_type": "code",
   "execution_count": null,
   "id": "17855df9",
   "metadata": {},
   "outputs": [],
   "source": [
    "print(pyu.ps2(\"python-dotenv\"))"
   ]
  },
  {
   "cell_type": "code",
   "execution_count": null,
   "id": "44b5b47d",
   "metadata": {},
   "outputs": [],
   "source": [
    "from typing import List"
   ]
  },
  {
   "cell_type": "code",
   "execution_count": null,
   "id": "aee3dbd6",
   "metadata": {},
   "outputs": [],
   "source": [
    "class Solution:\n",
    "  def kInversePairs(self, n: int, k: int) -> int:\n",
    "    kMod = 1_000_000_007\n",
    "    # dp[i][j] := # Of permutations of numbers 1..i with j inverse pairs\n",
    "    dp = [[0] * (k + 1) for _ in range(n + 1)]\n",
    "\n",
    "    # If there's no inverse pair, the permutation is unique '123..i'\n",
    "    for i in range(n + 1):\n",
    "      dp[i][0] = 1\n",
    "\n",
    "    for i in range(1, n + 1):\n",
    "      for j in range(1, k + 1):\n",
    "        dp[i][j] = (dp[i][j - 1] + dp[i - 1][j]) % kMod\n",
    "        if j - i >= 0:\n",
    "          dp[i][j] = (dp[i][j] - dp[i - 1][j - i] + kMod) % kMod\n",
    "\n",
    "    return dp[n][k]"
   ]
  },
  {
   "cell_type": "code",
   "execution_count": null,
   "id": "c95555ae",
   "metadata": {},
   "outputs": [],
   "source": [
    "new Solution().kInversePairs()"
   ]
  }
 ],
 "metadata": {},
 "nbformat": 4,
 "nbformat_minor": 5
}

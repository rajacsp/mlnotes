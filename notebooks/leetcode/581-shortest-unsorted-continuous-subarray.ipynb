{
 "cells": [
  {
   "cell_type": "markdown",
   "id": "33664efe",
   "metadata": {},
   "source": [
    "https://leetcode.com/problems/shortest-unsorted-continuous-subarray"
   ]
  },
  {
   "cell_type": "code",
   "execution_count": null,
   "id": "97359bd1",
   "metadata": {},
   "outputs": [],
   "source": [
    "import pyutil as pyu\n",
    "pyu.get_local_pyinfo()"
   ]
  },
  {
   "cell_type": "code",
   "execution_count": null,
   "id": "2ca128d2",
   "metadata": {},
   "outputs": [],
   "source": [
    "print(pyu.ps2(\"python-dotenv\"))"
   ]
  },
  {
   "cell_type": "code",
   "execution_count": null,
   "id": "9ba0742f",
   "metadata": {},
   "outputs": [],
   "source": [
    "from typing import List"
   ]
  },
  {
   "cell_type": "code",
   "execution_count": null,
   "id": "23307cb0",
   "metadata": {},
   "outputs": [],
   "source": [
    "class Solution:\n",
    "  def findUnsortedSubarray(self, nums: List[int]) -> int:\n",
    "    mini = math.inf\n",
    "    maxi = -math.inf\n",
    "    flag = False\n",
    "\n",
    "    for i in range(1, len(nums)):\n",
    "      if nums[i] < nums[i - 1]:\n",
    "        flag = True\n",
    "      if flag:\n",
    "        mini = min(mini, nums[i])\n",
    "\n",
    "    flag = False\n",
    "\n",
    "    for i in reversed(range(len(nums) - 1)):\n",
    "      if nums[i] > nums[i + 1]:\n",
    "        flag = True\n",
    "      if flag:\n",
    "        maxi = max(maxi, nums[i])\n",
    "\n",
    "    for l in range(len(nums)):\n",
    "      if nums[l] > mini:\n",
    "        break\n",
    "\n",
    "    for r, num in reversed(list(enumerate(nums))):\n",
    "      if num < maxi:\n",
    "        break\n",
    "\n",
    "    return 0 if l >= r else r - l + 1"
   ]
  },
  {
   "cell_type": "code",
   "execution_count": null,
   "id": "a97f5711",
   "metadata": {},
   "outputs": [],
   "source": [
    "new Solution().findUnsortedSubarray()"
   ]
  }
 ],
 "metadata": {},
 "nbformat": 4,
 "nbformat_minor": 5
}

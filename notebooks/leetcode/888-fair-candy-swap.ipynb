{
 "cells": [
  {
   "cell_type": "markdown",
   "id": "21585387",
   "metadata": {},
   "source": [
    "https://leetcode.com/problems/fair-candy-swap"
   ]
  },
  {
   "cell_type": "code",
   "execution_count": null,
   "id": "8d9cab79",
   "metadata": {},
   "outputs": [],
   "source": [
    "import pyutil as pyu\n",
    "pyu.get_local_pyinfo()"
   ]
  },
  {
   "cell_type": "code",
   "execution_count": null,
   "id": "cb5986b2",
   "metadata": {},
   "outputs": [],
   "source": [
    "print(pyu.ps2(\"python-dotenv\"))"
   ]
  },
  {
   "cell_type": "code",
   "execution_count": null,
   "id": "674d6a44",
   "metadata": {},
   "outputs": [],
   "source": [
    "from typing import List"
   ]
  },
  {
   "cell_type": "code",
   "execution_count": null,
   "id": "a466e48a",
   "metadata": {},
   "outputs": [],
   "source": [
    "class Solution:\n",
    "  def fairCandySwap(self, A: List[int], B: List[int]) -> List[int]:\n",
    "    diff = (sum(A) - sum(B)) // 2\n",
    "    B = set(B)\n",
    "\n",
    "    for a in A:\n",
    "      if a - diff in B:\n",
    "        return [a, a - diff]"
   ]
  },
  {
   "cell_type": "code",
   "execution_count": null,
   "id": "98ece71b",
   "metadata": {},
   "outputs": [],
   "source": [
    "new Solution().fairCandySwap()"
   ]
  }
 ],
 "metadata": {},
 "nbformat": 4,
 "nbformat_minor": 5
}

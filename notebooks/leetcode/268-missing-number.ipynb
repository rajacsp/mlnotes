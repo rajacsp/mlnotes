{
 "cells": [
  {
   "cell_type": "markdown",
   "id": "cd98e9a7",
   "metadata": {},
   "source": [
    "https://leetcode.com/problems/missing-number"
   ]
  },
  {
   "cell_type": "code",
   "execution_count": null,
   "id": "5c194ca6",
   "metadata": {},
   "outputs": [],
   "source": [
    "import pyutil as pyu\n",
    "pyu.get_local_pyinfo()"
   ]
  },
  {
   "cell_type": "code",
   "execution_count": null,
   "id": "0e29d22c",
   "metadata": {},
   "outputs": [],
   "source": [
    "print(pyu.ps2(\"python-dotenv\"))"
   ]
  },
  {
   "cell_type": "code",
   "execution_count": null,
   "id": "e008ad50",
   "metadata": {},
   "outputs": [],
   "source": [
    "from typing import List"
   ]
  },
  {
   "cell_type": "code",
   "execution_count": null,
   "id": "7d0f3d4b",
   "metadata": {},
   "outputs": [],
   "source": [
    "class Solution:\n",
    "  def missingNumber(self, nums: List[int]) -> int:\n",
    "    ans = len(nums)\n",
    "\n",
    "    for i, num in enumerate(nums):\n",
    "      ans ^= i ^ num\n",
    "\n",
    "    return ans"
   ]
  },
  {
   "cell_type": "code",
   "execution_count": null,
   "id": "ef69527a",
   "metadata": {},
   "outputs": [],
   "source": [
    "new Solution().missingNumber()"
   ]
  }
 ],
 "metadata": {},
 "nbformat": 4,
 "nbformat_minor": 5
}

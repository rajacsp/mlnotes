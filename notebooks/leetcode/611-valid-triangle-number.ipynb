{
 "cells": [
  {
   "cell_type": "markdown",
   "id": "3aec4fff",
   "metadata": {},
   "source": [
    "https://leetcode.com/problems/valid-triangle-number"
   ]
  },
  {
   "cell_type": "code",
   "execution_count": null,
   "id": "e4040d34",
   "metadata": {},
   "outputs": [],
   "source": [
    "import pyutil as pyu\n",
    "pyu.get_local_pyinfo()"
   ]
  },
  {
   "cell_type": "code",
   "execution_count": null,
   "id": "791f59a7",
   "metadata": {},
   "outputs": [],
   "source": [
    "print(pyu.ps2(\"python-dotenv\"))"
   ]
  },
  {
   "cell_type": "code",
   "execution_count": null,
   "id": "faab4813",
   "metadata": {},
   "outputs": [],
   "source": [
    "from typing import List"
   ]
  },
  {
   "cell_type": "code",
   "execution_count": null,
   "id": "7c4cbc02",
   "metadata": {},
   "outputs": [],
   "source": [
    "class Solution:\n",
    "  def triangleNumber(self, nums: List[int]) -> int:\n",
    "    ans = 0\n",
    "\n",
    "    nums.sort()\n",
    "\n",
    "    for k in range(len(nums) - 1, 1, -1):\n",
    "      i = 0\n",
    "      j = k - 1\n",
    "      while i < j:\n",
    "        if nums[i] + nums[j] > nums[k]:\n",
    "          ans += j - i\n",
    "          j -= 1\n",
    "        else:\n",
    "          i += 1\n",
    "\n",
    "    return ans"
   ]
  },
  {
   "cell_type": "code",
   "execution_count": null,
   "id": "b9d534d8",
   "metadata": {},
   "outputs": [],
   "source": [
    "new Solution().triangleNumber()"
   ]
  }
 ],
 "metadata": {},
 "nbformat": 4,
 "nbformat_minor": 5
}

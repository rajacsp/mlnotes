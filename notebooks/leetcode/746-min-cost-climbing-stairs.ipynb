{
 "cells": [
  {
   "cell_type": "markdown",
   "id": "266746bd",
   "metadata": {},
   "source": [
    "https://leetcode.com/problems/min-cost-climbing-stairs"
   ]
  },
  {
   "cell_type": "code",
   "execution_count": null,
   "id": "f272a94a",
   "metadata": {},
   "outputs": [],
   "source": [
    "import pyutil as pyu\n",
    "pyu.get_local_pyinfo()"
   ]
  },
  {
   "cell_type": "code",
   "execution_count": null,
   "id": "21136c94",
   "metadata": {},
   "outputs": [],
   "source": [
    "print(pyu.ps2(\"python-dotenv\"))"
   ]
  },
  {
   "cell_type": "code",
   "execution_count": null,
   "id": "3b8b075c",
   "metadata": {},
   "outputs": [],
   "source": [
    "from typing import List"
   ]
  },
  {
   "cell_type": "code",
   "execution_count": null,
   "id": "acd24c53",
   "metadata": {},
   "outputs": [],
   "source": [
    "class Solution:\n",
    "  def minCostClimbingStairs(self, cost: List[int]) -> int:\n",
    "    cost.append(0)\n",
    "\n",
    "    for i in range(2, len(cost)):\n",
    "      cost[i] += min(cost[i - 1], cost[i - 2])\n",
    "\n",
    "    return cost[-1]"
   ]
  },
  {
   "cell_type": "code",
   "execution_count": null,
   "id": "428c76db",
   "metadata": {},
   "outputs": [],
   "source": [
    "new Solution().minCostClimbingStairs()"
   ]
  }
 ],
 "metadata": {},
 "nbformat": 4,
 "nbformat_minor": 5
}

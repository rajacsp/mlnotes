{
 "cells": [
  {
   "cell_type": "markdown",
   "id": "c7d5c83b",
   "metadata": {},
   "source": [
    "https://leetcode.com/problems/last-stone-weight-ii"
   ]
  },
  {
   "cell_type": "code",
   "execution_count": null,
   "id": "181aeaff",
   "metadata": {},
   "outputs": [],
   "source": [
    "import pyutil as pyu\n",
    "pyu.get_local_pyinfo()"
   ]
  },
  {
   "cell_type": "code",
   "execution_count": null,
   "id": "4125e7b9",
   "metadata": {},
   "outputs": [],
   "source": [
    "print(pyu.ps2(\"python-dotenv\"))"
   ]
  },
  {
   "cell_type": "code",
   "execution_count": null,
   "id": "35b1cca6",
   "metadata": {},
   "outputs": [],
   "source": [
    "from typing import List"
   ]
  },
  {
   "cell_type": "code",
   "execution_count": null,
   "id": "820bb121",
   "metadata": {},
   "outputs": [],
   "source": [
    "class Solution:\n",
    "  def lastStoneWeightII(self, stones: List[int]) -> int:\n",
    "    summ = sum(stones)\n",
    "    s = 0\n",
    "    dp = [True] + [False] * summ\n",
    "\n",
    "    for stone in stones:\n",
    "      for w in range(summ // 2 + 1)[::-1]:\n",
    "        if w >= stone:\n",
    "          dp[w] = dp[w] or dp[w - stone]\n",
    "        if dp[w]:\n",
    "          s = max(s, w)\n",
    "\n",
    "    return summ - 2 * s"
   ]
  },
  {
   "cell_type": "code",
   "execution_count": null,
   "id": "7c4f50d7",
   "metadata": {},
   "outputs": [],
   "source": [
    "new Solution().lastStoneWeightII()"
   ]
  }
 ],
 "metadata": {},
 "nbformat": 4,
 "nbformat_minor": 5
}

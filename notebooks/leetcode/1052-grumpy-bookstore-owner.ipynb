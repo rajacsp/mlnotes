{
 "cells": [
  {
   "cell_type": "markdown",
   "id": "ba330339",
   "metadata": {},
   "source": [
    "https://leetcode.com/problems/grumpy-bookstore-owner"
   ]
  },
  {
   "cell_type": "code",
   "execution_count": null,
   "id": "fe1f772f",
   "metadata": {},
   "outputs": [],
   "source": [
    "import pyutil as pyu\n",
    "pyu.get_local_pyinfo()"
   ]
  },
  {
   "cell_type": "code",
   "execution_count": null,
   "id": "a75883b5",
   "metadata": {},
   "outputs": [],
   "source": [
    "print(pyu.ps2(\"python-dotenv\"))"
   ]
  },
  {
   "cell_type": "code",
   "execution_count": null,
   "id": "b8b90113",
   "metadata": {},
   "outputs": [],
   "source": [
    "from typing import List"
   ]
  },
  {
   "cell_type": "code",
   "execution_count": null,
   "id": "97b94fb3",
   "metadata": {},
   "outputs": [],
   "source": [
    "class Solution:\n",
    "  def maxSatisfied(self, customers: List[int], grumpy: List[int], X: int) -> int:\n",
    "    satisfied = sum(c for i, c in enumerate(customers) if grumpy[i] == 0)\n",
    "    madeSatisfied = 0\n",
    "    windowSatisfied = 0\n",
    "\n",
    "    for i, customer in enumerate(customers):\n",
    "      if grumpy[i] == 1:\n",
    "        windowSatisfied += customer\n",
    "      if i >= X and grumpy[i - X] == 1:\n",
    "        windowSatisfied -= customers[i - X]\n",
    "      madeSatisfied = max(madeSatisfied, windowSatisfied)\n",
    "\n",
    "    return satisfied + madeSatisfied"
   ]
  },
  {
   "cell_type": "code",
   "execution_count": null,
   "id": "0887028b",
   "metadata": {},
   "outputs": [],
   "source": [
    "new Solution().maxSatisfied()"
   ]
  }
 ],
 "metadata": {},
 "nbformat": 4,
 "nbformat_minor": 5
}

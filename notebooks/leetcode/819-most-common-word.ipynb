{
 "cells": [
  {
   "cell_type": "markdown",
   "id": "ac0dc187",
   "metadata": {},
   "source": [
    "https://leetcode.com/problems/most-common-word"
   ]
  },
  {
   "cell_type": "code",
   "execution_count": null,
   "id": "1069dbe1",
   "metadata": {},
   "outputs": [],
   "source": [
    "import pyutil as pyu\n",
    "pyu.get_local_pyinfo()"
   ]
  },
  {
   "cell_type": "code",
   "execution_count": null,
   "id": "23d2d861",
   "metadata": {},
   "outputs": [],
   "source": [
    "print(pyu.ps2(\"python-dotenv\"))"
   ]
  },
  {
   "cell_type": "code",
   "execution_count": null,
   "id": "74ac05df",
   "metadata": {},
   "outputs": [],
   "source": [
    "from typing import List"
   ]
  },
  {
   "cell_type": "code",
   "execution_count": null,
   "id": "1cd14d57",
   "metadata": {},
   "outputs": [],
   "source": [
    "class Solution:\n",
    "  def mostCommonWord(self, paragraph: str, banned: List[str]) -> str:\n",
    "    banned = set(banned)\n",
    "    words = re.findall(r'\\w+', paragraph.lower())\n",
    "    return Counter(word for word in words if word not in banned).most_common(1)[0][0]"
   ]
  },
  {
   "cell_type": "code",
   "execution_count": null,
   "id": "2155b45e",
   "metadata": {},
   "outputs": [],
   "source": [
    "new Solution().mostCommonWord()"
   ]
  }
 ],
 "metadata": {},
 "nbformat": 4,
 "nbformat_minor": 5
}

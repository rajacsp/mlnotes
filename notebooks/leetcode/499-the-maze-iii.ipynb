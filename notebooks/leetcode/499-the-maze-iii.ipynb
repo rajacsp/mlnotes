{
 "cells": [
  {
   "cell_type": "markdown",
   "id": "9a3b856a",
   "metadata": {},
   "source": [
    "https://leetcode.com/problems/the-maze-iii"
   ]
  },
  {
   "cell_type": "code",
   "execution_count": null,
   "id": "970d48a2",
   "metadata": {},
   "outputs": [],
   "source": [
    "import pyutil as pyu\n",
    "pyu.get_local_pyinfo()"
   ]
  },
  {
   "cell_type": "code",
   "execution_count": null,
   "id": "3063790a",
   "metadata": {},
   "outputs": [],
   "source": [
    "print(pyu.ps2(\"python-dotenv\"))"
   ]
  },
  {
   "cell_type": "code",
   "execution_count": null,
   "id": "0640f614",
   "metadata": {},
   "outputs": [],
   "source": [
    "from typing import List"
   ]
  },
  {
   "cell_type": "code",
   "execution_count": null,
   "id": "af376ad0",
   "metadata": {},
   "outputs": [],
   "source": [
    "class Solution:\n",
    "  def findShortestWay(self, maze: List[List[int]], ball: List[int], hole: List[int]) -> str:\n",
    "    ans = \"impossible\"\n",
    "    minSteps = math.inf\n",
    "\n",
    "    def dfs(i: int, j: int, dx: int, dy: int, steps: int, path: str):\n",
    "      nonlocal ans\n",
    "      nonlocal minSteps\n",
    "      if steps >= minSteps:\n",
    "        return\n",
    "\n",
    "      if dx != 0 or dy != 0:  # Both are zero for the initial ball position\n",
    "        while 0 <= i + dx < len(maze) and 0 <= j + dy < len(maze[0]) \\\n",
    "                and maze[i + dx][j + dy] != 1:\n",
    "          i += dx\n",
    "          j += dy\n",
    "          steps += 1\n",
    "          if i == hole[0] and j == hole[1] and steps < minSteps:\n",
    "            minSteps = steps\n",
    "            ans = path\n",
    "\n",
    "      if maze[i][j] == 0 or steps + 2 < maze[i][j]:\n",
    "        maze[i][j] = steps + 2  # +2 to because of maze[i][j] == 0 || 1\n",
    "        if dx == 0:\n",
    "          dfs(i, j, 1, 0, steps, path + 'd')\n",
    "        if dy == 0:\n",
    "          dfs(i, j, 0, -1, steps, path + 'l')\n",
    "        if dy == 0:\n",
    "          dfs(i, j, 0, 1, steps, path + 'r')\n",
    "        if dx == 0:\n",
    "          dfs(i, j, -1, 0, steps, path + 'u')\n",
    "\n",
    "    dfs(ball[0], ball[1], 0, 0, 0, '')\n",
    "    return ans"
   ]
  },
  {
   "cell_type": "code",
   "execution_count": null,
   "id": "c3057bd0",
   "metadata": {},
   "outputs": [],
   "source": [
    "new Solution().findShortestWay()"
   ]
  }
 ],
 "metadata": {},
 "nbformat": 4,
 "nbformat_minor": 5
}

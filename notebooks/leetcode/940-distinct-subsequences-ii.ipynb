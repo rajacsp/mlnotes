{
 "cells": [
  {
   "cell_type": "markdown",
   "id": "2c45458d",
   "metadata": {},
   "source": [
    "https://leetcode.com/problems/distinct-subsequences-ii"
   ]
  },
  {
   "cell_type": "code",
   "execution_count": null,
   "id": "5e12dc7b",
   "metadata": {},
   "outputs": [],
   "source": [
    "import pyutil as pyu\n",
    "pyu.get_local_pyinfo()"
   ]
  },
  {
   "cell_type": "code",
   "execution_count": null,
   "id": "47532f65",
   "metadata": {},
   "outputs": [],
   "source": [
    "print(pyu.ps2(\"python-dotenv\"))"
   ]
  },
  {
   "cell_type": "code",
   "execution_count": null,
   "id": "5f060e2a",
   "metadata": {},
   "outputs": [],
   "source": [
    "from typing import List"
   ]
  },
  {
   "cell_type": "code",
   "execution_count": null,
   "id": "d0e3e6b0",
   "metadata": {},
   "outputs": [],
   "source": [
    "class Solution:\n",
    "  def distinctSubseqII(self, s: str) -> int:\n",
    "    kMod = 1_000_000_007\n",
    "    # endsWith[i] := # Of subseqs ends with 'a' + i\n",
    "    endsWith = [0] * 26\n",
    "\n",
    "    for c in s:\n",
    "      endsWith[ord(c) - ord('a')] = (sum(endsWith) + 1) % kMod\n",
    "\n",
    "    return sum(endsWith) % kMod"
   ]
  },
  {
   "cell_type": "code",
   "execution_count": null,
   "id": "fc1cadfe",
   "metadata": {},
   "outputs": [],
   "source": [
    "new Solution().distinctSubseqII()"
   ]
  }
 ],
 "metadata": {},
 "nbformat": 4,
 "nbformat_minor": 5
}

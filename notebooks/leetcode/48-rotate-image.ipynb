{
 "cells": [
  {
   "cell_type": "markdown",
   "id": "e4b9ce79",
   "metadata": {},
   "source": [
    "https://leetcode.com/problems/rotate-image"
   ]
  },
  {
   "cell_type": "code",
   "execution_count": null,
   "id": "428d3c81",
   "metadata": {},
   "outputs": [],
   "source": [
    "import pyutil as pyu\n",
    "pyu.get_local_pyinfo()"
   ]
  },
  {
   "cell_type": "code",
   "execution_count": null,
   "id": "be122c44",
   "metadata": {},
   "outputs": [],
   "source": [
    "print(pyu.ps2(\"python-dotenv\"))"
   ]
  },
  {
   "cell_type": "code",
   "execution_count": null,
   "id": "9a4bf021",
   "metadata": {},
   "outputs": [],
   "source": [
    "from typing import List"
   ]
  },
  {
   "cell_type": "code",
   "execution_count": null,
   "id": "3ff80d7c",
   "metadata": {},
   "outputs": [],
   "source": [
    "class Solution:\n",
    "  def rotate(self, matrix: List[List[int]]) -> None:\n",
    "    matrix.reverse()\n",
    "\n",
    "    for i in range(len(matrix)):\n",
    "      for j in range(i + 1, len(matrix)):\n",
    "        matrix[i][j], matrix[j][i] = matrix[j][i], matrix[i][j]"
   ]
  },
  {
   "cell_type": "code",
   "execution_count": null,
   "id": "92d5991f",
   "metadata": {},
   "outputs": [],
   "source": [
    "new Solution().rotate()"
   ]
  }
 ],
 "metadata": {},
 "nbformat": 4,
 "nbformat_minor": 5
}

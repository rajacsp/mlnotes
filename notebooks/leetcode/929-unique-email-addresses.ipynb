{
 "cells": [
  {
   "cell_type": "markdown",
   "id": "52b69e5d",
   "metadata": {},
   "source": [
    "https://leetcode.com/problems/unique-email-addresses"
   ]
  },
  {
   "cell_type": "code",
   "execution_count": null,
   "id": "d13052b5",
   "metadata": {},
   "outputs": [],
   "source": [
    "import pyutil as pyu\n",
    "pyu.get_local_pyinfo()"
   ]
  },
  {
   "cell_type": "code",
   "execution_count": null,
   "id": "aecdbad8",
   "metadata": {},
   "outputs": [],
   "source": [
    "print(pyu.ps2(\"python-dotenv\"))"
   ]
  },
  {
   "cell_type": "code",
   "execution_count": null,
   "id": "ecad8374",
   "metadata": {},
   "outputs": [],
   "source": [
    "from typing import List"
   ]
  },
  {
   "cell_type": "code",
   "execution_count": null,
   "id": "01cd48e6",
   "metadata": {},
   "outputs": [],
   "source": [
    "class Solution:\n",
    "  def numUniqueEmails(self, emails: List[str]) -> int:\n",
    "    seen = set()\n",
    "\n",
    "    for email in emails:\n",
    "      local, domain = email.split('@')\n",
    "      local = local.split('+')[0].replace('.', '')\n",
    "      seen.add(local + '@' + domain)\n",
    "\n",
    "    return len(seen)"
   ]
  },
  {
   "cell_type": "code",
   "execution_count": null,
   "id": "2e07d391",
   "metadata": {},
   "outputs": [],
   "source": [
    "new Solution().numUniqueEmails()"
   ]
  }
 ],
 "metadata": {},
 "nbformat": 4,
 "nbformat_minor": 5
}

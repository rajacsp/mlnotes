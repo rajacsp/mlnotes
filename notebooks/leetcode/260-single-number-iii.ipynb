{
 "cells": [
  {
   "cell_type": "markdown",
   "id": "3c78fdea",
   "metadata": {},
   "source": [
    "https://leetcode.com/problems/single-number-iii"
   ]
  },
  {
   "cell_type": "code",
   "execution_count": null,
   "id": "1aef62f9",
   "metadata": {},
   "outputs": [],
   "source": [
    "import pyutil as pyu\n",
    "pyu.get_local_pyinfo()"
   ]
  },
  {
   "cell_type": "code",
   "execution_count": null,
   "id": "1b21fbea",
   "metadata": {},
   "outputs": [],
   "source": [
    "print(pyu.ps2(\"python-dotenv\"))"
   ]
  },
  {
   "cell_type": "code",
   "execution_count": null,
   "id": "cf007584",
   "metadata": {},
   "outputs": [],
   "source": [
    "from typing import List"
   ]
  },
  {
   "cell_type": "code",
   "execution_count": null,
   "id": "a95dceab",
   "metadata": {},
   "outputs": [],
   "source": [
    "class Solution:\n",
    "  def singleNumber(self, nums: List[int]) -> List[int]:\n",
    "    xors = functools.reduce(operator.xor, nums)\n",
    "    lowbit = xors & -xors\n",
    "    ans = [0, 0]\n",
    "\n",
    "    # Seperate nums into two groups by the lowbit\n",
    "    for num in nums:\n",
    "      if num & lowbit:\n",
    "        ans[0] ^= num\n",
    "      else:\n",
    "        ans[1] ^= num\n",
    "\n",
    "    return ans"
   ]
  },
  {
   "cell_type": "code",
   "execution_count": null,
   "id": "93b49f12",
   "metadata": {},
   "outputs": [],
   "source": [
    "new Solution().singleNumber()"
   ]
  }
 ],
 "metadata": {},
 "nbformat": 4,
 "nbformat_minor": 5
}

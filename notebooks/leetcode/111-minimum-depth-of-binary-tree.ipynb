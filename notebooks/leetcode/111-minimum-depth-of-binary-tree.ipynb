{
 "cells": [
  {
   "cell_type": "markdown",
   "id": "43a60039",
   "metadata": {},
   "source": [
    "https://leetcode.com/problems/minimum-depth-of-binary-tree"
   ]
  },
  {
   "cell_type": "code",
   "execution_count": null,
   "id": "153f37d9",
   "metadata": {},
   "outputs": [],
   "source": [
    "import pyutil as pyu\n",
    "pyu.get_local_pyinfo()"
   ]
  },
  {
   "cell_type": "code",
   "execution_count": null,
   "id": "6757ce0b",
   "metadata": {},
   "outputs": [],
   "source": [
    "print(pyu.ps2(\"python-dotenv\"))"
   ]
  },
  {
   "cell_type": "code",
   "execution_count": null,
   "id": "96c39ae4",
   "metadata": {},
   "outputs": [],
   "source": [
    "from typing import List"
   ]
  },
  {
   "cell_type": "code",
   "execution_count": null,
   "id": "6d5fefbd",
   "metadata": {},
   "outputs": [],
   "source": [
    "class Solution:\n",
    "  def minDepth(self, root: Optional[TreeNode]) -> int:\n",
    "    if not root:\n",
    "      return 0\n",
    "    if not root.left:\n",
    "      return self.minDepth(root.right) + 1\n",
    "    if not root.right:\n",
    "      return self.minDepth(root.left) + 1\n",
    "    return min(self.minDepth(root.left), self.minDepth(root.right)) + 1"
   ]
  },
  {
   "cell_type": "code",
   "execution_count": null,
   "id": "86bd209f",
   "metadata": {},
   "outputs": [],
   "source": [
    "new Solution().minDepth()"
   ]
  }
 ],
 "metadata": {},
 "nbformat": 4,
 "nbformat_minor": 5
}

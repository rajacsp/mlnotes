{
 "cells": [
  {
   "cell_type": "markdown",
   "id": "f435ad93",
   "metadata": {},
   "source": [
    "https://leetcode.com/problems/distant-barcodes"
   ]
  },
  {
   "cell_type": "code",
   "execution_count": null,
   "id": "84e438ad",
   "metadata": {},
   "outputs": [],
   "source": [
    "import pyutil as pyu\n",
    "pyu.get_local_pyinfo()"
   ]
  },
  {
   "cell_type": "code",
   "execution_count": null,
   "id": "9481c625",
   "metadata": {},
   "outputs": [],
   "source": [
    "print(pyu.ps2(\"python-dotenv\"))"
   ]
  },
  {
   "cell_type": "code",
   "execution_count": null,
   "id": "5ed61186",
   "metadata": {},
   "outputs": [],
   "source": [
    "from typing import List"
   ]
  },
  {
   "cell_type": "code",
   "execution_count": null,
   "id": "8e2d3c8b",
   "metadata": {},
   "outputs": [],
   "source": [
    "class Solution:\n",
    "  def rearrangeBarcodes(self, barcodes: List[int]) -> List[int]:\n",
    "    ans = [0] * len(barcodes)\n",
    "    count = Counter(barcodes)\n",
    "    i = 0  # ans' index\n",
    "    maxNum = max(count, key=count.get)\n",
    "\n",
    "    def fillAns(num: int) -> None:\n",
    "      nonlocal i\n",
    "      while count[num]:\n",
    "        ans[i] = num\n",
    "        i = i + 2 if i + 2 < len(barcodes) else 1\n",
    "        count[num] -= 1\n",
    "\n",
    "    fillAns(maxNum)\n",
    "    for num in count.keys():\n",
    "      fillAns(num)\n",
    "\n",
    "    return ans"
   ]
  },
  {
   "cell_type": "code",
   "execution_count": null,
   "id": "f9c2141a",
   "metadata": {},
   "outputs": [],
   "source": [
    "new Solution().rearrangeBarcodes()"
   ]
  }
 ],
 "metadata": {},
 "nbformat": 4,
 "nbformat_minor": 5
}

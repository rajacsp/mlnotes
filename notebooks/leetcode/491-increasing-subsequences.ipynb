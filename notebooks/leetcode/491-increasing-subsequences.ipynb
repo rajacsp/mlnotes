{
 "cells": [
  {
   "cell_type": "markdown",
   "id": "fcc3ac99",
   "metadata": {},
   "source": [
    "https://leetcode.com/problems/increasing-subsequences"
   ]
  },
  {
   "cell_type": "code",
   "execution_count": null,
   "id": "ed1a8c18",
   "metadata": {},
   "outputs": [],
   "source": [
    "import pyutil as pyu\n",
    "pyu.get_local_pyinfo()"
   ]
  },
  {
   "cell_type": "code",
   "execution_count": null,
   "id": "24b43fd7",
   "metadata": {},
   "outputs": [],
   "source": [
    "print(pyu.ps2(\"python-dotenv\"))"
   ]
  },
  {
   "cell_type": "code",
   "execution_count": null,
   "id": "fcb7476f",
   "metadata": {},
   "outputs": [],
   "source": [
    "from typing import List"
   ]
  },
  {
   "cell_type": "code",
   "execution_count": null,
   "id": "af469749",
   "metadata": {},
   "outputs": [],
   "source": [
    "class Solution:\n",
    "  def findSubsequences(self, nums: List[int]) -> List[List[int]]:\n",
    "    ans = []\n",
    "\n",
    "    def dfs(s: int, path: List[int]) -> None:\n",
    "      if len(path) > 1:\n",
    "        ans.append(path)\n",
    "\n",
    "      used = set()\n",
    "\n",
    "      for i in range(s, len(nums)):\n",
    "        if nums[i] in used:\n",
    "          continue\n",
    "        if not path or nums[i] >= path[-1]:\n",
    "          used.add(nums[i])\n",
    "          dfs(i + 1, path + [nums[i]])\n",
    "\n",
    "    dfs(0, [])\n",
    "    return ans"
   ]
  },
  {
   "cell_type": "code",
   "execution_count": null,
   "id": "875ed85a",
   "metadata": {},
   "outputs": [],
   "source": [
    "new Solution().findSubsequences()"
   ]
  }
 ],
 "metadata": {},
 "nbformat": 4,
 "nbformat_minor": 5
}

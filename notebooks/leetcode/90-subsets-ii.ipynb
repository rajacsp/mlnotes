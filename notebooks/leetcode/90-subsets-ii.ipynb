{
 "cells": [
  {
   "cell_type": "markdown",
   "id": "1c1ab8f9",
   "metadata": {},
   "source": [
    "https://leetcode.com/problems/subsets-ii"
   ]
  },
  {
   "cell_type": "code",
   "execution_count": null,
   "id": "454c99c4",
   "metadata": {},
   "outputs": [],
   "source": [
    "import pyutil as pyu\n",
    "pyu.get_local_pyinfo()"
   ]
  },
  {
   "cell_type": "code",
   "execution_count": null,
   "id": "a863424d",
   "metadata": {},
   "outputs": [],
   "source": [
    "print(pyu.ps2(\"python-dotenv\"))"
   ]
  },
  {
   "cell_type": "code",
   "execution_count": null,
   "id": "314e0495",
   "metadata": {},
   "outputs": [],
   "source": [
    "from typing import List"
   ]
  },
  {
   "cell_type": "code",
   "execution_count": null,
   "id": "86ea2f48",
   "metadata": {},
   "outputs": [],
   "source": [
    "class Solution:\n",
    "  def subsetsWithDup(self, nums: List[int]) -> List[List[int]]:\n",
    "    ans = []\n",
    "\n",
    "    def dfs(s: int, path: List[int]) -> None:\n",
    "      ans.append(path)\n",
    "      if s == len(nums):\n",
    "        return\n",
    "\n",
    "      for i in range(s, len(nums)):\n",
    "        if i > s and nums[i] == nums[i - 1]:\n",
    "          continue\n",
    "        dfs(i + 1, path + [nums[i]])\n",
    "\n",
    "    nums.sort()\n",
    "    dfs(0, [])\n",
    "    return ans"
   ]
  },
  {
   "cell_type": "code",
   "execution_count": null,
   "id": "f6c295b9",
   "metadata": {},
   "outputs": [],
   "source": [
    "new Solution().subsetsWithDup()"
   ]
  }
 ],
 "metadata": {},
 "nbformat": 4,
 "nbformat_minor": 5
}

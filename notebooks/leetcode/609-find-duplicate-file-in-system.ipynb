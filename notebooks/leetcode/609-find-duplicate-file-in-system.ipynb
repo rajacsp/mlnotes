{
 "cells": [
  {
   "cell_type": "markdown",
   "id": "96ee1489",
   "metadata": {},
   "source": [
    "https://leetcode.com/problems/find-duplicate-file-in-system"
   ]
  },
  {
   "cell_type": "code",
   "execution_count": null,
   "id": "e8235bfe",
   "metadata": {},
   "outputs": [],
   "source": [
    "import pyutil as pyu\n",
    "pyu.get_local_pyinfo()"
   ]
  },
  {
   "cell_type": "code",
   "execution_count": null,
   "id": "43f7879d",
   "metadata": {},
   "outputs": [],
   "source": [
    "print(pyu.ps2(\"python-dotenv\"))"
   ]
  },
  {
   "cell_type": "code",
   "execution_count": null,
   "id": "421e1ab6",
   "metadata": {},
   "outputs": [],
   "source": [
    "from typing import List"
   ]
  },
  {
   "cell_type": "code",
   "execution_count": null,
   "id": "b88bf086",
   "metadata": {},
   "outputs": [],
   "source": [
    "class Solution:\n",
    "  def findDuplicate(self, paths: List[str]) -> List[List[str]]:\n",
    "    contentToPathFiles = defaultdict(list)\n",
    "\n",
    "    for path in paths:\n",
    "      words = path.split(' ')\n",
    "      rootPath = words[0]  # \"root/d1/d2/.../dm\"\n",
    "      for fileAndContent in words[1:]:  # \"fn.txt(fn_content)\"\n",
    "        l = fileAndContent.find('(')\n",
    "        r = fileAndContent.find(')')\n",
    "        # \"fn.txt\"\n",
    "        file = fileAndContent[:l]\n",
    "        # \"fn_content\"\n",
    "        content = fileAndContent[l + 1:r]\n",
    "        # \"root/d1/d2/.../dm/fn.txt\"\n",
    "        filePath = rootPath + '/' + file\n",
    "        contentToPathFiles[content].append(filePath)\n",
    "\n",
    "    return [filePath for filePath in contentToPathFiles.values() if len(filePath) > 1]"
   ]
  },
  {
   "cell_type": "code",
   "execution_count": null,
   "id": "acf5cd95",
   "metadata": {},
   "outputs": [],
   "source": [
    "new Solution().findDuplicate()"
   ]
  }
 ],
 "metadata": {},
 "nbformat": 4,
 "nbformat_minor": 5
}

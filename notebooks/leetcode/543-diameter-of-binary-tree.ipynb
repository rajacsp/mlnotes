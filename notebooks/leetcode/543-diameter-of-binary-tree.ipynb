{
 "cells": [
  {
   "cell_type": "markdown",
   "id": "30a034d1",
   "metadata": {},
   "source": [
    "https://leetcode.com/problems/diameter-of-binary-tree"
   ]
  },
  {
   "cell_type": "code",
   "execution_count": null,
   "id": "63ce0272",
   "metadata": {},
   "outputs": [],
   "source": [
    "import pyutil as pyu\n",
    "pyu.get_local_pyinfo()"
   ]
  },
  {
   "cell_type": "code",
   "execution_count": null,
   "id": "e0c9155c",
   "metadata": {},
   "outputs": [],
   "source": [
    "print(pyu.ps2(\"python-dotenv\"))"
   ]
  },
  {
   "cell_type": "code",
   "execution_count": null,
   "id": "9ea2ca0e",
   "metadata": {},
   "outputs": [],
   "source": [
    "from typing import List"
   ]
  },
  {
   "cell_type": "code",
   "execution_count": null,
   "id": "5a39ab1f",
   "metadata": {},
   "outputs": [],
   "source": [
    "class Solution:\n",
    "  def diameterOfBinaryTree(self, root: Optional[TreeNode]) -> int:\n",
    "    ans = 0\n",
    "\n",
    "    def maxDepth(root: Optional[TreeNode]) -> int:\n",
    "      nonlocal ans\n",
    "      if not root:\n",
    "        return 0\n",
    "\n",
    "      l = maxDepth(root.left)\n",
    "      r = maxDepth(root.right)\n",
    "      ans = max(ans, l + r)\n",
    "      return 1 + max(l, r)\n",
    "\n",
    "    maxDepth(root)\n",
    "    return ans"
   ]
  },
  {
   "cell_type": "code",
   "execution_count": null,
   "id": "58eae15d",
   "metadata": {},
   "outputs": [],
   "source": [
    "new Solution().diameterOfBinaryTree()"
   ]
  }
 ],
 "metadata": {},
 "nbformat": 4,
 "nbformat_minor": 5
}

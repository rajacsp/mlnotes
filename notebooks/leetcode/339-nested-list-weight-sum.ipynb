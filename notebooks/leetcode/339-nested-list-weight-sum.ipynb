{
 "cells": [
  {
   "cell_type": "markdown",
   "id": "2c7baf3a",
   "metadata": {},
   "source": [
    "https://leetcode.com/problems/nested-list-weight-sum"
   ]
  },
  {
   "cell_type": "code",
   "execution_count": null,
   "id": "3077ad6c",
   "metadata": {},
   "outputs": [],
   "source": [
    "import pyutil as pyu\n",
    "pyu.get_local_pyinfo()"
   ]
  },
  {
   "cell_type": "code",
   "execution_count": null,
   "id": "272663f7",
   "metadata": {},
   "outputs": [],
   "source": [
    "print(pyu.ps2(\"python-dotenv\"))"
   ]
  },
  {
   "cell_type": "code",
   "execution_count": null,
   "id": "5cd52ab0",
   "metadata": {},
   "outputs": [],
   "source": [
    "from typing import List"
   ]
  },
  {
   "cell_type": "code",
   "execution_count": null,
   "id": "8dde5f73",
   "metadata": {},
   "outputs": [],
   "source": [
    "class Solution:\n",
    "  def depthSum(self, nestedList: List[NestedInteger]) -> int:\n",
    "    ans = 0\n",
    "    depth = 0\n",
    "    q = deque()\n",
    "\n",
    "    def addIntegers(nestedList: List[NestedInteger]) -> None:\n",
    "      for ni in nestedList:\n",
    "        q.append(ni)\n",
    "\n",
    "    addIntegers(nestedList)\n",
    "\n",
    "    while q:\n",
    "      depth += 1\n",
    "      for _ in range(len(q)):\n",
    "        ni = q.popleft()\n",
    "        if ni.isInteger():\n",
    "          ans += ni.getInteger() * depth\n",
    "        else:\n",
    "          addIntegers(ni.getList())\n",
    "\n",
    "    return ans"
   ]
  },
  {
   "cell_type": "code",
   "execution_count": null,
   "id": "e8c96ade",
   "metadata": {},
   "outputs": [],
   "source": [
    "new Solution().depthSum()"
   ]
  }
 ],
 "metadata": {},
 "nbformat": 4,
 "nbformat_minor": 5
}

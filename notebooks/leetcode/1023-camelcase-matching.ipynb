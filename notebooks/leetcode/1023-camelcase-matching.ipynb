{
 "cells": [
  {
   "cell_type": "markdown",
   "id": "e58eb313",
   "metadata": {},
   "source": [
    "https://leetcode.com/problems/camelcase-matching"
   ]
  },
  {
   "cell_type": "code",
   "execution_count": null,
   "id": "e11d556d",
   "metadata": {},
   "outputs": [],
   "source": [
    "import pyutil as pyu\n",
    "pyu.get_local_pyinfo()"
   ]
  },
  {
   "cell_type": "code",
   "execution_count": null,
   "id": "482346d3",
   "metadata": {},
   "outputs": [],
   "source": [
    "print(pyu.ps2(\"python-dotenv\"))"
   ]
  },
  {
   "cell_type": "code",
   "execution_count": null,
   "id": "f92ceec7",
   "metadata": {},
   "outputs": [],
   "source": [
    "from typing import List"
   ]
  },
  {
   "cell_type": "code",
   "execution_count": null,
   "id": "f70e037f",
   "metadata": {},
   "outputs": [],
   "source": [
    "class Solution:\n",
    "  def camelMatch(self, queries: List[str], pattern: str) -> List[bool]:\n",
    "    def isMatch(q: str) -> bool:\n",
    "      j = 0\n",
    "\n",
    "      for i, c in enumerate(q):\n",
    "        if j < len(pattern) and c == pattern[j]:\n",
    "          j += 1\n",
    "        elif c.isupper():\n",
    "          return False\n",
    "\n",
    "      return j == len(pattern)\n",
    "\n",
    "    return [isMatch(q) for q in queries]"
   ]
  },
  {
   "cell_type": "code",
   "execution_count": null,
   "id": "6c35109b",
   "metadata": {},
   "outputs": [],
   "source": [
    "new Solution().camelMatch()"
   ]
  }
 ],
 "metadata": {},
 "nbformat": 4,
 "nbformat_minor": 5
}

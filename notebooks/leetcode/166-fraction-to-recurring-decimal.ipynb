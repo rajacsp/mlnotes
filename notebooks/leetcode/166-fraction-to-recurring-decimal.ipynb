{
 "cells": [
  {
   "cell_type": "markdown",
   "id": "0ced72f0",
   "metadata": {},
   "source": [
    "https://leetcode.com/problems/fraction-to-recurring-decimal"
   ]
  },
  {
   "cell_type": "code",
   "execution_count": null,
   "id": "bcc1423f",
   "metadata": {},
   "outputs": [],
   "source": [
    "import pyutil as pyu\n",
    "pyu.get_local_pyinfo()"
   ]
  },
  {
   "cell_type": "code",
   "execution_count": null,
   "id": "ecbf153c",
   "metadata": {},
   "outputs": [],
   "source": [
    "print(pyu.ps2(\"python-dotenv\"))"
   ]
  },
  {
   "cell_type": "code",
   "execution_count": null,
   "id": "b9e223f2",
   "metadata": {},
   "outputs": [],
   "source": [
    "from typing import List"
   ]
  },
  {
   "cell_type": "code",
   "execution_count": null,
   "id": "df99149c",
   "metadata": {},
   "outputs": [],
   "source": [
    "class Solution:\n",
    "  def fractionToDecimal(self, numerator: int, denominator: int) -> str:\n",
    "    if numerator == 0:\n",
    "      return '0'\n",
    "\n",
    "    ans = ''\n",
    "\n",
    "    if (numerator < 0) ^ (denominator < 0):\n",
    "      ans += '-'\n",
    "\n",
    "    numerator = abs(numerator)\n",
    "    denominator = abs(denominator)\n",
    "    ans += str(numerator // denominator)\n",
    "\n",
    "    if numerator % denominator == 0:\n",
    "      return ans\n",
    "\n",
    "    ans += '.'\n",
    "    dict = {}\n",
    "\n",
    "    remainder = numerator % denominator\n",
    "    while remainder:\n",
    "      if remainder in dict:\n",
    "        ans = ans[:dict[remainder]] + '(' + ans[dict[remainder]:] + ')'\n",
    "        break\n",
    "      dict[remainder] = len(ans)\n",
    "      remainder *= 10\n",
    "      ans += str(remainder // denominator)\n",
    "      remainder %= denominator\n",
    "\n",
    "    return ans"
   ]
  },
  {
   "cell_type": "code",
   "execution_count": null,
   "id": "acd09c01",
   "metadata": {},
   "outputs": [],
   "source": [
    "new Solution().fractionToDecimal()"
   ]
  }
 ],
 "metadata": {},
 "nbformat": 4,
 "nbformat_minor": 5
}

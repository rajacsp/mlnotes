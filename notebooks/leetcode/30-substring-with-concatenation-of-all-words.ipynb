{
 "cells": [
  {
   "cell_type": "markdown",
   "id": "0ece25ac",
   "metadata": {},
   "source": [
    "https://leetcode.com/problems/substring-with-concatenation-of-all-words"
   ]
  },
  {
   "cell_type": "code",
   "execution_count": null,
   "id": "8c88f649",
   "metadata": {},
   "outputs": [],
   "source": [
    "import pyutil as pyu\n",
    "pyu.get_local_pyinfo()"
   ]
  },
  {
   "cell_type": "code",
   "execution_count": null,
   "id": "e79c9df0",
   "metadata": {},
   "outputs": [],
   "source": [
    "print(pyu.ps2(\"python-dotenv\"))"
   ]
  },
  {
   "cell_type": "code",
   "execution_count": null,
   "id": "00f81607",
   "metadata": {},
   "outputs": [],
   "source": [
    "from typing import List"
   ]
  },
  {
   "cell_type": "code",
   "execution_count": null,
   "id": "7fce1607",
   "metadata": {},
   "outputs": [],
   "source": [
    "class Solution:\n",
    "  def findSubstring(self, s: str, words: List[str]) -> List[int]:\n",
    "    if len(s) == 0 or words == []:\n",
    "      return []\n",
    "\n",
    "    k = len(words)\n",
    "    n = len(words[0])\n",
    "    ans = []\n",
    "    count = Counter(words)\n",
    "\n",
    "    for i in range(len(s) - k * n + 1):\n",
    "      seen = defaultdict(int)\n",
    "      j = 0\n",
    "      while j < k:\n",
    "        word = s[i + j * n: i + j * n + n]\n",
    "        seen[word] += 1\n",
    "        if seen[word] > count[word]:\n",
    "          break\n",
    "        j += 1\n",
    "      if j == k:\n",
    "        ans.append(i)\n",
    "\n",
    "    return ans"
   ]
  },
  {
   "cell_type": "code",
   "execution_count": null,
   "id": "8cc527da",
   "metadata": {},
   "outputs": [],
   "source": [
    "new Solution().findSubstring()"
   ]
  }
 ],
 "metadata": {},
 "nbformat": 4,
 "nbformat_minor": 5
}

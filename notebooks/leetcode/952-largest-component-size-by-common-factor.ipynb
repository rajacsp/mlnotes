{
 "cells": [
  {
   "cell_type": "markdown",
   "id": "a276be48",
   "metadata": {},
   "source": [
    "https://leetcode.com/problems/largest-component-size-by-common-factor"
   ]
  },
  {
   "cell_type": "code",
   "execution_count": null,
   "id": "81c030f3",
   "metadata": {},
   "outputs": [],
   "source": [
    "import pyutil as pyu\n",
    "pyu.get_local_pyinfo()"
   ]
  },
  {
   "cell_type": "code",
   "execution_count": null,
   "id": "68f91b59",
   "metadata": {},
   "outputs": [],
   "source": [
    "print(pyu.ps2(\"python-dotenv\"))"
   ]
  },
  {
   "cell_type": "code",
   "execution_count": null,
   "id": "1bd9450b",
   "metadata": {},
   "outputs": [],
   "source": [
    "from typing import List"
   ]
  },
  {
   "cell_type": "code",
   "execution_count": null,
   "id": "9282c2ee",
   "metadata": {},
   "outputs": [],
   "source": [
    "class UnionFind:\n",
    "  def __init__(self, n: int):\n",
    "    self.id = [i for i in range(n + 1)]\n",
    "\n",
    "  def union(self, u: int, v: int) -> bool:\n",
    "    i = self.find(u)\n",
    "    j = self.find(v)\n",
    "    if i == j:\n",
    "      return False\n",
    "    self.id[i] = j\n",
    "    return True\n",
    "\n",
    "  def find(self, u: int) -> int:\n",
    "    if self.id[u] != u:\n",
    "      self.id[u] = self.find(self.id[u])\n",
    "    return self.id[u]\n",
    "\n",
    "\n",
    "class Solution:\n",
    "  def largestComponentSize(self, A: List[int]) -> int:\n",
    "    ans = 0\n",
    "    uf = UnionFind(max(A))\n",
    "    count = Counter()\n",
    "\n",
    "    for a in A:\n",
    "      for num in range(2, int(sqrt(a) + 1)):\n",
    "        if a % num == 0:\n",
    "          uf.union(a, num)\n",
    "          uf.union(a, a // num)\n",
    "\n",
    "    for a in A:\n",
    "      pa = uf.find(a)\n",
    "      count[pa] += 1\n",
    "      ans = max(ans, count[pa])\n",
    "\n",
    "    return ans"
   ]
  },
  {
   "cell_type": "code",
   "execution_count": null,
   "id": "4b603678",
   "metadata": {},
   "outputs": [],
   "source": [
    "new Solution().largestComponentSize()"
   ]
  }
 ],
 "metadata": {},
 "nbformat": 4,
 "nbformat_minor": 5
}

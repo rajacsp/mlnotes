{
 "cells": [
  {
   "cell_type": "markdown",
   "id": "57a89a48",
   "metadata": {},
   "source": [
    "https://leetcode.com/problems/path-sum-iv"
   ]
  },
  {
   "cell_type": "code",
   "execution_count": null,
   "id": "f0f5b7d9",
   "metadata": {},
   "outputs": [],
   "source": [
    "import pyutil as pyu\n",
    "pyu.get_local_pyinfo()"
   ]
  },
  {
   "cell_type": "code",
   "execution_count": null,
   "id": "c812d07d",
   "metadata": {},
   "outputs": [],
   "source": [
    "print(pyu.ps2(\"python-dotenv\"))"
   ]
  },
  {
   "cell_type": "code",
   "execution_count": null,
   "id": "2da63ba8",
   "metadata": {},
   "outputs": [],
   "source": [
    "from typing import List"
   ]
  },
  {
   "cell_type": "code",
   "execution_count": null,
   "id": "86a5bb05",
   "metadata": {},
   "outputs": [],
   "source": [
    "class Solution:\n",
    "  def pathSum(self, nums: List[int]) -> int:\n",
    "    ans = 0\n",
    "    tree = [[-1] * 8 for _ in range(4)]\n",
    "\n",
    "    for num in nums:\n",
    "      d = num // 100 - 1\n",
    "      p = (num % 100) // 10 - 1\n",
    "      v = num % 10\n",
    "      tree[d][p] = v\n",
    "\n",
    "    def dfs(i: int, j: int, path: int) -> None:\n",
    "      nonlocal ans\n",
    "      if tree[i][j] == -1:\n",
    "        return\n",
    "      if i == 3 or max(tree[i + 1][j * 2], tree[i + 1][j * 2 + 1]) == -1:\n",
    "        ans += path + tree[i][j]\n",
    "        return\n",
    "\n",
    "      dfs(i + 1, j * 2, path + tree[i][j])\n",
    "      dfs(i + 1, j * 2 + 1, path + tree[i][j])\n",
    "\n",
    "    dfs(0, 0, 0)\n",
    "    return ans"
   ]
  },
  {
   "cell_type": "code",
   "execution_count": null,
   "id": "963cc762",
   "metadata": {},
   "outputs": [],
   "source": [
    "new Solution().pathSum()"
   ]
  }
 ],
 "metadata": {},
 "nbformat": 4,
 "nbformat_minor": 5
}

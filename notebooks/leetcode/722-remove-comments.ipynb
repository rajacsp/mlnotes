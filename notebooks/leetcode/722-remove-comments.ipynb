{
 "cells": [
  {
   "cell_type": "markdown",
   "id": "41559462",
   "metadata": {},
   "source": [
    "https://leetcode.com/problems/remove-comments"
   ]
  },
  {
   "cell_type": "code",
   "execution_count": null,
   "id": "5443f063",
   "metadata": {},
   "outputs": [],
   "source": [
    "import pyutil as pyu\n",
    "pyu.get_local_pyinfo()"
   ]
  },
  {
   "cell_type": "code",
   "execution_count": null,
   "id": "4b2986b6",
   "metadata": {},
   "outputs": [],
   "source": [
    "print(pyu.ps2(\"python-dotenv\"))"
   ]
  },
  {
   "cell_type": "code",
   "execution_count": null,
   "id": "be30f42a",
   "metadata": {},
   "outputs": [],
   "source": [
    "from typing import List"
   ]
  },
  {
   "cell_type": "code",
   "execution_count": null,
   "id": "e747c782",
   "metadata": {},
   "outputs": [],
   "source": [
    "class Solution:\n",
    "  def removeComments(self, source: List[str]) -> List[str]:\n",
    "    ans = []\n",
    "    commenting = False\n",
    "    modified = ''\n",
    "\n",
    "    for line in source:\n",
    "      i = 0\n",
    "      while i < len(line):\n",
    "        if i + 1 == len(line):\n",
    "          if not commenting:\n",
    "            modified += line[i]\n",
    "          i += 1\n",
    "          break\n",
    "        twoChars = line[i:i + 2]\n",
    "        if twoChars == '/*' and not commenting:\n",
    "          commenting = True\n",
    "          i += 2\n",
    "        elif twoChars == '*/' and commenting:\n",
    "          commenting = False\n",
    "          i += 2\n",
    "        elif twoChars == '//':\n",
    "          if not commenting:\n",
    "            break\n",
    "          else:\n",
    "            i += 2\n",
    "        else:\n",
    "          if not commenting:\n",
    "            modified += line[i]\n",
    "          i += 1\n",
    "      if modified and not commenting:\n",
    "        ans.append(modified)\n",
    "        modified = ''\n",
    "\n",
    "    return ans"
   ]
  },
  {
   "cell_type": "code",
   "execution_count": null,
   "id": "ab2cd723",
   "metadata": {},
   "outputs": [],
   "source": [
    "new Solution().removeComments()"
   ]
  }
 ],
 "metadata": {},
 "nbformat": 4,
 "nbformat_minor": 5
}

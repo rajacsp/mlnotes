{
 "cells": [
  {
   "cell_type": "markdown",
   "id": "ed234e99",
   "metadata": {},
   "source": [
    "https://leetcode.com/problems/target-sum"
   ]
  },
  {
   "cell_type": "code",
   "execution_count": null,
   "id": "a8ec6201",
   "metadata": {},
   "outputs": [],
   "source": [
    "import pyutil as pyu\n",
    "pyu.get_local_pyinfo()"
   ]
  },
  {
   "cell_type": "code",
   "execution_count": null,
   "id": "6a319013",
   "metadata": {},
   "outputs": [],
   "source": [
    "print(pyu.ps2(\"python-dotenv\"))"
   ]
  },
  {
   "cell_type": "code",
   "execution_count": null,
   "id": "d1a5ae30",
   "metadata": {},
   "outputs": [],
   "source": [
    "from typing import List"
   ]
  },
  {
   "cell_type": "code",
   "execution_count": null,
   "id": "dfec7942",
   "metadata": {},
   "outputs": [],
   "source": [
    "class Solution:\n",
    "  def findTargetSumWays(self, nums: List[int], target: int) -> int:\n",
    "    summ = sum(nums)\n",
    "    if summ < abs(target) or (summ + target) & 1:\n",
    "      return 0\n",
    "\n",
    "    def knapsack(target: int) -> int:\n",
    "      # dp[i] := # Of ways to sum to i by nums so far\n",
    "      dp = [1] + [0] * summ\n",
    "\n",
    "      for num in nums:\n",
    "        for j in range(summ, num - 1, -1):\n",
    "          dp[j] += dp[j - num]\n",
    "\n",
    "      return dp[target]\n",
    "\n",
    "    return knapsack((summ + target) // 2)"
   ]
  },
  {
   "cell_type": "code",
   "execution_count": null,
   "id": "93ba334c",
   "metadata": {},
   "outputs": [],
   "source": [
    "new Solution().findTargetSumWays()"
   ]
  }
 ],
 "metadata": {},
 "nbformat": 4,
 "nbformat_minor": 5
}

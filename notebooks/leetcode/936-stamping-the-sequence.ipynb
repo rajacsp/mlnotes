{
 "cells": [
  {
   "cell_type": "markdown",
   "id": "1db1f411",
   "metadata": {},
   "source": [
    "https://leetcode.com/problems/stamping-the-sequence"
   ]
  },
  {
   "cell_type": "code",
   "execution_count": null,
   "id": "8706915f",
   "metadata": {},
   "outputs": [],
   "source": [
    "import pyutil as pyu\n",
    "pyu.get_local_pyinfo()"
   ]
  },
  {
   "cell_type": "code",
   "execution_count": null,
   "id": "fb6c7a0f",
   "metadata": {},
   "outputs": [],
   "source": [
    "print(pyu.ps2(\"python-dotenv\"))"
   ]
  },
  {
   "cell_type": "code",
   "execution_count": null,
   "id": "cc2268c6",
   "metadata": {},
   "outputs": [],
   "source": [
    "from typing import List"
   ]
  },
  {
   "cell_type": "code",
   "execution_count": null,
   "id": "8bf44cc0",
   "metadata": {},
   "outputs": [],
   "source": [
    "class Solution:\n",
    "  def movesToStamp(self, stamp: str, target: str) -> List[int]:\n",
    "    def stampify(s: int) -> int:\n",
    "      stampified = len(stamp)\n",
    "\n",
    "      for i, st in enumerate(stamp):\n",
    "        if target[s + i] == '*':\n",
    "          stampified -= 1\n",
    "        elif target[s + i] != st:\n",
    "          return 0\n",
    "\n",
    "      for i in range(s, s + len(stamp)):\n",
    "        target[i] = '*'\n",
    "\n",
    "      return stampified\n",
    "\n",
    "    ans = []\n",
    "    target = list(target)\n",
    "    stamped = [False] * len(target)\n",
    "    stampedCount = 0\n",
    "\n",
    "    while stampedCount < len(target):\n",
    "      isStamped = False\n",
    "      for i in range(len(target) - len(stamp) + 1):\n",
    "        if stamped[i]:\n",
    "          continue\n",
    "        stampified = stampify(i)\n",
    "        if stampified == 0:\n",
    "          continue\n",
    "        stampedCount += stampified\n",
    "        isStamped = True\n",
    "        stamped[i] = True\n",
    "        ans.append(i)\n",
    "      if not isStamped:\n",
    "        return []\n",
    "\n",
    "    return ans[::-1]"
   ]
  },
  {
   "cell_type": "code",
   "execution_count": null,
   "id": "9342ffbd",
   "metadata": {},
   "outputs": [],
   "source": [
    "new Solution().movesToStamp()"
   ]
  }
 ],
 "metadata": {},
 "nbformat": 4,
 "nbformat_minor": 5
}

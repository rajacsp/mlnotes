{
 "cells": [
  {
   "cell_type": "markdown",
   "id": "673faa0d",
   "metadata": {},
   "source": [
    "https://leetcode.com/problems/number-of-islands-ii"
   ]
  },
  {
   "cell_type": "code",
   "execution_count": null,
   "id": "1beb7bc9",
   "metadata": {},
   "outputs": [],
   "source": [
    "import pyutil as pyu\n",
    "pyu.get_local_pyinfo()"
   ]
  },
  {
   "cell_type": "code",
   "execution_count": null,
   "id": "c9347c54",
   "metadata": {},
   "outputs": [],
   "source": [
    "print(pyu.ps2(\"python-dotenv\"))"
   ]
  },
  {
   "cell_type": "code",
   "execution_count": null,
   "id": "11e25f99",
   "metadata": {},
   "outputs": [],
   "source": [
    "from typing import List"
   ]
  },
  {
   "cell_type": "code",
   "execution_count": null,
   "id": "53480d98",
   "metadata": {},
   "outputs": [],
   "source": [
    "class UnionFind:\n",
    "  def __init__(self, n: int):\n",
    "    self.id = [-1] * n\n",
    "\n",
    "  def union(self, u: int, v: int) -> None:\n",
    "    self.id[u] = v\n",
    "\n",
    "  def find(self, u: int) -> int:\n",
    "    if self.id[u] != u:\n",
    "      self.id[u] = self.find(self.id[u])\n",
    "    return self.id[u]\n",
    "\n",
    "\n",
    "class Solution:\n",
    "  def numIslands2(self, m: int, n: int, positions: List[List[int]]) -> List[int]:\n",
    "    dirs = [0, 1, 0, -1, 0]\n",
    "    ans = []\n",
    "    seen = [[False] * n for _ in range(m)]\n",
    "    uf = UnionFind(m * n)\n",
    "    count = 0\n",
    "\n",
    "    def getId(i: int, j: int, n: int) -> int:\n",
    "      return i * n + j\n",
    "\n",
    "    for i, j in positions:\n",
    "      if seen[i][j]:\n",
    "        ans.append(count)\n",
    "        continue\n",
    "      seen[i][j] = True\n",
    "      id = getId(i, j, n)\n",
    "      uf.id[id] = id\n",
    "      count += 1\n",
    "      for k in range(4):\n",
    "        x = i + dirs[k]\n",
    "        y = j + dirs[k + 1]\n",
    "        if x < 0 or x == m or y < 0 or y == n:\n",
    "          continue\n",
    "        neighborId = getId(x, y, n)\n",
    "        if uf.id[neighborId] == -1:  # Water\n",
    "          continue\n",
    "        currentParent = uf.find(id)\n",
    "        neighborParent = uf.find(neighborId)\n",
    "        if currentParent != neighborParent:\n",
    "          uf.union(currentParent, neighborParent)\n",
    "          count -= 1\n",
    "      ans.append(count)\n",
    "\n",
    "    return ans"
   ]
  },
  {
   "cell_type": "code",
   "execution_count": null,
   "id": "a9404bf9",
   "metadata": {},
   "outputs": [],
   "source": [
    "new Solution().numIslands2()"
   ]
  }
 ],
 "metadata": {},
 "nbformat": 4,
 "nbformat_minor": 5
}

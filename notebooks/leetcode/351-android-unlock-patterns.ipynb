{
 "cells": [
  {
   "cell_type": "markdown",
   "id": "3c06a4e4",
   "metadata": {},
   "source": [
    "https://leetcode.com/problems/android-unlock-patterns"
   ]
  },
  {
   "cell_type": "code",
   "execution_count": null,
   "id": "7fba8b17",
   "metadata": {},
   "outputs": [],
   "source": [
    "import pyutil as pyu\n",
    "pyu.get_local_pyinfo()"
   ]
  },
  {
   "cell_type": "code",
   "execution_count": null,
   "id": "08664295",
   "metadata": {},
   "outputs": [],
   "source": [
    "print(pyu.ps2(\"python-dotenv\"))"
   ]
  },
  {
   "cell_type": "code",
   "execution_count": null,
   "id": "ddaff1c4",
   "metadata": {},
   "outputs": [],
   "source": [
    "from typing import List"
   ]
  },
  {
   "cell_type": "code",
   "execution_count": null,
   "id": "102193de",
   "metadata": {},
   "outputs": [],
   "source": [
    "class Solution:\n",
    "  def numberOfPatterns(self, m: int, n: int) -> int:\n",
    "    seen = set()\n",
    "    accross = [[0] * 10 for _ in range(10)]\n",
    "\n",
    "    accross[1][3] = accross[3][1] = 2\n",
    "    accross[1][7] = accross[7][1] = 4\n",
    "    accross[3][9] = accross[9][3] = 6\n",
    "    accross[7][9] = accross[9][7] = 8\n",
    "    accross[1][9] = accross[9][1] = accross[2][8] = accross[8][2] = \\\n",
    "        accross[3][7] = accross[7][3] = accross[4][6] = accross[6][4] = 5\n",
    "\n",
    "    def dfs(u: int, depth: int) -> int:\n",
    "      if depth > n:\n",
    "        return 0\n",
    "\n",
    "      seen.add(u)\n",
    "      ans = 1 if depth >= m else 0\n",
    "\n",
    "      for v in range(1, 10):\n",
    "        if v == u or v in seen:\n",
    "          continue\n",
    "        accrossed = accross[u][v]\n",
    "        if not accrossed or accrossed in seen:\n",
    "          ans += dfs(v, depth + 1)\n",
    "\n",
    "      seen.remove(u)\n",
    "      return ans\n",
    "\n",
    "    # 1, 3, 7, 9 are symmetric\n",
    "    # 2, 4, 6, 8 are symmetric\n",
    "    return dfs(1, 1) * 4 + dfs(2, 1) * 4 + dfs(5, 1)"
   ]
  },
  {
   "cell_type": "code",
   "execution_count": null,
   "id": "92e3b9ea",
   "metadata": {},
   "outputs": [],
   "source": [
    "new Solution().numberOfPatterns()"
   ]
  }
 ],
 "metadata": {},
 "nbformat": 4,
 "nbformat_minor": 5
}

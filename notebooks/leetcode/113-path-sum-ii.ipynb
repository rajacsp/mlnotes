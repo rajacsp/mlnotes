{
 "cells": [
  {
   "cell_type": "markdown",
   "id": "8b63c81c",
   "metadata": {},
   "source": [
    "https://leetcode.com/problems/path-sum-ii"
   ]
  },
  {
   "cell_type": "code",
   "execution_count": null,
   "id": "aeb7a10a",
   "metadata": {},
   "outputs": [],
   "source": [
    "import pyutil as pyu\n",
    "pyu.get_local_pyinfo()"
   ]
  },
  {
   "cell_type": "code",
   "execution_count": null,
   "id": "be8cf532",
   "metadata": {},
   "outputs": [],
   "source": [
    "print(pyu.ps2(\"python-dotenv\"))"
   ]
  },
  {
   "cell_type": "code",
   "execution_count": null,
   "id": "19a12275",
   "metadata": {},
   "outputs": [],
   "source": [
    "from typing import List"
   ]
  },
  {
   "cell_type": "code",
   "execution_count": null,
   "id": "d0af9251",
   "metadata": {},
   "outputs": [],
   "source": [
    "class Solution:\n",
    "  def pathSum(self, root: TreeNode, summ: int) -> List[List[int]]:\n",
    "    ans = []\n",
    "\n",
    "    def dfs(root: TreeNode, summ: int, path: List[int]) -> None:\n",
    "      if not root:\n",
    "        return\n",
    "      if root.val == summ and not root.left and not root.right:\n",
    "        ans.append(path + [root.val])\n",
    "        return\n",
    "\n",
    "      dfs(root.left, summ - root.val, path + [root.val])\n",
    "      dfs(root.right, summ - root.val, path + [root.val])\n",
    "\n",
    "    dfs(root, summ, [])\n",
    "    return ans"
   ]
  },
  {
   "cell_type": "code",
   "execution_count": null,
   "id": "0d3e917e",
   "metadata": {},
   "outputs": [],
   "source": [
    "new Solution().pathSum()"
   ]
  }
 ],
 "metadata": {},
 "nbformat": 4,
 "nbformat_minor": 5
}

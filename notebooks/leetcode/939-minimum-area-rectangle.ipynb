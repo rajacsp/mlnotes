{
 "cells": [
  {
   "cell_type": "markdown",
   "id": "efdd1045",
   "metadata": {},
   "source": [
    "https://leetcode.com/problems/minimum-area-rectangle"
   ]
  },
  {
   "cell_type": "code",
   "execution_count": null,
   "id": "738f4850",
   "metadata": {},
   "outputs": [],
   "source": [
    "import pyutil as pyu\n",
    "pyu.get_local_pyinfo()"
   ]
  },
  {
   "cell_type": "code",
   "execution_count": null,
   "id": "22511463",
   "metadata": {},
   "outputs": [],
   "source": [
    "print(pyu.ps2(\"python-dotenv\"))"
   ]
  },
  {
   "cell_type": "code",
   "execution_count": null,
   "id": "a855d34c",
   "metadata": {},
   "outputs": [],
   "source": [
    "from typing import List"
   ]
  },
  {
   "cell_type": "code",
   "execution_count": null,
   "id": "27948ed0",
   "metadata": {},
   "outputs": [],
   "source": [
    "class Solution:\n",
    "  def minAreaRect(self, points: List[List[int]]) -> int:\n",
    "    ans = math.inf\n",
    "    xToYs = defaultdict(set)\n",
    "\n",
    "    for x, y in points:\n",
    "      xToYs[x].add(y)\n",
    "\n",
    "    for i in range(len(points)):\n",
    "      for j in range(i):\n",
    "        x1, y1 = points[i]\n",
    "        x2, y2 = points[j]\n",
    "        if x1 == x2 or y1 == y2:\n",
    "          continue\n",
    "        if y2 in xToYs[x1] and y1 in xToYs[x2]:\n",
    "          ans = min(ans, abs(x1 - x2) * abs(y1 - y2))\n",
    "\n",
    "    return ans if ans < math.inf else 0"
   ]
  },
  {
   "cell_type": "code",
   "execution_count": null,
   "id": "8414520a",
   "metadata": {},
   "outputs": [],
   "source": [
    "new Solution().minAreaRect()"
   ]
  }
 ],
 "metadata": {},
 "nbformat": 4,
 "nbformat_minor": 5
}

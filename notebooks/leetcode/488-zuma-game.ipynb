{
 "cells": [
  {
   "cell_type": "markdown",
   "id": "f73ec37d",
   "metadata": {},
   "source": [
    "https://leetcode.com/problems/zuma-game"
   ]
  },
  {
   "cell_type": "code",
   "execution_count": null,
   "id": "fb46fd4b",
   "metadata": {},
   "outputs": [],
   "source": [
    "import pyutil as pyu\n",
    "pyu.get_local_pyinfo()"
   ]
  },
  {
   "cell_type": "code",
   "execution_count": null,
   "id": "d1100827",
   "metadata": {},
   "outputs": [],
   "source": [
    "print(pyu.ps2(\"python-dotenv\"))"
   ]
  },
  {
   "cell_type": "code",
   "execution_count": null,
   "id": "f26b43f1",
   "metadata": {},
   "outputs": [],
   "source": [
    "from typing import List"
   ]
  },
  {
   "cell_type": "code",
   "execution_count": null,
   "id": "15eb76a8",
   "metadata": {},
   "outputs": [],
   "source": [
    "class Solution:\n",
    "  def findMinStep(self, board: str, hand: str) -> int:\n",
    "    def deDup(board):\n",
    "      start = 0  # Start index of a color sequenece\n",
    "      for i, c in enumerate(board):\n",
    "        if c != board[start]:\n",
    "          if i - start >= 3:\n",
    "            return deDup(board[:start] + board[i:])\n",
    "          start = i  # Meet a new sequence\n",
    "      return board\n",
    "\n",
    "    @functools.lru_cache(None)\n",
    "    def dfs(board: str, hand: str):\n",
    "      board = deDup(board)\n",
    "      if board == '#':\n",
    "        return 0\n",
    "\n",
    "      boardSet = set(board)\n",
    "      # Hand that in board\n",
    "      hand = ''.join(h for h in hand if h in boardSet)\n",
    "      if not hand:  # Infeasible\n",
    "        return math.inf\n",
    "\n",
    "      ans = math.inf\n",
    "\n",
    "      for i in range(len(board)):\n",
    "        for j, h in enumerate(hand):\n",
    "          # Place hs[j] in board[i]\n",
    "          newHand = hand[:j] + hand[j + 1:]\n",
    "          newBoard = board[:i] + h + board[i:]\n",
    "          ans = min(ans, 1 + dfs(newBoard, newHand))\n",
    "\n",
    "      return ans\n",
    "\n",
    "    ans = dfs(board + '#', hand)\n",
    "    return -1 if ans == math.inf else ans"
   ]
  },
  {
   "cell_type": "code",
   "execution_count": null,
   "id": "ac3e086a",
   "metadata": {},
   "outputs": [],
   "source": [
    "new Solution().findMinStep()"
   ]
  }
 ],
 "metadata": {},
 "nbformat": 4,
 "nbformat_minor": 5
}

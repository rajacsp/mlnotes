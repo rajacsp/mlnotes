{
 "cells": [
  {
   "cell_type": "markdown",
   "id": "433f880e",
   "metadata": {},
   "source": [
    "https://leetcode.com/problems/line-reflection"
   ]
  },
  {
   "cell_type": "code",
   "execution_count": null,
   "id": "1975d03c",
   "metadata": {},
   "outputs": [],
   "source": [
    "import pyutil as pyu\n",
    "pyu.get_local_pyinfo()"
   ]
  },
  {
   "cell_type": "code",
   "execution_count": null,
   "id": "e7c39e32",
   "metadata": {},
   "outputs": [],
   "source": [
    "print(pyu.ps2(\"python-dotenv\"))"
   ]
  },
  {
   "cell_type": "code",
   "execution_count": null,
   "id": "282d258e",
   "metadata": {},
   "outputs": [],
   "source": [
    "from typing import List"
   ]
  },
  {
   "cell_type": "code",
   "execution_count": null,
   "id": "327b77ff",
   "metadata": {},
   "outputs": [],
   "source": [
    "class Solution:\n",
    "  def isReflected(self, points: List[List[int]]) -> bool:\n",
    "    minX = math.inf\n",
    "    maxX = -math.inf\n",
    "    seen = set()\n",
    "\n",
    "    for x, y in points:\n",
    "      minX = min(minX, x)\n",
    "      maxX = max(maxX, x)\n",
    "      seen.add((x, y))\n",
    "\n",
    "    summ = minX + maxX\n",
    "    # (leftX + rightX) / 2 = (minX + maxX) / 2\n",
    "    #  leftX = minX + maxX - rightX\n",
    "    # RightX = minX + maxX - leftX\n",
    "\n",
    "    return all((summ - x, y) in seen for x, y in points)"
   ]
  },
  {
   "cell_type": "code",
   "execution_count": null,
   "id": "2761b6ec",
   "metadata": {},
   "outputs": [],
   "source": [
    "new Solution().isReflected()"
   ]
  }
 ],
 "metadata": {},
 "nbformat": 4,
 "nbformat_minor": 5
}

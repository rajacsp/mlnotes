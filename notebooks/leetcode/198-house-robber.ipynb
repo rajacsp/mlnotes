{
 "cells": [
  {
   "cell_type": "markdown",
   "id": "bb41ea8d",
   "metadata": {},
   "source": [
    "https://leetcode.com/problems/house-robber"
   ]
  },
  {
   "cell_type": "code",
   "execution_count": null,
   "id": "356494ef",
   "metadata": {},
   "outputs": [],
   "source": [
    "import pyutil as pyu\n",
    "pyu.get_local_pyinfo()"
   ]
  },
  {
   "cell_type": "code",
   "execution_count": null,
   "id": "f26b2de0",
   "metadata": {},
   "outputs": [],
   "source": [
    "print(pyu.ps2(\"python-dotenv\"))"
   ]
  },
  {
   "cell_type": "code",
   "execution_count": null,
   "id": "e82db95f",
   "metadata": {},
   "outputs": [],
   "source": [
    "from typing import List"
   ]
  },
  {
   "cell_type": "code",
   "execution_count": null,
   "id": "72599e9a",
   "metadata": {},
   "outputs": [],
   "source": [
    "class Solution:\n",
    "  def rob(self, nums: List[int]) -> int:\n",
    "    if not nums:\n",
    "      return 0\n",
    "    if len(nums) == 1:\n",
    "      return nums[0]\n",
    "\n",
    "    # dp[i]: = max money of robbing nums[0..i]\n",
    "    dp = [0] * len(nums)\n",
    "    dp[0] = nums[0]\n",
    "    dp[1] = max(nums[0], nums[1])\n",
    "\n",
    "    for i in range(2, len(nums)):\n",
    "      dp[i] = max(dp[i - 1], dp[i - 2] + nums[i])\n",
    "\n",
    "    return dp[-1]"
   ]
  },
  {
   "cell_type": "code",
   "execution_count": null,
   "id": "1d37f84f",
   "metadata": {},
   "outputs": [],
   "source": [
    "new Solution().rob()"
   ]
  }
 ],
 "metadata": {},
 "nbformat": 4,
 "nbformat_minor": 5
}

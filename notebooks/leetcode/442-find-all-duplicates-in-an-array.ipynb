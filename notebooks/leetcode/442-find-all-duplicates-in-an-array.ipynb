{
 "cells": [
  {
   "cell_type": "markdown",
   "id": "1e1f7fa9",
   "metadata": {},
   "source": [
    "https://leetcode.com/problems/find-all-duplicates-in-an-array"
   ]
  },
  {
   "cell_type": "code",
   "execution_count": null,
   "id": "6958104f",
   "metadata": {},
   "outputs": [],
   "source": [
    "import pyutil as pyu\n",
    "pyu.get_local_pyinfo()"
   ]
  },
  {
   "cell_type": "code",
   "execution_count": null,
   "id": "2a0418ea",
   "metadata": {},
   "outputs": [],
   "source": [
    "print(pyu.ps2(\"python-dotenv\"))"
   ]
  },
  {
   "cell_type": "code",
   "execution_count": null,
   "id": "eb6179e4",
   "metadata": {},
   "outputs": [],
   "source": [
    "from typing import List"
   ]
  },
  {
   "cell_type": "code",
   "execution_count": null,
   "id": "f27861b5",
   "metadata": {},
   "outputs": [],
   "source": [
    "class Solution:\n",
    "  def findDuplicates(self, nums: List[int]) -> List[int]:\n",
    "    ans = []\n",
    "\n",
    "    for num in nums:\n",
    "      nums[abs(num) - 1] *= -1\n",
    "      if nums[abs(num) - 1] > 0:\n",
    "        ans.append(abs(num))\n",
    "\n",
    "    return ans"
   ]
  },
  {
   "cell_type": "code",
   "execution_count": null,
   "id": "06def109",
   "metadata": {},
   "outputs": [],
   "source": [
    "new Solution().findDuplicates()"
   ]
  }
 ],
 "metadata": {},
 "nbformat": 4,
 "nbformat_minor": 5
}

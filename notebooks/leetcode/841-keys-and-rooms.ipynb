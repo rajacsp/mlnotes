{
 "cells": [
  {
   "cell_type": "markdown",
   "id": "67259a79",
   "metadata": {},
   "source": [
    "https://leetcode.com/problems/keys-and-rooms"
   ]
  },
  {
   "cell_type": "code",
   "execution_count": null,
   "id": "b167ca7a",
   "metadata": {},
   "outputs": [],
   "source": [
    "import pyutil as pyu\n",
    "pyu.get_local_pyinfo()"
   ]
  },
  {
   "cell_type": "code",
   "execution_count": null,
   "id": "2e614201",
   "metadata": {},
   "outputs": [],
   "source": [
    "print(pyu.ps2(\"python-dotenv\"))"
   ]
  },
  {
   "cell_type": "code",
   "execution_count": null,
   "id": "10cc5584",
   "metadata": {},
   "outputs": [],
   "source": [
    "from typing import List"
   ]
  },
  {
   "cell_type": "code",
   "execution_count": null,
   "id": "a56cf8c9",
   "metadata": {},
   "outputs": [],
   "source": [
    "class Solution:\n",
    "  def canVisitAllRooms(self, rooms: List[List[int]]) -> bool:\n",
    "    seen = [False] * len(rooms)\n",
    "\n",
    "    def dfs(node: int) -> None:\n",
    "      seen[node] = True\n",
    "      for child in rooms[node]:\n",
    "        if not seen[child]:\n",
    "          dfs(child)\n",
    "\n",
    "    dfs(0)\n",
    "    return all(seen)"
   ]
  },
  {
   "cell_type": "code",
   "execution_count": null,
   "id": "11d587ce",
   "metadata": {},
   "outputs": [],
   "source": [
    "new Solution().canVisitAllRooms()"
   ]
  }
 ],
 "metadata": {},
 "nbformat": 4,
 "nbformat_minor": 5
}

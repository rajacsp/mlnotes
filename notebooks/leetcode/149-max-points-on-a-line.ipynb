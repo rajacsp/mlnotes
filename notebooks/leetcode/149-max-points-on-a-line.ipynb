{
 "cells": [
  {
   "cell_type": "markdown",
   "id": "01adf2cb",
   "metadata": {},
   "source": [
    "https://leetcode.com/problems/max-points-on-a-line"
   ]
  },
  {
   "cell_type": "code",
   "execution_count": null,
   "id": "05e1d917",
   "metadata": {},
   "outputs": [],
   "source": [
    "import pyutil as pyu\n",
    "pyu.get_local_pyinfo()"
   ]
  },
  {
   "cell_type": "code",
   "execution_count": null,
   "id": "1a8a5642",
   "metadata": {},
   "outputs": [],
   "source": [
    "print(pyu.ps2(\"python-dotenv\"))"
   ]
  },
  {
   "cell_type": "code",
   "execution_count": null,
   "id": "be998208",
   "metadata": {},
   "outputs": [],
   "source": [
    "from typing import List"
   ]
  },
  {
   "cell_type": "code",
   "execution_count": null,
   "id": "a4ce9f0a",
   "metadata": {},
   "outputs": [],
   "source": [
    "class Solution:\n",
    "  def maxPoints(self, points: List[List[int]]) -> int:\n",
    "    ans = 0\n",
    "\n",
    "    def gcd(a: int, b: int) -> int:\n",
    "      return a if b == 0 else gcd(b, a % b)\n",
    "\n",
    "    def getSlope(p: List[int], q: List[int]) -> Tuple[int, int]:\n",
    "      dx = p[0] - q[0]\n",
    "      dy = p[1] - q[1]\n",
    "      if dx == 0:\n",
    "        return (0, p[0])\n",
    "      if dy == 0:\n",
    "        return (p[1], 0)\n",
    "      d = gcd(dx, dy)\n",
    "      return (dx // d, dy // d)\n",
    "\n",
    "    for i, p in enumerate(points):\n",
    "      slopeCount = defaultdict(int)\n",
    "      samePoints = 1\n",
    "      maxPoints = 0\n",
    "      for j in range(i + 1, len(points)):\n",
    "        q = points[j]\n",
    "        if p == q:\n",
    "          samePoints += 1\n",
    "        else:\n",
    "          slope = getSlope(p, q)\n",
    "          slopeCount[slope] += 1\n",
    "          maxPoints = max(maxPoints, slopeCount[slope])\n",
    "      ans = max(ans, samePoints + maxPoints)\n",
    "\n",
    "    return ans"
   ]
  },
  {
   "cell_type": "code",
   "execution_count": null,
   "id": "bacec19d",
   "metadata": {},
   "outputs": [],
   "source": [
    "new Solution().maxPoints()"
   ]
  }
 ],
 "metadata": {},
 "nbformat": 4,
 "nbformat_minor": 5
}

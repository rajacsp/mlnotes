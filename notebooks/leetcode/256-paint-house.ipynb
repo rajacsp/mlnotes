{
 "cells": [
  {
   "cell_type": "markdown",
   "id": "cf0de937",
   "metadata": {},
   "source": [
    "https://leetcode.com/problems/paint-house"
   ]
  },
  {
   "cell_type": "code",
   "execution_count": null,
   "id": "f6edb8a0",
   "metadata": {},
   "outputs": [],
   "source": [
    "import pyutil as pyu\n",
    "pyu.get_local_pyinfo()"
   ]
  },
  {
   "cell_type": "code",
   "execution_count": null,
   "id": "13b656ac",
   "metadata": {},
   "outputs": [],
   "source": [
    "print(pyu.ps2(\"python-dotenv\"))"
   ]
  },
  {
   "cell_type": "code",
   "execution_count": null,
   "id": "504f093d",
   "metadata": {},
   "outputs": [],
   "source": [
    "from typing import List"
   ]
  },
  {
   "cell_type": "code",
   "execution_count": null,
   "id": "78e1e90c",
   "metadata": {},
   "outputs": [],
   "source": [
    "class Solution:\n",
    "  def minCost(self, costs: List[List[int]]) -> List[List[int]]:\n",
    "    for i in range(1, len(costs)):\n",
    "      costs[i][0] += min(costs[i - 1][1], costs[i - 1][2])\n",
    "      costs[i][1] += min(costs[i - 1][0], costs[i - 1][2])\n",
    "      costs[i][2] += min(costs[i - 1][0], costs[i - 1][1])\n",
    "\n",
    "    return min(costs[-1])"
   ]
  },
  {
   "cell_type": "code",
   "execution_count": null,
   "id": "287d6f49",
   "metadata": {},
   "outputs": [],
   "source": [
    "new Solution().minCost()"
   ]
  }
 ],
 "metadata": {},
 "nbformat": 4,
 "nbformat_minor": 5
}

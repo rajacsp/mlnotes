{
 "cells": [
  {
   "cell_type": "markdown",
   "id": "c77a1db6",
   "metadata": {},
   "source": [
    "https://leetcode.com/problems/repeated-dna-sequences"
   ]
  },
  {
   "cell_type": "code",
   "execution_count": null,
   "id": "c7011ce6",
   "metadata": {},
   "outputs": [],
   "source": [
    "import pyutil as pyu\n",
    "pyu.get_local_pyinfo()"
   ]
  },
  {
   "cell_type": "code",
   "execution_count": null,
   "id": "8f3e9d2d",
   "metadata": {},
   "outputs": [],
   "source": [
    "print(pyu.ps2(\"python-dotenv\"))"
   ]
  },
  {
   "cell_type": "code",
   "execution_count": null,
   "id": "41af9922",
   "metadata": {},
   "outputs": [],
   "source": [
    "from typing import List"
   ]
  },
  {
   "cell_type": "code",
   "execution_count": null,
   "id": "5bb42e68",
   "metadata": {},
   "outputs": [],
   "source": [
    "class Solution:\n",
    "  def findRepeatedDnaSequences(self, s: str) -> List[str]:\n",
    "    ans = set()\n",
    "    seen = set()\n",
    "\n",
    "    for i in range(len(s) - 9):\n",
    "      seq = s[i:i + 10]\n",
    "      if seq in seen:\n",
    "        ans.add(seq)\n",
    "      seen.add(seq)\n",
    "\n",
    "    return list(ans)"
   ]
  },
  {
   "cell_type": "code",
   "execution_count": null,
   "id": "1bcfda6d",
   "metadata": {},
   "outputs": [],
   "source": [
    "new Solution().findRepeatedDnaSequences()"
   ]
  }
 ],
 "metadata": {},
 "nbformat": 4,
 "nbformat_minor": 5
}

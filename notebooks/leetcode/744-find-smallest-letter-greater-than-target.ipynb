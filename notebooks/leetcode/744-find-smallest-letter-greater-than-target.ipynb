{
 "cells": [
  {
   "cell_type": "markdown",
   "id": "90813a0c",
   "metadata": {},
   "source": [
    "https://leetcode.com/problems/find-smallest-letter-greater-than-target"
   ]
  },
  {
   "cell_type": "code",
   "execution_count": null,
   "id": "684cdbf7",
   "metadata": {},
   "outputs": [],
   "source": [
    "import pyutil as pyu\n",
    "pyu.get_local_pyinfo()"
   ]
  },
  {
   "cell_type": "code",
   "execution_count": null,
   "id": "bbe73dd7",
   "metadata": {},
   "outputs": [],
   "source": [
    "print(pyu.ps2(\"python-dotenv\"))"
   ]
  },
  {
   "cell_type": "code",
   "execution_count": null,
   "id": "647bf4f8",
   "metadata": {},
   "outputs": [],
   "source": [
    "from typing import List"
   ]
  },
  {
   "cell_type": "code",
   "execution_count": null,
   "id": "d96aa431",
   "metadata": {},
   "outputs": [],
   "source": [
    "class Solution:\n",
    "  def nextGreatestLetter(self, letters: List[str], target: str) -> str:\n",
    "    l = 0\n",
    "    r = len(letters)\n",
    "\n",
    "    while l < r:\n",
    "      m = (l + r) >> 1\n",
    "      if letters[m] <= target:\n",
    "        l = m + 1\n",
    "      else:\n",
    "        r = m\n",
    "\n",
    "    return letters[l % len(letters)]"
   ]
  },
  {
   "cell_type": "code",
   "execution_count": null,
   "id": "5f89f742",
   "metadata": {},
   "outputs": [],
   "source": [
    "new Solution().nextGreatestLetter()"
   ]
  }
 ],
 "metadata": {},
 "nbformat": 4,
 "nbformat_minor": 5
}

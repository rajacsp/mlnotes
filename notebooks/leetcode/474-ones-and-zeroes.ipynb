{
 "cells": [
  {
   "cell_type": "markdown",
   "id": "04d4b6b8",
   "metadata": {},
   "source": [
    "https://leetcode.com/problems/ones-and-zeroes"
   ]
  },
  {
   "cell_type": "code",
   "execution_count": null,
   "id": "6d60d513",
   "metadata": {},
   "outputs": [],
   "source": [
    "import pyutil as pyu\n",
    "pyu.get_local_pyinfo()"
   ]
  },
  {
   "cell_type": "code",
   "execution_count": null,
   "id": "a07f8d01",
   "metadata": {},
   "outputs": [],
   "source": [
    "print(pyu.ps2(\"python-dotenv\"))"
   ]
  },
  {
   "cell_type": "code",
   "execution_count": null,
   "id": "8505e9ac",
   "metadata": {},
   "outputs": [],
   "source": [
    "from typing import List"
   ]
  },
  {
   "cell_type": "code",
   "execution_count": null,
   "id": "b5355d49",
   "metadata": {},
   "outputs": [],
   "source": [
    "class Solution:\n",
    "  def findMaxForm(self, strs: List[str], m: int, n: int) -> int:\n",
    "    # dp[i][j] := max size of the subset given i 0's and j 1's are available\n",
    "    dp = [[0] * (n + 1) for _ in range(m + 1)]\n",
    "\n",
    "    for s in strs:\n",
    "      count0 = s.count('0')\n",
    "      count1 = len(s) - count0\n",
    "      for i in range(m, count0 - 1, -1):\n",
    "        for j in range(n, count1 - 1, -1):\n",
    "          dp[i][j] = max(dp[i][j], dp[i - count0][j - count1] + 1)\n",
    "\n",
    "    return dp[m][n]"
   ]
  },
  {
   "cell_type": "code",
   "execution_count": null,
   "id": "474e14e6",
   "metadata": {},
   "outputs": [],
   "source": [
    "new Solution().findMaxForm()"
   ]
  }
 ],
 "metadata": {},
 "nbformat": 4,
 "nbformat_minor": 5
}

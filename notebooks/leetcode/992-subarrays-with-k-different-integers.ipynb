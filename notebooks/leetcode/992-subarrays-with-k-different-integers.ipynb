{
 "cells": [
  {
   "cell_type": "markdown",
   "id": "30683ae5",
   "metadata": {},
   "source": [
    "https://leetcode.com/problems/subarrays-with-k-different-integers"
   ]
  },
  {
   "cell_type": "code",
   "execution_count": null,
   "id": "ea175400",
   "metadata": {},
   "outputs": [],
   "source": [
    "import pyutil as pyu\n",
    "pyu.get_local_pyinfo()"
   ]
  },
  {
   "cell_type": "code",
   "execution_count": null,
   "id": "418626f2",
   "metadata": {},
   "outputs": [],
   "source": [
    "print(pyu.ps2(\"python-dotenv\"))"
   ]
  },
  {
   "cell_type": "code",
   "execution_count": null,
   "id": "210a3796",
   "metadata": {},
   "outputs": [],
   "source": [
    "from typing import List"
   ]
  },
  {
   "cell_type": "code",
   "execution_count": null,
   "id": "f5887a3b",
   "metadata": {},
   "outputs": [],
   "source": [
    "class Solution:\n",
    "  def subarraysWithKDistinct(self, A: List[int], K: int) -> int:\n",
    "    def subarraysWithAtMostKDistinct(K: int) -> int:\n",
    "      ans = 0\n",
    "      count = Counter()\n",
    "\n",
    "      l = 0\n",
    "      for r, a in enumerate(A):\n",
    "        count[a] += 1\n",
    "        if count[a] == 1:\n",
    "          K -= 1\n",
    "        while K < 0:\n",
    "          count[A[l]] -= 1\n",
    "          if count[A[l]] == 0:\n",
    "            K += 1\n",
    "          l += 1\n",
    "        ans += r - l + 1  # A[l..r], A[l + 1..r], ..., A[r]\n",
    "\n",
    "      return ans\n",
    "\n",
    "    return subarraysWithAtMostKDistinct(K) - subarraysWithAtMostKDistinct(K - 1)"
   ]
  },
  {
   "cell_type": "code",
   "execution_count": null,
   "id": "2a577a04",
   "metadata": {},
   "outputs": [],
   "source": [
    "new Solution().subarraysWithKDistinct()"
   ]
  }
 ],
 "metadata": {},
 "nbformat": 4,
 "nbformat_minor": 5
}

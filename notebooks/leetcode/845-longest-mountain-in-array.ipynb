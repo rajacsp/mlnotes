{
 "cells": [
  {
   "cell_type": "markdown",
   "id": "60b1fb3c",
   "metadata": {},
   "source": [
    "https://leetcode.com/problems/longest-mountain-in-array"
   ]
  },
  {
   "cell_type": "code",
   "execution_count": null,
   "id": "918e5a4c",
   "metadata": {},
   "outputs": [],
   "source": [
    "import pyutil as pyu\n",
    "pyu.get_local_pyinfo()"
   ]
  },
  {
   "cell_type": "code",
   "execution_count": null,
   "id": "df3b83c0",
   "metadata": {},
   "outputs": [],
   "source": [
    "print(pyu.ps2(\"python-dotenv\"))"
   ]
  },
  {
   "cell_type": "code",
   "execution_count": null,
   "id": "29347526",
   "metadata": {},
   "outputs": [],
   "source": [
    "from typing import List"
   ]
  },
  {
   "cell_type": "code",
   "execution_count": null,
   "id": "8a7dc1f4",
   "metadata": {},
   "outputs": [],
   "source": [
    "class Solution:\n",
    "  def longestMountain(self, A: List[int]) -> int:\n",
    "    ans = 0\n",
    "    i = 0\n",
    "\n",
    "    while i + 1 < len(A):\n",
    "      while i + 1 < len(A) and A[i] == A[i + 1]:\n",
    "        i += 1\n",
    "\n",
    "      increasing = 0\n",
    "      decreasing = 0\n",
    "\n",
    "      while i + 1 < len(A) and A[i] < A[i + 1]:\n",
    "        increasing += 1\n",
    "        i += 1\n",
    "\n",
    "      while i + 1 < len(A) and A[i] > A[i + 1]:\n",
    "        decreasing += 1\n",
    "        i += 1\n",
    "\n",
    "      if increasing > 0 and decreasing > 0:\n",
    "        ans = max(ans, increasing + decreasing + 1)\n",
    "\n",
    "    return ans"
   ]
  },
  {
   "cell_type": "code",
   "execution_count": null,
   "id": "6fc3f713",
   "metadata": {},
   "outputs": [],
   "source": [
    "new Solution().longestMountain()"
   ]
  }
 ],
 "metadata": {},
 "nbformat": 4,
 "nbformat_minor": 5
}

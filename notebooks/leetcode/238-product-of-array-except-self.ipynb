{
 "cells": [
  {
   "cell_type": "markdown",
   "id": "f0255a1c",
   "metadata": {},
   "source": [
    "https://leetcode.com/problems/product-of-array-except-self"
   ]
  },
  {
   "cell_type": "code",
   "execution_count": null,
   "id": "6897caca",
   "metadata": {},
   "outputs": [],
   "source": [
    "import pyutil as pyu\n",
    "pyu.get_local_pyinfo()"
   ]
  },
  {
   "cell_type": "code",
   "execution_count": null,
   "id": "3e6ddce5",
   "metadata": {},
   "outputs": [],
   "source": [
    "print(pyu.ps2(\"python-dotenv\"))"
   ]
  },
  {
   "cell_type": "code",
   "execution_count": null,
   "id": "9bba0304",
   "metadata": {},
   "outputs": [],
   "source": [
    "from typing import List"
   ]
  },
  {
   "cell_type": "code",
   "execution_count": null,
   "id": "66c412fa",
   "metadata": {},
   "outputs": [],
   "source": [
    "class Solution:\n",
    "  def productExceptSelf(self, nums: List[int]) -> List[int]:\n",
    "    n = len(nums)\n",
    "    prefix = [1] * n  # Prefix product\n",
    "    suffix = [1] * n  # Suffix product\n",
    "\n",
    "    for i in range(1, n):\n",
    "      prefix[i] = prefix[i - 1] * nums[i - 1]\n",
    "\n",
    "    for i in reversed(range(n - 1)):\n",
    "      suffix[i] = suffix[i + 1] * nums[i + 1]\n",
    "\n",
    "    return [prefix[i] * suffix[i] for i in range(n)]"
   ]
  },
  {
   "cell_type": "code",
   "execution_count": null,
   "id": "dce2db4f",
   "metadata": {},
   "outputs": [],
   "source": [
    "new Solution().productExceptSelf()"
   ]
  }
 ],
 "metadata": {},
 "nbformat": 4,
 "nbformat_minor": 5
}

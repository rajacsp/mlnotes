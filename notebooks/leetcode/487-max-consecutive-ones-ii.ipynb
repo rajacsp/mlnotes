{
 "cells": [
  {
   "cell_type": "markdown",
   "id": "6543ac50",
   "metadata": {},
   "source": [
    "https://leetcode.com/problems/max-consecutive-ones-ii"
   ]
  },
  {
   "cell_type": "code",
   "execution_count": null,
   "id": "34c72ac7",
   "metadata": {},
   "outputs": [],
   "source": [
    "import pyutil as pyu\n",
    "pyu.get_local_pyinfo()"
   ]
  },
  {
   "cell_type": "code",
   "execution_count": null,
   "id": "f387488b",
   "metadata": {},
   "outputs": [],
   "source": [
    "print(pyu.ps2(\"python-dotenv\"))"
   ]
  },
  {
   "cell_type": "code",
   "execution_count": null,
   "id": "cff83e29",
   "metadata": {},
   "outputs": [],
   "source": [
    "from typing import List"
   ]
  },
  {
   "cell_type": "code",
   "execution_count": null,
   "id": "d0004c90",
   "metadata": {},
   "outputs": [],
   "source": [
    "class Solution:\n",
    "  def findMaxConsecutiveOnes(self, nums: List[int]) -> int:\n",
    "    ans = 0\n",
    "    zeros = 0\n",
    "\n",
    "    l = 0\n",
    "    for r, num in enumerate(nums):\n",
    "      if num == 0:\n",
    "        zeros += 1\n",
    "      while zeros == 2:\n",
    "        if nums[l] == 0:\n",
    "          zeros -= 1\n",
    "        l += 1\n",
    "      ans = max(ans, r - l + 1)\n",
    "\n",
    "    return ans"
   ]
  },
  {
   "cell_type": "code",
   "execution_count": null,
   "id": "8604c3e4",
   "metadata": {},
   "outputs": [],
   "source": [
    "new Solution().findMaxConsecutiveOnes()"
   ]
  }
 ],
 "metadata": {},
 "nbformat": 4,
 "nbformat_minor": 5
}

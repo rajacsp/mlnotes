{
 "cells": [
  {
   "cell_type": "markdown",
   "id": "8f27fbf8",
   "metadata": {},
   "source": [
    "https://leetcode.com/problems/strobogrammatic-number-ii"
   ]
  },
  {
   "cell_type": "code",
   "execution_count": null,
   "id": "a2d0aaab",
   "metadata": {},
   "outputs": [],
   "source": [
    "import pyutil as pyu\n",
    "pyu.get_local_pyinfo()"
   ]
  },
  {
   "cell_type": "code",
   "execution_count": null,
   "id": "6a9791d7",
   "metadata": {},
   "outputs": [],
   "source": [
    "print(pyu.ps2(\"python-dotenv\"))"
   ]
  },
  {
   "cell_type": "code",
   "execution_count": null,
   "id": "41afb424",
   "metadata": {},
   "outputs": [],
   "source": [
    "from typing import List"
   ]
  },
  {
   "cell_type": "code",
   "execution_count": null,
   "id": "fa6dbc6f",
   "metadata": {},
   "outputs": [],
   "source": [
    "class Solution:\n",
    "  def findStrobogrammatic(self, n: int) -> List[str]:\n",
    "    def helper(n: int, k: int) -> List[str]:\n",
    "      if n == 0:\n",
    "        return ['']\n",
    "      if n == 1:\n",
    "        return ['0', '1', '8']\n",
    "\n",
    "      ans = []\n",
    "\n",
    "      for inner in helper(n - 2, k):\n",
    "        if n < k:\n",
    "          ans.append('0' + inner + '0')\n",
    "        ans.append('1' + inner + '1')\n",
    "        ans.append('6' + inner + '9')\n",
    "        ans.append('8' + inner + '8')\n",
    "        ans.append('9' + inner + '6')\n",
    "\n",
    "      return ans\n",
    "\n",
    "    return helper(n, n)"
   ]
  },
  {
   "cell_type": "code",
   "execution_count": null,
   "id": "391a8380",
   "metadata": {},
   "outputs": [],
   "source": [
    "new Solution().findStrobogrammatic()"
   ]
  }
 ],
 "metadata": {},
 "nbformat": 4,
 "nbformat_minor": 5
}

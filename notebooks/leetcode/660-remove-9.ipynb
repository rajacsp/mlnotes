{
 "cells": [
  {
   "cell_type": "markdown",
   "id": "c6565a74",
   "metadata": {},
   "source": [
    "https://leetcode.com/problems/remove-9"
   ]
  },
  {
   "cell_type": "code",
   "execution_count": null,
   "id": "06ab6c5f",
   "metadata": {},
   "outputs": [],
   "source": [
    "import pyutil as pyu\n",
    "pyu.get_local_pyinfo()"
   ]
  },
  {
   "cell_type": "code",
   "execution_count": null,
   "id": "c34d1fd8",
   "metadata": {},
   "outputs": [],
   "source": [
    "print(pyu.ps2(\"python-dotenv\"))"
   ]
  },
  {
   "cell_type": "code",
   "execution_count": null,
   "id": "ca9612dd",
   "metadata": {},
   "outputs": [],
   "source": [
    "from typing import List"
   ]
  },
  {
   "cell_type": "code",
   "execution_count": null,
   "id": "e01b3e3b",
   "metadata": {},
   "outputs": [],
   "source": [
    "class Solution:\n",
    "  def newInteger(self, n: int) -> int:\n",
    "    ans = []\n",
    "    while n:\n",
    "      ans.append(str(n % 9))\n",
    "      n //= 9\n",
    "    return ''.join(reversed(ans))"
   ]
  },
  {
   "cell_type": "code",
   "execution_count": null,
   "id": "2a27db61",
   "metadata": {},
   "outputs": [],
   "source": [
    "new Solution().newInteger()"
   ]
  }
 ],
 "metadata": {},
 "nbformat": 4,
 "nbformat_minor": 5
}

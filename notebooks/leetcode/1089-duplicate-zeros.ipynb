{
 "cells": [
  {
   "cell_type": "markdown",
   "id": "0968a3c9",
   "metadata": {},
   "source": [
    "https://leetcode.com/problems/duplicate-zeros"
   ]
  },
  {
   "cell_type": "code",
   "execution_count": null,
   "id": "6745c130",
   "metadata": {},
   "outputs": [],
   "source": [
    "import pyutil as pyu\n",
    "pyu.get_local_pyinfo()"
   ]
  },
  {
   "cell_type": "code",
   "execution_count": null,
   "id": "9a132b0d",
   "metadata": {},
   "outputs": [],
   "source": [
    "print(pyu.ps2(\"python-dotenv\"))"
   ]
  },
  {
   "cell_type": "code",
   "execution_count": null,
   "id": "127793c1",
   "metadata": {},
   "outputs": [],
   "source": [
    "from typing import List"
   ]
  },
  {
   "cell_type": "code",
   "execution_count": null,
   "id": "a05f4673",
   "metadata": {},
   "outputs": [],
   "source": [
    "class Solution:\n",
    "  def duplicateZeros(self, arr: List[int]) -> None:\n",
    "    zeros = arr.count(0)\n",
    "    i = len(arr) - 1\n",
    "    j = len(arr) + zeros - 1\n",
    "\n",
    "    while i < j:\n",
    "      if j < len(arr):\n",
    "        arr[j] = arr[i]\n",
    "      if arr[i] == 0:\n",
    "        j -= 1\n",
    "        if j < len(arr):\n",
    "          arr[j] = arr[i]\n",
    "      i -= 1\n",
    "      j -= 1"
   ]
  },
  {
   "cell_type": "code",
   "execution_count": null,
   "id": "7df577d5",
   "metadata": {},
   "outputs": [],
   "source": [
    "new Solution().duplicateZeros()"
   ]
  }
 ],
 "metadata": {},
 "nbformat": 4,
 "nbformat_minor": 5
}

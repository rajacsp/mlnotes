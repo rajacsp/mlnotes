{
 "cells": [
  {
   "cell_type": "markdown",
   "id": "3bac2152",
   "metadata": {},
   "source": [
    "https://leetcode.com/problems/verifying-an-alien-dictionary"
   ]
  },
  {
   "cell_type": "code",
   "execution_count": null,
   "id": "ab7434ef",
   "metadata": {},
   "outputs": [],
   "source": [
    "import pyutil as pyu\n",
    "pyu.get_local_pyinfo()"
   ]
  },
  {
   "cell_type": "code",
   "execution_count": null,
   "id": "78acc736",
   "metadata": {},
   "outputs": [],
   "source": [
    "print(pyu.ps2(\"python-dotenv\"))"
   ]
  },
  {
   "cell_type": "code",
   "execution_count": null,
   "id": "51e75072",
   "metadata": {},
   "outputs": [],
   "source": [
    "from typing import List"
   ]
  },
  {
   "cell_type": "code",
   "execution_count": null,
   "id": "4c7991e9",
   "metadata": {},
   "outputs": [],
   "source": [
    "class Solution:\n",
    "  def isAlienSorted(self, words: List[str], order: str) -> bool:\n",
    "    dict = {c: i for i, c in enumerate(order)}\n",
    "    words = [[dict[c] for c in word] for word in words]\n",
    "    return all(w1 <= w2 for w1, w2 in zip(words, words[1:]))"
   ]
  },
  {
   "cell_type": "code",
   "execution_count": null,
   "id": "7577ab4d",
   "metadata": {},
   "outputs": [],
   "source": [
    "new Solution().isAlienSorted()"
   ]
  }
 ],
 "metadata": {},
 "nbformat": 4,
 "nbformat_minor": 5
}

{
 "cells": [
  {
   "cell_type": "markdown",
   "id": "e0641e46",
   "metadata": {},
   "source": [
    "https://leetcode.com/problems/construct-binary-tree-from-preorder-and-postorder-traversal"
   ]
  },
  {
   "cell_type": "code",
   "execution_count": null,
   "id": "aa7a62dd",
   "metadata": {},
   "outputs": [],
   "source": [
    "import pyutil as pyu\n",
    "pyu.get_local_pyinfo()"
   ]
  },
  {
   "cell_type": "code",
   "execution_count": null,
   "id": "e3b92a78",
   "metadata": {},
   "outputs": [],
   "source": [
    "print(pyu.ps2(\"python-dotenv\"))"
   ]
  },
  {
   "cell_type": "code",
   "execution_count": null,
   "id": "d13ce8ac",
   "metadata": {},
   "outputs": [],
   "source": [
    "from typing import List"
   ]
  },
  {
   "cell_type": "code",
   "execution_count": null,
   "id": "7351fcf4",
   "metadata": {},
   "outputs": [],
   "source": [
    "class Solution:\n",
    "  def constructFromPrePost(self, pre: List[int], post: List[int]) -> Optional[TreeNode]:\n",
    "    postToIndex = {num: i for i, num in enumerate(post)}\n",
    "\n",
    "    def build(preStart: int, preEnd: int, postStart: int, postEnd: int) -> Optional[TreeNode]:\n",
    "      if preStart > preEnd:\n",
    "        return None\n",
    "      if preStart == preEnd:\n",
    "        return TreeNode(pre[preStart])\n",
    "\n",
    "      rootVal = pre[preStart]\n",
    "      leftRootVal = pre[preStart + 1]\n",
    "      leftRootPostIndex = postToIndex[leftRootVal]\n",
    "      leftSize = leftRootPostIndex - postStart + 1\n",
    "\n",
    "      root = TreeNode(rootVal)\n",
    "      root.left = build(preStart + 1, preStart + leftSize,\n",
    "                        postStart, leftRootPostIndex)\n",
    "      root.right = build(preStart + leftSize + 1, preEnd,\n",
    "                         leftRootPostIndex + 1, postEnd - 1)\n",
    "      return root\n",
    "\n",
    "    return build(0, len(pre) - 1, 0, len(post) - 1)"
   ]
  },
  {
   "cell_type": "code",
   "execution_count": null,
   "id": "a8f44a2a",
   "metadata": {},
   "outputs": [],
   "source": [
    "new Solution().constructFromPrePost()"
   ]
  }
 ],
 "metadata": {},
 "nbformat": 4,
 "nbformat_minor": 5
}

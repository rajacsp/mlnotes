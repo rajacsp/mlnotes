{
 "cells": [
  {
   "cell_type": "markdown",
   "id": "74ed26eb",
   "metadata": {},
   "source": [
    "https://leetcode.com/problems/sparse-matrix-multiplication"
   ]
  },
  {
   "cell_type": "code",
   "execution_count": null,
   "id": "67a16345",
   "metadata": {},
   "outputs": [],
   "source": [
    "import pyutil as pyu\n",
    "pyu.get_local_pyinfo()"
   ]
  },
  {
   "cell_type": "code",
   "execution_count": null,
   "id": "33aaf450",
   "metadata": {},
   "outputs": [],
   "source": [
    "print(pyu.ps2(\"python-dotenv\"))"
   ]
  },
  {
   "cell_type": "code",
   "execution_count": null,
   "id": "db42e184",
   "metadata": {},
   "outputs": [],
   "source": [
    "from typing import List"
   ]
  },
  {
   "cell_type": "code",
   "execution_count": null,
   "id": "229af488",
   "metadata": {},
   "outputs": [],
   "source": [
    "class Solution:\n",
    "  def multiply(self, mat1: List[List[int]], mat2: List[List[int]]) -> List[List[int]]:\n",
    "    m = len(mat1)\n",
    "    n = len(mat2)\n",
    "    l = len(mat2[0])\n",
    "    ans = [[0] * l for _ in range(m)]\n",
    "\n",
    "    for i in range(m):\n",
    "      for j in range(l):\n",
    "        for k in range(n):\n",
    "          ans[i][j] += mat1[i][k] * mat2[k][j]\n",
    "\n",
    "    return ans"
   ]
  },
  {
   "cell_type": "code",
   "execution_count": null,
   "id": "34b078c0",
   "metadata": {},
   "outputs": [],
   "source": [
    "new Solution().multiply()"
   ]
  }
 ],
 "metadata": {},
 "nbformat": 4,
 "nbformat_minor": 5
}

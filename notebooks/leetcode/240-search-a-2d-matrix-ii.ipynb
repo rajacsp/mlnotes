{
 "cells": [
  {
   "cell_type": "markdown",
   "id": "acc2a220",
   "metadata": {},
   "source": [
    "https://leetcode.com/problems/search-a-2d-matrix-ii"
   ]
  },
  {
   "cell_type": "code",
   "execution_count": null,
   "id": "ecac6d79",
   "metadata": {},
   "outputs": [],
   "source": [
    "import pyutil as pyu\n",
    "pyu.get_local_pyinfo()"
   ]
  },
  {
   "cell_type": "code",
   "execution_count": null,
   "id": "a4be7eaf",
   "metadata": {},
   "outputs": [],
   "source": [
    "print(pyu.ps2(\"python-dotenv\"))"
   ]
  },
  {
   "cell_type": "code",
   "execution_count": null,
   "id": "57970ce6",
   "metadata": {},
   "outputs": [],
   "source": [
    "from typing import List"
   ]
  },
  {
   "cell_type": "code",
   "execution_count": null,
   "id": "b20d269e",
   "metadata": {},
   "outputs": [],
   "source": [
    "class Solution:\n",
    "  def searchMatrix(self, matrix: List[List[int]], target: int) -> bool:\n",
    "    r = 0\n",
    "    c = len(matrix[0]) - 1\n",
    "\n",
    "    while r < len(matrix) and c >= 0:\n",
    "      if matrix[r][c] == target:\n",
    "        return True\n",
    "      if target < matrix[r][c]:\n",
    "        c -= 1\n",
    "      else:\n",
    "        r += 1\n",
    "\n",
    "    return False"
   ]
  },
  {
   "cell_type": "code",
   "execution_count": null,
   "id": "5d96b57e",
   "metadata": {},
   "outputs": [],
   "source": [
    "new Solution().searchMatrix()"
   ]
  }
 ],
 "metadata": {},
 "nbformat": 4,
 "nbformat_minor": 5
}

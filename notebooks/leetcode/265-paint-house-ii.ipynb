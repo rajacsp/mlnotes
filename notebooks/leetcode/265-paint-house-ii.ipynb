{
 "cells": [
  {
   "cell_type": "markdown",
   "id": "03b7ccf6",
   "metadata": {},
   "source": [
    "https://leetcode.com/problems/paint-house-ii"
   ]
  },
  {
   "cell_type": "code",
   "execution_count": null,
   "id": "5709c5e2",
   "metadata": {},
   "outputs": [],
   "source": [
    "import pyutil as pyu\n",
    "pyu.get_local_pyinfo()"
   ]
  },
  {
   "cell_type": "code",
   "execution_count": null,
   "id": "b242eeb7",
   "metadata": {},
   "outputs": [],
   "source": [
    "print(pyu.ps2(\"python-dotenv\"))"
   ]
  },
  {
   "cell_type": "code",
   "execution_count": null,
   "id": "79a7de0d",
   "metadata": {},
   "outputs": [],
   "source": [
    "from typing import List"
   ]
  },
  {
   "cell_type": "code",
   "execution_count": null,
   "id": "9a0f9bf9",
   "metadata": {},
   "outputs": [],
   "source": [
    "class Solution:\n",
    "  def minCostII(self, costs: List[List[int]]) -> int:\n",
    "    prevIndex = -1  # The previous minimum index\n",
    "    prevMin1 = 0    # Minimum cost so far\n",
    "    prevMin2 = 0    # 2nd minimum cost so far\n",
    "\n",
    "    for cost in costs:   # O(n)\n",
    "      index = -1  # The painted index s.t. achieve the minimum cost after painting current house\n",
    "      min1 = math.inf  # The minimum cost after painting current house\n",
    "      min2 = math.inf  # The 2nd minimum cost after painting current house\n",
    "      for i, cst in enumerate(cost):   # O(k)\n",
    "        theCost = cst + (prevMin2 if i == prevIndex else prevMin1)\n",
    "        if theCost < min1:\n",
    "          index = i\n",
    "          min2 = min1\n",
    "          min1 = theCost\n",
    "        elif theCost < min2:   # Min1 <= theCost < min2\n",
    "          min2 = theCost\n",
    "\n",
    "      prevIndex = index\n",
    "      prevMin1 = min1\n",
    "      prevMin2 = min2\n",
    "\n",
    "    return prevMin1"
   ]
  },
  {
   "cell_type": "code",
   "execution_count": null,
   "id": "02b468bb",
   "metadata": {},
   "outputs": [],
   "source": [
    "new Solution().minCostII()"
   ]
  }
 ],
 "metadata": {},
 "nbformat": 4,
 "nbformat_minor": 5
}

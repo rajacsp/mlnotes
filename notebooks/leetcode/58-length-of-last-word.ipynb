{
 "cells": [
  {
   "cell_type": "markdown",
   "id": "2cb64b19",
   "metadata": {},
   "source": [
    "https://leetcode.com/problems/length-of-last-word"
   ]
  },
  {
   "cell_type": "code",
   "execution_count": null,
   "id": "c4508a9b",
   "metadata": {},
   "outputs": [],
   "source": [
    "import pyutil as pyu\n",
    "pyu.get_local_pyinfo()"
   ]
  },
  {
   "cell_type": "code",
   "execution_count": null,
   "id": "7b4be532",
   "metadata": {},
   "outputs": [],
   "source": [
    "print(pyu.ps2(\"python-dotenv\"))"
   ]
  },
  {
   "cell_type": "code",
   "execution_count": null,
   "id": "5a64e4a8",
   "metadata": {},
   "outputs": [],
   "source": [
    "from typing import List"
   ]
  },
  {
   "cell_type": "code",
   "execution_count": null,
   "id": "8298988e",
   "metadata": {},
   "outputs": [],
   "source": [
    "class Solution:\n",
    "  def lengthOfLastWord(self, s: str) -> int:\n",
    "    i = len(s) - 1\n",
    "\n",
    "    while i >= 0 and s[i] == ' ':\n",
    "      i -= 1\n",
    "    lastIndex = i\n",
    "    while i >= 0 and s[i] != ' ':\n",
    "      i -= 1\n",
    "\n",
    "    return lastIndex - i"
   ]
  },
  {
   "cell_type": "code",
   "execution_count": null,
   "id": "28182a64",
   "metadata": {},
   "outputs": [],
   "source": [
    "new Solution().lengthOfLastWord()"
   ]
  }
 ],
 "metadata": {},
 "nbformat": 4,
 "nbformat_minor": 5
}

{
 "cells": [
  {
   "cell_type": "markdown",
   "id": "f3b5968f",
   "metadata": {},
   "source": [
    "https://leetcode.com/problems/shortest-distance-from-all-buildings"
   ]
  },
  {
   "cell_type": "code",
   "execution_count": null,
   "id": "5f078185",
   "metadata": {},
   "outputs": [],
   "source": [
    "import pyutil as pyu\n",
    "pyu.get_local_pyinfo()"
   ]
  },
  {
   "cell_type": "code",
   "execution_count": null,
   "id": "8078e37a",
   "metadata": {},
   "outputs": [],
   "source": [
    "print(pyu.ps2(\"python-dotenv\"))"
   ]
  },
  {
   "cell_type": "code",
   "execution_count": null,
   "id": "11362aaf",
   "metadata": {},
   "outputs": [],
   "source": [
    "from typing import List"
   ]
  },
  {
   "cell_type": "code",
   "execution_count": null,
   "id": "b247c0bc",
   "metadata": {},
   "outputs": [],
   "source": [
    "class Solution:\n",
    "  def shortestDistance(self, grid: List[List[int]]) -> int:\n",
    "    m = len(grid)\n",
    "    n = len(grid[0])\n",
    "    dirs = [0, 1, 0, -1, 0]\n",
    "    nBuildings = sum(a == 1 for row in grid for a in row)\n",
    "    ans = math.inf\n",
    "    # dist[i][j] := total distance of grid[i][j] (0) to reach all buildings (1)\n",
    "    dist = [[0] * n for _ in range(m)]\n",
    "    # reachCount[i][j] := # Of buildings (1) grid[i][j] (0) can reach\n",
    "    reachCount = [[0] * n for _ in range(m)]\n",
    "\n",
    "    def bfs(row: int, col: int) -> bool:\n",
    "      q = deque([(row, col)])\n",
    "      seen = {(row, col)}\n",
    "      depth = 0\n",
    "      seenBuildings = 1\n",
    "\n",
    "      while q:\n",
    "        depth += 1\n",
    "        for _ in range(len(q)):\n",
    "          i, j = q.popleft()\n",
    "          for k in range(4):\n",
    "            x = i + dirs[k]\n",
    "            y = j + dirs[k + 1]\n",
    "            if x < 0 or x == m or y < 0 or y == n:\n",
    "              continue\n",
    "            if (x, y) in seen:\n",
    "              continue\n",
    "            seen.add((x, y))\n",
    "            if not grid[x][y]:\n",
    "              dist[x][y] += depth\n",
    "              reachCount[x][y] += 1\n",
    "              q.append((x, y))\n",
    "            elif grid[x][y] == 1:\n",
    "              seenBuildings += 1\n",
    "\n",
    "      # True if all buildings (1) are connected\n",
    "      return seenBuildings == nBuildings\n",
    "\n",
    "    for i in range(m):\n",
    "      for j in range(n):\n",
    "        if grid[i][j] == 1:  # Bfs from this building\n",
    "          if not bfs(i, j):\n",
    "            return -1\n",
    "\n",
    "    for i in range(m):\n",
    "      for j in range(n):\n",
    "        if reachCount[i][j] == nBuildings:\n",
    "          ans = min(ans, dist[i][j])\n",
    "\n",
    "    return -1 if ans == math.inf else ans"
   ]
  },
  {
   "cell_type": "code",
   "execution_count": null,
   "id": "8e1bfd67",
   "metadata": {},
   "outputs": [],
   "source": [
    "new Solution().shortestDistance()"
   ]
  }
 ],
 "metadata": {},
 "nbformat": 4,
 "nbformat_minor": 5
}

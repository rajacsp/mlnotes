{
 "cells": [
  {
   "cell_type": "markdown",
   "id": "9ff48a79",
   "metadata": {},
   "source": [
    "https://leetcode.com/problems/delete-node-in-a-linked-list"
   ]
  },
  {
   "cell_type": "code",
   "execution_count": null,
   "id": "5cd58901",
   "metadata": {},
   "outputs": [],
   "source": [
    "import pyutil as pyu\n",
    "pyu.get_local_pyinfo()"
   ]
  },
  {
   "cell_type": "code",
   "execution_count": null,
   "id": "ee7c980d",
   "metadata": {},
   "outputs": [],
   "source": [
    "print(pyu.ps2(\"python-dotenv\"))"
   ]
  },
  {
   "cell_type": "code",
   "execution_count": null,
   "id": "785f8745",
   "metadata": {},
   "outputs": [],
   "source": [
    "from typing import List"
   ]
  },
  {
   "cell_type": "code",
   "execution_count": null,
   "id": "f1e05beb",
   "metadata": {},
   "outputs": [],
   "source": [
    "class Solution:\n",
    "  def deleteNode(self, node):\n",
    "    node.val = node.next.val\n",
    "    node.next = node.next.next"
   ]
  },
  {
   "cell_type": "code",
   "execution_count": null,
   "id": "c424758b",
   "metadata": {},
   "outputs": [],
   "source": [
    "new Solution().deleteNode()"
   ]
  }
 ],
 "metadata": {},
 "nbformat": 4,
 "nbformat_minor": 5
}

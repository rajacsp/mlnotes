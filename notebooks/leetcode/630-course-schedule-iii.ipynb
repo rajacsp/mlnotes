{
 "cells": [
  {
   "cell_type": "markdown",
   "id": "6a44e869",
   "metadata": {},
   "source": [
    "https://leetcode.com/problems/course-schedule-iii"
   ]
  },
  {
   "cell_type": "code",
   "execution_count": null,
   "id": "78baf08f",
   "metadata": {},
   "outputs": [],
   "source": [
    "import pyutil as pyu\n",
    "pyu.get_local_pyinfo()"
   ]
  },
  {
   "cell_type": "code",
   "execution_count": null,
   "id": "ff33ea6b",
   "metadata": {},
   "outputs": [],
   "source": [
    "print(pyu.ps2(\"python-dotenv\"))"
   ]
  },
  {
   "cell_type": "code",
   "execution_count": null,
   "id": "c1b506ff",
   "metadata": {},
   "outputs": [],
   "source": [
    "from typing import List"
   ]
  },
  {
   "cell_type": "code",
   "execution_count": null,
   "id": "9585f35b",
   "metadata": {},
   "outputs": [],
   "source": [
    "class Solution:\n",
    "  def scheduleCourse(self, courses: List[List[int]]) -> int:\n",
    "    time = 0\n",
    "    maxHeap = []\n",
    "\n",
    "    for duration, lastDay in sorted(courses, key=lambda x: x[1]):\n",
    "      heapq.heappush(maxHeap, -duration)\n",
    "      time += duration\n",
    "      # If current course could not be taken, check if it's able to swap with a\n",
    "      # Previously taken course with larger duration, to increase the time\n",
    "      # Available to take upcoming courses\n",
    "      if time > lastDay:\n",
    "        time += heapq.heappop(maxHeap)\n",
    "\n",
    "    return len(maxHeap)"
   ]
  },
  {
   "cell_type": "code",
   "execution_count": null,
   "id": "243492fd",
   "metadata": {},
   "outputs": [],
   "source": [
    "new Solution().scheduleCourse()"
   ]
  }
 ],
 "metadata": {
  "kernelspec": {
   "display_name": "Python 3 (ipykernel)",
   "language": "python",
   "name": "python3"
  },
  "language_info": {
   "codemirror_mode": {
    "name": "ipython",
    "version": 3
   },
   "file_extension": ".py",
   "mimetype": "text/x-python",
   "name": "python",
   "nbconvert_exporter": "python",
   "pygments_lexer": "ipython3",
   "version": "3.11.10"
  }
 },
 "nbformat": 4,
 "nbformat_minor": 5
}

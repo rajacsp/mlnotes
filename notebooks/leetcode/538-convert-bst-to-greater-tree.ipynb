{
 "cells": [
  {
   "cell_type": "markdown",
   "id": "d85c8dba",
   "metadata": {},
   "source": [
    "https://leetcode.com/problems/convert-bst-to-greater-tree"
   ]
  },
  {
   "cell_type": "code",
   "execution_count": null,
   "id": "a0301c9b",
   "metadata": {},
   "outputs": [],
   "source": [
    "import pyutil as pyu\n",
    "pyu.get_local_pyinfo()"
   ]
  },
  {
   "cell_type": "code",
   "execution_count": null,
   "id": "f08cd538",
   "metadata": {},
   "outputs": [],
   "source": [
    "print(pyu.ps2(\"python-dotenv\"))"
   ]
  },
  {
   "cell_type": "code",
   "execution_count": null,
   "id": "b9ea58eb",
   "metadata": {},
   "outputs": [],
   "source": [
    "from typing import List"
   ]
  },
  {
   "cell_type": "code",
   "execution_count": null,
   "id": "a4de58f6",
   "metadata": {},
   "outputs": [],
   "source": [
    "class Solution:\n",
    "  def convertBST(self, root: Optional[TreeNode]) -> Optional[TreeNode]:\n",
    "    prefix = 0\n",
    "\n",
    "    def reversedInorder(root: Optional[TreeNode]) -> None:\n",
    "      nonlocal prefix\n",
    "      if not root:\n",
    "        return\n",
    "\n",
    "      reversedInorder(root.right)\n",
    "      prefix += root.val\n",
    "      root.val = prefix\n",
    "      reversedInorder(root.left)\n",
    "\n",
    "    reversedInorder(root)\n",
    "    return root"
   ]
  },
  {
   "cell_type": "code",
   "execution_count": null,
   "id": "0ec042fd",
   "metadata": {},
   "outputs": [],
   "source": [
    "new Solution().convertBST()"
   ]
  }
 ],
 "metadata": {},
 "nbformat": 4,
 "nbformat_minor": 5
}

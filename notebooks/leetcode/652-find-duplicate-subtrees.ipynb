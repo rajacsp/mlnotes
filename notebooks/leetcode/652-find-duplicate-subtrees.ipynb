{
 "cells": [
  {
   "cell_type": "markdown",
   "id": "20def9d8",
   "metadata": {},
   "source": [
    "https://leetcode.com/problems/find-duplicate-subtrees"
   ]
  },
  {
   "cell_type": "code",
   "execution_count": null,
   "id": "e9f80efe",
   "metadata": {},
   "outputs": [],
   "source": [
    "import pyutil as pyu\n",
    "pyu.get_local_pyinfo()"
   ]
  },
  {
   "cell_type": "code",
   "execution_count": null,
   "id": "d3e4cc80",
   "metadata": {},
   "outputs": [],
   "source": [
    "print(pyu.ps2(\"python-dotenv\"))"
   ]
  },
  {
   "cell_type": "code",
   "execution_count": null,
   "id": "b27265e1",
   "metadata": {},
   "outputs": [],
   "source": [
    "from typing import List"
   ]
  },
  {
   "cell_type": "code",
   "execution_count": null,
   "id": "aa85dd7c",
   "metadata": {},
   "outputs": [],
   "source": [
    "class Solution:\n",
    "  def findDuplicateSubtrees(self, root: Optional[TreeNode]) -> List[Optional[TreeNode]]:\n",
    "    ans = []\n",
    "    count = Counter()\n",
    "\n",
    "    def encode(root: Optional[TreeNode]) -> str:\n",
    "      if not root:\n",
    "        return ''\n",
    "\n",
    "      encoded = str(root.val) + '#' + \\\n",
    "          encode(root.left) + '#' + \\\n",
    "          encode(root.right)\n",
    "      count[encoded] += 1\n",
    "      if count[encoded] == 2:\n",
    "        ans.append(root)\n",
    "      return encoded\n",
    "\n",
    "    encode(root)\n",
    "    return ans"
   ]
  },
  {
   "cell_type": "code",
   "execution_count": null,
   "id": "5020cc87",
   "metadata": {},
   "outputs": [],
   "source": [
    "new Solution().findDuplicateSubtrees()"
   ]
  }
 ],
 "metadata": {},
 "nbformat": 4,
 "nbformat_minor": 5
}

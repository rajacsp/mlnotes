{
 "cells": [
  {
   "cell_type": "markdown",
   "id": "af021f00",
   "metadata": {},
   "source": [
    "https://leetcode.com/problems/longest-line-of-consecutive-one-in-matrix"
   ]
  },
  {
   "cell_type": "code",
   "execution_count": null,
   "id": "17eae9e6",
   "metadata": {},
   "outputs": [],
   "source": [
    "import pyutil as pyu\n",
    "pyu.get_local_pyinfo()"
   ]
  },
  {
   "cell_type": "code",
   "execution_count": null,
   "id": "ef2c01de",
   "metadata": {},
   "outputs": [],
   "source": [
    "print(pyu.ps2(\"python-dotenv\"))"
   ]
  },
  {
   "cell_type": "code",
   "execution_count": null,
   "id": "6fed4aa8",
   "metadata": {},
   "outputs": [],
   "source": [
    "from typing import List"
   ]
  },
  {
   "cell_type": "code",
   "execution_count": null,
   "id": "47b57d96",
   "metadata": {},
   "outputs": [],
   "source": [
    "class Solution:\n",
    "  def longestLine(self, mat: List[List[int]]) -> int:\n",
    "    m = len(mat)\n",
    "    n = len(mat[0])\n",
    "    ans = 0\n",
    "    # dp[i][j][0] := horizontal\n",
    "    # dp[i][j][1] := vertical\n",
    "    # dp[i][j][2] := diagonal\n",
    "    # dp[i][j][3] := anti-diagonal\n",
    "    dp = [[[0] * 4 for j in range(n)] for _ in range(m)]\n",
    "\n",
    "    for i in range(m):\n",
    "      for j in range(n):\n",
    "        if mat[i][j] == 1:\n",
    "          dp[i][j][0] = dp[i][j - 1][0] + 1 if j > 0 else 1\n",
    "          dp[i][j][1] = dp[i - 1][j][1] + 1 if i > 0 else 1\n",
    "          dp[i][j][2] = dp[i - 1][j - 1][2] + 1 if i > 0 and j > 0 else 1\n",
    "          dp[i][j][3] = dp[i - 1][j + 1][3] + 1 if i > 0 and j < n - 1 else 1\n",
    "          ans = max(ans, max(dp[i][j]))\n",
    "\n",
    "    return ans"
   ]
  },
  {
   "cell_type": "code",
   "execution_count": null,
   "id": "a20613a5",
   "metadata": {},
   "outputs": [],
   "source": [
    "new Solution().longestLine()"
   ]
  }
 ],
 "metadata": {},
 "nbformat": 4,
 "nbformat_minor": 5
}

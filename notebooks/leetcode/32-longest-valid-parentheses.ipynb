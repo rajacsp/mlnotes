{
 "cells": [
  {
   "cell_type": "markdown",
   "id": "354f2424",
   "metadata": {},
   "source": [
    "https://leetcode.com/problems/longest-valid-parentheses"
   ]
  },
  {
   "cell_type": "code",
   "execution_count": null,
   "id": "d5afde27",
   "metadata": {},
   "outputs": [],
   "source": [
    "import pyutil as pyu\n",
    "pyu.get_local_pyinfo()"
   ]
  },
  {
   "cell_type": "code",
   "execution_count": null,
   "id": "3311eecf",
   "metadata": {},
   "outputs": [],
   "source": [
    "print(pyu.ps2(\"python-dotenv\"))"
   ]
  },
  {
   "cell_type": "code",
   "execution_count": null,
   "id": "07354ed2",
   "metadata": {},
   "outputs": [],
   "source": [
    "from typing import List"
   ]
  },
  {
   "cell_type": "code",
   "execution_count": null,
   "id": "6478e0a9",
   "metadata": {},
   "outputs": [],
   "source": [
    "class Solution:\n",
    "  def longestValidParentheses(self, s: str) -> int:\n",
    "    s2 = ')' + s\n",
    "    # dp[i] := Length of longest valid parentheses substring of s2[1..i]\n",
    "    dp = [0] * len(s2)\n",
    "\n",
    "    for i in range(1, len(s2)):\n",
    "      if s2[i] == ')' and s2[i - dp[i - 1] - 1] == '(':\n",
    "        dp[i] = dp[i - 1] + dp[i - dp[i - 1] - 2] + 2\n",
    "\n",
    "    return max(dp)"
   ]
  },
  {
   "cell_type": "code",
   "execution_count": null,
   "id": "8e0022ba",
   "metadata": {},
   "outputs": [],
   "source": [
    "new Solution().longestValidParentheses()"
   ]
  }
 ],
 "metadata": {},
 "nbformat": 4,
 "nbformat_minor": 5
}

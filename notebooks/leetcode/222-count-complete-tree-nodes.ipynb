{
 "cells": [
  {
   "cell_type": "markdown",
   "id": "3a3bb8b2",
   "metadata": {},
   "source": [
    "https://leetcode.com/problems/count-complete-tree-nodes"
   ]
  },
  {
   "cell_type": "code",
   "execution_count": null,
   "id": "4d51bcac",
   "metadata": {},
   "outputs": [],
   "source": [
    "import pyutil as pyu\n",
    "pyu.get_local_pyinfo()"
   ]
  },
  {
   "cell_type": "code",
   "execution_count": null,
   "id": "4e7da8cc",
   "metadata": {},
   "outputs": [],
   "source": [
    "print(pyu.ps2(\"python-dotenv\"))"
   ]
  },
  {
   "cell_type": "code",
   "execution_count": null,
   "id": "a9475b0e",
   "metadata": {},
   "outputs": [],
   "source": [
    "from typing import List"
   ]
  },
  {
   "cell_type": "code",
   "execution_count": null,
   "id": "e9c7d376",
   "metadata": {},
   "outputs": [],
   "source": [
    "class Solution:\n",
    "  def countNodes(self, root: Optional[TreeNode]) -> int:\n",
    "    if not root:\n",
    "      return 0\n",
    "    return 1 + self.countNodes(root.left) + self.countNodes(root.right)"
   ]
  },
  {
   "cell_type": "code",
   "execution_count": null,
   "id": "4f974bed",
   "metadata": {},
   "outputs": [],
   "source": [
    "new Solution().countNodes()"
   ]
  }
 ],
 "metadata": {},
 "nbformat": 4,
 "nbformat_minor": 5
}

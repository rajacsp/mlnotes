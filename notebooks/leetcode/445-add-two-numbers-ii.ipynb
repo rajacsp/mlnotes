{
 "cells": [
  {
   "cell_type": "markdown",
   "id": "ac356318",
   "metadata": {},
   "source": [
    "https://leetcode.com/problems/add-two-numbers-ii"
   ]
  },
  {
   "cell_type": "code",
   "execution_count": null,
   "id": "eb9ee488",
   "metadata": {},
   "outputs": [],
   "source": [
    "import pyutil as pyu\n",
    "pyu.get_local_pyinfo()"
   ]
  },
  {
   "cell_type": "code",
   "execution_count": null,
   "id": "28138146",
   "metadata": {},
   "outputs": [],
   "source": [
    "print(pyu.ps2(\"python-dotenv\"))"
   ]
  },
  {
   "cell_type": "code",
   "execution_count": null,
   "id": "702c2604",
   "metadata": {},
   "outputs": [],
   "source": [
    "from typing import List"
   ]
  },
  {
   "cell_type": "code",
   "execution_count": null,
   "id": "3b25e9dc",
   "metadata": {},
   "outputs": [],
   "source": [
    "class Solution:\n",
    "  def addTwoNumbers(self, l1: ListNode, l2: ListNode) -> ListNode:\n",
    "    stack1 = []\n",
    "    stack2 = []\n",
    "\n",
    "    while l1:\n",
    "      stack1.append(l1)\n",
    "      l1 = l1.next\n",
    "\n",
    "    while l2:\n",
    "      stack2.append(l2)\n",
    "      l2 = l2.next\n",
    "\n",
    "    head = None\n",
    "    carry = 0\n",
    "\n",
    "    while carry or stack1 or stack2:\n",
    "      if stack1:\n",
    "        carry += stack1.pop().val\n",
    "      if stack2:\n",
    "        carry += stack2.pop().val\n",
    "      node = ListNode(carry % 10)\n",
    "      node.next = head\n",
    "      head = node\n",
    "      carry //= 10\n",
    "\n",
    "    return head"
   ]
  },
  {
   "cell_type": "code",
   "execution_count": null,
   "id": "967eedc3",
   "metadata": {},
   "outputs": [],
   "source": [
    "new Solution().addTwoNumbers()"
   ]
  }
 ],
 "metadata": {},
 "nbformat": 4,
 "nbformat_minor": 5
}

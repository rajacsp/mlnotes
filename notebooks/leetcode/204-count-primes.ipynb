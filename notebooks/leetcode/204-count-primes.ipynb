{
 "cells": [
  {
   "cell_type": "markdown",
   "id": "fc03a89f",
   "metadata": {},
   "source": [
    "https://leetcode.com/problems/count-primes"
   ]
  },
  {
   "cell_type": "code",
   "execution_count": null,
   "id": "b07cab00",
   "metadata": {},
   "outputs": [],
   "source": [
    "import pyutil as pyu\n",
    "pyu.get_local_pyinfo()"
   ]
  },
  {
   "cell_type": "code",
   "execution_count": null,
   "id": "32960e3c",
   "metadata": {},
   "outputs": [],
   "source": [
    "print(pyu.ps2(\"python-dotenv\"))"
   ]
  },
  {
   "cell_type": "code",
   "execution_count": null,
   "id": "40fbb0d1",
   "metadata": {},
   "outputs": [],
   "source": [
    "from typing import List"
   ]
  },
  {
   "cell_type": "code",
   "execution_count": null,
   "id": "370bca1d",
   "metadata": {},
   "outputs": [],
   "source": [
    "class Solution:\n",
    "  def countPrimes(self, n: int) -> int:\n",
    "    if n <= 2:\n",
    "      return 0\n",
    "\n",
    "    isPrime = [False] * 2 + [True] * (n - 2)\n",
    "\n",
    "    for i in range(2, int(n**0.5) + 1):\n",
    "      if isPrime[i]:\n",
    "        for j in range(i * i, n, i):\n",
    "          isPrime[j] = False\n",
    "\n",
    "    return sum(isPrime)"
   ]
  },
  {
   "cell_type": "code",
   "execution_count": null,
   "id": "e592fe65",
   "metadata": {},
   "outputs": [],
   "source": [
    "new Solution().countPrimes()"
   ]
  }
 ],
 "metadata": {},
 "nbformat": 4,
 "nbformat_minor": 5
}

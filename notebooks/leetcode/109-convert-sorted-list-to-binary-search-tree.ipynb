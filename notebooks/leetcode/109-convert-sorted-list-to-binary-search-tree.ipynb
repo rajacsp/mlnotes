{
 "cells": [
  {
   "cell_type": "markdown",
   "id": "bfab78ec",
   "metadata": {},
   "source": [
    "https://leetcode.com/problems/convert-sorted-list-to-binary-search-tree"
   ]
  },
  {
   "cell_type": "code",
   "execution_count": null,
   "id": "2abe4d66",
   "metadata": {},
   "outputs": [],
   "source": [
    "import pyutil as pyu\n",
    "pyu.get_local_pyinfo()"
   ]
  },
  {
   "cell_type": "code",
   "execution_count": null,
   "id": "5a47bb52",
   "metadata": {},
   "outputs": [],
   "source": [
    "print(pyu.ps2(\"python-dotenv\"))"
   ]
  },
  {
   "cell_type": "code",
   "execution_count": null,
   "id": "40a8f0c0",
   "metadata": {},
   "outputs": [],
   "source": [
    "from typing import List"
   ]
  },
  {
   "cell_type": "code",
   "execution_count": null,
   "id": "0fab8f65",
   "metadata": {},
   "outputs": [],
   "source": [
    "class Solution:\n",
    "  def sortedListToBST(self, head: ListNode) -> TreeNode:\n",
    "    def findMid(head: ListNode) -> ListNode:\n",
    "      prev = None\n",
    "      slow = head\n",
    "      fast = head\n",
    "\n",
    "      while fast and fast.next:\n",
    "        prev = slow\n",
    "        slow = slow.next\n",
    "        fast = fast.next.next\n",
    "      prev.next = None\n",
    "\n",
    "      return slow\n",
    "\n",
    "    if not head:\n",
    "      return None\n",
    "    if not head.next:\n",
    "      return TreeNode(head.val)\n",
    "\n",
    "    mid = findMid(head)\n",
    "    root = TreeNode(mid.val)\n",
    "    root.left = self.sortedListToBST(head)\n",
    "    root.right = self.sortedListToBST(mid.next)\n",
    "\n",
    "    return root"
   ]
  },
  {
   "cell_type": "code",
   "execution_count": null,
   "id": "a49fa5c7",
   "metadata": {},
   "outputs": [],
   "source": [
    "new Solution().sortedListToBST()"
   ]
  }
 ],
 "metadata": {},
 "nbformat": 4,
 "nbformat_minor": 5
}

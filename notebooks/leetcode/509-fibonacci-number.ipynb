{
 "cells": [
  {
   "cell_type": "markdown",
   "id": "ab9775b6",
   "metadata": {},
   "source": [
    "https://leetcode.com/problems/fibonacci-number"
   ]
  },
  {
   "cell_type": "code",
   "execution_count": null,
   "id": "2e7135a4",
   "metadata": {},
   "outputs": [],
   "source": [
    "import pyutil as pyu\n",
    "pyu.get_local_pyinfo()"
   ]
  },
  {
   "cell_type": "code",
   "execution_count": null,
   "id": "a7ce6341",
   "metadata": {},
   "outputs": [],
   "source": [
    "print(pyu.ps2(\"python-dotenv\"))"
   ]
  },
  {
   "cell_type": "code",
   "execution_count": null,
   "id": "5b2ca53e",
   "metadata": {},
   "outputs": [],
   "source": [
    "from typing import List"
   ]
  },
  {
   "cell_type": "code",
   "execution_count": null,
   "id": "440ff2aa",
   "metadata": {},
   "outputs": [],
   "source": [
    "class Solution:\n",
    "  def fib(self, N: int) -> int:\n",
    "    if N < 2:\n",
    "      return N\n",
    "\n",
    "    dp = [0, 0, 1]\n",
    "\n",
    "    for i in range(2, N + 1):\n",
    "      dp[0] = dp[1]\n",
    "      dp[1] = dp[2]\n",
    "      dp[2] = dp[0] + dp[1]\n",
    "\n",
    "    return dp[2]"
   ]
  },
  {
   "cell_type": "code",
   "execution_count": null,
   "id": "38a6dad1",
   "metadata": {},
   "outputs": [],
   "source": [
    "new Solution().fib()"
   ]
  }
 ],
 "metadata": {},
 "nbformat": 4,
 "nbformat_minor": 5
}

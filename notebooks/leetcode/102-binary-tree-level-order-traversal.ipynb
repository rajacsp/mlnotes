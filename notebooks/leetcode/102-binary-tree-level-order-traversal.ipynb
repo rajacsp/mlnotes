{
 "cells": [
  {
   "cell_type": "markdown",
   "id": "4ffbe9e9",
   "metadata": {},
   "source": [
    "https://leetcode.com/problems/binary-tree-level-order-traversal"
   ]
  },
  {
   "cell_type": "code",
   "execution_count": null,
   "id": "4aee0bbc",
   "metadata": {},
   "outputs": [],
   "source": [
    "import pyutil as pyu\n",
    "pyu.get_local_pyinfo()"
   ]
  },
  {
   "cell_type": "code",
   "execution_count": null,
   "id": "c75a6455",
   "metadata": {},
   "outputs": [],
   "source": [
    "print(pyu.ps2(\"python-dotenv\"))"
   ]
  },
  {
   "cell_type": "code",
   "execution_count": null,
   "id": "e43fceec",
   "metadata": {},
   "outputs": [],
   "source": [
    "from typing import List"
   ]
  },
  {
   "cell_type": "code",
   "execution_count": null,
   "id": "8b5e0e1d",
   "metadata": {},
   "outputs": [],
   "source": [
    "class Solution:\n",
    "  def levelOrder(self, root: Optional[TreeNode]) -> List[List[int]]:\n",
    "    if not root:\n",
    "      return []\n",
    "\n",
    "    ans = []\n",
    "    q = deque([root])\n",
    "\n",
    "    while q:\n",
    "      currLevel = []\n",
    "      for _ in range(len(q)):\n",
    "        node = q.popleft()\n",
    "        currLevel.append(node.val)\n",
    "        if node.left:\n",
    "          q.append(node.left)\n",
    "        if node.right:\n",
    "          q.append(node.right)\n",
    "      ans.append(currLevel)\n",
    "\n",
    "    return ans"
   ]
  },
  {
   "cell_type": "code",
   "execution_count": null,
   "id": "bfbadd92",
   "metadata": {},
   "outputs": [],
   "source": [
    "new Solution().levelOrder()"
   ]
  }
 ],
 "metadata": {},
 "nbformat": 4,
 "nbformat_minor": 5
}

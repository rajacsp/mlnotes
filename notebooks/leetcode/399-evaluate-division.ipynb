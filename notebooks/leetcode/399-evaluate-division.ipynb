{
 "cells": [
  {
   "cell_type": "markdown",
   "id": "a391a91f",
   "metadata": {},
   "source": [
    "https://leetcode.com/problems/evaluate-division"
   ]
  },
  {
   "cell_type": "code",
   "execution_count": null,
   "id": "33dfc0d8",
   "metadata": {},
   "outputs": [],
   "source": [
    "import pyutil as pyu\n",
    "pyu.get_local_pyinfo()"
   ]
  },
  {
   "cell_type": "code",
   "execution_count": null,
   "id": "749f6ce4",
   "metadata": {},
   "outputs": [],
   "source": [
    "print(pyu.ps2(\"python-dotenv\"))"
   ]
  },
  {
   "cell_type": "code",
   "execution_count": null,
   "id": "0f009dd8",
   "metadata": {},
   "outputs": [],
   "source": [
    "from typing import List"
   ]
  },
  {
   "cell_type": "code",
   "execution_count": null,
   "id": "62607ef9",
   "metadata": {},
   "outputs": [],
   "source": [
    "class Solution:\n",
    "  def calcEquation(self, equations: List[List[str]], values: List[float], queries: List[List[str]]) -> List[float]:\n",
    "    ans = []\n",
    "    # graph[A][B] := A / B\n",
    "    graph = defaultdict(dict)\n",
    "\n",
    "    for (A, B), value in zip(equations, values):\n",
    "      graph[A][B] = value\n",
    "      graph[B][A] = 1 / value\n",
    "\n",
    "    # Returns A / C\n",
    "    def devide(A: str, C: str, seen: Set[str]) -> float:\n",
    "      if A == C:\n",
    "        return 1.0\n",
    "\n",
    "      seen.add(A)\n",
    "\n",
    "      # Value := A / B\n",
    "      for B, value in graph[A].items():\n",
    "        if B in seen:\n",
    "          continue\n",
    "        res = devide(B, C, seen)  # B / C\n",
    "        if res > 0:  # Valid\n",
    "          return value * res  # (A / B) * (B / C) = A / C\n",
    "\n",
    "      return -1.0  # Invalid\n",
    "\n",
    "    for A, C in queries:\n",
    "      if A not in graph and C not in graph:\n",
    "        ans.append(-1.0)\n",
    "      else:\n",
    "        ans.append(devide(A, C, set()))\n",
    "\n",
    "    return ans"
   ]
  },
  {
   "cell_type": "code",
   "execution_count": null,
   "id": "3b0ee99f",
   "metadata": {},
   "outputs": [],
   "source": [
    "new Solution().calcEquation()"
   ]
  }
 ],
 "metadata": {},
 "nbformat": 4,
 "nbformat_minor": 5
}

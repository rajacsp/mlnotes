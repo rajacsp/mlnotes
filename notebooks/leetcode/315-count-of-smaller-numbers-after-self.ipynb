{
 "cells": [
  {
   "cell_type": "markdown",
   "id": "627ecfb3",
   "metadata": {},
   "source": [
    "https://leetcode.com/problems/count-of-smaller-numbers-after-self"
   ]
  },
  {
   "cell_type": "code",
   "execution_count": null,
   "id": "e5734d37",
   "metadata": {},
   "outputs": [],
   "source": [
    "import pyutil as pyu\n",
    "pyu.get_local_pyinfo()"
   ]
  },
  {
   "cell_type": "code",
   "execution_count": null,
   "id": "c82c2e71",
   "metadata": {},
   "outputs": [],
   "source": [
    "print(pyu.ps2(\"python-dotenv\"))"
   ]
  },
  {
   "cell_type": "code",
   "execution_count": null,
   "id": "6ed2312d",
   "metadata": {},
   "outputs": [],
   "source": [
    "from typing import List"
   ]
  },
  {
   "cell_type": "code",
   "execution_count": null,
   "id": "de64102a",
   "metadata": {},
   "outputs": [],
   "source": [
    "class FenwickTree:\n",
    "  def __init__(self, n: int):\n",
    "    self.sums = [0] * (n + 1)\n",
    "\n",
    "  def update(self, i: int, delta: int) -> None:\n",
    "    while i < len(self.sums):\n",
    "      self.sums[i] += delta\n",
    "      i += self._lowbit(i)\n",
    "\n",
    "  def get(self, i: int) -> int:\n",
    "    summ = 0\n",
    "    while i > 0:\n",
    "      summ += self.sums[i]\n",
    "      i -= self._lowbit(i)\n",
    "    return summ\n",
    "\n",
    "  def _lowbit(self, i) -> int:\n",
    "    return i & -i\n",
    "\n",
    "\n",
    "class Solution:\n",
    "  def countSmaller(self, nums: List[int]) -> List[int]:\n",
    "    ans = []\n",
    "    ranks = Counter()\n",
    "    self._getRanks(nums, ranks)\n",
    "    tree = FenwickTree(len(ranks))\n",
    "\n",
    "    for num in reversed(nums):\n",
    "      ans.append(tree.get(ranks[num] - 1))\n",
    "      tree.update(ranks[num], 1)\n",
    "\n",
    "    return ans[::-1]\n",
    "\n",
    "  def _getRanks(self, nums: List[int], ranks: Dict[int, int]) -> None:\n",
    "    rank = 0\n",
    "    for num in sorted(set(nums)):\n",
    "      rank += 1\n",
    "      ranks[num] = rank"
   ]
  },
  {
   "cell_type": "code",
   "execution_count": null,
   "id": "16c882db",
   "metadata": {},
   "outputs": [],
   "source": [
    "new Solution().countSmaller()"
   ]
  }
 ],
 "metadata": {},
 "nbformat": 4,
 "nbformat_minor": 5
}

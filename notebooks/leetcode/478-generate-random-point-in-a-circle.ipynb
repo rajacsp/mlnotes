{
 "cells": [
  {
   "cell_type": "markdown",
   "id": "a8493efa",
   "metadata": {},
   "source": [
    "https://leetcode.com/problems/generate-random-point-in-a-circle"
   ]
  },
  {
   "cell_type": "code",
   "execution_count": null,
   "id": "3364ae5f",
   "metadata": {},
   "outputs": [],
   "source": [
    "import pyutil as pyu\n",
    "pyu.get_local_pyinfo()"
   ]
  },
  {
   "cell_type": "code",
   "execution_count": null,
   "id": "d9dc9de7",
   "metadata": {},
   "outputs": [],
   "source": [
    "print(pyu.ps2(\"python-dotenv\"))"
   ]
  },
  {
   "cell_type": "code",
   "execution_count": null,
   "id": "8de71a95",
   "metadata": {},
   "outputs": [],
   "source": [
    "from typing import List"
   ]
  },
  {
   "cell_type": "code",
   "execution_count": null,
   "id": "cc3af7ed",
   "metadata": {},
   "outputs": [],
   "source": [
    "class Solution:\n",
    "  def __init__(self, radius: float, x_center: float, y_center: float):\n",
    "    self.radius = radius\n",
    "    self.x_center = x_center\n",
    "    self.y_center = y_center\n",
    "\n",
    "  def randPoint(self) -> List[float]:\n",
    "    length = sqrt(random.uniform(0, 1)) * self.radius\n",
    "    degree = random.uniform(0, 1) * 2 * math.pi\n",
    "    x = self.x_center + length * math.cos(degree)\n",
    "    y = self.y_center + length * math.sin(degree)\n",
    "    return [x, y]"
   ]
  },
  {
   "cell_type": "code",
   "execution_count": null,
   "id": "a1df68bd",
   "metadata": {},
   "outputs": [],
   "source": [
    "new Solution().__init__()"
   ]
  }
 ],
 "metadata": {},
 "nbformat": 4,
 "nbformat_minor": 5
}

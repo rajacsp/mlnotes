{
 "cells": [
  {
   "cell_type": "markdown",
   "id": "7b2cd0f6",
   "metadata": {},
   "source": [
    "https://leetcode.com/problems/integer-replacement"
   ]
  },
  {
   "cell_type": "code",
   "execution_count": null,
   "id": "1e598122",
   "metadata": {},
   "outputs": [],
   "source": [
    "import pyutil as pyu\n",
    "pyu.get_local_pyinfo()"
   ]
  },
  {
   "cell_type": "code",
   "execution_count": null,
   "id": "d203008b",
   "metadata": {},
   "outputs": [],
   "source": [
    "print(pyu.ps2(\"python-dotenv\"))"
   ]
  },
  {
   "cell_type": "code",
   "execution_count": null,
   "id": "fe35460f",
   "metadata": {},
   "outputs": [],
   "source": [
    "from typing import List"
   ]
  },
  {
   "cell_type": "code",
   "execution_count": null,
   "id": "4eb8f738",
   "metadata": {},
   "outputs": [],
   "source": [
    "class Solution:\n",
    "  def integerReplacement(self, n: int) -> int:\n",
    "    ans = 0\n",
    "\n",
    "    while n > 1:\n",
    "      if (n & 1) == 0:\n",
    "        n >>= 1\n",
    "      elif n == 3 or ((n >> 1) & 1) == 0:\n",
    "        n -= 1\n",
    "      else:\n",
    "        n += 1\n",
    "      ans += 1\n",
    "\n",
    "    return ans"
   ]
  },
  {
   "cell_type": "code",
   "execution_count": null,
   "id": "47ad80b2",
   "metadata": {},
   "outputs": [],
   "source": [
    "new Solution().integerReplacement()"
   ]
  }
 ],
 "metadata": {},
 "nbformat": 4,
 "nbformat_minor": 5
}

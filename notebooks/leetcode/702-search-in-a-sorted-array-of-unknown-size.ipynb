{
 "cells": [
  {
   "cell_type": "markdown",
   "id": "891b15e6",
   "metadata": {},
   "source": [
    "https://leetcode.com/problems/search-in-a-sorted-array-of-unknown-size"
   ]
  },
  {
   "cell_type": "code",
   "execution_count": null,
   "id": "80e8e884",
   "metadata": {},
   "outputs": [],
   "source": [
    "import pyutil as pyu\n",
    "pyu.get_local_pyinfo()"
   ]
  },
  {
   "cell_type": "code",
   "execution_count": null,
   "id": "d0410bf3",
   "metadata": {},
   "outputs": [],
   "source": [
    "print(pyu.ps2(\"python-dotenv\"))"
   ]
  },
  {
   "cell_type": "code",
   "execution_count": null,
   "id": "6d6d7d6e",
   "metadata": {},
   "outputs": [],
   "source": [
    "from typing import List"
   ]
  },
  {
   "cell_type": "code",
   "execution_count": null,
   "id": "93233be6",
   "metadata": {},
   "outputs": [],
   "source": [
    "# \"\"\"\n",
    "# This is ArrayReader's API interface.\n",
    "# You should not implement it, or speculate about its implementation\n",
    "# \"\"\"\n",
    "# Class ArrayReader:\n",
    "#   def get(self, index: int) -> int:\n",
    "\n",
    "class Solution:\n",
    "  def search(self, reader: 'ArrayReader', target: int) -> int:\n",
    "    l = 0\n",
    "    r = 10**4\n",
    "\n",
    "    while l < r:\n",
    "      m = (l + r) // 2\n",
    "      if reader.get(m) < target:\n",
    "        l = m + 1\n",
    "      else:\n",
    "        r = m\n",
    "\n",
    "    return l if reader.get(l) == target else -1"
   ]
  },
  {
   "cell_type": "code",
   "execution_count": null,
   "id": "e28cd48c",
   "metadata": {},
   "outputs": [],
   "source": [
    "new Solution().search()"
   ]
  }
 ],
 "metadata": {},
 "nbformat": 4,
 "nbformat_minor": 5
}

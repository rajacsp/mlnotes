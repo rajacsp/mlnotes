{
 "cells": [
  {
   "cell_type": "markdown",
   "id": "3ce177ca",
   "metadata": {},
   "source": [
    "https://leetcode.com/problems/best-time-to-buy-and-sell-stock"
   ]
  },
  {
   "cell_type": "code",
   "execution_count": null,
   "id": "34005e21",
   "metadata": {},
   "outputs": [],
   "source": [
    "import pyutil as pyu\n",
    "pyu.get_local_pyinfo()"
   ]
  },
  {
   "cell_type": "code",
   "execution_count": null,
   "id": "0140cfc4",
   "metadata": {},
   "outputs": [],
   "source": [
    "print(pyu.ps2(\"python-dotenv\"))"
   ]
  },
  {
   "cell_type": "code",
   "execution_count": null,
   "id": "dbd8ad32",
   "metadata": {},
   "outputs": [],
   "source": [
    "from typing import List"
   ]
  },
  {
   "cell_type": "code",
   "execution_count": null,
   "id": "5178d7a0",
   "metadata": {},
   "outputs": [],
   "source": [
    "class Solution:\n",
    "  def maxProfit(self, prices: List[int]) -> int:\n",
    "    sellOne = 0\n",
    "    holdOne = -math.inf\n",
    "\n",
    "    for price in prices:\n",
    "      sellOne = max(sellOne, holdOne + price)\n",
    "      holdOne = max(holdOne, -price)\n",
    "\n",
    "    return sellOne"
   ]
  },
  {
   "cell_type": "code",
   "execution_count": null,
   "id": "77ff517d",
   "metadata": {},
   "outputs": [],
   "source": [
    "new Solution().maxProfit()"
   ]
  }
 ],
 "metadata": {},
 "nbformat": 4,
 "nbformat_minor": 5
}

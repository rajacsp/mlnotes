{
 "cells": [
  {
   "cell_type": "markdown",
   "id": "6949b413",
   "metadata": {},
   "source": [
    "https://leetcode.com/problems/simplify-path"
   ]
  },
  {
   "cell_type": "code",
   "execution_count": null,
   "id": "eb9071e3",
   "metadata": {},
   "outputs": [],
   "source": [
    "import pyutil as pyu\n",
    "pyu.get_local_pyinfo()"
   ]
  },
  {
   "cell_type": "code",
   "execution_count": null,
   "id": "75849053",
   "metadata": {},
   "outputs": [],
   "source": [
    "print(pyu.ps2(\"python-dotenv\"))"
   ]
  },
  {
   "cell_type": "code",
   "execution_count": null,
   "id": "9cfa5dcc",
   "metadata": {},
   "outputs": [],
   "source": [
    "from typing import List"
   ]
  },
  {
   "cell_type": "code",
   "execution_count": null,
   "id": "a2518b7a",
   "metadata": {},
   "outputs": [],
   "source": [
    "class Solution:\n",
    "  def simplifyPath(self, path: str) -> str:\n",
    "    stack = []\n",
    "\n",
    "    for str in path.split('/'):\n",
    "      if str in ('', '.'):\n",
    "        continue\n",
    "      if str == '..':\n",
    "        if stack:\n",
    "          stack.pop()\n",
    "      else:\n",
    "        stack.append(str)\n",
    "\n",
    "    return '/' + '/'.join(stack)"
   ]
  },
  {
   "cell_type": "code",
   "execution_count": null,
   "id": "1a2d5ea6",
   "metadata": {},
   "outputs": [],
   "source": [
    "new Solution().simplifyPath()"
   ]
  }
 ],
 "metadata": {},
 "nbformat": 4,
 "nbformat_minor": 5
}

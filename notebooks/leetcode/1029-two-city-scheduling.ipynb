{
 "cells": [
  {
   "cell_type": "markdown",
   "id": "06e0bd5c",
   "metadata": {},
   "source": [
    "https://leetcode.com/problems/two-city-scheduling"
   ]
  },
  {
   "cell_type": "code",
   "execution_count": null,
   "id": "68248359",
   "metadata": {},
   "outputs": [],
   "source": [
    "import pyutil as pyu\n",
    "pyu.get_local_pyinfo()"
   ]
  },
  {
   "cell_type": "code",
   "execution_count": null,
   "id": "364b9aae",
   "metadata": {},
   "outputs": [],
   "source": [
    "print(pyu.ps2(\"python-dotenv\"))"
   ]
  },
  {
   "cell_type": "code",
   "execution_count": null,
   "id": "203ccc84",
   "metadata": {},
   "outputs": [],
   "source": [
    "from typing import List"
   ]
  },
  {
   "cell_type": "code",
   "execution_count": null,
   "id": "f68b1775",
   "metadata": {},
   "outputs": [],
   "source": [
    "class Solution:\n",
    "  def twoCitySchedCost(self, costs: List[List[int]]) -> int:\n",
    "    n = len(costs) // 2\n",
    "\n",
    "    # How much money can we save if we fly a person to A instead of B?\n",
    "    # To save money, we should\n",
    "    #   1) fly the person with the max saving to A\n",
    "    #   2) fly the person with the min saving to B\n",
    "\n",
    "    # Sort in descending order by the money saved if we fly a person to A\n",
    "    costs.sort(key=lambda x: x[0] - x[1])\n",
    "    return sum(costs[i][0] + costs[i + n][1] for i in range(n))"
   ]
  },
  {
   "cell_type": "code",
   "execution_count": null,
   "id": "f5a175d4",
   "metadata": {},
   "outputs": [],
   "source": [
    "new Solution().twoCitySchedCost()"
   ]
  }
 ],
 "metadata": {},
 "nbformat": 4,
 "nbformat_minor": 5
}

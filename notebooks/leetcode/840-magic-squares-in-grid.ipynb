{
 "cells": [
  {
   "cell_type": "markdown",
   "id": "ceff796a",
   "metadata": {},
   "source": [
    "https://leetcode.com/problems/magic-squares-in-grid"
   ]
  },
  {
   "cell_type": "code",
   "execution_count": null,
   "id": "a0c8e6e7",
   "metadata": {},
   "outputs": [],
   "source": [
    "import pyutil as pyu\n",
    "pyu.get_local_pyinfo()"
   ]
  },
  {
   "cell_type": "code",
   "execution_count": null,
   "id": "7d40888f",
   "metadata": {},
   "outputs": [],
   "source": [
    "print(pyu.ps2(\"python-dotenv\"))"
   ]
  },
  {
   "cell_type": "code",
   "execution_count": null,
   "id": "991d79c8",
   "metadata": {},
   "outputs": [],
   "source": [
    "from typing import List"
   ]
  },
  {
   "cell_type": "code",
   "execution_count": null,
   "id": "d2cb4f3b",
   "metadata": {},
   "outputs": [],
   "source": [
    "class Solution:\n",
    "  def numMagicSquaresInside(self, grid: List[List[int]]) -> int:\n",
    "    def isMagic(i: int, j: int) -> int:\n",
    "      s = \"\".join(str(grid[i + num // 3][j + num % 3])\n",
    "                  for num in [0, 1, 2, 5, 8, 7, 6, 3])\n",
    "      return s in \"43816729\" * 2 or s in \"43816729\"[::-1] * 2\n",
    "\n",
    "    ans = 0\n",
    "\n",
    "    for i in range(len(grid) - 2):\n",
    "      for j in range(len(grid[0]) - 2):\n",
    "        if grid[i][j] % 2 == 0 and grid[i + 1][j + 1] == 5:\n",
    "          ans += isMagic(i, j)\n",
    "\n",
    "    return ans"
   ]
  },
  {
   "cell_type": "code",
   "execution_count": null,
   "id": "a56fe968",
   "metadata": {},
   "outputs": [],
   "source": [
    "new Solution().numMagicSquaresInside()"
   ]
  }
 ],
 "metadata": {},
 "nbformat": 4,
 "nbformat_minor": 5
}

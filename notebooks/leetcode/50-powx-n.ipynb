{
 "cells": [
  {
   "cell_type": "markdown",
   "id": "46cb42a3",
   "metadata": {},
   "source": [
    "https://leetcode.com/problems/powx-n"
   ]
  },
  {
   "cell_type": "code",
   "execution_count": null,
   "id": "d0d16740",
   "metadata": {},
   "outputs": [],
   "source": [
    "import pyutil as pyu\n",
    "pyu.get_local_pyinfo()"
   ]
  },
  {
   "cell_type": "code",
   "execution_count": null,
   "id": "58576ef5",
   "metadata": {},
   "outputs": [],
   "source": [
    "print(pyu.ps2(\"python-dotenv\"))"
   ]
  },
  {
   "cell_type": "code",
   "execution_count": null,
   "id": "f023c99d",
   "metadata": {},
   "outputs": [],
   "source": [
    "from typing import List"
   ]
  },
  {
   "cell_type": "code",
   "execution_count": null,
   "id": "e5aed696",
   "metadata": {},
   "outputs": [],
   "source": [
    "class Solution:\n",
    "  def myPow(self, x: float, n: int) -> float:\n",
    "    if n == 0:\n",
    "      return 1\n",
    "    if n < 0:\n",
    "      return 1 / self.myPow(x, -n)\n",
    "    if n & 1:\n",
    "      return x * self.myPow(x, n - 1)\n",
    "    return self.myPow(x * x, n // 2)"
   ]
  },
  {
   "cell_type": "code",
   "execution_count": null,
   "id": "a89d152b",
   "metadata": {},
   "outputs": [],
   "source": [
    "new Solution().myPow()"
   ]
  }
 ],
 "metadata": {},
 "nbformat": 4,
 "nbformat_minor": 5
}

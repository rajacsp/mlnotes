{
 "cells": [
  {
   "cell_type": "markdown",
   "id": "44209a15",
   "metadata": {},
   "source": [
    "https://leetcode.com/problems/masking-personal-information"
   ]
  },
  {
   "cell_type": "code",
   "execution_count": null,
   "id": "6e2323c6",
   "metadata": {},
   "outputs": [],
   "source": [
    "import pyutil as pyu\n",
    "pyu.get_local_pyinfo()"
   ]
  },
  {
   "cell_type": "code",
   "execution_count": null,
   "id": "03479328",
   "metadata": {},
   "outputs": [],
   "source": [
    "print(pyu.ps2(\"python-dotenv\"))"
   ]
  },
  {
   "cell_type": "code",
   "execution_count": null,
   "id": "3e7248b5",
   "metadata": {},
   "outputs": [],
   "source": [
    "from typing import List"
   ]
  },
  {
   "cell_type": "code",
   "execution_count": null,
   "id": "a51faf1f",
   "metadata": {},
   "outputs": [],
   "source": [
    "class Solution:\n",
    "  def maskPII(self, S: str) -> str:\n",
    "    atIndex = S.find('@')\n",
    "    if atIndex != -1:\n",
    "      S = S.lower()\n",
    "      return S[0] + '*' * 5 + S[atIndex - 1:]\n",
    "\n",
    "    ans = ''.join(c for c in S if c.isdigit())\n",
    "\n",
    "    if len(ans) == 10:\n",
    "      return '***-***-' + ans[-4:]\n",
    "    return '+' + '*' * (len(ans) - 10) + '-***-***-' + ans[-4:]"
   ]
  },
  {
   "cell_type": "code",
   "execution_count": null,
   "id": "a9d36909",
   "metadata": {},
   "outputs": [],
   "source": [
    "new Solution().maskPII()"
   ]
  }
 ],
 "metadata": {},
 "nbformat": 4,
 "nbformat_minor": 5
}

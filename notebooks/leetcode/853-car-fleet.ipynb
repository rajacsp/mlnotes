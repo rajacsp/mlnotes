{
 "cells": [
  {
   "cell_type": "markdown",
   "id": "183df5d5",
   "metadata": {},
   "source": [
    "https://leetcode.com/problems/car-fleet"
   ]
  },
  {
   "cell_type": "code",
   "execution_count": null,
   "id": "07c95826",
   "metadata": {},
   "outputs": [],
   "source": [
    "import pyutil as pyu\n",
    "pyu.get_local_pyinfo()"
   ]
  },
  {
   "cell_type": "code",
   "execution_count": null,
   "id": "e8068077",
   "metadata": {},
   "outputs": [],
   "source": [
    "print(pyu.ps2(\"python-dotenv\"))"
   ]
  },
  {
   "cell_type": "code",
   "execution_count": null,
   "id": "fc92fa88",
   "metadata": {},
   "outputs": [],
   "source": [
    "from typing import List"
   ]
  },
  {
   "cell_type": "code",
   "execution_count": null,
   "id": "3a30f45b",
   "metadata": {},
   "outputs": [],
   "source": [
    "class Solution:\n",
    "  def carFleet(self, target: int, position: List[int], speed: List[int]) -> int:\n",
    "    ans = 0\n",
    "    times = [\n",
    "        float(target - p) / s for p, s in sorted(zip(position, speed),\n",
    "                                                 reverse=True)]\n",
    "    maxTime = 0  # The time of the slowest car to reach the target\n",
    "\n",
    "    for time in times:\n",
    "      # A car needs more time to reach the target, so it becomes slowest\n",
    "      if time > maxTime:\n",
    "        maxTime = time\n",
    "        ans += 1\n",
    "\n",
    "    return ans"
   ]
  },
  {
   "cell_type": "code",
   "execution_count": null,
   "id": "5a636a74",
   "metadata": {},
   "outputs": [],
   "source": [
    "new Solution().carFleet()"
   ]
  }
 ],
 "metadata": {},
 "nbformat": 4,
 "nbformat_minor": 5
}

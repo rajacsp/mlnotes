{
 "cells": [
  {
   "cell_type": "markdown",
   "id": "48309e55",
   "metadata": {},
   "source": [
    "https://leetcode.com/problems/wiggle-sort"
   ]
  },
  {
   "cell_type": "code",
   "execution_count": null,
   "id": "3f0d43fa",
   "metadata": {},
   "outputs": [],
   "source": [
    "import pyutil as pyu\n",
    "pyu.get_local_pyinfo()"
   ]
  },
  {
   "cell_type": "code",
   "execution_count": null,
   "id": "c176e3eb",
   "metadata": {},
   "outputs": [],
   "source": [
    "print(pyu.ps2(\"python-dotenv\"))"
   ]
  },
  {
   "cell_type": "code",
   "execution_count": null,
   "id": "dc1af321",
   "metadata": {},
   "outputs": [],
   "source": [
    "from typing import List"
   ]
  },
  {
   "cell_type": "code",
   "execution_count": null,
   "id": "70c8ba42",
   "metadata": {},
   "outputs": [],
   "source": [
    "class Solution:\n",
    "  def wiggleSort(self, nums: List[int]) -> None:\n",
    "    # 1. if i is even, then nums[i] <= nums[i - 1]\n",
    "    # 2. if i is odd, then nums[i] >= nums[i - 1]\n",
    "    for i in range(1, len(nums)):\n",
    "      if not (i & 1) and nums[i] > nums[i - 1] or \\\n",
    "              (i & 1) and nums[i] < nums[i - 1]:\n",
    "        nums[i], nums[i - 1] = nums[i - 1], nums[i]"
   ]
  },
  {
   "cell_type": "code",
   "execution_count": null,
   "id": "3ea5c59c",
   "metadata": {},
   "outputs": [],
   "source": [
    "new Solution().wiggleSort()"
   ]
  }
 ],
 "metadata": {},
 "nbformat": 4,
 "nbformat_minor": 5
}

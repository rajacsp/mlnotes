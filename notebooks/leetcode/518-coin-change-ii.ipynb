{
 "cells": [
  {
   "cell_type": "markdown",
   "id": "5f2ecdcd",
   "metadata": {},
   "source": [
    "https://leetcode.com/problems/coin-change-ii"
   ]
  },
  {
   "cell_type": "code",
   "execution_count": null,
   "id": "4466fa85",
   "metadata": {},
   "outputs": [],
   "source": [
    "import pyutil as pyu\n",
    "pyu.get_local_pyinfo()"
   ]
  },
  {
   "cell_type": "code",
   "execution_count": null,
   "id": "09faee9c",
   "metadata": {},
   "outputs": [],
   "source": [
    "print(pyu.ps2(\"python-dotenv\"))"
   ]
  },
  {
   "cell_type": "code",
   "execution_count": null,
   "id": "71909f82",
   "metadata": {},
   "outputs": [],
   "source": [
    "from typing import List"
   ]
  },
  {
   "cell_type": "code",
   "execution_count": null,
   "id": "65e50506",
   "metadata": {},
   "outputs": [],
   "source": [
    "class Solution:\n",
    "  def change(self, amount: int, coins: List[int]) -> int:\n",
    "    dp = [1] + [0] * amount\n",
    "\n",
    "    for coin in coins:\n",
    "      for i in range(coin, amount + 1):\n",
    "        dp[i] += dp[i - coin]\n",
    "\n",
    "    return dp[amount]"
   ]
  },
  {
   "cell_type": "code",
   "execution_count": null,
   "id": "a7b05491",
   "metadata": {},
   "outputs": [],
   "source": [
    "new Solution().change()"
   ]
  }
 ],
 "metadata": {},
 "nbformat": 4,
 "nbformat_minor": 5
}

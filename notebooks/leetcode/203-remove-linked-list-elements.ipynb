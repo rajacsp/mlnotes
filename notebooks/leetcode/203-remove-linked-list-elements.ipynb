{
 "cells": [
  {
   "cell_type": "markdown",
   "id": "1bbe6c3c",
   "metadata": {},
   "source": [
    "https://leetcode.com/problems/remove-linked-list-elements"
   ]
  },
  {
   "cell_type": "code",
   "execution_count": null,
   "id": "5dab9527",
   "metadata": {},
   "outputs": [],
   "source": [
    "import pyutil as pyu\n",
    "pyu.get_local_pyinfo()"
   ]
  },
  {
   "cell_type": "code",
   "execution_count": null,
   "id": "4474dbfc",
   "metadata": {},
   "outputs": [],
   "source": [
    "print(pyu.ps2(\"python-dotenv\"))"
   ]
  },
  {
   "cell_type": "code",
   "execution_count": null,
   "id": "9bd45cb3",
   "metadata": {},
   "outputs": [],
   "source": [
    "from typing import List"
   ]
  },
  {
   "cell_type": "code",
   "execution_count": null,
   "id": "85ac0480",
   "metadata": {},
   "outputs": [],
   "source": [
    "class Solution:\n",
    "  def removeElements(self, head: ListNode, val: int) -> ListNode:\n",
    "    dummy = ListNode(0, head)\n",
    "    prev = dummy\n",
    "\n",
    "    while head:\n",
    "      if head.val != val:\n",
    "        prev.next = head\n",
    "        prev = prev.next\n",
    "      head = head.next\n",
    "    prev.next = None\n",
    "\n",
    "    return dummy.next"
   ]
  },
  {
   "cell_type": "code",
   "execution_count": null,
   "id": "6620df10",
   "metadata": {},
   "outputs": [],
   "source": [
    "new Solution().removeElements()"
   ]
  }
 ],
 "metadata": {},
 "nbformat": 4,
 "nbformat_minor": 5
}

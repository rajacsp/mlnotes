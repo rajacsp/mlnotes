{
 "cells": [
  {
   "cell_type": "markdown",
   "id": "e51e3e66",
   "metadata": {},
   "source": [
    "https://leetcode.com/problems/sort-list"
   ]
  },
  {
   "cell_type": "code",
   "execution_count": null,
   "id": "2b6ef72a",
   "metadata": {},
   "outputs": [],
   "source": [
    "import pyutil as pyu\n",
    "pyu.get_local_pyinfo()"
   ]
  },
  {
   "cell_type": "code",
   "execution_count": null,
   "id": "b49e6879",
   "metadata": {},
   "outputs": [],
   "source": [
    "print(pyu.ps2(\"python-dotenv\"))"
   ]
  },
  {
   "cell_type": "code",
   "execution_count": null,
   "id": "b9420187",
   "metadata": {},
   "outputs": [],
   "source": [
    "from typing import List"
   ]
  },
  {
   "cell_type": "code",
   "execution_count": null,
   "id": "bfaa9730",
   "metadata": {},
   "outputs": [],
   "source": [
    "class Solution:\n",
    "  def sortList(self, head: ListNode) -> ListNode:\n",
    "    def split(head: ListNode, k: int) -> ListNode:\n",
    "      while k > 1 and head:\n",
    "        head = head.next\n",
    "        k -= 1\n",
    "      rest = head.next if head else None\n",
    "      if head:\n",
    "        head.next = None\n",
    "      return rest\n",
    "\n",
    "    def merge(l1: ListNode, l2: ListNode) -> tuple:\n",
    "      dummy = ListNode(0)\n",
    "      tail = dummy\n",
    "\n",
    "      while l1 and l2:\n",
    "        if l1.val > l2.val:\n",
    "          l1, l2 = l2, l1\n",
    "        tail.next = l1\n",
    "        l1 = l1.next\n",
    "        tail = tail.next\n",
    "      tail.next = l1 if l1 else l2\n",
    "      while tail.next:\n",
    "        tail = tail.next\n",
    "\n",
    "      return dummy.next, tail\n",
    "\n",
    "    length = 0\n",
    "    curr = head\n",
    "    while curr:\n",
    "      length += 1\n",
    "      curr = curr.next\n",
    "\n",
    "    dummy = ListNode(0, head)\n",
    "\n",
    "    k = 1\n",
    "    while k < length:\n",
    "      curr = dummy.next\n",
    "      tail = dummy\n",
    "      while curr:\n",
    "        l = curr\n",
    "        r = split(l, k)\n",
    "        curr = split(r, k)\n",
    "        mergedHead, mergedTail = merge(l, r)\n",
    "        tail.next = mergedHead\n",
    "        tail = mergedTail\n",
    "      k *= 2\n",
    "\n",
    "    return dummy.next"
   ]
  },
  {
   "cell_type": "code",
   "execution_count": null,
   "id": "7168b1ed",
   "metadata": {},
   "outputs": [],
   "source": [
    "new Solution().sortList()"
   ]
  }
 ],
 "metadata": {},
 "nbformat": 4,
 "nbformat_minor": 5
}

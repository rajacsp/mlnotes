{
 "cells": [
  {
   "cell_type": "markdown",
   "id": "40aa831e",
   "metadata": {},
   "source": [
    "https://leetcode.com/problems/check-if-word-is-valid-after-substitutions"
   ]
  },
  {
   "cell_type": "code",
   "execution_count": null,
   "id": "ee75c720",
   "metadata": {},
   "outputs": [],
   "source": [
    "import pyutil as pyu\n",
    "pyu.get_local_pyinfo()"
   ]
  },
  {
   "cell_type": "code",
   "execution_count": null,
   "id": "d6be3eba",
   "metadata": {},
   "outputs": [],
   "source": [
    "print(pyu.ps2(\"python-dotenv\"))"
   ]
  },
  {
   "cell_type": "code",
   "execution_count": null,
   "id": "5b2280b3",
   "metadata": {},
   "outputs": [],
   "source": [
    "from typing import List"
   ]
  },
  {
   "cell_type": "code",
   "execution_count": null,
   "id": "8a73bbe1",
   "metadata": {},
   "outputs": [],
   "source": [
    "class Solution:\n",
    "  def isValid(self, s: str) -> bool:\n",
    "    stack = []\n",
    "\n",
    "    for c in s:\n",
    "      if c == 'c':\n",
    "        if len(stack) < 2 or stack[-2] != 'a' or stack[-1] != 'b':\n",
    "          return False\n",
    "        stack.pop()\n",
    "        stack.pop()\n",
    "      else:\n",
    "        stack.append(c)\n",
    "\n",
    "    return not stack"
   ]
  },
  {
   "cell_type": "code",
   "execution_count": null,
   "id": "d3cc6aa0",
   "metadata": {},
   "outputs": [],
   "source": [
    "new Solution().isValid()"
   ]
  }
 ],
 "metadata": {},
 "nbformat": 4,
 "nbformat_minor": 5
}

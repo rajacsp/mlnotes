{
 "cells": [
  {
   "cell_type": "markdown",
   "id": "ee8b4663",
   "metadata": {},
   "source": [
    "https://leetcode.com/problems/restore-ip-addresses"
   ]
  },
  {
   "cell_type": "code",
   "execution_count": null,
   "id": "0e53f576",
   "metadata": {},
   "outputs": [],
   "source": [
    "import pyutil as pyu\n",
    "pyu.get_local_pyinfo()"
   ]
  },
  {
   "cell_type": "code",
   "execution_count": null,
   "id": "b6aea3fe",
   "metadata": {},
   "outputs": [],
   "source": [
    "print(pyu.ps2(\"python-dotenv\"))"
   ]
  },
  {
   "cell_type": "code",
   "execution_count": null,
   "id": "6234c1c5",
   "metadata": {},
   "outputs": [],
   "source": [
    "from typing import List"
   ]
  },
  {
   "cell_type": "code",
   "execution_count": null,
   "id": "e0d84ef8",
   "metadata": {},
   "outputs": [],
   "source": [
    "class Solution:\n",
    "  def restoreIpAddresses(self, s: str) -> List[str]:\n",
    "    ans = []\n",
    "\n",
    "    def dfs(start: int, path: List[int]) -> None:\n",
    "      if len(path) == 4 and start == len(s):\n",
    "        ans.append(path[0] + '.' + path[1] + '.' + path[2] + '.' + path[3])\n",
    "        return\n",
    "      if len(path) == 4 or start == len(s):\n",
    "        return\n",
    "\n",
    "      for length in range(1, 4):\n",
    "        if start + length > len(s):\n",
    "          return  # Out of bound\n",
    "        if length > 1 and s[start] == '0':\n",
    "          return  # Leading '0'\n",
    "        num = s[start: start + length]\n",
    "        if int(num) > 255:\n",
    "          return\n",
    "        dfs(start + length, path + [num])\n",
    "\n",
    "    dfs(0, [])\n",
    "    return ans"
   ]
  },
  {
   "cell_type": "code",
   "execution_count": null,
   "id": "f6a1ce4b",
   "metadata": {},
   "outputs": [],
   "source": [
    "new Solution().restoreIpAddresses()"
   ]
  }
 ],
 "metadata": {},
 "nbformat": 4,
 "nbformat_minor": 5
}

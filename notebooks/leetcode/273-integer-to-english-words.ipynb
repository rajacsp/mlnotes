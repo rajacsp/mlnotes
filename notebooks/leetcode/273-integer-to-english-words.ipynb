{
 "cells": [
  {
   "cell_type": "markdown",
   "id": "cb9f1106",
   "metadata": {},
   "source": [
    "https://leetcode.com/problems/integer-to-english-words"
   ]
  },
  {
   "cell_type": "code",
   "execution_count": null,
   "id": "79db2a38",
   "metadata": {},
   "outputs": [],
   "source": [
    "import pyutil as pyu\n",
    "pyu.get_local_pyinfo()"
   ]
  },
  {
   "cell_type": "code",
   "execution_count": null,
   "id": "7405eaec",
   "metadata": {},
   "outputs": [],
   "source": [
    "print(pyu.ps2(\"python-dotenv\"))"
   ]
  },
  {
   "cell_type": "code",
   "execution_count": null,
   "id": "b6b18f46",
   "metadata": {},
   "outputs": [],
   "source": [
    "from typing import List"
   ]
  },
  {
   "cell_type": "code",
   "execution_count": null,
   "id": "4c1f0a31",
   "metadata": {},
   "outputs": [],
   "source": [
    "class Solution:\n",
    "  def numberToWords(self, num: int) -> str:\n",
    "    if num == 0:\n",
    "      return \"Zero\"\n",
    "\n",
    "    belowTwenty = [\"\",        \"One\",       \"Two\",      \"Three\",\n",
    "                   \"Four\",    \"Five\",      \"Six\",      \"Seven\",\n",
    "                   \"Eight\",   \"Nine\",      \"Ten\",      \"Eleven\",\n",
    "                   \"Twelve\",  \"Thirteen\",  \"Fourteen\", \"Fifteen\",\n",
    "                   \"Sixteen\", \"Seventeen\", \"Eighteen\", \"Nineteen\"]\n",
    "    tens = [\"\",      \"Ten\",   \"Twenty\",  \"Thirty\", \"Forty\",\n",
    "            \"Fifty\", \"Sixty\", \"Seventy\", \"Eighty\", \"Ninety\"]\n",
    "\n",
    "    def helper(num: int) -> str:\n",
    "      if num < 20:\n",
    "        s = belowTwenty[num]\n",
    "      elif num < 100:\n",
    "        s = tens[num // 10] + \" \" + belowTwenty[num % 10]\n",
    "      elif num < 1000:\n",
    "        s = helper(num // 100) + \" Hundred \" + helper(num % 100)\n",
    "      elif num < 1000000:\n",
    "        s = helper(num // 1000) + \" Thousand \" + helper(num % 1000)\n",
    "      elif num < 1000000000:\n",
    "        s = helper(num // 1000000) + \" Million \" + \\\n",
    "            helper(num % 1000000)\n",
    "      else:\n",
    "        s = helper(num // 1000000000) + \" Billion \" + \\\n",
    "            helper(num % 1000000000)\n",
    "\n",
    "      return s.strip()\n",
    "\n",
    "    return helper(num)"
   ]
  },
  {
   "cell_type": "code",
   "execution_count": null,
   "id": "3c450374",
   "metadata": {},
   "outputs": [],
   "source": [
    "new Solution().numberToWords()"
   ]
  }
 ],
 "metadata": {},
 "nbformat": 4,
 "nbformat_minor": 5
}

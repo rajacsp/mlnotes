{
 "cells": [
  {
   "cell_type": "markdown",
   "id": "0cbf2ec0",
   "metadata": {},
   "source": [
    "https://leetcode.com/problems/letter-tile-possibilities"
   ]
  },
  {
   "cell_type": "code",
   "execution_count": null,
   "id": "9dc002f9",
   "metadata": {},
   "outputs": [],
   "source": [
    "import pyutil as pyu\n",
    "pyu.get_local_pyinfo()"
   ]
  },
  {
   "cell_type": "code",
   "execution_count": null,
   "id": "6e510404",
   "metadata": {},
   "outputs": [],
   "source": [
    "print(pyu.ps2(\"python-dotenv\"))"
   ]
  },
  {
   "cell_type": "code",
   "execution_count": null,
   "id": "9dd0a3c1",
   "metadata": {},
   "outputs": [],
   "source": [
    "from typing import List"
   ]
  },
  {
   "cell_type": "code",
   "execution_count": null,
   "id": "954cfd35",
   "metadata": {},
   "outputs": [],
   "source": [
    "class Solution:\n",
    "  def numTilePossibilities(self, tiles: str) -> int:\n",
    "    count = Counter(tiles)\n",
    "\n",
    "    def dfs(count: Dict[int, int]) -> int:\n",
    "      possibleSequences = 0\n",
    "\n",
    "      for k, v in count.items():\n",
    "        if v == 0:\n",
    "          continue\n",
    "        # Put c in the current position. We only care about the # of possible\n",
    "        # sequences of letters but don't care about the actual combination.\n",
    "        count[k] -= 1\n",
    "        possibleSequences += 1 + dfs(count)\n",
    "        count[k] += 1\n",
    "\n",
    "      return possibleSequences\n",
    "\n",
    "    return dfs(count)"
   ]
  },
  {
   "cell_type": "code",
   "execution_count": null,
   "id": "b3c111c1",
   "metadata": {},
   "outputs": [],
   "source": [
    "new Solution().numTilePossibilities()"
   ]
  }
 ],
 "metadata": {},
 "nbformat": 4,
 "nbformat_minor": 5
}

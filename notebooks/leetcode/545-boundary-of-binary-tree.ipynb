{
 "cells": [
  {
   "cell_type": "markdown",
   "id": "3f30aa94",
   "metadata": {},
   "source": [
    "https://leetcode.com/problems/boundary-of-binary-tree"
   ]
  },
  {
   "cell_type": "code",
   "execution_count": null,
   "id": "4101cf96",
   "metadata": {},
   "outputs": [],
   "source": [
    "import pyutil as pyu\n",
    "pyu.get_local_pyinfo()"
   ]
  },
  {
   "cell_type": "code",
   "execution_count": null,
   "id": "f5c190b1",
   "metadata": {},
   "outputs": [],
   "source": [
    "print(pyu.ps2(\"python-dotenv\"))"
   ]
  },
  {
   "cell_type": "code",
   "execution_count": null,
   "id": "d2f41eaa",
   "metadata": {},
   "outputs": [],
   "source": [
    "from typing import List"
   ]
  },
  {
   "cell_type": "code",
   "execution_count": null,
   "id": "761b3bb1",
   "metadata": {},
   "outputs": [],
   "source": [
    "class Solution:\n",
    "  def boundaryOfBinaryTree(self, root: Optional[TreeNode]) -> List[int]:\n",
    "    if not root:\n",
    "      return []\n",
    "\n",
    "    ans = [root.val]\n",
    "\n",
    "    def dfs(root: Optional[TreeNode], lb: bool, rb: bool):\n",
    "      \"\"\"\n",
    "      1. root.left is left boundary if root is left boundary\n",
    "         root.right if left boundary if root.left is None\n",
    "      2. same applys for right boundary\n",
    "      3. if root is left boundary, add it before 2 children - preorder\n",
    "         if root is right boundary, add it after 2 children - postorder\n",
    "      4. a leaf that is neighter left/right boundary belongs to the bottom\n",
    "      \"\"\"\n",
    "      if not root:\n",
    "        return\n",
    "      if lb:\n",
    "        ans.append(root.val)\n",
    "      if not lb and not rb and not root.left and not root.right:\n",
    "        ans.append(root.val)\n",
    "\n",
    "      dfs(root.left, lb, rb and not root.right)\n",
    "      dfs(root.right, lb and not root.left, rb)\n",
    "      if rb:\n",
    "        ans.append(root.val)\n",
    "\n",
    "    dfs(root.left, True, False)\n",
    "    dfs(root.right, False, True)\n",
    "    return ans"
   ]
  },
  {
   "cell_type": "code",
   "execution_count": null,
   "id": "5e1a9fdf",
   "metadata": {},
   "outputs": [],
   "source": [
    "new Solution().boundaryOfBinaryTree()"
   ]
  }
 ],
 "metadata": {},
 "nbformat": 4,
 "nbformat_minor": 5
}

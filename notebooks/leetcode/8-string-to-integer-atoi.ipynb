{
 "cells": [
  {
   "cell_type": "code",
   "execution_count": null,
   "id": "db25c914-1252-4bae-8dbe-3a20e361bd73",
   "metadata": {},
   "outputs": [],
   "source": []
  },
  {
   "cell_type": "code",
   "execution_count": 2,
   "id": "0c10588e-e9e7-4b8c-b92b-91104a273df0",
   "metadata": {},
   "outputs": [
    {
     "data": {
      "text/plain": [
       "'conda env: ml311; pyv: 3.11.10 (main, Oct  3 2024, 07:29:13) [GCC 11.2.0]'"
      ]
     },
     "execution_count": 2,
     "metadata": {},
     "output_type": "execute_result"
    }
   ],
   "source": [
    "import pyutil as pyu\n",
    "pyu.get_local_pyinfo()"
   ]
  },
  {
   "cell_type": "code",
   "execution_count": 4,
   "id": "c2ccb592-b983-4856-a241-5898cab06699",
   "metadata": {},
   "outputs": [],
   "source": [
    "# print(pyu.ps2(\"scipy\"))"
   ]
  },
  {
   "cell_type": "code",
   "execution_count": null,
   "id": "e290a4be-0793-4902-b10b-44429cb937f9",
   "metadata": {},
   "outputs": [],
   "source": []
  },
  {
   "cell_type": "code",
   "execution_count": 1,
   "id": "2254118f-d279-4865-9ef8-74018c0d0bff",
   "metadata": {},
   "outputs": [],
   "source": [
    "class Solution:\n",
    "  def myAtoi(self, s: str) -> int:\n",
    "    s = s.strip()\n",
    "    if not s:\n",
    "      return 0\n",
    "\n",
    "    sign = -1 if s[0] == '-' else 1\n",
    "    if s[0] in {'-', '+'}:\n",
    "      s = s[1:]\n",
    "\n",
    "    num = 0\n",
    "\n",
    "    for c in s:\n",
    "      if not c.isdigit():\n",
    "        break\n",
    "      num = num * 10 + ord(c) - ord('0')\n",
    "      if sign * num <= -2**31:\n",
    "        return -2**31\n",
    "      if sign * num >= 2**31 - 1:\n",
    "        return 2**31 - 1\n",
    "\n",
    "    return sign * num"
   ]
  },
  {
   "cell_type": "code",
   "execution_count": 3,
   "id": "b7c8b16b-1f70-4df3-90d5-a107bd15d641",
   "metadata": {},
   "outputs": [
    {
     "data": {
      "text/plain": [
       "42"
      ]
     },
     "execution_count": 3,
     "metadata": {},
     "output_type": "execute_result"
    }
   ],
   "source": [
    "Solution().myAtoi(\"42\")"
   ]
  },
  {
   "cell_type": "code",
   "execution_count": 4,
   "id": "59b6cb4a-79f5-4689-af2e-14c07cab6704",
   "metadata": {},
   "outputs": [
    {
     "data": {
      "text/plain": [
       "-42"
      ]
     },
     "execution_count": 4,
     "metadata": {},
     "output_type": "execute_result"
    }
   ],
   "source": [
    "Solution().myAtoi(\"-042\")"
   ]
  },
  {
   "cell_type": "code",
   "execution_count": 5,
   "id": "1851d160-bce5-429e-b67a-484c58b875fb",
   "metadata": {},
   "outputs": [
    {
     "data": {
      "text/plain": [
       "1337"
      ]
     },
     "execution_count": 5,
     "metadata": {},
     "output_type": "execute_result"
    }
   ],
   "source": [
    "Solution().myAtoi(\"1337c0d3\")"
   ]
  },
  {
   "cell_type": "code",
   "execution_count": 6,
   "id": "bff0a990-fa45-488b-92aa-5ff570f194ca",
   "metadata": {},
   "outputs": [
    {
     "data": {
      "text/plain": [
       "0"
      ]
     },
     "execution_count": 6,
     "metadata": {},
     "output_type": "execute_result"
    }
   ],
   "source": [
    "Solution().myAtoi(\"0-1\")"
   ]
  },
  {
   "cell_type": "code",
   "execution_count": 7,
   "id": "59787ec3-0844-4e93-b43a-8b9681319512",
   "metadata": {},
   "outputs": [
    {
     "data": {
      "text/plain": [
       "0"
      ]
     },
     "execution_count": 7,
     "metadata": {},
     "output_type": "execute_result"
    }
   ],
   "source": [
    "Solution().myAtoi(\"words and 987\")"
   ]
  },
  {
   "cell_type": "code",
   "execution_count": null,
   "id": "d9fff2c8-987d-4abe-b830-40dd31fd869a",
   "metadata": {},
   "outputs": [],
   "source": []
  }
 ],
 "metadata": {
  "kernelspec": {
   "display_name": "Python 3 (ipykernel)",
   "language": "python",
   "name": "python3"
  },
  "language_info": {
   "codemirror_mode": {
    "name": "ipython",
    "version": 3
   },
   "file_extension": ".py",
   "mimetype": "text/x-python",
   "name": "python",
   "nbconvert_exporter": "python",
   "pygments_lexer": "ipython3",
   "version": "3.11.10"
  }
 },
 "nbformat": 4,
 "nbformat_minor": 5
}

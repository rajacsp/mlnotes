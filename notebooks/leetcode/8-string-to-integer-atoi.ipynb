{
 "cells": [
  {
   "cell_type": "markdown",
   "id": "4de5b1a2",
   "metadata": {},
   "source": [
    "https://leetcode.com/problems/string-to-integer-atoi"
   ]
  },
  {
   "cell_type": "code",
   "execution_count": null,
   "id": "92cbd4d1",
   "metadata": {},
   "outputs": [],
   "source": [
    "import pyutil as pyu\n",
    "pyu.get_local_pyinfo()"
   ]
  },
  {
   "cell_type": "code",
   "execution_count": null,
   "id": "bb4771f5",
   "metadata": {},
   "outputs": [],
   "source": [
    "print(pyu.ps2(\"python-dotenv\"))"
   ]
  },
  {
   "cell_type": "code",
   "execution_count": null,
   "id": "a480991d",
   "metadata": {},
   "outputs": [],
   "source": [
    "from typing import List"
   ]
  },
  {
   "cell_type": "code",
   "execution_count": null,
   "id": "5301a2da",
   "metadata": {},
   "outputs": [],
   "source": [
    "class Solution:\n",
    "  def myAtoi(self, s: str) -> int:\n",
    "    s = s.strip()\n",
    "    if not s:\n",
    "      return 0\n",
    "\n",
    "    sign = -1 if s[0] == '-' else 1\n",
    "    if s[0] in {'-', '+'}:\n",
    "      s = s[1:]\n",
    "\n",
    "    num = 0\n",
    "\n",
    "    for c in s:\n",
    "      if not c.isdigit():\n",
    "        break\n",
    "      num = num * 10 + ord(c) - ord('0')\n",
    "      if sign * num <= -2**31:\n",
    "        return -2**31\n",
    "      if sign * num >= 2**31 - 1:\n",
    "        return 2**31 - 1\n",
    "\n",
    "    return sign * num"
   ]
  },
  {
   "cell_type": "code",
   "execution_count": null,
   "id": "13b2c16f",
   "metadata": {},
   "outputs": [],
   "source": [
    "new Solution().myAtoi()"
   ]
  }
 ],
 "metadata": {},
 "nbformat": 4,
 "nbformat_minor": 5
}

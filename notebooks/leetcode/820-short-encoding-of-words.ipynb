{
 "cells": [
  {
   "cell_type": "markdown",
   "id": "073bbd0f",
   "metadata": {},
   "source": [
    "https://leetcode.com/problems/short-encoding-of-words"
   ]
  },
  {
   "cell_type": "code",
   "execution_count": null,
   "id": "63b0d3df",
   "metadata": {},
   "outputs": [],
   "source": [
    "import pyutil as pyu\n",
    "pyu.get_local_pyinfo()"
   ]
  },
  {
   "cell_type": "code",
   "execution_count": null,
   "id": "86652a19",
   "metadata": {},
   "outputs": [],
   "source": [
    "print(pyu.ps2(\"python-dotenv\"))"
   ]
  },
  {
   "cell_type": "code",
   "execution_count": null,
   "id": "baf3cc0a",
   "metadata": {},
   "outputs": [],
   "source": [
    "from typing import List"
   ]
  },
  {
   "cell_type": "code",
   "execution_count": null,
   "id": "410de552",
   "metadata": {},
   "outputs": [],
   "source": [
    "class TrieNode:\n",
    "  def __init__(self):\n",
    "    self.children: Dict[str, TrieNode] = defaultdict(TrieNode)\n",
    "    self.depth = 0\n",
    "\n",
    "\n",
    "class Solution:\n",
    "  def minimumLengthEncoding(self, words: List[str]) -> int:\n",
    "    root = TrieNode()\n",
    "    leaves = []\n",
    "\n",
    "    def insert(word: str) -> TrieNode:\n",
    "      node = root\n",
    "      for c in reversed(word):\n",
    "        if c not in node.children:\n",
    "          node.children[c] = TrieNode()\n",
    "        node = node.children[c]\n",
    "      node.depth = len(word)\n",
    "      return node\n",
    "\n",
    "    for word in set(words):\n",
    "      leaves.append(insert(word))\n",
    "\n",
    "    return sum(leaf.depth + 1 for leaf in leaves\n",
    "               if not len(leaf.children))"
   ]
  },
  {
   "cell_type": "code",
   "execution_count": null,
   "id": "48548542",
   "metadata": {},
   "outputs": [],
   "source": [
    "new Solution().minimumLengthEncoding()"
   ]
  }
 ],
 "metadata": {},
 "nbformat": 4,
 "nbformat_minor": 5
}

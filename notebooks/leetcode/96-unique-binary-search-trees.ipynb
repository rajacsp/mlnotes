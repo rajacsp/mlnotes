{
 "cells": [
  {
   "cell_type": "markdown",
   "id": "04117210",
   "metadata": {},
   "source": [
    "https://leetcode.com/problems/unique-binary-search-trees"
   ]
  },
  {
   "cell_type": "code",
   "execution_count": null,
   "id": "43789cc0",
   "metadata": {},
   "outputs": [],
   "source": [
    "import pyutil as pyu\n",
    "pyu.get_local_pyinfo()"
   ]
  },
  {
   "cell_type": "code",
   "execution_count": null,
   "id": "8c4d143d",
   "metadata": {},
   "outputs": [],
   "source": [
    "print(pyu.ps2(\"python-dotenv\"))"
   ]
  },
  {
   "cell_type": "code",
   "execution_count": null,
   "id": "deb2eb4e",
   "metadata": {},
   "outputs": [],
   "source": [
    "from typing import List"
   ]
  },
  {
   "cell_type": "code",
   "execution_count": null,
   "id": "eb1b6a60",
   "metadata": {},
   "outputs": [],
   "source": [
    "class Solution:\n",
    "  def numTrees(self, n: int) -> int:\n",
    "    # G[i] := # Of unique BST's that store values 1..i\n",
    "    G = [1, 1] + [0] * (n - 1)\n",
    "\n",
    "    for i in range(2, n + 1):\n",
    "      for j in range(i):\n",
    "        G[i] += G[j] * G[i - j - 1]\n",
    "\n",
    "    return G[n]"
   ]
  },
  {
   "cell_type": "code",
   "execution_count": null,
   "id": "2811384d",
   "metadata": {},
   "outputs": [],
   "source": [
    "new Solution().numTrees()"
   ]
  }
 ],
 "metadata": {},
 "nbformat": 4,
 "nbformat_minor": 5
}

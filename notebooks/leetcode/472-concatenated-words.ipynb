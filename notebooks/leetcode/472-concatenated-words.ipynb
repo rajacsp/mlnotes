{
 "cells": [
  {
   "cell_type": "markdown",
   "id": "e37eebda",
   "metadata": {},
   "source": [
    "https://leetcode.com/problems/concatenated-words"
   ]
  },
  {
   "cell_type": "code",
   "execution_count": null,
   "id": "c427e5a6",
   "metadata": {},
   "outputs": [],
   "source": [
    "import pyutil as pyu\n",
    "pyu.get_local_pyinfo()"
   ]
  },
  {
   "cell_type": "code",
   "execution_count": null,
   "id": "8dc1f7ad",
   "metadata": {},
   "outputs": [],
   "source": [
    "print(pyu.ps2(\"python-dotenv\"))"
   ]
  },
  {
   "cell_type": "code",
   "execution_count": null,
   "id": "6b0e5113",
   "metadata": {},
   "outputs": [],
   "source": [
    "from typing import List"
   ]
  },
  {
   "cell_type": "code",
   "execution_count": null,
   "id": "fe101a3b",
   "metadata": {},
   "outputs": [],
   "source": [
    "class Solution:\n",
    "  def findAllConcatenatedWordsInADict(self, words: List[str]) -> List[str]:\n",
    "    wordSet = set(words)\n",
    "\n",
    "    @functools.lru_cache(None)\n",
    "    def isConcat(word: str) -> bool:\n",
    "      for i in range(1, len(word)):\n",
    "        prefix = word[:i]\n",
    "        suffix = word[i:]\n",
    "        if prefix in wordSet and (suffix in wordSet or isConcat(suffix)):\n",
    "          return True\n",
    "\n",
    "      return False\n",
    "\n",
    "    return [word for word in words if isConcat(word)]"
   ]
  },
  {
   "cell_type": "code",
   "execution_count": null,
   "id": "dee9b9a2",
   "metadata": {},
   "outputs": [],
   "source": [
    "new Solution().findAllConcatenatedWordsInADict()"
   ]
  }
 ],
 "metadata": {},
 "nbformat": 4,
 "nbformat_minor": 5
}

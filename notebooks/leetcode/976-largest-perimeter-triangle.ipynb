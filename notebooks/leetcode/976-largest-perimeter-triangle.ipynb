{
 "cells": [
  {
   "cell_type": "markdown",
   "id": "bbd4a210",
   "metadata": {},
   "source": [
    "https://leetcode.com/problems/largest-perimeter-triangle"
   ]
  },
  {
   "cell_type": "code",
   "execution_count": null,
   "id": "d5485c75",
   "metadata": {},
   "outputs": [],
   "source": [
    "import pyutil as pyu\n",
    "pyu.get_local_pyinfo()"
   ]
  },
  {
   "cell_type": "code",
   "execution_count": null,
   "id": "a163040d",
   "metadata": {},
   "outputs": [],
   "source": [
    "print(pyu.ps2(\"python-dotenv\"))"
   ]
  },
  {
   "cell_type": "code",
   "execution_count": null,
   "id": "52731441",
   "metadata": {},
   "outputs": [],
   "source": [
    "from typing import List"
   ]
  },
  {
   "cell_type": "code",
   "execution_count": null,
   "id": "83cf0ea8",
   "metadata": {},
   "outputs": [],
   "source": [
    "class Solution:\n",
    "  def largestPerimeter(self, A: List[int]) -> int:\n",
    "    A = sorted(A)\n",
    "\n",
    "    for i in range(len(A) - 1, 1, -1):\n",
    "      if A[i - 2] + A[i - 1] > A[i]:\n",
    "        return A[i - 2] + A[i - 1] + A[i]\n",
    "\n",
    "    return 0"
   ]
  },
  {
   "cell_type": "code",
   "execution_count": null,
   "id": "b6ee838f",
   "metadata": {},
   "outputs": [],
   "source": [
    "new Solution().largestPerimeter()"
   ]
  }
 ],
 "metadata": {},
 "nbformat": 4,
 "nbformat_minor": 5
}

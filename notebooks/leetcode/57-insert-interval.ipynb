{
 "cells": [
  {
   "cell_type": "markdown",
   "id": "99dca730",
   "metadata": {},
   "source": [
    "https://leetcode.com/problems/insert-interval"
   ]
  },
  {
   "cell_type": "code",
   "execution_count": null,
   "id": "93bb572a",
   "metadata": {},
   "outputs": [],
   "source": [
    "import pyutil as pyu\n",
    "pyu.get_local_pyinfo()"
   ]
  },
  {
   "cell_type": "code",
   "execution_count": null,
   "id": "170c1b4a",
   "metadata": {},
   "outputs": [],
   "source": [
    "print(pyu.ps2(\"python-dotenv\"))"
   ]
  },
  {
   "cell_type": "code",
   "execution_count": null,
   "id": "4bf41272",
   "metadata": {},
   "outputs": [],
   "source": [
    "from typing import List"
   ]
  },
  {
   "cell_type": "code",
   "execution_count": null,
   "id": "bd0f8c85",
   "metadata": {},
   "outputs": [],
   "source": [
    "class Solution:\n",
    "  def insert(self, intervals: List[List[int]], newInterval: List[int]) -> List[List[int]]:\n",
    "    n = len(intervals)\n",
    "    ans = []\n",
    "    i = 0\n",
    "\n",
    "    while i < n and intervals[i][1] < newInterval[0]:\n",
    "      ans.append(intervals[i])\n",
    "      i += 1\n",
    "\n",
    "    while i < n and intervals[i][0] <= newInterval[1]:\n",
    "      newInterval[0] = min(newInterval[0], intervals[i][0])\n",
    "      newInterval[1] = max(newInterval[1], intervals[i][1])\n",
    "      i += 1\n",
    "\n",
    "    ans.append(newInterval)\n",
    "\n",
    "    while i < n:\n",
    "      ans.append(intervals[i])\n",
    "      i += 1\n",
    "\n",
    "    return ans"
   ]
  },
  {
   "cell_type": "code",
   "execution_count": null,
   "id": "74af2351",
   "metadata": {},
   "outputs": [],
   "source": [
    "new Solution().insert()"
   ]
  }
 ],
 "metadata": {},
 "nbformat": 4,
 "nbformat_minor": 5
}

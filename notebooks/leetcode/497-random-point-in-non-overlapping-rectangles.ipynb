{
 "cells": [
  {
   "cell_type": "markdown",
   "id": "c093711d",
   "metadata": {},
   "source": [
    "https://leetcode.com/problems/random-point-in-non-overlapping-rectangles"
   ]
  },
  {
   "cell_type": "code",
   "execution_count": null,
   "id": "2652d7f3",
   "metadata": {},
   "outputs": [],
   "source": [
    "import pyutil as pyu\n",
    "pyu.get_local_pyinfo()"
   ]
  },
  {
   "cell_type": "code",
   "execution_count": null,
   "id": "703ac8ff",
   "metadata": {},
   "outputs": [],
   "source": [
    "print(pyu.ps2(\"python-dotenv\"))"
   ]
  },
  {
   "cell_type": "code",
   "execution_count": null,
   "id": "54c806b1",
   "metadata": {},
   "outputs": [],
   "source": [
    "from typing import List"
   ]
  },
  {
   "cell_type": "code",
   "execution_count": null,
   "id": "3d189deb",
   "metadata": {},
   "outputs": [],
   "source": [
    "class Solution:\n",
    "  def __init__(self, rects: List[List[int]]):\n",
    "    self.rects = rects\n",
    "    self.areas = list(itertools.accumulate(\n",
    "        [(x2 - x1 + 1) * (y2 - y1 + 1) for x1, y1, x2, y2 in rects]))\n",
    "\n",
    "  def pick(self) -> List[int]:\n",
    "    index = bisect_right(self.areas, randint(0, self.areas[-1] - 1))\n",
    "    x1, y1, x2, y2 = self.rects[index]\n",
    "    return [randint(x1, x2), randint(y1, y2)]"
   ]
  },
  {
   "cell_type": "code",
   "execution_count": null,
   "id": "fbe973df",
   "metadata": {},
   "outputs": [],
   "source": [
    "new Solution().__init__()"
   ]
  }
 ],
 "metadata": {},
 "nbformat": 4,
 "nbformat_minor": 5
}

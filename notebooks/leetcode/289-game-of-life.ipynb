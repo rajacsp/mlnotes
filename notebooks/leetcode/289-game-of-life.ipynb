{
 "cells": [
  {
   "cell_type": "markdown",
   "id": "4a701d6d",
   "metadata": {},
   "source": [
    "https://leetcode.com/problems/game-of-life"
   ]
  },
  {
   "cell_type": "code",
   "execution_count": null,
   "id": "77615c4d",
   "metadata": {},
   "outputs": [],
   "source": [
    "import pyutil as pyu\n",
    "pyu.get_local_pyinfo()"
   ]
  },
  {
   "cell_type": "code",
   "execution_count": null,
   "id": "cdc86324",
   "metadata": {},
   "outputs": [],
   "source": [
    "print(pyu.ps2(\"python-dotenv\"))"
   ]
  },
  {
   "cell_type": "code",
   "execution_count": null,
   "id": "15d4dc56",
   "metadata": {},
   "outputs": [],
   "source": [
    "from typing import List"
   ]
  },
  {
   "cell_type": "code",
   "execution_count": null,
   "id": "16ef4ce7",
   "metadata": {},
   "outputs": [],
   "source": [
    "class Solution:\n",
    "  def gameOfLife(self, board: List[List[int]]) -> None:\n",
    "    m = len(board)\n",
    "    n = len(board[0])\n",
    "\n",
    "    for i in range(m):\n",
    "      for j in range(n):\n",
    "        ones = 0\n",
    "        for x in range(max(0, i - 1), min(m, i + 2)):\n",
    "          for y in range(max(0, j - 1), min(n, j + 2)):\n",
    "            ones += board[x][y] & 1\n",
    "        # Any live cell with 2 or 3 live neighbors\n",
    "        # lives on to the next generation\n",
    "        if board[i][j] == 1 and (ones == 3 or ones == 4):\n",
    "          board[i][j] |= 0b10\n",
    "        # Any dead cell with exactly 3 live neighbors\n",
    "        # becomes a live cell, as if by reproduction\n",
    "        if board[i][j] == 0 and ones == 3:\n",
    "          board[i][j] |= 0b10\n",
    "\n",
    "    for i in range(m):\n",
    "      for j in range(n):\n",
    "        board[i][j] >>= 1"
   ]
  },
  {
   "cell_type": "code",
   "execution_count": null,
   "id": "f8b18bd4",
   "metadata": {},
   "outputs": [],
   "source": [
    "new Solution().gameOfLife()"
   ]
  }
 ],
 "metadata": {},
 "nbformat": 4,
 "nbformat_minor": 5
}

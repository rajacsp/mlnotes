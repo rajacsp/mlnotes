{
 "cells": [
  {
   "cell_type": "markdown",
   "id": "f4031c24",
   "metadata": {},
   "source": [
    "https://leetcode.com/problems/merge-k-sorted-lists"
   ]
  },
  {
   "cell_type": "code",
   "execution_count": null,
   "id": "874e63e0",
   "metadata": {},
   "outputs": [],
   "source": [
    "import pyutil as pyu\n",
    "pyu.get_local_pyinfo()"
   ]
  },
  {
   "cell_type": "code",
   "execution_count": null,
   "id": "9ae7b47d",
   "metadata": {},
   "outputs": [],
   "source": [
    "print(pyu.ps2(\"python-dotenv\"))"
   ]
  },
  {
   "cell_type": "code",
   "execution_count": null,
   "id": "a8b689be",
   "metadata": {},
   "outputs": [],
   "source": [
    "from typing import List"
   ]
  },
  {
   "cell_type": "code",
   "execution_count": null,
   "id": "83cfa337",
   "metadata": {},
   "outputs": [],
   "source": [
    "from queue import PriorityQueue\n",
    "\n",
    "\n",
    "class Solution:\n",
    "  def mergeKLists(self, lists: List[ListNode]) -> ListNode:\n",
    "    dummy = ListNode(0)\n",
    "    curr = dummy\n",
    "    pq = PriorityQueue()\n",
    "\n",
    "    for i, lst in enumerate(lists):\n",
    "      if lst:\n",
    "        pq.put((lst.val, i, lst))\n",
    "\n",
    "    while not pq.empty():\n",
    "      _, i, minNode = pq.get()\n",
    "      if minNode.next:\n",
    "        pq.put((minNode.next.val, i, minNode.next))\n",
    "      curr.next = minNode\n",
    "      curr = curr.next\n",
    "\n",
    "    return dummy.next"
   ]
  },
  {
   "cell_type": "code",
   "execution_count": null,
   "id": "60e6f278",
   "metadata": {},
   "outputs": [],
   "source": [
    "new Solution().mergeKLists()"
   ]
  }
 ],
 "metadata": {},
 "nbformat": 4,
 "nbformat_minor": 5
}

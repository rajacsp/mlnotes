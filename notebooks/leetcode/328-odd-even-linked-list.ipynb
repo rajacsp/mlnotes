{
 "cells": [
  {
   "cell_type": "markdown",
   "id": "c3bb2f4c",
   "metadata": {},
   "source": [
    "https://leetcode.com/problems/odd-even-linked-list"
   ]
  },
  {
   "cell_type": "code",
   "execution_count": null,
   "id": "4394252b",
   "metadata": {},
   "outputs": [],
   "source": [
    "import pyutil as pyu\n",
    "pyu.get_local_pyinfo()"
   ]
  },
  {
   "cell_type": "code",
   "execution_count": null,
   "id": "04dae270",
   "metadata": {},
   "outputs": [],
   "source": [
    "print(pyu.ps2(\"python-dotenv\"))"
   ]
  },
  {
   "cell_type": "code",
   "execution_count": null,
   "id": "970bc20b",
   "metadata": {},
   "outputs": [],
   "source": [
    "from typing import List"
   ]
  },
  {
   "cell_type": "code",
   "execution_count": null,
   "id": "bcd5c3f6",
   "metadata": {},
   "outputs": [],
   "source": [
    "class Solution:\n",
    "  def oddEvenList(self, head: ListNode) -> ListNode:\n",
    "    oddHead = ListNode(0)\n",
    "    evenHead = ListNode(0)\n",
    "    odd = oddHead\n",
    "    even = evenHead\n",
    "    isOdd = True\n",
    "\n",
    "    while head:\n",
    "      if isOdd:\n",
    "        odd.next = head\n",
    "        odd = head\n",
    "      else:\n",
    "        even.next = head\n",
    "        even = head\n",
    "      head = head.next\n",
    "      isOdd = not isOdd\n",
    "\n",
    "    even.next = None\n",
    "    odd.next = evenHead.next\n",
    "    return oddHead.next"
   ]
  },
  {
   "cell_type": "code",
   "execution_count": null,
   "id": "7337d26a",
   "metadata": {},
   "outputs": [],
   "source": [
    "new Solution().oddEvenList()"
   ]
  }
 ],
 "metadata": {},
 "nbformat": 4,
 "nbformat_minor": 5
}

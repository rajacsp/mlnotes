{
 "cells": [
  {
   "cell_type": "markdown",
   "id": "05fb9cf7",
   "metadata": {},
   "source": [
    "https://leetcode.com/problems/decode-string"
   ]
  },
  {
   "cell_type": "code",
   "execution_count": null,
   "id": "d5e8644e",
   "metadata": {},
   "outputs": [],
   "source": [
    "import pyutil as pyu\n",
    "pyu.get_local_pyinfo()"
   ]
  },
  {
   "cell_type": "code",
   "execution_count": null,
   "id": "7265b900",
   "metadata": {},
   "outputs": [],
   "source": [
    "print(pyu.ps2(\"python-dotenv\"))"
   ]
  },
  {
   "cell_type": "code",
   "execution_count": null,
   "id": "bffc229d",
   "metadata": {},
   "outputs": [],
   "source": [
    "from typing import List"
   ]
  },
  {
   "cell_type": "code",
   "execution_count": null,
   "id": "dd84cc7c",
   "metadata": {},
   "outputs": [],
   "source": [
    "class Solution:\n",
    "  def decodeString(self, s: str) -> str:\n",
    "    stack = []  # (prevStr, repeatCount)\n",
    "    currStr = ''\n",
    "    currNum = 0\n",
    "\n",
    "    for c in s:\n",
    "      if c.isdigit():\n",
    "        currNum = currNum * 10 + int(c)\n",
    "      else:\n",
    "        if c == '[':\n",
    "          stack.append((currStr, currNum))\n",
    "          currStr = ''\n",
    "          currNum = 0\n",
    "        elif c == ']':\n",
    "          prevStr, num = stack.pop()\n",
    "          currStr = prevStr + num * currStr\n",
    "        else:\n",
    "          currStr += c\n",
    "\n",
    "    return currStr"
   ]
  },
  {
   "cell_type": "code",
   "execution_count": null,
   "id": "089819b8",
   "metadata": {},
   "outputs": [],
   "source": [
    "new Solution().decodeString()"
   ]
  }
 ],
 "metadata": {},
 "nbformat": 4,
 "nbformat_minor": 5
}

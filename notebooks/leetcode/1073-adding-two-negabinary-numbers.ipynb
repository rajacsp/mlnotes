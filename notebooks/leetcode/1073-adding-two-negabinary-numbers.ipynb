{
 "cells": [
  {
   "cell_type": "markdown",
   "id": "8feb6dcc",
   "metadata": {},
   "source": [
    "https://leetcode.com/problems/adding-two-negabinary-numbers"
   ]
  },
  {
   "cell_type": "code",
   "execution_count": null,
   "id": "1098f0d1",
   "metadata": {},
   "outputs": [],
   "source": [
    "import pyutil as pyu\n",
    "pyu.get_local_pyinfo()"
   ]
  },
  {
   "cell_type": "code",
   "execution_count": null,
   "id": "aeced2d6",
   "metadata": {},
   "outputs": [],
   "source": [
    "print(pyu.ps2(\"python-dotenv\"))"
   ]
  },
  {
   "cell_type": "code",
   "execution_count": null,
   "id": "640e1b2e",
   "metadata": {},
   "outputs": [],
   "source": [
    "from typing import List"
   ]
  },
  {
   "cell_type": "code",
   "execution_count": null,
   "id": "59e93835",
   "metadata": {},
   "outputs": [],
   "source": [
    "class Solution:\n",
    "  def addNegabinary(self, arr1: List[int], arr2: List[int]) -> List[int]:\n",
    "    ans = []\n",
    "    carry = 0\n",
    "\n",
    "    while carry or arr1 or arr2:\n",
    "      if arr1:\n",
    "        carry += arr1.pop()\n",
    "      if arr2:\n",
    "        carry += arr2.pop()\n",
    "      ans.append(carry & 1)\n",
    "      carry = -(carry >> 1)\n",
    "\n",
    "    while len(ans) > 1 and ans[-1] == 0:\n",
    "      ans.pop()\n",
    "\n",
    "    return ans[::-1]"
   ]
  },
  {
   "cell_type": "code",
   "execution_count": null,
   "id": "276cef86",
   "metadata": {},
   "outputs": [],
   "source": [
    "new Solution().addNegabinary()"
   ]
  }
 ],
 "metadata": {},
 "nbformat": 4,
 "nbformat_minor": 5
}

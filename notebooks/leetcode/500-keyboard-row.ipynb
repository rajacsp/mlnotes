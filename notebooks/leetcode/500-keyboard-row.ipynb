{
 "cells": [
  {
   "cell_type": "markdown",
   "id": "c633a2fe",
   "metadata": {},
   "source": [
    "https://leetcode.com/problems/keyboard-row"
   ]
  },
  {
   "cell_type": "code",
   "execution_count": null,
   "id": "501639ba",
   "metadata": {},
   "outputs": [],
   "source": [
    "import pyutil as pyu\n",
    "pyu.get_local_pyinfo()"
   ]
  },
  {
   "cell_type": "code",
   "execution_count": null,
   "id": "1435d585",
   "metadata": {},
   "outputs": [],
   "source": [
    "print(pyu.ps2(\"python-dotenv\"))"
   ]
  },
  {
   "cell_type": "code",
   "execution_count": null,
   "id": "7227ab86",
   "metadata": {},
   "outputs": [],
   "source": [
    "from typing import List"
   ]
  },
  {
   "cell_type": "code",
   "execution_count": null,
   "id": "d20fae69",
   "metadata": {},
   "outputs": [],
   "source": [
    "class Solution:\n",
    "  def findWords(self, words: List[str]) -> List[str]:\n",
    "    ans = []\n",
    "    rows = [set('qwertyuiop'), set('asdfghjkl'), set('zxcvbnm')]\n",
    "\n",
    "    for word in words:\n",
    "      lowerWord = set(word.lower())\n",
    "      if any(lowerWord <= row for row in rows):\n",
    "        ans.append(word)\n",
    "\n",
    "    return ans"
   ]
  },
  {
   "cell_type": "code",
   "execution_count": null,
   "id": "041a4fd9",
   "metadata": {},
   "outputs": [],
   "source": [
    "new Solution().findWords()"
   ]
  }
 ],
 "metadata": {},
 "nbformat": 4,
 "nbformat_minor": 5
}

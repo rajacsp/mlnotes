{
 "cells": [
  {
   "cell_type": "markdown",
   "id": "ad88c17d",
   "metadata": {},
   "source": [
    "https://leetcode.com/problems/unique-paths-ii"
   ]
  },
  {
   "cell_type": "code",
   "execution_count": null,
   "id": "c1612ff7",
   "metadata": {},
   "outputs": [],
   "source": [
    "import pyutil as pyu\n",
    "pyu.get_local_pyinfo()"
   ]
  },
  {
   "cell_type": "code",
   "execution_count": null,
   "id": "4ec4a2b4",
   "metadata": {},
   "outputs": [],
   "source": [
    "print(pyu.ps2(\"python-dotenv\"))"
   ]
  },
  {
   "cell_type": "code",
   "execution_count": null,
   "id": "e25c7367",
   "metadata": {},
   "outputs": [],
   "source": [
    "from typing import List"
   ]
  },
  {
   "cell_type": "code",
   "execution_count": null,
   "id": "86de7003",
   "metadata": {},
   "outputs": [],
   "source": [
    "class Solution:\n",
    "  def uniquePathsWithObstacles(self, obstacleGrid: List[List[int]]) -> int:\n",
    "    m = len(obstacleGrid)\n",
    "    n = len(obstacleGrid[0])\n",
    "    # dp[i][j] := unique paths from (0, 0) to (i - 1, j - 1)\n",
    "    dp = [[0] * (n + 1) for _ in range(m + 1)]\n",
    "    dp[0][1] = 1  # Can also set dp[1][0] = 1\n",
    "\n",
    "    for i in range(1, m + 1):\n",
    "      for j in range(1, n + 1):\n",
    "        if obstacleGrid[i - 1][j - 1] == 0:\n",
    "          dp[i][j] = dp[i - 1][j] + dp[i][j - 1]\n",
    "\n",
    "    return dp[m][n]"
   ]
  },
  {
   "cell_type": "code",
   "execution_count": null,
   "id": "4b75585f",
   "metadata": {},
   "outputs": [],
   "source": [
    "new Solution().uniquePathsWithObstacles()"
   ]
  }
 ],
 "metadata": {},
 "nbformat": 4,
 "nbformat_minor": 5
}

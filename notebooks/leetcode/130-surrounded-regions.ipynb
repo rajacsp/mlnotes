{
 "cells": [
  {
   "cell_type": "markdown",
   "id": "637497d6",
   "metadata": {},
   "source": [
    "https://leetcode.com/problems/surrounded-regions"
   ]
  },
  {
   "cell_type": "code",
   "execution_count": null,
   "id": "c267cc43",
   "metadata": {},
   "outputs": [],
   "source": [
    "import pyutil as pyu\n",
    "pyu.get_local_pyinfo()"
   ]
  },
  {
   "cell_type": "code",
   "execution_count": null,
   "id": "04882e90",
   "metadata": {},
   "outputs": [],
   "source": [
    "print(pyu.ps2(\"python-dotenv\"))"
   ]
  },
  {
   "cell_type": "code",
   "execution_count": null,
   "id": "f5c83af2",
   "metadata": {},
   "outputs": [],
   "source": [
    "from typing import List"
   ]
  },
  {
   "cell_type": "code",
   "execution_count": null,
   "id": "a2b5e4dd",
   "metadata": {},
   "outputs": [],
   "source": [
    "class Solution:\n",
    "  def solve(self, board: List[List[str]]) -> None:\n",
    "    if not board:\n",
    "      return\n",
    "\n",
    "    m = len(board)\n",
    "    n = len(board[0])\n",
    "    dirs = [0, 1, 0, -1, 0]\n",
    "    q = deque()\n",
    "\n",
    "    for i in range(m):\n",
    "      for j in range(n):\n",
    "        if i * j == 0 or i == m - 1 or j == n - 1:\n",
    "          if board[i][j] == 'O':\n",
    "            q.append((i, j))\n",
    "            board[i][j] = '*'\n",
    "\n",
    "    # Mark grids that stretch from four sides with '*'\n",
    "    while q:\n",
    "      i, j = q.popleft()\n",
    "      for k in range(4):\n",
    "        x = i + dirs[k]\n",
    "        y = j + dirs[k + 1]\n",
    "        if x < 0 or x == m or y < 0 or y == n:\n",
    "          continue\n",
    "        if board[x][y] != 'O':\n",
    "          continue\n",
    "        q.append((x, y))\n",
    "        board[x][y] = '*'\n",
    "\n",
    "    for row in board:\n",
    "      for i, c in enumerate(row):\n",
    "        row[i] = 'O' if c == '*' else 'X'"
   ]
  },
  {
   "cell_type": "code",
   "execution_count": null,
   "id": "2100d9d6",
   "metadata": {},
   "outputs": [],
   "source": [
    "new Solution().solve()"
   ]
  }
 ],
 "metadata": {},
 "nbformat": 4,
 "nbformat_minor": 5
}

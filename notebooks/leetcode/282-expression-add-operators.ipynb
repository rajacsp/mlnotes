{
 "cells": [
  {
   "cell_type": "markdown",
   "id": "e61d1546",
   "metadata": {},
   "source": [
    "https://leetcode.com/problems/expression-add-operators"
   ]
  },
  {
   "cell_type": "code",
   "execution_count": null,
   "id": "3b811ad6",
   "metadata": {},
   "outputs": [],
   "source": [
    "import pyutil as pyu\n",
    "pyu.get_local_pyinfo()"
   ]
  },
  {
   "cell_type": "code",
   "execution_count": null,
   "id": "c795884d",
   "metadata": {},
   "outputs": [],
   "source": [
    "print(pyu.ps2(\"python-dotenv\"))"
   ]
  },
  {
   "cell_type": "code",
   "execution_count": null,
   "id": "2b0f3dc0",
   "metadata": {},
   "outputs": [],
   "source": [
    "from typing import List"
   ]
  },
  {
   "cell_type": "code",
   "execution_count": null,
   "id": "065e9e2b",
   "metadata": {},
   "outputs": [],
   "source": [
    "class Solution:\n",
    "  def addOperators(self, num: str, target: int) -> List[str]:\n",
    "    ans = []\n",
    "\n",
    "    # Start index, prev value, current evaluated value\n",
    "    def dfs(start: int, prev: int, eval: int, path: List[str]) -> None:\n",
    "      if start == len(num):\n",
    "        if eval == target:\n",
    "          ans.append(''.join(path))\n",
    "        return\n",
    "\n",
    "      for i in range(start, len(num)):\n",
    "        if i > start and num[start] == '0':\n",
    "          return\n",
    "        s = num[start:i + 1]\n",
    "        curr = int(s)\n",
    "        if start == 0:\n",
    "          path.append(s)\n",
    "          dfs(i + 1, curr, curr, path)\n",
    "          path.pop()\n",
    "        else:\n",
    "          for op in ['+', '-', '*']:\n",
    "            path.append(op + s)\n",
    "            if op == '+':\n",
    "              dfs(i + 1, curr, eval + curr, path)\n",
    "            elif op == '-':\n",
    "              dfs(i + 1, -curr, eval - curr, path)\n",
    "            else:\n",
    "              dfs(i + 1, prev * curr, eval - prev + prev * curr, path)\n",
    "            path.pop()\n",
    "\n",
    "    dfs(0, 0, 0, [])\n",
    "    return ans"
   ]
  },
  {
   "cell_type": "code",
   "execution_count": null,
   "id": "a118c275",
   "metadata": {},
   "outputs": [],
   "source": [
    "new Solution().addOperators()"
   ]
  }
 ],
 "metadata": {},
 "nbformat": 4,
 "nbformat_minor": 5
}

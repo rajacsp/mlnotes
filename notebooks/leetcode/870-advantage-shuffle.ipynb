{
 "cells": [
  {
   "cell_type": "markdown",
   "id": "91e156e5",
   "metadata": {},
   "source": [
    "https://leetcode.com/problems/advantage-shuffle"
   ]
  },
  {
   "cell_type": "code",
   "execution_count": null,
   "id": "696e5cf5",
   "metadata": {},
   "outputs": [],
   "source": [
    "import pyutil as pyu\n",
    "pyu.get_local_pyinfo()"
   ]
  },
  {
   "cell_type": "code",
   "execution_count": null,
   "id": "a4cd0735",
   "metadata": {},
   "outputs": [],
   "source": [
    "print(pyu.ps2(\"python-dotenv\"))"
   ]
  },
  {
   "cell_type": "code",
   "execution_count": null,
   "id": "5fa70ada",
   "metadata": {},
   "outputs": [],
   "source": [
    "from typing import List"
   ]
  },
  {
   "cell_type": "code",
   "execution_count": null,
   "id": "b404bc5c",
   "metadata": {},
   "outputs": [],
   "source": [
    "from sortedcontainers import SortedList\n",
    "\n",
    "\n",
    "class Solution:\n",
    "  def advantageCount(self, A: List[int], B: List[int]) -> List[int]:\n",
    "    sl = SortedList(A)\n",
    "\n",
    "    for i, b in enumerate(B):\n",
    "      index = 0 if sl[-1] <= b else sl.bisect_right(b)\n",
    "      A[i] = sl[index]\n",
    "      del sl[index]\n",
    "\n",
    "    return A"
   ]
  },
  {
   "cell_type": "code",
   "execution_count": null,
   "id": "4460f271",
   "metadata": {},
   "outputs": [],
   "source": [
    "new Solution().advantageCount()"
   ]
  }
 ],
 "metadata": {},
 "nbformat": 4,
 "nbformat_minor": 5
}

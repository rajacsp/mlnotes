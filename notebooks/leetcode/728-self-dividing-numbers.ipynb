{
 "cells": [
  {
   "cell_type": "markdown",
   "id": "f1b25146",
   "metadata": {},
   "source": [
    "https://leetcode.com/problems/self-dividing-numbers"
   ]
  },
  {
   "cell_type": "code",
   "execution_count": null,
   "id": "a802b1b7",
   "metadata": {},
   "outputs": [],
   "source": [
    "import pyutil as pyu\n",
    "pyu.get_local_pyinfo()"
   ]
  },
  {
   "cell_type": "code",
   "execution_count": null,
   "id": "c4e4f754",
   "metadata": {},
   "outputs": [],
   "source": [
    "print(pyu.ps2(\"python-dotenv\"))"
   ]
  },
  {
   "cell_type": "code",
   "execution_count": null,
   "id": "1d89fb51",
   "metadata": {},
   "outputs": [],
   "source": [
    "from typing import List"
   ]
  },
  {
   "cell_type": "code",
   "execution_count": null,
   "id": "bd575225",
   "metadata": {},
   "outputs": [],
   "source": [
    "class Solution:\n",
    "  def selfDividingNumbers(self, left: int, right: int) -> List[int]:\n",
    "    return [num for num in range(left, right + 1) if all(n != 0 and num % n == 0 for n in map(int, str(num)))]"
   ]
  },
  {
   "cell_type": "code",
   "execution_count": null,
   "id": "2d958152",
   "metadata": {},
   "outputs": [],
   "source": [
    "new Solution().selfDividingNumbers()"
   ]
  }
 ],
 "metadata": {},
 "nbformat": 4,
 "nbformat_minor": 5
}

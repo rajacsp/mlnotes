{
 "cells": [
  {
   "cell_type": "markdown",
   "id": "9437c99d",
   "metadata": {},
   "source": [
    "https://leetcode.com/problems/shortest-word-distance-iii"
   ]
  },
  {
   "cell_type": "code",
   "execution_count": null,
   "id": "33777c4a",
   "metadata": {},
   "outputs": [],
   "source": [
    "import pyutil as pyu\n",
    "pyu.get_local_pyinfo()"
   ]
  },
  {
   "cell_type": "code",
   "execution_count": null,
   "id": "78515afc",
   "metadata": {},
   "outputs": [],
   "source": [
    "print(pyu.ps2(\"python-dotenv\"))"
   ]
  },
  {
   "cell_type": "code",
   "execution_count": null,
   "id": "fe7e217d",
   "metadata": {},
   "outputs": [],
   "source": [
    "from typing import List"
   ]
  },
  {
   "cell_type": "code",
   "execution_count": null,
   "id": "ef37cb54",
   "metadata": {},
   "outputs": [],
   "source": [
    "class Solution:\n",
    "  def shortestWordDistance(self, wordsDict: List[str], word1: str, word2: str) -> int:\n",
    "    isSame = word1 == word2\n",
    "    ans = math.inf\n",
    "    # If word1 == word2, index1 is the newest index\n",
    "    index1 = len(wordsDict)\n",
    "    # If word1 == word2, index2 is the previous index\n",
    "    index2 = -len(wordsDict)\n",
    "\n",
    "    for i, word in enumerate(wordsDict):\n",
    "      if word == word1:\n",
    "        if isSame:\n",
    "          index2 = index1\n",
    "        index1 = i\n",
    "      elif word == word2:\n",
    "        index2 = i\n",
    "      ans = min(ans, abs(index1 - index2))\n",
    "\n",
    "    return ans"
   ]
  },
  {
   "cell_type": "code",
   "execution_count": null,
   "id": "26a94b86",
   "metadata": {},
   "outputs": [],
   "source": [
    "new Solution().shortestWordDistance()"
   ]
  }
 ],
 "metadata": {},
 "nbformat": 4,
 "nbformat_minor": 5
}

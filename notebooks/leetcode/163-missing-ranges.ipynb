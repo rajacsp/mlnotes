{
 "cells": [
  {
   "cell_type": "markdown",
   "id": "116dae56",
   "metadata": {},
   "source": [
    "https://leetcode.com/problems/missing-ranges"
   ]
  },
  {
   "cell_type": "code",
   "execution_count": null,
   "id": "dbfe475a",
   "metadata": {},
   "outputs": [],
   "source": [
    "import pyutil as pyu\n",
    "pyu.get_local_pyinfo()"
   ]
  },
  {
   "cell_type": "code",
   "execution_count": null,
   "id": "dd7655a2",
   "metadata": {},
   "outputs": [],
   "source": [
    "print(pyu.ps2(\"python-dotenv\"))"
   ]
  },
  {
   "cell_type": "code",
   "execution_count": null,
   "id": "3022ba89",
   "metadata": {},
   "outputs": [],
   "source": [
    "from typing import List"
   ]
  },
  {
   "cell_type": "code",
   "execution_count": null,
   "id": "141ace71",
   "metadata": {},
   "outputs": [],
   "source": [
    "class Solution:\n",
    "  def findMissingRanges(self, nums: List[int], lower: int, upper: int) -> List[str]:\n",
    "    def getRange(lo: int, hi: int) -> str:\n",
    "      if lo == hi:\n",
    "        return str(lo)\n",
    "      return str(lo) + '->' + str(hi)\n",
    "\n",
    "    if not nums:\n",
    "      return [getRange(lower, upper)]\n",
    "\n",
    "    ans = []\n",
    "\n",
    "    if nums[0] > lower:\n",
    "      ans.append(getRange(lower, nums[0] - 1))\n",
    "\n",
    "    for prev, curr in zip(nums, nums[1:]):\n",
    "      if curr > prev + 1:\n",
    "        ans.append(getRange(prev + 1, curr - 1))\n",
    "\n",
    "    if nums[-1] < upper:\n",
    "      ans.append(getRange(nums[-1] + 1, upper))\n",
    "\n",
    "    return ans"
   ]
  },
  {
   "cell_type": "code",
   "execution_count": null,
   "id": "dd3d0ea6",
   "metadata": {},
   "outputs": [],
   "source": [
    "new Solution().findMissingRanges()"
   ]
  }
 ],
 "metadata": {},
 "nbformat": 4,
 "nbformat_minor": 5
}

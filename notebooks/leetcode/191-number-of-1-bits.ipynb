{
 "cells": [
  {
   "cell_type": "markdown",
   "id": "6c543acb",
   "metadata": {},
   "source": [
    "https://leetcode.com/problems/number-of-1-bits"
   ]
  },
  {
   "cell_type": "code",
   "execution_count": null,
   "id": "8dd040cb",
   "metadata": {},
   "outputs": [],
   "source": [
    "import pyutil as pyu\n",
    "pyu.get_local_pyinfo()"
   ]
  },
  {
   "cell_type": "code",
   "execution_count": null,
   "id": "939b06f1",
   "metadata": {},
   "outputs": [],
   "source": [
    "print(pyu.ps2(\"python-dotenv\"))"
   ]
  },
  {
   "cell_type": "code",
   "execution_count": null,
   "id": "32003344",
   "metadata": {},
   "outputs": [],
   "source": [
    "from typing import List"
   ]
  },
  {
   "cell_type": "code",
   "execution_count": null,
   "id": "7f97b314",
   "metadata": {},
   "outputs": [],
   "source": [
    "class Solution:\n",
    "  def hammingWeight(self, n: int) -> int:\n",
    "    ans = 0\n",
    "\n",
    "    for i in range(32):\n",
    "      if (n >> i) & 1:\n",
    "        ans += 1\n",
    "\n",
    "    return ans"
   ]
  },
  {
   "cell_type": "code",
   "execution_count": null,
   "id": "b11d8e8f",
   "metadata": {},
   "outputs": [],
   "source": [
    "new Solution().hammingWeight()"
   ]
  }
 ],
 "metadata": {},
 "nbformat": 4,
 "nbformat_minor": 5
}

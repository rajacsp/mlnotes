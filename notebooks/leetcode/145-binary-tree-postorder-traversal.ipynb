{
 "cells": [
  {
   "cell_type": "markdown",
   "id": "4657dd50",
   "metadata": {},
   "source": [
    "https://leetcode.com/problems/binary-tree-postorder-traversal"
   ]
  },
  {
   "cell_type": "code",
   "execution_count": null,
   "id": "39a6bbc0",
   "metadata": {},
   "outputs": [],
   "source": [
    "import pyutil as pyu\n",
    "pyu.get_local_pyinfo()"
   ]
  },
  {
   "cell_type": "code",
   "execution_count": null,
   "id": "38c9142c",
   "metadata": {},
   "outputs": [],
   "source": [
    "print(pyu.ps2(\"python-dotenv\"))"
   ]
  },
  {
   "cell_type": "code",
   "execution_count": null,
   "id": "43dac080",
   "metadata": {},
   "outputs": [],
   "source": [
    "from typing import List"
   ]
  },
  {
   "cell_type": "code",
   "execution_count": null,
   "id": "738bc597",
   "metadata": {},
   "outputs": [],
   "source": [
    "class Solution:\n",
    "  def postorderTraversal(self, root: Optional[TreeNode]) -> List[int]:\n",
    "    ans = []\n",
    "\n",
    "    def postorder(root: Optional[TreeNode]) -> None:\n",
    "      if not root:\n",
    "        return\n",
    "\n",
    "      postorder(root.left)\n",
    "      postorder(root.right)\n",
    "      ans.append(root.val)\n",
    "\n",
    "    postorder(root)\n",
    "    return ans"
   ]
  },
  {
   "cell_type": "code",
   "execution_count": null,
   "id": "3f28d932",
   "metadata": {},
   "outputs": [],
   "source": [
    "new Solution().postorderTraversal()"
   ]
  }
 ],
 "metadata": {},
 "nbformat": 4,
 "nbformat_minor": 5
}

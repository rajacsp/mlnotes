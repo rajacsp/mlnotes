{
 "cells": [
  {
   "cell_type": "markdown",
   "id": "cacc1abb",
   "metadata": {},
   "source": [
    "https://leetcode.com/problems/n-queens"
   ]
  },
  {
   "cell_type": "code",
   "execution_count": null,
   "id": "8c7c7457",
   "metadata": {},
   "outputs": [],
   "source": [
    "import pyutil as pyu\n",
    "pyu.get_local_pyinfo()"
   ]
  },
  {
   "cell_type": "code",
   "execution_count": null,
   "id": "e4749ace",
   "metadata": {},
   "outputs": [],
   "source": [
    "print(pyu.ps2(\"python-dotenv\"))"
   ]
  },
  {
   "cell_type": "code",
   "execution_count": null,
   "id": "a051b08d",
   "metadata": {},
   "outputs": [],
   "source": [
    "from typing import List"
   ]
  },
  {
   "cell_type": "code",
   "execution_count": null,
   "id": "8a8e6491",
   "metadata": {},
   "outputs": [],
   "source": [
    "class Solution:\n",
    "  def solveNQueens(self, n: int) -> List[List[str]]:\n",
    "    ans = []\n",
    "    cols = [False] * n\n",
    "    diag1 = [False] * (2 * n - 1)\n",
    "    diag2 = [False] * (2 * n - 1)\n",
    "\n",
    "    def dfs(i: int, board: List[int]) -> None:\n",
    "      if i == n:\n",
    "        ans.append(board)\n",
    "        return\n",
    "\n",
    "      for j in range(n):\n",
    "        if cols[j] or diag1[i + j] or diag2[j - i + n - 1]:\n",
    "          continue\n",
    "        cols[j] = diag1[i + j] = diag2[j - i + n - 1] = True\n",
    "        dfs(i + 1, board + ['.' * j + 'Q' + '.' * (n - j - 1)])\n",
    "        cols[j] = diag1[i + j] = diag2[j - i + n - 1] = False\n",
    "\n",
    "    dfs(0, [])\n",
    "    return ans"
   ]
  },
  {
   "cell_type": "code",
   "execution_count": null,
   "id": "d564a6f0",
   "metadata": {},
   "outputs": [],
   "source": [
    "new Solution().solveNQueens()"
   ]
  }
 ],
 "metadata": {},
 "nbformat": 4,
 "nbformat_minor": 5
}

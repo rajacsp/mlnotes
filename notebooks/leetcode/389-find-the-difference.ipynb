{
 "cells": [
  {
   "cell_type": "markdown",
   "id": "a7c02c91",
   "metadata": {},
   "source": [
    "https://leetcode.com/problems/find-the-difference"
   ]
  },
  {
   "cell_type": "code",
   "execution_count": null,
   "id": "3a486574",
   "metadata": {},
   "outputs": [],
   "source": [
    "import pyutil as pyu\n",
    "pyu.get_local_pyinfo()"
   ]
  },
  {
   "cell_type": "code",
   "execution_count": null,
   "id": "22fec0ba",
   "metadata": {},
   "outputs": [],
   "source": [
    "print(pyu.ps2(\"python-dotenv\"))"
   ]
  },
  {
   "cell_type": "code",
   "execution_count": null,
   "id": "5718425a",
   "metadata": {},
   "outputs": [],
   "source": [
    "from typing import List"
   ]
  },
  {
   "cell_type": "code",
   "execution_count": null,
   "id": "8b3c3819",
   "metadata": {},
   "outputs": [],
   "source": [
    "class Solution:\n",
    "  def findTheDifference(self, s: str, t: str) -> str:\n",
    "    count = Counter(s)\n",
    "\n",
    "    for i, c in enumerate(t):\n",
    "      count[c] -= 1\n",
    "      if count[c] == -1:\n",
    "        return c"
   ]
  },
  {
   "cell_type": "code",
   "execution_count": null,
   "id": "564267a4",
   "metadata": {},
   "outputs": [],
   "source": [
    "new Solution().findTheDifference()"
   ]
  }
 ],
 "metadata": {},
 "nbformat": 4,
 "nbformat_minor": 5
}

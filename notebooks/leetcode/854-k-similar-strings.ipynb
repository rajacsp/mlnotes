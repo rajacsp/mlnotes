{
 "cells": [
  {
   "cell_type": "markdown",
   "id": "7c37bf80",
   "metadata": {},
   "source": [
    "https://leetcode.com/problems/k-similar-strings"
   ]
  },
  {
   "cell_type": "code",
   "execution_count": null,
   "id": "9974cf77",
   "metadata": {},
   "outputs": [],
   "source": [
    "import pyutil as pyu\n",
    "pyu.get_local_pyinfo()"
   ]
  },
  {
   "cell_type": "code",
   "execution_count": null,
   "id": "97513bad",
   "metadata": {},
   "outputs": [],
   "source": [
    "print(pyu.ps2(\"python-dotenv\"))"
   ]
  },
  {
   "cell_type": "code",
   "execution_count": null,
   "id": "083c8bb8",
   "metadata": {},
   "outputs": [],
   "source": [
    "from typing import List"
   ]
  },
  {
   "cell_type": "code",
   "execution_count": null,
   "id": "6ce6a606",
   "metadata": {},
   "outputs": [],
   "source": [
    "class Solution:\n",
    "  def kSimilarity(self, s1: str, s2: str) -> int:\n",
    "    ans = 0\n",
    "    q = deque([s1])\n",
    "    seen = {s1}\n",
    "\n",
    "    while q:\n",
    "      for _ in range(len(q)):\n",
    "        curr = q.popleft()\n",
    "        if curr == s2:\n",
    "          return ans\n",
    "        for child in self._getChildren(curr, s2):\n",
    "          if child in seen:\n",
    "            continue\n",
    "          q.append(child)\n",
    "          seen.add(child)\n",
    "      ans += 1\n",
    "\n",
    "    return -1\n",
    "\n",
    "  def _getChildren(self, curr: str, target: str) -> List[str]:\n",
    "    children = []\n",
    "    s = list(curr)\n",
    "    i = 0  # First index s.t. curr[i] != target[i]\n",
    "    while curr[i] == target[i]:\n",
    "      i += 1\n",
    "\n",
    "    for j in range(i + 1, len(s)):\n",
    "      if s[j] == target[i]:\n",
    "        s[i], s[j] = s[j], s[i]\n",
    "        children.append(''.join(s))\n",
    "        s[i], s[j] = s[j], s[i]\n",
    "\n",
    "    return children"
   ]
  },
  {
   "cell_type": "code",
   "execution_count": null,
   "id": "0d0d203b",
   "metadata": {},
   "outputs": [],
   "source": [
    "new Solution().kSimilarity()"
   ]
  }
 ],
 "metadata": {},
 "nbformat": 4,
 "nbformat_minor": 5
}

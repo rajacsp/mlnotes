{
 "cells": [
  {
   "cell_type": "markdown",
   "id": "e2028fce",
   "metadata": {},
   "source": [
    "https://leetcode.com/problems/maximum-length-of-pair-chain"
   ]
  },
  {
   "cell_type": "code",
   "execution_count": null,
   "id": "4a4270dd",
   "metadata": {},
   "outputs": [],
   "source": [
    "import pyutil as pyu\n",
    "pyu.get_local_pyinfo()"
   ]
  },
  {
   "cell_type": "code",
   "execution_count": null,
   "id": "f362c36b",
   "metadata": {},
   "outputs": [],
   "source": [
    "print(pyu.ps2(\"python-dotenv\"))"
   ]
  },
  {
   "cell_type": "code",
   "execution_count": null,
   "id": "8b296454",
   "metadata": {},
   "outputs": [],
   "source": [
    "from typing import List"
   ]
  },
  {
   "cell_type": "code",
   "execution_count": null,
   "id": "817a22dc",
   "metadata": {},
   "outputs": [],
   "source": [
    "class Solution:\n",
    "  def findLongestChain(self, pairs: List[List[int]]) -> int:\n",
    "    ans = 0\n",
    "    prevEnd = -math.inf\n",
    "\n",
    "    for s, e in sorted(pairs, key=lambda x: x[1]):\n",
    "      if s > prevEnd:\n",
    "        ans += 1\n",
    "        prevEnd = e\n",
    "\n",
    "    return ans"
   ]
  },
  {
   "cell_type": "code",
   "execution_count": null,
   "id": "0869d35d",
   "metadata": {},
   "outputs": [],
   "source": [
    "new Solution().findLongestChain()"
   ]
  }
 ],
 "metadata": {},
 "nbformat": 4,
 "nbformat_minor": 5
}

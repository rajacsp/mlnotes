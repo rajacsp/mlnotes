{
 "cells": [
  {
   "cell_type": "markdown",
   "id": "081d711d",
   "metadata": {},
   "source": [
    "https://leetcode.com/problems/sliding-window-maximum"
   ]
  },
  {
   "cell_type": "code",
   "execution_count": null,
   "id": "f06ae952",
   "metadata": {},
   "outputs": [],
   "source": [
    "import pyutil as pyu\n",
    "pyu.get_local_pyinfo()"
   ]
  },
  {
   "cell_type": "code",
   "execution_count": null,
   "id": "387b3677",
   "metadata": {},
   "outputs": [],
   "source": [
    "print(pyu.ps2(\"python-dotenv\"))"
   ]
  },
  {
   "cell_type": "code",
   "execution_count": null,
   "id": "236193c7",
   "metadata": {},
   "outputs": [],
   "source": [
    "from typing import List"
   ]
  },
  {
   "cell_type": "code",
   "execution_count": null,
   "id": "396b9505",
   "metadata": {},
   "outputs": [],
   "source": [
    "class Solution:\n",
    "  def maxSlidingWindow(self, nums: List[int], k: int) -> List[int]:\n",
    "    ans = []\n",
    "    q = deque()  # Max queue\n",
    "\n",
    "    for i, num in enumerate(nums):\n",
    "      while q and q[-1] < num:\n",
    "        q.pop()\n",
    "      q.append(num)\n",
    "      if i >= k and nums[i - k] == q[0]:  # Out of bound\n",
    "        q.popleft()\n",
    "      if i >= k - 1:\n",
    "        ans.append(q[0])\n",
    "\n",
    "    return ans"
   ]
  },
  {
   "cell_type": "code",
   "execution_count": null,
   "id": "b79284dc",
   "metadata": {},
   "outputs": [],
   "source": [
    "new Solution().maxSlidingWindow()"
   ]
  }
 ],
 "metadata": {},
 "nbformat": 4,
 "nbformat_minor": 5
}

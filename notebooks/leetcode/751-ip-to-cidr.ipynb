{
 "cells": [
  {
   "cell_type": "markdown",
   "id": "e2427e35",
   "metadata": {},
   "source": [
    "https://leetcode.com/problems/ip-to-cidr"
   ]
  },
  {
   "cell_type": "code",
   "execution_count": null,
   "id": "e08e4c24",
   "metadata": {},
   "outputs": [],
   "source": [
    "import pyutil as pyu\n",
    "pyu.get_local_pyinfo()"
   ]
  },
  {
   "cell_type": "code",
   "execution_count": null,
   "id": "bd6d7077",
   "metadata": {},
   "outputs": [],
   "source": [
    "print(pyu.ps2(\"python-dotenv\"))"
   ]
  },
  {
   "cell_type": "code",
   "execution_count": null,
   "id": "af264286",
   "metadata": {},
   "outputs": [],
   "source": [
    "from typing import List"
   ]
  },
  {
   "cell_type": "code",
   "execution_count": null,
   "id": "3c573eae",
   "metadata": {},
   "outputs": [],
   "source": [
    "class Solution:\n",
    "  def ipToCIDR(self, ip: str, n: int) -> List[str]:\n",
    "    ans = []\n",
    "    num = self._getNum(ip.split('.'))\n",
    "\n",
    "    while n > 0:\n",
    "      lowbit = num & -num\n",
    "      count = self._maxLow(n) if lowbit == 0 else self._firstFit(lowbit, n)\n",
    "      ans.append(self._getCIDR(num, self._getPrefix(count)))\n",
    "      n -= count\n",
    "      num += count\n",
    "\n",
    "    return ans\n",
    "\n",
    "  def _getNum(self, x: List[str]) -> int:\n",
    "    num = 0\n",
    "    for i in range(4):\n",
    "      num = num * 256 + int(x[i])\n",
    "    return num\n",
    "\n",
    "  # Returns max i s.t. 2^i < n\n",
    "  def _maxLow(self, n: int) -> Optional[int]:\n",
    "    for i in range(32):\n",
    "      if 1 << i + 1 > n:\n",
    "        return 1 << i\n",
    "\n",
    "  def _firstFit(self, lowbit: int, n: int) -> int:\n",
    "    while lowbit > n:\n",
    "      lowbit >>= 1\n",
    "    return lowbit\n",
    "\n",
    "  def _getCIDR(self, num: int, prefix: int) -> str:\n",
    "    d = num & 255\n",
    "    num >>= 8\n",
    "    c = num & 255\n",
    "    num >>= 8\n",
    "    b = num & 255\n",
    "    num >>= 8\n",
    "    a = num & 255\n",
    "    return '.'.join([str(s) for s in [a, b, c, d]]) + '/' + str(prefix)\n",
    "\n",
    "  # E.g. count = 8 = 2^3 . prefix = 32 - 3 = 29\n",
    "  #      count = 1 = 2^0 . prefix = 32 - 0 = 32\n",
    "  def _getPrefix(self, count: int) -> Optional[int]:\n",
    "    for i in range(32):\n",
    "      if count == 1 << i:\n",
    "        return 32 - i"
   ]
  },
  {
   "cell_type": "code",
   "execution_count": null,
   "id": "315b6d28",
   "metadata": {},
   "outputs": [],
   "source": [
    "new Solution().ipToCIDR()"
   ]
  }
 ],
 "metadata": {},
 "nbformat": 4,
 "nbformat_minor": 5
}

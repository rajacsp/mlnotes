{
 "cells": [
  {
   "cell_type": "markdown",
   "id": "edf876d0",
   "metadata": {},
   "source": [
    "https://leetcode.com/problems/gas-station"
   ]
  },
  {
   "cell_type": "code",
   "execution_count": null,
   "id": "e87ae322",
   "metadata": {},
   "outputs": [],
   "source": [
    "import pyutil as pyu\n",
    "pyu.get_local_pyinfo()"
   ]
  },
  {
   "cell_type": "code",
   "execution_count": null,
   "id": "6939c37f",
   "metadata": {},
   "outputs": [],
   "source": [
    "print(pyu.ps2(\"python-dotenv\"))"
   ]
  },
  {
   "cell_type": "code",
   "execution_count": null,
   "id": "b775e44d",
   "metadata": {},
   "outputs": [],
   "source": [
    "from typing import List"
   ]
  },
  {
   "cell_type": "code",
   "execution_count": null,
   "id": "038ea9b7",
   "metadata": {},
   "outputs": [],
   "source": [
    "class Solution:\n",
    "  def canCompleteCircuit(self, gas: List[int], cost: List[int]) -> int:\n",
    "    ans = 0\n",
    "    net = 0\n",
    "    summ = 0\n",
    "\n",
    "    for i in range(len(gas)):\n",
    "      net += gas[i] - cost[i]\n",
    "      summ += gas[i] - cost[i]\n",
    "      if summ < 0:\n",
    "        summ = 0\n",
    "        ans = i + 1\n",
    "\n",
    "    return -1 if net < 0 else ans"
   ]
  },
  {
   "cell_type": "code",
   "execution_count": null,
   "id": "e740d173",
   "metadata": {},
   "outputs": [],
   "source": [
    "new Solution().canCompleteCircuit()"
   ]
  }
 ],
 "metadata": {},
 "nbformat": 4,
 "nbformat_minor": 5
}

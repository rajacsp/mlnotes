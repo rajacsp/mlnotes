{
 "cells": [
  {
   "cell_type": "markdown",
   "id": "fc1d15d6",
   "metadata": {},
   "source": [
    "https://leetcode.com/problems/paint-fence"
   ]
  },
  {
   "cell_type": "code",
   "execution_count": null,
   "id": "315b7771",
   "metadata": {},
   "outputs": [],
   "source": [
    "import pyutil as pyu\n",
    "pyu.get_local_pyinfo()"
   ]
  },
  {
   "cell_type": "code",
   "execution_count": null,
   "id": "c3f0bd57",
   "metadata": {},
   "outputs": [],
   "source": [
    "print(pyu.ps2(\"python-dotenv\"))"
   ]
  },
  {
   "cell_type": "code",
   "execution_count": null,
   "id": "1f7aef31",
   "metadata": {},
   "outputs": [],
   "source": [
    "from typing import List"
   ]
  },
  {
   "cell_type": "code",
   "execution_count": null,
   "id": "2153f80a",
   "metadata": {},
   "outputs": [],
   "source": [
    "class Solution:\n",
    "  def numWays(self, n: int, k: int) -> int:\n",
    "    if n == 0:\n",
    "      return 0\n",
    "    if n == 1:\n",
    "      return k\n",
    "    if n == 2:\n",
    "      return k * k\n",
    "\n",
    "    # dp[i] := # Of ways to pan posts with k colors\n",
    "    dp = [0] * (n + 1)\n",
    "    dp[0] = 0\n",
    "    dp[1] = k\n",
    "    dp[2] = k * k\n",
    "\n",
    "    for i in range(3, n + 1):\n",
    "      dp[i] = (dp[i - 1] + dp[i - 2]) * (k - 1)\n",
    "\n",
    "    return dp[n]"
   ]
  },
  {
   "cell_type": "code",
   "execution_count": null,
   "id": "b8639ea2",
   "metadata": {},
   "outputs": [],
   "source": [
    "new Solution().numWays()"
   ]
  }
 ],
 "metadata": {},
 "nbformat": 4,
 "nbformat_minor": 5
}

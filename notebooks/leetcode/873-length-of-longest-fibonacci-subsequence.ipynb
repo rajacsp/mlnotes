{
 "cells": [
  {
   "cell_type": "markdown",
   "id": "3a7148f1",
   "metadata": {},
   "source": [
    "https://leetcode.com/problems/length-of-longest-fibonacci-subsequence"
   ]
  },
  {
   "cell_type": "code",
   "execution_count": null,
   "id": "3671bebf",
   "metadata": {},
   "outputs": [],
   "source": [
    "import pyutil as pyu\n",
    "pyu.get_local_pyinfo()"
   ]
  },
  {
   "cell_type": "code",
   "execution_count": null,
   "id": "3d0c551a",
   "metadata": {},
   "outputs": [],
   "source": [
    "print(pyu.ps2(\"python-dotenv\"))"
   ]
  },
  {
   "cell_type": "code",
   "execution_count": null,
   "id": "61da39f7",
   "metadata": {},
   "outputs": [],
   "source": [
    "from typing import List"
   ]
  },
  {
   "cell_type": "code",
   "execution_count": null,
   "id": "4df95f5d",
   "metadata": {},
   "outputs": [],
   "source": [
    "class Solution:\n",
    "  def lenLongestFibSubseq(self, A: List[int]) -> int:\n",
    "    n = len(A)\n",
    "    ans = 0\n",
    "    numToIndex = {a: i for i, a in enumerate(A)}\n",
    "    dp = [[2] * n for _ in range(n)]\n",
    "\n",
    "    for j in range(n):\n",
    "      for k in range(j + 1, n):\n",
    "        ai = A[k] - A[j]\n",
    "        if ai < A[j] and ai in numToIndex:\n",
    "          i = numToIndex[ai]\n",
    "          dp[j][k] = dp[i][j] + 1\n",
    "          ans = max(ans, dp[j][k])\n",
    "\n",
    "    return ans"
   ]
  },
  {
   "cell_type": "code",
   "execution_count": null,
   "id": "4b221781",
   "metadata": {},
   "outputs": [],
   "source": [
    "new Solution().lenLongestFibSubseq()"
   ]
  }
 ],
 "metadata": {},
 "nbformat": 4,
 "nbformat_minor": 5
}

{
 "cells": [
  {
   "cell_type": "markdown",
   "id": "dcbd5eb6",
   "metadata": {},
   "source": [
    "https://leetcode.com/problems/unique-morse-code-words"
   ]
  },
  {
   "cell_type": "code",
   "execution_count": null,
   "id": "b90e3835",
   "metadata": {},
   "outputs": [],
   "source": [
    "import pyutil as pyu\n",
    "pyu.get_local_pyinfo()"
   ]
  },
  {
   "cell_type": "code",
   "execution_count": null,
   "id": "f4e3d952",
   "metadata": {},
   "outputs": [],
   "source": [
    "print(pyu.ps2(\"python-dotenv\"))"
   ]
  },
  {
   "cell_type": "code",
   "execution_count": null,
   "id": "428818d7",
   "metadata": {},
   "outputs": [],
   "source": [
    "from typing import List"
   ]
  },
  {
   "cell_type": "code",
   "execution_count": null,
   "id": "81bd12cf",
   "metadata": {},
   "outputs": [],
   "source": [
    "class Solution:\n",
    "  def uniqueMorseRepresentations(self, words: List[str]) -> int:\n",
    "    morse = [\".-\", \"-...\", \"-.-.\", \"-..\", \".\", \"..-.\", \"--.\", \"....\", \"..\", \".---\", \"-.-\", \".-..\", \"--\",\n",
    "             \"-.\", \"---\", \".--.\", \"--.-\", \".-.\", \"...\", \"-\", \"..-\", \"...-\", \".--\", \"-..-\", \"-.--\", \"--..\"]\n",
    "    transformations = set()\n",
    "\n",
    "    for word in words:\n",
    "      transformation = ''.join(morse[ord(c) - ord('a')] for c in word)\n",
    "      transformations.add(transformation)\n",
    "\n",
    "    return len(transformations)"
   ]
  },
  {
   "cell_type": "code",
   "execution_count": null,
   "id": "f4fe2ce7",
   "metadata": {},
   "outputs": [],
   "source": [
    "new Solution().uniqueMorseRepresentations()"
   ]
  }
 ],
 "metadata": {},
 "nbformat": 4,
 "nbformat_minor": 5
}

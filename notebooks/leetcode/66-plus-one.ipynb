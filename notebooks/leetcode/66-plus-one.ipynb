{
 "cells": [
  {
   "cell_type": "markdown",
   "id": "8de7ad40",
   "metadata": {},
   "source": [
    "https://leetcode.com/problems/plus-one"
   ]
  },
  {
   "cell_type": "code",
   "execution_count": null,
   "id": "d2ed1a8e",
   "metadata": {},
   "outputs": [],
   "source": [
    "import pyutil as pyu\n",
    "pyu.get_local_pyinfo()"
   ]
  },
  {
   "cell_type": "code",
   "execution_count": null,
   "id": "b4601f77",
   "metadata": {},
   "outputs": [],
   "source": [
    "print(pyu.ps2(\"python-dotenv\"))"
   ]
  },
  {
   "cell_type": "code",
   "execution_count": null,
   "id": "e10f311f",
   "metadata": {},
   "outputs": [],
   "source": [
    "from typing import List"
   ]
  },
  {
   "cell_type": "code",
   "execution_count": null,
   "id": "abf25eb9",
   "metadata": {},
   "outputs": [],
   "source": [
    "class Solution:\n",
    "  def plusOne(self, digits: List[int]) -> List[int]:\n",
    "    for i, d in reversed(list(enumerate(digits))):\n",
    "      if d < 9:\n",
    "        digits[i] += 1\n",
    "        return digits\n",
    "      digits[i] = 0\n",
    "\n",
    "    return [1] + digits"
   ]
  },
  {
   "cell_type": "code",
   "execution_count": null,
   "id": "a12041ef",
   "metadata": {},
   "outputs": [],
   "source": [
    "new Solution().plusOne()"
   ]
  }
 ],
 "metadata": {},
 "nbformat": 4,
 "nbformat_minor": 5
}

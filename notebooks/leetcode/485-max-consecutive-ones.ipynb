{
 "cells": [
  {
   "cell_type": "markdown",
   "id": "262e05db",
   "metadata": {},
   "source": [
    "https://leetcode.com/problems/max-consecutive-ones"
   ]
  },
  {
   "cell_type": "code",
   "execution_count": null,
   "id": "46b72562",
   "metadata": {},
   "outputs": [],
   "source": [
    "import pyutil as pyu\n",
    "pyu.get_local_pyinfo()"
   ]
  },
  {
   "cell_type": "code",
   "execution_count": null,
   "id": "6d9768c3",
   "metadata": {},
   "outputs": [],
   "source": [
    "print(pyu.ps2(\"python-dotenv\"))"
   ]
  },
  {
   "cell_type": "code",
   "execution_count": null,
   "id": "615818a9",
   "metadata": {},
   "outputs": [],
   "source": [
    "from typing import List"
   ]
  },
  {
   "cell_type": "code",
   "execution_count": null,
   "id": "33e42552",
   "metadata": {},
   "outputs": [],
   "source": [
    "class Solution:\n",
    "  def findMaxConsecutiveOnes(self, nums: List[int]) -> int:\n",
    "    ans = 0\n",
    "    summ = 0\n",
    "\n",
    "    for num in nums:\n",
    "      if num == 0:\n",
    "        summ = 0\n",
    "      else:\n",
    "        summ += num\n",
    "        ans = max(ans, summ)\n",
    "\n",
    "    return ans"
   ]
  },
  {
   "cell_type": "code",
   "execution_count": null,
   "id": "2d3fcab2",
   "metadata": {},
   "outputs": [],
   "source": [
    "new Solution().findMaxConsecutiveOnes()"
   ]
  }
 ],
 "metadata": {},
 "nbformat": 4,
 "nbformat_minor": 5
}

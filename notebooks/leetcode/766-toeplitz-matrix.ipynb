{
 "cells": [
  {
   "cell_type": "markdown",
   "id": "20f93404",
   "metadata": {},
   "source": [
    "https://leetcode.com/problems/toeplitz-matrix"
   ]
  },
  {
   "cell_type": "code",
   "execution_count": null,
   "id": "fda302ef",
   "metadata": {},
   "outputs": [],
   "source": [
    "import pyutil as pyu\n",
    "pyu.get_local_pyinfo()"
   ]
  },
  {
   "cell_type": "code",
   "execution_count": null,
   "id": "4b4ba0bd",
   "metadata": {},
   "outputs": [],
   "source": [
    "print(pyu.ps2(\"python-dotenv\"))"
   ]
  },
  {
   "cell_type": "code",
   "execution_count": null,
   "id": "960a1acb",
   "metadata": {},
   "outputs": [],
   "source": [
    "from typing import List"
   ]
  },
  {
   "cell_type": "code",
   "execution_count": null,
   "id": "f676304f",
   "metadata": {},
   "outputs": [],
   "source": [
    "class Solution:\n",
    "  def isToeplitzMatrix(self, matrix: List[List[int]]) -> bool:\n",
    "    for i in range(len(matrix) - 1):\n",
    "      for j in range(len(matrix[0]) - 1):\n",
    "        if matrix[i][j] != matrix[i + 1][j + 1]:\n",
    "          return False\n",
    "\n",
    "    return True"
   ]
  },
  {
   "cell_type": "code",
   "execution_count": null,
   "id": "67bf08fe",
   "metadata": {},
   "outputs": [],
   "source": [
    "new Solution().isToeplitzMatrix()"
   ]
  }
 ],
 "metadata": {},
 "nbformat": 4,
 "nbformat_minor": 5
}

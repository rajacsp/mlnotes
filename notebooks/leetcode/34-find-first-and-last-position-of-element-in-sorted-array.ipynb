{
 "cells": [
  {
   "cell_type": "markdown",
   "id": "d56ce63f",
   "metadata": {},
   "source": [
    "https://leetcode.com/problems/find-first-and-last-position-of-element-in-sorted-array"
   ]
  },
  {
   "cell_type": "code",
   "execution_count": null,
   "id": "f88fac02",
   "metadata": {},
   "outputs": [],
   "source": [
    "import pyutil as pyu\n",
    "pyu.get_local_pyinfo()"
   ]
  },
  {
   "cell_type": "code",
   "execution_count": null,
   "id": "cf8c7f06",
   "metadata": {},
   "outputs": [],
   "source": [
    "print(pyu.ps2(\"python-dotenv\"))"
   ]
  },
  {
   "cell_type": "code",
   "execution_count": null,
   "id": "9489e0ae",
   "metadata": {},
   "outputs": [],
   "source": [
    "from typing import List"
   ]
  },
  {
   "cell_type": "code",
   "execution_count": null,
   "id": "595fdaa8",
   "metadata": {},
   "outputs": [],
   "source": [
    "class Solution:\n",
    "  def searchRange(self, nums: List[int], target: int) -> List[int]:\n",
    "    l = bisect_left(nums, target)\n",
    "    if l == len(nums) or nums[l] != target:\n",
    "      return -1, -1\n",
    "    r = bisect_right(nums, target) - 1\n",
    "    return l, r"
   ]
  },
  {
   "cell_type": "code",
   "execution_count": null,
   "id": "595a277c",
   "metadata": {},
   "outputs": [],
   "source": [
    "new Solution().searchRange()"
   ]
  }
 ],
 "metadata": {},
 "nbformat": 4,
 "nbformat_minor": 5
}

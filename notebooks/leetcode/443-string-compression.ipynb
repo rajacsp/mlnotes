{
 "cells": [
  {
   "cell_type": "markdown",
   "id": "7031097d",
   "metadata": {},
   "source": [
    "https://leetcode.com/problems/string-compression"
   ]
  },
  {
   "cell_type": "code",
   "execution_count": null,
   "id": "17865ba3",
   "metadata": {},
   "outputs": [],
   "source": [
    "import pyutil as pyu\n",
    "pyu.get_local_pyinfo()"
   ]
  },
  {
   "cell_type": "code",
   "execution_count": null,
   "id": "7bf7a631",
   "metadata": {},
   "outputs": [],
   "source": [
    "print(pyu.ps2(\"python-dotenv\"))"
   ]
  },
  {
   "cell_type": "code",
   "execution_count": null,
   "id": "865e4d84",
   "metadata": {},
   "outputs": [],
   "source": [
    "from typing import List"
   ]
  },
  {
   "cell_type": "code",
   "execution_count": null,
   "id": "4d81a3a2",
   "metadata": {},
   "outputs": [],
   "source": [
    "class Solution:\n",
    "  def compress(self, chars: List[str]) -> int:\n",
    "    ans = 0\n",
    "    i = 0\n",
    "\n",
    "    while i < len(chars):\n",
    "      letter = chars[i]\n",
    "      count = 0\n",
    "      while i < len(chars) and chars[i] == letter:\n",
    "        count += 1\n",
    "        i += 1\n",
    "      chars[ans] = letter\n",
    "      ans += 1\n",
    "      if count > 1:\n",
    "        for c in str(count):\n",
    "          chars[ans] = c\n",
    "          ans += 1\n",
    "\n",
    "    return ans"
   ]
  },
  {
   "cell_type": "code",
   "execution_count": null,
   "id": "89095d3e",
   "metadata": {},
   "outputs": [],
   "source": [
    "new Solution().compress()"
   ]
  }
 ],
 "metadata": {},
 "nbformat": 4,
 "nbformat_minor": 5
}

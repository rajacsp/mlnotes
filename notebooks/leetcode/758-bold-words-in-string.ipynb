{
 "cells": [
  {
   "cell_type": "markdown",
   "id": "e3720393",
   "metadata": {},
   "source": [
    "https://leetcode.com/problems/bold-words-in-string"
   ]
  },
  {
   "cell_type": "code",
   "execution_count": null,
   "id": "35e37dc4",
   "metadata": {},
   "outputs": [],
   "source": [
    "import pyutil as pyu\n",
    "pyu.get_local_pyinfo()"
   ]
  },
  {
   "cell_type": "code",
   "execution_count": null,
   "id": "d97e93a6",
   "metadata": {},
   "outputs": [],
   "source": [
    "print(pyu.ps2(\"python-dotenv\"))"
   ]
  },
  {
   "cell_type": "code",
   "execution_count": null,
   "id": "3cb0004d",
   "metadata": {},
   "outputs": [],
   "source": [
    "from typing import List"
   ]
  },
  {
   "cell_type": "code",
   "execution_count": null,
   "id": "2b14fee5",
   "metadata": {},
   "outputs": [],
   "source": [
    "class Solution:\n",
    "  def boldWords(self, words: List[str], s: str) -> str:\n",
    "    n = len(s)\n",
    "    ans = []\n",
    "    # bold[i] := True if s[i] should be bolded\n",
    "    bold = [0] * n\n",
    "\n",
    "    boldEnd = -1  # s[i:boldEnd] should be bolded\n",
    "    for i in range(n):\n",
    "      for word in words:\n",
    "        if s[i:].startswith(word):\n",
    "          boldEnd = max(boldEnd, i + len(word))\n",
    "      bold[i] = boldEnd > i\n",
    "\n",
    "    # Construct the with bold tags\n",
    "    i = 0\n",
    "    while i < n:\n",
    "      if bold[i]:\n",
    "        j = i\n",
    "        while j < n and bold[j]:\n",
    "          j += 1\n",
    "        # s[i:j] should be bolded\n",
    "        ans.append('<b>' + s[i:j] + '</b>')\n",
    "        i = j\n",
    "      else:\n",
    "        ans.append(s[i])\n",
    "        i += 1\n",
    "\n",
    "    return ''.join(ans)"
   ]
  },
  {
   "cell_type": "code",
   "execution_count": null,
   "id": "4d86c9bf",
   "metadata": {},
   "outputs": [],
   "source": [
    "new Solution().boldWords()"
   ]
  }
 ],
 "metadata": {},
 "nbformat": 4,
 "nbformat_minor": 5
}

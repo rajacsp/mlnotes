{
 "cells": [
  {
   "cell_type": "markdown",
   "id": "bc7438e9",
   "metadata": {},
   "source": [
    "https://leetcode.com/problems/single-element-in-a-sorted-array"
   ]
  },
  {
   "cell_type": "code",
   "execution_count": null,
   "id": "7daca79f",
   "metadata": {},
   "outputs": [],
   "source": [
    "import pyutil as pyu\n",
    "pyu.get_local_pyinfo()"
   ]
  },
  {
   "cell_type": "code",
   "execution_count": null,
   "id": "50a837e8",
   "metadata": {},
   "outputs": [],
   "source": [
    "print(pyu.ps2(\"python-dotenv\"))"
   ]
  },
  {
   "cell_type": "code",
   "execution_count": null,
   "id": "6ef03b35",
   "metadata": {},
   "outputs": [],
   "source": [
    "from typing import List"
   ]
  },
  {
   "cell_type": "code",
   "execution_count": null,
   "id": "e441b988",
   "metadata": {},
   "outputs": [],
   "source": [
    "class Solution:\n",
    "  def singleNonDuplicate(self, nums: List[int]) -> int:\n",
    "    l = 0\n",
    "    r = len(nums) - 1\n",
    "\n",
    "    while l < r:\n",
    "      m = (l + r) // 2\n",
    "      if m % 2 == 1:\n",
    "        m -= 1\n",
    "      if nums[m] == nums[m + 1]:\n",
    "        l = m + 2\n",
    "      else:\n",
    "        r = m\n",
    "\n",
    "    return nums[l]"
   ]
  },
  {
   "cell_type": "code",
   "execution_count": null,
   "id": "2c079538",
   "metadata": {},
   "outputs": [],
   "source": [
    "new Solution().singleNonDuplicate()"
   ]
  }
 ],
 "metadata": {},
 "nbformat": 4,
 "nbformat_minor": 5
}

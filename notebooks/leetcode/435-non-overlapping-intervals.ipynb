{
 "cells": [
  {
   "cell_type": "markdown",
   "id": "ae341f53",
   "metadata": {},
   "source": [
    "https://leetcode.com/problems/non-overlapping-intervals"
   ]
  },
  {
   "cell_type": "code",
   "execution_count": null,
   "id": "ba11ed88",
   "metadata": {},
   "outputs": [],
   "source": [
    "import pyutil as pyu\n",
    "pyu.get_local_pyinfo()"
   ]
  },
  {
   "cell_type": "code",
   "execution_count": null,
   "id": "a1d4b306",
   "metadata": {},
   "outputs": [],
   "source": [
    "print(pyu.ps2(\"python-dotenv\"))"
   ]
  },
  {
   "cell_type": "code",
   "execution_count": null,
   "id": "56e878bf",
   "metadata": {},
   "outputs": [],
   "source": [
    "from typing import List"
   ]
  },
  {
   "cell_type": "code",
   "execution_count": null,
   "id": "021e8bef",
   "metadata": {},
   "outputs": [],
   "source": [
    "class Solution:\n",
    "  def eraseOverlapIntervals(self, intervals: List[List[int]]) -> int:\n",
    "    ans = 0\n",
    "    currentEnd = -math.inf\n",
    "\n",
    "    for interval in sorted(intervals, key=lambda x: x[1]):\n",
    "      if interval[0] >= currentEnd:\n",
    "        currentEnd = interval[1]\n",
    "      else:\n",
    "        ans += 1\n",
    "\n",
    "    return ans"
   ]
  },
  {
   "cell_type": "code",
   "execution_count": null,
   "id": "4bcd0749",
   "metadata": {},
   "outputs": [],
   "source": [
    "new Solution().eraseOverlapIntervals()"
   ]
  }
 ],
 "metadata": {},
 "nbformat": 4,
 "nbformat_minor": 5
}

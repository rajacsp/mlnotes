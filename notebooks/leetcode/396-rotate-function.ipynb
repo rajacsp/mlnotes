{
 "cells": [
  {
   "cell_type": "markdown",
   "id": "07c73d4b",
   "metadata": {},
   "source": [
    "https://leetcode.com/problems/rotate-function"
   ]
  },
  {
   "cell_type": "code",
   "execution_count": null,
   "id": "a2549d9f",
   "metadata": {},
   "outputs": [],
   "source": [
    "import pyutil as pyu\n",
    "pyu.get_local_pyinfo()"
   ]
  },
  {
   "cell_type": "code",
   "execution_count": null,
   "id": "58b0b335",
   "metadata": {},
   "outputs": [],
   "source": [
    "print(pyu.ps2(\"python-dotenv\"))"
   ]
  },
  {
   "cell_type": "code",
   "execution_count": null,
   "id": "e43d0a5c",
   "metadata": {},
   "outputs": [],
   "source": [
    "from typing import List"
   ]
  },
  {
   "cell_type": "code",
   "execution_count": null,
   "id": "5dc08ac8",
   "metadata": {},
   "outputs": [],
   "source": [
    "class Solution:\n",
    "  def maxRotateFunction(self, nums: List[int]) -> int:\n",
    "    f = sum(i * num for i, num in enumerate(nums))\n",
    "    ans = f\n",
    "    summ = sum(nums)\n",
    "\n",
    "    for a in reversed(nums):\n",
    "      f += summ - len(nums) * a\n",
    "      ans = max(ans, f)\n",
    "\n",
    "    return ans"
   ]
  },
  {
   "cell_type": "code",
   "execution_count": null,
   "id": "6d707809",
   "metadata": {},
   "outputs": [],
   "source": [
    "new Solution().maxRotateFunction()"
   ]
  }
 ],
 "metadata": {},
 "nbformat": 4,
 "nbformat_minor": 5
}

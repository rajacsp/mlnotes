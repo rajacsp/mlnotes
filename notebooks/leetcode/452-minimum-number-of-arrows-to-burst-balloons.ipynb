{
 "cells": [
  {
   "cell_type": "markdown",
   "id": "c5eb3662",
   "metadata": {},
   "source": [
    "https://leetcode.com/problems/minimum-number-of-arrows-to-burst-balloons"
   ]
  },
  {
   "cell_type": "code",
   "execution_count": null,
   "id": "cb3f24e0",
   "metadata": {},
   "outputs": [],
   "source": [
    "import pyutil as pyu\n",
    "pyu.get_local_pyinfo()"
   ]
  },
  {
   "cell_type": "code",
   "execution_count": null,
   "id": "efbb7378",
   "metadata": {},
   "outputs": [],
   "source": [
    "print(pyu.ps2(\"python-dotenv\"))"
   ]
  },
  {
   "cell_type": "code",
   "execution_count": null,
   "id": "47dc23f5",
   "metadata": {},
   "outputs": [],
   "source": [
    "from typing import List"
   ]
  },
  {
   "cell_type": "code",
   "execution_count": null,
   "id": "936d31b2",
   "metadata": {},
   "outputs": [],
   "source": [
    "class Solution:\n",
    "  def findMinArrowShots(self, points: List[List[int]]) -> int:\n",
    "    ans = 0\n",
    "    arrowX = -math.inf\n",
    "\n",
    "    for point in sorted(points, key=lambda x: x[1]):\n",
    "      if point[0] > arrowX:\n",
    "        ans += 1\n",
    "        arrowX = point[1]\n",
    "\n",
    "    return ans"
   ]
  },
  {
   "cell_type": "code",
   "execution_count": null,
   "id": "83087693",
   "metadata": {},
   "outputs": [],
   "source": [
    "new Solution().findMinArrowShots()"
   ]
  }
 ],
 "metadata": {},
 "nbformat": 4,
 "nbformat_minor": 5
}

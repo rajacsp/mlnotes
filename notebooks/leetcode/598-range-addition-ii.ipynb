{
 "cells": [
  {
   "cell_type": "markdown",
   "id": "970f400a",
   "metadata": {},
   "source": [
    "https://leetcode.com/problems/range-addition-ii"
   ]
  },
  {
   "cell_type": "code",
   "execution_count": null,
   "id": "539359e2",
   "metadata": {},
   "outputs": [],
   "source": [
    "import pyutil as pyu\n",
    "pyu.get_local_pyinfo()"
   ]
  },
  {
   "cell_type": "code",
   "execution_count": null,
   "id": "039a3688",
   "metadata": {},
   "outputs": [],
   "source": [
    "print(pyu.ps2(\"python-dotenv\"))"
   ]
  },
  {
   "cell_type": "code",
   "execution_count": null,
   "id": "9a40f17d",
   "metadata": {},
   "outputs": [],
   "source": [
    "from typing import List"
   ]
  },
  {
   "cell_type": "code",
   "execution_count": null,
   "id": "291b3965",
   "metadata": {},
   "outputs": [],
   "source": [
    "class Solution:\n",
    "  def maxCount(self, m: int, n: int, ops: List[List[int]]) -> int:\n",
    "    minY = m\n",
    "    minX = n\n",
    "\n",
    "    for y, x in ops:\n",
    "      minY = min(minY, y)\n",
    "      minX = min(minX, x)\n",
    "\n",
    "    return minX * minY"
   ]
  },
  {
   "cell_type": "code",
   "execution_count": null,
   "id": "f7cba5d0",
   "metadata": {},
   "outputs": [],
   "source": [
    "new Solution().maxCount()"
   ]
  }
 ],
 "metadata": {},
 "nbformat": 4,
 "nbformat_minor": 5
}

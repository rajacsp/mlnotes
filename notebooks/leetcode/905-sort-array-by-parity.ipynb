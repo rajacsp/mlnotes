{
 "cells": [
  {
   "cell_type": "markdown",
   "id": "08821692",
   "metadata": {},
   "source": [
    "https://leetcode.com/problems/sort-array-by-parity"
   ]
  },
  {
   "cell_type": "code",
   "execution_count": null,
   "id": "76bfd505",
   "metadata": {},
   "outputs": [],
   "source": [
    "import pyutil as pyu\n",
    "pyu.get_local_pyinfo()"
   ]
  },
  {
   "cell_type": "code",
   "execution_count": null,
   "id": "b560d294",
   "metadata": {},
   "outputs": [],
   "source": [
    "print(pyu.ps2(\"python-dotenv\"))"
   ]
  },
  {
   "cell_type": "code",
   "execution_count": null,
   "id": "c4507f30",
   "metadata": {},
   "outputs": [],
   "source": [
    "from typing import List"
   ]
  },
  {
   "cell_type": "code",
   "execution_count": null,
   "id": "6e19de13",
   "metadata": {},
   "outputs": [],
   "source": [
    "class Solution:\n",
    "  def sortArrayByParity(self, A: List[int]) -> List[int]:\n",
    "    l = 0\n",
    "    r = len(A) - 1\n",
    "\n",
    "    while l < r:\n",
    "      if A[l] % 2 == 1 and A[r] % 2 == 0:\n",
    "        A[l], A[r] = A[r], A[l]\n",
    "      if A[l] % 2 == 0:\n",
    "        l += 1\n",
    "      if A[r] % 2 == 1:\n",
    "        r -= 1\n",
    "\n",
    "    return A"
   ]
  },
  {
   "cell_type": "code",
   "execution_count": null,
   "id": "8d1503fc",
   "metadata": {},
   "outputs": [],
   "source": [
    "new Solution().sortArrayByParity()"
   ]
  }
 ],
 "metadata": {},
 "nbformat": 4,
 "nbformat_minor": 5
}

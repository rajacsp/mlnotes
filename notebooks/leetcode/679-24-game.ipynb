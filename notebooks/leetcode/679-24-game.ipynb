{
 "cells": [
  {
   "cell_type": "markdown",
   "id": "988f2734",
   "metadata": {},
   "source": [
    "https://leetcode.com/problems/24-game"
   ]
  },
  {
   "cell_type": "code",
   "execution_count": null,
   "id": "d5dffef5",
   "metadata": {},
   "outputs": [],
   "source": [
    "import pyutil as pyu\n",
    "pyu.get_local_pyinfo()"
   ]
  },
  {
   "cell_type": "code",
   "execution_count": null,
   "id": "af176351",
   "metadata": {},
   "outputs": [],
   "source": [
    "print(pyu.ps2(\"python-dotenv\"))"
   ]
  },
  {
   "cell_type": "code",
   "execution_count": null,
   "id": "88f590fe",
   "metadata": {},
   "outputs": [],
   "source": [
    "from typing import List"
   ]
  },
  {
   "cell_type": "code",
   "execution_count": null,
   "id": "56fd9efa",
   "metadata": {},
   "outputs": [],
   "source": [
    "class Solution:\n",
    "  def judgePoint24(self, nums: List[int]) -> bool:\n",
    "    def generate(a: float, b: float) -> List[float]:\n",
    "      return [a * b,\n",
    "              math.inf if b == 0 else a / b,\n",
    "              math.inf if a == 0 else b / a,\n",
    "              a + b, a - b, b - a]\n",
    "\n",
    "    def dfs(nums: List[float]) -> bool:\n",
    "      if len(nums) == 1:\n",
    "        return abs(nums[0] - 24.0) < 0.001\n",
    "\n",
    "      for i in range(len(nums)):\n",
    "        for j in range(i + 1, len(nums)):\n",
    "          for num in generate(nums[i], nums[j]):\n",
    "            nextRound = [num]\n",
    "            for k in range(len(nums)):\n",
    "              if k == i or k == j:\n",
    "                continue\n",
    "              nextRound.append(nums[k])\n",
    "            if dfs(nextRound):\n",
    "              return True\n",
    "\n",
    "      return False\n",
    "\n",
    "    return dfs(nums)"
   ]
  },
  {
   "cell_type": "code",
   "execution_count": null,
   "id": "6f8f1c84",
   "metadata": {},
   "outputs": [],
   "source": [
    "new Solution().judgePoint24()"
   ]
  }
 ],
 "metadata": {},
 "nbformat": 4,
 "nbformat_minor": 5
}

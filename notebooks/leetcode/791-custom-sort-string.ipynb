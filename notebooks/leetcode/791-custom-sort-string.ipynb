{
 "cells": [
  {
   "cell_type": "markdown",
   "id": "9714ddb6",
   "metadata": {},
   "source": [
    "https://leetcode.com/problems/custom-sort-string"
   ]
  },
  {
   "cell_type": "code",
   "execution_count": null,
   "id": "44e03d63",
   "metadata": {},
   "outputs": [],
   "source": [
    "import pyutil as pyu\n",
    "pyu.get_local_pyinfo()"
   ]
  },
  {
   "cell_type": "code",
   "execution_count": null,
   "id": "5a31d131",
   "metadata": {},
   "outputs": [],
   "source": [
    "print(pyu.ps2(\"python-dotenv\"))"
   ]
  },
  {
   "cell_type": "code",
   "execution_count": null,
   "id": "676b580f",
   "metadata": {},
   "outputs": [],
   "source": [
    "from typing import List"
   ]
  },
  {
   "cell_type": "code",
   "execution_count": null,
   "id": "cec4a35e",
   "metadata": {},
   "outputs": [],
   "source": [
    "class Solution:\n",
    "  def customSortString(self, S: str, T: str) -> str:\n",
    "    ans = \"\"\n",
    "    count = [0] * 26\n",
    "\n",
    "    for c in T:\n",
    "      count[ord(c) - ord('a')] += 1\n",
    "\n",
    "    for c in S:\n",
    "      while count[ord(c) - ord('a')] > 0:\n",
    "        ans += c\n",
    "        count[ord(c) - ord('a')] -= 1\n",
    "\n",
    "    for c in string.ascii_lowercase:\n",
    "      for _ in range(count[ord(c) - ord('a')]):\n",
    "        ans += c\n",
    "\n",
    "    return ans"
   ]
  },
  {
   "cell_type": "code",
   "execution_count": null,
   "id": "ef8e81de",
   "metadata": {},
   "outputs": [],
   "source": [
    "new Solution().customSortString()"
   ]
  }
 ],
 "metadata": {},
 "nbformat": 4,
 "nbformat_minor": 5
}

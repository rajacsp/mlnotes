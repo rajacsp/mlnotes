{
 "cells": [
  {
   "cell_type": "markdown",
   "id": "7fdf7afc",
   "metadata": {},
   "source": [
    "https://leetcode.com/problems/numbers-at-most-n-given-digit-set"
   ]
  },
  {
   "cell_type": "code",
   "execution_count": null,
   "id": "04923e8d",
   "metadata": {},
   "outputs": [],
   "source": [
    "import pyutil as pyu\n",
    "pyu.get_local_pyinfo()"
   ]
  },
  {
   "cell_type": "code",
   "execution_count": null,
   "id": "236dfc2d",
   "metadata": {},
   "outputs": [],
   "source": [
    "print(pyu.ps2(\"python-dotenv\"))"
   ]
  },
  {
   "cell_type": "code",
   "execution_count": null,
   "id": "480f4898",
   "metadata": {},
   "outputs": [],
   "source": [
    "from typing import List"
   ]
  },
  {
   "cell_type": "code",
   "execution_count": null,
   "id": "27da6f3b",
   "metadata": {},
   "outputs": [],
   "source": [
    "class Solution:\n",
    "  def atMostNGivenDigitSet(self, D: List[str], N: int) -> int:\n",
    "    ans = 0\n",
    "    num = str(N)\n",
    "\n",
    "    for i in range(1, len(num)):\n",
    "      ans += len(D)**i\n",
    "\n",
    "    for i, c in enumerate(num):\n",
    "      dHasSameNum = False\n",
    "      for digit in D:\n",
    "        if digit < c:\n",
    "          ans += len(D)**(len(num) - i - 1)\n",
    "        elif digit == c:\n",
    "          dHasSameNum = True\n",
    "      if not dHasSameNum:\n",
    "        return ans\n",
    "\n",
    "    return ans + 1"
   ]
  },
  {
   "cell_type": "code",
   "execution_count": null,
   "id": "55a72939",
   "metadata": {},
   "outputs": [],
   "source": [
    "new Solution().atMostNGivenDigitSet()"
   ]
  }
 ],
 "metadata": {},
 "nbformat": 4,
 "nbformat_minor": 5
}

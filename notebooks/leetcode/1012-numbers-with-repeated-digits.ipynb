{
 "cells": [
  {
   "cell_type": "markdown",
   "id": "2f6fdf41",
   "metadata": {},
   "source": [
    "https://leetcode.com/problems/numbers-with-repeated-digits"
   ]
  },
  {
   "cell_type": "code",
   "execution_count": null,
   "id": "91ac073f",
   "metadata": {},
   "outputs": [],
   "source": [
    "import pyutil as pyu\n",
    "pyu.get_local_pyinfo()"
   ]
  },
  {
   "cell_type": "code",
   "execution_count": null,
   "id": "862e38f1",
   "metadata": {},
   "outputs": [],
   "source": [
    "print(pyu.ps2(\"python-dotenv\"))"
   ]
  },
  {
   "cell_type": "code",
   "execution_count": null,
   "id": "525e1f43",
   "metadata": {},
   "outputs": [],
   "source": [
    "from typing import List"
   ]
  },
  {
   "cell_type": "code",
   "execution_count": null,
   "id": "b5b021a0",
   "metadata": {},
   "outputs": [],
   "source": [
    "class Solution:\n",
    "  def numDupDigitsAtMostN(self, n: int) -> int:\n",
    "    return n - self._countSpecialNumbers(n)\n",
    "\n",
    "  def _countSpecialNumbers(self, n: int) -> int:\n",
    "    s = str(n)\n",
    "    digitSize = int(log10(n)) + 1\n",
    "\n",
    "    # Dp(i, j, k) := # Of special integers that beto the interval\n",
    "    # [0, 10^i] with `usedMask` j, where k is 0/1 tight constraint\n",
    "    @functools.lru_cache(None)\n",
    "    def dp(digitSize: int, usedMask: int, isTight: bool) -> int:\n",
    "      if digitSize == 0:\n",
    "        return 1\n",
    "\n",
    "      ans = 0\n",
    "      maxDigit = ord(s[len(s) - digitSize]) - ord('0') if isTight else 9\n",
    "\n",
    "      for digit in range(maxDigit + 1):\n",
    "        # `digit` is used\n",
    "        if usedMask >> digit & 1:\n",
    "          continue\n",
    "        # Use `digit` now\n",
    "        nextIsTight = isTight and (digit == maxDigit)\n",
    "        if usedMask == 0 and digit == 0:  # don't count leading 0s as used\n",
    "          ans += dp(digitSize - 1, usedMask, nextIsTight)\n",
    "        else:\n",
    "          ans += dp(digitSize - 1, usedMask | 1 << digit, nextIsTight)\n",
    "\n",
    "      return ans\n",
    "\n",
    "    return dp(digitSize, 0, True) - 1  # - 0"
   ]
  },
  {
   "cell_type": "code",
   "execution_count": null,
   "id": "e810cd57",
   "metadata": {},
   "outputs": [],
   "source": [
    "new Solution().numDupDigitsAtMostN()"
   ]
  }
 ],
 "metadata": {},
 "nbformat": 4,
 "nbformat_minor": 5
}

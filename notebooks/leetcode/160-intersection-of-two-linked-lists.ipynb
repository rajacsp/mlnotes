{
 "cells": [
  {
   "cell_type": "markdown",
   "id": "3fbc43be",
   "metadata": {},
   "source": [
    "https://leetcode.com/problems/intersection-of-two-linked-lists"
   ]
  },
  {
   "cell_type": "code",
   "execution_count": null,
   "id": "5656c1a8",
   "metadata": {},
   "outputs": [],
   "source": [
    "import pyutil as pyu\n",
    "pyu.get_local_pyinfo()"
   ]
  },
  {
   "cell_type": "code",
   "execution_count": null,
   "id": "5e10989d",
   "metadata": {},
   "outputs": [],
   "source": [
    "print(pyu.ps2(\"python-dotenv\"))"
   ]
  },
  {
   "cell_type": "code",
   "execution_count": null,
   "id": "1fb8db19",
   "metadata": {},
   "outputs": [],
   "source": [
    "from typing import List"
   ]
  },
  {
   "cell_type": "code",
   "execution_count": null,
   "id": "5ef6fb4a",
   "metadata": {},
   "outputs": [],
   "source": [
    "class Solution:\n",
    "  def getIntersectionNode(self, headA: ListNode, headB: ListNode) -> Optional[ListNode]:\n",
    "    a = headA\n",
    "    b = headB\n",
    "\n",
    "    while a != b:\n",
    "      a = a.next if a else headB\n",
    "      b = b.next if b else headA\n",
    "\n",
    "    return a"
   ]
  },
  {
   "cell_type": "code",
   "execution_count": null,
   "id": "7c62bc51",
   "metadata": {},
   "outputs": [],
   "source": [
    "new Solution().getIntersectionNode()"
   ]
  }
 ],
 "metadata": {},
 "nbformat": 4,
 "nbformat_minor": 5
}

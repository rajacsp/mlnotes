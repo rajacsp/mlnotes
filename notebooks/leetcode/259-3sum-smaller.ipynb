{
 "cells": [
  {
   "cell_type": "markdown",
   "id": "389958db",
   "metadata": {},
   "source": [
    "https://leetcode.com/problems/3sum-smaller"
   ]
  },
  {
   "cell_type": "code",
   "execution_count": null,
   "id": "32036d1a",
   "metadata": {},
   "outputs": [],
   "source": [
    "import pyutil as pyu\n",
    "pyu.get_local_pyinfo()"
   ]
  },
  {
   "cell_type": "code",
   "execution_count": null,
   "id": "9a773ace",
   "metadata": {},
   "outputs": [],
   "source": [
    "print(pyu.ps2(\"python-dotenv\"))"
   ]
  },
  {
   "cell_type": "code",
   "execution_count": null,
   "id": "5762f8f5",
   "metadata": {},
   "outputs": [],
   "source": [
    "from typing import List"
   ]
  },
  {
   "cell_type": "code",
   "execution_count": null,
   "id": "17dfcf60",
   "metadata": {},
   "outputs": [],
   "source": [
    "class Solution:\n",
    "  def threeSumSmaller(self, nums: List[int], target: int) -> int:\n",
    "    if len(nums) < 3:\n",
    "      return 0\n",
    "\n",
    "    ans = 0\n",
    "\n",
    "    nums.sort()\n",
    "\n",
    "    for i in range(len(nums) - 2):\n",
    "      l = i + 1\n",
    "      r = len(nums) - 1\n",
    "      while l < r:\n",
    "        if nums[i] + nums[l] + nums[r] < target:\n",
    "          # (nums[i], nums[l], nums[r])\n",
    "          # (nums[i], nums[l], nums[r - 1])\n",
    "          # ...,\n",
    "          # (nums[i], nums[l], nums[l + 1])\n",
    "          ans += r - l\n",
    "          l += 1\n",
    "        else:\n",
    "          r -= 1\n",
    "\n",
    "    return ans"
   ]
  },
  {
   "cell_type": "code",
   "execution_count": null,
   "id": "74f16f52",
   "metadata": {},
   "outputs": [],
   "source": [
    "new Solution().threeSumSmaller()"
   ]
  }
 ],
 "metadata": {},
 "nbformat": 4,
 "nbformat_minor": 5
}

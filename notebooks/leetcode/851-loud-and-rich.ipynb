{
 "cells": [
  {
   "cell_type": "markdown",
   "id": "da93ec7b",
   "metadata": {},
   "source": [
    "https://leetcode.com/problems/loud-and-rich"
   ]
  },
  {
   "cell_type": "code",
   "execution_count": null,
   "id": "2a19e713",
   "metadata": {},
   "outputs": [],
   "source": [
    "import pyutil as pyu\n",
    "pyu.get_local_pyinfo()"
   ]
  },
  {
   "cell_type": "code",
   "execution_count": null,
   "id": "684ae563",
   "metadata": {},
   "outputs": [],
   "source": [
    "print(pyu.ps2(\"python-dotenv\"))"
   ]
  },
  {
   "cell_type": "code",
   "execution_count": null,
   "id": "0974d3c7",
   "metadata": {},
   "outputs": [],
   "source": [
    "from typing import List"
   ]
  },
  {
   "cell_type": "code",
   "execution_count": null,
   "id": "4314bbf4",
   "metadata": {},
   "outputs": [],
   "source": [
    "class Solution:\n",
    "  def loudAndRich(self, richer: List[List[int]], quiet: List[int]) -> List[int]:\n",
    "    graph = [[] for _ in range(len(quiet))]\n",
    "\n",
    "    for u, v in richer:\n",
    "      graph[v].append(u)\n",
    "\n",
    "    @functools.lru_cache(None)\n",
    "    def dfs(u: int) -> int:\n",
    "      ans = u\n",
    "\n",
    "      for v in graph[u]:\n",
    "        res = dfs(v)\n",
    "        if quiet[res] < quiet[ans]:\n",
    "          ans = res\n",
    "\n",
    "      return ans\n",
    "\n",
    "    return map(dfs, range(len(graph)))"
   ]
  },
  {
   "cell_type": "code",
   "execution_count": null,
   "id": "a1ce99fc",
   "metadata": {},
   "outputs": [],
   "source": [
    "new Solution().loudAndRich()"
   ]
  }
 ],
 "metadata": {},
 "nbformat": 4,
 "nbformat_minor": 5
}

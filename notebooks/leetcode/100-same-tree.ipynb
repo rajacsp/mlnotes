{
 "cells": [
  {
   "cell_type": "markdown",
   "id": "1132b77f",
   "metadata": {},
   "source": [
    "https://leetcode.com/problems/same-tree"
   ]
  },
  {
   "cell_type": "code",
   "execution_count": null,
   "id": "251aeb4c",
   "metadata": {},
   "outputs": [],
   "source": [
    "import pyutil as pyu\n",
    "pyu.get_local_pyinfo()"
   ]
  },
  {
   "cell_type": "code",
   "execution_count": null,
   "id": "f9d07565",
   "metadata": {},
   "outputs": [],
   "source": [
    "print(pyu.ps2(\"python-dotenv\"))"
   ]
  },
  {
   "cell_type": "code",
   "execution_count": null,
   "id": "75ab2d43",
   "metadata": {},
   "outputs": [],
   "source": [
    "from typing import List"
   ]
  },
  {
   "cell_type": "code",
   "execution_count": null,
   "id": "22740728",
   "metadata": {},
   "outputs": [],
   "source": [
    "class Solution:\n",
    "  def isSameTree(self, p: Optional[TreeNode], q: Optional[TreeNode]) -> bool:\n",
    "    if not p or not q:\n",
    "      return p == q\n",
    "    return p.val == q.val and \\\n",
    "        self.isSameTree(p.left, q.left) and \\\n",
    "        self.isSameTree(p.right, q.right)"
   ]
  },
  {
   "cell_type": "code",
   "execution_count": null,
   "id": "eeb05374",
   "metadata": {},
   "outputs": [],
   "source": [
    "new Solution().isSameTree()"
   ]
  }
 ],
 "metadata": {},
 "nbformat": 4,
 "nbformat_minor": 5
}

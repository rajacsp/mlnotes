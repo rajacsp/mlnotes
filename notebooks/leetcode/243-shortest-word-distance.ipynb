{
 "cells": [
  {
   "cell_type": "markdown",
   "id": "7e4c5ced",
   "metadata": {},
   "source": [
    "https://leetcode.com/problems/shortest-word-distance"
   ]
  },
  {
   "cell_type": "code",
   "execution_count": null,
   "id": "d985f3a6",
   "metadata": {},
   "outputs": [],
   "source": [
    "import pyutil as pyu\n",
    "pyu.get_local_pyinfo()"
   ]
  },
  {
   "cell_type": "code",
   "execution_count": null,
   "id": "4f7c2198",
   "metadata": {},
   "outputs": [],
   "source": [
    "print(pyu.ps2(\"python-dotenv\"))"
   ]
  },
  {
   "cell_type": "code",
   "execution_count": null,
   "id": "32d90a03",
   "metadata": {},
   "outputs": [],
   "source": [
    "from typing import List"
   ]
  },
  {
   "cell_type": "code",
   "execution_count": null,
   "id": "5d6f1e3d",
   "metadata": {},
   "outputs": [],
   "source": [
    "class Solution:\n",
    "  def shortestDistance(self, wordsDict: List[str], word1: str, word2: str) -> int:\n",
    "    ans = len(wordsDict)\n",
    "    index1 = -1  # wordsDict[index1] == word1\n",
    "    index2 = -1  # wordsDict[index2] == word2\n",
    "\n",
    "    for i, word in enumerate(wordsDict):\n",
    "      if word == word1:\n",
    "        index1 = i\n",
    "        if index2 != -1:\n",
    "          ans = min(ans, index1 - index2)\n",
    "      if word == word2:\n",
    "        index2 = i\n",
    "        if index1 != -1:\n",
    "          ans = min(ans, index2 - index1)\n",
    "\n",
    "    return ans"
   ]
  },
  {
   "cell_type": "code",
   "execution_count": null,
   "id": "7781a58f",
   "metadata": {},
   "outputs": [],
   "source": [
    "new Solution().shortestDistance()"
   ]
  }
 ],
 "metadata": {},
 "nbformat": 4,
 "nbformat_minor": 5
}

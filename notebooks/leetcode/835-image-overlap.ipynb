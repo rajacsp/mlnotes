{
 "cells": [
  {
   "cell_type": "markdown",
   "id": "8d68bc46",
   "metadata": {},
   "source": [
    "https://leetcode.com/problems/image-overlap"
   ]
  },
  {
   "cell_type": "code",
   "execution_count": null,
   "id": "260e485b",
   "metadata": {},
   "outputs": [],
   "source": [
    "import pyutil as pyu\n",
    "pyu.get_local_pyinfo()"
   ]
  },
  {
   "cell_type": "code",
   "execution_count": null,
   "id": "71924508",
   "metadata": {},
   "outputs": [],
   "source": [
    "print(pyu.ps2(\"python-dotenv\"))"
   ]
  },
  {
   "cell_type": "code",
   "execution_count": null,
   "id": "1f319047",
   "metadata": {},
   "outputs": [],
   "source": [
    "from typing import List"
   ]
  },
  {
   "cell_type": "code",
   "execution_count": null,
   "id": "bbc127da",
   "metadata": {},
   "outputs": [],
   "source": [
    "class Solution:\n",
    "  def largestOverlap(self, A: List[List[int]], B: List[List[int]]) -> int:\n",
    "    n = len(A)\n",
    "    magic = 100\n",
    "    onesA = []\n",
    "    onesB = []\n",
    "    dict = defaultdict(int)\n",
    "\n",
    "    for i in range(n):\n",
    "      for j in range(n):\n",
    "        if A[i][j] == 1:\n",
    "          onesA.append([i, j])\n",
    "        if B[i][j] == 1:\n",
    "          onesB.append([i, j])\n",
    "\n",
    "    for a in onesA:\n",
    "      for b in onesB:\n",
    "        dict[(a[0] - b[0]) * magic + (a[1] - b[1])] += 1\n",
    "\n",
    "    return max(dict.values()) if dict else 0"
   ]
  },
  {
   "cell_type": "code",
   "execution_count": null,
   "id": "5bd93562",
   "metadata": {},
   "outputs": [],
   "source": [
    "new Solution().largestOverlap()"
   ]
  }
 ],
 "metadata": {},
 "nbformat": 4,
 "nbformat_minor": 5
}

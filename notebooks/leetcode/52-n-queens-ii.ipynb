{
 "cells": [
  {
   "cell_type": "markdown",
   "id": "bd9ad502",
   "metadata": {},
   "source": [
    "https://leetcode.com/problems/n-queens-ii"
   ]
  },
  {
   "cell_type": "code",
   "execution_count": null,
   "id": "1cc69117",
   "metadata": {},
   "outputs": [],
   "source": [
    "import pyutil as pyu\n",
    "pyu.get_local_pyinfo()"
   ]
  },
  {
   "cell_type": "code",
   "execution_count": null,
   "id": "8700c678",
   "metadata": {},
   "outputs": [],
   "source": [
    "print(pyu.ps2(\"python-dotenv\"))"
   ]
  },
  {
   "cell_type": "code",
   "execution_count": null,
   "id": "ffb35d1b",
   "metadata": {},
   "outputs": [],
   "source": [
    "from typing import List"
   ]
  },
  {
   "cell_type": "code",
   "execution_count": null,
   "id": "eddf121d",
   "metadata": {},
   "outputs": [],
   "source": [
    "class Solution:\n",
    "  def totalNQueens(self, n: int) -> int:\n",
    "    ans = 0\n",
    "    cols = [False] * n\n",
    "    diag1 = [False] * (2 * n - 1)\n",
    "    diag2 = [False] * (2 * n - 1)\n",
    "\n",
    "    def dfs(i: int) -> None:\n",
    "      nonlocal ans\n",
    "      if i == n:\n",
    "        ans += 1\n",
    "        return\n",
    "\n",
    "      for j in range(n):\n",
    "        if cols[j] or diag1[i + j] or diag2[j - i + n - 1]:\n",
    "          continue\n",
    "        cols[j] = diag1[i + j] = diag2[j - i + n - 1] = True\n",
    "        dfs(i + 1)\n",
    "        cols[j] = diag1[i + j] = diag2[j - i + n - 1] = False\n",
    "\n",
    "    dfs(0)\n",
    "    return ans"
   ]
  },
  {
   "cell_type": "code",
   "execution_count": null,
   "id": "198edf03",
   "metadata": {},
   "outputs": [],
   "source": [
    "new Solution().totalNQueens()"
   ]
  }
 ],
 "metadata": {},
 "nbformat": 4,
 "nbformat_minor": 5
}

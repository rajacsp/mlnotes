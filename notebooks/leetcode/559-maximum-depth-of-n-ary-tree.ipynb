{
 "cells": [
  {
   "cell_type": "markdown",
   "id": "14952acf",
   "metadata": {},
   "source": [
    "https://leetcode.com/problems/maximum-depth-of-n-ary-tree"
   ]
  },
  {
   "cell_type": "code",
   "execution_count": null,
   "id": "a1d0c1ec",
   "metadata": {},
   "outputs": [],
   "source": [
    "import pyutil as pyu\n",
    "pyu.get_local_pyinfo()"
   ]
  },
  {
   "cell_type": "code",
   "execution_count": null,
   "id": "76cf5829",
   "metadata": {},
   "outputs": [],
   "source": [
    "print(pyu.ps2(\"python-dotenv\"))"
   ]
  },
  {
   "cell_type": "code",
   "execution_count": null,
   "id": "99876b88",
   "metadata": {},
   "outputs": [],
   "source": [
    "from typing import List"
   ]
  },
  {
   "cell_type": "code",
   "execution_count": null,
   "id": "fb9fdb65",
   "metadata": {},
   "outputs": [],
   "source": [
    "class Solution:\n",
    "  def maxDepth(self, root: 'Node') -> int:\n",
    "    if not root:\n",
    "      return 0\n",
    "    if not root.children:\n",
    "      return 1\n",
    "    return 1 + max(self.maxDepth(child) for child in root.children)"
   ]
  },
  {
   "cell_type": "code",
   "execution_count": null,
   "id": "c06476f9",
   "metadata": {},
   "outputs": [],
   "source": [
    "new Solution().maxDepth()"
   ]
  }
 ],
 "metadata": {},
 "nbformat": 4,
 "nbformat_minor": 5
}

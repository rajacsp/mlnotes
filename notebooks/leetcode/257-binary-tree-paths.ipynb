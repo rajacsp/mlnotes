{
 "cells": [
  {
   "cell_type": "markdown",
   "id": "fd3fe232",
   "metadata": {},
   "source": [
    "https://leetcode.com/problems/binary-tree-paths"
   ]
  },
  {
   "cell_type": "code",
   "execution_count": null,
   "id": "6b834be3",
   "metadata": {},
   "outputs": [],
   "source": [
    "import pyutil as pyu\n",
    "pyu.get_local_pyinfo()"
   ]
  },
  {
   "cell_type": "code",
   "execution_count": null,
   "id": "fc7669ea",
   "metadata": {},
   "outputs": [],
   "source": [
    "print(pyu.ps2(\"python-dotenv\"))"
   ]
  },
  {
   "cell_type": "code",
   "execution_count": null,
   "id": "baa830cc",
   "metadata": {},
   "outputs": [],
   "source": [
    "from typing import List"
   ]
  },
  {
   "cell_type": "code",
   "execution_count": null,
   "id": "28d428f4",
   "metadata": {},
   "outputs": [],
   "source": [
    "class Solution:\n",
    "  def binaryTreePaths(self, root: Optional[TreeNode]) -> List[str]:\n",
    "    ans = []\n",
    "\n",
    "    def dfs(root: Optional[TreeNode], path: List[str]) -> None:\n",
    "      if not root:\n",
    "        return\n",
    "      if not root.left and not root.right:\n",
    "        ans.append(''.join(path) + str(root.val))\n",
    "        return\n",
    "\n",
    "      path.append(str(root.val) + '->')\n",
    "      dfs(root.left, path)\n",
    "      dfs(root.right, path)\n",
    "      path.pop()\n",
    "\n",
    "    dfs(root, [])\n",
    "    return ans"
   ]
  },
  {
   "cell_type": "code",
   "execution_count": null,
   "id": "ebccace0",
   "metadata": {},
   "outputs": [],
   "source": [
    "new Solution().binaryTreePaths()"
   ]
  }
 ],
 "metadata": {},
 "nbformat": 4,
 "nbformat_minor": 5
}

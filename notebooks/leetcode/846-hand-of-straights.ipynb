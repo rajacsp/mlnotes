{
 "cells": [
  {
   "cell_type": "markdown",
   "id": "e14ec398",
   "metadata": {},
   "source": [
    "https://leetcode.com/problems/hand-of-straights"
   ]
  },
  {
   "cell_type": "code",
   "execution_count": null,
   "id": "47996d69",
   "metadata": {},
   "outputs": [],
   "source": [
    "import pyutil as pyu\n",
    "pyu.get_local_pyinfo()"
   ]
  },
  {
   "cell_type": "code",
   "execution_count": null,
   "id": "0ed5e6c4",
   "metadata": {},
   "outputs": [],
   "source": [
    "print(pyu.ps2(\"python-dotenv\"))"
   ]
  },
  {
   "cell_type": "code",
   "execution_count": null,
   "id": "2a761bc2",
   "metadata": {},
   "outputs": [],
   "source": [
    "from typing import List"
   ]
  },
  {
   "cell_type": "code",
   "execution_count": null,
   "id": "9d971c4e",
   "metadata": {},
   "outputs": [],
   "source": [
    "class Solution:\n",
    "  def isNStraightHand(self, hand: List[int], W: int) -> bool:\n",
    "    count = Counter(hand)\n",
    "\n",
    "    for start in sorted(count):\n",
    "      value = count[start]\n",
    "      if value > 0:\n",
    "        for i in range(start, start + W):\n",
    "          count[i] -= value\n",
    "          if count[i] < 0:\n",
    "            return False\n",
    "\n",
    "    return True"
   ]
  },
  {
   "cell_type": "code",
   "execution_count": null,
   "id": "09f85109",
   "metadata": {},
   "outputs": [],
   "source": [
    "new Solution().isNStraightHand()"
   ]
  }
 ],
 "metadata": {},
 "nbformat": 4,
 "nbformat_minor": 5
}

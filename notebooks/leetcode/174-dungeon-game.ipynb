{
 "cells": [
  {
   "cell_type": "markdown",
   "id": "919c0c51",
   "metadata": {},
   "source": [
    "https://leetcode.com/problems/dungeon-game"
   ]
  },
  {
   "cell_type": "code",
   "execution_count": null,
   "id": "4151186c",
   "metadata": {},
   "outputs": [],
   "source": [
    "import pyutil as pyu\n",
    "pyu.get_local_pyinfo()"
   ]
  },
  {
   "cell_type": "code",
   "execution_count": null,
   "id": "74454750",
   "metadata": {},
   "outputs": [],
   "source": [
    "print(pyu.ps2(\"python-dotenv\"))"
   ]
  },
  {
   "cell_type": "code",
   "execution_count": null,
   "id": "cecd0952",
   "metadata": {},
   "outputs": [],
   "source": [
    "from typing import List"
   ]
  },
  {
   "cell_type": "code",
   "execution_count": null,
   "id": "4f3f42e4",
   "metadata": {},
   "outputs": [],
   "source": [
    "class Solution:\n",
    "  def calculateMinimumHP(self, dungeon: List[List[int]]) -> int:\n",
    "    m = len(dungeon)\n",
    "    n = len(dungeon[0])\n",
    "    dp = [math.inf] * (n + 1)\n",
    "    dp[n - 1] = 1\n",
    "\n",
    "    for i in reversed(range(m)):\n",
    "      for j in reversed(range(n)):\n",
    "        dp[j] = min(dp[j], dp[j + 1]) - dungeon[i][j]\n",
    "        dp[j] = max(dp[j], 1)\n",
    "\n",
    "    return dp[0]"
   ]
  },
  {
   "cell_type": "code",
   "execution_count": null,
   "id": "60bc62fd",
   "metadata": {},
   "outputs": [],
   "source": [
    "new Solution().calculateMinimumHP()"
   ]
  }
 ],
 "metadata": {},
 "nbformat": 4,
 "nbformat_minor": 5
}

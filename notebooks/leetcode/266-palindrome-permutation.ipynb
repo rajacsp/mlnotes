{
 "cells": [
  {
   "cell_type": "markdown",
   "id": "a73e3a52",
   "metadata": {},
   "source": [
    "https://leetcode.com/problems/palindrome-permutation"
   ]
  },
  {
   "cell_type": "code",
   "execution_count": null,
   "id": "ddcc02ba",
   "metadata": {},
   "outputs": [],
   "source": [
    "import pyutil as pyu\n",
    "pyu.get_local_pyinfo()"
   ]
  },
  {
   "cell_type": "code",
   "execution_count": null,
   "id": "4c566229",
   "metadata": {},
   "outputs": [],
   "source": [
    "print(pyu.ps2(\"python-dotenv\"))"
   ]
  },
  {
   "cell_type": "code",
   "execution_count": null,
   "id": "1bb14fc5",
   "metadata": {},
   "outputs": [],
   "source": [
    "from typing import List"
   ]
  },
  {
   "cell_type": "code",
   "execution_count": null,
   "id": "3c45a542",
   "metadata": {},
   "outputs": [],
   "source": [
    "class Solution:\n",
    "  def canPermutePalindrome(self, s: str) -> bool:\n",
    "    seen = set()\n",
    "\n",
    "    for c in s:\n",
    "      if c in seen:\n",
    "        seen.remove(c)\n",
    "      else:\n",
    "        seen.add(c)\n",
    "\n",
    "    return len(seen) <= 1"
   ]
  },
  {
   "cell_type": "code",
   "execution_count": null,
   "id": "0aec0792",
   "metadata": {},
   "outputs": [],
   "source": [
    "new Solution().canPermutePalindrome()"
   ]
  }
 ],
 "metadata": {},
 "nbformat": 4,
 "nbformat_minor": 5
}

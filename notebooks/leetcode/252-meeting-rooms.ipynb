{
 "cells": [
  {
   "cell_type": "markdown",
   "id": "81a0d83c",
   "metadata": {},
   "source": [
    "https://leetcode.com/problems/meeting-rooms"
   ]
  },
  {
   "cell_type": "code",
   "execution_count": null,
   "id": "ad77f29e",
   "metadata": {},
   "outputs": [],
   "source": [
    "import pyutil as pyu\n",
    "pyu.get_local_pyinfo()"
   ]
  },
  {
   "cell_type": "code",
   "execution_count": null,
   "id": "ec65b1bf",
   "metadata": {},
   "outputs": [],
   "source": [
    "print(pyu.ps2(\"python-dotenv\"))"
   ]
  },
  {
   "cell_type": "code",
   "execution_count": null,
   "id": "6041c263",
   "metadata": {},
   "outputs": [],
   "source": [
    "from typing import List"
   ]
  },
  {
   "cell_type": "code",
   "execution_count": null,
   "id": "6893ecf7",
   "metadata": {},
   "outputs": [],
   "source": [
    "class Solution:\n",
    "  def canAttendMeetings(self, intervals: List[List[int]]) -> bool:\n",
    "    intervals.sort()\n",
    "\n",
    "    for i in range(1, len(intervals)):\n",
    "      if intervals[i - 1][1] > intervals[i][0]:\n",
    "        return False\n",
    "\n",
    "    return True"
   ]
  },
  {
   "cell_type": "code",
   "execution_count": null,
   "id": "3515ef2c",
   "metadata": {},
   "outputs": [],
   "source": [
    "new Solution().canAttendMeetings()"
   ]
  }
 ],
 "metadata": {},
 "nbformat": 4,
 "nbformat_minor": 5
}

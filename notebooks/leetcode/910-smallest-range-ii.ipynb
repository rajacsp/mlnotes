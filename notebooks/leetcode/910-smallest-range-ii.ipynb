{
 "cells": [
  {
   "cell_type": "markdown",
   "id": "e61a48e4",
   "metadata": {},
   "source": [
    "https://leetcode.com/problems/smallest-range-ii"
   ]
  },
  {
   "cell_type": "code",
   "execution_count": null,
   "id": "cc726c30",
   "metadata": {},
   "outputs": [],
   "source": [
    "import pyutil as pyu\n",
    "pyu.get_local_pyinfo()"
   ]
  },
  {
   "cell_type": "code",
   "execution_count": null,
   "id": "085a8a1b",
   "metadata": {},
   "outputs": [],
   "source": [
    "print(pyu.ps2(\"python-dotenv\"))"
   ]
  },
  {
   "cell_type": "code",
   "execution_count": null,
   "id": "532a0a05",
   "metadata": {},
   "outputs": [],
   "source": [
    "from typing import List"
   ]
  },
  {
   "cell_type": "code",
   "execution_count": null,
   "id": "189db4b1",
   "metadata": {},
   "outputs": [],
   "source": [
    "class Solution:\n",
    "  def smallestRangeII(self, A: List[int], K: int) -> int:\n",
    "    A.sort()\n",
    "\n",
    "    ans = A[-1] - A[0]\n",
    "    left = A[0] + K\n",
    "    right = A[-1] - K\n",
    "\n",
    "    for a, b in zip(A, A[1:]):\n",
    "      mini = min(left, b - K)\n",
    "      maxi = max(right, a + K)\n",
    "      ans = min(ans, maxi - mini)\n",
    "\n",
    "    return ans"
   ]
  },
  {
   "cell_type": "code",
   "execution_count": null,
   "id": "9c2a941c",
   "metadata": {},
   "outputs": [],
   "source": [
    "new Solution().smallestRangeII()"
   ]
  }
 ],
 "metadata": {},
 "nbformat": 4,
 "nbformat_minor": 5
}

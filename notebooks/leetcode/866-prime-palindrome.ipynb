{
 "cells": [
  {
   "cell_type": "markdown",
   "id": "3ae346dc",
   "metadata": {},
   "source": [
    "https://leetcode.com/problems/prime-palindrome"
   ]
  },
  {
   "cell_type": "code",
   "execution_count": null,
   "id": "e61f0852",
   "metadata": {},
   "outputs": [],
   "source": [
    "import pyutil as pyu\n",
    "pyu.get_local_pyinfo()"
   ]
  },
  {
   "cell_type": "code",
   "execution_count": null,
   "id": "b344fea1",
   "metadata": {},
   "outputs": [],
   "source": [
    "print(pyu.ps2(\"python-dotenv\"))"
   ]
  },
  {
   "cell_type": "code",
   "execution_count": null,
   "id": "173085ca",
   "metadata": {},
   "outputs": [],
   "source": [
    "from typing import List"
   ]
  },
  {
   "cell_type": "code",
   "execution_count": null,
   "id": "bd7c3501",
   "metadata": {},
   "outputs": [],
   "source": [
    "class Solution:\n",
    "  def primePalindrome(self, N: int) -> int:\n",
    "    def getPalindromes(n: int) -> int:\n",
    "      length = n // 2\n",
    "      for i in range(10**(length - 1), 10**length):\n",
    "        s = str(i)\n",
    "        for j in range(10):\n",
    "          yield int(s + str(j) + s[::-1])\n",
    "\n",
    "    def isPrime(num: int) -> bool:\n",
    "      return not any(num % i == 0 for i in range(2, int(num**0.5 + 1)))\n",
    "\n",
    "    if N <= 2:\n",
    "      return 2\n",
    "    if N == 3:\n",
    "      return 3\n",
    "    if N <= 5:\n",
    "      return 5\n",
    "    if N <= 7:\n",
    "      return 7\n",
    "    if N <= 11:\n",
    "      return 11\n",
    "\n",
    "    n = len(str(N))\n",
    "\n",
    "    while True:\n",
    "      for num in getPalindromes(n):\n",
    "        if num >= N and isPrime(num):\n",
    "          return num\n",
    "      n += 1"
   ]
  },
  {
   "cell_type": "code",
   "execution_count": null,
   "id": "9e112a67",
   "metadata": {},
   "outputs": [],
   "source": [
    "new Solution().primePalindrome()"
   ]
  }
 ],
 "metadata": {},
 "nbformat": 4,
 "nbformat_minor": 5
}

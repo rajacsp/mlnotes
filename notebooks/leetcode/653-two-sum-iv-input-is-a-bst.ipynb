{
 "cells": [
  {
   "cell_type": "markdown",
   "id": "74e24833",
   "metadata": {},
   "source": [
    "https://leetcode.com/problems/two-sum-iv-input-is-a-bst"
   ]
  },
  {
   "cell_type": "code",
   "execution_count": null,
   "id": "07108898",
   "metadata": {},
   "outputs": [],
   "source": [
    "import pyutil as pyu\n",
    "pyu.get_local_pyinfo()"
   ]
  },
  {
   "cell_type": "code",
   "execution_count": null,
   "id": "a08b96b6",
   "metadata": {},
   "outputs": [],
   "source": [
    "print(pyu.ps2(\"python-dotenv\"))"
   ]
  },
  {
   "cell_type": "code",
   "execution_count": null,
   "id": "91fe3a64",
   "metadata": {},
   "outputs": [],
   "source": [
    "from typing import List"
   ]
  },
  {
   "cell_type": "code",
   "execution_count": null,
   "id": "e74b927b",
   "metadata": {},
   "outputs": [],
   "source": [
    "class BSTIterator:\n",
    "  def __init__(self, root: Optional[TreeNode], leftToRight: bool):\n",
    "    self.stack = []\n",
    "    self.leftToRight = leftToRight\n",
    "    self.pushUntilNone(root)\n",
    "\n",
    "  def next(self) -> int:\n",
    "    node = self.stack.pop()\n",
    "    if self.leftToRight:\n",
    "      self.pushUntilNone(node.right)\n",
    "    else:\n",
    "      self.pushUntilNone(node.left)\n",
    "    return node.val\n",
    "\n",
    "  def pushUntilNone(self, root: Optional[TreeNode]):\n",
    "    while root:\n",
    "      self.stack.append(root)\n",
    "      root = root.left if self.leftToRight else root.right\n",
    "\n",
    "\n",
    "class Solution:\n",
    "  def findTarget(self, root: Optional[TreeNode], k: int) -> bool:\n",
    "    if not root:\n",
    "      return False\n",
    "\n",
    "    left = BSTIterator(root, True)\n",
    "    right = BSTIterator(root, False)\n",
    "\n",
    "    l = left.next()\n",
    "    r = right.next()\n",
    "\n",
    "    while l < r:\n",
    "      summ = l + r\n",
    "      if summ == k:\n",
    "        return True\n",
    "      if summ < k:\n",
    "        l = left.next()\n",
    "      else:\n",
    "        r = right.next()\n",
    "\n",
    "    return False"
   ]
  },
  {
   "cell_type": "code",
   "execution_count": null,
   "id": "824a26e8",
   "metadata": {},
   "outputs": [],
   "source": [
    "new Solution().findTarget()"
   ]
  }
 ],
 "metadata": {},
 "nbformat": 4,
 "nbformat_minor": 5
}

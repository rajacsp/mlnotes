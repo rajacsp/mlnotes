{
 "cells": [
  {
   "cell_type": "markdown",
   "id": "296efac8",
   "metadata": {},
   "source": [
    "https://leetcode.com/problems/2-keys-keyboard"
   ]
  },
  {
   "cell_type": "code",
   "execution_count": null,
   "id": "1a90e606",
   "metadata": {},
   "outputs": [],
   "source": [
    "import pyutil as pyu\n",
    "pyu.get_local_pyinfo()"
   ]
  },
  {
   "cell_type": "code",
   "execution_count": null,
   "id": "6b9bb12a",
   "metadata": {},
   "outputs": [],
   "source": [
    "print(pyu.ps2(\"python-dotenv\"))"
   ]
  },
  {
   "cell_type": "code",
   "execution_count": null,
   "id": "f946cf18",
   "metadata": {},
   "outputs": [],
   "source": [
    "from typing import List"
   ]
  },
  {
   "cell_type": "code",
   "execution_count": null,
   "id": "673240c8",
   "metadata": {},
   "outputs": [],
   "source": [
    "class Solution:\n",
    "  def minSteps(self, n: int) -> int:\n",
    "    if n <= 1:\n",
    "      return 0\n",
    "\n",
    "    # dp[i] := min steps to get i 'A'\n",
    "    # Copy 'A', then paste 'A' i - 1 times\n",
    "    dp = [i for i in range(n + 1)]\n",
    "\n",
    "    for i in range(2, n + 1):\n",
    "      for j in range(i // 2, 2, -1):\n",
    "        if i % j == 0:\n",
    "          dp[i] = dp[j] + i // j  # Paste dp[j] i / j times\n",
    "          break\n",
    "\n",
    "    return dp[n]"
   ]
  },
  {
   "cell_type": "code",
   "execution_count": null,
   "id": "7c919e24",
   "metadata": {},
   "outputs": [],
   "source": [
    "new Solution().minSteps()"
   ]
  }
 ],
 "metadata": {},
 "nbformat": 4,
 "nbformat_minor": 5
}

{
 "cells": [
  {
   "cell_type": "markdown",
   "id": "cbc3e075",
   "metadata": {},
   "source": [
    "https://leetcode.com/problems/shortest-palindrome"
   ]
  },
  {
   "cell_type": "code",
   "execution_count": null,
   "id": "a8bcd5cc",
   "metadata": {},
   "outputs": [],
   "source": [
    "import pyutil as pyu\n",
    "pyu.get_local_pyinfo()"
   ]
  },
  {
   "cell_type": "code",
   "execution_count": null,
   "id": "7428a3ae",
   "metadata": {},
   "outputs": [],
   "source": [
    "print(pyu.ps2(\"python-dotenv\"))"
   ]
  },
  {
   "cell_type": "code",
   "execution_count": null,
   "id": "326a8bce",
   "metadata": {},
   "outputs": [],
   "source": [
    "from typing import List"
   ]
  },
  {
   "cell_type": "code",
   "execution_count": null,
   "id": "b6dd8b54",
   "metadata": {},
   "outputs": [],
   "source": [
    "class Solution:\n",
    "  def shortestPalindrome(self, s: str) -> str:\n",
    "    t = s[::-1]\n",
    "\n",
    "    for i in range(len(t)):\n",
    "      if s.startswith(t[i:]):\n",
    "        return t[:i] + s\n",
    "\n",
    "    return t + s"
   ]
  },
  {
   "cell_type": "code",
   "execution_count": null,
   "id": "6950fd10",
   "metadata": {},
   "outputs": [],
   "source": [
    "new Solution().shortestPalindrome()"
   ]
  }
 ],
 "metadata": {},
 "nbformat": 4,
 "nbformat_minor": 5
}

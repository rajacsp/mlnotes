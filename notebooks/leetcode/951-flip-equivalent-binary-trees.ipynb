{
 "cells": [
  {
   "cell_type": "markdown",
   "id": "8d17a8a6",
   "metadata": {},
   "source": [
    "https://leetcode.com/problems/flip-equivalent-binary-trees"
   ]
  },
  {
   "cell_type": "code",
   "execution_count": null,
   "id": "4c9f69f0",
   "metadata": {},
   "outputs": [],
   "source": [
    "import pyutil as pyu\n",
    "pyu.get_local_pyinfo()"
   ]
  },
  {
   "cell_type": "code",
   "execution_count": null,
   "id": "c2980eac",
   "metadata": {},
   "outputs": [],
   "source": [
    "print(pyu.ps2(\"python-dotenv\"))"
   ]
  },
  {
   "cell_type": "code",
   "execution_count": null,
   "id": "12b3ee81",
   "metadata": {},
   "outputs": [],
   "source": [
    "from typing import List"
   ]
  },
  {
   "cell_type": "code",
   "execution_count": null,
   "id": "ed00810d",
   "metadata": {},
   "outputs": [],
   "source": [
    "class Solution:\n",
    "  def flipEquiv(self, root1: Optional[TreeNode], root2: Optional[TreeNode]) -> bool:\n",
    "    if not root1:\n",
    "      return not root2\n",
    "    if not root2:\n",
    "      return not root1\n",
    "    if root1.val != root2.val:\n",
    "      return False\n",
    "    return self.flipEquiv(root1.left, root2.left) and self.flipEquiv(root1.right, root2.right) or \\\n",
    "        self.flipEquiv(root1.left, root2.right) and self.flipEquiv(\n",
    "        root1.right, root2.left)"
   ]
  },
  {
   "cell_type": "code",
   "execution_count": null,
   "id": "aea073c3",
   "metadata": {},
   "outputs": [],
   "source": [
    "new Solution().flipEquiv()"
   ]
  }
 ],
 "metadata": {},
 "nbformat": 4,
 "nbformat_minor": 5
}

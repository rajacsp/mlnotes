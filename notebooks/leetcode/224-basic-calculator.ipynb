{
 "cells": [
  {
   "cell_type": "markdown",
   "id": "3fa4679c",
   "metadata": {},
   "source": [
    "https://leetcode.com/problems/basic-calculator"
   ]
  },
  {
   "cell_type": "code",
   "execution_count": null,
   "id": "efb1bc5a",
   "metadata": {},
   "outputs": [],
   "source": [
    "import pyutil as pyu\n",
    "pyu.get_local_pyinfo()"
   ]
  },
  {
   "cell_type": "code",
   "execution_count": null,
   "id": "ffc566e9",
   "metadata": {},
   "outputs": [],
   "source": [
    "print(pyu.ps2(\"python-dotenv\"))"
   ]
  },
  {
   "cell_type": "code",
   "execution_count": null,
   "id": "50de1b78",
   "metadata": {},
   "outputs": [],
   "source": [
    "from typing import List"
   ]
  },
  {
   "cell_type": "code",
   "execution_count": null,
   "id": "1318cb89",
   "metadata": {},
   "outputs": [],
   "source": [
    "class Solution:\n",
    "  def calculate(self, s: str) -> int:\n",
    "    ans = 0\n",
    "    num = 0\n",
    "    sign = 1\n",
    "    stack = [sign]  # stack[-1]: current env's sign\n",
    "\n",
    "    for c in s:\n",
    "      if c.isdigit():\n",
    "        num = num * 10 + (ord(c) - ord('0'))\n",
    "      elif c == '(':\n",
    "        stack.append(sign)\n",
    "      elif c == ')':\n",
    "        stack.pop()\n",
    "      elif c == '+' or c == '-':\n",
    "        ans += sign * num\n",
    "        sign = (1 if c == '+' else -1) * stack[-1]\n",
    "        num = 0\n",
    "\n",
    "    return ans + sign * num"
   ]
  },
  {
   "cell_type": "code",
   "execution_count": null,
   "id": "4c8c3727",
   "metadata": {},
   "outputs": [],
   "source": [
    "new Solution().calculate()"
   ]
  }
 ],
 "metadata": {},
 "nbformat": 4,
 "nbformat_minor": 5
}

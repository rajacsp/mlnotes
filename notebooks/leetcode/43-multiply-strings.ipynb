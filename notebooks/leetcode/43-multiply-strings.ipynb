{
 "cells": [
  {
   "cell_type": "markdown",
   "id": "8bc96406",
   "metadata": {},
   "source": [
    "https://leetcode.com/problems/multiply-strings"
   ]
  },
  {
   "cell_type": "code",
   "execution_count": null,
   "id": "933196ab",
   "metadata": {},
   "outputs": [],
   "source": [
    "import pyutil as pyu\n",
    "pyu.get_local_pyinfo()"
   ]
  },
  {
   "cell_type": "code",
   "execution_count": null,
   "id": "92794359",
   "metadata": {},
   "outputs": [],
   "source": [
    "print(pyu.ps2(\"python-dotenv\"))"
   ]
  },
  {
   "cell_type": "code",
   "execution_count": null,
   "id": "d330a1e6",
   "metadata": {},
   "outputs": [],
   "source": [
    "from typing import List"
   ]
  },
  {
   "cell_type": "code",
   "execution_count": null,
   "id": "3fae48fe",
   "metadata": {},
   "outputs": [],
   "source": [
    "class Solution:\n",
    "  def multiply(self, num1: str, num2: str) -> str:\n",
    "    s = [0] * (len(num1) + len(num2))\n",
    "\n",
    "    for i in reversed(range(len(num1))):\n",
    "      for j in reversed(range(len(num2))):\n",
    "        mult = int(num1[i]) * int(num2[j])\n",
    "        summ = mult + s[i + j + 1]\n",
    "        s[i + j] += summ // 10\n",
    "        s[i + j + 1] = summ % 10\n",
    "\n",
    "    for i, c in enumerate(s):\n",
    "      if c != 0:\n",
    "        break\n",
    "\n",
    "    return ''.join(map(str, s[i:]))"
   ]
  },
  {
   "cell_type": "code",
   "execution_count": null,
   "id": "e5e52116",
   "metadata": {},
   "outputs": [],
   "source": [
    "new Solution().multiply()"
   ]
  }
 ],
 "metadata": {},
 "nbformat": 4,
 "nbformat_minor": 5
}

{
 "cells": [
  {
   "cell_type": "markdown",
   "id": "3e9e3fbb",
   "metadata": {},
   "source": [
    "https://leetcode.com/problems/occurrences-after-bigram"
   ]
  },
  {
   "cell_type": "code",
   "execution_count": null,
   "id": "5aee9d64",
   "metadata": {},
   "outputs": [],
   "source": [
    "import pyutil as pyu\n",
    "pyu.get_local_pyinfo()"
   ]
  },
  {
   "cell_type": "code",
   "execution_count": null,
   "id": "3c4539ec",
   "metadata": {},
   "outputs": [],
   "source": [
    "print(pyu.ps2(\"python-dotenv\"))"
   ]
  },
  {
   "cell_type": "code",
   "execution_count": null,
   "id": "876a8a0c",
   "metadata": {},
   "outputs": [],
   "source": [
    "from typing import List"
   ]
  },
  {
   "cell_type": "code",
   "execution_count": null,
   "id": "c03c544a",
   "metadata": {},
   "outputs": [],
   "source": [
    "class Solution:\n",
    "  def findOcurrences(self, text: str, first: str, second: str) -> List[str]:\n",
    "    words = text.split()\n",
    "    return [c for a, b, c in zip(words, words[1:], words[2:]) if a == first and b == second]"
   ]
  },
  {
   "cell_type": "code",
   "execution_count": null,
   "id": "4a0a1804",
   "metadata": {},
   "outputs": [],
   "source": [
    "new Solution().findOcurrences()"
   ]
  }
 ],
 "metadata": {},
 "nbformat": 4,
 "nbformat_minor": 5
}

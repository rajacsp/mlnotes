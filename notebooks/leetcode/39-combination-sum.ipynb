{
 "cells": [
  {
   "cell_type": "markdown",
   "id": "25ec052f",
   "metadata": {},
   "source": [
    "https://leetcode.com/problems/combination-sum"
   ]
  },
  {
   "cell_type": "code",
   "execution_count": null,
   "id": "26a994c0",
   "metadata": {},
   "outputs": [],
   "source": [
    "import pyutil as pyu\n",
    "pyu.get_local_pyinfo()"
   ]
  },
  {
   "cell_type": "code",
   "execution_count": null,
   "id": "6cec5b66",
   "metadata": {},
   "outputs": [],
   "source": [
    "print(pyu.ps2(\"python-dotenv\"))"
   ]
  },
  {
   "cell_type": "code",
   "execution_count": null,
   "id": "49fe4b7a",
   "metadata": {},
   "outputs": [],
   "source": [
    "from typing import List"
   ]
  },
  {
   "cell_type": "code",
   "execution_count": null,
   "id": "b9b4dc26",
   "metadata": {},
   "outputs": [],
   "source": [
    "class Solution:\n",
    "  def combinationSum(self, candidates: List[int], target: int) -> List[List[int]]:\n",
    "    ans = []\n",
    "\n",
    "    def dfs(s: int, target: int, path: List[int]) -> None:\n",
    "      if target < 0:\n",
    "        return\n",
    "      if target == 0:\n",
    "        ans.append(path.clone())\n",
    "        return\n",
    "\n",
    "      for i in range(s, len(candidates)):\n",
    "        path.append(candidates[i])\n",
    "        dfs(i, target - candidates[i], path)\n",
    "        path.pop()\n",
    "\n",
    "    candidates.sort()\n",
    "    dfs(0, target, [])\n",
    "    return ans"
   ]
  },
  {
   "cell_type": "code",
   "execution_count": null,
   "id": "6b0da72f",
   "metadata": {},
   "outputs": [],
   "source": [
    "new Solution().combinationSum()"
   ]
  }
 ],
 "metadata": {},
 "nbformat": 4,
 "nbformat_minor": 5
}

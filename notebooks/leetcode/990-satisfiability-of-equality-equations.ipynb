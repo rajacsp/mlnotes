{
 "cells": [
  {
   "cell_type": "markdown",
   "id": "b1cbdafa",
   "metadata": {},
   "source": [
    "https://leetcode.com/problems/satisfiability-of-equality-equations"
   ]
  },
  {
   "cell_type": "code",
   "execution_count": null,
   "id": "572d081e",
   "metadata": {},
   "outputs": [],
   "source": [
    "import pyutil as pyu\n",
    "pyu.get_local_pyinfo()"
   ]
  },
  {
   "cell_type": "code",
   "execution_count": null,
   "id": "b346bb08",
   "metadata": {},
   "outputs": [],
   "source": [
    "print(pyu.ps2(\"python-dotenv\"))"
   ]
  },
  {
   "cell_type": "code",
   "execution_count": null,
   "id": "2f5da08a",
   "metadata": {},
   "outputs": [],
   "source": [
    "from typing import List"
   ]
  },
  {
   "cell_type": "code",
   "execution_count": null,
   "id": "c289f758",
   "metadata": {},
   "outputs": [],
   "source": [
    "class UnionFind:\n",
    "  def __init__(self, n: int):\n",
    "    self.id = list(range(n))\n",
    "\n",
    "  def union(self, u: int, v: int) -> None:\n",
    "    self.id[self.find(u)] = self.find(v)\n",
    "\n",
    "  def find(self, u: int) -> int:\n",
    "    if self.id[u] != u:\n",
    "      self.id[u] = self.find(self.id[u])\n",
    "    return self.id[u]\n",
    "\n",
    "\n",
    "class Solution:\n",
    "  def equationsPossible(self, equations: List[str]) -> bool:\n",
    "    uf = UnionFind(26)\n",
    "\n",
    "    for x, op, _, y in equations:\n",
    "      if op == '=':\n",
    "        uf.union(ord(x) - ord('a'), ord(y) - ord('a'))\n",
    "\n",
    "    return all(uf.find(ord(x) - ord('a')) != uf.find(ord(y) - ord('a'))\n",
    "               for x, op, _, y in equations\n",
    "               if op == '!')"
   ]
  },
  {
   "cell_type": "code",
   "execution_count": null,
   "id": "59aeacff",
   "metadata": {},
   "outputs": [],
   "source": [
    "new Solution().equationsPossible()"
   ]
  }
 ],
 "metadata": {},
 "nbformat": 4,
 "nbformat_minor": 5
}

{
 "cells": [
  {
   "cell_type": "markdown",
   "id": "4b15d102",
   "metadata": {},
   "source": [
    "https://leetcode.com/problems/split-array-with-same-average"
   ]
  },
  {
   "cell_type": "code",
   "execution_count": null,
   "id": "cce017fc",
   "metadata": {},
   "outputs": [],
   "source": [
    "import pyutil as pyu\n",
    "pyu.get_local_pyinfo()"
   ]
  },
  {
   "cell_type": "code",
   "execution_count": null,
   "id": "f7180c50",
   "metadata": {},
   "outputs": [],
   "source": [
    "print(pyu.ps2(\"python-dotenv\"))"
   ]
  },
  {
   "cell_type": "code",
   "execution_count": null,
   "id": "857d93cc",
   "metadata": {},
   "outputs": [],
   "source": [
    "from typing import List"
   ]
  },
  {
   "cell_type": "code",
   "execution_count": null,
   "id": "3ccec6d8",
   "metadata": {},
   "outputs": [],
   "source": [
    "class Solution:\n",
    "  def splitArraySameAverage(self, A: List[int]) -> bool:\n",
    "    n = len(A)\n",
    "    summ = sum(A)\n",
    "    if not any(i * summ % n == 0 for i in range(1, n // 2 + 1)):\n",
    "      return False\n",
    "\n",
    "    sums = [set() for _ in range(n // 2 + 1)]\n",
    "    sums[0].add(0)\n",
    "\n",
    "    for a in A:\n",
    "      for i in range(n // 2, 0, -1):\n",
    "        for val in sums[i - 1]:\n",
    "          sums[i].add(a + val)\n",
    "\n",
    "    for i in range(1, n // 2 + 1):\n",
    "      if i * summ % n == 0 and i * summ // n in sums[i]:\n",
    "        return True\n",
    "\n",
    "    return False"
   ]
  },
  {
   "cell_type": "code",
   "execution_count": null,
   "id": "b20abe42",
   "metadata": {},
   "outputs": [],
   "source": [
    "new Solution().splitArraySameAverage()"
   ]
  }
 ],
 "metadata": {},
 "nbformat": 4,
 "nbformat_minor": 5
}

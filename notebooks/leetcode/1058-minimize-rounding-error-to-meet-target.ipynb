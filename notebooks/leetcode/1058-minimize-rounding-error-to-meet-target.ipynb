{
 "cells": [
  {
   "cell_type": "markdown",
   "id": "c2c8608f",
   "metadata": {},
   "source": [
    "https://leetcode.com/problems/minimize-rounding-error-to-meet-target"
   ]
  },
  {
   "cell_type": "code",
   "execution_count": null,
   "id": "e1f1891e",
   "metadata": {},
   "outputs": [],
   "source": [
    "import pyutil as pyu\n",
    "pyu.get_local_pyinfo()"
   ]
  },
  {
   "cell_type": "code",
   "execution_count": null,
   "id": "79d973d3",
   "metadata": {},
   "outputs": [],
   "source": [
    "print(pyu.ps2(\"python-dotenv\"))"
   ]
  },
  {
   "cell_type": "code",
   "execution_count": null,
   "id": "53089f91",
   "metadata": {},
   "outputs": [],
   "source": [
    "from typing import List"
   ]
  },
  {
   "cell_type": "code",
   "execution_count": null,
   "id": "b4398171",
   "metadata": {},
   "outputs": [],
   "source": [
    "class Solution:\n",
    "  def minimizeError(self, prices: List[str], target: int) -> str:\n",
    "    # A[i] := (costCeil - costFloor, costCeil, costFloor)\n",
    "    # The lower the costCeil - costFloor, the cheaper to ceil it\n",
    "    A = []\n",
    "    sumFloored = 0\n",
    "    sumCeiled = 0\n",
    "\n",
    "    for price in map(float, prices):\n",
    "      floored = math.floor(price)\n",
    "      ceiled = math.ceil(price)\n",
    "      sumFloored += floored\n",
    "      sumCeiled += ceiled\n",
    "      costFloor = price - floored\n",
    "      costCeil = ceiled - price\n",
    "      A.append((costCeil - costFloor, costCeil, costFloor))\n",
    "\n",
    "    if not sumFloored <= target <= sumCeiled:\n",
    "      return '-1'\n",
    "\n",
    "    A.sort()\n",
    "    nCeiled = target - sumFloored\n",
    "    return '{:.3f}'.format(sum(a[1] for a in A[:nCeiled]) +\n",
    "                           sum(a[2] for a in A[nCeiled:]))"
   ]
  },
  {
   "cell_type": "code",
   "execution_count": null,
   "id": "2c52abdf",
   "metadata": {},
   "outputs": [],
   "source": [
    "new Solution().minimizeError()"
   ]
  }
 ],
 "metadata": {},
 "nbformat": 4,
 "nbformat_minor": 5
}

{
 "cells": [
  {
   "cell_type": "markdown",
   "id": "be23cd98",
   "metadata": {},
   "source": [
    "https://leetcode.com/problems/top-k-frequent-words"
   ]
  },
  {
   "cell_type": "code",
   "execution_count": null,
   "id": "773ee2e0",
   "metadata": {},
   "outputs": [],
   "source": [
    "import pyutil as pyu\n",
    "pyu.get_local_pyinfo()"
   ]
  },
  {
   "cell_type": "code",
   "execution_count": null,
   "id": "d55926c5",
   "metadata": {},
   "outputs": [],
   "source": [
    "print(pyu.ps2(\"python-dotenv\"))"
   ]
  },
  {
   "cell_type": "code",
   "execution_count": null,
   "id": "1c045994",
   "metadata": {},
   "outputs": [],
   "source": [
    "from typing import List"
   ]
  },
  {
   "cell_type": "code",
   "execution_count": null,
   "id": "f502aa4a",
   "metadata": {},
   "outputs": [],
   "source": [
    "class Solution:\n",
    "  def topKFrequent(self, words: List[str], k: int) -> List[str]:\n",
    "    ans = []\n",
    "    bucket = [[] for _ in range(len(words) + 1)]\n",
    "\n",
    "    for word, freq in Counter(words).items():\n",
    "      bucket[freq].append(word)\n",
    "\n",
    "    for b in reversed(bucket):\n",
    "      for word in sorted(b):\n",
    "        ans.append(word)\n",
    "        if len(ans) == k:\n",
    "          return ans"
   ]
  },
  {
   "cell_type": "code",
   "execution_count": null,
   "id": "eaceb140",
   "metadata": {},
   "outputs": [],
   "source": [
    "new Solution().topKFrequent()"
   ]
  }
 ],
 "metadata": {},
 "nbformat": 4,
 "nbformat_minor": 5
}

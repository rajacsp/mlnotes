{
 "cells": [
  {
   "cell_type": "markdown",
   "id": "2cb3d108",
   "metadata": {},
   "source": [
    "https://leetcode.com/problems/unique-paths"
   ]
  },
  {
   "cell_type": "code",
   "execution_count": null,
   "id": "c0097e20",
   "metadata": {},
   "outputs": [],
   "source": [
    "import pyutil as pyu\n",
    "pyu.get_local_pyinfo()"
   ]
  },
  {
   "cell_type": "code",
   "execution_count": null,
   "id": "431e9dc6",
   "metadata": {},
   "outputs": [],
   "source": [
    "print(pyu.ps2(\"python-dotenv\"))"
   ]
  },
  {
   "cell_type": "code",
   "execution_count": null,
   "id": "5e7a319b",
   "metadata": {},
   "outputs": [],
   "source": [
    "from typing import List"
   ]
  },
  {
   "cell_type": "code",
   "execution_count": null,
   "id": "2702b2e1",
   "metadata": {},
   "outputs": [],
   "source": [
    "class Solution:\n",
    "  def uniquePaths(self, m: int, n: int) -> int:\n",
    "    # dp[i][j] := unique paths from (0, 0) to (i, j)\n",
    "    dp = [[1] * n for _ in range(m)]\n",
    "\n",
    "    for i in range(1, m):\n",
    "      for j in range(1, n):\n",
    "        dp[i][j] = dp[i - 1][j] + dp[i][j - 1]\n",
    "\n",
    "    return dp[-1][-1]"
   ]
  },
  {
   "cell_type": "code",
   "execution_count": null,
   "id": "2115da20",
   "metadata": {},
   "outputs": [],
   "source": [
    "new Solution().uniquePaths()"
   ]
  }
 ],
 "metadata": {},
 "nbformat": 4,
 "nbformat_minor": 5
}

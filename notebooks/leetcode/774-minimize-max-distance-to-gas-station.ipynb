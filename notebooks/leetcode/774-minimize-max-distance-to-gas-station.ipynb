{
 "cells": [
  {
   "cell_type": "markdown",
   "id": "ada0cd5e",
   "metadata": {},
   "source": [
    "https://leetcode.com/problems/minimize-max-distance-to-gas-station"
   ]
  },
  {
   "cell_type": "code",
   "execution_count": null,
   "id": "43bcc6bd",
   "metadata": {},
   "outputs": [],
   "source": [
    "import pyutil as pyu\n",
    "pyu.get_local_pyinfo()"
   ]
  },
  {
   "cell_type": "code",
   "execution_count": null,
   "id": "45ed0243",
   "metadata": {},
   "outputs": [],
   "source": [
    "print(pyu.ps2(\"python-dotenv\"))"
   ]
  },
  {
   "cell_type": "code",
   "execution_count": null,
   "id": "bb122184",
   "metadata": {},
   "outputs": [],
   "source": [
    "from typing import List"
   ]
  },
  {
   "cell_type": "code",
   "execution_count": null,
   "id": "96a0815b",
   "metadata": {},
   "outputs": [],
   "source": [
    "class Solution:\n",
    "  def minmaxGasDist(self, stations: List[int], k: int) -> float:\n",
    "    kErr = 1e-6\n",
    "    l = 0\n",
    "    r = stations[-1] - stations[0]\n",
    "\n",
    "    # True if can use k or less gas stations to ensure\n",
    "    # Each adjacent distance between gas stations is at most m\n",
    "    def possible(k: int, m: float) -> bool:\n",
    "      for a, b in zip(stations, stations[1:]):\n",
    "        diff = b - a\n",
    "        if diff > m:\n",
    "          k -= ceil(diff / m) - 1\n",
    "          if k < 0:\n",
    "            return False\n",
    "      return True\n",
    "\n",
    "    while r - l > kErr:\n",
    "      m = (l + r) / 2\n",
    "      if possible(k, m):\n",
    "        r = m\n",
    "      else:\n",
    "        l = m\n",
    "\n",
    "    return l"
   ]
  },
  {
   "cell_type": "code",
   "execution_count": null,
   "id": "ddb75d94",
   "metadata": {},
   "outputs": [],
   "source": [
    "new Solution().minmaxGasDist()"
   ]
  }
 ],
 "metadata": {},
 "nbformat": 4,
 "nbformat_minor": 5
}

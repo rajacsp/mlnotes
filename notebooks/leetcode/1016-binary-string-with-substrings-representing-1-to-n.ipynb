{
 "cells": [
  {
   "cell_type": "markdown",
   "id": "dfffd51c",
   "metadata": {},
   "source": [
    "https://leetcode.com/problems/binary-string-with-substrings-representing-1-to-n"
   ]
  },
  {
   "cell_type": "code",
   "execution_count": null,
   "id": "1ce01e82",
   "metadata": {},
   "outputs": [],
   "source": [
    "import pyutil as pyu\n",
    "pyu.get_local_pyinfo()"
   ]
  },
  {
   "cell_type": "code",
   "execution_count": null,
   "id": "c799b18e",
   "metadata": {},
   "outputs": [],
   "source": [
    "print(pyu.ps2(\"python-dotenv\"))"
   ]
  },
  {
   "cell_type": "code",
   "execution_count": null,
   "id": "d0426984",
   "metadata": {},
   "outputs": [],
   "source": [
    "from typing import List"
   ]
  },
  {
   "cell_type": "code",
   "execution_count": null,
   "id": "f14adbc5",
   "metadata": {},
   "outputs": [],
   "source": [
    "class Solution:\n",
    "  def queryString(self, S: str, N: int) -> bool:\n",
    "    if N > 1511:\n",
    "      return False\n",
    "\n",
    "    for i in range(N, N // 2, -1):\n",
    "      if format(i, 'b') not in S:\n",
    "        return False\n",
    "\n",
    "    return True"
   ]
  },
  {
   "cell_type": "code",
   "execution_count": null,
   "id": "53f3778b",
   "metadata": {},
   "outputs": [],
   "source": [
    "new Solution().queryString()"
   ]
  }
 ],
 "metadata": {},
 "nbformat": 4,
 "nbformat_minor": 5
}

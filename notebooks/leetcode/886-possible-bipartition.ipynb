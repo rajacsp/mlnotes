{
 "cells": [
  {
   "cell_type": "markdown",
   "id": "5de0e0dd",
   "metadata": {},
   "source": [
    "https://leetcode.com/problems/possible-bipartition"
   ]
  },
  {
   "cell_type": "code",
   "execution_count": null,
   "id": "0abafd66",
   "metadata": {},
   "outputs": [],
   "source": [
    "import pyutil as pyu\n",
    "pyu.get_local_pyinfo()"
   ]
  },
  {
   "cell_type": "code",
   "execution_count": null,
   "id": "7cadd533",
   "metadata": {},
   "outputs": [],
   "source": [
    "print(pyu.ps2(\"python-dotenv\"))"
   ]
  },
  {
   "cell_type": "code",
   "execution_count": null,
   "id": "c917b14a",
   "metadata": {},
   "outputs": [],
   "source": [
    "from typing import List"
   ]
  },
  {
   "cell_type": "code",
   "execution_count": null,
   "id": "cb2da1bc",
   "metadata": {},
   "outputs": [],
   "source": [
    "from enum import Enum\n",
    "\n",
    "\n",
    "class Color(Enum):\n",
    "  kWhite = 0\n",
    "  kRed = 1\n",
    "  kGreen = 2\n",
    "\n",
    "\n",
    "class Solution:\n",
    "  def possibleBipartition(self, n: int, dislikes: List[List[int]]) -> bool:\n",
    "    graph = [[] for _ in range(n + 1)]\n",
    "    colors = [Color.kWhite] * (n + 1)\n",
    "\n",
    "    for u, v in dislikes:\n",
    "      graph[u].append(v)\n",
    "      graph[v].append(u)\n",
    "\n",
    "    # Reduce to 785. Is Graph Bipartite?\n",
    "    def isValidColor(u: int, color: Color) -> bool:\n",
    "      # The painted color should be same as the `color`\n",
    "      if colors[u] != Color.kWhite:\n",
    "        return colors[u] == color\n",
    "\n",
    "      colors[u] = color  # Always paint w/ `color`\n",
    "\n",
    "      # All children should have valid colors\n",
    "      childrenColor = Color.kRed if colors[u] == Color.kGreen else Color.kGreen\n",
    "      return all(isValidColor(v, childrenColor) for v in graph[u])\n",
    "\n",
    "    return all(colors[i] != Color.kWhite or isValidColor(i, Color.kRed)\n",
    "               for i in range(1, n + 1))"
   ]
  },
  {
   "cell_type": "code",
   "execution_count": null,
   "id": "dc849980",
   "metadata": {},
   "outputs": [],
   "source": [
    "new Solution().possibleBipartition()"
   ]
  }
 ],
 "metadata": {},
 "nbformat": 4,
 "nbformat_minor": 5
}

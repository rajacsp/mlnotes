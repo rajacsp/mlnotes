{
 "cells": [
  {
   "cell_type": "markdown",
   "id": "4ee4411a",
   "metadata": {},
   "source": [
    "https://leetcode.com/problems/power-of-three"
   ]
  },
  {
   "cell_type": "code",
   "execution_count": null,
   "id": "f6b7448a",
   "metadata": {},
   "outputs": [],
   "source": [
    "import pyutil as pyu\n",
    "pyu.get_local_pyinfo()"
   ]
  },
  {
   "cell_type": "code",
   "execution_count": null,
   "id": "2cddfbf2",
   "metadata": {},
   "outputs": [],
   "source": [
    "print(pyu.ps2(\"python-dotenv\"))"
   ]
  },
  {
   "cell_type": "code",
   "execution_count": null,
   "id": "14e5e694",
   "metadata": {},
   "outputs": [],
   "source": [
    "from typing import List"
   ]
  },
  {
   "cell_type": "code",
   "execution_count": null,
   "id": "a07f13f4",
   "metadata": {},
   "outputs": [],
   "source": [
    "class Solution:\n",
    "  def isPowerOfThree(self, n: int) -> bool:\n",
    "    return n > 0 and 3**19 % n == 0"
   ]
  },
  {
   "cell_type": "code",
   "execution_count": null,
   "id": "6b7a413d",
   "metadata": {},
   "outputs": [],
   "source": [
    "new Solution().isPowerOfThree()"
   ]
  }
 ],
 "metadata": {},
 "nbformat": 4,
 "nbformat_minor": 5
}

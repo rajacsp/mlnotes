{
 "cells": [
  {
   "cell_type": "markdown",
   "id": "95b81f0c",
   "metadata": {},
   "source": [
    "https://leetcode.com/problems/random-pick-with-blacklist"
   ]
  },
  {
   "cell_type": "code",
   "execution_count": null,
   "id": "e16d3837",
   "metadata": {},
   "outputs": [],
   "source": [
    "import pyutil as pyu\n",
    "pyu.get_local_pyinfo()"
   ]
  },
  {
   "cell_type": "code",
   "execution_count": null,
   "id": "fead725f",
   "metadata": {},
   "outputs": [],
   "source": [
    "print(pyu.ps2(\"python-dotenv\"))"
   ]
  },
  {
   "cell_type": "code",
   "execution_count": null,
   "id": "64942b84",
   "metadata": {},
   "outputs": [],
   "source": [
    "from typing import List"
   ]
  },
  {
   "cell_type": "code",
   "execution_count": null,
   "id": "abe129c4",
   "metadata": {},
   "outputs": [],
   "source": [
    "class Solution:\n",
    "  def __init__(self, N: int, blacklist: List[int]):\n",
    "    self.validRange = N - len(blacklist)\n",
    "    self.dict = {}\n",
    "\n",
    "    for b in blacklist:\n",
    "      self.dict[b] = -1\n",
    "\n",
    "    for b in blacklist:\n",
    "      if b < self.validRange:\n",
    "        while N - 1 in self.dict:\n",
    "          N -= 1\n",
    "        self.dict[b] = N - 1\n",
    "        N -= 1\n",
    "\n",
    "  def pick(self) -> int:\n",
    "    value = randint(0, self.validRange - 1)\n",
    "\n",
    "    if value in self.dict:\n",
    "      return self.dict[value]\n",
    "\n",
    "    return value"
   ]
  },
  {
   "cell_type": "code",
   "execution_count": null,
   "id": "2841cd6e",
   "metadata": {},
   "outputs": [],
   "source": [
    "new Solution().__init__()"
   ]
  }
 ],
 "metadata": {},
 "nbformat": 4,
 "nbformat_minor": 5
}

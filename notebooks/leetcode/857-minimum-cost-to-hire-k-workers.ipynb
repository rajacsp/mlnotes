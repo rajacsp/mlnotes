{
 "cells": [
  {
   "cell_type": "markdown",
   "id": "b848c1cf",
   "metadata": {},
   "source": [
    "https://leetcode.com/problems/minimum-cost-to-hire-k-workers"
   ]
  },
  {
   "cell_type": "code",
   "execution_count": null,
   "id": "c0fc57f8",
   "metadata": {},
   "outputs": [],
   "source": [
    "import pyutil as pyu\n",
    "pyu.get_local_pyinfo()"
   ]
  },
  {
   "cell_type": "code",
   "execution_count": null,
   "id": "50898694",
   "metadata": {},
   "outputs": [],
   "source": [
    "print(pyu.ps2(\"python-dotenv\"))"
   ]
  },
  {
   "cell_type": "code",
   "execution_count": null,
   "id": "783798c5",
   "metadata": {},
   "outputs": [],
   "source": [
    "from typing import List"
   ]
  },
  {
   "cell_type": "code",
   "execution_count": null,
   "id": "94492cfa",
   "metadata": {},
   "outputs": [],
   "source": [
    "class Solution:\n",
    "  def mincostToHireWorkers(self, quality: List[int], wage: List[int], k: int) -> float:\n",
    "    ans = math.inf\n",
    "    qualitySum = 0\n",
    "    # (wagePerQuality, quality) sorted by wagePerQuality\n",
    "    workers = sorted((w / q, q) for q, w in zip(quality, wage))\n",
    "    maxHeap = []\n",
    "\n",
    "    for wagePerQuality, q in workers:\n",
    "      heapq.heappush(maxHeap, -q)\n",
    "      qualitySum += q\n",
    "      if len(maxHeap) > k:\n",
    "        qualitySum += heapq.heappop(maxHeap)\n",
    "      if len(maxHeap) == k:\n",
    "        ans = min(ans, qualitySum * wagePerQuality)\n",
    "\n",
    "    return ans"
   ]
  },
  {
   "cell_type": "code",
   "execution_count": null,
   "id": "7518254b",
   "metadata": {},
   "outputs": [],
   "source": [
    "new Solution().mincostToHireWorkers()"
   ]
  }
 ],
 "metadata": {},
 "nbformat": 4,
 "nbformat_minor": 5
}

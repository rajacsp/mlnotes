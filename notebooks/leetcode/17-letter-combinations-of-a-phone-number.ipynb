{
 "cells": [
  {
   "cell_type": "markdown",
   "id": "f6f19053",
   "metadata": {},
   "source": [
    "https://leetcode.com/problems/letter-combinations-of-a-phone-number"
   ]
  },
  {
   "cell_type": "code",
   "execution_count": null,
   "id": "10537300",
   "metadata": {},
   "outputs": [],
   "source": [
    "import pyutil as pyu\n",
    "pyu.get_local_pyinfo()"
   ]
  },
  {
   "cell_type": "code",
   "execution_count": null,
   "id": "8531ec3a",
   "metadata": {},
   "outputs": [],
   "source": [
    "print(pyu.ps2(\"python-dotenv\"))"
   ]
  },
  {
   "cell_type": "code",
   "execution_count": null,
   "id": "fbe784e6",
   "metadata": {},
   "outputs": [],
   "source": [
    "from typing import List"
   ]
  },
  {
   "cell_type": "code",
   "execution_count": null,
   "id": "ab5deb67",
   "metadata": {},
   "outputs": [],
   "source": [
    "class Solution:\n",
    "  def letterCombinations(self, digits: str) -> List[str]:\n",
    "    if not digits:\n",
    "      return []\n",
    "\n",
    "    digitToLetters = ['', '', 'abc', 'def', 'ghi',\n",
    "                      'jkl', 'mno', 'pqrs', 'tuv', 'wxyz']\n",
    "    ans = []\n",
    "\n",
    "    def dfs(i: int, path: List[chr]) -> None:\n",
    "      if i == len(digits):\n",
    "        ans.append(''.join(path))\n",
    "        return\n",
    "\n",
    "      for letter in digitToLetters[ord(digits[i]) - ord('0')]:\n",
    "        path.append(letter)\n",
    "        dfs(i + 1, path)\n",
    "        path.pop()\n",
    "\n",
    "    dfs(0, [])\n",
    "    return ans"
   ]
  },
  {
   "cell_type": "code",
   "execution_count": null,
   "id": "59691ce5",
   "metadata": {},
   "outputs": [],
   "source": [
    "new Solution().letterCombinations()"
   ]
  }
 ],
 "metadata": {},
 "nbformat": 4,
 "nbformat_minor": 5
}

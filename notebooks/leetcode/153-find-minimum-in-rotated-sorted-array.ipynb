{
 "cells": [
  {
   "cell_type": "markdown",
   "id": "d3068f21",
   "metadata": {},
   "source": [
    "https://leetcode.com/problems/find-minimum-in-rotated-sorted-array"
   ]
  },
  {
   "cell_type": "code",
   "execution_count": null,
   "id": "5585bee2",
   "metadata": {},
   "outputs": [],
   "source": [
    "import pyutil as pyu\n",
    "pyu.get_local_pyinfo()"
   ]
  },
  {
   "cell_type": "code",
   "execution_count": null,
   "id": "6e36f5e8",
   "metadata": {},
   "outputs": [],
   "source": [
    "print(pyu.ps2(\"python-dotenv\"))"
   ]
  },
  {
   "cell_type": "code",
   "execution_count": null,
   "id": "124a4ca2",
   "metadata": {},
   "outputs": [],
   "source": [
    "from typing import List"
   ]
  },
  {
   "cell_type": "code",
   "execution_count": null,
   "id": "02436c15",
   "metadata": {},
   "outputs": [],
   "source": [
    "class Solution:\n",
    "  def findMin(self, nums: List[int]) -> int:\n",
    "    l = 0\n",
    "    r = len(nums) - 1\n",
    "\n",
    "    while l < r:\n",
    "      m = (l + r) // 2\n",
    "      if nums[m] < nums[r]:\n",
    "        r = m\n",
    "      else:\n",
    "        l = m + 1\n",
    "\n",
    "    return nums[l]"
   ]
  },
  {
   "cell_type": "code",
   "execution_count": null,
   "id": "7943af51",
   "metadata": {},
   "outputs": [],
   "source": [
    "new Solution().findMin()"
   ]
  }
 ],
 "metadata": {},
 "nbformat": 4,
 "nbformat_minor": 5
}

{
 "cells": [
  {
   "cell_type": "markdown",
   "id": "6fa4ad94",
   "metadata": {},
   "source": [
    "https://leetcode.com/problems/linked-list-components"
   ]
  },
  {
   "cell_type": "code",
   "execution_count": null,
   "id": "f89d6fa0",
   "metadata": {},
   "outputs": [],
   "source": [
    "import pyutil as pyu\n",
    "pyu.get_local_pyinfo()"
   ]
  },
  {
   "cell_type": "code",
   "execution_count": null,
   "id": "59001dc1",
   "metadata": {},
   "outputs": [],
   "source": [
    "print(pyu.ps2(\"python-dotenv\"))"
   ]
  },
  {
   "cell_type": "code",
   "execution_count": null,
   "id": "897d5b6f",
   "metadata": {},
   "outputs": [],
   "source": [
    "from typing import List"
   ]
  },
  {
   "cell_type": "code",
   "execution_count": null,
   "id": "e6bd4246",
   "metadata": {},
   "outputs": [],
   "source": [
    "class Solution:\n",
    "  def numComponents(self, head: ListNode, G: List[int]) -> int:\n",
    "    ans = 0\n",
    "    G = set(G)\n",
    "\n",
    "    while head:\n",
    "      if head.val in G and (head.next == None or head.next.val not in G):\n",
    "        ans += 1\n",
    "      head = head.next\n",
    "\n",
    "    return ans"
   ]
  },
  {
   "cell_type": "code",
   "execution_count": null,
   "id": "958d4ae9",
   "metadata": {},
   "outputs": [],
   "source": [
    "new Solution().numComponents()"
   ]
  }
 ],
 "metadata": {},
 "nbformat": 4,
 "nbformat_minor": 5
}

{
 "cells": [
  {
   "cell_type": "markdown",
   "id": "0d345207",
   "metadata": {},
   "source": [
    "https://leetcode.com/problems/word-break-ii"
   ]
  },
  {
   "cell_type": "code",
   "execution_count": null,
   "id": "11415986",
   "metadata": {},
   "outputs": [],
   "source": [
    "import pyutil as pyu\n",
    "pyu.get_local_pyinfo()"
   ]
  },
  {
   "cell_type": "code",
   "execution_count": null,
   "id": "65100ecf",
   "metadata": {},
   "outputs": [],
   "source": [
    "print(pyu.ps2(\"python-dotenv\"))"
   ]
  },
  {
   "cell_type": "code",
   "execution_count": null,
   "id": "3100eb37",
   "metadata": {},
   "outputs": [],
   "source": [
    "from typing import List"
   ]
  },
  {
   "cell_type": "code",
   "execution_count": null,
   "id": "cc8923f4",
   "metadata": {},
   "outputs": [],
   "source": [
    "class Solution:\n",
    "  def wordBreak(self, s: str, wordDict: List[str]) -> List[str]:\n",
    "    wordSet = set(wordDict)\n",
    "\n",
    "    @functools.lru_cache(None)\n",
    "    def wordBreak(s: str) -> List[str]:\n",
    "      ans = []\n",
    "\n",
    "      # 1 <= len(prefix) < len(s)\n",
    "      for i in range(1, len(s)):\n",
    "        prefix = s[0:i]\n",
    "        suffix = s[i:]\n",
    "        if prefix in wordSet:\n",
    "          for word in wordBreak(suffix):\n",
    "            ans.append(prefix + ' ' + word)\n",
    "\n",
    "      # Contains whole string, so don't add any space\n",
    "      if s in wordSet:\n",
    "        ans.append(s)\n",
    "\n",
    "      return ans\n",
    "\n",
    "    return wordBreak(s)"
   ]
  },
  {
   "cell_type": "code",
   "execution_count": null,
   "id": "7cd66cd0",
   "metadata": {},
   "outputs": [],
   "source": [
    "new Solution().wordBreak()"
   ]
  }
 ],
 "metadata": {},
 "nbformat": 4,
 "nbformat_minor": 5
}

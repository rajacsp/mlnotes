{
 "cells": [
  {
   "cell_type": "markdown",
   "id": "531b5148",
   "metadata": {},
   "source": [
    "https://leetcode.com/problems/split-linked-list-in-parts"
   ]
  },
  {
   "cell_type": "code",
   "execution_count": null,
   "id": "02aa2ca9",
   "metadata": {},
   "outputs": [],
   "source": [
    "import pyutil as pyu\n",
    "pyu.get_local_pyinfo()"
   ]
  },
  {
   "cell_type": "code",
   "execution_count": null,
   "id": "454cbbe8",
   "metadata": {},
   "outputs": [],
   "source": [
    "print(pyu.ps2(\"python-dotenv\"))"
   ]
  },
  {
   "cell_type": "code",
   "execution_count": null,
   "id": "b0ebd0e1",
   "metadata": {},
   "outputs": [],
   "source": [
    "from typing import List"
   ]
  },
  {
   "cell_type": "code",
   "execution_count": null,
   "id": "6de75a9c",
   "metadata": {},
   "outputs": [],
   "source": [
    "class Solution:\n",
    "  def splitListToParts(self, root: ListNode, k: int) -> List[ListNode]:\n",
    "    ans = [[] for _ in range(k)]\n",
    "    length = 0\n",
    "    curr = root\n",
    "    while curr:\n",
    "      length += 1\n",
    "      curr = curr.next\n",
    "    subLength = length // k\n",
    "    remainder = length % k\n",
    "\n",
    "    prev = None\n",
    "    head = root\n",
    "\n",
    "    for i in range(k):\n",
    "      ans[i] = head\n",
    "      for j in range(subLength + (1 if remainder > 0 else 0)):\n",
    "        prev = head\n",
    "        head = head.next\n",
    "      if prev:\n",
    "        prev.next = None\n",
    "      remainder -= 1\n",
    "\n",
    "    return ans"
   ]
  },
  {
   "cell_type": "code",
   "execution_count": null,
   "id": "fe6a9941",
   "metadata": {},
   "outputs": [],
   "source": [
    "new Solution().splitListToParts()"
   ]
  }
 ],
 "metadata": {},
 "nbformat": 4,
 "nbformat_minor": 5
}

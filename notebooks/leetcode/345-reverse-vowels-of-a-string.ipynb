{
 "cells": [
  {
   "cell_type": "markdown",
   "id": "9be3ff74",
   "metadata": {},
   "source": [
    "https://leetcode.com/problems/reverse-vowels-of-a-string"
   ]
  },
  {
   "cell_type": "code",
   "execution_count": null,
   "id": "55d180a8",
   "metadata": {},
   "outputs": [],
   "source": [
    "import pyutil as pyu\n",
    "pyu.get_local_pyinfo()"
   ]
  },
  {
   "cell_type": "code",
   "execution_count": null,
   "id": "521a316b",
   "metadata": {},
   "outputs": [],
   "source": [
    "print(pyu.ps2(\"python-dotenv\"))"
   ]
  },
  {
   "cell_type": "code",
   "execution_count": null,
   "id": "e9541c6c",
   "metadata": {},
   "outputs": [],
   "source": [
    "from typing import List"
   ]
  },
  {
   "cell_type": "code",
   "execution_count": null,
   "id": "4026ffa2",
   "metadata": {},
   "outputs": [],
   "source": [
    "class Solution:\n",
    "  def reverseVowels(self, s: str) -> str:\n",
    "    charList = list(s)\n",
    "    vowels = {'a', 'e', 'i', 'o', 'u', 'A', 'E', 'I', 'O', 'U'}\n",
    "    l = 0\n",
    "    r = len(s) - 1\n",
    "\n",
    "    while l < r:\n",
    "      while l < r and charList[l] not in vowels:\n",
    "        l += 1\n",
    "      while l < r and charList[r] not in vowels:\n",
    "        r -= 1\n",
    "      charList[l], charList[r] = charList[r], charList[l]\n",
    "      l += 1\n",
    "      r -= 1\n",
    "\n",
    "    return ''.join(charList)"
   ]
  },
  {
   "cell_type": "code",
   "execution_count": null,
   "id": "7c1aa6a4",
   "metadata": {},
   "outputs": [],
   "source": [
    "new Solution().reverseVowels()"
   ]
  }
 ],
 "metadata": {},
 "nbformat": 4,
 "nbformat_minor": 5
}

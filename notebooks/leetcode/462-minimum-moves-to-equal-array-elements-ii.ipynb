{
 "cells": [
  {
   "cell_type": "markdown",
   "id": "2292cc05",
   "metadata": {},
   "source": [
    "https://leetcode.com/problems/minimum-moves-to-equal-array-elements-ii"
   ]
  },
  {
   "cell_type": "code",
   "execution_count": null,
   "id": "1d0d447a",
   "metadata": {},
   "outputs": [],
   "source": [
    "import pyutil as pyu\n",
    "pyu.get_local_pyinfo()"
   ]
  },
  {
   "cell_type": "code",
   "execution_count": null,
   "id": "0d9e84f9",
   "metadata": {},
   "outputs": [],
   "source": [
    "print(pyu.ps2(\"python-dotenv\"))"
   ]
  },
  {
   "cell_type": "code",
   "execution_count": null,
   "id": "c0962175",
   "metadata": {},
   "outputs": [],
   "source": [
    "from typing import List"
   ]
  },
  {
   "cell_type": "code",
   "execution_count": null,
   "id": "8b648773",
   "metadata": {},
   "outputs": [],
   "source": [
    "import statistics\n",
    "\n",
    "\n",
    "class Solution:\n",
    "  def minMoves2(self, nums: List[int]) -> int:\n",
    "    median = int(statistics.median(nums))\n",
    "    return sum(abs(num - median) for num in nums)"
   ]
  },
  {
   "cell_type": "code",
   "execution_count": null,
   "id": "d311102f",
   "metadata": {},
   "outputs": [],
   "source": [
    "new Solution().minMoves2()"
   ]
  }
 ],
 "metadata": {},
 "nbformat": 4,
 "nbformat_minor": 5
}

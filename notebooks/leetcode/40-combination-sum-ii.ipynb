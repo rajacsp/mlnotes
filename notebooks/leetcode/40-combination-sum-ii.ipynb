{
 "cells": [
  {
   "cell_type": "markdown",
   "id": "1ccc4bea",
   "metadata": {},
   "source": [
    "https://leetcode.com/problems/combination-sum-ii"
   ]
  },
  {
   "cell_type": "code",
   "execution_count": null,
   "id": "97b4621b",
   "metadata": {},
   "outputs": [],
   "source": [
    "import pyutil as pyu\n",
    "pyu.get_local_pyinfo()"
   ]
  },
  {
   "cell_type": "code",
   "execution_count": null,
   "id": "ab47ec77",
   "metadata": {},
   "outputs": [],
   "source": [
    "print(pyu.ps2(\"python-dotenv\"))"
   ]
  },
  {
   "cell_type": "code",
   "execution_count": null,
   "id": "86b4123e",
   "metadata": {},
   "outputs": [],
   "source": [
    "from typing import List"
   ]
  },
  {
   "cell_type": "code",
   "execution_count": null,
   "id": "4036e1a0",
   "metadata": {},
   "outputs": [],
   "source": [
    "class Solution:\n",
    "  def combinationSum2(self, candidates: List[int], target: int) -> List[List[int]]:\n",
    "    ans = []\n",
    "\n",
    "    def dfs(s: int, target: int, path: List[int]) -> None:\n",
    "      if target < 0:\n",
    "        return\n",
    "      if target == 0:\n",
    "        ans.append(path.copy())\n",
    "        return\n",
    "\n",
    "      for i in range(s, len(candidates)):\n",
    "        if i > s and candidates[i] == candidates[i - 1]:\n",
    "          continue\n",
    "        path.append(candidates[i])\n",
    "        dfs(i + 1, target - candidates[i], path)\n",
    "        path.pop()\n",
    "\n",
    "    candidates.sort()\n",
    "    dfs(0, target, [])\n",
    "    return ans"
   ]
  },
  {
   "cell_type": "code",
   "execution_count": null,
   "id": "2789b170",
   "metadata": {},
   "outputs": [],
   "source": [
    "new Solution().combinationSum2()"
   ]
  }
 ],
 "metadata": {},
 "nbformat": 4,
 "nbformat_minor": 5
}

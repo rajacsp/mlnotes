{
 "cells": [
  {
   "cell_type": "markdown",
   "id": "f25d2bc4",
   "metadata": {},
   "source": [
    "https://leetcode.com/problems/wildcard-matching"
   ]
  },
  {
   "cell_type": "code",
   "execution_count": null,
   "id": "dfade2d3",
   "metadata": {},
   "outputs": [],
   "source": [
    "import pyutil as pyu\n",
    "pyu.get_local_pyinfo()"
   ]
  },
  {
   "cell_type": "code",
   "execution_count": null,
   "id": "29bb8e5b",
   "metadata": {},
   "outputs": [],
   "source": [
    "print(pyu.ps2(\"python-dotenv\"))"
   ]
  },
  {
   "cell_type": "code",
   "execution_count": null,
   "id": "c6447a9e",
   "metadata": {},
   "outputs": [],
   "source": [
    "from typing import List"
   ]
  },
  {
   "cell_type": "code",
   "execution_count": null,
   "id": "e56f115e",
   "metadata": {},
   "outputs": [],
   "source": [
    "class Solution:\n",
    "  def isMatch(self, s: str, p: str) -> bool:\n",
    "    m = len(s)\n",
    "    n = len(p)\n",
    "    # dp[i][j] := True if s[0..i) matches p[0..j)\n",
    "    dp = [[False] * (n + 1) for _ in range(m + 1)]\n",
    "    dp[0][0] = True\n",
    "\n",
    "    def isMatch(i: int, j: int) -> bool:\n",
    "      return i >= 0 and p[j] == '?' or s[i] == p[j]\n",
    "\n",
    "    for j, c in enumerate(p):\n",
    "      if c == '*':\n",
    "        dp[0][j + 1] = dp[0][j]\n",
    "\n",
    "    for i in range(m):\n",
    "      for j in range(n):\n",
    "        if p[j] == '*':\n",
    "          matchEmpty = dp[i + 1][j]\n",
    "          matchSome = dp[i][j + 1]\n",
    "          dp[i + 1][j + 1] = matchEmpty or matchSome\n",
    "        elif isMatch(i, j):\n",
    "          dp[i + 1][j + 1] = dp[i][j]\n",
    "\n",
    "    return dp[m][n]"
   ]
  },
  {
   "cell_type": "code",
   "execution_count": null,
   "id": "2c44bb4b",
   "metadata": {},
   "outputs": [],
   "source": [
    "new Solution().isMatch()"
   ]
  }
 ],
 "metadata": {},
 "nbformat": 4,
 "nbformat_minor": 5
}

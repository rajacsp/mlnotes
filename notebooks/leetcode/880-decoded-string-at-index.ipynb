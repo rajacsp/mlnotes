{
 "cells": [
  {
   "cell_type": "markdown",
   "id": "515eca2c",
   "metadata": {},
   "source": [
    "https://leetcode.com/problems/decoded-string-at-index"
   ]
  },
  {
   "cell_type": "code",
   "execution_count": null,
   "id": "a633687b",
   "metadata": {},
   "outputs": [],
   "source": [
    "import pyutil as pyu\n",
    "pyu.get_local_pyinfo()"
   ]
  },
  {
   "cell_type": "code",
   "execution_count": null,
   "id": "4060b1ec",
   "metadata": {},
   "outputs": [],
   "source": [
    "print(pyu.ps2(\"python-dotenv\"))"
   ]
  },
  {
   "cell_type": "code",
   "execution_count": null,
   "id": "1cd528b9",
   "metadata": {},
   "outputs": [],
   "source": [
    "from typing import List"
   ]
  },
  {
   "cell_type": "code",
   "execution_count": null,
   "id": "37fb72f2",
   "metadata": {},
   "outputs": [],
   "source": [
    "class Solution:\n",
    "  def decodeAtIndex(self, s: str, k: int) -> str:\n",
    "    size = 0\n",
    "\n",
    "    for c in s:\n",
    "      if c.isdigit():\n",
    "        size *= int(c)\n",
    "      else:\n",
    "        size += 1\n",
    "\n",
    "    for c in reversed(s):\n",
    "      k %= size\n",
    "      if k == 0 and c.isalpha():\n",
    "        return c\n",
    "      if c.isdigit():\n",
    "        size //= int(c)\n",
    "      else:\n",
    "        size -= 1"
   ]
  },
  {
   "cell_type": "code",
   "execution_count": null,
   "id": "6302ac27",
   "metadata": {},
   "outputs": [],
   "source": [
    "new Solution().decodeAtIndex()"
   ]
  }
 ],
 "metadata": {},
 "nbformat": 4,
 "nbformat_minor": 5
}

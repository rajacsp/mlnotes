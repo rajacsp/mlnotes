{
 "cells": [
  {
   "cell_type": "markdown",
   "id": "dbc50d3c",
   "metadata": {},
   "source": [
    "https://leetcode.com/problems/find-common-characters"
   ]
  },
  {
   "cell_type": "code",
   "execution_count": null,
   "id": "1491bfe4",
   "metadata": {},
   "outputs": [],
   "source": [
    "import pyutil as pyu\n",
    "pyu.get_local_pyinfo()"
   ]
  },
  {
   "cell_type": "code",
   "execution_count": null,
   "id": "d39752a5",
   "metadata": {},
   "outputs": [],
   "source": [
    "print(pyu.ps2(\"python-dotenv\"))"
   ]
  },
  {
   "cell_type": "code",
   "execution_count": null,
   "id": "e343adfc",
   "metadata": {},
   "outputs": [],
   "source": [
    "from typing import List"
   ]
  },
  {
   "cell_type": "code",
   "execution_count": null,
   "id": "065f1010",
   "metadata": {},
   "outputs": [],
   "source": [
    "class Solution:\n",
    "  def commonChars(self, A: List[str]) -> List[str]:\n",
    "    ans = []\n",
    "    commonCount = [math.inf] * 26\n",
    "\n",
    "    for a in A:\n",
    "      count = [0] * 26\n",
    "      for c in a:\n",
    "        count[ord(c) - ord('a')] += 1\n",
    "      for i in range(26):\n",
    "        commonCount[i] = min(commonCount[i], count[i])\n",
    "\n",
    "    for c in string.ascii_lowercase:\n",
    "      for j in range(commonCount[ord(c) - ord('a')]):\n",
    "        ans.append(c)\n",
    "\n",
    "    return ans"
   ]
  },
  {
   "cell_type": "code",
   "execution_count": null,
   "id": "6e41df00",
   "metadata": {},
   "outputs": [],
   "source": [
    "new Solution().commonChars()"
   ]
  }
 ],
 "metadata": {},
 "nbformat": 4,
 "nbformat_minor": 5
}

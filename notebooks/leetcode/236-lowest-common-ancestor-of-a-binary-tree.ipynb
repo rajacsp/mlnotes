{
 "cells": [
  {
   "cell_type": "markdown",
   "id": "c0c25e10",
   "metadata": {},
   "source": [
    "https://leetcode.com/problems/lowest-common-ancestor-of-a-binary-tree"
   ]
  },
  {
   "cell_type": "code",
   "execution_count": null,
   "id": "59de1ba0",
   "metadata": {},
   "outputs": [],
   "source": [
    "import pyutil as pyu\n",
    "pyu.get_local_pyinfo()"
   ]
  },
  {
   "cell_type": "code",
   "execution_count": null,
   "id": "f86ad2f9",
   "metadata": {},
   "outputs": [],
   "source": [
    "print(pyu.ps2(\"python-dotenv\"))"
   ]
  },
  {
   "cell_type": "code",
   "execution_count": null,
   "id": "afa3368e",
   "metadata": {},
   "outputs": [],
   "source": [
    "from typing import List"
   ]
  },
  {
   "cell_type": "code",
   "execution_count": null,
   "id": "8c172547",
   "metadata": {},
   "outputs": [],
   "source": [
    "class Solution:\n",
    "  def lowestCommonAncestor(self, root: 'TreeNode', p: 'TreeNode', q: 'TreeNode') -> 'TreeNode':\n",
    "    if not root or root == p or root == q:\n",
    "      return root\n",
    "\n",
    "    l = self.lowestCommonAncestor(root.left, p, q)\n",
    "    r = self.lowestCommonAncestor(root.right, p, q)\n",
    "\n",
    "    if l and r:\n",
    "      return root\n",
    "    return l or r"
   ]
  },
  {
   "cell_type": "code",
   "execution_count": null,
   "id": "82369b9e",
   "metadata": {},
   "outputs": [],
   "source": [
    "new Solution().lowestCommonAncestor()"
   ]
  }
 ],
 "metadata": {},
 "nbformat": 4,
 "nbformat_minor": 5
}

{
 "cells": [
  {
   "cell_type": "markdown",
   "id": "038839b9",
   "metadata": {},
   "source": [
    "https://leetcode.com/problems/next-greater-element-i"
   ]
  },
  {
   "cell_type": "code",
   "execution_count": null,
   "id": "80a651c8",
   "metadata": {},
   "outputs": [],
   "source": [
    "import pyutil as pyu\n",
    "pyu.get_local_pyinfo()"
   ]
  },
  {
   "cell_type": "code",
   "execution_count": null,
   "id": "937e9492",
   "metadata": {},
   "outputs": [],
   "source": [
    "print(pyu.ps2(\"python-dotenv\"))"
   ]
  },
  {
   "cell_type": "code",
   "execution_count": null,
   "id": "6315227b",
   "metadata": {},
   "outputs": [],
   "source": [
    "from typing import List"
   ]
  },
  {
   "cell_type": "code",
   "execution_count": null,
   "id": "6a538c2a",
   "metadata": {},
   "outputs": [],
   "source": [
    "class Solution:\n",
    "  def nextGreaterElement(self, nums1: List[int], nums2: List[int]) -> List[int]:\n",
    "    numToNextGreater = {}\n",
    "    stack = []\n",
    "\n",
    "    for num in nums2:\n",
    "      while stack and stack[-1] < num:\n",
    "        numToNextGreater[stack.pop()] = num\n",
    "      stack.append(num)\n",
    "\n",
    "    return [numToNextGreater.get(num, -1) for num in nums1]"
   ]
  },
  {
   "cell_type": "code",
   "execution_count": null,
   "id": "9c65a0e0",
   "metadata": {},
   "outputs": [],
   "source": [
    "new Solution().nextGreaterElement()"
   ]
  }
 ],
 "metadata": {},
 "nbformat": 4,
 "nbformat_minor": 5
}

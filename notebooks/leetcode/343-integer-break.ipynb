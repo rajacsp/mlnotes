{
 "cells": [
  {
   "cell_type": "markdown",
   "id": "59149e3c",
   "metadata": {},
   "source": [
    "https://leetcode.com/problems/integer-break"
   ]
  },
  {
   "cell_type": "code",
   "execution_count": null,
   "id": "40808e52",
   "metadata": {},
   "outputs": [],
   "source": [
    "import pyutil as pyu\n",
    "pyu.get_local_pyinfo()"
   ]
  },
  {
   "cell_type": "code",
   "execution_count": null,
   "id": "19d7ca7b",
   "metadata": {},
   "outputs": [],
   "source": [
    "print(pyu.ps2(\"python-dotenv\"))"
   ]
  },
  {
   "cell_type": "code",
   "execution_count": null,
   "id": "c0dbea8d",
   "metadata": {},
   "outputs": [],
   "source": [
    "from typing import List"
   ]
  },
  {
   "cell_type": "code",
   "execution_count": null,
   "id": "077b8957",
   "metadata": {},
   "outputs": [],
   "source": [
    "class Solution:\n",
    "  def integerBreak(self, n: int) -> int:\n",
    "    if n == 2:\n",
    "      return 1\n",
    "    if n == 3:\n",
    "      return 2\n",
    "\n",
    "    ans = 1\n",
    "\n",
    "    while n > 4:\n",
    "      n -= 3\n",
    "      ans *= 3\n",
    "    ans *= n\n",
    "\n",
    "    return ans"
   ]
  },
  {
   "cell_type": "code",
   "execution_count": null,
   "id": "17a476eb",
   "metadata": {},
   "outputs": [],
   "source": [
    "new Solution().integerBreak()"
   ]
  }
 ],
 "metadata": {},
 "nbformat": 4,
 "nbformat_minor": 5
}

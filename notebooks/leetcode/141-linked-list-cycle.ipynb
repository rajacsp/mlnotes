{
 "cells": [
  {
   "cell_type": "markdown",
   "id": "519194fb",
   "metadata": {},
   "source": [
    "https://leetcode.com/problems/linked-list-cycle"
   ]
  },
  {
   "cell_type": "code",
   "execution_count": null,
   "id": "7706771d",
   "metadata": {},
   "outputs": [],
   "source": [
    "import pyutil as pyu\n",
    "pyu.get_local_pyinfo()"
   ]
  },
  {
   "cell_type": "code",
   "execution_count": null,
   "id": "734df2b7",
   "metadata": {},
   "outputs": [],
   "source": [
    "print(pyu.ps2(\"python-dotenv\"))"
   ]
  },
  {
   "cell_type": "code",
   "execution_count": null,
   "id": "84bacc70",
   "metadata": {},
   "outputs": [],
   "source": [
    "from typing import List"
   ]
  },
  {
   "cell_type": "code",
   "execution_count": null,
   "id": "2c385003",
   "metadata": {},
   "outputs": [],
   "source": [
    "class Solution:\n",
    "  def hasCycle(self, head: ListNode) -> bool:\n",
    "    slow = head\n",
    "    fast = head\n",
    "\n",
    "    while fast and fast.next:\n",
    "      slow = slow.next\n",
    "      fast = fast.next.next\n",
    "      if slow == fast:\n",
    "        return True\n",
    "\n",
    "    return False"
   ]
  },
  {
   "cell_type": "code",
   "execution_count": null,
   "id": "b25971b9",
   "metadata": {},
   "outputs": [],
   "source": [
    "new Solution().hasCycle()"
   ]
  }
 ],
 "metadata": {},
 "nbformat": 4,
 "nbformat_minor": 5
}

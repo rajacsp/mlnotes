{
 "cells": [
  {
   "cell_type": "markdown",
   "id": "04dc8328",
   "metadata": {},
   "source": [
    "https://leetcode.com/problems/available-captures-for-rook"
   ]
  },
  {
   "cell_type": "code",
   "execution_count": null,
   "id": "99beb0c1",
   "metadata": {},
   "outputs": [],
   "source": [
    "import pyutil as pyu\n",
    "pyu.get_local_pyinfo()"
   ]
  },
  {
   "cell_type": "code",
   "execution_count": null,
   "id": "a34a682f",
   "metadata": {},
   "outputs": [],
   "source": [
    "print(pyu.ps2(\"python-dotenv\"))"
   ]
  },
  {
   "cell_type": "code",
   "execution_count": null,
   "id": "49a88b00",
   "metadata": {},
   "outputs": [],
   "source": [
    "from typing import List"
   ]
  },
  {
   "cell_type": "code",
   "execution_count": null,
   "id": "5b72a05d",
   "metadata": {},
   "outputs": [],
   "source": [
    "class Solution:\n",
    "  def numRookCaptures(self, board: List[List[str]]) -> int:\n",
    "    ans = 0\n",
    "\n",
    "    for i in range(8):\n",
    "      for j in range(8):\n",
    "        if board[i][j] == 'R':\n",
    "          i0 = i\n",
    "          j0 = j\n",
    "\n",
    "    for d in [[1, 0], [0, 1], [-1, 0], [0, -1]]:\n",
    "      i = i0 + d[0]\n",
    "      j = j0 + d[1]\n",
    "      while 0 <= i < 8 and 0 <= j < 8:\n",
    "        if board[i][j] == 'p':\n",
    "          ans += 1\n",
    "        if board[i][j] != '.':\n",
    "          break\n",
    "        i += d[0]\n",
    "        j += d[1]\n",
    "\n",
    "    return ans"
   ]
  },
  {
   "cell_type": "code",
   "execution_count": null,
   "id": "13b4b53f",
   "metadata": {},
   "outputs": [],
   "source": [
    "new Solution().numRookCaptures()"
   ]
  }
 ],
 "metadata": {},
 "nbformat": 4,
 "nbformat_minor": 5
}

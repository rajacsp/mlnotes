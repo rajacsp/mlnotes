{
 "cells": [
  {
   "cell_type": "markdown",
   "id": "f89108ee",
   "metadata": {},
   "source": [
    "https://leetcode.com/problems/self-crossing"
   ]
  },
  {
   "cell_type": "code",
   "execution_count": null,
   "id": "dcd324f4",
   "metadata": {},
   "outputs": [],
   "source": [
    "import pyutil as pyu\n",
    "pyu.get_local_pyinfo()"
   ]
  },
  {
   "cell_type": "code",
   "execution_count": null,
   "id": "7c460d5b",
   "metadata": {},
   "outputs": [],
   "source": [
    "print(pyu.ps2(\"python-dotenv\"))"
   ]
  },
  {
   "cell_type": "code",
   "execution_count": null,
   "id": "3ed118b7",
   "metadata": {},
   "outputs": [],
   "source": [
    "from typing import List"
   ]
  },
  {
   "cell_type": "code",
   "execution_count": null,
   "id": "9f485f83",
   "metadata": {},
   "outputs": [],
   "source": [
    "class Solution:\n",
    "  def isSelfCrossing(self, x: List[int]) -> bool:\n",
    "    if len(x) <= 3:\n",
    "      return False\n",
    "\n",
    "    for i in range(3, len(x)):\n",
    "      if x[i - 2] <= x[i] and x[i - 1] <= x[i - 3]:\n",
    "        return True\n",
    "      if i >= 4 and x[i - 1] == x[i - 3] and x[i - 2] <= x[i] + x[i - 4]:\n",
    "        return True\n",
    "      if i >= 5 and x[i - 4] <= x[i - 2] and x[i - 2] <= x[i] + x[i - 4] and x[i - 1] <= x[i - 3] and x[i - 3] <= x[i - 1] + x[i - 5]:\n",
    "        return True\n",
    "\n",
    "    return False"
   ]
  },
  {
   "cell_type": "code",
   "execution_count": null,
   "id": "fbc5ce33",
   "metadata": {},
   "outputs": [],
   "source": [
    "new Solution().isSelfCrossing()"
   ]
  }
 ],
 "metadata": {},
 "nbformat": 4,
 "nbformat_minor": 5
}

{
 "cells": [
  {
   "cell_type": "markdown",
   "id": "aea64143",
   "metadata": {},
   "source": [
    "https://leetcode.com/problems/invert-binary-tree"
   ]
  },
  {
   "cell_type": "code",
   "execution_count": null,
   "id": "5453e0bd",
   "metadata": {},
   "outputs": [],
   "source": [
    "import pyutil as pyu\n",
    "pyu.get_local_pyinfo()"
   ]
  },
  {
   "cell_type": "code",
   "execution_count": null,
   "id": "1ff2a6cb",
   "metadata": {},
   "outputs": [],
   "source": [
    "print(pyu.ps2(\"python-dotenv\"))"
   ]
  },
  {
   "cell_type": "code",
   "execution_count": null,
   "id": "e02097c0",
   "metadata": {},
   "outputs": [],
   "source": [
    "from typing import List"
   ]
  },
  {
   "cell_type": "code",
   "execution_count": null,
   "id": "abe2a6d2",
   "metadata": {},
   "outputs": [],
   "source": [
    "class Solution:\n",
    "  def invertTree(self, root: Optional[TreeNode]) -> Optional[TreeNode]:\n",
    "    if not root:\n",
    "      return None\n",
    "\n",
    "    left = root.left\n",
    "    right = root.right\n",
    "    root.left = self.invertTree(right)\n",
    "    root.right = self.invertTree(left)\n",
    "    return root"
   ]
  },
  {
   "cell_type": "code",
   "execution_count": null,
   "id": "41f32b45",
   "metadata": {},
   "outputs": [],
   "source": [
    "new Solution().invertTree()"
   ]
  }
 ],
 "metadata": {},
 "nbformat": 4,
 "nbformat_minor": 5
}

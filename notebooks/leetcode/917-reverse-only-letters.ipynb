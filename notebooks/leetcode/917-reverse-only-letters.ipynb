{
 "cells": [
  {
   "cell_type": "markdown",
   "id": "5673224f",
   "metadata": {},
   "source": [
    "https://leetcode.com/problems/reverse-only-letters"
   ]
  },
  {
   "cell_type": "code",
   "execution_count": null,
   "id": "c9ff2b66",
   "metadata": {},
   "outputs": [],
   "source": [
    "import pyutil as pyu\n",
    "pyu.get_local_pyinfo()"
   ]
  },
  {
   "cell_type": "code",
   "execution_count": null,
   "id": "4ae5ad98",
   "metadata": {},
   "outputs": [],
   "source": [
    "print(pyu.ps2(\"python-dotenv\"))"
   ]
  },
  {
   "cell_type": "code",
   "execution_count": null,
   "id": "04f52689",
   "metadata": {},
   "outputs": [],
   "source": [
    "from typing import List"
   ]
  },
  {
   "cell_type": "code",
   "execution_count": null,
   "id": "e969d451",
   "metadata": {},
   "outputs": [],
   "source": [
    "class Solution:\n",
    "  def reverseOnlyLetters(self, S: str) -> str:\n",
    "    S = list(S)\n",
    "    i = 0\n",
    "    j = len(S) - 1\n",
    "\n",
    "    while i < j:\n",
    "      while i < j and not S[i].isalpha():\n",
    "        i += 1\n",
    "      while i < j and not S[j].isalpha():\n",
    "        j -= 1\n",
    "      S[i], S[j] = S[j], S[i]\n",
    "      i += 1\n",
    "      j -= 1\n",
    "\n",
    "    return ''.join(S)"
   ]
  },
  {
   "cell_type": "code",
   "execution_count": null,
   "id": "dcf84c46",
   "metadata": {},
   "outputs": [],
   "source": [
    "new Solution().reverseOnlyLetters()"
   ]
  }
 ],
 "metadata": {},
 "nbformat": 4,
 "nbformat_minor": 5
}

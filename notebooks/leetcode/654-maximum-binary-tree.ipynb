{
 "cells": [
  {
   "cell_type": "markdown",
   "id": "7acdd5d3",
   "metadata": {},
   "source": [
    "https://leetcode.com/problems/maximum-binary-tree"
   ]
  },
  {
   "cell_type": "code",
   "execution_count": null,
   "id": "df17392e",
   "metadata": {},
   "outputs": [],
   "source": [
    "import pyutil as pyu\n",
    "pyu.get_local_pyinfo()"
   ]
  },
  {
   "cell_type": "code",
   "execution_count": null,
   "id": "a6a34367",
   "metadata": {},
   "outputs": [],
   "source": [
    "print(pyu.ps2(\"python-dotenv\"))"
   ]
  },
  {
   "cell_type": "code",
   "execution_count": null,
   "id": "730e4a56",
   "metadata": {},
   "outputs": [],
   "source": [
    "from typing import List"
   ]
  },
  {
   "cell_type": "code",
   "execution_count": null,
   "id": "d79b7750",
   "metadata": {},
   "outputs": [],
   "source": [
    "class Solution:\n",
    "  def constructMaximumBinaryTree(self, nums: List[int]) -> Optional[TreeNode]:\n",
    "    def build(i: int, j: int) -> Optional[TreeNode]:\n",
    "      if i > j:\n",
    "        return None\n",
    "\n",
    "      maxNum = max(nums[i:j + 1])\n",
    "      maxIndex = nums.index(maxNum)\n",
    "\n",
    "      root = TreeNode(maxNum)\n",
    "      root.left = build(i, maxIndex - 1)\n",
    "      root.right = build(maxIndex + 1, j)\n",
    "      return root\n",
    "\n",
    "    return build(0, len(nums) - 1)"
   ]
  },
  {
   "cell_type": "code",
   "execution_count": null,
   "id": "58b86bbb",
   "metadata": {},
   "outputs": [],
   "source": [
    "new Solution().constructMaximumBinaryTree()"
   ]
  }
 ],
 "metadata": {},
 "nbformat": 4,
 "nbformat_minor": 5
}

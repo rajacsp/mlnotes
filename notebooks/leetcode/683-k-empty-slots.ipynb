{
 "cells": [
  {
   "cell_type": "markdown",
   "id": "827d1360",
   "metadata": {},
   "source": [
    "https://leetcode.com/problems/k-empty-slots"
   ]
  },
  {
   "cell_type": "code",
   "execution_count": null,
   "id": "6fb70840",
   "metadata": {},
   "outputs": [],
   "source": [
    "import pyutil as pyu\n",
    "pyu.get_local_pyinfo()"
   ]
  },
  {
   "cell_type": "code",
   "execution_count": null,
   "id": "5072b65e",
   "metadata": {},
   "outputs": [],
   "source": [
    "print(pyu.ps2(\"python-dotenv\"))"
   ]
  },
  {
   "cell_type": "code",
   "execution_count": null,
   "id": "92fbbc86",
   "metadata": {},
   "outputs": [],
   "source": [
    "from typing import List"
   ]
  },
  {
   "cell_type": "code",
   "execution_count": null,
   "id": "48acfcc4",
   "metadata": {},
   "outputs": [],
   "source": [
    "class Solution:\n",
    "  def kEmptySlots(self, bulbs: List[int], k: int) -> int:\n",
    "    n = len(bulbs)\n",
    "    ans = math.inf\n",
    "    # day[i] := the day when bulbs[i] is turned on\n",
    "    day = [0] * n\n",
    "\n",
    "    for i, bulb in enumerate(bulbs):\n",
    "      day[bulb - 1] = i + 1\n",
    "\n",
    "    # Find a subarray of day[l..r], where its length is k + 2\n",
    "    # For all that l < i < r, day[i] > max(day[l], day[r])\n",
    "    l = 0\n",
    "    r = l + k + 1\n",
    "    i = 1\n",
    "    while r < n:\n",
    "      if i == r:\n",
    "        ans = min(ans, max(day[l], day[r]))\n",
    "        l = i\n",
    "        r = i + k + 1\n",
    "      elif day[i] < max(day[l], day[r]):\n",
    "        l = i\n",
    "        r = i + k + 1\n",
    "      i += 1\n",
    "\n",
    "    return -1 if ans == math.inf else ans"
   ]
  },
  {
   "cell_type": "code",
   "execution_count": null,
   "id": "a028013c",
   "metadata": {},
   "outputs": [],
   "source": [
    "new Solution().kEmptySlots()"
   ]
  }
 ],
 "metadata": {},
 "nbformat": 4,
 "nbformat_minor": 5
}

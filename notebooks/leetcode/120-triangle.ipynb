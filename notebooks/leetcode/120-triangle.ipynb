{
 "cells": [
  {
   "cell_type": "markdown",
   "id": "182d6670",
   "metadata": {},
   "source": [
    "https://leetcode.com/problems/triangle"
   ]
  },
  {
   "cell_type": "code",
   "execution_count": null,
   "id": "eb06c3e7",
   "metadata": {},
   "outputs": [],
   "source": [
    "import pyutil as pyu\n",
    "pyu.get_local_pyinfo()"
   ]
  },
  {
   "cell_type": "code",
   "execution_count": null,
   "id": "8d145630",
   "metadata": {},
   "outputs": [],
   "source": [
    "print(pyu.ps2(\"python-dotenv\"))"
   ]
  },
  {
   "cell_type": "code",
   "execution_count": null,
   "id": "7d156d7a",
   "metadata": {},
   "outputs": [],
   "source": [
    "from typing import List"
   ]
  },
  {
   "cell_type": "code",
   "execution_count": null,
   "id": "61d63f38",
   "metadata": {},
   "outputs": [],
   "source": [
    "class Solution:\n",
    "  def minimumTotal(self, triangle: List[List[int]]) -> int:\n",
    "    for i in reversed(range(len(triangle) - 1)):\n",
    "      for j in range(i + 1):\n",
    "        triangle[i][j] += min(triangle[i + 1][j],\n",
    "                              triangle[i + 1][j + 1])\n",
    "\n",
    "    return triangle[0][0]"
   ]
  },
  {
   "cell_type": "code",
   "execution_count": null,
   "id": "bb76425f",
   "metadata": {},
   "outputs": [],
   "source": [
    "new Solution().minimumTotal()"
   ]
  }
 ],
 "metadata": {},
 "nbformat": 4,
 "nbformat_minor": 5
}

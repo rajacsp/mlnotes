{
 "cells": [
  {
   "cell_type": "markdown",
   "id": "494cfef0",
   "metadata": {},
   "source": [
    "https://leetcode.com/problems/maximum-length-of-repeated-subarray"
   ]
  },
  {
   "cell_type": "code",
   "execution_count": null,
   "id": "6f9077bd",
   "metadata": {},
   "outputs": [],
   "source": [
    "import pyutil as pyu\n",
    "pyu.get_local_pyinfo()"
   ]
  },
  {
   "cell_type": "code",
   "execution_count": null,
   "id": "d4c2e549",
   "metadata": {},
   "outputs": [],
   "source": [
    "print(pyu.ps2(\"python-dotenv\"))"
   ]
  },
  {
   "cell_type": "code",
   "execution_count": null,
   "id": "b3d1a873",
   "metadata": {},
   "outputs": [],
   "source": [
    "from typing import List"
   ]
  },
  {
   "cell_type": "code",
   "execution_count": null,
   "id": "061c77e1",
   "metadata": {},
   "outputs": [],
   "source": [
    "class Solution:\n",
    "  def findLength(self, nums1: List[int], nums2: List[int]) -> int:\n",
    "    m = len(nums1)\n",
    "    n = len(nums2)\n",
    "    ans = 0\n",
    "    # dp[i][j] := max length of nums1[i:] and nums2[j:]\n",
    "    dp = [[0] * (n + 1) for _ in range(m + 1)]\n",
    "\n",
    "    for i in reversed(range(m)):\n",
    "      for j in reversed(range(n)):\n",
    "        if nums1[i] == nums2[j]:\n",
    "          dp[i][j] = dp[i + 1][j + 1] + 1\n",
    "          ans = max(ans, dp[i][j])\n",
    "\n",
    "    return ans"
   ]
  },
  {
   "cell_type": "code",
   "execution_count": null,
   "id": "6d6f8c73",
   "metadata": {},
   "outputs": [],
   "source": [
    "new Solution().findLength()"
   ]
  }
 ],
 "metadata": {},
 "nbformat": 4,
 "nbformat_minor": 5
}

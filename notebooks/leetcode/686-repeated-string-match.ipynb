{
 "cells": [
  {
   "cell_type": "markdown",
   "id": "a6552bbb",
   "metadata": {},
   "source": [
    "https://leetcode.com/problems/repeated-string-match"
   ]
  },
  {
   "cell_type": "code",
   "execution_count": null,
   "id": "9722cfb9",
   "metadata": {},
   "outputs": [],
   "source": [
    "import pyutil as pyu\n",
    "pyu.get_local_pyinfo()"
   ]
  },
  {
   "cell_type": "code",
   "execution_count": null,
   "id": "f19bd4aa",
   "metadata": {},
   "outputs": [],
   "source": [
    "print(pyu.ps2(\"python-dotenv\"))"
   ]
  },
  {
   "cell_type": "code",
   "execution_count": null,
   "id": "2662b11b",
   "metadata": {},
   "outputs": [],
   "source": [
    "from typing import List"
   ]
  },
  {
   "cell_type": "code",
   "execution_count": null,
   "id": "002a55a3",
   "metadata": {},
   "outputs": [],
   "source": [
    "class Solution:\n",
    "  def repeatedStringMatch(self, a: str, b: str) -> int:\n",
    "    n = ceil(len(b) / len(a))\n",
    "    s = a * n\n",
    "    if b in s:\n",
    "      return n\n",
    "    if b in s + a:\n",
    "      return n + 1\n",
    "    return -1"
   ]
  },
  {
   "cell_type": "code",
   "execution_count": null,
   "id": "d2f98a7f",
   "metadata": {},
   "outputs": [],
   "source": [
    "new Solution().repeatedStringMatch()"
   ]
  }
 ],
 "metadata": {},
 "nbformat": 4,
 "nbformat_minor": 5
}

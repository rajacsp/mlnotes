{
 "cells": [
  {
   "cell_type": "markdown",
   "id": "7ece257b",
   "metadata": {},
   "source": [
    "https://leetcode.com/problems/partition-array-into-disjoint-intervals"
   ]
  },
  {
   "cell_type": "code",
   "execution_count": null,
   "id": "23fef086",
   "metadata": {},
   "outputs": [],
   "source": [
    "import pyutil as pyu\n",
    "pyu.get_local_pyinfo()"
   ]
  },
  {
   "cell_type": "code",
   "execution_count": null,
   "id": "2baac721",
   "metadata": {},
   "outputs": [],
   "source": [
    "print(pyu.ps2(\"python-dotenv\"))"
   ]
  },
  {
   "cell_type": "code",
   "execution_count": null,
   "id": "8ae2f100",
   "metadata": {},
   "outputs": [],
   "source": [
    "from typing import List"
   ]
  },
  {
   "cell_type": "code",
   "execution_count": null,
   "id": "4621f4fa",
   "metadata": {},
   "outputs": [],
   "source": [
    "class Solution:\n",
    "  def partitionDisjoint(self, A: List[int]) -> int:\n",
    "    n = len(A)\n",
    "    mini = [0] * (n - 1) + [A[-1]]\n",
    "    maxi = -math.inf\n",
    "\n",
    "    for i in range(n - 2, - 1, -1):\n",
    "      mini[i] = min(mini[i + 1], A[i])\n",
    "\n",
    "    for i, a in enumerate(A):\n",
    "      maxi = max(maxi, a)\n",
    "      if maxi <= mini[i + 1]:\n",
    "        return i + 1"
   ]
  },
  {
   "cell_type": "code",
   "execution_count": null,
   "id": "65707371",
   "metadata": {},
   "outputs": [],
   "source": [
    "new Solution().partitionDisjoint()"
   ]
  }
 ],
 "metadata": {},
 "nbformat": 4,
 "nbformat_minor": 5
}

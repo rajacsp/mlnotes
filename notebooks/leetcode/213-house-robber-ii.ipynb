{
 "cells": [
  {
   "cell_type": "markdown",
   "id": "36cd9d0e",
   "metadata": {},
   "source": [
    "https://leetcode.com/problems/house-robber-ii"
   ]
  },
  {
   "cell_type": "code",
   "execution_count": null,
   "id": "8bf7c1b5",
   "metadata": {},
   "outputs": [],
   "source": [
    "import pyutil as pyu\n",
    "pyu.get_local_pyinfo()"
   ]
  },
  {
   "cell_type": "code",
   "execution_count": null,
   "id": "98781358",
   "metadata": {},
   "outputs": [],
   "source": [
    "print(pyu.ps2(\"python-dotenv\"))"
   ]
  },
  {
   "cell_type": "code",
   "execution_count": null,
   "id": "cace0de5",
   "metadata": {},
   "outputs": [],
   "source": [
    "from typing import List"
   ]
  },
  {
   "cell_type": "code",
   "execution_count": null,
   "id": "183342c5",
   "metadata": {},
   "outputs": [],
   "source": [
    "class Solution:\n",
    "  def rob(self, nums: List[int]) -> int:\n",
    "    if not nums:\n",
    "      return 0\n",
    "    if len(nums) < 2:\n",
    "      return nums[0]\n",
    "\n",
    "    def rob(l: int, r: int) -> int:\n",
    "      dp1 = 0\n",
    "      dp2 = 0\n",
    "\n",
    "      for i in range(l, r + 1):\n",
    "        temp = dp1\n",
    "        dp1 = max(dp1, dp2 + nums[i])\n",
    "        dp2 = temp\n",
    "\n",
    "      return dp1\n",
    "\n",
    "    return max(rob(0, len(nums) - 2),\n",
    "               rob(1, len(nums) - 1))"
   ]
  },
  {
   "cell_type": "code",
   "execution_count": null,
   "id": "c456c664",
   "metadata": {},
   "outputs": [],
   "source": [
    "new Solution().rob()"
   ]
  }
 ],
 "metadata": {},
 "nbformat": 4,
 "nbformat_minor": 5
}

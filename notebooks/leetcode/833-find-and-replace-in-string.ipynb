{
 "cells": [
  {
   "cell_type": "markdown",
   "id": "e7f4a159",
   "metadata": {},
   "source": [
    "https://leetcode.com/problems/find-and-replace-in-string"
   ]
  },
  {
   "cell_type": "code",
   "execution_count": null,
   "id": "1c2d5102",
   "metadata": {},
   "outputs": [],
   "source": [
    "import pyutil as pyu\n",
    "pyu.get_local_pyinfo()"
   ]
  },
  {
   "cell_type": "code",
   "execution_count": null,
   "id": "7ed377a1",
   "metadata": {},
   "outputs": [],
   "source": [
    "print(pyu.ps2(\"python-dotenv\"))"
   ]
  },
  {
   "cell_type": "code",
   "execution_count": null,
   "id": "7792b5d2",
   "metadata": {},
   "outputs": [],
   "source": [
    "from typing import List"
   ]
  },
  {
   "cell_type": "code",
   "execution_count": null,
   "id": "bb21b3ba",
   "metadata": {},
   "outputs": [],
   "source": [
    "class Solution:\n",
    "  def findReplaceString(self, s: str, indexes: List[int],\n",
    "                        sources: List[str], targets: List[str]) -> str:\n",
    "    for index, source, target in sorted(zip(indexes, sources, targets), reverse=True):\n",
    "      if s[index:index + len(source)] == source:\n",
    "        s = s[:index] + target + s[index + len(source):]\n",
    "    return s"
   ]
  },
  {
   "cell_type": "code",
   "execution_count": null,
   "id": "8e7b56b4",
   "metadata": {},
   "outputs": [],
   "source": [
    "new Solution().findReplaceString()"
   ]
  }
 ],
 "metadata": {},
 "nbformat": 4,
 "nbformat_minor": 5
}

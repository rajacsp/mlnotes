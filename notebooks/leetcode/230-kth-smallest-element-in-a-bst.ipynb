{
 "cells": [
  {
   "cell_type": "markdown",
   "id": "c8c8ce54",
   "metadata": {},
   "source": [
    "https://leetcode.com/problems/kth-smallest-element-in-a-bst"
   ]
  },
  {
   "cell_type": "code",
   "execution_count": null,
   "id": "d9568728",
   "metadata": {},
   "outputs": [],
   "source": [
    "import pyutil as pyu\n",
    "pyu.get_local_pyinfo()"
   ]
  },
  {
   "cell_type": "code",
   "execution_count": null,
   "id": "b2bb39c1",
   "metadata": {},
   "outputs": [],
   "source": [
    "print(pyu.ps2(\"python-dotenv\"))"
   ]
  },
  {
   "cell_type": "code",
   "execution_count": null,
   "id": "91481276",
   "metadata": {},
   "outputs": [],
   "source": [
    "from typing import List"
   ]
  },
  {
   "cell_type": "code",
   "execution_count": null,
   "id": "416b0b67",
   "metadata": {},
   "outputs": [],
   "source": [
    "class Solution:\n",
    "  def kthSmallest(self, root: Optional[TreeNode], k: int) -> int:\n",
    "    def countNodes(root: Optional[TreeNode]) -> int:\n",
    "      if not root:\n",
    "        return 0\n",
    "      return 1 + countNodes(root.left) + countNodes(root.right)\n",
    "\n",
    "    leftCount = countNodes(root.left)\n",
    "\n",
    "    if leftCount == k - 1:\n",
    "      return root.val\n",
    "    if leftCount >= k:\n",
    "      return self.kthSmallest(root.left, k)\n",
    "    return self.kthSmallest(root.right, k - 1 - leftCount)  # LeftCount < k"
   ]
  },
  {
   "cell_type": "code",
   "execution_count": null,
   "id": "d51f836b",
   "metadata": {},
   "outputs": [],
   "source": [
    "new Solution().kthSmallest()"
   ]
  }
 ],
 "metadata": {},
 "nbformat": 4,
 "nbformat_minor": 5
}

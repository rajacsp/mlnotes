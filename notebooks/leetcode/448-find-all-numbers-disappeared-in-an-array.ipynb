{
 "cells": [
  {
   "cell_type": "markdown",
   "id": "89dec2b4",
   "metadata": {},
   "source": [
    "https://leetcode.com/problems/find-all-numbers-disappeared-in-an-array"
   ]
  },
  {
   "cell_type": "code",
   "execution_count": null,
   "id": "bf0d1a70",
   "metadata": {},
   "outputs": [],
   "source": [
    "import pyutil as pyu\n",
    "pyu.get_local_pyinfo()"
   ]
  },
  {
   "cell_type": "code",
   "execution_count": null,
   "id": "bd99274e",
   "metadata": {},
   "outputs": [],
   "source": [
    "print(pyu.ps2(\"python-dotenv\"))"
   ]
  },
  {
   "cell_type": "code",
   "execution_count": null,
   "id": "ccdb6649",
   "metadata": {},
   "outputs": [],
   "source": [
    "from typing import List"
   ]
  },
  {
   "cell_type": "code",
   "execution_count": null,
   "id": "e6d85f92",
   "metadata": {},
   "outputs": [],
   "source": [
    "class Solution:\n",
    "  def findDisappearedNumbers(self, nums: List[int]) -> List[int]:\n",
    "    for num in nums:\n",
    "      index = abs(num) - 1\n",
    "      nums[index] = -abs(nums[index])\n",
    "\n",
    "    return [i + 1 for i, num in enumerate(nums) if num > 0]"
   ]
  },
  {
   "cell_type": "code",
   "execution_count": null,
   "id": "faed8096",
   "metadata": {},
   "outputs": [],
   "source": [
    "new Solution().findDisappearedNumbers()"
   ]
  }
 ],
 "metadata": {},
 "nbformat": 4,
 "nbformat_minor": 5
}

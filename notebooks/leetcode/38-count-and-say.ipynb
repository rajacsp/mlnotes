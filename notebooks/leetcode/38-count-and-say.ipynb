{
 "cells": [
  {
   "cell_type": "markdown",
   "id": "9c7446d2",
   "metadata": {},
   "source": [
    "https://leetcode.com/problems/count-and-say"
   ]
  },
  {
   "cell_type": "code",
   "execution_count": null,
   "id": "4a3b7251",
   "metadata": {},
   "outputs": [],
   "source": [
    "import pyutil as pyu\n",
    "pyu.get_local_pyinfo()"
   ]
  },
  {
   "cell_type": "code",
   "execution_count": null,
   "id": "d886d4a5",
   "metadata": {},
   "outputs": [],
   "source": [
    "print(pyu.ps2(\"python-dotenv\"))"
   ]
  },
  {
   "cell_type": "code",
   "execution_count": null,
   "id": "66381794",
   "metadata": {},
   "outputs": [],
   "source": [
    "from typing import List"
   ]
  },
  {
   "cell_type": "code",
   "execution_count": null,
   "id": "6568212c",
   "metadata": {},
   "outputs": [],
   "source": [
    "class Solution:\n",
    "  def countAndSay(self, n: int) -> str:\n",
    "    ans = '1'\n",
    "\n",
    "    for _ in range(n - 1):\n",
    "      nxt = ''\n",
    "      i = 0\n",
    "      while i < len(ans):\n",
    "        count = 1\n",
    "        while i + 1 < len(ans) and ans[i] == ans[i + 1]:\n",
    "          count += 1\n",
    "          i += 1\n",
    "        nxt += str(count) + ans[i]\n",
    "        i += 1\n",
    "      ans = nxt\n",
    "\n",
    "    return ans"
   ]
  },
  {
   "cell_type": "code",
   "execution_count": null,
   "id": "ba994d77",
   "metadata": {},
   "outputs": [],
   "source": [
    "new Solution().countAndSay()"
   ]
  }
 ],
 "metadata": {},
 "nbformat": 4,
 "nbformat_minor": 5
}

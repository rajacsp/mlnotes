{
 "cells": [
  {
   "cell_type": "markdown",
   "id": "e2592da6",
   "metadata": {},
   "source": [
    "https://leetcode.com/problems/minimum-area-rectangle-ii"
   ]
  },
  {
   "cell_type": "code",
   "execution_count": null,
   "id": "7922df29",
   "metadata": {},
   "outputs": [],
   "source": [
    "import pyutil as pyu\n",
    "pyu.get_local_pyinfo()"
   ]
  },
  {
   "cell_type": "code",
   "execution_count": null,
   "id": "9a0ea6eb",
   "metadata": {},
   "outputs": [],
   "source": [
    "print(pyu.ps2(\"python-dotenv\"))"
   ]
  },
  {
   "cell_type": "code",
   "execution_count": null,
   "id": "9eeb5314",
   "metadata": {},
   "outputs": [],
   "source": [
    "from typing import List"
   ]
  },
  {
   "cell_type": "code",
   "execution_count": null,
   "id": "38606403",
   "metadata": {},
   "outputs": [],
   "source": [
    "class Solution:\n",
    "  def minAreaFreeRect(self, points: List[List[int]]) -> float:\n",
    "    ans = math.inf\n",
    "    # For each A, B pair points, {hash(A, B): (ax, ay, bx, by)}\n",
    "    centerToPoints = defaultdict(list)\n",
    "\n",
    "    for ax, ay in points:\n",
    "      for bx, by in points:\n",
    "        center = ((ax + bx) / 2, (ay + by) / 2)\n",
    "        centerToPoints[center].append((ax, ay, bx, by))\n",
    "\n",
    "    def dist(px: int, py: int, qx: int, qy: int) -> float:\n",
    "      return (px - qx)**2 + (py - qy)**2\n",
    "\n",
    "    # For all pair points \"that share the same center\"\n",
    "    for points in centerToPoints.values():\n",
    "      for ax, ay, _, _ in points:\n",
    "        for cx, cy, dx, dy in points:\n",
    "          # AC is perpendicular to AD\n",
    "          # AC dot AD = (cx - ax, cy - ay) dot (dx - ax, dy - ay) == 0\n",
    "          if (cx - ax) * (dx - ax) + (cy - ay) * (dy - ay) == 0:\n",
    "            squaredArea = dist(ax, ay, cx, cy) * dist(ax, ay, dx, dy)\n",
    "            if squaredArea > 0:\n",
    "              ans = min(ans, squaredArea)\n",
    "\n",
    "    return 0 if ans == math.inf else sqrt(ans)"
   ]
  },
  {
   "cell_type": "code",
   "execution_count": null,
   "id": "8eb6cbd1",
   "metadata": {},
   "outputs": [],
   "source": [
    "new Solution().minAreaFreeRect()"
   ]
  }
 ],
 "metadata": {},
 "nbformat": 4,
 "nbformat_minor": 5
}

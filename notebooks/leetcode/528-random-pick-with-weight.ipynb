{
 "cells": [
  {
   "cell_type": "markdown",
   "id": "fb7cb975",
   "metadata": {},
   "source": [
    "https://leetcode.com/problems/random-pick-with-weight"
   ]
  },
  {
   "cell_type": "code",
   "execution_count": null,
   "id": "65cb14c6",
   "metadata": {},
   "outputs": [],
   "source": [
    "import pyutil as pyu\n",
    "pyu.get_local_pyinfo()"
   ]
  },
  {
   "cell_type": "code",
   "execution_count": null,
   "id": "35883c69",
   "metadata": {},
   "outputs": [],
   "source": [
    "print(pyu.ps2(\"python-dotenv\"))"
   ]
  },
  {
   "cell_type": "code",
   "execution_count": null,
   "id": "bf5fd20d",
   "metadata": {},
   "outputs": [],
   "source": [
    "from typing import List"
   ]
  },
  {
   "cell_type": "code",
   "execution_count": null,
   "id": "e8297cc0",
   "metadata": {},
   "outputs": [],
   "source": [
    "class Solution:\n",
    "  def __init__(self, w: List[int]):\n",
    "    self.prefix = list(itertools.accumulate(w))\n",
    "\n",
    "  def pickIndex(self) -> int:\n",
    "    target = randint(0, self.prefix[-1] - 1)\n",
    "    l = 0\n",
    "    r = len(self.prefix)\n",
    "\n",
    "    while l < r:\n",
    "      m = (l + r) // 2\n",
    "      if self.prefix[m] > target:\n",
    "        r = m\n",
    "      else:\n",
    "        l = m + 1\n",
    "\n",
    "    return l"
   ]
  },
  {
   "cell_type": "code",
   "execution_count": null,
   "id": "b38e5f2b",
   "metadata": {},
   "outputs": [],
   "source": [
    "new Solution().__init__()"
   ]
  }
 ],
 "metadata": {},
 "nbformat": 4,
 "nbformat_minor": 5
}

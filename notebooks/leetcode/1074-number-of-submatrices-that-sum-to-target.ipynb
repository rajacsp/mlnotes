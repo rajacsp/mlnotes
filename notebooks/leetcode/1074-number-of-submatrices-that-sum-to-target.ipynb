{
 "cells": [
  {
   "cell_type": "markdown",
   "id": "a1416253",
   "metadata": {},
   "source": [
    "https://leetcode.com/problems/number-of-submatrices-that-sum-to-target"
   ]
  },
  {
   "cell_type": "code",
   "execution_count": null,
   "id": "d238c64c",
   "metadata": {},
   "outputs": [],
   "source": [
    "import pyutil as pyu\n",
    "pyu.get_local_pyinfo()"
   ]
  },
  {
   "cell_type": "code",
   "execution_count": null,
   "id": "b6864dbb",
   "metadata": {},
   "outputs": [],
   "source": [
    "print(pyu.ps2(\"python-dotenv\"))"
   ]
  },
  {
   "cell_type": "code",
   "execution_count": null,
   "id": "0bbe29b4",
   "metadata": {},
   "outputs": [],
   "source": [
    "from typing import List"
   ]
  },
  {
   "cell_type": "code",
   "execution_count": null,
   "id": "bccb7adb",
   "metadata": {},
   "outputs": [],
   "source": [
    "class Solution:\n",
    "  def numSubmatrixSumTarget(self, matrix: List[List[int]], target: int) -> int:\n",
    "    m = len(matrix)\n",
    "    n = len(matrix[0])\n",
    "    ans = 0\n",
    "\n",
    "    # Transfer each row of matrix to prefix sum\n",
    "    for row in matrix:\n",
    "      for i in range(1, n):\n",
    "        row[i] += row[i - 1]\n",
    "\n",
    "    for baseCol in range(n):\n",
    "      for j in range(baseCol, n):\n",
    "        prefixCount = Counter({0: 1})\n",
    "        summ = 0\n",
    "        for i in range(m):\n",
    "          if baseCol > 0:\n",
    "            summ -= matrix[i][baseCol - 1]\n",
    "          summ += matrix[i][j]\n",
    "          ans += prefixCount[summ - target]\n",
    "          prefixCount[summ] += 1\n",
    "\n",
    "    return ans"
   ]
  },
  {
   "cell_type": "code",
   "execution_count": null,
   "id": "c9e25f96",
   "metadata": {},
   "outputs": [],
   "source": [
    "new Solution().numSubmatrixSumTarget()"
   ]
  }
 ],
 "metadata": {},
 "nbformat": 4,
 "nbformat_minor": 5
}

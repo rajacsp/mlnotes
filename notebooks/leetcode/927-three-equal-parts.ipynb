{
 "cells": [
  {
   "cell_type": "markdown",
   "id": "42483838",
   "metadata": {},
   "source": [
    "https://leetcode.com/problems/three-equal-parts"
   ]
  },
  {
   "cell_type": "code",
   "execution_count": null,
   "id": "3ed30592",
   "metadata": {},
   "outputs": [],
   "source": [
    "import pyutil as pyu\n",
    "pyu.get_local_pyinfo()"
   ]
  },
  {
   "cell_type": "code",
   "execution_count": null,
   "id": "b956bb21",
   "metadata": {},
   "outputs": [],
   "source": [
    "print(pyu.ps2(\"python-dotenv\"))"
   ]
  },
  {
   "cell_type": "code",
   "execution_count": null,
   "id": "70fdb031",
   "metadata": {},
   "outputs": [],
   "source": [
    "from typing import List"
   ]
  },
  {
   "cell_type": "code",
   "execution_count": null,
   "id": "0cee84a1",
   "metadata": {},
   "outputs": [],
   "source": [
    "class Solution:\n",
    "  def threeEqualParts(self, A: List[int]) -> List[int]:\n",
    "    ones = sum(a == 1 for a in A)\n",
    "\n",
    "    if ones == 0:\n",
    "      return [0, len(A) - 1]\n",
    "    if ones % 3 != 0:\n",
    "      return [-1, -1]\n",
    "\n",
    "    k = ones // 3\n",
    "    i = 0\n",
    "\n",
    "    for i in range(len(A)):\n",
    "      if A[i] == 1:\n",
    "        first = i\n",
    "        break\n",
    "\n",
    "    gapOnes = k\n",
    "\n",
    "    for j in range(i + 1, len(A)):\n",
    "      if A[j] == 1:\n",
    "        gapOnes -= 1\n",
    "        if gapOnes == 0:\n",
    "          second = j\n",
    "          break\n",
    "\n",
    "    gapOnes = k\n",
    "\n",
    "    for i in range(j + 1, len(A)):\n",
    "      if A[i] == 1:\n",
    "        gapOnes -= 1\n",
    "        if gapOnes == 0:\n",
    "          third = i\n",
    "          break\n",
    "\n",
    "    while third < len(A) and A[first] == A[second] == A[third]:\n",
    "      first += 1\n",
    "      second += 1\n",
    "      third += 1\n",
    "\n",
    "    if third == len(A):\n",
    "      return [first - 1, second]\n",
    "    return [-1, -1]"
   ]
  },
  {
   "cell_type": "code",
   "execution_count": null,
   "id": "ec20e48e",
   "metadata": {},
   "outputs": [],
   "source": [
    "new Solution().threeEqualParts()"
   ]
  }
 ],
 "metadata": {},
 "nbformat": 4,
 "nbformat_minor": 5
}

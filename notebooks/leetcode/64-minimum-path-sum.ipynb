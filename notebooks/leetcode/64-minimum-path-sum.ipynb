{
 "cells": [
  {
   "cell_type": "markdown",
   "id": "25b15639",
   "metadata": {},
   "source": [
    "https://leetcode.com/problems/minimum-path-sum"
   ]
  },
  {
   "cell_type": "code",
   "execution_count": null,
   "id": "1e452976",
   "metadata": {},
   "outputs": [],
   "source": [
    "import pyutil as pyu\n",
    "pyu.get_local_pyinfo()"
   ]
  },
  {
   "cell_type": "code",
   "execution_count": null,
   "id": "06ac137a",
   "metadata": {},
   "outputs": [],
   "source": [
    "print(pyu.ps2(\"python-dotenv\"))"
   ]
  },
  {
   "cell_type": "code",
   "execution_count": null,
   "id": "e6138bd2",
   "metadata": {},
   "outputs": [],
   "source": [
    "from typing import List"
   ]
  },
  {
   "cell_type": "code",
   "execution_count": null,
   "id": "c35aba77",
   "metadata": {},
   "outputs": [],
   "source": [
    "class Solution:\n",
    "  def minPathSum(self, grid: List[List[int]]) -> int:\n",
    "    m = len(grid)\n",
    "    n = len(grid[0])\n",
    "\n",
    "    for i in range(m):\n",
    "      for j in range(n):\n",
    "        if i > 0 and j > 0:\n",
    "          grid[i][j] += min(grid[i - 1][j], grid[i][j - 1])\n",
    "        elif i > 0:\n",
    "          grid[i][0] += grid[i - 1][0]\n",
    "        elif j > 0:\n",
    "          grid[0][j] += grid[0][j - 1]\n",
    "\n",
    "    return grid[m - 1][n - 1]"
   ]
  },
  {
   "cell_type": "code",
   "execution_count": null,
   "id": "620d73f4",
   "metadata": {},
   "outputs": [],
   "source": [
    "new Solution().minPathSum()"
   ]
  }
 ],
 "metadata": {},
 "nbformat": 4,
 "nbformat_minor": 5
}

{
 "cells": [
  {
   "cell_type": "markdown",
   "id": "e2fb58bc",
   "metadata": {},
   "source": [
    "https://leetcode.com/problems/delete-node-in-a-bst"
   ]
  },
  {
   "cell_type": "code",
   "execution_count": null,
   "id": "0bdb4ea8",
   "metadata": {},
   "outputs": [],
   "source": [
    "import pyutil as pyu\n",
    "pyu.get_local_pyinfo()"
   ]
  },
  {
   "cell_type": "code",
   "execution_count": null,
   "id": "93893a9c",
   "metadata": {},
   "outputs": [],
   "source": [
    "print(pyu.ps2(\"python-dotenv\"))"
   ]
  },
  {
   "cell_type": "code",
   "execution_count": null,
   "id": "18c06448",
   "metadata": {},
   "outputs": [],
   "source": [
    "from typing import List"
   ]
  },
  {
   "cell_type": "code",
   "execution_count": null,
   "id": "aeb236c9",
   "metadata": {},
   "outputs": [],
   "source": [
    "class Solution:\n",
    "  def deleteNode(self, root: Optional[TreeNode], key: int) -> Optional[TreeNode]:\n",
    "    if not root:\n",
    "      return None\n",
    "    if root.val == key:\n",
    "      if not root.left:\n",
    "        return root.right\n",
    "      if not root.right:\n",
    "        return root.left\n",
    "      minNode = self._getMin(root.right)\n",
    "      root.right = self.deleteNode(root.right, minNode.val)\n",
    "      minNode.left = root.left\n",
    "      minNode.right = root.right\n",
    "      root = minNode\n",
    "    elif root.val < key:\n",
    "      root.right = self.deleteNode(root.right, key)\n",
    "    else:  # Root.val > key\n",
    "      root.left = self.deleteNode(root.left, key)\n",
    "    return root\n",
    "\n",
    "  def _getMin(self, node: Optional[TreeNode]) -> Optional[TreeNode]:\n",
    "    while node.left:\n",
    "      node = node.left\n",
    "    return node"
   ]
  },
  {
   "cell_type": "code",
   "execution_count": null,
   "id": "bdb5690b",
   "metadata": {},
   "outputs": [],
   "source": [
    "new Solution().deleteNode()"
   ]
  }
 ],
 "metadata": {},
 "nbformat": 4,
 "nbformat_minor": 5
}

{
 "cells": [
  {
   "cell_type": "markdown",
   "id": "4a3ca06a",
   "metadata": {},
   "source": [
    "https://leetcode.com/problems/3sum-closest"
   ]
  },
  {
   "cell_type": "code",
   "execution_count": null,
   "id": "48370f07",
   "metadata": {},
   "outputs": [],
   "source": [
    "import pyutil as pyu\n",
    "pyu.get_local_pyinfo()"
   ]
  },
  {
   "cell_type": "code",
   "execution_count": null,
   "id": "3ab30b05",
   "metadata": {},
   "outputs": [],
   "source": [
    "print(pyu.ps2(\"python-dotenv\"))"
   ]
  },
  {
   "cell_type": "code",
   "execution_count": null,
   "id": "14e20937",
   "metadata": {},
   "outputs": [],
   "source": [
    "from typing import List"
   ]
  },
  {
   "cell_type": "code",
   "execution_count": null,
   "id": "7b5fd5ee",
   "metadata": {},
   "outputs": [],
   "source": [
    "class Solution:\n",
    "  def threeSumClosest(self, nums: List[int], target: int) -> int:\n",
    "    ans = nums[0] + nums[1] + nums[2]\n",
    "\n",
    "    nums.sort()\n",
    "\n",
    "    for i in range(len(nums) - 2):\n",
    "      if i > 0 and nums[i] == nums[i - 1]:\n",
    "        continue\n",
    "      l = i + 1\n",
    "      r = len(nums) - 1\n",
    "      while l < r:\n",
    "        summ = nums[i] + nums[l] + nums[r]\n",
    "        if summ == target:\n",
    "          return summ\n",
    "        if abs(summ - target) < abs(ans - target):\n",
    "          ans = summ\n",
    "        if summ < target:\n",
    "          l += 1\n",
    "        else:\n",
    "          r -= 1\n",
    "\n",
    "    return ans"
   ]
  },
  {
   "cell_type": "code",
   "execution_count": null,
   "id": "a9146b28",
   "metadata": {},
   "outputs": [],
   "source": [
    "new Solution().threeSumClosest()"
   ]
  }
 ],
 "metadata": {},
 "nbformat": 4,
 "nbformat_minor": 5
}

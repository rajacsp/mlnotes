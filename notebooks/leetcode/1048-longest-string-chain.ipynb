{
 "cells": [
  {
   "cell_type": "markdown",
   "id": "dcbe5c1b",
   "metadata": {},
   "source": [
    "https://leetcode.com/problems/longest-string-chain"
   ]
  },
  {
   "cell_type": "code",
   "execution_count": null,
   "id": "1d99033e",
   "metadata": {},
   "outputs": [],
   "source": [
    "import pyutil as pyu\n",
    "pyu.get_local_pyinfo()"
   ]
  },
  {
   "cell_type": "code",
   "execution_count": null,
   "id": "70a59cf7",
   "metadata": {},
   "outputs": [],
   "source": [
    "print(pyu.ps2(\"python-dotenv\"))"
   ]
  },
  {
   "cell_type": "code",
   "execution_count": null,
   "id": "1bf5bc43",
   "metadata": {},
   "outputs": [],
   "source": [
    "from typing import List"
   ]
  },
  {
   "cell_type": "code",
   "execution_count": null,
   "id": "d3a3b9a8",
   "metadata": {},
   "outputs": [],
   "source": [
    "class Solution:\n",
    "  def longestStrChain(self, words: List[str]) -> int:\n",
    "    wordsSet = set(words)\n",
    "\n",
    "    # Dp(s) := longest chain where s is the last word\n",
    "    @functools.lru_cache(None)\n",
    "    def dp(s: str) -> int:\n",
    "      ans = 1\n",
    "      for i in range(len(s)):\n",
    "        pred = s[:i] + s[i + 1:]\n",
    "        if pred in wordsSet:\n",
    "          ans = max(ans, dp(pred) + 1)\n",
    "      return ans\n",
    "\n",
    "    return max(dp(word) for word in words)"
   ]
  },
  {
   "cell_type": "code",
   "execution_count": null,
   "id": "15ff7b1c",
   "metadata": {},
   "outputs": [],
   "source": [
    "new Solution().longestStrChain()"
   ]
  }
 ],
 "metadata": {},
 "nbformat": 4,
 "nbformat_minor": 5
}

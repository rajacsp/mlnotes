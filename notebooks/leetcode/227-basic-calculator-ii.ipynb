{
 "cells": [
  {
   "cell_type": "markdown",
   "id": "b931cdc3",
   "metadata": {},
   "source": [
    "https://leetcode.com/problems/basic-calculator-ii"
   ]
  },
  {
   "cell_type": "code",
   "execution_count": null,
   "id": "c0e5931a",
   "metadata": {},
   "outputs": [],
   "source": [
    "import pyutil as pyu\n",
    "pyu.get_local_pyinfo()"
   ]
  },
  {
   "cell_type": "code",
   "execution_count": null,
   "id": "d99f157b",
   "metadata": {},
   "outputs": [],
   "source": [
    "print(pyu.ps2(\"python-dotenv\"))"
   ]
  },
  {
   "cell_type": "code",
   "execution_count": null,
   "id": "c59bb7fb",
   "metadata": {},
   "outputs": [],
   "source": [
    "from typing import List"
   ]
  },
  {
   "cell_type": "code",
   "execution_count": null,
   "id": "0be0f2dd",
   "metadata": {},
   "outputs": [],
   "source": [
    "class Solution:\n",
    "  def calculate(self, s: str) -> int:\n",
    "    ans = 0\n",
    "    prevNum = 0\n",
    "    currNum = 0\n",
    "    op = '+'\n",
    "\n",
    "    for i, c in enumerate(s):\n",
    "      if c.isdigit():\n",
    "        currNum = currNum * 10 + int(c)\n",
    "      if not c.isdigit() and c != ' ' or i == len(s) - 1:\n",
    "        if op == '+' or op == '-':\n",
    "          ans += prevNum\n",
    "          prevNum = currNum if op == '+' else -currNum\n",
    "        elif op == '*':\n",
    "          prevNum = prevNum * currNum\n",
    "        elif op == '/':\n",
    "          if prevNum < 0:\n",
    "            prevNum = ceil(prevNum / currNum)\n",
    "          else:\n",
    "            prevNum = prevNum // currNum\n",
    "        op = c\n",
    "        currNum = 0\n",
    "\n",
    "    return ans + prevNum"
   ]
  },
  {
   "cell_type": "code",
   "execution_count": null,
   "id": "4ca38773",
   "metadata": {},
   "outputs": [],
   "source": [
    "new Solution().calculate()"
   ]
  }
 ],
 "metadata": {},
 "nbformat": 4,
 "nbformat_minor": 5
}

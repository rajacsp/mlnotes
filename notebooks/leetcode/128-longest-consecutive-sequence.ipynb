{
 "cells": [
  {
   "cell_type": "markdown",
   "id": "2c331327",
   "metadata": {},
   "source": [
    "https://leetcode.com/problems/longest-consecutive-sequence"
   ]
  },
  {
   "cell_type": "code",
   "execution_count": null,
   "id": "490519d6",
   "metadata": {},
   "outputs": [],
   "source": [
    "import pyutil as pyu\n",
    "pyu.get_local_pyinfo()"
   ]
  },
  {
   "cell_type": "code",
   "execution_count": null,
   "id": "49ac5a25",
   "metadata": {},
   "outputs": [],
   "source": [
    "print(pyu.ps2(\"python-dotenv\"))"
   ]
  },
  {
   "cell_type": "code",
   "execution_count": null,
   "id": "e682e3eb",
   "metadata": {},
   "outputs": [],
   "source": [
    "from typing import List"
   ]
  },
  {
   "cell_type": "code",
   "execution_count": null,
   "id": "0ea4835c",
   "metadata": {},
   "outputs": [],
   "source": [
    "class Solution:\n",
    "  def longestConsecutive(self, nums: List[int]) -> int:\n",
    "    ans = 0\n",
    "    seen = set(nums)\n",
    "\n",
    "    for num in nums:\n",
    "      if num - 1 in seen:\n",
    "        continue\n",
    "      length = 0\n",
    "      while num in seen:\n",
    "        num += 1\n",
    "        length += 1\n",
    "      ans = max(ans, length)\n",
    "\n",
    "    return ans"
   ]
  },
  {
   "cell_type": "code",
   "execution_count": null,
   "id": "d4125690",
   "metadata": {},
   "outputs": [],
   "source": [
    "new Solution().longestConsecutive()"
   ]
  }
 ],
 "metadata": {},
 "nbformat": 4,
 "nbformat_minor": 5
}

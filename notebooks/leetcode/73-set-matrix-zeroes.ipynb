{
 "cells": [
  {
   "cell_type": "markdown",
   "id": "a84f33e3",
   "metadata": {},
   "source": [
    "https://leetcode.com/problems/set-matrix-zeroes"
   ]
  },
  {
   "cell_type": "code",
   "execution_count": null,
   "id": "bbcea254",
   "metadata": {},
   "outputs": [],
   "source": [
    "import pyutil as pyu\n",
    "pyu.get_local_pyinfo()"
   ]
  },
  {
   "cell_type": "code",
   "execution_count": null,
   "id": "aeb2591a",
   "metadata": {},
   "outputs": [],
   "source": [
    "print(pyu.ps2(\"python-dotenv\"))"
   ]
  },
  {
   "cell_type": "code",
   "execution_count": null,
   "id": "c41a860b",
   "metadata": {},
   "outputs": [],
   "source": [
    "from typing import List"
   ]
  },
  {
   "cell_type": "code",
   "execution_count": null,
   "id": "a2d7a243",
   "metadata": {},
   "outputs": [],
   "source": [
    "class Solution:\n",
    "  def setZeroes(self, matrix: List[List[int]]) -> None:\n",
    "    m = len(matrix)\n",
    "    n = len(matrix[0])\n",
    "    shouldFillFirstRow = 0 in matrix[0]\n",
    "    shouldFillFirstCol = 0 in list(zip(*matrix))[0]\n",
    "\n",
    "    # Store the information in the 1st row/col\n",
    "    for i in range(1, m):\n",
    "      for j in range(1, n):\n",
    "        if matrix[i][j] == 0:\n",
    "          matrix[i][0] = 0\n",
    "          matrix[0][j] = 0\n",
    "\n",
    "    # Fill 0s for the matrix except the 1st row/col\n",
    "    for i in range(1, m):\n",
    "      for j in range(1, n):\n",
    "        if matrix[i][0] == 0 or matrix[0][j] == 0:\n",
    "          matrix[i][j] = 0\n",
    "\n",
    "    # Fill 0s for the 1st row if needed\n",
    "    if shouldFillFirstRow:\n",
    "      matrix[0] = [0] * n\n",
    "\n",
    "    # Fill 0s for the 1st col if needed\n",
    "    if shouldFillFirstCol:\n",
    "      for row in matrix:\n",
    "        row[0] = 0"
   ]
  },
  {
   "cell_type": "code",
   "execution_count": null,
   "id": "eedc831a",
   "metadata": {},
   "outputs": [],
   "source": [
    "new Solution().setZeroes()"
   ]
  }
 ],
 "metadata": {},
 "nbformat": 4,
 "nbformat_minor": 5
}

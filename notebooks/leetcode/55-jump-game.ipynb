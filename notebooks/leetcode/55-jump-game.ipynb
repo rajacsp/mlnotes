{
 "cells": [
  {
   "cell_type": "markdown",
   "id": "130d6184",
   "metadata": {},
   "source": [
    "https://leetcode.com/problems/jump-game"
   ]
  },
  {
   "cell_type": "code",
   "execution_count": null,
   "id": "90c329b5",
   "metadata": {},
   "outputs": [],
   "source": [
    "import pyutil as pyu\n",
    "pyu.get_local_pyinfo()"
   ]
  },
  {
   "cell_type": "code",
   "execution_count": null,
   "id": "455556da",
   "metadata": {},
   "outputs": [],
   "source": [
    "print(pyu.ps2(\"python-dotenv\"))"
   ]
  },
  {
   "cell_type": "code",
   "execution_count": null,
   "id": "f6ef9be8",
   "metadata": {},
   "outputs": [],
   "source": [
    "from typing import List"
   ]
  },
  {
   "cell_type": "code",
   "execution_count": null,
   "id": "8cfd63cc",
   "metadata": {},
   "outputs": [],
   "source": [
    "class Solution:\n",
    "  def canJump(self, nums: List[int]) -> bool:\n",
    "    i = 0\n",
    "    reach = 0\n",
    "\n",
    "    while i < len(nums) and i <= reach:\n",
    "      reach = max(reach, i + nums[i])\n",
    "      i += 1\n",
    "\n",
    "    return i == len(nums)"
   ]
  },
  {
   "cell_type": "code",
   "execution_count": null,
   "id": "b9d5802d",
   "metadata": {},
   "outputs": [],
   "source": [
    "new Solution().canJump()"
   ]
  }
 ],
 "metadata": {},
 "nbformat": 4,
 "nbformat_minor": 5
}

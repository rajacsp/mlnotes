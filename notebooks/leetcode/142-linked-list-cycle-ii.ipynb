{
 "cells": [
  {
   "cell_type": "markdown",
   "id": "3041126c",
   "metadata": {},
   "source": [
    "https://leetcode.com/problems/linked-list-cycle-ii"
   ]
  },
  {
   "cell_type": "code",
   "execution_count": null,
   "id": "d7dd9d84",
   "metadata": {},
   "outputs": [],
   "source": [
    "import pyutil as pyu\n",
    "pyu.get_local_pyinfo()"
   ]
  },
  {
   "cell_type": "code",
   "execution_count": null,
   "id": "f940d4b1",
   "metadata": {},
   "outputs": [],
   "source": [
    "print(pyu.ps2(\"python-dotenv\"))"
   ]
  },
  {
   "cell_type": "code",
   "execution_count": null,
   "id": "624cdc67",
   "metadata": {},
   "outputs": [],
   "source": [
    "from typing import List"
   ]
  },
  {
   "cell_type": "code",
   "execution_count": null,
   "id": "811a230a",
   "metadata": {},
   "outputs": [],
   "source": [
    "class Solution:\n",
    "  def detectCycle(self, head: ListNode) -> ListNode:\n",
    "    slow = head\n",
    "    fast = head\n",
    "\n",
    "    while fast and fast.next:\n",
    "      slow = slow.next\n",
    "      fast = fast.next.next\n",
    "      if slow == fast:\n",
    "        slow = head\n",
    "        while slow != fast:\n",
    "          slow = slow.next\n",
    "          fast = fast.next\n",
    "        return slow\n",
    "\n",
    "    return None"
   ]
  },
  {
   "cell_type": "code",
   "execution_count": null,
   "id": "6ea254e9",
   "metadata": {},
   "outputs": [],
   "source": [
    "new Solution().detectCycle()"
   ]
  }
 ],
 "metadata": {},
 "nbformat": 4,
 "nbformat_minor": 5
}

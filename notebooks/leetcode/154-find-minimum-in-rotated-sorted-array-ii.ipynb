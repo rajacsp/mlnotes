{
 "cells": [
  {
   "cell_type": "markdown",
   "id": "2431536d",
   "metadata": {},
   "source": [
    "https://leetcode.com/problems/find-minimum-in-rotated-sorted-array-ii"
   ]
  },
  {
   "cell_type": "code",
   "execution_count": null,
   "id": "bccf24c0",
   "metadata": {},
   "outputs": [],
   "source": [
    "import pyutil as pyu\n",
    "pyu.get_local_pyinfo()"
   ]
  },
  {
   "cell_type": "code",
   "execution_count": null,
   "id": "bc49367a",
   "metadata": {},
   "outputs": [],
   "source": [
    "print(pyu.ps2(\"python-dotenv\"))"
   ]
  },
  {
   "cell_type": "code",
   "execution_count": null,
   "id": "ca7197d6",
   "metadata": {},
   "outputs": [],
   "source": [
    "from typing import List"
   ]
  },
  {
   "cell_type": "code",
   "execution_count": null,
   "id": "0d46f29c",
   "metadata": {},
   "outputs": [],
   "source": [
    "class Solution:\n",
    "  def findMin(self, nums: List[int]) -> int:\n",
    "    l = 0\n",
    "    r = len(nums) - 1\n",
    "\n",
    "    while l < r:\n",
    "      m = (l + r) // 2\n",
    "      if nums[m] == nums[r]:\n",
    "        r -= 1\n",
    "      elif nums[m] < nums[r]:\n",
    "        r = m\n",
    "      else:\n",
    "        l = m + 1\n",
    "\n",
    "    return nums[l]"
   ]
  },
  {
   "cell_type": "code",
   "execution_count": null,
   "id": "e43dd0b4",
   "metadata": {},
   "outputs": [],
   "source": [
    "new Solution().findMin()"
   ]
  }
 ],
 "metadata": {},
 "nbformat": 4,
 "nbformat_minor": 5
}

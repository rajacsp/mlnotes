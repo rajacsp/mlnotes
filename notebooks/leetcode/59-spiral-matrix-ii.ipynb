{
 "cells": [
  {
   "cell_type": "markdown",
   "id": "565259a6",
   "metadata": {},
   "source": [
    "https://leetcode.com/problems/spiral-matrix-ii"
   ]
  },
  {
   "cell_type": "code",
   "execution_count": null,
   "id": "81101278",
   "metadata": {},
   "outputs": [],
   "source": [
    "import pyutil as pyu\n",
    "pyu.get_local_pyinfo()"
   ]
  },
  {
   "cell_type": "code",
   "execution_count": null,
   "id": "1ea5e0af",
   "metadata": {},
   "outputs": [],
   "source": [
    "print(pyu.ps2(\"python-dotenv\"))"
   ]
  },
  {
   "cell_type": "code",
   "execution_count": null,
   "id": "b1594db7",
   "metadata": {},
   "outputs": [],
   "source": [
    "from typing import List"
   ]
  },
  {
   "cell_type": "code",
   "execution_count": null,
   "id": "54a7e745",
   "metadata": {},
   "outputs": [],
   "source": [
    "class Solution:\n",
    "  def generateMatrix(self, n: int) -> List[List[int]]:\n",
    "    ans = [[0] * n for _ in range(n)]\n",
    "    count = 1\n",
    "\n",
    "    for min in range(n // 2):\n",
    "      max = n - min - 1\n",
    "      for i in range(min, max):\n",
    "        ans[min][i] = count\n",
    "        count += 1\n",
    "      for i in range(min, max):\n",
    "        ans[i][max] = count\n",
    "        count += 1\n",
    "      for i in range(max, min, -1):\n",
    "        ans[max][i] = count\n",
    "        count += 1\n",
    "      for i in range(max, min, -1):\n",
    "        ans[i][min] = count\n",
    "        count += 1\n",
    "\n",
    "    if n & 1:\n",
    "      ans[n // 2][n // 2] = count\n",
    "\n",
    "    return ans"
   ]
  },
  {
   "cell_type": "code",
   "execution_count": null,
   "id": "181e6798",
   "metadata": {},
   "outputs": [],
   "source": [
    "new Solution().generateMatrix()"
   ]
  }
 ],
 "metadata": {},
 "nbformat": 4,
 "nbformat_minor": 5
}

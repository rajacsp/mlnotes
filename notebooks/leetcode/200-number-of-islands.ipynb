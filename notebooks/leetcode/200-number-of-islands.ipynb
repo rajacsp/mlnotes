{
 "cells": [
  {
   "cell_type": "markdown",
   "id": "e51ee91a",
   "metadata": {},
   "source": [
    "https://leetcode.com/problems/number-of-islands"
   ]
  },
  {
   "cell_type": "code",
   "execution_count": null,
   "id": "71eaf82c",
   "metadata": {},
   "outputs": [],
   "source": [
    "import pyutil as pyu\n",
    "pyu.get_local_pyinfo()"
   ]
  },
  {
   "cell_type": "code",
   "execution_count": null,
   "id": "9633365b",
   "metadata": {},
   "outputs": [],
   "source": [
    "print(pyu.ps2(\"python-dotenv\"))"
   ]
  },
  {
   "cell_type": "code",
   "execution_count": null,
   "id": "879c6dfc",
   "metadata": {},
   "outputs": [],
   "source": [
    "from typing import List"
   ]
  },
  {
   "cell_type": "code",
   "execution_count": null,
   "id": "052f6512",
   "metadata": {},
   "outputs": [],
   "source": [
    "class Solution:\n",
    "  def numIslands(self, grid: List[List[str]]) -> int:\n",
    "    m = len(grid)\n",
    "    n = len(grid[0])\n",
    "    dirs = [0, 1, 0, -1, 0]\n",
    "\n",
    "    def bfs(r, c):\n",
    "      q = deque([(r, c)])\n",
    "      grid[r][c] = '2'  # Mark '2' as visited\n",
    "      while q:\n",
    "        i, j = q.popleft()\n",
    "        for k in range(4):\n",
    "          x = i + dirs[k]\n",
    "          y = j + dirs[k + 1]\n",
    "          if x < 0 or x == m or y < 0 or y == n:\n",
    "            continue\n",
    "          if grid[x][y] != '1':\n",
    "            continue\n",
    "          q.append((x, y))\n",
    "          grid[x][y] = '2'  # Mark '2' as visited\n",
    "\n",
    "    ans = 0\n",
    "\n",
    "    for i in range(m):\n",
    "      for j in range(n):\n",
    "        if grid[i][j] == '1':\n",
    "          bfs(i, j)\n",
    "          ans += 1\n",
    "\n",
    "    return ans"
   ]
  },
  {
   "cell_type": "code",
   "execution_count": null,
   "id": "9b78531f",
   "metadata": {},
   "outputs": [],
   "source": [
    "new Solution().numIslands()"
   ]
  }
 ],
 "metadata": {},
 "nbformat": 4,
 "nbformat_minor": 5
}

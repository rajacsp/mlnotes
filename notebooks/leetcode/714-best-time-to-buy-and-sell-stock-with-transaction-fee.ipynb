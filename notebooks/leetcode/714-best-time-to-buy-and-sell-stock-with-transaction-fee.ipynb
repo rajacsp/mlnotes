{
 "cells": [
  {
   "cell_type": "markdown",
   "id": "1778aed8",
   "metadata": {},
   "source": [
    "https://leetcode.com/problems/best-time-to-buy-and-sell-stock-with-transaction-fee"
   ]
  },
  {
   "cell_type": "code",
   "execution_count": null,
   "id": "cc5ead90",
   "metadata": {},
   "outputs": [],
   "source": [
    "import pyutil as pyu\n",
    "pyu.get_local_pyinfo()"
   ]
  },
  {
   "cell_type": "code",
   "execution_count": null,
   "id": "1aa3672f",
   "metadata": {},
   "outputs": [],
   "source": [
    "print(pyu.ps2(\"python-dotenv\"))"
   ]
  },
  {
   "cell_type": "code",
   "execution_count": null,
   "id": "91927cb7",
   "metadata": {},
   "outputs": [],
   "source": [
    "from typing import List"
   ]
  },
  {
   "cell_type": "code",
   "execution_count": null,
   "id": "7bf35e24",
   "metadata": {},
   "outputs": [],
   "source": [
    "class Solution:\n",
    "  def maxProfit(self, prices: List[int], fee: int) -> int:\n",
    "    sell = 0\n",
    "    hold = -math.inf\n",
    "\n",
    "    for price in prices:\n",
    "      sell = max(sell, hold + price)\n",
    "      hold = max(hold, sell - price - fee)\n",
    "\n",
    "    return sell"
   ]
  },
  {
   "cell_type": "code",
   "execution_count": null,
   "id": "7071d9c1",
   "metadata": {},
   "outputs": [],
   "source": [
    "new Solution().maxProfit()"
   ]
  }
 ],
 "metadata": {},
 "nbformat": 4,
 "nbformat_minor": 5
}

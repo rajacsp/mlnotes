{
 "cells": [
  {
   "cell_type": "markdown",
   "id": "f1c994cb",
   "metadata": {},
   "source": [
    "https://leetcode.com/problems/max-increase-to-keep-city-skyline"
   ]
  },
  {
   "cell_type": "code",
   "execution_count": null,
   "id": "e088dd2a",
   "metadata": {},
   "outputs": [],
   "source": [
    "import pyutil as pyu\n",
    "pyu.get_local_pyinfo()"
   ]
  },
  {
   "cell_type": "code",
   "execution_count": null,
   "id": "024f7750",
   "metadata": {},
   "outputs": [],
   "source": [
    "print(pyu.ps2(\"python-dotenv\"))"
   ]
  },
  {
   "cell_type": "code",
   "execution_count": null,
   "id": "8e14f4db",
   "metadata": {},
   "outputs": [],
   "source": [
    "from typing import List"
   ]
  },
  {
   "cell_type": "code",
   "execution_count": null,
   "id": "14e708d4",
   "metadata": {},
   "outputs": [],
   "source": [
    "class Solution:\n",
    "  def maxIncreaseKeepingSkyline(self, grid: List[List[int]]) -> int:\n",
    "    rowMax = list(map(max, grid))\n",
    "    colMax = list(map(max, zip(*grid)))\n",
    "    return sum(min(i, j) for i in rowMax for j in colMax) - sum(map(sum, grid))"
   ]
  },
  {
   "cell_type": "code",
   "execution_count": null,
   "id": "06319ad2",
   "metadata": {},
   "outputs": [],
   "source": [
    "new Solution().maxIncreaseKeepingSkyline()"
   ]
  }
 ],
 "metadata": {},
 "nbformat": 4,
 "nbformat_minor": 5
}

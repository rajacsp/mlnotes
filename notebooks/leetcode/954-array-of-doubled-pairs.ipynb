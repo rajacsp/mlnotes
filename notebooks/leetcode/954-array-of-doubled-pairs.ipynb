{
 "cells": [
  {
   "cell_type": "markdown",
   "id": "f4878ee4",
   "metadata": {},
   "source": [
    "https://leetcode.com/problems/array-of-doubled-pairs"
   ]
  },
  {
   "cell_type": "code",
   "execution_count": null,
   "id": "3c7d67ca",
   "metadata": {},
   "outputs": [],
   "source": [
    "import pyutil as pyu\n",
    "pyu.get_local_pyinfo()"
   ]
  },
  {
   "cell_type": "code",
   "execution_count": null,
   "id": "e4161903",
   "metadata": {},
   "outputs": [],
   "source": [
    "print(pyu.ps2(\"python-dotenv\"))"
   ]
  },
  {
   "cell_type": "code",
   "execution_count": null,
   "id": "f12956f5",
   "metadata": {},
   "outputs": [],
   "source": [
    "from typing import List"
   ]
  },
  {
   "cell_type": "code",
   "execution_count": null,
   "id": "05f2d48f",
   "metadata": {},
   "outputs": [],
   "source": [
    "class Solution:\n",
    "  def canReorderDoubled(self, A: List[int]) -> bool:\n",
    "    count = Counter(A)\n",
    "\n",
    "    for key in sorted(count, key=abs):\n",
    "      if count[key] > count[2 * key]:\n",
    "        return False\n",
    "      count[2 * key] -= count[key]\n",
    "\n",
    "    return True"
   ]
  },
  {
   "cell_type": "code",
   "execution_count": null,
   "id": "a3990b70",
   "metadata": {},
   "outputs": [],
   "source": [
    "new Solution().canReorderDoubled()"
   ]
  }
 ],
 "metadata": {},
 "nbformat": 4,
 "nbformat_minor": 5
}

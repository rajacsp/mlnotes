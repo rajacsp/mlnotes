{
 "cells": [
  {
   "cell_type": "markdown",
   "id": "33a27fce",
   "metadata": {},
   "source": [
    "https://leetcode.com/problems/minimum-moves-to-equal-array-elements"
   ]
  },
  {
   "cell_type": "code",
   "execution_count": null,
   "id": "fa8e07c3",
   "metadata": {},
   "outputs": [],
   "source": [
    "import pyutil as pyu\n",
    "pyu.get_local_pyinfo()"
   ]
  },
  {
   "cell_type": "code",
   "execution_count": null,
   "id": "167909b8",
   "metadata": {},
   "outputs": [],
   "source": [
    "print(pyu.ps2(\"python-dotenv\"))"
   ]
  },
  {
   "cell_type": "code",
   "execution_count": null,
   "id": "490010c8",
   "metadata": {},
   "outputs": [],
   "source": [
    "from typing import List"
   ]
  },
  {
   "cell_type": "code",
   "execution_count": null,
   "id": "6731413d",
   "metadata": {},
   "outputs": [],
   "source": [
    "class Solution:\n",
    "  def minMoves(self, nums: List[int]) -> int:\n",
    "    mini = min(nums)\n",
    "    return sum(num - mini for num in nums)"
   ]
  },
  {
   "cell_type": "code",
   "execution_count": null,
   "id": "2d308f64",
   "metadata": {},
   "outputs": [],
   "source": [
    "new Solution().minMoves()"
   ]
  }
 ],
 "metadata": {},
 "nbformat": 4,
 "nbformat_minor": 5
}

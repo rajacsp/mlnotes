{
 "cells": [
  {
   "cell_type": "markdown",
   "id": "4d01a805",
   "metadata": {},
   "source": [
    "https://leetcode.com/problems/bulb-switcher"
   ]
  },
  {
   "cell_type": "code",
   "execution_count": null,
   "id": "a7d4da3e",
   "metadata": {},
   "outputs": [],
   "source": [
    "import pyutil as pyu\n",
    "pyu.get_local_pyinfo()"
   ]
  },
  {
   "cell_type": "code",
   "execution_count": null,
   "id": "73654ba1",
   "metadata": {},
   "outputs": [],
   "source": [
    "print(pyu.ps2(\"python-dotenv\"))"
   ]
  },
  {
   "cell_type": "code",
   "execution_count": null,
   "id": "555495a5",
   "metadata": {},
   "outputs": [],
   "source": [
    "from typing import List"
   ]
  },
  {
   "cell_type": "code",
   "execution_count": null,
   "id": "17e7e0ff",
   "metadata": {},
   "outputs": [],
   "source": [
    "class Solution:\n",
    "  def bulbSwitch(self, n: int) -> int:\n",
    "    return int(sqrt(n))"
   ]
  },
  {
   "cell_type": "code",
   "execution_count": null,
   "id": "ae5f353b",
   "metadata": {},
   "outputs": [],
   "source": [
    "new Solution().bulbSwitch()"
   ]
  }
 ],
 "metadata": {},
 "nbformat": 4,
 "nbformat_minor": 5
}

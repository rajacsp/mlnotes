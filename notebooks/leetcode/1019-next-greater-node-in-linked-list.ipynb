{
 "cells": [
  {
   "cell_type": "markdown",
   "id": "39f0b367",
   "metadata": {},
   "source": [
    "https://leetcode.com/problems/next-greater-node-in-linked-list"
   ]
  },
  {
   "cell_type": "code",
   "execution_count": null,
   "id": "c2905e36",
   "metadata": {},
   "outputs": [],
   "source": [
    "import pyutil as pyu\n",
    "pyu.get_local_pyinfo()"
   ]
  },
  {
   "cell_type": "code",
   "execution_count": null,
   "id": "1fcf299a",
   "metadata": {},
   "outputs": [],
   "source": [
    "print(pyu.ps2(\"python-dotenv\"))"
   ]
  },
  {
   "cell_type": "code",
   "execution_count": null,
   "id": "4a65a056",
   "metadata": {},
   "outputs": [],
   "source": [
    "from typing import List"
   ]
  },
  {
   "cell_type": "code",
   "execution_count": null,
   "id": "85c68062",
   "metadata": {},
   "outputs": [],
   "source": [
    "class Solution:\n",
    "  def nextLargerNodes(self, head: ListNode) -> List[int]:\n",
    "    ans = []\n",
    "    stack = []\n",
    "\n",
    "    while head:\n",
    "      while stack and head.val > ans[stack[-1]]:\n",
    "        index = stack.pop()\n",
    "        ans[index] = head.val\n",
    "      stack.append(len(ans))\n",
    "      ans.append(head.val)\n",
    "      head = head.next\n",
    "\n",
    "    for i in stack:\n",
    "      ans[i] = 0\n",
    "\n",
    "    return ans"
   ]
  },
  {
   "cell_type": "code",
   "execution_count": null,
   "id": "e3acf8cd",
   "metadata": {},
   "outputs": [],
   "source": [
    "new Solution().nextLargerNodes()"
   ]
  }
 ],
 "metadata": {},
 "nbformat": 4,
 "nbformat_minor": 5
}

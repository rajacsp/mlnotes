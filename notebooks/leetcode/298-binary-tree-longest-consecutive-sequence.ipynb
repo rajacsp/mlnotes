{
 "cells": [
  {
   "cell_type": "markdown",
   "id": "c0ea7266",
   "metadata": {},
   "source": [
    "https://leetcode.com/problems/binary-tree-longest-consecutive-sequence"
   ]
  },
  {
   "cell_type": "code",
   "execution_count": null,
   "id": "1e56d1f3",
   "metadata": {},
   "outputs": [],
   "source": [
    "import pyutil as pyu\n",
    "pyu.get_local_pyinfo()"
   ]
  },
  {
   "cell_type": "code",
   "execution_count": null,
   "id": "d0a8f066",
   "metadata": {},
   "outputs": [],
   "source": [
    "print(pyu.ps2(\"python-dotenv\"))"
   ]
  },
  {
   "cell_type": "code",
   "execution_count": null,
   "id": "fa60f8c5",
   "metadata": {},
   "outputs": [],
   "source": [
    "from typing import List"
   ]
  },
  {
   "cell_type": "code",
   "execution_count": null,
   "id": "33bf624d",
   "metadata": {},
   "outputs": [],
   "source": [
    "class Solution:\n",
    "  def longestConsecutive(self, root: Optional[TreeNode]) -> int:\n",
    "    if not root:\n",
    "      return 0\n",
    "\n",
    "    def dfs(root: Optional[TreeNode], target: int, length: int, maxLength: int) -> int:\n",
    "      if not root:\n",
    "        return maxLength\n",
    "      if root.val == target:\n",
    "        length += 1\n",
    "        maxLength = max(maxLength, length)\n",
    "      else:\n",
    "        length = 1\n",
    "      return max(dfs(root.left, root.val + 1, length, maxLength),\n",
    "                 dfs(root.right, root.val + 1, length, maxLength))\n",
    "\n",
    "    return dfs(root, root.val, 0, 0)"
   ]
  },
  {
   "cell_type": "code",
   "execution_count": null,
   "id": "3135803d",
   "metadata": {},
   "outputs": [],
   "source": [
    "new Solution().longestConsecutive()"
   ]
  }
 ],
 "metadata": {},
 "nbformat": 4,
 "nbformat_minor": 5
}

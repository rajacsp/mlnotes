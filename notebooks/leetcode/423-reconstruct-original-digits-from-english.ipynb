{
 "cells": [
  {
   "cell_type": "markdown",
   "id": "800b9f56",
   "metadata": {},
   "source": [
    "https://leetcode.com/problems/reconstruct-original-digits-from-english"
   ]
  },
  {
   "cell_type": "code",
   "execution_count": null,
   "id": "cc3f3c97",
   "metadata": {},
   "outputs": [],
   "source": [
    "import pyutil as pyu\n",
    "pyu.get_local_pyinfo()"
   ]
  },
  {
   "cell_type": "code",
   "execution_count": null,
   "id": "a4343801",
   "metadata": {},
   "outputs": [],
   "source": [
    "print(pyu.ps2(\"python-dotenv\"))"
   ]
  },
  {
   "cell_type": "code",
   "execution_count": null,
   "id": "d340ac39",
   "metadata": {},
   "outputs": [],
   "source": [
    "from typing import List"
   ]
  },
  {
   "cell_type": "code",
   "execution_count": null,
   "id": "0a73c69a",
   "metadata": {},
   "outputs": [],
   "source": [
    "class Solution:\n",
    "  def originalDigits(self, s: str) -> str:\n",
    "    count = [0] * 10\n",
    "\n",
    "    for c in s:\n",
    "      if c == 'z':\n",
    "        count[0] += 1\n",
    "      if c == 'o':\n",
    "        count[1] += 1\n",
    "      if c == 'w':\n",
    "        count[2] += 1\n",
    "      if c == 'h':\n",
    "        count[3] += 1\n",
    "      if c == 'u':\n",
    "        count[4] += 1\n",
    "      if c == 'f':\n",
    "        count[5] += 1\n",
    "      if c == 'x':\n",
    "        count[6] += 1\n",
    "      if c == 's':\n",
    "        count[7] += 1\n",
    "      if c == 'g':\n",
    "        count[8] += 1\n",
    "      if c == 'i':\n",
    "        count[9] += 1\n",
    "\n",
    "    count[1] -= count[0] + count[2] + count[4]\n",
    "    count[3] -= count[8]\n",
    "    count[5] -= count[4]\n",
    "    count[7] -= count[6]\n",
    "    count[9] -= count[5] + count[6] + count[8]\n",
    "\n",
    "    return ''.join(chr(i + ord('0')) for i, c in enumerate(count) for j in range(c))"
   ]
  },
  {
   "cell_type": "code",
   "execution_count": null,
   "id": "a4307d90",
   "metadata": {},
   "outputs": [],
   "source": [
    "new Solution().originalDigits()"
   ]
  }
 ],
 "metadata": {},
 "nbformat": 4,
 "nbformat_minor": 5
}

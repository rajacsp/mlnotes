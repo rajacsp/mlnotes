{
 "cells": [
  {
   "cell_type": "markdown",
   "id": "52c7f64e",
   "metadata": {},
   "source": [
    "https://leetcode.com/problems/middle-of-the-linked-list"
   ]
  },
  {
   "cell_type": "code",
   "execution_count": null,
   "id": "be12030c",
   "metadata": {},
   "outputs": [],
   "source": [
    "import pyutil as pyu\n",
    "pyu.get_local_pyinfo()"
   ]
  },
  {
   "cell_type": "code",
   "execution_count": null,
   "id": "92d7d7b3",
   "metadata": {},
   "outputs": [],
   "source": [
    "print(pyu.ps2(\"python-dotenv\"))"
   ]
  },
  {
   "cell_type": "code",
   "execution_count": null,
   "id": "beec96ad",
   "metadata": {},
   "outputs": [],
   "source": [
    "from typing import List"
   ]
  },
  {
   "cell_type": "code",
   "execution_count": null,
   "id": "cc7fce8b",
   "metadata": {},
   "outputs": [],
   "source": [
    "class Solution:\n",
    "  def middleNode(self, head: ListNode) -> ListNode:\n",
    "    slow = head\n",
    "    fast = head\n",
    "\n",
    "    while fast and fast.next:\n",
    "      slow = slow.next\n",
    "      fast = fast.next.next\n",
    "\n",
    "    return slow"
   ]
  },
  {
   "cell_type": "code",
   "execution_count": null,
   "id": "5cc785e6",
   "metadata": {},
   "outputs": [],
   "source": [
    "new Solution().middleNode()"
   ]
  }
 ],
 "metadata": {},
 "nbformat": 4,
 "nbformat_minor": 5
}

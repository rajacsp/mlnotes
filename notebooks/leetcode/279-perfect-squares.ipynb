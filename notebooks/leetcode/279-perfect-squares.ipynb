{
 "cells": [
  {
   "cell_type": "markdown",
   "id": "3ac5486b",
   "metadata": {},
   "source": [
    "https://leetcode.com/problems/perfect-squares"
   ]
  },
  {
   "cell_type": "code",
   "execution_count": null,
   "id": "41d7103c",
   "metadata": {},
   "outputs": [],
   "source": [
    "import pyutil as pyu\n",
    "pyu.get_local_pyinfo()"
   ]
  },
  {
   "cell_type": "code",
   "execution_count": null,
   "id": "390118a8",
   "metadata": {},
   "outputs": [],
   "source": [
    "print(pyu.ps2(\"python-dotenv\"))"
   ]
  },
  {
   "cell_type": "code",
   "execution_count": null,
   "id": "553a775d",
   "metadata": {},
   "outputs": [],
   "source": [
    "from typing import List"
   ]
  },
  {
   "cell_type": "code",
   "execution_count": null,
   "id": "0ec23b57",
   "metadata": {},
   "outputs": [],
   "source": [
    "class Solution:\n",
    "  def numSquares(self, n: int) -> int:\n",
    "    dp = [n] * (n + 1)\n",
    "\n",
    "    dp[0] = 0\n",
    "    dp[1] = 1\n",
    "\n",
    "    for i in range(2, n + 1):\n",
    "      j = 1\n",
    "      while j * j <= i:\n",
    "        dp[i] = min(dp[i], dp[i - j * j] + 1)\n",
    "        j += 1\n",
    "\n",
    "    return dp[n]"
   ]
  },
  {
   "cell_type": "code",
   "execution_count": null,
   "id": "faad88c2",
   "metadata": {},
   "outputs": [],
   "source": [
    "new Solution().numSquares()"
   ]
  }
 ],
 "metadata": {},
 "nbformat": 4,
 "nbformat_minor": 5
}

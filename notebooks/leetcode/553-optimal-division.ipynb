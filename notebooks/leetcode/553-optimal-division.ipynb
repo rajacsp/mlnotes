{
 "cells": [
  {
   "cell_type": "markdown",
   "id": "d0c10e94",
   "metadata": {},
   "source": [
    "https://leetcode.com/problems/optimal-division"
   ]
  },
  {
   "cell_type": "code",
   "execution_count": null,
   "id": "89c85d89",
   "metadata": {},
   "outputs": [],
   "source": [
    "import pyutil as pyu\n",
    "pyu.get_local_pyinfo()"
   ]
  },
  {
   "cell_type": "code",
   "execution_count": null,
   "id": "f38f3905",
   "metadata": {},
   "outputs": [],
   "source": [
    "print(pyu.ps2(\"python-dotenv\"))"
   ]
  },
  {
   "cell_type": "code",
   "execution_count": null,
   "id": "f199382a",
   "metadata": {},
   "outputs": [],
   "source": [
    "from typing import List"
   ]
  },
  {
   "cell_type": "code",
   "execution_count": null,
   "id": "6be2fa51",
   "metadata": {},
   "outputs": [],
   "source": [
    "class Solution:\n",
    "  def optimalDivision(self, nums: List[int]) -> str:\n",
    "    ans = str(nums[0])\n",
    "\n",
    "    if len(nums) == 1:\n",
    "      return ans\n",
    "    if len(nums) == 2:\n",
    "      return ans + '/' + str(nums[1])\n",
    "\n",
    "    ans += '/(' + str(nums[1])\n",
    "    for i in range(2, len(nums)):\n",
    "      ans += '/' + str(nums[i])\n",
    "    ans += ')'\n",
    "    return ans"
   ]
  },
  {
   "cell_type": "code",
   "execution_count": null,
   "id": "bb54478c",
   "metadata": {},
   "outputs": [],
   "source": [
    "new Solution().optimalDivision()"
   ]
  }
 ],
 "metadata": {},
 "nbformat": 4,
 "nbformat_minor": 5
}

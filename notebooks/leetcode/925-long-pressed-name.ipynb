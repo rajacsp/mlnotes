{
 "cells": [
  {
   "cell_type": "markdown",
   "id": "574e0291",
   "metadata": {},
   "source": [
    "https://leetcode.com/problems/long-pressed-name"
   ]
  },
  {
   "cell_type": "code",
   "execution_count": null,
   "id": "4daa9c0e",
   "metadata": {},
   "outputs": [],
   "source": [
    "import pyutil as pyu\n",
    "pyu.get_local_pyinfo()"
   ]
  },
  {
   "cell_type": "code",
   "execution_count": null,
   "id": "68bb337d",
   "metadata": {},
   "outputs": [],
   "source": [
    "print(pyu.ps2(\"python-dotenv\"))"
   ]
  },
  {
   "cell_type": "code",
   "execution_count": null,
   "id": "58a453ab",
   "metadata": {},
   "outputs": [],
   "source": [
    "from typing import List"
   ]
  },
  {
   "cell_type": "code",
   "execution_count": null,
   "id": "a0fcdec6",
   "metadata": {},
   "outputs": [],
   "source": [
    "class Solution:\n",
    "  def isLongPressedName(self, name: str, typed: str) -> bool:\n",
    "    i = 0\n",
    "\n",
    "    for j, t in enumerate(typed):\n",
    "      if i < len(name) and name[i] == t:\n",
    "        i += 1\n",
    "      elif j == 0 or t != typed[j - 1]:\n",
    "        return False\n",
    "\n",
    "    return i == len(name)"
   ]
  },
  {
   "cell_type": "code",
   "execution_count": null,
   "id": "98a97aac",
   "metadata": {},
   "outputs": [],
   "source": [
    "new Solution().isLongPressedName()"
   ]
  }
 ],
 "metadata": {},
 "nbformat": 4,
 "nbformat_minor": 5
}

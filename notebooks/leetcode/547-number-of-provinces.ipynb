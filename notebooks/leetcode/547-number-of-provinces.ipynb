{
 "cells": [
  {
   "cell_type": "markdown",
   "id": "d9487f7b",
   "metadata": {},
   "source": [
    "https://leetcode.com/problems/number-of-provinces"
   ]
  },
  {
   "cell_type": "code",
   "execution_count": null,
   "id": "4c543a46",
   "metadata": {},
   "outputs": [],
   "source": [
    "import pyutil as pyu\n",
    "pyu.get_local_pyinfo()"
   ]
  },
  {
   "cell_type": "code",
   "execution_count": null,
   "id": "425655b2",
   "metadata": {},
   "outputs": [],
   "source": [
    "print(pyu.ps2(\"python-dotenv\"))"
   ]
  },
  {
   "cell_type": "code",
   "execution_count": null,
   "id": "be11fcf8",
   "metadata": {},
   "outputs": [],
   "source": [
    "from typing import List"
   ]
  },
  {
   "cell_type": "code",
   "execution_count": null,
   "id": "a973f9a2",
   "metadata": {},
   "outputs": [],
   "source": [
    "class UnionFind:\n",
    "  def __init__(self, n: int):\n",
    "    self.count = n\n",
    "    self.id = list(range(n))\n",
    "\n",
    "  def union(self, u: int, v: int) -> None:\n",
    "    i = self.find(u)\n",
    "    j = self.find(v)\n",
    "    if i == j:\n",
    "      return\n",
    "    self.id[i] = j\n",
    "    self.count -= 1\n",
    "\n",
    "  def find(self, u: int) -> int:\n",
    "    if self.id[u] != u:\n",
    "      self.id[u] = self.find(self.id[u])\n",
    "    return self.id[u]\n",
    "\n",
    "\n",
    "class Solution:\n",
    "  def findCircleNum(self, M: List[List[int]]) -> int:\n",
    "    n = len(M)\n",
    "    uf = UnionFind(n)\n",
    "\n",
    "    for i in range(n):\n",
    "      for j in range(i, n):\n",
    "        if M[i][j] == 1:\n",
    "          uf.union(i, j)\n",
    "\n",
    "    return uf.count"
   ]
  },
  {
   "cell_type": "code",
   "execution_count": null,
   "id": "8c149750",
   "metadata": {},
   "outputs": [],
   "source": [
    "new Solution().findCircleNum()"
   ]
  }
 ],
 "metadata": {},
 "nbformat": 4,
 "nbformat_minor": 5
}

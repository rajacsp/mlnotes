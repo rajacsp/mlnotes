{
 "cells": [
  {
   "cell_type": "markdown",
   "id": "ce651ea0",
   "metadata": {},
   "source": [
    "https://leetcode.com/problems/subsets"
   ]
  },
  {
   "cell_type": "code",
   "execution_count": null,
   "id": "7755b355",
   "metadata": {},
   "outputs": [],
   "source": [
    "import pyutil as pyu\n",
    "pyu.get_local_pyinfo()"
   ]
  },
  {
   "cell_type": "code",
   "execution_count": null,
   "id": "e5200def",
   "metadata": {},
   "outputs": [],
   "source": [
    "print(pyu.ps2(\"python-dotenv\"))"
   ]
  },
  {
   "cell_type": "code",
   "execution_count": null,
   "id": "6295125f",
   "metadata": {},
   "outputs": [],
   "source": [
    "from typing import List"
   ]
  },
  {
   "cell_type": "code",
   "execution_count": null,
   "id": "ab6dd6de",
   "metadata": {},
   "outputs": [],
   "source": [
    "class Solution:\n",
    "  def subsets(self, nums: List[int]) -> List[List[int]]:\n",
    "    ans = []\n",
    "\n",
    "    def dfs(s: int, path: List[int]) -> None:\n",
    "      ans.append(path)\n",
    "\n",
    "      for i in range(s, len(nums)):\n",
    "        dfs(i + 1, path + [nums[i]])\n",
    "\n",
    "    dfs(0, [])\n",
    "    return ans"
   ]
  },
  {
   "cell_type": "code",
   "execution_count": null,
   "id": "74cf06aa",
   "metadata": {},
   "outputs": [],
   "source": [
    "new Solution().subsets()"
   ]
  }
 ],
 "metadata": {},
 "nbformat": 4,
 "nbformat_minor": 5
}

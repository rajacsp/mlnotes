{
 "cells": [
  {
   "cell_type": "markdown",
   "id": "d8dc1570",
   "metadata": {},
   "source": [
    "https://leetcode.com/problems/k-th-smallest-prime-fraction"
   ]
  },
  {
   "cell_type": "code",
   "execution_count": null,
   "id": "7b69856f",
   "metadata": {},
   "outputs": [],
   "source": [
    "import pyutil as pyu\n",
    "pyu.get_local_pyinfo()"
   ]
  },
  {
   "cell_type": "code",
   "execution_count": null,
   "id": "b9fe8e9b",
   "metadata": {},
   "outputs": [],
   "source": [
    "print(pyu.ps2(\"python-dotenv\"))"
   ]
  },
  {
   "cell_type": "code",
   "execution_count": null,
   "id": "b6131843",
   "metadata": {},
   "outputs": [],
   "source": [
    "from typing import List"
   ]
  },
  {
   "cell_type": "code",
   "execution_count": null,
   "id": "fb5c0f76",
   "metadata": {},
   "outputs": [],
   "source": [
    "class Solution:\n",
    "  def kthSmallestPrimeFraction(self, A: List[int], K: int) -> List[int]:\n",
    "    n = len(A)\n",
    "    ans = [0, 1]\n",
    "    l = 0\n",
    "    r = 1\n",
    "\n",
    "    while True:\n",
    "      m = (l + r) / 2\n",
    "      ans[0] = 0\n",
    "      count = 0\n",
    "      j = 1\n",
    "\n",
    "      for i in range(n):\n",
    "        while j < n and A[i] > m * A[j]:\n",
    "          j += 1\n",
    "        count += n - j\n",
    "        if j == n:\n",
    "          break\n",
    "        if ans[0] * A[j] < ans[1] * A[i]:\n",
    "          ans[0] = A[i]\n",
    "          ans[1] = A[j]\n",
    "\n",
    "      if count < K:\n",
    "        l = m\n",
    "      elif count > K:\n",
    "        r = m\n",
    "      else:\n",
    "        return ans"
   ]
  },
  {
   "cell_type": "code",
   "execution_count": null,
   "id": "7df5b672",
   "metadata": {},
   "outputs": [],
   "source": [
    "new Solution().kthSmallestPrimeFraction()"
   ]
  }
 ],
 "metadata": {},
 "nbformat": 4,
 "nbformat_minor": 5
}

{
 "cells": [
  {
   "cell_type": "markdown",
   "id": "2b2dd9cd",
   "metadata": {},
   "source": [
    "https://leetcode.com/problems/rectangle-area"
   ]
  },
  {
   "cell_type": "code",
   "execution_count": null,
   "id": "523427f1",
   "metadata": {},
   "outputs": [],
   "source": [
    "import pyutil as pyu\n",
    "pyu.get_local_pyinfo()"
   ]
  },
  {
   "cell_type": "code",
   "execution_count": null,
   "id": "10edaf4d",
   "metadata": {},
   "outputs": [],
   "source": [
    "print(pyu.ps2(\"python-dotenv\"))"
   ]
  },
  {
   "cell_type": "code",
   "execution_count": null,
   "id": "708a339e",
   "metadata": {},
   "outputs": [],
   "source": [
    "from typing import List"
   ]
  },
  {
   "cell_type": "code",
   "execution_count": null,
   "id": "d9ba1563",
   "metadata": {},
   "outputs": [],
   "source": [
    "class Solution:\n",
    "  def computeArea(self, A: int, B: int, C: int, D: int, E: int, F: int, G: int, H: int) -> int:\n",
    "    x = min(C, G) - max(A, E) if max(A, E) < min(C, G) else 0\n",
    "    y = min(D, H) - max(B, F) if max(B, F) < min(D, H) else 0\n",
    "    return (C - A) * (D - B) + (G - E) * (H - F) - x * y"
   ]
  },
  {
   "cell_type": "code",
   "execution_count": null,
   "id": "7fae0638",
   "metadata": {},
   "outputs": [],
   "source": [
    "new Solution().computeArea()"
   ]
  }
 ],
 "metadata": {},
 "nbformat": 4,
 "nbformat_minor": 5
}

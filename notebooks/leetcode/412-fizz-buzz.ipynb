{
 "cells": [
  {
   "cell_type": "markdown",
   "id": "b7f1c56c",
   "metadata": {},
   "source": [
    "https://leetcode.com/problems/fizz-buzz"
   ]
  },
  {
   "cell_type": "code",
   "execution_count": null,
   "id": "9292cd5c",
   "metadata": {},
   "outputs": [],
   "source": [
    "import pyutil as pyu\n",
    "pyu.get_local_pyinfo()"
   ]
  },
  {
   "cell_type": "code",
   "execution_count": null,
   "id": "2effcbb2",
   "metadata": {},
   "outputs": [],
   "source": [
    "print(pyu.ps2(\"python-dotenv\"))"
   ]
  },
  {
   "cell_type": "code",
   "execution_count": null,
   "id": "8a35fb14",
   "metadata": {},
   "outputs": [],
   "source": [
    "from typing import List"
   ]
  },
  {
   "cell_type": "code",
   "execution_count": null,
   "id": "88eedb96",
   "metadata": {},
   "outputs": [],
   "source": [
    "class Solution:\n",
    "  def fizzBuzz(self, n: int) -> List[str]:\n",
    "    d = {3: 'Fizz', 5: 'Buzz'}\n",
    "    return [''.join([d[k] for k in d if i % k == 0]) or str(i) for i in range(1, n + 1)]"
   ]
  },
  {
   "cell_type": "code",
   "execution_count": null,
   "id": "3c8f9820",
   "metadata": {},
   "outputs": [],
   "source": [
    "new Solution().fizzBuzz()"
   ]
  }
 ],
 "metadata": {},
 "nbformat": 4,
 "nbformat_minor": 5
}

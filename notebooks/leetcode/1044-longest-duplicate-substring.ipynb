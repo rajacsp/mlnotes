{
 "cells": [
  {
   "cell_type": "markdown",
   "id": "31624acb",
   "metadata": {},
   "source": [
    "https://leetcode.com/problems/longest-duplicate-substring"
   ]
  },
  {
   "cell_type": "code",
   "execution_count": null,
   "id": "e5dc38b1",
   "metadata": {},
   "outputs": [],
   "source": [
    "import pyutil as pyu\n",
    "pyu.get_local_pyinfo()"
   ]
  },
  {
   "cell_type": "code",
   "execution_count": null,
   "id": "7c91e429",
   "metadata": {},
   "outputs": [],
   "source": [
    "print(pyu.ps2(\"python-dotenv\"))"
   ]
  },
  {
   "cell_type": "code",
   "execution_count": null,
   "id": "19687844",
   "metadata": {},
   "outputs": [],
   "source": [
    "from typing import List"
   ]
  },
  {
   "cell_type": "code",
   "execution_count": null,
   "id": "a7f1af45",
   "metadata": {},
   "outputs": [],
   "source": [
    "class Solution:\n",
    "  def longestDupSubstring(self, s: str) -> str:\n",
    "    kMod = 1_000_000_007\n",
    "    bestStart = -1\n",
    "    l = 1\n",
    "    r = len(s)\n",
    "\n",
    "    def val(c: str) -> int:\n",
    "      return ord(c) - ord('a')\n",
    "\n",
    "    # K := length of hashed substring\n",
    "    def getStart(k: int) -> Optional[int]:\n",
    "      maxPow = pow(26, k - 1, kMod)\n",
    "      hashedToStart = defaultdict(list)\n",
    "      h = 0\n",
    "\n",
    "      # Compute hash value of s[:k]\n",
    "      for i in range(k):\n",
    "        h = (h * 26 + val(s[i])) % kMod\n",
    "      hashedToStart[h].append(0)\n",
    "\n",
    "      # Compute rolling hash by Rabin Karp\n",
    "      for i in range(k, len(s)):\n",
    "        startIndex = i - k + 1\n",
    "        h = (h - maxPow * val(s[i - k])) % kMod\n",
    "        h = (h * 26 + val(s[i])) % kMod\n",
    "        if h in hashedToStart:\n",
    "          currSub = s[startIndex:startIndex + k]\n",
    "          for start in hashedToStart[h]:\n",
    "            if s[start:start + k] == currSub:\n",
    "              return startIndex\n",
    "        hashedToStart[h].append(startIndex)\n",
    "\n",
    "    while l < r:\n",
    "      m = (l + r) // 2\n",
    "      start: Optional[int] = getStart(m)\n",
    "      if start:\n",
    "        bestStart = start\n",
    "        l = m + 1\n",
    "      else:\n",
    "        r = m\n",
    "\n",
    "    if bestStart == -1:\n",
    "      return ''\n",
    "    if getStart(l):\n",
    "      return s[bestStart:bestStart + l]\n",
    "    return s[bestStart:bestStart + l - 1]"
   ]
  },
  {
   "cell_type": "code",
   "execution_count": null,
   "id": "7ba6ea79",
   "metadata": {},
   "outputs": [],
   "source": [
    "new Solution().longestDupSubstring()"
   ]
  }
 ],
 "metadata": {},
 "nbformat": 4,
 "nbformat_minor": 5
}

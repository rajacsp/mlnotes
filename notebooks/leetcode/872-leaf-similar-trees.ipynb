{
 "cells": [
  {
   "cell_type": "markdown",
   "id": "150c99a9",
   "metadata": {},
   "source": [
    "https://leetcode.com/problems/leaf-similar-trees"
   ]
  },
  {
   "cell_type": "code",
   "execution_count": null,
   "id": "7a18888e",
   "metadata": {},
   "outputs": [],
   "source": [
    "import pyutil as pyu\n",
    "pyu.get_local_pyinfo()"
   ]
  },
  {
   "cell_type": "code",
   "execution_count": null,
   "id": "6baa7899",
   "metadata": {},
   "outputs": [],
   "source": [
    "print(pyu.ps2(\"python-dotenv\"))"
   ]
  },
  {
   "cell_type": "code",
   "execution_count": null,
   "id": "fb9e2fe3",
   "metadata": {},
   "outputs": [],
   "source": [
    "from typing import List"
   ]
  },
  {
   "cell_type": "code",
   "execution_count": null,
   "id": "b5b7804f",
   "metadata": {},
   "outputs": [],
   "source": [
    "class Solution:\n",
    "  def leafSimilar(self, root1: Optional[TreeNode], root2: Optional[TreeNode]) -> bool:\n",
    "    def dfs(root: Optional[TreeNode]) -> None:\n",
    "      if not root:\n",
    "        return\n",
    "      if not root.left and not root.right:\n",
    "        yield root.val\n",
    "        return\n",
    "\n",
    "      yield from dfs(root.left)\n",
    "      yield from dfs(root.right)\n",
    "\n",
    "    return list(dfs(root1)) == list(dfs(root2))"
   ]
  },
  {
   "cell_type": "code",
   "execution_count": null,
   "id": "66cb9320",
   "metadata": {},
   "outputs": [],
   "source": [
    "new Solution().leafSimilar()"
   ]
  }
 ],
 "metadata": {},
 "nbformat": 4,
 "nbformat_minor": 5
}

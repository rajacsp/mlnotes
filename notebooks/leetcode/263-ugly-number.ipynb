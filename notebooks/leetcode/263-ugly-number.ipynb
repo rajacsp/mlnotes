{
 "cells": [
  {
   "cell_type": "markdown",
   "id": "884820aa",
   "metadata": {},
   "source": [
    "https://leetcode.com/problems/ugly-number"
   ]
  },
  {
   "cell_type": "code",
   "execution_count": null,
   "id": "03454721",
   "metadata": {},
   "outputs": [],
   "source": [
    "import pyutil as pyu\n",
    "pyu.get_local_pyinfo()"
   ]
  },
  {
   "cell_type": "code",
   "execution_count": null,
   "id": "25d10c2c",
   "metadata": {},
   "outputs": [],
   "source": [
    "print(pyu.ps2(\"python-dotenv\"))"
   ]
  },
  {
   "cell_type": "code",
   "execution_count": null,
   "id": "8ddd7fd8",
   "metadata": {},
   "outputs": [],
   "source": [
    "from typing import List"
   ]
  },
  {
   "cell_type": "code",
   "execution_count": null,
   "id": "1641746a",
   "metadata": {},
   "outputs": [],
   "source": [
    "class Solution:\n",
    "  def isUgly(self, n: int) -> bool:\n",
    "    if n == 0:\n",
    "      return False\n",
    "\n",
    "    for prime in 2, 3, 5:\n",
    "      while n % prime == 0:\n",
    "        n //= prime\n",
    "\n",
    "    return n == 1"
   ]
  },
  {
   "cell_type": "code",
   "execution_count": null,
   "id": "ec25228c",
   "metadata": {},
   "outputs": [],
   "source": [
    "new Solution().isUgly()"
   ]
  }
 ],
 "metadata": {},
 "nbformat": 4,
 "nbformat_minor": 5
}

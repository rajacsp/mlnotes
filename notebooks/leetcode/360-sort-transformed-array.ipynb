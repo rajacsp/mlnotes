{
 "cells": [
  {
   "cell_type": "markdown",
   "id": "23910272",
   "metadata": {},
   "source": [
    "https://leetcode.com/problems/sort-transformed-array"
   ]
  },
  {
   "cell_type": "code",
   "execution_count": null,
   "id": "d66eddb6",
   "metadata": {},
   "outputs": [],
   "source": [
    "import pyutil as pyu\n",
    "pyu.get_local_pyinfo()"
   ]
  },
  {
   "cell_type": "code",
   "execution_count": null,
   "id": "f81d5d87",
   "metadata": {},
   "outputs": [],
   "source": [
    "print(pyu.ps2(\"python-dotenv\"))"
   ]
  },
  {
   "cell_type": "code",
   "execution_count": null,
   "id": "7ea8a26b",
   "metadata": {},
   "outputs": [],
   "source": [
    "from typing import List"
   ]
  },
  {
   "cell_type": "code",
   "execution_count": null,
   "id": "67b54670",
   "metadata": {},
   "outputs": [],
   "source": [
    "class Solution:\n",
    "  def sortTransformedArray(self, nums: List[int], a: int, b: int, c: int) -> List[int]:\n",
    "    n = len(nums)\n",
    "    upward = a > 0\n",
    "    ans = [0] * n\n",
    "\n",
    "    # The concavity of f only depends on a's sign\n",
    "    def f(x: int, a: int, b: int, c: int) -> int:\n",
    "      return (a * x + b) * x + c\n",
    "\n",
    "    quad = [f(num, a, b, c) for num in nums]\n",
    "\n",
    "    i = n - 1 if upward else 0\n",
    "    l = 0\n",
    "    r = n - 1\n",
    "    while l <= r:\n",
    "      if upward:  # Maximum in both ends\n",
    "        if quad[l] > quad[r]:\n",
    "          ans[i] = quad[l]\n",
    "          l += 1\n",
    "        else:\n",
    "          ans[i] = quad[r]\n",
    "          r -= 1\n",
    "        i -= 1\n",
    "      else:  # Minimum in both ends\n",
    "        if quad[l] < quad[r]:\n",
    "          ans[i] = quad[l]\n",
    "          l += 1\n",
    "        else:\n",
    "          ans[i] = quad[r]\n",
    "          r -= 1\n",
    "        i += 1\n",
    "\n",
    "    return ans"
   ]
  },
  {
   "cell_type": "code",
   "execution_count": null,
   "id": "2e1ec7fa",
   "metadata": {},
   "outputs": [],
   "source": [
    "new Solution().sortTransformedArray()"
   ]
  }
 ],
 "metadata": {},
 "nbformat": 4,
 "nbformat_minor": 5
}

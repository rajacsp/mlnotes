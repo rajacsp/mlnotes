{
 "cells": [
  {
   "cell_type": "markdown",
   "id": "63448b16",
   "metadata": {},
   "source": [
    "https://leetcode.com/problems/find-the-derangement-of-an-array"
   ]
  },
  {
   "cell_type": "code",
   "execution_count": null,
   "id": "f3e3f196",
   "metadata": {},
   "outputs": [],
   "source": [
    "import pyutil as pyu\n",
    "pyu.get_local_pyinfo()"
   ]
  },
  {
   "cell_type": "code",
   "execution_count": null,
   "id": "5b2d6d0a",
   "metadata": {},
   "outputs": [],
   "source": [
    "print(pyu.ps2(\"python-dotenv\"))"
   ]
  },
  {
   "cell_type": "code",
   "execution_count": null,
   "id": "1fab125e",
   "metadata": {},
   "outputs": [],
   "source": [
    "from typing import List"
   ]
  },
  {
   "cell_type": "code",
   "execution_count": null,
   "id": "5dd29aa1",
   "metadata": {},
   "outputs": [],
   "source": [
    "class Solution:\n",
    "  def findDerangement(self, n: int) -> int:\n",
    "    kMod = 1_000_000_007\n",
    "\n",
    "    @functools.lru_cache(None)\n",
    "    def dp(i: int) -> int:\n",
    "      if i == 0:\n",
    "        return 1\n",
    "      if i == 1:\n",
    "        return 0\n",
    "      return (i - 1) * (dp(i - 1) + dp(i - 2)) % kMod\n",
    "\n",
    "    return dp(n)"
   ]
  },
  {
   "cell_type": "code",
   "execution_count": null,
   "id": "c2b2c7f1",
   "metadata": {},
   "outputs": [],
   "source": [
    "new Solution().findDerangement()"
   ]
  }
 ],
 "metadata": {},
 "nbformat": 4,
 "nbformat_minor": 5
}

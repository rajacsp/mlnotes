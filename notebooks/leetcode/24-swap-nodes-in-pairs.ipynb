{
 "cells": [
  {
   "cell_type": "markdown",
   "id": "e921b067",
   "metadata": {},
   "source": [
    "https://leetcode.com/problems/swap-nodes-in-pairs"
   ]
  },
  {
   "cell_type": "code",
   "execution_count": null,
   "id": "9888d17e",
   "metadata": {},
   "outputs": [],
   "source": [
    "import pyutil as pyu\n",
    "pyu.get_local_pyinfo()"
   ]
  },
  {
   "cell_type": "code",
   "execution_count": null,
   "id": "d5534be2",
   "metadata": {},
   "outputs": [],
   "source": [
    "print(pyu.ps2(\"python-dotenv\"))"
   ]
  },
  {
   "cell_type": "code",
   "execution_count": null,
   "id": "3239f401",
   "metadata": {},
   "outputs": [],
   "source": [
    "from typing import List"
   ]
  },
  {
   "cell_type": "code",
   "execution_count": null,
   "id": "7aecfd64",
   "metadata": {},
   "outputs": [],
   "source": [
    "class Solution:\n",
    "  def swapPairs(self, head: ListNode) -> ListNode:\n",
    "    def getLength(head: ListNode) -> int:\n",
    "      length = 0\n",
    "      while head:\n",
    "        length += 1\n",
    "        head = head.next\n",
    "      return length\n",
    "\n",
    "    length = getLength(head)\n",
    "    dummy = ListNode(0, head)\n",
    "    prev = dummy\n",
    "    curr = head\n",
    "\n",
    "    for _ in range(length // 2):\n",
    "      next = curr.next\n",
    "      curr.next = next.next\n",
    "      next.next = prev.next\n",
    "      prev.next = next\n",
    "      prev = curr\n",
    "      curr = curr.next\n",
    "\n",
    "    return dummy.next"
   ]
  },
  {
   "cell_type": "code",
   "execution_count": null,
   "id": "54e65f57",
   "metadata": {},
   "outputs": [],
   "source": [
    "new Solution().swapPairs()"
   ]
  }
 ],
 "metadata": {},
 "nbformat": 4,
 "nbformat_minor": 5
}

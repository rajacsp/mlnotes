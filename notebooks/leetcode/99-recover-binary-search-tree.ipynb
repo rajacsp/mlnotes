{
 "cells": [
  {
   "cell_type": "markdown",
   "id": "aea7d2d6",
   "metadata": {},
   "source": [
    "https://leetcode.com/problems/recover-binary-search-tree"
   ]
  },
  {
   "cell_type": "code",
   "execution_count": null,
   "id": "83f7dc60",
   "metadata": {},
   "outputs": [],
   "source": [
    "import pyutil as pyu\n",
    "pyu.get_local_pyinfo()"
   ]
  },
  {
   "cell_type": "code",
   "execution_count": null,
   "id": "c53491b8",
   "metadata": {},
   "outputs": [],
   "source": [
    "print(pyu.ps2(\"python-dotenv\"))"
   ]
  },
  {
   "cell_type": "code",
   "execution_count": null,
   "id": "700b8156",
   "metadata": {},
   "outputs": [],
   "source": [
    "from typing import List"
   ]
  },
  {
   "cell_type": "code",
   "execution_count": null,
   "id": "78735394",
   "metadata": {},
   "outputs": [],
   "source": [
    "class Solution:\n",
    "  def recoverTree(self, root: Optional[TreeNode]) -> None:\n",
    "    def swap(x: Optional[TreeNode], y: Optional[TreeNode]) -> None:\n",
    "      temp = x.val\n",
    "      x.val = y.val\n",
    "      y.val = temp\n",
    "\n",
    "    def inorder(root: Optional[TreeNode]) -> None:\n",
    "      if not root:\n",
    "        return\n",
    "\n",
    "      inorder(root.left)\n",
    "\n",
    "      if self.pred and root.val < self.pred.val:\n",
    "        self.y = root\n",
    "        if not self.x:\n",
    "          self.x = self.pred\n",
    "        else:\n",
    "          return\n",
    "      self.pred = root\n",
    "\n",
    "      inorder(root.right)\n",
    "\n",
    "    inorder(root)\n",
    "    swap(self.x, self.y)\n",
    "\n",
    "  pred = None\n",
    "  x = None  # 1st wrong node\n",
    "  y = None  # 2nd wrong node"
   ]
  },
  {
   "cell_type": "code",
   "execution_count": null,
   "id": "cbf7ad16",
   "metadata": {},
   "outputs": [],
   "source": [
    "new Solution().recoverTree()"
   ]
  }
 ],
 "metadata": {},
 "nbformat": 4,
 "nbformat_minor": 5
}

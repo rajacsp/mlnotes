{
 "cells": [
  {
   "cell_type": "markdown",
   "id": "83748a01",
   "metadata": {},
   "source": [
    "https://leetcode.com/problems/nth-magical-number"
   ]
  },
  {
   "cell_type": "code",
   "execution_count": null,
   "id": "bb73ae1b",
   "metadata": {},
   "outputs": [],
   "source": [
    "import pyutil as pyu\n",
    "pyu.get_local_pyinfo()"
   ]
  },
  {
   "cell_type": "code",
   "execution_count": null,
   "id": "f6f9f196",
   "metadata": {},
   "outputs": [],
   "source": [
    "print(pyu.ps2(\"python-dotenv\"))"
   ]
  },
  {
   "cell_type": "code",
   "execution_count": null,
   "id": "a87bd292",
   "metadata": {},
   "outputs": [],
   "source": [
    "from typing import List"
   ]
  },
  {
   "cell_type": "code",
   "execution_count": null,
   "id": "ca0f12d2",
   "metadata": {},
   "outputs": [],
   "source": [
    "class Solution:\n",
    "  def nthMagicalNumber(self, n: int, a: int, b: int) -> int:\n",
    "    lcm = a * b // math.gcd(a, b)\n",
    "    l = min(a, b)\n",
    "    r = min(a, b) * n\n",
    "\n",
    "    while l < r:\n",
    "      m = (l + r) // 2\n",
    "      if m // a + m // b - m // lcm >= n:\n",
    "        r = m\n",
    "      else:\n",
    "        l = m + 1\n",
    "\n",
    "    return l % (10**9 + 7)"
   ]
  },
  {
   "cell_type": "code",
   "execution_count": null,
   "id": "00e492ec",
   "metadata": {},
   "outputs": [],
   "source": [
    "new Solution().nthMagicalNumber()"
   ]
  }
 ],
 "metadata": {},
 "nbformat": 4,
 "nbformat_minor": 5
}

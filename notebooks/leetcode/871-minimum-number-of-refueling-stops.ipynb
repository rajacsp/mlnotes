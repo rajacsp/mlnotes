{
 "cells": [
  {
   "cell_type": "markdown",
   "id": "b8252898",
   "metadata": {},
   "source": [
    "https://leetcode.com/problems/minimum-number-of-refueling-stops"
   ]
  },
  {
   "cell_type": "code",
   "execution_count": null,
   "id": "681d537e",
   "metadata": {},
   "outputs": [],
   "source": [
    "import pyutil as pyu\n",
    "pyu.get_local_pyinfo()"
   ]
  },
  {
   "cell_type": "code",
   "execution_count": null,
   "id": "b6754cdd",
   "metadata": {},
   "outputs": [],
   "source": [
    "print(pyu.ps2(\"python-dotenv\"))"
   ]
  },
  {
   "cell_type": "code",
   "execution_count": null,
   "id": "f907bc9f",
   "metadata": {},
   "outputs": [],
   "source": [
    "from typing import List"
   ]
  },
  {
   "cell_type": "code",
   "execution_count": null,
   "id": "1b0bac48",
   "metadata": {},
   "outputs": [],
   "source": [
    "class Solution:\n",
    "  def minRefuelStops(self, target: int, startFuel: int, stations: List[List[int]]) -> int:\n",
    "    # dp[i] := farthest position we can reach w / i refuels\n",
    "    dp = [startFuel] + [0] * len(stations)\n",
    "\n",
    "    for i, station in enumerate(stations):\n",
    "      for j in range(i + 1, 0, -1):\n",
    "        if dp[j - 1] >= station[0]:  # With j - 1 refuels, we can reach stations[i][0]\n",
    "          dp[j] = max(dp[j], dp[j - 1] + station[1])\n",
    "\n",
    "    for i, d in enumerate(dp):\n",
    "      if d >= target:\n",
    "        return i\n",
    "\n",
    "    return -1"
   ]
  },
  {
   "cell_type": "code",
   "execution_count": null,
   "id": "b7307a59",
   "metadata": {},
   "outputs": [],
   "source": [
    "new Solution().minRefuelStops()"
   ]
  }
 ],
 "metadata": {},
 "nbformat": 4,
 "nbformat_minor": 5
}

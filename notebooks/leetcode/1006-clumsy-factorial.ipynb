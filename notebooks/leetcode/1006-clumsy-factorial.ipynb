{
 "cells": [
  {
   "cell_type": "markdown",
   "id": "eb182120",
   "metadata": {},
   "source": [
    "https://leetcode.com/problems/clumsy-factorial"
   ]
  },
  {
   "cell_type": "code",
   "execution_count": null,
   "id": "8f6904f4",
   "metadata": {},
   "outputs": [],
   "source": [
    "import pyutil as pyu\n",
    "pyu.get_local_pyinfo()"
   ]
  },
  {
   "cell_type": "code",
   "execution_count": null,
   "id": "30964b44",
   "metadata": {},
   "outputs": [],
   "source": [
    "print(pyu.ps2(\"python-dotenv\"))"
   ]
  },
  {
   "cell_type": "code",
   "execution_count": null,
   "id": "57024394",
   "metadata": {},
   "outputs": [],
   "source": [
    "from typing import List"
   ]
  },
  {
   "cell_type": "code",
   "execution_count": null,
   "id": "eaaa53ca",
   "metadata": {},
   "outputs": [],
   "source": [
    "class Solution:\n",
    "  def clumsy(self, N: int) -> int:\n",
    "    if N == 1:\n",
    "      return 1\n",
    "    if N == 2:\n",
    "      return 2\n",
    "    if N == 3:\n",
    "      return 6\n",
    "    if N == 4:\n",
    "      return 7\n",
    "    if N % 4 == 1:\n",
    "      return N + 2\n",
    "    if N % 4 == 2:\n",
    "      return N + 2\n",
    "    if N % 4 == 3:\n",
    "      return N - 1\n",
    "    return N + 1"
   ]
  },
  {
   "cell_type": "code",
   "execution_count": null,
   "id": "39e71ff3",
   "metadata": {},
   "outputs": [],
   "source": [
    "new Solution().clumsy()"
   ]
  }
 ],
 "metadata": {},
 "nbformat": 4,
 "nbformat_minor": 5
}

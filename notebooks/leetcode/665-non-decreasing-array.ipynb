{
 "cells": [
  {
   "cell_type": "markdown",
   "id": "4f3cdd95",
   "metadata": {},
   "source": [
    "https://leetcode.com/problems/non-decreasing-array"
   ]
  },
  {
   "cell_type": "code",
   "execution_count": null,
   "id": "7e249879",
   "metadata": {},
   "outputs": [],
   "source": [
    "import pyutil as pyu\n",
    "pyu.get_local_pyinfo()"
   ]
  },
  {
   "cell_type": "code",
   "execution_count": null,
   "id": "acb6e99d",
   "metadata": {},
   "outputs": [],
   "source": [
    "print(pyu.ps2(\"python-dotenv\"))"
   ]
  },
  {
   "cell_type": "code",
   "execution_count": null,
   "id": "e6c1ef6e",
   "metadata": {},
   "outputs": [],
   "source": [
    "from typing import List"
   ]
  },
  {
   "cell_type": "code",
   "execution_count": null,
   "id": "bf698ccf",
   "metadata": {},
   "outputs": [],
   "source": [
    "class Solution:\n",
    "  def checkPossibility(self, nums: List[int]) -> bool:\n",
    "    j = None\n",
    "\n",
    "    for i in range(len(nums) - 1):\n",
    "      if nums[i] > nums[i + 1]:\n",
    "        if j is not None:\n",
    "          return False\n",
    "        j = i\n",
    "\n",
    "    return j is None or j == 0 or j == len(nums) - 2 or \\\n",
    "        nums[j - 1] <= nums[j + 1] or nums[j] <= nums[j + 2]"
   ]
  },
  {
   "cell_type": "code",
   "execution_count": null,
   "id": "e270fb48",
   "metadata": {},
   "outputs": [],
   "source": [
    "new Solution().checkPossibility()"
   ]
  }
 ],
 "metadata": {},
 "nbformat": 4,
 "nbformat_minor": 5
}

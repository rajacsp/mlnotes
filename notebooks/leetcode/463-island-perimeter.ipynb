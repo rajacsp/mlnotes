{
 "cells": [
  {
   "cell_type": "markdown",
   "id": "0f559902",
   "metadata": {},
   "source": [
    "https://leetcode.com/problems/island-perimeter"
   ]
  },
  {
   "cell_type": "code",
   "execution_count": null,
   "id": "d1493ddf",
   "metadata": {},
   "outputs": [],
   "source": [
    "import pyutil as pyu\n",
    "pyu.get_local_pyinfo()"
   ]
  },
  {
   "cell_type": "code",
   "execution_count": null,
   "id": "980059d0",
   "metadata": {},
   "outputs": [],
   "source": [
    "print(pyu.ps2(\"python-dotenv\"))"
   ]
  },
  {
   "cell_type": "code",
   "execution_count": null,
   "id": "c851bb32",
   "metadata": {},
   "outputs": [],
   "source": [
    "from typing import List"
   ]
  },
  {
   "cell_type": "code",
   "execution_count": null,
   "id": "6d634f78",
   "metadata": {},
   "outputs": [],
   "source": [
    "class Solution:\n",
    "  def islandPerimeter(self, grid: List[List[int]]) -> int:\n",
    "    m = len(grid)\n",
    "    n = len(grid[0])\n",
    "\n",
    "    islands = 0\n",
    "    neighbors = 0\n",
    "\n",
    "    for i in range(m):\n",
    "      for j in range(n):\n",
    "        if grid[i][j] == 1:\n",
    "          islands += 1\n",
    "          if i + 1 < m and grid[i + 1][j] == 1:\n",
    "            neighbors += 1\n",
    "          if j + 1 < n and grid[i][j + 1] == 1:\n",
    "            neighbors += 1\n",
    "\n",
    "    return islands * 4 - neighbors * 2"
   ]
  },
  {
   "cell_type": "code",
   "execution_count": null,
   "id": "b30af447",
   "metadata": {},
   "outputs": [],
   "source": [
    "new Solution().islandPerimeter()"
   ]
  }
 ],
 "metadata": {},
 "nbformat": 4,
 "nbformat_minor": 5
}

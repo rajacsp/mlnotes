{
 "cells": [
  {
   "cell_type": "markdown",
   "id": "1fffe61a",
   "metadata": {},
   "source": [
    "https://leetcode.com/problems/next-closest-time"
   ]
  },
  {
   "cell_type": "code",
   "execution_count": null,
   "id": "bed59b96",
   "metadata": {},
   "outputs": [],
   "source": [
    "import pyutil as pyu\n",
    "pyu.get_local_pyinfo()"
   ]
  },
  {
   "cell_type": "code",
   "execution_count": null,
   "id": "242a9107",
   "metadata": {},
   "outputs": [],
   "source": [
    "print(pyu.ps2(\"python-dotenv\"))"
   ]
  },
  {
   "cell_type": "code",
   "execution_count": null,
   "id": "d4c72289",
   "metadata": {},
   "outputs": [],
   "source": [
    "from typing import List"
   ]
  },
  {
   "cell_type": "code",
   "execution_count": null,
   "id": "24e403b4",
   "metadata": {},
   "outputs": [],
   "source": [
    "class Solution:\n",
    "  def nextClosestTime(self, time: str) -> str:\n",
    "    ans = list(time)\n",
    "    digits = sorted(ans)\n",
    "\n",
    "    def nextClosest(digit: chr, limit: chr) -> chr:\n",
    "      next = bisect_right(digits, digit)\n",
    "      return digits[0] if next == 4 or digits[next] > limit else digits[next]\n",
    "\n",
    "    ans[4] = nextClosest(ans[4], '9')\n",
    "    if time[4] < ans[4]:\n",
    "      return ''.join(ans)\n",
    "\n",
    "    ans[3] = nextClosest(ans[3], '5')\n",
    "    if time[3] < ans[3]:\n",
    "      return ''.join(ans)\n",
    "\n",
    "    ans[1] = nextClosest(ans[1], '3' if ans[0] == '2' else '9')\n",
    "    if time[1] < ans[1]:\n",
    "      return ''.join(ans)\n",
    "\n",
    "    ans[0] = nextClosest(ans[0], '2')\n",
    "    return ''.join(ans)"
   ]
  },
  {
   "cell_type": "code",
   "execution_count": null,
   "id": "8ed39428",
   "metadata": {},
   "outputs": [],
   "source": [
    "new Solution().nextClosestTime()"
   ]
  }
 ],
 "metadata": {},
 "nbformat": 4,
 "nbformat_minor": 5
}

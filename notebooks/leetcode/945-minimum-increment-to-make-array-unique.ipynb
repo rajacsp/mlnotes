{
 "cells": [
  {
   "cell_type": "markdown",
   "id": "f5a564ea",
   "metadata": {},
   "source": [
    "https://leetcode.com/problems/minimum-increment-to-make-array-unique"
   ]
  },
  {
   "cell_type": "code",
   "execution_count": null,
   "id": "7bde124a",
   "metadata": {},
   "outputs": [],
   "source": [
    "import pyutil as pyu\n",
    "pyu.get_local_pyinfo()"
   ]
  },
  {
   "cell_type": "code",
   "execution_count": null,
   "id": "b4b7ece2",
   "metadata": {},
   "outputs": [],
   "source": [
    "print(pyu.ps2(\"python-dotenv\"))"
   ]
  },
  {
   "cell_type": "code",
   "execution_count": null,
   "id": "82544501",
   "metadata": {},
   "outputs": [],
   "source": [
    "from typing import List"
   ]
  },
  {
   "cell_type": "code",
   "execution_count": null,
   "id": "efdcfa51",
   "metadata": {},
   "outputs": [],
   "source": [
    "class Solution:\n",
    "  def minIncrementForUnique(self, A: List[int]) -> int:\n",
    "    ans = 0\n",
    "    minAvailable = 0\n",
    "\n",
    "    A.sort()\n",
    "\n",
    "    for a in A:\n",
    "      ans += max(minAvailable - a, 0)\n",
    "      minAvailable = max(minAvailable, a) + 1\n",
    "\n",
    "    return ans"
   ]
  },
  {
   "cell_type": "code",
   "execution_count": null,
   "id": "5cdf5421",
   "metadata": {},
   "outputs": [],
   "source": [
    "new Solution().minIncrementForUnique()"
   ]
  }
 ],
 "metadata": {},
 "nbformat": 4,
 "nbformat_minor": 5
}

{
 "cells": [
  {
   "cell_type": "markdown",
   "id": "d1e99890",
   "metadata": {},
   "source": [
    "https://leetcode.com/problems/reverse-integer"
   ]
  },
  {
   "cell_type": "code",
   "execution_count": null,
   "id": "ce3c1d52",
   "metadata": {},
   "outputs": [],
   "source": [
    "import pyutil as pyu\n",
    "pyu.get_local_pyinfo()"
   ]
  },
  {
   "cell_type": "code",
   "execution_count": null,
   "id": "8a3e6e9b",
   "metadata": {},
   "outputs": [],
   "source": [
    "print(pyu.ps2(\"python-dotenv\"))"
   ]
  },
  {
   "cell_type": "code",
   "execution_count": null,
   "id": "59a8dd0e",
   "metadata": {},
   "outputs": [],
   "source": [
    "from typing import List"
   ]
  },
  {
   "cell_type": "code",
   "execution_count": null,
   "id": "d02f1be2",
   "metadata": {},
   "outputs": [],
   "source": [
    "class Solution:\n",
    "  def reverse(self, x: int) -> int:\n",
    "    ans = 0\n",
    "    sign = -1 if x < 0 else 1\n",
    "    x *= sign\n",
    "\n",
    "    while x:\n",
    "      ans = ans * 10 + x % 10\n",
    "      x //= 10\n",
    "\n",
    "    return 0 if ans < -2**31 or ans > 2**31 - 1 else sign * ans"
   ]
  },
  {
   "cell_type": "code",
   "execution_count": null,
   "id": "c3d2f073",
   "metadata": {},
   "outputs": [],
   "source": [
    "new Solution().reverse()"
   ]
  }
 ],
 "metadata": {},
 "nbformat": 4,
 "nbformat_minor": 5
}

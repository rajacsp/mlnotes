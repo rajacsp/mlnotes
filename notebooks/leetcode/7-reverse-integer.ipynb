{
 "cells": [
  {
   "cell_type": "code",
   "execution_count": 5,
   "id": "db25c914-1252-4bae-8dbe-3a20e361bd73",
   "metadata": {},
   "outputs": [],
   "source": [
    "# https://leetcode.com/problems/reverse-integer/description/"
   ]
  },
  {
   "cell_type": "code",
   "execution_count": 2,
   "id": "0c10588e-e9e7-4b8c-b92b-91104a273df0",
   "metadata": {},
   "outputs": [
    {
     "data": {
      "text/plain": [
       "'conda env: ml311; pyv: 3.11.10 (main, Oct  3 2024, 07:29:13) [GCC 11.2.0]'"
      ]
     },
     "execution_count": 2,
     "metadata": {},
     "output_type": "execute_result"
    }
   ],
   "source": [
    "import pyutil as pyu\n",
    "pyu.get_local_pyinfo()"
   ]
  },
  {
   "cell_type": "code",
   "execution_count": 4,
   "id": "c2ccb592-b983-4856-a241-5898cab06699",
   "metadata": {},
   "outputs": [],
   "source": [
    "# print(pyu.ps2(\"scipy\"))"
   ]
  },
  {
   "cell_type": "code",
   "execution_count": null,
   "id": "e290a4be-0793-4902-b10b-44429cb937f9",
   "metadata": {},
   "outputs": [],
   "source": []
  },
  {
   "cell_type": "code",
   "execution_count": 1,
   "id": "2254118f-d279-4865-9ef8-74018c0d0bff",
   "metadata": {},
   "outputs": [],
   "source": [
    "class Solution:\n",
    "  def reverse(self, x: int) -> int:\n",
    "    ans = 0\n",
    "    sign = -1 if x < 0 else 1\n",
    "    x *= sign\n",
    "\n",
    "    while x:\n",
    "      ans = ans * 10 + x % 10\n",
    "      x //= 10\n",
    "\n",
    "    return 0 if ans < -2**31 or ans > 2**31 - 1 else sign * ans"
   ]
  },
  {
   "cell_type": "code",
   "execution_count": 2,
   "id": "b7c8b16b-1f70-4df3-90d5-a107bd15d641",
   "metadata": {},
   "outputs": [
    {
     "data": {
      "text/plain": [
       "321"
      ]
     },
     "execution_count": 2,
     "metadata": {},
     "output_type": "execute_result"
    }
   ],
   "source": [
    "Solution().reverse(123)"
   ]
  },
  {
   "cell_type": "code",
   "execution_count": 3,
   "id": "2b2db695-1182-4c7e-83a3-53f87e4d9ddb",
   "metadata": {},
   "outputs": [
    {
     "data": {
      "text/plain": [
       "-321"
      ]
     },
     "execution_count": 3,
     "metadata": {},
     "output_type": "execute_result"
    }
   ],
   "source": [
    "Solution().reverse(-123)"
   ]
  },
  {
   "cell_type": "code",
   "execution_count": 4,
   "id": "93e21d2c-06fc-42b7-afeb-c7e13fed7b22",
   "metadata": {},
   "outputs": [
    {
     "data": {
      "text/plain": [
       "21"
      ]
     },
     "execution_count": 4,
     "metadata": {},
     "output_type": "execute_result"
    }
   ],
   "source": [
    "Solution().reverse(120)"
   ]
  },
  {
   "cell_type": "code",
   "execution_count": null,
   "id": "a4db8e81-9de3-4882-9858-8951c2f1fa05",
   "metadata": {},
   "outputs": [],
   "source": []
  }
 ],
 "metadata": {
  "kernelspec": {
   "display_name": "Python 3 (ipykernel)",
   "language": "python",
   "name": "python3"
  },
  "language_info": {
   "codemirror_mode": {
    "name": "ipython",
    "version": 3
   },
   "file_extension": ".py",
   "mimetype": "text/x-python",
   "name": "python",
   "nbconvert_exporter": "python",
   "pygments_lexer": "ipython3",
   "version": "3.11.10"
  }
 },
 "nbformat": 4,
 "nbformat_minor": 5
}

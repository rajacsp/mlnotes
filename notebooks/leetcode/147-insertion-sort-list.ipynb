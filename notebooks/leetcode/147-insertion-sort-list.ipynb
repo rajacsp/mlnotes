{
 "cells": [
  {
   "cell_type": "markdown",
   "id": "90b1fe13",
   "metadata": {},
   "source": [
    "https://leetcode.com/problems/insertion-sort-list"
   ]
  },
  {
   "cell_type": "code",
   "execution_count": null,
   "id": "9476c5bb",
   "metadata": {},
   "outputs": [],
   "source": [
    "import pyutil as pyu\n",
    "pyu.get_local_pyinfo()"
   ]
  },
  {
   "cell_type": "code",
   "execution_count": null,
   "id": "bc52c2f5",
   "metadata": {},
   "outputs": [],
   "source": [
    "print(pyu.ps2(\"python-dotenv\"))"
   ]
  },
  {
   "cell_type": "code",
   "execution_count": null,
   "id": "42dea4fe",
   "metadata": {},
   "outputs": [],
   "source": [
    "from typing import List"
   ]
  },
  {
   "cell_type": "code",
   "execution_count": null,
   "id": "06323ba6",
   "metadata": {},
   "outputs": [],
   "source": [
    "class Solution:\n",
    "  def insertionSortList(self, head: ListNode) -> ListNode:\n",
    "    dummy = ListNode(0)\n",
    "    curr = head\n",
    "\n",
    "    while curr:\n",
    "      prev = dummy\n",
    "      while prev.next and prev.next.val < curr.val:\n",
    "        prev = prev.next\n",
    "      next = curr.next\n",
    "      curr.next = prev.next\n",
    "      prev.next = curr\n",
    "      curr = next\n",
    "\n",
    "    return dummy.next"
   ]
  },
  {
   "cell_type": "code",
   "execution_count": null,
   "id": "69dc6ef3",
   "metadata": {},
   "outputs": [],
   "source": [
    "new Solution().insertionSortList()"
   ]
  }
 ],
 "metadata": {},
 "nbformat": 4,
 "nbformat_minor": 5
}

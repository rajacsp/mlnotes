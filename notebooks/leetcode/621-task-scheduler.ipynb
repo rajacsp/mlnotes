{
 "cells": [
  {
   "cell_type": "markdown",
   "id": "64e90b16",
   "metadata": {},
   "source": [
    "https://leetcode.com/problems/task-scheduler"
   ]
  },
  {
   "cell_type": "code",
   "execution_count": null,
   "id": "422905ef",
   "metadata": {},
   "outputs": [],
   "source": [
    "import pyutil as pyu\n",
    "pyu.get_local_pyinfo()"
   ]
  },
  {
   "cell_type": "code",
   "execution_count": null,
   "id": "a12dc810",
   "metadata": {},
   "outputs": [],
   "source": [
    "print(pyu.ps2(\"python-dotenv\"))"
   ]
  },
  {
   "cell_type": "code",
   "execution_count": null,
   "id": "0379e642",
   "metadata": {},
   "outputs": [],
   "source": [
    "from typing import List"
   ]
  },
  {
   "cell_type": "code",
   "execution_count": null,
   "id": "99c6b0ee",
   "metadata": {},
   "outputs": [],
   "source": [
    "class Solution:\n",
    "  def leastInterval(self, tasks: List[str], n: int) -> int:\n",
    "    count = Counter(tasks)\n",
    "    maxFreq = max(count.values())\n",
    "    # Put the most frequent task in the slot first\n",
    "    maxFreqTaskOccupy = (maxFreq - 1) * (n + 1)\n",
    "    # Get # Of tasks with same frequency as maxFreq,\n",
    "    # we'll append them after maxFreqTaskOccupy\n",
    "    nMaxFreq = sum(value == maxFreq for value in count.values())\n",
    "    # Max(\n",
    "    #   the most frequent task is frequent enough to force some idle slots,\n",
    "    #   the most frequent task is not frequent enough to force idle slots\n",
    "    # )\n",
    "    return max(maxFreqTaskOccupy + nMaxFreq, len(tasks))"
   ]
  },
  {
   "cell_type": "code",
   "execution_count": null,
   "id": "f4d9cbe9",
   "metadata": {},
   "outputs": [],
   "source": [
    "new Solution().leastInterval()"
   ]
  }
 ],
 "metadata": {},
 "nbformat": 4,
 "nbformat_minor": 5
}

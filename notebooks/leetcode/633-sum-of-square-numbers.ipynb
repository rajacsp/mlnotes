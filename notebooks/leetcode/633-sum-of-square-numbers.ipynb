{
 "cells": [
  {
   "cell_type": "markdown",
   "id": "c3d7b34d",
   "metadata": {},
   "source": [
    "https://leetcode.com/problems/sum-of-square-numbers"
   ]
  },
  {
   "cell_type": "code",
   "execution_count": null,
   "id": "dc6119f6",
   "metadata": {},
   "outputs": [],
   "source": [
    "import pyutil as pyu\n",
    "pyu.get_local_pyinfo()"
   ]
  },
  {
   "cell_type": "code",
   "execution_count": null,
   "id": "cc1561d4",
   "metadata": {},
   "outputs": [],
   "source": [
    "print(pyu.ps2(\"python-dotenv\"))"
   ]
  },
  {
   "cell_type": "code",
   "execution_count": null,
   "id": "b1379105",
   "metadata": {},
   "outputs": [],
   "source": [
    "from typing import List"
   ]
  },
  {
   "cell_type": "code",
   "execution_count": null,
   "id": "e4a1fa08",
   "metadata": {},
   "outputs": [],
   "source": [
    "class Solution:\n",
    "  def judgeSquareSum(self, c: int) -> bool:\n",
    "    l = 0\n",
    "    r = int(sqrt(c))\n",
    "\n",
    "    while l <= r:\n",
    "      summ = l * l + r * r\n",
    "      if summ == c:\n",
    "        return True\n",
    "      if summ < c:\n",
    "        l += 1\n",
    "      else:\n",
    "        r -= 1\n",
    "\n",
    "    return False"
   ]
  },
  {
   "cell_type": "code",
   "execution_count": null,
   "id": "57c06b89",
   "metadata": {},
   "outputs": [],
   "source": [
    "new Solution().judgeSquareSum()"
   ]
  }
 ],
 "metadata": {},
 "nbformat": 4,
 "nbformat_minor": 5
}

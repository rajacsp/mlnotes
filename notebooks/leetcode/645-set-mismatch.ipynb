{
 "cells": [
  {
   "cell_type": "markdown",
   "id": "c1d841d8",
   "metadata": {},
   "source": [
    "https://leetcode.com/problems/set-mismatch"
   ]
  },
  {
   "cell_type": "code",
   "execution_count": null,
   "id": "01208586",
   "metadata": {},
   "outputs": [],
   "source": [
    "import pyutil as pyu\n",
    "pyu.get_local_pyinfo()"
   ]
  },
  {
   "cell_type": "code",
   "execution_count": null,
   "id": "9648ecb2",
   "metadata": {},
   "outputs": [],
   "source": [
    "print(pyu.ps2(\"python-dotenv\"))"
   ]
  },
  {
   "cell_type": "code",
   "execution_count": null,
   "id": "bf219fdd",
   "metadata": {},
   "outputs": [],
   "source": [
    "from typing import List"
   ]
  },
  {
   "cell_type": "code",
   "execution_count": null,
   "id": "5654f2f0",
   "metadata": {},
   "outputs": [],
   "source": [
    "class Solution:\n",
    "  def findErrorNums(self, nums: List[int]) -> List[int]:\n",
    "    for num in nums:\n",
    "      if nums[abs(num) - 1] < 0:\n",
    "        duplicate = abs(num)\n",
    "      else:\n",
    "        nums[abs(num) - 1] *= -1\n",
    "\n",
    "    for i, num in enumerate(nums):\n",
    "      if num > 0:\n",
    "        return [duplicate, i + 1]"
   ]
  },
  {
   "cell_type": "code",
   "execution_count": null,
   "id": "5db9ddec",
   "metadata": {},
   "outputs": [],
   "source": [
    "new Solution().findErrorNums()"
   ]
  }
 ],
 "metadata": {},
 "nbformat": 4,
 "nbformat_minor": 5
}

{
 "cells": [
  {
   "cell_type": "markdown",
   "id": "3e20f0c4",
   "metadata": {},
   "source": [
    "https://leetcode.com/problems/merge-two-binary-trees"
   ]
  },
  {
   "cell_type": "code",
   "execution_count": null,
   "id": "c086fb1e",
   "metadata": {},
   "outputs": [],
   "source": [
    "import pyutil as pyu\n",
    "pyu.get_local_pyinfo()"
   ]
  },
  {
   "cell_type": "code",
   "execution_count": null,
   "id": "3a87de2a",
   "metadata": {},
   "outputs": [],
   "source": [
    "print(pyu.ps2(\"python-dotenv\"))"
   ]
  },
  {
   "cell_type": "code",
   "execution_count": null,
   "id": "efe5987d",
   "metadata": {},
   "outputs": [],
   "source": [
    "from typing import List"
   ]
  },
  {
   "cell_type": "code",
   "execution_count": null,
   "id": "1ab227c6",
   "metadata": {},
   "outputs": [],
   "source": [
    "class Solution:\n",
    "  def mergeTrees(self, root1: Optional[TreeNode], root2: Optional[TreeNode]) -> Optional[TreeNode]:\n",
    "    if not root1 and not root2:\n",
    "      return None\n",
    "    val = (root1.val if root1 else 0) + (root2.val if root2 else 0)\n",
    "    root = TreeNode(val)\n",
    "    root.left = self.mergeTrees(root1.left if root1 else None,\n",
    "                                root2.left if root2 else None)\n",
    "    root.right = self.mergeTrees(root1.right if root1 else None,\n",
    "                                 root2.right if root2 else None)\n",
    "    return root"
   ]
  },
  {
   "cell_type": "code",
   "execution_count": null,
   "id": "2ce2f1b5",
   "metadata": {},
   "outputs": [],
   "source": [
    "new Solution().mergeTrees()"
   ]
  }
 ],
 "metadata": {},
 "nbformat": 4,
 "nbformat_minor": 5
}

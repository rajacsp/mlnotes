{
 "cells": [
  {
   "cell_type": "markdown",
   "id": "e5db3b7b",
   "metadata": {},
   "source": [
    "https://leetcode.com/problems/maximum-size-subarray-sum-equals-k"
   ]
  },
  {
   "cell_type": "code",
   "execution_count": null,
   "id": "badfff7b",
   "metadata": {},
   "outputs": [],
   "source": [
    "import pyutil as pyu\n",
    "pyu.get_local_pyinfo()"
   ]
  },
  {
   "cell_type": "code",
   "execution_count": null,
   "id": "2e070165",
   "metadata": {},
   "outputs": [],
   "source": [
    "print(pyu.ps2(\"python-dotenv\"))"
   ]
  },
  {
   "cell_type": "code",
   "execution_count": null,
   "id": "a0a856aa",
   "metadata": {},
   "outputs": [],
   "source": [
    "from typing import List"
   ]
  },
  {
   "cell_type": "code",
   "execution_count": null,
   "id": "1a87e799",
   "metadata": {},
   "outputs": [],
   "source": [
    "class Solution:\n",
    "  def maxSubArrayLen(self, nums: List[int], k: int) -> int:\n",
    "    ans = 0\n",
    "    prefix = 0\n",
    "    prefixToIndex = {0: -1}\n",
    "\n",
    "    for i, num in enumerate(nums):\n",
    "      prefix += num\n",
    "      target = prefix - k\n",
    "      if target in prefixToIndex:\n",
    "        ans = max(ans, i - prefixToIndex[target])\n",
    "      if prefix not in prefixToIndex:\n",
    "        prefixToIndex[prefix] = i\n",
    "\n",
    "    return ans"
   ]
  },
  {
   "cell_type": "code",
   "execution_count": null,
   "id": "a23613df",
   "metadata": {},
   "outputs": [],
   "source": [
    "new Solution().maxSubArrayLen()"
   ]
  }
 ],
 "metadata": {},
 "nbformat": 4,
 "nbformat_minor": 5
}

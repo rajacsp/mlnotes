{
 "cells": [
  {
   "cell_type": "markdown",
   "id": "c359ae96",
   "metadata": {},
   "source": [
    "https://leetcode.com/problems/array-partition"
   ]
  },
  {
   "cell_type": "code",
   "execution_count": null,
   "id": "223f104d",
   "metadata": {},
   "outputs": [],
   "source": [
    "import pyutil as pyu\n",
    "pyu.get_local_pyinfo()"
   ]
  },
  {
   "cell_type": "code",
   "execution_count": null,
   "id": "aa6b1a86",
   "metadata": {},
   "outputs": [],
   "source": [
    "print(pyu.ps2(\"python-dotenv\"))"
   ]
  },
  {
   "cell_type": "code",
   "execution_count": null,
   "id": "217353b0",
   "metadata": {},
   "outputs": [],
   "source": [
    "from typing import List"
   ]
  },
  {
   "cell_type": "code",
   "execution_count": null,
   "id": "d8f06f5b",
   "metadata": {},
   "outputs": [],
   "source": [
    "class Solution:\n",
    "  def arrayPairSum(self, nums: List[int]) -> int:\n",
    "    return sum(sorted(nums)[::2])"
   ]
  },
  {
   "cell_type": "code",
   "execution_count": null,
   "id": "76dd1209",
   "metadata": {},
   "outputs": [],
   "source": [
    "new Solution().arrayPairSum()"
   ]
  }
 ],
 "metadata": {},
 "nbformat": 4,
 "nbformat_minor": 5
}

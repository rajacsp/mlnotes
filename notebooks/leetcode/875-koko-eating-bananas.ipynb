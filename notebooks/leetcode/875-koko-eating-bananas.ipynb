{
 "cells": [
  {
   "cell_type": "markdown",
   "id": "6be942ab",
   "metadata": {},
   "source": [
    "https://leetcode.com/problems/koko-eating-bananas"
   ]
  },
  {
   "cell_type": "code",
   "execution_count": null,
   "id": "55b4af76",
   "metadata": {},
   "outputs": [],
   "source": [
    "import pyutil as pyu\n",
    "pyu.get_local_pyinfo()"
   ]
  },
  {
   "cell_type": "code",
   "execution_count": null,
   "id": "8d556cc5",
   "metadata": {},
   "outputs": [],
   "source": [
    "print(pyu.ps2(\"python-dotenv\"))"
   ]
  },
  {
   "cell_type": "code",
   "execution_count": null,
   "id": "f540034a",
   "metadata": {},
   "outputs": [],
   "source": [
    "from typing import List"
   ]
  },
  {
   "cell_type": "code",
   "execution_count": null,
   "id": "a832373c",
   "metadata": {},
   "outputs": [],
   "source": [
    "class Solution:\n",
    "  def minEatingSpeed(self, piles: List[int], h: int) -> int:\n",
    "    l = 1\n",
    "    r = max(piles)\n",
    "\n",
    "    # Hours to eat all piles with speed m\n",
    "    def eatHours(m: int) -> int:\n",
    "      return sum((pile - 1) // m + 1 for pile in piles)\n",
    "\n",
    "    while l < r:\n",
    "      m = (l + r) // 2\n",
    "      if eatHours(m) <= h:\n",
    "        r = m\n",
    "      else:\n",
    "        l = m + 1\n",
    "\n",
    "    return l"
   ]
  },
  {
   "cell_type": "code",
   "execution_count": null,
   "id": "eba4f335",
   "metadata": {},
   "outputs": [],
   "source": [
    "new Solution().minEatingSpeed()"
   ]
  }
 ],
 "metadata": {},
 "nbformat": 4,
 "nbformat_minor": 5
}

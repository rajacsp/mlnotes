{
 "cells": [
  {
   "cell_type": "markdown",
   "id": "f0744eff",
   "metadata": {},
   "source": [
    "https://leetcode.com/problems/word-ladder-ii"
   ]
  },
  {
   "cell_type": "code",
   "execution_count": null,
   "id": "70b6796e",
   "metadata": {},
   "outputs": [],
   "source": [
    "import pyutil as pyu\n",
    "pyu.get_local_pyinfo()"
   ]
  },
  {
   "cell_type": "code",
   "execution_count": null,
   "id": "e3edbde7",
   "metadata": {},
   "outputs": [],
   "source": [
    "print(pyu.ps2(\"python-dotenv\"))"
   ]
  },
  {
   "cell_type": "code",
   "execution_count": null,
   "id": "3f5eb798",
   "metadata": {},
   "outputs": [],
   "source": [
    "from typing import List"
   ]
  },
  {
   "cell_type": "code",
   "execution_count": null,
   "id": "32e3bdcd",
   "metadata": {},
   "outputs": [],
   "source": [
    "class Solution:\n",
    "  def findLadders(self, beginWord: str, endWord: str, wordList: List[str]) -> List[List[str]]:\n",
    "    wordSet = set(wordList)\n",
    "    if endWord not in wordList:\n",
    "      return []\n",
    "\n",
    "    # {\"hit\": [\"hot\"], \"hot\": [\"dot\", \"lot\"], ...}\n",
    "    graph: Dict[str, List[str]] = defaultdict(list)\n",
    "\n",
    "    # Build graph from beginWord -> endWord\n",
    "    if not self._bfs(beginWord, endWord, wordSet, graph):\n",
    "      return []\n",
    "\n",
    "    ans = []\n",
    "\n",
    "    self._dfs(graph, beginWord, endWord, [beginWord], ans)\n",
    "    return ans\n",
    "\n",
    "  def _bfs(self, beginWord: str, endWord: str, wordSet: Set[str], graph: Dict[str, List[str]]) -> bool:\n",
    "    currentLevelWords = {beginWord}\n",
    "\n",
    "    while currentLevelWords:\n",
    "      for word in currentLevelWords:\n",
    "        wordSet.discard(word)\n",
    "      nextLevelWords = set()\n",
    "      reachEndWord = False\n",
    "      for parent in currentLevelWords:\n",
    "        for child in self._getChildren(parent, wordSet):\n",
    "          if child in wordSet:\n",
    "            nextLevelWords.add(child)\n",
    "            graph[parent].append(child)\n",
    "          if child == endWord:\n",
    "            reachEndWord = True\n",
    "      if reachEndWord:\n",
    "        return True\n",
    "      currentLevelWords = nextLevelWords\n",
    "\n",
    "    return False\n",
    "\n",
    "  def _getChildren(self, parent: str, wordSet: Set[str]) -> List[str]:\n",
    "    children = []\n",
    "    s = list(parent)\n",
    "\n",
    "    for i, cache in enumerate(s):\n",
    "      for c in string.ascii_lowercase:\n",
    "        if c == cache:\n",
    "          continue\n",
    "        s[i] = c\n",
    "        child = ''.join(s)\n",
    "        if child in wordSet:\n",
    "          children.append(child)\n",
    "      s[i] = cache\n",
    "\n",
    "    return children\n",
    "\n",
    "  def _dfs(self, graph: Dict[str, List[str]], word: str, endWord: str, path: List[str], ans: List[List[str]]) -> None:\n",
    "    if word == endWord:\n",
    "      ans.append(path.copy())\n",
    "      return\n",
    "\n",
    "    for child in graph.get(word, []):\n",
    "      path.append(child)\n",
    "      self._dfs(graph, child, endWord, path, ans)\n",
    "      path.pop()"
   ]
  },
  {
   "cell_type": "code",
   "execution_count": null,
   "id": "406843f2",
   "metadata": {},
   "outputs": [],
   "source": [
    "new Solution().findLadders()"
   ]
  }
 ],
 "metadata": {},
 "nbformat": 4,
 "nbformat_minor": 5
}

{
 "cells": [
  {
   "cell_type": "markdown",
   "id": "bd7cd9c7",
   "metadata": {},
   "source": [
    "https://leetcode.com/problems/best-time-to-buy-and-sell-stock-with-cooldown"
   ]
  },
  {
   "cell_type": "code",
   "execution_count": null,
   "id": "fb0ddff8",
   "metadata": {},
   "outputs": [],
   "source": [
    "import pyutil as pyu\n",
    "pyu.get_local_pyinfo()"
   ]
  },
  {
   "cell_type": "code",
   "execution_count": null,
   "id": "d57b4a40",
   "metadata": {},
   "outputs": [],
   "source": [
    "print(pyu.ps2(\"python-dotenv\"))"
   ]
  },
  {
   "cell_type": "code",
   "execution_count": null,
   "id": "a18a673f",
   "metadata": {},
   "outputs": [],
   "source": [
    "from typing import List"
   ]
  },
  {
   "cell_type": "code",
   "execution_count": null,
   "id": "06f7bb92",
   "metadata": {},
   "outputs": [],
   "source": [
    "class Solution:\n",
    "  def maxProfit(self, prices: List[int]) -> int:\n",
    "    sell = 0\n",
    "    hold = -math.inf\n",
    "    prev = 0\n",
    "\n",
    "    for price in prices:\n",
    "      cache = sell\n",
    "      sell = max(sell, hold + price)\n",
    "      hold = max(hold, prev - price)\n",
    "      prev = cache\n",
    "\n",
    "    return sell"
   ]
  },
  {
   "cell_type": "code",
   "execution_count": null,
   "id": "27206162",
   "metadata": {},
   "outputs": [],
   "source": [
    "new Solution().maxProfit()"
   ]
  }
 ],
 "metadata": {},
 "nbformat": 4,
 "nbformat_minor": 5
}

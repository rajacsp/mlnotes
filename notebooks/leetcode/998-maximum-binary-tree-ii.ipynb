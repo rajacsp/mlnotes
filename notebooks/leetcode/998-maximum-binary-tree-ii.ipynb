{
 "cells": [
  {
   "cell_type": "markdown",
   "id": "35f076dc",
   "metadata": {},
   "source": [
    "https://leetcode.com/problems/maximum-binary-tree-ii"
   ]
  },
  {
   "cell_type": "code",
   "execution_count": null,
   "id": "77d71a37",
   "metadata": {},
   "outputs": [],
   "source": [
    "import pyutil as pyu\n",
    "pyu.get_local_pyinfo()"
   ]
  },
  {
   "cell_type": "code",
   "execution_count": null,
   "id": "93140228",
   "metadata": {},
   "outputs": [],
   "source": [
    "print(pyu.ps2(\"python-dotenv\"))"
   ]
  },
  {
   "cell_type": "code",
   "execution_count": null,
   "id": "a12b4797",
   "metadata": {},
   "outputs": [],
   "source": [
    "from typing import List"
   ]
  },
  {
   "cell_type": "code",
   "execution_count": null,
   "id": "e2590caf",
   "metadata": {},
   "outputs": [],
   "source": [
    "class Solution:\n",
    "  def insertIntoMaxTree(self, root: Optional[TreeNode], val: int) -> Optional[TreeNode]:\n",
    "    if not root:\n",
    "      return TreeNode(val)\n",
    "    if root.val < val:\n",
    "      return TreeNode(val, root, None)\n",
    "    root.right = self.insertIntoMaxTree(root.right, val)\n",
    "    return root"
   ]
  },
  {
   "cell_type": "code",
   "execution_count": null,
   "id": "bc1aa2f0",
   "metadata": {},
   "outputs": [],
   "source": [
    "new Solution().insertIntoMaxTree()"
   ]
  }
 ],
 "metadata": {},
 "nbformat": 4,
 "nbformat_minor": 5
}

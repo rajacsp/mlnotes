{
 "cells": [
  {
   "cell_type": "markdown",
   "id": "d9ab5510",
   "metadata": {},
   "source": [
    "https://leetcode.com/problems/path-sum"
   ]
  },
  {
   "cell_type": "code",
   "execution_count": null,
   "id": "729879e8",
   "metadata": {},
   "outputs": [],
   "source": [
    "import pyutil as pyu\n",
    "pyu.get_local_pyinfo()"
   ]
  },
  {
   "cell_type": "code",
   "execution_count": null,
   "id": "7f0956c4",
   "metadata": {},
   "outputs": [],
   "source": [
    "print(pyu.ps2(\"python-dotenv\"))"
   ]
  },
  {
   "cell_type": "code",
   "execution_count": null,
   "id": "1869d666",
   "metadata": {},
   "outputs": [],
   "source": [
    "from typing import List"
   ]
  },
  {
   "cell_type": "code",
   "execution_count": null,
   "id": "7c62291f",
   "metadata": {},
   "outputs": [],
   "source": [
    "class Solution:\n",
    "  def hasPathSum(self, root: TreeNode, summ: int) -> bool:\n",
    "    if not root:\n",
    "      return False\n",
    "    if root.val == summ and not root.left and not root.right:\n",
    "      return True\n",
    "    return self.hasPathSum(root.left, summ - root.val) or \\\n",
    "        self.hasPathSum(root.right, summ - root.val)"
   ]
  },
  {
   "cell_type": "code",
   "execution_count": null,
   "id": "8f5c4ba7",
   "metadata": {},
   "outputs": [],
   "source": [
    "new Solution().hasPathSum()"
   ]
  }
 ],
 "metadata": {},
 "nbformat": 4,
 "nbformat_minor": 5
}

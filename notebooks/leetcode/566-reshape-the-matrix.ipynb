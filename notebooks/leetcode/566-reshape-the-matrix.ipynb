{
 "cells": [
  {
   "cell_type": "markdown",
   "id": "2f005cfd",
   "metadata": {},
   "source": [
    "https://leetcode.com/problems/reshape-the-matrix"
   ]
  },
  {
   "cell_type": "code",
   "execution_count": null,
   "id": "4abeef71",
   "metadata": {},
   "outputs": [],
   "source": [
    "import pyutil as pyu\n",
    "pyu.get_local_pyinfo()"
   ]
  },
  {
   "cell_type": "code",
   "execution_count": null,
   "id": "133cda53",
   "metadata": {},
   "outputs": [],
   "source": [
    "print(pyu.ps2(\"python-dotenv\"))"
   ]
  },
  {
   "cell_type": "code",
   "execution_count": null,
   "id": "b631eda7",
   "metadata": {},
   "outputs": [],
   "source": [
    "from typing import List"
   ]
  },
  {
   "cell_type": "code",
   "execution_count": null,
   "id": "b3a9c920",
   "metadata": {},
   "outputs": [],
   "source": [
    "class Solution:\n",
    "  def matrixReshape(self, nums: List[List[int]], r: int, c: int) -> List[List[int]]:\n",
    "    if nums == [] or r * c != len(nums) * len(nums[0]):\n",
    "      return nums\n",
    "\n",
    "    ans = [[0 for j in range(c)] for i in range(r)]\n",
    "    k = 0\n",
    "\n",
    "    for row in nums:\n",
    "      for num in row:\n",
    "        ans[k // c][k % c] = num\n",
    "        k += 1\n",
    "\n",
    "    return ans"
   ]
  },
  {
   "cell_type": "code",
   "execution_count": null,
   "id": "643e4561",
   "metadata": {},
   "outputs": [],
   "source": [
    "new Solution().matrixReshape()"
   ]
  }
 ],
 "metadata": {},
 "nbformat": 4,
 "nbformat_minor": 5
}

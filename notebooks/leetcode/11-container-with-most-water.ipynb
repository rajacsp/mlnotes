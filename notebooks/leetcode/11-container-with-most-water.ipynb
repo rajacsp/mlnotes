{
 "cells": [
  {
   "cell_type": "markdown",
   "id": "4a3740b8",
   "metadata": {},
   "source": [
    "https://leetcode.com/problems/container-with-most-water"
   ]
  },
  {
   "cell_type": "code",
   "execution_count": null,
   "id": "2360ea72",
   "metadata": {},
   "outputs": [],
   "source": [
    "import pyutil as pyu\n",
    "pyu.get_local_pyinfo()"
   ]
  },
  {
   "cell_type": "code",
   "execution_count": null,
   "id": "30132b55",
   "metadata": {},
   "outputs": [],
   "source": [
    "print(pyu.ps2(\"python-dotenv\"))"
   ]
  },
  {
   "cell_type": "code",
   "execution_count": null,
   "id": "4ca83ac2",
   "metadata": {},
   "outputs": [],
   "source": [
    "from typing import List"
   ]
  },
  {
   "cell_type": "code",
   "execution_count": null,
   "id": "b35fa07a",
   "metadata": {},
   "outputs": [],
   "source": [
    "class Solution:\n",
    "  def maxArea(self, height: List[int]) -> int:\n",
    "    ans = 0\n",
    "    l = 0\n",
    "    r = len(height) - 1\n",
    "\n",
    "    while l < r:\n",
    "      minHeight = min(height[l], height[r])\n",
    "      ans = max(ans, minHeight * (r - l))\n",
    "      if height[l] < height[r]:\n",
    "        l += 1\n",
    "      else:\n",
    "        r -= 1\n",
    "\n",
    "    return ans"
   ]
  },
  {
   "cell_type": "code",
   "execution_count": null,
   "id": "69d7cbdb",
   "metadata": {},
   "outputs": [],
   "source": [
    "new Solution().maxArea()"
   ]
  }
 ],
 "metadata": {},
 "nbformat": 4,
 "nbformat_minor": 5
}

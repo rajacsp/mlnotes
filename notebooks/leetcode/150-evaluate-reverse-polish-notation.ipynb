{
 "cells": [
  {
   "cell_type": "markdown",
   "id": "882a759b",
   "metadata": {},
   "source": [
    "https://leetcode.com/problems/evaluate-reverse-polish-notation"
   ]
  },
  {
   "cell_type": "code",
   "execution_count": null,
   "id": "fae2e1a9",
   "metadata": {},
   "outputs": [],
   "source": [
    "import pyutil as pyu\n",
    "pyu.get_local_pyinfo()"
   ]
  },
  {
   "cell_type": "code",
   "execution_count": null,
   "id": "6d8b7982",
   "metadata": {},
   "outputs": [],
   "source": [
    "print(pyu.ps2(\"python-dotenv\"))"
   ]
  },
  {
   "cell_type": "code",
   "execution_count": null,
   "id": "a907e71d",
   "metadata": {},
   "outputs": [],
   "source": [
    "from typing import List"
   ]
  },
  {
   "cell_type": "code",
   "execution_count": null,
   "id": "ab0b30b6",
   "metadata": {},
   "outputs": [],
   "source": [
    "class Solution:\n",
    "  def evalRPN(self, tokens: List[str]) -> int:\n",
    "    stack = []\n",
    "    operators = {\n",
    "        '+': lambda a, b: a + b,\n",
    "        '-': lambda a, b: a - b,\n",
    "        '*': lambda a, b: a * b,\n",
    "        '/': lambda a, b: int(a / b),\n",
    "    }\n",
    "\n",
    "    for token in tokens:\n",
    "      if token in operators:\n",
    "        b = stack.pop()\n",
    "        a = stack.pop()\n",
    "        stack.append(operators[token](a, b))\n",
    "      else:\n",
    "        stack.append(int(token))\n",
    "\n",
    "    return stack[0]"
   ]
  },
  {
   "cell_type": "code",
   "execution_count": null,
   "id": "3e4cd15e",
   "metadata": {},
   "outputs": [],
   "source": [
    "new Solution().evalRPN()"
   ]
  }
 ],
 "metadata": {},
 "nbformat": 4,
 "nbformat_minor": 5
}

{
 "cells": [
  {
   "cell_type": "markdown",
   "id": "bf43add2",
   "metadata": {},
   "source": [
    "https://leetcode.com/problems/minimum-swaps-to-make-sequences-increasing"
   ]
  },
  {
   "cell_type": "code",
   "execution_count": null,
   "id": "f0753717",
   "metadata": {},
   "outputs": [],
   "source": [
    "import pyutil as pyu\n",
    "pyu.get_local_pyinfo()"
   ]
  },
  {
   "cell_type": "code",
   "execution_count": null,
   "id": "b57511ce",
   "metadata": {},
   "outputs": [],
   "source": [
    "print(pyu.ps2(\"python-dotenv\"))"
   ]
  },
  {
   "cell_type": "code",
   "execution_count": null,
   "id": "9434178e",
   "metadata": {},
   "outputs": [],
   "source": [
    "from typing import List"
   ]
  },
  {
   "cell_type": "code",
   "execution_count": null,
   "id": "61ef57db",
   "metadata": {},
   "outputs": [],
   "source": [
    "class Solution:\n",
    "  def minSwap(self, A: List[int], B: List[int]) -> int:\n",
    "    keepAt = [math.inf] * len(A)\n",
    "    swapAt = [math.inf] * len(A)\n",
    "    keepAt[0] = 0\n",
    "    swapAt[0] = 1\n",
    "\n",
    "    for i in range(1, len(A)):\n",
    "      if A[i] > A[i - 1] and B[i] > B[i - 1]:\n",
    "        keepAt[i] = keepAt[i - 1]\n",
    "        swapAt[i] = swapAt[i - 1] + 1\n",
    "      if A[i] > B[i - 1] and B[i] > A[i - 1]:\n",
    "        keepAt[i] = min(keepAt[i], swapAt[i - 1])\n",
    "        swapAt[i] = min(swapAt[i], keepAt[i - 1] + 1)\n",
    "\n",
    "    return min(keepAt[-1], swapAt[-1])"
   ]
  },
  {
   "cell_type": "code",
   "execution_count": null,
   "id": "8ed13501",
   "metadata": {},
   "outputs": [],
   "source": [
    "new Solution().minSwap()"
   ]
  }
 ],
 "metadata": {},
 "nbformat": 4,
 "nbformat_minor": 5
}

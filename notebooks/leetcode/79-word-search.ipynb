{
 "cells": [
  {
   "cell_type": "markdown",
   "id": "a9e1548d",
   "metadata": {},
   "source": [
    "https://leetcode.com/problems/word-search"
   ]
  },
  {
   "cell_type": "code",
   "execution_count": null,
   "id": "ac69c915",
   "metadata": {},
   "outputs": [],
   "source": [
    "import pyutil as pyu\n",
    "pyu.get_local_pyinfo()"
   ]
  },
  {
   "cell_type": "code",
   "execution_count": null,
   "id": "f5b23d1c",
   "metadata": {},
   "outputs": [],
   "source": [
    "print(pyu.ps2(\"python-dotenv\"))"
   ]
  },
  {
   "cell_type": "code",
   "execution_count": null,
   "id": "09b9110f",
   "metadata": {},
   "outputs": [],
   "source": [
    "from typing import List"
   ]
  },
  {
   "cell_type": "code",
   "execution_count": null,
   "id": "f4a443b3",
   "metadata": {},
   "outputs": [],
   "source": [
    "class Solution:\n",
    "  def exist(self, board: List[List[str]], word: str) -> bool:\n",
    "    m = len(board)\n",
    "    n = len(board[0])\n",
    "\n",
    "    def dfs(i: int, j: int, s: int) -> bool:\n",
    "      if i < 0 or i == m or j < 0 or j == n:\n",
    "        return False\n",
    "      if board[i][j] != word[s] or board[i][j] == '*':\n",
    "        return False\n",
    "      if s == len(word) - 1:\n",
    "        return True\n",
    "\n",
    "      cache = board[i][j]\n",
    "      board[i][j] = '*'\n",
    "      isExist = \\\n",
    "          dfs(i + 1, j, s + 1) or \\\n",
    "          dfs(i - 1, j, s + 1) or \\\n",
    "          dfs(i, j + 1, s + 1) or \\\n",
    "          dfs(i, j - 1, s + 1)\n",
    "      board[i][j] = cache\n",
    "\n",
    "      return isExist\n",
    "\n",
    "    return any(dfs(i, j, 0) for i in range(m) for j in range(n))"
   ]
  },
  {
   "cell_type": "code",
   "execution_count": null,
   "id": "88f0191b",
   "metadata": {},
   "outputs": [],
   "source": [
    "new Solution().exist()"
   ]
  }
 ],
 "metadata": {},
 "nbformat": 4,
 "nbformat_minor": 5
}

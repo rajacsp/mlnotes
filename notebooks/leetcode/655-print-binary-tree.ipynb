{
 "cells": [
  {
   "cell_type": "markdown",
   "id": "6e63881b",
   "metadata": {},
   "source": [
    "https://leetcode.com/problems/print-binary-tree"
   ]
  },
  {
   "cell_type": "code",
   "execution_count": null,
   "id": "e347befc",
   "metadata": {},
   "outputs": [],
   "source": [
    "import pyutil as pyu\n",
    "pyu.get_local_pyinfo()"
   ]
  },
  {
   "cell_type": "code",
   "execution_count": null,
   "id": "dc7f4434",
   "metadata": {},
   "outputs": [],
   "source": [
    "print(pyu.ps2(\"python-dotenv\"))"
   ]
  },
  {
   "cell_type": "code",
   "execution_count": null,
   "id": "2d3fbcb9",
   "metadata": {},
   "outputs": [],
   "source": [
    "from typing import List"
   ]
  },
  {
   "cell_type": "code",
   "execution_count": null,
   "id": "ae65fc19",
   "metadata": {},
   "outputs": [],
   "source": [
    "class Solution:\n",
    "  def printTree(self, root: Optional[TreeNode]) -> List[List[str]]:\n",
    "    def maxHeight(root: Optional[TreeNode]) -> int:\n",
    "      if not root:\n",
    "        return 0\n",
    "      return 1 + max(maxHeight(root.left), maxHeight(root.right))\n",
    "\n",
    "    def dfs(root: Optional[TreeNode], row: int, left: int, right: int) -> None:\n",
    "      if not root:\n",
    "        return\n",
    "\n",
    "      mid = (left + right) // 2\n",
    "      ans[row][mid] = str(root.val)\n",
    "      dfs(root.left, row + 1, left, mid - 1)\n",
    "      dfs(root.right, row + 1, mid + 1, right)\n",
    "\n",
    "    m = maxHeight(root)\n",
    "    n = pow(2, m) - 1\n",
    "    ans = [[''] * n for _ in range(m)]\n",
    "    dfs(root, 0, 0, len(ans[0]) - 1)\n",
    "    return ans"
   ]
  },
  {
   "cell_type": "code",
   "execution_count": null,
   "id": "7c420920",
   "metadata": {},
   "outputs": [],
   "source": [
    "new Solution().printTree()"
   ]
  }
 ],
 "metadata": {},
 "nbformat": 4,
 "nbformat_minor": 5
}

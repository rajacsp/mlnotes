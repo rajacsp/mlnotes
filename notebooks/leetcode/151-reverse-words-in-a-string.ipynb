{
 "cells": [
  {
   "cell_type": "markdown",
   "id": "511ecae1",
   "metadata": {},
   "source": [
    "https://leetcode.com/problems/reverse-words-in-a-string"
   ]
  },
  {
   "cell_type": "code",
   "execution_count": null,
   "id": "b7ad15b5",
   "metadata": {},
   "outputs": [],
   "source": [
    "import pyutil as pyu\n",
    "pyu.get_local_pyinfo()"
   ]
  },
  {
   "cell_type": "code",
   "execution_count": null,
   "id": "6cdb46b3",
   "metadata": {},
   "outputs": [],
   "source": [
    "print(pyu.ps2(\"python-dotenv\"))"
   ]
  },
  {
   "cell_type": "code",
   "execution_count": null,
   "id": "29c5e543",
   "metadata": {},
   "outputs": [],
   "source": [
    "from typing import List"
   ]
  },
  {
   "cell_type": "code",
   "execution_count": null,
   "id": "427e6fbe",
   "metadata": {},
   "outputs": [],
   "source": [
    "class Solution:\n",
    "  def reverseWords(self, s: str) -> str:\n",
    "    return ' '.join(reversed(s.split()))"
   ]
  },
  {
   "cell_type": "code",
   "execution_count": null,
   "id": "59b22ad3",
   "metadata": {},
   "outputs": [],
   "source": [
    "new Solution().reverseWords()"
   ]
  }
 ],
 "metadata": {},
 "nbformat": 4,
 "nbformat_minor": 5
}

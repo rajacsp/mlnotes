{
 "cells": [
  {
   "cell_type": "markdown",
   "id": "509436e8",
   "metadata": {},
   "source": [
    "https://leetcode.com/problems/bus-routes"
   ]
  },
  {
   "cell_type": "code",
   "execution_count": null,
   "id": "b81e2b4c",
   "metadata": {},
   "outputs": [],
   "source": [
    "import pyutil as pyu\n",
    "pyu.get_local_pyinfo()"
   ]
  },
  {
   "cell_type": "code",
   "execution_count": null,
   "id": "330486eb",
   "metadata": {},
   "outputs": [],
   "source": [
    "print(pyu.ps2(\"python-dotenv\"))"
   ]
  },
  {
   "cell_type": "code",
   "execution_count": null,
   "id": "a264bbf1",
   "metadata": {},
   "outputs": [],
   "source": [
    "from typing import List"
   ]
  },
  {
   "cell_type": "code",
   "execution_count": null,
   "id": "ec1d45f1",
   "metadata": {},
   "outputs": [],
   "source": [
    "class Solution:\n",
    "  def numBusesToDestination(self, routes: List[List[int]], S: int, T: int) -> int:\n",
    "    if S == T:\n",
    "      return 0\n",
    "\n",
    "    graph = defaultdict(list)\n",
    "    usedBuses = set()\n",
    "\n",
    "    for i in range(len(routes)):\n",
    "      for route in routes[i]:\n",
    "        graph[route].append(i)\n",
    "\n",
    "    ans = 0\n",
    "    q = deque([S])\n",
    "\n",
    "    while q:\n",
    "      ans += 1\n",
    "      for _ in range(len(q)):\n",
    "        for bus in graph[q.popleft()]:\n",
    "          if bus in usedBuses:\n",
    "            continue\n",
    "          usedBuses.add(bus)\n",
    "          for nextRoute in routes[bus]:\n",
    "            if nextRoute == T:\n",
    "              return ans\n",
    "            else:\n",
    "              q.append(nextRoute)\n",
    "\n",
    "    return -1"
   ]
  },
  {
   "cell_type": "code",
   "execution_count": null,
   "id": "10627e4a",
   "metadata": {},
   "outputs": [],
   "source": [
    "new Solution().numBusesToDestination()"
   ]
  }
 ],
 "metadata": {},
 "nbformat": 4,
 "nbformat_minor": 5
}

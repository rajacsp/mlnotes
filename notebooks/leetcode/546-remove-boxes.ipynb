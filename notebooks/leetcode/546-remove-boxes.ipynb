{
 "cells": [
  {
   "cell_type": "markdown",
   "id": "7cfeddcc",
   "metadata": {},
   "source": [
    "https://leetcode.com/problems/remove-boxes"
   ]
  },
  {
   "cell_type": "code",
   "execution_count": null,
   "id": "bd0ff4d4",
   "metadata": {},
   "outputs": [],
   "source": [
    "import pyutil as pyu\n",
    "pyu.get_local_pyinfo()"
   ]
  },
  {
   "cell_type": "code",
   "execution_count": null,
   "id": "ef33c84e",
   "metadata": {},
   "outputs": [],
   "source": [
    "print(pyu.ps2(\"python-dotenv\"))"
   ]
  },
  {
   "cell_type": "code",
   "execution_count": null,
   "id": "1854d7cf",
   "metadata": {},
   "outputs": [],
   "source": [
    "from typing import List"
   ]
  },
  {
   "cell_type": "code",
   "execution_count": null,
   "id": "13682667",
   "metadata": {},
   "outputs": [],
   "source": [
    "class Solution:\n",
    "  def removeBoxes(self, boxes: List[int]) -> int:\n",
    "    # Dp(i, j, k) := max score of boxes[i..j] if k boxes equal to boxes[j]\n",
    "    @functools.lru_cache(None)\n",
    "    def dp(i: int, j: int, k: int) -> int:\n",
    "      if i > j:\n",
    "        return 0\n",
    "\n",
    "      r = j\n",
    "      sameBoxes = k + 1\n",
    "      while r > 0 and boxes[r - 1] == boxes[r]:\n",
    "        r -= 1\n",
    "        sameBoxes += 1\n",
    "      ans = dp(i, r - 1, 0) + sameBoxes * sameBoxes\n",
    "\n",
    "      for p in range(i, r):\n",
    "        if boxes[p] == boxes[r]:\n",
    "          ans = max(ans, dp(i, p, sameBoxes) + dp(p + 1, r - 1, 0))\n",
    "\n",
    "      return ans\n",
    "\n",
    "    return dp(0, len(boxes) - 1, 0)"
   ]
  },
  {
   "cell_type": "code",
   "execution_count": null,
   "id": "65a795c6",
   "metadata": {},
   "outputs": [],
   "source": [
    "new Solution().removeBoxes()"
   ]
  }
 ],
 "metadata": {},
 "nbformat": 4,
 "nbformat_minor": 5
}

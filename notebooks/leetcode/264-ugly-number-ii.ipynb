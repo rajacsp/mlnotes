{
 "cells": [
  {
   "cell_type": "markdown",
   "id": "eb18b148",
   "metadata": {},
   "source": [
    "https://leetcode.com/problems/ugly-number-ii"
   ]
  },
  {
   "cell_type": "code",
   "execution_count": null,
   "id": "4b78f8b3",
   "metadata": {},
   "outputs": [],
   "source": [
    "import pyutil as pyu\n",
    "pyu.get_local_pyinfo()"
   ]
  },
  {
   "cell_type": "code",
   "execution_count": null,
   "id": "a259534b",
   "metadata": {},
   "outputs": [],
   "source": [
    "print(pyu.ps2(\"python-dotenv\"))"
   ]
  },
  {
   "cell_type": "code",
   "execution_count": null,
   "id": "91322c51",
   "metadata": {},
   "outputs": [],
   "source": [
    "from typing import List"
   ]
  },
  {
   "cell_type": "code",
   "execution_count": null,
   "id": "cf7795af",
   "metadata": {},
   "outputs": [],
   "source": [
    "class Solution:\n",
    "  def nthUglyNumber(self, n: int) -> int:\n",
    "    nums = [1]\n",
    "    i2 = 0\n",
    "    i3 = 0\n",
    "    i5 = 0\n",
    "\n",
    "    while len(nums) < n:\n",
    "      next2 = nums[i2] * 2\n",
    "      next3 = nums[i3] * 3\n",
    "      next5 = nums[i5] * 5\n",
    "      next = min(next2, next3, next5)\n",
    "      if next == next2:\n",
    "        i2 += 1\n",
    "      if next == next3:\n",
    "        i3 += 1\n",
    "      if next == next5:\n",
    "        i5 += 1\n",
    "      nums.append(next)\n",
    "\n",
    "    return nums[-1]"
   ]
  },
  {
   "cell_type": "code",
   "execution_count": null,
   "id": "2db66258",
   "metadata": {},
   "outputs": [],
   "source": [
    "new Solution().nthUglyNumber()"
   ]
  }
 ],
 "metadata": {},
 "nbformat": 4,
 "nbformat_minor": 5
}

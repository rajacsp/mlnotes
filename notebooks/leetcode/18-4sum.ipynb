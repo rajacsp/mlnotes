{
 "cells": [
  {
   "cell_type": "markdown",
   "id": "0f333216",
   "metadata": {},
   "source": [
    "https://leetcode.com/problems/4sum"
   ]
  },
  {
   "cell_type": "code",
   "execution_count": null,
   "id": "65f24631",
   "metadata": {},
   "outputs": [],
   "source": [
    "import pyutil as pyu\n",
    "pyu.get_local_pyinfo()"
   ]
  },
  {
   "cell_type": "code",
   "execution_count": null,
   "id": "24166e6b",
   "metadata": {},
   "outputs": [],
   "source": [
    "print(pyu.ps2(\"python-dotenv\"))"
   ]
  },
  {
   "cell_type": "code",
   "execution_count": null,
   "id": "4c286241",
   "metadata": {},
   "outputs": [],
   "source": [
    "from typing import List"
   ]
  },
  {
   "cell_type": "code",
   "execution_count": null,
   "id": "86c26d19",
   "metadata": {},
   "outputs": [],
   "source": [
    "class Solution:\n",
    "  def fourSum(self, nums: List[int], target: int):\n",
    "    ans = []\n",
    "\n",
    "    def nSum(l: int, r: int, target: int, n: int, path: List[int], ans: List[List[int]]) -> None:\n",
    "      if r - l + 1 < n or n < 2 or target < nums[l] * n or target > nums[r] * n:\n",
    "        return\n",
    "      if n == 2:\n",
    "        while l < r:\n",
    "          summ = nums[l] + nums[r]\n",
    "          if summ == target:\n",
    "            ans.append(path + [nums[l], nums[r]])\n",
    "            l += 1\n",
    "            while nums[l] == nums[l - 1] and l < r:\n",
    "              l += 1\n",
    "          elif summ < target:\n",
    "            l += 1\n",
    "          else:\n",
    "            r -= 1\n",
    "        return\n",
    "\n",
    "      for i in range(l, r + 1):\n",
    "        if i > l and nums[i] == nums[i - 1]:\n",
    "          continue\n",
    "\n",
    "        nSum(i + 1, r, target - nums[i], n - 1, path + [nums[i]], ans)\n",
    "\n",
    "    nums.sort()\n",
    "    nSum(0, len(nums) - 1, target, 4, [], ans)\n",
    "    return ans"
   ]
  },
  {
   "cell_type": "code",
   "execution_count": null,
   "id": "ae26d0b9",
   "metadata": {},
   "outputs": [],
   "source": [
    "new Solution().fourSum()"
   ]
  }
 ],
 "metadata": {},
 "nbformat": 4,
 "nbformat_minor": 5
}

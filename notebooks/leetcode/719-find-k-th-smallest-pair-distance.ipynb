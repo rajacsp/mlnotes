{
 "cells": [
  {
   "cell_type": "markdown",
   "id": "68b37747",
   "metadata": {},
   "source": [
    "https://leetcode.com/problems/find-k-th-smallest-pair-distance"
   ]
  },
  {
   "cell_type": "code",
   "execution_count": null,
   "id": "68509bf0",
   "metadata": {},
   "outputs": [],
   "source": [
    "import pyutil as pyu\n",
    "pyu.get_local_pyinfo()"
   ]
  },
  {
   "cell_type": "code",
   "execution_count": null,
   "id": "e6f6bb0c",
   "metadata": {},
   "outputs": [],
   "source": [
    "print(pyu.ps2(\"python-dotenv\"))"
   ]
  },
  {
   "cell_type": "code",
   "execution_count": null,
   "id": "9e49e676",
   "metadata": {},
   "outputs": [],
   "source": [
    "from typing import List"
   ]
  },
  {
   "cell_type": "code",
   "execution_count": null,
   "id": "d67b2b25",
   "metadata": {},
   "outputs": [],
   "source": [
    "class Solution:\n",
    "  def smallestDistancePair(self, nums: List[int], k: int) -> int:\n",
    "    nums.sort()\n",
    "\n",
    "    l = 0\n",
    "    r = nums[-1] - nums[0]\n",
    "\n",
    "    while l < r:\n",
    "      m = (l + r) // 2\n",
    "      count = 0\n",
    "\n",
    "      j = 0\n",
    "      for i in range(len(nums)):\n",
    "        while j < len(nums) and nums[j] <= nums[i] + m:\n",
    "          j += 1\n",
    "        count += j - i - 1\n",
    "\n",
    "      if count < k:\n",
    "        l = m + 1\n",
    "      else:\n",
    "        r = m\n",
    "\n",
    "    return l"
   ]
  },
  {
   "cell_type": "code",
   "execution_count": null,
   "id": "4f388103",
   "metadata": {},
   "outputs": [],
   "source": [
    "new Solution().smallestDistancePair()"
   ]
  }
 ],
 "metadata": {},
 "nbformat": 4,
 "nbformat_minor": 5
}

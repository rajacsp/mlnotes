{
 "cells": [
  {
   "cell_type": "markdown",
   "id": "686ee20d",
   "metadata": {},
   "source": [
    "https://leetcode.com/problems/binary-tree-inorder-traversal"
   ]
  },
  {
   "cell_type": "code",
   "execution_count": null,
   "id": "94d1b667",
   "metadata": {},
   "outputs": [],
   "source": [
    "import pyutil as pyu\n",
    "pyu.get_local_pyinfo()"
   ]
  },
  {
   "cell_type": "code",
   "execution_count": null,
   "id": "9e8bea16",
   "metadata": {},
   "outputs": [],
   "source": [
    "print(pyu.ps2(\"python-dotenv\"))"
   ]
  },
  {
   "cell_type": "code",
   "execution_count": null,
   "id": "ad71f63d",
   "metadata": {},
   "outputs": [],
   "source": [
    "from typing import List"
   ]
  },
  {
   "cell_type": "code",
   "execution_count": null,
   "id": "dfe11e3b",
   "metadata": {},
   "outputs": [],
   "source": [
    "class Solution:\n",
    "  def inorderTraversal(self, root: Optional[TreeNode]) -> List[int]:\n",
    "    ans = []\n",
    "    stack = []\n",
    "\n",
    "    while root or stack:\n",
    "      while root:\n",
    "        stack.append(root)\n",
    "        root = root.left\n",
    "      root = stack.pop()\n",
    "      ans.append(root.val)\n",
    "      root = root.right\n",
    "\n",
    "    return ans"
   ]
  },
  {
   "cell_type": "code",
   "execution_count": null,
   "id": "e70ba854",
   "metadata": {},
   "outputs": [],
   "source": [
    "new Solution().inorderTraversal()"
   ]
  }
 ],
 "metadata": {},
 "nbformat": 4,
 "nbformat_minor": 5
}

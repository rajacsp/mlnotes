{
 "cells": [
  {
   "cell_type": "markdown",
   "id": "b1daaae1",
   "metadata": {},
   "source": [
    "https://leetcode.com/problems/squares-of-a-sorted-array"
   ]
  },
  {
   "cell_type": "code",
   "execution_count": null,
   "id": "076efaea",
   "metadata": {},
   "outputs": [],
   "source": [
    "import pyutil as pyu\n",
    "pyu.get_local_pyinfo()"
   ]
  },
  {
   "cell_type": "code",
   "execution_count": null,
   "id": "d0e15fd4",
   "metadata": {},
   "outputs": [],
   "source": [
    "print(pyu.ps2(\"python-dotenv\"))"
   ]
  },
  {
   "cell_type": "code",
   "execution_count": null,
   "id": "e002a031",
   "metadata": {},
   "outputs": [],
   "source": [
    "from typing import List"
   ]
  },
  {
   "cell_type": "code",
   "execution_count": null,
   "id": "50b2c47d",
   "metadata": {},
   "outputs": [],
   "source": [
    "class Solution:\n",
    "  def sortedSquares(self, A: List[int]) -> List[int]:\n",
    "    n = len(A)\n",
    "    l = 0\n",
    "    r = n - 1\n",
    "    ans = [0] * n\n",
    "\n",
    "    while n:\n",
    "      n -= 1\n",
    "      if abs(A[l]) > abs(A[r]):\n",
    "        ans[n] = A[l] * A[l]\n",
    "        l += 1\n",
    "      else:\n",
    "        ans[n] = A[r] * A[r]\n",
    "        r -= 1\n",
    "\n",
    "    return ans"
   ]
  },
  {
   "cell_type": "code",
   "execution_count": null,
   "id": "7651e4d5",
   "metadata": {},
   "outputs": [],
   "source": [
    "new Solution().sortedSquares()"
   ]
  }
 ],
 "metadata": {},
 "nbformat": 4,
 "nbformat_minor": 5
}

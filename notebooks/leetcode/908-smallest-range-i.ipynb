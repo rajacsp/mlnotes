{
 "cells": [
  {
   "cell_type": "markdown",
   "id": "171e3800",
   "metadata": {},
   "source": [
    "https://leetcode.com/problems/smallest-range-i"
   ]
  },
  {
   "cell_type": "code",
   "execution_count": null,
   "id": "946ae1bf",
   "metadata": {},
   "outputs": [],
   "source": [
    "import pyutil as pyu\n",
    "pyu.get_local_pyinfo()"
   ]
  },
  {
   "cell_type": "code",
   "execution_count": null,
   "id": "8fddc913",
   "metadata": {},
   "outputs": [],
   "source": [
    "print(pyu.ps2(\"python-dotenv\"))"
   ]
  },
  {
   "cell_type": "code",
   "execution_count": null,
   "id": "2bb40e28",
   "metadata": {},
   "outputs": [],
   "source": [
    "from typing import List"
   ]
  },
  {
   "cell_type": "code",
   "execution_count": null,
   "id": "17b1ddca",
   "metadata": {},
   "outputs": [],
   "source": [
    "class Solution:\n",
    "  def smallestRangeI(self, A: List[int], K: int) -> int:\n",
    "    return max(0, max(A) - min(A) - 2 * K)"
   ]
  },
  {
   "cell_type": "code",
   "execution_count": null,
   "id": "544b1bd1",
   "metadata": {},
   "outputs": [],
   "source": [
    "new Solution().smallestRangeI()"
   ]
  }
 ],
 "metadata": {},
 "nbformat": 4,
 "nbformat_minor": 5
}

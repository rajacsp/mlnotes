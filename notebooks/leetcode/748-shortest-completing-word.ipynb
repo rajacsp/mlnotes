{
 "cells": [
  {
   "cell_type": "markdown",
   "id": "cfe8b1f1",
   "metadata": {},
   "source": [
    "https://leetcode.com/problems/shortest-completing-word"
   ]
  },
  {
   "cell_type": "code",
   "execution_count": null,
   "id": "e9f669e0",
   "metadata": {},
   "outputs": [],
   "source": [
    "import pyutil as pyu\n",
    "pyu.get_local_pyinfo()"
   ]
  },
  {
   "cell_type": "code",
   "execution_count": null,
   "id": "e0d03102",
   "metadata": {},
   "outputs": [],
   "source": [
    "print(pyu.ps2(\"python-dotenv\"))"
   ]
  },
  {
   "cell_type": "code",
   "execution_count": null,
   "id": "340697d7",
   "metadata": {},
   "outputs": [],
   "source": [
    "from typing import List"
   ]
  },
  {
   "cell_type": "code",
   "execution_count": null,
   "id": "69b053b9",
   "metadata": {},
   "outputs": [],
   "source": [
    "class Solution:\n",
    "  def shortestCompletingWord(self, licensePlate: str, words: List[str]) -> str:\n",
    "    def isMatch(word: str) -> bool:\n",
    "      wordCount = Counter(word)\n",
    "      return False if any(wordCount[i] < count[i] for i in string.ascii_letters) else True\n",
    "\n",
    "    ans = '*' * 16\n",
    "    count = defaultdict(int)\n",
    "\n",
    "    for c in licensePlate:\n",
    "      if c.isalpha():\n",
    "        count[c.lower()] += 1\n",
    "\n",
    "    for word in words:\n",
    "      if len(word) < len(ans) and isMatch(word):\n",
    "        ans = word\n",
    "\n",
    "    return ans"
   ]
  },
  {
   "cell_type": "code",
   "execution_count": null,
   "id": "8567d650",
   "metadata": {},
   "outputs": [],
   "source": [
    "new Solution().shortestCompletingWord()"
   ]
  }
 ],
 "metadata": {},
 "nbformat": 4,
 "nbformat_minor": 5
}

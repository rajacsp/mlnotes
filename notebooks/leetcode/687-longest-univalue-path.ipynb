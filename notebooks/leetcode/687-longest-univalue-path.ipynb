{
 "cells": [
  {
   "cell_type": "markdown",
   "id": "3a1ac63a",
   "metadata": {},
   "source": [
    "https://leetcode.com/problems/longest-univalue-path"
   ]
  },
  {
   "cell_type": "code",
   "execution_count": null,
   "id": "f3680843",
   "metadata": {},
   "outputs": [],
   "source": [
    "import pyutil as pyu\n",
    "pyu.get_local_pyinfo()"
   ]
  },
  {
   "cell_type": "code",
   "execution_count": null,
   "id": "9fd578fc",
   "metadata": {},
   "outputs": [],
   "source": [
    "print(pyu.ps2(\"python-dotenv\"))"
   ]
  },
  {
   "cell_type": "code",
   "execution_count": null,
   "id": "8b672933",
   "metadata": {},
   "outputs": [],
   "source": [
    "from typing import List"
   ]
  },
  {
   "cell_type": "code",
   "execution_count": null,
   "id": "9d4c35c5",
   "metadata": {},
   "outputs": [],
   "source": [
    "class Solution:\n",
    "  def longestUnivaluePath(self, root: Optional[TreeNode]) -> int:\n",
    "    ans = 0\n",
    "\n",
    "    def longestUnivaluePathDownFrom(root: Optional[TreeNode]) -> int:\n",
    "      nonlocal ans\n",
    "      if not root:\n",
    "        return 0\n",
    "\n",
    "      l = longestUnivaluePathDownFrom(root.left)\n",
    "      r = longestUnivaluePathDownFrom(root.right)\n",
    "      arrowLeft = l + 1 if root.left and root.left.val == root.val else 0\n",
    "      arrowRight = r + 1 if root.right and root.right.val == root.val else 0\n",
    "      ans = max(ans, arrowLeft + arrowRight)\n",
    "      return max(arrowLeft, arrowRight)\n",
    "\n",
    "    longestUnivaluePathDownFrom(root)\n",
    "    return ans"
   ]
  },
  {
   "cell_type": "code",
   "execution_count": null,
   "id": "c1d696c0",
   "metadata": {},
   "outputs": [],
   "source": [
    "new Solution().longestUnivaluePath()"
   ]
  }
 ],
 "metadata": {},
 "nbformat": 4,
 "nbformat_minor": 5
}

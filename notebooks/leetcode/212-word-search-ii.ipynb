{
 "cells": [
  {
   "cell_type": "markdown",
   "id": "c5f8a7f9",
   "metadata": {},
   "source": [
    "https://leetcode.com/problems/word-search-ii"
   ]
  },
  {
   "cell_type": "code",
   "execution_count": null,
   "id": "712f1b0d",
   "metadata": {},
   "outputs": [],
   "source": [
    "import pyutil as pyu\n",
    "pyu.get_local_pyinfo()"
   ]
  },
  {
   "cell_type": "code",
   "execution_count": null,
   "id": "b74eaf88",
   "metadata": {},
   "outputs": [],
   "source": [
    "print(pyu.ps2(\"python-dotenv\"))"
   ]
  },
  {
   "cell_type": "code",
   "execution_count": null,
   "id": "1bbdeb29",
   "metadata": {},
   "outputs": [],
   "source": [
    "from typing import List"
   ]
  },
  {
   "cell_type": "code",
   "execution_count": null,
   "id": "0eddf035",
   "metadata": {},
   "outputs": [],
   "source": [
    "class TrieNode:\n",
    "  def __init__(self):\n",
    "    self.children: Dict[str, TrieNode] = defaultdict(TrieNode)\n",
    "    self.word: Optional[str] = None\n",
    "\n",
    "\n",
    "class Solution:\n",
    "  def findWords(self, board: List[List[str]], words: List[str]) -> List[str]:\n",
    "    m = len(board)\n",
    "    n = len(board[0])\n",
    "    ans = []\n",
    "    root = TrieNode()\n",
    "\n",
    "    def insert(word: str) -> None:\n",
    "      node = root\n",
    "      for c in word:\n",
    "        if c not in node.children:\n",
    "          node.children[c] = TrieNode()\n",
    "        node = node.children[c]\n",
    "      node.word = word\n",
    "\n",
    "    for word in words:\n",
    "      insert(word)\n",
    "\n",
    "    def dfs(i: int, j: int, node: TrieNode) -> None:\n",
    "      if i < 0 or i == m or j < 0 or j == n:\n",
    "        return\n",
    "      if board[i][j] == '*':\n",
    "        return\n",
    "\n",
    "      c = board[i][j]\n",
    "      if c not in node.children:\n",
    "        return\n",
    "\n",
    "      child = node.children[c]\n",
    "      if child.word:\n",
    "        ans.append(child.word)\n",
    "        child.word = None\n",
    "\n",
    "      board[i][j] = '*'\n",
    "      dfs(i + 1, j, child)\n",
    "      dfs(i - 1, j, child)\n",
    "      dfs(i, j + 1, child)\n",
    "      dfs(i, j - 1, child)\n",
    "      board[i][j] = c\n",
    "\n",
    "    for i in range(m):\n",
    "      for j in range(n):\n",
    "        dfs(i, j, root)\n",
    "\n",
    "    return ans"
   ]
  },
  {
   "cell_type": "code",
   "execution_count": null,
   "id": "5b5a72c2",
   "metadata": {},
   "outputs": [],
   "source": [
    "new Solution().findWords()"
   ]
  }
 ],
 "metadata": {},
 "nbformat": 4,
 "nbformat_minor": 5
}

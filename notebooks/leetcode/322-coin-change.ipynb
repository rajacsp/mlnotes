{
 "cells": [
  {
   "cell_type": "markdown",
   "id": "48d7f5a9",
   "metadata": {},
   "source": [
    "https://leetcode.com/problems/coin-change"
   ]
  },
  {
   "cell_type": "code",
   "execution_count": null,
   "id": "23e4d6c5",
   "metadata": {},
   "outputs": [],
   "source": [
    "import pyutil as pyu\n",
    "pyu.get_local_pyinfo()"
   ]
  },
  {
   "cell_type": "code",
   "execution_count": null,
   "id": "3ff4f79b",
   "metadata": {},
   "outputs": [],
   "source": [
    "print(pyu.ps2(\"python-dotenv\"))"
   ]
  },
  {
   "cell_type": "code",
   "execution_count": null,
   "id": "33df30cb",
   "metadata": {},
   "outputs": [],
   "source": [
    "from typing import List"
   ]
  },
  {
   "cell_type": "code",
   "execution_count": null,
   "id": "566bf6aa",
   "metadata": {},
   "outputs": [],
   "source": [
    "class Solution:\n",
    "  def coinChange(self, coins: List[int], amount: int) -> int:\n",
    "    # dp[i] := fewest # Of coins to make up i\n",
    "    dp = [0] + [amount + 1] * amount\n",
    "\n",
    "    for coin in coins:\n",
    "      for i in range(coin, amount + 1):\n",
    "        dp[i] = min(dp[i], dp[i - coin] + 1)\n",
    "\n",
    "    return -1 if dp[amount] == amount + 1 else dp[amount]"
   ]
  },
  {
   "cell_type": "code",
   "execution_count": null,
   "id": "4e8fc074",
   "metadata": {},
   "outputs": [],
   "source": [
    "new Solution().coinChange()"
   ]
  }
 ],
 "metadata": {},
 "nbformat": 4,
 "nbformat_minor": 5
}

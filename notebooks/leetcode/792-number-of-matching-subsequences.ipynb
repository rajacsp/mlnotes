{
 "cells": [
  {
   "cell_type": "markdown",
   "id": "17a85577",
   "metadata": {},
   "source": [
    "https://leetcode.com/problems/number-of-matching-subsequences"
   ]
  },
  {
   "cell_type": "code",
   "execution_count": null,
   "id": "bdab4708",
   "metadata": {},
   "outputs": [],
   "source": [
    "import pyutil as pyu\n",
    "pyu.get_local_pyinfo()"
   ]
  },
  {
   "cell_type": "code",
   "execution_count": null,
   "id": "32dd3eb6",
   "metadata": {},
   "outputs": [],
   "source": [
    "print(pyu.ps2(\"python-dotenv\"))"
   ]
  },
  {
   "cell_type": "code",
   "execution_count": null,
   "id": "3b895472",
   "metadata": {},
   "outputs": [],
   "source": [
    "from typing import List"
   ]
  },
  {
   "cell_type": "code",
   "execution_count": null,
   "id": "b1bcf9c0",
   "metadata": {},
   "outputs": [],
   "source": [
    "class Solution:\n",
    "  def numMatchingSubseq(self, s: str, words: List[str]) -> int:\n",
    "    root = {}\n",
    "\n",
    "    def insert(word: str) -> None:\n",
    "      node = root\n",
    "      for c in word:\n",
    "        if c not in node:\n",
    "          node[c] = {'count': 0}\n",
    "        node = node[c]\n",
    "      node['count'] += 1\n",
    "\n",
    "    for word in words:\n",
    "      insert(word)\n",
    "\n",
    "    def dfs(s: str, i: int, node: dict) -> int:\n",
    "      ans = node['count'] if 'count' in node else 0\n",
    "\n",
    "      if i >= len(s):\n",
    "        return ans\n",
    "\n",
    "      for c in string.ascii_lowercase:\n",
    "        if c in node:\n",
    "          try:\n",
    "            index = s.index(c, i)\n",
    "            ans += dfs(s, index + 1, node[c])\n",
    "          except ValueError:\n",
    "            continue\n",
    "\n",
    "      return ans\n",
    "\n",
    "    return dfs(s, 0, root)"
   ]
  },
  {
   "cell_type": "code",
   "execution_count": null,
   "id": "af1e45b0",
   "metadata": {},
   "outputs": [],
   "source": [
    "new Solution().numMatchingSubseq()"
   ]
  }
 ],
 "metadata": {},
 "nbformat": 4,
 "nbformat_minor": 5
}

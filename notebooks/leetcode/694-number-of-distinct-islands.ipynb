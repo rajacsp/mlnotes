{
 "cells": [
  {
   "cell_type": "markdown",
   "id": "9f7f0b5c",
   "metadata": {},
   "source": [
    "https://leetcode.com/problems/number-of-distinct-islands"
   ]
  },
  {
   "cell_type": "code",
   "execution_count": null,
   "id": "f15b2463",
   "metadata": {},
   "outputs": [],
   "source": [
    "import pyutil as pyu\n",
    "pyu.get_local_pyinfo()"
   ]
  },
  {
   "cell_type": "code",
   "execution_count": null,
   "id": "855a023a",
   "metadata": {},
   "outputs": [],
   "source": [
    "print(pyu.ps2(\"python-dotenv\"))"
   ]
  },
  {
   "cell_type": "code",
   "execution_count": null,
   "id": "fd871c54",
   "metadata": {},
   "outputs": [],
   "source": [
    "from typing import List"
   ]
  },
  {
   "cell_type": "code",
   "execution_count": null,
   "id": "1a65cbac",
   "metadata": {},
   "outputs": [],
   "source": [
    "class Solution:\n",
    "  def numDistinctIslands(self, grid: List[List[int]]) -> int:\n",
    "    seen = set()\n",
    "\n",
    "    def dfs(i: int, j: int, i0: int, j0: int):\n",
    "      if i < 0 or i == len(grid) or j < 0 or j == len(grid[0]):\n",
    "        return\n",
    "      if grid[i][j] == 0 or (i, j) in seen:\n",
    "        return\n",
    "\n",
    "      seen.add((i, j))\n",
    "      island.append((i - i0, j - j0))\n",
    "      dfs(i + 1, j, i0, j0)\n",
    "      dfs(i - 1, j, i0, j0)\n",
    "      dfs(i, j + 1, i0, j0)\n",
    "      dfs(i, j - 1, i0, j0)\n",
    "\n",
    "    islands = set()  # All different islands\n",
    "\n",
    "    for i in range(len(grid)):\n",
    "      for j in range(len(grid[0])):\n",
    "        island = []\n",
    "        dfs(i, j, i, j)\n",
    "        if island:\n",
    "          islands.add(frozenset(island))\n",
    "\n",
    "    return len(islands)"
   ]
  },
  {
   "cell_type": "code",
   "execution_count": null,
   "id": "1fa11ca5",
   "metadata": {},
   "outputs": [],
   "source": [
    "new Solution().numDistinctIslands()"
   ]
  }
 ],
 "metadata": {},
 "nbformat": 4,
 "nbformat_minor": 5
}

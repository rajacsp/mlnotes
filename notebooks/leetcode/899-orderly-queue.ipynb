{
 "cells": [
  {
   "cell_type": "markdown",
   "id": "b5545b99",
   "metadata": {},
   "source": [
    "https://leetcode.com/problems/orderly-queue"
   ]
  },
  {
   "cell_type": "code",
   "execution_count": null,
   "id": "457c7ac1",
   "metadata": {},
   "outputs": [],
   "source": [
    "import pyutil as pyu\n",
    "pyu.get_local_pyinfo()"
   ]
  },
  {
   "cell_type": "code",
   "execution_count": null,
   "id": "0ce50eba",
   "metadata": {},
   "outputs": [],
   "source": [
    "print(pyu.ps2(\"python-dotenv\"))"
   ]
  },
  {
   "cell_type": "code",
   "execution_count": null,
   "id": "518fe4c5",
   "metadata": {},
   "outputs": [],
   "source": [
    "from typing import List"
   ]
  },
  {
   "cell_type": "code",
   "execution_count": null,
   "id": "98493c91",
   "metadata": {},
   "outputs": [],
   "source": [
    "class Solution:\n",
    "  def orderlyQueue(self, S: str, K: int) -> str:\n",
    "    return ''.join(sorted(S)) if K > 1 else min(S[i:] + S[:i] for i in range(len(S)))"
   ]
  },
  {
   "cell_type": "code",
   "execution_count": null,
   "id": "f590d19b",
   "metadata": {},
   "outputs": [],
   "source": [
    "new Solution().orderlyQueue()"
   ]
  }
 ],
 "metadata": {},
 "nbformat": 4,
 "nbformat_minor": 5
}

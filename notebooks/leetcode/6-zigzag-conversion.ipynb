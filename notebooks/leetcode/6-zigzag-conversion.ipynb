{
 "cells": [
  {
   "cell_type": "markdown",
   "id": "0fdd434b",
   "metadata": {},
   "source": [
    "https://leetcode.com/problems/zigzag-conversion"
   ]
  },
  {
   "cell_type": "code",
   "execution_count": null,
   "id": "93e38f6c",
   "metadata": {},
   "outputs": [],
   "source": [
    "import pyutil as pyu\n",
    "pyu.get_local_pyinfo()"
   ]
  },
  {
   "cell_type": "code",
   "execution_count": null,
   "id": "d3989739",
   "metadata": {},
   "outputs": [],
   "source": [
    "print(pyu.ps2(\"python-dotenv\"))"
   ]
  },
  {
   "cell_type": "code",
   "execution_count": null,
   "id": "0c2c40d4",
   "metadata": {},
   "outputs": [],
   "source": [
    "from typing import List"
   ]
  },
  {
   "cell_type": "code",
   "execution_count": null,
   "id": "4dc6aeb8",
   "metadata": {},
   "outputs": [],
   "source": [
    "class Solution:\n",
    "  def convert(self, s: str, numRows: int) -> str:\n",
    "    rows = [''] * numRows\n",
    "    k = 0\n",
    "    direction = (numRows == 1) - 1\n",
    "\n",
    "    for c in s:\n",
    "      rows[k] += c\n",
    "      if k == 0 or k == numRows - 1:\n",
    "        direction *= -1\n",
    "      k += direction\n",
    "\n",
    "    return ''.join(rows)"
   ]
  },
  {
   "cell_type": "code",
   "execution_count": null,
   "id": "43f198f5",
   "metadata": {},
   "outputs": [],
   "source": [
    "new Solution().convert()"
   ]
  }
 ],
 "metadata": {},
 "nbformat": 4,
 "nbformat_minor": 5
}

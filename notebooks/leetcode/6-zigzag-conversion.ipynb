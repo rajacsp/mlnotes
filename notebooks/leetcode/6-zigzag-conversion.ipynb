{
 "cells": [
  {
   "cell_type": "code",
   "execution_count": 2,
   "id": "db25c914-1252-4bae-8dbe-3a20e361bd73",
   "metadata": {},
   "outputs": [],
   "source": [
    "# https://leetcode.com/problems/zigzag-conversion/description/"
   ]
  },
  {
   "cell_type": "code",
   "execution_count": 2,
   "id": "0c10588e-e9e7-4b8c-b92b-91104a273df0",
   "metadata": {},
   "outputs": [
    {
     "data": {
      "text/plain": [
       "'conda env: ml311; pyv: 3.11.10 (main, Oct  3 2024, 07:29:13) [GCC 11.2.0]'"
      ]
     },
     "execution_count": 2,
     "metadata": {},
     "output_type": "execute_result"
    }
   ],
   "source": [
    "import pyutil as pyu\n",
    "pyu.get_local_pyinfo()"
   ]
  },
  {
   "cell_type": "code",
   "execution_count": 4,
   "id": "c2ccb592-b983-4856-a241-5898cab06699",
   "metadata": {},
   "outputs": [],
   "source": [
    "# print(pyu.ps2(\"scipy\"))"
   ]
  },
  {
   "cell_type": "code",
   "execution_count": null,
   "id": "e290a4be-0793-4902-b10b-44429cb937f9",
   "metadata": {},
   "outputs": [],
   "source": []
  },
  {
   "cell_type": "code",
   "execution_count": 4,
   "id": "238b8a1c-22dd-41e2-84b0-65e7d6d708a1",
   "metadata": {},
   "outputs": [],
   "source": [
    "class Solution:\n",
    "  def convert(self, s: str, numRows: int) -> str:\n",
    "    rows = [''] * numRows\n",
    "    k = 0\n",
    "    direction = (numRows == 1) - 1\n",
    "\n",
    "    for c in s:\n",
    "      rows[k] += c\n",
    "      if k == 0 or k == numRows - 1:\n",
    "        direction *= -1\n",
    "      k += direction\n",
    "\n",
    "    return ''.join(rows)"
   ]
  },
  {
   "cell_type": "code",
   "execution_count": 6,
   "id": "c86743a6-ad09-4cf9-8ae0-56852966f6ff",
   "metadata": {},
   "outputs": [
    {
     "data": {
      "text/plain": [
       "'PAHNAPLSIIGYIR'"
      ]
     },
     "execution_count": 6,
     "metadata": {},
     "output_type": "execute_result"
    }
   ],
   "source": [
    "Solution().convert(\"PAYPALISHIRING\", 3)"
   ]
  },
  {
   "cell_type": "code",
   "execution_count": 7,
   "id": "adc90e4e-f855-4840-8f32-00c6f2150813",
   "metadata": {},
   "outputs": [
    {
     "data": {
      "text/plain": [
       "'PINALSIGYAHRPI'"
      ]
     },
     "execution_count": 7,
     "metadata": {},
     "output_type": "execute_result"
    }
   ],
   "source": [
    "Solution().convert(\"PAYPALISHIRING\", 4)"
   ]
  },
  {
   "cell_type": "code",
   "execution_count": null,
   "id": "d06e6956-7c50-4ea6-a5ff-c9f12903af7d",
   "metadata": {},
   "outputs": [],
   "source": []
  }
 ],
 "metadata": {
  "kernelspec": {
   "display_name": "Python 3 (ipykernel)",
   "language": "python",
   "name": "python3"
  },
  "language_info": {
   "codemirror_mode": {
    "name": "ipython",
    "version": 3
   },
   "file_extension": ".py",
   "mimetype": "text/x-python",
   "name": "python",
   "nbconvert_exporter": "python",
   "pygments_lexer": "ipython3",
   "version": "3.11.10"
  }
 },
 "nbformat": 4,
 "nbformat_minor": 5
}

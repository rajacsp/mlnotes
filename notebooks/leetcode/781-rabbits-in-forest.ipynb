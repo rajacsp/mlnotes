{
 "cells": [
  {
   "cell_type": "markdown",
   "id": "e7bc949e",
   "metadata": {},
   "source": [
    "https://leetcode.com/problems/rabbits-in-forest"
   ]
  },
  {
   "cell_type": "code",
   "execution_count": null,
   "id": "070fe3c8",
   "metadata": {},
   "outputs": [],
   "source": [
    "import pyutil as pyu\n",
    "pyu.get_local_pyinfo()"
   ]
  },
  {
   "cell_type": "code",
   "execution_count": null,
   "id": "db31c123",
   "metadata": {},
   "outputs": [],
   "source": [
    "print(pyu.ps2(\"python-dotenv\"))"
   ]
  },
  {
   "cell_type": "code",
   "execution_count": null,
   "id": "3a4de065",
   "metadata": {},
   "outputs": [],
   "source": [
    "from typing import List"
   ]
  },
  {
   "cell_type": "code",
   "execution_count": null,
   "id": "c379739e",
   "metadata": {},
   "outputs": [],
   "source": [
    "class Solution:\n",
    "  def numRabbits(self, answers: List[int]) -> int:\n",
    "    ans = 0\n",
    "    count = Counter()\n",
    "\n",
    "    for answer in answers:\n",
    "      if count[answer] % (answer + 1) == 0:\n",
    "        ans += answer + 1\n",
    "      count[answer] += 1\n",
    "\n",
    "    return ans"
   ]
  },
  {
   "cell_type": "code",
   "execution_count": null,
   "id": "1aa57482",
   "metadata": {},
   "outputs": [],
   "source": [
    "new Solution().numRabbits()"
   ]
  }
 ],
 "metadata": {},
 "nbformat": 4,
 "nbformat_minor": 5
}

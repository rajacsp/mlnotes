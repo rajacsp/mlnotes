{
 "cells": [
  {
   "cell_type": "markdown",
   "id": "464fff81",
   "metadata": {},
   "source": [
    "https://leetcode.com/problems/pascals-triangle-ii"
   ]
  },
  {
   "cell_type": "code",
   "execution_count": null,
   "id": "af07697b",
   "metadata": {},
   "outputs": [],
   "source": [
    "import pyutil as pyu\n",
    "pyu.get_local_pyinfo()"
   ]
  },
  {
   "cell_type": "code",
   "execution_count": null,
   "id": "08d12549",
   "metadata": {},
   "outputs": [],
   "source": [
    "print(pyu.ps2(\"python-dotenv\"))"
   ]
  },
  {
   "cell_type": "code",
   "execution_count": null,
   "id": "04935e18",
   "metadata": {},
   "outputs": [],
   "source": [
    "from typing import List"
   ]
  },
  {
   "cell_type": "code",
   "execution_count": null,
   "id": "63d7651c",
   "metadata": {},
   "outputs": [],
   "source": [
    "class Solution:\n",
    "  def getRow(self, rowIndex: int) -> List[int]:\n",
    "    ans = [1] * (rowIndex + 1)\n",
    "\n",
    "    for i in range(2, rowIndex + 1):\n",
    "      for j in range(1, i):\n",
    "        ans[i - j] += ans[i - j - 1]\n",
    "\n",
    "    return ans"
   ]
  },
  {
   "cell_type": "code",
   "execution_count": null,
   "id": "0146bc31",
   "metadata": {},
   "outputs": [],
   "source": [
    "new Solution().getRow()"
   ]
  }
 ],
 "metadata": {},
 "nbformat": 4,
 "nbformat_minor": 5
}

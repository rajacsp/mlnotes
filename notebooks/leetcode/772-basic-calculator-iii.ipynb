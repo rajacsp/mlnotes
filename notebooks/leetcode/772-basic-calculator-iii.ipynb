{
 "cells": [
  {
   "cell_type": "markdown",
   "id": "9a260727",
   "metadata": {},
   "source": [
    "https://leetcode.com/problems/basic-calculator-iii"
   ]
  },
  {
   "cell_type": "code",
   "execution_count": null,
   "id": "f978bbbe",
   "metadata": {},
   "outputs": [],
   "source": [
    "import pyutil as pyu\n",
    "pyu.get_local_pyinfo()"
   ]
  },
  {
   "cell_type": "code",
   "execution_count": null,
   "id": "bb1128eb",
   "metadata": {},
   "outputs": [],
   "source": [
    "print(pyu.ps2(\"python-dotenv\"))"
   ]
  },
  {
   "cell_type": "code",
   "execution_count": null,
   "id": "214cc3a0",
   "metadata": {},
   "outputs": [],
   "source": [
    "from typing import List"
   ]
  },
  {
   "cell_type": "code",
   "execution_count": null,
   "id": "022cd8cc",
   "metadata": {},
   "outputs": [],
   "source": [
    "class Solution:\n",
    "  def calculate(self, s: str) -> int:\n",
    "    nums = []\n",
    "    ops = []\n",
    "\n",
    "    def calc():\n",
    "      b = nums.pop()\n",
    "      a = nums.pop()\n",
    "      op = ops.pop()\n",
    "      if op == '+':\n",
    "        nums.append(a + b)\n",
    "      elif op == '-':\n",
    "        nums.append(a - b)\n",
    "      elif op == '*':\n",
    "        nums.append(a * b)\n",
    "      else:  # Op == '/'\n",
    "        nums.append(int(a / b))\n",
    "\n",
    "    # Returns true if prevOp is a operator and\n",
    "    # Priority(prevOp) >= priority(currOp)\n",
    "    def precedes(prevOp: chr, currOp: chr) -> bool:\n",
    "      if prevOp == '(':\n",
    "        return False\n",
    "      return prevOp in '*/' or currOp in '+-'\n",
    "\n",
    "    i = 0\n",
    "    hasPrevNum = False\n",
    "\n",
    "    while i < len(s):\n",
    "      c = s[i]\n",
    "      if c.isdigit():\n",
    "        num = ord(c) - ord('0')\n",
    "        while i + 1 < len(s) and s[i + 1].isdigit():\n",
    "          num = num * 10 + (ord(s[i + 1]) - ord('0'))\n",
    "          i += 1\n",
    "        nums.append(num)\n",
    "        hasPrevNum = True\n",
    "      elif c == '(':\n",
    "        ops.append('(')\n",
    "        hasPrevNum = False\n",
    "      elif c == ')':\n",
    "        while ops[-1] != '(':\n",
    "          calc()\n",
    "        ops.pop()  # Pop '('\n",
    "      elif c in '+-*/':\n",
    "        if not hasPrevNum:  # Handle input like \"-1-(-1)\"\n",
    "          num.append(0)\n",
    "        while ops and precedes(ops[-1], c):\n",
    "          calc()\n",
    "        ops.append(c)\n",
    "      i += 1\n",
    "\n",
    "    while ops:\n",
    "      calc()\n",
    "\n",
    "    return nums.pop()"
   ]
  },
  {
   "cell_type": "code",
   "execution_count": null,
   "id": "574b214e",
   "metadata": {},
   "outputs": [],
   "source": [
    "new Solution().calculate()"
   ]
  }
 ],
 "metadata": {},
 "nbformat": 4,
 "nbformat_minor": 5
}

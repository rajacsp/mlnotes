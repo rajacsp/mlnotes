{
 "cells": [
  {
   "cell_type": "markdown",
   "id": "435a2b9c",
   "metadata": {},
   "source": [
    "https://leetcode.com/problems/first-missing-positive"
   ]
  },
  {
   "cell_type": "code",
   "execution_count": null,
   "id": "afe17759",
   "metadata": {},
   "outputs": [],
   "source": [
    "import pyutil as pyu\n",
    "pyu.get_local_pyinfo()"
   ]
  },
  {
   "cell_type": "code",
   "execution_count": null,
   "id": "497728e0",
   "metadata": {},
   "outputs": [],
   "source": [
    "print(pyu.ps2(\"python-dotenv\"))"
   ]
  },
  {
   "cell_type": "code",
   "execution_count": null,
   "id": "fce7f44a",
   "metadata": {},
   "outputs": [],
   "source": [
    "from typing import List"
   ]
  },
  {
   "cell_type": "code",
   "execution_count": null,
   "id": "cb3c60b2",
   "metadata": {},
   "outputs": [],
   "source": [
    "class Solution:\n",
    "  def firstMissingPositive(self, nums: List[int]) -> int:\n",
    "    n = len(nums)\n",
    "\n",
    "    # Correct slot:\n",
    "    # nums[i] = i + 1\n",
    "    # nums[i] - 1 = i\n",
    "    # nums[nums[i] - 1] = nums[i]\n",
    "    for i in range(n):\n",
    "      while nums[i] > 0 and nums[i] <= n and nums[nums[i] - 1] != nums[i]:\n",
    "        nums[nums[i] - 1], nums[i] = nums[i], nums[nums[i] - 1]\n",
    "\n",
    "    for i, num in enumerate(nums):\n",
    "      if num != i + 1:\n",
    "        return i + 1\n",
    "\n",
    "    return n + 1"
   ]
  },
  {
   "cell_type": "code",
   "execution_count": null,
   "id": "d62a64f9",
   "metadata": {},
   "outputs": [],
   "source": [
    "new Solution().firstMissingPositive()"
   ]
  }
 ],
 "metadata": {},
 "nbformat": 4,
 "nbformat_minor": 5
}

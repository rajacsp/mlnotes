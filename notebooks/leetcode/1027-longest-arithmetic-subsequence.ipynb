{
 "cells": [
  {
   "cell_type": "markdown",
   "id": "0be368be",
   "metadata": {},
   "source": [
    "https://leetcode.com/problems/longest-arithmetic-subsequence"
   ]
  },
  {
   "cell_type": "code",
   "execution_count": null,
   "id": "9d3b0b92",
   "metadata": {},
   "outputs": [],
   "source": [
    "import pyutil as pyu\n",
    "pyu.get_local_pyinfo()"
   ]
  },
  {
   "cell_type": "code",
   "execution_count": null,
   "id": "1bcd58b1",
   "metadata": {},
   "outputs": [],
   "source": [
    "print(pyu.ps2(\"python-dotenv\"))"
   ]
  },
  {
   "cell_type": "code",
   "execution_count": null,
   "id": "96f27885",
   "metadata": {},
   "outputs": [],
   "source": [
    "from typing import List"
   ]
  },
  {
   "cell_type": "code",
   "execution_count": null,
   "id": "ebb85356",
   "metadata": {},
   "outputs": [],
   "source": [
    "class Solution:\n",
    "  def longestArithSeqLength(self, nums: List[int]) -> int:\n",
    "    n = len(nums)\n",
    "    ans = 0\n",
    "    # dp[i][k] := length of the longest arithmetic subseq ofnums\n",
    "    # nums[0..i] with k = diff + 500\n",
    "    dp = [[0] * 1001 for _ in range(n)]\n",
    "\n",
    "    for i in range(n):\n",
    "      for j in range(i):\n",
    "        k = nums[i] - nums[j] + 500\n",
    "        dp[i][k] = max(2, dp[j][k] + 1)\n",
    "        ans = max(ans, dp[i][k])\n",
    "\n",
    "    return ans"
   ]
  },
  {
   "cell_type": "code",
   "execution_count": null,
   "id": "023ffbb3",
   "metadata": {},
   "outputs": [],
   "source": [
    "new Solution().longestArithSeqLength()"
   ]
  }
 ],
 "metadata": {},
 "nbformat": 4,
 "nbformat_minor": 5
}

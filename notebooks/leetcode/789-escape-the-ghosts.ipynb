{
 "cells": [
  {
   "cell_type": "markdown",
   "id": "3babc420",
   "metadata": {},
   "source": [
    "https://leetcode.com/problems/escape-the-ghosts"
   ]
  },
  {
   "cell_type": "code",
   "execution_count": null,
   "id": "9f57bb37",
   "metadata": {},
   "outputs": [],
   "source": [
    "import pyutil as pyu\n",
    "pyu.get_local_pyinfo()"
   ]
  },
  {
   "cell_type": "code",
   "execution_count": null,
   "id": "16c07ec3",
   "metadata": {},
   "outputs": [],
   "source": [
    "print(pyu.ps2(\"python-dotenv\"))"
   ]
  },
  {
   "cell_type": "code",
   "execution_count": null,
   "id": "87a6a12c",
   "metadata": {},
   "outputs": [],
   "source": [
    "from typing import List"
   ]
  },
  {
   "cell_type": "code",
   "execution_count": null,
   "id": "413bbe71",
   "metadata": {},
   "outputs": [],
   "source": [
    "class Solution:\n",
    "  def escapeGhosts(self, ghosts: List[List[int]], target: List[int]) -> bool:\n",
    "    ghostSteps = min(abs(x - target[0]) +\n",
    "                     abs(y - target[1]) for x, y in ghosts)\n",
    "\n",
    "    return abs(target[0]) + abs(target[1]) < ghostSteps"
   ]
  },
  {
   "cell_type": "code",
   "execution_count": null,
   "id": "1d2053d7",
   "metadata": {},
   "outputs": [],
   "source": [
    "new Solution().escapeGhosts()"
   ]
  }
 ],
 "metadata": {},
 "nbformat": 4,
 "nbformat_minor": 5
}

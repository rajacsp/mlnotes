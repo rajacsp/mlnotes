{
 "cells": [
  {
   "cell_type": "markdown",
   "id": "b704571f",
   "metadata": {},
   "source": [
    "https://leetcode.com/problems/find-mode-in-binary-search-tree"
   ]
  },
  {
   "cell_type": "code",
   "execution_count": null,
   "id": "fe2562a9",
   "metadata": {},
   "outputs": [],
   "source": [
    "import pyutil as pyu\n",
    "pyu.get_local_pyinfo()"
   ]
  },
  {
   "cell_type": "code",
   "execution_count": null,
   "id": "51077eb2",
   "metadata": {},
   "outputs": [],
   "source": [
    "print(pyu.ps2(\"python-dotenv\"))"
   ]
  },
  {
   "cell_type": "code",
   "execution_count": null,
   "id": "e4c6e554",
   "metadata": {},
   "outputs": [],
   "source": [
    "from typing import List"
   ]
  },
  {
   "cell_type": "code",
   "execution_count": null,
   "id": "6c85e352",
   "metadata": {},
   "outputs": [],
   "source": [
    "class Solution:\n",
    "  def findMode(self, root: Optional[TreeNode]) -> List[int]:\n",
    "    self.ans = []\n",
    "    self.pred = None\n",
    "    self.count = 0\n",
    "    self.maxCount = 0\n",
    "\n",
    "    def updateCount(root: Optional[TreeNode]) -> None:\n",
    "      if self.pred and self.pred.val == root.val:\n",
    "        self.count += 1\n",
    "      else:\n",
    "        self.count = 1\n",
    "\n",
    "      if self.count > self.maxCount:\n",
    "        self.maxCount = self.count\n",
    "        self.ans = [root.val]\n",
    "      elif self.count == self.maxCount:\n",
    "        self.ans.append(root.val)\n",
    "\n",
    "      self.pred = root\n",
    "\n",
    "    def inorder(root: Optional[TreeNode]) -> None:\n",
    "      if not root:\n",
    "        return\n",
    "\n",
    "      inorder(root.left)\n",
    "      updateCount(root)\n",
    "      inorder(root.right)\n",
    "\n",
    "    inorder(root)\n",
    "    return self.ans"
   ]
  },
  {
   "cell_type": "code",
   "execution_count": null,
   "id": "ff3d7469",
   "metadata": {},
   "outputs": [],
   "source": [
    "new Solution().findMode()"
   ]
  }
 ],
 "metadata": {},
 "nbformat": 4,
 "nbformat_minor": 5
}

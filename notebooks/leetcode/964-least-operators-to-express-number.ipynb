{
 "cells": [
  {
   "cell_type": "markdown",
   "id": "c0e89522",
   "metadata": {},
   "source": [
    "https://leetcode.com/problems/least-operators-to-express-number"
   ]
  },
  {
   "cell_type": "code",
   "execution_count": null,
   "id": "bd4fdcae",
   "metadata": {},
   "outputs": [],
   "source": [
    "import pyutil as pyu\n",
    "pyu.get_local_pyinfo()"
   ]
  },
  {
   "cell_type": "code",
   "execution_count": null,
   "id": "95e9b75c",
   "metadata": {},
   "outputs": [],
   "source": [
    "print(pyu.ps2(\"python-dotenv\"))"
   ]
  },
  {
   "cell_type": "code",
   "execution_count": null,
   "id": "8a0017d0",
   "metadata": {},
   "outputs": [],
   "source": [
    "from typing import List"
   ]
  },
  {
   "cell_type": "code",
   "execution_count": null,
   "id": "aba64139",
   "metadata": {},
   "outputs": [],
   "source": [
    "class Solution:\n",
    "  def leastOpsExpressTarget(self, x: int, target: int) -> int:\n",
    "    @functools.lru_cache(None)\n",
    "    def dfs(target):\n",
    "      if x > target:\n",
    "        return min(2 * target - 1, 2 * (x - target))\n",
    "      if x == target:\n",
    "        return 0\n",
    "\n",
    "      prod = x\n",
    "      n = 0\n",
    "      while prod < target:\n",
    "        prod *= x\n",
    "        n += 1\n",
    "      if prod == target:\n",
    "        return n\n",
    "\n",
    "      ans = dfs(target - prod // x) + n\n",
    "      if prod < 2 * target:\n",
    "        ans = min(ans, dfs(prod - target) + n + 1)\n",
    "      return ans\n",
    "\n",
    "    return dfs(target)"
   ]
  },
  {
   "cell_type": "code",
   "execution_count": null,
   "id": "5ca8c532",
   "metadata": {},
   "outputs": [],
   "source": [
    "new Solution().leastOpsExpressTarget()"
   ]
  }
 ],
 "metadata": {},
 "nbformat": 4,
 "nbformat_minor": 5
}

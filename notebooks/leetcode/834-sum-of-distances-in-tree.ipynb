{
 "cells": [
  {
   "cell_type": "markdown",
   "id": "f99e9a74",
   "metadata": {},
   "source": [
    "https://leetcode.com/problems/sum-of-distances-in-tree"
   ]
  },
  {
   "cell_type": "code",
   "execution_count": null,
   "id": "72d010c3",
   "metadata": {},
   "outputs": [],
   "source": [
    "import pyutil as pyu\n",
    "pyu.get_local_pyinfo()"
   ]
  },
  {
   "cell_type": "code",
   "execution_count": null,
   "id": "4bcc73bc",
   "metadata": {},
   "outputs": [],
   "source": [
    "print(pyu.ps2(\"python-dotenv\"))"
   ]
  },
  {
   "cell_type": "code",
   "execution_count": null,
   "id": "bfa7a218",
   "metadata": {},
   "outputs": [],
   "source": [
    "from typing import List"
   ]
  },
  {
   "cell_type": "code",
   "execution_count": null,
   "id": "c12afba2",
   "metadata": {},
   "outputs": [],
   "source": [
    "class Solution:\n",
    "  def sumOfDistancesInTree(self, N: int, edges: List[List[int]]) -> List[int]:\n",
    "    ans = [0] * N\n",
    "    count = [1] * N\n",
    "    tree = defaultdict(set)\n",
    "\n",
    "    for u, v in edges:\n",
    "      tree[u].add(v)\n",
    "      tree[v].add(u)\n",
    "\n",
    "    def postorder(node, parent=None):\n",
    "      for child in tree[node]:\n",
    "        if child == parent:\n",
    "          continue\n",
    "        postorder(child, node)\n",
    "        count[node] += count[child]\n",
    "        ans[node] += ans[child] + count[child]\n",
    "\n",
    "    def preorder(node, parent=None):\n",
    "      for child in tree[node]:\n",
    "        if child == parent:\n",
    "          continue\n",
    "        # count[child] nodes are 1 step closer from child than parent\n",
    "        # (N - count[child]) nodes are 1 step farther from child than parent\n",
    "        ans[child] = ans[node] - count[child] + (N - count[child])\n",
    "        preorder(child, node)\n",
    "\n",
    "    postorder(0)\n",
    "    preorder(0)\n",
    "    return ans"
   ]
  },
  {
   "cell_type": "code",
   "execution_count": null,
   "id": "90c7299f",
   "metadata": {},
   "outputs": [],
   "source": [
    "new Solution().sumOfDistancesInTree()"
   ]
  }
 ],
 "metadata": {},
 "nbformat": 4,
 "nbformat_minor": 5
}

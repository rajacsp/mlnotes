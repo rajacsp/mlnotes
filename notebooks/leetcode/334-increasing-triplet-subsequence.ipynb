{
 "cells": [
  {
   "cell_type": "markdown",
   "id": "e90f01f2",
   "metadata": {},
   "source": [
    "https://leetcode.com/problems/increasing-triplet-subsequence"
   ]
  },
  {
   "cell_type": "code",
   "execution_count": null,
   "id": "5cf09138",
   "metadata": {},
   "outputs": [],
   "source": [
    "import pyutil as pyu\n",
    "pyu.get_local_pyinfo()"
   ]
  },
  {
   "cell_type": "code",
   "execution_count": null,
   "id": "758e480b",
   "metadata": {},
   "outputs": [],
   "source": [
    "print(pyu.ps2(\"python-dotenv\"))"
   ]
  },
  {
   "cell_type": "code",
   "execution_count": null,
   "id": "d14331dc",
   "metadata": {},
   "outputs": [],
   "source": [
    "from typing import List"
   ]
  },
  {
   "cell_type": "code",
   "execution_count": null,
   "id": "85c71661",
   "metadata": {},
   "outputs": [],
   "source": [
    "class Solution:\n",
    "  def increasingTriplet(self, nums: List[int]) -> bool:\n",
    "    first = math.inf\n",
    "    second = math.inf\n",
    "\n",
    "    for num in nums:\n",
    "      if num <= first:\n",
    "        first = num\n",
    "      elif num <= second:  # First < num <= second\n",
    "        second = num\n",
    "      else:\n",
    "        return True  # First < second < num (third)\n",
    "\n",
    "    return False"
   ]
  },
  {
   "cell_type": "code",
   "execution_count": null,
   "id": "c907e676",
   "metadata": {},
   "outputs": [],
   "source": [
    "new Solution().increasingTriplet()"
   ]
  }
 ],
 "metadata": {},
 "nbformat": 4,
 "nbformat_minor": 5
}

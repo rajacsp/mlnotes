{
 "cells": [
  {
   "cell_type": "markdown",
   "id": "58103c9e",
   "metadata": {},
   "source": [
    "https://leetcode.com/problems/h-index"
   ]
  },
  {
   "cell_type": "code",
   "execution_count": null,
   "id": "387f11b1",
   "metadata": {},
   "outputs": [],
   "source": [
    "import pyutil as pyu\n",
    "pyu.get_local_pyinfo()"
   ]
  },
  {
   "cell_type": "code",
   "execution_count": null,
   "id": "c12d0059",
   "metadata": {},
   "outputs": [],
   "source": [
    "print(pyu.ps2(\"python-dotenv\"))"
   ]
  },
  {
   "cell_type": "code",
   "execution_count": null,
   "id": "22bb9ce3",
   "metadata": {},
   "outputs": [],
   "source": [
    "from typing import List"
   ]
  },
  {
   "cell_type": "code",
   "execution_count": null,
   "id": "cee2f79f",
   "metadata": {},
   "outputs": [],
   "source": [
    "class Solution:\n",
    "  def hIndex(self, citations: List[int]) -> int:\n",
    "    n = len(citations)\n",
    "    accumulate = 0\n",
    "    count = [0] * (n + 1)\n",
    "\n",
    "    for citation in citations:\n",
    "      count[min(citation, n)] += 1\n",
    "\n",
    "    # To find the largeset h-index, loop from back to front\n",
    "    # I is the candidate h-index\n",
    "    for i, c in reversed(list(enumerate(count))):\n",
    "      accumulate += c\n",
    "      if accumulate >= i:\n",
    "        return i"
   ]
  },
  {
   "cell_type": "code",
   "execution_count": null,
   "id": "26328363",
   "metadata": {},
   "outputs": [],
   "source": [
    "new Solution().hIndex()"
   ]
  }
 ],
 "metadata": {},
 "nbformat": 4,
 "nbformat_minor": 5
}

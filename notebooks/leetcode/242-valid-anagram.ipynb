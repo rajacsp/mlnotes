{
 "cells": [
  {
   "cell_type": "markdown",
   "id": "5b144492",
   "metadata": {},
   "source": [
    "https://leetcode.com/problems/valid-anagram"
   ]
  },
  {
   "cell_type": "code",
   "execution_count": null,
   "id": "6278452e",
   "metadata": {},
   "outputs": [],
   "source": [
    "import pyutil as pyu\n",
    "pyu.get_local_pyinfo()"
   ]
  },
  {
   "cell_type": "code",
   "execution_count": null,
   "id": "5f59f497",
   "metadata": {},
   "outputs": [],
   "source": [
    "print(pyu.ps2(\"python-dotenv\"))"
   ]
  },
  {
   "cell_type": "code",
   "execution_count": null,
   "id": "2334a0c4",
   "metadata": {},
   "outputs": [],
   "source": [
    "from typing import List"
   ]
  },
  {
   "cell_type": "code",
   "execution_count": null,
   "id": "d89e2a35",
   "metadata": {},
   "outputs": [],
   "source": [
    "class Solution:\n",
    "  def isAnagram(self, s: str, t: str) -> bool:\n",
    "    if len(s) != len(t):\n",
    "      return False\n",
    "\n",
    "    dict = Counter(s)\n",
    "\n",
    "    for c in t:\n",
    "      dict[c] -= 1\n",
    "      if dict[c] < 0:\n",
    "        return False\n",
    "\n",
    "    return True"
   ]
  },
  {
   "cell_type": "code",
   "execution_count": null,
   "id": "b7b4435d",
   "metadata": {},
   "outputs": [],
   "source": [
    "new Solution().isAnagram()"
   ]
  }
 ],
 "metadata": {},
 "nbformat": 4,
 "nbformat_minor": 5
}

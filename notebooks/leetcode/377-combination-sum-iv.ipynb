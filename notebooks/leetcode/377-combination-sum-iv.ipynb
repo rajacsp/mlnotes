{
 "cells": [
  {
   "cell_type": "markdown",
   "id": "c321fea6",
   "metadata": {},
   "source": [
    "https://leetcode.com/problems/combination-sum-iv"
   ]
  },
  {
   "cell_type": "code",
   "execution_count": null,
   "id": "daceac34",
   "metadata": {},
   "outputs": [],
   "source": [
    "import pyutil as pyu\n",
    "pyu.get_local_pyinfo()"
   ]
  },
  {
   "cell_type": "code",
   "execution_count": null,
   "id": "2365f65c",
   "metadata": {},
   "outputs": [],
   "source": [
    "print(pyu.ps2(\"python-dotenv\"))"
   ]
  },
  {
   "cell_type": "code",
   "execution_count": null,
   "id": "4f4875cb",
   "metadata": {},
   "outputs": [],
   "source": [
    "from typing import List"
   ]
  },
  {
   "cell_type": "code",
   "execution_count": null,
   "id": "bc8006af",
   "metadata": {},
   "outputs": [],
   "source": [
    "class Solution:\n",
    "  def combinationSum4(self, nums: List[int], target: int) -> int:\n",
    "    dp = [1] + [-1] * target\n",
    "\n",
    "    def dfs(target: int) -> int:\n",
    "      if target < 0:\n",
    "        return 0\n",
    "      if dp[target] != -1:\n",
    "        return dp[target]\n",
    "\n",
    "      dp[target] = sum(dfs(target - num) for num in nums)\n",
    "      return dp[target]\n",
    "\n",
    "    return dfs(target)"
   ]
  },
  {
   "cell_type": "code",
   "execution_count": null,
   "id": "d8a55a77",
   "metadata": {},
   "outputs": [],
   "source": [
    "new Solution().combinationSum4()"
   ]
  }
 ],
 "metadata": {},
 "nbformat": 4,
 "nbformat_minor": 5
}

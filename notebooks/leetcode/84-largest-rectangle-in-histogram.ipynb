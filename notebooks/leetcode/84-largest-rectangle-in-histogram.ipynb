{
 "cells": [
  {
   "cell_type": "markdown",
   "id": "51b899ce",
   "metadata": {},
   "source": [
    "https://leetcode.com/problems/largest-rectangle-in-histogram"
   ]
  },
  {
   "cell_type": "code",
   "execution_count": null,
   "id": "35a8f1c9",
   "metadata": {},
   "outputs": [],
   "source": [
    "import pyutil as pyu\n",
    "pyu.get_local_pyinfo()"
   ]
  },
  {
   "cell_type": "code",
   "execution_count": null,
   "id": "59d96f07",
   "metadata": {},
   "outputs": [],
   "source": [
    "print(pyu.ps2(\"python-dotenv\"))"
   ]
  },
  {
   "cell_type": "code",
   "execution_count": null,
   "id": "543c8ed7",
   "metadata": {},
   "outputs": [],
   "source": [
    "from typing import List"
   ]
  },
  {
   "cell_type": "code",
   "execution_count": null,
   "id": "2e82b066",
   "metadata": {},
   "outputs": [],
   "source": [
    "class Solution:\n",
    "  def largestRectangleArea(self, heights: List[int]) -> int:\n",
    "    ans = 0\n",
    "    stack = []\n",
    "\n",
    "    for i in range(len(heights) + 1):\n",
    "      while stack and (i == len(heights) or heights[stack[-1]] > heights[i]):\n",
    "        h = heights[stack.pop()]\n",
    "        w = i - stack[-1] - 1 if stack else i\n",
    "        ans = max(ans, h * w)\n",
    "      stack.append(i)\n",
    "\n",
    "    return ans"
   ]
  },
  {
   "cell_type": "code",
   "execution_count": null,
   "id": "13bc76eb",
   "metadata": {},
   "outputs": [],
   "source": [
    "new Solution().largestRectangleArea()"
   ]
  }
 ],
 "metadata": {},
 "nbformat": 4,
 "nbformat_minor": 5
}

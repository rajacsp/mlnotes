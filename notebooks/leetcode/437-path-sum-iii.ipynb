{
 "cells": [
  {
   "cell_type": "markdown",
   "id": "3bfb5e02",
   "metadata": {},
   "source": [
    "https://leetcode.com/problems/path-sum-iii"
   ]
  },
  {
   "cell_type": "code",
   "execution_count": null,
   "id": "a0012560",
   "metadata": {},
   "outputs": [],
   "source": [
    "import pyutil as pyu\n",
    "pyu.get_local_pyinfo()"
   ]
  },
  {
   "cell_type": "code",
   "execution_count": null,
   "id": "0fd26010",
   "metadata": {},
   "outputs": [],
   "source": [
    "print(pyu.ps2(\"python-dotenv\"))"
   ]
  },
  {
   "cell_type": "code",
   "execution_count": null,
   "id": "d4e5196a",
   "metadata": {},
   "outputs": [],
   "source": [
    "from typing import List"
   ]
  },
  {
   "cell_type": "code",
   "execution_count": null,
   "id": "fdb69a6a",
   "metadata": {},
   "outputs": [],
   "source": [
    "class Solution:\n",
    "  def pathSum(self, root: TreeNode, summ: int) -> int:\n",
    "    if not root:\n",
    "      return 0\n",
    "\n",
    "    def dfs(root: TreeNode, summ: int) -> int:\n",
    "      if not root:\n",
    "        return 0\n",
    "      return (summ == root.val) + \\\n",
    "          dfs(root.left, summ - root.val) + \\\n",
    "          dfs(root.right, summ - root.val)\n",
    "\n",
    "    return dfs(root, summ) + \\\n",
    "        self.pathSum(root.left, summ) + \\\n",
    "        self.pathSum(root.right, summ)"
   ]
  },
  {
   "cell_type": "code",
   "execution_count": null,
   "id": "7a2624f4",
   "metadata": {},
   "outputs": [],
   "source": [
    "new Solution().pathSum()"
   ]
  }
 ],
 "metadata": {},
 "nbformat": 4,
 "nbformat_minor": 5
}

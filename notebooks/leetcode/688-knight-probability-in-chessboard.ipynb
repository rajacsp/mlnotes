{
 "cells": [
  {
   "cell_type": "markdown",
   "id": "a16c8058",
   "metadata": {},
   "source": [
    "https://leetcode.com/problems/knight-probability-in-chessboard"
   ]
  },
  {
   "cell_type": "code",
   "execution_count": null,
   "id": "4e6be574",
   "metadata": {},
   "outputs": [],
   "source": [
    "import pyutil as pyu\n",
    "pyu.get_local_pyinfo()"
   ]
  },
  {
   "cell_type": "code",
   "execution_count": null,
   "id": "e2856ce9",
   "metadata": {},
   "outputs": [],
   "source": [
    "print(pyu.ps2(\"python-dotenv\"))"
   ]
  },
  {
   "cell_type": "code",
   "execution_count": null,
   "id": "a8e298a2",
   "metadata": {},
   "outputs": [],
   "source": [
    "from typing import List"
   ]
  },
  {
   "cell_type": "code",
   "execution_count": null,
   "id": "d5f60856",
   "metadata": {},
   "outputs": [],
   "source": [
    "class Solution:\n",
    "  def knightProbability(self, N: int, K: int, r: int, c: int) -> float:\n",
    "    dirs = [(1, 2), (2, 1), (2, -1), (1, -2),\n",
    "            (-1, -2), (-2, -1), (-2, 1), (-1, 2)]\n",
    "\n",
    "    # dp[i][j] := probability to stand on (i, j)\n",
    "    dp = [[0] * N for _ in range(N)]\n",
    "    dp[r][c] = 1\n",
    "\n",
    "    for _ in range(K):\n",
    "      newDp = [[0] * N for _ in range(N)]\n",
    "      for i in range(N):\n",
    "        for j in range(N):\n",
    "          for dx, dy in dirs:\n",
    "            x = i + dx\n",
    "            y = j + dy\n",
    "            if 0 <= x < N and 0 <= y < N:\n",
    "              newDp[i][j] += dp[x][y]\n",
    "      dp = newDp\n",
    "\n",
    "    return sum(map(sum, dp)) / 8**K"
   ]
  },
  {
   "cell_type": "code",
   "execution_count": null,
   "id": "042fa2e2",
   "metadata": {},
   "outputs": [],
   "source": [
    "new Solution().knightProbability()"
   ]
  }
 ],
 "metadata": {},
 "nbformat": 4,
 "nbformat_minor": 5
}

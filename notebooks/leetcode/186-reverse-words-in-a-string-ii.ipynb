{
 "cells": [
  {
   "cell_type": "markdown",
   "id": "6dc0f6aa",
   "metadata": {},
   "source": [
    "https://leetcode.com/problems/reverse-words-in-a-string-ii"
   ]
  },
  {
   "cell_type": "code",
   "execution_count": null,
   "id": "3611f114",
   "metadata": {},
   "outputs": [],
   "source": [
    "import pyutil as pyu\n",
    "pyu.get_local_pyinfo()"
   ]
  },
  {
   "cell_type": "code",
   "execution_count": null,
   "id": "f8ef1090",
   "metadata": {},
   "outputs": [],
   "source": [
    "print(pyu.ps2(\"python-dotenv\"))"
   ]
  },
  {
   "cell_type": "code",
   "execution_count": null,
   "id": "ca08817f",
   "metadata": {},
   "outputs": [],
   "source": [
    "from typing import List"
   ]
  },
  {
   "cell_type": "code",
   "execution_count": null,
   "id": "7ae3d532",
   "metadata": {},
   "outputs": [],
   "source": [
    "class Solution:\n",
    "  def reverseWords(self, s: List[str]) -> None:\n",
    "    def reverse(l: int, r: int) -> None:\n",
    "      while l < r:\n",
    "        s[l], s[r] = s[r], s[l]\n",
    "        l += 1\n",
    "        r -= 1\n",
    "\n",
    "    def reverseWords(n: int) -> None:\n",
    "      i = 0\n",
    "      j = 0\n",
    "\n",
    "      while i < n:\n",
    "        while i < j or (i < n and s[i] == ' '):  # Skip spaces\n",
    "          i += 1\n",
    "        while j < i or (j < n and s[j] != ' '):  # Skip non spaces\n",
    "          j += 1\n",
    "        reverse(i, j - 1)  # Reverse the word\n",
    "\n",
    "    reverse(0, len(s) - 1)  # Reverse the whole string\n",
    "    reverseWords(len(s))  # Reverse each word"
   ]
  },
  {
   "cell_type": "code",
   "execution_count": null,
   "id": "d4f9edce",
   "metadata": {},
   "outputs": [],
   "source": [
    "new Solution().reverseWords()"
   ]
  }
 ],
 "metadata": {},
 "nbformat": 4,
 "nbformat_minor": 5
}

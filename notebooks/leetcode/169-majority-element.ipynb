{
 "cells": [
  {
   "cell_type": "markdown",
   "id": "d000fcd2",
   "metadata": {},
   "source": [
    "https://leetcode.com/problems/majority-element"
   ]
  },
  {
   "cell_type": "code",
   "execution_count": null,
   "id": "c1ceaca8",
   "metadata": {},
   "outputs": [],
   "source": [
    "import pyutil as pyu\n",
    "pyu.get_local_pyinfo()"
   ]
  },
  {
   "cell_type": "code",
   "execution_count": null,
   "id": "0edb49f7",
   "metadata": {},
   "outputs": [],
   "source": [
    "print(pyu.ps2(\"python-dotenv\"))"
   ]
  },
  {
   "cell_type": "code",
   "execution_count": null,
   "id": "6c27d564",
   "metadata": {},
   "outputs": [],
   "source": [
    "from typing import List"
   ]
  },
  {
   "cell_type": "code",
   "execution_count": null,
   "id": "21522c0d",
   "metadata": {},
   "outputs": [],
   "source": [
    "class Solution:\n",
    "  def majorityElement(self, nums: List[int]) -> int:\n",
    "    ans = None\n",
    "    count = 0\n",
    "\n",
    "    for num in nums:\n",
    "      if count == 0:\n",
    "        ans = num\n",
    "      count += (1 if num == ans else -1)\n",
    "\n",
    "    return ans"
   ]
  },
  {
   "cell_type": "code",
   "execution_count": null,
   "id": "c2dc25d3",
   "metadata": {},
   "outputs": [],
   "source": [
    "new Solution().majorityElement()"
   ]
  }
 ],
 "metadata": {},
 "nbformat": 4,
 "nbformat_minor": 5
}

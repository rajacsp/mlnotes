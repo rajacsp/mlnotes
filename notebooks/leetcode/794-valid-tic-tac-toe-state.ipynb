{
 "cells": [
  {
   "cell_type": "markdown",
   "id": "7f19f118",
   "metadata": {},
   "source": [
    "https://leetcode.com/problems/valid-tic-tac-toe-state"
   ]
  },
  {
   "cell_type": "code",
   "execution_count": null,
   "id": "0138b74d",
   "metadata": {},
   "outputs": [],
   "source": [
    "import pyutil as pyu\n",
    "pyu.get_local_pyinfo()"
   ]
  },
  {
   "cell_type": "code",
   "execution_count": null,
   "id": "aa32be40",
   "metadata": {},
   "outputs": [],
   "source": [
    "print(pyu.ps2(\"python-dotenv\"))"
   ]
  },
  {
   "cell_type": "code",
   "execution_count": null,
   "id": "ca8b9e36",
   "metadata": {},
   "outputs": [],
   "source": [
    "from typing import List"
   ]
  },
  {
   "cell_type": "code",
   "execution_count": null,
   "id": "3b331938",
   "metadata": {},
   "outputs": [],
   "source": [
    "class Solution:\n",
    "  def validTicTacToe(self, board: List[str]) -> bool:\n",
    "    def isWin(c: chr) -> bool:\n",
    "      return any(row.count(c) == 3 for row in board) or \\\n",
    "          any(row.count(c) == 3 for row in list(zip(*board))) or \\\n",
    "          all(board[i][i] == c for i in range(3)) or \\\n",
    "          all(board[i][2 - i] == c for i in range(3))\n",
    "\n",
    "    countX = sum(row.count('X') for row in board)\n",
    "    countO = sum(row.count('O') for row in board)\n",
    "\n",
    "    if countX < countO or countX - countO > 1:\n",
    "      return False\n",
    "    if isWin('X') and countX == countO or isWin('O') and countX != countO:\n",
    "      return False\n",
    "\n",
    "    return True"
   ]
  },
  {
   "cell_type": "code",
   "execution_count": null,
   "id": "766d175b",
   "metadata": {},
   "outputs": [],
   "source": [
    "new Solution().validTicTacToe()"
   ]
  }
 ],
 "metadata": {},
 "nbformat": 4,
 "nbformat_minor": 5
}

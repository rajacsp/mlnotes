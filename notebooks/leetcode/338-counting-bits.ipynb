{
 "cells": [
  {
   "cell_type": "markdown",
   "id": "f1113b8b",
   "metadata": {},
   "source": [
    "https://leetcode.com/problems/counting-bits"
   ]
  },
  {
   "cell_type": "code",
   "execution_count": null,
   "id": "1af80a01",
   "metadata": {},
   "outputs": [],
   "source": [
    "import pyutil as pyu\n",
    "pyu.get_local_pyinfo()"
   ]
  },
  {
   "cell_type": "code",
   "execution_count": null,
   "id": "91c66234",
   "metadata": {},
   "outputs": [],
   "source": [
    "print(pyu.ps2(\"python-dotenv\"))"
   ]
  },
  {
   "cell_type": "code",
   "execution_count": null,
   "id": "7c85ee3c",
   "metadata": {},
   "outputs": [],
   "source": [
    "from typing import List"
   ]
  },
  {
   "cell_type": "code",
   "execution_count": null,
   "id": "291df7a0",
   "metadata": {},
   "outputs": [],
   "source": [
    "class Solution:\n",
    "  def countBits(self, n: int) -> List[int]:\n",
    "    # Let f(i) := i's # Of 1's in bitmask\n",
    "    # F(i) = f(i / 2) + i % 2\n",
    "    ans = [0] * (n + 1)\n",
    "\n",
    "    for i in range(1, n + 1):\n",
    "      ans[i] = ans[i // 2] + (i & 1)\n",
    "\n",
    "    return ans"
   ]
  },
  {
   "cell_type": "code",
   "execution_count": null,
   "id": "77e91180",
   "metadata": {},
   "outputs": [],
   "source": [
    "new Solution().countBits()"
   ]
  }
 ],
 "metadata": {},
 "nbformat": 4,
 "nbformat_minor": 5
}

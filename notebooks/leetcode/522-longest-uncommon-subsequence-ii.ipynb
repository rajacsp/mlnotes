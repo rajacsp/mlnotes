{
 "cells": [
  {
   "cell_type": "markdown",
   "id": "b00acccc",
   "metadata": {},
   "source": [
    "https://leetcode.com/problems/longest-uncommon-subsequence-ii"
   ]
  },
  {
   "cell_type": "code",
   "execution_count": null,
   "id": "42eecd13",
   "metadata": {},
   "outputs": [],
   "source": [
    "import pyutil as pyu\n",
    "pyu.get_local_pyinfo()"
   ]
  },
  {
   "cell_type": "code",
   "execution_count": null,
   "id": "21bc93f7",
   "metadata": {},
   "outputs": [],
   "source": [
    "print(pyu.ps2(\"python-dotenv\"))"
   ]
  },
  {
   "cell_type": "code",
   "execution_count": null,
   "id": "ca82e2e3",
   "metadata": {},
   "outputs": [],
   "source": [
    "from typing import List"
   ]
  },
  {
   "cell_type": "code",
   "execution_count": null,
   "id": "38803d51",
   "metadata": {},
   "outputs": [],
   "source": [
    "class Solution:\n",
    "  def findLUSlength(self, strs: List[str]) -> int:\n",
    "    def isSubsequence(a: str, b: str) -> bool:\n",
    "      i = 0\n",
    "      j = 0\n",
    "\n",
    "      while i < len(a) and j < len(b):\n",
    "        if a[i] == b[j]:\n",
    "          i += 1\n",
    "        j += 1\n",
    "\n",
    "      return i == len(a)\n",
    "\n",
    "    seen = set()\n",
    "    duplicates = set()\n",
    "\n",
    "    for s in strs:\n",
    "      if s in seen:\n",
    "        duplicates.add(s)\n",
    "      seen.add(s)\n",
    "\n",
    "    strs.sort(key=lambda s: -len(s))\n",
    "\n",
    "    for i in range(len(strs)):\n",
    "      if strs[i] in duplicates:\n",
    "        continue\n",
    "      isASubsequence = False\n",
    "      for j in range(i):\n",
    "        isASubsequence |= isSubsequence(strs[i], strs[j])\n",
    "      if not isASubsequence:\n",
    "        return len(strs[i])\n",
    "\n",
    "    return -1"
   ]
  },
  {
   "cell_type": "code",
   "execution_count": null,
   "id": "cfc166e7",
   "metadata": {},
   "outputs": [],
   "source": [
    "new Solution().findLUSlength()"
   ]
  }
 ],
 "metadata": {},
 "nbformat": 4,
 "nbformat_minor": 5
}

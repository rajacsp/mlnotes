{
 "cells": [
  {
   "cell_type": "markdown",
   "id": "71055401",
   "metadata": {},
   "source": [
    "https://leetcode.com/problems/ransom-note"
   ]
  },
  {
   "cell_type": "code",
   "execution_count": null,
   "id": "ef4d098b",
   "metadata": {},
   "outputs": [],
   "source": [
    "import pyutil as pyu\n",
    "pyu.get_local_pyinfo()"
   ]
  },
  {
   "cell_type": "code",
   "execution_count": null,
   "id": "b3cdac2a",
   "metadata": {},
   "outputs": [],
   "source": [
    "print(pyu.ps2(\"python-dotenv\"))"
   ]
  },
  {
   "cell_type": "code",
   "execution_count": null,
   "id": "670eb8b3",
   "metadata": {},
   "outputs": [],
   "source": [
    "from typing import List"
   ]
  },
  {
   "cell_type": "code",
   "execution_count": null,
   "id": "db80b559",
   "metadata": {},
   "outputs": [],
   "source": [
    "class Solution:\n",
    "  def canConstruct(self, ransomNote: str, magazine: str) -> bool:\n",
    "    count1 = Counter(ransomNote)\n",
    "    count2 = Counter(magazine)\n",
    "    return all(count1[c] <= count2[c] for c in string.ascii_lowercase)"
   ]
  },
  {
   "cell_type": "code",
   "execution_count": null,
   "id": "b18dc835",
   "metadata": {},
   "outputs": [],
   "source": [
    "new Solution().canConstruct()"
   ]
  }
 ],
 "metadata": {},
 "nbformat": 4,
 "nbformat_minor": 5
}

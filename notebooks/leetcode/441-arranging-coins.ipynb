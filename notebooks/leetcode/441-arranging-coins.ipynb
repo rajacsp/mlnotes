{
 "cells": [
  {
   "cell_type": "markdown",
   "id": "85a214ad",
   "metadata": {},
   "source": [
    "https://leetcode.com/problems/arranging-coins"
   ]
  },
  {
   "cell_type": "code",
   "execution_count": null,
   "id": "e10e84db",
   "metadata": {},
   "outputs": [],
   "source": [
    "import pyutil as pyu\n",
    "pyu.get_local_pyinfo()"
   ]
  },
  {
   "cell_type": "code",
   "execution_count": null,
   "id": "ef43fc91",
   "metadata": {},
   "outputs": [],
   "source": [
    "print(pyu.ps2(\"python-dotenv\"))"
   ]
  },
  {
   "cell_type": "code",
   "execution_count": null,
   "id": "90005df6",
   "metadata": {},
   "outputs": [],
   "source": [
    "from typing import List"
   ]
  },
  {
   "cell_type": "code",
   "execution_count": null,
   "id": "6e105c59",
   "metadata": {},
   "outputs": [],
   "source": [
    "class Solution:\n",
    "  def arrangeCoins(self, n: int) -> int:\n",
    "    return int((-1 + sqrt(8 * n + 1)) // 2)"
   ]
  },
  {
   "cell_type": "code",
   "execution_count": null,
   "id": "82ff3f4d",
   "metadata": {},
   "outputs": [],
   "source": [
    "new Solution().arrangeCoins()"
   ]
  }
 ],
 "metadata": {},
 "nbformat": 4,
 "nbformat_minor": 5
}

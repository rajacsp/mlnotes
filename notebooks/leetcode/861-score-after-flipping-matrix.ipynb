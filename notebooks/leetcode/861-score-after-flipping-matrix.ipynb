{
 "cells": [
  {
   "cell_type": "markdown",
   "id": "b593f419",
   "metadata": {},
   "source": [
    "https://leetcode.com/problems/score-after-flipping-matrix"
   ]
  },
  {
   "cell_type": "code",
   "execution_count": null,
   "id": "170d5ff9",
   "metadata": {},
   "outputs": [],
   "source": [
    "import pyutil as pyu\n",
    "pyu.get_local_pyinfo()"
   ]
  },
  {
   "cell_type": "code",
   "execution_count": null,
   "id": "b75cc290",
   "metadata": {},
   "outputs": [],
   "source": [
    "print(pyu.ps2(\"python-dotenv\"))"
   ]
  },
  {
   "cell_type": "code",
   "execution_count": null,
   "id": "bfa17e11",
   "metadata": {},
   "outputs": [],
   "source": [
    "from typing import List"
   ]
  },
  {
   "cell_type": "code",
   "execution_count": null,
   "id": "4157ccf5",
   "metadata": {},
   "outputs": [],
   "source": [
    "class Solution:\n",
    "  def matrixScore(self, grid: List[List[int]]) -> int:\n",
    "    # Flip rows with leading 0\n",
    "    for row in grid:\n",
    "      if row[0] == 0:\n",
    "        self._flip(row)\n",
    "\n",
    "    # Flip cols with 1s < 0s\n",
    "    for j, col in enumerate(list(zip(*grid))):\n",
    "      if sum(col) * 2 < len(grid):\n",
    "        self._flipCol(grid, j)\n",
    "\n",
    "    # Add binary number for each row\n",
    "    return sum(self._binary(row) for row in grid)\n",
    "\n",
    "  def _flip(self, row: List[int]) -> None:\n",
    "    for i in range(len(row)):\n",
    "      row[i] ^= 1\n",
    "\n",
    "  def _flipCol(self, grid: List[List[int]], j: int) -> None:\n",
    "    for i in range(len(grid)):\n",
    "      grid[i][j] ^= 1\n",
    "\n",
    "  def _binary(self, row: List[int]) -> int:\n",
    "    res = row[0]\n",
    "    for j in range(1, len(row)):\n",
    "      res = res * 2 + row[j]\n",
    "    return res"
   ]
  },
  {
   "cell_type": "code",
   "execution_count": null,
   "id": "52b005fb",
   "metadata": {},
   "outputs": [],
   "source": [
    "new Solution().matrixScore()"
   ]
  }
 ],
 "metadata": {},
 "nbformat": 4,
 "nbformat_minor": 5
}

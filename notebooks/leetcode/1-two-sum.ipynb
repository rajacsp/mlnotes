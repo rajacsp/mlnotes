{
 "cells": [
  {
   "cell_type": "markdown",
   "id": "a11c4fcb",
   "metadata": {},
   "source": [
    "https://leetcode.com/problems/two-sum"
   ]
  },
  {
   "cell_type": "code",
   "execution_count": null,
   "id": "1fc5a907",
   "metadata": {},
   "outputs": [],
   "source": [
    "import pyutil as pyu\n",
    "pyu.get_local_pyinfo()"
   ]
  },
  {
   "cell_type": "code",
   "execution_count": null,
   "id": "d1f869d3",
   "metadata": {},
   "outputs": [],
   "source": [
    "print(pyu.ps2(\"python-dotenv\"))"
   ]
  },
  {
   "cell_type": "code",
   "execution_count": null,
   "id": "8f2ec2c4",
   "metadata": {},
   "outputs": [],
   "source": [
    "from typing import List"
   ]
  },
  {
   "cell_type": "code",
   "execution_count": null,
   "id": "361432a4",
   "metadata": {},
   "outputs": [],
   "source": [
    "class Solution:\n",
    "  def twoSum(self, nums: List[int], target: int) -> List[int]:\n",
    "    numToIndex = {}\n",
    "\n",
    "    for i, num in enumerate(nums):\n",
    "      if target - num in numToIndex:\n",
    "        return numToIndex[target - num], i\n",
    "      numToIndex[num] = i"
   ]
  },
  {
   "cell_type": "code",
   "execution_count": null,
   "id": "bcd67b23",
   "metadata": {},
   "outputs": [],
   "source": [
    "new Solution().twoSum()"
   ]
  }
 ],
 "metadata": {},
 "nbformat": 4,
 "nbformat_minor": 5
}

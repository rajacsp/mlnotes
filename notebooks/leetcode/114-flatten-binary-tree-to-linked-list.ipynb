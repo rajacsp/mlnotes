{
 "cells": [
  {
   "cell_type": "markdown",
   "id": "d2f1cb8d",
   "metadata": {},
   "source": [
    "https://leetcode.com/problems/flatten-binary-tree-to-linked-list"
   ]
  },
  {
   "cell_type": "code",
   "execution_count": null,
   "id": "fb0b1dd6",
   "metadata": {},
   "outputs": [],
   "source": [
    "import pyutil as pyu\n",
    "pyu.get_local_pyinfo()"
   ]
  },
  {
   "cell_type": "code",
   "execution_count": null,
   "id": "fb157dfb",
   "metadata": {},
   "outputs": [],
   "source": [
    "print(pyu.ps2(\"python-dotenv\"))"
   ]
  },
  {
   "cell_type": "code",
   "execution_count": null,
   "id": "3da7bc35",
   "metadata": {},
   "outputs": [],
   "source": [
    "from typing import List"
   ]
  },
  {
   "cell_type": "code",
   "execution_count": null,
   "id": "184152c2",
   "metadata": {},
   "outputs": [],
   "source": [
    "class Solution:\n",
    "  def flatten(self, root: Optional[TreeNode]) -> None:\n",
    "    if not root:\n",
    "      return\n",
    "\n",
    "    self.flatten(root.left)\n",
    "    self.flatten(root.right)\n",
    "\n",
    "    left = root.left  # Flattened left\n",
    "    right = root.right  # Flattened right\n",
    "\n",
    "    root.left = None\n",
    "    root.right = left\n",
    "\n",
    "    # Connect the original right subtree\n",
    "    # To the end of new right subtree\n",
    "    rightmost = root\n",
    "    while rightmost.right:\n",
    "      rightmost = rightmost.right\n",
    "    rightmost.right = right"
   ]
  },
  {
   "cell_type": "code",
   "execution_count": null,
   "id": "1759dfdb",
   "metadata": {},
   "outputs": [],
   "source": [
    "new Solution().flatten()"
   ]
  }
 ],
 "metadata": {},
 "nbformat": 4,
 "nbformat_minor": 5
}

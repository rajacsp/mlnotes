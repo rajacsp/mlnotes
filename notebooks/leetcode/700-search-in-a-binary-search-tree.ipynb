{
 "cells": [
  {
   "cell_type": "markdown",
   "id": "ba699e60",
   "metadata": {},
   "source": [
    "https://leetcode.com/problems/search-in-a-binary-search-tree"
   ]
  },
  {
   "cell_type": "code",
   "execution_count": null,
   "id": "62316a7c",
   "metadata": {},
   "outputs": [],
   "source": [
    "import pyutil as pyu\n",
    "pyu.get_local_pyinfo()"
   ]
  },
  {
   "cell_type": "code",
   "execution_count": null,
   "id": "4affea95",
   "metadata": {},
   "outputs": [],
   "source": [
    "print(pyu.ps2(\"python-dotenv\"))"
   ]
  },
  {
   "cell_type": "code",
   "execution_count": null,
   "id": "f9570a78",
   "metadata": {},
   "outputs": [],
   "source": [
    "from typing import List"
   ]
  },
  {
   "cell_type": "code",
   "execution_count": null,
   "id": "a7555acb",
   "metadata": {},
   "outputs": [],
   "source": [
    "class Solution:\n",
    "  def searchBST(self, root: Optional[TreeNode], val: int) -> Optional[TreeNode]:\n",
    "    if not root:\n",
    "      return None\n",
    "    if root.val == val:\n",
    "      return root\n",
    "    if root.val > val:\n",
    "      return self.searchBST(root.left, val)\n",
    "    return self.searchBST(root.right, val)"
   ]
  },
  {
   "cell_type": "code",
   "execution_count": null,
   "id": "a86b04b5",
   "metadata": {},
   "outputs": [],
   "source": [
    "new Solution().searchBST()"
   ]
  }
 ],
 "metadata": {},
 "nbformat": 4,
 "nbformat_minor": 5
}

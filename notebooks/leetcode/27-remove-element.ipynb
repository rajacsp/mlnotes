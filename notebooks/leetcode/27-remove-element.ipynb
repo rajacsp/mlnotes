{
 "cells": [
  {
   "cell_type": "markdown",
   "id": "844c168d",
   "metadata": {},
   "source": [
    "https://leetcode.com/problems/remove-element"
   ]
  },
  {
   "cell_type": "code",
   "execution_count": null,
   "id": "2a0fed9e",
   "metadata": {},
   "outputs": [],
   "source": [
    "import pyutil as pyu\n",
    "pyu.get_local_pyinfo()"
   ]
  },
  {
   "cell_type": "code",
   "execution_count": null,
   "id": "1566f579",
   "metadata": {},
   "outputs": [],
   "source": [
    "print(pyu.ps2(\"python-dotenv\"))"
   ]
  },
  {
   "cell_type": "code",
   "execution_count": null,
   "id": "3a63203a",
   "metadata": {},
   "outputs": [],
   "source": [
    "from typing import List"
   ]
  },
  {
   "cell_type": "code",
   "execution_count": null,
   "id": "06253d4c",
   "metadata": {},
   "outputs": [],
   "source": [
    "class Solution:\n",
    "  def removeElement(self, nums: List[int], val: int) -> int:\n",
    "    i = 0\n",
    "\n",
    "    for num in nums:\n",
    "      if num != val:\n",
    "        nums[i] = num\n",
    "        i += 1\n",
    "\n",
    "    return i"
   ]
  },
  {
   "cell_type": "code",
   "execution_count": null,
   "id": "33fa8b33",
   "metadata": {},
   "outputs": [],
   "source": [
    "new Solution().removeElement()"
   ]
  }
 ],
 "metadata": {},
 "nbformat": 4,
 "nbformat_minor": 5
}

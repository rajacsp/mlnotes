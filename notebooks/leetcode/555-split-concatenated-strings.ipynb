{
 "cells": [
  {
   "cell_type": "markdown",
   "id": "23cb6473",
   "metadata": {},
   "source": [
    "https://leetcode.com/problems/split-concatenated-strings"
   ]
  },
  {
   "cell_type": "code",
   "execution_count": null,
   "id": "44731183",
   "metadata": {},
   "outputs": [],
   "source": [
    "import pyutil as pyu\n",
    "pyu.get_local_pyinfo()"
   ]
  },
  {
   "cell_type": "code",
   "execution_count": null,
   "id": "5f26fa33",
   "metadata": {},
   "outputs": [],
   "source": [
    "print(pyu.ps2(\"python-dotenv\"))"
   ]
  },
  {
   "cell_type": "code",
   "execution_count": null,
   "id": "c2c1e9fe",
   "metadata": {},
   "outputs": [],
   "source": [
    "from typing import List"
   ]
  },
  {
   "cell_type": "code",
   "execution_count": null,
   "id": "80d49ac0",
   "metadata": {},
   "outputs": [],
   "source": [
    "class Solution:\n",
    "  def splitLoopedString(self, strs: List[str]) -> str:\n",
    "    ans = ''\n",
    "    sortedStrs = [max(s, s[::-1]) for s in strs]\n",
    "\n",
    "    for i, sortedStr in enumerate(sortedStrs):\n",
    "      for s in (sortedStr, sortedStr[::-1]):\n",
    "        for j in range(len(s) + 1):\n",
    "          ans = max(\n",
    "              ans, s[j:] + ''.join(sortedStrs[i + 1:] + sortedStrs[:i]) + s[:j])\n",
    "\n",
    "    return ans"
   ]
  },
  {
   "cell_type": "code",
   "execution_count": null,
   "id": "bae45216",
   "metadata": {},
   "outputs": [],
   "source": [
    "new Solution().splitLoopedString()"
   ]
  }
 ],
 "metadata": {},
 "nbformat": 4,
 "nbformat_minor": 5
}

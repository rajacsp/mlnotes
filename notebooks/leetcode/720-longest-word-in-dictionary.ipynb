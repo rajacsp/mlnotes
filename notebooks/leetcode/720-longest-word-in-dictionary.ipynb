{
 "cells": [
  {
   "cell_type": "markdown",
   "id": "ae6a417e",
   "metadata": {},
   "source": [
    "https://leetcode.com/problems/longest-word-in-dictionary"
   ]
  },
  {
   "cell_type": "code",
   "execution_count": null,
   "id": "407d2b4e",
   "metadata": {},
   "outputs": [],
   "source": [
    "import pyutil as pyu\n",
    "pyu.get_local_pyinfo()"
   ]
  },
  {
   "cell_type": "code",
   "execution_count": null,
   "id": "53a86e3d",
   "metadata": {},
   "outputs": [],
   "source": [
    "print(pyu.ps2(\"python-dotenv\"))"
   ]
  },
  {
   "cell_type": "code",
   "execution_count": null,
   "id": "75fc6d21",
   "metadata": {},
   "outputs": [],
   "source": [
    "from typing import List"
   ]
  },
  {
   "cell_type": "code",
   "execution_count": null,
   "id": "042ad588",
   "metadata": {},
   "outputs": [],
   "source": [
    "class Solution:\n",
    "  def longestWord(self, words: List[str]) -> str:\n",
    "    root = {}\n",
    "\n",
    "    for word in words:\n",
    "      node = root\n",
    "      for c in word:\n",
    "        if c not in node:\n",
    "          node[c] = {}\n",
    "        node = node[c]\n",
    "      node['word'] = word\n",
    "\n",
    "    def dfs(node: dict) -> str:\n",
    "      ans = node['word'] if 'word' in node else ''\n",
    "\n",
    "      for child in node:\n",
    "        if 'word' in node[child] and len(node[child]['word']) > 0:\n",
    "          childWord = dfs(node[child])\n",
    "          if len(childWord) > len(ans) or (len(childWord) == len(ans) and childWord < ans):\n",
    "            ans = childWord\n",
    "\n",
    "      return ans\n",
    "\n",
    "    return dfs(root)"
   ]
  },
  {
   "cell_type": "code",
   "execution_count": null,
   "id": "6e3a54e1",
   "metadata": {},
   "outputs": [],
   "source": [
    "new Solution().longestWord()"
   ]
  }
 ],
 "metadata": {},
 "nbformat": 4,
 "nbformat_minor": 5
}

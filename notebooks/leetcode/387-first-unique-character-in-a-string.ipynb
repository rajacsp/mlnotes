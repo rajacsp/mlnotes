{
 "cells": [
  {
   "cell_type": "markdown",
   "id": "1c12bafb",
   "metadata": {},
   "source": [
    "https://leetcode.com/problems/first-unique-character-in-a-string"
   ]
  },
  {
   "cell_type": "code",
   "execution_count": null,
   "id": "9f7fa2a4",
   "metadata": {},
   "outputs": [],
   "source": [
    "import pyutil as pyu\n",
    "pyu.get_local_pyinfo()"
   ]
  },
  {
   "cell_type": "code",
   "execution_count": null,
   "id": "26dd544a",
   "metadata": {},
   "outputs": [],
   "source": [
    "print(pyu.ps2(\"python-dotenv\"))"
   ]
  },
  {
   "cell_type": "code",
   "execution_count": null,
   "id": "bdf5660e",
   "metadata": {},
   "outputs": [],
   "source": [
    "from typing import List"
   ]
  },
  {
   "cell_type": "code",
   "execution_count": null,
   "id": "2c0ee787",
   "metadata": {},
   "outputs": [],
   "source": [
    "class Solution:\n",
    "  def firstUniqChar(self, s: str) -> int:\n",
    "    count = Counter(s)\n",
    "\n",
    "    for i, c in enumerate(s):\n",
    "      if count[c] == 1:\n",
    "        return i\n",
    "\n",
    "    return -1"
   ]
  },
  {
   "cell_type": "code",
   "execution_count": null,
   "id": "08b4033a",
   "metadata": {},
   "outputs": [],
   "source": [
    "new Solution().firstUniqChar()"
   ]
  }
 ],
 "metadata": {},
 "nbformat": 4,
 "nbformat_minor": 5
}

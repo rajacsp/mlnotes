{
 "cells": [
  {
   "cell_type": "markdown",
   "id": "f6989e3a",
   "metadata": {},
   "source": [
    "https://leetcode.com/problems/n-repeated-element-in-size-2n-array"
   ]
  },
  {
   "cell_type": "code",
   "execution_count": null,
   "id": "0642e1bd",
   "metadata": {},
   "outputs": [],
   "source": [
    "import pyutil as pyu\n",
    "pyu.get_local_pyinfo()"
   ]
  },
  {
   "cell_type": "code",
   "execution_count": null,
   "id": "a8f63230",
   "metadata": {},
   "outputs": [],
   "source": [
    "print(pyu.ps2(\"python-dotenv\"))"
   ]
  },
  {
   "cell_type": "code",
   "execution_count": null,
   "id": "f0d0fcfb",
   "metadata": {},
   "outputs": [],
   "source": [
    "from typing import List"
   ]
  },
  {
   "cell_type": "code",
   "execution_count": null,
   "id": "026afeca",
   "metadata": {},
   "outputs": [],
   "source": [
    "class Solution:\n",
    "  def repeatedNTimes(self, A: List[int]) -> int:\n",
    "    for i in range(len(A) - 2):\n",
    "      if A[i] == A[i + 1] or A[i] == A[i + 2]:\n",
    "        return A[i]\n",
    "\n",
    "    return A[-1]"
   ]
  },
  {
   "cell_type": "code",
   "execution_count": null,
   "id": "4bd8af67",
   "metadata": {},
   "outputs": [],
   "source": [
    "new Solution().repeatedNTimes()"
   ]
  }
 ],
 "metadata": {},
 "nbformat": 4,
 "nbformat_minor": 5
}

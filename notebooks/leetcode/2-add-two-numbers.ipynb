{
 "cells": [
  {
   "cell_type": "markdown",
   "id": "f301a6b2",
   "metadata": {},
   "source": [
    "https://leetcode.com/problems/add-two-numbers"
   ]
  },
  {
   "cell_type": "code",
   "execution_count": null,
   "id": "eb494a6e",
   "metadata": {},
   "outputs": [],
   "source": [
    "import pyutil as pyu\n",
    "pyu.get_local_pyinfo()"
   ]
  },
  {
   "cell_type": "code",
   "execution_count": null,
   "id": "fe50e18a",
   "metadata": {},
   "outputs": [],
   "source": [
    "print(pyu.ps2(\"python-dotenv\"))"
   ]
  },
  {
   "cell_type": "code",
   "execution_count": null,
   "id": "f3c87bc9",
   "metadata": {},
   "outputs": [],
   "source": [
    "from typing import List"
   ]
  },
  {
   "cell_type": "code",
   "execution_count": null,
   "id": "14cd7119",
   "metadata": {},
   "outputs": [],
   "source": [
    "class Solution:\n",
    "  def addTwoNumbers(self, l1: ListNode, l2: ListNode) -> ListNode:\n",
    "    dummy = ListNode(0)\n",
    "    curr = dummy\n",
    "    carry = 0\n",
    "\n",
    "    while carry or l1 or l2:\n",
    "      if l1:\n",
    "        carry += l1.val\n",
    "        l1 = l1.next\n",
    "      if l2:\n",
    "        carry += l2.val\n",
    "        l2 = l2.next\n",
    "      curr.next = ListNode(carry % 10)\n",
    "      carry //= 10\n",
    "      curr = curr.next\n",
    "\n",
    "    return dummy.next"
   ]
  },
  {
   "cell_type": "code",
   "execution_count": null,
   "id": "a7efc427",
   "metadata": {},
   "outputs": [],
   "source": [
    "new Solution().addTwoNumbers()"
   ]
  }
 ],
 "metadata": {},
 "nbformat": 4,
 "nbformat_minor": 5
}

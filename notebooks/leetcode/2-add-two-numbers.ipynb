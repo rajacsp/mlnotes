{
 "cells": [
  {
   "cell_type": "code",
   "execution_count": null,
   "id": "db25c914-1252-4bae-8dbe-3a20e361bd73",
   "metadata": {},
   "outputs": [],
   "source": [
    "# https://leetcode.com/problems/add-two-numbers/description/"
   ]
  },
  {
   "cell_type": "code",
   "execution_count": 1,
   "id": "0c10588e-e9e7-4b8c-b92b-91104a273df0",
   "metadata": {},
   "outputs": [
    {
     "data": {
      "text/plain": [
       "'conda env: ml311; pyv: 3.11.10 (main, Oct  3 2024, 07:29:13) [GCC 11.2.0]'"
      ]
     },
     "execution_count": 1,
     "metadata": {},
     "output_type": "execute_result"
    }
   ],
   "source": [
    "import pyutil as pyu\n",
    "pyu.get_local_pyinfo()"
   ]
  },
  {
   "cell_type": "code",
   "execution_count": 2,
   "id": "c2ccb592-b983-4856-a241-5898cab06699",
   "metadata": {},
   "outputs": [
    {
     "name": "stdout",
     "output_type": "stream",
     "text": [
      "haystack-ai==2.8.0\n",
      "ollama-haystack is not installed in the current environment.\n",
      "python-dotenv==0.21.0\n",
      "\n"
     ]
    }
   ],
   "source": [
    "print(pyu.ps2(\"haystack-ai ollama-haystack python-dotenv\"))"
   ]
  },
  {
   "cell_type": "markdown",
   "id": "7e655066-26a8-4ef6-bfa0-656c79ce7cc5",
   "metadata": {},
   "source": [
    "You are given two non-empty linked lists representing two non-negative integers. The digits are stored in reverse order, and each of their nodes contains a single digit. Add the two numbers and return the sum as a linked list.\n",
    "\n",
    "You may assume the two numbers do not contain any leading zero, except the number 0 itself."
   ]
  },
  {
   "cell_type": "code",
   "execution_count": 6,
   "id": "a47bbee6-7cd2-4d3b-a0e2-7498576baee4",
   "metadata": {},
   "outputs": [],
   "source": [
    "class ListNode:\n",
    "    def __init__(self, val=0, next=None):\n",
    "        self.val = val\n",
    "        self.next = next"
   ]
  },
  {
   "cell_type": "code",
   "execution_count": 7,
   "id": "db774853-157d-4c2a-8019-638a12706bfe",
   "metadata": {},
   "outputs": [],
   "source": [
    "class Solution:\n",
    "  def addTwoNumbers(self, l1: ListNode, l2: ListNode) -> ListNode:\n",
    "    dummy = ListNode(0)\n",
    "    curr = dummy\n",
    "    carry = 0\n",
    "\n",
    "    while carry or l1 or l2:\n",
    "      if l1:\n",
    "        carry += l1.val\n",
    "        l1 = l1.next\n",
    "      if l2:\n",
    "        carry += l2.val\n",
    "        l2 = l2.next\n",
    "      curr.next = ListNode(carry % 10)\n",
    "      carry //= 10\n",
    "      curr = curr.next\n",
    "\n",
    "    return dummy.next"
   ]
  },
  {
   "cell_type": "code",
   "execution_count": null,
   "id": "e7160d25-b559-4a40-8890-cb52b4d052aa",
   "metadata": {},
   "outputs": [],
   "source": []
  },
  {
   "cell_type": "code",
   "execution_count": 10,
   "id": "bbacbaf8-1733-47c4-badd-608b60cc792a",
   "metadata": {},
   "outputs": [
    {
     "name": "stdout",
     "output_type": "stream",
     "text": [
      "Input List 1:\n",
      "2 -> 4 -> 3\n",
      "Input List 2:\n",
      "5 -> 6 -> 4\n",
      "Result:\n",
      "7 -> 0 -> 8\n"
     ]
    }
   ],
   "source": [
    "def create_linked_list(numbers):\n",
    "    \"\"\"Helper function to create a linked list from a list of numbers.\"\"\"\n",
    "    dummy = ListNode(0)\n",
    "    current = dummy\n",
    "    for num in numbers:\n",
    "        current.next = ListNode(num)\n",
    "        current = current.next\n",
    "    return dummy.next\n",
    "\n",
    "def print_linked_list(node):\n",
    "    \"\"\"Helper function to print a linked list.\"\"\"\n",
    "    result = []\n",
    "    while node:\n",
    "        result.append(node.val)\n",
    "        node = node.next\n",
    "    print(\" -> \".join(map(str, result)))\n",
    "\n",
    "# Test inputs\n",
    "l1_numbers = [2, 4, 3]  # Represents the number 342\n",
    "l2_numbers = [5, 6, 4]  # Represents the number 465\n",
    "\n",
    "# Create linked lists from the test inputs\n",
    "l1 = create_linked_list(l1_numbers)\n",
    "l2 = create_linked_list(l2_numbers)\n",
    "\n",
    "# Solve the problem\n",
    "solution = Solution()\n",
    "result = solution.addTwoNumbers(l1, l2)\n",
    "\n",
    "# Print the result\n",
    "print(\"Input List 1:\")\n",
    "print_linked_list(l1)\n",
    "print(\"Input List 2:\")\n",
    "print_linked_list(l2)\n",
    "print(\"Result:\")\n",
    "print_linked_list(result)"
   ]
  },
  {
   "cell_type": "code",
   "execution_count": null,
   "id": "b0ddd853-f175-4810-96a5-935332cd5f9b",
   "metadata": {},
   "outputs": [],
   "source": []
  }
 ],
 "metadata": {
  "kernelspec": {
   "display_name": "Python 3 (ipykernel)",
   "language": "python",
   "name": "python3"
  },
  "language_info": {
   "codemirror_mode": {
    "name": "ipython",
    "version": 3
   },
   "file_extension": ".py",
   "mimetype": "text/x-python",
   "name": "python",
   "nbconvert_exporter": "python",
   "pygments_lexer": "ipython3",
   "version": "3.11.10"
  }
 },
 "nbformat": 4,
 "nbformat_minor": 5
}

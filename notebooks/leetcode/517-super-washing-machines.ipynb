{
 "cells": [
  {
   "cell_type": "markdown",
   "id": "841266a8",
   "metadata": {},
   "source": [
    "https://leetcode.com/problems/super-washing-machines"
   ]
  },
  {
   "cell_type": "code",
   "execution_count": null,
   "id": "73ab8b77",
   "metadata": {},
   "outputs": [],
   "source": [
    "import pyutil as pyu\n",
    "pyu.get_local_pyinfo()"
   ]
  },
  {
   "cell_type": "code",
   "execution_count": null,
   "id": "0e099cff",
   "metadata": {},
   "outputs": [],
   "source": [
    "print(pyu.ps2(\"python-dotenv\"))"
   ]
  },
  {
   "cell_type": "code",
   "execution_count": null,
   "id": "68acba2b",
   "metadata": {},
   "outputs": [],
   "source": [
    "from typing import List"
   ]
  },
  {
   "cell_type": "code",
   "execution_count": null,
   "id": "d84be545",
   "metadata": {},
   "outputs": [],
   "source": [
    "class Solution:\n",
    "  def findMinMoves(self, machines: List[int]) -> int:\n",
    "    dresses = sum(machines)\n",
    "\n",
    "    if dresses % len(machines) != 0:\n",
    "      return -1\n",
    "\n",
    "    ans = 0\n",
    "    average = dresses // len(machines)\n",
    "    inout = 0\n",
    "\n",
    "    for dress in machines:\n",
    "      inout += dress - average\n",
    "      ans = max(ans, abs(inout), dress - average)\n",
    "\n",
    "    return ans"
   ]
  },
  {
   "cell_type": "code",
   "execution_count": null,
   "id": "453cc47e",
   "metadata": {},
   "outputs": [],
   "source": [
    "new Solution().findMinMoves()"
   ]
  }
 ],
 "metadata": {},
 "nbformat": 4,
 "nbformat_minor": 5
}

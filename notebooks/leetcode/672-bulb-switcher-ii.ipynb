{
 "cells": [
  {
   "cell_type": "markdown",
   "id": "ddc3381f",
   "metadata": {},
   "source": [
    "https://leetcode.com/problems/bulb-switcher-ii"
   ]
  },
  {
   "cell_type": "code",
   "execution_count": null,
   "id": "b15ee53a",
   "metadata": {},
   "outputs": [],
   "source": [
    "import pyutil as pyu\n",
    "pyu.get_local_pyinfo()"
   ]
  },
  {
   "cell_type": "code",
   "execution_count": null,
   "id": "c460346c",
   "metadata": {},
   "outputs": [],
   "source": [
    "print(pyu.ps2(\"python-dotenv\"))"
   ]
  },
  {
   "cell_type": "code",
   "execution_count": null,
   "id": "87f35a0b",
   "metadata": {},
   "outputs": [],
   "source": [
    "from typing import List"
   ]
  },
  {
   "cell_type": "code",
   "execution_count": null,
   "id": "6d0ae760",
   "metadata": {},
   "outputs": [],
   "source": [
    "class Solution:\n",
    "  def flipLights(self, n: int, m: int) -> int:\n",
    "    n = min(n, 3)\n",
    "\n",
    "    if m == 0:\n",
    "      return 1\n",
    "    if m == 1:\n",
    "      return [2, 3, 4][n - 1]\n",
    "    if m == 2:\n",
    "      return [2, 4, 7][n - 1]\n",
    "\n",
    "    return [2, 4, 8][n - 1]"
   ]
  },
  {
   "cell_type": "code",
   "execution_count": null,
   "id": "2cf30318",
   "metadata": {},
   "outputs": [],
   "source": [
    "new Solution().flipLights()"
   ]
  }
 ],
 "metadata": {},
 "nbformat": 4,
 "nbformat_minor": 5
}

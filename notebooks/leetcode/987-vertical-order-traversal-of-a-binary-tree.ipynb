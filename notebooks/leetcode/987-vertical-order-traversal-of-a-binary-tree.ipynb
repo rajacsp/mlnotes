{
 "cells": [
  {
   "cell_type": "markdown",
   "id": "d00fc033",
   "metadata": {},
   "source": [
    "https://leetcode.com/problems/vertical-order-traversal-of-a-binary-tree"
   ]
  },
  {
   "cell_type": "code",
   "execution_count": null,
   "id": "865aec7f",
   "metadata": {},
   "outputs": [],
   "source": [
    "import pyutil as pyu\n",
    "pyu.get_local_pyinfo()"
   ]
  },
  {
   "cell_type": "code",
   "execution_count": null,
   "id": "76052385",
   "metadata": {},
   "outputs": [],
   "source": [
    "print(pyu.ps2(\"python-dotenv\"))"
   ]
  },
  {
   "cell_type": "code",
   "execution_count": null,
   "id": "b6b8d0fb",
   "metadata": {},
   "outputs": [],
   "source": [
    "from typing import List"
   ]
  },
  {
   "cell_type": "code",
   "execution_count": null,
   "id": "4aa36624",
   "metadata": {},
   "outputs": [],
   "source": [
    "class Solution:\n",
    "  def verticalTraversal(self, root: Optional[TreeNode]) -> List[List[int]]:\n",
    "    ans = []\n",
    "    xToNodes = defaultdict(list)\n",
    "\n",
    "    def dfs(node: Optional[TreeNode], x: int, y: int) -> None:\n",
    "      if not node:\n",
    "        return\n",
    "\n",
    "      xToNodes[x].append((-y, node.val))\n",
    "      dfs(node.left, x - 1, y - 1)\n",
    "      dfs(node.right, x + 1, y - 1)\n",
    "\n",
    "    dfs(root, 0, 0)\n",
    "\n",
    "    for _, nodes in sorted(xToNodes.items(), key=lambda item: item[0]):\n",
    "      ans.append([val for _, val in sorted(nodes)])\n",
    "\n",
    "    return ans"
   ]
  },
  {
   "cell_type": "code",
   "execution_count": null,
   "id": "58b53140",
   "metadata": {},
   "outputs": [],
   "source": [
    "new Solution().verticalTraversal()"
   ]
  }
 ],
 "metadata": {},
 "nbformat": 4,
 "nbformat_minor": 5
}

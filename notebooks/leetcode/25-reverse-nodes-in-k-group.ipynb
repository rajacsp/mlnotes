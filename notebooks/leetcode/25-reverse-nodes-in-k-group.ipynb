{
 "cells": [
  {
   "cell_type": "markdown",
   "id": "c55b96ac",
   "metadata": {},
   "source": [
    "https://leetcode.com/problems/reverse-nodes-in-k-group"
   ]
  },
  {
   "cell_type": "code",
   "execution_count": null,
   "id": "ae98dd1e",
   "metadata": {},
   "outputs": [],
   "source": [
    "import pyutil as pyu\n",
    "pyu.get_local_pyinfo()"
   ]
  },
  {
   "cell_type": "code",
   "execution_count": null,
   "id": "a6488593",
   "metadata": {},
   "outputs": [],
   "source": [
    "print(pyu.ps2(\"python-dotenv\"))"
   ]
  },
  {
   "cell_type": "code",
   "execution_count": null,
   "id": "641a468a",
   "metadata": {},
   "outputs": [],
   "source": [
    "from typing import List"
   ]
  },
  {
   "cell_type": "code",
   "execution_count": null,
   "id": "ec8d3e8d",
   "metadata": {},
   "outputs": [],
   "source": [
    "class Solution:\n",
    "  def reverseKGroup(self, head: Optional[ListNode], k: int) -> Optional[ListNode]:\n",
    "    if not head:\n",
    "      return None\n",
    "\n",
    "    tail = head\n",
    "\n",
    "    for _ in range(k):\n",
    "      if not tail:  # Less than k nodes, do nothing\n",
    "        return head\n",
    "      tail = tail.next\n",
    "\n",
    "    newHead = self._reverse(head, tail)\n",
    "    head.next = self.reverseKGroup(tail, k)\n",
    "    return newHead\n",
    "\n",
    "  # Reverses [head, tail)\n",
    "  def _reverse(self, head: Optional[ListNode], tail: Optional[ListNode]) -> Optional[ListNode]:\n",
    "    prev = None\n",
    "    curr = head\n",
    "\n",
    "    while curr != tail:\n",
    "      next = curr.next\n",
    "      curr.next = prev\n",
    "      prev = curr\n",
    "      curr = next\n",
    "\n",
    "    return prev"
   ]
  },
  {
   "cell_type": "code",
   "execution_count": null,
   "id": "abba04d2",
   "metadata": {},
   "outputs": [],
   "source": [
    "new Solution().reverseKGroup()"
   ]
  }
 ],
 "metadata": {},
 "nbformat": 4,
 "nbformat_minor": 5
}

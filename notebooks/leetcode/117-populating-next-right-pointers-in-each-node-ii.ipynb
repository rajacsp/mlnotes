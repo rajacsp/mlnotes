{
 "cells": [
  {
   "cell_type": "markdown",
   "id": "3c768794",
   "metadata": {},
   "source": [
    "https://leetcode.com/problems/populating-next-right-pointers-in-each-node-ii"
   ]
  },
  {
   "cell_type": "code",
   "execution_count": null,
   "id": "632d55b4",
   "metadata": {},
   "outputs": [],
   "source": [
    "import pyutil as pyu\n",
    "pyu.get_local_pyinfo()"
   ]
  },
  {
   "cell_type": "code",
   "execution_count": null,
   "id": "75fb7345",
   "metadata": {},
   "outputs": [],
   "source": [
    "print(pyu.ps2(\"python-dotenv\"))"
   ]
  },
  {
   "cell_type": "code",
   "execution_count": null,
   "id": "1ae65348",
   "metadata": {},
   "outputs": [],
   "source": [
    "from typing import List"
   ]
  },
  {
   "cell_type": "code",
   "execution_count": null,
   "id": "141d3b48",
   "metadata": {},
   "outputs": [],
   "source": [
    "class Solution:\n",
    "  def connect(self, root: 'Node') -> 'Node':\n",
    "    node = root  # The node just above current needling\n",
    "\n",
    "    while node:\n",
    "      dummy = Node(0)  # Dummy node before needling\n",
    "      # Needle children of node\n",
    "      needle = dummy\n",
    "      while node:\n",
    "        if node.left:  # Needle left child\n",
    "          needle.next = node.left\n",
    "          needle = needle.next\n",
    "        if node.right:  # Needle right child\n",
    "          needle.next = node.right\n",
    "          needle = needle.next\n",
    "        node = node.next\n",
    "      node = dummy.next  # Move node to the next level\n",
    "\n",
    "    return root"
   ]
  },
  {
   "cell_type": "code",
   "execution_count": null,
   "id": "55fc572d",
   "metadata": {},
   "outputs": [],
   "source": [
    "new Solution().connect()"
   ]
  }
 ],
 "metadata": {},
 "nbformat": 4,
 "nbformat_minor": 5
}

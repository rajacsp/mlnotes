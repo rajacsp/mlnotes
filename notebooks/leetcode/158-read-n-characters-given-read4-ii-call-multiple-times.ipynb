{
 "cells": [
  {
   "cell_type": "markdown",
   "id": "5a7b22c2",
   "metadata": {},
   "source": [
    "https://leetcode.com/problems/read-n-characters-given-read4-ii-call-multiple-times"
   ]
  },
  {
   "cell_type": "code",
   "execution_count": null,
   "id": "a07fe744",
   "metadata": {},
   "outputs": [],
   "source": [
    "import pyutil as pyu\n",
    "pyu.get_local_pyinfo()"
   ]
  },
  {
   "cell_type": "code",
   "execution_count": null,
   "id": "9d6bc7d8",
   "metadata": {},
   "outputs": [],
   "source": [
    "print(pyu.ps2(\"python-dotenv\"))"
   ]
  },
  {
   "cell_type": "code",
   "execution_count": null,
   "id": "2a87a40c",
   "metadata": {},
   "outputs": [],
   "source": [
    "from typing import List"
   ]
  },
  {
   "cell_type": "code",
   "execution_count": null,
   "id": "4df9012c",
   "metadata": {},
   "outputs": [],
   "source": [
    "# The read4 API is already defined for you.\n",
    "# Def read4(buf4: List[str]) -> int:\n",
    "\n",
    "class Solution:\n",
    "  def read(self, buf: List[str], n: int) -> int:\n",
    "    i = 0  # buf's index\n",
    "\n",
    "    while i < n:\n",
    "      if self.i4 == self.n4:  # All characters in buf4 are consumed\n",
    "        self.i4 = 0  # Reset buf4's index\n",
    "        self.n4 = read4(self.buf4)  # Read 4 (or less) chars from file to buf4\n",
    "        if self.n4 == 0:  # Reach the EOF\n",
    "          return i\n",
    "      buf[i] = self.buf4[self.i4]\n",
    "      i += 1\n",
    "      self.i4 += 1\n",
    "\n",
    "    return i\n",
    "\n",
    "  buf4 = [' '] * 4\n",
    "  i4 = 0  # buf4's index\n",
    "  n4 = 0  # buf4's size"
   ]
  },
  {
   "cell_type": "code",
   "execution_count": null,
   "id": "bacdef9b",
   "metadata": {},
   "outputs": [],
   "source": [
    "new Solution().read()"
   ]
  }
 ],
 "metadata": {},
 "nbformat": 4,
 "nbformat_minor": 5
}

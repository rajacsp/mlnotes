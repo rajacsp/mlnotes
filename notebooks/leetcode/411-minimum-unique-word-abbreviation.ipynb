{
 "cells": [
  {
   "cell_type": "markdown",
   "id": "aa7b3f1e",
   "metadata": {},
   "source": [
    "https://leetcode.com/problems/minimum-unique-word-abbreviation"
   ]
  },
  {
   "cell_type": "code",
   "execution_count": null,
   "id": "64392504",
   "metadata": {},
   "outputs": [],
   "source": [
    "import pyutil as pyu\n",
    "pyu.get_local_pyinfo()"
   ]
  },
  {
   "cell_type": "code",
   "execution_count": null,
   "id": "a066a255",
   "metadata": {},
   "outputs": [],
   "source": [
    "print(pyu.ps2(\"python-dotenv\"))"
   ]
  },
  {
   "cell_type": "code",
   "execution_count": null,
   "id": "1601106a",
   "metadata": {},
   "outputs": [],
   "source": [
    "from typing import List"
   ]
  },
  {
   "cell_type": "code",
   "execution_count": null,
   "id": "16152bee",
   "metadata": {},
   "outputs": [],
   "source": [
    "class Solution:\n",
    "  def minAbbreviation(self, target: str, dictionary: List[str]) -> str:\n",
    "    m = len(target)\n",
    "\n",
    "    def getMask(word: str) -> int:\n",
    "      # mask[i] = 0 := target[i] == word[i]\n",
    "      # mask[i] = 1 := target[i] != word[i]\n",
    "      # E.g. target = \"apple\"\n",
    "      #        word = \"blade\"\n",
    "      #        mask =  11110\n",
    "      mask = 0\n",
    "      for i, c in enumerate(word):\n",
    "        if c != target[i]:\n",
    "          mask |= 1 << m - 1 - i\n",
    "      return mask\n",
    "\n",
    "    masks = [getMask(word) for word in dictionary if len(word) == m]\n",
    "    if not masks:\n",
    "      return str(m)\n",
    "\n",
    "    abbrs = []\n",
    "\n",
    "    def getAbbr(cand: int) -> str:\n",
    "      abbr = ''\n",
    "      replacedCount = 0\n",
    "      for i, c in enumerate(target):\n",
    "        if cand >> m - 1 - i & 1:\n",
    "          # cand[i] = 1, abbr should show the original character\n",
    "          if replacedCount:\n",
    "            abbr += str(replacedCount)\n",
    "          abbr += c\n",
    "          replacedCount = 0\n",
    "        else:\n",
    "          # cand[i] = 0, abbr can be replaced\n",
    "          replacedCount += 1\n",
    "      if replacedCount:\n",
    "        abbr += str(replacedCount)\n",
    "      return abbr\n",
    "\n",
    "    # For all candidate representation of target\n",
    "    for cand in range(2**m):\n",
    "      # All masks have at lease one bit different from candidate\n",
    "      if all(cand & mask for mask in masks):\n",
    "        abbr = getAbbr(cand)\n",
    "        abbrs.append(abbr)\n",
    "\n",
    "    def getAbbrLen(abbr: str) -> int:\n",
    "      abbrLen = 0\n",
    "      i = 0\n",
    "      j = 0\n",
    "      while i < len(abbr):\n",
    "        if abbr[j].isalpha():\n",
    "          j += 1\n",
    "        else:\n",
    "          while j < len(abbr) and abbr[j].isdigit():\n",
    "            j += 1\n",
    "        abbrLen += 1\n",
    "        i = j\n",
    "      return abbrLen\n",
    "\n",
    "    return min(abbrs, key=lambda x: getAbbrLen(x))"
   ]
  },
  {
   "cell_type": "code",
   "execution_count": null,
   "id": "80707f11",
   "metadata": {},
   "outputs": [],
   "source": [
    "new Solution().minAbbreviation()"
   ]
  }
 ],
 "metadata": {},
 "nbformat": 4,
 "nbformat_minor": 5
}

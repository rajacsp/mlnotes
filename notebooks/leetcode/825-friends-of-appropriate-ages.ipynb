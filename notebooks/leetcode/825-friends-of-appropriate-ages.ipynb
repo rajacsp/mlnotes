{
 "cells": [
  {
   "cell_type": "markdown",
   "id": "a68e08f7",
   "metadata": {},
   "source": [
    "https://leetcode.com/problems/friends-of-appropriate-ages"
   ]
  },
  {
   "cell_type": "code",
   "execution_count": null,
   "id": "890c7341",
   "metadata": {},
   "outputs": [],
   "source": [
    "import pyutil as pyu\n",
    "pyu.get_local_pyinfo()"
   ]
  },
  {
   "cell_type": "code",
   "execution_count": null,
   "id": "1c4d342b",
   "metadata": {},
   "outputs": [],
   "source": [
    "print(pyu.ps2(\"python-dotenv\"))"
   ]
  },
  {
   "cell_type": "code",
   "execution_count": null,
   "id": "4c8a3489",
   "metadata": {},
   "outputs": [],
   "source": [
    "from typing import List"
   ]
  },
  {
   "cell_type": "code",
   "execution_count": null,
   "id": "44261bc9",
   "metadata": {},
   "outputs": [],
   "source": [
    "class Solution:\n",
    "  def numFriendRequests(self, ages: List[int]) -> int:\n",
    "    ans = 0\n",
    "    count = [0] * 121\n",
    "\n",
    "    for age in ages:\n",
    "      count[age] += 1\n",
    "\n",
    "    for i in range(15, 121):\n",
    "      ans += count[i] * (count[i] - 1)\n",
    "\n",
    "    for i in range(15, 121):\n",
    "      for j in range(i // 2 + 8, i):\n",
    "        ans += count[i] * count[j]\n",
    "\n",
    "    return ans"
   ]
  },
  {
   "cell_type": "code",
   "execution_count": null,
   "id": "95a1b430",
   "metadata": {},
   "outputs": [],
   "source": [
    "new Solution().numFriendRequests()"
   ]
  }
 ],
 "metadata": {},
 "nbformat": 4,
 "nbformat_minor": 5
}

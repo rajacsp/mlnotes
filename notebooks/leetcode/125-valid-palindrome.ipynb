{
 "cells": [
  {
   "cell_type": "markdown",
   "id": "3a63c4c0",
   "metadata": {},
   "source": [
    "https://leetcode.com/problems/valid-palindrome"
   ]
  },
  {
   "cell_type": "code",
   "execution_count": null,
   "id": "ecdc41ce",
   "metadata": {},
   "outputs": [],
   "source": [
    "import pyutil as pyu\n",
    "pyu.get_local_pyinfo()"
   ]
  },
  {
   "cell_type": "code",
   "execution_count": null,
   "id": "bc38d623",
   "metadata": {},
   "outputs": [],
   "source": [
    "print(pyu.ps2(\"python-dotenv\"))"
   ]
  },
  {
   "cell_type": "code",
   "execution_count": null,
   "id": "6f856963",
   "metadata": {},
   "outputs": [],
   "source": [
    "from typing import List"
   ]
  },
  {
   "cell_type": "code",
   "execution_count": null,
   "id": "8b627b27",
   "metadata": {},
   "outputs": [],
   "source": [
    "class Solution:\n",
    "  def isPalindrome(self, s: str) -> bool:\n",
    "    l = 0\n",
    "    r = len(s) - 1\n",
    "\n",
    "    while l < r:\n",
    "      while l < r and not s[l].isalnum():\n",
    "        l += 1\n",
    "      while l < r and not s[r].isalnum():\n",
    "        r -= 1\n",
    "      if s[l].lower() != s[r].lower():\n",
    "        return False\n",
    "      l += 1\n",
    "      r -= 1\n",
    "\n",
    "    return True"
   ]
  },
  {
   "cell_type": "code",
   "execution_count": null,
   "id": "34339790",
   "metadata": {},
   "outputs": [],
   "source": [
    "new Solution().isPalindrome()"
   ]
  }
 ],
 "metadata": {},
 "nbformat": 4,
 "nbformat_minor": 5
}

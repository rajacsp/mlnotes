{
 "cells": [
  {
   "cell_type": "markdown",
   "id": "3ca0d8ca",
   "metadata": {},
   "source": [
    "https://leetcode.com/problems/find-pivot-index"
   ]
  },
  {
   "cell_type": "code",
   "execution_count": null,
   "id": "85805896",
   "metadata": {},
   "outputs": [],
   "source": [
    "import pyutil as pyu\n",
    "pyu.get_local_pyinfo()"
   ]
  },
  {
   "cell_type": "code",
   "execution_count": null,
   "id": "85525617",
   "metadata": {},
   "outputs": [],
   "source": [
    "print(pyu.ps2(\"python-dotenv\"))"
   ]
  },
  {
   "cell_type": "code",
   "execution_count": null,
   "id": "3bff9e27",
   "metadata": {},
   "outputs": [],
   "source": [
    "from typing import List"
   ]
  },
  {
   "cell_type": "code",
   "execution_count": null,
   "id": "ec22aa07",
   "metadata": {},
   "outputs": [],
   "source": [
    "class Solution:\n",
    "  def pivotIndex(self, nums: List[int]) -> int:\n",
    "    summ = sum(nums)\n",
    "    prefix = 0\n",
    "\n",
    "    for i, num in enumerate(nums):\n",
    "      if prefix == summ - prefix - num:\n",
    "        return i\n",
    "      prefix += num\n",
    "\n",
    "    return -1"
   ]
  },
  {
   "cell_type": "code",
   "execution_count": null,
   "id": "3cb330ee",
   "metadata": {},
   "outputs": [],
   "source": [
    "new Solution().pivotIndex()"
   ]
  }
 ],
 "metadata": {},
 "nbformat": 4,
 "nbformat_minor": 5
}

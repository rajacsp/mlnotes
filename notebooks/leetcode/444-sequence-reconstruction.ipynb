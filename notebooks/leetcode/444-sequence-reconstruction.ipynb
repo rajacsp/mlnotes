{
 "cells": [
  {
   "cell_type": "markdown",
   "id": "ce1539ea",
   "metadata": {},
   "source": [
    "https://leetcode.com/problems/sequence-reconstruction"
   ]
  },
  {
   "cell_type": "code",
   "execution_count": null,
   "id": "45f66931",
   "metadata": {},
   "outputs": [],
   "source": [
    "import pyutil as pyu\n",
    "pyu.get_local_pyinfo()"
   ]
  },
  {
   "cell_type": "code",
   "execution_count": null,
   "id": "12d90bec",
   "metadata": {},
   "outputs": [],
   "source": [
    "print(pyu.ps2(\"python-dotenv\"))"
   ]
  },
  {
   "cell_type": "code",
   "execution_count": null,
   "id": "d08db5ba",
   "metadata": {},
   "outputs": [],
   "source": [
    "from typing import List"
   ]
  },
  {
   "cell_type": "code",
   "execution_count": null,
   "id": "a622ba62",
   "metadata": {},
   "outputs": [],
   "source": [
    "class Solution:\n",
    "  def sequenceReconstruction(self, org: List[int], seqs: List[List[int]]) -> bool:\n",
    "    if not seqs:\n",
    "      return False\n",
    "\n",
    "    n = len(org)\n",
    "    graph = [[] for _ in range(n)]\n",
    "    inDegree = [0] * n\n",
    "\n",
    "    # Build graph\n",
    "    for seq in seqs:\n",
    "      if len(seq) == 1 and seq[0] < 1 or seq[0] > n:\n",
    "        return False\n",
    "      else:\n",
    "        for u, v in zip(seq, seq[1:]):\n",
    "          if u < 1 or u > n or v < 1 or v > n:\n",
    "            return False\n",
    "          graph[u - 1].append(v - 1)\n",
    "          inDegree[v - 1] += 1\n",
    "\n",
    "    # Topology\n",
    "    q = deque([i for i, d in enumerate(inDegree) if d == 0])\n",
    "    i = 0  # org's index\n",
    "\n",
    "    while q:\n",
    "      if len(q) > 1:\n",
    "        return False\n",
    "      u = q.popleft()\n",
    "      if u != org[i] - 1:\n",
    "        return False\n",
    "      i += 1\n",
    "      for v in graph[u]:\n",
    "        inDegree[v] -= 1\n",
    "        if inDegree[v] == 0:\n",
    "          q.append(v)\n",
    "\n",
    "    return i == n"
   ]
  },
  {
   "cell_type": "code",
   "execution_count": null,
   "id": "d57b4b10",
   "metadata": {},
   "outputs": [],
   "source": [
    "new Solution().sequenceReconstruction()"
   ]
  }
 ],
 "metadata": {},
 "nbformat": 4,
 "nbformat_minor": 5
}

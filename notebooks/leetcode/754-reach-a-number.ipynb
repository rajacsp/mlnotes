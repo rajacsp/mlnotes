{
 "cells": [
  {
   "cell_type": "markdown",
   "id": "cdef9eae",
   "metadata": {},
   "source": [
    "https://leetcode.com/problems/reach-a-number"
   ]
  },
  {
   "cell_type": "code",
   "execution_count": null,
   "id": "561b7043",
   "metadata": {},
   "outputs": [],
   "source": [
    "import pyutil as pyu\n",
    "pyu.get_local_pyinfo()"
   ]
  },
  {
   "cell_type": "code",
   "execution_count": null,
   "id": "cad8c3c7",
   "metadata": {},
   "outputs": [],
   "source": [
    "print(pyu.ps2(\"python-dotenv\"))"
   ]
  },
  {
   "cell_type": "code",
   "execution_count": null,
   "id": "2ab0c1a8",
   "metadata": {},
   "outputs": [],
   "source": [
    "from typing import List"
   ]
  },
  {
   "cell_type": "code",
   "execution_count": null,
   "id": "e6885c91",
   "metadata": {},
   "outputs": [],
   "source": [
    "class Solution:\n",
    "  def reachNumber(self, target: int) -> int:\n",
    "    ans = 0\n",
    "    pos = 0\n",
    "    target = abs(target)\n",
    "\n",
    "    while pos < target:\n",
    "      ans += 1\n",
    "      pos += ans\n",
    "\n",
    "    while (pos - target) & 1:\n",
    "      ans += 1\n",
    "      pos += ans\n",
    "\n",
    "    return ans"
   ]
  },
  {
   "cell_type": "code",
   "execution_count": null,
   "id": "1f0571de",
   "metadata": {},
   "outputs": [],
   "source": [
    "new Solution().reachNumber()"
   ]
  }
 ],
 "metadata": {},
 "nbformat": 4,
 "nbformat_minor": 5
}

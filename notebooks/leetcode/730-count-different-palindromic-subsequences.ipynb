{
 "cells": [
  {
   "cell_type": "markdown",
   "id": "69926ef9",
   "metadata": {},
   "source": [
    "https://leetcode.com/problems/count-different-palindromic-subsequences"
   ]
  },
  {
   "cell_type": "code",
   "execution_count": null,
   "id": "5f0718ef",
   "metadata": {},
   "outputs": [],
   "source": [
    "import pyutil as pyu\n",
    "pyu.get_local_pyinfo()"
   ]
  },
  {
   "cell_type": "code",
   "execution_count": null,
   "id": "3307ac60",
   "metadata": {},
   "outputs": [],
   "source": [
    "print(pyu.ps2(\"python-dotenv\"))"
   ]
  },
  {
   "cell_type": "code",
   "execution_count": null,
   "id": "9d05945e",
   "metadata": {},
   "outputs": [],
   "source": [
    "from typing import List"
   ]
  },
  {
   "cell_type": "code",
   "execution_count": null,
   "id": "71dfbea1",
   "metadata": {},
   "outputs": [],
   "source": [
    "class Solution:\n",
    "  def countPalindromicSubsequences(self, s: str) -> int:\n",
    "    def count(l: int, r: int) -> int:\n",
    "      if l > r:\n",
    "        return 0\n",
    "      if l == r:\n",
    "        return 1\n",
    "      key = l * len(s) + r\n",
    "      if key in memo:\n",
    "        return memo[key]\n",
    "\n",
    "      if s[l] == s[r]:\n",
    "        lo = l + 1\n",
    "        hi = r - 1\n",
    "        while lo <= hi and s[lo] != s[l]:\n",
    "          lo += 1\n",
    "        while lo <= hi and s[hi] != s[l]:\n",
    "          hi -= 1\n",
    "        if lo > hi:\n",
    "          ans = count(l + 1, r - 1) * 2 + 2\n",
    "        elif lo == hi:\n",
    "          ans = count(l + 1, r - 1) * 2 + 1\n",
    "        else:\n",
    "          ans = count(l + 1, r - 1) * 2 - count(lo + 1, hi - 1)\n",
    "      else:\n",
    "        ans = count(l, r - 1) + count(l + 1, r) - count(l + 1, r - 1)\n",
    "\n",
    "      memo[key] = (ans + kMod) % kMod\n",
    "      return memo[key]\n",
    "\n",
    "    kMod = 1_000_000_007\n",
    "    memo = {}\n",
    "\n",
    "    return count(0, len(s) - 1)"
   ]
  },
  {
   "cell_type": "code",
   "execution_count": null,
   "id": "6d074b41",
   "metadata": {},
   "outputs": [],
   "source": [
    "new Solution().countPalindromicSubsequences()"
   ]
  }
 ],
 "metadata": {},
 "nbformat": 4,
 "nbformat_minor": 5
}

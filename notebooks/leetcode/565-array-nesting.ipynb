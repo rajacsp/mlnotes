{
 "cells": [
  {
   "cell_type": "markdown",
   "id": "3d270e67",
   "metadata": {},
   "source": [
    "https://leetcode.com/problems/array-nesting"
   ]
  },
  {
   "cell_type": "code",
   "execution_count": null,
   "id": "ab13a509",
   "metadata": {},
   "outputs": [],
   "source": [
    "import pyutil as pyu\n",
    "pyu.get_local_pyinfo()"
   ]
  },
  {
   "cell_type": "code",
   "execution_count": null,
   "id": "c06c84e7",
   "metadata": {},
   "outputs": [],
   "source": [
    "print(pyu.ps2(\"python-dotenv\"))"
   ]
  },
  {
   "cell_type": "code",
   "execution_count": null,
   "id": "837285a6",
   "metadata": {},
   "outputs": [],
   "source": [
    "from typing import List"
   ]
  },
  {
   "cell_type": "code",
   "execution_count": null,
   "id": "7015fdae",
   "metadata": {},
   "outputs": [],
   "source": [
    "class Solution:\n",
    "  def arrayNesting(self, nums: List[int]) -> int:\n",
    "    ans = 0\n",
    "\n",
    "    for num in nums:\n",
    "      if num == -1:\n",
    "        continue\n",
    "      index = num\n",
    "      count = 0\n",
    "      while nums[index] != -1:\n",
    "        temp = index\n",
    "        index = nums[index]\n",
    "        nums[temp] = -1\n",
    "        count += 1\n",
    "      ans = max(ans, count)\n",
    "\n",
    "    return ans"
   ]
  },
  {
   "cell_type": "code",
   "execution_count": null,
   "id": "11a5d1ad",
   "metadata": {},
   "outputs": [],
   "source": [
    "new Solution().arrayNesting()"
   ]
  }
 ],
 "metadata": {},
 "nbformat": 4,
 "nbformat_minor": 5
}

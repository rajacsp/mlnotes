{
 "cells": [
  {
   "cell_type": "markdown",
   "id": "8e1531de",
   "metadata": {},
   "source": [
    "https://leetcode.com/problems/longest-substring-with-at-most-two-distinct-characters"
   ]
  },
  {
   "cell_type": "code",
   "execution_count": null,
   "id": "1f3affa2",
   "metadata": {},
   "outputs": [],
   "source": [
    "import pyutil as pyu\n",
    "pyu.get_local_pyinfo()"
   ]
  },
  {
   "cell_type": "code",
   "execution_count": null,
   "id": "ee265c23",
   "metadata": {},
   "outputs": [],
   "source": [
    "print(pyu.ps2(\"python-dotenv\"))"
   ]
  },
  {
   "cell_type": "code",
   "execution_count": null,
   "id": "45a714bb",
   "metadata": {},
   "outputs": [],
   "source": [
    "from typing import List"
   ]
  },
  {
   "cell_type": "code",
   "execution_count": null,
   "id": "f636073d",
   "metadata": {},
   "outputs": [],
   "source": [
    "class Solution:\n",
    "  def lengthOfLongestSubstringTwoDistinct(self, s: str) -> int:\n",
    "    ans = 0\n",
    "    distinct = 0\n",
    "    count = [0] * 128\n",
    "\n",
    "    l = 0\n",
    "    for r, c in enumerate(s):\n",
    "      count[ord(c)] += 1\n",
    "      if count[ord(c)] == 1:\n",
    "        distinct += 1\n",
    "      while distinct == 3:\n",
    "        count[ord(s[l])] -= 1\n",
    "        if count[ord(s[l])] == 0:\n",
    "          distinct -= 1\n",
    "        l += 1\n",
    "      ans = max(ans, r - l + 1)\n",
    "\n",
    "    return ans"
   ]
  },
  {
   "cell_type": "code",
   "execution_count": null,
   "id": "5d0b9ad4",
   "metadata": {},
   "outputs": [],
   "source": [
    "new Solution().lengthOfLongestSubstringTwoDistinct()"
   ]
  }
 ],
 "metadata": {},
 "nbformat": 4,
 "nbformat_minor": 5
}

{
 "cells": [
  {
   "cell_type": "markdown",
   "id": "16f84489",
   "metadata": {},
   "source": [
    "https://leetcode.com/problems/interval-list-intersections"
   ]
  },
  {
   "cell_type": "code",
   "execution_count": null,
   "id": "bbcbd4e3",
   "metadata": {},
   "outputs": [],
   "source": [
    "import pyutil as pyu\n",
    "pyu.get_local_pyinfo()"
   ]
  },
  {
   "cell_type": "code",
   "execution_count": null,
   "id": "f277e6c1",
   "metadata": {},
   "outputs": [],
   "source": [
    "print(pyu.ps2(\"python-dotenv\"))"
   ]
  },
  {
   "cell_type": "code",
   "execution_count": null,
   "id": "e0e435a9",
   "metadata": {},
   "outputs": [],
   "source": [
    "from typing import List"
   ]
  },
  {
   "cell_type": "code",
   "execution_count": null,
   "id": "92a11e34",
   "metadata": {},
   "outputs": [],
   "source": [
    "class Solution:\n",
    "  def intervalIntersection(self, firstList: List[List[int]], secondList: List[List[int]]) -> List[List[int]]:\n",
    "    ans = []\n",
    "    i = 0\n",
    "    j = 0\n",
    "\n",
    "    while i < len(firstList) and j < len(secondList):\n",
    "      # Lo := the start of the intersection\n",
    "      # Hi := the end of the intersection\n",
    "      lo = max(firstList[i][0], secondList[j][0])\n",
    "      hi = min(firstList[i][1], secondList[j][1])\n",
    "      if lo <= hi:\n",
    "        ans.append([lo, hi])\n",
    "      if firstList[i][1] < secondList[j][1]:\n",
    "        i += 1\n",
    "      else:\n",
    "        j += 1\n",
    "\n",
    "    return ans"
   ]
  },
  {
   "cell_type": "code",
   "execution_count": null,
   "id": "4a1dd454",
   "metadata": {},
   "outputs": [],
   "source": [
    "new Solution().intervalIntersection()"
   ]
  }
 ],
 "metadata": {},
 "nbformat": 4,
 "nbformat_minor": 5
}

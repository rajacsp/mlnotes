{
 "cells": [
  {
   "cell_type": "markdown",
   "id": "f74fa15c",
   "metadata": {},
   "source": [
    "https://leetcode.com/problems/majority-element-ii"
   ]
  },
  {
   "cell_type": "code",
   "execution_count": null,
   "id": "c6cfc028",
   "metadata": {},
   "outputs": [],
   "source": [
    "import pyutil as pyu\n",
    "pyu.get_local_pyinfo()"
   ]
  },
  {
   "cell_type": "code",
   "execution_count": null,
   "id": "458c6272",
   "metadata": {},
   "outputs": [],
   "source": [
    "print(pyu.ps2(\"python-dotenv\"))"
   ]
  },
  {
   "cell_type": "code",
   "execution_count": null,
   "id": "07990b6f",
   "metadata": {},
   "outputs": [],
   "source": [
    "from typing import List"
   ]
  },
  {
   "cell_type": "code",
   "execution_count": null,
   "id": "e4543d7a",
   "metadata": {},
   "outputs": [],
   "source": [
    "class Solution:\n",
    "  def majorityElement(self, nums: List[int]) -> List[int]:\n",
    "    ans1 = 0\n",
    "    ans2 = 1\n",
    "    count1 = 0\n",
    "    count2 = 0\n",
    "\n",
    "    for num in nums:\n",
    "      if num == ans1:\n",
    "        count1 += 1\n",
    "      elif num == ans2:\n",
    "        count2 += 1\n",
    "      elif count1 == 0:\n",
    "        ans1 = num\n",
    "        count1 = 1\n",
    "      elif count2 == 0:\n",
    "        ans2 = num\n",
    "        count2 = 1\n",
    "      else:\n",
    "        count1 -= 1\n",
    "        count2 -= 1\n",
    "\n",
    "    return [ans for ans in (ans1, ans2) if nums.count(ans) > len(nums) // 3]"
   ]
  },
  {
   "cell_type": "code",
   "execution_count": null,
   "id": "b353b47a",
   "metadata": {},
   "outputs": [],
   "source": [
    "new Solution().majorityElement()"
   ]
  }
 ],
 "metadata": {},
 "nbformat": 4,
 "nbformat_minor": 5
}

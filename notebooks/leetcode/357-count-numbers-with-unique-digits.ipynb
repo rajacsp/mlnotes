{
 "cells": [
  {
   "cell_type": "markdown",
   "id": "d74d79f2",
   "metadata": {},
   "source": [
    "https://leetcode.com/problems/count-numbers-with-unique-digits"
   ]
  },
  {
   "cell_type": "code",
   "execution_count": null,
   "id": "79c783fa",
   "metadata": {},
   "outputs": [],
   "source": [
    "import pyutil as pyu\n",
    "pyu.get_local_pyinfo()"
   ]
  },
  {
   "cell_type": "code",
   "execution_count": null,
   "id": "7363f3bb",
   "metadata": {},
   "outputs": [],
   "source": [
    "print(pyu.ps2(\"python-dotenv\"))"
   ]
  },
  {
   "cell_type": "code",
   "execution_count": null,
   "id": "4d7d0fc5",
   "metadata": {},
   "outputs": [],
   "source": [
    "from typing import List"
   ]
  },
  {
   "cell_type": "code",
   "execution_count": null,
   "id": "a3a3ec41",
   "metadata": {},
   "outputs": [],
   "source": [
    "class Solution:\n",
    "  def countNumbersWithUniqueDigits(self, n: int) -> int:\n",
    "    if n == 0:\n",
    "      return 1\n",
    "\n",
    "    ans = 10\n",
    "    uniqueDigits = 9\n",
    "    availableNum = 9\n",
    "\n",
    "    while n > 1 and availableNum > 0:\n",
    "      uniqueDigits *= availableNum\n",
    "      ans += uniqueDigits\n",
    "      n -= 1\n",
    "      availableNum -= 1\n",
    "\n",
    "    return ans"
   ]
  },
  {
   "cell_type": "code",
   "execution_count": null,
   "id": "dd04c67d",
   "metadata": {},
   "outputs": [],
   "source": [
    "new Solution().countNumbersWithUniqueDigits()"
   ]
  }
 ],
 "metadata": {},
 "nbformat": 4,
 "nbformat_minor": 5
}

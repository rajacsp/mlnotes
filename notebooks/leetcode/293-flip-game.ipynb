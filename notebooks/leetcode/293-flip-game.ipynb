{
 "cells": [
  {
   "cell_type": "markdown",
   "id": "5eae67e1",
   "metadata": {},
   "source": [
    "https://leetcode.com/problems/flip-game"
   ]
  },
  {
   "cell_type": "code",
   "execution_count": null,
   "id": "ff27f94f",
   "metadata": {},
   "outputs": [],
   "source": [
    "import pyutil as pyu\n",
    "pyu.get_local_pyinfo()"
   ]
  },
  {
   "cell_type": "code",
   "execution_count": null,
   "id": "f1ed76c5",
   "metadata": {},
   "outputs": [],
   "source": [
    "print(pyu.ps2(\"python-dotenv\"))"
   ]
  },
  {
   "cell_type": "code",
   "execution_count": null,
   "id": "1d7943c0",
   "metadata": {},
   "outputs": [],
   "source": [
    "from typing import List"
   ]
  },
  {
   "cell_type": "code",
   "execution_count": null,
   "id": "185ca610",
   "metadata": {},
   "outputs": [],
   "source": [
    "class Solution:\n",
    "  def generatePossibleNextMoves(self, currentState: str) -> List[str]:\n",
    "    return [currentState[:i] + '--' + currentState[i + 2:]\n",
    "            for i, (a, b) in enumerate(zip(currentState, currentState[1:]))\n",
    "            if a == '+' and b == '+']"
   ]
  },
  {
   "cell_type": "code",
   "execution_count": null,
   "id": "270618cf",
   "metadata": {},
   "outputs": [],
   "source": [
    "new Solution().generatePossibleNextMoves()"
   ]
  }
 ],
 "metadata": {},
 "nbformat": 4,
 "nbformat_minor": 5
}

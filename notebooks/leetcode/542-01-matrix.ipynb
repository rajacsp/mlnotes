{
 "cells": [
  {
   "cell_type": "markdown",
   "id": "108f99af",
   "metadata": {},
   "source": [
    "https://leetcode.com/problems/01-matrix"
   ]
  },
  {
   "cell_type": "code",
   "execution_count": null,
   "id": "98faf621",
   "metadata": {},
   "outputs": [],
   "source": [
    "import pyutil as pyu\n",
    "pyu.get_local_pyinfo()"
   ]
  },
  {
   "cell_type": "code",
   "execution_count": null,
   "id": "45fbb8b7",
   "metadata": {},
   "outputs": [],
   "source": [
    "print(pyu.ps2(\"python-dotenv\"))"
   ]
  },
  {
   "cell_type": "code",
   "execution_count": null,
   "id": "7ecce31f",
   "metadata": {},
   "outputs": [],
   "source": [
    "from typing import List"
   ]
  },
  {
   "cell_type": "code",
   "execution_count": null,
   "id": "be539712",
   "metadata": {},
   "outputs": [],
   "source": [
    "class Solution:\n",
    "  def updateMatrix(self, mat: List[List[int]]) -> List[List[int]]:\n",
    "    m = len(mat)\n",
    "    n = len(mat[0])\n",
    "    dirs = [0, 1, 0, -1, 0]\n",
    "    q = deque()\n",
    "    seen = [[False] * n for _ in range(m)]\n",
    "\n",
    "    for i in range(m):\n",
    "      for j in range(n):\n",
    "        if mat[i][j] == 0:\n",
    "          q.append((i, j))\n",
    "          seen[i][j] = True\n",
    "\n",
    "    while q:\n",
    "      i, j = q.popleft()\n",
    "      for k in range(4):\n",
    "        x = i + dirs[k]\n",
    "        y = j + dirs[k + 1]\n",
    "        if x < 0 or x == m or y < 0 or y == n:\n",
    "          continue\n",
    "        if seen[x][y]:\n",
    "          continue\n",
    "        mat[x][y] = mat[i][j] + 1\n",
    "        q.append((x, y))\n",
    "        seen[x][y] = True\n",
    "\n",
    "    return mat"
   ]
  },
  {
   "cell_type": "code",
   "execution_count": null,
   "id": "5c494a2c",
   "metadata": {},
   "outputs": [],
   "source": [
    "new Solution().updateMatrix()"
   ]
  }
 ],
 "metadata": {},
 "nbformat": 4,
 "nbformat_minor": 5
}

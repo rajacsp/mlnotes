{
 "cells": [
  {
   "cell_type": "markdown",
   "id": "c98007d8",
   "metadata": {},
   "source": [
    "https://leetcode.com/problems/poor-pigs"
   ]
  },
  {
   "cell_type": "code",
   "execution_count": null,
   "id": "42cb8e01",
   "metadata": {},
   "outputs": [],
   "source": [
    "import pyutil as pyu\n",
    "pyu.get_local_pyinfo()"
   ]
  },
  {
   "cell_type": "code",
   "execution_count": null,
   "id": "af463063",
   "metadata": {},
   "outputs": [],
   "source": [
    "print(pyu.ps2(\"python-dotenv\"))"
   ]
  },
  {
   "cell_type": "code",
   "execution_count": null,
   "id": "25bdd5e9",
   "metadata": {},
   "outputs": [],
   "source": [
    "from typing import List"
   ]
  },
  {
   "cell_type": "code",
   "execution_count": null,
   "id": "979ebf00",
   "metadata": {},
   "outputs": [],
   "source": [
    "class Solution:\n",
    "  def poorPigs(self, buckets: int, minutesToDie: int, minutesToTest: int) -> int:\n",
    "    return ceil(log(buckets) / log(minutesToTest // minutesToDie + 1))"
   ]
  },
  {
   "cell_type": "code",
   "execution_count": null,
   "id": "945bc40f",
   "metadata": {},
   "outputs": [],
   "source": [
    "new Solution().poorPigs()"
   ]
  }
 ],
 "metadata": {},
 "nbformat": 4,
 "nbformat_minor": 5
}

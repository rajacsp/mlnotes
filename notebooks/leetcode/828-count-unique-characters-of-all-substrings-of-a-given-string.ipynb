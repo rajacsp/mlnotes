{
 "cells": [
  {
   "cell_type": "markdown",
   "id": "c217def5",
   "metadata": {},
   "source": [
    "https://leetcode.com/problems/count-unique-characters-of-all-substrings-of-a-given-string"
   ]
  },
  {
   "cell_type": "code",
   "execution_count": null,
   "id": "b438aece",
   "metadata": {},
   "outputs": [],
   "source": [
    "import pyutil as pyu\n",
    "pyu.get_local_pyinfo()"
   ]
  },
  {
   "cell_type": "code",
   "execution_count": null,
   "id": "438e1359",
   "metadata": {},
   "outputs": [],
   "source": [
    "print(pyu.ps2(\"python-dotenv\"))"
   ]
  },
  {
   "cell_type": "code",
   "execution_count": null,
   "id": "724863b2",
   "metadata": {},
   "outputs": [],
   "source": [
    "from typing import List"
   ]
  },
  {
   "cell_type": "code",
   "execution_count": null,
   "id": "405bc3e4",
   "metadata": {},
   "outputs": [],
   "source": [
    "class Solution:\n",
    "  def uniqueLetterString(self, s: str) -> int:\n",
    "    ans = 0\n",
    "    count = 0\n",
    "    lastCount = [0] * 26\n",
    "    lastSeen = [-1] * 26\n",
    "\n",
    "    for i, c in enumerate(s):\n",
    "      c = ord(c) - ord('A')\n",
    "      currentCount = i - lastSeen[c]\n",
    "      count = count - lastCount[c] + currentCount\n",
    "      lastCount[c] = currentCount\n",
    "      lastSeen[c] = i\n",
    "      ans += count\n",
    "\n",
    "    return ans"
   ]
  },
  {
   "cell_type": "code",
   "execution_count": null,
   "id": "3a7f9d14",
   "metadata": {},
   "outputs": [],
   "source": [
    "new Solution().uniqueLetterString()"
   ]
  }
 ],
 "metadata": {},
 "nbformat": 4,
 "nbformat_minor": 5
}

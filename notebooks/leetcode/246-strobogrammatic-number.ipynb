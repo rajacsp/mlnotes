{
 "cells": [
  {
   "cell_type": "markdown",
   "id": "cd584ae2",
   "metadata": {},
   "source": [
    "https://leetcode.com/problems/strobogrammatic-number"
   ]
  },
  {
   "cell_type": "code",
   "execution_count": null,
   "id": "05946298",
   "metadata": {},
   "outputs": [],
   "source": [
    "import pyutil as pyu\n",
    "pyu.get_local_pyinfo()"
   ]
  },
  {
   "cell_type": "code",
   "execution_count": null,
   "id": "dbdf5dc5",
   "metadata": {},
   "outputs": [],
   "source": [
    "print(pyu.ps2(\"python-dotenv\"))"
   ]
  },
  {
   "cell_type": "code",
   "execution_count": null,
   "id": "4a7c1f1c",
   "metadata": {},
   "outputs": [],
   "source": [
    "from typing import List"
   ]
  },
  {
   "cell_type": "code",
   "execution_count": null,
   "id": "7a08e84c",
   "metadata": {},
   "outputs": [],
   "source": [
    "class Solution:\n",
    "  def isStrobogrammatic(self, num: str) -> bool:\n",
    "    rotated = ['0', '1', 'x', 'x', 'x',\n",
    "               'x', '9', 'x', '8', '6']\n",
    "    l = 0\n",
    "    r = len(num) - 1\n",
    "\n",
    "    while l <= r:\n",
    "      if num[l] != rotated[ord(num[r]) - ord('0')]:\n",
    "        return False\n",
    "      l += 1\n",
    "      r -= 1\n",
    "\n",
    "    return True"
   ]
  },
  {
   "cell_type": "code",
   "execution_count": null,
   "id": "d635d27c",
   "metadata": {},
   "outputs": [],
   "source": [
    "new Solution().isStrobogrammatic()"
   ]
  }
 ],
 "metadata": {},
 "nbformat": 4,
 "nbformat_minor": 5
}

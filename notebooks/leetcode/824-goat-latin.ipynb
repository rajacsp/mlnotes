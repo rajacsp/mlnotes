{
 "cells": [
  {
   "cell_type": "markdown",
   "id": "98d93c5d",
   "metadata": {},
   "source": [
    "https://leetcode.com/problems/goat-latin"
   ]
  },
  {
   "cell_type": "code",
   "execution_count": null,
   "id": "f34f2ab3",
   "metadata": {},
   "outputs": [],
   "source": [
    "import pyutil as pyu\n",
    "pyu.get_local_pyinfo()"
   ]
  },
  {
   "cell_type": "code",
   "execution_count": null,
   "id": "0f3de216",
   "metadata": {},
   "outputs": [],
   "source": [
    "print(pyu.ps2(\"python-dotenv\"))"
   ]
  },
  {
   "cell_type": "code",
   "execution_count": null,
   "id": "94617346",
   "metadata": {},
   "outputs": [],
   "source": [
    "from typing import List"
   ]
  },
  {
   "cell_type": "code",
   "execution_count": null,
   "id": "71329bb2",
   "metadata": {},
   "outputs": [],
   "source": [
    "class Solution:\n",
    "  def toGoatLatin(self, S: str) -> str:\n",
    "    ans = ''\n",
    "    vowels = 'aeiouAEIOU'\n",
    "    words = S.split()\n",
    "    i = 1\n",
    "\n",
    "    for word in words:\n",
    "      if i > 1:\n",
    "        ans += ' '\n",
    "      if word[0] in vowels:\n",
    "        ans += word\n",
    "      else:\n",
    "        ans += word[1:] + word[0]\n",
    "      ans += 'ma' + 'a' * i\n",
    "      i += 1\n",
    "\n",
    "    return ans"
   ]
  },
  {
   "cell_type": "code",
   "execution_count": null,
   "id": "e6c96143",
   "metadata": {},
   "outputs": [],
   "source": [
    "new Solution().toGoatLatin()"
   ]
  }
 ],
 "metadata": {},
 "nbformat": 4,
 "nbformat_minor": 5
}

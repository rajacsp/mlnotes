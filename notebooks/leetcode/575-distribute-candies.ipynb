{
 "cells": [
  {
   "cell_type": "markdown",
   "id": "fe21f1ea",
   "metadata": {},
   "source": [
    "https://leetcode.com/problems/distribute-candies"
   ]
  },
  {
   "cell_type": "code",
   "execution_count": null,
   "id": "91519ba7",
   "metadata": {},
   "outputs": [],
   "source": [
    "import pyutil as pyu\n",
    "pyu.get_local_pyinfo()"
   ]
  },
  {
   "cell_type": "code",
   "execution_count": null,
   "id": "1e0e7905",
   "metadata": {},
   "outputs": [],
   "source": [
    "print(pyu.ps2(\"python-dotenv\"))"
   ]
  },
  {
   "cell_type": "code",
   "execution_count": null,
   "id": "f258563b",
   "metadata": {},
   "outputs": [],
   "source": [
    "from typing import List"
   ]
  },
  {
   "cell_type": "code",
   "execution_count": null,
   "id": "fd64e227",
   "metadata": {},
   "outputs": [],
   "source": [
    "class Solution:\n",
    "  def distributeCandies(self, candies: List[int]) -> int:\n",
    "    return min(len(candies) // 2, len(set(candies)))"
   ]
  },
  {
   "cell_type": "code",
   "execution_count": null,
   "id": "e5387ebd",
   "metadata": {},
   "outputs": [],
   "source": [
    "new Solution().distributeCandies()"
   ]
  }
 ],
 "metadata": {},
 "nbformat": 4,
 "nbformat_minor": 5
}

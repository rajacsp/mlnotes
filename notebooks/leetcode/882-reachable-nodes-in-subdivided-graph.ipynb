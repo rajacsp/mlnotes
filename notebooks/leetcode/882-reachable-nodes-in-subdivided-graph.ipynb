{
 "cells": [
  {
   "cell_type": "markdown",
   "id": "426102a7",
   "metadata": {},
   "source": [
    "https://leetcode.com/problems/reachable-nodes-in-subdivided-graph"
   ]
  },
  {
   "cell_type": "code",
   "execution_count": null,
   "id": "2fef69a5",
   "metadata": {},
   "outputs": [],
   "source": [
    "import pyutil as pyu\n",
    "pyu.get_local_pyinfo()"
   ]
  },
  {
   "cell_type": "code",
   "execution_count": null,
   "id": "13d1c2a6",
   "metadata": {},
   "outputs": [],
   "source": [
    "print(pyu.ps2(\"python-dotenv\"))"
   ]
  },
  {
   "cell_type": "code",
   "execution_count": null,
   "id": "e0e36c02",
   "metadata": {},
   "outputs": [],
   "source": [
    "from typing import List"
   ]
  },
  {
   "cell_type": "code",
   "execution_count": null,
   "id": "19e1ae99",
   "metadata": {},
   "outputs": [],
   "source": [
    "class Solution:\n",
    "  def reachableNodes(self, edges: List[List[int]], maxMoves: int, n: int) -> int:\n",
    "    graph = [[] for _ in range(n)]\n",
    "    minHeap = [(0, 0)]  # (d, u)\n",
    "    dist = [maxMoves + 1] * n\n",
    "    dist[0] = 0\n",
    "\n",
    "    for u, v, cnt in edges:\n",
    "      graph[u].append((v, cnt))\n",
    "      graph[v].append((u, cnt))\n",
    "\n",
    "    while minHeap:\n",
    "      d, u = heapq.heappop(minHeap)\n",
    "      # Already takes maxMoves to reach u, can't explore anymore\n",
    "      if dist[u] >= maxMoves:\n",
    "        break\n",
    "      for v, w in graph[u]:\n",
    "        newDist = d + w + 1\n",
    "        if newDist < dist[v]:\n",
    "          dist[v] = newDist\n",
    "          heapq.heappush(minHeap, (newDist, v))\n",
    "\n",
    "    reachableNodes = sum(d <= maxMoves for d in dist)\n",
    "    reachableSubnodes = 0\n",
    "\n",
    "    for u, v, cnt in edges:\n",
    "      # Reachable nodes of e from u\n",
    "      a = 0 if dist[u] > maxMoves else min(maxMoves - dist[u], cnt)\n",
    "      # Reachable nodes of e from v\n",
    "      b = 0 if dist[v] > maxMoves else min(maxMoves - dist[v], cnt)\n",
    "      reachableSubnodes += min(a + b, cnt)\n",
    "\n",
    "    return reachableNodes + reachableSubnodes"
   ]
  },
  {
   "cell_type": "code",
   "execution_count": null,
   "id": "25308758",
   "metadata": {},
   "outputs": [],
   "source": [
    "new Solution().reachableNodes()"
   ]
  }
 ],
 "metadata": {},
 "nbformat": 4,
 "nbformat_minor": 5
}

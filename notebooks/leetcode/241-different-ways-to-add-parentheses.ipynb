{
 "cells": [
  {
   "cell_type": "markdown",
   "id": "af02aaae",
   "metadata": {},
   "source": [
    "https://leetcode.com/problems/different-ways-to-add-parentheses"
   ]
  },
  {
   "cell_type": "code",
   "execution_count": null,
   "id": "384e10ad",
   "metadata": {},
   "outputs": [],
   "source": [
    "import pyutil as pyu\n",
    "pyu.get_local_pyinfo()"
   ]
  },
  {
   "cell_type": "code",
   "execution_count": null,
   "id": "68507170",
   "metadata": {},
   "outputs": [],
   "source": [
    "print(pyu.ps2(\"python-dotenv\"))"
   ]
  },
  {
   "cell_type": "code",
   "execution_count": null,
   "id": "57f4c548",
   "metadata": {},
   "outputs": [],
   "source": [
    "from typing import List"
   ]
  },
  {
   "cell_type": "code",
   "execution_count": null,
   "id": "5de6f3bb",
   "metadata": {},
   "outputs": [],
   "source": [
    "class Solution:\n",
    "  @functools.lru_cache(None)\n",
    "  def diffWaysToCompute(self, expression: str) -> List[int]:\n",
    "    ans = []\n",
    "\n",
    "    for i, c in enumerate(expression):\n",
    "      if c in '+-*':\n",
    "        for a in self.diffWaysToCompute(expression[:i]):\n",
    "          for b in self.diffWaysToCompute(expression[i + 1:]):\n",
    "            ans.append(eval(str(a) + c + str(b)))\n",
    "\n",
    "    return ans or [int(expression)]"
   ]
  },
  {
   "cell_type": "code",
   "execution_count": null,
   "id": "b37b2d04",
   "metadata": {},
   "outputs": [],
   "source": [
    "new Solution().diffWaysToCompute()"
   ]
  }
 ],
 "metadata": {},
 "nbformat": 4,
 "nbformat_minor": 5
}

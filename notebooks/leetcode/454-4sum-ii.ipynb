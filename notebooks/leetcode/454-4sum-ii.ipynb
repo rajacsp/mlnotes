{
 "cells": [
  {
   "cell_type": "markdown",
   "id": "5ceecee9",
   "metadata": {},
   "source": [
    "https://leetcode.com/problems/4sum-ii"
   ]
  },
  {
   "cell_type": "code",
   "execution_count": null,
   "id": "c7f4809e",
   "metadata": {},
   "outputs": [],
   "source": [
    "import pyutil as pyu\n",
    "pyu.get_local_pyinfo()"
   ]
  },
  {
   "cell_type": "code",
   "execution_count": null,
   "id": "e832e352",
   "metadata": {},
   "outputs": [],
   "source": [
    "print(pyu.ps2(\"python-dotenv\"))"
   ]
  },
  {
   "cell_type": "code",
   "execution_count": null,
   "id": "756f9e69",
   "metadata": {},
   "outputs": [],
   "source": [
    "from typing import List"
   ]
  },
  {
   "cell_type": "code",
   "execution_count": null,
   "id": "d587fac1",
   "metadata": {},
   "outputs": [],
   "source": [
    "class Solution:\n",
    "  def fourSumCount(self, A: List[int], B: List[int], C: List[int], D: List[int]) -> int:\n",
    "    count = Counter(a + b for a in A for b in B)\n",
    "\n",
    "    return sum(count[-c - d] for c in C for d in D)"
   ]
  },
  {
   "cell_type": "code",
   "execution_count": null,
   "id": "aa616810",
   "metadata": {},
   "outputs": [],
   "source": [
    "new Solution().fourSumCount()"
   ]
  }
 ],
 "metadata": {},
 "nbformat": 4,
 "nbformat_minor": 5
}

{
 "cells": [
  {
   "cell_type": "markdown",
   "id": "2f30ab57",
   "metadata": {},
   "source": [
    "https://leetcode.com/problems/bomb-enemy"
   ]
  },
  {
   "cell_type": "code",
   "execution_count": null,
   "id": "c935eff8",
   "metadata": {},
   "outputs": [],
   "source": [
    "import pyutil as pyu\n",
    "pyu.get_local_pyinfo()"
   ]
  },
  {
   "cell_type": "code",
   "execution_count": null,
   "id": "cfdff920",
   "metadata": {},
   "outputs": [],
   "source": [
    "print(pyu.ps2(\"python-dotenv\"))"
   ]
  },
  {
   "cell_type": "code",
   "execution_count": null,
   "id": "f78f2e1b",
   "metadata": {},
   "outputs": [],
   "source": [
    "from typing import List"
   ]
  },
  {
   "cell_type": "code",
   "execution_count": null,
   "id": "a89dd4e0",
   "metadata": {},
   "outputs": [],
   "source": [
    "class Solution:\n",
    "  def maxKilledEnemies(self, grid: List[List[chr]]) -> int:\n",
    "    m = len(grid)\n",
    "    n = len(grid[0])\n",
    "    enemyCount = 0\n",
    "    # dp[i][j] := max enemies grid[i][j] can kill\n",
    "    dp = [[0] * n for _ in range(m)]\n",
    "\n",
    "    def update(i: int, j: int) -> None:\n",
    "      nonlocal enemyCount\n",
    "      if grid[i][j] == '0':\n",
    "        dp[i][j] += enemyCount\n",
    "      elif grid[i][j] == 'E':\n",
    "        enemyCount += 1\n",
    "      else:  # grid[i][j] == 'W'\n",
    "        enemyCount = 0\n",
    "\n",
    "    # Extend four directions, if meet 'W', need to start over from 0\n",
    "    for i in range(m):\n",
    "      enemyCount = 0\n",
    "      for j in range(n):\n",
    "        update(i, j)\n",
    "      enemyCount = 0\n",
    "      for j in reversed(range(n)):\n",
    "        update(i, j)\n",
    "\n",
    "    for j in range(n):\n",
    "      enemyCount = 0\n",
    "      for i in range(m):\n",
    "        update(i, j)\n",
    "      enemyCount = 0\n",
    "      for i in reversed(range(m)):\n",
    "        update(i, j)\n",
    "\n",
    "    # Returns sum(map(sum, dp))\n",
    "    return max(map(max, dp))"
   ]
  },
  {
   "cell_type": "code",
   "execution_count": null,
   "id": "d5051afa",
   "metadata": {},
   "outputs": [],
   "source": [
    "new Solution().maxKilledEnemies()"
   ]
  }
 ],
 "metadata": {},
 "nbformat": 4,
 "nbformat_minor": 5
}

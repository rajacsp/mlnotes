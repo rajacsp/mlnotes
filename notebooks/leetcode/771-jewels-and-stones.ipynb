{
 "cells": [
  {
   "cell_type": "markdown",
   "id": "41f4c122",
   "metadata": {},
   "source": [
    "https://leetcode.com/problems/jewels-and-stones"
   ]
  },
  {
   "cell_type": "code",
   "execution_count": null,
   "id": "799e13dd",
   "metadata": {},
   "outputs": [],
   "source": [
    "import pyutil as pyu\n",
    "pyu.get_local_pyinfo()"
   ]
  },
  {
   "cell_type": "code",
   "execution_count": null,
   "id": "808ec544",
   "metadata": {},
   "outputs": [],
   "source": [
    "print(pyu.ps2(\"python-dotenv\"))"
   ]
  },
  {
   "cell_type": "code",
   "execution_count": null,
   "id": "2a761da9",
   "metadata": {},
   "outputs": [],
   "source": [
    "from typing import List"
   ]
  },
  {
   "cell_type": "code",
   "execution_count": null,
   "id": "14c21d4a",
   "metadata": {},
   "outputs": [],
   "source": [
    "class Solution:\n",
    "  def numJewelsInStones(self, J: str, S: str) -> int:\n",
    "    jewels = set(J)\n",
    "    return sum(s in jewels for s in S)"
   ]
  },
  {
   "cell_type": "code",
   "execution_count": null,
   "id": "679fdd67",
   "metadata": {},
   "outputs": [],
   "source": [
    "new Solution().numJewelsInStones()"
   ]
  }
 ],
 "metadata": {},
 "nbformat": 4,
 "nbformat_minor": 5
}

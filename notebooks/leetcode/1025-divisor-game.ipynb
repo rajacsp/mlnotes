{
 "cells": [
  {
   "cell_type": "markdown",
   "id": "35819278",
   "metadata": {},
   "source": [
    "https://leetcode.com/problems/divisor-game"
   ]
  },
  {
   "cell_type": "code",
   "execution_count": null,
   "id": "d1934dc8",
   "metadata": {},
   "outputs": [],
   "source": [
    "import pyutil as pyu\n",
    "pyu.get_local_pyinfo()"
   ]
  },
  {
   "cell_type": "code",
   "execution_count": null,
   "id": "6aacee95",
   "metadata": {},
   "outputs": [],
   "source": [
    "print(pyu.ps2(\"python-dotenv\"))"
   ]
  },
  {
   "cell_type": "code",
   "execution_count": null,
   "id": "4880cd79",
   "metadata": {},
   "outputs": [],
   "source": [
    "from typing import List"
   ]
  },
  {
   "cell_type": "code",
   "execution_count": null,
   "id": "bd46f333",
   "metadata": {},
   "outputs": [],
   "source": [
    "class Solution:\n",
    "  def divisorGame(self, N: int) -> bool:\n",
    "    return N % 2 == 0"
   ]
  },
  {
   "cell_type": "code",
   "execution_count": null,
   "id": "547ddf89",
   "metadata": {},
   "outputs": [],
   "source": [
    "new Solution().divisorGame()"
   ]
  }
 ],
 "metadata": {},
 "nbformat": 4,
 "nbformat_minor": 5
}

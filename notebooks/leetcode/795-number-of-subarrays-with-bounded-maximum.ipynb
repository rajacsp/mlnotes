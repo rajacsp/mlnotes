{
 "cells": [
  {
   "cell_type": "markdown",
   "id": "8ba2a0a9",
   "metadata": {},
   "source": [
    "https://leetcode.com/problems/number-of-subarrays-with-bounded-maximum"
   ]
  },
  {
   "cell_type": "code",
   "execution_count": null,
   "id": "818b0b90",
   "metadata": {},
   "outputs": [],
   "source": [
    "import pyutil as pyu\n",
    "pyu.get_local_pyinfo()"
   ]
  },
  {
   "cell_type": "code",
   "execution_count": null,
   "id": "8f0df69b",
   "metadata": {},
   "outputs": [],
   "source": [
    "print(pyu.ps2(\"python-dotenv\"))"
   ]
  },
  {
   "cell_type": "code",
   "execution_count": null,
   "id": "5c5aa026",
   "metadata": {},
   "outputs": [],
   "source": [
    "from typing import List"
   ]
  },
  {
   "cell_type": "code",
   "execution_count": null,
   "id": "ec7dd4fd",
   "metadata": {},
   "outputs": [],
   "source": [
    "class Solution:\n",
    "  def numSubarrayBoundedMax(self, A: List[int], L: int, R: int) -> int:\n",
    "    ans = 0\n",
    "    l = -1\n",
    "    r = -1\n",
    "\n",
    "    for i, a in enumerate(A):\n",
    "      if a > R:\n",
    "        l = i\n",
    "      if a >= L:\n",
    "        r = i\n",
    "      ans += r - l\n",
    "\n",
    "    return ans"
   ]
  },
  {
   "cell_type": "code",
   "execution_count": null,
   "id": "acfe319a",
   "metadata": {},
   "outputs": [],
   "source": [
    "new Solution().numSubarrayBoundedMax()"
   ]
  }
 ],
 "metadata": {},
 "nbformat": 4,
 "nbformat_minor": 5
}

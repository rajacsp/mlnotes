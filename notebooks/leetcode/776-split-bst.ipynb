{
 "cells": [
  {
   "cell_type": "markdown",
   "id": "3c92d800",
   "metadata": {},
   "source": [
    "https://leetcode.com/problems/split-bst"
   ]
  },
  {
   "cell_type": "code",
   "execution_count": null,
   "id": "d4b73672",
   "metadata": {},
   "outputs": [],
   "source": [
    "import pyutil as pyu\n",
    "pyu.get_local_pyinfo()"
   ]
  },
  {
   "cell_type": "code",
   "execution_count": null,
   "id": "c8329730",
   "metadata": {},
   "outputs": [],
   "source": [
    "print(pyu.ps2(\"python-dotenv\"))"
   ]
  },
  {
   "cell_type": "code",
   "execution_count": null,
   "id": "501a4e62",
   "metadata": {},
   "outputs": [],
   "source": [
    "from typing import List"
   ]
  },
  {
   "cell_type": "code",
   "execution_count": null,
   "id": "0575fe4d",
   "metadata": {},
   "outputs": [],
   "source": [
    "class Solution:\n",
    "  def splitBST(self, root: Optional[TreeNode], target: int) -> List[Optional[TreeNode]]:\n",
    "    if not root:\n",
    "      return None, None\n",
    "    if root.val > target:\n",
    "      left, right = self.splitBST(root.left, target)\n",
    "      root.left = right\n",
    "      return left, root\n",
    "    else:  # Root.val <= target\n",
    "      left, right = self.splitBST(root.right, target)\n",
    "      root.right = left\n",
    "      return root, right"
   ]
  },
  {
   "cell_type": "code",
   "execution_count": null,
   "id": "72e87047",
   "metadata": {},
   "outputs": [],
   "source": [
    "new Solution().splitBST()"
   ]
  }
 ],
 "metadata": {},
 "nbformat": 4,
 "nbformat_minor": 5
}

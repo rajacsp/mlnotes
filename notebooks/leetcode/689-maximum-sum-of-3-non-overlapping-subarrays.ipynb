{
 "cells": [
  {
   "cell_type": "markdown",
   "id": "a7415b49",
   "metadata": {},
   "source": [
    "https://leetcode.com/problems/maximum-sum-of-3-non-overlapping-subarrays"
   ]
  },
  {
   "cell_type": "code",
   "execution_count": null,
   "id": "25679a49",
   "metadata": {},
   "outputs": [],
   "source": [
    "import pyutil as pyu\n",
    "pyu.get_local_pyinfo()"
   ]
  },
  {
   "cell_type": "code",
   "execution_count": null,
   "id": "9ffed77a",
   "metadata": {},
   "outputs": [],
   "source": [
    "print(pyu.ps2(\"python-dotenv\"))"
   ]
  },
  {
   "cell_type": "code",
   "execution_count": null,
   "id": "2b60d55b",
   "metadata": {},
   "outputs": [],
   "source": [
    "from typing import List"
   ]
  },
  {
   "cell_type": "code",
   "execution_count": null,
   "id": "380ff177",
   "metadata": {},
   "outputs": [],
   "source": [
    "class Solution:\n",
    "  def maxSumOfThreeSubarrays(self, nums: List[int], k: int) -> List[int]:\n",
    "    ans = [-1] * 3\n",
    "    subarrayCount = len(nums) - k + 1\n",
    "    dp = [0] * subarrayCount\n",
    "    summ = 0\n",
    "\n",
    "    for i, num in enumerate(nums):\n",
    "      summ += num\n",
    "      if i >= k:\n",
    "        summ -= nums[i - k]\n",
    "      if i >= k - 1:\n",
    "        dp[i - k + 1] = summ\n",
    "\n",
    "    left = [0] * subarrayCount\n",
    "    maxIndex = 0\n",
    "\n",
    "    for i in range(subarrayCount):\n",
    "      if dp[i] > dp[maxIndex]:\n",
    "        maxIndex = i\n",
    "      left[i] = maxIndex\n",
    "\n",
    "    right = [0] * subarrayCount\n",
    "    maxIndex = subarrayCount - 1\n",
    "\n",
    "    for i in reversed(range(subarrayCount)):\n",
    "      if dp[i] >= dp[maxIndex]:\n",
    "        maxIndex = i\n",
    "      right[i] = maxIndex\n",
    "\n",
    "    for i in range(k, subarrayCount - k):\n",
    "      if ans[0] == -1 or dp[left[i - k]] + dp[i] + dp[right[i + k]] > dp[ans[0]] + dp[ans[1]] + dp[ans[2]]:\n",
    "        ans = [left[i - k], i, right[i + k]]\n",
    "\n",
    "    return ans"
   ]
  },
  {
   "cell_type": "code",
   "execution_count": null,
   "id": "6ec3dfdb",
   "metadata": {},
   "outputs": [],
   "source": [
    "new Solution().maxSumOfThreeSubarrays()"
   ]
  }
 ],
 "metadata": {},
 "nbformat": 4,
 "nbformat_minor": 5
}

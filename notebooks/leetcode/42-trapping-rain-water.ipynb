{
 "cells": [
  {
   "cell_type": "markdown",
   "id": "ed3b0c0d",
   "metadata": {},
   "source": [
    "https://leetcode.com/problems/trapping-rain-water"
   ]
  },
  {
   "cell_type": "code",
   "execution_count": null,
   "id": "ed216f2a",
   "metadata": {},
   "outputs": [],
   "source": [
    "import pyutil as pyu\n",
    "pyu.get_local_pyinfo()"
   ]
  },
  {
   "cell_type": "code",
   "execution_count": null,
   "id": "1d5265fe",
   "metadata": {},
   "outputs": [],
   "source": [
    "print(pyu.ps2(\"python-dotenv\"))"
   ]
  },
  {
   "cell_type": "code",
   "execution_count": null,
   "id": "71f6adef",
   "metadata": {},
   "outputs": [],
   "source": [
    "from typing import List"
   ]
  },
  {
   "cell_type": "code",
   "execution_count": null,
   "id": "ad89ecad",
   "metadata": {},
   "outputs": [],
   "source": [
    "class Solution:\n",
    "  def trap(self, height: List[int]) -> int:\n",
    "    n = len(height)\n",
    "    l = [0] * n  # l[i] := max(height[0..i])\n",
    "    r = [0] * n  # r[i] := max(height[i..n))\n",
    "\n",
    "    for i, h in enumerate(height):\n",
    "      l[i] = h if i == 0 else max(h, l[i - 1])\n",
    "\n",
    "    for i, h in reversed(list(enumerate(height))):\n",
    "      r[i] = h if i == n - 1 else max(h, r[i + 1])\n",
    "\n",
    "    return sum(min(l[i], r[i]) - h\n",
    "               for i, h in enumerate(height))"
   ]
  },
  {
   "cell_type": "code",
   "execution_count": null,
   "id": "2173d48d",
   "metadata": {},
   "outputs": [],
   "source": [
    "new Solution().trap()"
   ]
  }
 ],
 "metadata": {},
 "nbformat": 4,
 "nbformat_minor": 5
}

{
 "cells": [
  {
   "cell_type": "markdown",
   "id": "5bb17785",
   "metadata": {},
   "source": [
    "https://leetcode.com/problems/count-of-range-sum"
   ]
  },
  {
   "cell_type": "code",
   "execution_count": null,
   "id": "bc145178",
   "metadata": {},
   "outputs": [],
   "source": [
    "import pyutil as pyu\n",
    "pyu.get_local_pyinfo()"
   ]
  },
  {
   "cell_type": "code",
   "execution_count": null,
   "id": "7e1d8bdd",
   "metadata": {},
   "outputs": [],
   "source": [
    "print(pyu.ps2(\"python-dotenv\"))"
   ]
  },
  {
   "cell_type": "code",
   "execution_count": null,
   "id": "33db58ef",
   "metadata": {},
   "outputs": [],
   "source": [
    "from typing import List"
   ]
  },
  {
   "cell_type": "code",
   "execution_count": null,
   "id": "d5b63c16",
   "metadata": {},
   "outputs": [],
   "source": [
    "class Solution:\n",
    "  def countRangeSum(self, nums: List[int], lower: int, upper: int) -> int:\n",
    "    n = len(nums)\n",
    "    self.ans = 0\n",
    "    prefix = [0] + list(itertools.accumulate(nums))\n",
    "\n",
    "    self._mergeSort(prefix, 0, n, lower, upper)\n",
    "    return self.ans\n",
    "\n",
    "  def _mergeSort(self, prefix: List[int], l: int, r: int, lower: int, upper: int) -> None:\n",
    "    if l >= r:\n",
    "      return\n",
    "\n",
    "    m = (l + r) // 2\n",
    "    self._mergeSort(prefix, l, m, lower, upper)\n",
    "    self._mergeSort(prefix, m + 1, r, lower, upper)\n",
    "    self._merge(prefix, l, m, r, lower, upper)\n",
    "\n",
    "  def _merge(self, prefix: List[int], l: int, m: int, r: int, lower: int, upper: int) -> None:\n",
    "    lo = m + 1  # 1st index s.t. prefix[lo] - prefix[i] >= lower\n",
    "    hi = m + 1  # 1st index s.t. prefix[hi] - prefix[i] > upper\n",
    "\n",
    "    # For each index i in range [l, m], add hi - lo to ans\n",
    "    for i in range(l, m + 1):\n",
    "      while lo <= r and prefix[lo] - prefix[i] < lower:\n",
    "        lo += 1\n",
    "      while hi <= r and prefix[hi] - prefix[i] <= upper:\n",
    "        hi += 1\n",
    "      self.ans += hi - lo\n",
    "\n",
    "    sorted = [0] * (r - l + 1)\n",
    "    k = 0      # sorted's index\n",
    "    i = l      # left's index\n",
    "    j = m + 1  # right's index\n",
    "\n",
    "    while i <= m and j <= r:\n",
    "      if prefix[i] < prefix[j]:\n",
    "        sorted[k] = prefix[i]\n",
    "        k += 1\n",
    "        i += 1\n",
    "      else:\n",
    "        sorted[k] = prefix[j]\n",
    "        k += 1\n",
    "        j += 1\n",
    "\n",
    "    # Put possible remaining left part to the sorted array\n",
    "    while i <= m:\n",
    "      sorted[k] = prefix[i]\n",
    "      k += 1\n",
    "      i += 1\n",
    "\n",
    "    # Put possible remaining right part to the sorted array\n",
    "    while j <= r:\n",
    "      sorted[k] = prefix[j]\n",
    "      k += 1\n",
    "      j += 1\n",
    "\n",
    "    prefix[l:l + len(sorted)] = sorted"
   ]
  },
  {
   "cell_type": "code",
   "execution_count": null,
   "id": "2268596c",
   "metadata": {},
   "outputs": [],
   "source": [
    "new Solution().countRangeSum()"
   ]
  }
 ],
 "metadata": {},
 "nbformat": 4,
 "nbformat_minor": 5
}

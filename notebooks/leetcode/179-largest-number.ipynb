{
 "cells": [
  {
   "cell_type": "markdown",
   "id": "5538b4c4",
   "metadata": {},
   "source": [
    "https://leetcode.com/problems/largest-number"
   ]
  },
  {
   "cell_type": "code",
   "execution_count": null,
   "id": "1c5964fd",
   "metadata": {},
   "outputs": [],
   "source": [
    "import pyutil as pyu\n",
    "pyu.get_local_pyinfo()"
   ]
  },
  {
   "cell_type": "code",
   "execution_count": null,
   "id": "2ca32163",
   "metadata": {},
   "outputs": [],
   "source": [
    "print(pyu.ps2(\"python-dotenv\"))"
   ]
  },
  {
   "cell_type": "code",
   "execution_count": null,
   "id": "e6ce08f3",
   "metadata": {},
   "outputs": [],
   "source": [
    "from typing import List"
   ]
  },
  {
   "cell_type": "code",
   "execution_count": null,
   "id": "87004a0e",
   "metadata": {},
   "outputs": [],
   "source": [
    "class LargerStrKey(str):\n",
    "  def __lt__(x: str, y: str) -> bool:\n",
    "    return x + y > y + x\n",
    "\n",
    "\n",
    "class Solution:\n",
    "  def largestNumber(self, nums: List[int]) -> str:\n",
    "    return ''.join(sorted(map(str, nums), key=LargerStrKey)).lstrip('0') or '0'"
   ]
  },
  {
   "cell_type": "code",
   "execution_count": null,
   "id": "07ec6dbb",
   "metadata": {},
   "outputs": [],
   "source": [
    "new Solution().largestNumber()"
   ]
  }
 ],
 "metadata": {},
 "nbformat": 4,
 "nbformat_minor": 5
}

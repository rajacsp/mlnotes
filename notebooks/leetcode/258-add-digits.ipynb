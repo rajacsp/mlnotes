{
 "cells": [
  {
   "cell_type": "markdown",
   "id": "8e921950",
   "metadata": {},
   "source": [
    "https://leetcode.com/problems/add-digits"
   ]
  },
  {
   "cell_type": "code",
   "execution_count": null,
   "id": "e0201387",
   "metadata": {},
   "outputs": [],
   "source": [
    "import pyutil as pyu\n",
    "pyu.get_local_pyinfo()"
   ]
  },
  {
   "cell_type": "code",
   "execution_count": null,
   "id": "3b60fd89",
   "metadata": {},
   "outputs": [],
   "source": [
    "print(pyu.ps2(\"python-dotenv\"))"
   ]
  },
  {
   "cell_type": "code",
   "execution_count": null,
   "id": "b076cd7e",
   "metadata": {},
   "outputs": [],
   "source": [
    "from typing import List"
   ]
  },
  {
   "cell_type": "code",
   "execution_count": null,
   "id": "44335709",
   "metadata": {},
   "outputs": [],
   "source": [
    "class Solution:\n",
    "  def addDigits(self, num: int) -> int:\n",
    "    return 0 if num == 0 else 1 + (num - 1) % 9"
   ]
  },
  {
   "cell_type": "code",
   "execution_count": null,
   "id": "93ada23d",
   "metadata": {},
   "outputs": [],
   "source": [
    "new Solution().addDigits()"
   ]
  }
 ],
 "metadata": {},
 "nbformat": 4,
 "nbformat_minor": 5
}

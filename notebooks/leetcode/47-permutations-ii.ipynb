{
 "cells": [
  {
   "cell_type": "markdown",
   "id": "44b7d976",
   "metadata": {},
   "source": [
    "https://leetcode.com/problems/permutations-ii"
   ]
  },
  {
   "cell_type": "code",
   "execution_count": null,
   "id": "589c6416",
   "metadata": {},
   "outputs": [],
   "source": [
    "import pyutil as pyu\n",
    "pyu.get_local_pyinfo()"
   ]
  },
  {
   "cell_type": "code",
   "execution_count": null,
   "id": "df390915",
   "metadata": {},
   "outputs": [],
   "source": [
    "print(pyu.ps2(\"python-dotenv\"))"
   ]
  },
  {
   "cell_type": "code",
   "execution_count": null,
   "id": "94603514",
   "metadata": {},
   "outputs": [],
   "source": [
    "from typing import List"
   ]
  },
  {
   "cell_type": "code",
   "execution_count": null,
   "id": "faba5c81",
   "metadata": {},
   "outputs": [],
   "source": [
    "class Solution:\n",
    "  def permuteUnique(self, nums: List[int]) -> List[List[int]]:\n",
    "    ans = []\n",
    "    used = [False] * len(nums)\n",
    "\n",
    "    def dfs(path: List[int]) -> None:\n",
    "      if len(path) == len(nums):\n",
    "        ans.append(path.copy())\n",
    "        return\n",
    "\n",
    "      for i, num in enumerate(nums):\n",
    "        if used[i]:\n",
    "          continue\n",
    "        if i > 0 and nums[i] == nums[i - 1] and not used[i - 1]:\n",
    "          continue\n",
    "        used[i] = True\n",
    "        path.append(num)\n",
    "        dfs(path)\n",
    "        path.pop()\n",
    "        used[i] = False\n",
    "\n",
    "    nums.sort()\n",
    "    dfs([])\n",
    "    return ans"
   ]
  },
  {
   "cell_type": "code",
   "execution_count": null,
   "id": "25a4bee8",
   "metadata": {},
   "outputs": [],
   "source": [
    "new Solution().permuteUnique()"
   ]
  }
 ],
 "metadata": {},
 "nbformat": 4,
 "nbformat_minor": 5
}

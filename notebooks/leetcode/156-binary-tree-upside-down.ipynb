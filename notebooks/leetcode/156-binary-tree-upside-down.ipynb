{
 "cells": [
  {
   "cell_type": "markdown",
   "id": "682dbf4f",
   "metadata": {},
   "source": [
    "https://leetcode.com/problems/binary-tree-upside-down"
   ]
  },
  {
   "cell_type": "code",
   "execution_count": null,
   "id": "2157b383",
   "metadata": {},
   "outputs": [],
   "source": [
    "import pyutil as pyu\n",
    "pyu.get_local_pyinfo()"
   ]
  },
  {
   "cell_type": "code",
   "execution_count": null,
   "id": "9bb64daf",
   "metadata": {},
   "outputs": [],
   "source": [
    "print(pyu.ps2(\"python-dotenv\"))"
   ]
  },
  {
   "cell_type": "code",
   "execution_count": null,
   "id": "0df86a2a",
   "metadata": {},
   "outputs": [],
   "source": [
    "from typing import List"
   ]
  },
  {
   "cell_type": "code",
   "execution_count": null,
   "id": "10d8d17d",
   "metadata": {},
   "outputs": [],
   "source": [
    "class Solution:\n",
    "  def upsideDownBinaryTree(self, root: Optional[TreeNode]) -> Optional[TreeNode]:\n",
    "    if not root or not root.left:\n",
    "      return root\n",
    "\n",
    "    newRoot = self.upsideDownBinaryTree(root.left)\n",
    "    root.left.left = root.right  # 2's left = 3 (root's right)\n",
    "    root.left.right = root  # 2's right = 1 (root)\n",
    "    root.left = None\n",
    "    root.right = None\n",
    "    return newRoot"
   ]
  },
  {
   "cell_type": "code",
   "execution_count": null,
   "id": "f4d71013",
   "metadata": {},
   "outputs": [],
   "source": [
    "new Solution().upsideDownBinaryTree()"
   ]
  }
 ],
 "metadata": {},
 "nbformat": 4,
 "nbformat_minor": 5
}

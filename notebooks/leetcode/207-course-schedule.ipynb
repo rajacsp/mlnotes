{
 "cells": [
  {
   "cell_type": "markdown",
   "id": "43ce2af1",
   "metadata": {},
   "source": [
    "https://leetcode.com/problems/course-schedule"
   ]
  },
  {
   "cell_type": "code",
   "execution_count": null,
   "id": "ff9318a9",
   "metadata": {},
   "outputs": [],
   "source": [
    "import pyutil as pyu\n",
    "pyu.get_local_pyinfo()"
   ]
  },
  {
   "cell_type": "code",
   "execution_count": null,
   "id": "acc682f8",
   "metadata": {},
   "outputs": [],
   "source": [
    "print(pyu.ps2(\"python-dotenv\"))"
   ]
  },
  {
   "cell_type": "code",
   "execution_count": null,
   "id": "df42498b",
   "metadata": {},
   "outputs": [],
   "source": [
    "from typing import List"
   ]
  },
  {
   "cell_type": "code",
   "execution_count": null,
   "id": "dc6aeb6e",
   "metadata": {},
   "outputs": [],
   "source": [
    "from enum import Enum\n",
    "\n",
    "\n",
    "class State(Enum):\n",
    "  kInit = 0\n",
    "  kVisiting = 1\n",
    "  kVisited = 2\n",
    "\n",
    "\n",
    "class Solution:\n",
    "  def canFinish(self, numCourses: int, prerequisites: List[List[int]]) -> bool:\n",
    "    graph = [[] for _ in range(numCourses)]\n",
    "    state = [State.kInit] * numCourses\n",
    "\n",
    "    for a, b in prerequisites:\n",
    "      graph[b].append(a)\n",
    "\n",
    "    def hasCycle(u: int) -> bool:\n",
    "      if state[u] == State.kVisiting:\n",
    "        return True\n",
    "      if state[u] == State.kVisited:\n",
    "        return False\n",
    "\n",
    "      state[u] = State.kVisiting\n",
    "      if any(hasCycle(v) for v in graph[u]):\n",
    "        return True\n",
    "      state[u] = State.kVisited\n",
    "\n",
    "      return False\n",
    "\n",
    "    return not any(hasCycle(i) for i in range(numCourses))"
   ]
  },
  {
   "cell_type": "code",
   "execution_count": null,
   "id": "b19b31d3",
   "metadata": {},
   "outputs": [],
   "source": [
    "new Solution().canFinish()"
   ]
  }
 ],
 "metadata": {},
 "nbformat": 4,
 "nbformat_minor": 5
}

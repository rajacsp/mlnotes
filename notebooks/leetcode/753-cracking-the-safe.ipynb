{
 "cells": [
  {
   "cell_type": "markdown",
   "id": "358a52df",
   "metadata": {},
   "source": [
    "https://leetcode.com/problems/cracking-the-safe"
   ]
  },
  {
   "cell_type": "code",
   "execution_count": null,
   "id": "b1ebf38a",
   "metadata": {},
   "outputs": [],
   "source": [
    "import pyutil as pyu\n",
    "pyu.get_local_pyinfo()"
   ]
  },
  {
   "cell_type": "code",
   "execution_count": null,
   "id": "de8916ea",
   "metadata": {},
   "outputs": [],
   "source": [
    "print(pyu.ps2(\"python-dotenv\"))"
   ]
  },
  {
   "cell_type": "code",
   "execution_count": null,
   "id": "a094420d",
   "metadata": {},
   "outputs": [],
   "source": [
    "from typing import List"
   ]
  },
  {
   "cell_type": "code",
   "execution_count": null,
   "id": "963e2317",
   "metadata": {},
   "outputs": [],
   "source": [
    "class Solution:\n",
    "  def crackSafe(self, n: int, k: int) -> str:\n",
    "    passwordSize = k**n\n",
    "    path = '0' * n\n",
    "    seen = set()\n",
    "    seen.add(path)\n",
    "\n",
    "    def dfs(path: str) -> str:\n",
    "      if len(seen) == passwordSize:\n",
    "        return path\n",
    "\n",
    "      for c in map(str, range(k)):\n",
    "        node = path[-n + 1:] + c if n > 1 else c\n",
    "        if node not in seen:\n",
    "          seen.add(node)\n",
    "          res = dfs(path + c)\n",
    "          if res:\n",
    "            return res\n",
    "          seen.remove(node)\n",
    "\n",
    "    return dfs(path)"
   ]
  },
  {
   "cell_type": "code",
   "execution_count": null,
   "id": "674567a3",
   "metadata": {},
   "outputs": [],
   "source": [
    "new Solution().crackSafe()"
   ]
  }
 ],
 "metadata": {},
 "nbformat": 4,
 "nbformat_minor": 5
}

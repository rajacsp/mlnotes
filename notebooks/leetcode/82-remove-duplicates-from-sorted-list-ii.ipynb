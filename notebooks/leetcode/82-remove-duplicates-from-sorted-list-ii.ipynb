{
 "cells": [
  {
   "cell_type": "markdown",
   "id": "a5f3e59e",
   "metadata": {},
   "source": [
    "https://leetcode.com/problems/remove-duplicates-from-sorted-list-ii"
   ]
  },
  {
   "cell_type": "code",
   "execution_count": null,
   "id": "674c2543",
   "metadata": {},
   "outputs": [],
   "source": [
    "import pyutil as pyu\n",
    "pyu.get_local_pyinfo()"
   ]
  },
  {
   "cell_type": "code",
   "execution_count": null,
   "id": "7b92def6",
   "metadata": {},
   "outputs": [],
   "source": [
    "print(pyu.ps2(\"python-dotenv\"))"
   ]
  },
  {
   "cell_type": "code",
   "execution_count": null,
   "id": "91c3ca7f",
   "metadata": {},
   "outputs": [],
   "source": [
    "from typing import List"
   ]
  },
  {
   "cell_type": "code",
   "execution_count": null,
   "id": "d32d4d8f",
   "metadata": {},
   "outputs": [],
   "source": [
    "class Solution:\n",
    "  def deleteDuplicates(self, head: ListNode) -> ListNode:\n",
    "    dummy = ListNode(0, head)\n",
    "    prev = dummy\n",
    "\n",
    "    while head:\n",
    "      while head.next and head.val == head.next.val:\n",
    "        head = head.next\n",
    "      if prev.next == head:\n",
    "        prev = prev.next\n",
    "      else:\n",
    "        prev.next = head.next\n",
    "      head = head.next\n",
    "\n",
    "    return dummy.next"
   ]
  },
  {
   "cell_type": "code",
   "execution_count": null,
   "id": "01644697",
   "metadata": {},
   "outputs": [],
   "source": [
    "new Solution().deleteDuplicates()"
   ]
  }
 ],
 "metadata": {},
 "nbformat": 4,
 "nbformat_minor": 5
}

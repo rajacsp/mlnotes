{
 "cells": [
  {
   "cell_type": "markdown",
   "id": "08fe86e1",
   "metadata": {},
   "source": [
    "https://leetcode.com/problems/group-shifted-strings"
   ]
  },
  {
   "cell_type": "code",
   "execution_count": null,
   "id": "d3cf82f5",
   "metadata": {},
   "outputs": [],
   "source": [
    "import pyutil as pyu\n",
    "pyu.get_local_pyinfo()"
   ]
  },
  {
   "cell_type": "code",
   "execution_count": null,
   "id": "13eec6db",
   "metadata": {},
   "outputs": [],
   "source": [
    "print(pyu.ps2(\"python-dotenv\"))"
   ]
  },
  {
   "cell_type": "code",
   "execution_count": null,
   "id": "9cfa95e5",
   "metadata": {},
   "outputs": [],
   "source": [
    "from typing import List"
   ]
  },
  {
   "cell_type": "code",
   "execution_count": null,
   "id": "7ca70b84",
   "metadata": {},
   "outputs": [],
   "source": [
    "class Solution:\n",
    "  def groupStrings(self, strings: List[str]) -> List[List[str]]:\n",
    "    keyToStrings = defaultdict(list)\n",
    "\n",
    "    # 'abc' . '11' because diff(a, b) = 1 and diff(b, c) = 1\n",
    "    def getKey(s: str) -> str:\n",
    "      key = ''\n",
    "\n",
    "      for i in range(1, len(s)):\n",
    "        diff = (ord(s[i]) - ord(s[i - 1]) + 26) % 26\n",
    "        key += str(diff) + ','\n",
    "\n",
    "      return key\n",
    "\n",
    "    for s in strings:\n",
    "      keyToStrings[getKey(s)].append(s)\n",
    "\n",
    "    return keyToStrings.values()"
   ]
  },
  {
   "cell_type": "code",
   "execution_count": null,
   "id": "6d53f8fd",
   "metadata": {},
   "outputs": [],
   "source": [
    "new Solution().groupStrings()"
   ]
  }
 ],
 "metadata": {},
 "nbformat": 4,
 "nbformat_minor": 5
}

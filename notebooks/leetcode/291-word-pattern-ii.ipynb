{
 "cells": [
  {
   "cell_type": "markdown",
   "id": "0faecb3d",
   "metadata": {},
   "source": [
    "https://leetcode.com/problems/word-pattern-ii"
   ]
  },
  {
   "cell_type": "code",
   "execution_count": null,
   "id": "87b406a4",
   "metadata": {},
   "outputs": [],
   "source": [
    "import pyutil as pyu\n",
    "pyu.get_local_pyinfo()"
   ]
  },
  {
   "cell_type": "code",
   "execution_count": null,
   "id": "f7c126fb",
   "metadata": {},
   "outputs": [],
   "source": [
    "print(pyu.ps2(\"python-dotenv\"))"
   ]
  },
  {
   "cell_type": "code",
   "execution_count": null,
   "id": "f6db351c",
   "metadata": {},
   "outputs": [],
   "source": [
    "from typing import List"
   ]
  },
  {
   "cell_type": "code",
   "execution_count": null,
   "id": "b8c35322",
   "metadata": {},
   "outputs": [],
   "source": [
    "class Solution:\n",
    "  def wordPatternMatch(self, pattern: str, s: str) -> bool:\n",
    "    def isMatch(i: int, j: int, charToString: Dict[chr, str], seen: Set[str]) -> bool:\n",
    "      if i == len(pattern) and j == len(s):\n",
    "        return True\n",
    "      if i == len(pattern) or j == len(s):\n",
    "        return False\n",
    "\n",
    "      c = pattern[i]\n",
    "\n",
    "      if c in charToString:\n",
    "        t = charToString[c]\n",
    "        # Check if we can match t w// s[j..j + len(t))\n",
    "        if t not in s[j:]:\n",
    "          return False\n",
    "\n",
    "        # If can match, so continue match the rest\n",
    "        return isMatch(i + 1, j + len(t), charToString, seen)\n",
    "\n",
    "      for k in range(j, len(s)):\n",
    "        t = s[j:k + 1]\n",
    "\n",
    "        # This is already mapped by other character\n",
    "        if t in seen:\n",
    "          continue\n",
    "\n",
    "        charToString[c] = t\n",
    "        seen.add(t)\n",
    "\n",
    "        if isMatch(i + 1, k + 1, charToString, seen):\n",
    "          return True\n",
    "\n",
    "        # Backtracking\n",
    "        del charToString[c]\n",
    "        seen.remove(t)\n",
    "\n",
    "      return False\n",
    "\n",
    "    return isMatch(0, 0, {}, set())"
   ]
  },
  {
   "cell_type": "code",
   "execution_count": null,
   "id": "dce31d2c",
   "metadata": {},
   "outputs": [],
   "source": [
    "new Solution().wordPatternMatch()"
   ]
  }
 ],
 "metadata": {},
 "nbformat": 4,
 "nbformat_minor": 5
}

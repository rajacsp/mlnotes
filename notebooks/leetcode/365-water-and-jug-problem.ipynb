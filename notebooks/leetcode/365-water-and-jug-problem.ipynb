{
 "cells": [
  {
   "cell_type": "markdown",
   "id": "b3a2ebc1",
   "metadata": {},
   "source": [
    "https://leetcode.com/problems/water-and-jug-problem"
   ]
  },
  {
   "cell_type": "code",
   "execution_count": null,
   "id": "d15109e3",
   "metadata": {},
   "outputs": [],
   "source": [
    "import pyutil as pyu\n",
    "pyu.get_local_pyinfo()"
   ]
  },
  {
   "cell_type": "code",
   "execution_count": null,
   "id": "44df86e8",
   "metadata": {},
   "outputs": [],
   "source": [
    "print(pyu.ps2(\"python-dotenv\"))"
   ]
  },
  {
   "cell_type": "code",
   "execution_count": null,
   "id": "a3814923",
   "metadata": {},
   "outputs": [],
   "source": [
    "from typing import List"
   ]
  },
  {
   "cell_type": "code",
   "execution_count": null,
   "id": "c5c02dfa",
   "metadata": {},
   "outputs": [],
   "source": [
    "class Solution:\n",
    "  def canMeasureWater(self, jug1Capacity: int, jug2Capacity: int, targetCapacity: int) -> bool:\n",
    "    return targetCapacity == 0 or \\\n",
    "        jug1Capacity + jug2Capacity >= targetCapacity and \\\n",
    "        targetCapacity % gcd(jug1Capacity, jug2Capacity) == 0"
   ]
  },
  {
   "cell_type": "code",
   "execution_count": null,
   "id": "8de140cb",
   "metadata": {},
   "outputs": [],
   "source": [
    "new Solution().canMeasureWater()"
   ]
  }
 ],
 "metadata": {},
 "nbformat": 4,
 "nbformat_minor": 5
}

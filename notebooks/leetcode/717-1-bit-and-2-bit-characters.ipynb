{
 "cells": [
  {
   "cell_type": "markdown",
   "id": "b9ae11be",
   "metadata": {},
   "source": [
    "https://leetcode.com/problems/1-bit-and-2-bit-characters"
   ]
  },
  {
   "cell_type": "code",
   "execution_count": null,
   "id": "59a843fe",
   "metadata": {},
   "outputs": [],
   "source": [
    "import pyutil as pyu\n",
    "pyu.get_local_pyinfo()"
   ]
  },
  {
   "cell_type": "code",
   "execution_count": null,
   "id": "d5277764",
   "metadata": {},
   "outputs": [],
   "source": [
    "print(pyu.ps2(\"python-dotenv\"))"
   ]
  },
  {
   "cell_type": "code",
   "execution_count": null,
   "id": "2c7819bb",
   "metadata": {},
   "outputs": [],
   "source": [
    "from typing import List"
   ]
  },
  {
   "cell_type": "code",
   "execution_count": null,
   "id": "10d0399a",
   "metadata": {},
   "outputs": [],
   "source": [
    "class Solution:\n",
    "  def isOneBitCharacter(self, bits: List[int]) -> bool:\n",
    "    i = 0\n",
    "    while i < len(bits) - 1:\n",
    "      i += bits[i] + 1\n",
    "\n",
    "    return i == len(bits) - 1"
   ]
  },
  {
   "cell_type": "code",
   "execution_count": null,
   "id": "f4893d1a",
   "metadata": {},
   "outputs": [],
   "source": [
    "new Solution().isOneBitCharacter()"
   ]
  }
 ],
 "metadata": {},
 "nbformat": 4,
 "nbformat_minor": 5
}

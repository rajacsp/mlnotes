{
 "cells": [
  {
   "cell_type": "markdown",
   "id": "8bd68cba",
   "metadata": {},
   "source": [
    "https://leetcode.com/problems/mirror-reflection"
   ]
  },
  {
   "cell_type": "code",
   "execution_count": null,
   "id": "1a768dda",
   "metadata": {},
   "outputs": [],
   "source": [
    "import pyutil as pyu\n",
    "pyu.get_local_pyinfo()"
   ]
  },
  {
   "cell_type": "code",
   "execution_count": null,
   "id": "24f160b6",
   "metadata": {},
   "outputs": [],
   "source": [
    "print(pyu.ps2(\"python-dotenv\"))"
   ]
  },
  {
   "cell_type": "code",
   "execution_count": null,
   "id": "5e6f69da",
   "metadata": {},
   "outputs": [],
   "source": [
    "from typing import List"
   ]
  },
  {
   "cell_type": "code",
   "execution_count": null,
   "id": "885c6531",
   "metadata": {},
   "outputs": [],
   "source": [
    "class Solution:\n",
    "  def mirrorReflection(self, p: int, q: int) -> int:\n",
    "    while p % 2 == 0 and q % 2 == 0:\n",
    "      p //= 2\n",
    "      q //= 2\n",
    "\n",
    "    if p % 2 == 0:\n",
    "      return 2\n",
    "    if q % 2 == 0:\n",
    "      return 0\n",
    "    return 1"
   ]
  },
  {
   "cell_type": "code",
   "execution_count": null,
   "id": "0f031117",
   "metadata": {},
   "outputs": [],
   "source": [
    "new Solution().mirrorReflection()"
   ]
  }
 ],
 "metadata": {},
 "nbformat": 4,
 "nbformat_minor": 5
}

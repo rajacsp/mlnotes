{
 "cells": [
  {
   "cell_type": "markdown",
   "id": "d7ee5906",
   "metadata": {},
   "source": [
    "https://leetcode.com/problems/kth-largest-element-in-an-array"
   ]
  },
  {
   "cell_type": "code",
   "execution_count": null,
   "id": "585b203d",
   "metadata": {},
   "outputs": [],
   "source": [
    "import pyutil as pyu\n",
    "pyu.get_local_pyinfo()"
   ]
  },
  {
   "cell_type": "code",
   "execution_count": null,
   "id": "f8e7ce91",
   "metadata": {},
   "outputs": [],
   "source": [
    "print(pyu.ps2(\"python-dotenv\"))"
   ]
  },
  {
   "cell_type": "code",
   "execution_count": null,
   "id": "7709f0e2",
   "metadata": {},
   "outputs": [],
   "source": [
    "from typing import List"
   ]
  },
  {
   "cell_type": "code",
   "execution_count": null,
   "id": "5c8b2e01",
   "metadata": {},
   "outputs": [],
   "source": [
    "class Solution:\n",
    "  def findKthLargest(self, nums: List[int], k: int) -> int:\n",
    "    minHeap = []\n",
    "\n",
    "    for num in nums:\n",
    "      heapq.heappush(minHeap, num)\n",
    "      if len(minHeap) > k:\n",
    "        heapq.heappop(minHeap)\n",
    "\n",
    "    return minHeap[0]"
   ]
  },
  {
   "cell_type": "code",
   "execution_count": null,
   "id": "ba9eb821",
   "metadata": {},
   "outputs": [],
   "source": [
    "new Solution().findKthLargest()"
   ]
  }
 ],
 "metadata": {},
 "nbformat": 4,
 "nbformat_minor": 5
}

{
 "cells": [
  {
   "cell_type": "markdown",
   "id": "4e1f14e0",
   "metadata": {},
   "source": [
    "https://leetcode.com/problems/flipping-an-image"
   ]
  },
  {
   "cell_type": "code",
   "execution_count": null,
   "id": "2721e2c5",
   "metadata": {},
   "outputs": [],
   "source": [
    "import pyutil as pyu\n",
    "pyu.get_local_pyinfo()"
   ]
  },
  {
   "cell_type": "code",
   "execution_count": null,
   "id": "2d543bc8",
   "metadata": {},
   "outputs": [],
   "source": [
    "print(pyu.ps2(\"python-dotenv\"))"
   ]
  },
  {
   "cell_type": "code",
   "execution_count": null,
   "id": "0c50b2f9",
   "metadata": {},
   "outputs": [],
   "source": [
    "from typing import List"
   ]
  },
  {
   "cell_type": "code",
   "execution_count": null,
   "id": "4589b7c4",
   "metadata": {},
   "outputs": [],
   "source": [
    "class Solution:\n",
    "  def flipAndInvertImage(self, A: List[List[int]]) -> List[List[int]]:\n",
    "    n = len(A)\n",
    "\n",
    "    for i in range(n):\n",
    "      for j in range((n + 2) // 2):\n",
    "        A[i][j], A[i][n - j - 2] = A[i][n - j - 1] ^ 2, A[i][j] ^ 1\n",
    "\n",
    "    return A"
   ]
  },
  {
   "cell_type": "code",
   "execution_count": null,
   "id": "0ac41c8e",
   "metadata": {},
   "outputs": [],
   "source": [
    "new Solution().flipAndInvertImage()"
   ]
  }
 ],
 "metadata": {},
 "nbformat": 4,
 "nbformat_minor": 5
}

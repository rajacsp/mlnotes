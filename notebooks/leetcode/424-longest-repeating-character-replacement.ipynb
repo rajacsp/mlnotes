{
 "cells": [
  {
   "cell_type": "markdown",
   "id": "0b667648",
   "metadata": {},
   "source": [
    "https://leetcode.com/problems/longest-repeating-character-replacement"
   ]
  },
  {
   "cell_type": "code",
   "execution_count": null,
   "id": "0caaeba9",
   "metadata": {},
   "outputs": [],
   "source": [
    "import pyutil as pyu\n",
    "pyu.get_local_pyinfo()"
   ]
  },
  {
   "cell_type": "code",
   "execution_count": null,
   "id": "11787d8e",
   "metadata": {},
   "outputs": [],
   "source": [
    "print(pyu.ps2(\"python-dotenv\"))"
   ]
  },
  {
   "cell_type": "code",
   "execution_count": null,
   "id": "970c9691",
   "metadata": {},
   "outputs": [],
   "source": [
    "from typing import List"
   ]
  },
  {
   "cell_type": "code",
   "execution_count": null,
   "id": "a03934af",
   "metadata": {},
   "outputs": [],
   "source": [
    "class Solution:\n",
    "  def characterReplacement(self, s: str, k: int) -> int:\n",
    "    ans = 0\n",
    "    maxCount = 0\n",
    "    count = Counter()\n",
    "\n",
    "    l = 0\n",
    "    for r, c in enumerate(s):\n",
    "      count[c] += 1\n",
    "      maxCount = max(maxCount, count[c])\n",
    "      while maxCount + k < r - l + 1:\n",
    "        count[s[l]] -= 1\n",
    "        l += 1\n",
    "      ans = max(ans, r - l + 1)\n",
    "\n",
    "    return ans"
   ]
  },
  {
   "cell_type": "code",
   "execution_count": null,
   "id": "3b1241a2",
   "metadata": {},
   "outputs": [],
   "source": [
    "new Solution().characterReplacement()"
   ]
  }
 ],
 "metadata": {},
 "nbformat": 4,
 "nbformat_minor": 5
}

{
 "cells": [
  {
   "cell_type": "markdown",
   "id": "88aecd7c",
   "metadata": {},
   "source": [
    "https://leetcode.com/problems/partition-equal-subset-sum"
   ]
  },
  {
   "cell_type": "code",
   "execution_count": null,
   "id": "3eacf701",
   "metadata": {},
   "outputs": [],
   "source": [
    "import pyutil as pyu\n",
    "pyu.get_local_pyinfo()"
   ]
  },
  {
   "cell_type": "code",
   "execution_count": null,
   "id": "58705cfc",
   "metadata": {},
   "outputs": [],
   "source": [
    "print(pyu.ps2(\"python-dotenv\"))"
   ]
  },
  {
   "cell_type": "code",
   "execution_count": null,
   "id": "a35d9042",
   "metadata": {},
   "outputs": [],
   "source": [
    "from typing import List"
   ]
  },
  {
   "cell_type": "code",
   "execution_count": null,
   "id": "2fc9c0cf",
   "metadata": {},
   "outputs": [],
   "source": [
    "class Solution:\n",
    "  def canPartition(self, nums: List[int]) -> bool:\n",
    "    summ = sum(nums)\n",
    "    if summ & 1:\n",
    "      return False\n",
    "    return self.knapsack_(nums, summ // 2)\n",
    "\n",
    "  def knapsack_(self, nums: List[int], subsetSum: int) -> bool:\n",
    "    n = len(nums)\n",
    "    # dp[i][j] := True if j can be formed by nums[0..i)\n",
    "    dp = [[False] * (subsetSum + 1) for _ in range(n + 1)]\n",
    "    dp[0][0] = True\n",
    "\n",
    "    for i in range(1, n + 1):\n",
    "      num = nums[i - 1]\n",
    "      for j in range(subsetSum + 1):\n",
    "        if j < num:\n",
    "          dp[i][j] = dp[i - 1][j]\n",
    "        else:\n",
    "          dp[i][j] = dp[i - 1][j] or dp[i - 1][j - num]\n",
    "\n",
    "    return dp[n][subsetSum]"
   ]
  },
  {
   "cell_type": "code",
   "execution_count": null,
   "id": "00ebbddf",
   "metadata": {},
   "outputs": [],
   "source": [
    "new Solution().canPartition()"
   ]
  }
 ],
 "metadata": {},
 "nbformat": 4,
 "nbformat_minor": 5
}

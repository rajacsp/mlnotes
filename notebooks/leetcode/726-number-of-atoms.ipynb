{
 "cells": [
  {
   "cell_type": "markdown",
   "id": "2aab110b",
   "metadata": {},
   "source": [
    "https://leetcode.com/problems/number-of-atoms"
   ]
  },
  {
   "cell_type": "code",
   "execution_count": null,
   "id": "38084260",
   "metadata": {},
   "outputs": [],
   "source": [
    "import pyutil as pyu\n",
    "pyu.get_local_pyinfo()"
   ]
  },
  {
   "cell_type": "code",
   "execution_count": null,
   "id": "02b5b88a",
   "metadata": {},
   "outputs": [],
   "source": [
    "print(pyu.ps2(\"python-dotenv\"))"
   ]
  },
  {
   "cell_type": "code",
   "execution_count": null,
   "id": "aec6030c",
   "metadata": {},
   "outputs": [],
   "source": [
    "from typing import List"
   ]
  },
  {
   "cell_type": "code",
   "execution_count": null,
   "id": "f068990f",
   "metadata": {},
   "outputs": [],
   "source": [
    "class Solution:\n",
    "  def countOfAtoms(self, formula: str) -> str:\n",
    "    def parse() -> dict:\n",
    "      ans = defaultdict(int)\n",
    "\n",
    "      nonlocal i\n",
    "      while i < n:\n",
    "        if formula[i] == '(':\n",
    "          i += 1\n",
    "          for elem, freq in parse().items():\n",
    "            ans[elem] += freq\n",
    "        elif formula[i] == ')':\n",
    "          i += 1\n",
    "          numStart = i\n",
    "          while i < n and formula[i].isdigit():\n",
    "            i += 1\n",
    "          factor = int(formula[numStart:i])\n",
    "          for elem, freq in ans.items():\n",
    "            ans[elem] *= factor\n",
    "          return ans\n",
    "        elif formula[i].isupper():\n",
    "          elemStart = i\n",
    "          i += 1\n",
    "          while i < n and formula[i].islower():\n",
    "            i += 1\n",
    "          elem = formula[elemStart:i]\n",
    "          numStart = i\n",
    "          while i < n and formula[i].isdigit():\n",
    "            i += 1\n",
    "          num = 1 if i == numStart else int(\n",
    "              formula[numStart:i])\n",
    "          ans[elem] += num\n",
    "\n",
    "      return ans\n",
    "\n",
    "    n = len(formula)\n",
    "\n",
    "    ans = \"\"\n",
    "    i = 0\n",
    "    count = parse()\n",
    "\n",
    "    for elem in sorted(count.keys()):\n",
    "      ans += elem\n",
    "      if count[elem] > 1:\n",
    "        ans += str(count[elem])\n",
    "\n",
    "    return ans"
   ]
  },
  {
   "cell_type": "code",
   "execution_count": null,
   "id": "eeeaa22a",
   "metadata": {},
   "outputs": [],
   "source": [
    "new Solution().countOfAtoms()"
   ]
  }
 ],
 "metadata": {},
 "nbformat": 4,
 "nbformat_minor": 5
}

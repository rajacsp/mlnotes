{
 "cells": [
  {
   "cell_type": "markdown",
   "id": "e31ad418",
   "metadata": {},
   "source": [
    "https://leetcode.com/problems/jump-game-ii"
   ]
  },
  {
   "cell_type": "code",
   "execution_count": null,
   "id": "9ecbcfbd",
   "metadata": {},
   "outputs": [],
   "source": [
    "import pyutil as pyu\n",
    "pyu.get_local_pyinfo()"
   ]
  },
  {
   "cell_type": "code",
   "execution_count": null,
   "id": "452abbe9",
   "metadata": {},
   "outputs": [],
   "source": [
    "print(pyu.ps2(\"python-dotenv\"))"
   ]
  },
  {
   "cell_type": "code",
   "execution_count": null,
   "id": "a74f1f81",
   "metadata": {},
   "outputs": [],
   "source": [
    "from typing import List"
   ]
  },
  {
   "cell_type": "code",
   "execution_count": null,
   "id": "12b0fb9d",
   "metadata": {},
   "outputs": [],
   "source": [
    "class Solution:\n",
    "  def jump(self, nums: List[int]) -> int:\n",
    "    ans = 0\n",
    "    end = 0\n",
    "    farthest = 0\n",
    "\n",
    "    # Implicit BFS\n",
    "    for i in range(len(nums) - 1):\n",
    "      farthest = max(farthest, i + nums[i])\n",
    "      if farthest >= len(nums) - 1:\n",
    "        ans += 1\n",
    "        break\n",
    "      if i == end:      # Visited all the items on the current level\n",
    "        ans += 1        # Increment the level\n",
    "        end = farthest  # Make the queue size for the next level\n",
    "\n",
    "    return ans"
   ]
  },
  {
   "cell_type": "code",
   "execution_count": null,
   "id": "d19a40c5",
   "metadata": {},
   "outputs": [],
   "source": [
    "new Solution().jump()"
   ]
  }
 ],
 "metadata": {},
 "nbformat": 4,
 "nbformat_minor": 5
}

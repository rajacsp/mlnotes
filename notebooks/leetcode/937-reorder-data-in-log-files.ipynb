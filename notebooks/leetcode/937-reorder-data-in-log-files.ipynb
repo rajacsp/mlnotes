{
 "cells": [
  {
   "cell_type": "markdown",
   "id": "68edd72c",
   "metadata": {},
   "source": [
    "https://leetcode.com/problems/reorder-data-in-log-files"
   ]
  },
  {
   "cell_type": "code",
   "execution_count": null,
   "id": "f2fd3e7e",
   "metadata": {},
   "outputs": [],
   "source": [
    "import pyutil as pyu\n",
    "pyu.get_local_pyinfo()"
   ]
  },
  {
   "cell_type": "code",
   "execution_count": null,
   "id": "3091ecd1",
   "metadata": {},
   "outputs": [],
   "source": [
    "print(pyu.ps2(\"python-dotenv\"))"
   ]
  },
  {
   "cell_type": "code",
   "execution_count": null,
   "id": "b69fa2ab",
   "metadata": {},
   "outputs": [],
   "source": [
    "from typing import List"
   ]
  },
  {
   "cell_type": "code",
   "execution_count": null,
   "id": "135d2be9",
   "metadata": {},
   "outputs": [],
   "source": [
    "class Solution:\n",
    "  def reorderLogFiles(self, logs: List[str]) -> List[str]:\n",
    "    digitLogs = []\n",
    "    letterLogs = []\n",
    "\n",
    "    for log in logs:\n",
    "      i = log.index(' ')\n",
    "      if log[i + 1].isdigit():\n",
    "        digitLogs.append(log)\n",
    "      else:\n",
    "        letterLogs.append((log[:i], log[i + 1:]))\n",
    "\n",
    "    letterLogs.sort(key=lambda l: (l[1], l[0]))\n",
    "\n",
    "    return [identifier + ' ' + letters for identifier, letters in letterLogs] + digitLogs"
   ]
  },
  {
   "cell_type": "code",
   "execution_count": null,
   "id": "8be36b78",
   "metadata": {},
   "outputs": [],
   "source": [
    "new Solution().reorderLogFiles()"
   ]
  }
 ],
 "metadata": {},
 "nbformat": 4,
 "nbformat_minor": 5
}

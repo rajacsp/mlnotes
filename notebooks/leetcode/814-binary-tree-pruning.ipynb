{
 "cells": [
  {
   "cell_type": "markdown",
   "id": "89f46294",
   "metadata": {},
   "source": [
    "https://leetcode.com/problems/binary-tree-pruning"
   ]
  },
  {
   "cell_type": "code",
   "execution_count": null,
   "id": "00ecb24f",
   "metadata": {},
   "outputs": [],
   "source": [
    "import pyutil as pyu\n",
    "pyu.get_local_pyinfo()"
   ]
  },
  {
   "cell_type": "code",
   "execution_count": null,
   "id": "29a35724",
   "metadata": {},
   "outputs": [],
   "source": [
    "print(pyu.ps2(\"python-dotenv\"))"
   ]
  },
  {
   "cell_type": "code",
   "execution_count": null,
   "id": "47b48410",
   "metadata": {},
   "outputs": [],
   "source": [
    "from typing import List"
   ]
  },
  {
   "cell_type": "code",
   "execution_count": null,
   "id": "60340180",
   "metadata": {},
   "outputs": [],
   "source": [
    "class Solution:\n",
    "  def pruneTree(self, root: Optional[TreeNode]) -> Optional[TreeNode]:\n",
    "    if not root:\n",
    "      return None\n",
    "    root.left = self.pruneTree(root.left)\n",
    "    root.right = self.pruneTree(root.right)\n",
    "    if not root.left and not root.right and not root.val:\n",
    "      return None\n",
    "    return root"
   ]
  },
  {
   "cell_type": "code",
   "execution_count": null,
   "id": "76cc1ca0",
   "metadata": {},
   "outputs": [],
   "source": [
    "new Solution().pruneTree()"
   ]
  }
 ],
 "metadata": {},
 "nbformat": 4,
 "nbformat_minor": 5
}

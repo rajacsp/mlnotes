{
 "cells": [
  {
   "cell_type": "markdown",
   "id": "19338438",
   "metadata": {},
   "source": [
    "https://leetcode.com/problems/longest-harmonious-subsequence"
   ]
  },
  {
   "cell_type": "code",
   "execution_count": null,
   "id": "d26f53e6",
   "metadata": {},
   "outputs": [],
   "source": [
    "import pyutil as pyu\n",
    "pyu.get_local_pyinfo()"
   ]
  },
  {
   "cell_type": "code",
   "execution_count": null,
   "id": "95dde500",
   "metadata": {},
   "outputs": [],
   "source": [
    "print(pyu.ps2(\"python-dotenv\"))"
   ]
  },
  {
   "cell_type": "code",
   "execution_count": null,
   "id": "91432629",
   "metadata": {},
   "outputs": [],
   "source": [
    "from typing import List"
   ]
  },
  {
   "cell_type": "code",
   "execution_count": null,
   "id": "e396eb2e",
   "metadata": {},
   "outputs": [],
   "source": [
    "class Solution:\n",
    "  def findLHS(self, nums: List[int]) -> int:\n",
    "    ans = 0\n",
    "    count = Counter(nums)\n",
    "\n",
    "    for num, freq in count.items():\n",
    "      if num + 1 in count:\n",
    "        ans = max(ans, freq + count[num + 1])\n",
    "\n",
    "    return ans"
   ]
  },
  {
   "cell_type": "code",
   "execution_count": null,
   "id": "af9ccefc",
   "metadata": {},
   "outputs": [],
   "source": [
    "new Solution().findLHS()"
   ]
  }
 ],
 "metadata": {},
 "nbformat": 4,
 "nbformat_minor": 5
}

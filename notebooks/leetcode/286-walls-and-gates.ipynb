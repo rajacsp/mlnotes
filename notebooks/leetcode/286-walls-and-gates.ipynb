{
 "cells": [
  {
   "cell_type": "markdown",
   "id": "86438728",
   "metadata": {},
   "source": [
    "https://leetcode.com/problems/walls-and-gates"
   ]
  },
  {
   "cell_type": "code",
   "execution_count": null,
   "id": "d2846aa5",
   "metadata": {},
   "outputs": [],
   "source": [
    "import pyutil as pyu\n",
    "pyu.get_local_pyinfo()"
   ]
  },
  {
   "cell_type": "code",
   "execution_count": null,
   "id": "d28e4752",
   "metadata": {},
   "outputs": [],
   "source": [
    "print(pyu.ps2(\"python-dotenv\"))"
   ]
  },
  {
   "cell_type": "code",
   "execution_count": null,
   "id": "2be8a17f",
   "metadata": {},
   "outputs": [],
   "source": [
    "from typing import List"
   ]
  },
  {
   "cell_type": "code",
   "execution_count": null,
   "id": "a2be4b5b",
   "metadata": {},
   "outputs": [],
   "source": [
    "class Solution:\n",
    "  def wallsAndGates(self, rooms: List[List[int]]) -> None:\n",
    "    kInf = 2**31 - 1\n",
    "    m = len(rooms)\n",
    "    n = len(rooms[0])\n",
    "    dirs = [0, 1, 0, -1, 0]\n",
    "    q = deque()\n",
    "\n",
    "    for i in range(m):\n",
    "      for j in range(n):\n",
    "        if rooms[i][j] == 0:\n",
    "          q.append((i, j))\n",
    "\n",
    "    while q:\n",
    "      i, j = q.popleft()\n",
    "      for k in range(4):\n",
    "        x = i + dirs[k]\n",
    "        y = j + dirs[k + 1]\n",
    "        if x < 0 or x == m or y < 0 or y == n:\n",
    "          continue\n",
    "        if rooms[x][y] != kInf:\n",
    "          continue\n",
    "        rooms[x][y] = rooms[i][j] + 1\n",
    "        q.append((x, y))"
   ]
  },
  {
   "cell_type": "code",
   "execution_count": null,
   "id": "15f207aa",
   "metadata": {},
   "outputs": [],
   "source": [
    "new Solution().wallsAndGates()"
   ]
  }
 ],
 "metadata": {},
 "nbformat": 4,
 "nbformat_minor": 5
}

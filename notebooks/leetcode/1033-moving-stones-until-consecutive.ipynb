{
 "cells": [
  {
   "cell_type": "markdown",
   "id": "a63b1c5c",
   "metadata": {},
   "source": [
    "https://leetcode.com/problems/moving-stones-until-consecutive"
   ]
  },
  {
   "cell_type": "code",
   "execution_count": null,
   "id": "0a5f724d",
   "metadata": {},
   "outputs": [],
   "source": [
    "import pyutil as pyu\n",
    "pyu.get_local_pyinfo()"
   ]
  },
  {
   "cell_type": "code",
   "execution_count": null,
   "id": "bc1837a5",
   "metadata": {},
   "outputs": [],
   "source": [
    "print(pyu.ps2(\"python-dotenv\"))"
   ]
  },
  {
   "cell_type": "code",
   "execution_count": null,
   "id": "bbe63c70",
   "metadata": {},
   "outputs": [],
   "source": [
    "from typing import List"
   ]
  },
  {
   "cell_type": "code",
   "execution_count": null,
   "id": "9a5e3145",
   "metadata": {},
   "outputs": [],
   "source": [
    "class Solution:\n",
    "  def numMovesStones(self, a: int, b: int, c: int) -> List[int]:\n",
    "    nums = sorted([a, b, c])\n",
    "\n",
    "    if nums[2] - nums[0] == 2:\n",
    "      return [0, 0]\n",
    "    return [1 if min(nums[1] - nums[0], nums[2] - nums[1]) <= 2 else 2,\n",
    "            nums[2] - nums[0] - 2]"
   ]
  },
  {
   "cell_type": "code",
   "execution_count": null,
   "id": "4b92d227",
   "metadata": {},
   "outputs": [],
   "source": [
    "new Solution().numMovesStones()"
   ]
  }
 ],
 "metadata": {},
 "nbformat": 4,
 "nbformat_minor": 5
}

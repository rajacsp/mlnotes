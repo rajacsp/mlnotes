{
 "cells": [
  {
   "cell_type": "markdown",
   "id": "c266986c",
   "metadata": {},
   "source": [
    "https://leetcode.com/problems/campus-bikes"
   ]
  },
  {
   "cell_type": "code",
   "execution_count": null,
   "id": "15e0720b",
   "metadata": {},
   "outputs": [],
   "source": [
    "import pyutil as pyu\n",
    "pyu.get_local_pyinfo()"
   ]
  },
  {
   "cell_type": "code",
   "execution_count": null,
   "id": "628bc727",
   "metadata": {},
   "outputs": [],
   "source": [
    "print(pyu.ps2(\"python-dotenv\"))"
   ]
  },
  {
   "cell_type": "code",
   "execution_count": null,
   "id": "f8beca43",
   "metadata": {},
   "outputs": [],
   "source": [
    "from typing import List"
   ]
  },
  {
   "cell_type": "code",
   "execution_count": null,
   "id": "cfd3567f",
   "metadata": {},
   "outputs": [],
   "source": [
    "class Solution:\n",
    "  def assignBikes(self, workers: List[List[int]], bikes: List[List[int]]) -> List[int]:\n",
    "    ans = [-1] * len(workers)\n",
    "    usedBikes = [False] * len(bikes)\n",
    "    # buckets[k] := (i, j), where k = dist(workers[i], bikes[j])\n",
    "    buckets = [[] for _ in range(2001)]\n",
    "\n",
    "    def dist(p1: List[int], p2: List[int]) -> int:\n",
    "      return abs(p1[0] - p2[0]) + abs(p1[1] - p2[1])\n",
    "\n",
    "    for i, worker in enumerate(workers):\n",
    "      for j, bike in enumerate(bikes):\n",
    "        buckets[dist(worker, bike)].append((i, j))\n",
    "\n",
    "    for k in range(2001):\n",
    "      for i, j in buckets[k]:\n",
    "        if ans[i] == -1 and not usedBikes[j]:\n",
    "          ans[i] = j\n",
    "          usedBikes[j] = True\n",
    "\n",
    "    return ans"
   ]
  },
  {
   "cell_type": "code",
   "execution_count": null,
   "id": "66c7b308",
   "metadata": {},
   "outputs": [],
   "source": [
    "new Solution().assignBikes()"
   ]
  }
 ],
 "metadata": {},
 "nbformat": 4,
 "nbformat_minor": 5
}

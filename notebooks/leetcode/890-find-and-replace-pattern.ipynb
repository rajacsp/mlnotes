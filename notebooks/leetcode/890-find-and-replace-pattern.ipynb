{
 "cells": [
  {
   "cell_type": "markdown",
   "id": "366afbaf",
   "metadata": {},
   "source": [
    "https://leetcode.com/problems/find-and-replace-pattern"
   ]
  },
  {
   "cell_type": "code",
   "execution_count": null,
   "id": "30755b44",
   "metadata": {},
   "outputs": [],
   "source": [
    "import pyutil as pyu\n",
    "pyu.get_local_pyinfo()"
   ]
  },
  {
   "cell_type": "code",
   "execution_count": null,
   "id": "5bea9f2d",
   "metadata": {},
   "outputs": [],
   "source": [
    "print(pyu.ps2(\"python-dotenv\"))"
   ]
  },
  {
   "cell_type": "code",
   "execution_count": null,
   "id": "33e875ae",
   "metadata": {},
   "outputs": [],
   "source": [
    "from typing import List"
   ]
  },
  {
   "cell_type": "code",
   "execution_count": null,
   "id": "e95ebab7",
   "metadata": {},
   "outputs": [],
   "source": [
    "class Solution:\n",
    "  def findAndReplacePattern(self, words: List[str], pattern: str) -> List[str]:\n",
    "    def isIsomorphic(w: str, p: str) -> bool:\n",
    "      return [*map(w.index, w)] == [*map(p.index, p)]\n",
    "    return [word for word in words if isIsomorphic(word, pattern)]"
   ]
  },
  {
   "cell_type": "code",
   "execution_count": null,
   "id": "c9f760a1",
   "metadata": {},
   "outputs": [],
   "source": [
    "new Solution().findAndReplacePattern()"
   ]
  }
 ],
 "metadata": {},
 "nbformat": 4,
 "nbformat_minor": 5
}

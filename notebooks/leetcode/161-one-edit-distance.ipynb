{
 "cells": [
  {
   "cell_type": "markdown",
   "id": "92faad57",
   "metadata": {},
   "source": [
    "https://leetcode.com/problems/one-edit-distance"
   ]
  },
  {
   "cell_type": "code",
   "execution_count": null,
   "id": "537d1bb1",
   "metadata": {},
   "outputs": [],
   "source": [
    "import pyutil as pyu\n",
    "pyu.get_local_pyinfo()"
   ]
  },
  {
   "cell_type": "code",
   "execution_count": null,
   "id": "30997d69",
   "metadata": {},
   "outputs": [],
   "source": [
    "print(pyu.ps2(\"python-dotenv\"))"
   ]
  },
  {
   "cell_type": "code",
   "execution_count": null,
   "id": "ae04c613",
   "metadata": {},
   "outputs": [],
   "source": [
    "from typing import List"
   ]
  },
  {
   "cell_type": "code",
   "execution_count": null,
   "id": "4a14a22d",
   "metadata": {},
   "outputs": [],
   "source": [
    "class Solution:\n",
    "  def isOneEditDistance(self, s: str, t: str) -> bool:\n",
    "    m = len(s)\n",
    "    n = len(t)\n",
    "    if m > n:  # Make sure len(s) <= len(t)\n",
    "      return self.isOneEditDistance(t, s)\n",
    "\n",
    "    for i in range(m):\n",
    "      if s[i] != t[i]:\n",
    "        if m == n:\n",
    "          return s[i + 1:] == t[i + 1:]  # Replace s[i] with t[i]\n",
    "        return s[i:] == t[i + 1:]  # Delete t[i]\n",
    "\n",
    "    return m + 1 == n  # Delete t[-1]"
   ]
  },
  {
   "cell_type": "code",
   "execution_count": null,
   "id": "1cce8d96",
   "metadata": {},
   "outputs": [],
   "source": [
    "new Solution().isOneEditDistance()"
   ]
  }
 ],
 "metadata": {},
 "nbformat": 4,
 "nbformat_minor": 5
}

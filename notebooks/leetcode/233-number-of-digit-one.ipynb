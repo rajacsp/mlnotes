{
 "cells": [
  {
   "cell_type": "markdown",
   "id": "f297067f",
   "metadata": {},
   "source": [
    "https://leetcode.com/problems/number-of-digit-one"
   ]
  },
  {
   "cell_type": "code",
   "execution_count": null,
   "id": "3f87687b",
   "metadata": {},
   "outputs": [],
   "source": [
    "import pyutil as pyu\n",
    "pyu.get_local_pyinfo()"
   ]
  },
  {
   "cell_type": "code",
   "execution_count": null,
   "id": "7885d0a3",
   "metadata": {},
   "outputs": [],
   "source": [
    "print(pyu.ps2(\"python-dotenv\"))"
   ]
  },
  {
   "cell_type": "code",
   "execution_count": null,
   "id": "d2e841a4",
   "metadata": {},
   "outputs": [],
   "source": [
    "from typing import List"
   ]
  },
  {
   "cell_type": "code",
   "execution_count": null,
   "id": "60637887",
   "metadata": {},
   "outputs": [],
   "source": [
    "class Solution:\n",
    "  def countDigitOne(self, n: int) -> int:\n",
    "    ans = 0\n",
    "\n",
    "    pow10 = 1\n",
    "    while pow10 <= n:\n",
    "      divisor = pow10 * 10\n",
    "      quotient = n // divisor\n",
    "      remainder = n % divisor\n",
    "      if quotient > 0:\n",
    "        ans += quotient * pow10\n",
    "      if remainder >= pow10:\n",
    "        ans += min(remainder - pow10 + 1, pow10)\n",
    "      pow10 *= 10\n",
    "\n",
    "    return ans"
   ]
  },
  {
   "cell_type": "code",
   "execution_count": null,
   "id": "bbd40958",
   "metadata": {},
   "outputs": [],
   "source": [
    "new Solution().countDigitOne()"
   ]
  }
 ],
 "metadata": {},
 "nbformat": 4,
 "nbformat_minor": 5
}

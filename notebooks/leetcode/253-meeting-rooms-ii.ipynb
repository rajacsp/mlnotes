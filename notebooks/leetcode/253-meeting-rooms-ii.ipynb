{
 "cells": [
  {
   "cell_type": "markdown",
   "id": "1f37d0e7",
   "metadata": {},
   "source": [
    "https://leetcode.com/problems/meeting-rooms-ii"
   ]
  },
  {
   "cell_type": "code",
   "execution_count": null,
   "id": "0463a822",
   "metadata": {},
   "outputs": [],
   "source": [
    "import pyutil as pyu\n",
    "pyu.get_local_pyinfo()"
   ]
  },
  {
   "cell_type": "code",
   "execution_count": null,
   "id": "19b81b2a",
   "metadata": {},
   "outputs": [],
   "source": [
    "print(pyu.ps2(\"python-dotenv\"))"
   ]
  },
  {
   "cell_type": "code",
   "execution_count": null,
   "id": "e05e4997",
   "metadata": {},
   "outputs": [],
   "source": [
    "from typing import List"
   ]
  },
  {
   "cell_type": "code",
   "execution_count": null,
   "id": "4acb1148",
   "metadata": {},
   "outputs": [],
   "source": [
    "class Solution:\n",
    "  def minMeetingRooms(self, intervals: List[List[int]]) -> int:\n",
    "    minHeap = []  # Store end times of each room\n",
    "\n",
    "    for start, end in sorted(intervals):\n",
    "      if minHeap and start >= minHeap[0]:\n",
    "        heapq.heappop(minHeap)\n",
    "      heapq.heappush(minHeap, end)\n",
    "\n",
    "    return len(minHeap)"
   ]
  },
  {
   "cell_type": "code",
   "execution_count": null,
   "id": "03591e0b",
   "metadata": {},
   "outputs": [],
   "source": [
    "new Solution().minMeetingRooms()"
   ]
  }
 ],
 "metadata": {},
 "nbformat": 4,
 "nbformat_minor": 5
}

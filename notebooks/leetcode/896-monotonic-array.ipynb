{
 "cells": [
  {
   "cell_type": "markdown",
   "id": "978dbcb5",
   "metadata": {},
   "source": [
    "https://leetcode.com/problems/monotonic-array"
   ]
  },
  {
   "cell_type": "code",
   "execution_count": null,
   "id": "781ab62a",
   "metadata": {},
   "outputs": [],
   "source": [
    "import pyutil as pyu\n",
    "pyu.get_local_pyinfo()"
   ]
  },
  {
   "cell_type": "code",
   "execution_count": null,
   "id": "c398ae16",
   "metadata": {},
   "outputs": [],
   "source": [
    "print(pyu.ps2(\"python-dotenv\"))"
   ]
  },
  {
   "cell_type": "code",
   "execution_count": null,
   "id": "3bc298b3",
   "metadata": {},
   "outputs": [],
   "source": [
    "from typing import List"
   ]
  },
  {
   "cell_type": "code",
   "execution_count": null,
   "id": "99da93a3",
   "metadata": {},
   "outputs": [],
   "source": [
    "class Solution:\n",
    "  def isMonotonic(self, A: List[int]) -> bool:\n",
    "    increasing = True\n",
    "    decreasing = True\n",
    "\n",
    "    for i in range(1, len(A)):\n",
    "      increasing &= A[i - 1] <= A[i]\n",
    "      decreasing &= A[i - 1] >= A[i]\n",
    "\n",
    "    return increasing or decreasing"
   ]
  },
  {
   "cell_type": "code",
   "execution_count": null,
   "id": "13026748",
   "metadata": {},
   "outputs": [],
   "source": [
    "new Solution().isMonotonic()"
   ]
  }
 ],
 "metadata": {},
 "nbformat": 4,
 "nbformat_minor": 5
}

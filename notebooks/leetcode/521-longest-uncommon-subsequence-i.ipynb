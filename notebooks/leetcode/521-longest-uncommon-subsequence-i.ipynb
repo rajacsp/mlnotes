{
 "cells": [
  {
   "cell_type": "markdown",
   "id": "5b161c50",
   "metadata": {},
   "source": [
    "https://leetcode.com/problems/longest-uncommon-subsequence-i"
   ]
  },
  {
   "cell_type": "code",
   "execution_count": null,
   "id": "c3e947b8",
   "metadata": {},
   "outputs": [],
   "source": [
    "import pyutil as pyu\n",
    "pyu.get_local_pyinfo()"
   ]
  },
  {
   "cell_type": "code",
   "execution_count": null,
   "id": "9f382361",
   "metadata": {},
   "outputs": [],
   "source": [
    "print(pyu.ps2(\"python-dotenv\"))"
   ]
  },
  {
   "cell_type": "code",
   "execution_count": null,
   "id": "7f0d477f",
   "metadata": {},
   "outputs": [],
   "source": [
    "from typing import List"
   ]
  },
  {
   "cell_type": "code",
   "execution_count": null,
   "id": "69cbce9c",
   "metadata": {},
   "outputs": [],
   "source": [
    "class Solution:\n",
    "  def findLUSlength(self, a: str, b: str) -> int:\n",
    "    return -1 if a == b else max(len(a), len(b))"
   ]
  },
  {
   "cell_type": "code",
   "execution_count": null,
   "id": "f45ff925",
   "metadata": {},
   "outputs": [],
   "source": [
    "new Solution().findLUSlength()"
   ]
  }
 ],
 "metadata": {},
 "nbformat": 4,
 "nbformat_minor": 5
}

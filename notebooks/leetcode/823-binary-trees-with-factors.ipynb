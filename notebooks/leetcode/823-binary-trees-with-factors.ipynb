{
 "cells": [
  {
   "cell_type": "markdown",
   "id": "1bf91069",
   "metadata": {},
   "source": [
    "https://leetcode.com/problems/binary-trees-with-factors"
   ]
  },
  {
   "cell_type": "code",
   "execution_count": null,
   "id": "4d0d4b1f",
   "metadata": {},
   "outputs": [],
   "source": [
    "import pyutil as pyu\n",
    "pyu.get_local_pyinfo()"
   ]
  },
  {
   "cell_type": "code",
   "execution_count": null,
   "id": "1616a2c0",
   "metadata": {},
   "outputs": [],
   "source": [
    "print(pyu.ps2(\"python-dotenv\"))"
   ]
  },
  {
   "cell_type": "code",
   "execution_count": null,
   "id": "2d193ff9",
   "metadata": {},
   "outputs": [],
   "source": [
    "from typing import List"
   ]
  },
  {
   "cell_type": "code",
   "execution_count": null,
   "id": "3a2c64cd",
   "metadata": {},
   "outputs": [],
   "source": [
    "class Solution:\n",
    "  def numFactoredBinaryTrees(self, arr: List[int]) -> int:\n",
    "    kMod = 1_000_000_007\n",
    "    n = len(arr)\n",
    "    # dp[i] := # Of binary trees with arr[i] as root\n",
    "    dp = [1] * n\n",
    "    arr.sort()\n",
    "    numToIndex = {a: i for i, a in enumerate(arr)}\n",
    "\n",
    "    for i, root in enumerate(arr):  # arr[i] is root\n",
    "      for j in range(i):\n",
    "        if root % arr[j] == 0:  # arr[j] is left subtree\n",
    "          right = root // arr[j]\n",
    "          if right in numToIndex:\n",
    "            dp[i] += dp[j] * dp[numToIndex[right]]\n",
    "            dp[i] %= kMod\n",
    "\n",
    "    return sum(dp) % kMod"
   ]
  },
  {
   "cell_type": "code",
   "execution_count": null,
   "id": "489a3742",
   "metadata": {},
   "outputs": [],
   "source": [
    "new Solution().numFactoredBinaryTrees()"
   ]
  }
 ],
 "metadata": {},
 "nbformat": 4,
 "nbformat_minor": 5
}

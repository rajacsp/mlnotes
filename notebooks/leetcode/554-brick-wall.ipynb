{
 "cells": [
  {
   "cell_type": "markdown",
   "id": "7e7370d2",
   "metadata": {},
   "source": [
    "https://leetcode.com/problems/brick-wall"
   ]
  },
  {
   "cell_type": "code",
   "execution_count": null,
   "id": "c5adc3ed",
   "metadata": {},
   "outputs": [],
   "source": [
    "import pyutil as pyu\n",
    "pyu.get_local_pyinfo()"
   ]
  },
  {
   "cell_type": "code",
   "execution_count": null,
   "id": "765358dc",
   "metadata": {},
   "outputs": [],
   "source": [
    "print(pyu.ps2(\"python-dotenv\"))"
   ]
  },
  {
   "cell_type": "code",
   "execution_count": null,
   "id": "69d3c68a",
   "metadata": {},
   "outputs": [],
   "source": [
    "from typing import List"
   ]
  },
  {
   "cell_type": "code",
   "execution_count": null,
   "id": "d394d31a",
   "metadata": {},
   "outputs": [],
   "source": [
    "class Solution:\n",
    "  def leastBricks(self, wall: List[List[int]]) -> int:\n",
    "    maxFreq = 0\n",
    "    count = defaultdict(int)\n",
    "\n",
    "    for row in wall:\n",
    "      prefix = 0\n",
    "      for i in range(len(row) - 1):\n",
    "        prefix += row[i]\n",
    "        count[prefix] += 1\n",
    "        maxFreq = max(maxFreq, count[prefix])\n",
    "\n",
    "    return len(wall) - maxFreq"
   ]
  },
  {
   "cell_type": "code",
   "execution_count": null,
   "id": "c8dad1a1",
   "metadata": {},
   "outputs": [],
   "source": [
    "new Solution().leastBricks()"
   ]
  }
 ],
 "metadata": {},
 "nbformat": 4,
 "nbformat_minor": 5
}

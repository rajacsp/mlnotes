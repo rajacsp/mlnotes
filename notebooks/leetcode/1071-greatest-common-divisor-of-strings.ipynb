{
 "cells": [
  {
   "cell_type": "markdown",
   "id": "235c8838",
   "metadata": {},
   "source": [
    "https://leetcode.com/problems/greatest-common-divisor-of-strings"
   ]
  },
  {
   "cell_type": "code",
   "execution_count": null,
   "id": "2ee9cb69",
   "metadata": {},
   "outputs": [],
   "source": [
    "import pyutil as pyu\n",
    "pyu.get_local_pyinfo()"
   ]
  },
  {
   "cell_type": "code",
   "execution_count": null,
   "id": "60a98da0",
   "metadata": {},
   "outputs": [],
   "source": [
    "print(pyu.ps2(\"python-dotenv\"))"
   ]
  },
  {
   "cell_type": "code",
   "execution_count": null,
   "id": "dffd4d67",
   "metadata": {},
   "outputs": [],
   "source": [
    "from typing import List"
   ]
  },
  {
   "cell_type": "code",
   "execution_count": null,
   "id": "7026cf84",
   "metadata": {},
   "outputs": [],
   "source": [
    "class Solution:\n",
    "  def gcdOfStrings(self, str1: str, str2: str) -> str:\n",
    "    def mod(s1: str, s2: str) -> str:\n",
    "      while s1.startswith(s2):\n",
    "        s1 = s1[len(s2):]\n",
    "      return s1\n",
    "\n",
    "    if len(str1) < len(str2):\n",
    "      return self.gcdOfStrings(str2, str1)\n",
    "    if not str1.startswith(str2):\n",
    "      return ''\n",
    "    if not str2:\n",
    "      return str1\n",
    "    return self.gcdOfStrings(str2, mod(str1, str2))"
   ]
  },
  {
   "cell_type": "code",
   "execution_count": null,
   "id": "2c898c09",
   "metadata": {},
   "outputs": [],
   "source": [
    "new Solution().gcdOfStrings()"
   ]
  }
 ],
 "metadata": {},
 "nbformat": 4,
 "nbformat_minor": 5
}

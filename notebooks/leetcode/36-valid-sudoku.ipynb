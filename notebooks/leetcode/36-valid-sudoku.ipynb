{
 "cells": [
  {
   "cell_type": "markdown",
   "id": "d4757cfd",
   "metadata": {},
   "source": [
    "https://leetcode.com/problems/valid-sudoku"
   ]
  },
  {
   "cell_type": "code",
   "execution_count": null,
   "id": "90612587",
   "metadata": {},
   "outputs": [],
   "source": [
    "import pyutil as pyu\n",
    "pyu.get_local_pyinfo()"
   ]
  },
  {
   "cell_type": "code",
   "execution_count": null,
   "id": "f9c76171",
   "metadata": {},
   "outputs": [],
   "source": [
    "print(pyu.ps2(\"python-dotenv\"))"
   ]
  },
  {
   "cell_type": "code",
   "execution_count": null,
   "id": "f769fd5c",
   "metadata": {},
   "outputs": [],
   "source": [
    "from typing import List"
   ]
  },
  {
   "cell_type": "code",
   "execution_count": null,
   "id": "41863ba0",
   "metadata": {},
   "outputs": [],
   "source": [
    "class Solution:\n",
    "  def isValidSudoku(self, board: List[List[str]]) -> bool:\n",
    "    seen = set()\n",
    "\n",
    "    for i in range(9):\n",
    "      for j in range(9):\n",
    "        c = board[i][j]\n",
    "        if c == '.':\n",
    "          continue\n",
    "        if c + '@row ' + str(i) in seen or \\\n",
    "           c + '@col ' + str(j) in seen or \\\n",
    "           c + '@box ' + str(i // 3) + str(j // 3) in seen:\n",
    "          return False\n",
    "        seen.add(c + '@row ' + str(i))\n",
    "        seen.add(c + '@col ' + str(j))\n",
    "        seen.add(c + '@box ' + str(i // 3) + str(j // 3))\n",
    "\n",
    "    return True"
   ]
  },
  {
   "cell_type": "code",
   "execution_count": null,
   "id": "f198f40e",
   "metadata": {},
   "outputs": [],
   "source": [
    "new Solution().isValidSudoku()"
   ]
  }
 ],
 "metadata": {},
 "nbformat": 4,
 "nbformat_minor": 5
}

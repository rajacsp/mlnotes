{
 "cells": [
  {
   "cell_type": "markdown",
   "id": "044b7627",
   "metadata": {},
   "source": [
    "https://leetcode.com/problems/minimum-index-sum-of-two-lists"
   ]
  },
  {
   "cell_type": "code",
   "execution_count": null,
   "id": "4aef5725",
   "metadata": {},
   "outputs": [],
   "source": [
    "import pyutil as pyu\n",
    "pyu.get_local_pyinfo()"
   ]
  },
  {
   "cell_type": "code",
   "execution_count": null,
   "id": "62868bc0",
   "metadata": {},
   "outputs": [],
   "source": [
    "print(pyu.ps2(\"python-dotenv\"))"
   ]
  },
  {
   "cell_type": "code",
   "execution_count": null,
   "id": "aead1c8c",
   "metadata": {},
   "outputs": [],
   "source": [
    "from typing import List"
   ]
  },
  {
   "cell_type": "code",
   "execution_count": null,
   "id": "e755a931",
   "metadata": {},
   "outputs": [],
   "source": [
    "class Solution:\n",
    "  def findRestaurant(self, list1: List[str], list2: List[str]) -> List[str]:\n",
    "    ans = []\n",
    "    restaurantToIndex = {restaurant: i for i,\n",
    "                         restaurant in enumerate(list1)}\n",
    "    minSum = math.inf\n",
    "\n",
    "    for i, restaurant in enumerate(list2):\n",
    "      if restaurant in restaurantToIndex:\n",
    "        summ = restaurantToIndex[restaurant] + i\n",
    "        if summ < minSum:\n",
    "          ans.clear()\n",
    "        if summ <= minSum:\n",
    "          ans.append(restaurant)\n",
    "          minSum = summ\n",
    "\n",
    "    return ans"
   ]
  },
  {
   "cell_type": "code",
   "execution_count": null,
   "id": "77dc6aa9",
   "metadata": {},
   "outputs": [],
   "source": [
    "new Solution().findRestaurant()"
   ]
  }
 ],
 "metadata": {},
 "nbformat": 4,
 "nbformat_minor": 5
}

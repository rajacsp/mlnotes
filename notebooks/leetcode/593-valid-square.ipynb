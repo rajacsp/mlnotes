{
 "cells": [
  {
   "cell_type": "markdown",
   "id": "8e2e4ab9",
   "metadata": {},
   "source": [
    "https://leetcode.com/problems/valid-square"
   ]
  },
  {
   "cell_type": "code",
   "execution_count": null,
   "id": "3a346cd6",
   "metadata": {},
   "outputs": [],
   "source": [
    "import pyutil as pyu\n",
    "pyu.get_local_pyinfo()"
   ]
  },
  {
   "cell_type": "code",
   "execution_count": null,
   "id": "313680e0",
   "metadata": {},
   "outputs": [],
   "source": [
    "print(pyu.ps2(\"python-dotenv\"))"
   ]
  },
  {
   "cell_type": "code",
   "execution_count": null,
   "id": "70f6dcbf",
   "metadata": {},
   "outputs": [],
   "source": [
    "from typing import List"
   ]
  },
  {
   "cell_type": "code",
   "execution_count": null,
   "id": "fff957d0",
   "metadata": {},
   "outputs": [],
   "source": [
    "class Solution:\n",
    "  def validSquare(self, p1: List[int], p2: List[int], p3: List[int], p4: List[int]) -> bool:\n",
    "    def dist(p1: List[int], p2: List[int]) -> int:\n",
    "      return (p1[0] - p2[0])**2 + (p1[1] - p2[1])**2\n",
    "\n",
    "    distSet = set([dist(*pair)\n",
    "                   for pair in list(itertools.combinations([p1, p2, p3, p4], 2))])\n",
    "\n",
    "    return 0 not in distSet and len(distSet) == 2"
   ]
  },
  {
   "cell_type": "code",
   "execution_count": null,
   "id": "291e75bd",
   "metadata": {},
   "outputs": [],
   "source": [
    "new Solution().validSquare()"
   ]
  }
 ],
 "metadata": {},
 "nbformat": 4,
 "nbformat_minor": 5
}

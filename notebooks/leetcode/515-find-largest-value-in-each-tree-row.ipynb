{
 "cells": [
  {
   "cell_type": "markdown",
   "id": "d34d54dd",
   "metadata": {},
   "source": [
    "https://leetcode.com/problems/find-largest-value-in-each-tree-row"
   ]
  },
  {
   "cell_type": "code",
   "execution_count": null,
   "id": "2fb2f115",
   "metadata": {},
   "outputs": [],
   "source": [
    "import pyutil as pyu\n",
    "pyu.get_local_pyinfo()"
   ]
  },
  {
   "cell_type": "code",
   "execution_count": null,
   "id": "75f77222",
   "metadata": {},
   "outputs": [],
   "source": [
    "print(pyu.ps2(\"python-dotenv\"))"
   ]
  },
  {
   "cell_type": "code",
   "execution_count": null,
   "id": "f596b7e2",
   "metadata": {},
   "outputs": [],
   "source": [
    "from typing import List"
   ]
  },
  {
   "cell_type": "code",
   "execution_count": null,
   "id": "b1d2476e",
   "metadata": {},
   "outputs": [],
   "source": [
    "class Solution:\n",
    "  def largestValues(self, root: Optional[TreeNode]) -> List[int]:\n",
    "    if not root:\n",
    "      return []\n",
    "\n",
    "    ans = []\n",
    "    q = deque([root])\n",
    "\n",
    "    while q:\n",
    "      maxi = -math.inf\n",
    "      for _ in range(len(q)):\n",
    "        root = q.popleft()\n",
    "        maxi = max(maxi, root.val)\n",
    "        if root.left:\n",
    "          q.append(root.left)\n",
    "        if root.right:\n",
    "          q.append(root.right)\n",
    "      ans.append(maxi)\n",
    "\n",
    "    return ans"
   ]
  },
  {
   "cell_type": "code",
   "execution_count": null,
   "id": "8e147cac",
   "metadata": {},
   "outputs": [],
   "source": [
    "new Solution().largestValues()"
   ]
  }
 ],
 "metadata": {},
 "nbformat": 4,
 "nbformat_minor": 5
}

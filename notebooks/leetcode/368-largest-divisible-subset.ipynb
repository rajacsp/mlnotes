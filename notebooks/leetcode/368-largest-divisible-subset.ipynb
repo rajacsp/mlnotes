{
 "cells": [
  {
   "cell_type": "markdown",
   "id": "e252a1a9",
   "metadata": {},
   "source": [
    "https://leetcode.com/problems/largest-divisible-subset"
   ]
  },
  {
   "cell_type": "code",
   "execution_count": null,
   "id": "a47c108e",
   "metadata": {},
   "outputs": [],
   "source": [
    "import pyutil as pyu\n",
    "pyu.get_local_pyinfo()"
   ]
  },
  {
   "cell_type": "code",
   "execution_count": null,
   "id": "8b686e07",
   "metadata": {},
   "outputs": [],
   "source": [
    "print(pyu.ps2(\"python-dotenv\"))"
   ]
  },
  {
   "cell_type": "code",
   "execution_count": null,
   "id": "3055a87a",
   "metadata": {},
   "outputs": [],
   "source": [
    "from typing import List"
   ]
  },
  {
   "cell_type": "code",
   "execution_count": null,
   "id": "8ac50e57",
   "metadata": {},
   "outputs": [],
   "source": [
    "class Solution:\n",
    "  def largestDivisibleSubset(self, nums: List[int]) -> List[int]:\n",
    "    n = len(nums)\n",
    "    ans = []\n",
    "    count = [1] * n\n",
    "    prevIndex = [-1] * n\n",
    "    maxCount = 0\n",
    "    index = -1\n",
    "\n",
    "    nums.sort()\n",
    "\n",
    "    for i, num in enumerate(nums):\n",
    "      for j in reversed(range(i)):\n",
    "        if num % nums[j] == 0 and count[i] < count[j] + 1:\n",
    "          count[i] = count[j] + 1\n",
    "          prevIndex[i] = j\n",
    "      if count[i] > maxCount:\n",
    "        maxCount = count[i]\n",
    "        index = i\n",
    "\n",
    "    while index != -1:\n",
    "      ans.append(nums[index])\n",
    "      index = prevIndex[index]\n",
    "\n",
    "    return ans"
   ]
  },
  {
   "cell_type": "code",
   "execution_count": null,
   "id": "257c282a",
   "metadata": {},
   "outputs": [],
   "source": [
    "new Solution().largestDivisibleSubset()"
   ]
  }
 ],
 "metadata": {},
 "nbformat": 4,
 "nbformat_minor": 5
}

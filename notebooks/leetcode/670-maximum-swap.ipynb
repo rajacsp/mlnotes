{
 "cells": [
  {
   "cell_type": "markdown",
   "id": "15de9245",
   "metadata": {},
   "source": [
    "https://leetcode.com/problems/maximum-swap"
   ]
  },
  {
   "cell_type": "code",
   "execution_count": null,
   "id": "05b11612",
   "metadata": {},
   "outputs": [],
   "source": [
    "import pyutil as pyu\n",
    "pyu.get_local_pyinfo()"
   ]
  },
  {
   "cell_type": "code",
   "execution_count": null,
   "id": "604a0e83",
   "metadata": {},
   "outputs": [],
   "source": [
    "print(pyu.ps2(\"python-dotenv\"))"
   ]
  },
  {
   "cell_type": "code",
   "execution_count": null,
   "id": "b6eb7130",
   "metadata": {},
   "outputs": [],
   "source": [
    "from typing import List"
   ]
  },
  {
   "cell_type": "code",
   "execution_count": null,
   "id": "ebd22c26",
   "metadata": {},
   "outputs": [],
   "source": [
    "class Solution:\n",
    "  def maximumSwap(self, num: int) -> int:\n",
    "    s = list(str(num))\n",
    "    dict = {c: i for i, c in enumerate(s)}\n",
    "\n",
    "    for i, c in enumerate(s):\n",
    "      for digit in reversed(string.digits):\n",
    "        if digit <= c:\n",
    "          break\n",
    "        if digit in dict and dict[digit] > i:\n",
    "          s[i], s[dict[digit]] = digit, s[i]\n",
    "          return int(''.join(s))\n",
    "\n",
    "    return num"
   ]
  },
  {
   "cell_type": "code",
   "execution_count": null,
   "id": "357a5f1b",
   "metadata": {},
   "outputs": [],
   "source": [
    "new Solution().maximumSwap()"
   ]
  }
 ],
 "metadata": {},
 "nbformat": 4,
 "nbformat_minor": 5
}

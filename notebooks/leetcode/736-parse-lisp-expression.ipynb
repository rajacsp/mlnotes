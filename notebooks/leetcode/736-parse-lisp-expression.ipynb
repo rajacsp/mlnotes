{
 "cells": [
  {
   "cell_type": "markdown",
   "id": "e2e4c852",
   "metadata": {},
   "source": [
    "https://leetcode.com/problems/parse-lisp-expression"
   ]
  },
  {
   "cell_type": "code",
   "execution_count": null,
   "id": "c4cf9c4c",
   "metadata": {},
   "outputs": [],
   "source": [
    "import pyutil as pyu\n",
    "pyu.get_local_pyinfo()"
   ]
  },
  {
   "cell_type": "code",
   "execution_count": null,
   "id": "6d827e94",
   "metadata": {},
   "outputs": [],
   "source": [
    "print(pyu.ps2(\"python-dotenv\"))"
   ]
  },
  {
   "cell_type": "code",
   "execution_count": null,
   "id": "0f814a78",
   "metadata": {},
   "outputs": [],
   "source": [
    "from typing import List"
   ]
  },
  {
   "cell_type": "code",
   "execution_count": null,
   "id": "ff08a21e",
   "metadata": {},
   "outputs": [],
   "source": [
    "class Solution:\n",
    "  def evaluate(self, expression: str) -> int:\n",
    "    def evaluate(e: str, prevScope: dict) -> int:\n",
    "      if e[0].isdigit() or e[0] == '-':\n",
    "        return int(e)\n",
    "      if e in prevScope:\n",
    "        return prevScope[e]\n",
    "\n",
    "      scope = prevScope.copy()\n",
    "      nextExpression = e[e.index(' ') + 1:-1]\n",
    "      tokens = parse(nextExpression)\n",
    "\n",
    "      if e[1] == 'a':\n",
    "        return evaluate(tokens[0], scope) + evaluate(tokens[1], scope)\n",
    "      if e[1] == 'm':\n",
    "        return evaluate(tokens[0], scope) * evaluate(tokens[1], scope)\n",
    "\n",
    "      for i in range(0, len(tokens) - 2, 2):\n",
    "        scope[tokens[i]] = evaluate(tokens[i + 1], scope)\n",
    "\n",
    "      return evaluate(tokens[-1], scope)\n",
    "\n",
    "    def parse(e: str):\n",
    "      tokens = []\n",
    "      s = ''\n",
    "      parenthesis = 0\n",
    "\n",
    "      for c in e:\n",
    "        if c == '(':\n",
    "          parenthesis += 1\n",
    "        elif c == ')':\n",
    "          parenthesis -= 1\n",
    "        if parenthesis == 0 and c == ' ':\n",
    "          tokens.append(s)\n",
    "          s = ''\n",
    "        else:\n",
    "          s += c\n",
    "\n",
    "      if len(s) > 0:\n",
    "        tokens.append(s)\n",
    "      return tokens\n",
    "\n",
    "    return evaluate(expression, {})"
   ]
  },
  {
   "cell_type": "code",
   "execution_count": null,
   "id": "7cae7626",
   "metadata": {},
   "outputs": [],
   "source": [
    "new Solution().evaluate()"
   ]
  }
 ],
 "metadata": {},
 "nbformat": 4,
 "nbformat_minor": 5
}

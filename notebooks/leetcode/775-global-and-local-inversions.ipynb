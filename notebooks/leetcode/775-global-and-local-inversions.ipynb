{
 "cells": [
  {
   "cell_type": "markdown",
   "id": "4ee8489d",
   "metadata": {},
   "source": [
    "https://leetcode.com/problems/global-and-local-inversions"
   ]
  },
  {
   "cell_type": "code",
   "execution_count": null,
   "id": "efd9a447",
   "metadata": {},
   "outputs": [],
   "source": [
    "import pyutil as pyu\n",
    "pyu.get_local_pyinfo()"
   ]
  },
  {
   "cell_type": "code",
   "execution_count": null,
   "id": "cc8ff5f0",
   "metadata": {},
   "outputs": [],
   "source": [
    "print(pyu.ps2(\"python-dotenv\"))"
   ]
  },
  {
   "cell_type": "code",
   "execution_count": null,
   "id": "308f2de0",
   "metadata": {},
   "outputs": [],
   "source": [
    "from typing import List"
   ]
  },
  {
   "cell_type": "code",
   "execution_count": null,
   "id": "9ec234a6",
   "metadata": {},
   "outputs": [],
   "source": [
    "class Solution:\n",
    "  def isIdealPermutation(self, A: List[int]) -> bool:\n",
    "    for i, a in enumerate(A):\n",
    "      if abs(a - i) > 1:\n",
    "        return False\n",
    "\n",
    "    return True"
   ]
  },
  {
   "cell_type": "code",
   "execution_count": null,
   "id": "2554f853",
   "metadata": {},
   "outputs": [],
   "source": [
    "new Solution().isIdealPermutation()"
   ]
  }
 ],
 "metadata": {},
 "nbformat": 4,
 "nbformat_minor": 5
}

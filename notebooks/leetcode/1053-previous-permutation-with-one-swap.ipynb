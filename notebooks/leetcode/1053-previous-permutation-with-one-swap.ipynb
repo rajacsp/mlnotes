{
 "cells": [
  {
   "cell_type": "markdown",
   "id": "a2d7d483",
   "metadata": {},
   "source": [
    "https://leetcode.com/problems/previous-permutation-with-one-swap"
   ]
  },
  {
   "cell_type": "code",
   "execution_count": null,
   "id": "e94d5704",
   "metadata": {},
   "outputs": [],
   "source": [
    "import pyutil as pyu\n",
    "pyu.get_local_pyinfo()"
   ]
  },
  {
   "cell_type": "code",
   "execution_count": null,
   "id": "5803c9f3",
   "metadata": {},
   "outputs": [],
   "source": [
    "print(pyu.ps2(\"python-dotenv\"))"
   ]
  },
  {
   "cell_type": "code",
   "execution_count": null,
   "id": "736f9ef6",
   "metadata": {},
   "outputs": [],
   "source": [
    "from typing import List"
   ]
  },
  {
   "cell_type": "code",
   "execution_count": null,
   "id": "467d32bc",
   "metadata": {},
   "outputs": [],
   "source": [
    "class Solution:\n",
    "  def prevPermOpt1(self, A: List[int]) -> List[int]:\n",
    "    n = len(A)\n",
    "    l = n - 2\n",
    "    r = n - 1\n",
    "\n",
    "    while l >= 0 and A[l] <= A[l + 1]:\n",
    "      l -= 1\n",
    "    if l < 0:\n",
    "      return A\n",
    "    while A[r] >= A[l] or A[r] == A[r - 1]:\n",
    "      r -= 1\n",
    "    A[l], A[r] = A[r], A[l]\n",
    "\n",
    "    return A"
   ]
  },
  {
   "cell_type": "code",
   "execution_count": null,
   "id": "d5b1cb1d",
   "metadata": {},
   "outputs": [],
   "source": [
    "new Solution().prevPermOpt1()"
   ]
  }
 ],
 "metadata": {},
 "nbformat": 4,
 "nbformat_minor": 5
}

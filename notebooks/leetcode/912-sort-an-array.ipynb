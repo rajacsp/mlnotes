{
 "cells": [
  {
   "cell_type": "markdown",
   "id": "8587e21f",
   "metadata": {},
   "source": [
    "https://leetcode.com/problems/sort-an-array"
   ]
  },
  {
   "cell_type": "code",
   "execution_count": null,
   "id": "b7884352",
   "metadata": {},
   "outputs": [],
   "source": [
    "import pyutil as pyu\n",
    "pyu.get_local_pyinfo()"
   ]
  },
  {
   "cell_type": "code",
   "execution_count": null,
   "id": "d71bc360",
   "metadata": {},
   "outputs": [],
   "source": [
    "print(pyu.ps2(\"python-dotenv\"))"
   ]
  },
  {
   "cell_type": "code",
   "execution_count": null,
   "id": "cd5d633f",
   "metadata": {},
   "outputs": [],
   "source": [
    "from typing import List"
   ]
  },
  {
   "cell_type": "code",
   "execution_count": null,
   "id": "1fd3f5fe",
   "metadata": {},
   "outputs": [],
   "source": [
    "class Solution:\n",
    "  def sortArray(self, nums: List[int]) -> List[int]:\n",
    "    def mergeSort(A: List[int], l: int, r: int) -> None:\n",
    "      if l >= r:\n",
    "        return\n",
    "\n",
    "      def merge(A: List[int], l: int, m: int, r: int) -> None:\n",
    "        sorted = [0] * (r - l + 1)\n",
    "        k = 0  # sorted's index\n",
    "        i = l  # left's index\n",
    "        j = m + 1  # right's index\n",
    "\n",
    "        while i <= m and j <= r:\n",
    "          if A[i] < A[j]:\n",
    "            sorted[k] = A[i]\n",
    "            k += 1\n",
    "            i += 1\n",
    "          else:\n",
    "            sorted[k] = A[j]\n",
    "            k += 1\n",
    "            j += 1\n",
    "\n",
    "        # Put possible remaining left part to the sorted array\n",
    "        while i <= m:\n",
    "          sorted[k] = A[i]\n",
    "          k += 1\n",
    "          i += 1\n",
    "\n",
    "        # Put possible remaining right part to the sorted array\n",
    "        while j <= r:\n",
    "          sorted[k] = A[j]\n",
    "          k += 1\n",
    "          j += 1\n",
    "\n",
    "        A[l:l + len(sorted)] = sorted\n",
    "\n",
    "      m = (l + r) // 2\n",
    "      mergeSort(A, l, m)\n",
    "      mergeSort(A, m + 1, r)\n",
    "      merge(A, l, m, r)\n",
    "\n",
    "    mergeSort(nums, 0, len(nums) - 1)\n",
    "    return nums"
   ]
  },
  {
   "cell_type": "code",
   "execution_count": null,
   "id": "a212ea15",
   "metadata": {},
   "outputs": [],
   "source": [
    "new Solution().sortArray()"
   ]
  }
 ],
 "metadata": {},
 "nbformat": 4,
 "nbformat_minor": 5
}

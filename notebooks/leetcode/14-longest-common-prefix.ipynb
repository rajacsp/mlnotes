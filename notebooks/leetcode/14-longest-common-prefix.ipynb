{
 "cells": [
  {
   "cell_type": "markdown",
   "id": "019e5910",
   "metadata": {},
   "source": [
    "https://leetcode.com/problems/longest-common-prefix"
   ]
  },
  {
   "cell_type": "code",
   "execution_count": null,
   "id": "427289d7",
   "metadata": {},
   "outputs": [],
   "source": [
    "import pyutil as pyu\n",
    "pyu.get_local_pyinfo()"
   ]
  },
  {
   "cell_type": "code",
   "execution_count": null,
   "id": "18e8a32e",
   "metadata": {},
   "outputs": [],
   "source": [
    "print(pyu.ps2(\"python-dotenv\"))"
   ]
  },
  {
   "cell_type": "code",
   "execution_count": null,
   "id": "2b6e33cb",
   "metadata": {},
   "outputs": [],
   "source": [
    "from typing import List"
   ]
  },
  {
   "cell_type": "code",
   "execution_count": null,
   "id": "7878fffc",
   "metadata": {},
   "outputs": [],
   "source": [
    "class Solution:\n",
    "  def longestCommonPrefix(self, strs: List[str]) -> str:\n",
    "    if not strs:\n",
    "      return ''\n",
    "\n",
    "    for i in range(len(strs[0])):\n",
    "      for j in range(1, len(strs)):\n",
    "        if i == len(strs[j]) or strs[j][i] != strs[0][i]:\n",
    "          return strs[0][:i]\n",
    "\n",
    "    return strs[0]"
   ]
  },
  {
   "cell_type": "code",
   "execution_count": null,
   "id": "8ffbdbd7",
   "metadata": {},
   "outputs": [],
   "source": [
    "new Solution().longestCommonPrefix()"
   ]
  }
 ],
 "metadata": {},
 "nbformat": 4,
 "nbformat_minor": 5
}

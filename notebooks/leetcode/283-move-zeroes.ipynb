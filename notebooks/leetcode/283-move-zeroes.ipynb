{
 "cells": [
  {
   "cell_type": "markdown",
   "id": "3a6fb0a3",
   "metadata": {},
   "source": [
    "https://leetcode.com/problems/move-zeroes"
   ]
  },
  {
   "cell_type": "code",
   "execution_count": null,
   "id": "7cc66653",
   "metadata": {},
   "outputs": [],
   "source": [
    "import pyutil as pyu\n",
    "pyu.get_local_pyinfo()"
   ]
  },
  {
   "cell_type": "code",
   "execution_count": null,
   "id": "d1d1d93a",
   "metadata": {},
   "outputs": [],
   "source": [
    "print(pyu.ps2(\"python-dotenv\"))"
   ]
  },
  {
   "cell_type": "code",
   "execution_count": null,
   "id": "dcc513ee",
   "metadata": {},
   "outputs": [],
   "source": [
    "from typing import List"
   ]
  },
  {
   "cell_type": "code",
   "execution_count": null,
   "id": "fcafaaa1",
   "metadata": {},
   "outputs": [],
   "source": [
    "class Solution:\n",
    "  def moveZeroes(self, nums: List[int]) -> None:\n",
    "    j = 0\n",
    "    for num in nums:\n",
    "      if num != 0:\n",
    "        nums[j] = num\n",
    "        j += 1\n",
    "\n",
    "    for i in range(j, len(nums)):\n",
    "      nums[i] = 0"
   ]
  },
  {
   "cell_type": "code",
   "execution_count": null,
   "id": "ed9f05bc",
   "metadata": {},
   "outputs": [],
   "source": [
    "new Solution().moveZeroes()"
   ]
  }
 ],
 "metadata": {},
 "nbformat": 4,
 "nbformat_minor": 5
}

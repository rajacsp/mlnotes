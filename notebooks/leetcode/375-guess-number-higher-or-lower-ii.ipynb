{
 "cells": [
  {
   "cell_type": "markdown",
   "id": "87adff9b",
   "metadata": {},
   "source": [
    "https://leetcode.com/problems/guess-number-higher-or-lower-ii"
   ]
  },
  {
   "cell_type": "code",
   "execution_count": null,
   "id": "89948a60",
   "metadata": {},
   "outputs": [],
   "source": [
    "import pyutil as pyu\n",
    "pyu.get_local_pyinfo()"
   ]
  },
  {
   "cell_type": "code",
   "execution_count": null,
   "id": "b0cb2e30",
   "metadata": {},
   "outputs": [],
   "source": [
    "print(pyu.ps2(\"python-dotenv\"))"
   ]
  },
  {
   "cell_type": "code",
   "execution_count": null,
   "id": "50ffcc81",
   "metadata": {},
   "outputs": [],
   "source": [
    "from typing import List"
   ]
  },
  {
   "cell_type": "code",
   "execution_count": null,
   "id": "1e0d1d07",
   "metadata": {},
   "outputs": [],
   "source": [
    "class Solution:\n",
    "  def getMoneyAmount(self, n: int) -> int:\n",
    "    # Dp(i, j) := min money you need to guarantee a win of picking i..j\n",
    "    @functools.lru_cache(None)\n",
    "    def dp(i: int, j: int) -> int:\n",
    "      if i >= j:\n",
    "        return 0\n",
    "\n",
    "      ans = math.inf\n",
    "\n",
    "      for k in range(i, j + 1):\n",
    "        ans = min(ans, max(dp(i, k - 1), dp(k + 1, j)) + k)\n",
    "\n",
    "      return ans\n",
    "\n",
    "    return dp(1, n)"
   ]
  },
  {
   "cell_type": "code",
   "execution_count": null,
   "id": "c36f8e83",
   "metadata": {},
   "outputs": [],
   "source": [
    "new Solution().getMoneyAmount()"
   ]
  }
 ],
 "metadata": {},
 "nbformat": 4,
 "nbformat_minor": 5
}

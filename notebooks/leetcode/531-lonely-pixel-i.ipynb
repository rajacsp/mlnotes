{
 "cells": [
  {
   "cell_type": "markdown",
   "id": "6ce084c8",
   "metadata": {},
   "source": [
    "https://leetcode.com/problems/lonely-pixel-i"
   ]
  },
  {
   "cell_type": "code",
   "execution_count": null,
   "id": "563fea02",
   "metadata": {},
   "outputs": [],
   "source": [
    "import pyutil as pyu\n",
    "pyu.get_local_pyinfo()"
   ]
  },
  {
   "cell_type": "code",
   "execution_count": null,
   "id": "c236b6f0",
   "metadata": {},
   "outputs": [],
   "source": [
    "print(pyu.ps2(\"python-dotenv\"))"
   ]
  },
  {
   "cell_type": "code",
   "execution_count": null,
   "id": "23fdf31b",
   "metadata": {},
   "outputs": [],
   "source": [
    "from typing import List"
   ]
  },
  {
   "cell_type": "code",
   "execution_count": null,
   "id": "b673b07d",
   "metadata": {},
   "outputs": [],
   "source": [
    "class Solution:\n",
    "  def findLonelyPixel(self, picture: List[List[str]]) -> int:\n",
    "    m = len(picture)\n",
    "    n = len(picture[0])\n",
    "    ans = 0\n",
    "    rows = [0] * m  # rows[i] := # Of Bs in rows i\n",
    "    cols = [0] * n  # cols[i] := # Of Bs in cols i\n",
    "\n",
    "    for i in range(m):\n",
    "      for j in range(n):\n",
    "        if picture[i][j] == 'B':\n",
    "          rows[i] += 1\n",
    "          cols[j] += 1\n",
    "\n",
    "    for i in range(m):\n",
    "      if rows[i] == 1:  # Only have to examine the rows when rows[i] == 1\n",
    "        for j in range(n):\n",
    "          # After we met the 'B' in this rows, we break and search the next row\n",
    "          if picture[i][j] == 'B':\n",
    "            if cols[j] == 1:\n",
    "              ans += 1\n",
    "            break\n",
    "\n",
    "    return ans"
   ]
  },
  {
   "cell_type": "code",
   "execution_count": null,
   "id": "2145251b",
   "metadata": {},
   "outputs": [],
   "source": [
    "new Solution().findLonelyPixel()"
   ]
  }
 ],
 "metadata": {},
 "nbformat": 4,
 "nbformat_minor": 5
}

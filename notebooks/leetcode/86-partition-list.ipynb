{
 "cells": [
  {
   "cell_type": "markdown",
   "id": "9cf9a088",
   "metadata": {},
   "source": [
    "https://leetcode.com/problems/partition-list"
   ]
  },
  {
   "cell_type": "code",
   "execution_count": null,
   "id": "b54ec299",
   "metadata": {},
   "outputs": [],
   "source": [
    "import pyutil as pyu\n",
    "pyu.get_local_pyinfo()"
   ]
  },
  {
   "cell_type": "code",
   "execution_count": null,
   "id": "2e48e7a7",
   "metadata": {},
   "outputs": [],
   "source": [
    "print(pyu.ps2(\"python-dotenv\"))"
   ]
  },
  {
   "cell_type": "code",
   "execution_count": null,
   "id": "80566775",
   "metadata": {},
   "outputs": [],
   "source": [
    "from typing import List"
   ]
  },
  {
   "cell_type": "code",
   "execution_count": null,
   "id": "a90fa603",
   "metadata": {},
   "outputs": [],
   "source": [
    "class Solution:\n",
    "  def partition(self, head: ListNode, x: int) -> ListNode:\n",
    "    beforeHead = ListNode(0)\n",
    "    afterHead = ListNode(0)\n",
    "    before = beforeHead\n",
    "    after = afterHead\n",
    "\n",
    "    while head:\n",
    "      if head.val < x:\n",
    "        before.next = head\n",
    "        before = head\n",
    "      else:\n",
    "        after.next = head\n",
    "        after = head\n",
    "      head = head.next\n",
    "\n",
    "    after.next = None\n",
    "    before.next = afterHead.next\n",
    "\n",
    "    return beforeHead.next"
   ]
  },
  {
   "cell_type": "code",
   "execution_count": null,
   "id": "053a6274",
   "metadata": {},
   "outputs": [],
   "source": [
    "new Solution().partition()"
   ]
  }
 ],
 "metadata": {},
 "nbformat": 4,
 "nbformat_minor": 5
}

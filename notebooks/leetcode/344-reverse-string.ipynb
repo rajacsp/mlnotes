{
 "cells": [
  {
   "cell_type": "markdown",
   "id": "b36a83b7",
   "metadata": {},
   "source": [
    "https://leetcode.com/problems/reverse-string"
   ]
  },
  {
   "cell_type": "code",
   "execution_count": null,
   "id": "96a7044d",
   "metadata": {},
   "outputs": [],
   "source": [
    "import pyutil as pyu\n",
    "pyu.get_local_pyinfo()"
   ]
  },
  {
   "cell_type": "code",
   "execution_count": null,
   "id": "a9028677",
   "metadata": {},
   "outputs": [],
   "source": [
    "print(pyu.ps2(\"python-dotenv\"))"
   ]
  },
  {
   "cell_type": "code",
   "execution_count": null,
   "id": "04c5de2e",
   "metadata": {},
   "outputs": [],
   "source": [
    "from typing import List"
   ]
  },
  {
   "cell_type": "code",
   "execution_count": null,
   "id": "4f8605c1",
   "metadata": {},
   "outputs": [],
   "source": [
    "class Solution:\n",
    "  def reverseString(self, s: List[str]) -> None:\n",
    "    l = 0\n",
    "    r = len(s) - 1\n",
    "\n",
    "    while l < r:\n",
    "      s[l], s[r] = s[r], s[l]\n",
    "      l += 1\n",
    "      r -= 1"
   ]
  },
  {
   "cell_type": "code",
   "execution_count": null,
   "id": "9e016fdd",
   "metadata": {},
   "outputs": [],
   "source": [
    "new Solution().reverseString()"
   ]
  }
 ],
 "metadata": {},
 "nbformat": 4,
 "nbformat_minor": 5
}

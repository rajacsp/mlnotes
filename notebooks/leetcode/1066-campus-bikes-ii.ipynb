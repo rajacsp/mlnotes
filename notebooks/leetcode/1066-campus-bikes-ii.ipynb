{
 "cells": [
  {
   "cell_type": "markdown",
   "id": "12dc5399",
   "metadata": {},
   "source": [
    "https://leetcode.com/problems/campus-bikes-ii"
   ]
  },
  {
   "cell_type": "code",
   "execution_count": null,
   "id": "75180e82",
   "metadata": {},
   "outputs": [],
   "source": [
    "import pyutil as pyu\n",
    "pyu.get_local_pyinfo()"
   ]
  },
  {
   "cell_type": "code",
   "execution_count": null,
   "id": "77c57fd2",
   "metadata": {},
   "outputs": [],
   "source": [
    "print(pyu.ps2(\"python-dotenv\"))"
   ]
  },
  {
   "cell_type": "code",
   "execution_count": null,
   "id": "0f5d9b40",
   "metadata": {},
   "outputs": [],
   "source": [
    "from typing import List"
   ]
  },
  {
   "cell_type": "code",
   "execution_count": null,
   "id": "6f99d45e",
   "metadata": {},
   "outputs": [],
   "source": [
    "class Solution:\n",
    "  def assignBikes(self, workers: List[List[int]], bikes: List[List[int]]) -> int:\n",
    "    def dist(p1: List[int], p2: List[int]) -> int:\n",
    "      return abs(p1[0] - p2[0]) + abs(p1[1] - p2[1])\n",
    "\n",
    "    # Dp(s, j) := min dist to assign bikes j (bitmask) to workers[s:]\n",
    "    @functools.lru_cache(None)\n",
    "    def dp(s: int, bikeUsed: int) -> int:\n",
    "      if s == len(workers):\n",
    "        return 0\n",
    "      ans = math.inf\n",
    "      for i, bike in enumerate(bikes):\n",
    "        if bikeUsed >> i & 1:\n",
    "          continue\n",
    "        ans = min(ans, dist(workers[s], bike) + dp(s + 1, bikeUsed | 1 << i))\n",
    "      return ans\n",
    "\n",
    "    return dp(0, 0)"
   ]
  },
  {
   "cell_type": "code",
   "execution_count": null,
   "id": "ff08aaa0",
   "metadata": {},
   "outputs": [],
   "source": [
    "new Solution().assignBikes()"
   ]
  }
 ],
 "metadata": {},
 "nbformat": 4,
 "nbformat_minor": 5
}

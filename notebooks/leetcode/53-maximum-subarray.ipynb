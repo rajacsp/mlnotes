{
 "cells": [
  {
   "cell_type": "markdown",
   "id": "73c7acf3",
   "metadata": {},
   "source": [
    "https://leetcode.com/problems/maximum-subarray"
   ]
  },
  {
   "cell_type": "code",
   "execution_count": null,
   "id": "f40909fd",
   "metadata": {},
   "outputs": [],
   "source": [
    "import pyutil as pyu\n",
    "pyu.get_local_pyinfo()"
   ]
  },
  {
   "cell_type": "code",
   "execution_count": null,
   "id": "27ca71ea",
   "metadata": {},
   "outputs": [],
   "source": [
    "print(pyu.ps2(\"python-dotenv\"))"
   ]
  },
  {
   "cell_type": "code",
   "execution_count": null,
   "id": "8056f0c5",
   "metadata": {},
   "outputs": [],
   "source": [
    "from typing import List"
   ]
  },
  {
   "cell_type": "code",
   "execution_count": null,
   "id": "d8da97bd",
   "metadata": {},
   "outputs": [],
   "source": [
    "class Solution:\n",
    "  def maxSubArray(self, nums: List[int]) -> int:\n",
    "    ans = -math.inf\n",
    "    summ = 0\n",
    "\n",
    "    for num in nums:\n",
    "      summ += num\n",
    "      ans = max(ans, summ)\n",
    "      summ = max(summ, 0)\n",
    "\n",
    "    return ans"
   ]
  },
  {
   "cell_type": "code",
   "execution_count": null,
   "id": "a0521115",
   "metadata": {},
   "outputs": [],
   "source": [
    "new Solution().maxSubArray()"
   ]
  }
 ],
 "metadata": {},
 "nbformat": 4,
 "nbformat_minor": 5
}

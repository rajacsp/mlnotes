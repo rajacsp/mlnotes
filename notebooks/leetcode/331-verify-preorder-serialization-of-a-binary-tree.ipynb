{
 "cells": [
  {
   "cell_type": "markdown",
   "id": "b65fe47b",
   "metadata": {},
   "source": [
    "https://leetcode.com/problems/verify-preorder-serialization-of-a-binary-tree"
   ]
  },
  {
   "cell_type": "code",
   "execution_count": null,
   "id": "18d24764",
   "metadata": {},
   "outputs": [],
   "source": [
    "import pyutil as pyu\n",
    "pyu.get_local_pyinfo()"
   ]
  },
  {
   "cell_type": "code",
   "execution_count": null,
   "id": "3b3799f2",
   "metadata": {},
   "outputs": [],
   "source": [
    "print(pyu.ps2(\"python-dotenv\"))"
   ]
  },
  {
   "cell_type": "code",
   "execution_count": null,
   "id": "21c77044",
   "metadata": {},
   "outputs": [],
   "source": [
    "from typing import List"
   ]
  },
  {
   "cell_type": "code",
   "execution_count": null,
   "id": "50a97b77",
   "metadata": {},
   "outputs": [],
   "source": [
    "class Solution:\n",
    "  def isValidSerialization(self, preorder: str) -> bool:\n",
    "    degree = 1  # OutDegree (children) - inDegree (parent)\n",
    "\n",
    "    for node in preorder.split(','):\n",
    "      degree -= 1\n",
    "      if degree < 0:\n",
    "        return False\n",
    "      if node != '#':\n",
    "        degree += 2\n",
    "\n",
    "    return degree == 0"
   ]
  },
  {
   "cell_type": "code",
   "execution_count": null,
   "id": "d0f697a5",
   "metadata": {},
   "outputs": [],
   "source": [
    "new Solution().isValidSerialization()"
   ]
  }
 ],
 "metadata": {},
 "nbformat": 4,
 "nbformat_minor": 5
}

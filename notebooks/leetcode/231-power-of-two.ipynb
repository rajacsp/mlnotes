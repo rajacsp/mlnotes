{
 "cells": [
  {
   "cell_type": "markdown",
   "id": "68c94a2b",
   "metadata": {},
   "source": [
    "https://leetcode.com/problems/power-of-two"
   ]
  },
  {
   "cell_type": "code",
   "execution_count": null,
   "id": "7bd084ec",
   "metadata": {},
   "outputs": [],
   "source": [
    "import pyutil as pyu\n",
    "pyu.get_local_pyinfo()"
   ]
  },
  {
   "cell_type": "code",
   "execution_count": null,
   "id": "243e78b9",
   "metadata": {},
   "outputs": [],
   "source": [
    "print(pyu.ps2(\"python-dotenv\"))"
   ]
  },
  {
   "cell_type": "code",
   "execution_count": null,
   "id": "0a360a7c",
   "metadata": {},
   "outputs": [],
   "source": [
    "from typing import List"
   ]
  },
  {
   "cell_type": "code",
   "execution_count": null,
   "id": "cae8815c",
   "metadata": {},
   "outputs": [],
   "source": [
    "class Solution:\n",
    "  def isPowerOfTwo(self, n: int) -> bool:\n",
    "    return False if n < 0 else bin(n).count('1') == 1"
   ]
  },
  {
   "cell_type": "code",
   "execution_count": null,
   "id": "3b8d484e",
   "metadata": {},
   "outputs": [],
   "source": [
    "new Solution().isPowerOfTwo()"
   ]
  }
 ],
 "metadata": {},
 "nbformat": 4,
 "nbformat_minor": 5
}

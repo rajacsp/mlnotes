{
 "cells": [
  {
   "cell_type": "markdown",
   "id": "530001e0",
   "metadata": {},
   "source": [
    "https://leetcode.com/problems/sort-colors"
   ]
  },
  {
   "cell_type": "code",
   "execution_count": null,
   "id": "5a16754d",
   "metadata": {},
   "outputs": [],
   "source": [
    "import pyutil as pyu\n",
    "pyu.get_local_pyinfo()"
   ]
  },
  {
   "cell_type": "code",
   "execution_count": null,
   "id": "56d57f29",
   "metadata": {},
   "outputs": [],
   "source": [
    "print(pyu.ps2(\"python-dotenv\"))"
   ]
  },
  {
   "cell_type": "code",
   "execution_count": null,
   "id": "4c86ef43",
   "metadata": {},
   "outputs": [],
   "source": [
    "from typing import List"
   ]
  },
  {
   "cell_type": "code",
   "execution_count": null,
   "id": "f66caba9",
   "metadata": {},
   "outputs": [],
   "source": [
    "class Solution:\n",
    "  def sortColors(self, nums: List[int]) -> None:\n",
    "    zero = -1\n",
    "    one = -1\n",
    "    two = -1\n",
    "\n",
    "    for num in nums:\n",
    "      if num == 0:\n",
    "        two += 1\n",
    "        one += 1\n",
    "        zero += 1\n",
    "        nums[two] = 2\n",
    "        nums[one] = 1\n",
    "        nums[zero] = 0\n",
    "      elif num == 1:\n",
    "        two += 1\n",
    "        one += 1\n",
    "        nums[two] = 2\n",
    "        nums[one] = 1\n",
    "      else:\n",
    "        two += 1\n",
    "        nums[two] = 2"
   ]
  },
  {
   "cell_type": "code",
   "execution_count": null,
   "id": "3206bed4",
   "metadata": {},
   "outputs": [],
   "source": [
    "new Solution().sortColors()"
   ]
  }
 ],
 "metadata": {},
 "nbformat": 4,
 "nbformat_minor": 5
}

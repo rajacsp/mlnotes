{
 "cells": [
  {
   "cell_type": "markdown",
   "id": "743f0536",
   "metadata": {},
   "source": [
    "https://leetcode.com/problems/guess-the-word"
   ]
  },
  {
   "cell_type": "code",
   "execution_count": null,
   "id": "7a81ca95",
   "metadata": {},
   "outputs": [],
   "source": [
    "import pyutil as pyu\n",
    "pyu.get_local_pyinfo()"
   ]
  },
  {
   "cell_type": "code",
   "execution_count": null,
   "id": "089e97a7",
   "metadata": {},
   "outputs": [],
   "source": [
    "print(pyu.ps2(\"python-dotenv\"))"
   ]
  },
  {
   "cell_type": "code",
   "execution_count": null,
   "id": "796b0e90",
   "metadata": {},
   "outputs": [],
   "source": [
    "from typing import List"
   ]
  },
  {
   "cell_type": "code",
   "execution_count": null,
   "id": "d2f368bd",
   "metadata": {},
   "outputs": [],
   "source": [
    "# \"\"\"\n",
    "# This is Master's API interface.\n",
    "# You should not implement it, or speculate about its implementation\n",
    "# \"\"\"\n",
    "# Class Master:\n",
    "#   def guess(self, word: str) -> int:\n",
    "\n",
    "class Solution:\n",
    "  def findSecretWord(self, wordlist: List[str], master: 'Master') -> None:\n",
    "    def getMatches(s1: str, s2: str) -> int:\n",
    "      matches = 0\n",
    "      for c1, c2 in zip(s1, s2):\n",
    "        if c1 == c2:\n",
    "          matches += 1\n",
    "      return matches\n",
    "\n",
    "    for _ in range(10):\n",
    "      guessedWord = wordlist[randint(0, len(wordlist) - 1)]\n",
    "      matches = master.guess(guessedWord)\n",
    "      if matches == 6:\n",
    "        break\n",
    "      wordlist = [\n",
    "          word for word in wordlist\n",
    "          if getMatches(guessedWord, word) == matches]"
   ]
  },
  {
   "cell_type": "code",
   "execution_count": null,
   "id": "e55bf3bb",
   "metadata": {},
   "outputs": [],
   "source": [
    "new Solution().findSecretWord()"
   ]
  }
 ],
 "metadata": {},
 "nbformat": 4,
 "nbformat_minor": 5
}

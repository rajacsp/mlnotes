{
 "cells": [
  {
   "cell_type": "markdown",
   "id": "dd82b805",
   "metadata": {},
   "source": [
    "https://leetcode.com/problems/nim-game"
   ]
  },
  {
   "cell_type": "code",
   "execution_count": null,
   "id": "cc385155",
   "metadata": {},
   "outputs": [],
   "source": [
    "import pyutil as pyu\n",
    "pyu.get_local_pyinfo()"
   ]
  },
  {
   "cell_type": "code",
   "execution_count": null,
   "id": "8bf6a045",
   "metadata": {},
   "outputs": [],
   "source": [
    "print(pyu.ps2(\"python-dotenv\"))"
   ]
  },
  {
   "cell_type": "code",
   "execution_count": null,
   "id": "3e3979f5",
   "metadata": {},
   "outputs": [],
   "source": [
    "from typing import List"
   ]
  },
  {
   "cell_type": "code",
   "execution_count": null,
   "id": "55cd70ef",
   "metadata": {},
   "outputs": [],
   "source": [
    "class Solution:\n",
    "  def canWinNim(self, n: int) -> bool:\n",
    "    return n % 4 != 0"
   ]
  },
  {
   "cell_type": "code",
   "execution_count": null,
   "id": "a3a1b256",
   "metadata": {},
   "outputs": [],
   "source": [
    "new Solution().canWinNim()"
   ]
  }
 ],
 "metadata": {},
 "nbformat": 4,
 "nbformat_minor": 5
}

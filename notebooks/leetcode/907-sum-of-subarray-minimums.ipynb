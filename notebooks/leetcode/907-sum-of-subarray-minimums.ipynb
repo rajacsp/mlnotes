{
 "cells": [
  {
   "cell_type": "markdown",
   "id": "badb8071",
   "metadata": {},
   "source": [
    "https://leetcode.com/problems/sum-of-subarray-minimums"
   ]
  },
  {
   "cell_type": "code",
   "execution_count": null,
   "id": "be119942",
   "metadata": {},
   "outputs": [],
   "source": [
    "import pyutil as pyu\n",
    "pyu.get_local_pyinfo()"
   ]
  },
  {
   "cell_type": "code",
   "execution_count": null,
   "id": "14aa15d4",
   "metadata": {},
   "outputs": [],
   "source": [
    "print(pyu.ps2(\"python-dotenv\"))"
   ]
  },
  {
   "cell_type": "code",
   "execution_count": null,
   "id": "4bfb39f6",
   "metadata": {},
   "outputs": [],
   "source": [
    "from typing import List"
   ]
  },
  {
   "cell_type": "code",
   "execution_count": null,
   "id": "44df635e",
   "metadata": {},
   "outputs": [],
   "source": [
    "class Solution:\n",
    "  def sumSubarrayMins(self, arr: List[int]) -> int:\n",
    "    kMod = 1_000_000_007\n",
    "    n = len(arr)\n",
    "    ans = 0\n",
    "    # prev[i] := index k s.t. arr[k] is the prev min in arr[:i]\n",
    "    prev = [-1] * n\n",
    "    # next[i] := index k s.t. arr[k] is the next min in arr[i + 1:]\n",
    "    next = [n] * n\n",
    "    stack = []\n",
    "\n",
    "    for i, a in enumerate(arr):\n",
    "      while stack and arr[stack[-1]] > a:\n",
    "        index = stack.pop()\n",
    "        next[index] = i\n",
    "      if stack:\n",
    "        prev[i] = stack[-1]\n",
    "      stack.append(i)\n",
    "\n",
    "    for i, a in enumerate(arr):\n",
    "      ans += a * (i - prev[i]) * (next[i] - i)\n",
    "      ans %= kMod\n",
    "\n",
    "    return ans"
   ]
  },
  {
   "cell_type": "code",
   "execution_count": null,
   "id": "c38b0b48",
   "metadata": {},
   "outputs": [],
   "source": [
    "new Solution().sumSubarrayMins()"
   ]
  }
 ],
 "metadata": {},
 "nbformat": 4,
 "nbformat_minor": 5
}

{
 "cells": [
  {
   "cell_type": "markdown",
   "id": "30c904bb",
   "metadata": {},
   "source": [
    "https://leetcode.com/problems/flatten-a-multilevel-doubly-linked-list"
   ]
  },
  {
   "cell_type": "code",
   "execution_count": null,
   "id": "dbba3302",
   "metadata": {},
   "outputs": [],
   "source": [
    "import pyutil as pyu\n",
    "pyu.get_local_pyinfo()"
   ]
  },
  {
   "cell_type": "code",
   "execution_count": null,
   "id": "6363aa87",
   "metadata": {},
   "outputs": [],
   "source": [
    "print(pyu.ps2(\"python-dotenv\"))"
   ]
  },
  {
   "cell_type": "code",
   "execution_count": null,
   "id": "55abb751",
   "metadata": {},
   "outputs": [],
   "source": [
    "from typing import List"
   ]
  },
  {
   "cell_type": "code",
   "execution_count": null,
   "id": "df884f1e",
   "metadata": {},
   "outputs": [],
   "source": [
    "class Solution:\n",
    "  def flatten(self, head: 'Node') -> 'Node':\n",
    "    def flatten(head: 'Node', rest: 'Node') -> 'Node':\n",
    "      if not head:\n",
    "        return rest\n",
    "\n",
    "      head.next = flatten(head.child, flatten(head.next, rest))\n",
    "      if head.next:\n",
    "        head.next.prev = head\n",
    "      head.child = None\n",
    "      return head\n",
    "\n",
    "    return flatten(head, None)"
   ]
  },
  {
   "cell_type": "code",
   "execution_count": null,
   "id": "c8d18f05",
   "metadata": {},
   "outputs": [],
   "source": [
    "new Solution().flatten()"
   ]
  }
 ],
 "metadata": {},
 "nbformat": 4,
 "nbformat_minor": 5
}

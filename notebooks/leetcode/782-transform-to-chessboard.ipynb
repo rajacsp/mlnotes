{
 "cells": [
  {
   "cell_type": "markdown",
   "id": "e634a5dd",
   "metadata": {},
   "source": [
    "https://leetcode.com/problems/transform-to-chessboard"
   ]
  },
  {
   "cell_type": "code",
   "execution_count": null,
   "id": "250f7f04",
   "metadata": {},
   "outputs": [],
   "source": [
    "import pyutil as pyu\n",
    "pyu.get_local_pyinfo()"
   ]
  },
  {
   "cell_type": "code",
   "execution_count": null,
   "id": "b7a585f2",
   "metadata": {},
   "outputs": [],
   "source": [
    "print(pyu.ps2(\"python-dotenv\"))"
   ]
  },
  {
   "cell_type": "code",
   "execution_count": null,
   "id": "e7819db3",
   "metadata": {},
   "outputs": [],
   "source": [
    "from typing import List"
   ]
  },
  {
   "cell_type": "code",
   "execution_count": null,
   "id": "3eb7ed52",
   "metadata": {},
   "outputs": [],
   "source": [
    "class Solution:\n",
    "  def movesToChessboard(self, board: List[List[int]]) -> int:\n",
    "    n = len(board)\n",
    "\n",
    "    if any(board[0][0] ^ board[i][0] ^ board[0][j] ^ board[i][j] for i in range(n) for j in range(n)):\n",
    "      return -1\n",
    "\n",
    "    rowSum = sum(board[0])\n",
    "    colSum = sum(board[i][0] for i in range(n))\n",
    "\n",
    "    if rowSum != n // 2 and rowSum != (n + 1) // 2:\n",
    "      return -1\n",
    "    if colSum != n // 2 and colSum != (n + 1) // 2:\n",
    "      return -1\n",
    "\n",
    "    rowSwaps = sum(board[i][0] == (i & 1) for i in range(n))\n",
    "    colSwaps = sum(board[0][i] == (i & 1) for i in range(n))\n",
    "\n",
    "    if n & 1:\n",
    "      if rowSwaps & 1:\n",
    "        rowSwaps = n - rowSwaps\n",
    "      if colSwaps & 1:\n",
    "        colSwaps = n - colSwaps\n",
    "    else:\n",
    "      rowSwaps = min(rowSwaps, n - rowSwaps)\n",
    "      colSwaps = min(colSwaps, n - colSwaps)\n",
    "\n",
    "    return (rowSwaps + colSwaps) // 2"
   ]
  },
  {
   "cell_type": "code",
   "execution_count": null,
   "id": "a803c07b",
   "metadata": {},
   "outputs": [],
   "source": [
    "new Solution().movesToChessboard()"
   ]
  }
 ],
 "metadata": {},
 "nbformat": 4,
 "nbformat_minor": 5
}

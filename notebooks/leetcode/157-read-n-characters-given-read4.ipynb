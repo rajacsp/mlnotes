{
 "cells": [
  {
   "cell_type": "markdown",
   "id": "b6098fee",
   "metadata": {},
   "source": [
    "https://leetcode.com/problems/read-n-characters-given-read4"
   ]
  },
  {
   "cell_type": "code",
   "execution_count": null,
   "id": "ce668894",
   "metadata": {},
   "outputs": [],
   "source": [
    "import pyutil as pyu\n",
    "pyu.get_local_pyinfo()"
   ]
  },
  {
   "cell_type": "code",
   "execution_count": null,
   "id": "7c4851e6",
   "metadata": {},
   "outputs": [],
   "source": [
    "print(pyu.ps2(\"python-dotenv\"))"
   ]
  },
  {
   "cell_type": "code",
   "execution_count": null,
   "id": "b037d5ee",
   "metadata": {},
   "outputs": [],
   "source": [
    "from typing import List"
   ]
  },
  {
   "cell_type": "code",
   "execution_count": null,
   "id": "b88ddc05",
   "metadata": {},
   "outputs": [],
   "source": [
    "\"\"\"\n",
    "The read4 API is already defined for you.\n",
    "    def read4(buf4: List[chr]) -> int:\n",
    "\n",
    "# Below is an example of how the read4 API can be called.\n",
    "file = File(\"abcdefghijk\") # File is \"abcdefghijk\", initially file pointer (fp) points to 'a'\n",
    "buf4 = [' '] * 4 # Create buffer with enough space to store characters\n",
    "read4(buf4) # Read4 returns 4. Now buf = ['a','b','c','d'], fp points to 'e'\n",
    "read4(buf4) # Read4 returns 4. Now buf = ['e','f','g','h'], fp points to 'i'\n",
    "read4(buf4) # Read4 returns 3. Now buf = ['i','j','k',...], fp points to end of file\n",
    "\"\"\"\n",
    "\n",
    "\n",
    "class Solution:\n",
    "  def read(self, buf: List[str], n: int) -> int:\n",
    "    buf4 = [' '] * 4\n",
    "    i4 = 0  # buf4's index\n",
    "    n4 = 0  # buf4's size\n",
    "    i = 0  # buf's index\n",
    "\n",
    "    while i < n:\n",
    "      if i4 == n4:  # All characters in buf4 are consumed\n",
    "        i4 = 0  # Reset buf4's index\n",
    "        n4 = read4(buf4)  # Read 4 (or less) chars from file to buf4\n",
    "        if n4 == 0:  # Reach the EOF\n",
    "          return i\n",
    "      buf[i] = buf4[i4]\n",
    "      i += 1\n",
    "      i4 += 1\n",
    "\n",
    "    return i"
   ]
  },
  {
   "cell_type": "code",
   "execution_count": null,
   "id": "54095189",
   "metadata": {},
   "outputs": [],
   "source": [
    "new Solution().read()"
   ]
  }
 ],
 "metadata": {},
 "nbformat": 4,
 "nbformat_minor": 5
}

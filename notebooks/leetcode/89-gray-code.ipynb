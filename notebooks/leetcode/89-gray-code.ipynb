{
 "cells": [
  {
   "cell_type": "markdown",
   "id": "650ceaef",
   "metadata": {},
   "source": [
    "https://leetcode.com/problems/gray-code"
   ]
  },
  {
   "cell_type": "code",
   "execution_count": null,
   "id": "790fd018",
   "metadata": {},
   "outputs": [],
   "source": [
    "import pyutil as pyu\n",
    "pyu.get_local_pyinfo()"
   ]
  },
  {
   "cell_type": "code",
   "execution_count": null,
   "id": "a3a6baab",
   "metadata": {},
   "outputs": [],
   "source": [
    "print(pyu.ps2(\"python-dotenv\"))"
   ]
  },
  {
   "cell_type": "code",
   "execution_count": null,
   "id": "11a959d1",
   "metadata": {},
   "outputs": [],
   "source": [
    "from typing import List"
   ]
  },
  {
   "cell_type": "code",
   "execution_count": null,
   "id": "4c6d1193",
   "metadata": {},
   "outputs": [],
   "source": [
    "class Solution:\n",
    "  def grayCode(self, n: int) -> List[int]:\n",
    "    ans = [0]\n",
    "\n",
    "    for i in range(n):\n",
    "      for j in reversed(range(len(ans))):\n",
    "        ans.append(ans[j] | 1 << i)\n",
    "\n",
    "    return ans"
   ]
  },
  {
   "cell_type": "code",
   "execution_count": null,
   "id": "25567e2d",
   "metadata": {},
   "outputs": [],
   "source": [
    "new Solution().grayCode()"
   ]
  }
 ],
 "metadata": {},
 "nbformat": 4,
 "nbformat_minor": 5
}

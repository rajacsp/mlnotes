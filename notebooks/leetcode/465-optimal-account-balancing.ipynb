{
 "cells": [
  {
   "cell_type": "markdown",
   "id": "ac444e16",
   "metadata": {},
   "source": [
    "https://leetcode.com/problems/optimal-account-balancing"
   ]
  },
  {
   "cell_type": "code",
   "execution_count": null,
   "id": "31661c8e",
   "metadata": {},
   "outputs": [],
   "source": [
    "import pyutil as pyu\n",
    "pyu.get_local_pyinfo()"
   ]
  },
  {
   "cell_type": "code",
   "execution_count": null,
   "id": "63f0f57a",
   "metadata": {},
   "outputs": [],
   "source": [
    "print(pyu.ps2(\"python-dotenv\"))"
   ]
  },
  {
   "cell_type": "code",
   "execution_count": null,
   "id": "faa278d6",
   "metadata": {},
   "outputs": [],
   "source": [
    "from typing import List"
   ]
  },
  {
   "cell_type": "code",
   "execution_count": null,
   "id": "a89a5fca",
   "metadata": {},
   "outputs": [],
   "source": [
    "class Solution:\n",
    "  def minTransfers(self, transactions: List[List[int]]) -> int:\n",
    "    balance = [0] * 21\n",
    "\n",
    "    for u, v, amount in transactions:\n",
    "      balance[u] -= amount\n",
    "      balance[v] += amount\n",
    "\n",
    "    debt = [b for b in balance if b]\n",
    "\n",
    "    def dfs(s: int) -> int:\n",
    "      while s < len(debt) and not debt[s]:\n",
    "        s += 1\n",
    "      if s == len(debt):\n",
    "        return 0\n",
    "\n",
    "      ans = math.inf\n",
    "\n",
    "      for i in range(s + 1, len(debt)):\n",
    "        if debt[i] * debt[s] < 0:\n",
    "          debt[i] += debt[s]  # debt[s] is settled\n",
    "          ans = min(ans, 1 + dfs(s + 1))\n",
    "          debt[i] -= debt[s]  # Backtrack\n",
    "\n",
    "      return ans\n",
    "\n",
    "    return dfs(0)"
   ]
  },
  {
   "cell_type": "code",
   "execution_count": null,
   "id": "55ec3b25",
   "metadata": {},
   "outputs": [],
   "source": [
    "new Solution().minTransfers()"
   ]
  }
 ],
 "metadata": {},
 "nbformat": 4,
 "nbformat_minor": 5
}

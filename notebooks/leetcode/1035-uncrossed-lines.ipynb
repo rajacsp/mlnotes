{
 "cells": [
  {
   "cell_type": "markdown",
   "id": "5ca46c6c",
   "metadata": {},
   "source": [
    "https://leetcode.com/problems/uncrossed-lines"
   ]
  },
  {
   "cell_type": "code",
   "execution_count": null,
   "id": "826a8eca",
   "metadata": {},
   "outputs": [],
   "source": [
    "import pyutil as pyu\n",
    "pyu.get_local_pyinfo()"
   ]
  },
  {
   "cell_type": "code",
   "execution_count": null,
   "id": "429f4197",
   "metadata": {},
   "outputs": [],
   "source": [
    "print(pyu.ps2(\"python-dotenv\"))"
   ]
  },
  {
   "cell_type": "code",
   "execution_count": null,
   "id": "ab082907",
   "metadata": {},
   "outputs": [],
   "source": [
    "from typing import List"
   ]
  },
  {
   "cell_type": "code",
   "execution_count": null,
   "id": "605c10e6",
   "metadata": {},
   "outputs": [],
   "source": [
    "class Solution:\n",
    "  def maxUncrossedLines(self, A: List[int], B: List[int]) -> int:\n",
    "    m = len(A)\n",
    "    n = len(B)\n",
    "    dp = [[0] * (n + 1) for _ in range(m + 1)]\n",
    "\n",
    "    for i in range(1, m + 1):\n",
    "      for j in range(1, n + 1):\n",
    "        dp[i][j] = dp[i - 1][j - 1] + 1 if A[i - 1] == B[j - 1] \\\n",
    "            else max(dp[i - 1][j], dp[i][j - 1])\n",
    "\n",
    "    return dp[m][n]"
   ]
  },
  {
   "cell_type": "code",
   "execution_count": null,
   "id": "aac852cf",
   "metadata": {},
   "outputs": [],
   "source": [
    "new Solution().maxUncrossedLines()"
   ]
  }
 ],
 "metadata": {},
 "nbformat": 4,
 "nbformat_minor": 5
}

{
 "cells": [
  {
   "cell_type": "markdown",
   "id": "5525fe89",
   "metadata": {},
   "source": [
    "https://leetcode.com/problems/flower-planting-with-no-adjacent"
   ]
  },
  {
   "cell_type": "code",
   "execution_count": null,
   "id": "7adcd62c",
   "metadata": {},
   "outputs": [],
   "source": [
    "import pyutil as pyu\n",
    "pyu.get_local_pyinfo()"
   ]
  },
  {
   "cell_type": "code",
   "execution_count": null,
   "id": "615e2b95",
   "metadata": {},
   "outputs": [],
   "source": [
    "print(pyu.ps2(\"python-dotenv\"))"
   ]
  },
  {
   "cell_type": "code",
   "execution_count": null,
   "id": "98bc2062",
   "metadata": {},
   "outputs": [],
   "source": [
    "from typing import List"
   ]
  },
  {
   "cell_type": "code",
   "execution_count": null,
   "id": "7a3c6acb",
   "metadata": {},
   "outputs": [],
   "source": [
    "class Solution:\n",
    "  def gardenNoAdj(self, n: int, paths: List[List[int]]) -> List[int]:\n",
    "    ans = [0] * n  # ans[i] := 1, 2, 3, or 4\n",
    "    graph = [[] for _ in range(n)]\n",
    "\n",
    "    for a, b in paths:\n",
    "      u = a - 1\n",
    "      v = b - 1\n",
    "      graph[u].append(v)\n",
    "      graph[v].append(u)\n",
    "\n",
    "    for i in range(n):\n",
    "      used = [False] * 5\n",
    "      for v in graph[i]:\n",
    "        used[ans[v]] = True\n",
    "      for type in range(1, 5):\n",
    "        if not used[type]:\n",
    "          ans[i] = type\n",
    "          break\n",
    "\n",
    "    return ans"
   ]
  },
  {
   "cell_type": "code",
   "execution_count": null,
   "id": "993a8364",
   "metadata": {},
   "outputs": [],
   "source": [
    "new Solution().gardenNoAdj()"
   ]
  }
 ],
 "metadata": {},
 "nbformat": 4,
 "nbformat_minor": 5
}

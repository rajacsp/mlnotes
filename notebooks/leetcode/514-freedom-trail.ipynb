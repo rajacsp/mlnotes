{
 "cells": [
  {
   "cell_type": "markdown",
   "id": "342ac2e0",
   "metadata": {},
   "source": [
    "https://leetcode.com/problems/freedom-trail"
   ]
  },
  {
   "cell_type": "code",
   "execution_count": null,
   "id": "0db29f6a",
   "metadata": {},
   "outputs": [],
   "source": [
    "import pyutil as pyu\n",
    "pyu.get_local_pyinfo()"
   ]
  },
  {
   "cell_type": "code",
   "execution_count": null,
   "id": "e559e152",
   "metadata": {},
   "outputs": [],
   "source": [
    "print(pyu.ps2(\"python-dotenv\"))"
   ]
  },
  {
   "cell_type": "code",
   "execution_count": null,
   "id": "e3fb8e08",
   "metadata": {},
   "outputs": [],
   "source": [
    "from typing import List"
   ]
  },
  {
   "cell_type": "code",
   "execution_count": null,
   "id": "22a41d87",
   "metadata": {},
   "outputs": [],
   "source": [
    "class Solution:\n",
    "  def findRotateSteps(self, ring: str, key: str) -> int:\n",
    "    # Number of rotates of ring to match key[index:]\n",
    "    @functools.lru_cache(None)\n",
    "    def dfs(ring: str, index: int) -> int:\n",
    "      if index == len(key):\n",
    "        return 0\n",
    "\n",
    "      ans = math.inf\n",
    "\n",
    "      # For each ring[i] == key[index]\n",
    "      # We rotate the ring to match ring[i] w/ key[index]\n",
    "      # Then recursively match newRing w/ key[index + 1:]\n",
    "      for i, r in enumerate(ring):\n",
    "        if r == key[index]:\n",
    "          minRotates = min(i, len(ring) - i)\n",
    "          newRing = ring[i:] + ring[:i]\n",
    "          remainingRotates = dfs(newRing, index + 1)\n",
    "          ans = min(ans, minRotates + remainingRotates)\n",
    "\n",
    "      return ans\n",
    "\n",
    "    return dfs(ring, 0) + len(key)"
   ]
  },
  {
   "cell_type": "code",
   "execution_count": null,
   "id": "bd123a38",
   "metadata": {},
   "outputs": [],
   "source": [
    "new Solution().findRotateSteps()"
   ]
  }
 ],
 "metadata": {},
 "nbformat": 4,
 "nbformat_minor": 5
}

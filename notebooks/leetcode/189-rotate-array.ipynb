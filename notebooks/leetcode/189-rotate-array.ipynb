{
 "cells": [
  {
   "cell_type": "markdown",
   "id": "94d1595e",
   "metadata": {},
   "source": [
    "https://leetcode.com/problems/rotate-array"
   ]
  },
  {
   "cell_type": "code",
   "execution_count": null,
   "id": "e3b12efc",
   "metadata": {},
   "outputs": [],
   "source": [
    "import pyutil as pyu\n",
    "pyu.get_local_pyinfo()"
   ]
  },
  {
   "cell_type": "code",
   "execution_count": null,
   "id": "9312c62d",
   "metadata": {},
   "outputs": [],
   "source": [
    "print(pyu.ps2(\"python-dotenv\"))"
   ]
  },
  {
   "cell_type": "code",
   "execution_count": null,
   "id": "06b66921",
   "metadata": {},
   "outputs": [],
   "source": [
    "from typing import List"
   ]
  },
  {
   "cell_type": "code",
   "execution_count": null,
   "id": "7506040e",
   "metadata": {},
   "outputs": [],
   "source": [
    "class Solution:\n",
    "  def rotate(self, nums: List[int], k: int) -> None:\n",
    "    k %= len(nums)\n",
    "    self.reverse(nums, 0, len(nums) - 1)\n",
    "    self.reverse(nums, 0, k - 1)\n",
    "    self.reverse(nums, k, len(nums) - 1)\n",
    "\n",
    "  def reverse(self, nums: List[int], l: int, r: int) -> None:\n",
    "    while l < r:\n",
    "      nums[l], nums[r] = nums[r], nums[l]\n",
    "      l += 1\n",
    "      r -= 1"
   ]
  },
  {
   "cell_type": "code",
   "execution_count": null,
   "id": "985ac188",
   "metadata": {},
   "outputs": [],
   "source": [
    "new Solution().rotate()"
   ]
  }
 ],
 "metadata": {},
 "nbformat": 4,
 "nbformat_minor": 5
}

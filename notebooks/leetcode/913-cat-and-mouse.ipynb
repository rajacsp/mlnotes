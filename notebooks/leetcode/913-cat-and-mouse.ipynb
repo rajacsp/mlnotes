{
 "cells": [
  {
   "cell_type": "markdown",
   "id": "4b21e386",
   "metadata": {},
   "source": [
    "https://leetcode.com/problems/cat-and-mouse"
   ]
  },
  {
   "cell_type": "code",
   "execution_count": null,
   "id": "77c7add7",
   "metadata": {},
   "outputs": [],
   "source": [
    "import pyutil as pyu\n",
    "pyu.get_local_pyinfo()"
   ]
  },
  {
   "cell_type": "code",
   "execution_count": null,
   "id": "3e8dbcdb",
   "metadata": {},
   "outputs": [],
   "source": [
    "print(pyu.ps2(\"python-dotenv\"))"
   ]
  },
  {
   "cell_type": "code",
   "execution_count": null,
   "id": "f8f7fef7",
   "metadata": {},
   "outputs": [],
   "source": [
    "from typing import List"
   ]
  },
  {
   "cell_type": "code",
   "execution_count": null,
   "id": "a5a286ac",
   "metadata": {},
   "outputs": [],
   "source": [
    "from enum import IntEnum\n",
    "\n",
    "\n",
    "class State(IntEnum):\n",
    "  kDraw = 0\n",
    "  kMouseWin = 1\n",
    "  kCatWin = 2\n",
    "\n",
    "\n",
    "class Solution:\n",
    "  def catMouseGame(self, graph: List[List[int]]) -> int:\n",
    "    n = len(graph)\n",
    "    # Result of (cat, mouse, move)\n",
    "    # Move := 0 (mouse) // 1 (cat)\n",
    "    states = [[[0] * 2 for i in range(n)] for j in range(n)]\n",
    "    outDegree = [[[0] * 2 for i in range(n)] for j in range(n)]\n",
    "    q = deque()  # (cat, mouse, move, state)\n",
    "\n",
    "    for cat in range(n):\n",
    "      for mouse in range(n):\n",
    "        outDegree[cat][mouse][0] = len(graph[mouse])\n",
    "        outDegree[cat][mouse][1] = len(graph[cat]) - graph[cat].count(0)\n",
    "\n",
    "    # Start from states that winner can be determined\n",
    "    for cat in range(1, n):\n",
    "      for move in range(2):\n",
    "        # Mouse is in the hole . kMouseWin\n",
    "        states[cat][0][move] = int(State.kMouseWin)\n",
    "        q.append((cat, 0, move, int(State.kMouseWin)))\n",
    "        # Cat catches mouse . kCatWin\n",
    "        states[cat][cat][move] = int(State.kCatWin)\n",
    "        q.append((cat, cat, move, int(State.kCatWin)))\n",
    "\n",
    "    while q:\n",
    "      cat, mouse, move, state = q.popleft()\n",
    "      if cat == 2 and mouse == 1 and move == 0:\n",
    "        return state\n",
    "      prevMove = move ^ 1\n",
    "      for prev in graph[cat if prevMove else mouse]:\n",
    "        prevCat = prev if prevMove else cat\n",
    "        if prevCat == 0:  # Invalid\n",
    "          continue\n",
    "        prevMouse = mouse if prevMove else prev\n",
    "        # The state is already determined\n",
    "        if states[prevCat][prevMouse][prevMove]:\n",
    "          continue\n",
    "        if prevMove == 0 and state == int(State.kMouseWin) or \\\n",
    "                prevMove == 1 and state == int(State.kCatWin):\n",
    "          states[prevCat][prevMouse][prevMove] = state\n",
    "          q.append((prevCat, prevMouse, prevMove, state))\n",
    "        else:\n",
    "          outDegree[prevCat][prevMouse][prevMove] -= 1\n",
    "          if outDegree[prevCat][prevMouse][prevMove] == 0:\n",
    "            states[prevCat][prevMouse][prevMove] = state\n",
    "            q.append((prevCat, prevMouse, prevMove, state))\n",
    "\n",
    "    return states[2][1][0]"
   ]
  },
  {
   "cell_type": "code",
   "execution_count": null,
   "id": "80908e12",
   "metadata": {},
   "outputs": [],
   "source": [
    "new Solution().catMouseGame()"
   ]
  }
 ],
 "metadata": {},
 "nbformat": 4,
 "nbformat_minor": 5
}

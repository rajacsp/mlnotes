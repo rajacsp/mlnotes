{
 "cells": [
  {
   "cell_type": "markdown",
   "id": "1fc237e5",
   "metadata": {},
   "source": [
    "https://leetcode.com/problems/best-meeting-point"
   ]
  },
  {
   "cell_type": "code",
   "execution_count": null,
   "id": "a5f6d721",
   "metadata": {},
   "outputs": [],
   "source": [
    "import pyutil as pyu\n",
    "pyu.get_local_pyinfo()"
   ]
  },
  {
   "cell_type": "code",
   "execution_count": null,
   "id": "800a4dd3",
   "metadata": {},
   "outputs": [],
   "source": [
    "print(pyu.ps2(\"python-dotenv\"))"
   ]
  },
  {
   "cell_type": "code",
   "execution_count": null,
   "id": "857f3f90",
   "metadata": {},
   "outputs": [],
   "source": [
    "from typing import List"
   ]
  },
  {
   "cell_type": "code",
   "execution_count": null,
   "id": "bb614f7c",
   "metadata": {},
   "outputs": [],
   "source": [
    "class Solution:\n",
    "  def minTotalDistance(self, grid: List[List[int]]) -> int:\n",
    "    m = len(grid)\n",
    "    n = len(grid[0])\n",
    "    # I indices s.t. grid[i][j] == 1\n",
    "    I = [i for i in range(m) for j in range(n) if grid[i][j]]\n",
    "    # J indices s.t. grid[i][j] == 1\n",
    "    J = [j for j in range(n) for i in range(m) if grid[i][j]]\n",
    "\n",
    "    def minTotalDistance(grid: List[int]) -> int:\n",
    "      summ = 0\n",
    "      i = 0\n",
    "      j = len(grid) - 1\n",
    "\n",
    "      while i < j:\n",
    "        summ += grid[j] - grid[i]\n",
    "        i += 1\n",
    "        j -= 1\n",
    "\n",
    "      return summ\n",
    "\n",
    "    # Sum(i - median(I)) + sum(j - median(J))\n",
    "    return minTotalDistance(I) + minTotalDistance(J)"
   ]
  },
  {
   "cell_type": "code",
   "execution_count": null,
   "id": "e87abab4",
   "metadata": {},
   "outputs": [],
   "source": [
    "new Solution().minTotalDistance()"
   ]
  }
 ],
 "metadata": {},
 "nbformat": 4,
 "nbformat_minor": 5
}

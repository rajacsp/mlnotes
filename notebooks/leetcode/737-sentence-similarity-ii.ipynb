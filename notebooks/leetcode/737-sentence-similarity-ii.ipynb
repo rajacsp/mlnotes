{
 "cells": [
  {
   "cell_type": "markdown",
   "id": "6e8f818d",
   "metadata": {},
   "source": [
    "https://leetcode.com/problems/sentence-similarity-ii"
   ]
  },
  {
   "cell_type": "code",
   "execution_count": null,
   "id": "082d3778",
   "metadata": {},
   "outputs": [],
   "source": [
    "import pyutil as pyu\n",
    "pyu.get_local_pyinfo()"
   ]
  },
  {
   "cell_type": "code",
   "execution_count": null,
   "id": "459dd853",
   "metadata": {},
   "outputs": [],
   "source": [
    "print(pyu.ps2(\"python-dotenv\"))"
   ]
  },
  {
   "cell_type": "code",
   "execution_count": null,
   "id": "5fccd593",
   "metadata": {},
   "outputs": [],
   "source": [
    "from typing import List"
   ]
  },
  {
   "cell_type": "code",
   "execution_count": null,
   "id": "cfb2109d",
   "metadata": {},
   "outputs": [],
   "source": [
    "class Solution:\n",
    "  def areSentencesSimilarTwo(self, words1: List[str], words2: List[str], pairs: List[List[str]]) -> bool:\n",
    "    if len(words1) != len(words2):\n",
    "      return False\n",
    "\n",
    "    # graph[key] := all similar words of key\n",
    "    graph = defaultdict(set)\n",
    "\n",
    "    for a, b in pairs:\n",
    "      graph[a].add(b)\n",
    "      graph[b].add(a)\n",
    "\n",
    "    def dfs(word1: str, word2: str, seen: set) -> bool:\n",
    "      if word1 in graph[word2]:\n",
    "        return True\n",
    "\n",
    "      seen.add(word1)\n",
    "\n",
    "      for child in graph[word1]:\n",
    "        if child in seen:\n",
    "          continue\n",
    "        if dfs(child, word2, seen):\n",
    "          return True\n",
    "\n",
    "      return False\n",
    "\n",
    "    for word1, word2 in zip(words1, words2):\n",
    "      if word1 == word2:\n",
    "        continue\n",
    "      if word1 not in graph:\n",
    "        return False\n",
    "      if not dfs(word1, word2, set()):\n",
    "        return False\n",
    "\n",
    "    return True"
   ]
  },
  {
   "cell_type": "code",
   "execution_count": null,
   "id": "b50a43fc",
   "metadata": {},
   "outputs": [],
   "source": [
    "new Solution().areSentencesSimilarTwo()"
   ]
  }
 ],
 "metadata": {},
 "nbformat": 4,
 "nbformat_minor": 5
}

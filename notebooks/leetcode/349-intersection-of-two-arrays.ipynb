{
 "cells": [
  {
   "cell_type": "markdown",
   "id": "eb220edc",
   "metadata": {},
   "source": [
    "https://leetcode.com/problems/intersection-of-two-arrays"
   ]
  },
  {
   "cell_type": "code",
   "execution_count": null,
   "id": "d7b05202",
   "metadata": {},
   "outputs": [],
   "source": [
    "import pyutil as pyu\n",
    "pyu.get_local_pyinfo()"
   ]
  },
  {
   "cell_type": "code",
   "execution_count": null,
   "id": "ab4c1903",
   "metadata": {},
   "outputs": [],
   "source": [
    "print(pyu.ps2(\"python-dotenv\"))"
   ]
  },
  {
   "cell_type": "code",
   "execution_count": null,
   "id": "4b23ac37",
   "metadata": {},
   "outputs": [],
   "source": [
    "from typing import List"
   ]
  },
  {
   "cell_type": "code",
   "execution_count": null,
   "id": "0a197984",
   "metadata": {},
   "outputs": [],
   "source": [
    "class Solution:\n",
    "  def intersection(self, nums1: List[int], nums2: List[int]) -> List[int]:\n",
    "    ans = []\n",
    "    nums1 = set(nums1)\n",
    "\n",
    "    for num in nums2:\n",
    "      if num in nums1:\n",
    "        ans.append(num)\n",
    "        nums1.remove(num)\n",
    "\n",
    "    return ans"
   ]
  },
  {
   "cell_type": "code",
   "execution_count": null,
   "id": "6e574224",
   "metadata": {},
   "outputs": [],
   "source": [
    "new Solution().intersection()"
   ]
  }
 ],
 "metadata": {},
 "nbformat": 4,
 "nbformat_minor": 5
}

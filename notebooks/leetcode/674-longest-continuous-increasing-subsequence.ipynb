{
 "cells": [
  {
   "cell_type": "markdown",
   "id": "47791fa7",
   "metadata": {},
   "source": [
    "https://leetcode.com/problems/longest-continuous-increasing-subsequence"
   ]
  },
  {
   "cell_type": "code",
   "execution_count": null,
   "id": "55e22404",
   "metadata": {},
   "outputs": [],
   "source": [
    "import pyutil as pyu\n",
    "pyu.get_local_pyinfo()"
   ]
  },
  {
   "cell_type": "code",
   "execution_count": null,
   "id": "584820c7",
   "metadata": {},
   "outputs": [],
   "source": [
    "print(pyu.ps2(\"python-dotenv\"))"
   ]
  },
  {
   "cell_type": "code",
   "execution_count": null,
   "id": "5cf1dea3",
   "metadata": {},
   "outputs": [],
   "source": [
    "from typing import List"
   ]
  },
  {
   "cell_type": "code",
   "execution_count": null,
   "id": "73013fff",
   "metadata": {},
   "outputs": [],
   "source": [
    "class Solution:\n",
    "  def findLengthOfLCIS(self, nums: List[int]) -> int:\n",
    "    ans = 0\n",
    "    j = 0\n",
    "\n",
    "    for i in range(len(nums)):\n",
    "      if i > 0 and nums[i] <= nums[i - 1]:\n",
    "        j = i\n",
    "      ans = max(ans, i - j + 1)\n",
    "\n",
    "    return ans"
   ]
  },
  {
   "cell_type": "code",
   "execution_count": null,
   "id": "c85e001f",
   "metadata": {},
   "outputs": [],
   "source": [
    "new Solution().findLengthOfLCIS()"
   ]
  }
 ],
 "metadata": {},
 "nbformat": 4,
 "nbformat_minor": 5
}

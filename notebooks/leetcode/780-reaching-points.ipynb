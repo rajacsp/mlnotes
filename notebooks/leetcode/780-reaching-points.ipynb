{
 "cells": [
  {
   "cell_type": "markdown",
   "id": "6cb846ed",
   "metadata": {},
   "source": [
    "https://leetcode.com/problems/reaching-points"
   ]
  },
  {
   "cell_type": "code",
   "execution_count": null,
   "id": "b76a3a28",
   "metadata": {},
   "outputs": [],
   "source": [
    "import pyutil as pyu\n",
    "pyu.get_local_pyinfo()"
   ]
  },
  {
   "cell_type": "code",
   "execution_count": null,
   "id": "3af47e33",
   "metadata": {},
   "outputs": [],
   "source": [
    "print(pyu.ps2(\"python-dotenv\"))"
   ]
  },
  {
   "cell_type": "code",
   "execution_count": null,
   "id": "31be74c3",
   "metadata": {},
   "outputs": [],
   "source": [
    "from typing import List"
   ]
  },
  {
   "cell_type": "code",
   "execution_count": null,
   "id": "b3198f00",
   "metadata": {},
   "outputs": [],
   "source": [
    "class Solution:\n",
    "  def reachingPoints(self, sx: int, sy: int, tx: int, ty: int) -> bool:\n",
    "    while sx < tx and sy < ty:\n",
    "      tx, ty = tx % ty, ty % tx\n",
    "\n",
    "    return sx == tx and sy <= ty and (ty - sy) % tx == 0 or \\\n",
    "        sy == ty and sx <= tx and (tx - sx) % ty == 0"
   ]
  },
  {
   "cell_type": "code",
   "execution_count": null,
   "id": "2da0d0ce",
   "metadata": {},
   "outputs": [],
   "source": [
    "new Solution().reachingPoints()"
   ]
  }
 ],
 "metadata": {},
 "nbformat": 4,
 "nbformat_minor": 5
}

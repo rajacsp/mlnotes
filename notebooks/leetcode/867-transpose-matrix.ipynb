{
 "cells": [
  {
   "cell_type": "markdown",
   "id": "538c86e4",
   "metadata": {},
   "source": [
    "https://leetcode.com/problems/transpose-matrix"
   ]
  },
  {
   "cell_type": "code",
   "execution_count": null,
   "id": "42442a5c",
   "metadata": {},
   "outputs": [],
   "source": [
    "import pyutil as pyu\n",
    "pyu.get_local_pyinfo()"
   ]
  },
  {
   "cell_type": "code",
   "execution_count": null,
   "id": "1d1ecc40",
   "metadata": {},
   "outputs": [],
   "source": [
    "print(pyu.ps2(\"python-dotenv\"))"
   ]
  },
  {
   "cell_type": "code",
   "execution_count": null,
   "id": "5b78a0aa",
   "metadata": {},
   "outputs": [],
   "source": [
    "from typing import List"
   ]
  },
  {
   "cell_type": "code",
   "execution_count": null,
   "id": "47712f63",
   "metadata": {},
   "outputs": [],
   "source": [
    "class Solution:\n",
    "  def transpose(self, A: List[List[int]]) -> List[List[int]]:\n",
    "    ans = [[0] * len(A) for _ in range(len(A[0]))]\n",
    "\n",
    "    for i in range(len(A)):\n",
    "      for j in range(len(A[0])):\n",
    "        ans[j][i] = A[i][j]\n",
    "\n",
    "    return ans"
   ]
  },
  {
   "cell_type": "code",
   "execution_count": null,
   "id": "f70ce8a9",
   "metadata": {},
   "outputs": [],
   "source": [
    "new Solution().transpose()"
   ]
  }
 ],
 "metadata": {},
 "nbformat": 4,
 "nbformat_minor": 5
}

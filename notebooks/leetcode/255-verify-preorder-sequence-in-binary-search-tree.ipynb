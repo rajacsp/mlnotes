{
 "cells": [
  {
   "cell_type": "markdown",
   "id": "4590b394",
   "metadata": {},
   "source": [
    "https://leetcode.com/problems/verify-preorder-sequence-in-binary-search-tree"
   ]
  },
  {
   "cell_type": "code",
   "execution_count": null,
   "id": "ef3e7175",
   "metadata": {},
   "outputs": [],
   "source": [
    "import pyutil as pyu\n",
    "pyu.get_local_pyinfo()"
   ]
  },
  {
   "cell_type": "code",
   "execution_count": null,
   "id": "047c2ca1",
   "metadata": {},
   "outputs": [],
   "source": [
    "print(pyu.ps2(\"python-dotenv\"))"
   ]
  },
  {
   "cell_type": "code",
   "execution_count": null,
   "id": "b5082e94",
   "metadata": {},
   "outputs": [],
   "source": [
    "from typing import List"
   ]
  },
  {
   "cell_type": "code",
   "execution_count": null,
   "id": "e67637e0",
   "metadata": {},
   "outputs": [],
   "source": [
    "class Solution:\n",
    "  def verifyPreorder(self, preorder: List[int]) -> bool:\n",
    "    i = 0\n",
    "\n",
    "    def dfs(min: int, max: int) -> None:\n",
    "      nonlocal i\n",
    "      if i == len(preorder):\n",
    "        return\n",
    "      if preorder[i] < min or preorder[i] > max:\n",
    "        return\n",
    "\n",
    "      val = preorder[i]\n",
    "      i += 1\n",
    "      dfs(min, val)\n",
    "      dfs(val, max)\n",
    "\n",
    "    dfs(-math.inf, math.inf)\n",
    "    return i == len(preorder)"
   ]
  },
  {
   "cell_type": "code",
   "execution_count": null,
   "id": "86611e8c",
   "metadata": {},
   "outputs": [],
   "source": [
    "new Solution().verifyPreorder()"
   ]
  }
 ],
 "metadata": {},
 "nbformat": 4,
 "nbformat_minor": 5
}

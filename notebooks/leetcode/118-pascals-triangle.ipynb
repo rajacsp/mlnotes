{
 "cells": [
  {
   "cell_type": "markdown",
   "id": "69bd5d37",
   "metadata": {},
   "source": [
    "https://leetcode.com/problems/pascals-triangle"
   ]
  },
  {
   "cell_type": "code",
   "execution_count": null,
   "id": "111ea493",
   "metadata": {},
   "outputs": [],
   "source": [
    "import pyutil as pyu\n",
    "pyu.get_local_pyinfo()"
   ]
  },
  {
   "cell_type": "code",
   "execution_count": null,
   "id": "4bfb426e",
   "metadata": {},
   "outputs": [],
   "source": [
    "print(pyu.ps2(\"python-dotenv\"))"
   ]
  },
  {
   "cell_type": "code",
   "execution_count": null,
   "id": "0b181a4a",
   "metadata": {},
   "outputs": [],
   "source": [
    "from typing import List"
   ]
  },
  {
   "cell_type": "code",
   "execution_count": null,
   "id": "3dabcda5",
   "metadata": {},
   "outputs": [],
   "source": [
    "class Solution:\n",
    "  def generate(self, numRows: int) -> List[List[int]]:\n",
    "    ans = []\n",
    "\n",
    "    for i in range(numRows):\n",
    "      ans.append([1] * (i + 1))\n",
    "\n",
    "    for i in range(2, numRows):\n",
    "      for j in range(1, len(ans[i]) - 1):\n",
    "        ans[i][j] = ans[i - 1][j - 1] + ans[i - 1][j]\n",
    "\n",
    "    return ans"
   ]
  },
  {
   "cell_type": "code",
   "execution_count": null,
   "id": "999a1676",
   "metadata": {},
   "outputs": [],
   "source": [
    "new Solution().generate()"
   ]
  }
 ],
 "metadata": {},
 "nbformat": 4,
 "nbformat_minor": 5
}

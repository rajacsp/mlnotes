{
 "cells": [
  {
   "cell_type": "markdown",
   "id": "b7349a76",
   "metadata": {},
   "source": [
    "https://leetcode.com/problems/super-pow"
   ]
  },
  {
   "cell_type": "code",
   "execution_count": null,
   "id": "b864469b",
   "metadata": {},
   "outputs": [],
   "source": [
    "import pyutil as pyu\n",
    "pyu.get_local_pyinfo()"
   ]
  },
  {
   "cell_type": "code",
   "execution_count": null,
   "id": "63103fed",
   "metadata": {},
   "outputs": [],
   "source": [
    "print(pyu.ps2(\"python-dotenv\"))"
   ]
  },
  {
   "cell_type": "code",
   "execution_count": null,
   "id": "db055918",
   "metadata": {},
   "outputs": [],
   "source": [
    "from typing import List"
   ]
  },
  {
   "cell_type": "code",
   "execution_count": null,
   "id": "877e305b",
   "metadata": {},
   "outputs": [],
   "source": [
    "class Solution:\n",
    "  def superPow(self, a: int, b: List[int]) -> int:\n",
    "    def powMod(x: int, y: int) -> int:\n",
    "      pow = 1\n",
    "      for _ in range(y):\n",
    "        pow = (pow * x) % k\n",
    "      return pow\n",
    "\n",
    "    k = 1337\n",
    "    ans = 1\n",
    "\n",
    "    for i in b:\n",
    "      ans = powMod(ans, 10) * powMod(a, i) % k\n",
    "\n",
    "    return ans"
   ]
  },
  {
   "cell_type": "code",
   "execution_count": null,
   "id": "5f126ee6",
   "metadata": {},
   "outputs": [],
   "source": [
    "new Solution().superPow()"
   ]
  }
 ],
 "metadata": {},
 "nbformat": 4,
 "nbformat_minor": 5
}

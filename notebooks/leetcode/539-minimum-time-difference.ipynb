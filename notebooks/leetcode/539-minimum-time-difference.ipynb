{
 "cells": [
  {
   "cell_type": "markdown",
   "id": "cec6281c",
   "metadata": {},
   "source": [
    "https://leetcode.com/problems/minimum-time-difference"
   ]
  },
  {
   "cell_type": "code",
   "execution_count": null,
   "id": "14f90c49",
   "metadata": {},
   "outputs": [],
   "source": [
    "import pyutil as pyu\n",
    "pyu.get_local_pyinfo()"
   ]
  },
  {
   "cell_type": "code",
   "execution_count": null,
   "id": "1ee9c7d2",
   "metadata": {},
   "outputs": [],
   "source": [
    "print(pyu.ps2(\"python-dotenv\"))"
   ]
  },
  {
   "cell_type": "code",
   "execution_count": null,
   "id": "62038745",
   "metadata": {},
   "outputs": [],
   "source": [
    "from typing import List"
   ]
  },
  {
   "cell_type": "code",
   "execution_count": null,
   "id": "d122740c",
   "metadata": {},
   "outputs": [],
   "source": [
    "class Solution:\n",
    "  def findMinDifference(self, timePoints: List[str]) -> int:\n",
    "    ans = 24 * 60\n",
    "    nums = sorted([int(timePoint[:2]) * 60 + int(timePoint[3:])\n",
    "                   for timePoint in timePoints])\n",
    "\n",
    "    for a, b in zip(nums, nums[1:]):\n",
    "      ans = min(ans, b - a)\n",
    "\n",
    "    return min(ans, 24 * 60 - nums[-1] + nums[0])"
   ]
  },
  {
   "cell_type": "code",
   "execution_count": null,
   "id": "96faeafb",
   "metadata": {},
   "outputs": [],
   "source": [
    "new Solution().findMinDifference()"
   ]
  }
 ],
 "metadata": {},
 "nbformat": 4,
 "nbformat_minor": 5
}

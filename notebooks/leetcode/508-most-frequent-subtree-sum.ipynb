{
 "cells": [
  {
   "cell_type": "markdown",
   "id": "b9530593",
   "metadata": {},
   "source": [
    "https://leetcode.com/problems/most-frequent-subtree-sum"
   ]
  },
  {
   "cell_type": "code",
   "execution_count": null,
   "id": "bd3e3123",
   "metadata": {},
   "outputs": [],
   "source": [
    "import pyutil as pyu\n",
    "pyu.get_local_pyinfo()"
   ]
  },
  {
   "cell_type": "code",
   "execution_count": null,
   "id": "fd450398",
   "metadata": {},
   "outputs": [],
   "source": [
    "print(pyu.ps2(\"python-dotenv\"))"
   ]
  },
  {
   "cell_type": "code",
   "execution_count": null,
   "id": "68d6f705",
   "metadata": {},
   "outputs": [],
   "source": [
    "from typing import List"
   ]
  },
  {
   "cell_type": "code",
   "execution_count": null,
   "id": "abaeb086",
   "metadata": {},
   "outputs": [],
   "source": [
    "class Solution:\n",
    "  def findFrequentTreeSum(self, root: Optional[TreeNode]) -> List[int]:\n",
    "    if not root:\n",
    "      return []\n",
    "\n",
    "    count = Counter()\n",
    "\n",
    "    def dfs(root: Optional[TreeNode]) -> int:\n",
    "      if not root:\n",
    "        return 0\n",
    "\n",
    "      summ = root.val + dfs(root.left) + dfs(root.right)\n",
    "      count[summ] += 1\n",
    "      return summ\n",
    "\n",
    "    dfs(root)\n",
    "    maxFreq = max(count.values())\n",
    "    return [summ for summ in count if count[summ] == maxFreq]"
   ]
  },
  {
   "cell_type": "code",
   "execution_count": null,
   "id": "c9a46315",
   "metadata": {},
   "outputs": [],
   "source": [
    "new Solution().findFrequentTreeSum()"
   ]
  }
 ],
 "metadata": {},
 "nbformat": 4,
 "nbformat_minor": 5
}

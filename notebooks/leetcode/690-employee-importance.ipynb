{
 "cells": [
  {
   "cell_type": "markdown",
   "id": "9bbb3f84",
   "metadata": {},
   "source": [
    "https://leetcode.com/problems/employee-importance"
   ]
  },
  {
   "cell_type": "code",
   "execution_count": null,
   "id": "0e70848c",
   "metadata": {},
   "outputs": [],
   "source": [
    "import pyutil as pyu\n",
    "pyu.get_local_pyinfo()"
   ]
  },
  {
   "cell_type": "code",
   "execution_count": null,
   "id": "84cc399a",
   "metadata": {},
   "outputs": [],
   "source": [
    "print(pyu.ps2(\"python-dotenv\"))"
   ]
  },
  {
   "cell_type": "code",
   "execution_count": null,
   "id": "ae123d1d",
   "metadata": {},
   "outputs": [],
   "source": [
    "from typing import List"
   ]
  },
  {
   "cell_type": "code",
   "execution_count": null,
   "id": "82a22c29",
   "metadata": {},
   "outputs": [],
   "source": [
    "class Solution:\n",
    "  def getImportance(self, employees: List['Employee'], id: int) -> int:\n",
    "    idToEmployee = {employee.id: employee for employee in employees}\n",
    "\n",
    "    def dfs(id: int) -> int:\n",
    "      values = idToEmployee[id].importance\n",
    "      for subId in idToEmployee[id].subordinates:\n",
    "        values += dfs(subId)\n",
    "      return values\n",
    "\n",
    "    return dfs(id)"
   ]
  },
  {
   "cell_type": "code",
   "execution_count": null,
   "id": "a062c6b8",
   "metadata": {},
   "outputs": [],
   "source": [
    "new Solution().getImportance()"
   ]
  }
 ],
 "metadata": {},
 "nbformat": 4,
 "nbformat_minor": 5
}

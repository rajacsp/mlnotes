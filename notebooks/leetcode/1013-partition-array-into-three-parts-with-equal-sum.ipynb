{
 "cells": [
  {
   "cell_type": "markdown",
   "id": "1715c592",
   "metadata": {},
   "source": [
    "https://leetcode.com/problems/partition-array-into-three-parts-with-equal-sum"
   ]
  },
  {
   "cell_type": "code",
   "execution_count": null,
   "id": "b269b187",
   "metadata": {},
   "outputs": [],
   "source": [
    "import pyutil as pyu\n",
    "pyu.get_local_pyinfo()"
   ]
  },
  {
   "cell_type": "code",
   "execution_count": null,
   "id": "2e97df00",
   "metadata": {},
   "outputs": [],
   "source": [
    "print(pyu.ps2(\"python-dotenv\"))"
   ]
  },
  {
   "cell_type": "code",
   "execution_count": null,
   "id": "532efb64",
   "metadata": {},
   "outputs": [],
   "source": [
    "from typing import List"
   ]
  },
  {
   "cell_type": "code",
   "execution_count": null,
   "id": "cc38720e",
   "metadata": {},
   "outputs": [],
   "source": [
    "class Solution:\n",
    "  def canThreePartsEqualSum(self, A: List[int]) -> bool:\n",
    "    summ = sum(A)\n",
    "    prefix = 0\n",
    "    parts = 1\n",
    "\n",
    "    for a in A:\n",
    "      prefix += a\n",
    "      if prefix == summ * parts // 3:\n",
    "        parts += 1\n",
    "\n",
    "    return summ % 3 == 0 and parts >= 3"
   ]
  },
  {
   "cell_type": "code",
   "execution_count": null,
   "id": "2c55935a",
   "metadata": {},
   "outputs": [],
   "source": [
    "new Solution().canThreePartsEqualSum()"
   ]
  }
 ],
 "metadata": {},
 "nbformat": 4,
 "nbformat_minor": 5
}

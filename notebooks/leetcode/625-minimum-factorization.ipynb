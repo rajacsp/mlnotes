{
 "cells": [
  {
   "cell_type": "markdown",
   "id": "f116b801",
   "metadata": {},
   "source": [
    "https://leetcode.com/problems/minimum-factorization"
   ]
  },
  {
   "cell_type": "code",
   "execution_count": null,
   "id": "60d46b13",
   "metadata": {},
   "outputs": [],
   "source": [
    "import pyutil as pyu\n",
    "pyu.get_local_pyinfo()"
   ]
  },
  {
   "cell_type": "code",
   "execution_count": null,
   "id": "3818492e",
   "metadata": {},
   "outputs": [],
   "source": [
    "print(pyu.ps2(\"python-dotenv\"))"
   ]
  },
  {
   "cell_type": "code",
   "execution_count": null,
   "id": "2819eea2",
   "metadata": {},
   "outputs": [],
   "source": [
    "from typing import List"
   ]
  },
  {
   "cell_type": "code",
   "execution_count": null,
   "id": "7320d4ca",
   "metadata": {},
   "outputs": [],
   "source": [
    "class Solution:\n",
    "  def smallestFactorization(self, num: int) -> int:\n",
    "    if num == 1:\n",
    "      return 1\n",
    "\n",
    "    ans = 0\n",
    "    base = 1\n",
    "\n",
    "    for i in range(9, 1, -1):\n",
    "      while num % i == 0:\n",
    "        num //= i\n",
    "        ans = base * i + ans\n",
    "        base *= 10\n",
    "\n",
    "    return ans if num == 1 and ans < 2**31 - 1 else 0"
   ]
  },
  {
   "cell_type": "code",
   "execution_count": null,
   "id": "d317e577",
   "metadata": {},
   "outputs": [],
   "source": [
    "new Solution().smallestFactorization()"
   ]
  }
 ],
 "metadata": {},
 "nbformat": 4,
 "nbformat_minor": 5
}

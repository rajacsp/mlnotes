{
 "cells": [
  {
   "cell_type": "markdown",
   "id": "fd259a18",
   "metadata": {},
   "source": [
    "https://leetcode.com/problems/binary-tree-maximum-path-sum"
   ]
  },
  {
   "cell_type": "code",
   "execution_count": null,
   "id": "894bd86a",
   "metadata": {},
   "outputs": [],
   "source": [
    "import pyutil as pyu\n",
    "pyu.get_local_pyinfo()"
   ]
  },
  {
   "cell_type": "code",
   "execution_count": null,
   "id": "e7cfbc5b",
   "metadata": {},
   "outputs": [],
   "source": [
    "print(pyu.ps2(\"python-dotenv\"))"
   ]
  },
  {
   "cell_type": "code",
   "execution_count": null,
   "id": "2a114924",
   "metadata": {},
   "outputs": [],
   "source": [
    "from typing import List"
   ]
  },
  {
   "cell_type": "code",
   "execution_count": null,
   "id": "af5217a7",
   "metadata": {},
   "outputs": [],
   "source": [
    "class Solution:\n",
    "  def maxPathSum(self, root: Optional[TreeNode]) -> int:\n",
    "    ans = -math.inf\n",
    "\n",
    "    def maxPathSumDownFrom(root: Optional[TreeNode]) -> int:\n",
    "      nonlocal ans\n",
    "      if not root:\n",
    "        return 0\n",
    "\n",
    "      l = max(0, maxPathSumDownFrom(root.left))\n",
    "      r = max(0, maxPathSumDownFrom(root.right))\n",
    "      ans = max(ans, root.val + l + r)\n",
    "      return root.val + max(l, r)\n",
    "\n",
    "    maxPathSumDownFrom(root)\n",
    "    return ans"
   ]
  },
  {
   "cell_type": "code",
   "execution_count": null,
   "id": "0842f1cb",
   "metadata": {},
   "outputs": [],
   "source": [
    "new Solution().maxPathSum()"
   ]
  }
 ],
 "metadata": {},
 "nbformat": 4,
 "nbformat_minor": 5
}

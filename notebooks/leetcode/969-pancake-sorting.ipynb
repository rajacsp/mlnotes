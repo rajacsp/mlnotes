{
 "cells": [
  {
   "cell_type": "markdown",
   "id": "154a2394",
   "metadata": {},
   "source": [
    "https://leetcode.com/problems/pancake-sorting"
   ]
  },
  {
   "cell_type": "code",
   "execution_count": null,
   "id": "5eaca984",
   "metadata": {},
   "outputs": [],
   "source": [
    "import pyutil as pyu\n",
    "pyu.get_local_pyinfo()"
   ]
  },
  {
   "cell_type": "code",
   "execution_count": null,
   "id": "8cacf848",
   "metadata": {},
   "outputs": [],
   "source": [
    "print(pyu.ps2(\"python-dotenv\"))"
   ]
  },
  {
   "cell_type": "code",
   "execution_count": null,
   "id": "bd1fe762",
   "metadata": {},
   "outputs": [],
   "source": [
    "from typing import List"
   ]
  },
  {
   "cell_type": "code",
   "execution_count": null,
   "id": "00687db9",
   "metadata": {},
   "outputs": [],
   "source": [
    "class Solution:\n",
    "  def pancakeSort(self, A: List[int]) -> List[int]:\n",
    "    ans = []\n",
    "\n",
    "    for target in range(len(A), 0, -1):\n",
    "      index = A.index(target)\n",
    "      A[:index + 1] = A[:index + 1][::-1]\n",
    "      A[:target] = A[:target][::-1]\n",
    "      ans.append(index + 1)\n",
    "      ans.append(target)\n",
    "\n",
    "    return ans"
   ]
  },
  {
   "cell_type": "code",
   "execution_count": null,
   "id": "3a6c6a88",
   "metadata": {},
   "outputs": [],
   "source": [
    "new Solution().pancakeSort()"
   ]
  }
 ],
 "metadata": {},
 "nbformat": 4,
 "nbformat_minor": 5
}

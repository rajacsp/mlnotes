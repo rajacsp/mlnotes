{
 "cells": [
  {
   "cell_type": "markdown",
   "id": "eb31889e",
   "metadata": {},
   "source": [
    "https://leetcode.com/problems/solve-the-equation"
   ]
  },
  {
   "cell_type": "code",
   "execution_count": null,
   "id": "2e1732d1",
   "metadata": {},
   "outputs": [],
   "source": [
    "import pyutil as pyu\n",
    "pyu.get_local_pyinfo()"
   ]
  },
  {
   "cell_type": "code",
   "execution_count": null,
   "id": "9792ca4d",
   "metadata": {},
   "outputs": [],
   "source": [
    "print(pyu.ps2(\"python-dotenv\"))"
   ]
  },
  {
   "cell_type": "code",
   "execution_count": null,
   "id": "127e6359",
   "metadata": {},
   "outputs": [],
   "source": [
    "from typing import List"
   ]
  },
  {
   "cell_type": "code",
   "execution_count": null,
   "id": "ad9c9b4e",
   "metadata": {},
   "outputs": [],
   "source": [
    "class Solution:\n",
    "  def solveEquation(self, equation: str) -> str:\n",
    "    def calculate(s: str) -> tuple:\n",
    "      coefficient = 0\n",
    "      constant = 0\n",
    "      num = 0\n",
    "      sign = 1\n",
    "\n",
    "      for i, c in enumerate(s):\n",
    "        if c.isdigit():\n",
    "          num = num * 10 + ord(c) - ord('0')\n",
    "        elif c in '+-':\n",
    "          constant += sign * num\n",
    "          sign = 1 if c == '+' else -1\n",
    "          num = 0\n",
    "        else:\n",
    "          if i > 0 and num == 0 and s[i - 1] == '0':\n",
    "            continue\n",
    "          coefficient += sign if num == 0 else sign * num\n",
    "          num = 0\n",
    "\n",
    "      return coefficient, constant + sign * num\n",
    "\n",
    "    lhsEquation, rhsEquation = equation.split('=')\n",
    "    lhsCoefficient, lhsConstant = calculate(lhsEquation)\n",
    "    rhsCoefficient, rhsConstant = calculate(rhsEquation)\n",
    "    coefficient = lhsCoefficient - rhsCoefficient\n",
    "    constant = rhsConstant - lhsConstant\n",
    "\n",
    "    if coefficient == 0 and constant == 0:\n",
    "      return \"Infinite solutions\"\n",
    "    if coefficient == 0 and constant != 0:\n",
    "      return \"No solution\"\n",
    "    return \"x=\" + str(constant // coefficient)"
   ]
  },
  {
   "cell_type": "code",
   "execution_count": null,
   "id": "9153c313",
   "metadata": {},
   "outputs": [],
   "source": [
    "new Solution().solveEquation()"
   ]
  }
 ],
 "metadata": {},
 "nbformat": 4,
 "nbformat_minor": 5
}

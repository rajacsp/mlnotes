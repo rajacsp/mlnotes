{
 "cells": [
  {
   "cell_type": "markdown",
   "id": "486ce49b",
   "metadata": {},
   "source": [
    "https://leetcode.com/problems/palindrome-linked-list"
   ]
  },
  {
   "cell_type": "code",
   "execution_count": null,
   "id": "2b3db296",
   "metadata": {},
   "outputs": [],
   "source": [
    "import pyutil as pyu\n",
    "pyu.get_local_pyinfo()"
   ]
  },
  {
   "cell_type": "code",
   "execution_count": null,
   "id": "61041d58",
   "metadata": {},
   "outputs": [],
   "source": [
    "print(pyu.ps2(\"python-dotenv\"))"
   ]
  },
  {
   "cell_type": "code",
   "execution_count": null,
   "id": "c3457811",
   "metadata": {},
   "outputs": [],
   "source": [
    "from typing import List"
   ]
  },
  {
   "cell_type": "code",
   "execution_count": null,
   "id": "a22d8535",
   "metadata": {},
   "outputs": [],
   "source": [
    "class Solution:\n",
    "  def isPalindrome(self, head: ListNode) -> bool:\n",
    "    def reverseList(head: ListNode) -> ListNode:\n",
    "      prev = None\n",
    "      curr = head\n",
    "\n",
    "      while curr:\n",
    "        next = curr.next\n",
    "        curr.next = prev\n",
    "        prev = curr\n",
    "        curr = next\n",
    "\n",
    "      return prev\n",
    "\n",
    "    slow = head\n",
    "    fast = head\n",
    "\n",
    "    while fast and fast.next:\n",
    "      slow = slow.next\n",
    "      fast = fast.next.next\n",
    "\n",
    "    if fast:\n",
    "      slow = slow.next\n",
    "    slow = reverseList(slow)\n",
    "\n",
    "    while slow:\n",
    "      if slow.val != head.val:\n",
    "        return False\n",
    "      slow = slow.next\n",
    "      head = head.next\n",
    "\n",
    "    return True"
   ]
  },
  {
   "cell_type": "code",
   "execution_count": null,
   "id": "1914d97e",
   "metadata": {},
   "outputs": [],
   "source": [
    "new Solution().isPalindrome()"
   ]
  }
 ],
 "metadata": {},
 "nbformat": 4,
 "nbformat_minor": 5
}

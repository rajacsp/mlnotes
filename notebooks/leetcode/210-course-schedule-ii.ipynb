{
 "cells": [
  {
   "cell_type": "markdown",
   "id": "03b19ec9",
   "metadata": {},
   "source": [
    "https://leetcode.com/problems/course-schedule-ii"
   ]
  },
  {
   "cell_type": "code",
   "execution_count": null,
   "id": "f70eef01",
   "metadata": {},
   "outputs": [],
   "source": [
    "import pyutil as pyu\n",
    "pyu.get_local_pyinfo()"
   ]
  },
  {
   "cell_type": "code",
   "execution_count": null,
   "id": "5c889588",
   "metadata": {},
   "outputs": [],
   "source": [
    "print(pyu.ps2(\"python-dotenv\"))"
   ]
  },
  {
   "cell_type": "code",
   "execution_count": null,
   "id": "89d2e92a",
   "metadata": {},
   "outputs": [],
   "source": [
    "from typing import List"
   ]
  },
  {
   "cell_type": "code",
   "execution_count": null,
   "id": "7fb0f4d9",
   "metadata": {},
   "outputs": [],
   "source": [
    "from enum import Enum\n",
    "\n",
    "\n",
    "class State(Enum):\n",
    "  kInit = 0\n",
    "  kVisiting = 1\n",
    "  kVisited = 2\n",
    "\n",
    "\n",
    "class Solution:\n",
    "  def findOrder(self, numCourses: int, prerequisites: List[List[int]]) -> List[int]:\n",
    "    ans = []\n",
    "    graph = [[] for _ in range(numCourses)]\n",
    "    state = [State.kInit] * numCourses\n",
    "\n",
    "    for v, u in prerequisites:\n",
    "      graph[u].append(v)\n",
    "\n",
    "    def hasCycle(u: int) -> bool:\n",
    "      if state[u] == State.kVisiting:\n",
    "        return True\n",
    "      if state[u] == State.kVisited:\n",
    "        return False\n",
    "\n",
    "      state[u] = State.kVisiting\n",
    "      if any(hasCycle(v) for v in graph[u]):\n",
    "        return True\n",
    "      state[u] = State.kVisited\n",
    "      ans.append(u)\n",
    "\n",
    "      return False\n",
    "\n",
    "    if any(hasCycle(i) for i in range(numCourses)):\n",
    "      return []\n",
    "\n",
    "    return ans[::-1]"
   ]
  },
  {
   "cell_type": "code",
   "execution_count": null,
   "id": "23504c5f",
   "metadata": {},
   "outputs": [],
   "source": [
    "new Solution().findOrder()"
   ]
  }
 ],
 "metadata": {},
 "nbformat": 4,
 "nbformat_minor": 5
}

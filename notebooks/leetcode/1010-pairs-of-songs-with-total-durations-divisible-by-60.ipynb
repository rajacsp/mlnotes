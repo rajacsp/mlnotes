{
 "cells": [
  {
   "cell_type": "markdown",
   "id": "7f016485",
   "metadata": {},
   "source": [
    "https://leetcode.com/problems/pairs-of-songs-with-total-durations-divisible-by-60"
   ]
  },
  {
   "cell_type": "code",
   "execution_count": null,
   "id": "26d631fa",
   "metadata": {},
   "outputs": [],
   "source": [
    "import pyutil as pyu\n",
    "pyu.get_local_pyinfo()"
   ]
  },
  {
   "cell_type": "code",
   "execution_count": null,
   "id": "7f875bb9",
   "metadata": {},
   "outputs": [],
   "source": [
    "print(pyu.ps2(\"python-dotenv\"))"
   ]
  },
  {
   "cell_type": "code",
   "execution_count": null,
   "id": "b38a17ce",
   "metadata": {},
   "outputs": [],
   "source": [
    "from typing import List"
   ]
  },
  {
   "cell_type": "code",
   "execution_count": null,
   "id": "dcc39737",
   "metadata": {},
   "outputs": [],
   "source": [
    "class Solution:\n",
    "  def numPairsDivisibleBy60(self, time: List[int]) -> int:\n",
    "    ans = 0\n",
    "    count = [0] * 60\n",
    "\n",
    "    for t in time:\n",
    "      t %= 60\n",
    "      ans += count[(60 - t) % 60]\n",
    "      count[t] += 1\n",
    "\n",
    "    return ans"
   ]
  },
  {
   "cell_type": "code",
   "execution_count": null,
   "id": "424336e1",
   "metadata": {},
   "outputs": [],
   "source": [
    "new Solution().numPairsDivisibleBy60()"
   ]
  }
 ],
 "metadata": {},
 "nbformat": 4,
 "nbformat_minor": 5
}

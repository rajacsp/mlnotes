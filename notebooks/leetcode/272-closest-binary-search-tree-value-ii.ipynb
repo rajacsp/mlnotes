{
 "cells": [
  {
   "cell_type": "markdown",
   "id": "b828e0a4",
   "metadata": {},
   "source": [
    "https://leetcode.com/problems/closest-binary-search-tree-value-ii"
   ]
  },
  {
   "cell_type": "code",
   "execution_count": null,
   "id": "4dd08b2e",
   "metadata": {},
   "outputs": [],
   "source": [
    "import pyutil as pyu\n",
    "pyu.get_local_pyinfo()"
   ]
  },
  {
   "cell_type": "code",
   "execution_count": null,
   "id": "1281d94b",
   "metadata": {},
   "outputs": [],
   "source": [
    "print(pyu.ps2(\"python-dotenv\"))"
   ]
  },
  {
   "cell_type": "code",
   "execution_count": null,
   "id": "b43774c5",
   "metadata": {},
   "outputs": [],
   "source": [
    "from typing import List"
   ]
  },
  {
   "cell_type": "code",
   "execution_count": null,
   "id": "9e6ec6af",
   "metadata": {},
   "outputs": [],
   "source": [
    "class Solution:\n",
    "  def closestKValues(self, root: Optional[TreeNode], target: float, k: int) -> List[int]:\n",
    "    q = deque()\n",
    "\n",
    "    def inorder(root: Optional[TreeNode]) -> None:\n",
    "      if not root:\n",
    "        return\n",
    "\n",
    "      inorder(root.left)\n",
    "      q.append(root.val)\n",
    "      inorder(root.right)\n",
    "\n",
    "    inorder(root)\n",
    "\n",
    "    while len(q) > k:\n",
    "      if abs(q[0] - target) > abs(q[-1] - target):\n",
    "        q.popleft()\n",
    "      else:\n",
    "        q.pop()\n",
    "\n",
    "    return list(q)"
   ]
  },
  {
   "cell_type": "code",
   "execution_count": null,
   "id": "68a8deb2",
   "metadata": {},
   "outputs": [],
   "source": [
    "new Solution().closestKValues()"
   ]
  }
 ],
 "metadata": {},
 "nbformat": 4,
 "nbformat_minor": 5
}

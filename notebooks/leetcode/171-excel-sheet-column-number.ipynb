{
 "cells": [
  {
   "cell_type": "markdown",
   "id": "e6856cdf",
   "metadata": {},
   "source": [
    "https://leetcode.com/problems/excel-sheet-column-number"
   ]
  },
  {
   "cell_type": "code",
   "execution_count": null,
   "id": "7843c8bc",
   "metadata": {},
   "outputs": [],
   "source": [
    "import pyutil as pyu\n",
    "pyu.get_local_pyinfo()"
   ]
  },
  {
   "cell_type": "code",
   "execution_count": null,
   "id": "5ac61a7d",
   "metadata": {},
   "outputs": [],
   "source": [
    "print(pyu.ps2(\"python-dotenv\"))"
   ]
  },
  {
   "cell_type": "code",
   "execution_count": null,
   "id": "dd3fb6d2",
   "metadata": {},
   "outputs": [],
   "source": [
    "from typing import List"
   ]
  },
  {
   "cell_type": "code",
   "execution_count": null,
   "id": "b0390675",
   "metadata": {},
   "outputs": [],
   "source": [
    "class Solution:\n",
    "  def titleToNumber(self, s: str) -> int:\n",
    "    ans = 0\n",
    "\n",
    "    for c in s:\n",
    "      ans = ans * 26 + ord(c) - ord('@')\n",
    "\n",
    "    return ans"
   ]
  },
  {
   "cell_type": "code",
   "execution_count": null,
   "id": "0ca7370f",
   "metadata": {},
   "outputs": [],
   "source": [
    "new Solution().titleToNumber()"
   ]
  }
 ],
 "metadata": {},
 "nbformat": 4,
 "nbformat_minor": 5
}

{
 "cells": [
  {
   "cell_type": "markdown",
   "id": "560496c2",
   "metadata": {},
   "source": [
    "https://leetcode.com/problems/reorder-list"
   ]
  },
  {
   "cell_type": "code",
   "execution_count": null,
   "id": "4798b81f",
   "metadata": {},
   "outputs": [],
   "source": [
    "import pyutil as pyu\n",
    "pyu.get_local_pyinfo()"
   ]
  },
  {
   "cell_type": "code",
   "execution_count": null,
   "id": "c25ca3fb",
   "metadata": {},
   "outputs": [],
   "source": [
    "print(pyu.ps2(\"python-dotenv\"))"
   ]
  },
  {
   "cell_type": "code",
   "execution_count": null,
   "id": "7c408c9a",
   "metadata": {},
   "outputs": [],
   "source": [
    "from typing import List"
   ]
  },
  {
   "cell_type": "code",
   "execution_count": null,
   "id": "c78eab4a",
   "metadata": {},
   "outputs": [],
   "source": [
    "class Solution:\n",
    "  def reorderList(self, head: ListNode) -> None:\n",
    "    def findMid(head: ListNode):\n",
    "      prev = None\n",
    "      slow = head\n",
    "      fast = head\n",
    "\n",
    "      while fast and fast.next:\n",
    "        prev = slow\n",
    "        slow = slow.next\n",
    "        fast = fast.next.next\n",
    "      prev.next = None\n",
    "\n",
    "      return slow\n",
    "\n",
    "    def reverse(head: ListNode) -> ListNode:\n",
    "      prev = None\n",
    "      curr = head\n",
    "\n",
    "      while curr:\n",
    "        next = curr.next\n",
    "        curr.next = prev\n",
    "        prev = curr\n",
    "        curr = next\n",
    "\n",
    "      return prev\n",
    "\n",
    "    def merge(l1: ListNode, l2: ListNode) -> None:\n",
    "      while l2:\n",
    "        next = l1.next\n",
    "        l1.next = l2\n",
    "        l1 = l2\n",
    "        l2 = next\n",
    "\n",
    "    if not head or not head.next:\n",
    "      return\n",
    "\n",
    "    mid = findMid(head)\n",
    "    reversed = reverse(mid)\n",
    "    merge(head, reversed)"
   ]
  },
  {
   "cell_type": "code",
   "execution_count": null,
   "id": "88dc0d53",
   "metadata": {},
   "outputs": [],
   "source": [
    "new Solution().reorderList()"
   ]
  }
 ],
 "metadata": {},
 "nbformat": 4,
 "nbformat_minor": 5
}

{
 "cells": [
  {
   "cell_type": "markdown",
   "id": "51592d00",
   "metadata": {},
   "source": [
    "https://leetcode.com/problems/minimum-falling-path-sum"
   ]
  },
  {
   "cell_type": "code",
   "execution_count": null,
   "id": "4ceb8217",
   "metadata": {},
   "outputs": [],
   "source": [
    "import pyutil as pyu\n",
    "pyu.get_local_pyinfo()"
   ]
  },
  {
   "cell_type": "code",
   "execution_count": null,
   "id": "0b29a290",
   "metadata": {},
   "outputs": [],
   "source": [
    "print(pyu.ps2(\"python-dotenv\"))"
   ]
  },
  {
   "cell_type": "code",
   "execution_count": null,
   "id": "b800011a",
   "metadata": {},
   "outputs": [],
   "source": [
    "from typing import List"
   ]
  },
  {
   "cell_type": "code",
   "execution_count": null,
   "id": "7a587f44",
   "metadata": {},
   "outputs": [],
   "source": [
    "class Solution:\n",
    "  def minFallingPathSum(self, A: List[List[int]]) -> int:\n",
    "    n = len(A)\n",
    "\n",
    "    for i in range(1, n):\n",
    "      for j in range(n):\n",
    "        mini = math.inf\n",
    "        for k in range(max(0, j - 1), min(n, j + 2)):\n",
    "          mini = min(mini, A[i - 1][k])\n",
    "        A[i][j] += mini\n",
    "\n",
    "    return min(A[-1])"
   ]
  },
  {
   "cell_type": "code",
   "execution_count": null,
   "id": "2ca48519",
   "metadata": {},
   "outputs": [],
   "source": [
    "new Solution().minFallingPathSum()"
   ]
  }
 ],
 "metadata": {},
 "nbformat": 4,
 "nbformat_minor": 5
}

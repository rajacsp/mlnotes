{
 "cells": [
  {
   "cell_type": "markdown",
   "id": "bfbaf596",
   "metadata": {},
   "source": [
    "https://leetcode.com/problems/ternary-expression-parser"
   ]
  },
  {
   "cell_type": "code",
   "execution_count": null,
   "id": "73869e0e",
   "metadata": {},
   "outputs": [],
   "source": [
    "import pyutil as pyu\n",
    "pyu.get_local_pyinfo()"
   ]
  },
  {
   "cell_type": "code",
   "execution_count": null,
   "id": "a8761ca4",
   "metadata": {},
   "outputs": [],
   "source": [
    "print(pyu.ps2(\"python-dotenv\"))"
   ]
  },
  {
   "cell_type": "code",
   "execution_count": null,
   "id": "c38fdae9",
   "metadata": {},
   "outputs": [],
   "source": [
    "from typing import List"
   ]
  },
  {
   "cell_type": "code",
   "execution_count": null,
   "id": "38711f77",
   "metadata": {},
   "outputs": [],
   "source": [
    "class Solution:\n",
    "  def parseTernary(self, expression: str) -> str:\n",
    "    c = expression[self.i]\n",
    "\n",
    "    if self.i + 1 == len(expression) or expression[self.i + 1] == ':':\n",
    "      self.i += 2\n",
    "      return str(c)\n",
    "\n",
    "    self.i += 2\n",
    "    first = self.parseTernary(expression)\n",
    "    second = self.parseTernary(expression)\n",
    "\n",
    "    return first if c == 'T' else second\n",
    "\n",
    "  i = 0"
   ]
  },
  {
   "cell_type": "code",
   "execution_count": null,
   "id": "cf32fba6",
   "metadata": {},
   "outputs": [],
   "source": [
    "new Solution().parseTernary()"
   ]
  }
 ],
 "metadata": {},
 "nbformat": 4,
 "nbformat_minor": 5
}

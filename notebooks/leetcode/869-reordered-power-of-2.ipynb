{
 "cells": [
  {
   "cell_type": "markdown",
   "id": "1965036c",
   "metadata": {},
   "source": [
    "https://leetcode.com/problems/reordered-power-of-2"
   ]
  },
  {
   "cell_type": "code",
   "execution_count": null,
   "id": "33eb41d0",
   "metadata": {},
   "outputs": [],
   "source": [
    "import pyutil as pyu\n",
    "pyu.get_local_pyinfo()"
   ]
  },
  {
   "cell_type": "code",
   "execution_count": null,
   "id": "922a4321",
   "metadata": {},
   "outputs": [],
   "source": [
    "print(pyu.ps2(\"python-dotenv\"))"
   ]
  },
  {
   "cell_type": "code",
   "execution_count": null,
   "id": "2dc3f1e7",
   "metadata": {},
   "outputs": [],
   "source": [
    "from typing import List"
   ]
  },
  {
   "cell_type": "code",
   "execution_count": null,
   "id": "b756f9be",
   "metadata": {},
   "outputs": [],
   "source": [
    "class Solution:\n",
    "  def reorderedPowerOf2(self, N: int) -> bool:\n",
    "    count = Counter(str(N))\n",
    "    return any(Counter(str(1 << i)) == count for i in range(30))"
   ]
  },
  {
   "cell_type": "code",
   "execution_count": null,
   "id": "f7a6cb64",
   "metadata": {},
   "outputs": [],
   "source": [
    "new Solution().reorderedPowerOf2()"
   ]
  }
 ],
 "metadata": {},
 "nbformat": 4,
 "nbformat_minor": 5
}

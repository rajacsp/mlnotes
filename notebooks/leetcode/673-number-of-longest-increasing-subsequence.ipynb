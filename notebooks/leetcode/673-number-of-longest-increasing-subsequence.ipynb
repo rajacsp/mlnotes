{
 "cells": [
  {
   "cell_type": "markdown",
   "id": "410d0696",
   "metadata": {},
   "source": [
    "https://leetcode.com/problems/number-of-longest-increasing-subsequence"
   ]
  },
  {
   "cell_type": "code",
   "execution_count": null,
   "id": "321433b7",
   "metadata": {},
   "outputs": [],
   "source": [
    "import pyutil as pyu\n",
    "pyu.get_local_pyinfo()"
   ]
  },
  {
   "cell_type": "code",
   "execution_count": null,
   "id": "f0536836",
   "metadata": {},
   "outputs": [],
   "source": [
    "print(pyu.ps2(\"python-dotenv\"))"
   ]
  },
  {
   "cell_type": "code",
   "execution_count": null,
   "id": "18dfc49b",
   "metadata": {},
   "outputs": [],
   "source": [
    "from typing import List"
   ]
  },
  {
   "cell_type": "code",
   "execution_count": null,
   "id": "9bfe5692",
   "metadata": {},
   "outputs": [],
   "source": [
    "class Solution:\n",
    "  def findNumberOfLIS(self, nums: List[int]) -> int:\n",
    "    ans = 0\n",
    "    maxLength = 0\n",
    "    length = [1] * len(nums)  # length[i] := LIS's length ending w/ nums[i]\n",
    "    count = [1] * len(nums)  # count[i] := # Of the LIS ending w/ nums[i]\n",
    "\n",
    "    # Calculate length and count arrays\n",
    "    for i, num in enumerate(nums):\n",
    "      for j in range(i):\n",
    "        if nums[j] < num:\n",
    "          if length[i] < length[j] + 1:\n",
    "            length[i] = length[j] + 1\n",
    "            count[i] = count[j]\n",
    "          elif length[i] == length[j] + 1:\n",
    "            count[i] += count[j]\n",
    "\n",
    "    # Get # Of LIS\n",
    "    for i, l in enumerate(length):\n",
    "      if l > maxLength:\n",
    "        maxLength = l\n",
    "        ans = count[i]\n",
    "      elif l == maxLength:\n",
    "        ans += count[i]\n",
    "\n",
    "    return ans"
   ]
  },
  {
   "cell_type": "code",
   "execution_count": null,
   "id": "26560eda",
   "metadata": {},
   "outputs": [],
   "source": [
    "new Solution().findNumberOfLIS()"
   ]
  }
 ],
 "metadata": {},
 "nbformat": 4,
 "nbformat_minor": 5
}

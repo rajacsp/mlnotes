{
 "cells": [
  {
   "cell_type": "markdown",
   "id": "e53b3b78",
   "metadata": {},
   "source": [
    "https://leetcode.com/problems/palindrome-partitioning-ii"
   ]
  },
  {
   "cell_type": "code",
   "execution_count": null,
   "id": "568a4861",
   "metadata": {},
   "outputs": [],
   "source": [
    "import pyutil as pyu\n",
    "pyu.get_local_pyinfo()"
   ]
  },
  {
   "cell_type": "code",
   "execution_count": null,
   "id": "77929a2c",
   "metadata": {},
   "outputs": [],
   "source": [
    "print(pyu.ps2(\"python-dotenv\"))"
   ]
  },
  {
   "cell_type": "code",
   "execution_count": null,
   "id": "0293aab8",
   "metadata": {},
   "outputs": [],
   "source": [
    "from typing import List"
   ]
  },
  {
   "cell_type": "code",
   "execution_count": null,
   "id": "d32d045e",
   "metadata": {},
   "outputs": [],
   "source": [
    "class Solution:\n",
    "  def minCut(self, s: str) -> int:\n",
    "    n = len(s)\n",
    "    cut = [0] * n\n",
    "    dp = [[False] * n for _ in range(n)]\n",
    "\n",
    "    for i in range(n):\n",
    "      mini = i\n",
    "      for j in range(i + 1):\n",
    "        if s[j] == s[i] and (j + 1 > i - 1 or dp[j + 1][i - 1]):\n",
    "          dp[j][i] = True\n",
    "          mini = 0 if j == 0 else min(mini, cut[j - 1] + 1)\n",
    "      cut[i] = mini\n",
    "\n",
    "    return cut[n - 1]"
   ]
  },
  {
   "cell_type": "code",
   "execution_count": null,
   "id": "96a7a23c",
   "metadata": {},
   "outputs": [],
   "source": [
    "new Solution().minCut()"
   ]
  }
 ],
 "metadata": {},
 "nbformat": 4,
 "nbformat_minor": 5
}

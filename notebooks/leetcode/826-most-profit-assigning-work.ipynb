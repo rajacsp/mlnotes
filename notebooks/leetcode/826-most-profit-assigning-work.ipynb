{
 "cells": [
  {
   "cell_type": "markdown",
   "id": "cac9e4b3",
   "metadata": {},
   "source": [
    "https://leetcode.com/problems/most-profit-assigning-work"
   ]
  },
  {
   "cell_type": "code",
   "execution_count": null,
   "id": "cc2c818a",
   "metadata": {},
   "outputs": [],
   "source": [
    "import pyutil as pyu\n",
    "pyu.get_local_pyinfo()"
   ]
  },
  {
   "cell_type": "code",
   "execution_count": null,
   "id": "d6cad400",
   "metadata": {},
   "outputs": [],
   "source": [
    "print(pyu.ps2(\"python-dotenv\"))"
   ]
  },
  {
   "cell_type": "code",
   "execution_count": null,
   "id": "ff70f1c2",
   "metadata": {},
   "outputs": [],
   "source": [
    "from typing import List"
   ]
  },
  {
   "cell_type": "code",
   "execution_count": null,
   "id": "7bcf7e04",
   "metadata": {},
   "outputs": [],
   "source": [
    "class Solution:\n",
    "  def maxProfitAssignment(self, difficulty: List[int], profit: List[int], worker: List[int]) -> int:\n",
    "    ans = 0\n",
    "    jobs = sorted(zip(difficulty, profit))\n",
    "    worker.sort(reverse=1)\n",
    "\n",
    "    i = 0\n",
    "    maxProfit = 0\n",
    "\n",
    "    for w in sorted(worker):\n",
    "      while i < len(jobs) and w >= jobs[i][0]:\n",
    "        maxProfit = max(maxProfit, jobs[i][1])\n",
    "        i += 1\n",
    "      ans += maxProfit\n",
    "\n",
    "    return ans"
   ]
  },
  {
   "cell_type": "code",
   "execution_count": null,
   "id": "3515c5ea",
   "metadata": {},
   "outputs": [],
   "source": [
    "new Solution().maxProfitAssignment()"
   ]
  }
 ],
 "metadata": {},
 "nbformat": 4,
 "nbformat_minor": 5
}

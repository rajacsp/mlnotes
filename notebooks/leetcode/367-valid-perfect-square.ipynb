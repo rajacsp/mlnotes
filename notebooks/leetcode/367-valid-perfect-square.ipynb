{
 "cells": [
  {
   "cell_type": "markdown",
   "id": "52bd7925",
   "metadata": {},
   "source": [
    "https://leetcode.com/problems/valid-perfect-square"
   ]
  },
  {
   "cell_type": "code",
   "execution_count": null,
   "id": "e8c02e32",
   "metadata": {},
   "outputs": [],
   "source": [
    "import pyutil as pyu\n",
    "pyu.get_local_pyinfo()"
   ]
  },
  {
   "cell_type": "code",
   "execution_count": null,
   "id": "664442ab",
   "metadata": {},
   "outputs": [],
   "source": [
    "print(pyu.ps2(\"python-dotenv\"))"
   ]
  },
  {
   "cell_type": "code",
   "execution_count": null,
   "id": "e3a2b9c3",
   "metadata": {},
   "outputs": [],
   "source": [
    "from typing import List"
   ]
  },
  {
   "cell_type": "code",
   "execution_count": null,
   "id": "5c6a1b7e",
   "metadata": {},
   "outputs": [],
   "source": [
    "class Solution:\n",
    "  def isPerfectSquare(self, num: int) -> bool:\n",
    "    l = 1\n",
    "    r = num\n",
    "\n",
    "    while l < r:\n",
    "      m = (l + r) // 2\n",
    "      if m >= num / m:\n",
    "        r = m\n",
    "      else:\n",
    "        l = m + 1\n",
    "\n",
    "    return l * l == num"
   ]
  },
  {
   "cell_type": "code",
   "execution_count": null,
   "id": "ddc761f1",
   "metadata": {},
   "outputs": [],
   "source": [
    "new Solution().isPerfectSquare()"
   ]
  }
 ],
 "metadata": {},
 "nbformat": 4,
 "nbformat_minor": 5
}

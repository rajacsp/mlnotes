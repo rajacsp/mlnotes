{
 "cells": [
  {
   "cell_type": "markdown",
   "id": "9612d2c6",
   "metadata": {},
   "source": [
    "https://leetcode.com/problems/flood-fill"
   ]
  },
  {
   "cell_type": "code",
   "execution_count": null,
   "id": "c4e6403a",
   "metadata": {},
   "outputs": [],
   "source": [
    "import pyutil as pyu\n",
    "pyu.get_local_pyinfo()"
   ]
  },
  {
   "cell_type": "code",
   "execution_count": null,
   "id": "b0e9fb68",
   "metadata": {},
   "outputs": [],
   "source": [
    "print(pyu.ps2(\"python-dotenv\"))"
   ]
  },
  {
   "cell_type": "code",
   "execution_count": null,
   "id": "9806ca27",
   "metadata": {},
   "outputs": [],
   "source": [
    "from typing import List"
   ]
  },
  {
   "cell_type": "code",
   "execution_count": null,
   "id": "34586c0b",
   "metadata": {},
   "outputs": [],
   "source": [
    "class Solution:\n",
    "  def floodFill(self, image: List[List[int]],\n",
    "                sr: int, sc: int, newColor: int) -> List[List[int]]:\n",
    "    startColor = image[sr][sc]\n",
    "    seen = set()\n",
    "\n",
    "    def dfs(i: int, j: int) -> None:\n",
    "      if i < 0 or i == len(image) or j < 0 or j == len(image[0]):\n",
    "        return\n",
    "      if image[i][j] != startColor or (i, j) in seen:\n",
    "        return\n",
    "\n",
    "      image[i][j] = newColor\n",
    "      seen.add((i, j))\n",
    "\n",
    "      dfs(i + 1, j)\n",
    "      dfs(i - 1, j)\n",
    "      dfs(i, j + 1)\n",
    "      dfs(i, j - 1)\n",
    "\n",
    "    dfs(sr, sc)\n",
    "    return image"
   ]
  },
  {
   "cell_type": "code",
   "execution_count": null,
   "id": "b41cd98d",
   "metadata": {},
   "outputs": [],
   "source": [
    "new Solution().floodFill()"
   ]
  }
 ],
 "metadata": {},
 "nbformat": 4,
 "nbformat_minor": 5
}

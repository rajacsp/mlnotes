{
 "cells": [
  {
   "cell_type": "markdown",
   "id": "15399157",
   "metadata": {},
   "source": [
    "https://leetcode.com/problems/sort-characters-by-frequency"
   ]
  },
  {
   "cell_type": "code",
   "execution_count": null,
   "id": "c4fe7d60",
   "metadata": {},
   "outputs": [],
   "source": [
    "import pyutil as pyu\n",
    "pyu.get_local_pyinfo()"
   ]
  },
  {
   "cell_type": "code",
   "execution_count": null,
   "id": "2e94d4ab",
   "metadata": {},
   "outputs": [],
   "source": [
    "print(pyu.ps2(\"python-dotenv\"))"
   ]
  },
  {
   "cell_type": "code",
   "execution_count": null,
   "id": "ebfebcc5",
   "metadata": {},
   "outputs": [],
   "source": [
    "from typing import List"
   ]
  },
  {
   "cell_type": "code",
   "execution_count": null,
   "id": "1234a02b",
   "metadata": {},
   "outputs": [],
   "source": [
    "class Solution:\n",
    "  def frequencySort(self, s: str) -> str:\n",
    "    ans = []\n",
    "    bucket = [[] for _ in range(len(s) + 1)]\n",
    "\n",
    "    for c, freq in Counter(s).items():\n",
    "      bucket[freq].append(c)\n",
    "\n",
    "    for freq in reversed(range(len(bucket))):\n",
    "      for c in bucket[freq]:\n",
    "        ans.append(c * freq)\n",
    "\n",
    "    return ''.join(ans)"
   ]
  },
  {
   "cell_type": "code",
   "execution_count": null,
   "id": "9bba620e",
   "metadata": {},
   "outputs": [],
   "source": [
    "new Solution().frequencySort()"
   ]
  }
 ],
 "metadata": {},
 "nbformat": 4,
 "nbformat_minor": 5
}

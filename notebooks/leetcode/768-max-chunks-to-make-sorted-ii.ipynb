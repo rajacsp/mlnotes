{
 "cells": [
  {
   "cell_type": "markdown",
   "id": "72b768d7",
   "metadata": {},
   "source": [
    "https://leetcode.com/problems/max-chunks-to-make-sorted-ii"
   ]
  },
  {
   "cell_type": "code",
   "execution_count": null,
   "id": "4a0c7e10",
   "metadata": {},
   "outputs": [],
   "source": [
    "import pyutil as pyu\n",
    "pyu.get_local_pyinfo()"
   ]
  },
  {
   "cell_type": "code",
   "execution_count": null,
   "id": "bc80f36a",
   "metadata": {},
   "outputs": [],
   "source": [
    "print(pyu.ps2(\"python-dotenv\"))"
   ]
  },
  {
   "cell_type": "code",
   "execution_count": null,
   "id": "64d12b6a",
   "metadata": {},
   "outputs": [],
   "source": [
    "from typing import List"
   ]
  },
  {
   "cell_type": "code",
   "execution_count": null,
   "id": "41e50b12",
   "metadata": {},
   "outputs": [],
   "source": [
    "class Solution:\n",
    "  def maxChunksToSorted(self, arr: List[int]) -> int:\n",
    "    n = len(arr)\n",
    "    ans = 0\n",
    "    maxi = -math.inf\n",
    "    mini = [arr[-1]] * n\n",
    "\n",
    "    for i in reversed(range(n - 1)):\n",
    "      mini[i] = min(mini[i + 1], arr[i])\n",
    "\n",
    "    for i in range(n - 1):\n",
    "      maxi = max(maxi, arr[i])\n",
    "      if maxi <= mini[i + 1]:\n",
    "        ans += 1\n",
    "\n",
    "    return ans + 1"
   ]
  },
  {
   "cell_type": "code",
   "execution_count": null,
   "id": "6596c2b5",
   "metadata": {},
   "outputs": [],
   "source": [
    "new Solution().maxChunksToSorted()"
   ]
  }
 ],
 "metadata": {},
 "nbformat": 4,
 "nbformat_minor": 5
}

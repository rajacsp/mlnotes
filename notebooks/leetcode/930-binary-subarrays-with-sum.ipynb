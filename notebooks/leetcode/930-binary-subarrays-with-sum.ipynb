{
 "cells": [
  {
   "cell_type": "markdown",
   "id": "d0cf51c1",
   "metadata": {},
   "source": [
    "https://leetcode.com/problems/binary-subarrays-with-sum"
   ]
  },
  {
   "cell_type": "code",
   "execution_count": null,
   "id": "70b53eea",
   "metadata": {},
   "outputs": [],
   "source": [
    "import pyutil as pyu\n",
    "pyu.get_local_pyinfo()"
   ]
  },
  {
   "cell_type": "code",
   "execution_count": null,
   "id": "127b922f",
   "metadata": {},
   "outputs": [],
   "source": [
    "print(pyu.ps2(\"python-dotenv\"))"
   ]
  },
  {
   "cell_type": "code",
   "execution_count": null,
   "id": "521fd1bb",
   "metadata": {},
   "outputs": [],
   "source": [
    "from typing import List"
   ]
  },
  {
   "cell_type": "code",
   "execution_count": null,
   "id": "9e2abfd1",
   "metadata": {},
   "outputs": [],
   "source": [
    "class Solution:\n",
    "  def numSubarraysWithSum(self, A: List[int], S: int) -> int:\n",
    "    ans = 0\n",
    "    prefix = 0\n",
    "    count = Counter({0: 1})\n",
    "\n",
    "    for a in A:\n",
    "      prefix += a\n",
    "      ans += count[prefix - S]\n",
    "      count[prefix] += 1\n",
    "\n",
    "    return ans"
   ]
  },
  {
   "cell_type": "code",
   "execution_count": null,
   "id": "47ee5c5f",
   "metadata": {},
   "outputs": [],
   "source": [
    "new Solution().numSubarraysWithSum()"
   ]
  }
 ],
 "metadata": {},
 "nbformat": 4,
 "nbformat_minor": 5
}

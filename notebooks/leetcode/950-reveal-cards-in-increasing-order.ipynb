{
 "cells": [
  {
   "cell_type": "markdown",
   "id": "eb1d54b1",
   "metadata": {},
   "source": [
    "https://leetcode.com/problems/reveal-cards-in-increasing-order"
   ]
  },
  {
   "cell_type": "code",
   "execution_count": null,
   "id": "8aa8fafa",
   "metadata": {},
   "outputs": [],
   "source": [
    "import pyutil as pyu\n",
    "pyu.get_local_pyinfo()"
   ]
  },
  {
   "cell_type": "code",
   "execution_count": null,
   "id": "6368b415",
   "metadata": {},
   "outputs": [],
   "source": [
    "print(pyu.ps2(\"python-dotenv\"))"
   ]
  },
  {
   "cell_type": "code",
   "execution_count": null,
   "id": "dca7cca8",
   "metadata": {},
   "outputs": [],
   "source": [
    "from typing import List"
   ]
  },
  {
   "cell_type": "code",
   "execution_count": null,
   "id": "43d78085",
   "metadata": {},
   "outputs": [],
   "source": [
    "class Solution:\n",
    "  def deckRevealedIncreasing(self, deck: List[int]) -> List[int]:\n",
    "    q = deque()\n",
    "\n",
    "    for card in reversed(sorted(deck)):\n",
    "      q.rotate()\n",
    "      q.appendleft(card)\n",
    "\n",
    "    return list(q)"
   ]
  },
  {
   "cell_type": "code",
   "execution_count": null,
   "id": "45efa27e",
   "metadata": {},
   "outputs": [],
   "source": [
    "new Solution().deckRevealedIncreasing()"
   ]
  }
 ],
 "metadata": {},
 "nbformat": 4,
 "nbformat_minor": 5
}

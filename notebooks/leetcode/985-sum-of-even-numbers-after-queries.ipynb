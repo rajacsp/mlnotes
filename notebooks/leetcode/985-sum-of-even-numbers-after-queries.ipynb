{
 "cells": [
  {
   "cell_type": "markdown",
   "id": "b60e8913",
   "metadata": {},
   "source": [
    "https://leetcode.com/problems/sum-of-even-numbers-after-queries"
   ]
  },
  {
   "cell_type": "code",
   "execution_count": null,
   "id": "c8a9d462",
   "metadata": {},
   "outputs": [],
   "source": [
    "import pyutil as pyu\n",
    "pyu.get_local_pyinfo()"
   ]
  },
  {
   "cell_type": "code",
   "execution_count": null,
   "id": "bf56fb54",
   "metadata": {},
   "outputs": [],
   "source": [
    "print(pyu.ps2(\"python-dotenv\"))"
   ]
  },
  {
   "cell_type": "code",
   "execution_count": null,
   "id": "0829fa45",
   "metadata": {},
   "outputs": [],
   "source": [
    "from typing import List"
   ]
  },
  {
   "cell_type": "code",
   "execution_count": null,
   "id": "0caf38ee",
   "metadata": {},
   "outputs": [],
   "source": [
    "class Solution:\n",
    "  def sumEvenAfterQueries(self, A: List[int], queries: List[List[int]]) -> List[int]:\n",
    "    ans = []\n",
    "    summ = sum(a for a in A if a % 2 == 0)\n",
    "\n",
    "    for q in queries:\n",
    "      if A[q[1]] % 2 == 0:\n",
    "        summ -= A[q[1]]\n",
    "      A[q[1]] += q[0]\n",
    "      if A[q[1]] % 2 == 0:\n",
    "        summ += A[q[1]]\n",
    "      ans.append(summ)\n",
    "\n",
    "    return ans"
   ]
  },
  {
   "cell_type": "code",
   "execution_count": null,
   "id": "584a3c4e",
   "metadata": {},
   "outputs": [],
   "source": [
    "new Solution().sumEvenAfterQueries()"
   ]
  }
 ],
 "metadata": {},
 "nbformat": 4,
 "nbformat_minor": 5
}

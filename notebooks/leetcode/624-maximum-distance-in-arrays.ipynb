{
 "cells": [
  {
   "cell_type": "markdown",
   "id": "81abc4db",
   "metadata": {},
   "source": [
    "https://leetcode.com/problems/maximum-distance-in-arrays"
   ]
  },
  {
   "cell_type": "code",
   "execution_count": null,
   "id": "6186b649",
   "metadata": {},
   "outputs": [],
   "source": [
    "import pyutil as pyu\n",
    "pyu.get_local_pyinfo()"
   ]
  },
  {
   "cell_type": "code",
   "execution_count": null,
   "id": "98617d92",
   "metadata": {},
   "outputs": [],
   "source": [
    "print(pyu.ps2(\"python-dotenv\"))"
   ]
  },
  {
   "cell_type": "code",
   "execution_count": null,
   "id": "7544285f",
   "metadata": {},
   "outputs": [],
   "source": [
    "from typing import List"
   ]
  },
  {
   "cell_type": "code",
   "execution_count": null,
   "id": "f06ef133",
   "metadata": {},
   "outputs": [],
   "source": [
    "class Solution:\n",
    "  def maxDistance(self, arrays: List[List[int]]) -> int:\n",
    "    ans = 0\n",
    "    mini = 10000\n",
    "    maxi = -10000\n",
    "\n",
    "    for A in arrays:\n",
    "      ans = max(ans, A[-1] - mini, maxi - A[0])\n",
    "      mini = min(mini, A[0])\n",
    "      maxi = max(maxi, A[-1])\n",
    "\n",
    "    return ans"
   ]
  },
  {
   "cell_type": "code",
   "execution_count": null,
   "id": "51a4d449",
   "metadata": {},
   "outputs": [],
   "source": [
    "new Solution().maxDistance()"
   ]
  }
 ],
 "metadata": {},
 "nbformat": 4,
 "nbformat_minor": 5
}

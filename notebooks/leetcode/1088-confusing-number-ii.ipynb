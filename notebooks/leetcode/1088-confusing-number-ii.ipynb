{
 "cells": [
  {
   "cell_type": "markdown",
   "id": "3509a7d8",
   "metadata": {},
   "source": [
    "https://leetcode.com/problems/confusing-number-ii"
   ]
  },
  {
   "cell_type": "code",
   "execution_count": null,
   "id": "243eab5a",
   "metadata": {},
   "outputs": [],
   "source": [
    "import pyutil as pyu\n",
    "pyu.get_local_pyinfo()"
   ]
  },
  {
   "cell_type": "code",
   "execution_count": null,
   "id": "4fc1111c",
   "metadata": {},
   "outputs": [],
   "source": [
    "print(pyu.ps2(\"python-dotenv\"))"
   ]
  },
  {
   "cell_type": "code",
   "execution_count": null,
   "id": "2a6e7273",
   "metadata": {},
   "outputs": [],
   "source": [
    "from typing import List"
   ]
  },
  {
   "cell_type": "code",
   "execution_count": null,
   "id": "7259311b",
   "metadata": {},
   "outputs": [],
   "source": [
    "class Solution:\n",
    "  def confusingNumberII(self, n: int) -> int:\n",
    "    digitToRotated = [(0, 0), (1, 1), (6, 9), (8, 8), (9, 6)]\n",
    "\n",
    "    def dfs(num: int, rotatedNum: int, unit: int) -> int:\n",
    "      ans = 0 if num == rotatedNum else 1\n",
    "      # Add one more digit\n",
    "      for digit, rotated in digitToRotated:\n",
    "        if digit == 0 and num == 0:\n",
    "          continue\n",
    "        nextNum = num * 10 + digit\n",
    "        if nextNum > n:\n",
    "          break\n",
    "        ans += dfs(nextNum, rotated * unit + rotatedNum, unit * 10)\n",
    "      return ans\n",
    "\n",
    "    return dfs(0, 0, 1)"
   ]
  },
  {
   "cell_type": "code",
   "execution_count": null,
   "id": "b53ba9b4",
   "metadata": {},
   "outputs": [],
   "source": [
    "new Solution().confusingNumberII()"
   ]
  }
 ],
 "metadata": {},
 "nbformat": 4,
 "nbformat_minor": 5
}

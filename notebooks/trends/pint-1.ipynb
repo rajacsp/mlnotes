{
 "cells": [
  {
   "cell_type": "code",
   "execution_count": 1,
   "id": "db25c914-1252-4bae-8dbe-3a20e361bd73",
   "metadata": {},
   "outputs": [],
   "source": [
    "# Created: 20250103"
   ]
  },
  {
   "cell_type": "code",
   "execution_count": null,
   "id": "ce5bfdce-9389-42a5-bef0-58c0e673c1ca",
   "metadata": {},
   "outputs": [],
   "source": [
    "# https://pypi.org/project/Pint/0.24.4/"
   ]
  },
  {
   "cell_type": "code",
   "execution_count": 5,
   "id": "72e70313-baa4-425d-b711-06f566586824",
   "metadata": {},
   "outputs": [],
   "source": [
    "# !pip install pint"
   ]
  },
  {
   "cell_type": "code",
   "execution_count": 6,
   "id": "0c10588e-e9e7-4b8c-b92b-91104a273df0",
   "metadata": {},
   "outputs": [
    {
     "data": {
      "text/plain": [
       "'conda env: ml312-2024; pyv: 3.12.7 | packaged by Anaconda, Inc. | (main, Oct  4 2024, 13:27:36) [GCC 11.2.0]'"
      ]
     },
     "execution_count": 6,
     "metadata": {},
     "output_type": "execute_result"
    }
   ],
   "source": [
    "import pyutil as pyu\n",
    "pyu.get_local_pyinfo()"
   ]
  },
  {
   "cell_type": "code",
   "execution_count": 7,
   "id": "c2ccb592-b983-4856-a241-5898cab06699",
   "metadata": {},
   "outputs": [
    {
     "name": "stdout",
     "output_type": "stream",
     "text": [
      "requests==2.32.3\n",
      "pint==0.24.4\n",
      "\n"
     ]
    }
   ],
   "source": [
    "print(pyu.ps2(\"requests pint\"))"
   ]
  },
  {
   "cell_type": "code",
   "execution_count": null,
   "id": "e290a4be-0793-4902-b10b-44429cb937f9",
   "metadata": {},
   "outputs": [],
   "source": []
  },
  {
   "cell_type": "code",
   "execution_count": 8,
   "id": "e638e705-d475-4095-81e2-6f60404aafc6",
   "metadata": {},
   "outputs": [],
   "source": [
    "import pint"
   ]
  },
  {
   "cell_type": "code",
   "execution_count": 9,
   "id": "5e328b6d-f09e-4f2f-880d-f984114a304d",
   "metadata": {},
   "outputs": [],
   "source": [
    "ureg = pint.UnitRegistry()"
   ]
  },
  {
   "cell_type": "code",
   "execution_count": 11,
   "id": "b053ac56-05a3-4d04-ab6f-e765aeb73c6c",
   "metadata": {},
   "outputs": [],
   "source": [
    "distance = 100 * ureg.meters"
   ]
  },
  {
   "cell_type": "code",
   "execution_count": 12,
   "id": "c33dbab6-7e04-46fb-86c8-d77faa88749c",
   "metadata": {},
   "outputs": [
    {
     "data": {
      "text/html": [
       "100 meter"
      ],
      "text/latex": [
       "$100\\ \\mathrm{meter}$"
      ],
      "text/plain": [
       "<Quantity(100, 'meter')>"
      ]
     },
     "execution_count": 12,
     "metadata": {},
     "output_type": "execute_result"
    }
   ],
   "source": [
    "distance"
   ]
  },
  {
   "cell_type": "code",
   "execution_count": 13,
   "id": "f4b5a100-7aaa-4184-82a2-7f59af173ca1",
   "metadata": {},
   "outputs": [],
   "source": [
    "time = 10 * ureg.seconds"
   ]
  },
  {
   "cell_type": "code",
   "execution_count": 14,
   "id": "1677e63c-d3bb-4815-ad8c-e538aebf3c89",
   "metadata": {},
   "outputs": [
    {
     "data": {
      "text/html": [
       "10 second"
      ],
      "text/latex": [
       "$10\\ \\mathrm{second}$"
      ],
      "text/plain": [
       "<Quantity(10, 'second')>"
      ]
     },
     "execution_count": 14,
     "metadata": {},
     "output_type": "execute_result"
    }
   ],
   "source": [
    "time"
   ]
  },
  {
   "cell_type": "code",
   "execution_count": 15,
   "id": "29f27ed1-03c6-4ee8-a18f-5010cbc104cd",
   "metadata": {},
   "outputs": [],
   "source": [
    "speed = distance / time"
   ]
  },
  {
   "cell_type": "code",
   "execution_count": 16,
   "id": "0a9d1a7c-8040-4c56-94af-193a8cd66491",
   "metadata": {},
   "outputs": [
    {
     "data": {
      "text/html": [
       "10.0 meter/second"
      ],
      "text/latex": [
       "$10.0\\ \\frac{\\mathrm{meter}}{\\mathrm{second}}$"
      ],
      "text/plain": [
       "<Quantity(10.0, 'meter / second')>"
      ]
     },
     "execution_count": 16,
     "metadata": {},
     "output_type": "execute_result"
    }
   ],
   "source": [
    "speed"
   ]
  },
  {
   "cell_type": "code",
   "execution_count": 17,
   "id": "4f86814e-ba97-4026-aecb-f7023575d1d9",
   "metadata": {},
   "outputs": [
    {
     "data": {
      "text/html": [
       "36.0 kilometer/hour"
      ],
      "text/latex": [
       "$36.0\\ \\frac{\\mathrm{kilometer}}{\\mathrm{hour}}$"
      ],
      "text/plain": [
       "<Quantity(36.0, 'kilometer / hour')>"
      ]
     },
     "execution_count": 17,
     "metadata": {},
     "output_type": "execute_result"
    }
   ],
   "source": [
    "speed.to(\"kilometer/hour\")"
   ]
  },
  {
   "cell_type": "code",
   "execution_count": null,
   "id": "f2af836e-0fd1-4267-ab0e-913e15f5426d",
   "metadata": {},
   "outputs": [],
   "source": []
  }
 ],
 "metadata": {
  "kernelspec": {
   "display_name": "Python 3 (ipykernel)",
   "language": "python",
   "name": "python3"
  },
  "language_info": {
   "codemirror_mode": {
    "name": "ipython",
    "version": 3
   },
   "file_extension": ".py",
   "mimetype": "text/x-python",
   "name": "python",
   "nbconvert_exporter": "python",
   "pygments_lexer": "ipython3",
   "version": "3.12.7"
  }
 },
 "nbformat": 4,
 "nbformat_minor": 5
}

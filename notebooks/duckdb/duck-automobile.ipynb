{
 "cells": [
  {
   "cell_type": "code",
   "execution_count": 1,
   "id": "ac074a98-65dc-4d8d-a8bb-4d2793135087",
   "metadata": {},
   "outputs": [],
   "source": [
    "# https://rajasgs.gitbook.io/pynotes/gcp#data-modeling\n",
    "# https://github.com/tactlabs/student-hiring-prediction-mle/tree/main/dataset"
   ]
  },
  {
   "cell_type": "code",
   "execution_count": 4,
   "id": "86684ef8-08b1-478f-9ae7-2d005d968941",
   "metadata": {},
   "outputs": [
    {
     "data": {
      "text/plain": [
       "'conda env: ml311; pyv: 3.11.10 (main, Oct  3 2024, 07:29:13) [GCC 11.2.0]'"
      ]
     },
     "execution_count": 4,
     "metadata": {},
     "output_type": "execute_result"
    }
   ],
   "source": [
    "import pyutil as pyu\n",
    "pyu.get_local_pyinfo()"
   ]
  },
  {
   "cell_type": "code",
   "execution_count": 5,
   "id": "6ae571b9-84f8-401c-8d24-14e2b566ad4f",
   "metadata": {},
   "outputs": [],
   "source": [
    "# !pip install duckdb"
   ]
  },
  {
   "cell_type": "code",
   "execution_count": 6,
   "id": "b5538c6d-7e03-44f6-bd15-e7500303ce61",
   "metadata": {},
   "outputs": [
    {
     "name": "stdout",
     "output_type": "stream",
     "text": [
      "Version: 1.1.3\n"
     ]
    }
   ],
   "source": [
    "!pip show duckdb | grep \"Version:\""
   ]
  },
  {
   "cell_type": "code",
   "execution_count": 7,
   "id": "84bd0c16-99ec-4e9d-bc8f-a628cb1a9028",
   "metadata": {},
   "outputs": [],
   "source": [
    "import duckdb"
   ]
  },
  {
   "cell_type": "code",
   "execution_count": 10,
   "id": "87b4a848-2d06-45e3-a98f-546ef6037ef0",
   "metadata": {},
   "outputs": [],
   "source": [
    "# Connect to DuckDB\n",
    "con = duckdb.connect()"
   ]
  },
  {
   "cell_type": "code",
   "execution_count": 11,
   "id": "966b7890-ab99-4463-9315-75683af020c6",
   "metadata": {},
   "outputs": [
    {
     "data": {
      "text/plain": [
       "<duckdb.duckdb.DuckDBPyConnection at 0x7f2df2f47770>"
      ]
     },
     "execution_count": 11,
     "metadata": {},
     "output_type": "execute_result"
    }
   ],
   "source": [
    "# Load CSV file\n",
    "con.execute(\"CREATE TABLE automobile AS SELECT * FROM '../dataset/automobile_data.csv'\")"
   ]
  },
  {
   "cell_type": "code",
   "execution_count": 13,
   "id": "f0e7f7eb-e37e-4a7d-a9a8-815f2ebf1004",
   "metadata": {},
   "outputs": [],
   "source": [
    "# Perform SQL query\n",
    "result = con.execute(\"SELECT * FROM automobile\").fetchall()"
   ]
  },
  {
   "cell_type": "code",
   "execution_count": 16,
   "id": "9051240d-b35d-4a48-9e91-2b7d52042f55",
   "metadata": {},
   "outputs": [],
   "source": [
    "# result"
   ]
  },
  {
   "cell_type": "code",
   "execution_count": 17,
   "id": "25f795ce-2cef-485c-86ae-3a5f8c437132",
   "metadata": {},
   "outputs": [],
   "source": [
    "# print(result)"
   ]
  },
  {
   "cell_type": "code",
   "execution_count": 40,
   "id": "4e76a27d-eb2e-483c-a060-a3ce6000a9de",
   "metadata": {},
   "outputs": [],
   "source": [
    "# type(result[0])"
   ]
  },
  {
   "cell_type": "code",
   "execution_count": 18,
   "id": "c7ced2bb-9608-4029-9872-ac03a357171f",
   "metadata": {},
   "outputs": [],
   "source": [
    "\n",
    "import pandas as pd\n",
    "from IPython.display import display\n",
    "\n",
    "def list2table(cdata, col_list = None):\n",
    "\n",
    "    first_row = cdata[0]\n",
    "    cols_count = len(first_row)\n",
    "\n",
    "    if not col_list:\n",
    "        col_list = []\n",
    "        for idx in range(cols_count):\n",
    "            col_list.append(f'col_{idx}')\n",
    "\n",
    "    # Convert the list of tuples to a DataFrame\n",
    "    df1 = pd.DataFrame(cdata, columns = col_list)\n",
    "    \n",
    "    # Set display options\n",
    "    pd.set_option('display.max_rows', 100)\n",
    "    pd.set_option('display.max_columns', 100)\n",
    "    \n",
    "    # Apply custom styling\n",
    "    styled_df = df1.style.set_properties(**{'text-align': 'center'})\n",
    "    \n",
    "    # Display the DataFrame\n",
    "    display(styled_df)"
   ]
  },
  {
   "cell_type": "code",
   "execution_count": 19,
   "id": "c5ae167c-aeae-4ab7-b877-c5da8a11d2fd",
   "metadata": {},
   "outputs": [],
   "source": [
    "def q(query, col_list = None):\n",
    "\n",
    "    result = con.execute(query).fetchall()\n",
    "    # print(result)\n",
    "\n",
    "    return list2table(result, col_list)"
   ]
  },
  {
   "cell_type": "code",
   "execution_count": 20,
   "id": "663f4222-762e-4b7b-b78f-17f3ff7d35ef",
   "metadata": {},
   "outputs": [
    {
     "data": {
      "text/html": [
       "<style type=\"text/css\">\n",
       "#T_6651d_row0_col0, #T_6651d_row0_col1, #T_6651d_row0_col2, #T_6651d_row0_col3, #T_6651d_row0_col4, #T_6651d_row0_col5, #T_6651d_row0_col6, #T_6651d_row0_col7, #T_6651d_row0_col8, #T_6651d_row0_col9, #T_6651d_row0_col10, #T_6651d_row0_col11, #T_6651d_row0_col12, #T_6651d_row0_col13, #T_6651d_row0_col14, #T_6651d_row0_col15, #T_6651d_row0_col16, #T_6651d_row0_col17, #T_6651d_row0_col18, #T_6651d_row0_col19, #T_6651d_row0_col20, #T_6651d_row0_col21, #T_6651d_row0_col22, #T_6651d_row0_col23, #T_6651d_row0_col24, #T_6651d_row0_col25, #T_6651d_row1_col0, #T_6651d_row1_col1, #T_6651d_row1_col2, #T_6651d_row1_col3, #T_6651d_row1_col4, #T_6651d_row1_col5, #T_6651d_row1_col6, #T_6651d_row1_col7, #T_6651d_row1_col8, #T_6651d_row1_col9, #T_6651d_row1_col10, #T_6651d_row1_col11, #T_6651d_row1_col12, #T_6651d_row1_col13, #T_6651d_row1_col14, #T_6651d_row1_col15, #T_6651d_row1_col16, #T_6651d_row1_col17, #T_6651d_row1_col18, #T_6651d_row1_col19, #T_6651d_row1_col20, #T_6651d_row1_col21, #T_6651d_row1_col22, #T_6651d_row1_col23, #T_6651d_row1_col24, #T_6651d_row1_col25 {\n",
       "  text-align: center;\n",
       "}\n",
       "</style>\n",
       "<table id=\"T_6651d\">\n",
       "  <thead>\n",
       "    <tr>\n",
       "      <th class=\"blank level0\" >&nbsp;</th>\n",
       "      <th id=\"T_6651d_level0_col0\" class=\"col_heading level0 col0\" >col_0</th>\n",
       "      <th id=\"T_6651d_level0_col1\" class=\"col_heading level0 col1\" >col_1</th>\n",
       "      <th id=\"T_6651d_level0_col2\" class=\"col_heading level0 col2\" >col_2</th>\n",
       "      <th id=\"T_6651d_level0_col3\" class=\"col_heading level0 col3\" >col_3</th>\n",
       "      <th id=\"T_6651d_level0_col4\" class=\"col_heading level0 col4\" >col_4</th>\n",
       "      <th id=\"T_6651d_level0_col5\" class=\"col_heading level0 col5\" >col_5</th>\n",
       "      <th id=\"T_6651d_level0_col6\" class=\"col_heading level0 col6\" >col_6</th>\n",
       "      <th id=\"T_6651d_level0_col7\" class=\"col_heading level0 col7\" >col_7</th>\n",
       "      <th id=\"T_6651d_level0_col8\" class=\"col_heading level0 col8\" >col_8</th>\n",
       "      <th id=\"T_6651d_level0_col9\" class=\"col_heading level0 col9\" >col_9</th>\n",
       "      <th id=\"T_6651d_level0_col10\" class=\"col_heading level0 col10\" >col_10</th>\n",
       "      <th id=\"T_6651d_level0_col11\" class=\"col_heading level0 col11\" >col_11</th>\n",
       "      <th id=\"T_6651d_level0_col12\" class=\"col_heading level0 col12\" >col_12</th>\n",
       "      <th id=\"T_6651d_level0_col13\" class=\"col_heading level0 col13\" >col_13</th>\n",
       "      <th id=\"T_6651d_level0_col14\" class=\"col_heading level0 col14\" >col_14</th>\n",
       "      <th id=\"T_6651d_level0_col15\" class=\"col_heading level0 col15\" >col_15</th>\n",
       "      <th id=\"T_6651d_level0_col16\" class=\"col_heading level0 col16\" >col_16</th>\n",
       "      <th id=\"T_6651d_level0_col17\" class=\"col_heading level0 col17\" >col_17</th>\n",
       "      <th id=\"T_6651d_level0_col18\" class=\"col_heading level0 col18\" >col_18</th>\n",
       "      <th id=\"T_6651d_level0_col19\" class=\"col_heading level0 col19\" >col_19</th>\n",
       "      <th id=\"T_6651d_level0_col20\" class=\"col_heading level0 col20\" >col_20</th>\n",
       "      <th id=\"T_6651d_level0_col21\" class=\"col_heading level0 col21\" >col_21</th>\n",
       "      <th id=\"T_6651d_level0_col22\" class=\"col_heading level0 col22\" >col_22</th>\n",
       "      <th id=\"T_6651d_level0_col23\" class=\"col_heading level0 col23\" >col_23</th>\n",
       "      <th id=\"T_6651d_level0_col24\" class=\"col_heading level0 col24\" >col_24</th>\n",
       "      <th id=\"T_6651d_level0_col25\" class=\"col_heading level0 col25\" >col_25</th>\n",
       "    </tr>\n",
       "  </thead>\n",
       "  <tbody>\n",
       "    <tr>\n",
       "      <th id=\"T_6651d_level0_row0\" class=\"row_heading level0 row0\" >0</th>\n",
       "      <td id=\"T_6651d_row0_col0\" class=\"data row0 col0\" >3</td>\n",
       "      <td id=\"T_6651d_row0_col1\" class=\"data row0 col1\" >?</td>\n",
       "      <td id=\"T_6651d_row0_col2\" class=\"data row0 col2\" >alfa-romero</td>\n",
       "      <td id=\"T_6651d_row0_col3\" class=\"data row0 col3\" >gas</td>\n",
       "      <td id=\"T_6651d_row0_col4\" class=\"data row0 col4\" >std</td>\n",
       "      <td id=\"T_6651d_row0_col5\" class=\"data row0 col5\" >two</td>\n",
       "      <td id=\"T_6651d_row0_col6\" class=\"data row0 col6\" >convertible</td>\n",
       "      <td id=\"T_6651d_row0_col7\" class=\"data row0 col7\" >rwd</td>\n",
       "      <td id=\"T_6651d_row0_col8\" class=\"data row0 col8\" >front</td>\n",
       "      <td id=\"T_6651d_row0_col9\" class=\"data row0 col9\" >88.600000</td>\n",
       "      <td id=\"T_6651d_row0_col10\" class=\"data row0 col10\" >168.800000</td>\n",
       "      <td id=\"T_6651d_row0_col11\" class=\"data row0 col11\" >64.100000</td>\n",
       "      <td id=\"T_6651d_row0_col12\" class=\"data row0 col12\" >48.800000</td>\n",
       "      <td id=\"T_6651d_row0_col13\" class=\"data row0 col13\" >2548</td>\n",
       "      <td id=\"T_6651d_row0_col14\" class=\"data row0 col14\" >dohc</td>\n",
       "      <td id=\"T_6651d_row0_col15\" class=\"data row0 col15\" >four</td>\n",
       "      <td id=\"T_6651d_row0_col16\" class=\"data row0 col16\" >130</td>\n",
       "      <td id=\"T_6651d_row0_col17\" class=\"data row0 col17\" >mpfi</td>\n",
       "      <td id=\"T_6651d_row0_col18\" class=\"data row0 col18\" >3.47</td>\n",
       "      <td id=\"T_6651d_row0_col19\" class=\"data row0 col19\" >2.68</td>\n",
       "      <td id=\"T_6651d_row0_col20\" class=\"data row0 col20\" >9.000000</td>\n",
       "      <td id=\"T_6651d_row0_col21\" class=\"data row0 col21\" >111</td>\n",
       "      <td id=\"T_6651d_row0_col22\" class=\"data row0 col22\" >5000</td>\n",
       "      <td id=\"T_6651d_row0_col23\" class=\"data row0 col23\" >21</td>\n",
       "      <td id=\"T_6651d_row0_col24\" class=\"data row0 col24\" >27</td>\n",
       "      <td id=\"T_6651d_row0_col25\" class=\"data row0 col25\" >13495</td>\n",
       "    </tr>\n",
       "    <tr>\n",
       "      <th id=\"T_6651d_level0_row1\" class=\"row_heading level0 row1\" >1</th>\n",
       "      <td id=\"T_6651d_row1_col0\" class=\"data row1 col0\" >3</td>\n",
       "      <td id=\"T_6651d_row1_col1\" class=\"data row1 col1\" >?</td>\n",
       "      <td id=\"T_6651d_row1_col2\" class=\"data row1 col2\" >alfa-romero</td>\n",
       "      <td id=\"T_6651d_row1_col3\" class=\"data row1 col3\" >gas</td>\n",
       "      <td id=\"T_6651d_row1_col4\" class=\"data row1 col4\" >std</td>\n",
       "      <td id=\"T_6651d_row1_col5\" class=\"data row1 col5\" >two</td>\n",
       "      <td id=\"T_6651d_row1_col6\" class=\"data row1 col6\" >convertible</td>\n",
       "      <td id=\"T_6651d_row1_col7\" class=\"data row1 col7\" >rwd</td>\n",
       "      <td id=\"T_6651d_row1_col8\" class=\"data row1 col8\" >front</td>\n",
       "      <td id=\"T_6651d_row1_col9\" class=\"data row1 col9\" >88.600000</td>\n",
       "      <td id=\"T_6651d_row1_col10\" class=\"data row1 col10\" >168.800000</td>\n",
       "      <td id=\"T_6651d_row1_col11\" class=\"data row1 col11\" >64.100000</td>\n",
       "      <td id=\"T_6651d_row1_col12\" class=\"data row1 col12\" >48.800000</td>\n",
       "      <td id=\"T_6651d_row1_col13\" class=\"data row1 col13\" >2548</td>\n",
       "      <td id=\"T_6651d_row1_col14\" class=\"data row1 col14\" >dohc</td>\n",
       "      <td id=\"T_6651d_row1_col15\" class=\"data row1 col15\" >four</td>\n",
       "      <td id=\"T_6651d_row1_col16\" class=\"data row1 col16\" >130</td>\n",
       "      <td id=\"T_6651d_row1_col17\" class=\"data row1 col17\" >mpfi</td>\n",
       "      <td id=\"T_6651d_row1_col18\" class=\"data row1 col18\" >3.47</td>\n",
       "      <td id=\"T_6651d_row1_col19\" class=\"data row1 col19\" >2.68</td>\n",
       "      <td id=\"T_6651d_row1_col20\" class=\"data row1 col20\" >9.000000</td>\n",
       "      <td id=\"T_6651d_row1_col21\" class=\"data row1 col21\" >111</td>\n",
       "      <td id=\"T_6651d_row1_col22\" class=\"data row1 col22\" >5000</td>\n",
       "      <td id=\"T_6651d_row1_col23\" class=\"data row1 col23\" >21</td>\n",
       "      <td id=\"T_6651d_row1_col24\" class=\"data row1 col24\" >27</td>\n",
       "      <td id=\"T_6651d_row1_col25\" class=\"data row1 col25\" >16500</td>\n",
       "    </tr>\n",
       "  </tbody>\n",
       "</table>\n"
      ],
      "text/plain": [
       "<pandas.io.formats.style.Styler at 0x7f2d88614ad0>"
      ]
     },
     "metadata": {},
     "output_type": "display_data"
    }
   ],
   "source": [
    "q(\"SELECT * FROM automobile limit 2\")"
   ]
  },
  {
   "cell_type": "code",
   "execution_count": null,
   "id": "f4f20754-e086-41f0-b0b7-d780720825a3",
   "metadata": {},
   "outputs": [],
   "source": []
  },
  {
   "cell_type": "code",
   "execution_count": null,
   "id": "44652709-159c-4cda-a833-1dff1495aac7",
   "metadata": {},
   "outputs": [],
   "source": []
  },
  {
   "cell_type": "code",
   "execution_count": null,
   "id": "c6efc27c-0d6e-4039-b399-ab22b1c36418",
   "metadata": {},
   "outputs": [],
   "source": []
  },
  {
   "cell_type": "code",
   "execution_count": 25,
   "id": "8a2c7c25-ba48-43c5-a5f7-9216300a6abb",
   "metadata": {},
   "outputs": [
    {
     "data": {
      "text/html": [
       "<style type=\"text/css\">\n",
       "#T_7568c_row0_col0, #T_7568c_row0_col1, #T_7568c_row0_col2, #T_7568c_row1_col0, #T_7568c_row1_col1, #T_7568c_row1_col2 {\n",
       "  text-align: center;\n",
       "}\n",
       "</style>\n",
       "<table id=\"T_7568c\">\n",
       "  <thead>\n",
       "    <tr>\n",
       "      <th class=\"blank level0\" >&nbsp;</th>\n",
       "      <th id=\"T_7568c_level0_col0\" class=\"col_heading level0 col0\" >col_0</th>\n",
       "      <th id=\"T_7568c_level0_col1\" class=\"col_heading level0 col1\" >col_1</th>\n",
       "      <th id=\"T_7568c_level0_col2\" class=\"col_heading level0 col2\" >col_2</th>\n",
       "    </tr>\n",
       "  </thead>\n",
       "  <tbody>\n",
       "    <tr>\n",
       "      <th id=\"T_7568c_level0_row0\" class=\"row_heading level0 row0\" >0</th>\n",
       "      <td id=\"T_7568c_row0_col0\" class=\"data row0 col0\" >audi</td>\n",
       "      <td id=\"T_7568c_row0_col1\" class=\"data row0 col1\" >two</td>\n",
       "      <td id=\"T_7568c_row0_col2\" class=\"data row0 col2\" >2</td>\n",
       "    </tr>\n",
       "    <tr>\n",
       "      <th id=\"T_7568c_level0_row1\" class=\"row_heading level0 row1\" >1</th>\n",
       "      <td id=\"T_7568c_row1_col0\" class=\"data row1 col0\" >chevrolet</td>\n",
       "      <td id=\"T_7568c_row1_col1\" class=\"data row1 col1\" >two</td>\n",
       "      <td id=\"T_7568c_row1_col2\" class=\"data row1 col2\" >2</td>\n",
       "    </tr>\n",
       "  </tbody>\n",
       "</table>\n"
      ],
      "text/plain": [
       "<pandas.io.formats.style.Styler at 0x7f2dda291bd0>"
      ]
     },
     "metadata": {},
     "output_type": "display_data"
    }
   ],
   "source": [
    "q(\"\"\"\n",
    "SELECT \n",
    "    make, \"num-of-doors\", COUNT(*) AS door_count \n",
    "FROM automobile \n",
    "\n",
    "WHERE \"num-of-doors\" IN ('two', 'four')\n",
    "GROUP BY \n",
    "    make,\n",
    "    \"num-of-doors\"\n",
    "LIMIT 2\n",
    "\"\"\")"
   ]
  },
  {
   "cell_type": "code",
   "execution_count": 32,
   "id": "34c4763e-c0cd-4563-991d-99efe9824c23",
   "metadata": {},
   "outputs": [
    {
     "data": {
      "text/html": [
       "<style type=\"text/css\">\n",
       "#T_32b9a_row0_col0, #T_32b9a_row0_col1, #T_32b9a_row0_col2, #T_32b9a_row0_col3, #T_32b9a_row0_col4, #T_32b9a_row0_col5, #T_32b9a_row0_col6, #T_32b9a_row0_col7, #T_32b9a_row0_col8, #T_32b9a_row0_col9, #T_32b9a_row0_col10, #T_32b9a_row0_col11, #T_32b9a_row0_col12, #T_32b9a_row0_col13, #T_32b9a_row0_col14, #T_32b9a_row0_col15, #T_32b9a_row0_col16, #T_32b9a_row0_col17, #T_32b9a_row0_col18, #T_32b9a_row0_col19, #T_32b9a_row0_col20, #T_32b9a_row0_col21, #T_32b9a_row0_col22, #T_32b9a_row0_col23, #T_32b9a_row0_col24, #T_32b9a_row0_col25, #T_32b9a_row1_col0, #T_32b9a_row1_col1, #T_32b9a_row1_col2, #T_32b9a_row1_col3, #T_32b9a_row1_col4, #T_32b9a_row1_col5, #T_32b9a_row1_col6, #T_32b9a_row1_col7, #T_32b9a_row1_col8, #T_32b9a_row1_col9, #T_32b9a_row1_col10, #T_32b9a_row1_col11, #T_32b9a_row1_col12, #T_32b9a_row1_col13, #T_32b9a_row1_col14, #T_32b9a_row1_col15, #T_32b9a_row1_col16, #T_32b9a_row1_col17, #T_32b9a_row1_col18, #T_32b9a_row1_col19, #T_32b9a_row1_col20, #T_32b9a_row1_col21, #T_32b9a_row1_col22, #T_32b9a_row1_col23, #T_32b9a_row1_col24, #T_32b9a_row1_col25 {\n",
       "  text-align: center;\n",
       "}\n",
       "</style>\n",
       "<table id=\"T_32b9a\">\n",
       "  <thead>\n",
       "    <tr>\n",
       "      <th class=\"blank level0\" >&nbsp;</th>\n",
       "      <th id=\"T_32b9a_level0_col0\" class=\"col_heading level0 col0\" >col_0</th>\n",
       "      <th id=\"T_32b9a_level0_col1\" class=\"col_heading level0 col1\" >col_1</th>\n",
       "      <th id=\"T_32b9a_level0_col2\" class=\"col_heading level0 col2\" >col_2</th>\n",
       "      <th id=\"T_32b9a_level0_col3\" class=\"col_heading level0 col3\" >col_3</th>\n",
       "      <th id=\"T_32b9a_level0_col4\" class=\"col_heading level0 col4\" >col_4</th>\n",
       "      <th id=\"T_32b9a_level0_col5\" class=\"col_heading level0 col5\" >col_5</th>\n",
       "      <th id=\"T_32b9a_level0_col6\" class=\"col_heading level0 col6\" >col_6</th>\n",
       "      <th id=\"T_32b9a_level0_col7\" class=\"col_heading level0 col7\" >col_7</th>\n",
       "      <th id=\"T_32b9a_level0_col8\" class=\"col_heading level0 col8\" >col_8</th>\n",
       "      <th id=\"T_32b9a_level0_col9\" class=\"col_heading level0 col9\" >col_9</th>\n",
       "      <th id=\"T_32b9a_level0_col10\" class=\"col_heading level0 col10\" >col_10</th>\n",
       "      <th id=\"T_32b9a_level0_col11\" class=\"col_heading level0 col11\" >col_11</th>\n",
       "      <th id=\"T_32b9a_level0_col12\" class=\"col_heading level0 col12\" >col_12</th>\n",
       "      <th id=\"T_32b9a_level0_col13\" class=\"col_heading level0 col13\" >col_13</th>\n",
       "      <th id=\"T_32b9a_level0_col14\" class=\"col_heading level0 col14\" >col_14</th>\n",
       "      <th id=\"T_32b9a_level0_col15\" class=\"col_heading level0 col15\" >col_15</th>\n",
       "      <th id=\"T_32b9a_level0_col16\" class=\"col_heading level0 col16\" >col_16</th>\n",
       "      <th id=\"T_32b9a_level0_col17\" class=\"col_heading level0 col17\" >col_17</th>\n",
       "      <th id=\"T_32b9a_level0_col18\" class=\"col_heading level0 col18\" >col_18</th>\n",
       "      <th id=\"T_32b9a_level0_col19\" class=\"col_heading level0 col19\" >col_19</th>\n",
       "      <th id=\"T_32b9a_level0_col20\" class=\"col_heading level0 col20\" >col_20</th>\n",
       "      <th id=\"T_32b9a_level0_col21\" class=\"col_heading level0 col21\" >col_21</th>\n",
       "      <th id=\"T_32b9a_level0_col22\" class=\"col_heading level0 col22\" >col_22</th>\n",
       "      <th id=\"T_32b9a_level0_col23\" class=\"col_heading level0 col23\" >col_23</th>\n",
       "      <th id=\"T_32b9a_level0_col24\" class=\"col_heading level0 col24\" >col_24</th>\n",
       "      <th id=\"T_32b9a_level0_col25\" class=\"col_heading level0 col25\" >col_25</th>\n",
       "    </tr>\n",
       "  </thead>\n",
       "  <tbody>\n",
       "    <tr>\n",
       "      <th id=\"T_32b9a_level0_row0\" class=\"row_heading level0 row0\" >0</th>\n",
       "      <td id=\"T_32b9a_row0_col0\" class=\"data row0 col0\" >1</td>\n",
       "      <td id=\"T_32b9a_row0_col1\" class=\"data row0 col1\" >?</td>\n",
       "      <td id=\"T_32b9a_row0_col2\" class=\"data row0 col2\" >alfa-romero</td>\n",
       "      <td id=\"T_32b9a_row0_col3\" class=\"data row0 col3\" >gas</td>\n",
       "      <td id=\"T_32b9a_row0_col4\" class=\"data row0 col4\" >std</td>\n",
       "      <td id=\"T_32b9a_row0_col5\" class=\"data row0 col5\" >two</td>\n",
       "      <td id=\"T_32b9a_row0_col6\" class=\"data row0 col6\" >hatchback</td>\n",
       "      <td id=\"T_32b9a_row0_col7\" class=\"data row0 col7\" >rwd</td>\n",
       "      <td id=\"T_32b9a_row0_col8\" class=\"data row0 col8\" >front</td>\n",
       "      <td id=\"T_32b9a_row0_col9\" class=\"data row0 col9\" >94.500000</td>\n",
       "      <td id=\"T_32b9a_row0_col10\" class=\"data row0 col10\" >171.200000</td>\n",
       "      <td id=\"T_32b9a_row0_col11\" class=\"data row0 col11\" >65.500000</td>\n",
       "      <td id=\"T_32b9a_row0_col12\" class=\"data row0 col12\" >52.400000</td>\n",
       "      <td id=\"T_32b9a_row0_col13\" class=\"data row0 col13\" >2823</td>\n",
       "      <td id=\"T_32b9a_row0_col14\" class=\"data row0 col14\" >ohcv</td>\n",
       "      <td id=\"T_32b9a_row0_col15\" class=\"data row0 col15\" >six</td>\n",
       "      <td id=\"T_32b9a_row0_col16\" class=\"data row0 col16\" >152</td>\n",
       "      <td id=\"T_32b9a_row0_col17\" class=\"data row0 col17\" >mpfi</td>\n",
       "      <td id=\"T_32b9a_row0_col18\" class=\"data row0 col18\" >2.68</td>\n",
       "      <td id=\"T_32b9a_row0_col19\" class=\"data row0 col19\" >3.47</td>\n",
       "      <td id=\"T_32b9a_row0_col20\" class=\"data row0 col20\" >9.000000</td>\n",
       "      <td id=\"T_32b9a_row0_col21\" class=\"data row0 col21\" >154</td>\n",
       "      <td id=\"T_32b9a_row0_col22\" class=\"data row0 col22\" >5000</td>\n",
       "      <td id=\"T_32b9a_row0_col23\" class=\"data row0 col23\" >19</td>\n",
       "      <td id=\"T_32b9a_row0_col24\" class=\"data row0 col24\" >26</td>\n",
       "      <td id=\"T_32b9a_row0_col25\" class=\"data row0 col25\" >16500</td>\n",
       "    </tr>\n",
       "    <tr>\n",
       "      <th id=\"T_32b9a_level0_row1\" class=\"row_heading level0 row1\" >1</th>\n",
       "      <td id=\"T_32b9a_row1_col0\" class=\"data row1 col0\" >0</td>\n",
       "      <td id=\"T_32b9a_row1_col1\" class=\"data row1 col1\" >?</td>\n",
       "      <td id=\"T_32b9a_row1_col2\" class=\"data row1 col2\" >audi</td>\n",
       "      <td id=\"T_32b9a_row1_col3\" class=\"data row1 col3\" >gas</td>\n",
       "      <td id=\"T_32b9a_row1_col4\" class=\"data row1 col4\" >turbo</td>\n",
       "      <td id=\"T_32b9a_row1_col5\" class=\"data row1 col5\" >two</td>\n",
       "      <td id=\"T_32b9a_row1_col6\" class=\"data row1 col6\" >hatchback</td>\n",
       "      <td id=\"T_32b9a_row1_col7\" class=\"data row1 col7\" >4wd</td>\n",
       "      <td id=\"T_32b9a_row1_col8\" class=\"data row1 col8\" >front</td>\n",
       "      <td id=\"T_32b9a_row1_col9\" class=\"data row1 col9\" >99.500000</td>\n",
       "      <td id=\"T_32b9a_row1_col10\" class=\"data row1 col10\" >178.200000</td>\n",
       "      <td id=\"T_32b9a_row1_col11\" class=\"data row1 col11\" >67.900000</td>\n",
       "      <td id=\"T_32b9a_row1_col12\" class=\"data row1 col12\" >52.000000</td>\n",
       "      <td id=\"T_32b9a_row1_col13\" class=\"data row1 col13\" >3053</td>\n",
       "      <td id=\"T_32b9a_row1_col14\" class=\"data row1 col14\" >ohc</td>\n",
       "      <td id=\"T_32b9a_row1_col15\" class=\"data row1 col15\" >five</td>\n",
       "      <td id=\"T_32b9a_row1_col16\" class=\"data row1 col16\" >131</td>\n",
       "      <td id=\"T_32b9a_row1_col17\" class=\"data row1 col17\" >mpfi</td>\n",
       "      <td id=\"T_32b9a_row1_col18\" class=\"data row1 col18\" >3.13</td>\n",
       "      <td id=\"T_32b9a_row1_col19\" class=\"data row1 col19\" >3.4</td>\n",
       "      <td id=\"T_32b9a_row1_col20\" class=\"data row1 col20\" >7.000000</td>\n",
       "      <td id=\"T_32b9a_row1_col21\" class=\"data row1 col21\" >160</td>\n",
       "      <td id=\"T_32b9a_row1_col22\" class=\"data row1 col22\" >5500</td>\n",
       "      <td id=\"T_32b9a_row1_col23\" class=\"data row1 col23\" >16</td>\n",
       "      <td id=\"T_32b9a_row1_col24\" class=\"data row1 col24\" >22</td>\n",
       "      <td id=\"T_32b9a_row1_col25\" class=\"data row1 col25\" >?</td>\n",
       "    </tr>\n",
       "  </tbody>\n",
       "</table>\n"
      ],
      "text/plain": [
       "<pandas.io.formats.style.Styler at 0x7f2d86569110>"
      ]
     },
     "metadata": {},
     "output_type": "display_data"
    }
   ],
   "source": [
    "q(\"\"\"\n",
    "SELECT *\n",
    "FROM automobile\n",
    "WHERE \n",
    "CAST(horsepower as INT) > 150\n",
    "and horsepower != '?'\n",
    "\n",
    "limit 2\n",
    "\"\"\")"
   ]
  },
  {
   "cell_type": "code",
   "execution_count": null,
   "id": "c71b8fe0-acad-400c-9f60-711cb32c95f9",
   "metadata": {},
   "outputs": [],
   "source": []
  },
  {
   "cell_type": "code",
   "execution_count": 35,
   "id": "f617061c-0079-4c67-9cbc-e7556304a337",
   "metadata": {},
   "outputs": [
    {
     "ename": "BinderException",
     "evalue": "Binder Error: Referenced column \"‘fuel\" not found in FROM clause!\nCandidate bindings: \"automobile.fuel-type\", \"automobile.fuel-system\"\nLINE 3:     ‘fuel-type’,\n            ^",
     "output_type": "error",
     "traceback": [
      "\u001b[0;31m---------------------------------------------------------------------------\u001b[0m",
      "\u001b[0;31mBinderException\u001b[0m                           Traceback (most recent call last)",
      "Cell \u001b[0;32mIn[35], line 1\u001b[0m\n\u001b[0;32m----> 1\u001b[0m \u001b[43mq\u001b[49m\u001b[43m(\u001b[49m\u001b[38;5;124;43m\"\"\"\u001b[39;49m\n\u001b[1;32m      2\u001b[0m \u001b[38;5;124;43mSELECT \u001b[39;49m\n\u001b[1;32m      3\u001b[0m \u001b[38;5;124;43m    ‘fuel-type’,\u001b[39;49m\n\u001b[1;32m      4\u001b[0m \u001b[38;5;124;43m    make, \u001b[39;49m\n\u001b[1;32m      5\u001b[0m \u001b[38;5;124;43m    COUNT(*) AS number_cars\u001b[39;49m\n\u001b[1;32m      6\u001b[0m \u001b[38;5;124;43mFROM automobile\u001b[39;49m\n\u001b[1;32m      7\u001b[0m \u001b[38;5;124;43mWHERE \u001b[39;49m\n\u001b[1;32m      8\u001b[0m \u001b[38;5;124;43m'\u001b[39;49m\u001b[38;5;124;43mfuel-type\u001b[39;49m\u001b[38;5;124;43m'\u001b[39;49m\u001b[38;5;124;43m IN (\u001b[39;49m\u001b[38;5;124;43m'\u001b[39;49m\u001b[38;5;124;43mgas\u001b[39;49m\u001b[38;5;124;43m'\u001b[39;49m\u001b[38;5;124;43m, \u001b[39;49m\u001b[38;5;124;43m'\u001b[39;49m\u001b[38;5;124;43mdiesel\u001b[39;49m\u001b[38;5;124;43m'\u001b[39;49m\u001b[38;5;124;43m)\u001b[39;49m\n\u001b[1;32m      9\u001b[0m \n\u001b[1;32m     10\u001b[0m \u001b[38;5;124;43mGROUP BY make, \u001b[39;49m\u001b[38;5;124;43m'\u001b[39;49m\u001b[38;5;124;43mfuel-type\u001b[39;49m\u001b[38;5;124;43m'\u001b[39;49m\n\u001b[1;32m     11\u001b[0m \u001b[38;5;124;43m\"\"\"\u001b[39;49m\u001b[43m)\u001b[49m\n",
      "Cell \u001b[0;32mIn[19], line 3\u001b[0m, in \u001b[0;36mq\u001b[0;34m(query, col_list)\u001b[0m\n\u001b[1;32m      1\u001b[0m \u001b[38;5;28;01mdef\u001b[39;00m \u001b[38;5;21mq\u001b[39m(query, col_list \u001b[38;5;241m=\u001b[39m \u001b[38;5;28;01mNone\u001b[39;00m):\n\u001b[0;32m----> 3\u001b[0m     result \u001b[38;5;241m=\u001b[39m \u001b[43mcon\u001b[49m\u001b[38;5;241;43m.\u001b[39;49m\u001b[43mexecute\u001b[49m\u001b[43m(\u001b[49m\u001b[43mquery\u001b[49m\u001b[43m)\u001b[49m\u001b[38;5;241m.\u001b[39mfetchall()\n\u001b[1;32m      4\u001b[0m     \u001b[38;5;66;03m# print(result)\u001b[39;00m\n\u001b[1;32m      6\u001b[0m     \u001b[38;5;28;01mreturn\u001b[39;00m list2table(result, col_list)\n",
      "\u001b[0;31mBinderException\u001b[0m: Binder Error: Referenced column \"‘fuel\" not found in FROM clause!\nCandidate bindings: \"automobile.fuel-type\", \"automobile.fuel-system\"\nLINE 3:     ‘fuel-type’,\n            ^"
     ]
    }
   ],
   "source": [
    "q(\"\"\"\n",
    "SELECT \n",
    "    ‘fuel-type’,\n",
    "    make, \n",
    "    COUNT(*) AS number_cars\n",
    "FROM automobile\n",
    "WHERE \n",
    "'fuel-type' IN ('gas', 'diesel')\n",
    "\n",
    "GROUP BY make, 'fuel-type'\n",
    "\"\"\")"
   ]
  },
  {
   "cell_type": "code",
   "execution_count": null,
   "id": "da09847c-8bb4-4db0-8a8f-237ef368f2a1",
   "metadata": {},
   "outputs": [],
   "source": []
  }
 ],
 "metadata": {
  "kernelspec": {
   "display_name": "Python 3 (ipykernel)",
   "language": "python",
   "name": "python3"
  },
  "language_info": {
   "codemirror_mode": {
    "name": "ipython",
    "version": 3
   },
   "file_extension": ".py",
   "mimetype": "text/x-python",
   "name": "python",
   "nbconvert_exporter": "python",
   "pygments_lexer": "ipython3",
   "version": "3.11.10"
  }
 },
 "nbformat": 4,
 "nbformat_minor": 5
}

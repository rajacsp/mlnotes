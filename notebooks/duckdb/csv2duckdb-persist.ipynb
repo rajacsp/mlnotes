{
 "cells": [
  {
   "cell_type": "code",
   "execution_count": null,
   "id": "8e5d3eff-a96a-4cdb-bc3f-aa81914a375a",
   "metadata": {},
   "outputs": [],
   "source": []
  },
  {
   "cell_type": "code",
   "execution_count": 2,
   "id": "52944215-337f-4e30-9b5a-91318d3a0622",
   "metadata": {},
   "outputs": [
    {
     "name": "stdout",
     "output_type": "stream",
     "text": [
      "Connected to DuckDB database at student_duck1.db\n"
     ]
    }
   ],
   "source": [
    "import duckdb\n",
    "\n",
    "# Create a new DuckDB database file\n",
    "db_path = 'student_duck1.db'\n",
    "con = duckdb.connect(database=db_path, read_only=False)\n",
    "\n",
    "# Verify the connection\n",
    "print(f\"Connected to DuckDB database at {db_path}\")"
   ]
  },
  {
   "cell_type": "code",
   "execution_count": 4,
   "id": "c31ea1de-1141-4f2c-b04d-495a1870f3cf",
   "metadata": {},
   "outputs": [
    {
     "name": "stdout",
     "output_type": "stream",
     "text": [
      "   student_id   student_name  test_scores  attendance  participation  \\\n",
      "0           1       John Doe           85          90             80   \n",
      "1           2     Jane Smith           78          85             75   \n",
      "2           3    Bob Johnson           92          95             85   \n",
      "3           4    Alice Brown           70          80             70   \n",
      "4           5  Charlie Davis           88          92             83   \n",
      "\n",
      "   project_scores  got_job  \n",
      "0              88        1  \n",
      "1              80        0  \n",
      "2              90        1  \n",
      "3              75        0  \n",
      "4              85        1  \n"
     ]
    }
   ],
   "source": [
    "# Path to your CSV file\n",
    "csv_file_path = '../dataset/student_data.csv'\n",
    "\n",
    "# Load the CSV file into a DuckDB table\n",
    "con.execute(f\"CREATE TABLE my_table AS SELECT * FROM read_csv_auto('{csv_file_path}')\")\n",
    "\n",
    "# Optionally, you can query the table to verify the data\n",
    "result = con.execute(\"SELECT * FROM my_table LIMIT 5\").fetchdf()\n",
    "print(result)"
   ]
  },
  {
   "cell_type": "code",
   "execution_count": 5,
   "id": "0f75c37d-625a-4608-b9f6-49fd26f23d37",
   "metadata": {},
   "outputs": [
    {
     "name": "stdout",
     "output_type": "stream",
     "text": [
      "Data has been persisted to student_duck1.db\n"
     ]
    }
   ],
   "source": [
    "# Close the connection\n",
    "con.close()\n",
    "\n",
    "print(f\"Data has been persisted to {db_path}\")\n"
   ]
  },
  {
   "cell_type": "code",
   "execution_count": null,
   "id": "ebcc3367-e93a-483c-af13-1659a546d563",
   "metadata": {},
   "outputs": [],
   "source": []
  },
  {
   "cell_type": "code",
   "execution_count": null,
   "id": "75b43f9a-c6c8-471a-b695-9dd13f0eadc7",
   "metadata": {},
   "outputs": [],
   "source": []
  },
  {
   "cell_type": "code",
   "execution_count": 6,
   "id": "69af0da9-b4b8-4637-af83-7a5d33b35daa",
   "metadata": {},
   "outputs": [
    {
     "name": "stdout",
     "output_type": "stream",
     "text": [
      "   student_id   student_name  test_scores  attendance  participation  \\\n",
      "0           1       John Doe           85          90             80   \n",
      "1           2     Jane Smith           78          85             75   \n",
      "2           3    Bob Johnson           92          95             85   \n",
      "3           4    Alice Brown           70          80             70   \n",
      "4           5  Charlie Davis           88          92             83   \n",
      "\n",
      "   project_scores  got_job  \n",
      "0              88        1  \n",
      "1              80        0  \n",
      "2              90        1  \n",
      "3              75        0  \n",
      "4              85        1  \n"
     ]
    }
   ],
   "source": [
    "# Reconnect to the persisted DuckDB database\n",
    "con = duckdb.connect(database=db_path, read_only=False)\n",
    "\n",
    "# Query the table to verify the data\n",
    "result = con.execute(\"SELECT * FROM my_table LIMIT 5\").fetchdf()\n",
    "print(result)\n",
    "\n",
    "# Close the connection\n",
    "con.close()"
   ]
  },
  {
   "cell_type": "code",
   "execution_count": null,
   "id": "e7dee96d-e4fb-414b-8244-11170cf3e3d1",
   "metadata": {},
   "outputs": [],
   "source": []
  }
 ],
 "metadata": {
  "kernelspec": {
   "display_name": "Python 3 (ipykernel)",
   "language": "python",
   "name": "python3"
  },
  "language_info": {
   "codemirror_mode": {
    "name": "ipython",
    "version": 3
   },
   "file_extension": ".py",
   "mimetype": "text/x-python",
   "name": "python",
   "nbconvert_exporter": "python",
   "pygments_lexer": "ipython3",
   "version": "3.11.10"
  }
 },
 "nbformat": 4,
 "nbformat_minor": 5
}

{
 "cells": [
  {
   "cell_type": "code",
   "execution_count": null,
   "id": "ac074a98-65dc-4d8d-a8bb-4d2793135087",
   "metadata": {},
   "outputs": [],
   "source": [
    "# https://rajasgs.gitbook.io/pynotes/gcp#data-modeling\n",
    "# https://github.com/tactlabs/student-hiring-prediction-mle/tree/main/dataset"
   ]
  },
  {
   "cell_type": "code",
   "execution_count": 3,
   "id": "86684ef8-08b1-478f-9ae7-2d005d968941",
   "metadata": {},
   "outputs": [
    {
     "data": {
      "text/plain": [
       "'conda env: ml311; pyv: 3.11.10 (main, Oct  3 2024, 07:29:13) [GCC 11.2.0]'"
      ]
     },
     "execution_count": 3,
     "metadata": {},
     "output_type": "execute_result"
    }
   ],
   "source": [
    "import pyutil as pyu\n",
    "pyu.get_local_pyinfo()"
   ]
  },
  {
   "cell_type": "code",
   "execution_count": 4,
   "id": "6ae571b9-84f8-401c-8d24-14e2b566ad4f",
   "metadata": {},
   "outputs": [],
   "source": [
    "# !pip install duckdb"
   ]
  },
  {
   "cell_type": "code",
   "execution_count": 5,
   "id": "b5538c6d-7e03-44f6-bd15-e7500303ce61",
   "metadata": {},
   "outputs": [
    {
     "name": "stdout",
     "output_type": "stream",
     "text": [
      "Version: 1.1.3\n"
     ]
    }
   ],
   "source": [
    "!pip show duckdb | grep \"Version:\""
   ]
  },
  {
   "cell_type": "code",
   "execution_count": 6,
   "id": "84bd0c16-99ec-4e9d-bc8f-a628cb1a9028",
   "metadata": {},
   "outputs": [],
   "source": [
    "import duckdb"
   ]
  },
  {
   "cell_type": "code",
   "execution_count": 7,
   "id": "87b4a848-2d06-45e3-a98f-546ef6037ef0",
   "metadata": {},
   "outputs": [],
   "source": [
    "# Connect to DuckDB\n",
    "con = duckdb.connect()"
   ]
  },
  {
   "cell_type": "code",
   "execution_count": 8,
   "id": "966b7890-ab99-4463-9315-75683af020c6",
   "metadata": {},
   "outputs": [
    {
     "data": {
      "text/plain": [
       "<duckdb.duckdb.DuckDBPyConnection at 0x7ff4d81c1570>"
      ]
     },
     "execution_count": 8,
     "metadata": {},
     "output_type": "execute_result"
    }
   ],
   "source": [
    "# Load CSV file\n",
    "con.execute(\"CREATE TABLE my_table AS SELECT * FROM '../dataset/student_data.csv'\")"
   ]
  },
  {
   "cell_type": "code",
   "execution_count": 10,
   "id": "f0e7f7eb-e37e-4a7d-a9a8-815f2ebf1004",
   "metadata": {},
   "outputs": [],
   "source": [
    "# Perform SQL query\n",
    "result = con.execute(\"SELECT * FROM my_table WHERE student_name = 'Patricia Hall'\").fetchall()"
   ]
  },
  {
   "cell_type": "code",
   "execution_count": 14,
   "id": "9051240d-b35d-4a48-9e91-2b7d52042f55",
   "metadata": {},
   "outputs": [
    {
     "data": {
      "text/plain": [
       "[(18, 'Patricia Hall', 71, 75, 70, 73, 0)]"
      ]
     },
     "execution_count": 14,
     "metadata": {},
     "output_type": "execute_result"
    }
   ],
   "source": [
    "result"
   ]
  },
  {
   "cell_type": "code",
   "execution_count": 11,
   "id": "25f795ce-2cef-485c-86ae-3a5f8c437132",
   "metadata": {},
   "outputs": [
    {
     "name": "stdout",
     "output_type": "stream",
     "text": [
      "[(18, 'Patricia Hall', 71, 75, 70, 73, 0)]\n"
     ]
    }
   ],
   "source": [
    "print(result)"
   ]
  },
  {
   "cell_type": "code",
   "execution_count": 15,
   "id": "4e76a27d-eb2e-483c-a060-a3ce6000a9de",
   "metadata": {},
   "outputs": [
    {
     "data": {
      "text/plain": [
       "tuple"
      ]
     },
     "execution_count": 15,
     "metadata": {},
     "output_type": "execute_result"
    }
   ],
   "source": [
    "# type(result[0])"
   ]
  },
  {
   "cell_type": "code",
   "execution_count": 25,
   "id": "c7ced2bb-9608-4029-9872-ac03a357171f",
   "metadata": {},
   "outputs": [],
   "source": [
    "\n",
    "import pandas as pd\n",
    "from IPython.display import display\n",
    "\n",
    "def list2table(cdata, col_list = None):\n",
    "\n",
    "    first_row = cdata[0]\n",
    "    cols_count = len(first_row)\n",
    "\n",
    "    if not col_list:\n",
    "        col_list = []\n",
    "        for idx in range(cols_count):\n",
    "            col_list.append(f'col_{idx}')\n",
    "\n",
    "    # Convert the list of tuples to a DataFrame\n",
    "    df1 = pd.DataFrame(cdata, columns = col_list)\n",
    "    \n",
    "    # Set display options\n",
    "    pd.set_option('display.max_rows', 100)\n",
    "    pd.set_option('display.max_columns', 100)\n",
    "    \n",
    "    # Apply custom styling\n",
    "    styled_df = df1.style.set_properties(**{'text-align': 'center'})\n",
    "    \n",
    "    # Display the DataFrame\n",
    "    display(styled_df)"
   ]
  },
  {
   "cell_type": "code",
   "execution_count": 28,
   "id": "c5ae167c-aeae-4ab7-b877-c5da8a11d2fd",
   "metadata": {},
   "outputs": [],
   "source": [
    "def q(query, col_list = None):\n",
    "\n",
    "    result = con.execute(query).fetchall()\n",
    "    # print(result)\n",
    "\n",
    "    return list2table(result, col_list)"
   ]
  },
  {
   "cell_type": "code",
   "execution_count": 29,
   "id": "663f4222-762e-4b7b-b78f-17f3ff7d35ef",
   "metadata": {},
   "outputs": [
    {
     "data": {
      "text/html": [
       "<style type=\"text/css\">\n",
       "#T_1bb30_row0_col0, #T_1bb30_row0_col1, #T_1bb30_row0_col2, #T_1bb30_row0_col3, #T_1bb30_row0_col4, #T_1bb30_row0_col5, #T_1bb30_row0_col6 {\n",
       "  text-align: center;\n",
       "}\n",
       "</style>\n",
       "<table id=\"T_1bb30\">\n",
       "  <thead>\n",
       "    <tr>\n",
       "      <th class=\"blank level0\" >&nbsp;</th>\n",
       "      <th id=\"T_1bb30_level0_col0\" class=\"col_heading level0 col0\" >col_0</th>\n",
       "      <th id=\"T_1bb30_level0_col1\" class=\"col_heading level0 col1\" >col_1</th>\n",
       "      <th id=\"T_1bb30_level0_col2\" class=\"col_heading level0 col2\" >col_2</th>\n",
       "      <th id=\"T_1bb30_level0_col3\" class=\"col_heading level0 col3\" >col_3</th>\n",
       "      <th id=\"T_1bb30_level0_col4\" class=\"col_heading level0 col4\" >col_4</th>\n",
       "      <th id=\"T_1bb30_level0_col5\" class=\"col_heading level0 col5\" >col_5</th>\n",
       "      <th id=\"T_1bb30_level0_col6\" class=\"col_heading level0 col6\" >col_6</th>\n",
       "    </tr>\n",
       "  </thead>\n",
       "  <tbody>\n",
       "    <tr>\n",
       "      <th id=\"T_1bb30_level0_row0\" class=\"row_heading level0 row0\" >0</th>\n",
       "      <td id=\"T_1bb30_row0_col0\" class=\"data row0 col0\" >1</td>\n",
       "      <td id=\"T_1bb30_row0_col1\" class=\"data row0 col1\" >John Doe</td>\n",
       "      <td id=\"T_1bb30_row0_col2\" class=\"data row0 col2\" >85</td>\n",
       "      <td id=\"T_1bb30_row0_col3\" class=\"data row0 col3\" >90</td>\n",
       "      <td id=\"T_1bb30_row0_col4\" class=\"data row0 col4\" >80</td>\n",
       "      <td id=\"T_1bb30_row0_col5\" class=\"data row0 col5\" >88</td>\n",
       "      <td id=\"T_1bb30_row0_col6\" class=\"data row0 col6\" >1</td>\n",
       "    </tr>\n",
       "  </tbody>\n",
       "</table>\n"
      ],
      "text/plain": [
       "<pandas.io.formats.style.Styler at 0x7ff46ea6e4d0>"
      ]
     },
     "metadata": {},
     "output_type": "display_data"
    }
   ],
   "source": [
    "q(\"SELECT * FROM my_table WHERE student_id = 1\")"
   ]
  },
  {
   "cell_type": "code",
   "execution_count": 30,
   "id": "f4f20754-e086-41f0-b0b7-d780720825a3",
   "metadata": {},
   "outputs": [
    {
     "data": {
      "text/html": [
       "<style type=\"text/css\">\n",
       "#T_dad1e_row0_col0, #T_dad1e_row1_col0 {\n",
       "  text-align: center;\n",
       "}\n",
       "</style>\n",
       "<table id=\"T_dad1e\">\n",
       "  <thead>\n",
       "    <tr>\n",
       "      <th class=\"blank level0\" >&nbsp;</th>\n",
       "      <th id=\"T_dad1e_level0_col0\" class=\"col_heading level0 col0\" >student_name</th>\n",
       "    </tr>\n",
       "  </thead>\n",
       "  <tbody>\n",
       "    <tr>\n",
       "      <th id=\"T_dad1e_level0_row0\" class=\"row_heading level0 row0\" >0</th>\n",
       "      <td id=\"T_dad1e_row0_col0\" class=\"data row0 col0\" >John Doe</td>\n",
       "    </tr>\n",
       "    <tr>\n",
       "      <th id=\"T_dad1e_level0_row1\" class=\"row_heading level0 row1\" >1</th>\n",
       "      <td id=\"T_dad1e_row1_col0\" class=\"data row1 col0\" >Jane Smith</td>\n",
       "    </tr>\n",
       "  </tbody>\n",
       "</table>\n"
      ],
      "text/plain": [
       "<pandas.io.formats.style.Styler at 0x7ff46f298d10>"
      ]
     },
     "metadata": {},
     "output_type": "display_data"
    }
   ],
   "source": [
    "q(\"\"\"\n",
    "SELECT \n",
    "STUDENT_NAME\n",
    "FROM my_table\n",
    "limit 2\n",
    "\"\"\", [\"student_name\"])"
   ]
  },
  {
   "cell_type": "code",
   "execution_count": null,
   "id": "44652709-159c-4cda-a833-1dff1495aac7",
   "metadata": {},
   "outputs": [],
   "source": []
  }
 ],
 "metadata": {
  "kernelspec": {
   "display_name": "Python 3 (ipykernel)",
   "language": "python",
   "name": "python3"
  },
  "language_info": {
   "codemirror_mode": {
    "name": "ipython",
    "version": 3
   },
   "file_extension": ".py",
   "mimetype": "text/x-python",
   "name": "python",
   "nbconvert_exporter": "python",
   "pygments_lexer": "ipython3",
   "version": "3.11.10"
  }
 },
 "nbformat": 4,
 "nbformat_minor": 5
}

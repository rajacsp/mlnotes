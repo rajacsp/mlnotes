{
 "cells": [
  {
   "cell_type": "code",
   "execution_count": null,
   "id": "a1c7deae-bc84-4e8e-be9e-9269bb46be68",
   "metadata": {},
   "outputs": [],
   "source": []
  },
  {
   "cell_type": "code",
   "execution_count": 28,
   "id": "ae690088-8baa-427a-94e7-023584c7e14d",
   "metadata": {},
   "outputs": [
    {
     "data": {
      "text/plain": [
       "'conda env: ml311; pyv: 3.11.10 (main, Oct  3 2024, 07:29:13) [GCC 11.2.0]'"
      ]
     },
     "execution_count": 28,
     "metadata": {},
     "output_type": "execute_result"
    }
   ],
   "source": [
    "import pyutil as pyu\n",
    "pyu.get_local_pyinfo()"
   ]
  },
  {
   "cell_type": "code",
   "execution_count": 29,
   "id": "6c3e0d5c-1b7b-406e-a23f-c8e8ccaf7955",
   "metadata": {},
   "outputs": [],
   "source": [
    "import duckdb\n",
    "import pandas as pd"
   ]
  },
  {
   "cell_type": "code",
   "execution_count": 30,
   "id": "9da506c8-1947-45e6-8863-5acc1b6a4b30",
   "metadata": {},
   "outputs": [],
   "source": [
    "# Path to your CSV file\n",
    "csv_file_path = '../dataset/student_data.csv'"
   ]
  },
  {
   "cell_type": "code",
   "execution_count": 31,
   "id": "ddd17ddf-1d34-48ce-9fd1-85fe5bbb9363",
   "metadata": {},
   "outputs": [],
   "source": [
    "# Create a DuckDB connection\n",
    "con = duckdb.connect(database=':memory:', read_only=False)"
   ]
  },
  {
   "cell_type": "code",
   "execution_count": 32,
   "id": "5dba5410-7fb1-4614-90da-7fdfce9cdabe",
   "metadata": {},
   "outputs": [
    {
     "data": {
      "text/plain": [
       "<duckdb.duckdb.DuckDBPyConnection at 0x7fb9a0190070>"
      ]
     },
     "execution_count": 32,
     "metadata": {},
     "output_type": "execute_result"
    }
   ],
   "source": [
    "# Load the CSV file into a DuckDB table\n",
    "con.execute(f\"CREATE TABLE my_table AS SELECT * FROM read_csv_auto('{csv_file_path}')\")"
   ]
  },
  {
   "cell_type": "code",
   "execution_count": 33,
   "id": "b607a5ba-9fac-432e-93fe-65b93beadbf3",
   "metadata": {},
   "outputs": [
    {
     "name": "stdout",
     "output_type": "stream",
     "text": [
      "   student_id   student_name  test_scores  attendance  participation  \\\n",
      "0           1       John Doe           85          90             80   \n",
      "1           2     Jane Smith           78          85             75   \n",
      "2           3    Bob Johnson           92          95             85   \n",
      "3           4    Alice Brown           70          80             70   \n",
      "4           5  Charlie Davis           88          92             83   \n",
      "\n",
      "   project_scores  got_job  \n",
      "0              88        1  \n",
      "1              80        0  \n",
      "2              90        1  \n",
      "3              75        0  \n",
      "4              85        1  \n"
     ]
    }
   ],
   "source": [
    "# Optionally, you can query the table to verify the data\n",
    "result = con.execute(\"SELECT * FROM my_table LIMIT 5\").fetchdf()\n",
    "print(result)"
   ]
  },
  {
   "cell_type": "code",
   "execution_count": 34,
   "id": "0c1d933e-f283-4a1a-8869-3e602b757d73",
   "metadata": {},
   "outputs": [
    {
     "data": {
      "text/plain": [
       "<duckdb.duckdb.DuckDBPyConnection at 0x7fb9a0190070>"
      ]
     },
     "execution_count": 34,
     "metadata": {},
     "output_type": "execute_result"
    }
   ],
   "source": [
    "# Persist the data by saving the DuckDB database to a file\n",
    "persisted_db_path = 'student_duck.db'\n",
    "con.execute(f\"COPY my_table TO '{persisted_db_path}' (FORMAT CSV)\")"
   ]
  },
  {
   "cell_type": "code",
   "execution_count": 35,
   "id": "c46339bb-b7c7-4e2f-aadb-55911dcdf889",
   "metadata": {},
   "outputs": [],
   "source": [
    "# Close the connection\n",
    "con.close()"
   ]
  },
  {
   "cell_type": "code",
   "execution_count": 36,
   "id": "c56d6f40-69c7-4990-96e0-ac3ccbbd1ae8",
   "metadata": {},
   "outputs": [
    {
     "name": "stdout",
     "output_type": "stream",
     "text": [
      "Data has been persisted to student_duck.db\n"
     ]
    }
   ],
   "source": [
    "print(f\"Data has been persisted to {persisted_db_path}\")"
   ]
  },
  {
   "cell_type": "code",
   "execution_count": null,
   "id": "000cfadc-db68-46e3-a4fa-ed3ee751ba60",
   "metadata": {},
   "outputs": [],
   "source": []
  },
  {
   "cell_type": "code",
   "execution_count": null,
   "id": "2b5750ae-05c5-429c-a062-39f629c9a6ec",
   "metadata": {},
   "outputs": [],
   "source": []
  },
  {
   "cell_type": "code",
   "execution_count": 37,
   "id": "8c6d4525-a068-4d82-bd12-a172eab3b040",
   "metadata": {},
   "outputs": [],
   "source": [
    "# read from persisted\n",
    "\n",
    "# con = duckdb.connect(database='student_duck.db', read_only=False)"
   ]
  },
  {
   "cell_type": "code",
   "execution_count": 39,
   "id": "800423e4-e9c2-4466-af79-835810f1ac8f",
   "metadata": {},
   "outputs": [
    {
     "ename": "IOException",
     "evalue": "IO Error: The file \"/home/rajaraman/tprojects/mlnotes/notebooks/duckdb/student_duck.db\" exists, but it is not a valid DuckDB database file!",
     "output_type": "error",
     "traceback": [
      "\u001b[0;31m---------------------------------------------------------------------------\u001b[0m",
      "\u001b[0;31mIOException\u001b[0m                               Traceback (most recent call last)",
      "Cell \u001b[0;32mIn[39], line 3\u001b[0m\n\u001b[1;32m      1\u001b[0m \u001b[38;5;66;03m# Create a new DuckDB database file\u001b[39;00m\n\u001b[1;32m      2\u001b[0m db_path \u001b[38;5;241m=\u001b[39m \u001b[38;5;124m'\u001b[39m\u001b[38;5;124mstudent_duck.db\u001b[39m\u001b[38;5;124m'\u001b[39m\n\u001b[0;32m----> 3\u001b[0m con \u001b[38;5;241m=\u001b[39m \u001b[43mduckdb\u001b[49m\u001b[38;5;241;43m.\u001b[39;49m\u001b[43mconnect\u001b[49m\u001b[43m(\u001b[49m\u001b[43mdatabase\u001b[49m\u001b[38;5;241;43m=\u001b[39;49m\u001b[43mdb_path\u001b[49m\u001b[43m,\u001b[49m\u001b[43m \u001b[49m\u001b[43mread_only\u001b[49m\u001b[38;5;241;43m=\u001b[39;49m\u001b[38;5;28;43;01mTrue\u001b[39;49;00m\u001b[43m)\u001b[49m\n\u001b[1;32m      5\u001b[0m \u001b[38;5;66;03m# Verify the connection\u001b[39;00m\n\u001b[1;32m      6\u001b[0m \u001b[38;5;28mprint\u001b[39m(\u001b[38;5;124mf\u001b[39m\u001b[38;5;124m\"\u001b[39m\u001b[38;5;124mConnected to DuckDB database at \u001b[39m\u001b[38;5;132;01m{\u001b[39;00mdb_path\u001b[38;5;132;01m}\u001b[39;00m\u001b[38;5;124m\"\u001b[39m)\n",
      "\u001b[0;31mIOException\u001b[0m: IO Error: The file \"/home/rajaraman/tprojects/mlnotes/notebooks/duckdb/student_duck.db\" exists, but it is not a valid DuckDB database file!"
     ]
    }
   ],
   "source": [
    "# Create a new DuckDB database file\n",
    "db_path = 'student_duck.db'\n",
    "con = duckdb.connect(database=db_path, read_only=False)\n",
    "\n",
    "# Verify the connection\n",
    "print(f\"Connected to DuckDB database at {db_path}\")"
   ]
  },
  {
   "cell_type": "code",
   "execution_count": null,
   "id": "75d11721-26fb-4bd9-aacb-cc3adf79835e",
   "metadata": {},
   "outputs": [],
   "source": []
  },
  {
   "cell_type": "code",
   "execution_count": null,
   "id": "34622f28-dc29-4c65-995a-ddfacd490ac5",
   "metadata": {},
   "outputs": [],
   "source": []
  }
 ],
 "metadata": {
  "kernelspec": {
   "display_name": "Python 3 (ipykernel)",
   "language": "python",
   "name": "python3"
  },
  "language_info": {
   "codemirror_mode": {
    "name": "ipython",
    "version": 3
   },
   "file_extension": ".py",
   "mimetype": "text/x-python",
   "name": "python",
   "nbconvert_exporter": "python",
   "pygments_lexer": "ipython3",
   "version": "3.11.10"
  }
 },
 "nbformat": 4,
 "nbformat_minor": 5
}

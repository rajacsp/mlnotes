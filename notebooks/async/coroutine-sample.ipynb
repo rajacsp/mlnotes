{
 "cells": [
  {
   "cell_type": "code",
   "execution_count": 1,
   "id": "3146109c-8428-4032-92c1-793e3d0d034c",
   "metadata": {},
   "outputs": [],
   "source": [
    "import asyncio \n",
    "import time\n",
    "\n",
    "async def test():\n",
    "    print('inside test')\n",
    "\n",
    "async def foo():\n",
    "    await test()  # No exception raised.\n",
    "    print('foo')"
   ]
  },
  {
   "cell_type": "code",
   "execution_count": 2,
   "id": "99c9df84-4e6c-4e3d-97f6-7b6d72706f3a",
   "metadata": {},
   "outputs": [
    {
     "data": {
      "text/plain": [
       "<coroutine object foo at 0x7f54f8e83940>"
      ]
     },
     "execution_count": 2,
     "metadata": {},
     "output_type": "execute_result"
    }
   ],
   "source": [
    "foo()"
   ]
  },
  {
   "cell_type": "code",
   "execution_count": null,
   "id": "d2354849-e72c-4ae5-9502-7e234e0addd6",
   "metadata": {},
   "outputs": [],
   "source": []
  }
 ],
 "metadata": {
  "kernelspec": {
   "display_name": "Python 3 (ipykernel)",
   "language": "python",
   "name": "python3"
  },
  "language_info": {
   "codemirror_mode": {
    "name": "ipython",
    "version": 3
   },
   "file_extension": ".py",
   "mimetype": "text/x-python",
   "name": "python",
   "nbconvert_exporter": "python",
   "pygments_lexer": "ipython3",
   "version": "3.12.4"
  }
 },
 "nbformat": 4,
 "nbformat_minor": 5
}

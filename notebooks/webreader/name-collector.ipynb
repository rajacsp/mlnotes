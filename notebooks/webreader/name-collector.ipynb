{
 "cells": [
  {
   "cell_type": "raw",
   "metadata": {},
   "source": [
    "---\n",
    "title: \"Name Collector\"\n",
    "author: \"Rj\"\n",
    "date: 2019-04-20\n",
    "description: \"List Test\"\n",
    "type: technical_note\n",
    "draft: false\n",
    "---"
   ]
  },
  {
   "cell_type": "code",
   "execution_count": 1,
   "metadata": {},
   "outputs": [],
   "source": [
    "import requests\n",
    "from bs4 import BeautifulSoup"
   ]
  },
  {
   "cell_type": "code",
   "execution_count": 2,
   "metadata": {},
   "outputs": [
    {
     "name": "stdout",
     "output_type": "stream",
     "text": [
      ",Liam,Noah,William,James,Logan,Benjamin,Mason,Elijah,Oliver,Jacob,Lucas,Michael,Alexander,Ethan,Daniel,Matthew,Aiden,Henry,Joseph,Jackson,Samuel,Sebastian,David,Carter,Wyatt,Jayden,John,Owen,Dylan,Luke,Gabriel,Anthony,Isaac,Grayson,Jack,Julian,Levi,Christopher,Joshua,Andrew,Lincoln,Mateo,Ryan,Jaxon,Nathan,Aaron,Isaiah,Thomas,Charles,Caleb,Josiah,Christian,Hunter,Eli,Jonathan,Connor,Landon,Adrian,Asher,Cameron,Leo,Theodore,Jeremiah,Hudson,Robert,Easton,Nolan,Nicholas,Ezra,Colton,Angel,Brayden,Jordan,Dominic,Austin,Ian,Adam,Elias,Greyson,Jose,Ezekiel,Carson,Evan,Maverick,Bryson,Jace,Cooper,Xavier,Parker,Roman,Jason,Santiago,Chase,Sawyer,Gavin,Leonardo,Ayden,Jameson,Kevin,Bentley,Zachary,Everett,Axel,Tyler,Micah,Vincent,Weston,Miles,Wesley,Nathaniel,Harrison,Brandon,Cole,Declan,Luis,Braxton,Damian,Silas,Ryder,Bennett,George,Emmett,Justin,Max,Diego,Carlos,Maxwell,Kingston,Ivan,Maddox,Juan,Jayce,Rowan,Eric,Jesus,Calvin,Abel,King,Camden,Amir,Blake,Alex,Brody,Malachi,Emmanuel,Jonah,Beau,Jude,Antonio,Alan,Elliott,Elliot,Waylon,Xander,Timothy,Victor,Bryce,Finn,Brantley,Edward,Abraham,Patrick,Grant,Hayden,Richard,Miguel,Joel,Gael,Rhett,Steven,Graham,Jasper,Jesse,Matteo,Dean,Preston,August,Oscar,Jeremy,Alejandro,Marcus,Dawson,Lorenzo,Zion,Maximus,Strong Boy Names That'll Empower Your Little Guy Right from Day 1,Biblical Boy Names That Have Stood the Test of Time,Classic Boy Names You'll Never Get Tired of Hearing,'Star Wars'-Inspired Baby Names Continue to Climb the Charts\n"
     ]
    }
   ],
   "source": [
    "# Collect and parse first page\n",
    "page = requests.get('https://www.babble.com/pregnancy/1000-most-popular-boy-names/')\n",
    "soup = BeautifulSoup(page.text, 'html.parser')    \n",
    "\n",
    "#print(soup)    \n",
    "\n",
    "items = soup.select('main.tm-single-content li a')\n",
    "\n",
    "item_list = ''\n",
    "for item in items:\n",
    "    #print(item.get_text())\n",
    "    item_list =  item_list + ',' +str(item.get_text())\n",
    "\n",
    "print(item_list)"
   ]
  },
  {
   "cell_type": "code",
   "execution_count": null,
   "metadata": {},
   "outputs": [],
   "source": []
  }
 ],
 "metadata": {
  "kernelspec": {
   "display_name": "Python 3",
   "language": "python",
   "name": "python3"
  },
  "language_info": {
   "codemirror_mode": {
    "name": "ipython",
    "version": 3
   },
   "file_extension": ".py",
   "mimetype": "text/x-python",
   "name": "python",
   "nbconvert_exporter": "python",
   "pygments_lexer": "ipython3",
   "version": "3.6.8"
  }
 },
 "nbformat": 4,
 "nbformat_minor": 2
}

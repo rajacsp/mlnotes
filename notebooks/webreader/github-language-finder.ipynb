{
 "cells": [
  {
   "cell_type": "raw",
   "metadata": {},
   "source": [
    "---\n",
    "title: \"GitHub Language Finder\"\n",
    "author: \"Rj\"\n",
    "date: 2019-04-20\n",
    "description: \"List Test\"\n",
    "type: technical_note\n",
    "draft: false\n",
    "---"
   ]
  },
  {
   "cell_type": "code",
   "execution_count": 1,
   "metadata": {},
   "outputs": [],
   "source": [
    "import requests\n",
    "from bs4 import BeautifulSoup"
   ]
  },
  {
   "cell_type": "code",
   "execution_count": 2,
   "metadata": {},
   "outputs": [
    {
     "name": "stdout",
     "output_type": "stream",
     "text": [
      "commits :  25\n",
      "C++ 60.3%\n",
      "JavaScript 35.0%\n",
      "C 4.7%\n"
     ]
    }
   ],
   "source": [
    "# Collect and parse first page\n",
    "page = requests.get('https://github.com/getify/BikechainJS')\n",
    "soup = BeautifulSoup(page.text, 'html.parser')    \n",
    "\n",
    "#print(soup)\n",
    "\n",
    "summary_element = soup.select(\"div.overall-summary\")\n",
    "\n",
    "#print(summary_element)\n",
    "\n",
    "commits = summary_element[0].select(\"li.commits span.num\")[0].text\n",
    "commits = str(commits).strip()\n",
    "print(\"commits : \", commits)\n",
    "\n",
    "repo_lang = summary_element[0].select(\"div.repository-lang-stats li a\")\n",
    "\n",
    "for rl in repo_lang:\n",
    "    lang = rl.select(\"span\")[1].text\n",
    "    lang = str(lang).strip()        \n",
    "\n",
    "    lang_perc = rl.select(\"span\")[2].text\n",
    "    lang_perc = str(lang_perc).strip()\n",
    "\n",
    "    print(lang, lang_perc)"
   ]
  },
  {
   "cell_type": "code",
   "execution_count": null,
   "metadata": {},
   "outputs": [],
   "source": []
  }
 ],
 "metadata": {
  "kernelspec": {
   "display_name": "Python 3",
   "language": "python",
   "name": "python3"
  },
  "language_info": {
   "codemirror_mode": {
    "name": "ipython",
    "version": 3
   },
   "file_extension": ".py",
   "mimetype": "text/x-python",
   "name": "python",
   "nbconvert_exporter": "python",
   "pygments_lexer": "ipython3",
   "version": "3.6.8"
  }
 },
 "nbformat": 4,
 "nbformat_minor": 2
}

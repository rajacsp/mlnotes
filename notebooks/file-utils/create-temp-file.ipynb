{
 "cells": [
  {
   "cell_type": "code",
   "execution_count": 1,
   "id": "cc966048-328b-49b7-be7a-dcb5fc6332fd",
   "metadata": {},
   "outputs": [],
   "source": [
    "import tempfile"
   ]
  },
  {
   "cell_type": "code",
   "execution_count": 2,
   "id": "6f566992-d094-48df-ad95-109b7e021354",
   "metadata": {},
   "outputs": [],
   "source": [
    "fp = tempfile.TemporaryFile()"
   ]
  },
  {
   "cell_type": "code",
   "execution_count": 3,
   "id": "b221edcd-bc03-4c63-b995-f67b1f4a219e",
   "metadata": {},
   "outputs": [
    {
     "data": {
      "text/plain": [
       "55"
      ]
     },
     "execution_count": 3,
     "metadata": {},
     "output_type": "execute_result"
    }
   ],
   "source": [
    "fp.name"
   ]
  },
  {
   "cell_type": "code",
   "execution_count": 4,
   "id": "cc6f8cc6-0013-4ad2-b3c7-f69742f0e433",
   "metadata": {},
   "outputs": [
    {
     "data": {
      "text/plain": [
       "11"
      ]
     },
     "execution_count": 4,
     "metadata": {},
     "output_type": "execute_result"
    }
   ],
   "source": [
    "fp.write(b'Hey Toronto')"
   ]
  },
  {
   "cell_type": "code",
   "execution_count": 5,
   "id": "6f997629-d9ca-4067-bb3e-637239cdb1b8",
   "metadata": {},
   "outputs": [
    {
     "data": {
      "text/plain": [
       "0"
      ]
     },
     "execution_count": 5,
     "metadata": {},
     "output_type": "execute_result"
    }
   ],
   "source": [
    "fp.seek(0)"
   ]
  },
  {
   "cell_type": "code",
   "execution_count": 6,
   "id": "c701c89c-9c8c-4714-9246-c971f3868163",
   "metadata": {},
   "outputs": [
    {
     "data": {
      "text/plain": [
       "b'Hey Toronto'"
      ]
     },
     "execution_count": 6,
     "metadata": {},
     "output_type": "execute_result"
    }
   ],
   "source": [
    "fp.read()"
   ]
  },
  {
   "cell_type": "code",
   "execution_count": 7,
   "id": "d9b6236b-d84d-4d83-9cd4-4610227feea9",
   "metadata": {},
   "outputs": [],
   "source": [
    "# Close the file\n",
    "\n",
    "fp.close()"
   ]
  },
  {
   "cell_type": "code",
   "execution_count": null,
   "id": "d929cf4a-e64d-4086-86e0-d65232ef1e82",
   "metadata": {},
   "outputs": [],
   "source": []
  }
 ],
 "metadata": {
  "kernelspec": {
   "display_name": "Python 3 (ipykernel)",
   "language": "python",
   "name": "python3"
  },
  "language_info": {
   "codemirror_mode": {
    "name": "ipython",
    "version": 3
   },
   "file_extension": ".py",
   "mimetype": "text/x-python",
   "name": "python",
   "nbconvert_exporter": "python",
   "pygments_lexer": "ipython3",
   "version": "3.12.4"
  }
 },
 "nbformat": 4,
 "nbformat_minor": 5
}

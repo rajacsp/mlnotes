{
 "cells": [
  {
   "cell_type": "raw",
   "metadata": {},
   "source": [
    "---\n",
    "title: \"Ontario Postal Code\"\n",
    "author: \"Raja CSP Raman\"\n",
    "date: 2019-04-20\n",
    "description: \"-\"\n",
    "type: technical_note\n",
    "draft: false\n",
    "---"
   ]
  },
  {
   "cell_type": "code",
   "execution_count": 1,
   "metadata": {},
   "outputs": [],
   "source": [
    "import re"
   ]
  },
  {
   "cell_type": "code",
   "execution_count": 5,
   "metadata": {},
   "outputs": [
    {
     "name": "stdout",
     "output_type": "stream",
     "text": [
      "matched :  M2N1H5\n",
      "matched :  M2N 1H5\n"
     ]
    }
   ],
   "source": [
    "names = ['M2N1H5', 'M2N 1H5', 'M882J8']\n",
    "\n",
    "regex_patten = \"^[A-Z]\\d[A-Z]\\s*\\d[A-Z]\\d\"\n",
    "# starts with Capital letter; it can have zero or one space\n",
    "\n",
    "for name in names:\n",
    "    m = re.match(regex_patten, name)\n",
    "\n",
    "    if(m):\n",
    "        #print(m.groups())\n",
    "        print('matched : ', name)"
   ]
  },
  {
   "cell_type": "markdown",
   "metadata": {},
   "source": [
    "\n",
    "    \\d - digit\n",
    "    \\D - non-digit\n",
    "    \\s - whitespace\n",
    "    \\S - non-whitespace\n",
    "    \\w - alphanumeric\n",
    "    \\W - non-alphanumeric\n"
   ]
  },
  {
   "cell_type": "code",
   "execution_count": null,
   "metadata": {},
   "outputs": [],
   "source": []
  }
 ],
 "metadata": {
  "kernelspec": {
   "display_name": "Python 3",
   "language": "python",
   "name": "python3"
  },
  "language_info": {
   "codemirror_mode": {
    "name": "ipython",
    "version": 3
   },
   "file_extension": ".py",
   "mimetype": "text/x-python",
   "name": "python",
   "nbconvert_exporter": "python",
   "pygments_lexer": "ipython3",
   "version": "3.6.8"
  }
 },
 "nbformat": 4,
 "nbformat_minor": 2
}

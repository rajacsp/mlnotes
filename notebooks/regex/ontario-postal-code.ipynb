{
 "cells": [
  {
   "cell_type": "code",
   "execution_count": 1,
   "id": "8f9dd98c-567d-4e4d-a288-34382b092a27",
   "metadata": {},
   "outputs": [],
   "source": [
    "import re"
   ]
  },
  {
   "cell_type": "code",
   "execution_count": 8,
   "id": "4afae3c9-9421-44ae-8003-43d990960afc",
   "metadata": {},
   "outputs": [
    {
     "name": "stdout",
     "output_type": "stream",
     "text": [
      "matched :  M2N1H5\n",
      "matched :  M2N 1H5\n"
     ]
    }
   ],
   "source": [
    "names = ['M2N1H5', 'M2N 1H5', 'M882J8']\n",
    "\n",
    "regex_patten = \"^[A-Z]\\\\d[A-Z]\\\\s*\\\\d[A-Z]\\\\d\"\n",
    "# starts with Capital letter; it can have zero or one space\n",
    "\n",
    "for name in names:\n",
    "    m = re.match(regex_patten, name)\n",
    "\n",
    "    if(m):\n",
    "        #print(m.groups())\n",
    "        print('matched : ', name)"
   ]
  },
  {
   "cell_type": "code",
   "execution_count": null,
   "id": "233119cd-6c98-4f6a-96fb-b5fd1ce16471",
   "metadata": {},
   "outputs": [],
   "source": []
  }
 ],
 "metadata": {
  "kernelspec": {
   "display_name": "Python 3 (ipykernel)",
   "language": "python",
   "name": "python3"
  },
  "language_info": {
   "codemirror_mode": {
    "name": "ipython",
    "version": 3
   },
   "file_extension": ".py",
   "mimetype": "text/x-python",
   "name": "python",
   "nbconvert_exporter": "python",
   "pygments_lexer": "ipython3",
   "version": "3.12.4"
  }
 },
 "nbformat": 4,
 "nbformat_minor": 5
}

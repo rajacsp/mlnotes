{
 "cells": [
  {
   "cell_type": "code",
   "execution_count": 1,
   "id": "0a1c55ac-f924-4bdb-85f9-3c9f628cb378",
   "metadata": {},
   "outputs": [],
   "source": [
    "import re"
   ]
  },
  {
   "cell_type": "code",
   "execution_count": 2,
   "id": "4714e5d7-2bff-4565-bf08-939c43f309f4",
   "metadata": {},
   "outputs": [],
   "source": [
    "# precompile regex patterns\n",
    "regex_entries = [\n",
    "    re.compile(p)\n",
    "    for p in ['awesome', 'ocean']\n",
    "]"
   ]
  },
  {
   "cell_type": "code",
   "execution_count": 3,
   "id": "be8c37ce-9469-4f4d-96a1-20793e22ba30",
   "metadata": {},
   "outputs": [
    {
     "name": "stdout",
     "output_type": "stream",
     "text": [
      "Text : 'Duckduck go is awesome and it is getting better everyday'\n"
     ]
    }
   ],
   "source": [
    "content = 'Duckduck go is awesome and it is getting better everyday'\n",
    "\n",
    "print('Text : {!r}'.format(content))"
   ]
  },
  {
   "cell_type": "code",
   "execution_count": 4,
   "id": "be326788-50e0-45f2-a161-254fae3b33e2",
   "metadata": {},
   "outputs": [
    {
     "name": "stdout",
     "output_type": "stream",
     "text": [
      "Finding  awesome ->  matched\n",
      "Finding  ocean ->  not matched\n"
     ]
    }
   ],
   "source": [
    "for regex in regex_entries:\n",
    "    print('Finding  {} -> '.format(regex.pattern), end = ' ')\n",
    "\n",
    "    if(regex.search(content)):\n",
    "        print('matched')\n",
    "    else:\n",
    "        print('not matched')"
   ]
  },
  {
   "cell_type": "code",
   "execution_count": null,
   "id": "f866b6e2-daff-479a-ae77-2654bed03ee0",
   "metadata": {},
   "outputs": [],
   "source": []
  }
 ],
 "metadata": {
  "kernelspec": {
   "display_name": "Python 3 (ipykernel)",
   "language": "python",
   "name": "python3"
  },
  "language_info": {
   "codemirror_mode": {
    "name": "ipython",
    "version": 3
   },
   "file_extension": ".py",
   "mimetype": "text/x-python",
   "name": "python",
   "nbconvert_exporter": "python",
   "pygments_lexer": "ipython3",
   "version": "3.12.4"
  }
 },
 "nbformat": 4,
 "nbformat_minor": 5
}

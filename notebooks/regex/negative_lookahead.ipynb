{
 "cells": [
  {
   "cell_type": "raw",
   "metadata": {},
   "source": [
    "---\n",
    "title: \"Negative Lookahead\"\n",
    "author: \"Raja CSP Raman\"\n",
    "date: 2019-04-20\n",
    "description: \"-\"\n",
    "type: technical_note\n",
    "draft: false\n",
    "---"
   ]
  },
  {
   "cell_type": "code",
   "execution_count": 3,
   "metadata": {},
   "outputs": [],
   "source": [
    "import re"
   ]
  },
  {
   "cell_type": "code",
   "execution_count": 4,
   "metadata": {},
   "outputs": [],
   "source": [
    "test = [ ('i sure like eating pie, but i love donuts', True),\n",
    "         ('i sure like eating pie, but i hate donuts', True),\n",
    "         ('i sure hate eating pie, but i like donuts', False) ]"
   ]
  },
  {
   "cell_type": "code",
   "execution_count": 6,
   "metadata": {},
   "outputs": [
    {
     "name": "stdout",
     "output_type": "stream",
     "text": [
      "i sure like eating pie, but i love donuts ==> pass\n",
      "i sure like eating pie, but i hate donuts ==> pass\n",
      "i sure hate eating pie, but i like donuts ==> pass\n"
     ]
    }
   ],
   "source": [
    "rx = re.compile(r\"^i ((?!hate|pie).)* pie\", re.X)\n",
    "\n",
    "for t,v in test:\n",
    "    m = rx.match(t)\n",
    "    print(t, \"==>\", \"pass\" if bool(m) == v else \"fail\")"
   ]
  },
  {
   "cell_type": "code",
   "execution_count": null,
   "metadata": {},
   "outputs": [],
   "source": []
  }
 ],
 "metadata": {
  "kernelspec": {
   "display_name": "Python 3",
   "language": "python",
   "name": "python3"
  },
  "language_info": {
   "codemirror_mode": {
    "name": "ipython",
    "version": 3
   },
   "file_extension": ".py",
   "mimetype": "text/x-python",
   "name": "python",
   "nbconvert_exporter": "python",
   "pygments_lexer": "ipython3",
   "version": "3.6.8"
  }
 },
 "nbformat": 4,
 "nbformat_minor": 2
}

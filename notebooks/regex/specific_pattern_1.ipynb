{
 "cells": [
  {
   "cell_type": "raw",
   "metadata": {},
   "source": [
    "---\n",
    "title: \"Specific Pattern 1\"\n",
    "author: \"Raja CSP Raman\"\n",
    "date: 2019-04-20\n",
    "description: \"-\"\n",
    "type: technical_note\n",
    "draft: false\n",
    "source: https://stackoverflow.com/questions/56232268/extract-word-form-string-using-regex-word-boundaries-in-python\n",
    "---"
   ]
  },
  {
   "cell_type": "code",
   "execution_count": 4,
   "metadata": {},
   "outputs": [],
   "source": [
    "import re"
   ]
  },
  {
   "cell_type": "code",
   "execution_count": 5,
   "metadata": {},
   "outputs": [
    {
     "name": "stdout",
     "output_type": "stream",
     "text": [
      "[]\n"
     ]
    }
   ],
   "source": [
    "fn = \"DC_QnA_bo_v.15.12.3_DE_duplicates.xlsx\"\n",
    "rgx = re.compile('\\b_[A-Z]{2}\\b')\n",
    "print(re.findall(rgx, fn))"
   ]
  },
  {
   "cell_type": "code",
   "execution_count": 6,
   "metadata": {},
   "outputs": [
    {
     "name": "stdout",
     "output_type": "stream",
     "text": [
      "['DE']\n"
     ]
    }
   ],
   "source": [
    "rgx = re.compile('(?<=_)[A-Z]+(?=_)')\n",
    "print(re.findall(rgx, fn))"
   ]
  },
  {
   "cell_type": "code",
   "execution_count": null,
   "metadata": {},
   "outputs": [],
   "source": []
  }
 ],
 "metadata": {
  "kernelspec": {
   "display_name": "Python 3",
   "language": "python",
   "name": "python3"
  },
  "language_info": {
   "codemirror_mode": {
    "name": "ipython",
    "version": 3
   },
   "file_extension": ".py",
   "mimetype": "text/x-python",
   "name": "python",
   "nbconvert_exporter": "python",
   "pygments_lexer": "ipython3",
   "version": "3.6.8"
  }
 },
 "nbformat": 4,
 "nbformat_minor": 2
}

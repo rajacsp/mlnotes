{
 "cells": [
  {
   "cell_type": "raw",
   "metadata": {},
   "source": [
    "---\n",
    "title: \"Phone Number Search\"\n",
    "author: \"Raja CSP Raman\"\n",
    "date: 2019-04-20\n",
    "description: \"-\"\n",
    "type: technical_note\n",
    "draft: false\n",
    "---"
   ]
  },
  {
   "cell_type": "code",
   "execution_count": 3,
   "metadata": {},
   "outputs": [],
   "source": [
    "import re"
   ]
  },
  {
   "cell_type": "code",
   "execution_count": 10,
   "metadata": {},
   "outputs": [
    {
     "name": "stdout",
     "output_type": "stream",
     "text": [
      "Allison Neu 555-8396\n",
      "Cathy Neu 555-2362\n",
      "Jack Neu 555-7666\n",
      "Jack Neu 555-7666\n",
      "Jeb Neu 555-5543\n",
      "Jeb Neu 555-5543\n",
      "Jennifer Neu 555-3652\n",
      "Jennifer Neu 555-3652\n",
      "Ken Neu 555-8752\n"
     ]
    }
   ],
   "source": [
    "fh = open(\"sample_phone_book.txt\")\n",
    "\n",
    "for line in fh:\n",
    "    if re.search(r\"J.*Neu\",line):\n",
    "        print(line.rstrip())\n",
    "        \n",
    "    if re.search(r\"a*Neu\",line):\n",
    "        print(line.rstrip())\n",
    "fh.close()"
   ]
  },
  {
   "cell_type": "markdown",
   "metadata": {},
   "source": [
    "##### Regex Tips\n",
    "\n",
    "The special sequences consist of \"\\\\\" and a character from the following list:\n",
    "\n",
    "\\d\tMatches any decimal digit; equivalent to the set [0-9].\n",
    "\n",
    "\\D\tThe complement of \\d. It matches any non-digit character; equivalent to the set [^0-9].\n",
    "\n",
    "\\s\tMatches any whitespace character; equivalent to [ \\t\\n\\r\\f\\v].\n",
    "\n",
    "\\S\tThe complement of \\s. It matches any non-whitespace character; equiv. to [^ \\t\\n\\r\\f\\v].\n",
    "\n",
    "\\w\tMatches any alphanumeric character; equivalent to [a-zA-Z0-9_]. With LOCALE, it will match the set [a-zA-Z0-9_] plus characters defined as letters for the current locale.\n",
    "\n",
    "\\W\tMatches the complement of \\w.\n",
    "\n",
    "\\b\tMatches the empty string, but only at the start or end of a word.\n",
    "\n",
    "\\B\tMatches the empty string, but not at the start or end of a word.\n",
    "\n",
    "\\\\\tMatches a literal backslash."
   ]
  },
  {
   "cell_type": "code",
   "execution_count": null,
   "metadata": {},
   "outputs": [],
   "source": []
  }
 ],
 "metadata": {
  "kernelspec": {
   "display_name": "Python 3",
   "language": "python",
   "name": "python3"
  },
  "language_info": {
   "codemirror_mode": {
    "name": "ipython",
    "version": 3
   },
   "file_extension": ".py",
   "mimetype": "text/x-python",
   "name": "python",
   "nbconvert_exporter": "python",
   "pygments_lexer": "ipython3",
   "version": "3.6.8"
  }
 },
 "nbformat": 4,
 "nbformat_minor": 2
}

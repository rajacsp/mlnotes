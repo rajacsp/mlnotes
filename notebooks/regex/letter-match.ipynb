{
 "cells": [
  {
   "cell_type": "raw",
   "metadata": {},
   "source": [
    "---\n",
    "title: \"Letter Match\"\n",
    "author: \"Raja CSP Raman\"\n",
    "date: 2019-04-20\n",
    "description: \"-\"\n",
    "type: technical_note\n",
    "draft: false\n",
    "---"
   ]
  },
  {
   "cell_type": "code",
   "execution_count": 1,
   "metadata": {},
   "outputs": [],
   "source": [
    "import re"
   ]
  },
  {
   "cell_type": "code",
   "execution_count": 3,
   "metadata": {},
   "outputs": [],
   "source": [
    "contents = [\n",
    "    \"AB23\",\n",
    "    \"A2B3\", \n",
    "    \"DE09\",\n",
    "    \"MN90\",\n",
    "    \"XYi9\",\n",
    "    \"XY90\"\n",
    "]"
   ]
  },
  {
   "cell_type": "code",
   "execution_count": 4,
   "metadata": {},
   "outputs": [
    {
     "name": "stdout",
     "output_type": "stream",
     "text": [
      "matched : AB23\n",
      "matched : DE09\n",
      "matched : XY90\n"
     ]
    }
   ],
   "source": [
    "for content in contents:\n",
    "    regex_pattern = \"(?:AB|DE|XY)\\d+\" \n",
    "    # starts with AB or DE; should contain one or more number\n",
    "\n",
    "    m = re.match(regex_pattern, content)\n",
    "\n",
    "    if(m):\n",
    "        print('matched : '+content)"
   ]
  },
  {
   "cell_type": "code",
   "execution_count": null,
   "metadata": {},
   "outputs": [],
   "source": []
  }
 ],
 "metadata": {
  "kernelspec": {
   "display_name": "Python 3",
   "language": "python",
   "name": "python3"
  },
  "language_info": {
   "codemirror_mode": {
    "name": "ipython",
    "version": 3
   },
   "file_extension": ".py",
   "mimetype": "text/x-python",
   "name": "python",
   "nbconvert_exporter": "python",
   "pygments_lexer": "ipython3",
   "version": "3.6.8"
  }
 },
 "nbformat": 4,
 "nbformat_minor": 2
}

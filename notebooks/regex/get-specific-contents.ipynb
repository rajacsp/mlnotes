{
 "cells": [
  {
   "cell_type": "raw",
   "metadata": {},
   "source": [
    "---\n",
    "title: \"Get Specific Contents\"\n",
    "author: \"Raja CSP Raman\"\n",
    "date: 2019-04-20\n",
    "description: \"-\"\n",
    "type: technical_note\n",
    "draft: false\n",
    "---"
   ]
  },
  {
   "cell_type": "code",
   "execution_count": 1,
   "metadata": {},
   "outputs": [],
   "source": [
    "content = \"\"\"<!DOCTYPE html>\n",
    "\n",
    "  <!-- The following setting enables collapsible lists -->\n",
    "  <p>\n",
    "  <a href=\"#human\">Human</a></p>\n",
    "\n",
    "  <p class=\"collapse-section\">\n",
    "  <a class=\"collapsed collapse-toggle\" data-toggle=\"collapse\" \n",
    "  href=#mammals>Mammals</a>\n",
    "  <div class=\"collapse\" id=\"mammals\">\n",
    "  <ul>\n",
    "  <li><a href=\"#alpaca\">Alpaca</a>\n",
    "  <li><a href=\"#armadillo\">Armadillo</a>\n",
    "  <li><a href=\"#sequence_only\">Armadillo</a> (sequence only)\n",
    "  <li><a href=\"#baboon\">Baboon</a>\n",
    "  <li><a href=\"#bison\">Bison</a>\n",
    "  <li><a href=\"#bonobo\">Bonobo</a>\n",
    "  <li><a href=\"#brown_kiwi\">Brown kiwi</a>\n",
    "  <li><a href=\"#bushbaby\">Bushbaby</a>\n",
    "  <li><a href=\"#sequence_only\">Bushbaby</a> (sequence only)\n",
    "  <li><a href=\"#cat\">Cat</a>\n",
    "  <li><a href=\"#chimp\">Chimpanzee</a>\n",
    "  <li><a href=\"#chinese_hamster\">Chinese hamster</a>\n",
    "  <li><a href=\"#chinese_pangolin\">Chinese pangolin</a>\n",
    "  <li><a href=\"#cow\">Cow</a>\n",
    "  <li><a href=\"#crab-eating_macaque\">Crab-eating_macaque</a>\n",
    "  <div class=\"gbFooterCopyright\">\n",
    "  &copy; 2017 The Regents of the University of California. All \n",
    "  Rights Reserved.\n",
    "  <br>\n",
    "  <a href=\"https://genome.ucsc.edu/conditions.html\">Conditions of \n",
    "  Use</a>\n",
    "  </div>\"\"\""
   ]
  },
  {
   "cell_type": "code",
   "execution_count": 2,
   "metadata": {},
   "outputs": [
    {
     "data": {
      "text/plain": [
       "'<!DOCTYPE html>\\n\\n  <!-- The following setting enables collapsible lists -->\\n  <p>\\n  <a href=\"#human\">Human</a></p>\\n\\n  <p class=\"collapse-section\">\\n  <a class=\"collapsed collapse-toggle\" data-toggle=\"collapse\" \\n  href=#mammals>Mammals</a>\\n  <div class=\"collapse\" id=\"mammals\">\\n  <ul>\\n  <li><a href=\"#alpaca\">Alpaca</a>\\n  <li><a href=\"#armadillo\">Armadillo</a>\\n  <li><a href=\"#sequence_only\">Armadillo</a> (sequence only)\\n  <li><a href=\"#baboon\">Baboon</a>\\n  <li><a href=\"#bison\">Bison</a>\\n  <li><a href=\"#bonobo\">Bonobo</a>\\n  <li><a href=\"#brown_kiwi\">Brown kiwi</a>\\n  <li><a href=\"#bushbaby\">Bushbaby</a>\\n  <li><a href=\"#sequence_only\">Bushbaby</a> (sequence only)\\n  <li><a href=\"#cat\">Cat</a>\\n  <li><a href=\"#chimp\">Chimpanzee</a>\\n  <li><a href=\"#chinese_hamster\">Chinese hamster</a>\\n  <li><a href=\"#chinese_pangolin\">Chinese pangolin</a>\\n  <li><a href=\"#cow\">Cow</a>\\n  <li><a href=\"#crab-eating_macaque\">Crab-eating_macaque</a>\\n  <div class=\"gbFooterCopyright\">\\n  &copy; 2017 The Regents of the University of California. All \\n  Rights Reserved.\\n  <br>\\n  <a href=\"https://genome.ucsc.edu/conditions.html\">Conditions of \\n  Use</a>\\n  </div>'"
      ]
     },
     "execution_count": 2,
     "metadata": {},
     "output_type": "execute_result"
    }
   ],
   "source": [
    "content"
   ]
  },
  {
   "cell_type": "code",
   "execution_count": 7,
   "metadata": {},
   "outputs": [
    {
     "name": "stdout",
     "output_type": "stream",
     "text": [
      "Alpaca\n",
      "Armadillo\n",
      "Baboon\n",
      "Bison\n",
      "Bonobo\n",
      "Brown kiwi\n",
      "Bushbaby\n",
      "Cat\n",
      "Chimpanzee\n",
      "Chinese hamster\n",
      "Chinese pangolin\n",
      "Cow\n",
      "Crab-eating_macaque\n"
     ]
    }
   ],
   "source": [
    "import re\n",
    "\n",
    "regex = r\"<li.+?#[^s].+?>(.+)?<\\/.+>\"\n",
    "\n",
    "find_matches = re.findall(regex, content)\n",
    "for matches in find_matches:\n",
    "    print(matches)"
   ]
  },
  {
   "cell_type": "markdown",
   "metadata": {},
   "source": [
    "Source:\n",
    "    \n",
    "    https://stackoverflow.com/questions/56223492/regex-for-extracting-specific-textcontent-in-html-tags"
   ]
  },
  {
   "cell_type": "code",
   "execution_count": null,
   "metadata": {},
   "outputs": [],
   "source": []
  }
 ],
 "metadata": {
  "kernelspec": {
   "display_name": "Python 3",
   "language": "python",
   "name": "python3"
  },
  "language_info": {
   "codemirror_mode": {
    "name": "ipython",
    "version": 3
   },
   "file_extension": ".py",
   "mimetype": "text/x-python",
   "name": "python",
   "nbconvert_exporter": "python",
   "pygments_lexer": "ipython3",
   "version": "3.6.8"
  }
 },
 "nbformat": 4,
 "nbformat_minor": 2
}

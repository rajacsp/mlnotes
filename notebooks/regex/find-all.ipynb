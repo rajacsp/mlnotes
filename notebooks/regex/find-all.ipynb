{
 "cells": [
  {
   "cell_type": "raw",
   "metadata": {},
   "source": [
    "---\n",
    "title: \"Find All\"\n",
    "author: \"Raja CSP Raman\"\n",
    "date: 2019-04-20\n",
    "description: \"-\"\n",
    "type: technical_note\n",
    "draft: false\n",
    "---"
   ]
  },
  {
   "cell_type": "code",
   "execution_count": 8,
   "metadata": {},
   "outputs": [],
   "source": [
    "content = \"\"\"OSPF Process 1 with Router ID 1.1.1.1\n",
    "                       Area: 0.0.0.11\n",
    "               Link State Database  \n",
    "               Router test \n",
    "               Maintenance\n",
    "\"\"\""
   ]
  },
  {
   "cell_type": "code",
   "execution_count": 9,
   "metadata": {},
   "outputs": [
    {
     "data": {
      "text/plain": [
       "'OSPF Process 1 with Router ID 1.1.1.1\\n                       Area: 0.0.0.11\\n               Link State Database  \\n               Router test \\n               Maintenance\\n'"
      ]
     },
     "execution_count": 9,
     "metadata": {},
     "output_type": "execute_result"
    }
   ],
   "source": [
    "content"
   ]
  },
  {
   "cell_type": "code",
   "execution_count": 10,
   "metadata": {},
   "outputs": [
    {
     "name": "stdout",
     "output_type": "stream",
     "text": [
      "['OSPF Process 1 with Router ID 1.1.1.1', '                       Area: 0.0.0.11', '               Link State Database  ', '               Router test ', '               Maintenance', '']\n"
     ]
    }
   ],
   "source": [
    "import re\n",
    "\n",
    "regex = \"OSPF|Area|Link\"\n",
    "\n",
    "lines = content.split(\"\\n\")\n",
    "\n",
    "print(lines)\n",
    "\n"
   ]
  },
  {
   "cell_type": "code",
   "execution_count": 11,
   "metadata": {},
   "outputs": [
    {
     "name": "stdout",
     "output_type": "stream",
     "text": [
      "OSPF Process 1 with Router ID 1.1.1.1\n",
      "                       Area: 0.0.0.11\n",
      "               Link State Database  \n",
      "               Router test \n",
      "               Maintenance\n",
      "\n"
     ]
    }
   ],
   "source": [
    "for line in lines:\n",
    "    print(line)"
   ]
  },
  {
   "cell_type": "code",
   "execution_count": 12,
   "metadata": {},
   "outputs": [
    {
     "name": "stdout",
     "output_type": "stream",
     "text": [
      "               Router test \n",
      "               Maintenance\n",
      "\n"
     ]
    }
   ],
   "source": [
    "for line in lines:\n",
    "    if not re.findall(regex, line):\n",
    "        print(line)"
   ]
  }
 ],
 "metadata": {
  "kernelspec": {
   "display_name": "Python 3",
   "language": "python",
   "name": "python3"
  },
  "language_info": {
   "codemirror_mode": {
    "name": "ipython",
    "version": 3
   },
   "file_extension": ".py",
   "mimetype": "text/x-python",
   "name": "python",
   "nbconvert_exporter": "python",
   "pygments_lexer": "ipython3",
   "version": "3.6.8"
  }
 },
 "nbformat": 4,
 "nbformat_minor": 2
}

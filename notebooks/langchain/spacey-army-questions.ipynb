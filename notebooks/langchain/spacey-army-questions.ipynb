{
 "cells": [
  {
   "cell_type": "code",
   "execution_count": 1,
   "id": "dd7659a3-7179-4301-a37c-71f199a5ce01",
   "metadata": {},
   "outputs": [
    {
     "name": "stdout",
     "output_type": "stream",
     "text": [
      "Python 3.12.4\n"
     ]
    }
   ],
   "source": [
    "!python --version"
   ]
  },
  {
   "cell_type": "code",
   "execution_count": 2,
   "id": "2da6a07d-0d4a-43fa-9585-db25cdecaafc",
   "metadata": {},
   "outputs": [],
   "source": [
    "from constants import OPENAI_API_KEY"
   ]
  },
  {
   "cell_type": "code",
   "execution_count": 3,
   "id": "728f6583-ffce-452a-8023-ba78ecce262f",
   "metadata": {},
   "outputs": [
    {
     "name": "stdout",
     "output_type": "stream",
     "text": [
      "Version: 0.2.9\n"
     ]
    }
   ],
   "source": [
    "!pip show langchain-openai | grep \"Version:\""
   ]
  },
  {
   "cell_type": "code",
   "execution_count": 4,
   "id": "be6a9afe-e358-4ed8-a066-1c9853df011b",
   "metadata": {},
   "outputs": [],
   "source": [
    "import os"
   ]
  },
  {
   "cell_type": "code",
   "execution_count": 5,
   "id": "f51bd7d5-9165-45fd-a700-85f67592b080",
   "metadata": {},
   "outputs": [],
   "source": [
    "os.environ[\"OPENAI_API_KEY\"] = OPENAI_API_KEY"
   ]
  },
  {
   "cell_type": "code",
   "execution_count": 6,
   "id": "c436802f-9fc7-42ea-b50c-4d50c6e653ca",
   "metadata": {},
   "outputs": [],
   "source": [
    "from langchain_openai import ChatOpenAI\n",
    "\n",
    "model = ChatOpenAI(model=\"gpt-4o-mini\")"
   ]
  },
  {
   "cell_type": "code",
   "execution_count": 7,
   "id": "7ed6c3be-f0fa-4857-862a-43627bc25c4e",
   "metadata": {},
   "outputs": [],
   "source": [
    "# https://python.langchain.com/docs/how_to/passthrough/"
   ]
  },
  {
   "cell_type": "code",
   "execution_count": 8,
   "id": "76dc8d3a-02ae-4ccd-a87d-fb90fdde95c5",
   "metadata": {},
   "outputs": [],
   "source": [
    "content = \"\"\"\n",
    "In the distant future, a group of courageous teenagers known as \"The Space Army\" protected the galaxy from evil aliens. The team consisted of six members: David, the brilliant leader; Yuvan, the skilled hacker; Rahman, the quick-witted engineer; Vlad, the fearless pilot; Arthi, the resourceful scientist; and Cathy, the compassionate medic.\n",
    "\n",
    "One day, while on a routine patrol mission, The Space Army encountered a mysterious alien spaceship. As they approached, the ship fired a powerful energy blast, damaging their computer systems. The team was stranded in space, with only their wits and knowledge of Mac/Linux commands to save them.\n",
    "\n",
    "David quickly took command and ordered his team to use the \"cd\" command to navigate through the computer's directories. They then used the \"ls\" command to list the files and folders, identifying the corrupted ones. Using the \"rm\" command, they carefully deleted the damaged files, restoring some functionality to the computer.\n",
    "\n",
    "Next, they needed to create a new directory to store the repaired files. They used the \"mkdir\" command to create the directory, then used the \"mv\" command to move the repaired files into the new directory.\n",
    "\n",
    "To ensure that the computer was fully operational, they ran the \"pwd\" command to check their current directory and the \"history\" command to review the commands they had executed. They also used the \"man\" command to access the manual pages for various commands, gaining a deeper understanding of their capabilities.\n",
    "\n",
    "But their troubles were far from over. The aliens launched a full-scale attack on the Space Station, unleashing a barrage of computer viruses and malware. The Space Army had to act quickly to protect their systems.\n",
    "\n",
    "Using the \"dd\" command, they created a disk image of the entire computer system, providing them with a backup in case of further damage. They then employed the \"tar\" command to compress the disk image, making it easier to transfer and store.\n",
    "\n",
    "As the alien computers bombarded them with malicious code, the Space Army fought back with the \"rm\" and \"rmdir\" commands, deleting the infected files and directories and restoring the system to a clean state. They also utilized the \"touch\" command to create dummy files, confusing the aliens and wasting their resources.\n",
    "\n",
    "Finally, the Space Army unleashed their secret weapon: the \"cat\" command. They used it to concatenate multiple files into a single, powerful command that launched a counterattack on the alien computers. The aliens' systems were overwhelmed and eventually crashed, leaving them defenseless.\n",
    "\n",
    "With the alien threat neutralized, The Space Army celebrated their victory. They had not only saved their Space Station but also demonstrated the incredible power of Mac/Linux commands in the hands of skilled and determined individuals. From that day forward, they became known as the legendary cyber warriors, inspiring future generations of tech-savvy heroes to protect the galaxy from evil.\n",
    "\"\"\""
   ]
  },
  {
   "cell_type": "code",
   "execution_count": 9,
   "id": "6b48eb1b-f9ec-4b20-8e37-535e2e0b722a",
   "metadata": {},
   "outputs": [],
   "source": [
    "content_list = [line for line in content.splitlines() if line.strip()]"
   ]
  },
  {
   "cell_type": "code",
   "execution_count": 10,
   "id": "b86565d0-430b-4856-9241-e54afa0440b0",
   "metadata": {},
   "outputs": [],
   "source": [
    "from langchain_community.vectorstores import FAISS\n",
    "from langchain_core.output_parsers import StrOutputParser\n",
    "from langchain_core.prompts import ChatPromptTemplate\n",
    "from langchain_core.runnables import RunnablePassthrough\n",
    "from langchain_openai import ChatOpenAI, OpenAIEmbeddings\n",
    "\n",
    "vectorstore = FAISS.from_texts(\n",
    "    content_list, \n",
    "    embedding=OpenAIEmbeddings()\n",
    ")\n",
    "retriever = vectorstore.as_retriever()\n",
    "template = \"\"\"Answer the question based only on the following context:\n",
    "{context}\n",
    "\n",
    "Question: {question}\n",
    "\"\"\"\n",
    "prompt = ChatPromptTemplate.from_template(template)\n",
    "model = ChatOpenAI()\n",
    "\n",
    "retrieval_chain = (\n",
    "    {\"context\": retriever, \"question\": RunnablePassthrough()}\n",
    "    | prompt\n",
    "    | model\n",
    "    | StrOutputParser()\n",
    ")"
   ]
  },
  {
   "cell_type": "code",
   "execution_count": 26,
   "id": "fa4839c2-cc3e-48da-9915-d16aa5e095c8",
   "metadata": {},
   "outputs": [
    {
     "data": {
      "text/plain": [
       "'Periyar was born in Tamil Nadu, India.'"
      ]
     },
     "execution_count": 26,
     "metadata": {},
     "output_type": "execute_result"
    }
   ],
   "source": [
    "retrieval_chain.invoke(\"where was Periyar born?\")"
   ]
  },
  {
   "cell_type": "code",
   "execution_count": 27,
   "id": "1ad019da-b60a-4f50-bf4b-60298b9cecb6",
   "metadata": {},
   "outputs": [
    {
     "data": {
      "text/plain": [
       "'Self-respect is a concept promoted by the founder of the Self-Respect Movement, Periyar, to challenge caste oppression and social inequality.'"
      ]
     },
     "execution_count": 27,
     "metadata": {},
     "output_type": "execute_result"
    }
   ],
   "source": [
    "retrieval_chain.invoke(\"tell me about Self respect\")"
   ]
  },
  {
   "cell_type": "code",
   "execution_count": null,
   "id": "69c69fb5-5beb-46b1-a1a0-2b9c04ecc2dc",
   "metadata": {},
   "outputs": [],
   "source": []
  }
 ],
 "metadata": {
  "kernelspec": {
   "display_name": "Python 3 (ipykernel)",
   "language": "python",
   "name": "python3"
  },
  "language_info": {
   "codemirror_mode": {
    "name": "ipython",
    "version": 3
   },
   "file_extension": ".py",
   "mimetype": "text/x-python",
   "name": "python",
   "nbconvert_exporter": "python",
   "pygments_lexer": "ipython3",
   "version": "3.12.4"
  }
 },
 "nbformat": 4,
 "nbformat_minor": 5
}

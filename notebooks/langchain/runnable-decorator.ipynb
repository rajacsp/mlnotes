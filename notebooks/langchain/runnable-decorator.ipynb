{
 "cells": [
  {
   "cell_type": "code",
   "execution_count": 15,
   "id": "dd7659a3-7179-4301-a37c-71f199a5ce01",
   "metadata": {},
   "outputs": [
    {
     "name": "stdout",
     "output_type": "stream",
     "text": [
      "Python 3.12.4\n"
     ]
    }
   ],
   "source": [
    "!python --version"
   ]
  },
  {
   "cell_type": "code",
   "execution_count": 16,
   "id": "34a75dbf-ed41-4f55-bce8-4c9f11087a6f",
   "metadata": {},
   "outputs": [],
   "source": [
    "# https://python.langchain.com/docs/how_to/streaming/"
   ]
  },
  {
   "cell_type": "code",
   "execution_count": 17,
   "id": "2da6a07d-0d4a-43fa-9585-db25cdecaafc",
   "metadata": {},
   "outputs": [],
   "source": [
    "from constants import OPENAI_API_KEY"
   ]
  },
  {
   "cell_type": "code",
   "execution_count": 18,
   "id": "728f6583-ffce-452a-8023-ba78ecce262f",
   "metadata": {},
   "outputs": [
    {
     "name": "stdout",
     "output_type": "stream",
     "text": [
      "Version: 0.2.9\n"
     ]
    }
   ],
   "source": [
    "!pip show langchain-openai | grep \"Version:\""
   ]
  },
  {
   "cell_type": "code",
   "execution_count": 19,
   "id": "be6a9afe-e358-4ed8-a066-1c9853df011b",
   "metadata": {},
   "outputs": [],
   "source": [
    "import os"
   ]
  },
  {
   "cell_type": "code",
   "execution_count": 20,
   "id": "f51bd7d5-9165-45fd-a700-85f67592b080",
   "metadata": {},
   "outputs": [],
   "source": [
    "os.environ[\"OPENAI_API_KEY\"] = OPENAI_API_KEY"
   ]
  },
  {
   "cell_type": "code",
   "execution_count": 21,
   "id": "c436802f-9fc7-42ea-b50c-4d50c6e653ca",
   "metadata": {},
   "outputs": [],
   "source": [
    "from langchain_openai import ChatOpenAI\n",
    "\n",
    "model = ChatOpenAI(model=\"gpt-4o-mini\")"
   ]
  },
  {
   "cell_type": "code",
   "execution_count": 22,
   "id": "418056bc-0e22-4b17-9227-a1e6eff31ce3",
   "metadata": {},
   "outputs": [
    {
     "name": "stdout",
     "output_type": "stream",
     "text": [
      "{'event': 'on_chain_start', 'data': {'input': '1234'}, 'name': 'reverse_and_double', 'tags': [], 'run_id': 'c72a7fc4-e797-4c2d-988a-5601649e64f6', 'metadata': {}, 'parent_ids': []}\n",
      "{'event': 'on_chain_start', 'data': {'input': '1234'}, 'name': 'reverse_word', 'tags': [], 'run_id': '94ae81e8-278f-455a-8217-6844fa7b6e0b', 'metadata': {}, 'parent_ids': ['c72a7fc4-e797-4c2d-988a-5601649e64f6']}\n",
      "{'event': 'on_chain_end', 'data': {'output': '4321', 'input': '1234'}, 'run_id': '94ae81e8-278f-455a-8217-6844fa7b6e0b', 'name': 'reverse_word', 'tags': [], 'metadata': {}, 'parent_ids': ['c72a7fc4-e797-4c2d-988a-5601649e64f6']}\n",
      "{'event': 'on_chain_stream', 'run_id': 'c72a7fc4-e797-4c2d-988a-5601649e64f6', 'name': 'reverse_and_double', 'tags': [], 'metadata': {}, 'data': {'chunk': '43214321'}, 'parent_ids': []}\n",
      "{'event': 'on_chain_end', 'data': {'output': '43214321'}, 'run_id': 'c72a7fc4-e797-4c2d-988a-5601649e64f6', 'name': 'reverse_and_double', 'tags': [], 'metadata': {}, 'parent_ids': []}\n"
     ]
    }
   ],
   "source": [
    "from langchain_core.runnables import chain\n",
    "\n",
    "@chain\n",
    "async def reverse_word(word: str):\n",
    "    return word[::-1]\n",
    "\n",
    "@chain\n",
    "async def reverse_and_double(word: str):\n",
    "    return await reverse_word.ainvoke(word) * 2\n",
    "\n",
    "\n",
    "await reverse_and_double.ainvoke(\"1234\")\n",
    "\n",
    "async for event in reverse_and_double.astream_events(\"1234\", version=\"v2\"):\n",
    "    print(event)"
   ]
  },
  {
   "cell_type": "code",
   "execution_count": 25,
   "id": "f804065d-2e1f-418f-a667-9d4393c7f758",
   "metadata": {},
   "outputs": [
    {
     "name": "stdout",
     "output_type": "stream",
     "text": [
      "{'event': 'on_chain_start', 'run_id': '640b164c-8b92-403b-9f47-718b87b10c39', 'name': 'reverse_and_double', 'tags': [], 'metadata': {}, 'data': {'input': '1234'}, 'parent_ids': []}\n",
      "{'event': 'on_chain_start', 'name': 'reverse_word', 'run_id': '02a4c4ee-1769-40a2-947b-bc855d0044b0', 'tags': [], 'metadata': {}, 'data': {'input': '1234'}, 'parent_ids': []}\n",
      "{'event': 'on_chain_end', 'name': 'reverse_word', 'run_id': '02a4c4ee-1769-40a2-947b-bc855d0044b0', 'tags': [], 'metadata': {}, 'data': {'input': '1234', 'output': '4321'}, 'parent_ids': []}\n",
      "{'event': 'on_chain_stream', 'run_id': '640b164c-8b92-403b-9f47-718b87b10c39', 'tags': [], 'metadata': {}, 'name': 'reverse_and_double', 'data': {'chunk': '43214321'}, 'parent_ids': []}\n",
      "{'event': 'on_chain_end', 'name': 'reverse_and_double', 'run_id': '640b164c-8b92-403b-9f47-718b87b10c39', 'tags': [], 'metadata': {}, 'data': {'output': '43214321'}, 'parent_ids': []}\n"
     ]
    }
   ],
   "source": [
    "async for event in reverse_and_double.astream_events(\"1234\", version=\"v1\"):\n",
    "    print(event)"
   ]
  },
  {
   "cell_type": "code",
   "execution_count": null,
   "id": "1a813bef-2d6b-48c8-a85e-6418f22e7b7b",
   "metadata": {},
   "outputs": [],
   "source": []
  },
  {
   "cell_type": "code",
   "execution_count": null,
   "id": "68813997-48c1-4943-9953-9b3e889f7043",
   "metadata": {},
   "outputs": [],
   "source": []
  }
 ],
 "metadata": {
  "kernelspec": {
   "display_name": "Python 3 (ipykernel)",
   "language": "python",
   "name": "python3"
  },
  "language_info": {
   "codemirror_mode": {
    "name": "ipython",
    "version": 3
   },
   "file_extension": ".py",
   "mimetype": "text/x-python",
   "name": "python",
   "nbconvert_exporter": "python",
   "pygments_lexer": "ipython3",
   "version": "3.12.4"
  }
 },
 "nbformat": 4,
 "nbformat_minor": 5
}

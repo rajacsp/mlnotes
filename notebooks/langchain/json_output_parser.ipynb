{
 "cells": [
  {
   "cell_type": "code",
   "execution_count": 1,
   "id": "2da6a07d-0d4a-43fa-9585-db25cdecaafc",
   "metadata": {},
   "outputs": [],
   "source": [
    "from constants import OPENAI_API_KEY"
   ]
  },
  {
   "cell_type": "code",
   "execution_count": 2,
   "id": "728f6583-ffce-452a-8023-ba78ecce262f",
   "metadata": {},
   "outputs": [
    {
     "name": "stdout",
     "output_type": "stream",
     "text": [
      "Version: 0.2.9\n"
     ]
    }
   ],
   "source": [
    "!pip show langchain-openai | grep \"Version:\""
   ]
  },
  {
   "cell_type": "code",
   "execution_count": 3,
   "id": "be6a9afe-e358-4ed8-a066-1c9853df011b",
   "metadata": {},
   "outputs": [],
   "source": [
    "import os"
   ]
  },
  {
   "cell_type": "code",
   "execution_count": 4,
   "id": "f51bd7d5-9165-45fd-a700-85f67592b080",
   "metadata": {},
   "outputs": [],
   "source": [
    "os.environ[\"OPENAI_API_KEY\"] = OPENAI_API_KEY"
   ]
  },
  {
   "cell_type": "code",
   "execution_count": 5,
   "id": "c436802f-9fc7-42ea-b50c-4d50c6e653ca",
   "metadata": {},
   "outputs": [],
   "source": [
    "from langchain_openai import ChatOpenAI\n",
    "\n",
    "model = ChatOpenAI(model=\"gpt-4o-mini\")"
   ]
  },
  {
   "cell_type": "code",
   "execution_count": 6,
   "id": "8fbbe04b-882f-48f7-b177-024cf51a4515",
   "metadata": {},
   "outputs": [
    {
     "name": "stdout",
     "output_type": "stream",
     "text": [
      "{}\n",
      "{'countries': []}\n",
      "{'countries': [{}]}\n",
      "{'countries': [{'name': ''}]}\n",
      "{'countries': [{'name': 'France'}]}\n",
      "{'countries': [{'name': 'France', 'population': 652}]}\n",
      "{'countries': [{'name': 'France', 'population': 652735}]}\n",
      "{'countries': [{'name': 'France', 'population': 65273511}]}\n",
      "{'countries': [{'name': 'France', 'population': 65273511}, {}]}\n",
      "{'countries': [{'name': 'France', 'population': 65273511}, {'name': ''}]}\n",
      "{'countries': [{'name': 'France', 'population': 65273511}, {'name': 'Spain'}]}\n",
      "{'countries': [{'name': 'France', 'population': 65273511}, {'name': 'Spain', 'population': 467}]}\n",
      "{'countries': [{'name': 'France', 'population': 65273511}, {'name': 'Spain', 'population': 467547}]}\n",
      "{'countries': [{'name': 'France', 'population': 65273511}, {'name': 'Spain', 'population': 46754778}]}\n",
      "{'countries': [{'name': 'France', 'population': 65273511}, {'name': 'Spain', 'population': 46754778}, {}]}\n",
      "{'countries': [{'name': 'France', 'population': 65273511}, {'name': 'Spain', 'population': 46754778}, {'name': ''}]}\n",
      "{'countries': [{'name': 'France', 'population': 65273511}, {'name': 'Spain', 'population': 46754778}, {'name': 'Japan'}]}\n",
      "{'countries': [{'name': 'France', 'population': 65273511}, {'name': 'Spain', 'population': 46754778}, {'name': 'Japan', 'population': 126}]}\n",
      "{'countries': [{'name': 'France', 'population': 65273511}, {'name': 'Spain', 'population': 46754778}, {'name': 'Japan', 'population': 126476}]}\n",
      "{'countries': [{'name': 'France', 'population': 65273511}, {'name': 'Spain', 'population': 46754778}, {'name': 'Japan', 'population': 126476461}]}\n"
     ]
    }
   ],
   "source": [
    "from langchain_core.output_parsers import JsonOutputParser\n",
    "\n",
    "chain = (\n",
    "    model | JsonOutputParser()\n",
    ")  # Due to a bug in older versions of Langchain, JsonOutputParser did not stream results from some models\n",
    "async for text in chain.astream(\n",
    "    \"output a list of the countries france, spain and japan and their populations in JSON format. \"\n",
    "    'Use a dict with an outer key of \"countries\" which contains a list of countries. '\n",
    "    \"Each country should have the key `name` and `population`\"\n",
    "):\n",
    "    print(text, flush=True)"
   ]
  },
  {
   "cell_type": "code",
   "execution_count": 7,
   "id": "8719e9e7-6b85-41ca-8baf-6bc9d8ab9b09",
   "metadata": {},
   "outputs": [
    {
     "name": "stdout",
     "output_type": "stream",
     "text": [
      "{}\n",
      "{'countries': []}\n",
      "{'countries': [{}]}\n",
      "{'countries': [{'name': ''}]}\n",
      "{'countries': [{'name': 'India'}]}\n",
      "{'countries': [{'name': 'India', 'capital': ''}]}\n",
      "{'countries': [{'name': 'India', 'capital': 'New'}]}\n",
      "{'countries': [{'name': 'India', 'capital': 'New Delhi'}]}\n",
      "{'countries': [{'name': 'India', 'capital': 'New Delhi', 'number_of_states': 28}]}\n",
      "{'countries': [{'name': 'India', 'capital': 'New Delhi', 'number_of_states': 28}, {}]}\n",
      "{'countries': [{'name': 'India', 'capital': 'New Delhi', 'number_of_states': 28}, {'name': ''}]}\n",
      "{'countries': [{'name': 'India', 'capital': 'New Delhi', 'number_of_states': 28}, {'name': 'Canada'}]}\n",
      "{'countries': [{'name': 'India', 'capital': 'New Delhi', 'number_of_states': 28}, {'name': 'Canada', 'capital': ''}]}\n",
      "{'countries': [{'name': 'India', 'capital': 'New Delhi', 'number_of_states': 28}, {'name': 'Canada', 'capital': 'Ott'}]}\n",
      "{'countries': [{'name': 'India', 'capital': 'New Delhi', 'number_of_states': 28}, {'name': 'Canada', 'capital': 'Ottawa'}]}\n",
      "{'countries': [{'name': 'India', 'capital': 'New Delhi', 'number_of_states': 28}, {'name': 'Canada', 'capital': 'Ottawa', 'number_of_states': 10}]}\n",
      "{'countries': [{'name': 'India', 'capital': 'New Delhi', 'number_of_states': 28}, {'name': 'Canada', 'capital': 'Ottawa', 'number_of_states': 10}, {}]}\n",
      "{'countries': [{'name': 'India', 'capital': 'New Delhi', 'number_of_states': 28}, {'name': 'Canada', 'capital': 'Ottawa', 'number_of_states': 10}, {'name': ''}]}\n",
      "{'countries': [{'name': 'India', 'capital': 'New Delhi', 'number_of_states': 28}, {'name': 'Canada', 'capital': 'Ottawa', 'number_of_states': 10}, {'name': 'China'}]}\n",
      "{'countries': [{'name': 'India', 'capital': 'New Delhi', 'number_of_states': 28}, {'name': 'Canada', 'capital': 'Ottawa', 'number_of_states': 10}, {'name': 'China', 'capital': ''}]}\n",
      "{'countries': [{'name': 'India', 'capital': 'New Delhi', 'number_of_states': 28}, {'name': 'Canada', 'capital': 'Ottawa', 'number_of_states': 10}, {'name': 'China', 'capital': 'Be'}]}\n",
      "{'countries': [{'name': 'India', 'capital': 'New Delhi', 'number_of_states': 28}, {'name': 'Canada', 'capital': 'Ottawa', 'number_of_states': 10}, {'name': 'China', 'capital': 'Beijing'}]}\n",
      "{'countries': [{'name': 'India', 'capital': 'New Delhi', 'number_of_states': 28}, {'name': 'Canada', 'capital': 'Ottawa', 'number_of_states': 10}, {'name': 'China', 'capital': 'Beijing', 'number_of_states': 23}]}\n"
     ]
    }
   ],
   "source": [
    "chain = (\n",
    "    model | JsonOutputParser()\n",
    ")  # Due to a bug in older versions of Langchain, JsonOutputParser did not stream results from some models\n",
    "async for text in chain.astream(\n",
    "    \"output a list of the countries india, canada, chinaa and their capitals, number of states in JSON format. \"\n",
    "    'Use a dict with an outer key of \"countries\" which contains a list of countries. '\n",
    "    \"Each country should have the key `name`, 'capital' and `number_of_states`\"\n",
    "):\n",
    "    print(text, flush=True)"
   ]
  },
  {
   "cell_type": "code",
   "execution_count": null,
   "id": "e29bb52a-f0ee-4184-8176-6e2261e31dcf",
   "metadata": {},
   "outputs": [],
   "source": []
  }
 ],
 "metadata": {
  "kernelspec": {
   "display_name": "Python 3 (ipykernel)",
   "language": "python",
   "name": "python3"
  },
  "language_info": {
   "codemirror_mode": {
    "name": "ipython",
    "version": 3
   },
   "file_extension": ".py",
   "mimetype": "text/x-python",
   "name": "python",
   "nbconvert_exporter": "python",
   "pygments_lexer": "ipython3",
   "version": "3.12.4"
  }
 },
 "nbformat": 4,
 "nbformat_minor": 5
}

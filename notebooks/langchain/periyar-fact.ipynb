{
 "cells": [
  {
   "cell_type": "code",
   "execution_count": 1,
   "id": "dd7659a3-7179-4301-a37c-71f199a5ce01",
   "metadata": {},
   "outputs": [
    {
     "name": "stdout",
     "output_type": "stream",
     "text": [
      "Python 3.12.4\n"
     ]
    }
   ],
   "source": [
    "!python --version"
   ]
  },
  {
   "cell_type": "code",
   "execution_count": 2,
   "id": "2da6a07d-0d4a-43fa-9585-db25cdecaafc",
   "metadata": {},
   "outputs": [],
   "source": [
    "from constants import OPENAI_API_KEY"
   ]
  },
  {
   "cell_type": "code",
   "execution_count": 3,
   "id": "728f6583-ffce-452a-8023-ba78ecce262f",
   "metadata": {},
   "outputs": [
    {
     "name": "stdout",
     "output_type": "stream",
     "text": [
      "Version: 0.2.9\n"
     ]
    }
   ],
   "source": [
    "!pip show langchain-openai | grep \"Version:\""
   ]
  },
  {
   "cell_type": "code",
   "execution_count": 4,
   "id": "be6a9afe-e358-4ed8-a066-1c9853df011b",
   "metadata": {},
   "outputs": [],
   "source": [
    "import os"
   ]
  },
  {
   "cell_type": "code",
   "execution_count": 5,
   "id": "f51bd7d5-9165-45fd-a700-85f67592b080",
   "metadata": {},
   "outputs": [],
   "source": [
    "os.environ[\"OPENAI_API_KEY\"] = OPENAI_API_KEY"
   ]
  },
  {
   "cell_type": "code",
   "execution_count": 6,
   "id": "c436802f-9fc7-42ea-b50c-4d50c6e653ca",
   "metadata": {},
   "outputs": [],
   "source": [
    "from langchain_openai import ChatOpenAI\n",
    "\n",
    "model = ChatOpenAI(model=\"gpt-4o-mini\")"
   ]
  },
  {
   "cell_type": "code",
   "execution_count": 7,
   "id": "7ed6c3be-f0fa-4857-862a-43627bc25c4e",
   "metadata": {},
   "outputs": [],
   "source": [
    "from operator import itemgetter\n",
    "\n",
    "from langchain_community.vectorstores import FAISS\n",
    "from langchain_core.output_parsers import StrOutputParser\n",
    "from langchain_core.prompts import ChatPromptTemplate\n",
    "from langchain_core.runnables import RunnablePassthrough\n",
    "from langchain_openai import ChatOpenAI, OpenAIEmbeddings"
   ]
  },
  {
   "cell_type": "code",
   "execution_count": 13,
   "id": "b96cbe54-2359-402d-8087-4d721a062496",
   "metadata": {},
   "outputs": [],
   "source": [
    "content = \"\"\"\n",
    "Periyar, born in 1879, was a social reformer from Tamil Nadu, India.\n",
    "He founded the Self-Respect Movement to challenge caste oppression and social inequality.\n",
    "Periyar was a staunch advocate for women's rights and gender equality.\n",
    "He opposed the dominance of Brahminical culture and religious superstitions in society.\n",
    "Periyar is known as the \"Father of the Dravidian Movement\" in South India.\n",
    "He established the Dravidar Kazhagam political party in 1944 to promote rationalism.\n",
    "Periyar campaigned for the use of Tamil in education and government administration.\n",
    "He championed the idea of Tamil Nadu as an independent Dravidian state.\n",
    "His progressive ideas inspired movements for social justice and secularism.\n",
    "Periyar's influence remains significant in shaping modern Tamil Nadu's political and social landscape.\n",
    "\"\"\""
   ]
  },
  {
   "cell_type": "code",
   "execution_count": 16,
   "id": "2acdfc9d-0d26-41fb-9244-af6bd64773a5",
   "metadata": {},
   "outputs": [],
   "source": [
    "content_list = [line for line in content.splitlines() if line.strip()]"
   ]
  },
  {
   "cell_type": "code",
   "execution_count": 17,
   "id": "005c0a2b-b600-41f6-bc5c-c88a21c749c7",
   "metadata": {},
   "outputs": [
    {
     "data": {
      "text/plain": [
       "['Periyar, born in 1879, was a social reformer from Tamil Nadu, India.',\n",
       " 'He founded the Self-Respect Movement to challenge caste oppression and social inequality.',\n",
       " \"Periyar was a staunch advocate for women's rights and gender equality.\",\n",
       " 'He opposed the dominance of Brahminical culture and religious superstitions in society.',\n",
       " 'Periyar is known as the \"Father of the Dravidian Movement\" in South India.',\n",
       " 'He established the Dravidar Kazhagam political party in 1944 to promote rationalism.',\n",
       " 'Periyar campaigned for the use of Tamil in education and government administration.',\n",
       " 'He championed the idea of Tamil Nadu as an independent Dravidian state.',\n",
       " 'His progressive ideas inspired movements for social justice and secularism.',\n",
       " \"Periyar's influence remains significant in shaping modern Tamil Nadu's political and social landscape.\"]"
      ]
     },
     "execution_count": 17,
     "metadata": {},
     "output_type": "execute_result"
    }
   ],
   "source": [
    "content_list"
   ]
  },
  {
   "cell_type": "code",
   "execution_count": 18,
   "id": "132eb51d-ffbe-4c79-a46d-b4e667703fad",
   "metadata": {},
   "outputs": [],
   "source": [
    "vectorstore = FAISS.from_texts(\n",
    "    content_list, \n",
    "    embedding=OpenAIEmbeddings()\n",
    ")\n",
    "retriever = vectorstore.as_retriever()"
   ]
  },
  {
   "cell_type": "code",
   "execution_count": 19,
   "id": "ea04dd21-fcf3-4790-9fae-6243b4df8130",
   "metadata": {},
   "outputs": [],
   "source": [
    "template = \"\"\"Answer the question based only on the following context:\n",
    "{context}\n",
    "\n",
    "Question: {question}\n",
    "\n",
    "Answer in the following language: {language}\n",
    "\"\"\"\n",
    "prompt = ChatPromptTemplate.from_template(template)\n",
    "\n",
    "chain = (\n",
    "    {\n",
    "        \"context\": itemgetter(\"question\") | retriever,\n",
    "        \"question\": itemgetter(\"question\"),\n",
    "        \"language\": itemgetter(\"language\"),\n",
    "    }\n",
    "    | prompt\n",
    "    | model\n",
    "    | StrOutputParser()\n",
    ")"
   ]
  },
  {
   "cell_type": "code",
   "execution_count": 20,
   "id": "6a027686-a7e3-40ae-91a5-94de74561706",
   "metadata": {},
   "outputs": [
    {
     "data": {
      "text/plain": [
       "'பெரியார் 1879ம் ஆண்டில் தமிழ்நாட்டில் பிறந்தார்.'"
      ]
     },
     "execution_count": 20,
     "metadata": {},
     "output_type": "execute_result"
    }
   ],
   "source": [
    "chain.invoke({\"question\": \"where was Periyar born?\", \"language\": \"tamil\"})"
   ]
  },
  {
   "cell_type": "code",
   "execution_count": 21,
   "id": "e886d117-a03b-418e-900a-d0037b7ae32e",
   "metadata": {},
   "outputs": [
    {
     "data": {
      "text/plain": [
       "'பெரியார் \"தர்மசேவகர் இயக்கத்தின் தந்தை\" என அறியப்படுகிறார். அவர் 1879-ஆம் ஆண்டு பிறந்த தமிழ்நாட்டைச் சேர்ந்த ஒரு சமூக சீர்திருத்தகரர் ஆக இருந்தார். பெண்களின் உரிமைகள் மற்றும் பாலின சமத்துவத்துக்காகவும் அவர் உறுதியாக நின்றுள்ளார். பெரியாரின் தாக்கம், நவீன தமிழ்நாட்டின் அரசியல் மற்றும் சமூக அமைப்பை வடிவமைப்பதில் முக்கியமானது.'"
      ]
     },
     "execution_count": 21,
     "metadata": {},
     "output_type": "execute_result"
    }
   ],
   "source": [
    "chain.invoke({\"question\": \"wWhat is Periyar known about?\", \"language\": \"tamil\"})"
   ]
  },
  {
   "cell_type": "code",
   "execution_count": null,
   "id": "7d357dc0-67a2-4f69-bf6e-4c76c4855c89",
   "metadata": {},
   "outputs": [],
   "source": []
  },
  {
   "cell_type": "code",
   "execution_count": null,
   "id": "d30eee8d-7831-4f82-8a3d-0d01454044e4",
   "metadata": {},
   "outputs": [],
   "source": []
  }
 ],
 "metadata": {
  "kernelspec": {
   "display_name": "Python 3 (ipykernel)",
   "language": "python",
   "name": "python3"
  },
  "language_info": {
   "codemirror_mode": {
    "name": "ipython",
    "version": 3
   },
   "file_extension": ".py",
   "mimetype": "text/x-python",
   "name": "python",
   "nbconvert_exporter": "python",
   "pygments_lexer": "ipython3",
   "version": "3.12.4"
  }
 },
 "nbformat": 4,
 "nbformat_minor": 5
}

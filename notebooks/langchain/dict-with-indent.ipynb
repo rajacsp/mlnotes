{
 "cells": [
  {
   "cell_type": "code",
   "execution_count": 1,
   "id": "a09c2dc8-ed5c-4f23-aa2d-cfeb03d5c81b",
   "metadata": {},
   "outputs": [
    {
     "name": "stdout",
     "output_type": "stream",
     "text": [
      "{\n",
      "    \"name\": \"John Doe\",\n",
      "    \"age\": 30,\n",
      "    \"location\": {\n",
      "        \"city\": \"New York\",\n",
      "        \"country\": \"USA\"\n",
      "    }\n",
      "}\n"
     ]
    }
   ],
   "source": [
    "import json\n",
    "\n",
    "# Example dictionary\n",
    "result_dict = {\n",
    "    \"name\": \"John Doe\",\n",
    "    \"age\": 30,\n",
    "    \"location\": {\n",
    "        \"city\": \"New York\",\n",
    "        \"country\": \"USA\"\n",
    "    }\n",
    "}\n",
    "\n",
    "# Convert dictionary to JSON string with indentation\n",
    "formatted_json = json.dumps(result_dict, indent=4)\n",
    "\n",
    "# Print the formatted JSON\n",
    "print(formatted_json)\n"
   ]
  },
  {
   "cell_type": "code",
   "execution_count": 2,
   "id": "09fd53b5-930d-4577-91d5-4f2ba60ef2fe",
   "metadata": {},
   "outputs": [],
   "source": [
    "from IPython.display import JSON"
   ]
  },
  {
   "cell_type": "code",
   "execution_count": 3,
   "id": "c5893d42-3325-4847-9c9b-be41742b89f8",
   "metadata": {},
   "outputs": [
    {
     "data": {
      "application/json": {
       "age": 30,
       "location": {
        "city": "New York",
        "country": "USA"
       },
       "name": "John Doe"
      },
      "text/plain": [
       "<IPython.core.display.JSON object>"
      ]
     },
     "execution_count": 3,
     "metadata": {
      "application/json": {
       "expanded": false,
       "root": "root"
      }
     },
     "output_type": "execute_result"
    }
   ],
   "source": [
    "JSON(result_dict)"
   ]
  },
  {
   "cell_type": "code",
   "execution_count": null,
   "id": "b9050793-62b1-43de-a6d7-f18c78f539d1",
   "metadata": {},
   "outputs": [],
   "source": []
  }
 ],
 "metadata": {
  "kernelspec": {
   "display_name": "Python 3 (ipykernel)",
   "language": "python",
   "name": "python3"
  },
  "language_info": {
   "codemirror_mode": {
    "name": "ipython",
    "version": 3
   },
   "file_extension": ".py",
   "mimetype": "text/x-python",
   "name": "python",
   "nbconvert_exporter": "python",
   "pygments_lexer": "ipython3",
   "version": "3.12.4"
  }
 },
 "nbformat": 4,
 "nbformat_minor": 5
}

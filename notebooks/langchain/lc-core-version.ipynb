{
 "cells": [
  {
   "cell_type": "code",
   "execution_count": null,
   "id": "f0581ebc-a02d-41b7-aac4-bee618e0cb50",
   "metadata": {},
   "outputs": [],
   "source": []
  },
  {
   "cell_type": "code",
   "execution_count": 1,
   "id": "b58154eb-2ab2-4513-9c08-9bb19b3d30a2",
   "metadata": {},
   "outputs": [
    {
     "data": {
      "text/plain": [
       "'0.3.19'"
      ]
     },
     "execution_count": 1,
     "metadata": {},
     "output_type": "execute_result"
    }
   ],
   "source": [
    "import langchain_core\n",
    "\n",
    "langchain_core.__version__"
   ]
  },
  {
   "cell_type": "code",
   "execution_count": null,
   "id": "8bb1ebe7-b5a1-428d-9763-d2f50dc5af31",
   "metadata": {},
   "outputs": [],
   "source": []
  }
 ],
 "metadata": {
  "kernelspec": {
   "display_name": "Python 3 (ipykernel)",
   "language": "python",
   "name": "python3"
  },
  "language_info": {
   "codemirror_mode": {
    "name": "ipython",
    "version": 3
   },
   "file_extension": ".py",
   "mimetype": "text/x-python",
   "name": "python",
   "nbconvert_exporter": "python",
   "pygments_lexer": "ipython3",
   "version": "3.12.4"
  }
 },
 "nbformat": 4,
 "nbformat_minor": 5
}

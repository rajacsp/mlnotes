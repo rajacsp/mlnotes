{
 "cells": [
  {
   "cell_type": "code",
   "execution_count": 1,
   "id": "2da6a07d-0d4a-43fa-9585-db25cdecaafc",
   "metadata": {},
   "outputs": [],
   "source": [
    "from constants import OPENAI_API_KEY"
   ]
  },
  {
   "cell_type": "code",
   "execution_count": 2,
   "id": "728f6583-ffce-452a-8023-ba78ecce262f",
   "metadata": {},
   "outputs": [
    {
     "name": "stdout",
     "output_type": "stream",
     "text": [
      "Version: 0.2.9\n"
     ]
    }
   ],
   "source": [
    "!pip show langchain-openai | grep \"Version:\""
   ]
  },
  {
   "cell_type": "code",
   "execution_count": 3,
   "id": "be6a9afe-e358-4ed8-a066-1c9853df011b",
   "metadata": {},
   "outputs": [],
   "source": [
    "import os"
   ]
  },
  {
   "cell_type": "code",
   "execution_count": 4,
   "id": "f51bd7d5-9165-45fd-a700-85f67592b080",
   "metadata": {},
   "outputs": [],
   "source": [
    "os.environ[\"OPENAI_API_KEY\"] = OPENAI_API_KEY"
   ]
  },
  {
   "cell_type": "code",
   "execution_count": 5,
   "id": "c436802f-9fc7-42ea-b50c-4d50c6e653ca",
   "metadata": {},
   "outputs": [],
   "source": [
    "from langchain_openai import ChatOpenAI\n",
    "\n",
    "model = ChatOpenAI(model=\"gpt-4o-mini\")"
   ]
  },
  {
   "cell_type": "code",
   "execution_count": 6,
   "id": "f25886c8-4690-44d3-899d-4e775afe216f",
   "metadata": {},
   "outputs": [
    {
     "name": "stdout",
     "output_type": "stream",
     "text": [
      "|The| color| of| the| sky| can| vary| depending| on| several| factors|,| including| the| time| of| day|,| weather| conditions|,| and| atmospheric| particles|.| During| a| clear| day|,| the| sky| typically| appears| blue| due| to| Ray|leigh| scattering|,| which| causes| shorter| wavelengths| of| light| (|blue|)| to| be| scattered| more| than| longer| wavelengths| (|red|).| At| sunrise| and| sunset|,| the| sky| can| display| shades| of| orange|,| pink|,| and| red| as| the| sunlight| passes| through| more| of| the| Earth's| atmosphere|,| scattering| shorter| wavelengths| and| allowing| longer| wavelengths| to| dominate|.| On| cloudy| or| over|cast| days|,| the| sky| may| appear| gray|.| Additionally|,| pollution|,| dust|,| and| other| particles| can| affect| the| sky|'s| color| as| well|.||"
     ]
    }
   ],
   "source": [
    "chunks = []\n",
    "for chunk in model.stream(\"what color is the sky?\"):\n",
    "    chunks.append(chunk)\n",
    "    print(chunk.content, end=\"|\", flush=True)"
   ]
  },
  {
   "cell_type": "code",
   "execution_count": 7,
   "id": "df444f87-a498-4655-88a6-5b53ce7a89ea",
   "metadata": {},
   "outputs": [
    {
     "data": {
      "text/plain": [
       "[AIMessageChunk(content='', additional_kwargs={}, response_metadata={}, id='run-a1aea264-40ed-44e7-a006-a568039dbc14'),\n",
       " AIMessageChunk(content='The', additional_kwargs={}, response_metadata={}, id='run-a1aea264-40ed-44e7-a006-a568039dbc14'),\n",
       " AIMessageChunk(content=' color', additional_kwargs={}, response_metadata={}, id='run-a1aea264-40ed-44e7-a006-a568039dbc14'),\n",
       " AIMessageChunk(content=' of', additional_kwargs={}, response_metadata={}, id='run-a1aea264-40ed-44e7-a006-a568039dbc14'),\n",
       " AIMessageChunk(content=' the', additional_kwargs={}, response_metadata={}, id='run-a1aea264-40ed-44e7-a006-a568039dbc14'),\n",
       " AIMessageChunk(content=' sky', additional_kwargs={}, response_metadata={}, id='run-a1aea264-40ed-44e7-a006-a568039dbc14'),\n",
       " AIMessageChunk(content=' can', additional_kwargs={}, response_metadata={}, id='run-a1aea264-40ed-44e7-a006-a568039dbc14'),\n",
       " AIMessageChunk(content=' vary', additional_kwargs={}, response_metadata={}, id='run-a1aea264-40ed-44e7-a006-a568039dbc14'),\n",
       " AIMessageChunk(content=' depending', additional_kwargs={}, response_metadata={}, id='run-a1aea264-40ed-44e7-a006-a568039dbc14'),\n",
       " AIMessageChunk(content=' on', additional_kwargs={}, response_metadata={}, id='run-a1aea264-40ed-44e7-a006-a568039dbc14'),\n",
       " AIMessageChunk(content=' several', additional_kwargs={}, response_metadata={}, id='run-a1aea264-40ed-44e7-a006-a568039dbc14'),\n",
       " AIMessageChunk(content=' factors', additional_kwargs={}, response_metadata={}, id='run-a1aea264-40ed-44e7-a006-a568039dbc14'),\n",
       " AIMessageChunk(content=',', additional_kwargs={}, response_metadata={}, id='run-a1aea264-40ed-44e7-a006-a568039dbc14'),\n",
       " AIMessageChunk(content=' including', additional_kwargs={}, response_metadata={}, id='run-a1aea264-40ed-44e7-a006-a568039dbc14'),\n",
       " AIMessageChunk(content=' the', additional_kwargs={}, response_metadata={}, id='run-a1aea264-40ed-44e7-a006-a568039dbc14'),\n",
       " AIMessageChunk(content=' time', additional_kwargs={}, response_metadata={}, id='run-a1aea264-40ed-44e7-a006-a568039dbc14'),\n",
       " AIMessageChunk(content=' of', additional_kwargs={}, response_metadata={}, id='run-a1aea264-40ed-44e7-a006-a568039dbc14'),\n",
       " AIMessageChunk(content=' day', additional_kwargs={}, response_metadata={}, id='run-a1aea264-40ed-44e7-a006-a568039dbc14'),\n",
       " AIMessageChunk(content=',', additional_kwargs={}, response_metadata={}, id='run-a1aea264-40ed-44e7-a006-a568039dbc14'),\n",
       " AIMessageChunk(content=' weather', additional_kwargs={}, response_metadata={}, id='run-a1aea264-40ed-44e7-a006-a568039dbc14'),\n",
       " AIMessageChunk(content=' conditions', additional_kwargs={}, response_metadata={}, id='run-a1aea264-40ed-44e7-a006-a568039dbc14'),\n",
       " AIMessageChunk(content=',', additional_kwargs={}, response_metadata={}, id='run-a1aea264-40ed-44e7-a006-a568039dbc14'),\n",
       " AIMessageChunk(content=' and', additional_kwargs={}, response_metadata={}, id='run-a1aea264-40ed-44e7-a006-a568039dbc14'),\n",
       " AIMessageChunk(content=' atmospheric', additional_kwargs={}, response_metadata={}, id='run-a1aea264-40ed-44e7-a006-a568039dbc14'),\n",
       " AIMessageChunk(content=' particles', additional_kwargs={}, response_metadata={}, id='run-a1aea264-40ed-44e7-a006-a568039dbc14'),\n",
       " AIMessageChunk(content='.', additional_kwargs={}, response_metadata={}, id='run-a1aea264-40ed-44e7-a006-a568039dbc14'),\n",
       " AIMessageChunk(content=' During', additional_kwargs={}, response_metadata={}, id='run-a1aea264-40ed-44e7-a006-a568039dbc14'),\n",
       " AIMessageChunk(content=' a', additional_kwargs={}, response_metadata={}, id='run-a1aea264-40ed-44e7-a006-a568039dbc14'),\n",
       " AIMessageChunk(content=' clear', additional_kwargs={}, response_metadata={}, id='run-a1aea264-40ed-44e7-a006-a568039dbc14'),\n",
       " AIMessageChunk(content=' day', additional_kwargs={}, response_metadata={}, id='run-a1aea264-40ed-44e7-a006-a568039dbc14'),\n",
       " AIMessageChunk(content=',', additional_kwargs={}, response_metadata={}, id='run-a1aea264-40ed-44e7-a006-a568039dbc14'),\n",
       " AIMessageChunk(content=' the', additional_kwargs={}, response_metadata={}, id='run-a1aea264-40ed-44e7-a006-a568039dbc14'),\n",
       " AIMessageChunk(content=' sky', additional_kwargs={}, response_metadata={}, id='run-a1aea264-40ed-44e7-a006-a568039dbc14'),\n",
       " AIMessageChunk(content=' typically', additional_kwargs={}, response_metadata={}, id='run-a1aea264-40ed-44e7-a006-a568039dbc14'),\n",
       " AIMessageChunk(content=' appears', additional_kwargs={}, response_metadata={}, id='run-a1aea264-40ed-44e7-a006-a568039dbc14'),\n",
       " AIMessageChunk(content=' blue', additional_kwargs={}, response_metadata={}, id='run-a1aea264-40ed-44e7-a006-a568039dbc14'),\n",
       " AIMessageChunk(content=' due', additional_kwargs={}, response_metadata={}, id='run-a1aea264-40ed-44e7-a006-a568039dbc14'),\n",
       " AIMessageChunk(content=' to', additional_kwargs={}, response_metadata={}, id='run-a1aea264-40ed-44e7-a006-a568039dbc14'),\n",
       " AIMessageChunk(content=' Ray', additional_kwargs={}, response_metadata={}, id='run-a1aea264-40ed-44e7-a006-a568039dbc14'),\n",
       " AIMessageChunk(content='leigh', additional_kwargs={}, response_metadata={}, id='run-a1aea264-40ed-44e7-a006-a568039dbc14'),\n",
       " AIMessageChunk(content=' scattering', additional_kwargs={}, response_metadata={}, id='run-a1aea264-40ed-44e7-a006-a568039dbc14'),\n",
       " AIMessageChunk(content=',', additional_kwargs={}, response_metadata={}, id='run-a1aea264-40ed-44e7-a006-a568039dbc14'),\n",
       " AIMessageChunk(content=' which', additional_kwargs={}, response_metadata={}, id='run-a1aea264-40ed-44e7-a006-a568039dbc14'),\n",
       " AIMessageChunk(content=' causes', additional_kwargs={}, response_metadata={}, id='run-a1aea264-40ed-44e7-a006-a568039dbc14'),\n",
       " AIMessageChunk(content=' shorter', additional_kwargs={}, response_metadata={}, id='run-a1aea264-40ed-44e7-a006-a568039dbc14'),\n",
       " AIMessageChunk(content=' wavelengths', additional_kwargs={}, response_metadata={}, id='run-a1aea264-40ed-44e7-a006-a568039dbc14'),\n",
       " AIMessageChunk(content=' of', additional_kwargs={}, response_metadata={}, id='run-a1aea264-40ed-44e7-a006-a568039dbc14'),\n",
       " AIMessageChunk(content=' light', additional_kwargs={}, response_metadata={}, id='run-a1aea264-40ed-44e7-a006-a568039dbc14'),\n",
       " AIMessageChunk(content=' (', additional_kwargs={}, response_metadata={}, id='run-a1aea264-40ed-44e7-a006-a568039dbc14'),\n",
       " AIMessageChunk(content='blue', additional_kwargs={}, response_metadata={}, id='run-a1aea264-40ed-44e7-a006-a568039dbc14'),\n",
       " AIMessageChunk(content=')', additional_kwargs={}, response_metadata={}, id='run-a1aea264-40ed-44e7-a006-a568039dbc14'),\n",
       " AIMessageChunk(content=' to', additional_kwargs={}, response_metadata={}, id='run-a1aea264-40ed-44e7-a006-a568039dbc14'),\n",
       " AIMessageChunk(content=' be', additional_kwargs={}, response_metadata={}, id='run-a1aea264-40ed-44e7-a006-a568039dbc14'),\n",
       " AIMessageChunk(content=' scattered', additional_kwargs={}, response_metadata={}, id='run-a1aea264-40ed-44e7-a006-a568039dbc14'),\n",
       " AIMessageChunk(content=' more', additional_kwargs={}, response_metadata={}, id='run-a1aea264-40ed-44e7-a006-a568039dbc14'),\n",
       " AIMessageChunk(content=' than', additional_kwargs={}, response_metadata={}, id='run-a1aea264-40ed-44e7-a006-a568039dbc14'),\n",
       " AIMessageChunk(content=' longer', additional_kwargs={}, response_metadata={}, id='run-a1aea264-40ed-44e7-a006-a568039dbc14'),\n",
       " AIMessageChunk(content=' wavelengths', additional_kwargs={}, response_metadata={}, id='run-a1aea264-40ed-44e7-a006-a568039dbc14'),\n",
       " AIMessageChunk(content=' (', additional_kwargs={}, response_metadata={}, id='run-a1aea264-40ed-44e7-a006-a568039dbc14'),\n",
       " AIMessageChunk(content='red', additional_kwargs={}, response_metadata={}, id='run-a1aea264-40ed-44e7-a006-a568039dbc14'),\n",
       " AIMessageChunk(content=').', additional_kwargs={}, response_metadata={}, id='run-a1aea264-40ed-44e7-a006-a568039dbc14'),\n",
       " AIMessageChunk(content=' At', additional_kwargs={}, response_metadata={}, id='run-a1aea264-40ed-44e7-a006-a568039dbc14'),\n",
       " AIMessageChunk(content=' sunrise', additional_kwargs={}, response_metadata={}, id='run-a1aea264-40ed-44e7-a006-a568039dbc14'),\n",
       " AIMessageChunk(content=' and', additional_kwargs={}, response_metadata={}, id='run-a1aea264-40ed-44e7-a006-a568039dbc14'),\n",
       " AIMessageChunk(content=' sunset', additional_kwargs={}, response_metadata={}, id='run-a1aea264-40ed-44e7-a006-a568039dbc14'),\n",
       " AIMessageChunk(content=',', additional_kwargs={}, response_metadata={}, id='run-a1aea264-40ed-44e7-a006-a568039dbc14'),\n",
       " AIMessageChunk(content=' the', additional_kwargs={}, response_metadata={}, id='run-a1aea264-40ed-44e7-a006-a568039dbc14'),\n",
       " AIMessageChunk(content=' sky', additional_kwargs={}, response_metadata={}, id='run-a1aea264-40ed-44e7-a006-a568039dbc14'),\n",
       " AIMessageChunk(content=' can', additional_kwargs={}, response_metadata={}, id='run-a1aea264-40ed-44e7-a006-a568039dbc14'),\n",
       " AIMessageChunk(content=' display', additional_kwargs={}, response_metadata={}, id='run-a1aea264-40ed-44e7-a006-a568039dbc14'),\n",
       " AIMessageChunk(content=' shades', additional_kwargs={}, response_metadata={}, id='run-a1aea264-40ed-44e7-a006-a568039dbc14'),\n",
       " AIMessageChunk(content=' of', additional_kwargs={}, response_metadata={}, id='run-a1aea264-40ed-44e7-a006-a568039dbc14'),\n",
       " AIMessageChunk(content=' orange', additional_kwargs={}, response_metadata={}, id='run-a1aea264-40ed-44e7-a006-a568039dbc14'),\n",
       " AIMessageChunk(content=',', additional_kwargs={}, response_metadata={}, id='run-a1aea264-40ed-44e7-a006-a568039dbc14'),\n",
       " AIMessageChunk(content=' pink', additional_kwargs={}, response_metadata={}, id='run-a1aea264-40ed-44e7-a006-a568039dbc14'),\n",
       " AIMessageChunk(content=',', additional_kwargs={}, response_metadata={}, id='run-a1aea264-40ed-44e7-a006-a568039dbc14'),\n",
       " AIMessageChunk(content=' and', additional_kwargs={}, response_metadata={}, id='run-a1aea264-40ed-44e7-a006-a568039dbc14'),\n",
       " AIMessageChunk(content=' red', additional_kwargs={}, response_metadata={}, id='run-a1aea264-40ed-44e7-a006-a568039dbc14'),\n",
       " AIMessageChunk(content=' as', additional_kwargs={}, response_metadata={}, id='run-a1aea264-40ed-44e7-a006-a568039dbc14'),\n",
       " AIMessageChunk(content=' the', additional_kwargs={}, response_metadata={}, id='run-a1aea264-40ed-44e7-a006-a568039dbc14'),\n",
       " AIMessageChunk(content=' sunlight', additional_kwargs={}, response_metadata={}, id='run-a1aea264-40ed-44e7-a006-a568039dbc14'),\n",
       " AIMessageChunk(content=' passes', additional_kwargs={}, response_metadata={}, id='run-a1aea264-40ed-44e7-a006-a568039dbc14'),\n",
       " AIMessageChunk(content=' through', additional_kwargs={}, response_metadata={}, id='run-a1aea264-40ed-44e7-a006-a568039dbc14'),\n",
       " AIMessageChunk(content=' more', additional_kwargs={}, response_metadata={}, id='run-a1aea264-40ed-44e7-a006-a568039dbc14'),\n",
       " AIMessageChunk(content=' of', additional_kwargs={}, response_metadata={}, id='run-a1aea264-40ed-44e7-a006-a568039dbc14'),\n",
       " AIMessageChunk(content=' the', additional_kwargs={}, response_metadata={}, id='run-a1aea264-40ed-44e7-a006-a568039dbc14'),\n",
       " AIMessageChunk(content=\" Earth's\", additional_kwargs={}, response_metadata={}, id='run-a1aea264-40ed-44e7-a006-a568039dbc14'),\n",
       " AIMessageChunk(content=' atmosphere', additional_kwargs={}, response_metadata={}, id='run-a1aea264-40ed-44e7-a006-a568039dbc14'),\n",
       " AIMessageChunk(content=',', additional_kwargs={}, response_metadata={}, id='run-a1aea264-40ed-44e7-a006-a568039dbc14'),\n",
       " AIMessageChunk(content=' scattering', additional_kwargs={}, response_metadata={}, id='run-a1aea264-40ed-44e7-a006-a568039dbc14'),\n",
       " AIMessageChunk(content=' shorter', additional_kwargs={}, response_metadata={}, id='run-a1aea264-40ed-44e7-a006-a568039dbc14'),\n",
       " AIMessageChunk(content=' wavelengths', additional_kwargs={}, response_metadata={}, id='run-a1aea264-40ed-44e7-a006-a568039dbc14'),\n",
       " AIMessageChunk(content=' and', additional_kwargs={}, response_metadata={}, id='run-a1aea264-40ed-44e7-a006-a568039dbc14'),\n",
       " AIMessageChunk(content=' allowing', additional_kwargs={}, response_metadata={}, id='run-a1aea264-40ed-44e7-a006-a568039dbc14'),\n",
       " AIMessageChunk(content=' longer', additional_kwargs={}, response_metadata={}, id='run-a1aea264-40ed-44e7-a006-a568039dbc14'),\n",
       " AIMessageChunk(content=' wavelengths', additional_kwargs={}, response_metadata={}, id='run-a1aea264-40ed-44e7-a006-a568039dbc14'),\n",
       " AIMessageChunk(content=' to', additional_kwargs={}, response_metadata={}, id='run-a1aea264-40ed-44e7-a006-a568039dbc14'),\n",
       " AIMessageChunk(content=' dominate', additional_kwargs={}, response_metadata={}, id='run-a1aea264-40ed-44e7-a006-a568039dbc14'),\n",
       " AIMessageChunk(content='.', additional_kwargs={}, response_metadata={}, id='run-a1aea264-40ed-44e7-a006-a568039dbc14'),\n",
       " AIMessageChunk(content=' On', additional_kwargs={}, response_metadata={}, id='run-a1aea264-40ed-44e7-a006-a568039dbc14'),\n",
       " AIMessageChunk(content=' cloudy', additional_kwargs={}, response_metadata={}, id='run-a1aea264-40ed-44e7-a006-a568039dbc14'),\n",
       " AIMessageChunk(content=' or', additional_kwargs={}, response_metadata={}, id='run-a1aea264-40ed-44e7-a006-a568039dbc14'),\n",
       " AIMessageChunk(content=' over', additional_kwargs={}, response_metadata={}, id='run-a1aea264-40ed-44e7-a006-a568039dbc14'),\n",
       " AIMessageChunk(content='cast', additional_kwargs={}, response_metadata={}, id='run-a1aea264-40ed-44e7-a006-a568039dbc14'),\n",
       " AIMessageChunk(content=' days', additional_kwargs={}, response_metadata={}, id='run-a1aea264-40ed-44e7-a006-a568039dbc14'),\n",
       " AIMessageChunk(content=',', additional_kwargs={}, response_metadata={}, id='run-a1aea264-40ed-44e7-a006-a568039dbc14'),\n",
       " AIMessageChunk(content=' the', additional_kwargs={}, response_metadata={}, id='run-a1aea264-40ed-44e7-a006-a568039dbc14'),\n",
       " AIMessageChunk(content=' sky', additional_kwargs={}, response_metadata={}, id='run-a1aea264-40ed-44e7-a006-a568039dbc14'),\n",
       " AIMessageChunk(content=' may', additional_kwargs={}, response_metadata={}, id='run-a1aea264-40ed-44e7-a006-a568039dbc14'),\n",
       " AIMessageChunk(content=' appear', additional_kwargs={}, response_metadata={}, id='run-a1aea264-40ed-44e7-a006-a568039dbc14'),\n",
       " AIMessageChunk(content=' gray', additional_kwargs={}, response_metadata={}, id='run-a1aea264-40ed-44e7-a006-a568039dbc14'),\n",
       " AIMessageChunk(content='.', additional_kwargs={}, response_metadata={}, id='run-a1aea264-40ed-44e7-a006-a568039dbc14'),\n",
       " AIMessageChunk(content=' Additionally', additional_kwargs={}, response_metadata={}, id='run-a1aea264-40ed-44e7-a006-a568039dbc14'),\n",
       " AIMessageChunk(content=',', additional_kwargs={}, response_metadata={}, id='run-a1aea264-40ed-44e7-a006-a568039dbc14'),\n",
       " AIMessageChunk(content=' pollution', additional_kwargs={}, response_metadata={}, id='run-a1aea264-40ed-44e7-a006-a568039dbc14'),\n",
       " AIMessageChunk(content=',', additional_kwargs={}, response_metadata={}, id='run-a1aea264-40ed-44e7-a006-a568039dbc14'),\n",
       " AIMessageChunk(content=' dust', additional_kwargs={}, response_metadata={}, id='run-a1aea264-40ed-44e7-a006-a568039dbc14'),\n",
       " AIMessageChunk(content=',', additional_kwargs={}, response_metadata={}, id='run-a1aea264-40ed-44e7-a006-a568039dbc14'),\n",
       " AIMessageChunk(content=' and', additional_kwargs={}, response_metadata={}, id='run-a1aea264-40ed-44e7-a006-a568039dbc14'),\n",
       " AIMessageChunk(content=' other', additional_kwargs={}, response_metadata={}, id='run-a1aea264-40ed-44e7-a006-a568039dbc14'),\n",
       " AIMessageChunk(content=' particles', additional_kwargs={}, response_metadata={}, id='run-a1aea264-40ed-44e7-a006-a568039dbc14'),\n",
       " AIMessageChunk(content=' can', additional_kwargs={}, response_metadata={}, id='run-a1aea264-40ed-44e7-a006-a568039dbc14'),\n",
       " AIMessageChunk(content=' affect', additional_kwargs={}, response_metadata={}, id='run-a1aea264-40ed-44e7-a006-a568039dbc14'),\n",
       " AIMessageChunk(content=' the', additional_kwargs={}, response_metadata={}, id='run-a1aea264-40ed-44e7-a006-a568039dbc14'),\n",
       " AIMessageChunk(content=' sky', additional_kwargs={}, response_metadata={}, id='run-a1aea264-40ed-44e7-a006-a568039dbc14'),\n",
       " AIMessageChunk(content=\"'s\", additional_kwargs={}, response_metadata={}, id='run-a1aea264-40ed-44e7-a006-a568039dbc14'),\n",
       " AIMessageChunk(content=' color', additional_kwargs={}, response_metadata={}, id='run-a1aea264-40ed-44e7-a006-a568039dbc14'),\n",
       " AIMessageChunk(content=' as', additional_kwargs={}, response_metadata={}, id='run-a1aea264-40ed-44e7-a006-a568039dbc14'),\n",
       " AIMessageChunk(content=' well', additional_kwargs={}, response_metadata={}, id='run-a1aea264-40ed-44e7-a006-a568039dbc14'),\n",
       " AIMessageChunk(content='.', additional_kwargs={}, response_metadata={}, id='run-a1aea264-40ed-44e7-a006-a568039dbc14'),\n",
       " AIMessageChunk(content='', additional_kwargs={}, response_metadata={'finish_reason': 'stop', 'model_name': 'gpt-4o-mini-2024-07-18', 'system_fingerprint': 'fp_0705bf87c0'}, id='run-a1aea264-40ed-44e7-a006-a568039dbc14')]"
      ]
     },
     "execution_count": 7,
     "metadata": {},
     "output_type": "execute_result"
    }
   ],
   "source": [
    "chunks"
   ]
  },
  {
   "cell_type": "code",
   "execution_count": 8,
   "id": "f8e90f8d-43e4-4b3e-96c1-dcd46e5fba44",
   "metadata": {},
   "outputs": [
    {
     "name": "stdout",
     "output_type": "stream",
     "text": [
      "|Canada| is| the| second|-largest| country| in| the| world| by| land| area|,| located| in| North| America|.| It| is| known| for| its| diverse| landscapes|,| multicultural| population|,| and| strong| economy|.| Here| are| some| key| aspects| of| Canada|:\n",
      "\n",
      "|###| Geography|\n",
      "|-| **|Size|**|:| Canada| covers| approximately| |9|.|98| million| square| kilometers| (|3|.|85| million| square| miles|).\n",
      "|-| **|Regions|**|:| It| consists| of| ten| provinces| and| three| territories|,| each| with| its| own| unique| geography| and| culture|.| Major| geographical| features| include| the| Rocky| Mountains|,| vast| forests|,| and| numerous| lakes| and| rivers|.\n",
      "|-| **|Natural| Wonders|**|:| Canada| is| home| to| natural| attractions| such| as| Niagara| Falls|,| Ban|ff| National| Park|,| and| the| Northern| Lights|.\n",
      "\n",
      "|###| Population|\n",
      "|-| **|D|iversity|**|:| Canada| is| known| for| its| multicultural| society|,| with| a| population| that| includes| a| wide| range| of| ethnic|ities| and| cultures|.| It| is| home| to| Indigenous| peoples| as| well| as| immigrants| from| around| the| world|.\n",
      "|-| **|Languages|**|:| The| two| official| languages| are| English| and| French|,| reflecting| the| country's| colonial| history| and| cultural| diversity|.\n",
      "\n",
      "|###| Government| and| Politics|\n",
      "|-| **|Political| System|**|:| Canada| is| a| parliamentary| democracy| and| a| constitutional| monarchy|,| with| the| British| monarch| as| the| head| of| state|.| The| government| is| led| by| the| Prime| Minister|.\n",
      "|-| **|Pro|vin|ces| and| Territories|**|:| The| country| is| divided| into| ten| provinces| (|e|.g|.,| Ontario|,| Quebec|,| British| Columbia|)| and| three| territories| (|Y|uk|on|,| Northwest| Territories|,| Nun|avut|),| each| with| its| own| government|.\n",
      "\n",
      "|###| Economy|\n",
      "|-| **|Resource| Rich|**|:| Canada| has| a| highly| developed| economy|,| rich| in| natural| resources| such| as| oil|,| gas|,| minerals|,| and| timber|.| It| is| one| of| the| largest| producers| of| natural| resources| in| the| world|.\n",
      "|-| **|Trade|**|:| Canada| has| strong| trade| relationships|,| particularly| with| the| United| States|,| and| is| a| member| of| organizations| like| the| United| Nations| and| the| North| American| Free| Trade| Agreement| (|NA|FTA|),| which| has| been| replaced| by| the| US|M|CA|.\n",
      "\n",
      "|###| Culture|\n",
      "|-| **|Arts| and| Entertainment|**|:| Canada| has| a| vibrant| cultural| scene|,| contributing| significantly| to| literature|,| music|,| film|,| and| the| arts|.| Not|able| Canadian| figures| include| authors| like| Margaret| At|wood| and| musicians| like| Leonard| Cohen| and| Drake|.\n",
      "|-| **|Sports|**|:| Ice| hockey| is| a| national| pastime|,| and| Canadian| teams| are| prominent| in| both| national| and| international| competitions|.\n",
      "\n",
      "|###| Education| and| Healthcare|\n",
      "|-| **|Education|**|:| Canada| boasts| a| high| standard| of| education|,| with| a| strong| emphasis| on| research| and| innovation|.| Its| universities| are| internationally| recognized|.\n",
      "|-| **|Healthcare|**|:| Canada| has| a| publicly| funded| healthcare| system|,| which| provides| access| to| medical| services| for| all| citizens| and| permanent| residents|.\n",
      "\n",
      "|###| Environment| and| Conservation|\n",
      "|-| **|Natural| Conservation|**|:| Canada| places| a| significant| emphasis| on| environmental| conservation| and| sustainability|,| with| many| national| parks| and| protected| areas|.\n",
      "\n",
      "|Overall|,| Canada| is| known| for| its| high| quality| of| life|,| stunning| natural| landscapes|,| and| welcoming| attitude| towards| newcomers|.| The| country| continues| to| evolve| and| adapt|,| maintaining| its| commitment| to| diversity| and| inclus|ivity|.||"
     ]
    }
   ],
   "source": [
    "ca_chunks = []\n",
    "for chunk in model.stream(\"tell me about Canada\"):\n",
    "    ca_chunks.append(chunk)\n",
    "    print(chunk.content, end=\"|\", flush=True)"
   ]
  },
  {
   "cell_type": "code",
   "execution_count": 9,
   "id": "d1d016e0-8d27-4b5f-b4e3-af6098297d8c",
   "metadata": {},
   "outputs": [
    {
     "name": "stdout",
     "output_type": "stream",
     "text": [
      "|Sure|!| Here| are| three| key| points| about| Canada|:\n",
      "\n",
      "|1|.| **|D|iverse| Geography| and| Climate|**|:| Canada| is| the| second|-largest| country| in| the| world| by| land| area|,| featuring| a| wide| range| of| geographical| landscapes|,| from| the| Rocky| Mountains| in| the| west| to| the| vast| tund|ra| in| the| north| and| the| Atlantic| coastline| in| the| east|.| This| diversity| contributes| to| a| variety| of| climates|,| including| temper|ate| zones| in| the| south| and| polar| conditions| in| the| north|.\n",
      "\n",
      "|2|.| **|C|ultural| Mosaic|**|:| Canada| is| known| for| its| multicultural|ism| and| is| home| to| a| rich| tapestry| of| cultures|,| languages|,| and| traditions|.| The| country| officially| recognizes| both| English| and| French| as| its| official| languages|,| reflecting| its| colonial| history|.| Additionally|,| Indigenous| cultures| play| a| crucial| role| in| Canada's| identity|,| with| numerous| First| Nations|,| Mét|is|,| and| Inuit| communities| across| the| country|.\n",
      "\n",
      "|3|.| **|Strong| Economy| and| Social| Systems|**|:| Canada| has| a| highly| developed| economy|,| characterized| by| a| mix| of| natural| resources|,| manufacturing|,| and| technology| sectors|.| It| also| boasts| a| robust| social| welfare| system|,| including| universal| healthcare|,| which| is| funded| through| taxes| and| provides| citizens| and| permanent| residents| access| to| essential| medical| services| without| direct| charges| at| the| point| of| care|.||"
     ]
    }
   ],
   "source": [
    "ca_chunks = []\n",
    "for chunk in model.stream(\"tell me about Canada in 3 points\"):\n",
    "    ca_chunks.append(chunk)\n",
    "    print(chunk.content, end=\"|\", flush=True)"
   ]
  },
  {
   "cell_type": "code",
   "execution_count": null,
   "id": "6b42c922-11d4-4ab4-a908-a5158648c2d8",
   "metadata": {},
   "outputs": [],
   "source": []
  },
  {
   "cell_type": "code",
   "execution_count": 10,
   "id": "3d82f467-d9ab-438b-82cb-5558208bcae9",
   "metadata": {},
   "outputs": [
    {
     "name": "stdout",
     "output_type": "stream",
     "text": [
      "|The| sky| typically| appears| blue| during| the| day| due| to| the| scattering| of| sunlight| by| the| atmosphere|.| Short|er| blue| wavelengths| of| light| scatter| more| than| other| colors|,| making| the| sky| look| blue| to| our| eyes|.| However|,| the| sky| can| also| appear| in| other| colors| depending| on| the| time| of| day|,| weather| conditions|,| and| atmospheric| particles|.| For| example|,| it| can| appear| red| or| orange| during| sunrise| and| sunset|,| gray| during| over|cast| conditions|,| and| even| have| hues| of| pink| or| purple|.||"
     ]
    }
   ],
   "source": [
    "chunks = []\n",
    "async for chunk in model.astream(\"what color is the sky?\"):\n",
    "    chunks.append(chunk)\n",
    "    print(chunk.content, end=\"|\", flush=True)"
   ]
  },
  {
   "cell_type": "code",
   "execution_count": 11,
   "id": "2df4351e-4937-480a-9801-b7e6ffd07b0f",
   "metadata": {},
   "outputs": [
    {
     "data": {
      "text/plain": [
       "AIMessageChunk(content='', additional_kwargs={}, response_metadata={}, id='run-fbee8efd-fccf-4989-bcd4-b8a5cc50bf68')"
      ]
     },
     "execution_count": 11,
     "metadata": {},
     "output_type": "execute_result"
    }
   ],
   "source": [
    "chunks[0]"
   ]
  },
  {
   "cell_type": "code",
   "execution_count": null,
   "id": "e2791c71-d3ec-4c0f-9988-65e087f81651",
   "metadata": {},
   "outputs": [],
   "source": []
  }
 ],
 "metadata": {
  "kernelspec": {
   "display_name": "Python 3 (ipykernel)",
   "language": "python",
   "name": "python3"
  },
  "language_info": {
   "codemirror_mode": {
    "name": "ipython",
    "version": 3
   },
   "file_extension": ".py",
   "mimetype": "text/x-python",
   "name": "python",
   "nbconvert_exporter": "python",
   "pygments_lexer": "ipython3",
   "version": "3.12.4"
  }
 },
 "nbformat": 4,
 "nbformat_minor": 5
}

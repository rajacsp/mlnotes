{
 "cells": [
  {
   "cell_type": "code",
   "execution_count": null,
   "id": "e6178389-b0cb-4b8b-bfc6-4555cb94b2e4",
   "metadata": {},
   "outputs": [],
   "source": []
  },
  {
   "cell_type": "code",
   "execution_count": 1,
   "id": "75618f17-de8c-4d0b-9d0f-f7d4beb48004",
   "metadata": {},
   "outputs": [],
   "source": [
    "content = \"\"\"\n",
    "one\n",
    "two\n",
    "\"\"\""
   ]
  },
  {
   "cell_type": "code",
   "execution_count": 2,
   "id": "e2e6880b-1514-4c51-b8ce-c55f411d6686",
   "metadata": {},
   "outputs": [
    {
     "name": "stdout",
     "output_type": "stream",
     "text": [
      "['one', 'two']\n"
     ]
    }
   ],
   "source": [
    "# Split content into lines and skip empty lines\n",
    "lines = [line for line in content.splitlines() if line.strip()]\n",
    "print(lines)"
   ]
  },
  {
   "cell_type": "code",
   "execution_count": null,
   "id": "96e62f1a-21e4-4958-80cb-e51438b79924",
   "metadata": {},
   "outputs": [],
   "source": []
  }
 ],
 "metadata": {
  "kernelspec": {
   "display_name": "Python 3 (ipykernel)",
   "language": "python",
   "name": "python3"
  },
  "language_info": {
   "codemirror_mode": {
    "name": "ipython",
    "version": 3
   },
   "file_extension": ".py",
   "mimetype": "text/x-python",
   "name": "python",
   "nbconvert_exporter": "python",
   "pygments_lexer": "ipython3",
   "version": "3.12.4"
  }
 },
 "nbformat": 4,
 "nbformat_minor": 5
}

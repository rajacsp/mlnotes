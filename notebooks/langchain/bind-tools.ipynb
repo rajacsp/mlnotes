{
 "cells": [
  {
   "cell_type": "code",
   "execution_count": 1,
   "id": "dd7659a3-7179-4301-a37c-71f199a5ce01",
   "metadata": {},
   "outputs": [
    {
     "name": "stdout",
     "output_type": "stream",
     "text": [
      "Python 3.12.4\n"
     ]
    }
   ],
   "source": [
    "!python --version"
   ]
  },
  {
   "cell_type": "code",
   "execution_count": 2,
   "id": "2da6a07d-0d4a-43fa-9585-db25cdecaafc",
   "metadata": {},
   "outputs": [],
   "source": [
    "from constants import OPENAI_API_KEY"
   ]
  },
  {
   "cell_type": "code",
   "execution_count": 3,
   "id": "728f6583-ffce-452a-8023-ba78ecce262f",
   "metadata": {},
   "outputs": [
    {
     "name": "stdout",
     "output_type": "stream",
     "text": [
      "Version: 0.2.9\n"
     ]
    }
   ],
   "source": [
    "!pip show langchain-openai | grep \"Version:\""
   ]
  },
  {
   "cell_type": "code",
   "execution_count": 4,
   "id": "be6a9afe-e358-4ed8-a066-1c9853df011b",
   "metadata": {},
   "outputs": [],
   "source": [
    "import os"
   ]
  },
  {
   "cell_type": "code",
   "execution_count": 5,
   "id": "f51bd7d5-9165-45fd-a700-85f67592b080",
   "metadata": {},
   "outputs": [],
   "source": [
    "os.environ[\"OPENAI_API_KEY\"] = OPENAI_API_KEY"
   ]
  },
  {
   "cell_type": "code",
   "execution_count": 6,
   "id": "c436802f-9fc7-42ea-b50c-4d50c6e653ca",
   "metadata": {},
   "outputs": [],
   "source": [
    "from langchain_openai import ChatOpenAI\n",
    "\n",
    "model = ChatOpenAI(model=\"gpt-4o-mini\")"
   ]
  },
  {
   "cell_type": "code",
   "execution_count": null,
   "id": "7ed6c3be-f0fa-4857-862a-43627bc25c4e",
   "metadata": {},
   "outputs": [],
   "source": []
  },
  {
   "cell_type": "code",
   "execution_count": null,
   "id": "6427f925-904e-4b66-a3f4-cd4504f5e253",
   "metadata": {},
   "outputs": [],
   "source": []
  },
  {
   "cell_type": "code",
   "execution_count": 7,
   "id": "235e5ebc-97b5-4399-b6a0-056cb85b3600",
   "metadata": {},
   "outputs": [],
   "source": [
    "tools = [\n",
    "    {\n",
    "        \"type\": \"function\",\n",
    "        \"function\": {\n",
    "            \"name\": \"get_current_weather\",\n",
    "            \"description\": \"Get the current weather in a given location\",\n",
    "            \"parameters\": {\n",
    "                \"type\": \"object\",\n",
    "                \"properties\": {\n",
    "                    \"location\": {\n",
    "                        \"type\": \"string\",\n",
    "                        \"description\": \"The city and state, e.g. San Francisco, CA\",\n",
    "                    },\n",
    "                    \"unit\": {\"type\": \"string\", \"enum\": [\"celsius\", \"fahrenheit\"]},\n",
    "                },\n",
    "                \"required\": [\"location\"],\n",
    "            },\n",
    "        },\n",
    "    }\n",
    "]"
   ]
  },
  {
   "cell_type": "code",
   "execution_count": 10,
   "id": "992e87fa-2141-496d-964a-ef5a6bc1e106",
   "metadata": {},
   "outputs": [],
   "source": [
    "model = ChatOpenAI(model=\"gpt-4o-mini\").bind(tools=tools)\n",
    "result = model.invoke(\"What's the weather in SF, NYC and LA?\")"
   ]
  },
  {
   "cell_type": "code",
   "execution_count": 13,
   "id": "e5f74912-cfe7-4b04-86c6-4177ceca634b",
   "metadata": {},
   "outputs": [
    {
     "data": {
      "text/plain": [
       "{'content': '',\n",
       " 'additional_kwargs': {'tool_calls': [{'id': 'call_cTIA7lIIxqYMNxeeOpklF7LU',\n",
       "    'function': {'arguments': '{\"location\": \"San Francisco, CA\"}',\n",
       "     'name': 'get_current_weather'},\n",
       "    'type': 'function'},\n",
       "   {'id': 'call_s9WkyKPGO0qe1JnDEN9Ko4LM',\n",
       "    'function': {'arguments': '{\"location\": \"New York, NY\"}',\n",
       "     'name': 'get_current_weather'},\n",
       "    'type': 'function'},\n",
       "   {'id': 'call_7dQT0X65fKEW3eQ74DwP61UK',\n",
       "    'function': {'arguments': '{\"location\": \"Los Angeles, CA\"}',\n",
       "     'name': 'get_current_weather'},\n",
       "    'type': 'function'}],\n",
       "  'refusal': None},\n",
       " 'response_metadata': {'token_usage': {'completion_tokens': 70,\n",
       "   'prompt_tokens': 82,\n",
       "   'total_tokens': 152,\n",
       "   'completion_tokens_details': {'accepted_prediction_tokens': 0,\n",
       "    'audio_tokens': 0,\n",
       "    'reasoning_tokens': 0,\n",
       "    'rejected_prediction_tokens': 0},\n",
       "   'prompt_tokens_details': {'audio_tokens': 0, 'cached_tokens': 0}},\n",
       "  'model_name': 'gpt-4o-mini-2024-07-18',\n",
       "  'system_fingerprint': 'fp_0705bf87c0',\n",
       "  'finish_reason': 'tool_calls',\n",
       "  'logprobs': None},\n",
       " 'type': 'ai',\n",
       " 'name': None,\n",
       " 'id': 'run-1b8c2e8b-d7d9-4015-b51f-f843c27eaa69-0',\n",
       " 'example': False,\n",
       " 'tool_calls': [{'name': 'get_current_weather',\n",
       "   'args': {'location': 'San Francisco, CA'},\n",
       "   'id': 'call_cTIA7lIIxqYMNxeeOpklF7LU',\n",
       "   'type': 'tool_call'},\n",
       "  {'name': 'get_current_weather',\n",
       "   'args': {'location': 'New York, NY'},\n",
       "   'id': 'call_s9WkyKPGO0qe1JnDEN9Ko4LM',\n",
       "   'type': 'tool_call'},\n",
       "  {'name': 'get_current_weather',\n",
       "   'args': {'location': 'Los Angeles, CA'},\n",
       "   'id': 'call_7dQT0X65fKEW3eQ74DwP61UK',\n",
       "   'type': 'tool_call'}],\n",
       " 'invalid_tool_calls': [],\n",
       " 'usage_metadata': {'input_tokens': 82,\n",
       "  'output_tokens': 70,\n",
       "  'total_tokens': 152,\n",
       "  'input_token_details': {'audio': 0, 'cache_read': 0},\n",
       "  'output_token_details': {'audio': 0, 'reasoning': 0}}}"
      ]
     },
     "execution_count": 13,
     "metadata": {},
     "output_type": "execute_result"
    }
   ],
   "source": [
    "result.dict()"
   ]
  },
  {
   "cell_type": "code",
   "execution_count": 14,
   "id": "3eda27f3-491b-4ecd-9f4a-6b08dc46dfcb",
   "metadata": {},
   "outputs": [
    {
     "data": {
      "text/plain": [
       "{'content': '',\n",
       " 'additional_kwargs': {'tool_calls': [{'id': 'call_cTIA7lIIxqYMNxeeOpklF7LU',\n",
       "    'function': {'arguments': '{\"location\": \"San Francisco, CA\"}',\n",
       "     'name': 'get_current_weather'},\n",
       "    'type': 'function'},\n",
       "   {'id': 'call_s9WkyKPGO0qe1JnDEN9Ko4LM',\n",
       "    'function': {'arguments': '{\"location\": \"New York, NY\"}',\n",
       "     'name': 'get_current_weather'},\n",
       "    'type': 'function'},\n",
       "   {'id': 'call_7dQT0X65fKEW3eQ74DwP61UK',\n",
       "    'function': {'arguments': '{\"location\": \"Los Angeles, CA\"}',\n",
       "     'name': 'get_current_weather'},\n",
       "    'type': 'function'}],\n",
       "  'refusal': None},\n",
       " 'response_metadata': {'token_usage': {'completion_tokens': 70,\n",
       "   'prompt_tokens': 82,\n",
       "   'total_tokens': 152,\n",
       "   'completion_tokens_details': {'accepted_prediction_tokens': 0,\n",
       "    'audio_tokens': 0,\n",
       "    'reasoning_tokens': 0,\n",
       "    'rejected_prediction_tokens': 0},\n",
       "   'prompt_tokens_details': {'audio_tokens': 0, 'cached_tokens': 0}},\n",
       "  'model_name': 'gpt-4o-mini-2024-07-18',\n",
       "  'system_fingerprint': 'fp_0705bf87c0',\n",
       "  'finish_reason': 'tool_calls',\n",
       "  'logprobs': None},\n",
       " 'type': 'ai',\n",
       " 'name': None,\n",
       " 'id': 'run-1b8c2e8b-d7d9-4015-b51f-f843c27eaa69-0',\n",
       " 'example': False,\n",
       " 'tool_calls': [{'name': 'get_current_weather',\n",
       "   'args': {'location': 'San Francisco, CA'},\n",
       "   'id': 'call_cTIA7lIIxqYMNxeeOpklF7LU',\n",
       "   'type': 'tool_call'},\n",
       "  {'name': 'get_current_weather',\n",
       "   'args': {'location': 'New York, NY'},\n",
       "   'id': 'call_s9WkyKPGO0qe1JnDEN9Ko4LM',\n",
       "   'type': 'tool_call'},\n",
       "  {'name': 'get_current_weather',\n",
       "   'args': {'location': 'Los Angeles, CA'},\n",
       "   'id': 'call_7dQT0X65fKEW3eQ74DwP61UK',\n",
       "   'type': 'tool_call'}],\n",
       " 'invalid_tool_calls': [],\n",
       " 'usage_metadata': {'input_tokens': 82,\n",
       "  'output_tokens': 70,\n",
       "  'total_tokens': 152,\n",
       "  'input_token_details': {'audio': 0, 'cache_read': 0},\n",
       "  'output_token_details': {'audio': 0, 'reasoning': 0}}}"
      ]
     },
     "execution_count": 14,
     "metadata": {},
     "output_type": "execute_result"
    }
   ],
   "source": [
    "result.__dict__"
   ]
  },
  {
   "cell_type": "code",
   "execution_count": 15,
   "id": "1478a67c-a492-432e-8154-166cfd97310c",
   "metadata": {},
   "outputs": [],
   "source": [
    "result_dict = result.dict()"
   ]
  },
  {
   "cell_type": "code",
   "execution_count": 17,
   "id": "58d04bc7-5ebe-41b2-bb35-665f07b8585c",
   "metadata": {},
   "outputs": [],
   "source": [
    "import json"
   ]
  },
  {
   "cell_type": "code",
   "execution_count": 20,
   "id": "aba470e9-9ea3-4400-bf9a-33eadaa0c22a",
   "metadata": {},
   "outputs": [],
   "source": [
    "formatted_json = json.dumps(result_dict, indent=4, default=str)"
   ]
  },
  {
   "cell_type": "code",
   "execution_count": 21,
   "id": "3e1e82b4-3175-45ad-86ef-1e80c2124f86",
   "metadata": {},
   "outputs": [
    {
     "data": {
      "text/plain": [
       "'{\\n    \"content\": \"\",\\n    \"additional_kwargs\": {\\n        \"tool_calls\": [\\n            {\\n                \"id\": \"call_cTIA7lIIxqYMNxeeOpklF7LU\",\\n                \"function\": {\\n                    \"arguments\": \"{\\\\\"location\\\\\": \\\\\"San Francisco, CA\\\\\"}\",\\n                    \"name\": \"get_current_weather\"\\n                },\\n                \"type\": \"function\"\\n            },\\n            {\\n                \"id\": \"call_s9WkyKPGO0qe1JnDEN9Ko4LM\",\\n                \"function\": {\\n                    \"arguments\": \"{\\\\\"location\\\\\": \\\\\"New York, NY\\\\\"}\",\\n                    \"name\": \"get_current_weather\"\\n                },\\n                \"type\": \"function\"\\n            },\\n            {\\n                \"id\": \"call_7dQT0X65fKEW3eQ74DwP61UK\",\\n                \"function\": {\\n                    \"arguments\": \"{\\\\\"location\\\\\": \\\\\"Los Angeles, CA\\\\\"}\",\\n                    \"name\": \"get_current_weather\"\\n                },\\n                \"type\": \"function\"\\n            }\\n        ],\\n        \"refusal\": null\\n    },\\n    \"response_metadata\": {\\n        \"token_usage\": {\\n            \"completion_tokens\": 70,\\n            \"prompt_tokens\": 82,\\n            \"total_tokens\": 152,\\n            \"completion_tokens_details\": {\\n                \"accepted_prediction_tokens\": 0,\\n                \"audio_tokens\": 0,\\n                \"reasoning_tokens\": 0,\\n                \"rejected_prediction_tokens\": 0\\n            },\\n            \"prompt_tokens_details\": {\\n                \"audio_tokens\": 0,\\n                \"cached_tokens\": 0\\n            }\\n        },\\n        \"model_name\": \"gpt-4o-mini-2024-07-18\",\\n        \"system_fingerprint\": \"fp_0705bf87c0\",\\n        \"finish_reason\": \"tool_calls\",\\n        \"logprobs\": null\\n    },\\n    \"type\": \"ai\",\\n    \"name\": null,\\n    \"id\": \"run-1b8c2e8b-d7d9-4015-b51f-f843c27eaa69-0\",\\n    \"example\": false,\\n    \"tool_calls\": [\\n        {\\n            \"name\": \"get_current_weather\",\\n            \"args\": {\\n                \"location\": \"San Francisco, CA\"\\n            },\\n            \"id\": \"call_cTIA7lIIxqYMNxeeOpklF7LU\",\\n            \"type\": \"tool_call\"\\n        },\\n        {\\n            \"name\": \"get_current_weather\",\\n            \"args\": {\\n                \"location\": \"New York, NY\"\\n            },\\n            \"id\": \"call_s9WkyKPGO0qe1JnDEN9Ko4LM\",\\n            \"type\": \"tool_call\"\\n        },\\n        {\\n            \"name\": \"get_current_weather\",\\n            \"args\": {\\n                \"location\": \"Los Angeles, CA\"\\n            },\\n            \"id\": \"call_7dQT0X65fKEW3eQ74DwP61UK\",\\n            \"type\": \"tool_call\"\\n        }\\n    ],\\n    \"invalid_tool_calls\": [],\\n    \"usage_metadata\": {\\n        \"input_tokens\": 82,\\n        \"output_tokens\": 70,\\n        \"total_tokens\": 152,\\n        \"input_token_details\": {\\n            \"audio\": 0,\\n            \"cache_read\": 0\\n        },\\n        \"output_token_details\": {\\n            \"audio\": 0,\\n            \"reasoning\": 0\\n        }\\n    }\\n}'"
      ]
     },
     "execution_count": 21,
     "metadata": {},
     "output_type": "execute_result"
    }
   ],
   "source": [
    "formatted_json"
   ]
  },
  {
   "cell_type": "code",
   "execution_count": 22,
   "id": "a1ab4d3a-e16c-40c2-a697-71921db346cf",
   "metadata": {},
   "outputs": [],
   "source": [
    "from IPython.display import JSON"
   ]
  },
  {
   "cell_type": "code",
   "execution_count": 23,
   "id": "39b5b78e-a7ab-4f2d-80e4-777f90b40572",
   "metadata": {},
   "outputs": [
    {
     "data": {
      "application/json": {
       "additional_kwargs": {
        "refusal": null,
        "tool_calls": [
         {
          "function": {
           "arguments": "{\"location\": \"San Francisco, CA\"}",
           "name": "get_current_weather"
          },
          "id": "call_cTIA7lIIxqYMNxeeOpklF7LU",
          "type": "function"
         },
         {
          "function": {
           "arguments": "{\"location\": \"New York, NY\"}",
           "name": "get_current_weather"
          },
          "id": "call_s9WkyKPGO0qe1JnDEN9Ko4LM",
          "type": "function"
         },
         {
          "function": {
           "arguments": "{\"location\": \"Los Angeles, CA\"}",
           "name": "get_current_weather"
          },
          "id": "call_7dQT0X65fKEW3eQ74DwP61UK",
          "type": "function"
         }
        ]
       },
       "content": "",
       "example": false,
       "id": "run-1b8c2e8b-d7d9-4015-b51f-f843c27eaa69-0",
       "invalid_tool_calls": [],
       "name": null,
       "response_metadata": {
        "finish_reason": "tool_calls",
        "logprobs": null,
        "model_name": "gpt-4o-mini-2024-07-18",
        "system_fingerprint": "fp_0705bf87c0",
        "token_usage": {
         "completion_tokens": 70,
         "completion_tokens_details": {
          "accepted_prediction_tokens": 0,
          "audio_tokens": 0,
          "reasoning_tokens": 0,
          "rejected_prediction_tokens": 0
         },
         "prompt_tokens": 82,
         "prompt_tokens_details": {
          "audio_tokens": 0,
          "cached_tokens": 0
         },
         "total_tokens": 152
        }
       },
       "tool_calls": [
        {
         "args": {
          "location": "San Francisco, CA"
         },
         "id": "call_cTIA7lIIxqYMNxeeOpklF7LU",
         "name": "get_current_weather",
         "type": "tool_call"
        },
        {
         "args": {
          "location": "New York, NY"
         },
         "id": "call_s9WkyKPGO0qe1JnDEN9Ko4LM",
         "name": "get_current_weather",
         "type": "tool_call"
        },
        {
         "args": {
          "location": "Los Angeles, CA"
         },
         "id": "call_7dQT0X65fKEW3eQ74DwP61UK",
         "name": "get_current_weather",
         "type": "tool_call"
        }
       ],
       "type": "ai",
       "usage_metadata": {
        "input_token_details": {
         "audio": 0,
         "cache_read": 0
        },
        "input_tokens": 82,
        "output_token_details": {
         "audio": 0,
         "reasoning": 0
        },
        "output_tokens": 70,
        "total_tokens": 152
       }
      },
      "text/plain": [
       "<IPython.core.display.JSON object>"
      ]
     },
     "execution_count": 23,
     "metadata": {
      "application/json": {
       "expanded": false,
       "root": "root"
      }
     },
     "output_type": "execute_result"
    }
   ],
   "source": [
    "JSON(result_dict)"
   ]
  },
  {
   "cell_type": "code",
   "execution_count": null,
   "id": "a264f441-c48a-44c1-b651-75635bf39582",
   "metadata": {},
   "outputs": [],
   "source": []
  }
 ],
 "metadata": {
  "kernelspec": {
   "display_name": "Python 3 (ipykernel)",
   "language": "python",
   "name": "python3"
  },
  "language_info": {
   "codemirror_mode": {
    "name": "ipython",
    "version": 3
   },
   "file_extension": ".py",
   "mimetype": "text/x-python",
   "name": "python",
   "nbconvert_exporter": "python",
   "pygments_lexer": "ipython3",
   "version": "3.12.4"
  }
 },
 "nbformat": 4,
 "nbformat_minor": 5
}

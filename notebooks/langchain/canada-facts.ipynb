{
 "cells": [
  {
   "cell_type": "code",
   "execution_count": 1,
   "id": "ec3e58e4-30c2-4936-9c22-4c52b73a3597",
   "metadata": {},
   "outputs": [],
   "source": [
    "# https://python.langchain.com/docs/how_to/structured_output/\n",
    "# https://python.langchain.com/docs/how_to/\n",
    "# https://platform.openai.com/usage"
   ]
  },
  {
   "cell_type": "code",
   "execution_count": 6,
   "id": "2da6a07d-0d4a-43fa-9585-db25cdecaafc",
   "metadata": {},
   "outputs": [],
   "source": [
    "from constants import OPENAI_API_KEY"
   ]
  },
  {
   "cell_type": "code",
   "execution_count": 8,
   "id": "728f6583-ffce-452a-8023-ba78ecce262f",
   "metadata": {},
   "outputs": [
    {
     "name": "stdout",
     "output_type": "stream",
     "text": [
      "Version: 0.2.9\n"
     ]
    }
   ],
   "source": [
    "!pip show langchain-openai | grep \"Version:\""
   ]
  },
  {
   "cell_type": "code",
   "execution_count": 10,
   "id": "be6a9afe-e358-4ed8-a066-1c9853df011b",
   "metadata": {},
   "outputs": [],
   "source": [
    "import os"
   ]
  },
  {
   "cell_type": "code",
   "execution_count": 11,
   "id": "f51bd7d5-9165-45fd-a700-85f67592b080",
   "metadata": {},
   "outputs": [],
   "source": [
    "os.environ[\"OPENAI_API_KEY\"] = OPENAI_API_KEY"
   ]
  },
  {
   "cell_type": "code",
   "execution_count": 12,
   "id": "4c9e3c19-b9cc-4cb1-95f6-29ca38bdf70d",
   "metadata": {},
   "outputs": [],
   "source": [
    "from langchain_openai import ChatOpenAI"
   ]
  },
  {
   "cell_type": "code",
   "execution_count": 13,
   "id": "bf484c0d-def8-4d57-8ff2-9dd14224ff97",
   "metadata": {},
   "outputs": [],
   "source": [
    "llm = ChatOpenAI(model=\"gpt-4o-mini\")"
   ]
  },
  {
   "cell_type": "code",
   "execution_count": 17,
   "id": "3fa16492-c9cd-40bb-8359-9047103b3aaf",
   "metadata": {},
   "outputs": [],
   "source": [
    "from typing import Optional\n",
    "from pydantic import BaseModel, Field\n",
    "\n",
    "# Pydantic\n",
    "class CanadaFact(BaseModel):\n",
    "    \"\"\"Facts about Canada to tell user.\"\"\"\n",
    "\n",
    "    year: str     = Field(description = \"Specific year of the fact\")\n",
    "    info: str     = Field(description = \"Info of the fact\")\n",
    "    category: str = Field(description = \"Category of the fact\")\n",
    "\n",
    "structured_llm = llm.with_structured_output(CanadaFact)"
   ]
  },
  {
   "cell_type": "code",
   "execution_count": 18,
   "id": "62d71810-cffd-472c-b88f-4055b6065122",
   "metadata": {},
   "outputs": [],
   "source": [
    "def q():\n",
    "    return structured_llm.invoke(\"Tell me a fact about Canada\")"
   ]
  },
  {
   "cell_type": "code",
   "execution_count": 19,
   "id": "72399aea-fc27-400f-b07b-0759d86c6374",
   "metadata": {},
   "outputs": [
    {
     "data": {
      "text/plain": [
       "CanadaFact(year='1867', info='Canada became a self-governing dominion within the British Empire on July 1, 1867, with the passage of the British North America Act.', category='Historical')"
      ]
     },
     "execution_count": 19,
     "metadata": {},
     "output_type": "execute_result"
    }
   ],
   "source": [
    "q()"
   ]
  },
  {
   "cell_type": "code",
   "execution_count": 20,
   "id": "27d36d22-5e67-4ff5-ac1d-973d983ffde5",
   "metadata": {},
   "outputs": [
    {
     "data": {
      "text/plain": [
       "CanadaFact(year='1867', info='Canada became a self-governing dominion within the British Empire on July 1, 1867, through the British North America Act.', category='History')"
      ]
     },
     "execution_count": 20,
     "metadata": {},
     "output_type": "execute_result"
    }
   ],
   "source": [
    "q()"
   ]
  },
  {
   "cell_type": "code",
   "execution_count": null,
   "id": "c436802f-9fc7-42ea-b50c-4d50c6e653ca",
   "metadata": {},
   "outputs": [],
   "source": []
  }
 ],
 "metadata": {
  "kernelspec": {
   "display_name": "Python 3 (ipykernel)",
   "language": "python",
   "name": "python3"
  },
  "language_info": {
   "codemirror_mode": {
    "name": "ipython",
    "version": 3
   },
   "file_extension": ".py",
   "mimetype": "text/x-python",
   "name": "python",
   "nbconvert_exporter": "python",
   "pygments_lexer": "ipython3",
   "version": "3.12.4"
  }
 },
 "nbformat": 4,
 "nbformat_minor": 5
}

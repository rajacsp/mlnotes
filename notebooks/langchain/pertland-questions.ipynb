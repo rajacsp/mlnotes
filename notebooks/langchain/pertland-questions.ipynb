{
 "cells": [
  {
   "cell_type": "markdown",
   "id": "792c3b51-b105-421f-8c4c-c47ab91d651d",
   "metadata": {},
   "source": [
    "6\n",
    "<br>\n",
    "How to: pass through inputs from one chain step to the next\n",
    "<br>\n",
    "https://python.langchain.com/docs/how_to/passthrough/"
   ]
  },
  {
   "cell_type": "code",
   "execution_count": 1,
   "id": "dd7659a3-7179-4301-a37c-71f199a5ce01",
   "metadata": {},
   "outputs": [
    {
     "name": "stdout",
     "output_type": "stream",
     "text": [
      "Python 3.12.4\n"
     ]
    }
   ],
   "source": [
    "!python --version"
   ]
  },
  {
   "cell_type": "code",
   "execution_count": 2,
   "id": "2da6a07d-0d4a-43fa-9585-db25cdecaafc",
   "metadata": {},
   "outputs": [],
   "source": [
    "from constants import OPENAI_API_KEY"
   ]
  },
  {
   "cell_type": "code",
   "execution_count": 3,
   "id": "728f6583-ffce-452a-8023-ba78ecce262f",
   "metadata": {},
   "outputs": [
    {
     "name": "stdout",
     "output_type": "stream",
     "text": [
      "Version: 0.2.9\n"
     ]
    }
   ],
   "source": [
    "!pip show langchain-openai | grep \"Version:\""
   ]
  },
  {
   "cell_type": "code",
   "execution_count": 4,
   "id": "be6a9afe-e358-4ed8-a066-1c9853df011b",
   "metadata": {},
   "outputs": [],
   "source": [
    "import os"
   ]
  },
  {
   "cell_type": "code",
   "execution_count": 5,
   "id": "f51bd7d5-9165-45fd-a700-85f67592b080",
   "metadata": {},
   "outputs": [],
   "source": [
    "os.environ[\"OPENAI_API_KEY\"] = OPENAI_API_KEY"
   ]
  },
  {
   "cell_type": "code",
   "execution_count": 6,
   "id": "c436802f-9fc7-42ea-b50c-4d50c6e653ca",
   "metadata": {},
   "outputs": [],
   "source": [
    "from langchain_openai import ChatOpenAI\n",
    "\n",
    "model = ChatOpenAI(model=\"gpt-4o-mini\")"
   ]
  },
  {
   "cell_type": "code",
   "execution_count": 7,
   "id": "7ed6c3be-f0fa-4857-862a-43627bc25c4e",
   "metadata": {},
   "outputs": [],
   "source": [
    "# https://python.langchain.com/docs/how_to/passthrough/"
   ]
  },
  {
   "cell_type": "code",
   "execution_count": 8,
   "id": "76dc8d3a-02ae-4ccd-a87d-fb90fdde95c5",
   "metadata": {},
   "outputs": [],
   "source": [
    "content = \"\"\"\n",
    "Location: Peritland is an archipelago surrounded by the luminous waters of the Celestine Ocean, which glow faintly under the moonlight due to bioluminescent algae.\n",
    "\n",
    "Climate: The land has a unique climate cycle with three seasons: the Rainy Glow, the Sunlit Drowse, and the Whispering Winds.\n",
    "\n",
    "Capital City: The capital, Auralis, is built on a floating island powered by advanced wind turbines and crystal energy.\n",
    "\n",
    "Language: The people of Peritland speak Luris, a melodic language that mimics the sounds of wind and water.\n",
    "\n",
    "Currency: Peritland uses Glintstones, small iridescent crystals found in the coastal caves, as its currency.\n",
    "\n",
    "Government: It is governed by a Triad Council, which includes representatives of the sky (wind nomads), land (forest dwellers), and sea (island navigators).\n",
    "\n",
    "Wildlife: Peritland is home to Nimbus Foxes, which have fur that changes color based on the weather.\n",
    "\n",
    "Cuisine: The Peritians are known for their Skyfruit Pie, made from levitating fruits harvested during the Sunlit Drowse season.\n",
    "\n",
    "Technology: Peritland thrives on eco-technology powered by renewable sources like wind, solar, and kinetic energy from ocean waves.\n",
    "\n",
    "Education: Children learn through the Orb of Whispers, a holographic tutor that adjusts its teaching based on each student's aptitude.\n",
    "\n",
    "Flora: The Dewshade Tree, with glowing, sapphire-like leaves, is considered sacred and grows only in the heart of Peritland.\n",
    "\n",
    "Festivals: The annual Festival of Lumina involves lighting sky lanterns that synchronize with the stars.\n",
    "\n",
    "Mythology: Peritland legends tell of the Ethereal Guardian, a giant serpent who protects the islands from invaders.\n",
    "\n",
    "Sports: The national sport is Aero-Sailing, a thrilling race of hoverboats through Peritland’s floating archipelago.\n",
    "\n",
    "Transport: Citizens travel using Hovervine Trams, which glide along networks of living vines spanning the islands.\n",
    "\n",
    "Art: Peritian art incorporates Glow Ink, a substance that makes paintings shimmer in the dark.\n",
    "\n",
    "Music: The primary instrument is the Lustrilute, a harp-like device that emits sounds by vibrating water droplets.\n",
    "\n",
    "Philosophy: Peritians follow the Path of Balance, a belief system emphasizing harmony with nature and technology.\n",
    "\n",
    "Economy: The land exports Star Pearls, rare bioluminescent pearls, which are highly sought after in neighboring regions.\n",
    "\n",
    "Hidden Wonders: Deep within the waters of Peritland lies the City of Mirage, an ancient underwater metropolis rumored to house untold treasures.\n",
    "\"\"\""
   ]
  },
  {
   "cell_type": "code",
   "execution_count": 9,
   "id": "6b48eb1b-f9ec-4b20-8e37-535e2e0b722a",
   "metadata": {},
   "outputs": [],
   "source": [
    "content_list = [line for line in content.splitlines() if line.strip()]"
   ]
  },
  {
   "cell_type": "code",
   "execution_count": 10,
   "id": "89ec0213-0c53-4ced-af1b-b4e207ec698c",
   "metadata": {},
   "outputs": [
    {
     "data": {
      "text/plain": [
       "['Location: Peritland is an archipelago surrounded by the luminous waters of the Celestine Ocean, which glow faintly under the moonlight due to bioluminescent algae.',\n",
       " 'Climate: The land has a unique climate cycle with three seasons: the Rainy Glow, the Sunlit Drowse, and the Whispering Winds.',\n",
       " 'Capital City: The capital, Auralis, is built on a floating island powered by advanced wind turbines and crystal energy.',\n",
       " 'Language: The people of Peritland speak Luris, a melodic language that mimics the sounds of wind and water.',\n",
       " 'Currency: Peritland uses Glintstones, small iridescent crystals found in the coastal caves, as its currency.',\n",
       " 'Government: It is governed by a Triad Council, which includes representatives of the sky (wind nomads), land (forest dwellers), and sea (island navigators).',\n",
       " 'Wildlife: Peritland is home to Nimbus Foxes, which have fur that changes color based on the weather.',\n",
       " 'Cuisine: The Peritians are known for their Skyfruit Pie, made from levitating fruits harvested during the Sunlit Drowse season.',\n",
       " 'Technology: Peritland thrives on eco-technology powered by renewable sources like wind, solar, and kinetic energy from ocean waves.',\n",
       " \"Education: Children learn through the Orb of Whispers, a holographic tutor that adjusts its teaching based on each student's aptitude.\",\n",
       " 'Flora: The Dewshade Tree, with glowing, sapphire-like leaves, is considered sacred and grows only in the heart of Peritland.',\n",
       " 'Festivals: The annual Festival of Lumina involves lighting sky lanterns that synchronize with the stars.',\n",
       " 'Mythology: Peritland legends tell of the Ethereal Guardian, a giant serpent who protects the islands from invaders.',\n",
       " 'Sports: The national sport is Aero-Sailing, a thrilling race of hoverboats through Peritland’s floating archipelago.',\n",
       " 'Transport: Citizens travel using Hovervine Trams, which glide along networks of living vines spanning the islands.',\n",
       " 'Art: Peritian art incorporates Glow Ink, a substance that makes paintings shimmer in the dark.',\n",
       " 'Music: The primary instrument is the Lustrilute, a harp-like device that emits sounds by vibrating water droplets.',\n",
       " 'Philosophy: Peritians follow the Path of Balance, a belief system emphasizing harmony with nature and technology.',\n",
       " 'Economy: The land exports Star Pearls, rare bioluminescent pearls, which are highly sought after in neighboring regions.',\n",
       " 'Hidden Wonders: Deep within the waters of Peritland lies the City of Mirage, an ancient underwater metropolis rumored to house untold treasures.']"
      ]
     },
     "execution_count": 10,
     "metadata": {},
     "output_type": "execute_result"
    }
   ],
   "source": [
    "content_list"
   ]
  },
  {
   "cell_type": "code",
   "execution_count": 11,
   "id": "2547f469-0fa1-40d4-9f60-47e951c1a964",
   "metadata": {},
   "outputs": [
    {
     "data": {
      "text/plain": [
       "\"\\nWhat makes the Celestine Ocean surrounding Peritland unique, and how does it affect the lives of its inhabitants?\\n\\nHow do the three seasons of Rainy Glow, Sunlit Drowse, and Whispering Winds influence daily life in Peritland?\\n\\nWhat is the significance of the floating capital city Auralis, and how is it powered?\\n\\nWhy are Glintstones chosen as the currency of Peritland, and where can they be found?\\n\\nHow does the Triad Council ensure balance among the wind, land, and sea factions of Peritland?\\n\\nWhat role do Nimbus Foxes play in Peritland's ecosystem or folklore?\\n\\nWhat makes the Skyfruit Pie a culinary highlight, and what is its cultural significance?\\n\\nHow does Peritland’s reliance on eco-technology shape its society and economy?\\n\\nWhat is the function of the Orb of Whispers, and how has it revolutionized education in Peritland?\\n\\nWhy is the Dewshade Tree considered sacred, and what rituals surround it?\\n\\nWhat traditions are associated with the Festival of Lumina, and how do they unite Peritland’s people?\\n\\nWho or what is the Ethereal Guardian, and how has it influenced Peritland’s mythology?\\n\\nWhat skills are required to excel in the national sport of Aero-Sailing?\\n\\nHow do the Hovervine Trams work, and what is their significance in connecting the islands?\\n\\nWhy is Glow Ink a central element in Peritian art, and how is it created?\\n\\nHow does the Lustrilute contribute to the unique soundscape of Peritland?\\n\\nWhat are the core principles of the Path of Balance, and how do they guide Peritian life?\\n\\nWhy are Star Pearls so valuable to other regions, and how does their trade impact Peritland’s economy?\\n\\nWhat mysteries surround the City of Mirage, and what might adventurers hope to find there?\\n\\nHow do Peritians maintain harmony between their advanced technologies and their natural environment?\\n\""
      ]
     },
     "execution_count": 11,
     "metadata": {},
     "output_type": "execute_result"
    }
   ],
   "source": [
    "\"\"\"\n",
    "What makes the Celestine Ocean surrounding Peritland unique, and how does it affect the lives of its inhabitants?\n",
    "\n",
    "How do the three seasons of Rainy Glow, Sunlit Drowse, and Whispering Winds influence daily life in Peritland?\n",
    "\n",
    "What is the significance of the floating capital city Auralis, and how is it powered?\n",
    "\n",
    "Why are Glintstones chosen as the currency of Peritland, and where can they be found?\n",
    "\n",
    "How does the Triad Council ensure balance among the wind, land, and sea factions of Peritland?\n",
    "\n",
    "What role do Nimbus Foxes play in Peritland's ecosystem or folklore?\n",
    "\n",
    "What makes the Skyfruit Pie a culinary highlight, and what is its cultural significance?\n",
    "\n",
    "How does Peritland’s reliance on eco-technology shape its society and economy?\n",
    "\n",
    "What is the function of the Orb of Whispers, and how has it revolutionized education in Peritland?\n",
    "\n",
    "Why is the Dewshade Tree considered sacred, and what rituals surround it?\n",
    "\n",
    "What traditions are associated with the Festival of Lumina, and how do they unite Peritland’s people?\n",
    "\n",
    "Who or what is the Ethereal Guardian, and how has it influenced Peritland’s mythology?\n",
    "\n",
    "What skills are required to excel in the national sport of Aero-Sailing?\n",
    "\n",
    "How do the Hovervine Trams work, and what is their significance in connecting the islands?\n",
    "\n",
    "Why is Glow Ink a central element in Peritian art, and how is it created?\n",
    "\n",
    "How does the Lustrilute contribute to the unique soundscape of Peritland?\n",
    "\n",
    "What are the core principles of the Path of Balance, and how do they guide Peritian life?\n",
    "\n",
    "Why are Star Pearls so valuable to other regions, and how does their trade impact Peritland’s economy?\n",
    "\n",
    "What mysteries surround the City of Mirage, and what might adventurers hope to find there?\n",
    "\n",
    "How do Peritians maintain harmony between their advanced technologies and their natural environment?\n",
    "\"\"\""
   ]
  },
  {
   "cell_type": "code",
   "execution_count": 12,
   "id": "b86565d0-430b-4856-9241-e54afa0440b0",
   "metadata": {},
   "outputs": [],
   "source": [
    "from langchain_community.vectorstores import FAISS\n",
    "from langchain_core.output_parsers import StrOutputParser\n",
    "from langchain_core.prompts import ChatPromptTemplate\n",
    "from langchain_core.runnables import RunnablePassthrough\n",
    "from langchain_openai import ChatOpenAI, OpenAIEmbeddings\n",
    "\n",
    "vectorstore = FAISS.from_texts(\n",
    "    content_list, \n",
    "    embedding=OpenAIEmbeddings()\n",
    ")\n",
    "retriever = vectorstore.as_retriever()\n",
    "template = \"\"\"Answer the question based only on the following context:\n",
    "{context}\n",
    "\n",
    "Question: {question}\n",
    "\"\"\"\n",
    "prompt = ChatPromptTemplate.from_template(template)\n",
    "model = ChatOpenAI()\n",
    "\n",
    "retrieval_chain = (\n",
    "    {\"context\": retriever, \"question\": RunnablePassthrough()}\n",
    "    | prompt\n",
    "    | model\n",
    "    | StrOutputParser()\n",
    ")"
   ]
  },
  {
   "cell_type": "code",
   "execution_count": 13,
   "id": "fa4839c2-cc3e-48da-9915-d16aa5e095c8",
   "metadata": {},
   "outputs": [
    {
     "data": {
      "text/plain": [
       "'The City of Mirage is rumored to house untold treasures and is considered a hidden wonder deep within the waters of Peritland. Adventurers might hope to find ancient treasures, artifacts, and possibly even valuable resources within the underwater metropolis.'"
      ]
     },
     "execution_count": 13,
     "metadata": {},
     "output_type": "execute_result"
    }
   ],
   "source": [
    "retrieval_chain.invoke(\"What mysteries surround the City of Mirage, and what might adventurers hope to find there?\")"
   ]
  },
  {
   "cell_type": "code",
   "execution_count": 14,
   "id": "1ad019da-b60a-4f50-bf4b-60298b9cecb6",
   "metadata": {},
   "outputs": [
    {
     "data": {
      "text/plain": [
       "'Glow Ink is a central element in Peritian art because it makes paintings shimmer in the dark, adding a unique and magical quality to the artwork. It is created using a substance that incorporates bioluminescent algae, possibly sourced from the luminous waters of the Celestine Ocean that surround Peritland.'"
      ]
     },
     "execution_count": 14,
     "metadata": {},
     "output_type": "execute_result"
    }
   ],
   "source": [
    "retrieval_chain.invoke(\"Why is Glow Ink a central element in Peritian art, and how is it created?\")"
   ]
  },
  {
   "cell_type": "code",
   "execution_count": 15,
   "id": "69c69fb5-5beb-46b1-a1a0-2b9c04ecc2dc",
   "metadata": {},
   "outputs": [],
   "source": [
    "def q(question):\n",
    "    return retrieval_chain.invoke(question)"
   ]
  },
  {
   "cell_type": "code",
   "execution_count": 16,
   "id": "380f24ed-e802-4a0e-81cc-2fb75429feea",
   "metadata": {},
   "outputs": [
    {
     "data": {
      "text/plain": [
       "'The Dewshade Tree is considered sacred because it has glowing, sapphire-like leaves and grows only in the heart of Peritland. It is not mentioned what rituals surround the Dewshade Tree.'"
      ]
     },
     "execution_count": 16,
     "metadata": {},
     "output_type": "execute_result"
    }
   ],
   "source": [
    "q(\"Why is the Dewshade Tree considered sacred, and what rituals surround it?\")"
   ]
  },
  {
   "cell_type": "code",
   "execution_count": 17,
   "id": "06c4e3ef-43a5-4f20-a393-943e20bd74cb",
   "metadata": {},
   "outputs": [
    {
     "data": {
      "text/plain": [
       "'Auralis is the capital city of Peritland, built on a floating island powered by advanced wind turbines and crystal energy.'"
      ]
     },
     "execution_count": 17,
     "metadata": {},
     "output_type": "execute_result"
    }
   ],
   "source": [
    "q(\"tell me about Auralis\")"
   ]
  },
  {
   "cell_type": "code",
   "execution_count": null,
   "id": "f953cd93-2880-406a-817f-92d4ab45b5eb",
   "metadata": {},
   "outputs": [],
   "source": []
  }
 ],
 "metadata": {
  "kernelspec": {
   "display_name": "Python 3 (ipykernel)",
   "language": "python",
   "name": "python3"
  },
  "language_info": {
   "codemirror_mode": {
    "name": "ipython",
    "version": 3
   },
   "file_extension": ".py",
   "mimetype": "text/x-python",
   "name": "python",
   "nbconvert_exporter": "python",
   "pygments_lexer": "ipython3",
   "version": "3.12.4"
  }
 },
 "nbformat": 4,
 "nbformat_minor": 5
}

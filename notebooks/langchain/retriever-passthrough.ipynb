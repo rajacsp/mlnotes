{
 "cells": [
  {
   "cell_type": "code",
   "execution_count": 17,
   "id": "dd7659a3-7179-4301-a37c-71f199a5ce01",
   "metadata": {},
   "outputs": [
    {
     "name": "stdout",
     "output_type": "stream",
     "text": [
      "Python 3.12.4\n"
     ]
    }
   ],
   "source": [
    "!python --version"
   ]
  },
  {
   "cell_type": "code",
   "execution_count": 18,
   "id": "2da6a07d-0d4a-43fa-9585-db25cdecaafc",
   "metadata": {},
   "outputs": [],
   "source": [
    "from constants import OPENAI_API_KEY"
   ]
  },
  {
   "cell_type": "code",
   "execution_count": 19,
   "id": "728f6583-ffce-452a-8023-ba78ecce262f",
   "metadata": {},
   "outputs": [
    {
     "name": "stdout",
     "output_type": "stream",
     "text": [
      "Version: 0.2.9\n"
     ]
    }
   ],
   "source": [
    "!pip show langchain-openai | grep \"Version:\""
   ]
  },
  {
   "cell_type": "code",
   "execution_count": 20,
   "id": "be6a9afe-e358-4ed8-a066-1c9853df011b",
   "metadata": {},
   "outputs": [],
   "source": [
    "import os"
   ]
  },
  {
   "cell_type": "code",
   "execution_count": 21,
   "id": "f51bd7d5-9165-45fd-a700-85f67592b080",
   "metadata": {},
   "outputs": [],
   "source": [
    "os.environ[\"OPENAI_API_KEY\"] = OPENAI_API_KEY"
   ]
  },
  {
   "cell_type": "code",
   "execution_count": 22,
   "id": "c436802f-9fc7-42ea-b50c-4d50c6e653ca",
   "metadata": {},
   "outputs": [],
   "source": [
    "from langchain_openai import ChatOpenAI\n",
    "\n",
    "model = ChatOpenAI(model=\"gpt-4o-mini\")"
   ]
  },
  {
   "cell_type": "code",
   "execution_count": 23,
   "id": "7ed6c3be-f0fa-4857-862a-43627bc25c4e",
   "metadata": {},
   "outputs": [],
   "source": [
    "# https://python.langchain.com/docs/how_to/passthrough/"
   ]
  },
  {
   "cell_type": "code",
   "execution_count": 24,
   "id": "76dc8d3a-02ae-4ccd-a87d-fb90fdde95c5",
   "metadata": {},
   "outputs": [],
   "source": [
    "content = \"\"\"\n",
    "Periyar, born in 1879, was a social reformer from Tamil Nadu, India.\n",
    "He founded the Self-Respect Movement to challenge caste oppression and social inequality.\n",
    "Periyar was a staunch advocate for women's rights and gender equality.\n",
    "He opposed the dominance of Brahminical culture and religious superstitions in society.\n",
    "Periyar is known as the \"Father of the Dravidian Movement\" in South India.\n",
    "He established the Dravidar Kazhagam political party in 1944 to promote rationalism.\n",
    "Periyar campaigned for the use of Tamil in education and government administration.\n",
    "He championed the idea of Tamil Nadu as an independent Dravidian state.\n",
    "His progressive ideas inspired movements for social justice and secularism.\n",
    "Periyar's influence remains significant in shaping modern Tamil Nadu's political and social landscape.\n",
    "\"\"\""
   ]
  },
  {
   "cell_type": "code",
   "execution_count": 25,
   "id": "6b48eb1b-f9ec-4b20-8e37-535e2e0b722a",
   "metadata": {},
   "outputs": [],
   "source": [
    "content_list = [line for line in content.splitlines() if line.strip()]"
   ]
  },
  {
   "cell_type": "code",
   "execution_count": 16,
   "id": "b86565d0-430b-4856-9241-e54afa0440b0",
   "metadata": {},
   "outputs": [],
   "source": [
    "from langchain_community.vectorstores import FAISS\n",
    "from langchain_core.output_parsers import StrOutputParser\n",
    "from langchain_core.prompts import ChatPromptTemplate\n",
    "from langchain_core.runnables import RunnablePassthrough\n",
    "from langchain_openai import ChatOpenAI, OpenAIEmbeddings\n",
    "\n",
    "vectorstore = FAISS.from_texts(\n",
    "    content_list, \n",
    "    embedding=OpenAIEmbeddings()\n",
    ")\n",
    "retriever = vectorstore.as_retriever()\n",
    "template = \"\"\"Answer the question based only on the following context:\n",
    "{context}\n",
    "\n",
    "Question: {question}\n",
    "\"\"\"\n",
    "prompt = ChatPromptTemplate.from_template(template)\n",
    "model = ChatOpenAI()\n",
    "\n",
    "retrieval_chain = (\n",
    "    {\"context\": retriever, \"question\": RunnablePassthrough()}\n",
    "    | prompt\n",
    "    | model\n",
    "    | StrOutputParser()\n",
    ")"
   ]
  },
  {
   "cell_type": "code",
   "execution_count": 26,
   "id": "fa4839c2-cc3e-48da-9915-d16aa5e095c8",
   "metadata": {},
   "outputs": [
    {
     "data": {
      "text/plain": [
       "'Periyar was born in Tamil Nadu, India.'"
      ]
     },
     "execution_count": 26,
     "metadata": {},
     "output_type": "execute_result"
    }
   ],
   "source": [
    "retrieval_chain.invoke(\"where was Periyar born?\")"
   ]
  },
  {
   "cell_type": "code",
   "execution_count": 27,
   "id": "1ad019da-b60a-4f50-bf4b-60298b9cecb6",
   "metadata": {},
   "outputs": [
    {
     "data": {
      "text/plain": [
       "'Self-respect is a concept promoted by the founder of the Self-Respect Movement, Periyar, to challenge caste oppression and social inequality.'"
      ]
     },
     "execution_count": 27,
     "metadata": {},
     "output_type": "execute_result"
    }
   ],
   "source": [
    "retrieval_chain.invoke(\"tell me about Self respect\")"
   ]
  },
  {
   "cell_type": "code",
   "execution_count": null,
   "id": "69c69fb5-5beb-46b1-a1a0-2b9c04ecc2dc",
   "metadata": {},
   "outputs": [],
   "source": []
  }
 ],
 "metadata": {
  "kernelspec": {
   "display_name": "Python 3 (ipykernel)",
   "language": "python",
   "name": "python3"
  },
  "language_info": {
   "codemirror_mode": {
    "name": "ipython",
    "version": 3
   },
   "file_extension": ".py",
   "mimetype": "text/x-python",
   "name": "python",
   "nbconvert_exporter": "python",
   "pygments_lexer": "ipython3",
   "version": "3.12.4"
  }
 },
 "nbformat": 4,
 "nbformat_minor": 5
}

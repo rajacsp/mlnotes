{
 "cells": [
  {
   "cell_type": "code",
   "execution_count": 1,
   "id": "03f80bde-cf21-4b14-ac24-743c76529f29",
   "metadata": {},
   "outputs": [
    {
     "name": "stdout",
     "output_type": "stream",
     "text": [
      "Python 3.12.4\n"
     ]
    }
   ],
   "source": [
    "!python --version"
   ]
  },
  {
   "cell_type": "code",
   "execution_count": 2,
   "id": "5a98ec77-8d68-4274-8cdd-c96f68d632ac",
   "metadata": {},
   "outputs": [],
   "source": [
    "import ast"
   ]
  },
  {
   "cell_type": "code",
   "execution_count": 3,
   "id": "a3b48eb6-2bd5-4260-ab48-25e4714695b4",
   "metadata": {},
   "outputs": [],
   "source": [
    "# Python code as a string\n",
    "code = \"\"\"\n",
    "def greet(name):\n",
    "    return f\"Hello, {name}!\"\n",
    "    \n",
    "x = 10\n",
    "y = x + 20\n",
    "print(greet(\"Python\"))\n",
    "\"\"\""
   ]
  },
  {
   "cell_type": "code",
   "execution_count": 4,
   "id": "1203fc03-9f14-4f9b-9702-68e83fc2aa78",
   "metadata": {},
   "outputs": [],
   "source": [
    "# Parse the code into an AST\n",
    "tree = ast.parse(code)"
   ]
  },
  {
   "cell_type": "code",
   "execution_count": 5,
   "id": "7fc99a69-5568-4b50-936f-e97406ec24ec",
   "metadata": {},
   "outputs": [],
   "source": [
    "# Define a visitor class to analyze nodes\n",
    "class CodeAnalyzer(ast.NodeVisitor):\n",
    "    def visit_FunctionDef(self, node):\n",
    "        print(f\"Function found: {node.name}\")\n",
    "        self.generic_visit(node)\n",
    "    \n",
    "    def visit_Assign(self, node):\n",
    "        targets = [t.id for t in node.targets if isinstance(t, ast.Name)]\n",
    "        print(f\"Assignment to: {targets}\")\n",
    "        self.generic_visit(node)\n",
    "    \n",
    "    def visit_Call(self, node):\n",
    "        if isinstance(node.func, ast.Name):\n",
    "            print(f\"Function call: {node.func.id}\")\n",
    "        self.generic_visit(node)"
   ]
  },
  {
   "cell_type": "code",
   "execution_count": 6,
   "id": "b2221b8c-8561-42ff-ae34-6195d0fadb33",
   "metadata": {},
   "outputs": [
    {
     "name": "stdout",
     "output_type": "stream",
     "text": [
      "Function found: greet\n",
      "Assignment to: ['x']\n",
      "Assignment to: ['y']\n",
      "Function call: print\n",
      "Function call: greet\n"
     ]
    }
   ],
   "source": [
    "# Create an analyzer instance and visit nodes\n",
    "analyzer = CodeAnalyzer()\n",
    "analyzer.visit(tree)"
   ]
  },
  {
   "cell_type": "code",
   "execution_count": null,
   "id": "7478bfff-88a9-44a6-9b1b-0e1263d73dbc",
   "metadata": {},
   "outputs": [],
   "source": []
  }
 ],
 "metadata": {
  "kernelspec": {
   "display_name": "Python 3 (ipykernel)",
   "language": "python",
   "name": "python3"
  },
  "language_info": {
   "codemirror_mode": {
    "name": "ipython",
    "version": 3
   },
   "file_extension": ".py",
   "mimetype": "text/x-python",
   "name": "python",
   "nbconvert_exporter": "python",
   "pygments_lexer": "ipython3",
   "version": "3.12.4"
  }
 },
 "nbformat": 4,
 "nbformat_minor": 5
}

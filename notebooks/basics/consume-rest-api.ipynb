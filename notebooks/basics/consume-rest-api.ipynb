{
 "cells": [
  {
   "cell_type": "code",
   "execution_count": null,
   "id": "3a6a4a01-d974-4619-82b4-4c0402bdca0a",
   "metadata": {},
   "outputs": [],
   "source": []
  },
  {
   "cell_type": "code",
   "execution_count": 74,
   "id": "6daedcaf-d3c7-4d8c-a116-c6a573676030",
   "metadata": {},
   "outputs": [],
   "source": [
    "import requests\n",
    "import json"
   ]
  },
  {
   "cell_type": "code",
   "execution_count": 79,
   "id": "e511dc99-842d-4de9-a6a0-1a143982b5db",
   "metadata": {},
   "outputs": [],
   "source": [
    "response = requests.get(\"https://randomuser.me/api/\")"
   ]
  },
  {
   "cell_type": "code",
   "execution_count": 80,
   "id": "970bbafe-aefe-4c03-a5b8-881ef4f8cd06",
   "metadata": {},
   "outputs": [],
   "source": [
    "response_json = response.json()"
   ]
  },
  {
   "cell_type": "code",
   "execution_count": 81,
   "id": "fbb2556e-face-443e-ad12-b2e2c28b720e",
   "metadata": {},
   "outputs": [
    {
     "name": "stdout",
     "output_type": "stream",
     "text": [
      "{'results': [{'gender': 'female', 'name': {'title': 'Ms', 'first': 'Mia', 'last': 'Walker'}, 'location': {'street': {'number': 8562, 'name': 'Port Hills Road'}, 'city': 'Hamilton', 'state': 'Waikato', 'country': 'New Zealand', 'postcode': 45938, 'coordinates': {'latitude': '54.8821', 'longitude': '15.6902'}, 'timezone': {'offset': '+4:30', 'description': 'Kabul'}}, 'email': 'mia.walker@example.com', 'login': {'uuid': 'acdada4d-6fc5-442c-be57-b8db60d5ed2b', 'username': 'heavypeacock555', 'password': 'fresh', 'salt': '7WvriXB4', 'md5': 'f5bbe66407188487fcb9e3255bb161e2', 'sha1': '421d5105c937de66947e9de0ee491df3cfbd720e', 'sha256': 'fe1fca89f0b9348f8a4be3540377b777eef406e3ffd8668694c48223b38a04e7'}, 'dob': {'date': '1992-12-04T19:33:10.191Z', 'age': 32}, 'registered': {'date': '2016-12-12T05:33:38.658Z', 'age': 8}, 'phone': '(083)-981-7119', 'cell': '(233)-717-4000', 'id': {'name': '', 'value': None}, 'picture': {'large': 'https://randomuser.me/api/portraits/women/38.jpg', 'medium': 'https://randomuser.me/api/portraits/med/women/38.jpg', 'thumbnail': 'https://randomuser.me/api/portraits/thumb/women/38.jpg'}, 'nat': 'NZ'}], 'info': {'seed': 'ce107bb801696e75', 'results': 1, 'page': 1, 'version': '1.4'}}\n"
     ]
    }
   ],
   "source": [
    "print(response_json)"
   ]
  },
  {
   "cell_type": "code",
   "execution_count": 78,
   "id": "e1b8b52a-ea84-456b-9653-18fcea8cc1d7",
   "metadata": {},
   "outputs": [],
   "source": [
    "# response_json"
   ]
  },
  {
   "cell_type": "raw",
   "id": "1664b05d-9ced-4d61-a13a-15a598d76057",
   "metadata": {},
   "source": [
    "print(json.dumps(response_json, indent=4))"
   ]
  },
  {
   "cell_type": "code",
   "execution_count": 44,
   "id": "15f70fe7-64c8-4857-8720-3f1dea046787",
   "metadata": {},
   "outputs": [],
   "source": [
    "result_first_item = response_json[\"results\"][0]"
   ]
  },
  {
   "cell_type": "code",
   "execution_count": 26,
   "id": "069cf7cc-1240-40b5-9551-f7e8f954c5e4",
   "metadata": {},
   "outputs": [
    {
     "data": {
      "text/plain": [
       "{'gender': 'male',\n",
       " 'name': {'title': 'Mr', 'first': 'Willie', 'last': 'Chambers'},\n",
       " 'location': {'street': {'number': 5013, 'name': 'The Green'},\n",
       "  'city': 'Ely',\n",
       "  'state': 'West Glamorgan',\n",
       "  'country': 'United Kingdom',\n",
       "  'postcode': 'D9 8SX',\n",
       "  'coordinates': {'latitude': '-10.6600', 'longitude': '-173.3726'},\n",
       "  'timezone': {'offset': '+7:00', 'description': 'Bangkok, Hanoi, Jakarta'}},\n",
       " 'email': 'willie.chambers@example.com',\n",
       " 'login': {'uuid': 'f2c8e5e0-ec49-4d8f-998c-7a5e952f9982',\n",
       "  'username': 'orangerabbit542',\n",
       "  'password': 'momo',\n",
       "  'salt': '5VqLYF7g',\n",
       "  'md5': 'b36751c710160b6152eba752a957c785',\n",
       "  'sha1': '63effd9e597cbbc9da0909ddd35588a826aab7f1',\n",
       "  'sha256': '88c465cf36822c116ebefdfa11d992f092e773b92d9a33a368a8ff18b1096da0'},\n",
       " 'dob': {'date': '1980-10-21T11:45:31.984Z', 'age': 44},\n",
       " 'registered': {'date': '2009-07-22T12:49:50.771Z', 'age': 15},\n",
       " 'phone': '017683 28131',\n",
       " 'cell': '07489 074118',\n",
       " 'id': {'name': 'NINO', 'value': 'OW 22 16 91 P'},\n",
       " 'picture': {'large': 'https://randomuser.me/api/portraits/men/91.jpg',\n",
       "  'medium': 'https://randomuser.me/api/portraits/med/men/91.jpg',\n",
       "  'thumbnail': 'https://randomuser.me/api/portraits/thumb/men/91.jpg'},\n",
       " 'nat': 'GB'}"
      ]
     },
     "execution_count": 26,
     "metadata": {},
     "output_type": "execute_result"
    }
   ],
   "source": [
    "result_first_item"
   ]
  },
  {
   "cell_type": "code",
   "execution_count": 45,
   "id": "ab1487c9-ef84-4e98-bee6-a41754c14138",
   "metadata": {},
   "outputs": [],
   "source": [
    "user_last_name = result_first_item.get(\"name\", {}).get(\"last\", \"Doe\")"
   ]
  },
  {
   "cell_type": "code",
   "execution_count": 46,
   "id": "edcde2ba-3ae5-497c-b41d-92717d78b42d",
   "metadata": {},
   "outputs": [
    {
     "data": {
      "text/plain": [
       "'Chambers'"
      ]
     },
     "execution_count": 46,
     "metadata": {},
     "output_type": "execute_result"
    }
   ],
   "source": [
    "user_last_name"
   ]
  },
  {
   "cell_type": "code",
   "execution_count": 47,
   "id": "7e21b020-a98e-46df-a4bf-6441b8c8e9d2",
   "metadata": {},
   "outputs": [],
   "source": [
    "user_gender = result_first_item.get(\"gender\", \"NA\")"
   ]
  },
  {
   "cell_type": "code",
   "execution_count": 48,
   "id": "9120dd86-ab86-4203-a557-a9cd0bcb4ce8",
   "metadata": {},
   "outputs": [
    {
     "data": {
      "text/plain": [
       "'male'"
      ]
     },
     "execution_count": 48,
     "metadata": {},
     "output_type": "execute_result"
    }
   ],
   "source": [
    "user_gender"
   ]
  },
  {
   "cell_type": "code",
   "execution_count": 49,
   "id": "6eb810a6-0e0c-4eb0-8c01-e8f14cddb29f",
   "metadata": {},
   "outputs": [],
   "source": [
    "postcode = result_first_item.get(\"location\", {}).get(\"postcode\", \"NA\")"
   ]
  },
  {
   "cell_type": "code",
   "execution_count": 50,
   "id": "e24af888-4e70-4fc8-bbe6-1fdb88cf8f49",
   "metadata": {},
   "outputs": [
    {
     "data": {
      "text/plain": [
       "'D9 8SX'"
      ]
     },
     "execution_count": 50,
     "metadata": {},
     "output_type": "execute_result"
    }
   ],
   "source": [
    "postcode"
   ]
  },
  {
   "cell_type": "code",
   "execution_count": 51,
   "id": "da1f6d1f-a99a-4684-ac99-8032c7eb1d75",
   "metadata": {},
   "outputs": [],
   "source": [
    "user_email = result_first_item.get(\"email\", \"NA\")"
   ]
  },
  {
   "cell_type": "code",
   "execution_count": 52,
   "id": "95cc4a60-17ad-4bbe-b769-96fea18c8a3b",
   "metadata": {},
   "outputs": [
    {
     "data": {
      "text/plain": [
       "'willie.chambers@example.com'"
      ]
     },
     "execution_count": 52,
     "metadata": {},
     "output_type": "execute_result"
    }
   ],
   "source": [
    "user_email"
   ]
  },
  {
   "cell_type": "code",
   "execution_count": 53,
   "id": "1239c86f-0631-4d86-8ec7-44510fbbcb5d",
   "metadata": {},
   "outputs": [],
   "source": [
    "user_medium_pic = result_first_item.get(\"picture\", {}).get(\"medium\", \"NA\")"
   ]
  },
  {
   "cell_type": "code",
   "execution_count": 54,
   "id": "e9f601ad-549d-43dc-973f-66585053e887",
   "metadata": {},
   "outputs": [
    {
     "data": {
      "text/plain": [
       "'https://randomuser.me/api/portraits/med/men/91.jpg'"
      ]
     },
     "execution_count": 54,
     "metadata": {},
     "output_type": "execute_result"
    }
   ],
   "source": [
    "user_medium_pic"
   ]
  },
  {
   "cell_type": "code",
   "execution_count": 57,
   "id": "948a2ddb-daca-4a19-aee3-0ed3216ba3c3",
   "metadata": {},
   "outputs": [],
   "source": [
    "result_dict = {\n",
    "    \"last_name\" : user_last_name,\n",
    "    \"gender\" : user_gender,\n",
    "    \"postcode\" : postcode,\n",
    "    \"email\" : user_email,\n",
    "    \"picture\" : user_medium_pic\n",
    "}"
   ]
  },
  {
   "cell_type": "code",
   "execution_count": 58,
   "id": "26440e53-3c77-49a1-b3c9-aadf5ff238d7",
   "metadata": {},
   "outputs": [
    {
     "data": {
      "text/plain": [
       "{'last_name': 'Chambers',\n",
       " 'gender': 'male',\n",
       " 'postcode': 'D9 8SX',\n",
       " 'email': 'willie.chambers@example.com',\n",
       " 'picture': 'https://randomuser.me/api/portraits/med/men/91.jpg'}"
      ]
     },
     "execution_count": 58,
     "metadata": {},
     "output_type": "execute_result"
    }
   ],
   "source": [
    "result_dict"
   ]
  },
  {
   "cell_type": "code",
   "execution_count": null,
   "id": "1d8e0075-a6be-414e-9c7b-cafe2897d1e2",
   "metadata": {},
   "outputs": [],
   "source": []
  },
  {
   "cell_type": "code",
   "execution_count": 67,
   "id": "ae78c3c0-1f6e-4690-a29d-bc8c02d62512",
   "metadata": {},
   "outputs": [],
   "source": [
    "def get_user_details(response_json):\n",
    "\n",
    "    result_first_item = response_json[\"results\"][0]\n",
    "\n",
    "    user_last_name = result_first_item.get(\"name\", {}).get(\"last\", \"Doe\")\n",
    "    user_gender = result_first_item.get(\"gender\", \"NA\")\n",
    "    postcode = result_first_item.get(\"location\", {}).get(\"postcode\", \"NA\")\n",
    "    user_email = result_first_item.get(\"email\", \"NA\")\n",
    "    user_medium_pic = result_first_item.get(\"picture\", {}).get(\"medium\", \"NA\")\n",
    "    \n",
    "    result1_dict = {\n",
    "        \"last_name\" : user_last_name,\n",
    "        \"gender\" : user_gender,\n",
    "        \"postcode\" : postcode,\n",
    "        \"email\" : user_email,\n",
    "        \"picture\" : user_medium_pic\n",
    "    }\n",
    "\n",
    "    return result1_dict"
   ]
  },
  {
   "cell_type": "code",
   "execution_count": 73,
   "id": "480acaba-c5f3-46e8-a593-e1c486518db0",
   "metadata": {},
   "outputs": [
    {
     "data": {
      "text/plain": [
       "{'last_name': 'Kennedy',\n",
       " 'gender': 'female',\n",
       " 'postcode': 83714,\n",
       " 'email': 'louise.kennedy@example.com',\n",
       " 'picture': 'https://randomuser.me/api/portraits/med/women/29.jpg'}"
      ]
     },
     "execution_count": 73,
     "metadata": {},
     "output_type": "execute_result"
    }
   ],
   "source": [
    "res1 = requests.get(\"https://randomuser.me/api/\")\n",
    "# res1.json()\n",
    "get_user_details(res1.json())"
   ]
  },
  {
   "cell_type": "code",
   "execution_count": null,
   "id": "187d7329-f5bc-45b5-833a-f7d3d4ef3840",
   "metadata": {},
   "outputs": [],
   "source": []
  },
  {
   "cell_type": "code",
   "execution_count": null,
   "id": "4df12c50-fded-40a5-8e04-9d4058142e7a",
   "metadata": {},
   "outputs": [],
   "source": []
  }
 ],
 "metadata": {
  "kernelspec": {
   "display_name": "Python 3 (ipykernel)",
   "language": "python",
   "name": "python3"
  },
  "language_info": {
   "codemirror_mode": {
    "name": "ipython",
    "version": 3
   },
   "file_extension": ".py",
   "mimetype": "text/x-python",
   "name": "python",
   "nbconvert_exporter": "python",
   "pygments_lexer": "ipython3",
   "version": "3.11.10"
  }
 },
 "nbformat": 4,
 "nbformat_minor": 5
}

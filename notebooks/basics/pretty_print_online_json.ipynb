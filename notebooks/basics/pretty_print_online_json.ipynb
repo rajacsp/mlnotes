{
 "cells": [
  {
   "cell_type": "raw",
   "metadata": {},
   "source": [
    "---\n",
    "title: \"Pretty Print Online JSON\"\n",
    "author: \"Rj\"\n",
    "date: 2019-04-20\n",
    "description: \"List Test\"\n",
    "type: technical_note\n",
    "draft: false\n",
    "---"
   ]
  },
  {
   "cell_type": "code",
   "execution_count": 1,
   "metadata": {},
   "outputs": [],
   "source": [
    "import pprint\n",
    "import json \n",
    "from urllib.request import urlopen"
   ]
  },
  {
   "cell_type": "code",
   "execution_count": 2,
   "metadata": {},
   "outputs": [],
   "source": [
    "r = urlopen(\"https://mdn.github.io/fetch-examples/fetch-json/products.json\")\n",
    "text = r.read() "
   ]
  },
  {
   "cell_type": "code",
   "execution_count": 3,
   "metadata": {},
   "outputs": [
    {
     "name": "stdout",
     "output_type": "stream",
     "text": [
      "{'products': [{'Location': 'Refrigerated foods',\n",
      "               'Name': 'Cheese',\n",
      "               'Price': 2.5},\n",
      "              {'Location': 'the Snack isle', 'Name': 'Crisps', 'Price': 3},\n",
      "              {'Location': 'Refrigerated foods', 'Name': 'Pizza', 'Price': 4},\n",
      "              {'Location': 'the Snack isle', 'Name': 'Chocolate', 'Price': 1.5},\n",
      "              {'Location': 'Home baking',\n",
      "               'Name': 'Self-raising flour',\n",
      "               'Price': 1.5},\n",
      "              {'Location': 'Home baking',\n",
      "               'Name': 'Ground almonds',\n",
      "               'Price': 3}]}\n"
     ]
    }
   ],
   "source": [
    "pprint.pprint(json.loads(text))"
   ]
  }
 ],
 "metadata": {
  "kernelspec": {
   "display_name": "Python 3",
   "language": "python",
   "name": "python3"
  },
  "language_info": {
   "codemirror_mode": {
    "name": "ipython",
    "version": 3
   },
   "file_extension": ".py",
   "mimetype": "text/x-python",
   "name": "python",
   "nbconvert_exporter": "python",
   "pygments_lexer": "ipython3",
   "version": "3.6.8"
  }
 },
 "nbformat": 4,
 "nbformat_minor": 2
}

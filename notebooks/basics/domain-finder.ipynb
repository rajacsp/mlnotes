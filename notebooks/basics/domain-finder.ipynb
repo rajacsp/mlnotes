{
 "cells": [
  {
   "cell_type": "raw",
   "metadata": {},
   "source": [
    "---\n",
    "title: \"Find Domain\"\n",
    "author: \"Rj\"\n",
    "date: 2019-04-20\n",
    "description: \"List Test\"\n",
    "type: technical_note\n",
    "draft: false\n",
    "---"
   ]
  },
  {
   "cell_type": "code",
   "execution_count": 1,
   "metadata": {},
   "outputs": [],
   "source": [
    "def get_domain(url):\n",
    "    spltAr = url.split(\"://\")\n",
    "    i = (0,1)[len(spltAr)>1]\n",
    "    dm = spltAr[i].split(\"?\")[0].split('/')[0].split(':')[0].lower()\n",
    "    #print(dm)\n",
    "    return dm"
   ]
  },
  {
   "cell_type": "code",
   "execution_count": 2,
   "metadata": {},
   "outputs": [],
   "source": [
    "def get_domain_without_prefix(url):\n",
    "    spltAr = url.split(\"://\")\n",
    "    i = (0,1)[len(spltAr)>1]\n",
    "    dm = spltAr[i].split(\"?\")[0].split('/')[0].split(':')[0].lower()\n",
    "    \n",
    "    if(\"www.\" in dm):\n",
    "        dm = dm.replace(\"www.\", \"\")\n",
    "    \n",
    "    #print(dm)\n",
    "    return dm"
   ]
  },
  {
   "cell_type": "code",
   "execution_count": 3,
   "metadata": {},
   "outputs": [],
   "source": [
    "urls = [\n",
    "    \"http://www.oreilly.com/people/adam-michael-wood\",\n",
    "    \"https://javabeat.net/introduction-to-hibernate-caching/\",\n",
    "]"
   ]
  },
  {
   "cell_type": "code",
   "execution_count": 4,
   "metadata": {},
   "outputs": [
    {
     "name": "stdout",
     "output_type": "stream",
     "text": [
      "oreilly.com\n",
      "javabeat.net\n"
     ]
    }
   ],
   "source": [
    "for url in urls:\n",
    "    domain = get_domain_without_prefix(url)\n",
    "    print(domain)"
   ]
  },
  {
   "cell_type": "code",
   "execution_count": null,
   "metadata": {},
   "outputs": [],
   "source": []
  }
 ],
 "metadata": {
  "kernelspec": {
   "display_name": "Python 3",
   "language": "python",
   "name": "python3"
  },
  "language_info": {
   "codemirror_mode": {
    "name": "ipython",
    "version": 3
   },
   "file_extension": ".py",
   "mimetype": "text/x-python",
   "name": "python",
   "nbconvert_exporter": "python",
   "pygments_lexer": "ipython3",
   "version": "3.6.8"
  }
 },
 "nbformat": 4,
 "nbformat_minor": 2
}

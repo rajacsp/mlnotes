{
 "cells": [
  {
   "cell_type": "code",
   "execution_count": null,
   "id": "ce2ab2c3-81ee-464d-a039-07584c1c9051",
   "metadata": {},
   "outputs": [],
   "source": []
  },
  {
   "cell_type": "code",
   "execution_count": 2,
   "id": "2e207656-ae96-48c9-9309-5f96e3c57728",
   "metadata": {},
   "outputs": [],
   "source": [
    "# Example: Loop through a generator and print its values\n",
    "def sample_generator():\n",
    "    for i in range(5):  # Generates numbers 0 to 4\n",
    "        yield i"
   ]
  },
  {
   "cell_type": "code",
   "execution_count": 3,
   "id": "485e2d4d-e74d-4d3d-ab30-f1b4dc79a596",
   "metadata": {},
   "outputs": [],
   "source": [
    "gen = sample_generator()  # Create the generator"
   ]
  },
  {
   "cell_type": "code",
   "execution_count": 4,
   "id": "2f09de44-ac4d-47af-b917-111a5445b867",
   "metadata": {},
   "outputs": [
    {
     "data": {
      "text/plain": [
       "<generator object sample_generator at 0x7fe180371000>"
      ]
     },
     "execution_count": 4,
     "metadata": {},
     "output_type": "execute_result"
    }
   ],
   "source": [
    "gen"
   ]
  },
  {
   "cell_type": "code",
   "execution_count": 5,
   "id": "51f815a7-a280-4382-a7aa-8a62f1c840fb",
   "metadata": {},
   "outputs": [
    {
     "name": "stdout",
     "output_type": "stream",
     "text": [
      "0\n",
      "1\n",
      "2\n",
      "3\n",
      "4\n"
     ]
    }
   ],
   "source": [
    "for value in gen:  # Loop through the generator\n",
    "    print(value)"
   ]
  },
  {
   "cell_type": "code",
   "execution_count": null,
   "id": "404dd906-3052-4f1a-b602-6e670f9eef0c",
   "metadata": {},
   "outputs": [],
   "source": []
  }
 ],
 "metadata": {
  "kernelspec": {
   "display_name": "Python 3 (ipykernel)",
   "language": "python",
   "name": "python3"
  },
  "language_info": {
   "codemirror_mode": {
    "name": "ipython",
    "version": 3
   },
   "file_extension": ".py",
   "mimetype": "text/x-python",
   "name": "python",
   "nbconvert_exporter": "python",
   "pygments_lexer": "ipython3",
   "version": "3.12.7"
  }
 },
 "nbformat": 4,
 "nbformat_minor": 5
}

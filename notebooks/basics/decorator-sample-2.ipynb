{
 "cells": [
  {
   "cell_type": "raw",
   "metadata": {},
   "source": [
    "---\n",
    "title: \"Decorator Sample 2\"\n",
    "author: \"Rj\"\n",
    "date: 2019-04-20\n",
    "description: \"-\"\n",
    "type: technical_note\n",
    "draft: false\n",
    "---"
   ]
  },
  {
   "cell_type": "code",
   "execution_count": 5,
   "metadata": {},
   "outputs": [],
   "source": [
    "class my_decorator(object):\n",
    "\n",
    "    def __init__(self, f):\n",
    "        print(\"inside my_decorator.__init__()\")\n",
    "        f() # Prove that function definition has completed\n",
    "\n",
    "    def __call__(self):\n",
    "        print(\"inside my_decorator.__call__()\")"
   ]
  },
  {
   "cell_type": "code",
   "execution_count": 6,
   "metadata": {},
   "outputs": [
    {
     "name": "stdout",
     "output_type": "stream",
     "text": [
      "inside my_decorator.__init__()\n",
      "inside aFunction()\n"
     ]
    }
   ],
   "source": [
    "@my_decorator\n",
    "def aFunction():\n",
    "    print(\"inside aFunction()\")"
   ]
  },
  {
   "cell_type": "code",
   "execution_count": 7,
   "metadata": {},
   "outputs": [
    {
     "name": "stdout",
     "output_type": "stream",
     "text": [
      "Finished decorating aFunction()\n"
     ]
    }
   ],
   "source": [
    "print(\"Finished decorating aFunction()\")"
   ]
  },
  {
   "cell_type": "code",
   "execution_count": 8,
   "metadata": {},
   "outputs": [
    {
     "name": "stdout",
     "output_type": "stream",
     "text": [
      "inside my_decorator.__call__()\n"
     ]
    }
   ],
   "source": [
    "aFunction()"
   ]
  },
  {
   "cell_type": "code",
   "execution_count": null,
   "metadata": {},
   "outputs": [],
   "source": []
  }
 ],
 "metadata": {
  "kernelspec": {
   "display_name": "Python 3",
   "language": "python",
   "name": "python3"
  },
  "language_info": {
   "codemirror_mode": {
    "name": "ipython",
    "version": 3
   },
   "file_extension": ".py",
   "mimetype": "text/x-python",
   "name": "python",
   "nbconvert_exporter": "python",
   "pygments_lexer": "ipython3",
   "version": "3.6.8"
  }
 },
 "nbformat": 4,
 "nbformat_minor": 2
}

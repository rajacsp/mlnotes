{
 "cells": [
  {
   "cell_type": "code",
   "execution_count": null,
   "id": "1b8e4cee-40c4-4f8f-81e9-bc64ac916615",
   "metadata": {},
   "outputs": [],
   "source": []
  },
  {
   "cell_type": "markdown",
   "id": "abcb096a-9684-47c5-a8ab-f74bd4c394a0",
   "metadata": {},
   "source": [
    "Create Some Text"
   ]
  },
  {
   "cell_type": "code",
   "execution_count": 2,
   "id": "0ff446d6-eff7-4bde-b143-6af20a3894e1",
   "metadata": {},
   "outputs": [],
   "source": [
    "text = 'Chapter 2'"
   ]
  },
  {
   "cell_type": "markdown",
   "id": "82f33932-7be3-4809-ab9d-167408b195e7",
   "metadata": {},
   "source": [
    "Add Padding Around Text"
   ]
  },
  {
   "cell_type": "code",
   "execution_count": 3,
   "id": "09222b81-ff82-425d-a741-b146d5db8e63",
   "metadata": {},
   "outputs": [
    {
     "data": {
      "text/plain": [
       "'           Chapter 2'"
      ]
     },
     "execution_count": 3,
     "metadata": {},
     "output_type": "execute_result"
    }
   ],
   "source": [
    "# Add Spaces Of Padding To The Left\n",
    "format(text, '>20')"
   ]
  },
  {
   "cell_type": "code",
   "execution_count": 4,
   "id": "f2431d1f-d57a-45cf-9015-13b7ced097a8",
   "metadata": {},
   "outputs": [
    {
     "data": {
      "text/plain": [
       "'Chapter 2           '"
      ]
     },
     "execution_count": 4,
     "metadata": {},
     "output_type": "execute_result"
    }
   ],
   "source": [
    "# Add Spaces Of Padding To The Right\n",
    "format(text, '<20')"
   ]
  },
  {
   "cell_type": "code",
   "execution_count": 5,
   "id": "a476480e-caa1-42c2-83e5-e04521a88267",
   "metadata": {},
   "outputs": [
    {
     "data": {
      "text/plain": [
       "'     Chapter 2      '"
      ]
     },
     "execution_count": 5,
     "metadata": {},
     "output_type": "execute_result"
    }
   ],
   "source": [
    "# Add Spaces Of Padding On Each Side\n",
    "format(text, '^20')"
   ]
  },
  {
   "cell_type": "code",
   "execution_count": 6,
   "id": "cd6a5652-71dc-4e9e-a4c6-58227ba88447",
   "metadata": {},
   "outputs": [
    {
     "data": {
      "text/plain": [
       "'*****Chapter 2******'"
      ]
     },
     "execution_count": 6,
     "metadata": {},
     "output_type": "execute_result"
    }
   ],
   "source": [
    "# Add * Of Padding On Each Side\n",
    "format(text, '*^20')"
   ]
  },
  {
   "cell_type": "code",
   "execution_count": null,
   "id": "9f58c16e-28ce-4195-a919-eb4a9dea29f3",
   "metadata": {},
   "outputs": [],
   "source": []
  }
 ],
 "metadata": {
  "kernelspec": {
   "display_name": "Python 3 (ipykernel)",
   "language": "python",
   "name": "python3"
  },
  "language_info": {
   "codemirror_mode": {
    "name": "ipython",
    "version": 3
   },
   "file_extension": ".py",
   "mimetype": "text/x-python",
   "name": "python",
   "nbconvert_exporter": "python",
   "pygments_lexer": "ipython3",
   "version": "3.10.5"
  }
 },
 "nbformat": 4,
 "nbformat_minor": 5
}

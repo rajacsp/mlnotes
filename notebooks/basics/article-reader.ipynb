{
 "cells": [
  {
   "cell_type": "code",
   "execution_count": null,
   "id": "10a0efac-a4bb-4bb7-9c0a-03027f4aa261",
   "metadata": {},
   "outputs": [],
   "source": []
  },
  {
   "cell_type": "code",
   "execution_count": 1,
   "id": "a84fd005-fa4a-4dab-96c3-dea53b803dbe",
   "metadata": {},
   "outputs": [],
   "source": [
    "import requests\n",
    "from bs4 import BeautifulSoup"
   ]
  },
  {
   "cell_type": "code",
   "execution_count": 2,
   "id": "d12d715f-c448-41f3-bf7d-e61c03d3f80b",
   "metadata": {},
   "outputs": [],
   "source": [
    "# Collect and parse first page\n",
    "page = requests.get('https://www.wired.com/story/intel-great-american-microchip-mobilization/')\n",
    "soup = BeautifulSoup(page.text, 'html.parser')    "
   ]
  },
  {
   "cell_type": "code",
   "execution_count": 4,
   "id": "432d5e84-d346-44ca-9758-52fc42803c50",
   "metadata": {},
   "outputs": [],
   "source": [
    "content = soup.select('article.article-body-component')"
   ]
  },
  {
   "cell_type": "code",
   "execution_count": 5,
   "id": "24aeacb5-adc0-4d27-91e5-2c6278bc0fa6",
   "metadata": {},
   "outputs": [
    {
     "data": {
      "text/plain": [
       "[]"
      ]
     },
     "execution_count": 5,
     "metadata": {},
     "output_type": "execute_result"
    }
   ],
   "source": [
    "content"
   ]
  },
  {
   "cell_type": "code",
   "execution_count": null,
   "id": "b9393b0f-7a25-4d6c-b5e7-bbd17b600e1e",
   "metadata": {},
   "outputs": [],
   "source": []
  }
 ],
 "metadata": {
  "kernelspec": {
   "display_name": "Python 3 (ipykernel)",
   "language": "python",
   "name": "python3"
  },
  "language_info": {
   "codemirror_mode": {
    "name": "ipython",
    "version": 3
   },
   "file_extension": ".py",
   "mimetype": "text/x-python",
   "name": "python",
   "nbconvert_exporter": "python",
   "pygments_lexer": "ipython3",
   "version": "3.10.5"
  }
 },
 "nbformat": 4,
 "nbformat_minor": 5
}

{
 "cells": [
  {
   "cell_type": "code",
   "execution_count": null,
   "id": "01fe9032-1c59-42f0-9bae-2bd698750033",
   "metadata": {},
   "outputs": [],
   "source": []
  },
  {
   "cell_type": "code",
   "execution_count": 2,
   "id": "b10a7880-4529-46b8-be41-fe1d2d4560e9",
   "metadata": {},
   "outputs": [
    {
     "name": "stdout",
     "output_type": "stream",
     "text": [
      "Version: 4.12.3\n"
     ]
    }
   ],
   "source": [
    "!pip show beautifulsoup4 | grep \"Version:\""
   ]
  },
  {
   "cell_type": "code",
   "execution_count": 3,
   "id": "76b3b178-f2c3-407c-b837-559711127607",
   "metadata": {},
   "outputs": [
    {
     "name": "stdout",
     "output_type": "stream",
     "text": [
      "Overall Score not found.\n"
     ]
    }
   ],
   "source": [
    "import requests\n",
    "from bs4 import BeautifulSoup\n",
    "\n",
    "# URL to scrape\n",
    "url = \"https://stevesanjay.github.io/pynotes/archives.html\"\n",
    "\n",
    "# Send a GET request\n",
    "response = requests.get(url)\n",
    "\n",
    "# Parse the HTML content\n",
    "soup = BeautifulSoup(response.text, 'html.parser')\n",
    "\n",
    "# Find the element containing the \"overall-score\"\n",
    "# Modify the tag and class based on the structure of the HTML\n",
    "overall_score_element = soup.find(class_=\"overall-score\")  # Assuming it has this class\n",
    "\n",
    "# Extract and print the score\n",
    "if overall_score_element:\n",
    "    overall_score = overall_score_element.get_text(strip=True)\n",
    "    print(\"Overall Score:\", overall_score)\n",
    "else:\n",
    "    print(\"Overall Score not found.\")"
   ]
  },
  {
   "cell_type": "code",
   "execution_count": null,
   "id": "c1716dab-4780-4f70-b1c4-82e24dd9bb2c",
   "metadata": {},
   "outputs": [],
   "source": []
  },
  {
   "cell_type": "code",
   "execution_count": 6,
   "id": "fe3e6872-ef03-4dab-92c6-8ee0c143c9ac",
   "metadata": {},
   "outputs": [
    {
     "name": "stderr",
     "output_type": "stream",
     "text": [
      "/tmp/ipykernel_4024956/3784387840.py:11: DeprecationWarning: The 'text' argument to find()-type methods is deprecated. Use 'string' instead.\n",
      "  overall_score_element = soup.find('p', text=lambda x: x and \"Overall Score:\" in x)\n"
     ]
    }
   ],
   "source": [
    "# URL of the page\n",
    "url = \"https://stevesanjay.github.io/pynotes/archives.html\"\n",
    "\n",
    "# Fetch the page content\n",
    "response = requests.get(url)\n",
    "\n",
    "# Parse the HTML content\n",
    "soup = BeautifulSoup(response.text, 'html.parser')\n",
    "\n",
    "# Find the <p> tag that contains \"Overall Score:\"\n",
    "overall_score_element = soup.find('p', text=lambda x: x and \"Overall Score:\" in x)"
   ]
  },
  {
   "cell_type": "code",
   "execution_count": 7,
   "id": "86fe2667-9b84-4a08-a92a-ed766d3b5cd5",
   "metadata": {},
   "outputs": [],
   "source": [
    "overall_score_element"
   ]
  },
  {
   "cell_type": "code",
   "execution_count": 11,
   "id": "722f117b-ebe5-45d1-9e36-dc5bf8e7e55d",
   "metadata": {},
   "outputs": [],
   "source": [
    "all_p = soup.find_all('p')"
   ]
  },
  {
   "cell_type": "code",
   "execution_count": 12,
   "id": "edf32582-0301-4c33-939b-06f9f81e054a",
   "metadata": {},
   "outputs": [
    {
     "data": {
      "text/plain": [
       "[<p><strong>Overall Score:</strong> 510</p>]"
      ]
     },
     "execution_count": 12,
     "metadata": {},
     "output_type": "execute_result"
    }
   ],
   "source": [
    "all_p"
   ]
  },
  {
   "cell_type": "code",
   "execution_count": 13,
   "id": "7808899f-0067-4a0b-88ee-1ded6d96a1b3",
   "metadata": {},
   "outputs": [
    {
     "name": "stderr",
     "output_type": "stream",
     "text": [
      "/tmp/ipykernel_4024956/145144256.py:1: DeprecationWarning: The 'text' argument to find()-type methods is deprecated. Use 'string' instead.\n",
      "  overall_score_element = soup.find('p', text=lambda x: x and \"Overall Score:\" in x)\n"
     ]
    }
   ],
   "source": [
    "overall_score_element = soup.find('p', text=lambda x: x and \"Overall Score:\" in x)"
   ]
  },
  {
   "cell_type": "code",
   "execution_count": 14,
   "id": "c9a096d2-8fee-4fab-ba80-e9ddcc2437ac",
   "metadata": {},
   "outputs": [],
   "source": [
    "overall_score_element"
   ]
  },
  {
   "cell_type": "code",
   "execution_count": 15,
   "id": "94a4dba5-0758-4d6d-80ac-380e433c373e",
   "metadata": {},
   "outputs": [
    {
     "name": "stdout",
     "output_type": "stream",
     "text": [
      "Overall Score: 510\n"
     ]
    }
   ],
   "source": [
    "overall_score_element = soup.find('p')  # Locate the <p> tag\n",
    "if overall_score_element:\n",
    "    strong_tag = overall_score_element.find('strong')  # Locate the <strong> tag inside <p>\n",
    "    if strong_tag and \"Overall Score:\" in strong_tag.text:\n",
    "        overall_score = overall_score_element.get_text(strip=True).replace(\"Overall Score:\", \"\").strip()\n",
    "        print(\"Overall Score:\", overall_score)\n",
    "    else:\n",
    "        print(\"Strong tag with 'Overall Score' not found.\")\n",
    "else:\n",
    "    print(\"Overall Score not found.\")"
   ]
  },
  {
   "cell_type": "code",
   "execution_count": null,
   "id": "65c42146-58c0-497f-b469-63e7aa4a1860",
   "metadata": {},
   "outputs": [],
   "source": []
  },
  {
   "cell_type": "code",
   "execution_count": 18,
   "id": "c5312057-07c6-4290-a31a-d57815e3f899",
   "metadata": {},
   "outputs": [],
   "source": [
    "def get_score(url):\n",
    "\n",
    "    # Fetch the page content\n",
    "    response = requests.get(url)\n",
    "    \n",
    "    # Parse the HTML content\n",
    "    soup = BeautifulSoup(response.text, 'html.parser')\n",
    "\n",
    "    overall_score_element = soup.find('p')  # Locate the <p> tag\n",
    "    if overall_score_element:\n",
    "        strong_tag = overall_score_element.find('strong')  # Locate the <strong> tag inside <p>\n",
    "        if strong_tag and \"Overall Score:\" in strong_tag.text:\n",
    "            overall_score = overall_score_element.get_text(strip=True).replace(\"Overall Score:\", \"\").strip()\n",
    "            return int(overall_score)\n",
    "        return -1\n",
    "\n",
    "    return -1    "
   ]
  },
  {
   "cell_type": "code",
   "execution_count": 19,
   "id": "f7b8ff48-4ff5-4084-a868-668c98684d94",
   "metadata": {},
   "outputs": [
    {
     "data": {
      "text/plain": [
       "510"
      ]
     },
     "execution_count": 19,
     "metadata": {},
     "output_type": "execute_result"
    }
   ],
   "source": [
    "get_score(\"https://stevesanjay.github.io/pynotes/archives.html\")"
   ]
  },
  {
   "cell_type": "code",
   "execution_count": null,
   "id": "65c0e624-0ef5-4382-8e18-32548ef0514c",
   "metadata": {},
   "outputs": [],
   "source": []
  }
 ],
 "metadata": {
  "kernelspec": {
   "display_name": "Python 3 (ipykernel)",
   "language": "python",
   "name": "python3"
  },
  "language_info": {
   "codemirror_mode": {
    "name": "ipython",
    "version": 3
   },
   "file_extension": ".py",
   "mimetype": "text/x-python",
   "name": "python",
   "nbconvert_exporter": "python",
   "pygments_lexer": "ipython3",
   "version": "3.12.4"
  }
 },
 "nbformat": 4,
 "nbformat_minor": 5
}

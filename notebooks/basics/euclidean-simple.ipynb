{
 "cells": [
  {
   "cell_type": "raw",
   "metadata": {},
   "source": [
    "---\n",
    "title: \"Euclidean Simple\"\n",
    "author: \"Rj\"\n",
    "date: 2019-04-20\n",
    "description: \"-\"\n",
    "type: technical_note\n",
    "draft: false\n",
    "---"
   ]
  },
  {
   "cell_type": "code",
   "execution_count": 4,
   "metadata": {},
   "outputs": [],
   "source": [
    "import math\n",
    "import numpy\n",
    "from random import uniform"
   ]
  },
  {
   "cell_type": "code",
   "execution_count": 5,
   "metadata": {},
   "outputs": [],
   "source": [
    "def fastest_calc_dist(p1,p2):\n",
    "    return math.sqrt((p2[0] - p1[0]) ** 2 +\n",
    "                     (p2[1] - p1[1]) ** 2 +\n",
    "                     (p2[2] - p1[2]) ** 2)    \n",
    "\n",
    "def math_calc_dist(p1,p2):\n",
    "    return math.sqrt(math.pow((p2[0] - p1[0]), 2) +\n",
    "                     math.pow((p2[1] - p1[1]), 2) +\n",
    "                     math.pow((p2[2] - p1[2]), 2))\n",
    "\n",
    "def numpy_calc_dist(p1,p2):\n",
    "    return numpy.linalg.norm(numpy.array(p1)-numpy.array(p2))"
   ]
  },
  {
   "cell_type": "code",
   "execution_count": 6,
   "metadata": {},
   "outputs": [
    {
     "name": "stdout",
     "output_type": "stream",
     "text": [
      "656157444.0241755\n"
     ]
    }
   ],
   "source": [
    "TOTAL_LOCATIONS = 1000\n",
    "\n",
    "p1 = dict()\n",
    "p2 = dict()\n",
    "for i in range(0, TOTAL_LOCATIONS):\n",
    "    p1[i] = (uniform(0,1000),uniform(0,1000),uniform(0,1000))\n",
    "    p2[i] = (uniform(0,1000),uniform(0,1000),uniform(0,1000)) \n",
    "\n",
    "total_dist = 0\n",
    "for i in range(0, TOTAL_LOCATIONS):\n",
    "    for j in range(0, TOTAL_LOCATIONS):\n",
    "        dist = fastest_calc_dist(p1[i], p2[j]) #change this line for testing\n",
    "        total_dist += dist\n",
    "\n",
    "print(total_dist)"
   ]
  }
 ],
 "metadata": {
  "kernelspec": {
   "display_name": "Python 3",
   "language": "python",
   "name": "python3"
  },
  "language_info": {
   "codemirror_mode": {
    "name": "ipython",
    "version": 3
   },
   "file_extension": ".py",
   "mimetype": "text/x-python",
   "name": "python",
   "nbconvert_exporter": "python",
   "pygments_lexer": "ipython3",
   "version": "3.6.8"
  }
 },
 "nbformat": 4,
 "nbformat_minor": 2
}

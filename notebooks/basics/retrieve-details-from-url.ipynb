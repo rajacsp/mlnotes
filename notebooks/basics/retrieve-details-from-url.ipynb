{
 "cells": [
  {
   "cell_type": "raw",
   "id": "8485e9ca-db5d-4b6c-804e-8ce3c14fbac7",
   "metadata": {},
   "source": []
  },
  {
   "cell_type": "code",
   "execution_count": 1,
   "id": "0d09e64e-0812-4ed0-b034-3204dc3d627a",
   "metadata": {},
   "outputs": [],
   "source": [
    "ollama_host = \"http://localhost:8080\""
   ]
  },
  {
   "cell_type": "code",
   "execution_count": null,
   "id": "b20dfe0e-f646-4a0d-a58f-8434b300e22e",
   "metadata": {},
   "outputs": [],
   "source": []
  }
 ],
 "metadata": {
  "kernelspec": {
   "display_name": "Python 3 (ipykernel)",
   "language": "python",
   "name": "python3"
  },
  "language_info": {
   "codemirror_mode": {
    "name": "ipython",
    "version": 3
   },
   "file_extension": ".py",
   "mimetype": "text/x-python",
   "name": "python",
   "nbconvert_exporter": "python",
   "pygments_lexer": "ipython3",
   "version": "3.12.4"
  }
 },
 "nbformat": 4,
 "nbformat_minor": 5
}

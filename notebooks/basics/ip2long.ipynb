{
 "cells": [
  {
   "cell_type": "raw",
   "metadata": {},
   "source": [
    "---\n",
    "title: \"IP To Long\"\n",
    "author: \"Rj\"\n",
    "date: 2019-04-20\n",
    "description: \"List Test\"\n",
    "type: technical_note\n",
    "draft: false\n",
    "---"
   ]
  },
  {
   "cell_type": "code",
   "execution_count": 12,
   "metadata": {},
   "outputs": [],
   "source": [
    "import math"
   ]
  },
  {
   "cell_type": "code",
   "execution_count": 13,
   "metadata": {},
   "outputs": [],
   "source": [
    "class AuthException(Exception):\n",
    "    pass"
   ]
  },
  {
   "cell_type": "code",
   "execution_count": 14,
   "metadata": {},
   "outputs": [],
   "source": [
    "def ip_to_long(ip_address):\n",
    "    '''\n",
    "        \n",
    "    '''\n",
    "    \n",
    "    if(ip_address == '0:0:0:0:0:0:0:1'):\n",
    "        ip_address = '127.0.0.1'\n",
    "        \n",
    "    ip_address_array = ip_address.split('.')\n",
    "    \n",
    "    if(len(ip_address_array) != 4):    \n",
    "        raise AuthException('Invalid Ip')\n",
    "    \n",
    "    #print(ip_address_array[1])\n",
    "    \n",
    "    num = 0\n",
    "    for i in range(len(ip_address_array)):\n",
    "        #print(ip_address_array[i])\n",
    "        power = 3 - i\n",
    "        num = num + ( (int(ip_address_array[i]) % 256 * int(math.pow(256, power)) ))\n",
    "    \n",
    "    return num"
   ]
  },
  {
   "cell_type": "code",
   "execution_count": 15,
   "metadata": {},
   "outputs": [
    {
     "name": "stdout",
     "output_type": "stream",
     "text": [
      "167989538\n"
     ]
    }
   ],
   "source": [
    "ip_long = ip_to_long('10.3.81.34')        \n",
    "print(ip_long)"
   ]
  },
  {
   "cell_type": "code",
   "execution_count": 22,
   "metadata": {},
   "outputs": [],
   "source": [
    "def long_to_ip(ip):\n",
    "    \n",
    "    ip_address = ((ip >> 24) & 0xFF) + \".\" + ((ip >> 16) & 0xFF) + \".\" + ((ip >> 8) & 0xFF) + \".\" + (ip & 0xFF)\n",
    "    \n",
    "    return ip_address"
   ]
  },
  {
   "cell_type": "code",
   "execution_count": 23,
   "metadata": {},
   "outputs": [],
   "source": [
    "#ip_ = long_to_ip(int(167989538))\n",
    "        \n",
    "#print(ip_)"
   ]
  },
  {
   "cell_type": "code",
   "execution_count": null,
   "metadata": {},
   "outputs": [],
   "source": []
  }
 ],
 "metadata": {
  "kernelspec": {
   "display_name": "Python 3",
   "language": "python",
   "name": "python3"
  },
  "language_info": {
   "codemirror_mode": {
    "name": "ipython",
    "version": 3
   },
   "file_extension": ".py",
   "mimetype": "text/x-python",
   "name": "python",
   "nbconvert_exporter": "python",
   "pygments_lexer": "ipython3",
   "version": "3.6.8"
  }
 },
 "nbformat": 4,
 "nbformat_minor": 2
}

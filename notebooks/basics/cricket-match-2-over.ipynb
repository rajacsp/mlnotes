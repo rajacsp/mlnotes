{
 "cells": [
  {
   "cell_type": "raw",
   "metadata": {},
   "source": [
    "---\n",
    "title: \"Cricket Match 2 Overs\"\n",
    "author: \"Rj\"\n",
    "date: 2019-05-20\n",
    "description: \"-\"\n",
    "type: technical_note\n",
    "draft: false\n",
    "---"
   ]
  },
  {
   "cell_type": "code",
   "execution_count": 102,
   "metadata": {},
   "outputs": [],
   "source": [
    "import time\n",
    "import random as rd"
   ]
  },
  {
   "cell_type": "code",
   "execution_count": 103,
   "metadata": {},
   "outputs": [],
   "source": [
    "team_1_score = 0\n",
    "team_2_score = 0"
   ]
  },
  {
   "cell_type": "code",
   "execution_count": 104,
   "metadata": {},
   "outputs": [],
   "source": [
    "def play_over(over, t_score):\n",
    "    \n",
    "    print('Over ', over)\n",
    "    \n",
    "    for x in range(6):\n",
    "        \n",
    "        score = rd.randint(0, 6)\n",
    "        t_score += score\n",
    "        print('Ball ', (x+1), score)\n",
    "        \n",
    "        time.sleep(0.5)\n",
    "        \n",
    "    print('')\n",
    "    return t_score"
   ]
  },
  {
   "cell_type": "code",
   "execution_count": 105,
   "metadata": {},
   "outputs": [
    {
     "name": "stdout",
     "output_type": "stream",
     "text": [
      "Over  1\n",
      "Ball  1 4\n",
      "Ball  2 2\n",
      "Ball  3 1\n",
      "Ball  4 6\n",
      "Ball  5 4\n",
      "Ball  6 3\n",
      "\n",
      "Over  2\n",
      "Ball  1 2\n",
      "Ball  2 0\n",
      "Ball  3 1\n",
      "Ball  4 3\n",
      "Ball  5 6\n",
      "Ball  6 2\n",
      "\n"
     ]
    }
   ],
   "source": [
    "# Team 1 Batting\n",
    "\n",
    "team_1_score = play_over(1, team_1_score)\n",
    "team_1_score = play_over(2, team_1_score)"
   ]
  },
  {
   "cell_type": "code",
   "execution_count": 106,
   "metadata": {},
   "outputs": [
    {
     "data": {
      "text/plain": [
       "34"
      ]
     },
     "execution_count": 106,
     "metadata": {},
     "output_type": "execute_result"
    }
   ],
   "source": [
    "team_1_score"
   ]
  },
  {
   "cell_type": "code",
   "execution_count": 107,
   "metadata": {},
   "outputs": [
    {
     "name": "stdout",
     "output_type": "stream",
     "text": [
      "Over  1\n",
      "Ball  1 0\n",
      "Ball  2 6\n",
      "Ball  3 4\n",
      "Ball  4 5\n",
      "Ball  5 2\n",
      "Ball  6 3\n",
      "\n",
      "Over  2\n",
      "Ball  1 6\n",
      "Ball  2 1\n",
      "Ball  3 4\n",
      "Ball  4 2\n",
      "Ball  5 6\n",
      "Ball  6 0\n",
      "\n"
     ]
    }
   ],
   "source": [
    "# Team 2 Batting\n",
    "\n",
    "team_2_score = play_over(1, team_2_score)\n",
    "team_2_score = play_over(2, team_2_score)"
   ]
  },
  {
   "cell_type": "code",
   "execution_count": 108,
   "metadata": {},
   "outputs": [
    {
     "name": "stdout",
     "output_type": "stream",
     "text": [
      "Team 1 Score :  34\n",
      "Team 2 Score :  39\n"
     ]
    }
   ],
   "source": [
    "print('Team 1 Score : ', team_1_score)\n",
    "print('Team 2 Score : ', team_2_score)"
   ]
  },
  {
   "cell_type": "code",
   "execution_count": 109,
   "metadata": {},
   "outputs": [
    {
     "name": "stdout",
     "output_type": "stream",
     "text": [
      "Team 2 won\n"
     ]
    }
   ],
   "source": [
    "if(team_1_score > team_2_score):\n",
    "    print('Team 1 won')\n",
    "elif (team_1_score < team_2_score):\n",
    "    print('Team 2 won')\n",
    "else:\n",
    "    print('Draw')"
   ]
  }
 ],
 "metadata": {
  "kernelspec": {
   "display_name": "Python 3",
   "language": "python",
   "name": "python3"
  },
  "language_info": {
   "codemirror_mode": {
    "name": "ipython",
    "version": 3
   },
   "file_extension": ".py",
   "mimetype": "text/x-python",
   "name": "python",
   "nbconvert_exporter": "python",
   "pygments_lexer": "ipython3",
   "version": "3.6.8"
  }
 },
 "nbformat": 4,
 "nbformat_minor": 2
}

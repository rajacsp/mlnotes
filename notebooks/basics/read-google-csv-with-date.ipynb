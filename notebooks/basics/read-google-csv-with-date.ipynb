{
 "cells": [
  {
   "cell_type": "raw",
   "metadata": {},
   "source": [
    "---\n",
    "title: \"Read Google CSV with Date\"\n",
    "author: \"Raja CSP Raman\"\n",
    "date: 2019-04-20\n",
    "description: \"-\"\n",
    "type: technical_note\n",
    "draft: false\n",
    "---"
   ]
  },
  {
   "cell_type": "code",
   "execution_count": 5,
   "metadata": {},
   "outputs": [],
   "source": [
    "from io import BytesIO\n",
    "import requests\n",
    "import pandas as pd"
   ]
  },
  {
   "cell_type": "code",
   "execution_count": 6,
   "metadata": {},
   "outputs": [],
   "source": [
    "filename = 'https://docs.google.com/spreadsheet/ccc?key=0Ak1ecr7i0wotdGJmTURJRnZLYlV3M2daNTRubTdwTXc&output=csv'\n",
    "\n",
    "r = requests.get(filename)\n",
    "data = r.content"
   ]
  },
  {
   "cell_type": "code",
   "execution_count": 7,
   "metadata": {},
   "outputs": [],
   "source": [
    "df = pd.read_csv(BytesIO(data), index_col=0,parse_dates=['Quradate'])"
   ]
  },
  {
   "cell_type": "code",
   "execution_count": 8,
   "metadata": {},
   "outputs": [
    {
     "data": {
      "text/html": [
       "<div>\n",
       "<style scoped>\n",
       "    .dataframe tbody tr th:only-of-type {\n",
       "        vertical-align: middle;\n",
       "    }\n",
       "\n",
       "    .dataframe tbody tr th {\n",
       "        vertical-align: top;\n",
       "    }\n",
       "\n",
       "    .dataframe thead th {\n",
       "        text-align: right;\n",
       "    }\n",
       "</style>\n",
       "<table border=\"1\" class=\"dataframe\">\n",
       "  <thead>\n",
       "    <tr style=\"text-align: right;\">\n",
       "      <th></th>\n",
       "      <th>City</th>\n",
       "      <th>region</th>\n",
       "      <th>Res_Comm</th>\n",
       "      <th>mkt_type</th>\n",
       "      <th>Quradate</th>\n",
       "      <th>National_exp</th>\n",
       "      <th>Alabama_exp</th>\n",
       "      <th>Sales_exp</th>\n",
       "      <th>Inventory_exp</th>\n",
       "      <th>Price_exp</th>\n",
       "      <th>Credit_exp</th>\n",
       "    </tr>\n",
       "  </thead>\n",
       "  <tbody>\n",
       "    <tr>\n",
       "      <th>0</th>\n",
       "      <td>Dothan</td>\n",
       "      <td>South_Central-Montgomery-Auburn-Wiregrass-Dothan</td>\n",
       "      <td>Residential</td>\n",
       "      <td>Rural</td>\n",
       "      <td>2010-01-15</td>\n",
       "      <td>2</td>\n",
       "      <td>2</td>\n",
       "      <td>3</td>\n",
       "      <td>2</td>\n",
       "      <td>3</td>\n",
       "      <td>3</td>\n",
       "    </tr>\n",
       "    <tr>\n",
       "      <th>10</th>\n",
       "      <td>Foley</td>\n",
       "      <td>South_Mobile-Baldwin</td>\n",
       "      <td>Residential</td>\n",
       "      <td>Suburban_Urban</td>\n",
       "      <td>2010-01-15</td>\n",
       "      <td>4</td>\n",
       "      <td>4</td>\n",
       "      <td>4</td>\n",
       "      <td>4</td>\n",
       "      <td>4</td>\n",
       "      <td>3</td>\n",
       "    </tr>\n",
       "    <tr>\n",
       "      <th>12</th>\n",
       "      <td>Birmingham</td>\n",
       "      <td>North_Central-Birmingham-Tuscaloosa-Anniston</td>\n",
       "      <td>Commercial</td>\n",
       "      <td>Suburban_Urban</td>\n",
       "      <td>2010-01-15</td>\n",
       "      <td>2</td>\n",
       "      <td>2</td>\n",
       "      <td>3</td>\n",
       "      <td>2</td>\n",
       "      <td>2</td>\n",
       "      <td>3</td>\n",
       "    </tr>\n",
       "    <tr>\n",
       "      <th>38</th>\n",
       "      <td>Brent</td>\n",
       "      <td>North_Central-Birmingham-Tuscaloosa-Anniston</td>\n",
       "      <td>Residential</td>\n",
       "      <td>Rural</td>\n",
       "      <td>2010-01-15</td>\n",
       "      <td>3</td>\n",
       "      <td>3</td>\n",
       "      <td>3</td>\n",
       "      <td>3</td>\n",
       "      <td>3</td>\n",
       "      <td>2</td>\n",
       "    </tr>\n",
       "    <tr>\n",
       "      <th>44</th>\n",
       "      <td>Athens</td>\n",
       "      <td>North_Huntsville-Decatur-Florence</td>\n",
       "      <td>Residential</td>\n",
       "      <td>Suburban_Urban</td>\n",
       "      <td>2010-01-15</td>\n",
       "      <td>4</td>\n",
       "      <td>5</td>\n",
       "      <td>4</td>\n",
       "      <td>4</td>\n",
       "      <td>4</td>\n",
       "      <td>4</td>\n",
       "    </tr>\n",
       "  </tbody>\n",
       "</table>\n",
       "</div>"
      ],
      "text/plain": [
       "          City                                            region     Res_Comm  \\\n",
       "0       Dothan  South_Central-Montgomery-Auburn-Wiregrass-Dothan  Residential   \n",
       "10       Foley                              South_Mobile-Baldwin  Residential   \n",
       "12  Birmingham      North_Central-Birmingham-Tuscaloosa-Anniston   Commercial   \n",
       "38       Brent      North_Central-Birmingham-Tuscaloosa-Anniston  Residential   \n",
       "44      Athens                 North_Huntsville-Decatur-Florence  Residential   \n",
       "\n",
       "          mkt_type   Quradate  National_exp  Alabama_exp  Sales_exp  \\\n",
       "0            Rural 2010-01-15             2            2          3   \n",
       "10  Suburban_Urban 2010-01-15             4            4          4   \n",
       "12  Suburban_Urban 2010-01-15             2            2          3   \n",
       "38           Rural 2010-01-15             3            3          3   \n",
       "44  Suburban_Urban 2010-01-15             4            5          4   \n",
       "\n",
       "    Inventory_exp  Price_exp  Credit_exp  \n",
       "0               2          3           3  \n",
       "10              4          4           3  \n",
       "12              2          2           3  \n",
       "38              3          3           2  \n",
       "44              4          4           4  "
      ]
     },
     "execution_count": 8,
     "metadata": {},
     "output_type": "execute_result"
    }
   ],
   "source": [
    "df.head()"
   ]
  },
  {
   "cell_type": "code",
   "execution_count": 9,
   "metadata": {},
   "outputs": [],
   "source": [
    "# source : https://stackoverflow.com/questions/19611729/getting-google-spreadsheet-csv-into-a-pandas-dataframe"
   ]
  },
  {
   "cell_type": "code",
   "execution_count": null,
   "metadata": {},
   "outputs": [],
   "source": []
  }
 ],
 "metadata": {
  "kernelspec": {
   "display_name": "Python 3",
   "language": "python",
   "name": "python3"
  },
  "language_info": {
   "codemirror_mode": {
    "name": "ipython",
    "version": 3
   },
   "file_extension": ".py",
   "mimetype": "text/x-python",
   "name": "python",
   "nbconvert_exporter": "python",
   "pygments_lexer": "ipython3",
   "version": "3.6.8"
  }
 },
 "nbformat": 4,
 "nbformat_minor": 2
}

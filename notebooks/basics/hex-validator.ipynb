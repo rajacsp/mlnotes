{
 "cells": [
  {
   "cell_type": "code",
   "execution_count": null,
   "id": "8619eaaa-0544-4746-8645-957acc24262c",
   "metadata": {},
   "outputs": [],
   "source": []
  },
  {
   "cell_type": "code",
   "execution_count": 1,
   "id": "793adb5b-8821-4668-a6d6-4b81281366b7",
   "metadata": {},
   "outputs": [
    {
     "name": "stdout",
     "output_type": "stream",
     "text": [
      "True\n",
      "True\n",
      "False\n"
     ]
    }
   ],
   "source": [
    "import re\n",
    "\n",
    "def is_valid_hex_color(color):\n",
    "    pattern = r'^#(?:[0-9a-fA-F]{3}|[0-9a-fA-F]{6})$'\n",
    "    return bool(re.match(pattern, color))\n",
    "\n",
    "# Examples\n",
    "print(is_valid_hex_color(\"#FFF\"))  # True\n",
    "print(is_valid_hex_color(\"#123ABC\"))  # True\n",
    "print(is_valid_hex_color(\"#123ABCG\"))  # False"
   ]
  },
  {
   "cell_type": "code",
   "execution_count": 2,
   "id": "403eeef3-69ac-4d5c-86b9-f666dfe1d5d8",
   "metadata": {},
   "outputs": [
    {
     "name": "stdout",
     "output_type": "stream",
     "text": [
      "Version: 24.11.1\n"
     ]
    }
   ],
   "source": [
    "!pip show webcolors | grep \"Version:\""
   ]
  },
  {
   "cell_type": "code",
   "execution_count": null,
   "id": "7d5025e0-d7ad-4a7a-854b-ea6a8dc81eff",
   "metadata": {},
   "outputs": [],
   "source": []
  },
  {
   "cell_type": "code",
   "execution_count": 4,
   "id": "16fde18f-d4a1-4dc6-95d8-cd7e69d9631e",
   "metadata": {},
   "outputs": [
    {
     "name": "stdout",
     "output_type": "stream",
     "text": [
      "True\n",
      "True\n",
      "False\n"
     ]
    }
   ],
   "source": [
    "import webcolors\n",
    "\n",
    "def is_valid_hex_color(color):\n",
    "    try:\n",
    "        webcolors.hex_to_rgb(color)\n",
    "        return True\n",
    "    except ValueError:\n",
    "        return False\n",
    "\n",
    "# Examples\n",
    "print(is_valid_hex_color(\"#FFF\"))  # True\n",
    "print(is_valid_hex_color(\"#123ABC\"))  # True\n",
    "print(is_valid_hex_color(\"#123ABCG\"))  # False"
   ]
  },
  {
   "cell_type": "code",
   "execution_count": null,
   "id": "30176c3f-1f6d-4596-b0d4-abed9f46befa",
   "metadata": {},
   "outputs": [],
   "source": []
  },
  {
   "cell_type": "code",
   "execution_count": 5,
   "id": "016975fc-7098-477e-81d1-4a7454f2eb16",
   "metadata": {},
   "outputs": [
    {
     "name": "stdout",
     "output_type": "stream",
     "text": [
      "True\n",
      "True\n",
      "False\n"
     ]
    }
   ],
   "source": [
    "def is_valid_hex_color(color):\n",
    "    if not color.startswith(\"#\"):\n",
    "        return False\n",
    "    if len(color) not in {4, 7}:\n",
    "        return False\n",
    "    try:\n",
    "        int(color[1:], 16)\n",
    "        return True\n",
    "    except ValueError:\n",
    "        return False\n",
    "\n",
    "# Examples\n",
    "print(is_valid_hex_color(\"#FFF\"))  # True\n",
    "print(is_valid_hex_color(\"#123ABC\"))  # True\n",
    "print(is_valid_hex_color(\"#123ABCG\"))  # False"
   ]
  },
  {
   "cell_type": "code",
   "execution_count": null,
   "id": "1f71bee0-bcad-4484-ab70-ed9d9102fd76",
   "metadata": {},
   "outputs": [],
   "source": []
  }
 ],
 "metadata": {
  "kernelspec": {
   "display_name": "Python 3 (ipykernel)",
   "language": "python",
   "name": "python3"
  },
  "language_info": {
   "codemirror_mode": {
    "name": "ipython",
    "version": 3
   },
   "file_extension": ".py",
   "mimetype": "text/x-python",
   "name": "python",
   "nbconvert_exporter": "python",
   "pygments_lexer": "ipython3",
   "version": "3.12.7"
  }
 },
 "nbformat": 4,
 "nbformat_minor": 5
}

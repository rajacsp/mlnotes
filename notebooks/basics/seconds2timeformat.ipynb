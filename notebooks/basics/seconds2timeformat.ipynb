{
 "cells": [
  {
   "cell_type": "code",
   "execution_count": null,
   "id": "db25c914-1252-4bae-8dbe-3a20e361bd73",
   "metadata": {},
   "outputs": [],
   "source": []
  },
  {
   "cell_type": "code",
   "execution_count": 1,
   "id": "0c10588e-e9e7-4b8c-b92b-91104a273df0",
   "metadata": {},
   "outputs": [
    {
     "data": {
      "text/plain": [
       "'conda env: ml311; pyv: 3.11.10 (main, Oct  3 2024, 07:29:13) [GCC 11.2.0]'"
      ]
     },
     "execution_count": 1,
     "metadata": {},
     "output_type": "execute_result"
    }
   ],
   "source": [
    "import pyutil as pyu\n",
    "pyu.get_local_pyinfo()"
   ]
  },
  {
   "cell_type": "code",
   "execution_count": 2,
   "id": "c2ccb592-b983-4856-a241-5898cab06699",
   "metadata": {},
   "outputs": [
    {
     "name": "stdout",
     "output_type": "stream",
     "text": [
      "haystack-ai==2.8.0\n",
      "ollama-haystack is not installed in the current environment.\n",
      "python-dotenv==0.21.0\n",
      "\n"
     ]
    }
   ],
   "source": [
    "print(pyu.ps2(\"haystack-ai ollama-haystack python-dotenv\"))"
   ]
  },
  {
   "cell_type": "code",
   "execution_count": null,
   "id": "e290a4be-0793-4902-b10b-44429cb937f9",
   "metadata": {},
   "outputs": [],
   "source": []
  },
  {
   "cell_type": "code",
   "execution_count": 3,
   "id": "fd06a598-d52f-4cf9-b7eb-6aa04185fcaf",
   "metadata": {},
   "outputs": [],
   "source": [
    "def format_time(seconds):\n",
    "    hours = seconds // 3600\n",
    "    minutes = (seconds % 3600) // 60\n",
    "    remaining_seconds = seconds % 60\n",
    "\n",
    "    result = []\n",
    "    if hours > 0:\n",
    "        result.append(f\"{hours} hour{'s' if hours > 1 else ''}\")\n",
    "    if minutes > 0:\n",
    "        result.append(f\"{minutes} minute{'s' if minutes > 1 else ''}\")\n",
    "    if remaining_seconds > 0 or not result:  # Always include seconds\n",
    "        result.append(f\"{remaining_seconds} second{'s' if remaining_seconds > 1 else ''}\")\n",
    "\n",
    "    return \" \".join(result)"
   ]
  },
  {
   "cell_type": "code",
   "execution_count": 4,
   "id": "470e0fff-f26a-4d3f-9a74-a85c8e7d1b24",
   "metadata": {},
   "outputs": [
    {
     "name": "stdout",
     "output_type": "stream",
     "text": [
      "62 hours 21 minutes 32 seconds\n",
      "1 hour 2 minutes 40 seconds\n",
      "58 minutes 45 seconds\n",
      "1 minute 18 seconds\n"
     ]
    }
   ],
   "source": [
    "print(format_time(224492))  # 62 hours 21 minutes 32 seconds\n",
    "print(format_time(3760))    # 1 hour 2 minutes 40 seconds\n",
    "print(format_time(3525))    # 58 minutes 45 seconds\n",
    "print(format_time(78))      # 1 minute 18 seconds"
   ]
  },
  {
   "cell_type": "code",
   "execution_count": null,
   "id": "d15a2926-fc41-4d0b-97b8-d0f68892cb4e",
   "metadata": {},
   "outputs": [],
   "source": []
  }
 ],
 "metadata": {
  "kernelspec": {
   "display_name": "Python 3 (ipykernel)",
   "language": "python",
   "name": "python3"
  },
  "language_info": {
   "codemirror_mode": {
    "name": "ipython",
    "version": 3
   },
   "file_extension": ".py",
   "mimetype": "text/x-python",
   "name": "python",
   "nbconvert_exporter": "python",
   "pygments_lexer": "ipython3",
   "version": "3.11.10"
  }
 },
 "nbformat": 4,
 "nbformat_minor": 5
}

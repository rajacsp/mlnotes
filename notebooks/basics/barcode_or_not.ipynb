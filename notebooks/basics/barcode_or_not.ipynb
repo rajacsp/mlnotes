{
 "cells": [
  {
   "cell_type": "raw",
   "metadata": {},
   "source": [
    "---\n",
    "title: \"Barcode Or Not\"\n",
    "author: \"Rj\"\n",
    "date: 2019-04-20\n",
    "description: \"-\"\n",
    "type: technical_note\n",
    "draft: false\n",
    "---"
   ]
  },
  {
   "cell_type": "code",
   "execution_count": 5,
   "metadata": {},
   "outputs": [],
   "source": [
    "from PIL import Image\n",
    "from colormap import rgb2hex\n",
    "from os import listdir\n",
    "from os.path import isfile, join, isdir\n",
    "import os.path as path"
   ]
  },
  {
   "cell_type": "code",
   "execution_count": 10,
   "metadata": {},
   "outputs": [],
   "source": [
    "NON_BARCODE_PAR = 500\n",
    "\n",
    "def is_barcode_image(filename):\n",
    "    \n",
    "    im = Image.open(filename, 'r')\n",
    "    #width, height = im.size\n",
    "    pixel_values = list(im.getdata())\n",
    "\n",
    "    #print(pixel_values)\n",
    "\n",
    "    color_set = set()\n",
    "\n",
    "    for p in pixel_values:\n",
    "        #print(p)\n",
    "        #print(type(p))\n",
    "\n",
    "        if(isinstance(p, int)):\n",
    "            continue\n",
    "\n",
    "        #return\n",
    "        if(len(p) > 2):\n",
    "            h = rgb2hex(p[0], p[1], p[2])\n",
    "\n",
    "            #print(p, h)\n",
    "            color_set.add(h)\n",
    "\n",
    "    #print(color_set)\n",
    "\n",
    "    colors_length = len(color_set)\n",
    "\n",
    "    print('colors count : ', colors_length)\n",
    "\n",
    "    if(colors_length > NON_BARCODE_PAR):\n",
    "        return 0\n",
    "\n",
    "    return 1"
   ]
  },
  {
   "cell_type": "code",
   "execution_count": 18,
   "metadata": {},
   "outputs": [],
   "source": [
    "def test_single_image(filename):\n",
    "\n",
    "    b_result = is_barcode_image(filename)\n",
    "\n",
    "    if(b_result == 0):\n",
    "        print('Not a barcode image')\n",
    "    else:\n",
    "        print('Barcode image')"
   ]
  },
  {
   "cell_type": "code",
   "execution_count": 21,
   "metadata": {},
   "outputs": [
    {
     "name": "stdout",
     "output_type": "stream",
     "text": [
      "colors count :  0\n",
      "Barcode image\n"
     ]
    }
   ],
   "source": [
    "test_single_image('/Users/rajacsp/datasets/barcode_images/1200px-UPC-A-036000291452.svg.png')"
   ]
  },
  {
   "cell_type": "code",
   "execution_count": 22,
   "metadata": {},
   "outputs": [
    {
     "name": "stdout",
     "output_type": "stream",
     "text": [
      "colors count :  58056\n",
      "Not a barcode image\n"
     ]
    }
   ],
   "source": [
    "test_single_image('/Users/rajacsp/datasets/barcode_images/6000199010121.jpg')"
   ]
  }
 ],
 "metadata": {
  "kernelspec": {
   "display_name": "Python 3",
   "language": "python",
   "name": "python3"
  },
  "language_info": {
   "codemirror_mode": {
    "name": "ipython",
    "version": 3
   },
   "file_extension": ".py",
   "mimetype": "text/x-python",
   "name": "python",
   "nbconvert_exporter": "python",
   "pygments_lexer": "ipython3",
   "version": "3.6.8"
  }
 },
 "nbformat": 4,
 "nbformat_minor": 2
}

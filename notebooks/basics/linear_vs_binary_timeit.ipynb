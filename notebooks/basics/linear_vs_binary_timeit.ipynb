{
 "cells": [
  {
   "cell_type": "raw",
   "metadata": {},
   "source": [
    "---\n",
    "title: \"Timeit on Linear and Binary\"\n",
    "author: \"Rj\"\n",
    "date: 2019-04-20\n",
    "description: \"List Test\"\n",
    "type: technical_note\n",
    "draft: false\n",
    "---"
   ]
  },
  {
   "cell_type": "code",
   "execution_count": 19,
   "metadata": {},
   "outputs": [],
   "source": [
    "import timeit"
   ]
  },
  {
   "cell_type": "code",
   "execution_count": 20,
   "metadata": {},
   "outputs": [],
   "source": [
    "def linear_search(lys, element):  \n",
    "    for i in range (len(lys)):\n",
    "        if lys[i] == element:\n",
    "            return i\n",
    "    return -1"
   ]
  },
  {
   "cell_type": "code",
   "execution_count": 21,
   "metadata": {},
   "outputs": [],
   "source": [
    "def binary_search(lys, val):  \n",
    "    first = 0\n",
    "    last = len(lys)-1\n",
    "    index = -1\n",
    "    while (first <= last) and (index == -1):\n",
    "        mid = (first+last)//2\n",
    "        if lys[mid] == val:\n",
    "            index = mid\n",
    "        else:\n",
    "            if val<lys[mid]:\n",
    "                last = mid -1\n",
    "            else:\n",
    "                first = mid +1\n",
    "    return index"
   ]
  },
  {
   "cell_type": "code",
   "execution_count": 22,
   "metadata": {},
   "outputs": [],
   "source": [
    "list = [1, 2, 5, 6]"
   ]
  },
  {
   "cell_type": "code",
   "execution_count": 23,
   "metadata": {},
   "outputs": [
    {
     "name": "stdout",
     "output_type": "stream",
     "text": [
      "Linear search time: 5.699102585989749\n"
     ]
    }
   ],
   "source": [
    "SETUP_CODE = ''' \n",
    "from __main__ import linear_search, binary_search\n",
    "from random import randint'''\n",
    "      \n",
    "TEST_CODE = ''' \n",
    "mylist = [x for x in range(10000)] \n",
    "find = randint(0, len(mylist)) \n",
    "linear_search(mylist, find) \n",
    "'''\n",
    "\n",
    "# timeit.repeat statement \n",
    "times = timeit.repeat(setup = SETUP_CODE, \n",
    "                      stmt = TEST_CODE, \n",
    "                      repeat = 3, \n",
    "                      number = 10000) \n",
    "\n",
    "# priniting minimum exec. time \n",
    "print('Linear search time: {}'.format(min(times))) \n",
    "\n",
    "TEST_CODE = ''' \n",
    "mylist = [x for x in range(10000)] \n",
    "find = randint(0, len(mylist)) \n",
    "binary_search(mylist, find) \n",
    "'''"
   ]
  },
  {
   "cell_type": "code",
   "execution_count": 24,
   "metadata": {},
   "outputs": [
    {
     "name": "stdout",
     "output_type": "stream",
     "text": [
      "Binary search time: 3.0898517410096247\n"
     ]
    }
   ],
   "source": [
    "# timeit.repeat statement \n",
    "times = timeit.repeat(setup = SETUP_CODE, \n",
    "                      stmt = TEST_CODE, \n",
    "                      repeat = 3, \n",
    "                      number = 10000) \n",
    "  \n",
    "# priniting minimum exec. time \n",
    "print('Binary search time: {}'.format(min(times)))"
   ]
  }
 ],
 "metadata": {
  "kernelspec": {
   "display_name": "Python 3",
   "language": "python",
   "name": "python3"
  },
  "language_info": {
   "codemirror_mode": {
    "name": "ipython",
    "version": 3
   },
   "file_extension": ".py",
   "mimetype": "text/x-python",
   "name": "python",
   "nbconvert_exporter": "python",
   "pygments_lexer": "ipython3",
   "version": "3.6.8"
  }
 },
 "nbformat": 4,
 "nbformat_minor": 2
}

{
 "cells": [
  {
   "cell_type": "raw",
   "metadata": {},
   "source": [
    "---\n",
    "title: \"Get Name Meter\"\n",
    "author: \"Rj\"\n",
    "date: 2019-04-20\n",
    "description: \"List Test\"\n",
    "type: technical_note\n",
    "draft: false\n",
    "---"
   ]
  },
  {
   "cell_type": "code",
   "execution_count": 2,
   "metadata": {},
   "outputs": [],
   "source": [
    "def get_int(c):\n",
    "    if(c == 'a'):\n",
    "        return (200 + ord(c))\n",
    "    \n",
    "    if(c == 'e'):\n",
    "        return (250 + ord(c))\n",
    "    \n",
    "    if(c == 'i'):\n",
    "        return (300 + ord(c))\n",
    "    \n",
    "    if(c == 'o'):\n",
    "        return (350 + ord(c))\n",
    "    \n",
    "    if(c == 'u'):\n",
    "        return (400 + ord(c))\n",
    "    \n",
    "    return ord(c)\n",
    "\n",
    "def get_name_meter(name,  cache={}):\n",
    "    \n",
    "    if name in cache: \n",
    "        return cache[name]\n",
    "    \n",
    "    print('getting from expensive calculation')\n",
    "    \n",
    "    chars = list(name) # name.split won't return chars\n",
    "    \n",
    "    meter = 0\n",
    "    for c in chars:\n",
    "        \n",
    "        meter += get_int(c)\n",
    "    \n",
    "    cache[name] = result = meter\n",
    "    return result"
   ]
  },
  {
   "cell_type": "code",
   "execution_count": 3,
   "metadata": {},
   "outputs": [
    {
     "name": "stdout",
     "output_type": "stream",
     "text": [
      "getting from expensive calculation\n"
     ]
    },
    {
     "data": {
      "text/plain": [
       "1807"
      ]
     },
     "execution_count": 3,
     "metadata": {},
     "output_type": "execute_result"
    }
   ],
   "source": [
    "get_name_meter('Toronto')"
   ]
  },
  {
   "cell_type": "code",
   "execution_count": 4,
   "metadata": {},
   "outputs": [
    {
     "name": "stdout",
     "output_type": "stream",
     "text": [
      "getting from expensive calculation\n"
     ]
    },
    {
     "data": {
      "text/plain": [
       "1168"
      ]
     },
     "execution_count": 4,
     "metadata": {},
     "output_type": "execute_result"
    }
   ],
   "source": [
    "get_name_meter('Canada')"
   ]
  },
  {
   "cell_type": "code",
   "execution_count": 5,
   "metadata": {},
   "outputs": [
    {
     "name": "stdout",
     "output_type": "stream",
     "text": [
      "getting from expensive calculation\n"
     ]
    },
    {
     "data": {
      "text/plain": [
       "1634"
      ]
     },
     "execution_count": 5,
     "metadata": {},
     "output_type": "execute_result"
    }
   ],
   "source": [
    "get_name_meter('Montreal')"
   ]
  },
  {
   "cell_type": "code",
   "execution_count": 6,
   "metadata": {},
   "outputs": [
    {
     "data": {
      "text/plain": [
       "1634"
      ]
     },
     "execution_count": 6,
     "metadata": {},
     "output_type": "execute_result"
    }
   ],
   "source": [
    "get_name_meter('Montreal')"
   ]
  },
  {
   "cell_type": "code",
   "execution_count": null,
   "metadata": {},
   "outputs": [],
   "source": []
  }
 ],
 "metadata": {
  "kernelspec": {
   "display_name": "Python 3",
   "language": "python",
   "name": "python3"
  },
  "language_info": {
   "codemirror_mode": {
    "name": "ipython",
    "version": 3
   },
   "file_extension": ".py",
   "mimetype": "text/x-python",
   "name": "python",
   "nbconvert_exporter": "python",
   "pygments_lexer": "ipython3",
   "version": "3.6.8"
  }
 },
 "nbformat": 4,
 "nbformat_minor": 2
}

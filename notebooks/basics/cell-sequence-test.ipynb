{
 "cells": [
  {
   "cell_type": "code",
   "execution_count": null,
   "id": "b8932da1-857b-4cbf-8c1e-bdc126113a26",
   "metadata": {},
   "outputs": [],
   "source": []
  },
  {
   "cell_type": "code",
   "execution_count": 6,
   "id": "054cd161-b98f-4b48-a9c8-02aea38948a3",
   "metadata": {},
   "outputs": [],
   "source": [
    "def get_abc():\n",
    "\n",
    "    return \"abc\""
   ]
  },
  {
   "cell_type": "code",
   "execution_count": 7,
   "id": "ee82c657-4d18-46ac-b77a-6e3636b2220a",
   "metadata": {},
   "outputs": [
    {
     "data": {
      "text/plain": [
       "'abc'"
      ]
     },
     "execution_count": 7,
     "metadata": {},
     "output_type": "execute_result"
    }
   ],
   "source": [
    "get_abc()"
   ]
  },
  {
   "cell_type": "code",
   "execution_count": null,
   "id": "db11c5fe-4ea3-417b-baaf-a1ab3b77d132",
   "metadata": {},
   "outputs": [],
   "source": []
  },
  {
   "cell_type": "code",
   "execution_count": 8,
   "id": "425a77d3-b0b9-49d6-9f99-aac3d8c1fead",
   "metadata": {},
   "outputs": [
    {
     "data": {
      "text/plain": [
       "'xyz'"
      ]
     },
     "execution_count": 8,
     "metadata": {},
     "output_type": "execute_result"
    }
   ],
   "source": [
    "get_xyz()"
   ]
  },
  {
   "cell_type": "code",
   "execution_count": null,
   "id": "d7ba9524-38eb-4b90-9f6c-c96a5100d3e0",
   "metadata": {},
   "outputs": [],
   "source": []
  },
  {
   "cell_type": "code",
   "execution_count": 4,
   "id": "523caf9e-9276-40f2-bc62-3d148a396fbb",
   "metadata": {},
   "outputs": [],
   "source": [
    "def get_xyz():\n",
    "\n",
    "    return \"xyz\""
   ]
  },
  {
   "cell_type": "code",
   "execution_count": null,
   "id": "7b12cafa-2ebe-4691-9777-c329f267b7a6",
   "metadata": {},
   "outputs": [],
   "source": []
  },
  {
   "cell_type": "code",
   "execution_count": null,
   "id": "d03bd50a-1480-4b8f-b4fe-c035ca2f3344",
   "metadata": {},
   "outputs": [],
   "source": []
  }
 ],
 "metadata": {
  "kernelspec": {
   "display_name": "Python 3 (ipykernel)",
   "language": "python",
   "name": "python3"
  },
  "language_info": {
   "codemirror_mode": {
    "name": "ipython",
    "version": 3
   },
   "file_extension": ".py",
   "mimetype": "text/x-python",
   "name": "python",
   "nbconvert_exporter": "python",
   "pygments_lexer": "ipython3",
   "version": "3.12.7"
  }
 },
 "nbformat": 4,
 "nbformat_minor": 5
}

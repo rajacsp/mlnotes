{
 "cells": [
  {
   "cell_type": "raw",
   "metadata": {},
   "source": [
    "---\n",
    "title: \"List Operations\"\n",
    "author: \"Rj\"\n",
    "date: 2019-04-20\n",
    "description: \"-\"\n",
    "type: technical_note\n",
    "draft: false\n",
    "---"
   ]
  },
  {
   "cell_type": "code",
   "execution_count": 257,
   "metadata": {},
   "outputs": [],
   "source": [
    "list = [\n",
    "    \"AB\", \n",
    "    \"CD\",\n",
    "    \"EF\",\n",
    "    \"GH\",\n",
    "    \"IJ\", \n",
    "    \"KL\",\n",
    "    \"MN\",\n",
    "    \"OP\",\n",
    "    \"QR\",\n",
    "    \"ST\",\n",
    "    \"UV\",\n",
    "    \"WX\",\n",
    "    \"YZ\"\n",
    "]"
   ]
  },
  {
   "cell_type": "code",
   "execution_count": 258,
   "metadata": {},
   "outputs": [
    {
     "data": {
      "text/plain": [
       "['AB', 'CD', 'EF', 'GH', 'IJ', 'KL', 'MN', 'OP', 'QR', 'ST', 'UV', 'WX', 'YZ']"
      ]
     },
     "execution_count": 258,
     "metadata": {},
     "output_type": "execute_result"
    }
   ],
   "source": [
    "list"
   ]
  },
  {
   "cell_type": "code",
   "execution_count": 259,
   "metadata": {},
   "outputs": [],
   "source": [
    "# append to list\n",
    "list.append(\"ABC\")"
   ]
  },
  {
   "cell_type": "code",
   "execution_count": 260,
   "metadata": {},
   "outputs": [
    {
     "data": {
      "text/plain": [
       "['AB',\n",
       " 'CD',\n",
       " 'EF',\n",
       " 'GH',\n",
       " 'IJ',\n",
       " 'KL',\n",
       " 'MN',\n",
       " 'OP',\n",
       " 'QR',\n",
       " 'ST',\n",
       " 'UV',\n",
       " 'WX',\n",
       " 'YZ',\n",
       " 'ABC']"
      ]
     },
     "execution_count": 260,
     "metadata": {},
     "output_type": "execute_result"
    }
   ],
   "source": [
    "list"
   ]
  },
  {
   "cell_type": "code",
   "execution_count": 261,
   "metadata": {},
   "outputs": [],
   "source": [
    "list.extend([\"EFG\", \"IJK\", \"LMN\"])"
   ]
  },
  {
   "cell_type": "code",
   "execution_count": 262,
   "metadata": {},
   "outputs": [
    {
     "data": {
      "text/plain": [
       "['AB',\n",
       " 'CD',\n",
       " 'EF',\n",
       " 'GH',\n",
       " 'IJ',\n",
       " 'KL',\n",
       " 'MN',\n",
       " 'OP',\n",
       " 'QR',\n",
       " 'ST',\n",
       " 'UV',\n",
       " 'WX',\n",
       " 'YZ',\n",
       " 'ABC',\n",
       " 'EFG',\n",
       " 'IJK',\n",
       " 'LMN']"
      ]
     },
     "execution_count": 262,
     "metadata": {},
     "output_type": "execute_result"
    }
   ],
   "source": [
    "list"
   ]
  },
  {
   "cell_type": "code",
   "execution_count": 263,
   "metadata": {},
   "outputs": [],
   "source": [
    "list.extend((\"OPQ\", \"RST\"))"
   ]
  },
  {
   "cell_type": "code",
   "execution_count": 264,
   "metadata": {},
   "outputs": [
    {
     "data": {
      "text/plain": [
       "['AB',\n",
       " 'CD',\n",
       " 'EF',\n",
       " 'GH',\n",
       " 'IJ',\n",
       " 'KL',\n",
       " 'MN',\n",
       " 'OP',\n",
       " 'QR',\n",
       " 'ST',\n",
       " 'UV',\n",
       " 'WX',\n",
       " 'YZ',\n",
       " 'ABC',\n",
       " 'EFG',\n",
       " 'IJK',\n",
       " 'LMN',\n",
       " 'OPQ',\n",
       " 'RST']"
      ]
     },
     "execution_count": 264,
     "metadata": {},
     "output_type": "execute_result"
    }
   ],
   "source": [
    "list"
   ]
  },
  {
   "cell_type": "code",
   "execution_count": 265,
   "metadata": {},
   "outputs": [],
   "source": [
    "list.extend(range(1, 5))"
   ]
  },
  {
   "cell_type": "code",
   "execution_count": 266,
   "metadata": {},
   "outputs": [
    {
     "data": {
      "text/plain": [
       "['AB',\n",
       " 'CD',\n",
       " 'EF',\n",
       " 'GH',\n",
       " 'IJ',\n",
       " 'KL',\n",
       " 'MN',\n",
       " 'OP',\n",
       " 'QR',\n",
       " 'ST',\n",
       " 'UV',\n",
       " 'WX',\n",
       " 'YZ',\n",
       " 'ABC',\n",
       " 'EFG',\n",
       " 'IJK',\n",
       " 'LMN',\n",
       " 'OPQ',\n",
       " 'RST',\n",
       " 1,\n",
       " 2,\n",
       " 3,\n",
       " 4]"
      ]
     },
     "execution_count": 266,
     "metadata": {},
     "output_type": "execute_result"
    }
   ],
   "source": [
    "list"
   ]
  },
  {
   "cell_type": "code",
   "execution_count": 267,
   "metadata": {},
   "outputs": [],
   "source": [
    "list2 = [\"One\", \"Two\"]"
   ]
  },
  {
   "cell_type": "code",
   "execution_count": 268,
   "metadata": {},
   "outputs": [
    {
     "data": {
      "text/plain": [
       "['One', 'Two']"
      ]
     },
     "execution_count": 268,
     "metadata": {},
     "output_type": "execute_result"
    }
   ],
   "source": [
    "list2"
   ]
  },
  {
   "cell_type": "code",
   "execution_count": 269,
   "metadata": {},
   "outputs": [],
   "source": [
    "list.append(list2)"
   ]
  },
  {
   "cell_type": "code",
   "execution_count": 270,
   "metadata": {},
   "outputs": [
    {
     "data": {
      "text/plain": [
       "['AB',\n",
       " 'CD',\n",
       " 'EF',\n",
       " 'GH',\n",
       " 'IJ',\n",
       " 'KL',\n",
       " 'MN',\n",
       " 'OP',\n",
       " 'QR',\n",
       " 'ST',\n",
       " 'UV',\n",
       " 'WX',\n",
       " 'YZ',\n",
       " 'ABC',\n",
       " 'EFG',\n",
       " 'IJK',\n",
       " 'LMN',\n",
       " 'OPQ',\n",
       " 'RST',\n",
       " 1,\n",
       " 2,\n",
       " 3,\n",
       " 4,\n",
       " ['One', 'Two']]"
      ]
     },
     "execution_count": 270,
     "metadata": {},
     "output_type": "execute_result"
    }
   ],
   "source": [
    "list"
   ]
  },
  {
   "cell_type": "code",
   "execution_count": 271,
   "metadata": {},
   "outputs": [],
   "source": [
    "list3 = [\"Four\", \"Five\"]"
   ]
  },
  {
   "cell_type": "code",
   "execution_count": 272,
   "metadata": {},
   "outputs": [],
   "source": [
    "list += list3"
   ]
  },
  {
   "cell_type": "code",
   "execution_count": 273,
   "metadata": {},
   "outputs": [
    {
     "data": {
      "text/plain": [
       "['AB',\n",
       " 'CD',\n",
       " 'EF',\n",
       " 'GH',\n",
       " 'IJ',\n",
       " 'KL',\n",
       " 'MN',\n",
       " 'OP',\n",
       " 'QR',\n",
       " 'ST',\n",
       " 'UV',\n",
       " 'WX',\n",
       " 'YZ',\n",
       " 'ABC',\n",
       " 'EFG',\n",
       " 'IJK',\n",
       " 'LMN',\n",
       " 'OPQ',\n",
       " 'RST',\n",
       " 1,\n",
       " 2,\n",
       " 3,\n",
       " 4,\n",
       " ['One', 'Two'],\n",
       " 'Four',\n",
       " 'Five']"
      ]
     },
     "execution_count": 273,
     "metadata": {},
     "output_type": "execute_result"
    }
   ],
   "source": [
    "list"
   ]
  },
  {
   "cell_type": "code",
   "execution_count": 274,
   "metadata": {},
   "outputs": [
    {
     "data": {
      "text/plain": [
       "'Five'"
      ]
     },
     "execution_count": 274,
     "metadata": {},
     "output_type": "execute_result"
    }
   ],
   "source": [
    "list.pop(len(list)-1)"
   ]
  },
  {
   "cell_type": "code",
   "execution_count": 275,
   "metadata": {},
   "outputs": [
    {
     "data": {
      "text/plain": [
       "['AB',\n",
       " 'CD',\n",
       " 'EF',\n",
       " 'GH',\n",
       " 'IJ',\n",
       " 'KL',\n",
       " 'MN',\n",
       " 'OP',\n",
       " 'QR',\n",
       " 'ST',\n",
       " 'UV',\n",
       " 'WX',\n",
       " 'YZ',\n",
       " 'ABC',\n",
       " 'EFG',\n",
       " 'IJK',\n",
       " 'LMN',\n",
       " 'OPQ',\n",
       " 'RST',\n",
       " 1,\n",
       " 2,\n",
       " 3,\n",
       " 4,\n",
       " ['One', 'Two'],\n",
       " 'Four']"
      ]
     },
     "execution_count": 275,
     "metadata": {},
     "output_type": "execute_result"
    }
   ],
   "source": [
    "list"
   ]
  },
  {
   "cell_type": "code",
   "execution_count": 276,
   "metadata": {},
   "outputs": [],
   "source": [
    "list.remove('AB')"
   ]
  },
  {
   "cell_type": "code",
   "execution_count": 277,
   "metadata": {},
   "outputs": [
    {
     "data": {
      "text/plain": [
       "['CD',\n",
       " 'EF',\n",
       " 'GH',\n",
       " 'IJ',\n",
       " 'KL',\n",
       " 'MN',\n",
       " 'OP',\n",
       " 'QR',\n",
       " 'ST',\n",
       " 'UV',\n",
       " 'WX',\n",
       " 'YZ',\n",
       " 'ABC',\n",
       " 'EFG',\n",
       " 'IJK',\n",
       " 'LMN',\n",
       " 'OPQ',\n",
       " 'RST',\n",
       " 1,\n",
       " 2,\n",
       " 3,\n",
       " 4,\n",
       " ['One', 'Two'],\n",
       " 'Four']"
      ]
     },
     "execution_count": 277,
     "metadata": {},
     "output_type": "execute_result"
    }
   ],
   "source": [
    "list"
   ]
  },
  {
   "cell_type": "code",
   "execution_count": 278,
   "metadata": {},
   "outputs": [],
   "source": [
    "list.remove(list2)"
   ]
  },
  {
   "cell_type": "code",
   "execution_count": 279,
   "metadata": {},
   "outputs": [
    {
     "data": {
      "text/plain": [
       "['CD',\n",
       " 'EF',\n",
       " 'GH',\n",
       " 'IJ',\n",
       " 'KL',\n",
       " 'MN',\n",
       " 'OP',\n",
       " 'QR',\n",
       " 'ST',\n",
       " 'UV',\n",
       " 'WX',\n",
       " 'YZ',\n",
       " 'ABC',\n",
       " 'EFG',\n",
       " 'IJK',\n",
       " 'LMN',\n",
       " 'OPQ',\n",
       " 'RST',\n",
       " 1,\n",
       " 2,\n",
       " 3,\n",
       " 4,\n",
       " 'Four']"
      ]
     },
     "execution_count": 279,
     "metadata": {},
     "output_type": "execute_result"
    }
   ],
   "source": [
    "list"
   ]
  },
  {
   "cell_type": "code",
   "execution_count": 280,
   "metadata": {},
   "outputs": [],
   "source": [
    "list.extend((\"ten\", \"twenty\"))"
   ]
  },
  {
   "cell_type": "code",
   "execution_count": 281,
   "metadata": {},
   "outputs": [
    {
     "data": {
      "text/plain": [
       "['CD',\n",
       " 'EF',\n",
       " 'GH',\n",
       " 'IJ',\n",
       " 'KL',\n",
       " 'MN',\n",
       " 'OP',\n",
       " 'QR',\n",
       " 'ST',\n",
       " 'UV',\n",
       " 'WX',\n",
       " 'YZ',\n",
       " 'ABC',\n",
       " 'EFG',\n",
       " 'IJK',\n",
       " 'LMN',\n",
       " 'OPQ',\n",
       " 'RST',\n",
       " 1,\n",
       " 2,\n",
       " 3,\n",
       " 4,\n",
       " 'Four',\n",
       " 'ten',\n",
       " 'twenty']"
      ]
     },
     "execution_count": 281,
     "metadata": {},
     "output_type": "execute_result"
    }
   ],
   "source": [
    "list"
   ]
  },
  {
   "cell_type": "code",
   "execution_count": 282,
   "metadata": {},
   "outputs": [],
   "source": [
    "list.extend([\"eleven\", \"twelve\"])"
   ]
  },
  {
   "cell_type": "code",
   "execution_count": 283,
   "metadata": {},
   "outputs": [
    {
     "data": {
      "text/plain": [
       "['CD',\n",
       " 'EF',\n",
       " 'GH',\n",
       " 'IJ',\n",
       " 'KL',\n",
       " 'MN',\n",
       " 'OP',\n",
       " 'QR',\n",
       " 'ST',\n",
       " 'UV',\n",
       " 'WX',\n",
       " 'YZ',\n",
       " 'ABC',\n",
       " 'EFG',\n",
       " 'IJK',\n",
       " 'LMN',\n",
       " 'OPQ',\n",
       " 'RST',\n",
       " 1,\n",
       " 2,\n",
       " 3,\n",
       " 4,\n",
       " 'Four',\n",
       " 'ten',\n",
       " 'twenty',\n",
       " 'eleven',\n",
       " 'twelve']"
      ]
     },
     "execution_count": 283,
     "metadata": {},
     "output_type": "execute_result"
    }
   ],
   "source": [
    "list"
   ]
  },
  {
   "cell_type": "code",
   "execution_count": 284,
   "metadata": {},
   "outputs": [],
   "source": [
    "list.append((\"six\", \"seven\"))"
   ]
  },
  {
   "cell_type": "code",
   "execution_count": 285,
   "metadata": {},
   "outputs": [
    {
     "data": {
      "text/plain": [
       "['CD',\n",
       " 'EF',\n",
       " 'GH',\n",
       " 'IJ',\n",
       " 'KL',\n",
       " 'MN',\n",
       " 'OP',\n",
       " 'QR',\n",
       " 'ST',\n",
       " 'UV',\n",
       " 'WX',\n",
       " 'YZ',\n",
       " 'ABC',\n",
       " 'EFG',\n",
       " 'IJK',\n",
       " 'LMN',\n",
       " 'OPQ',\n",
       " 'RST',\n",
       " 1,\n",
       " 2,\n",
       " 3,\n",
       " 4,\n",
       " 'Four',\n",
       " 'ten',\n",
       " 'twenty',\n",
       " 'eleven',\n",
       " 'twelve',\n",
       " ('six', 'seven')]"
      ]
     },
     "execution_count": 285,
     "metadata": {},
     "output_type": "execute_result"
    }
   ],
   "source": [
    "list"
   ]
  },
  {
   "cell_type": "code",
   "execution_count": 286,
   "metadata": {},
   "outputs": [
    {
     "data": {
      "text/plain": [
       "tuple"
      ]
     },
     "execution_count": 286,
     "metadata": {},
     "output_type": "execute_result"
    }
   ],
   "source": [
    "type(list[len(list)-1])"
   ]
  },
  {
   "cell_type": "code",
   "execution_count": 287,
   "metadata": {},
   "outputs": [],
   "source": [
    "del list[len(list)-1]"
   ]
  },
  {
   "cell_type": "code",
   "execution_count": 288,
   "metadata": {},
   "outputs": [
    {
     "data": {
      "text/plain": [
       "['CD',\n",
       " 'EF',\n",
       " 'GH',\n",
       " 'IJ',\n",
       " 'KL',\n",
       " 'MN',\n",
       " 'OP',\n",
       " 'QR',\n",
       " 'ST',\n",
       " 'UV',\n",
       " 'WX',\n",
       " 'YZ',\n",
       " 'ABC',\n",
       " 'EFG',\n",
       " 'IJK',\n",
       " 'LMN',\n",
       " 'OPQ',\n",
       " 'RST',\n",
       " 1,\n",
       " 2,\n",
       " 3,\n",
       " 4,\n",
       " 'Four',\n",
       " 'ten',\n",
       " 'twenty',\n",
       " 'eleven',\n",
       " 'twelve']"
      ]
     },
     "execution_count": 288,
     "metadata": {},
     "output_type": "execute_result"
    }
   ],
   "source": [
    "list"
   ]
  },
  {
   "cell_type": "code",
   "execution_count": 289,
   "metadata": {},
   "outputs": [],
   "source": [
    "list.remove(\"ten\")"
   ]
  },
  {
   "cell_type": "code",
   "execution_count": 290,
   "metadata": {},
   "outputs": [
    {
     "data": {
      "text/plain": [
       "['CD',\n",
       " 'EF',\n",
       " 'GH',\n",
       " 'IJ',\n",
       " 'KL',\n",
       " 'MN',\n",
       " 'OP',\n",
       " 'QR',\n",
       " 'ST',\n",
       " 'UV',\n",
       " 'WX',\n",
       " 'YZ',\n",
       " 'ABC',\n",
       " 'EFG',\n",
       " 'IJK',\n",
       " 'LMN',\n",
       " 'OPQ',\n",
       " 'RST',\n",
       " 1,\n",
       " 2,\n",
       " 3,\n",
       " 4,\n",
       " 'Four',\n",
       " 'twenty',\n",
       " 'eleven',\n",
       " 'twelve']"
      ]
     },
     "execution_count": 290,
     "metadata": {},
     "output_type": "execute_result"
    }
   ],
   "source": [
    "list"
   ]
  },
  {
   "cell_type": "code",
   "execution_count": 291,
   "metadata": {},
   "outputs": [],
   "source": [
    "list.append( [\"one\", \"two\"])"
   ]
  },
  {
   "cell_type": "code",
   "execution_count": 292,
   "metadata": {},
   "outputs": [
    {
     "data": {
      "text/plain": [
       "['CD',\n",
       " 'EF',\n",
       " 'GH',\n",
       " 'IJ',\n",
       " 'KL',\n",
       " 'MN',\n",
       " 'OP',\n",
       " 'QR',\n",
       " 'ST',\n",
       " 'UV',\n",
       " 'WX',\n",
       " 'YZ',\n",
       " 'ABC',\n",
       " 'EFG',\n",
       " 'IJK',\n",
       " 'LMN',\n",
       " 'OPQ',\n",
       " 'RST',\n",
       " 1,\n",
       " 2,\n",
       " 3,\n",
       " 4,\n",
       " 'Four',\n",
       " 'twenty',\n",
       " 'eleven',\n",
       " 'twelve',\n",
       " ['one', 'two']]"
      ]
     },
     "execution_count": 292,
     "metadata": {},
     "output_type": "execute_result"
    }
   ],
   "source": [
    "list"
   ]
  },
  {
   "cell_type": "code",
   "execution_count": 293,
   "metadata": {},
   "outputs": [],
   "source": [
    "list.remove(['one', 'two'])"
   ]
  },
  {
   "cell_type": "code",
   "execution_count": 294,
   "metadata": {},
   "outputs": [
    {
     "data": {
      "text/plain": [
       "['CD',\n",
       " 'EF',\n",
       " 'GH',\n",
       " 'IJ',\n",
       " 'KL',\n",
       " 'MN',\n",
       " 'OP',\n",
       " 'QR',\n",
       " 'ST',\n",
       " 'UV',\n",
       " 'WX',\n",
       " 'YZ',\n",
       " 'ABC',\n",
       " 'EFG',\n",
       " 'IJK',\n",
       " 'LMN',\n",
       " 'OPQ',\n",
       " 'RST',\n",
       " 1,\n",
       " 2,\n",
       " 3,\n",
       " 4,\n",
       " 'Four',\n",
       " 'twenty',\n",
       " 'eleven',\n",
       " 'twelve']"
      ]
     },
     "execution_count": 294,
     "metadata": {},
     "output_type": "execute_result"
    }
   ],
   "source": [
    "list"
   ]
  },
  {
   "cell_type": "code",
   "execution_count": 295,
   "metadata": {},
   "outputs": [],
   "source": [
    "# delete elements 1 - 5\n",
    "del list[1:5]"
   ]
  },
  {
   "cell_type": "code",
   "execution_count": 296,
   "metadata": {},
   "outputs": [
    {
     "data": {
      "text/plain": [
       "['CD',\n",
       " 'MN',\n",
       " 'OP',\n",
       " 'QR',\n",
       " 'ST',\n",
       " 'UV',\n",
       " 'WX',\n",
       " 'YZ',\n",
       " 'ABC',\n",
       " 'EFG',\n",
       " 'IJK',\n",
       " 'LMN',\n",
       " 'OPQ',\n",
       " 'RST',\n",
       " 1,\n",
       " 2,\n",
       " 3,\n",
       " 4,\n",
       " 'Four',\n",
       " 'twenty',\n",
       " 'eleven',\n",
       " 'twelve']"
      ]
     },
     "execution_count": 296,
     "metadata": {},
     "output_type": "execute_result"
    }
   ],
   "source": [
    "list"
   ]
  },
  {
   "cell_type": "code",
   "execution_count": 297,
   "metadata": {},
   "outputs": [
    {
     "data": {
      "text/plain": [
       "['CD', 'OP', 'ST', 'WX', 'ABC', 'IJK', 'OPQ', 1, 3, 'Four', 'eleven']"
      ]
     },
     "execution_count": 297,
     "metadata": {},
     "output_type": "execute_result"
    }
   ],
   "source": [
    "list[::2]"
   ]
  },
  {
   "cell_type": "code",
   "execution_count": 298,
   "metadata": {},
   "outputs": [
    {
     "data": {
      "text/plain": [
       "['CD',\n",
       " 'MN',\n",
       " 'OP',\n",
       " 'QR',\n",
       " 'ST',\n",
       " 'UV',\n",
       " 'WX',\n",
       " 'YZ',\n",
       " 'ABC',\n",
       " 'EFG',\n",
       " 'IJK',\n",
       " 'LMN',\n",
       " 'OPQ',\n",
       " 'RST',\n",
       " 1,\n",
       " 2,\n",
       " 3,\n",
       " 4,\n",
       " 'Four',\n",
       " 'twenty',\n",
       " 'eleven',\n",
       " 'twelve']"
      ]
     },
     "execution_count": 298,
     "metadata": {},
     "output_type": "execute_result"
    }
   ],
   "source": [
    "list"
   ]
  },
  {
   "cell_type": "code",
   "execution_count": 299,
   "metadata": {},
   "outputs": [],
   "source": [
    "# Remove every 3rd item\n",
    "del list[::3]"
   ]
  },
  {
   "cell_type": "code",
   "execution_count": 300,
   "metadata": {},
   "outputs": [
    {
     "data": {
      "text/plain": [
       "['MN',\n",
       " 'OP',\n",
       " 'ST',\n",
       " 'UV',\n",
       " 'YZ',\n",
       " 'ABC',\n",
       " 'IJK',\n",
       " 'LMN',\n",
       " 'RST',\n",
       " 1,\n",
       " 3,\n",
       " 4,\n",
       " 'twenty',\n",
       " 'eleven']"
      ]
     },
     "execution_count": 300,
     "metadata": {},
     "output_type": "execute_result"
    }
   ],
   "source": [
    "list"
   ]
  },
  {
   "cell_type": "code",
   "execution_count": 301,
   "metadata": {},
   "outputs": [],
   "source": [
    "# Remove every 2nd item\n",
    "del list[::-3]"
   ]
  },
  {
   "cell_type": "code",
   "execution_count": 302,
   "metadata": {},
   "outputs": [
    {
     "data": {
      "text/plain": [
       "['MN', 'ST', 'UV', 'ABC', 'IJK', 'RST', 1, 4, 'twenty']"
      ]
     },
     "execution_count": 302,
     "metadata": {},
     "output_type": "execute_result"
    }
   ],
   "source": [
    "list"
   ]
  },
  {
   "cell_type": "code",
   "execution_count": 303,
   "metadata": {},
   "outputs": [
    {
     "name": "stdout",
     "output_type": "stream",
     "text": [
      "0 MN\n",
      "1 ST\n",
      "2 UV\n",
      "3 ABC\n",
      "4 IJK\n",
      "5 RST\n",
      "6 1\n",
      "7 4\n",
      "8 twenty\n"
     ]
    }
   ],
   "source": [
    "for i, j in enumerate(list):\n",
    "    print(i, j)"
   ]
  },
  {
   "cell_type": "code",
   "execution_count": 304,
   "metadata": {},
   "outputs": [],
   "source": [
    "item_index = 1, 4"
   ]
  },
  {
   "cell_type": "code",
   "execution_count": 307,
   "metadata": {},
   "outputs": [],
   "source": [
    "list = [value for key, value in enumerate(list) if key not in item_index]"
   ]
  },
  {
   "cell_type": "code",
   "execution_count": 308,
   "metadata": {},
   "outputs": [
    {
     "data": {
      "text/plain": [
       "['MN', 'ABC', 'RST', 4, 'twenty']"
      ]
     },
     "execution_count": 308,
     "metadata": {},
     "output_type": "execute_result"
    }
   ],
   "source": [
    "list"
   ]
  },
  {
   "cell_type": "code",
   "execution_count": null,
   "metadata": {},
   "outputs": [],
   "source": []
  }
 ],
 "metadata": {
  "kernelspec": {
   "display_name": "Python 3",
   "language": "python",
   "name": "python3"
  },
  "language_info": {
   "codemirror_mode": {
    "name": "ipython",
    "version": 3
   },
   "file_extension": ".py",
   "mimetype": "text/x-python",
   "name": "python",
   "nbconvert_exporter": "python",
   "pygments_lexer": "ipython3",
   "version": "3.6.8"
  }
 },
 "nbformat": 4,
 "nbformat_minor": 2
}

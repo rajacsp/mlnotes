{
 "cells": [
  {
   "cell_type": "code",
   "execution_count": null,
   "id": "d9a2191e-b6fa-419f-99e6-fab961427a5e",
   "metadata": {},
   "outputs": [],
   "source": []
  },
  {
   "cell_type": "code",
   "execution_count": 33,
   "id": "f0aab793-355d-49dc-8bbe-3a68d5e37414",
   "metadata": {},
   "outputs": [],
   "source": [
    "DATA                              = \"data\"\n",
    "JSON_DATA                         = \"jsonData\"\n",
    "PENALIZATION_IMPUTATION_WEIGHTAGE = \"penalizationImputationWeightage\""
   ]
  },
  {
   "cell_type": "code",
   "execution_count": 34,
   "id": "188e7b8c-4dba-4958-a1c2-4fa7d130b917",
   "metadata": {},
   "outputs": [],
   "source": [
    "mltrainconfig_json = {\n",
    "    \"data\" : {\n",
    "        \"jsonData\" : {\n",
    "            \"penalizationImputationWeightage\" : {\n",
    "                \"one\" : \"two\"\n",
    "            }\n",
    "        }\n",
    "    }\n",
    "}"
   ]
  },
  {
   "cell_type": "code",
   "execution_count": 35,
   "id": "06aa3df3-198d-4989-8b52-ddf4450e637e",
   "metadata": {},
   "outputs": [],
   "source": [
    "penalization_imputation_weightage = mltrainconfig_json.get(DATA, {})\\\n",
    "        .get(JSON_DATA, {})\\\n",
    "        .get(PENALIZATION_IMPUTATION_WEIGHTAGE, {})"
   ]
  },
  {
   "cell_type": "code",
   "execution_count": 36,
   "id": "9960163f-b641-4e70-a5fa-80365078e082",
   "metadata": {},
   "outputs": [],
   "source": [
    "penalization_imputation_weightage = penalization_imputation_weightage if penalization_imputation_weightage else imputing_factor_value"
   ]
  },
  {
   "cell_type": "code",
   "execution_count": 37,
   "id": "414644e3-4891-401a-b6c7-d430f600edd7",
   "metadata": {},
   "outputs": [
    {
     "data": {
      "text/plain": [
       "{'one': 'two'}"
      ]
     },
     "execution_count": 37,
     "metadata": {},
     "output_type": "execute_result"
    }
   ],
   "source": [
    "penalization_imputation_weightage"
   ]
  },
  {
   "cell_type": "code",
   "execution_count": null,
   "id": "94fe0d36-8eb9-4736-ae59-751b649e2ce3",
   "metadata": {},
   "outputs": [],
   "source": []
  },
  {
   "cell_type": "code",
   "execution_count": null,
   "id": "bc28bd29-565f-445e-ae52-7b462914fb99",
   "metadata": {},
   "outputs": [],
   "source": []
  },
  {
   "cell_type": "code",
   "execution_count": null,
   "id": "38439f19-b79f-404a-b416-78ad4694f466",
   "metadata": {},
   "outputs": [],
   "source": []
  },
  {
   "cell_type": "code",
   "execution_count": 38,
   "id": "846c714a-2372-40ce-a519-9409e5736861",
   "metadata": {},
   "outputs": [],
   "source": [
    "mltrainconfig_json = {\n",
    "    \"data\" : {\n",
    "        \"jsonData\" : {\n",
    "            \"penalizationImputationWeightage2\" : {\n",
    "                \"one\" : \"two\"\n",
    "            }\n",
    "        }\n",
    "    }\n",
    "}"
   ]
  },
  {
   "cell_type": "code",
   "execution_count": 39,
   "id": "0b63e119-2fb3-40d6-841e-6b97ecd4aadd",
   "metadata": {},
   "outputs": [],
   "source": [
    "imputing_factor_value = {\n",
    "    \"eleven\" : \"twelve\"\n",
    "}"
   ]
  },
  {
   "cell_type": "code",
   "execution_count": 40,
   "id": "ab4a06e8-4e48-43ae-a1dd-9884931086c3",
   "metadata": {},
   "outputs": [],
   "source": [
    "penalization_imputation_weightage = mltrainconfig_json.get(DATA, {})\\\n",
    "        .get(JSON_DATA, {})\\\n",
    "        .get(PENALIZATION_IMPUTATION_WEIGHTAGE, {})"
   ]
  },
  {
   "cell_type": "code",
   "execution_count": 41,
   "id": "7704ec35-01f8-4593-b6fc-a1c44fc45b76",
   "metadata": {},
   "outputs": [
    {
     "data": {
      "text/plain": [
       "{}"
      ]
     },
     "execution_count": 41,
     "metadata": {},
     "output_type": "execute_result"
    }
   ],
   "source": [
    "penalization_imputation_weightage"
   ]
  },
  {
   "cell_type": "code",
   "execution_count": 42,
   "id": "ebd2e567-3b37-40a2-ab74-01c3cd942be4",
   "metadata": {},
   "outputs": [],
   "source": [
    "penalization_imputation_weightage = penalization_imputation_weightage if penalization_imputation_weightage else imputing_factor_value"
   ]
  },
  {
   "cell_type": "code",
   "execution_count": 43,
   "id": "279ff626-c813-47e4-b4ec-ebb4a1ccf8c8",
   "metadata": {},
   "outputs": [
    {
     "data": {
      "text/plain": [
       "{'eleven': 'twelve'}"
      ]
     },
     "execution_count": 43,
     "metadata": {},
     "output_type": "execute_result"
    }
   ],
   "source": [
    "penalization_imputation_weightage"
   ]
  },
  {
   "cell_type": "code",
   "execution_count": null,
   "id": "6e1cbeb4-07b4-4d52-aefe-d5b0f5519752",
   "metadata": {},
   "outputs": [],
   "source": []
  }
 ],
 "metadata": {
  "kernelspec": {
   "display_name": "Python 3 (ipykernel)",
   "language": "python",
   "name": "python3"
  },
  "language_info": {
   "codemirror_mode": {
    "name": "ipython",
    "version": 3
   },
   "file_extension": ".py",
   "mimetype": "text/x-python",
   "name": "python",
   "nbconvert_exporter": "python",
   "pygments_lexer": "ipython3",
   "version": "3.12.7"
  }
 },
 "nbformat": 4,
 "nbformat_minor": 5
}

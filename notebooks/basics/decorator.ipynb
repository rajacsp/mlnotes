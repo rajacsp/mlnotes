{
 "cells": [
  {
   "cell_type": "raw",
   "metadata": {},
   "source": [
    "---\n",
    "title: \"Decorator\"\n",
    "author: \"Raja CSP Raman\"\n",
    "date: 2019-04-20\n",
    "description: \"-\"\n",
    "type: technical_note\n",
    "draft: false\n",
    "---"
   ]
  },
  {
   "cell_type": "code",
   "execution_count": 1,
   "metadata": {},
   "outputs": [],
   "source": [
    "def rangetest(*argchecks):                  # validate positional arg ranges\n",
    "    def onDecorator(func):\n",
    "        def onCall(*args):\n",
    "            print('argchecks : '+str(argchecks))\n",
    "            for (ix, low, high) in argchecks:\n",
    "                print('ix : '+str(ix))\n",
    "                if args[ix] < low or args[ix] > high:\n",
    "                    errmsg = 'Argument %s not in %s..%s' % (ix, low, high)\n",
    "                    raise TypeError(errmsg)\n",
    "            return func(*args)\n",
    "        return onCall\n",
    "    return onDecorator"
   ]
  },
  {
   "cell_type": "code",
   "execution_count": 2,
   "metadata": {},
   "outputs": [],
   "source": [
    "class Person:  \n",
    "    \"\"\"\n",
    "    revisit the Person class to validate argument\n",
    "    \"\"\"\n",
    "    def __init__(self, name, job, pay):\n",
    "        self.job  = job\n",
    "        self.pay  = pay\n",
    "                                          # arg 0 is the self instance here\n",
    "    @rangetest([1, 0.0, 1.0])             # giveRaise = rangetest(..)(giveRaise)\n",
    "    def giveRaise(self, percent):\n",
    "        self.pay = int(self.pay * (1 + percent))"
   ]
  },
  {
   "cell_type": "code",
   "execution_count": 3,
   "metadata": {},
   "outputs": [],
   "source": [
    "sue = Person('Sue Jones', 'dev', 100000)"
   ]
  },
  {
   "cell_type": "code",
   "execution_count": 4,
   "metadata": {},
   "outputs": [
    {
     "data": {
      "text/plain": [
       "100000"
      ]
     },
     "execution_count": 4,
     "metadata": {},
     "output_type": "execute_result"
    }
   ],
   "source": [
    "sue.pay"
   ]
  },
  {
   "cell_type": "code",
   "execution_count": 6,
   "metadata": {},
   "outputs": [
    {
     "name": "stdout",
     "output_type": "stream",
     "text": [
      "argchecks : ([1, 0.0, 1.0],)\n",
      "ix : 1\n"
     ]
    }
   ],
   "source": [
    "sue.giveRaise(0.10)"
   ]
  },
  {
   "cell_type": "code",
   "execution_count": 7,
   "metadata": {},
   "outputs": [
    {
     "data": {
      "text/plain": [
       "110000"
      ]
     },
     "execution_count": 7,
     "metadata": {},
     "output_type": "execute_result"
    }
   ],
   "source": [
    "sue.pay"
   ]
  },
  {
   "cell_type": "code",
   "execution_count": null,
   "metadata": {},
   "outputs": [],
   "source": []
  }
 ],
 "metadata": {
  "kernelspec": {
   "display_name": "Python 3",
   "language": "python",
   "name": "python3"
  },
  "language_info": {
   "codemirror_mode": {
    "name": "ipython",
    "version": 3
   },
   "file_extension": ".py",
   "mimetype": "text/x-python",
   "name": "python",
   "nbconvert_exporter": "python",
   "pygments_lexer": "ipython3",
   "version": "3.6.8"
  }
 },
 "nbformat": 4,
 "nbformat_minor": 2
}

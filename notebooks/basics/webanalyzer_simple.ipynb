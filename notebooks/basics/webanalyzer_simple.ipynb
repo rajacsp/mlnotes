{
 "cells": [
  {
   "cell_type": "raw",
   "metadata": {},
   "source": [
    "---\n",
    "title: \"Web Analyzer Simple\"\n",
    "author: \"Rj\"\n",
    "date: 2019-04-20\n",
    "description: \"-\"\n",
    "type: technical_note\n",
    "draft: false\n",
    "---"
   ]
  },
  {
   "cell_type": "code",
   "execution_count": 2,
   "metadata": {},
   "outputs": [],
   "source": [
    "import webanalyzer"
   ]
  },
  {
   "cell_type": "code",
   "execution_count": 4,
   "metadata": {},
   "outputs": [
    {
     "name": "stdout",
     "output_type": "stream",
     "text": [
      "[{'name': 'Script', 'origin': 'whatweb'}, {'name': 'HTML5', 'origin': 'whatweb'}, {'name': 'Fastly', 'origin': 'wappalyzer'}, {'name': 'Varnish', 'origin': 'wappalyzer'}, {'name': 'GitHub Pages', 'origin': 'wappalyzer'}, {'name': 'Ruby on Rails', 'origin': 'implies'}, {'name': 'Ruby', 'origin': 'implies'}]\n"
     ]
    }
   ],
   "source": [
    "w = webanalyzer.WebAnalyzer()\n",
    "\n",
    "w.headers = {\n",
    "    \"User-Agent\": \"custom ua\",\n",
    "    \"header-key\": \"header-value\"\n",
    "}\n",
    "\n",
    "w.allow_redirect = True\n",
    "w.aggression = 0\n",
    "r = w.start(\"http://www.fatezero.org\")\n",
    "\n",
    "print(r)"
   ]
  }
 ],
 "metadata": {
  "kernelspec": {
   "display_name": "Python 3",
   "language": "python",
   "name": "python3"
  },
  "language_info": {
   "codemirror_mode": {
    "name": "ipython",
    "version": 3
   },
   "file_extension": ".py",
   "mimetype": "text/x-python",
   "name": "python",
   "nbconvert_exporter": "python",
   "pygments_lexer": "ipython3",
   "version": "3.6.8"
  }
 },
 "nbformat": 4,
 "nbformat_minor": 2
}

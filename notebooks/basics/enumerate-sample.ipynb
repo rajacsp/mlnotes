{
 "cells": [
  {
   "cell_type": "raw",
   "metadata": {},
   "source": [
    "---\n",
    "title: \"Enumerate\"\n",
    "author: \"Rj\"\n",
    "date: 2019-04-20\n",
    "description: \"List Test\"\n",
    "type: technical_note\n",
    "draft: false\n",
    "---"
   ]
  },
  {
   "cell_type": "code",
   "execution_count": 1,
   "metadata": {},
   "outputs": [],
   "source": [
    "data = ['Toronto', 'Montreal', 'Waterloo', 'Chennai', 'Bangalore', 123, ['One', 'Two', 'Three']]"
   ]
  },
  {
   "cell_type": "code",
   "execution_count": 2,
   "metadata": {},
   "outputs": [
    {
     "name": "stdout",
     "output_type": "stream",
     "text": [
      "(0, 'Toronto')\n",
      "(1, 'Montreal')\n",
      "(2, 'Waterloo')\n",
      "(3, 'Chennai')\n",
      "(4, 'Bangalore')\n",
      "(5, 123)\n",
      "(6, ['One', 'Two', 'Three'])\n"
     ]
    }
   ],
   "source": [
    "for x in enumerate(data):\n",
    "    print(x)"
   ]
  },
  {
   "cell_type": "code",
   "execution_count": 3,
   "metadata": {
    "scrolled": true
   },
   "outputs": [
    {
     "name": "stdout",
     "output_type": "stream",
     "text": [
      "0 ==> Toronto\n",
      "1 ==> Montreal\n",
      "2 ==> Waterloo\n",
      "3 ==> Chennai\n",
      "4 ==> Bangalore\n",
      "5 ==> 123\n",
      "6 ==> ['One', 'Two', 'Three']\n"
     ]
    }
   ],
   "source": [
    "for i, x in enumerate(data):\n",
    "    print(i, \"==>\", x)"
   ]
  },
  {
   "cell_type": "code",
   "execution_count": 4,
   "metadata": {},
   "outputs": [
    {
     "name": "stdout",
     "output_type": "stream",
     "text": [
      "200 ==> Toronto\n",
      "201 ==> Montreal\n",
      "202 ==> Waterloo\n",
      "203 ==> Chennai\n",
      "204 ==> Bangalore\n",
      "205 ==> 123\n",
      "206 ==> ['One', 'Two', 'Three']\n"
     ]
    }
   ],
   "source": [
    "# start the index from 200\n",
    "for i, x in enumerate(data, 200):\n",
    "    print(i, \"==>\", x)"
   ]
  },
  {
   "cell_type": "code",
   "execution_count": null,
   "metadata": {},
   "outputs": [],
   "source": []
  }
 ],
 "metadata": {
  "kernelspec": {
   "display_name": "Python 3",
   "language": "python",
   "name": "python3"
  },
  "language_info": {
   "codemirror_mode": {
    "name": "ipython",
    "version": 3
   },
   "file_extension": ".py",
   "mimetype": "text/x-python",
   "name": "python",
   "nbconvert_exporter": "python",
   "pygments_lexer": "ipython3",
   "version": "3.6.8"
  }
 },
 "nbformat": 4,
 "nbformat_minor": 2
}

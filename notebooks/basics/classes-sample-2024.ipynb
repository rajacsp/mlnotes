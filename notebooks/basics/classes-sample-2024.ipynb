{
 "cells": [
  {
   "cell_type": "code",
   "execution_count": 1,
   "id": "945f251f-d629-49a4-b4ce-4738051e76c5",
   "metadata": {},
   "outputs": [],
   "source": [
    "import os\n",
    "import urllib.parse\n",
    "from urllib.parse import urlparse\n",
    "\n",
    "class Client:\n",
    "    def __init__(self, base_url, http_client):\n",
    "        self.base_url = base_url\n",
    "        self.http_client = http_client\n",
    "\n",
    "\n",
    "def client_from_environment():\n",
    "    default_port = \"11434\"\n",
    "    ollama_host = os.getenv(\"OLLAMA_HOST\", \"\")\n",
    "\n",
    "    # Parse scheme and hostport\n",
    "    if \"://\" in ollama_host:\n",
    "        scheme, hostport = ollama_host.split(\"://\", 1)\n",
    "    else:\n",
    "        scheme, hostport = \"http\", ollama_host\n",
    "\n",
    "    # Adjust default port based on scheme\n",
    "    if scheme == \"http\":\n",
    "        default_port = \"80\"\n",
    "    elif scheme == \"https\":\n",
    "        default_port = \"443\"\n",
    "\n",
    "    # Trim trailing slashes\n",
    "    hostport = hostport.rstrip(\"/\")\n",
    "\n",
    "    # Parse host and port\n",
    "    try:\n",
    "        host, port = hostport.split(\":\", 1)\n",
    "    except ValueError:\n",
    "        host, port = hostport, default_port\n",
    "\n",
    "    # Handle cases where host is an IP address or hostname\n",
    "    if not host:\n",
    "        host = \"127.0.0.1\"\n",
    "    elif not port.isdigit():\n",
    "        port = default_port\n",
    "\n",
    "    # Construct base URL\n",
    "    base_url = f\"{scheme}://{host}:{port}\"\n",
    "\n",
    "    # Return Client instance\n",
    "    return Client(base_url=base_url, http_client=None)"
   ]
  },
  {
   "cell_type": "code",
   "execution_count": 2,
   "id": "f27db3c9-2805-4fc9-af03-0eb73d6046c4",
   "metadata": {},
   "outputs": [
    {
     "name": "stdout",
     "output_type": "stream",
     "text": [
      "Client created with base URL: http://localhost:8080\n"
     ]
    }
   ],
   "source": [
    "os.environ[\"OLLAMA_HOST\"] = \"http://localhost:8080\"  # Example setting\n",
    "client = client_from_environment()\n",
    "print(f\"Client created with base URL: {client.base_url}\")"
   ]
  },
  {
   "cell_type": "code",
   "execution_count": 3,
   "id": "08c2491a-e582-4aa3-8b78-f2abc5c86bd1",
   "metadata": {},
   "outputs": [
    {
     "name": "stdout",
     "output_type": "stream",
     "text": [
      "http://localhost:8080\n"
     ]
    }
   ],
   "source": [
    "!echo $OLLAMA_HOST"
   ]
  },
  {
   "cell_type": "code",
   "execution_count": null,
   "id": "84be9829-d282-47b4-ae0c-eca814597735",
   "metadata": {},
   "outputs": [],
   "source": []
  }
 ],
 "metadata": {
  "kernelspec": {
   "display_name": "Python 3 (ipykernel)",
   "language": "python",
   "name": "python3"
  },
  "language_info": {
   "codemirror_mode": {
    "name": "ipython",
    "version": 3
   },
   "file_extension": ".py",
   "mimetype": "text/x-python",
   "name": "python",
   "nbconvert_exporter": "python",
   "pygments_lexer": "ipython3",
   "version": "3.12.4"
  }
 },
 "nbformat": 4,
 "nbformat_minor": 5
}

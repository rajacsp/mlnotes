{
 "cells": [
  {
   "cell_type": "raw",
   "metadata": {},
   "source": [
    "---\n",
    "title: \"Simple Entropy\"\n",
    "author: \"Rj\"\n",
    "date: 2019-04-20\n",
    "description: \"-\"\n",
    "type: technical_note\n",
    "draft: false\n",
    "---"
   ]
  },
  {
   "cell_type": "code",
   "execution_count": 23,
   "metadata": {},
   "outputs": [],
   "source": [
    "import math\n",
    "from collections import Counter\n",
    "import timeit\n",
    "import numpy as np"
   ]
  },
  {
   "cell_type": "code",
   "execution_count": 24,
   "metadata": {},
   "outputs": [],
   "source": [
    "def eta(data, unit='natural'):\n",
    "    base = {\n",
    "        'shannon' : 2.,\n",
    "        'natural' : math.exp(1),\n",
    "        'hartley' : 10.\n",
    "    }\n",
    "\n",
    "    if len(data) <= 1:\n",
    "        return 0\n",
    "\n",
    "    counts = Counter()\n",
    "\n",
    "    for d in data:\n",
    "        counts[d] += 1\n",
    "\n",
    "    ent = 0\n",
    "\n",
    "    probs = [float(c) / len(data) for c in counts.values()]\n",
    "    for p in probs:\n",
    "        if p > 0.:\n",
    "            ent -= p * math.log(p, base[unit])\n",
    "\n",
    "    return ent"
   ]
  },
  {
   "cell_type": "code",
   "execution_count": 25,
   "metadata": {},
   "outputs": [
    {
     "data": {
      "text/plain": [
       "1.6094379124341005"
      ]
     },
     "execution_count": 25,
     "metadata": {},
     "output_type": "execute_result"
    }
   ],
   "source": [
    "eta(['Canada', 'is', 'the', 'sweetest', 'country'])"
   ]
  },
  {
   "cell_type": "code",
   "execution_count": 28,
   "metadata": {},
   "outputs": [],
   "source": [
    "repeat_number = 1000\n",
    "e = timeit.repeat(\n",
    "    stmt='''eta(labels)''', \n",
    "    setup='''labels=[1,3,5,2,3,5,3,2,1,3,4,5];from __main__ import eta''', \n",
    "    repeat=3, \n",
    "    number=repeat_number)"
   ]
  },
  {
   "cell_type": "code",
   "execution_count": 29,
   "metadata": {},
   "outputs": [
    {
     "name": "stdout",
     "output_type": "stream",
     "text": [
      "Method: eta, Avg.: 0.010078\n"
     ]
    }
   ],
   "source": [
    "print('Method: {}, Avg.: {:.6f}'.format(\"eta\", np.array(e).mean()))"
   ]
  }
 ],
 "metadata": {
  "kernelspec": {
   "display_name": "Python 3",
   "language": "python",
   "name": "python3"
  },
  "language_info": {
   "codemirror_mode": {
    "name": "ipython",
    "version": 3
   },
   "file_extension": ".py",
   "mimetype": "text/x-python",
   "name": "python",
   "nbconvert_exporter": "python",
   "pygments_lexer": "ipython3",
   "version": "3.6.8"
  }
 },
 "nbformat": 4,
 "nbformat_minor": 2
}

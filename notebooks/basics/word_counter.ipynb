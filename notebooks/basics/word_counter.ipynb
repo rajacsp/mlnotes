{
 "cells": [
  {
   "cell_type": "raw",
   "metadata": {},
   "source": [
    "---\n",
    "title: \"Word Counter\"\n",
    "author: \"Rj\"\n",
    "date: 2019-04-20\n",
    "description: \"List Test\"\n",
    "type: technical_note\n",
    "draft: false\n",
    "---"
   ]
  },
  {
   "cell_type": "code",
   "execution_count": 1,
   "metadata": {},
   "outputs": [],
   "source": [
    "from collections import defaultdict\n",
    "import re"
   ]
  },
  {
   "cell_type": "code",
   "execution_count": 2,
   "metadata": {},
   "outputs": [],
   "source": [
    "content = \"\"\"You know U make me wanna\n",
    "You know U make me wanna\n",
    "To start it off, I know you know me\n",
    "To come to think of it, it was only last week\n",
    "That I had a dream about us, oh oh\n",
    "That's why I am here, I'm writin' this song\n",
    "To tell the truth you know I have been hurtin' all along\n",
    "Someway let me know, you want me girl\n",
    "Every time you see me what do you see?\n",
    "I feel like I'm a poor man and you're the queen\n",
    "Oh baby, you're the only thing that I really need\n",
    "Baby that's why\n",
    "U make me wanna call you in the middle of the night\n",
    "U make me wanna hold you till the mornin' light\n",
    "U make me wanna love, U make me wanna fall\n",
    "U make me wanna surrender my soul\n",
    "\"\"\""
   ]
  },
  {
   "cell_type": "code",
   "execution_count": 3,
   "metadata": {},
   "outputs": [
    {
     "data": {
      "text/plain": [
       "\"You know U make me wanna\\nYou know U make me wanna\\nTo start it off, I know you know me\\nTo come to think of it, it was only last week\\nThat I had a dream about us, oh oh\\nThat's why I am here, I'm writin' this song\\nTo tell the truth you know I have been hurtin' all along\\nSomeway let me know, you want me girl\\nEvery time you see me what do you see?\\nI feel like I'm a poor man and you're the queen\\nOh baby, you're the only thing that I really need\\nBaby that's why\\nU make me wanna call you in the middle of the night\\nU make me wanna hold you till the mornin' light\\nU make me wanna love, U make me wanna fall\\nU make me wanna surrender my soul\\n\""
      ]
     },
     "execution_count": 3,
     "metadata": {},
     "output_type": "execute_result"
    }
   ],
   "source": [
    "content"
   ]
  },
  {
   "cell_type": "code",
   "execution_count": 4,
   "metadata": {},
   "outputs": [],
   "source": [
    "word_counter = defaultdict(int)"
   ]
  },
  {
   "cell_type": "code",
   "execution_count": 5,
   "metadata": {},
   "outputs": [
    {
     "data": {
      "text/plain": [
       "defaultdict(int, {})"
      ]
     },
     "execution_count": 5,
     "metadata": {},
     "output_type": "execute_result"
    }
   ],
   "source": [
    "word_counter"
   ]
  },
  {
   "cell_type": "code",
   "execution_count": 6,
   "metadata": {},
   "outputs": [],
   "source": [
    "contents = re.findall(r\"[\\w']+\", content)"
   ]
  },
  {
   "cell_type": "code",
   "execution_count": 7,
   "metadata": {},
   "outputs": [],
   "source": [
    "for c in contents:\n",
    "    word_counter[c] += 1"
   ]
  },
  {
   "cell_type": "code",
   "execution_count": 8,
   "metadata": {},
   "outputs": [
    {
     "data": {
      "text/plain": [
       "defaultdict(int,\n",
       "            {'Baby': 1,\n",
       "             'Every': 1,\n",
       "             'I': 6,\n",
       "             \"I'm\": 2,\n",
       "             'Oh': 1,\n",
       "             'Someway': 1,\n",
       "             'That': 1,\n",
       "             \"That's\": 1,\n",
       "             'To': 3,\n",
       "             'U': 7,\n",
       "             'You': 2,\n",
       "             'a': 2,\n",
       "             'about': 1,\n",
       "             'all': 1,\n",
       "             'along': 1,\n",
       "             'am': 1,\n",
       "             'and': 1,\n",
       "             'baby': 1,\n",
       "             'been': 1,\n",
       "             'call': 1,\n",
       "             'come': 1,\n",
       "             'do': 1,\n",
       "             'dream': 1,\n",
       "             'fall': 1,\n",
       "             'feel': 1,\n",
       "             'girl': 1,\n",
       "             'had': 1,\n",
       "             'have': 1,\n",
       "             'here': 1,\n",
       "             'hold': 1,\n",
       "             \"hurtin'\": 1,\n",
       "             'in': 1,\n",
       "             'it': 3,\n",
       "             'know': 6,\n",
       "             'last': 1,\n",
       "             'let': 1,\n",
       "             'light': 1,\n",
       "             'like': 1,\n",
       "             'love': 1,\n",
       "             'make': 7,\n",
       "             'man': 1,\n",
       "             'me': 11,\n",
       "             'middle': 1,\n",
       "             \"mornin'\": 1,\n",
       "             'my': 1,\n",
       "             'need': 1,\n",
       "             'night': 1,\n",
       "             'of': 2,\n",
       "             'off': 1,\n",
       "             'oh': 2,\n",
       "             'only': 2,\n",
       "             'poor': 1,\n",
       "             'queen': 1,\n",
       "             'really': 1,\n",
       "             'see': 2,\n",
       "             'song': 1,\n",
       "             'soul': 1,\n",
       "             'start': 1,\n",
       "             'surrender': 1,\n",
       "             'tell': 1,\n",
       "             'that': 1,\n",
       "             \"that's\": 1,\n",
       "             'the': 6,\n",
       "             'thing': 1,\n",
       "             'think': 1,\n",
       "             'this': 1,\n",
       "             'till': 1,\n",
       "             'time': 1,\n",
       "             'to': 1,\n",
       "             'truth': 1,\n",
       "             'us': 1,\n",
       "             'wanna': 7,\n",
       "             'want': 1,\n",
       "             'was': 1,\n",
       "             'week': 1,\n",
       "             'what': 1,\n",
       "             'why': 2,\n",
       "             \"writin'\": 1,\n",
       "             'you': 7,\n",
       "             \"you're\": 2})"
      ]
     },
     "execution_count": 8,
     "metadata": {},
     "output_type": "execute_result"
    }
   ],
   "source": [
    "word_counter"
   ]
  },
  {
   "cell_type": "code",
   "execution_count": 9,
   "metadata": {},
   "outputs": [],
   "source": [
    "multiple_counter = {}\n",
    "\n",
    "for k, v in word_counter.items():\n",
    "    if(word_counter[k] > 1):\n",
    "        multiple_counter[k] = v"
   ]
  },
  {
   "cell_type": "code",
   "execution_count": 10,
   "metadata": {},
   "outputs": [
    {
     "data": {
      "text/plain": [
       "{'I': 6,\n",
       " \"I'm\": 2,\n",
       " 'To': 3,\n",
       " 'U': 7,\n",
       " 'You': 2,\n",
       " 'a': 2,\n",
       " 'it': 3,\n",
       " 'know': 6,\n",
       " 'make': 7,\n",
       " 'me': 11,\n",
       " 'of': 2,\n",
       " 'oh': 2,\n",
       " 'only': 2,\n",
       " 'see': 2,\n",
       " 'the': 6,\n",
       " 'wanna': 7,\n",
       " 'why': 2,\n",
       " 'you': 7,\n",
       " \"you're\": 2}"
      ]
     },
     "execution_count": 10,
     "metadata": {},
     "output_type": "execute_result"
    }
   ],
   "source": [
    "multiple_counter"
   ]
  },
  {
   "cell_type": "code",
   "execution_count": 11,
   "metadata": {},
   "outputs": [],
   "source": [
    "mc = sorted(multiple_counter.items(), key=lambda x: x[1], reverse=True)"
   ]
  },
  {
   "cell_type": "code",
   "execution_count": 12,
   "metadata": {},
   "outputs": [
    {
     "data": {
      "text/plain": [
       "[('me', 11),\n",
       " ('U', 7),\n",
       " ('make', 7),\n",
       " ('wanna', 7),\n",
       " ('you', 7),\n",
       " ('know', 6),\n",
       " ('I', 6),\n",
       " ('the', 6),\n",
       " ('To', 3),\n",
       " ('it', 3),\n",
       " ('You', 2),\n",
       " ('of', 2),\n",
       " ('only', 2),\n",
       " ('a', 2),\n",
       " ('oh', 2),\n",
       " ('why', 2),\n",
       " (\"I'm\", 2),\n",
       " ('see', 2),\n",
       " (\"you're\", 2)]"
      ]
     },
     "execution_count": 12,
     "metadata": {},
     "output_type": "execute_result"
    }
   ],
   "source": [
    "mc"
   ]
  },
  {
   "cell_type": "code",
   "execution_count": 13,
   "metadata": {},
   "outputs": [
    {
     "name": "stdout",
     "output_type": "stream",
     "text": [
      "me ==> 11\n",
      "U ==> 7\n",
      "make ==> 7\n",
      "wanna ==> 7\n",
      "you ==> 7\n",
      "know ==> 6\n",
      "I ==> 6\n",
      "the ==> 6\n",
      "To ==> 3\n",
      "it ==> 3\n",
      "You ==> 2\n",
      "of ==> 2\n",
      "only ==> 2\n",
      "a ==> 2\n",
      "oh ==> 2\n",
      "why ==> 2\n",
      "I'm ==> 2\n",
      "see ==> 2\n",
      "you're ==> 2\n"
     ]
    }
   ],
   "source": [
    "for x in mc:\n",
    "    print(x[0], \"==>\", x[1])"
   ]
  },
  {
   "cell_type": "code",
   "execution_count": null,
   "metadata": {},
   "outputs": [],
   "source": []
  }
 ],
 "metadata": {
  "kernelspec": {
   "display_name": "Python 3",
   "language": "python",
   "name": "python3"
  },
  "language_info": {
   "codemirror_mode": {
    "name": "ipython",
    "version": 3
   },
   "file_extension": ".py",
   "mimetype": "text/x-python",
   "name": "python",
   "nbconvert_exporter": "python",
   "pygments_lexer": "ipython3",
   "version": "3.6.8"
  }
 },
 "nbformat": 4,
 "nbformat_minor": 2
}

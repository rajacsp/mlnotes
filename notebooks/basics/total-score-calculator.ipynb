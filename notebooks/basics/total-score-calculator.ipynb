{
 "cells": [
  {
   "cell_type": "code",
   "execution_count": null,
   "id": "37d2815c-853c-4620-bb6c-29caba1823a1",
   "metadata": {},
   "outputs": [],
   "source": []
  },
  {
   "cell_type": "code",
   "execution_count": 9,
   "id": "2b90231d-9a0d-413d-bfd1-f01b2249384b",
   "metadata": {},
   "outputs": [],
   "source": [
    "import random"
   ]
  },
  {
   "cell_type": "code",
   "execution_count": 10,
   "id": "36acb99d-ebc5-4373-885e-0274766a6c36",
   "metadata": {},
   "outputs": [
    {
     "name": "stdout",
     "output_type": "stream",
     "text": [
      "ball 0, current score: 3\n",
      "ball 1, current score: 0\n",
      "ball 2, current score: 5\n",
      "ball 3, current score: 1\n",
      "ball 4, current score: 5\n",
      "ball 5, current score: 3\n"
     ]
    }
   ],
   "source": [
    "total_score_list = []\n",
    "for i in range(6):\n",
    "\n",
    "    current_score = random.randint(0, 6)\n",
    "\n",
    "    print(f'ball {i}, current score: {current_score}')\n",
    "    total_score_list.append(current_score)"
   ]
  },
  {
   "cell_type": "code",
   "execution_count": 11,
   "id": "3b2f7fd3-0a41-4178-abd7-0c94215c1b3e",
   "metadata": {},
   "outputs": [
    {
     "data": {
      "text/plain": [
       "[3, 0, 5, 1, 5, 3]"
      ]
     },
     "execution_count": 11,
     "metadata": {},
     "output_type": "execute_result"
    }
   ],
   "source": [
    "total_score_list"
   ]
  },
  {
   "cell_type": "code",
   "execution_count": 12,
   "id": "ca790a07-53f5-4d9e-976f-f161cbf170bc",
   "metadata": {},
   "outputs": [
    {
     "name": "stdout",
     "output_type": "stream",
     "text": [
      "ball 0, current score: 4\n",
      "ball 1, current score: 6\n",
      "ball 2, current score: 1\n",
      "ball 3, current score: 5\n",
      "ball 4, current score: 6\n",
      "ball 5, current score: 5\n"
     ]
    }
   ],
   "source": [
    "total_score_int = 0\n",
    "for i in range(6):\n",
    "\n",
    "    current_score = random.randint(0, 6)\n",
    "\n",
    "    print(f'ball {i}, current score: {current_score}')\n",
    "    total_score_int += current_score"
   ]
  },
  {
   "cell_type": "code",
   "execution_count": 13,
   "id": "bab9d2b5-4f39-438e-9fc0-01834a95bbbd",
   "metadata": {},
   "outputs": [
    {
     "data": {
      "text/plain": [
       "27"
      ]
     },
     "execution_count": 13,
     "metadata": {},
     "output_type": "execute_result"
    }
   ],
   "source": [
    "total_score_int"
   ]
  },
  {
   "cell_type": "code",
   "execution_count": null,
   "id": "5cc15aed-a8e6-404c-8056-9ac19b3cbd77",
   "metadata": {},
   "outputs": [],
   "source": []
  }
 ],
 "metadata": {
  "kernelspec": {
   "display_name": "Python 3 (ipykernel)",
   "language": "python",
   "name": "python3"
  },
  "language_info": {
   "codemirror_mode": {
    "name": "ipython",
    "version": 3
   },
   "file_extension": ".py",
   "mimetype": "text/x-python",
   "name": "python",
   "nbconvert_exporter": "python",
   "pygments_lexer": "ipython3",
   "version": "3.12.7"
  }
 },
 "nbformat": 4,
 "nbformat_minor": 5
}

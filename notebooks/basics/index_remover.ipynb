{
 "cells": [
  {
   "cell_type": "code",
   "execution_count": null,
   "id": "22859d46-f0a5-4a20-9f54-0f45864d25b4",
   "metadata": {},
   "outputs": [],
   "source": []
  },
  {
   "cell_type": "code",
   "execution_count": 1,
   "id": "1b324352-d580-430f-9ee3-0094013d5005",
   "metadata": {},
   "outputs": [
    {
     "data": {
      "text/plain": [
       "'\\ninput sample:\\n17. random text1\\n18. random text2\\n\\noutput:\\n17, random text1\\n18, random text2\\n'"
      ]
     },
     "execution_count": 1,
     "metadata": {},
     "output_type": "execute_result"
    }
   ],
   "source": [
    "\"\"\"\n",
    "input sample:\n",
    "17. random text1\n",
    "18. random text2\n",
    "\n",
    "output:\n",
    "17, random text1\n",
    "18, random text2\n",
    "\"\"\""
   ]
  },
  {
   "cell_type": "code",
   "execution_count": 2,
   "id": "7341a840-030d-47a4-819c-7e5fefa91e62",
   "metadata": {},
   "outputs": [
    {
     "name": "stdout",
     "output_type": "stream",
     "text": [
      "17, random text1\n",
      "18, random text2\n"
     ]
    }
   ],
   "source": [
    "input_sample = \"\"\"\n",
    "17. random text1\n",
    "18. random text2\n",
    "\"\"\"\n",
    "\n",
    "# Process the input sample\n",
    "output = []\n",
    "for line in input_sample.strip().split(\"\\n\"):\n",
    "    number, text = line.split(\". \", 1)  # Split by the first occurrence of \". \"\n",
    "    output.append(f\"{number}, {text}\")\n",
    "\n",
    "# Combine the processed lines\n",
    "result = \"\\n\".join(output)\n",
    "print(result)"
   ]
  },
  {
   "cell_type": "code",
   "execution_count": 3,
   "id": "f6de941f-7348-48ab-a7ae-383fb8c3b9a2",
   "metadata": {},
   "outputs": [],
   "source": [
    "def separate_index(line):\n",
    "\n",
    "    if \"\"\n",
    "\n",
    "    number, text = line.split(\". \", 1) \n",
    "\n",
    "    return number, text"
   ]
  },
  {
   "cell_type": "code",
   "execution_count": 4,
   "id": "d7299220-bb39-4ec3-9a2d-e42cf64e5dfc",
   "metadata": {},
   "outputs": [
    {
     "data": {
      "text/plain": [
       "('18', 'random text2')"
      ]
     },
     "execution_count": 4,
     "metadata": {},
     "output_type": "execute_result"
    }
   ],
   "source": [
    "separate_index(\"18. random text2\")"
   ]
  },
  {
   "cell_type": "code",
   "execution_count": 5,
   "id": "c358f5f0-aadb-4e31-81c6-a6bc9ded55f2",
   "metadata": {},
   "outputs": [
    {
     "ename": "ValueError",
     "evalue": "not enough values to unpack (expected 2, got 1)",
     "output_type": "error",
     "traceback": [
      "\u001b[0;31m---------------------------------------------------------------------------\u001b[0m",
      "\u001b[0;31mValueError\u001b[0m                                Traceback (most recent call last)",
      "Cell \u001b[0;32mIn[5], line 1\u001b[0m\n\u001b[0;32m----> 1\u001b[0m \u001b[43mseparate_index\u001b[49m\u001b[43m(\u001b[49m\u001b[38;5;124;43m\"\u001b[39;49m\u001b[38;5;124;43mrandom text2\u001b[39;49m\u001b[38;5;124;43m\"\u001b[39;49m\u001b[43m)\u001b[49m\n",
      "Cell \u001b[0;32mIn[3], line 3\u001b[0m, in \u001b[0;36mseparate_index\u001b[0;34m(line)\u001b[0m\n\u001b[1;32m      1\u001b[0m \u001b[38;5;28;01mdef\u001b[39;00m \u001b[38;5;21mseparate_index\u001b[39m(line):\n\u001b[0;32m----> 3\u001b[0m     number, text \u001b[38;5;241m=\u001b[39m line\u001b[38;5;241m.\u001b[39msplit(\u001b[38;5;124m\"\u001b[39m\u001b[38;5;124m. \u001b[39m\u001b[38;5;124m\"\u001b[39m, \u001b[38;5;241m1\u001b[39m) \n\u001b[1;32m      5\u001b[0m     \u001b[38;5;28;01mreturn\u001b[39;00m number, text\n",
      "\u001b[0;31mValueError\u001b[0m: not enough values to unpack (expected 2, got 1)"
     ]
    }
   ],
   "source": [
    "separate_index(\"random text2\")"
   ]
  },
  {
   "cell_type": "code",
   "execution_count": null,
   "id": "7ba015f4-a2e8-48be-9256-314c5c60e697",
   "metadata": {},
   "outputs": [],
   "source": []
  }
 ],
 "metadata": {
  "kernelspec": {
   "display_name": "Python 3 (ipykernel)",
   "language": "python",
   "name": "python3"
  },
  "language_info": {
   "codemirror_mode": {
    "name": "ipython",
    "version": 3
   },
   "file_extension": ".py",
   "mimetype": "text/x-python",
   "name": "python",
   "nbconvert_exporter": "python",
   "pygments_lexer": "ipython3",
   "version": "3.11.10"
  }
 },
 "nbformat": 4,
 "nbformat_minor": 5
}

{
 "cells": [
  {
   "cell_type": "code",
   "execution_count": null,
   "id": "e18e49f1-0b17-4daa-8941-e932aed62122",
   "metadata": {},
   "outputs": [],
   "source": []
  },
  {
   "cell_type": "code",
   "execution_count": 2,
   "id": "002209c8-d70c-4dcf-af12-720ffd0e7764",
   "metadata": {},
   "outputs": [],
   "source": [
    "UNDERSCORE = \"_\""
   ]
  },
  {
   "cell_type": "code",
   "execution_count": 3,
   "id": "757a53a3-b233-4d3b-945b-b425fc3cb416",
   "metadata": {},
   "outputs": [],
   "source": [
    "feature_value_map_for_score = {\n",
    "  \"system_businessname_overlapLevenshtein\": 0.5,\n",
    "  \"system_address_overlapLevenshtein\": 1.0,\n",
    "  \"system_streetname_overlapLevenshtein\": 1.0,\n",
    "  \"system_city_overlapLevenshtein\": 1.0,\n",
    "  \"system_zipcode_overlapLevenshtein\": 1.0,\n",
    "  \"system_businessname_sorensen\": 0.56,\n",
    "  \"system_address_sorensen\": 1.0,\n",
    "  \"system_streetname_sorensen\": 1.0,\n",
    "  \"system_city_sorensen\": 1.0,\n",
    "  \"system_region_sorensen\": 1.0,\n",
    "  \"system_houseno_exactMatch\": 1.0,\n",
    "  \"system_zipcode_ratcliff\": 1.0,\n",
    "  \"system_suiteno_exactMatch\": 1.0\n",
    "}"
   ]
  },
  {
   "cell_type": "code",
   "execution_count": 7,
   "id": "48f6b6be-cbcd-4bfd-b28d-32b9523c6657",
   "metadata": {},
   "outputs": [],
   "source": [
    "individual_algo_feature_score_map = {\n",
    "  \"system_businessname\": {\n",
    "    \"system_businessname_overlapLevenshtein\": 0.5,\n",
    "    \"system_businessname_sorensen\": 0.56\n",
    "  },\n",
    "  \"system_address\": {\n",
    "    \"system_address_overlapLevenshtein\": 1.0,\n",
    "    \"system_address_sorensen\": 1.0\n",
    "  },\n",
    "  \"system_streetname\": {\n",
    "    \"system_streetname_overlapLevenshtein\": 1.0,\n",
    "    \"system_streetname_sorensen\": 1.0\n",
    "  },\n",
    "  \"system_city\": {\n",
    "    \"system_city_overlapLevenshtein\": 1.0,\n",
    "    \"system_city_sorensen\": 1.0\n",
    "  },\n",
    "  \"system_zipcode\": {\n",
    "    \"system_zipcode_overlapLevenshtein\": 1.0,\n",
    "    \"system_zipcode_ratcliff\": 1.0\n",
    "  },\n",
    "  \"system_region\": {\n",
    "    \"system_region_sorensen\": 1.0\n",
    "  },\n",
    "  \"system_houseno\": {\n",
    "    \"system_houseno_exactMatch\": 1.0\n",
    "  }\n",
    "}"
   ]
  },
  {
   "cell_type": "code",
   "execution_count": 10,
   "id": "b30376b5-c00a-40ce-a5de-a70922ff8ae4",
   "metadata": {},
   "outputs": [
    {
     "name": "stdout",
     "output_type": "stream",
     "text": [
      "system_businessname avaible, no impute needed\n",
      "system_address avaible, no impute needed\n",
      "system_streetname avaible, no impute needed\n",
      "system_city avaible, no impute needed\n",
      "system_zipcode avaible, no impute needed\n",
      "system_businessname avaible, no impute needed\n",
      "system_address avaible, no impute needed\n",
      "system_streetname avaible, no impute needed\n",
      "system_city avaible, no impute needed\n",
      "system_region avaible, no impute needed\n",
      "system_houseno avaible, no impute needed\n",
      "system_zipcode avaible, no impute needed\n",
      "system_suiteno not avaible, impute needed\n"
     ]
    }
   ],
   "source": [
    "for key, value in feature_value_map_for_score.items():\n",
    "    feature_prefix = UNDERSCORE.join(key.split(UNDERSCORE)[:-1])\n",
    "    # print(feature_prefix)\n",
    "\n",
    "    if feature_prefix in individual_algo_feature_score_map.keys():\n",
    "        print(f'{feature_prefix} avaible, no impute needed')\n",
    "    else:\n",
    "        print(f'{feature_prefix} not avaible, impute needed')"
   ]
  },
  {
   "cell_type": "code",
   "execution_count": 6,
   "id": "966a242d-fb05-4e9f-8491-2a4acecb5f26",
   "metadata": {},
   "outputs": [],
   "source": []
  },
  {
   "cell_type": "code",
   "execution_count": null,
   "id": "ccd9fc50-1f4c-4c26-95cf-34d9dd396821",
   "metadata": {},
   "outputs": [],
   "source": []
  }
 ],
 "metadata": {
  "kernelspec": {
   "display_name": "Python 3 (ipykernel)",
   "language": "python",
   "name": "python3"
  },
  "language_info": {
   "codemirror_mode": {
    "name": "ipython",
    "version": 3
   },
   "file_extension": ".py",
   "mimetype": "text/x-python",
   "name": "python",
   "nbconvert_exporter": "python",
   "pygments_lexer": "ipython3",
   "version": "3.12.7"
  }
 },
 "nbformat": 4,
 "nbformat_minor": 5
}

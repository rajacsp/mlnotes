{
 "cells": [
  {
   "cell_type": "code",
   "execution_count": null,
   "id": "e18e49f1-0b17-4daa-8941-e932aed62122",
   "metadata": {},
   "outputs": [],
   "source": []
  },
  {
   "cell_type": "code",
   "execution_count": null,
   "id": "002209c8-d70c-4dcf-af12-720ffd0e7764",
   "metadata": {},
   "outputs": [],
   "source": [
    "UNDERSCORE = \"_\""
   ]
  },
  {
   "cell_type": "code",
   "execution_count": null,
   "id": "966a242d-fb05-4e9f-8491-2a4acecb5f26",
   "metadata": {},
   "outputs": [],
   "source": [
    "UNDERSCORE.join(key.split(constants.UNDERSCORE)[:-1])"
   ]
  }
 ],
 "metadata": {
  "kernelspec": {
   "display_name": "Python 3 (ipykernel)",
   "language": "python",
   "name": "python3"
  },
  "language_info": {
   "codemirror_mode": {
    "name": "ipython",
    "version": 3
   },
   "file_extension": ".py",
   "mimetype": "text/x-python",
   "name": "python",
   "nbconvert_exporter": "python",
   "pygments_lexer": "ipython3",
   "version": "3.12.7"
  }
 },
 "nbformat": 4,
 "nbformat_minor": 5
}

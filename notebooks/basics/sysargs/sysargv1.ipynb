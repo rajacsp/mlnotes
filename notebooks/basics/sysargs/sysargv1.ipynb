{
 "cells": [
  {
   "cell_type": "code",
   "execution_count": null,
   "id": "eeb6fa78-49ad-41a6-82d6-bc259c98843a",
   "metadata": {},
   "outputs": [],
   "source": []
  },
  {
   "cell_type": "code",
   "execution_count": 1,
   "id": "56d0439b-4793-47d4-849f-e165b298e62b",
   "metadata": {},
   "outputs": [],
   "source": [
    "import sys"
   ]
  },
  {
   "cell_type": "code",
   "execution_count": 2,
   "id": "d96d253f-1431-4d57-8187-eea9f9ec4a40",
   "metadata": {},
   "outputs": [],
   "source": [
    "# Simulate command-line arguments\n",
    "sys.argv = ['notebook_name', 'arg1', 'arg2', 'arg3']"
   ]
  },
  {
   "cell_type": "code",
   "execution_count": 3,
   "id": "83a0efc2-1140-475b-ae42-0654e6059ae1",
   "metadata": {},
   "outputs": [
    {
     "name": "stdout",
     "output_type": "stream",
     "text": [
      "Script name: notebook_name\n",
      "First argument: arg1\n",
      "Second argument: arg2\n",
      "Third argument: arg3\n"
     ]
    }
   ],
   "source": [
    "# Access the arguments\n",
    "print(f\"Script name: {sys.argv[0]}\")  # Usually the script name\n",
    "print(f\"First argument: {sys.argv[1]}\")\n",
    "print(f\"Second argument: {sys.argv[2]}\")\n",
    "print(f\"Third argument: {sys.argv[3]}\")"
   ]
  },
  {
   "cell_type": "code",
   "execution_count": null,
   "id": "81de09f9-e743-4aaf-bc0c-564424a30deb",
   "metadata": {},
   "outputs": [],
   "source": []
  }
 ],
 "metadata": {
  "kernelspec": {
   "display_name": "Python 3 (ipykernel)",
   "language": "python",
   "name": "python3"
  },
  "language_info": {
   "codemirror_mode": {
    "name": "ipython",
    "version": 3
   },
   "file_extension": ".py",
   "mimetype": "text/x-python",
   "name": "python",
   "nbconvert_exporter": "python",
   "pygments_lexer": "ipython3",
   "version": "3.12.4"
  }
 },
 "nbformat": 4,
 "nbformat_minor": 5
}

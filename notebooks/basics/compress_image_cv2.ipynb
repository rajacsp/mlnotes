{
 "cells": [
  {
   "cell_type": "raw",
   "metadata": {},
   "source": [
    "---\n",
    "title: \"Compress Image CV2\"\n",
    "author: \"Rj\"\n",
    "date: 2019-04-20\n",
    "description: \"List Test\"\n",
    "type: technical_note\n",
    "draft: false\n",
    "---"
   ]
  },
  {
   "cell_type": "code",
   "execution_count": 1,
   "metadata": {},
   "outputs": [],
   "source": [
    "from PIL import Image\n",
    "import cv2"
   ]
  },
  {
   "cell_type": "code",
   "execution_count": 2,
   "metadata": {},
   "outputs": [
    {
     "data": {
      "text/plain": [
       "True"
      ]
     },
     "execution_count": 2,
     "metadata": {},
     "output_type": "execute_result"
    }
   ],
   "source": [
    "# Open the image\n",
    "img = cv2.imread('/Users/rajacsp/datasets/barcode_images/orange.jpg')\n",
    "\n",
    "\n",
    "# save image with lower compression—bigger file size but faster decoding\n",
    "#cv2.imwrite('/Users/str-kwml0011/datasets/random_images/tv.jpg', img, [cv2.IMWRITE_PNG_COMPRESSION, 0])\n",
    "\n",
    "# check that image saved and loaded again image is the same as original one\n",
    "#saved_img = cv2.imread(params.out_png)\n",
    "#assert saved_img.all() == img.all()\n",
    "\n",
    "# save image with lower quality—smaller file size\n",
    "cv2.imwrite('/Users/rajacsp/datasets/barcode_images/orange_1.jpg', img, [cv2.IMWRITE_JPEG_QUALITY, 0])"
   ]
  },
  {
   "cell_type": "code",
   "execution_count": null,
   "metadata": {},
   "outputs": [],
   "source": []
  }
 ],
 "metadata": {
  "kernelspec": {
   "display_name": "Python 3",
   "language": "python",
   "name": "python3"
  },
  "language_info": {
   "codemirror_mode": {
    "name": "ipython",
    "version": 3
   },
   "file_extension": ".py",
   "mimetype": "text/x-python",
   "name": "python",
   "nbconvert_exporter": "python",
   "pygments_lexer": "ipython3",
   "version": "3.6.8"
  }
 },
 "nbformat": 4,
 "nbformat_minor": 2
}

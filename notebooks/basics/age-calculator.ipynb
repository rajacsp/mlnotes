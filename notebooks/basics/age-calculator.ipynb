{
 "cells": [
  {
   "cell_type": "code",
   "execution_count": 1,
   "id": "d3a0ad6e-d750-4693-a72e-8dbc9cd4155f",
   "metadata": {},
   "outputs": [],
   "source": [
    "from datetime import datetime"
   ]
  },
  {
   "cell_type": "code",
   "execution_count": 2,
   "id": "cf260179-e8a8-4f19-87cd-f21a9c6d43a2",
   "metadata": {},
   "outputs": [],
   "source": [
    "def get_age(d):\n",
    "    d1 = datetime.now()\n",
    "    months = (d1.year - d.year) * 12 + d1.month - d.month\n",
    "\n",
    "    year = int(months / 12)\n",
    "    return year"
   ]
  },
  {
   "cell_type": "code",
   "execution_count": 3,
   "id": "db2aca8b-2573-4ba4-8521-63fe8ff1ffc4",
   "metadata": {},
   "outputs": [],
   "source": [
    "age = get_age(datetime(1991, 1, 1))"
   ]
  },
  {
   "cell_type": "code",
   "execution_count": 4,
   "id": "8f080b7f-74e7-4a0e-8034-b332499e7c1b",
   "metadata": {},
   "outputs": [
    {
     "data": {
      "text/plain": [
       "33"
      ]
     },
     "execution_count": 4,
     "metadata": {},
     "output_type": "execute_result"
    }
   ],
   "source": [
    "age"
   ]
  },
  {
   "cell_type": "code",
   "execution_count": null,
   "id": "5d90c075-5373-46b7-97b1-b5f182f6e0fd",
   "metadata": {},
   "outputs": [],
   "source": []
  }
 ],
 "metadata": {
  "kernelspec": {
   "display_name": "Python 3 (ipykernel)",
   "language": "python",
   "name": "python3"
  },
  "language_info": {
   "codemirror_mode": {
    "name": "ipython",
    "version": 3
   },
   "file_extension": ".py",
   "mimetype": "text/x-python",
   "name": "python",
   "nbconvert_exporter": "python",
   "pygments_lexer": "ipython3",
   "version": "3.12.4"
  }
 },
 "nbformat": 4,
 "nbformat_minor": 5
}

{
 "cells": [
  {
   "cell_type": "code",
   "execution_count": null,
   "id": "0b043454-de8d-40c5-b368-f58f11a9bdf9",
   "metadata": {},
   "outputs": [],
   "source": []
  },
  {
   "cell_type": "code",
   "execution_count": 1,
   "id": "b75df036-3e29-48d1-98a1-40b65df7afe1",
   "metadata": {},
   "outputs": [],
   "source": [
    "def print_everything(*args):\n",
    "        for count, thing in enumerate(args):\n",
    "            print( '{0}. {1}'.format(count, thing))"
   ]
  },
  {
   "cell_type": "code",
   "execution_count": 2,
   "id": "e9d39540-16ae-4981-8575-5a10088494fd",
   "metadata": {},
   "outputs": [
    {
     "name": "stdout",
     "output_type": "stream",
     "text": [
      "0. apple\n",
      "1. banana\n",
      "2. cabbage\n",
      "3. spinach\n"
     ]
    }
   ],
   "source": [
    "print_everything('apple', 'banana', 'cabbage', 'spinach')"
   ]
  },
  {
   "cell_type": "code",
   "execution_count": null,
   "id": "3167bc0f-687b-4a25-821e-7642dd3c8bb5",
   "metadata": {},
   "outputs": [],
   "source": []
  }
 ],
 "metadata": {
  "kernelspec": {
   "display_name": "Python 3 (ipykernel)",
   "language": "python",
   "name": "python3"
  },
  "language_info": {
   "codemirror_mode": {
    "name": "ipython",
    "version": 3
   },
   "file_extension": ".py",
   "mimetype": "text/x-python",
   "name": "python",
   "nbconvert_exporter": "python",
   "pygments_lexer": "ipython3",
   "version": "3.10.5"
  }
 },
 "nbformat": 4,
 "nbformat_minor": 5
}

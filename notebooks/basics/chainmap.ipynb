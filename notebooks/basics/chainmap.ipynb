{
 "cells": [
  {
   "cell_type": "code",
   "execution_count": null,
   "id": "b5b423c9-a23f-40ef-abf2-a3bf6812bbaf",
   "metadata": {},
   "outputs": [],
   "source": []
  },
  {
   "cell_type": "code",
   "execution_count": 1,
   "id": "2541878a-a5d5-44eb-81ce-09172c6827c3",
   "metadata": {},
   "outputs": [],
   "source": [
    "city = {'name': 'Toronto', 'short_name': 'TO'}"
   ]
  },
  {
   "cell_type": "code",
   "execution_count": 2,
   "id": "f67807f2-eb03-458f-8a19-73a1dbd436ce",
   "metadata": {},
   "outputs": [],
   "source": [
    "number = {'a': 2, 'b': 3, 'c' : 4}"
   ]
  },
  {
   "cell_type": "code",
   "execution_count": 3,
   "id": "48e51530-9d65-442b-be52-2f19707c4685",
   "metadata": {},
   "outputs": [
    {
     "data": {
      "text/plain": [
       "{'name': 'Toronto', 'short_name': 'TO'}"
      ]
     },
     "execution_count": 3,
     "metadata": {},
     "output_type": "execute_result"
    }
   ],
   "source": [
    "city"
   ]
  },
  {
   "cell_type": "code",
   "execution_count": 4,
   "id": "523592d8-417a-459a-a339-6e3510f58f8f",
   "metadata": {},
   "outputs": [
    {
     "data": {
      "text/plain": [
       "{'a': 2, 'b': 3, 'c': 4}"
      ]
     },
     "execution_count": 4,
     "metadata": {},
     "output_type": "execute_result"
    }
   ],
   "source": [
    "number"
   ]
  },
  {
   "cell_type": "code",
   "execution_count": null,
   "id": "bbd2528d-c1d0-40d5-ae12-6ca43207ac5f",
   "metadata": {},
   "outputs": [],
   "source": []
  },
  {
   "cell_type": "code",
   "execution_count": 5,
   "id": "535030ae-ae40-45a0-bd52-94d6d5e0db9a",
   "metadata": {},
   "outputs": [],
   "source": [
    "from collections import ChainMap"
   ]
  },
  {
   "cell_type": "code",
   "execution_count": 6,
   "id": "ed805e25-93da-4745-8bc0-cbbd7b87cf81",
   "metadata": {},
   "outputs": [],
   "source": [
    "ab = ChainMap(city, number)"
   ]
  },
  {
   "cell_type": "code",
   "execution_count": 7,
   "id": "c0ced1b5-f2e1-465a-99e6-c751189d5479",
   "metadata": {},
   "outputs": [
    {
     "data": {
      "text/plain": [
       "ChainMap({'name': 'Toronto', 'short_name': 'TO'}, {'a': 2, 'b': 3, 'c': 4})"
      ]
     },
     "execution_count": 7,
     "metadata": {},
     "output_type": "execute_result"
    }
   ],
   "source": [
    "ab"
   ]
  },
  {
   "cell_type": "code",
   "execution_count": 8,
   "id": "92cb12e1-288b-4177-833f-7c9868adbec1",
   "metadata": {},
   "outputs": [
    {
     "data": {
      "text/plain": [
       "collections.ChainMap"
      ]
     },
     "execution_count": 8,
     "metadata": {},
     "output_type": "execute_result"
    }
   ],
   "source": [
    "type(ab)"
   ]
  },
  {
   "cell_type": "code",
   "execution_count": 9,
   "id": "b8600833-b383-449f-93fb-bff1a9f5ac90",
   "metadata": {},
   "outputs": [
    {
     "name": "stdout",
     "output_type": "stream",
     "text": [
      "a ==> 2\n",
      "b ==> 3\n",
      "c ==> 4\n",
      "name ==> Toronto\n",
      "short_name ==> TO\n"
     ]
    }
   ],
   "source": [
    "for k, v in ab.items():\n",
    "    print(k , \"==>\", v)"
   ]
  },
  {
   "cell_type": "code",
   "execution_count": 10,
   "id": "4a638aef-032a-4486-a1fd-6f9f315028a6",
   "metadata": {},
   "outputs": [],
   "source": [
    "ab_list = list(ChainMap(city, number))"
   ]
  },
  {
   "cell_type": "code",
   "execution_count": 11,
   "id": "02ba0c78-0ab8-4f46-80a6-d9ce5edc96d2",
   "metadata": {},
   "outputs": [
    {
     "data": {
      "text/plain": [
       "['a', 'b', 'c', 'name', 'short_name']"
      ]
     },
     "execution_count": 11,
     "metadata": {},
     "output_type": "execute_result"
    }
   ],
   "source": [
    "ab_list"
   ]
  },
  {
   "cell_type": "code",
   "execution_count": 12,
   "id": "f380aec4-70d8-49ed-b96d-3b66a255d3f7",
   "metadata": {},
   "outputs": [],
   "source": [
    "ab_tuple = tuple(ChainMap(city, number))"
   ]
  },
  {
   "cell_type": "code",
   "execution_count": 13,
   "id": "f0072c48-4508-48c2-91a8-8cda8447f391",
   "metadata": {},
   "outputs": [
    {
     "data": {
      "text/plain": [
       "('a', 'b', 'c', 'name', 'short_name')"
      ]
     },
     "execution_count": 13,
     "metadata": {},
     "output_type": "execute_result"
    }
   ],
   "source": [
    "ab_tuple"
   ]
  },
  {
   "cell_type": "markdown",
   "id": "e9db4f0d-7f11-47c0-9152-c6d57ef98e30",
   "metadata": {},
   "source": [
    "Ref:\n",
    "\n",
    "https://stackoverflow.com/questions/23392976/what-is-the-purpose-of-collections-chainmap\n",
    "\n",
    "https://docs.python.org/3/library/collections.html#collections.Counter"
   ]
  },
  {
   "cell_type": "code",
   "execution_count": null,
   "id": "cb55a7cb-4e60-420a-9cb1-96e4142c5dcb",
   "metadata": {},
   "outputs": [],
   "source": []
  }
 ],
 "metadata": {
  "kernelspec": {
   "display_name": "Python 3 (ipykernel)",
   "language": "python",
   "name": "python3"
  },
  "language_info": {
   "codemirror_mode": {
    "name": "ipython",
    "version": 3
   },
   "file_extension": ".py",
   "mimetype": "text/x-python",
   "name": "python",
   "nbconvert_exporter": "python",
   "pygments_lexer": "ipython3",
   "version": "3.10.5"
  }
 },
 "nbformat": 4,
 "nbformat_minor": 5
}

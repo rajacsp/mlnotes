{
 "cells": [
  {
   "cell_type": "raw",
   "metadata": {},
   "source": [
    "---\n",
    "title: \"IP Whois Simple\"\n",
    "author: \"Rj\"\n",
    "date: 2019-04-20\n",
    "description: \"-\"\n",
    "type: technical_note\n",
    "draft: false\n",
    "---"
   ]
  },
  {
   "cell_type": "code",
   "execution_count": 1,
   "metadata": {},
   "outputs": [],
   "source": [
    "from ipwhois import IPWhois\n",
    "from pprint import pprint"
   ]
  },
  {
   "cell_type": "code",
   "execution_count": 2,
   "metadata": {},
   "outputs": [
    {
     "name": "stdout",
     "output_type": "stream",
     "text": [
      "{'asn': '4730',\n",
      " 'asn_cidr': '133.1.0.0/16',\n",
      " 'asn_country_code': 'JP',\n",
      " 'asn_date': '1997-03-01',\n",
      " 'asn_description': 'ODINS Osaka University, JP',\n",
      " 'asn_registry': 'apnic',\n",
      " 'nets': [{'address': 'Urbannet-Kanda Bldg 4F\\n'\n",
      "                      '3-6-2 Uchi-Kanda\\n'\n",
      "                      'Chiyoda-ku, Tokyo 101-0047,Japan',\n",
      "           'cidr': '133.0.0.0/8',\n",
      "           'city': None,\n",
      "           'country': 'JP',\n",
      "           'created': None,\n",
      "           'description': 'Japan Network Information Center',\n",
      "           'emails': ['hostmaster@nic.ad.jp'],\n",
      "           'handle': 'JNIC1-AP',\n",
      "           'name': 'JPNIC-NET-JP-ERX',\n",
      "           'postal_code': None,\n",
      "           'range': '133.0.0.0 - 133.255.255.255',\n",
      "           'state': None,\n",
      "           'updated': None}],\n",
      " 'nir': {'nets': [{'address': None,\n",
      "                   'cidr': '133.1.0.0/16',\n",
      "                   'contacts': {'admin': {'division': 'Department of '\n",
      "                                                      'Information and '\n",
      "                                                      'Communications '\n",
      "                                                      'Technology Services',\n",
      "                                          'email': 'odins-room@odins.osaka-u.ac.jp',\n",
      "                                          'fax': '06-6879-8988',\n",
      "                                          'name': 'Yoshihide, Minami',\n",
      "                                          'organization': 'Osaka University',\n",
      "                                          'phone': '06-6879-8815',\n",
      "                                          'reply_email': 'reg@jpdirect.jp',\n",
      "                                          'title': 'Specialist',\n",
      "                                          'updated': '2015-08-13T09:08:34'},\n",
      "                                'tech': {'division': 'Department of '\n",
      "                                                     'Information and '\n",
      "                                                     'Communications '\n",
      "                                                     'Technology Services',\n",
      "                                         'email': 'odins-room@odins.osaka-u.ac.jp',\n",
      "                                         'fax': '06-6879-8988',\n",
      "                                         'name': 'Yoshihide, Minami',\n",
      "                                         'organization': 'Osaka University',\n",
      "                                         'phone': '06-6879-8815',\n",
      "                                         'reply_email': 'reg@jpdirect.jp',\n",
      "                                         'title': 'Specialist',\n",
      "                                         'updated': '2015-08-13T09:08:34'}},\n",
      "                   'country': 'JP',\n",
      "                   'created': None,\n",
      "                   'handle': 'OSAKAU-NET',\n",
      "                   'name': 'Osaka University',\n",
      "                   'nameservers': ['a.osaka-u.ac.jp',\n",
      "                                   'b.osaka-u.ac.jp',\n",
      "                                   'dns-x.sinet.ad.jp'],\n",
      "                   'postal_code': None,\n",
      "                   'range': '133.1.0.1 - 133.1.255.255',\n",
      "                   'updated': '2015-01-14T02:50:03'}],\n",
      "         'query': '133.1.2.5',\n",
      "         'raw': None},\n",
      " 'query': '133.1.2.5',\n",
      " 'raw': None,\n",
      " 'raw_referral': None,\n",
      " 'referral': None}\n"
     ]
    }
   ],
   "source": [
    "obj = IPWhois('133.1.2.5')\n",
    "results = obj.lookup_whois(inc_nir=True)\n",
    "pprint(results)"
   ]
  },
  {
   "cell_type": "code",
   "execution_count": null,
   "metadata": {},
   "outputs": [],
   "source": []
  }
 ],
 "metadata": {
  "kernelspec": {
   "display_name": "Python 3",
   "language": "python",
   "name": "python3"
  },
  "language_info": {
   "codemirror_mode": {
    "name": "ipython",
    "version": 3
   },
   "file_extension": ".py",
   "mimetype": "text/x-python",
   "name": "python",
   "nbconvert_exporter": "python",
   "pygments_lexer": "ipython3",
   "version": "3.6.8"
  }
 },
 "nbformat": 4,
 "nbformat_minor": 2
}

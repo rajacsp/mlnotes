{
 "cells": [
  {
   "cell_type": "code",
   "execution_count": null,
   "id": "b688da18-016f-4470-8955-7401ff9f5e06",
   "metadata": {},
   "outputs": [],
   "source": []
  },
  {
   "cell_type": "code",
   "execution_count": 3,
   "id": "33d1db4f-9ecd-4102-9492-da843c4cfd9f",
   "metadata": {},
   "outputs": [],
   "source": [
    "# !pip install colormap"
   ]
  },
  {
   "cell_type": "code",
   "execution_count": 4,
   "id": "b1b774b3-aaca-40ba-ba70-d00aa650b2c3",
   "metadata": {},
   "outputs": [],
   "source": [
    "from PIL import Image\n",
    "from colormap import rgb2hex\n",
    "from os import listdir\n",
    "from os.path import isfile, join, isdir\n",
    "import os.path as path"
   ]
  },
  {
   "cell_type": "code",
   "execution_count": 5,
   "id": "a4536125-922e-4ada-981e-b4363a9b93f6",
   "metadata": {},
   "outputs": [],
   "source": [
    "NON_BARCODE_PAR = 500\n",
    "\n",
    "def is_barcode_image(filename):\n",
    "    \n",
    "    im = Image.open(filename, 'r')\n",
    "    #width, height = im.size\n",
    "    pixel_values = list(im.getdata())\n",
    "\n",
    "    #print(pixel_values)\n",
    "\n",
    "    color_set = set()\n",
    "\n",
    "    for p in pixel_values:\n",
    "        #print(p)\n",
    "        #print(type(p))\n",
    "\n",
    "        if(isinstance(p, int)):\n",
    "            continue\n",
    "\n",
    "        #return\n",
    "        if(len(p) > 2):\n",
    "            h = rgb2hex(p[0], p[1], p[2])\n",
    "\n",
    "            #print(p, h)\n",
    "            color_set.add(h)\n",
    "\n",
    "    #print(color_set)\n",
    "\n",
    "    colors_length = len(color_set)\n",
    "\n",
    "    print('colors count : ', colors_length)\n",
    "\n",
    "    if(colors_length > NON_BARCODE_PAR):\n",
    "        return 0\n",
    "\n",
    "    return 1"
   ]
  },
  {
   "cell_type": "code",
   "execution_count": 6,
   "id": "9e14b913-e083-4f85-bff9-28d557f5dc68",
   "metadata": {},
   "outputs": [],
   "source": [
    "def test_single_image(filename):\n",
    "\n",
    "    b_result = is_barcode_image(filename)\n",
    "\n",
    "    if(b_result == 0):\n",
    "        print('Not a barcode image')\n",
    "    else:\n",
    "        print('Barcode image')"
   ]
  },
  {
   "cell_type": "code",
   "execution_count": 7,
   "id": "4208c6f8-3067-4478-bbde-42183052a248",
   "metadata": {},
   "outputs": [
    {
     "name": "stdout",
     "output_type": "stream",
     "text": [
      "colors count :  0\n",
      "Barcode image\n"
     ]
    }
   ],
   "source": [
    "test_single_image('barcode.jpg')"
   ]
  },
  {
   "cell_type": "code",
   "execution_count": 8,
   "id": "52a6523b-6013-456b-9290-ddc7f74f8645",
   "metadata": {},
   "outputs": [
    {
     "name": "stdout",
     "output_type": "stream",
     "text": [
      "colors count :  53628\n",
      "Not a barcode image\n"
     ]
    }
   ],
   "source": [
    "test_single_image('nobar.png')"
   ]
  },
  {
   "cell_type": "code",
   "execution_count": null,
   "id": "09f3db53-4a3f-4cf0-9c5e-45745dcc8bd2",
   "metadata": {},
   "outputs": [],
   "source": []
  }
 ],
 "metadata": {
  "kernelspec": {
   "display_name": "Python 3 (ipykernel)",
   "language": "python",
   "name": "python3"
  },
  "language_info": {
   "codemirror_mode": {
    "name": "ipython",
    "version": 3
   },
   "file_extension": ".py",
   "mimetype": "text/x-python",
   "name": "python",
   "nbconvert_exporter": "python",
   "pygments_lexer": "ipython3",
   "version": "3.10.5"
  }
 },
 "nbformat": 4,
 "nbformat_minor": 5
}

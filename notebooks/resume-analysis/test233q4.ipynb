{
 "cells": [
  {
   "cell_type": "code",
   "execution_count": 5,
   "id": "ad74b495-3a23-456a-8812-88d673089c1d",
   "metadata": {},
   "outputs": [],
   "source": [
    "import math_csp_util as msu"
   ]
  },
  {
   "cell_type": "code",
   "execution_count": 6,
   "id": "8fa0bead-824d-43c2-869f-f11ceca08301",
   "metadata": {},
   "outputs": [
    {
     "data": {
      "text/plain": [
       "30"
      ]
     },
     "execution_count": 6,
     "metadata": {},
     "output_type": "execute_result"
    }
   ],
   "source": [
    "msu.add(10, 20)"
   ]
  },
  {
   "cell_type": "code",
   "execution_count": 8,
   "id": "c16c6e8e-1cb5-4da3-af6d-1efd180c598c",
   "metadata": {},
   "outputs": [
    {
     "name": "stdout",
     "output_type": "stream",
     "text": [
      "Name: catboost\n",
      "Version: 1.2.7\n",
      "Summary: CatBoost Python Package\n",
      "Home-page: https://catboost.ai\n",
      "Author: CatBoost Developers\n",
      "Author-email: \n",
      "License: Apache License, Version 2.0\n",
      "Location: /home/rajaraman/miniconda3/envs/ml312/lib/python3.12/site-packages\n",
      "Requires: graphviz, matplotlib, numpy, pandas, plotly, scipy, six\n",
      "Required-by: \n"
     ]
    }
   ],
   "source": [
    "!pip show catboost"
   ]
  },
  {
   "cell_type": "code",
   "execution_count": 10,
   "id": "acde1434-6216-46d3-9318-a4ced33d825a",
   "metadata": {},
   "outputs": [
    {
     "name": "stdout",
     "output_type": "stream",
     "text": [
      "Requirement already satisfied: CatBoost in /home/rajaraman/miniconda3/envs/ml312/lib/python3.12/site-packages (from -r requirements.txt (line 1)) (1.2.7)\n",
      "Requirement already satisfied: graphviz in /home/rajaraman/miniconda3/envs/ml312/lib/python3.12/site-packages (from CatBoost->-r requirements.txt (line 1)) (0.20.3)\n",
      "Requirement already satisfied: matplotlib in /home/rajaraman/miniconda3/envs/ml312/lib/python3.12/site-packages (from CatBoost->-r requirements.txt (line 1)) (3.9.1)\n",
      "Requirement already satisfied: numpy<2.0,>=1.16.0 in /home/rajaraman/miniconda3/envs/ml312/lib/python3.12/site-packages (from CatBoost->-r requirements.txt (line 1)) (1.26.4)\n",
      "Requirement already satisfied: pandas>=0.24 in /home/rajaraman/miniconda3/envs/ml312/lib/python3.12/site-packages (from CatBoost->-r requirements.txt (line 1)) (2.2.3)\n",
      "Requirement already satisfied: scipy in /home/rajaraman/miniconda3/envs/ml312/lib/python3.12/site-packages (from CatBoost->-r requirements.txt (line 1)) (1.11.4)\n",
      "Requirement already satisfied: plotly in /home/rajaraman/miniconda3/envs/ml312/lib/python3.12/site-packages (from CatBoost->-r requirements.txt (line 1)) (5.22.0)\n",
      "Requirement already satisfied: six in /home/rajaraman/miniconda3/envs/ml312/lib/python3.12/site-packages (from CatBoost->-r requirements.txt (line 1)) (1.16.0)\n",
      "Requirement already satisfied: python-dateutil>=2.8.2 in /home/rajaraman/miniconda3/envs/ml312/lib/python3.12/site-packages (from pandas>=0.24->CatBoost->-r requirements.txt (line 1)) (2.9.0.post0)\n",
      "Requirement already satisfied: pytz>=2020.1 in /home/rajaraman/miniconda3/envs/ml312/lib/python3.12/site-packages (from pandas>=0.24->CatBoost->-r requirements.txt (line 1)) (2024.2)\n",
      "Requirement already satisfied: tzdata>=2022.7 in /home/rajaraman/miniconda3/envs/ml312/lib/python3.12/site-packages (from pandas>=0.24->CatBoost->-r requirements.txt (line 1)) (2024.2)\n",
      "Requirement already satisfied: contourpy>=1.0.1 in /home/rajaraman/miniconda3/envs/ml312/lib/python3.12/site-packages (from matplotlib->CatBoost->-r requirements.txt (line 1)) (1.2.1)\n",
      "Requirement already satisfied: cycler>=0.10 in /home/rajaraman/miniconda3/envs/ml312/lib/python3.12/site-packages (from matplotlib->CatBoost->-r requirements.txt (line 1)) (0.12.1)\n",
      "Requirement already satisfied: fonttools>=4.22.0 in /home/rajaraman/miniconda3/envs/ml312/lib/python3.12/site-packages (from matplotlib->CatBoost->-r requirements.txt (line 1)) (4.53.1)\n",
      "Requirement already satisfied: kiwisolver>=1.3.1 in /home/rajaraman/miniconda3/envs/ml312/lib/python3.12/site-packages (from matplotlib->CatBoost->-r requirements.txt (line 1)) (1.4.5)\n",
      "Requirement already satisfied: packaging>=20.0 in /home/rajaraman/miniconda3/envs/ml312/lib/python3.12/site-packages (from matplotlib->CatBoost->-r requirements.txt (line 1)) (24.2)\n",
      "Requirement already satisfied: pillow>=8 in /home/rajaraman/miniconda3/envs/ml312/lib/python3.12/site-packages (from matplotlib->CatBoost->-r requirements.txt (line 1)) (11.0.0)\n",
      "Requirement already satisfied: pyparsing>=2.3.1 in /home/rajaraman/miniconda3/envs/ml312/lib/python3.12/site-packages (from matplotlib->CatBoost->-r requirements.txt (line 1)) (3.1.2)\n",
      "Requirement already satisfied: tenacity>=6.2.0 in /home/rajaraman/miniconda3/envs/ml312/lib/python3.12/site-packages (from plotly->CatBoost->-r requirements.txt (line 1)) (8.5.0)\n"
     ]
    }
   ],
   "source": [
    "!pip install -r requirements.txt"
   ]
  },
  {
   "cell_type": "code",
   "execution_count": null,
   "id": "45b8b92e-6abc-4933-be90-eb30dfa59e16",
   "metadata": {},
   "outputs": [],
   "source": []
  }
 ],
 "metadata": {
  "kernelspec": {
   "display_name": "Python 3 (ipykernel)",
   "language": "python",
   "name": "python3"
  },
  "language_info": {
   "codemirror_mode": {
    "name": "ipython",
    "version": 3
   },
   "file_extension": ".py",
   "mimetype": "text/x-python",
   "name": "python",
   "nbconvert_exporter": "python",
   "pygments_lexer": "ipython3",
   "version": "3.12.4"
  }
 },
 "nbformat": 4,
 "nbformat_minor": 5
}

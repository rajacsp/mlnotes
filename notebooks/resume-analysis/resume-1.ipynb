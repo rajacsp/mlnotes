{
 "cells": [
  {
   "cell_type": "code",
   "execution_count": 3,
   "id": "035baa1c-f483-40ca-9a47-b86ea17741dc",
   "metadata": {},
   "outputs": [
    {
     "name": "stdout",
     "output_type": "stream",
     "text": [
      "Python 3.12.4\n"
     ]
    }
   ],
   "source": [
    "!python --version"
   ]
  },
  {
   "cell_type": "code",
   "execution_count": 4,
   "id": "833653a7-ff81-4eea-ba72-cbc5233882a5",
   "metadata": {},
   "outputs": [
    {
     "name": "stdout",
     "output_type": "stream",
     "text": [
      "Version: 3.0.1\n",
      "Version: 3.8.2\n",
      "Version: 0.2.13\n"
     ]
    }
   ],
   "source": [
    "!pip show PyPDF2 spacy gliner | grep \"Version\""
   ]
  },
  {
   "cell_type": "code",
   "execution_count": null,
   "id": "8a674466-d3c4-473d-8464-c9fc0cf7a9e1",
   "metadata": {},
   "outputs": [],
   "source": []
  },
  {
   "cell_type": "code",
   "execution_count": 5,
   "id": "06b1f72c-8005-4c3d-b7d1-65234c3e1582",
   "metadata": {},
   "outputs": [],
   "source": [
    "import PyPDF2\n",
    "\n",
    "def extract_text_from_pdf(pdf_path):\n",
    "    with open(pdf_path, 'rb') as file:\n",
    "        reader = PyPDF2.PdfReader(file)\n",
    "        text = \"\"\n",
    "        for page in reader.pages:\n",
    "            text += page.extract_text()\n",
    "    return text"
   ]
  },
  {
   "cell_type": "code",
   "execution_count": 6,
   "id": "e9258b82-d6ac-4796-9d77-99e33aa5dbf5",
   "metadata": {},
   "outputs": [],
   "source": [
    "from gliner import GLiNER"
   ]
  },
  {
   "cell_type": "code",
   "execution_count": 7,
   "id": "9d9211fb-e6dd-4ced-be93-7a4daf458f73",
   "metadata": {},
   "outputs": [
    {
     "data": {
      "application/vnd.jupyter.widget-view+json": {
       "model_id": "a797f241184444468221136a88859fc8",
       "version_major": 2,
       "version_minor": 0
      },
      "text/plain": [
       "Fetching 5 files:   0%|          | 0/5 [00:00<?, ?it/s]"
      ]
     },
     "metadata": {},
     "output_type": "display_data"
    },
    {
     "name": "stderr",
     "output_type": "stream",
     "text": [
      "/home/rajaraman/miniconda3/envs/ml312/lib/python3.12/site-packages/transformers/convert_slow_tokenizer.py:562: UserWarning: The sentencepiece tokenizer that you are converting to a fast tokenizer uses the byte fallback option which is not implemented in the fast tokenizers. In practice this means that the fast version of the tokenizer can produce unknown tokens whereas the sentencepiece version would have converted these unknown tokens into a sequence of byte tokens matching the original piece of text.\n",
      "  warnings.warn(\n"
     ]
    }
   ],
   "source": [
    "# Initialize GLiNER with a pre-trained model\n",
    "model = GLiNER.from_pretrained(\"urchade/gliner_medium-v2.1\")"
   ]
  },
  {
   "cell_type": "code",
   "execution_count": 8,
   "id": "057f6a6c-8102-4cf8-b5e8-47d15e020486",
   "metadata": {},
   "outputs": [],
   "source": [
    "# Extract text from the resume PDF\n",
    "pdf_path = \"aravindhan-resume.pdf\"  # Replace with your PDF file path\n",
    "resume_text = extract_text_from_pdf(pdf_path)"
   ]
  },
  {
   "cell_type": "code",
   "execution_count": 13,
   "id": "cf6da519-2a80-44e7-b606-5ec10fba18ba",
   "metadata": {},
   "outputs": [
    {
     "data": {
      "text/plain": [
       "'                                          A.ARAVINDHAN  \\n\\uf0299962962450  \\nAddress:No41  Kalaigar Nagar 6th Street Manali ,Chennai -600068  \\n@A.Aravindhananta @gmail.com  \\nEducation Qualification:  \\nSSLC: Government Higher Secondary School Manali ,Chennai -600068  \\nState Board  \\nPassing year:2017  \\nHSC: Government Higher Secondary School Manali ,Chennai -600068  \\nState Board  \\nPassing Year:2019  \\nDEGREE OF COURSE (UG):  \\nB.Sc(Computer Science)  \\nJ.H.A Agarsen College Madhavaram, Chennai -600060  \\nPassing Year:2022  \\nAchievements:  \\n\\uf0d8 Won cricket  Championship in Inter -school  and Outer school \\nCompetition(2017 -2018 ) \\n\\uf0d8 Won volley ball  Championship in Inter -school  and Outer school \\nCompetition(2018 -2019 ) \\n\\uf0d8  \\nPersonal Skills:  \\n\\uf0d8 Positive Thinking  \\n\\uf0d8 Make Friendship Easily  \\n\\uf0d8 Good Speaker  \\n\\uf0d8 Quick Learner  \\uf0d8 Good Learner  \\nSkills:  \\n\\uf0d8 Python  \\n\\uf0d8 Html  \\n\\uf0d8 Django  \\n\\uf0d8 MySQL \\n\\uf0d8 Computer Knowledge  \\nLanguage Known:  \\n\\uf0d8 Read : Tamil,English  \\n\\uf0d8 Write: Tamil,English  \\n\\uf0d8 Speak : Tamil,English  \\nBio Data:  \\n      Name                :   A.Aravindhan  \\n      Father Name    :  M.Aanadhan  \\n      Gender               :  Male  \\n      Marital Status   :  Single  \\n      Nationality        :   Indian  \\nDeclaration:  \\nI here by declare that the above written particulars are true to the best of my \\nKnowledge and belief.  \\n \\nPlace:  \\nDate:                                                                                                               Signature  \\n    '"
      ]
     },
     "execution_count": 13,
     "metadata": {},
     "output_type": "execute_result"
    }
   ],
   "source": [
    "resume_text"
   ]
  },
  {
   "cell_type": "code",
   "execution_count": 9,
   "id": "18430410-883c-49ed-bc7b-cc1be3d71524",
   "metadata": {},
   "outputs": [],
   "source": [
    "# Define the tech-related labels (customized for tech keys)\n",
    "labels = [\"TECH_KEY\"]"
   ]
  },
  {
   "cell_type": "code",
   "execution_count": 10,
   "id": "7ca712d3-6e79-48ad-b96b-bfac565e2bb6",
   "metadata": {},
   "outputs": [
    {
     "name": "stderr",
     "output_type": "stream",
     "text": [
      "Asking to truncate to max_length but no maximum length is provided and the model has no predefined maximum length. Default to no truncation.\n"
     ]
    }
   ],
   "source": [
    "# Perform entity prediction\n",
    "tech_keys = model.predict_entities(resume_text, labels, threshold=0.5)"
   ]
  },
  {
   "cell_type": "code",
   "execution_count": 11,
   "id": "fbfca92c-d084-4878-bd3a-741cfd7f1131",
   "metadata": {},
   "outputs": [],
   "source": [
    "# Extract only the tech keys\n",
    "extracted_tech_keys = {key['text'] for key in tech_keys}"
   ]
  },
  {
   "cell_type": "code",
   "execution_count": 12,
   "id": "dacfcf18-f404-41f9-a7bd-cff725b75b92",
   "metadata": {},
   "outputs": [
    {
     "name": "stdout",
     "output_type": "stream",
     "text": [
      "Extracted Tech Keys:\n"
     ]
    }
   ],
   "source": [
    "# Display the results\n",
    "print(\"Extracted Tech Keys:\")\n",
    "for tech in extracted_tech_keys:\n",
    "    print(tech)"
   ]
  },
  {
   "cell_type": "code",
   "execution_count": null,
   "id": "fea2cc8d-ffd2-4109-9563-5e75af122898",
   "metadata": {},
   "outputs": [],
   "source": []
  },
  {
   "cell_type": "code",
   "execution_count": null,
   "id": "1e9a91fd-e89a-46aa-9618-94cba9785991",
   "metadata": {},
   "outputs": [],
   "source": []
  },
  {
   "cell_type": "code",
   "execution_count": 14,
   "id": "a346e275-3957-4a16-b7ba-677d8b180997",
   "metadata": {},
   "outputs": [],
   "source": [
    "# Paths to training data and output directory\n",
    "train_data_path = \"train_data.json\"  # Path to your training dataset\n",
    "output_dir = \"model_output_dir\"      # Path to save the trained model"
   ]
  },
  {
   "cell_type": "code",
   "execution_count": 16,
   "id": "418356b7-3d56-44a6-8e72-04feb6d56ad6",
   "metadata": {},
   "outputs": [
    {
     "name": "stdout",
     "output_type": "stream",
     "text": [
      "Help on function train in module torch.nn.modules.module:\n",
      "\n",
      "train(self: ~T, mode: bool = True) -> ~T\n",
      "    Set the module in training mode.\n",
      "\n",
      "    This has any effect only on certain modules. See documentations of\n",
      "    particular modules for details of their behaviors in training/evaluation\n",
      "    mode, if they are affected, e.g. :class:`Dropout`, :class:`BatchNorm`,\n",
      "    etc.\n",
      "\n",
      "    Args:\n",
      "        mode (bool): whether to set training mode (``True``) or evaluation\n",
      "                     mode (``False``). Default: ``True``.\n",
      "\n",
      "    Returns:\n",
      "        Module: self\n",
      "\n"
     ]
    }
   ],
   "source": [
    "help(GLiNER.train)"
   ]
  },
  {
   "cell_type": "code",
   "execution_count": 19,
   "id": "74178630-d03a-488c-bb0a-8b7b999e5bc5",
   "metadata": {},
   "outputs": [],
   "source": [
    "# https://github.com/urchade/GLiNER/blob/main/examples/finetune.ipynb"
   ]
  },
  {
   "cell_type": "code",
   "execution_count": null,
   "id": "20dea77b-81e1-4aa6-8531-0e07e911d6ba",
   "metadata": {},
   "outputs": [],
   "source": []
  }
 ],
 "metadata": {
  "kernelspec": {
   "display_name": "Python 3 (ipykernel)",
   "language": "python",
   "name": "python3"
  },
  "language_info": {
   "codemirror_mode": {
    "name": "ipython",
    "version": 3
   },
   "file_extension": ".py",
   "mimetype": "text/x-python",
   "name": "python",
   "nbconvert_exporter": "python",
   "pygments_lexer": "ipython3",
   "version": "3.12.4"
  }
 },
 "nbformat": 4,
 "nbformat_minor": 5
}

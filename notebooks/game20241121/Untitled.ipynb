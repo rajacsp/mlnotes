{
 "cells": [
  {
   "cell_type": "code",
   "execution_count": 6,
   "id": "3cebcf5b-f7db-4890-b562-a1565ccc47bf",
   "metadata": {},
   "outputs": [
    {
     "name": "stdout",
     "output_type": "stream",
     "text": [
      "\u001b[31mERROR: Could not find a version that satisfies the requirement smtplib (from versions: none)\u001b[0m\u001b[31m\n",
      "\u001b[0m\u001b[31mERROR: No matching distribution found for smtplib\u001b[0m\u001b[31m\n",
      "\u001b[0m"
     ]
    }
   ],
   "source": [
    "!pip install smtplib"
   ]
  },
  {
   "cell_type": "code",
   "execution_count": 7,
   "id": "990969c7-c2d4-4b71-92d6-da81492d959a",
   "metadata": {},
   "outputs": [
    {
     "ename": "NameError",
     "evalue": "name 'smtplib' is not defined",
     "output_type": "error",
     "traceback": [
      "\u001b[0;31m---------------------------------------------------------------------------\u001b[0m",
      "\u001b[0;31mNameError\u001b[0m                                 Traceback (most recent call last)",
      "Cell \u001b[0;32mIn[7], line 15\u001b[0m\n\u001b[1;32m     11\u001b[0m password \u001b[38;5;241m=\u001b[39m \u001b[38;5;124m'\u001b[39m\u001b[38;5;124mpassword\u001b[39m\u001b[38;5;124m'\u001b[39m\n\u001b[1;32m     13\u001b[0m \u001b[38;5;66;03m# Sending the mail  \u001b[39;00m\n\u001b[0;32m---> 15\u001b[0m server \u001b[38;5;241m=\u001b[39m \u001b[43msmtplib\u001b[49m\u001b[38;5;241m.\u001b[39mSMTP(\u001b[38;5;124m'\u001b[39m\u001b[38;5;124msmtp.gmail.com:587\u001b[39m\u001b[38;5;124m'\u001b[39m)\n\u001b[1;32m     16\u001b[0m server\u001b[38;5;241m.\u001b[39mstarttls()\n\u001b[1;32m     17\u001b[0m server\u001b[38;5;241m.\u001b[39mlogin(username,password)\n",
      "\u001b[0;31mNameError\u001b[0m: name 'smtplib' is not defined"
     ]
    }
   ],
   "source": [
    "fromaddr = 'fromuser@gmail.com'\n",
    "toaddrs  = 'touser@gmail.com'\n",
    "\n",
    "# Writing the message (this message will appear in the email)\n",
    "\n",
    "msg = 'Enter you message here'\n",
    "\n",
    "# Gmail Login\n",
    "\n",
    "username = 'username'\n",
    "password = 'password'\n",
    "\n",
    "# Sending the mail  \n",
    "\n",
    "server = smtplib.SMTP('smtp.gmail.com:587')\n",
    "server.starttls()\n",
    "server.login(username,password)\n",
    "server.sendmail(fromaddr, toaddrs, msg)\n",
    "server.quit()"
   ]
  },
  {
   "cell_type": "code",
   "execution_count": 4,
   "id": "fa63925d-aaf9-489d-ae49-9fb0921d4d92",
   "metadata": {},
   "outputs": [
    {
     "ename": "NameError",
     "evalue": "name 'one' is not defined",
     "output_type": "error",
     "traceback": [
      "\u001b[0;31m---------------------------------------------------------------------------\u001b[0m",
      "\u001b[0;31mNameError\u001b[0m                                 Traceback (most recent call last)",
      "Cell \u001b[0;32mIn[4], line 1\u001b[0m\n\u001b[0;32m----> 1\u001b[0m \u001b[43mone\u001b[49m\n",
      "\u001b[0;31mNameError\u001b[0m: name 'one' is not defined"
     ]
    }
   ],
   "source": []
  },
  {
   "cell_type": "code",
   "execution_count": null,
   "id": "dfc64ee2-5fc8-4362-afab-7340d15aa487",
   "metadata": {},
   "outputs": [],
   "source": []
  }
 ],
 "metadata": {
  "kernelspec": {
   "display_name": "Python 3 (ipykernel)",
   "language": "python",
   "name": "python3"
  },
  "language_info": {
   "codemirror_mode": {
    "name": "ipython",
    "version": 3
   },
   "file_extension": ".py",
   "mimetype": "text/x-python",
   "name": "python",
   "nbconvert_exporter": "python",
   "pygments_lexer": "ipython3",
   "version": "3.12.4"
  }
 },
 "nbformat": 4,
 "nbformat_minor": 5
}

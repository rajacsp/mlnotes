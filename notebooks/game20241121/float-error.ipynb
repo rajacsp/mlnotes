{
 "cells": [
  {
   "cell_type": "code",
   "execution_count": 1,
   "id": "9cbe5293-093d-417a-b0cd-bc66b3077ed4",
   "metadata": {},
   "outputs": [
    {
     "name": "stdout",
     "output_type": "stream",
     "text": [
      "error :  'str' object has no attribute 'toFloat'\n",
      "AttributeError(\"'str' object has no attribute 'toFloat'\")\n"
     ]
    }
   ],
   "source": [
    "try:\n",
    "    \"soemthing\".toFloat\n",
    "except (ValueError, KeyError, AttributeError) as e:\n",
    "    print('error : ', str(e))\n",
    "    print(getattr(e, 'message', repr(e)))"
   ]
  },
  {
   "cell_type": "code",
   "execution_count": null,
   "id": "65a2e4e6-bf92-4f00-930b-69a557ed8ebd",
   "metadata": {},
   "outputs": [],
   "source": []
  }
 ],
 "metadata": {
  "kernelspec": {
   "display_name": "Python 3 (ipykernel)",
   "language": "python",
   "name": "python3"
  },
  "language_info": {
   "codemirror_mode": {
    "name": "ipython",
    "version": 3
   },
   "file_extension": ".py",
   "mimetype": "text/x-python",
   "name": "python",
   "nbconvert_exporter": "python",
   "pygments_lexer": "ipython3",
   "version": "3.12.4"
  }
 },
 "nbformat": 4,
 "nbformat_minor": 5
}

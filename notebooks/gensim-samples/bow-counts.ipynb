{
 "cells": [
  {
   "cell_type": "raw",
   "metadata": {},
   "source": [
    "---\n",
    "title: \"Bag of word Counts\"\n",
    "author: \"Raja CSP Raman\"\n",
    "date: 2019-05-02\n",
    "description: \"-\"\n",
    "type: technical_note\n",
    "draft: false\n",
    "---"
   ]
  },
  {
   "cell_type": "code",
   "execution_count": 2,
   "metadata": {},
   "outputs": [],
   "source": [
    "from gensim.utils import simple_preprocess\n",
    "from gensim import corpora\n",
    "from pprint import pprint"
   ]
  },
  {
   "cell_type": "code",
   "execution_count": 21,
   "metadata": {},
   "outputs": [],
   "source": [
    "contents = [\n",
    "    \"The Star obtained a copy of the email outlining the latest in a series of Progressive Conservative provincial budget cuts that could cost the City of Toronto, over the next decade, billions of dollars in funding for transit, public health and more.\",\n",
    "    \"Toronto councillors and daycare advocates are expected to hold a news conference Friday demanding the Ford government reverse the elimination of a $50-million fund that helps licensed child-care centres cover increasing labour costs and shield parents from fee increases, along with other changes.\"\n",
    "]"
   ]
  },
  {
   "cell_type": "code",
   "execution_count": 22,
   "metadata": {},
   "outputs": [
    {
     "data": {
      "text/plain": [
       "['The Star obtained a copy of the email outlining the latest in a series of Progressive Conservative provincial budget cuts that could cost the City of Toronto, over the next decade, billions of dollars in funding for transit, public health and more.',\n",
       " 'Toronto councillors and daycare advocates are expected to hold a news conference Friday demanding the Ford government reverse the elimination of a $50-million fund that helps licensed child-care centres cover increasing labour costs and shield parents from fee increases, along with other changes.']"
      ]
     },
     "execution_count": 22,
     "metadata": {},
     "output_type": "execute_result"
    }
   ],
   "source": [
    "contents"
   ]
  },
  {
   "cell_type": "code",
   "execution_count": 23,
   "metadata": {},
   "outputs": [],
   "source": [
    "# Get the tokens\n",
    "tokens = [simple_preprocess(doc) for doc in contents]"
   ]
  },
  {
   "cell_type": "code",
   "execution_count": 30,
   "metadata": {},
   "outputs": [
    {
     "name": "stdout",
     "output_type": "stream",
     "text": [
      "[['the',\n",
      "  'star',\n",
      "  'obtained',\n",
      "  'copy',\n",
      "  'of',\n",
      "  'the',\n",
      "  'email',\n",
      "  'outlining',\n",
      "  'the',\n",
      "  'latest',\n",
      "  'in',\n",
      "  'series',\n",
      "  'of',\n",
      "  'progressive',\n",
      "  'conservative',\n",
      "  'provincial',\n",
      "  'budget',\n",
      "  'cuts',\n",
      "  'that',\n",
      "  'could',\n",
      "  'cost',\n",
      "  'the',\n",
      "  'city',\n",
      "  'of',\n",
      "  'toronto',\n",
      "  'over',\n",
      "  'the',\n",
      "  'next',\n",
      "  'decade',\n",
      "  'billions',\n",
      "  'of',\n",
      "  'dollars',\n",
      "  'in',\n",
      "  'funding',\n",
      "  'for',\n",
      "  'transit',\n",
      "  'public',\n",
      "  'health',\n",
      "  'and',\n",
      "  'more'],\n",
      " ['toronto',\n",
      "  'councillors',\n",
      "  'and',\n",
      "  'daycare',\n",
      "  'advocates',\n",
      "  'are',\n",
      "  'expected',\n",
      "  'to',\n",
      "  'hold',\n",
      "  'news',\n",
      "  'conference',\n",
      "  'friday',\n",
      "  'demanding',\n",
      "  'the',\n",
      "  'ford',\n",
      "  'government',\n",
      "  'reverse',\n",
      "  'the',\n",
      "  'elimination',\n",
      "  'of',\n",
      "  'million',\n",
      "  'fund',\n",
      "  'that',\n",
      "  'helps',\n",
      "  'licensed',\n",
      "  'child',\n",
      "  'care',\n",
      "  'centres',\n",
      "  'cover',\n",
      "  'increasing',\n",
      "  'labour',\n",
      "  'costs',\n",
      "  'and',\n",
      "  'shield',\n",
      "  'parents',\n",
      "  'from',\n",
      "  'fee',\n",
      "  'increases',\n",
      "  'along',\n",
      "  'with',\n",
      "  'other',\n",
      "  'changes']]\n"
     ]
    }
   ],
   "source": [
    "pprint(tokens)"
   ]
  },
  {
   "cell_type": "code",
   "execution_count": 31,
   "metadata": {},
   "outputs": [],
   "source": [
    "# Create the dictionary\n",
    "dict = corpora.Dictionary()"
   ]
  },
  {
   "cell_type": "code",
   "execution_count": 32,
   "metadata": {},
   "outputs": [],
   "source": [
    "# Create the Corpus\n",
    "corpus1 = [dict.doc2bow(doc, allow_update=True) for doc in tokens]"
   ]
  },
  {
   "cell_type": "code",
   "execution_count": 33,
   "metadata": {},
   "outputs": [],
   "source": [
    "word_counts = [[(dict[id], count) for id, count in line]for line in corpus1]"
   ]
  },
  {
   "cell_type": "code",
   "execution_count": 34,
   "metadata": {},
   "outputs": [
    {
     "name": "stdout",
     "output_type": "stream",
     "text": [
      "[[('and', 1),\n",
      "  ('billions', 1),\n",
      "  ('budget', 1),\n",
      "  ('city', 1),\n",
      "  ('conservative', 1),\n",
      "  ('copy', 1),\n",
      "  ('cost', 1),\n",
      "  ('could', 1),\n",
      "  ('cuts', 1),\n",
      "  ('decade', 1),\n",
      "  ('dollars', 1),\n",
      "  ('email', 1),\n",
      "  ('for', 1),\n",
      "  ('funding', 1),\n",
      "  ('health', 1),\n",
      "  ('in', 2),\n",
      "  ('latest', 1),\n",
      "  ('more', 1),\n",
      "  ('next', 1),\n",
      "  ('obtained', 1),\n",
      "  ('of', 4),\n",
      "  ('outlining', 1),\n",
      "  ('over', 1),\n",
      "  ('progressive', 1),\n",
      "  ('provincial', 1),\n",
      "  ('public', 1),\n",
      "  ('series', 1),\n",
      "  ('star', 1),\n",
      "  ('that', 1),\n",
      "  ('the', 5),\n",
      "  ('toronto', 1),\n",
      "  ('transit', 1)],\n",
      " [('and', 2),\n",
      "  ('of', 1),\n",
      "  ('that', 1),\n",
      "  ('the', 2),\n",
      "  ('toronto', 1),\n",
      "  ('advocates', 1),\n",
      "  ('along', 1),\n",
      "  ('are', 1),\n",
      "  ('care', 1),\n",
      "  ('centres', 1),\n",
      "  ('changes', 1),\n",
      "  ('child', 1),\n",
      "  ('conference', 1),\n",
      "  ('costs', 1),\n",
      "  ('councillors', 1),\n",
      "  ('cover', 1),\n",
      "  ('daycare', 1),\n",
      "  ('demanding', 1),\n",
      "  ('elimination', 1),\n",
      "  ('expected', 1),\n",
      "  ('fee', 1),\n",
      "  ('ford', 1),\n",
      "  ('friday', 1),\n",
      "  ('from', 1),\n",
      "  ('fund', 1),\n",
      "  ('government', 1),\n",
      "  ('helps', 1),\n",
      "  ('hold', 1),\n",
      "  ('increases', 1),\n",
      "  ('increasing', 1),\n",
      "  ('labour', 1),\n",
      "  ('licensed', 1),\n",
      "  ('million', 1),\n",
      "  ('news', 1),\n",
      "  ('other', 1),\n",
      "  ('parents', 1),\n",
      "  ('reverse', 1),\n",
      "  ('shield', 1),\n",
      "  ('to', 1),\n",
      "  ('with', 1)]]\n"
     ]
    }
   ],
   "source": [
    "pprint(word_counts)"
   ]
  }
 ],
 "metadata": {
  "kernelspec": {
   "display_name": "Python 3",
   "language": "python",
   "name": "python3"
  },
  "language_info": {
   "codemirror_mode": {
    "name": "ipython",
    "version": 3
   },
   "file_extension": ".py",
   "mimetype": "text/x-python",
   "name": "python",
   "nbconvert_exporter": "python",
   "pygments_lexer": "ipython3",
   "version": "3.6.8"
  }
 },
 "nbformat": 4,
 "nbformat_minor": 2
}

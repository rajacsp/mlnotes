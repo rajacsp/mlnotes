{
 "cells": [
  {
   "cell_type": "raw",
   "metadata": {},
   "source": [
    "---\n",
    "title: \"Tokenize Sentences\"\n",
    "author: \"Raja CSP Raman\"\n",
    "date: 2019-05-02\n",
    "description: \"-\"\n",
    "type: technical_note\n",
    "draft: false\n",
    "source: https://tedboy.github.io/nlps/gensim_tutorial/tut1.html\n",
    "---"
   ]
  },
  {
   "cell_type": "code",
   "execution_count": 1,
   "metadata": {},
   "outputs": [],
   "source": [
    "from gensim import corpora"
   ]
  },
  {
   "cell_type": "code",
   "execution_count": 2,
   "metadata": {},
   "outputs": [],
   "source": [
    "documents = [\n",
    "    \"The traditional paradigm just seems safer: be firm and a little distant from your employees\", \n",
    "\n",
    "\"The people who work for you should respect you, but not feel so familiar with you that they might forget who’s in charge\", \n",
    "\n",
    "\"A little dog-eat-dog, tough-it-out, sink-or-swim culture seems to yield time-tested results and keep people hungry and on their toes\", \n",
    "\n",
    "\"New developments in organizational research are providing some surprising answers to these questions\", \n",
    "\n",
    "\"Tough managers often mistakenly think that putting pressure on employees will increase performance\", \n",
    "\n",
    "\"What it does increase is stress—and research has shown that high levels of stress carry a number of costs to employers and employees alike\", \n",
    "\n",
    "\"Stress brings high health care and turnover costs\", \n",
    "\n",
    "\"In a study of employees from various organizations, health care expenditures for employees with high levels of stress were 46 percent greater than at similar organizations without high levels of stress\", \n",
    "\n",
    "\"In particular, workplace stress has been linked to coronary heart disease in both retrospective (observing past patterns) and prospective (predicting future patterns) studies\" \n",
    "]"
   ]
  },
  {
   "cell_type": "code",
   "execution_count": 3,
   "metadata": {},
   "outputs": [
    {
     "data": {
      "text/plain": [
       "['The traditional paradigm just seems safer: be firm and a little distant from your employees',\n",
       " 'The people who work for you should respect you, but not feel so familiar with you that they might forget who’s in charge',\n",
       " 'A little dog-eat-dog, tough-it-out, sink-or-swim culture seems to yield time-tested results and keep people hungry and on their toes',\n",
       " 'New developments in organizational research are providing some surprising answers to these questions',\n",
       " 'Tough managers often mistakenly think that putting pressure on employees will increase performance',\n",
       " 'What it does increase is stress—and research has shown that high levels of stress carry a number of costs to employers and employees alike',\n",
       " 'Stress brings high health care and turnover costs',\n",
       " 'In a study of employees from various organizations, health care expenditures for employees with high levels of stress were 46 percent greater than at similar organizations without high levels of stress',\n",
       " 'In particular, workplace stress has been linked to coronary heart disease in both retrospective (observing past patterns) and prospective (predicting future patterns) studies']"
      ]
     },
     "execution_count": 3,
     "metadata": {},
     "output_type": "execute_result"
    }
   ],
   "source": [
    "documents"
   ]
  },
  {
   "cell_type": "code",
   "execution_count": 4,
   "metadata": {},
   "outputs": [],
   "source": [
    "# remove common words and tokenize\n",
    "stoplist = set('for a of the and to in'.split())"
   ]
  },
  {
   "cell_type": "code",
   "execution_count": 5,
   "metadata": {},
   "outputs": [
    {
     "data": {
      "text/plain": [
       "{'a', 'and', 'for', 'in', 'of', 'the', 'to'}"
      ]
     },
     "execution_count": 5,
     "metadata": {},
     "output_type": "execute_result"
    }
   ],
   "source": [
    "stoplist"
   ]
  },
  {
   "cell_type": "code",
   "execution_count": 8,
   "metadata": {},
   "outputs": [],
   "source": [
    "texts = [\n",
    "    [word for word in document.lower().split() if word not in stoplist] for document in documents\n",
    "]"
   ]
  },
  {
   "cell_type": "code",
   "execution_count": 11,
   "metadata": {},
   "outputs": [
    {
     "data": {
      "text/plain": [
       "9"
      ]
     },
     "execution_count": 11,
     "metadata": {},
     "output_type": "execute_result"
    }
   ],
   "source": [
    "len(texts)"
   ]
  },
  {
   "cell_type": "code",
   "execution_count": 13,
   "metadata": {},
   "outputs": [
    {
     "data": {
      "text/plain": [
       "['traditional',\n",
       " 'paradigm',\n",
       " 'just',\n",
       " 'seems',\n",
       " 'safer:',\n",
       " 'be',\n",
       " 'firm',\n",
       " 'little',\n",
       " 'distant',\n",
       " 'from',\n",
       " 'your',\n",
       " 'employees']"
      ]
     },
     "execution_count": 13,
     "metadata": {},
     "output_type": "execute_result"
    }
   ],
   "source": [
    "texts[0]"
   ]
  },
  {
   "cell_type": "code",
   "execution_count": null,
   "metadata": {},
   "outputs": [],
   "source": []
  }
 ],
 "metadata": {
  "kernelspec": {
   "display_name": "Python 3",
   "language": "python",
   "name": "python3"
  },
  "language_info": {
   "codemirror_mode": {
    "name": "ipython",
    "version": 3
   },
   "file_extension": ".py",
   "mimetype": "text/x-python",
   "name": "python",
   "nbconvert_exporter": "python",
   "pygments_lexer": "ipython3",
   "version": "3.6.8"
  }
 },
 "nbformat": 4,
 "nbformat_minor": 2
}

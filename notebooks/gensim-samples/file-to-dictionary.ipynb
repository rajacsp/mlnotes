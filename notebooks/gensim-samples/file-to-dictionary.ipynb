{
 "cells": [
  {
   "cell_type": "raw",
   "metadata": {},
   "source": [
    "---\n",
    "title: \"File To Dictionary\"\n",
    "author: \"Raja CSP Raman\"\n",
    "date: 2019-04-20\n",
    "description: \"-\"\n",
    "type: technical_note\n",
    "draft: false\n",
    "---"
   ]
  },
  {
   "cell_type": "code",
   "execution_count": 5,
   "metadata": {},
   "outputs": [],
   "source": [
    "import gensim\n",
    "from gensim import corpora\n",
    "from gensim.utils import simple_preprocess\n",
    "from smart_open import smart_open\n",
    "import os"
   ]
  },
  {
   "cell_type": "code",
   "execution_count": 6,
   "metadata": {},
   "outputs": [],
   "source": [
    "dictionary = corpora.Dictionary()"
   ]
  },
  {
   "cell_type": "code",
   "execution_count": 8,
   "metadata": {},
   "outputs": [],
   "source": [
    "# Create gensim dictionary form a single tet file\n",
    "dictionary = corpora.Dictionary(simple_preprocess(line, deacc=True) for line in open('sample.txt', encoding='utf-8'))"
   ]
  },
  {
   "cell_type": "code",
   "execution_count": 11,
   "metadata": {},
   "outputs": [
    {
     "name": "stdout",
     "output_type": "stream",
     "text": [
      "Dictionary(78 unique tokens: ['account', 'agenda', 'also', 'an', 'balanced']...)\n"
     ]
    }
   ],
   "source": [
    "print(dictionary)"
   ]
  },
  {
   "cell_type": "code",
   "execution_count": 12,
   "metadata": {},
   "outputs": [
    {
     "data": {
      "text/plain": [
       "{'about': 25,\n",
       " 'according': 66,\n",
       " 'account': 0,\n",
       " 'agenda': 1,\n",
       " 'also': 2,\n",
       " 'an': 3,\n",
       " 'and': 26,\n",
       " 'are': 45,\n",
       " 'assigned': 67,\n",
       " 'association': 68,\n",
       " 'authenticity': 27,\n",
       " 'balanced': 4,\n",
       " 'be': 69,\n",
       " 'between': 28,\n",
       " 'canadian': 46,\n",
       " 'canadians': 57,\n",
       " 'cannot': 70,\n",
       " 'cent': 29,\n",
       " 'clicking': 5,\n",
       " 'conducted': 58,\n",
       " 'day': 59,\n",
       " 'distinguish': 30,\n",
       " 'doubts': 31,\n",
       " 'election': 47,\n",
       " 'error': 71,\n",
       " 'expecting': 6,\n",
       " 'fact': 32,\n",
       " 'falsehood': 33,\n",
       " 'federal': 48,\n",
       " 'find': 7,\n",
       " 'findings': 49,\n",
       " 'five': 60,\n",
       " 'found': 34,\n",
       " 'foundation': 50,\n",
       " 'had': 35,\n",
       " 'half': 8,\n",
       " 'headline': 9,\n",
       " 'in': 36,\n",
       " 'intelligence': 72,\n",
       " 'journalism': 51,\n",
       " 'jumped': 37,\n",
       " 'last': 61,\n",
       " 'margin': 73,\n",
       " 'marketing': 74,\n",
       " 'month': 62,\n",
       " 'more': 10,\n",
       " 'news': 11,\n",
       " 'of': 12,\n",
       " 'on': 13,\n",
       " 'online': 75,\n",
       " 'only': 14,\n",
       " 'over': 63,\n",
       " 'participants': 15,\n",
       " 'particularly': 52,\n",
       " 'past': 38,\n",
       " 'per': 39,\n",
       " 'period': 64,\n",
       " 'polls': 76,\n",
       " 'pushing': 16,\n",
       " 'read': 17,\n",
       " 'reported': 18,\n",
       " 'research': 77,\n",
       " 'respondents': 40,\n",
       " 'run': 53,\n",
       " 'sampled': 65,\n",
       " 'says': 54,\n",
       " 'stories': 41,\n",
       " 'story': 19,\n",
       " 'struggled': 42,\n",
       " 'survey': 20,\n",
       " 'than': 21,\n",
       " 'the': 22,\n",
       " 'to': 23,\n",
       " 'troubling': 55,\n",
       " 'up': 56,\n",
       " 'was': 24,\n",
       " 'while': 43,\n",
       " 'year': 44}"
      ]
     },
     "execution_count": 12,
     "metadata": {},
     "output_type": "execute_result"
    }
   ],
   "source": [
    "dictionary.token2id"
   ]
  }
 ],
 "metadata": {
  "kernelspec": {
   "display_name": "Python 3",
   "language": "python",
   "name": "python3"
  },
  "language_info": {
   "codemirror_mode": {
    "name": "ipython",
    "version": 3
   },
   "file_extension": ".py",
   "mimetype": "text/x-python",
   "name": "python",
   "nbconvert_exporter": "python",
   "pygments_lexer": "ipython3",
   "version": "3.6.8"
  }
 },
 "nbformat": 4,
 "nbformat_minor": 2
}

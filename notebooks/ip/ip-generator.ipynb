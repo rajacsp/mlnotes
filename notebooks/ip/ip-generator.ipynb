{
 "cells": [
  {
   "cell_type": "code",
   "execution_count": null,
   "id": "db25c914-1252-4bae-8dbe-3a20e361bd73",
   "metadata": {},
   "outputs": [],
   "source": []
  },
  {
   "cell_type": "code",
   "execution_count": 1,
   "id": "0c10588e-e9e7-4b8c-b92b-91104a273df0",
   "metadata": {},
   "outputs": [
    {
     "data": {
      "text/plain": [
       "'conda env: ml312-2024; pyv: 3.12.7 | packaged by Anaconda, Inc. | (main, Oct  4 2024, 13:27:36) [GCC 11.2.0]'"
      ]
     },
     "execution_count": 1,
     "metadata": {},
     "output_type": "execute_result"
    }
   ],
   "source": [
    "import pyutil as pyu\n",
    "pyu.get_local_pyinfo()"
   ]
  },
  {
   "cell_type": "code",
   "execution_count": 1,
   "id": "c2ccb592-b983-4856-a241-5898cab06699",
   "metadata": {},
   "outputs": [
    {
     "name": "stdout",
     "output_type": "stream",
     "text": [
      "Random Public IP Addresses:\n",
      "223.59.16.209\n",
      "88.224.147.129\n",
      "144.148.121.177\n",
      "90.210.54.132\n",
      "143.64.56.165\n",
      "176.220.110.253\n",
      "55.141.50.54\n",
      "168.71.210.26\n",
      "127.184.181.104\n",
      "116.199.204.222\n"
     ]
    }
   ],
   "source": [
    "# public ip\n",
    "\n",
    "import random\n",
    "\n",
    "def generate_public_ip():\n",
    "    # Exclude private IP ranges\n",
    "    excluded_ranges = [\n",
    "        (10, 10),  # 10.0.0.0 - 10.255.255.255\n",
    "        (172, 172),  # 172.16.0.0 - 172.31.255.255\n",
    "        (192, 192),  # 192.168.0.0 - 192.168.255.255\n",
    "    ]\n",
    "\n",
    "    while True:\n",
    "        # Generate random first octet\n",
    "        first = random.randint(1, 223)\n",
    "        \n",
    "        # Ensure it's not a private IP range\n",
    "        if not any(start <= first <= end for start, end in excluded_ranges):\n",
    "            break\n",
    "\n",
    "    # Generate the other octets (2-4)\n",
    "    second = random.randint(0, 255)\n",
    "    third = random.randint(0, 255)\n",
    "    fourth = random.randint(0, 255)\n",
    "\n",
    "    # Combine to create the IP\n",
    "    return f\"{first}.{second}.{third}.{fourth}\"\n",
    "\n",
    "# Generate multiple public IPs\n",
    "public_ips = [generate_public_ip() for _ in range(10)]\n",
    "\n",
    "# Print the generated IPs\n",
    "print(\"Random Public IP Addresses:\")\n",
    "for ip in public_ips:\n",
    "    print(ip)"
   ]
  },
  {
   "cell_type": "code",
   "execution_count": null,
   "id": "44bc458a-fc9c-4c99-8781-a3e7934cbc08",
   "metadata": {},
   "outputs": [],
   "source": []
  }
 ],
 "metadata": {
  "kernelspec": {
   "display_name": "Python 3 (ipykernel)",
   "language": "python",
   "name": "python3"
  },
  "language_info": {
   "codemirror_mode": {
    "name": "ipython",
    "version": 3
   },
   "file_extension": ".py",
   "mimetype": "text/x-python",
   "name": "python",
   "nbconvert_exporter": "python",
   "pygments_lexer": "ipython3",
   "version": "3.12.7"
  }
 },
 "nbformat": 4,
 "nbformat_minor": 5
}

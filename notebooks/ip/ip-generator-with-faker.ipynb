{
 "cells": [
  {
   "cell_type": "code",
   "execution_count": null,
   "id": "db25c914-1252-4bae-8dbe-3a20e361bd73",
   "metadata": {},
   "outputs": [],
   "source": []
  },
  {
   "cell_type": "code",
   "execution_count": 1,
   "id": "0c10588e-e9e7-4b8c-b92b-91104a273df0",
   "metadata": {},
   "outputs": [
    {
     "data": {
      "text/plain": [
       "'conda env: ml312-2024; pyv: 3.12.7 | packaged by Anaconda, Inc. | (main, Oct  4 2024, 13:27:36) [GCC 11.2.0]'"
      ]
     },
     "execution_count": 1,
     "metadata": {},
     "output_type": "execute_result"
    }
   ],
   "source": [
    "import pyutil as pyu\n",
    "pyu.get_local_pyinfo()"
   ]
  },
  {
   "cell_type": "code",
   "execution_count": 1,
   "id": "c2ccb592-b983-4856-a241-5898cab06699",
   "metadata": {},
   "outputs": [
    {
     "name": "stdout",
     "output_type": "stream",
     "text": [
      "Collecting faker\n",
      "  Using cached Faker-33.1.0-py3-none-any.whl.metadata (15 kB)\n",
      "Requirement already satisfied: python-dateutil>=2.4 in /home/rajaraman/miniconda3/envs/ml312-2024/lib/python3.12/site-packages (from faker) (2.9.0.post0)\n",
      "Requirement already satisfied: typing-extensions in /home/rajaraman/miniconda3/envs/ml312-2024/lib/python3.12/site-packages (from faker) (4.12.2)\n",
      "Requirement already satisfied: six>=1.5 in /home/rajaraman/miniconda3/envs/ml312-2024/lib/python3.12/site-packages (from python-dateutil>=2.4->faker) (1.17.0)\n",
      "Using cached Faker-33.1.0-py3-none-any.whl (1.9 MB)\n",
      "Installing collected packages: faker\n",
      "Successfully installed faker-33.1.0\n"
     ]
    }
   ],
   "source": [
    "!pip install faker"
   ]
  },
  {
   "cell_type": "code",
   "execution_count": 2,
   "id": "13e5cb99-a2d3-4739-9a51-dc3cb631b46b",
   "metadata": {},
   "outputs": [
    {
     "name": "stdout",
     "output_type": "stream",
     "text": [
      "Random Public IP Addresses:\n",
      "2.37.66.211\n",
      "52.117.186.185\n",
      "37.240.60.172\n",
      "88.138.63.214\n",
      "144.169.15.106\n",
      "156.100.123.121\n",
      "5.82.142.108\n",
      "82.203.84.159\n",
      "152.120.45.241\n",
      "67.134.215.107\n"
     ]
    }
   ],
   "source": [
    "from faker import Faker\n",
    "\n",
    "# Initialize Faker\n",
    "fake = Faker()\n",
    "\n",
    "# Function to generate a public IP address\n",
    "def generate_public_ip():\n",
    "    while True:\n",
    "        ip = fake.ipv4()\n",
    "        # Split the IP address into its octets\n",
    "        octets = list(map(int, ip.split('.')))\n",
    "        # Check if it's in private IP ranges\n",
    "        if not (\n",
    "            (octets[0] == 10) or  # 10.0.0.0 - 10.255.255.255\n",
    "            (octets[0] == 172 and 16 <= octets[1] <= 31) or  # 172.16.0.0 - 172.31.255.255\n",
    "            (octets[0] == 192 and octets[1] == 168)  # 192.168.0.0 - 192.168.255.255\n",
    "        ):\n",
    "            return ip\n",
    "\n",
    "# Generate multiple public IPs\n",
    "public_ips = [generate_public_ip() for _ in range(10)]\n",
    "\n",
    "# Print the generated IPs\n",
    "print(\"Random Public IP Addresses:\")\n",
    "for ip in public_ips:\n",
    "    print(ip)\n"
   ]
  },
  {
   "cell_type": "code",
   "execution_count": null,
   "id": "fc932c6c-b5d7-434b-b562-092f5094c6c3",
   "metadata": {},
   "outputs": [],
   "source": []
  }
 ],
 "metadata": {
  "kernelspec": {
   "display_name": "Python 3 (ipykernel)",
   "language": "python",
   "name": "python3"
  },
  "language_info": {
   "codemirror_mode": {
    "name": "ipython",
    "version": 3
   },
   "file_extension": ".py",
   "mimetype": "text/x-python",
   "name": "python",
   "nbconvert_exporter": "python",
   "pygments_lexer": "ipython3",
   "version": "3.12.7"
  }
 },
 "nbformat": 4,
 "nbformat_minor": 5
}

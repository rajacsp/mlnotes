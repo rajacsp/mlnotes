{
 "cells": [
  {
   "cell_type": "code",
   "execution_count": null,
   "id": "db25c914-1252-4bae-8dbe-3a20e361bd73",
   "metadata": {},
   "outputs": [],
   "source": []
  },
  {
   "cell_type": "code",
   "execution_count": 1,
   "id": "0c10588e-e9e7-4b8c-b92b-91104a273df0",
   "metadata": {},
   "outputs": [
    {
     "data": {
      "text/plain": [
       "'conda env: ml312-2024; pyv: 3.12.7 | packaged by Anaconda, Inc. | (main, Oct  4 2024, 13:27:36) [GCC 11.2.0]'"
      ]
     },
     "execution_count": 1,
     "metadata": {},
     "output_type": "execute_result"
    }
   ],
   "source": [
    "import pyutil as pyu\n",
    "pyu.get_local_pyinfo()"
   ]
  },
  {
   "cell_type": "code",
   "execution_count": 1,
   "id": "c2ccb592-b983-4856-a241-5898cab06699",
   "metadata": {},
   "outputs": [
    {
     "name": "stdout",
     "output_type": "stream",
     "text": [
      "Long Integer: 3232235777 -> IP Address: 192.168.1.1\n"
     ]
    }
   ],
   "source": [
    "import ipaddress\n",
    "\n",
    "def long_to_ip(ip_long):\n",
    "    # Convert long integer to IPv4 string\n",
    "    return str(ipaddress.IPv4Address(ip_long))\n",
    "\n",
    "# Example usage\n",
    "ip_long = 3232235777\n",
    "ip = long_to_ip(ip_long)\n",
    "print(f\"Long Integer: {ip_long} -> IP Address: {ip}\")\n"
   ]
  },
  {
   "cell_type": "code",
   "execution_count": null,
   "id": "41b2c078-93bf-4536-b7dc-ba868bdc7517",
   "metadata": {},
   "outputs": [],
   "source": []
  }
 ],
 "metadata": {
  "kernelspec": {
   "display_name": "Python 3 (ipykernel)",
   "language": "python",
   "name": "python3"
  },
  "language_info": {
   "codemirror_mode": {
    "name": "ipython",
    "version": 3
   },
   "file_extension": ".py",
   "mimetype": "text/x-python",
   "name": "python",
   "nbconvert_exporter": "python",
   "pygments_lexer": "ipython3",
   "version": "3.12.7"
  }
 },
 "nbformat": 4,
 "nbformat_minor": 5
}

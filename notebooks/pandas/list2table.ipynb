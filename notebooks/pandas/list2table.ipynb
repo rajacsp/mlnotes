{
 "cells": [
  {
   "cell_type": "code",
   "execution_count": null,
   "id": "83127902-c4eb-4a6f-ae6e-a1dcf774eeed",
   "metadata": {},
   "outputs": [],
   "source": []
  },
  {
   "cell_type": "code",
   "execution_count": 1,
   "id": "88205da8-bb43-48e9-9cfc-2b19bca5ada2",
   "metadata": {},
   "outputs": [
    {
     "data": {
      "text/html": [
       "<style type=\"text/css\">\n",
       "#T_90abf_row0_col0, #T_90abf_row0_col1, #T_90abf_row0_col2, #T_90abf_row1_col0, #T_90abf_row1_col1, #T_90abf_row1_col2, #T_90abf_row2_col0, #T_90abf_row2_col1, #T_90abf_row2_col2 {\n",
       "  text-align: center;\n",
       "}\n",
       "</style>\n",
       "<table id=\"T_90abf\">\n",
       "  <thead>\n",
       "    <tr>\n",
       "      <th class=\"blank level0\" >&nbsp;</th>\n",
       "      <th id=\"T_90abf_level0_col0\" class=\"col_heading level0 col0\" >ID</th>\n",
       "      <th id=\"T_90abf_level0_col1\" class=\"col_heading level0 col1\" >Name</th>\n",
       "      <th id=\"T_90abf_level0_col2\" class=\"col_heading level0 col2\" >Age</th>\n",
       "    </tr>\n",
       "  </thead>\n",
       "  <tbody>\n",
       "    <tr>\n",
       "      <th id=\"T_90abf_level0_row0\" class=\"row_heading level0 row0\" >0</th>\n",
       "      <td id=\"T_90abf_row0_col0\" class=\"data row0 col0\" >1</td>\n",
       "      <td id=\"T_90abf_row0_col1\" class=\"data row0 col1\" >Alice</td>\n",
       "      <td id=\"T_90abf_row0_col2\" class=\"data row0 col2\" >25</td>\n",
       "    </tr>\n",
       "    <tr>\n",
       "      <th id=\"T_90abf_level0_row1\" class=\"row_heading level0 row1\" >1</th>\n",
       "      <td id=\"T_90abf_row1_col0\" class=\"data row1 col0\" >2</td>\n",
       "      <td id=\"T_90abf_row1_col1\" class=\"data row1 col1\" >Bob</td>\n",
       "      <td id=\"T_90abf_row1_col2\" class=\"data row1 col2\" >30</td>\n",
       "    </tr>\n",
       "    <tr>\n",
       "      <th id=\"T_90abf_level0_row2\" class=\"row_heading level0 row2\" >2</th>\n",
       "      <td id=\"T_90abf_row2_col0\" class=\"data row2 col0\" >3</td>\n",
       "      <td id=\"T_90abf_row2_col1\" class=\"data row2 col1\" >Charlie</td>\n",
       "      <td id=\"T_90abf_row2_col2\" class=\"data row2 col2\" >35</td>\n",
       "    </tr>\n",
       "  </tbody>\n",
       "</table>\n"
      ],
      "text/plain": [
       "<pandas.io.formats.style.Styler at 0x7f3a8d496790>"
      ]
     },
     "metadata": {},
     "output_type": "display_data"
    }
   ],
   "source": [
    "import pandas as pd\n",
    "from IPython.display import display\n",
    "\n",
    "# Example list of tuples\n",
    "data = [\n",
    "    (1, 'Alice', 25),\n",
    "    (2, 'Bob', 30),\n",
    "    (3, 'Charlie', 35)\n",
    "]\n",
    "\n",
    "# Convert the list of tuples to a DataFrame\n",
    "df = pd.DataFrame(data, columns=['ID', 'Name', 'Age'])\n",
    "\n",
    "# Set display options\n",
    "pd.set_option('display.max_rows', 100)\n",
    "pd.set_option('display.max_columns', 100)\n",
    "\n",
    "# Apply custom styling\n",
    "styled_df = df.style.set_properties(**{'text-align': 'center'})\n",
    "\n",
    "# Display the DataFrame\n",
    "display(styled_df)"
   ]
  },
  {
   "cell_type": "code",
   "execution_count": 5,
   "id": "64a2693e-b7ba-4618-946c-0a1b5c7aa19c",
   "metadata": {},
   "outputs": [],
   "source": [
    "\n",
    "import pandas as pd\n",
    "from IPython.display import display\n",
    "\n",
    "def list2table(cdata, col_list = None):\n",
    "\n",
    "    first_row = cdata[0]\n",
    "    cols_count = len(first_row)\n",
    "\n",
    "    if not col_list:\n",
    "        col_list = []\n",
    "        for idx in range(cols_count):\n",
    "            col_list.append(f'col_{idx}')\n",
    "\n",
    "    # Convert the list of tuples to a DataFrame\n",
    "    df1 = pd.DataFrame(cdata, columns = col_list)\n",
    "    \n",
    "    # Set display options\n",
    "    pd.set_option('display.max_rows', 100)\n",
    "    pd.set_option('display.max_columns', 100)\n",
    "    \n",
    "    # Apply custom styling\n",
    "    styled_df = df1.style.set_properties(**{'text-align': 'center'})\n",
    "    \n",
    "    # Display the DataFrame\n",
    "    display(styled_df)"
   ]
  },
  {
   "cell_type": "code",
   "execution_count": 9,
   "id": "c14417e1-d6f0-4d70-bc83-3a712b69d112",
   "metadata": {},
   "outputs": [],
   "source": [
    "data1 = [\n",
    "    (1, 'Raja', 25),\n",
    "    (2, 'Bob', 30),\n",
    "    (3, 'Charlie', 35),\n",
    "    (3, 'Charlie', 35)\n",
    "]"
   ]
  },
  {
   "cell_type": "code",
   "execution_count": 10,
   "id": "bae23bc8-6e7b-4733-b1f6-55698a5817fa",
   "metadata": {},
   "outputs": [
    {
     "data": {
      "text/html": [
       "<style type=\"text/css\">\n",
       "#T_62f1f_row0_col0, #T_62f1f_row0_col1, #T_62f1f_row0_col2, #T_62f1f_row1_col0, #T_62f1f_row1_col1, #T_62f1f_row1_col2, #T_62f1f_row2_col0, #T_62f1f_row2_col1, #T_62f1f_row2_col2, #T_62f1f_row3_col0, #T_62f1f_row3_col1, #T_62f1f_row3_col2 {\n",
       "  text-align: center;\n",
       "}\n",
       "</style>\n",
       "<table id=\"T_62f1f\">\n",
       "  <thead>\n",
       "    <tr>\n",
       "      <th class=\"blank level0\" >&nbsp;</th>\n",
       "      <th id=\"T_62f1f_level0_col0\" class=\"col_heading level0 col0\" >id</th>\n",
       "      <th id=\"T_62f1f_level0_col1\" class=\"col_heading level0 col1\" >name</th>\n",
       "      <th id=\"T_62f1f_level0_col2\" class=\"col_heading level0 col2\" >age</th>\n",
       "    </tr>\n",
       "  </thead>\n",
       "  <tbody>\n",
       "    <tr>\n",
       "      <th id=\"T_62f1f_level0_row0\" class=\"row_heading level0 row0\" >0</th>\n",
       "      <td id=\"T_62f1f_row0_col0\" class=\"data row0 col0\" >1</td>\n",
       "      <td id=\"T_62f1f_row0_col1\" class=\"data row0 col1\" >Raja</td>\n",
       "      <td id=\"T_62f1f_row0_col2\" class=\"data row0 col2\" >25</td>\n",
       "    </tr>\n",
       "    <tr>\n",
       "      <th id=\"T_62f1f_level0_row1\" class=\"row_heading level0 row1\" >1</th>\n",
       "      <td id=\"T_62f1f_row1_col0\" class=\"data row1 col0\" >2</td>\n",
       "      <td id=\"T_62f1f_row1_col1\" class=\"data row1 col1\" >Bob</td>\n",
       "      <td id=\"T_62f1f_row1_col2\" class=\"data row1 col2\" >30</td>\n",
       "    </tr>\n",
       "    <tr>\n",
       "      <th id=\"T_62f1f_level0_row2\" class=\"row_heading level0 row2\" >2</th>\n",
       "      <td id=\"T_62f1f_row2_col0\" class=\"data row2 col0\" >3</td>\n",
       "      <td id=\"T_62f1f_row2_col1\" class=\"data row2 col1\" >Charlie</td>\n",
       "      <td id=\"T_62f1f_row2_col2\" class=\"data row2 col2\" >35</td>\n",
       "    </tr>\n",
       "    <tr>\n",
       "      <th id=\"T_62f1f_level0_row3\" class=\"row_heading level0 row3\" >3</th>\n",
       "      <td id=\"T_62f1f_row3_col0\" class=\"data row3 col0\" >3</td>\n",
       "      <td id=\"T_62f1f_row3_col1\" class=\"data row3 col1\" >Charlie</td>\n",
       "      <td id=\"T_62f1f_row3_col2\" class=\"data row3 col2\" >35</td>\n",
       "    </tr>\n",
       "  </tbody>\n",
       "</table>\n"
      ],
      "text/plain": [
       "<pandas.io.formats.style.Styler at 0x7f3a8b55c790>"
      ]
     },
     "metadata": {},
     "output_type": "display_data"
    }
   ],
   "source": [
    "list2table(data1, [\"id\", \"name\",  \"age\"])"
   ]
  },
  {
   "cell_type": "code",
   "execution_count": null,
   "id": "5448ca82-7742-434d-b582-8819cb166049",
   "metadata": {},
   "outputs": [],
   "source": []
  },
  {
   "cell_type": "code",
   "execution_count": null,
   "id": "d767c9b3-921a-48b4-9cbb-7001d5eb7deb",
   "metadata": {},
   "outputs": [],
   "source": []
  }
 ],
 "metadata": {
  "kernelspec": {
   "display_name": "Python 3 (ipykernel)",
   "language": "python",
   "name": "python3"
  },
  "language_info": {
   "codemirror_mode": {
    "name": "ipython",
    "version": 3
   },
   "file_extension": ".py",
   "mimetype": "text/x-python",
   "name": "python",
   "nbconvert_exporter": "python",
   "pygments_lexer": "ipython3",
   "version": "3.11.10"
  }
 },
 "nbformat": 4,
 "nbformat_minor": 5
}

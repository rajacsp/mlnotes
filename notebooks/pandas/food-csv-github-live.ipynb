{
 "cells": [
  {
   "cell_type": "code",
   "execution_count": null,
   "id": "e74ffd68-954a-41d7-9d2d-0d4616c21f9c",
   "metadata": {},
   "outputs": [],
   "source": []
  },
  {
   "cell_type": "code",
   "execution_count": null,
   "id": "53f72692-dcd5-4a3f-ba19-f724a5d7afd3",
   "metadata": {},
   "outputs": [],
   "source": [
    "# https://github.com/rajacsp/public-dataset/blob/master/food.csv"
   ]
  },
  {
   "cell_type": "code",
   "execution_count": 8,
   "id": "077db89d-3118-4560-82ea-6d7716cc9f40",
   "metadata": {},
   "outputs": [],
   "source": [
    "from io import BytesIO"
   ]
  },
  {
   "cell_type": "code",
   "execution_count": 9,
   "id": "56214857-ce25-4380-a448-6087f61bdb0b",
   "metadata": {},
   "outputs": [],
   "source": [
    "import requests\n",
    "import pandas as pd"
   ]
  },
  {
   "cell_type": "code",
   "execution_count": 10,
   "id": "000bb8cf-d590-413d-acc4-c7571738a9da",
   "metadata": {},
   "outputs": [],
   "source": [
    "FILEPATH = 'https://raw.githubusercontent.com/rajacsp/public-dataset/master/food.csv'"
   ]
  },
  {
   "cell_type": "code",
   "execution_count": 11,
   "id": "f98099e1-245a-4b08-9f57-92f2a2c72891",
   "metadata": {},
   "outputs": [],
   "source": [
    "r = requests.get(FILEPATH)"
   ]
  },
  {
   "cell_type": "code",
   "execution_count": 12,
   "id": "e19e3706-84ce-42a5-a480-05dedfa91ae7",
   "metadata": {},
   "outputs": [],
   "source": [
    "data = r.content"
   ]
  },
  {
   "cell_type": "code",
   "execution_count": 13,
   "id": "2563e89e-f9e4-4e12-a3e5-eabea786a89b",
   "metadata": {},
   "outputs": [
    {
     "data": {
      "text/plain": [
       "b'Food_ID,Food_Name,Category,Price,Calories,Available\\n1,Pizza,Fast Food,8.99,300,Yes\\n2,Burger,Fast Food,5.49,450,Yes\\n3,Pasta,Italian,7.99,400,No\\n4,Sushi,Japanese,12.99,250,Yes\\n5,Tacos,Mexican,6.99,200,No\\n6,Salad,Healthy,4.99,150,Yes\\n7,Fried Rice,Asian,5.99,350,Yes\\n8,Ice Cream,Dessert,3.99,200,Yes\\n9,Steak,Grill,14.99,700,No\\n10,Soup,Healthy,3.49,100,Yes\\n'"
      ]
     },
     "execution_count": 13,
     "metadata": {},
     "output_type": "execute_result"
    }
   ],
   "source": [
    "data"
   ]
  },
  {
   "cell_type": "code",
   "execution_count": null,
   "id": "90b0897a-0eed-494e-b6d1-5db94e60b337",
   "metadata": {},
   "outputs": [],
   "source": []
  },
  {
   "cell_type": "code",
   "execution_count": 14,
   "id": "28a64caa-da84-4724-93a1-3c73dccb745c",
   "metadata": {},
   "outputs": [],
   "source": [
    "onlinedata = BytesIO(data)"
   ]
  },
  {
   "cell_type": "code",
   "execution_count": 15,
   "id": "7ec06a75-9019-4ae8-ac7b-35a9eb95c263",
   "metadata": {},
   "outputs": [],
   "source": [
    "df = pd.read_csv(onlinedata, index_col=0)"
   ]
  },
  {
   "cell_type": "code",
   "execution_count": 16,
   "id": "75a91b60-0f4f-43ed-a576-0ab5b2dab66e",
   "metadata": {},
   "outputs": [
    {
     "data": {
      "text/html": [
       "<div>\n",
       "<style scoped>\n",
       "    .dataframe tbody tr th:only-of-type {\n",
       "        vertical-align: middle;\n",
       "    }\n",
       "\n",
       "    .dataframe tbody tr th {\n",
       "        vertical-align: top;\n",
       "    }\n",
       "\n",
       "    .dataframe thead th {\n",
       "        text-align: right;\n",
       "    }\n",
       "</style>\n",
       "<table border=\"1\" class=\"dataframe\">\n",
       "  <thead>\n",
       "    <tr style=\"text-align: right;\">\n",
       "      <th></th>\n",
       "      <th>Food_Name</th>\n",
       "      <th>Category</th>\n",
       "      <th>Price</th>\n",
       "      <th>Calories</th>\n",
       "      <th>Available</th>\n",
       "    </tr>\n",
       "    <tr>\n",
       "      <th>Food_ID</th>\n",
       "      <th></th>\n",
       "      <th></th>\n",
       "      <th></th>\n",
       "      <th></th>\n",
       "      <th></th>\n",
       "    </tr>\n",
       "  </thead>\n",
       "  <tbody>\n",
       "    <tr>\n",
       "      <th>1</th>\n",
       "      <td>Pizza</td>\n",
       "      <td>Fast Food</td>\n",
       "      <td>8.99</td>\n",
       "      <td>300</td>\n",
       "      <td>Yes</td>\n",
       "    </tr>\n",
       "    <tr>\n",
       "      <th>2</th>\n",
       "      <td>Burger</td>\n",
       "      <td>Fast Food</td>\n",
       "      <td>5.49</td>\n",
       "      <td>450</td>\n",
       "      <td>Yes</td>\n",
       "    </tr>\n",
       "  </tbody>\n",
       "</table>\n",
       "</div>"
      ],
      "text/plain": [
       "        Food_Name   Category  Price  Calories Available\n",
       "Food_ID                                                \n",
       "1           Pizza  Fast Food   8.99       300       Yes\n",
       "2          Burger  Fast Food   5.49       450       Yes"
      ]
     },
     "execution_count": 16,
     "metadata": {},
     "output_type": "execute_result"
    }
   ],
   "source": [
    "df.head(2)"
   ]
  },
  {
   "cell_type": "code",
   "execution_count": null,
   "id": "872ef113-f78b-45e8-8a7d-4b4f44ad5196",
   "metadata": {},
   "outputs": [],
   "source": []
  }
 ],
 "metadata": {
  "kernelspec": {
   "display_name": "Python 3 (ipykernel)",
   "language": "python",
   "name": "python3"
  },
  "language_info": {
   "codemirror_mode": {
    "name": "ipython",
    "version": 3
   },
   "file_extension": ".py",
   "mimetype": "text/x-python",
   "name": "python",
   "nbconvert_exporter": "python",
   "pygments_lexer": "ipython3",
   "version": "3.12.7"
  }
 },
 "nbformat": 4,
 "nbformat_minor": 5
}

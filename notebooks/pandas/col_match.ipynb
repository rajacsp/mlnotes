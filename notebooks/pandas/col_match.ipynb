{
 "cells": [
  {
   "cell_type": "code",
   "execution_count": null,
   "id": "db25c914-1252-4bae-8dbe-3a20e361bd73",
   "metadata": {},
   "outputs": [],
   "source": []
  },
  {
   "cell_type": "code",
   "execution_count": 1,
   "id": "0c10588e-e9e7-4b8c-b92b-91104a273df0",
   "metadata": {},
   "outputs": [
    {
     "data": {
      "text/plain": [
       "'conda env: ml311; pyv: 3.11.10 (main, Oct  3 2024, 07:29:13) [GCC 11.2.0]'"
      ]
     },
     "execution_count": 1,
     "metadata": {},
     "output_type": "execute_result"
    }
   ],
   "source": [
    "import pyutil as pyu\n",
    "pyu.get_local_pyinfo()"
   ]
  },
  {
   "cell_type": "code",
   "execution_count": 2,
   "id": "c2ccb592-b983-4856-a241-5898cab06699",
   "metadata": {},
   "outputs": [
    {
     "name": "stdout",
     "output_type": "stream",
     "text": [
      "haystack-ai==2.8.0\n",
      "ollama-haystack is not installed in the current environment.\n",
      "python-dotenv==0.21.0\n",
      "\n"
     ]
    }
   ],
   "source": [
    "print(pyu.ps2(\"haystack-ai ollama-haystack python-dotenv\"))"
   ]
  },
  {
   "cell_type": "code",
   "execution_count": null,
   "id": "e290a4be-0793-4902-b10b-44429cb937f9",
   "metadata": {},
   "outputs": [],
   "source": []
  },
  {
   "cell_type": "code",
   "execution_count": 8,
   "id": "fd06a598-d52f-4cf9-b7eb-6aa04185fcaf",
   "metadata": {},
   "outputs": [
    {
     "name": "stdout",
     "output_type": "stream",
     "text": [
      "[]\n"
     ]
    }
   ],
   "source": [
    "import pandas as pd\n",
    "\n",
    "# Sample DataFrame\n",
    "data = {\n",
    "    'Column1': [1, 2, 3, 4],\n",
    "    'Column2': ['A', 'B', 'C', 'D']\n",
    "}\n",
    "df = pd.DataFrame(data)\n",
    "\n",
    "# Value to match\n",
    "value_to_match = 'E'\n",
    "\n",
    "# Filter rows where the value in 'Column1' matches\n",
    "matching_rows = df[df['Column2'] == value_to_match]\n",
    "\n",
    "# Display the matching rows\n",
    "print(matching_rows['Column1'].values)"
   ]
  },
  {
   "cell_type": "code",
   "execution_count": 12,
   "id": "c50d8acf-eff3-4a1e-9120-abb46bfe2082",
   "metadata": {},
   "outputs": [],
   "source": [
    "def get_matched_index(df1, key):\n",
    "\n",
    "    matching_rows = df1[df1['Column2'] == key]\n",
    "\n",
    "    return matching_rows['Column1'].values[0] if len(matching_rows['Column1'].values) > 0 else -1"
   ]
  },
  {
   "cell_type": "code",
   "execution_count": 14,
   "id": "1a72afe9-70d0-46b1-bff2-98e5c87d334e",
   "metadata": {},
   "outputs": [
    {
     "data": {
      "text/plain": [
       "-1"
      ]
     },
     "execution_count": 14,
     "metadata": {},
     "output_type": "execute_result"
    }
   ],
   "source": [
    "get_matched_index(df, 'E')"
   ]
  },
  {
   "cell_type": "code",
   "execution_count": null,
   "id": "af2551ca-5d17-4dd6-b12d-6c85a92abcb4",
   "metadata": {},
   "outputs": [],
   "source": []
  },
  {
   "cell_type": "code",
   "execution_count": null,
   "id": "c894ecd2-5278-46a1-873f-2fc1dd401e07",
   "metadata": {},
   "outputs": [],
   "source": []
  }
 ],
 "metadata": {
  "kernelspec": {
   "display_name": "Python 3 (ipykernel)",
   "language": "python",
   "name": "python3"
  },
  "language_info": {
   "codemirror_mode": {
    "name": "ipython",
    "version": 3
   },
   "file_extension": ".py",
   "mimetype": "text/x-python",
   "name": "python",
   "nbconvert_exporter": "python",
   "pygments_lexer": "ipython3",
   "version": "3.11.10"
  }
 },
 "nbformat": 4,
 "nbformat_minor": 5
}

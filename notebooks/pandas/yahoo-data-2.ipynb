{
 "cells": [
  {
   "cell_type": "code",
   "execution_count": null,
   "id": "db25c914-1252-4bae-8dbe-3a20e361bd73",
   "metadata": {},
   "outputs": [],
   "source": []
  },
  {
   "cell_type": "code",
   "execution_count": 1,
   "id": "0c10588e-e9e7-4b8c-b92b-91104a273df0",
   "metadata": {},
   "outputs": [
    {
     "data": {
      "text/plain": [
       "'conda env: ml312-2024; pyv: 3.12.7 | packaged by Anaconda, Inc. | (main, Oct  4 2024, 13:27:36) [GCC 11.2.0]'"
      ]
     },
     "execution_count": 1,
     "metadata": {},
     "output_type": "execute_result"
    }
   ],
   "source": [
    "import pyutil as pyu\n",
    "pyu.get_local_pyinfo()"
   ]
  },
  {
   "cell_type": "code",
   "execution_count": 5,
   "id": "f31847b4-abac-4992-82a9-bf8ec1c7890f",
   "metadata": {},
   "outputs": [],
   "source": [
    "# !pip install yfinance --upgrade --no-cache-dir"
   ]
  },
  {
   "cell_type": "code",
   "execution_count": 9,
   "id": "c2ccb592-b983-4856-a241-5898cab06699",
   "metadata": {},
   "outputs": [
    {
     "name": "stdout",
     "output_type": "stream",
     "text": [
      "pandas==2.2.3\n",
      "yfinance==0.2.51\n",
      "\n"
     ]
    }
   ],
   "source": [
    "print(pyu.ps2(\"pandas yfinance\"))"
   ]
  },
  {
   "cell_type": "code",
   "execution_count": null,
   "id": "e290a4be-0793-4902-b10b-44429cb937f9",
   "metadata": {},
   "outputs": [],
   "source": []
  },
  {
   "cell_type": "code",
   "execution_count": 8,
   "id": "fd06a598-d52f-4cf9-b7eb-6aa04185fcaf",
   "metadata": {},
   "outputs": [
    {
     "name": "stderr",
     "output_type": "stream",
     "text": [
      "[*********************100%***********************]  1 of 1 completed"
     ]
    },
    {
     "name": "stdout",
     "output_type": "stream",
     "text": [
      "Price           Close       High        Low  Open    Volume\n",
      "Ticker          ^GSPC      ^GSPC      ^GSPC ^GSPC     ^GSPC\n",
      "Date                                                       \n",
      "1976-01-02  90.900002  91.180000  89.809998   0.0  10300000\n",
      "1976-01-05  92.580002  92.839996  90.849998   0.0  21960000\n",
      "1976-01-06  93.529999  94.180000  92.370003   0.0  31270000\n",
      "1976-01-07  93.949997  95.150002  92.910004   0.0  33170000\n",
      "1976-01-08  94.580002  95.470001  93.410004   0.0  29030000\n"
     ]
    },
    {
     "name": "stderr",
     "output_type": "stream",
     "text": [
      "\n"
     ]
    }
   ],
   "source": [
    "import yfinance as yf\n",
    "from datetime import datetime\n",
    "\n",
    "# Define the start and end dates\n",
    "start = datetime(1976, 1, 1)\n",
    "end = datetime(2013, 12, 31)\n",
    "\n",
    "# Download data using yfinance\n",
    "sp = yf.download('^GSPC', start=start, end=end)\n",
    "\n",
    "print(sp.head())  # Display the first few rows of data"
   ]
  },
  {
   "cell_type": "code",
   "execution_count": null,
   "id": "b9d8ebd7-6434-4c9a-9019-0a4fb01a7d07",
   "metadata": {},
   "outputs": [],
   "source": []
  },
  {
   "cell_type": "code",
   "execution_count": null,
   "id": "a059ff65-fce2-4592-ab3e-8f6516efe6d1",
   "metadata": {},
   "outputs": [],
   "source": []
  }
 ],
 "metadata": {
  "kernelspec": {
   "display_name": "Python 3 (ipykernel)",
   "language": "python",
   "name": "python3"
  },
  "language_info": {
   "codemirror_mode": {
    "name": "ipython",
    "version": 3
   },
   "file_extension": ".py",
   "mimetype": "text/x-python",
   "name": "python",
   "nbconvert_exporter": "python",
   "pygments_lexer": "ipython3",
   "version": "3.12.7"
  }
 },
 "nbformat": 4,
 "nbformat_minor": 5
}

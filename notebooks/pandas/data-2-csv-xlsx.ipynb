{
 "cells": [
  {
   "cell_type": "code",
   "execution_count": null,
   "id": "db25c914-1252-4bae-8dbe-3a20e361bd73",
   "metadata": {},
   "outputs": [],
   "source": []
  },
  {
   "cell_type": "code",
   "execution_count": 16,
   "id": "0c10588e-e9e7-4b8c-b92b-91104a273df0",
   "metadata": {},
   "outputs": [
    {
     "data": {
      "text/plain": [
       "'conda env: ml312-2024; pyv: 3.12.7 | packaged by Anaconda, Inc. | (main, Oct  4 2024, 13:27:36) [GCC 11.2.0]'"
      ]
     },
     "execution_count": 16,
     "metadata": {},
     "output_type": "execute_result"
    }
   ],
   "source": [
    "import pyutil as pyu\n",
    "pyu.get_local_pyinfo()"
   ]
  },
  {
   "cell_type": "code",
   "execution_count": 17,
   "id": "c2ccb592-b983-4856-a241-5898cab06699",
   "metadata": {},
   "outputs": [
    {
     "name": "stdout",
     "output_type": "stream",
     "text": [
      "pandas==2.2.3\n",
      "faker==33.1.0\n",
      "\n"
     ]
    }
   ],
   "source": [
    "print(pyu.ps2(\"pandas faker\"))"
   ]
  },
  {
   "cell_type": "code",
   "execution_count": null,
   "id": "e290a4be-0793-4902-b10b-44429cb937f9",
   "metadata": {},
   "outputs": [],
   "source": []
  },
  {
   "cell_type": "code",
   "execution_count": 25,
   "id": "fd06a598-d52f-4cf9-b7eb-6aa04185fcaf",
   "metadata": {},
   "outputs": [],
   "source": [
    "from faker import Faker\n",
    "import pandas as pd"
   ]
  },
  {
   "cell_type": "code",
   "execution_count": 26,
   "id": "5ee5e6e6-9b87-4453-9cd0-21d7b3d979a5",
   "metadata": {},
   "outputs": [],
   "source": [
    "fake = Faker()"
   ]
  },
  {
   "cell_type": "code",
   "execution_count": 27,
   "id": "5796ae48-1643-43d6-98a4-af7ad143eff0",
   "metadata": {},
   "outputs": [],
   "source": [
    "rows_count = 10"
   ]
  },
  {
   "cell_type": "code",
   "execution_count": 28,
   "id": "c5bedbc9-0e8b-4b8a-a618-88e3f2c01750",
   "metadata": {},
   "outputs": [],
   "source": [
    "data = {\n",
    "    \"Name\": [fake.name() for _ in range(rows_count)],\n",
    "    \"Email\": [fake.email() for _ in range(rows_count)],\n",
    "    \"City\": [fake.city() for _ in range(rows_count)],\n",
    "    \"Country\": [fake.country() for _ in range(rows_count)]\n",
    "}"
   ]
  },
  {
   "cell_type": "code",
   "execution_count": 29,
   "id": "523d297d-d903-4e19-8f17-fc6b40ab4058",
   "metadata": {},
   "outputs": [],
   "source": [
    "# data"
   ]
  },
  {
   "cell_type": "code",
   "execution_count": 30,
   "id": "972058ca-27d8-4a7a-b67b-ecc198535e80",
   "metadata": {},
   "outputs": [],
   "source": [
    "df = pd.DataFrame(data)"
   ]
  },
  {
   "cell_type": "code",
   "execution_count": 31,
   "id": "51075f48-7565-463a-8c57-1cfcfceece96",
   "metadata": {},
   "outputs": [],
   "source": [
    "df.index = df.index + 1"
   ]
  },
  {
   "cell_type": "code",
   "execution_count": 32,
   "id": "872119bf-15fc-4179-a408-a09ac7412d34",
   "metadata": {},
   "outputs": [],
   "source": [
    "df.index.name = 'Index'"
   ]
  },
  {
   "cell_type": "code",
   "execution_count": 33,
   "id": "f6277276-6569-44dc-a5d7-95bc5e7dcd3e",
   "metadata": {},
   "outputs": [],
   "source": [
    "df.to_csv('fake_data_1.csv', index=True)"
   ]
  },
  {
   "cell_type": "code",
   "execution_count": null,
   "id": "f76db6ce-da4e-4598-8ede-5a8ed93dc180",
   "metadata": {},
   "outputs": [],
   "source": []
  }
 ],
 "metadata": {
  "kernelspec": {
   "display_name": "Python 3 (ipykernel)",
   "language": "python",
   "name": "python3"
  },
  "language_info": {
   "codemirror_mode": {
    "name": "ipython",
    "version": 3
   },
   "file_extension": ".py",
   "mimetype": "text/x-python",
   "name": "python",
   "nbconvert_exporter": "python",
   "pygments_lexer": "ipython3",
   "version": "3.12.7"
  }
 },
 "nbformat": 4,
 "nbformat_minor": 5
}

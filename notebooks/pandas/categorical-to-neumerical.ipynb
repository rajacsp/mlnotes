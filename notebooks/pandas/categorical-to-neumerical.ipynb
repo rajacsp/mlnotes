{
 "cells": [
  {
   "cell_type": "code",
   "execution_count": 1,
   "id": "c60bb84c-4c7f-4f78-bd3b-9f15b0d30bb8",
   "metadata": {},
   "outputs": [],
   "source": [
    "import numpy as np\n",
    "import pandas as pd"
   ]
  },
  {
   "cell_type": "code",
   "execution_count": 2,
   "id": "7a48bdb9-0469-4c79-a233-3293ecd2d145",
   "metadata": {},
   "outputs": [],
   "source": [
    "data = {\n",
    "    'sam' : ['archery', 'badminton', 'athletics', 'cycling_road', 'canoe_sprint', 'boxing'],\n",
    "    'medal' : ['gold', 'silver', 'bronze', 'gold', 'gold', 'silver']\n",
    "}"
   ]
  },
  {
   "cell_type": "code",
   "execution_count": 3,
   "id": "e14e4bab-5872-4c74-ae84-1e47642eb6c3",
   "metadata": {},
   "outputs": [],
   "source": [
    "df = pd.DataFrame(data)"
   ]
  },
  {
   "cell_type": "code",
   "execution_count": 4,
   "id": "1f890d25-2529-44e2-8a10-680507abc4ce",
   "metadata": {},
   "outputs": [
    {
     "data": {
      "text/html": [
       "<div>\n",
       "<style scoped>\n",
       "    .dataframe tbody tr th:only-of-type {\n",
       "        vertical-align: middle;\n",
       "    }\n",
       "\n",
       "    .dataframe tbody tr th {\n",
       "        vertical-align: top;\n",
       "    }\n",
       "\n",
       "    .dataframe thead th {\n",
       "        text-align: right;\n",
       "    }\n",
       "</style>\n",
       "<table border=\"1\" class=\"dataframe\">\n",
       "  <thead>\n",
       "    <tr style=\"text-align: right;\">\n",
       "      <th></th>\n",
       "      <th>sam</th>\n",
       "      <th>medal</th>\n",
       "    </tr>\n",
       "  </thead>\n",
       "  <tbody>\n",
       "    <tr>\n",
       "      <th>0</th>\n",
       "      <td>archery</td>\n",
       "      <td>gold</td>\n",
       "    </tr>\n",
       "    <tr>\n",
       "      <th>1</th>\n",
       "      <td>badminton</td>\n",
       "      <td>silver</td>\n",
       "    </tr>\n",
       "    <tr>\n",
       "      <th>2</th>\n",
       "      <td>athletics</td>\n",
       "      <td>bronze</td>\n",
       "    </tr>\n",
       "    <tr>\n",
       "      <th>3</th>\n",
       "      <td>cycling_road</td>\n",
       "      <td>gold</td>\n",
       "    </tr>\n",
       "    <tr>\n",
       "      <th>4</th>\n",
       "      <td>canoe_sprint</td>\n",
       "      <td>gold</td>\n",
       "    </tr>\n",
       "    <tr>\n",
       "      <th>5</th>\n",
       "      <td>boxing</td>\n",
       "      <td>silver</td>\n",
       "    </tr>\n",
       "  </tbody>\n",
       "</table>\n",
       "</div>"
      ],
      "text/plain": [
       "            sam   medal\n",
       "0       archery    gold\n",
       "1     badminton  silver\n",
       "2     athletics  bronze\n",
       "3  cycling_road    gold\n",
       "4  canoe_sprint    gold\n",
       "5        boxing  silver"
      ]
     },
     "execution_count": 4,
     "metadata": {},
     "output_type": "execute_result"
    }
   ],
   "source": [
    "df"
   ]
  },
  {
   "cell_type": "code",
   "execution_count": 5,
   "id": "ea4fd303-c2ac-44db-86d1-528a051c5f4f",
   "metadata": {},
   "outputs": [],
   "source": [
    "def get_medal_points(medal):\n",
    "    if(medal == 'gold'):\n",
    "        return 10\n",
    "    \n",
    "    if(medal == 'silver'):\n",
    "        return 5\n",
    "    \n",
    "    if(medal == 'bronze'):\n",
    "        return 1\n",
    "    \n",
    "    return 0"
   ]
  },
  {
   "cell_type": "code",
   "execution_count": 6,
   "id": "61d5e99a-5336-4f2c-99d1-3aa42032724a",
   "metadata": {},
   "outputs": [],
   "source": [
    "df['medal_points'] = df['medal'].apply(get_medal_points)"
   ]
  },
  {
   "cell_type": "code",
   "execution_count": 7,
   "id": "fff34c72-4706-4649-9a9e-de922405e705",
   "metadata": {},
   "outputs": [
    {
     "data": {
      "text/html": [
       "<div>\n",
       "<style scoped>\n",
       "    .dataframe tbody tr th:only-of-type {\n",
       "        vertical-align: middle;\n",
       "    }\n",
       "\n",
       "    .dataframe tbody tr th {\n",
       "        vertical-align: top;\n",
       "    }\n",
       "\n",
       "    .dataframe thead th {\n",
       "        text-align: right;\n",
       "    }\n",
       "</style>\n",
       "<table border=\"1\" class=\"dataframe\">\n",
       "  <thead>\n",
       "    <tr style=\"text-align: right;\">\n",
       "      <th></th>\n",
       "      <th>sam</th>\n",
       "      <th>medal</th>\n",
       "      <th>medal_points</th>\n",
       "    </tr>\n",
       "  </thead>\n",
       "  <tbody>\n",
       "    <tr>\n",
       "      <th>0</th>\n",
       "      <td>archery</td>\n",
       "      <td>gold</td>\n",
       "      <td>10</td>\n",
       "    </tr>\n",
       "    <tr>\n",
       "      <th>1</th>\n",
       "      <td>badminton</td>\n",
       "      <td>silver</td>\n",
       "      <td>5</td>\n",
       "    </tr>\n",
       "    <tr>\n",
       "      <th>2</th>\n",
       "      <td>athletics</td>\n",
       "      <td>bronze</td>\n",
       "      <td>1</td>\n",
       "    </tr>\n",
       "    <tr>\n",
       "      <th>3</th>\n",
       "      <td>cycling_road</td>\n",
       "      <td>gold</td>\n",
       "      <td>10</td>\n",
       "    </tr>\n",
       "    <tr>\n",
       "      <th>4</th>\n",
       "      <td>canoe_sprint</td>\n",
       "      <td>gold</td>\n",
       "      <td>10</td>\n",
       "    </tr>\n",
       "    <tr>\n",
       "      <th>5</th>\n",
       "      <td>boxing</td>\n",
       "      <td>silver</td>\n",
       "      <td>5</td>\n",
       "    </tr>\n",
       "  </tbody>\n",
       "</table>\n",
       "</div>"
      ],
      "text/plain": [
       "            sam   medal  medal_points\n",
       "0       archery    gold            10\n",
       "1     badminton  silver             5\n",
       "2     athletics  bronze             1\n",
       "3  cycling_road    gold            10\n",
       "4  canoe_sprint    gold            10\n",
       "5        boxing  silver             5"
      ]
     },
     "execution_count": 7,
     "metadata": {},
     "output_type": "execute_result"
    }
   ],
   "source": [
    "df"
   ]
  },
  {
   "cell_type": "code",
   "execution_count": null,
   "id": "ba16cfd5-323e-4c78-8c33-bb9dc9a072d1",
   "metadata": {},
   "outputs": [],
   "source": []
  }
 ],
 "metadata": {
  "kernelspec": {
   "display_name": "Python 3 (ipykernel)",
   "language": "python",
   "name": "python3"
  },
  "language_info": {
   "codemirror_mode": {
    "name": "ipython",
    "version": 3
   },
   "file_extension": ".py",
   "mimetype": "text/x-python",
   "name": "python",
   "nbconvert_exporter": "python",
   "pygments_lexer": "ipython3",
   "version": "3.12.4"
  }
 },
 "nbformat": 4,
 "nbformat_minor": 5
}

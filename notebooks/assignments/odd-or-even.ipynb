{
 "cells": [
  {
   "cell_type": "markdown",
   "id": "e6f48545-5caf-466e-a0ec-94c217c45956",
   "metadata": {},
   "source": [
    "Nov 20 2024\n",
    "\n",
    "Write a Python program that checks if a given number is odd or even."
   ]
  },
  {
   "cell_type": "code",
   "execution_count": 14,
   "id": "79152cac-97de-47b6-aa85-6a97841d86a6",
   "metadata": {},
   "outputs": [],
   "source": [
    "def check_odd_or_even(input_number):\n",
    "\n",
    "    if input_number % 2 == 0:\n",
    "        return f\"{input_number} is Even\"\n",
    "\n",
    "    return f\"{input_number} is Odd\""
   ]
  },
  {
   "cell_type": "code",
   "execution_count": 15,
   "id": "66dd7ec4-2f84-45ae-abbd-631173d910fc",
   "metadata": {},
   "outputs": [
    {
     "data": {
      "text/plain": [
       "'7 is Odd'"
      ]
     },
     "execution_count": 15,
     "metadata": {},
     "output_type": "execute_result"
    }
   ],
   "source": [
    "check_odd_or_even(7)"
   ]
  },
  {
   "cell_type": "code",
   "execution_count": 16,
   "id": "8bcf6e0c-3bd9-4635-8b8e-2ac02cc2062d",
   "metadata": {},
   "outputs": [
    {
     "data": {
      "text/plain": [
       "'8 is Even'"
      ]
     },
     "execution_count": 16,
     "metadata": {},
     "output_type": "execute_result"
    }
   ],
   "source": [
    "check_odd_or_even(8)"
   ]
  },
  {
   "cell_type": "code",
   "execution_count": 17,
   "id": "eac819cf-0dee-4615-9fc0-3f2174579cda",
   "metadata": {},
   "outputs": [
    {
     "data": {
      "text/plain": [
       "'0 is Even'"
      ]
     },
     "execution_count": 17,
     "metadata": {},
     "output_type": "execute_result"
    }
   ],
   "source": [
    "check_odd_or_even(0)"
   ]
  },
  {
   "cell_type": "code",
   "execution_count": 18,
   "id": "8781f680-85a1-42b7-bb96-7e9b8bdff860",
   "metadata": {},
   "outputs": [
    {
     "data": {
      "text/plain": [
       "'-1 is Odd'"
      ]
     },
     "execution_count": 18,
     "metadata": {},
     "output_type": "execute_result"
    }
   ],
   "source": [
    "check_odd_or_even(-1)"
   ]
  },
  {
   "cell_type": "code",
   "execution_count": null,
   "id": "407e3c76-4e07-4bd3-8a86-f5f19b273087",
   "metadata": {},
   "outputs": [],
   "source": []
  }
 ],
 "metadata": {
  "kernelspec": {
   "display_name": "Python 3 (ipykernel)",
   "language": "python",
   "name": "python3"
  },
  "language_info": {
   "codemirror_mode": {
    "name": "ipython",
    "version": 3
   },
   "file_extension": ".py",
   "mimetype": "text/x-python",
   "name": "python",
   "nbconvert_exporter": "python",
   "pygments_lexer": "ipython3",
   "version": "3.12.4"
  }
 },
 "nbformat": 4,
 "nbformat_minor": 5
}

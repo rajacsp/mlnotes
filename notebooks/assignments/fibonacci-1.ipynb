{
 "cells": [
  {
   "cell_type": "code",
   "execution_count": null,
   "id": "db25c914-1252-4bae-8dbe-3a20e361bd73",
   "metadata": {},
   "outputs": [],
   "source": []
  },
  {
   "cell_type": "code",
   "execution_count": 1,
   "id": "0c10588e-e9e7-4b8c-b92b-91104a273df0",
   "metadata": {},
   "outputs": [
    {
     "data": {
      "text/plain": [
       "'conda env: ml311; pyv: 3.11.10 (main, Oct  3 2024, 07:29:13) [GCC 11.2.0]'"
      ]
     },
     "execution_count": 1,
     "metadata": {},
     "output_type": "execute_result"
    }
   ],
   "source": [
    "import pyutil as pyu\n",
    "pyu.get_local_pyinfo()"
   ]
  },
  {
   "cell_type": "code",
   "execution_count": 3,
   "id": "c2ccb592-b983-4856-a241-5898cab06699",
   "metadata": {},
   "outputs": [
    {
     "name": "stdout",
     "output_type": "stream",
     "text": [
      "scipy==1.14.1\n",
      "\n"
     ]
    }
   ],
   "source": [
    "print(pyu.ps2(\"scipy\"))"
   ]
  },
  {
   "cell_type": "code",
   "execution_count": 6,
   "id": "e290a4be-0793-4902-b10b-44429cb937f9",
   "metadata": {},
   "outputs": [],
   "source": [
    "def get_fib(n):\n",
    "\n",
    "    if n <= 1\n",
    "\n",
    "    return 0"
   ]
  },
  {
   "cell_type": "code",
   "execution_count": 7,
   "id": "7fb631d5-e76a-4309-9ecd-6a41616dbc32",
   "metadata": {},
   "outputs": [
    {
     "data": {
      "text/plain": [
       "0"
      ]
     },
     "execution_count": 7,
     "metadata": {},
     "output_type": "execute_result"
    }
   ],
   "source": [
    "get_fib(5)"
   ]
  },
  {
   "cell_type": "code",
   "execution_count": null,
   "id": "a76134b4-2c23-4250-939f-2a9dd5d48f42",
   "metadata": {},
   "outputs": [],
   "source": [
    "# 5 = 5 + 4 + 3 + 2 +1 = "
   ]
  },
  {
   "cell_type": "code",
   "execution_count": 23,
   "id": "4412c2f0-fccb-42cd-97ad-7fe3b48f14da",
   "metadata": {},
   "outputs": [],
   "source": [
    "def fibonacci(n):\n",
    "    if n == 0 or n == 1: return n\n",
    "    else: return fibonacci(n-1)+fibonacci(n-2)"
   ]
  },
  {
   "cell_type": "code",
   "execution_count": 22,
   "id": "fbedba10-0345-4692-bd44-ae08307a8eeb",
   "metadata": {},
   "outputs": [
    {
     "name": "stdout",
     "output_type": "stream",
     "text": [
      "n: 5\n",
      "n: 4\n",
      "n: 3\n",
      "n: 2\n",
      "n: 1\n",
      "n: 0\n",
      "n: 1\n",
      "n: 2\n",
      "n: 1\n",
      "n: 0\n",
      "n: 3\n",
      "n: 2\n",
      "n: 1\n",
      "n: 0\n",
      "n: 1\n"
     ]
    },
    {
     "data": {
      "text/plain": [
       "5"
      ]
     },
     "execution_count": 22,
     "metadata": {},
     "output_type": "execute_result"
    }
   ],
   "source": [
    "fibonacci(5)"
   ]
  },
  {
   "cell_type": "code",
   "execution_count": 15,
   "id": "d5fe9b9b-c820-41ce-a415-d7b5ef21688d",
   "metadata": {},
   "outputs": [],
   "source": [
    "def fibonacci_for_loop(n):\n",
    "    a, b = 0, 1\n",
    "    for _ in range(n):\n",
    "        print(a, end=' ')\n",
    "        a, b = b, a + b"
   ]
  },
  {
   "cell_type": "code",
   "execution_count": 16,
   "id": "8f087463-9481-462a-baa6-2181aab809b8",
   "metadata": {},
   "outputs": [
    {
     "name": "stdout",
     "output_type": "stream",
     "text": [
      "0 1 1 2 3 "
     ]
    }
   ],
   "source": [
    "fibonacci_for_loop(5)"
   ]
  },
  {
   "cell_type": "code",
   "execution_count": 18,
   "id": "8d855d04-ae25-4eaa-8166-c15983e5bc0d",
   "metadata": {},
   "outputs": [],
   "source": [
    "def fibonacci_recursive(n):\n",
    "    if n <= 0:\n",
    "        return 0\n",
    "    elif n == 1:\n",
    "        return 1\n",
    "    else:\n",
    "        return fibonacci_recursive(n - 1) + fibonacci_recursive(n - 2)"
   ]
  },
  {
   "cell_type": "code",
   "execution_count": 19,
   "id": "f083308c-edd6-4317-a37c-44e6f97d7eb2",
   "metadata": {},
   "outputs": [
    {
     "name": "stdout",
     "output_type": "stream",
     "text": [
      "[0, 1, 1, 2, 3, 5, 8, 13, 21, 34]\n"
     ]
    }
   ],
   "source": [
    "n = 10\n",
    "fib_sequence = [fibonacci_recursive(i) for i in range(n)]\n",
    "print(fib_sequence)"
   ]
  },
  {
   "cell_type": "code",
   "execution_count": 20,
   "id": "5cd7c6b7-5d2e-4694-92cd-ec9c8551cfed",
   "metadata": {},
   "outputs": [
    {
     "name": "stdout",
     "output_type": "stream",
     "text": [
      "[0, 1, 1, 2, 3]\n"
     ]
    }
   ],
   "source": [
    "n = 5\n",
    "fib_sequence = [fibonacci_recursive(i) for i in range(n)]\n",
    "print(fib_sequence)"
   ]
  },
  {
   "cell_type": "code",
   "execution_count": null,
   "id": "1d6e7544-eac8-4154-943c-3d0a3576d3a7",
   "metadata": {},
   "outputs": [],
   "source": []
  },
  {
   "cell_type": "code",
   "execution_count": 29,
   "id": "358e8ff9-a5a1-4e15-be3c-8748b3ed2146",
   "metadata": {},
   "outputs": [
    {
     "name": "stdout",
     "output_type": "stream",
     "text": [
      "result_list: [0]\n",
      "result_list: [0, 1]\n",
      "result_list: [0, 1, 1]\n",
      "result_list: [0, 1, 1, 2]\n",
      "result_list: [0, 1, 1, 2, 3]\n",
      "[0, 1, 1, 2, 3]\n"
     ]
    }
   ],
   "source": [
    "def fibonacci_loop(n):\n",
    "    result_list = []\n",
    "    \n",
    "    a, b = 0, 1\n",
    "\n",
    "    # print(f'first: a: {a}, b:{b}')\n",
    "    for _ in range(n):\n",
    "        result_list.append(a)\n",
    "        a, b = b, a + b\n",
    "\n",
    "        # print(f'second: a: {a}, b: {b}')\n",
    "        print(f'result_list: {result_list}')\n",
    "        \n",
    "    return result_list\n",
    "\n",
    "n = 5  # Change this number for more terms\n",
    "print(fibonacci_loop(n))"
   ]
  },
  {
   "cell_type": "code",
   "execution_count": null,
   "id": "f884a230-e824-4266-a59d-08132ad85051",
   "metadata": {},
   "outputs": [],
   "source": []
  }
 ],
 "metadata": {
  "kernelspec": {
   "display_name": "Python 3 (ipykernel)",
   "language": "python",
   "name": "python3"
  },
  "language_info": {
   "codemirror_mode": {
    "name": "ipython",
    "version": 3
   },
   "file_extension": ".py",
   "mimetype": "text/x-python",
   "name": "python",
   "nbconvert_exporter": "python",
   "pygments_lexer": "ipython3",
   "version": "3.11.10"
  }
 },
 "nbformat": 4,
 "nbformat_minor": 5
}

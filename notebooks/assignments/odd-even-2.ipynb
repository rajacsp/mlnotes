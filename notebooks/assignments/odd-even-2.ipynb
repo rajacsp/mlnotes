{
 "cells": [
  {
   "cell_type": "code",
   "execution_count": null,
   "id": "b0f6bbf5-4ee3-4ff0-9042-4fad424e5c0a",
   "metadata": {},
   "outputs": [],
   "source": []
  },
  {
   "cell_type": "code",
   "execution_count": null,
   "id": "ff841e3b-11ce-4385-bd42-e619fcab77b8",
   "metadata": {},
   "outputs": [],
   "source": []
  },
  {
   "cell_type": "code",
   "execution_count": 1,
   "id": "145c8403-2df7-4da4-8f03-9f12b88335f5",
   "metadata": {},
   "outputs": [],
   "source": [
    "def odd_even():\n",
    "    for i in range(10):      \n",
    "        if i % 2 == 0:\n",
    "              print(f\"The number {i} is even\")\n",
    "        else:\n",
    "            print(f\"The number {i} is odd\")"
   ]
  },
  {
   "cell_type": "code",
   "execution_count": 2,
   "id": "7481de37-dcfa-4638-8d97-a08d068f3e8d",
   "metadata": {},
   "outputs": [
    {
     "name": "stdout",
     "output_type": "stream",
     "text": [
      "The number 0 is even\n",
      "The number 1 is odd\n",
      "The number 2 is even\n",
      "The number 3 is odd\n",
      "The number 4 is even\n",
      "The number 5 is odd\n",
      "The number 6 is even\n",
      "The number 7 is odd\n",
      "The number 8 is even\n",
      "The number 9 is odd\n"
     ]
    }
   ],
   "source": [
    "odd_even()"
   ]
  },
  {
   "cell_type": "code",
   "execution_count": 7,
   "id": "3a63a4e9-37af-42fd-80a0-8548296a3bc1",
   "metadata": {},
   "outputs": [],
   "source": [
    "def odd_even(input_val):\n",
    "\n",
    "    if input_val %2 == 0:\n",
    "        return f\"The number {input_val} is even\"\n",
    "    \n",
    "    return f\"The number {input_val} is odd\""
   ]
  },
  {
   "cell_type": "code",
   "execution_count": 8,
   "id": "a461abc1-b29d-4112-825b-ab0fcd0d3f87",
   "metadata": {},
   "outputs": [
    {
     "name": "stdout",
     "output_type": "stream",
     "text": [
      "The number 0 is even\n",
      "The number 1 is odd\n",
      "The number 2 is even\n",
      "The number 3 is odd\n",
      "The number 4 is even\n",
      "The number 5 is odd\n",
      "The number 6 is even\n",
      "The number 7 is odd\n",
      "The number 8 is even\n",
      "The number 9 is odd\n"
     ]
    }
   ],
   "source": [
    "for i in range(10):   \n",
    "    print(odd_even(i))"
   ]
  },
  {
   "cell_type": "code",
   "execution_count": null,
   "id": "cdf8d316-eb8d-4673-8e65-d82b48f55c97",
   "metadata": {},
   "outputs": [],
   "source": []
  }
 ],
 "metadata": {
  "kernelspec": {
   "display_name": "Python 3 (ipykernel)",
   "language": "python",
   "name": "python3"
  },
  "language_info": {
   "codemirror_mode": {
    "name": "ipython",
    "version": 3
   },
   "file_extension": ".py",
   "mimetype": "text/x-python",
   "name": "python",
   "nbconvert_exporter": "python",
   "pygments_lexer": "ipython3",
   "version": "3.12.4"
  }
 },
 "nbformat": 4,
 "nbformat_minor": 5
}

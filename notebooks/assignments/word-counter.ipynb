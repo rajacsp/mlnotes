{
 "cells": [
  {
   "cell_type": "markdown",
   "id": "3446a098-f33f-49d0-aed9-0702e7a94e66",
   "metadata": {},
   "source": [
    "Nov 20 2024\n",
    "\n",
    "Count Words in a Sentence\n",
    "Write a program that:\n",
    "\n",
    "Takes a sentence as input.\n",
    "Counts the number of words in the sentence.\n",
    "Prints the count."
   ]
  },
  {
   "cell_type": "code",
   "execution_count": 1,
   "id": "f7425dc0-5828-4827-9ba6-c0766bf49991",
   "metadata": {},
   "outputs": [],
   "source": [
    "def count_words(sentence):\n",
    "    word_list = sentence.split(\" \")\n",
    "\n",
    "    return len(word_list)"
   ]
  },
  {
   "cell_type": "code",
   "execution_count": 2,
   "id": "4ccffe9f-817f-4984-995d-6004020a54db",
   "metadata": {},
   "outputs": [
    {
     "data": {
      "text/plain": [
       "3"
      ]
     },
     "execution_count": 2,
     "metadata": {},
     "output_type": "execute_result"
    }
   ],
   "source": [
    "count_words(\"88/99 Redwood Boulevard\")"
   ]
  },
  {
   "cell_type": "code",
   "execution_count": 3,
   "id": "9fb87f79-5308-4df9-9ab9-ac783213934b",
   "metadata": {},
   "outputs": [
    {
     "data": {
      "text/plain": [
       "2"
      ]
     },
     "execution_count": 3,
     "metadata": {},
     "output_type": "execute_result"
    }
   ],
   "source": [
    "count_words(\"45-67 Maple\")"
   ]
  },
  {
   "cell_type": "code",
   "execution_count": null,
   "id": "427c013f-8bb1-4de0-802b-7a9e2f7d0fc1",
   "metadata": {},
   "outputs": [],
   "source": []
  }
 ],
 "metadata": {
  "kernelspec": {
   "display_name": "Python 3 (ipykernel)",
   "language": "python",
   "name": "python3"
  },
  "language_info": {
   "codemirror_mode": {
    "name": "ipython",
    "version": 3
   },
   "file_extension": ".py",
   "mimetype": "text/x-python",
   "name": "python",
   "nbconvert_exporter": "python",
   "pygments_lexer": "ipython3",
   "version": "3.12.4"
  }
 },
 "nbformat": 4,
 "nbformat_minor": 5
}

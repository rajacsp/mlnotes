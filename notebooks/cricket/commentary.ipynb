{
 "cells": [
  {
   "cell_type": "code",
   "execution_count": 1,
   "id": "33627659-a2cb-4a56-9538-e3cb70b6b1ef",
   "metadata": {},
   "outputs": [],
   "source": [
    "# https://python.langchain.com/docs/how_to/structured_output/\n",
    "# https://python.langchain.com/docs/how_to/\n",
    "# https://platform.openai.com/usage"
   ]
  },
  {
   "cell_type": "code",
   "execution_count": 3,
   "id": "dd29c311-8bd4-4723-9b47-4ec0501540df",
   "metadata": {},
   "outputs": [],
   "source": [
    "from constants import OPENAI_API_KEY"
   ]
  },
  {
   "cell_type": "code",
   "execution_count": 4,
   "id": "b3d5c7d0-c598-49f9-a42b-ad99ec070a56",
   "metadata": {},
   "outputs": [
    {
     "name": "stdout",
     "output_type": "stream",
     "text": [
      "Version: 0.2.9\n"
     ]
    }
   ],
   "source": [
    "!pip show langchain-openai | grep \"Version:\""
   ]
  },
  {
   "cell_type": "code",
   "execution_count": 5,
   "id": "65703e41-0742-4144-b2a9-5231546b0d19",
   "metadata": {},
   "outputs": [],
   "source": [
    "import os"
   ]
  },
  {
   "cell_type": "code",
   "execution_count": 6,
   "id": "d444ada1-92c6-449f-84ea-e9e0327d48b4",
   "metadata": {},
   "outputs": [],
   "source": [
    "os.environ[\"OPENAI_API_KEY\"] = OPENAI_API_KEY"
   ]
  },
  {
   "cell_type": "code",
   "execution_count": 7,
   "id": "c9c61594-e850-4e3c-850c-eef78a8d0ec9",
   "metadata": {},
   "outputs": [],
   "source": [
    "from langchain_openai import ChatOpenAI"
   ]
  },
  {
   "cell_type": "code",
   "execution_count": 8,
   "id": "34e0fa86-d9cd-4935-aaf2-da7fc6585ac3",
   "metadata": {},
   "outputs": [],
   "source": [
    "llm = ChatOpenAI(model=\"gpt-4o-mini\")"
   ]
  },
  {
   "cell_type": "code",
   "execution_count": 9,
   "id": "14beaaaf-d03d-4ffd-9b99-edc0446d4500",
   "metadata": {},
   "outputs": [],
   "source": [
    "from typing import Optional\n",
    "from pydantic import BaseModel, Field\n",
    "\n",
    "# Pydantic\n",
    "class CricketCommentary(BaseModel):\n",
    "    \"\"\"Cricket Commenaty to tell user.\"\"\"\n",
    "\n",
    "    commentator: str     = Field(description = \"Commentator\")\n",
    "    commentaty: str     = Field(description = \"Commentary\")"
   ]
  },
  {
   "cell_type": "code",
   "execution_count": 10,
   "id": "72d74b31-2031-4d9e-ac73-3ab4334d6210",
   "metadata": {},
   "outputs": [],
   "source": [
    "structured_llm = llm.with_structured_output(CricketCommentary)"
   ]
  },
  {
   "cell_type": "code",
   "execution_count": 11,
   "id": "7730d3a7-72d4-4be3-9dd9-04066302c7b9",
   "metadata": {},
   "outputs": [],
   "source": [
    "def q(ball, score):\n",
    "    return structured_llm.invoke(f\"Tell me about cricket commentary for ball number {ball} and batsman scored {score}\")"
   ]
  },
  {
   "cell_type": "code",
   "execution_count": 12,
   "id": "a792278a-f5cf-4ded-9194-9b2be8b1f208",
   "metadata": {},
   "outputs": [
    {
     "data": {
      "text/plain": [
       "CricketCommentary(commentator='John Doe', commentaty=\"And here comes the second ball of the over. The bowler runs in, delivers a full-length ball, and the batsman is quick to react. He drives it elegantly through the covers, and that's a lovely shot! The ball races away to the boundary, and the batsman picks up two runs effortlessly. The crowd erupts in applause as he showcases his class.\")"
      ]
     },
     "execution_count": 12,
     "metadata": {},
     "output_type": "execute_result"
    }
   ],
   "source": [
    "q(2, 2)"
   ]
  },
  {
   "cell_type": "code",
   "execution_count": 13,
   "id": "3db58903-6c35-452c-b2f4-db0de195b181",
   "metadata": {},
   "outputs": [
    {
     "data": {
      "text/plain": [
       "CricketCommentary(commentator='John Doe', commentaty=\"And here comes the second ball of the over! It's a full delivery on the leg stump, and the batsman has picked it beautifully. He swings his bat with all his might, sending the ball soaring over the boundary for a magnificent six! The crowd erupts in cheers as the batsman raises his bat in acknowledgment. What a shot!\")"
      ]
     },
     "execution_count": 13,
     "metadata": {},
     "output_type": "execute_result"
    }
   ],
   "source": [
    "q(2, 6)"
   ]
  },
  {
   "cell_type": "code",
   "execution_count": 15,
   "id": "898d12e8-882f-4b1e-8162-d36d4a1c0661",
   "metadata": {},
   "outputs": [],
   "source": [
    "import random"
   ]
  },
  {
   "cell_type": "code",
   "execution_count": 18,
   "id": "0b35e59a-1e2d-4d54-bc17-32f8751f78e6",
   "metadata": {},
   "outputs": [
    {
     "name": "stdout",
     "output_type": "stream",
     "text": [
      "commentator='Mark Nicholas' commentaty=\"And here we go! The first ball of the match is bowled. It's a good length delivery on off stump. The batsman is cautious, not wanting to take any risks on the very first ball. He leaves it alone, and the ball goes through to the keeper. No runs on the board as yet!\"\n",
      "----------\n",
      "commentator='John Doe' commentaty='And here comes the second ball of the over. The bowler runs in, delivering a sharp delivery full on off stump. The batsman, looking to get off the mark, plays a defensive shot but misses it completely. No run scored, and the batsman remains on zero.'\n",
      "----------\n",
      "commentator='Jim Maxwell' commentaty='And here comes the bowler for ball number 3. He runs in, bowls a full delivery and oh! What a shot! The batsman launches it high over mid-wicket and it sails into the stands for a magnificent six! The crowd erupts in joy, a fantastic connection there. The batsman is looking in great form!'\n",
      "----------\n",
      "commentator='Mark Nicholas' commentaty=\"And here comes the fourth ball of the over! The bowler runs in with purpose, but wait! The batsman has read that beautifully. He steps down the pitch and launches it into the air. It's a massive hit, soaring high over the boundary! That's six runs! The crowd erupts in cheers as the batsman raises his bat in acknowledgment. What a shot!\"\n",
      "----------\n",
      "commentator='John Doe' commentaty=\"And here comes the fifth ball of the over. The bowler runs in, delivers a quick ball, and the batsman plays a lovely shot! He finds the gap between the fielders and scampers through for a quick single. That's a well-placed shot, and the batsman has now moved to 3 runs. The crowd appreciates that effort!\"\n",
      "----------\n",
      "commentator='John Doe' commentaty=\"And here we go, it's ball number 6 of the over. The bowler runs in, delivers the ball, and it's a full toss! The batsman sees it early, gets his bat down, and with a powerful swing, he drives it through the covers. The ball races away to the boundary, and that's a fantastic shot! The batsman has scored 5 runs on this ball, moving his score up and putting pressure on the bowler.\"\n",
      "----------\n"
     ]
    }
   ],
   "source": [
    "for i in range(6):\n",
    "    commentary = q(i+1, random.randint(0, 6))\n",
    "    print(commentary)\n",
    "    print('-' * 10)"
   ]
  },
  {
   "cell_type": "code",
   "execution_count": null,
   "id": "2df4cdc6-045b-429d-b2d4-5d1c5f9eb02d",
   "metadata": {},
   "outputs": [],
   "source": []
  }
 ],
 "metadata": {
  "kernelspec": {
   "display_name": "Python 3 (ipykernel)",
   "language": "python",
   "name": "python3"
  },
  "language_info": {
   "codemirror_mode": {
    "name": "ipython",
    "version": 3
   },
   "file_extension": ".py",
   "mimetype": "text/x-python",
   "name": "python",
   "nbconvert_exporter": "python",
   "pygments_lexer": "ipython3",
   "version": "3.12.4"
  }
 },
 "nbformat": 4,
 "nbformat_minor": 5
}

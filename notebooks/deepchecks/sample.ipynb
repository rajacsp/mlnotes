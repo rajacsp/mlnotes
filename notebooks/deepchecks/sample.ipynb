{
 "cells": [
  {
   "cell_type": "code",
   "execution_count": 2,
   "id": "4045d1ba-9ab0-45f9-9bef-697dc355ea1f",
   "metadata": {},
   "outputs": [],
   "source": [
    "# !pip install deepchecks"
   ]
  },
  {
   "cell_type": "code",
   "execution_count": 9,
   "id": "2ef56d33-2752-4d45-8048-92d78466a536",
   "metadata": {},
   "outputs": [],
   "source": [
    "import pandas as pd\n",
    "from deepchecks.tabular.checks import MixedNulls, TrainTestFeatureDrift\n",
    "# from deepchecks import Suite"
   ]
  },
  {
   "cell_type": "code",
   "execution_count": 10,
   "id": "637d1393-f0db-4089-9252-cf10c9dab32a",
   "metadata": {},
   "outputs": [
    {
     "name": "stdout",
     "output_type": "stream",
     "text": [
      "Version: 2.1.4\n"
     ]
    }
   ],
   "source": [
    "!pip show pandas | grep \"Version\""
   ]
  },
  {
   "cell_type": "code",
   "execution_count": 11,
   "id": "083ac598-463b-4074-bbcf-d68df5ecc6a0",
   "metadata": {},
   "outputs": [],
   "source": [
    "from deepchecks import Suite"
   ]
  },
  {
   "cell_type": "code",
   "execution_count": 12,
   "id": "6ba33709-1631-4674-8b24-f2bb71c43ab7",
   "metadata": {},
   "outputs": [
    {
     "name": "stdout",
     "output_type": "stream",
     "text": [
      "0.18.1\n"
     ]
    }
   ],
   "source": [
    "import deepchecks\n",
    "print(deepchecks.__version__)"
   ]
  },
  {
   "cell_type": "code",
   "execution_count": 13,
   "id": "5fefc78f-7110-4f02-8903-87d9844d7b2d",
   "metadata": {},
   "outputs": [],
   "source": [
    "# Sample data\n",
    "train_data = pd.DataFrame({\n",
    "    'age': [25, 35, 45, None, 50],\n",
    "    'salary': [50000, 60000, None, 80000, 90000],\n",
    "    'city': ['New York', 'Los Angeles', 'New York', None, 'San Francisco']\n",
    "})"
   ]
  },
  {
   "cell_type": "code",
   "execution_count": 14,
   "id": "7a1aa5d5-0923-47bb-aec6-c1844bcc9dc1",
   "metadata": {},
   "outputs": [],
   "source": [
    "test_data = pd.DataFrame({\n",
    "    'age': [30, 40, 50, None, 55],\n",
    "    'salary': [55000, 65000, 70000, None, 95000],\n",
    "    'city': ['Chicago', 'Los Angeles', 'San Francisco', 'New York', None]\n",
    "})"
   ]
  },
  {
   "cell_type": "code",
   "execution_count": 15,
   "id": "9e03173f-d281-4b51-b34c-7b8c36326ab6",
   "metadata": {},
   "outputs": [
    {
     "name": "stderr",
     "output_type": "stream",
     "text": [
      "deepchecks - WARNING - Received a \"pandas.DataFrame\" instance. It is recommended to pass a \"deepchecks.tabular.Dataset\" instance by initializing it with the data and metadata, for example by doing \"Dataset(dataframe, label=label, cat_features=cat_features)\"\n",
      "deepchecks - WARNING - It is recommended to initialize Dataset with categorical features by doing \"Dataset(df, cat_features=categorical_list)\". No categorical features were passed, therefore heuristically inferring categorical features in the data. 3 categorical features were inferred.: age, salary, city\n"
     ]
    },
    {
     "name": "stdout",
     "output_type": "stream",
     "text": [
      "Mixed Nulls: {'n_samples': 5, 'columns': {'age': {'math.nan': {'count': 1, 'percent': 0.2}}, 'salary': {'math.nan': {'count': 1, 'percent': 0.2}}, 'city': {'None': {'count': 1, 'percent': 0.2}}}, 'feature_importance': age       NaN\n",
      "salary    NaN\n",
      "city      NaN\n",
      "dtype: object}\n"
     ]
    }
   ],
   "source": [
    "# Running individual checks\n",
    "null_check = MixedNulls().run(train_data)\n",
    "print(null_check)"
   ]
  },
  {
   "cell_type": "code",
   "execution_count": null,
   "id": "c1aea978-a921-485a-952b-23762d259d63",
   "metadata": {},
   "outputs": [],
   "source": []
  }
 ],
 "metadata": {
  "kernelspec": {
   "display_name": "Python 3 (ipykernel)",
   "language": "python",
   "name": "python3"
  },
  "language_info": {
   "codemirror_mode": {
    "name": "ipython",
    "version": 3
   },
   "file_extension": ".py",
   "mimetype": "text/x-python",
   "name": "python",
   "nbconvert_exporter": "python",
   "pygments_lexer": "ipython3",
   "version": "3.10.5"
  }
 },
 "nbformat": 4,
 "nbformat_minor": 5
}

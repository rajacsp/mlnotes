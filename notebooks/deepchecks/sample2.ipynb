{
 "cells": [
  {
   "cell_type": "code",
   "execution_count": 17,
   "id": "41e06b00-993d-4648-bf2a-16fbf22b424a",
   "metadata": {},
   "outputs": [
    {
     "name": "stdout",
     "output_type": "stream",
     "text": [
      "Python 3.10.5\n"
     ]
    }
   ],
   "source": [
    "!python --version"
   ]
  },
  {
   "cell_type": "code",
   "execution_count": null,
   "id": "c5122ebf-75c9-4d7e-b6f6-29189dc347a4",
   "metadata": {},
   "outputs": [],
   "source": [
    "#!pip install ipywidgets\n",
    "#!jupyter labextension install @jupyter-widgets/jupyterlab-manager"
   ]
  },
  {
   "cell_type": "code",
   "execution_count": 23,
   "id": "2c03b0af-d9b8-4a9d-ab1e-d2ee6b2737ab",
   "metadata": {},
   "outputs": [
    {
     "name": "stdout",
     "output_type": "stream",
     "text": [
      "JupyterLab v4.2.6\n",
      "/home/rajaraman/miniconda3/envs/ml3105/share/jupyter/labextensions\n",
      "        jupyterlab_pygments v0.3.0 \u001b[32menabled\u001b[0m \u001b[32mOK\u001b[0m (python, jupyterlab_pygments)\n",
      "        jupyterlab-plotly v5.24.1 \u001b[32menabled\u001b[0m \u001b[31m X\u001b[0m\n",
      "        @jupyter-notebook/lab-extension v7.2.2 \u001b[32menabled\u001b[0m \u001b[32mOK\u001b[0m\n",
      "        @jupyter-widgets/jupyterlab-manager v3.1.11 \u001b[32menabled\u001b[0m \u001b[32mOK\u001b[0m (python, jupyterlab_widgets)\n",
      "\n",
      "\n",
      "   The following extensions may be outdated or specify dependencies that are incompatible with the current version of jupyterlab:\n",
      "        jupyterlab-plotly\n",
      "        \n",
      "   If you are a user, check if an update is available for these packages.\n",
      "   If you are a developer, re-run with `--verbose` flag for more details.\n",
      "\n"
     ]
    }
   ],
   "source": [
    "!jupyter labextension list"
   ]
  },
  {
   "cell_type": "code",
   "execution_count": 24,
   "id": "e99e1481-0d98-4346-83a5-d1610193ffce",
   "metadata": {},
   "outputs": [],
   "source": [
    "import pandas as pd\n",
    "from deepchecks.tabular import Dataset\n",
    "from deepchecks.tabular.checks import MixedNulls, TrainTestFeatureDrift"
   ]
  },
  {
   "cell_type": "code",
   "execution_count": 25,
   "id": "9f6f3074-602d-4712-8df5-fd1a08b30f9b",
   "metadata": {},
   "outputs": [],
   "source": [
    "# Extend the train and test datasets with more rows\n",
    "train_data = pd.DataFrame({\n",
    "    'age': [25, 35, 45, 30, 50, 60, 70, 80, 90, 100],\n",
    "    'salary': [50000, 60000, 70000, 80000, 90000, 100000, 110000, 120000, 130000, 140000],\n",
    "    'city': ['New York', 'Los Angeles', 'New York', 'Chicago', 'San Francisco',\n",
    "             'Boston', 'Austin', 'Seattle', 'Dallas', 'Denver']\n",
    "})"
   ]
  },
  {
   "cell_type": "code",
   "execution_count": 26,
   "id": "f72dc1b8-1820-4f08-b86a-27c85e9b9c60",
   "metadata": {},
   "outputs": [],
   "source": [
    "test_data = pd.DataFrame({\n",
    "    'age': [30, 40, 50, 60, 70, 80, 90, 100, 110, 120],\n",
    "    'salary': [55000, 65000, 75000, 85000, 95000, 105000, 115000, 125000, 135000, 145000],\n",
    "    'city': ['Chicago', 'Los Angeles', 'San Francisco', 'New York', 'Boston',\n",
    "             'Austin', 'Seattle', 'Dallas', 'Denver', 'Houston']\n",
    "})"
   ]
  },
  {
   "cell_type": "code",
   "execution_count": 27,
   "id": "6b5ac06b-4e4f-4f7a-932e-d90a79c100fe",
   "metadata": {},
   "outputs": [],
   "source": [
    "# Define categorical features\n",
    "categorical_features = ['city']"
   ]
  },
  {
   "cell_type": "code",
   "execution_count": 28,
   "id": "b0b04e6e-1441-47b4-9e22-2179fdfe8a26",
   "metadata": {},
   "outputs": [],
   "source": [
    "# Create Deepchecks Dataset instances\n",
    "train_dataset = Dataset(train_data, cat_features=categorical_features)\n",
    "test_dataset = Dataset(test_data, cat_features=categorical_features)"
   ]
  },
  {
   "cell_type": "code",
   "execution_count": 29,
   "id": "03afe8ce-c986-4b9b-9e16-04b927988c05",
   "metadata": {},
   "outputs": [
    {
     "name": "stdout",
     "output_type": "stream",
     "text": [
      "Mixed Nulls: {'n_samples': 10, 'columns': {'age': {}, 'salary': {}, 'city': {}}, 'feature_importance': age       NaN\n",
      "salary    NaN\n",
      "city      NaN\n",
      "dtype: object}\n"
     ]
    }
   ],
   "source": [
    "# Run checks using Dataset\n",
    "null_check = MixedNulls().run(train_dataset)\n",
    "print(null_check)"
   ]
  },
  {
   "cell_type": "code",
   "execution_count": null,
   "id": "6d182c60-c729-45b6-b428-0220945ece67",
   "metadata": {},
   "outputs": [],
   "source": []
  },
  {
   "cell_type": "code",
   "execution_count": 30,
   "id": "9c232d16-5546-47e3-9622-cbb423f09e17",
   "metadata": {},
   "outputs": [],
   "source": [
    "from deepchecks.tabular.checks import FeatureDrift"
   ]
  },
  {
   "cell_type": "code",
   "execution_count": 31,
   "id": "ced004e0-e863-45b2-9950-35460529b0ea",
   "metadata": {},
   "outputs": [
    {
     "data": {
      "application/vnd.jupyter.widget-view+json": {
       "model_id": "9ef4bd18afdb4cf38b019c22d77f1bce",
       "version_major": 2,
       "version_minor": 0
      },
      "text/plain": [
       "VBox(children=(HTML(value='<h4><b>Feature Drift</b></h4>'), HTML(value='<p>    Calculate drift between train d…"
      ]
     },
     "metadata": {},
     "output_type": "display_data"
    }
   ],
   "source": [
    "# Run FeatureDrift check\n",
    "drift_check = FeatureDrift().run(train_dataset, test_dataset)\n",
    "drift_check.show()"
   ]
  },
  {
   "cell_type": "code",
   "execution_count": 32,
   "id": "30b416b7-9881-4d35-904d-d4e2259c3604",
   "metadata": {},
   "outputs": [],
   "source": [
    "# from deepchecks.plot.plot import plot_feature_drift\n",
    "\n",
    "# # Assuming `drift_check` contains results\n",
    "# plot_feature_drift(drift_check.value)"
   ]
  },
  {
   "cell_type": "code",
   "execution_count": 33,
   "id": "91b48082-a5a1-4a5b-81d1-f187d553105e",
   "metadata": {},
   "outputs": [
    {
     "name": "stdout",
     "output_type": "stream",
     "text": [
      "Feature: age\n",
      "  Drift score: 0.20000000000000007\n",
      "  Method: Kolmogorov-Smirnov\n",
      "  Importance: None\n",
      "Feature: salary\n",
      "  Drift score: 0.10000000000000009\n",
      "  Method: Kolmogorov-Smirnov\n",
      "  Importance: None\n",
      "Feature: city\n",
      "  Drift score: 0.0\n",
      "  Method: Cramer's V\n",
      "  Importance: None\n"
     ]
    }
   ],
   "source": [
    "# Get the drift results as a dictionary\n",
    "drift_results = drift_check.value\n",
    "\n",
    "# Print results for each feature\n",
    "for feature, metrics in drift_results.items():\n",
    "    print(f\"Feature: {feature}\")\n",
    "    for metric, value in metrics.items():\n",
    "        print(f\"  {metric}: {value}\")"
   ]
  },
  {
   "cell_type": "code",
   "execution_count": 34,
   "id": "5ecacb90-d6db-4f9e-b5ca-299fae84004e",
   "metadata": {},
   "outputs": [
    {
     "name": "stdout",
     "output_type": "stream",
     "text": [
      "        Drift score              Method Importance\n",
      "age             0.2  Kolmogorov-Smirnov       None\n",
      "salary          0.1  Kolmogorov-Smirnov       None\n",
      "city            0.0          Cramer's V       None\n"
     ]
    }
   ],
   "source": [
    "# Convert drift results to a DataFrame\n",
    "drift_results_df = pd.DataFrame.from_dict(drift_check.value, orient='index')\n",
    "print(drift_results_df)"
   ]
  },
  {
   "cell_type": "code",
   "execution_count": 35,
   "id": "b6168f8c-44db-4467-8dbb-3c8942eccf53",
   "metadata": {},
   "outputs": [
    {
     "data": {
      "image/png": "[encoded data removed]",
      "text/plain": [
       "<Figure size 1000x600 with 1 Axes>"
      ]
     },
     "metadata": {},
     "output_type": "display_data"
    }
   ],
   "source": [
    "import matplotlib.pyplot as plt\n",
    "\n",
    "# Extract drift scores\n",
    "features = list(drift_results.keys())\n",
    "scores = [metrics['Drift score'] for metrics in drift_results.values()]\n",
    "\n",
    "# Plot\n",
    "plt.figure(figsize=(10, 6))\n",
    "plt.bar(features, scores)\n",
    "plt.xlabel('Features')\n",
    "plt.ylabel('Drift Score')\n",
    "plt.title('Feature Drift Scores')\n",
    "plt.xticks(rotation=45)\n",
    "plt.show()"
   ]
  },
  {
   "cell_type": "code",
   "execution_count": null,
   "id": "7521122b-218b-4541-8553-8021d12106d2",
   "metadata": {},
   "outputs": [],
   "source": []
  },
  {
   "cell_type": "code",
   "execution_count": 36,
   "id": "fe7bc735-48b9-461f-afe8-da3eef0f00e0",
   "metadata": {},
   "outputs": [],
   "source": [
    "# !pip install ipywidgets"
   ]
  },
  {
   "cell_type": "code",
   "execution_count": 37,
   "id": "b1b7df92-4b45-47d1-bd35-4dd35c0a6096",
   "metadata": {},
   "outputs": [],
   "source": [
    "#!jupyter nbextension enable --py widgetsnbextension\n",
    "#jupyter labextension install @jupyter-widgets/jupyterlab-manager"
   ]
  },
  {
   "cell_type": "code",
   "execution_count": 38,
   "id": "1d8a930d-b66e-42b8-bb1e-4336bc59fa78",
   "metadata": {},
   "outputs": [
    {
     "data": {
      "application/vnd.jupyter.widget-view+json": {
       "model_id": "906f8382ddd745db8841b507c137ab6d",
       "version_major": 2,
       "version_minor": 0
      },
      "text/plain": [
       "VBox(children=(HTML(value='<h4><b>Feature Drift</b></h4>'), HTML(value='<p>    Calculate drift between train d…"
      ]
     },
     "metadata": {},
     "output_type": "display_data"
    }
   ],
   "source": [
    "drift_check = FeatureDrift().run(train_dataset, test_dataset)\n",
    "drift_check.show()"
   ]
  },
  {
   "cell_type": "code",
   "execution_count": null,
   "id": "ffe8cbe8-a4c9-479d-a166-b73d5646a303",
   "metadata": {},
   "outputs": [],
   "source": []
  },
  {
   "cell_type": "code",
   "execution_count": null,
   "id": "c6b42cd3-45c1-4201-85c2-a2625a75506b",
   "metadata": {},
   "outputs": [],
   "source": []
  }
 ],
 "metadata": {
  "kernelspec": {
   "display_name": "Python 3 (ipykernel)",
   "language": "python",
   "name": "python3"
  },
  "language_info": {
   "codemirror_mode": {
    "name": "ipython",
    "version": 3
   },
   "file_extension": ".py",
   "mimetype": "text/x-python",
   "name": "python",
   "nbconvert_exporter": "python",
   "pygments_lexer": "ipython3",
   "version": "3.10.5"
  }
 },
 "nbformat": 4,
 "nbformat_minor": 5
}

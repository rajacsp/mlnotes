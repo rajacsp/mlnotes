{
 "cells": [
  {
   "cell_type": "raw",
   "metadata": {},
   "source": [
    "---\n",
    "title: \"Sub Plot Simple\"\n",
    "author: \"Rj\"\n",
    "date: 2019-04-20\n",
    "description: \"List Test\"\n",
    "type: technical_note\n",
    "draft: false\n",
    "---"
   ]
  },
  {
   "cell_type": "code",
   "execution_count": 6,
   "metadata": {},
   "outputs": [
    {
     "data": {
      "text/plain": [
       "<matplotlib.axes._subplots.AxesSubplot at 0x11365e1d0>"
      ]
     },
     "execution_count": 6,
     "metadata": {},
     "output_type": "execute_result"
    }
   ],
   "source": [
    "import matplotlib.pyplot as plt\n",
    "\n",
    "python_course_green = \"#476042\"\n",
    "plt.figure(figsize=(6, 4))\n",
    "plt.subplot(221) # equivalent to: plt.subplot(2, 2, 1)"
   ]
  },
  {
   "cell_type": "code",
   "execution_count": 7,
   "metadata": {},
   "outputs": [
    {
     "data": {
      "image/png": "[encoded data removed]",
      "text/plain": [
       "<Figure size 432x288 with 2 Axes>"
      ]
     },
     "metadata": {},
     "output_type": "display_data"
    }
   ],
   "source": [
    "plt.text(0.5, # x coordinate, 0 leftmost positioned, 1 rightmost\n",
    "         0.5, # y coordinate, 0 topmost positioned, 1 bottommost\n",
    "         'subplot(2,2,1)', # the text which will be printed\n",
    "         horizontalalignment='center', # shortcut 'ha' \n",
    "         verticalalignment='center', # shortcut 'va'\n",
    "         fontsize=20, # can be named 'font' as well\n",
    "         alpha=.5 # float (0.0 transparent through 1.0 opaque)\n",
    "         )\n",
    "plt.subplot(224, facecolor=python_course_green)\n",
    "plt.text(0.5, 0.5, \n",
    "         'subplot(2,2,4)', \n",
    "         ha='center', va='center',\n",
    "         fontsize=20, \n",
    "         color=\"y\")\n",
    "\n",
    "plt.show()"
   ]
  }
 ],
 "metadata": {
  "kernelspec": {
   "display_name": "Python 3",
   "language": "python",
   "name": "python3"
  },
  "language_info": {
   "codemirror_mode": {
    "name": "ipython",
    "version": 3
   },
   "file_extension": ".py",
   "mimetype": "text/x-python",
   "name": "python",
   "nbconvert_exporter": "python",
   "pygments_lexer": "ipython3",
   "version": "3.6.8"
  }
 },
 "nbformat": 4,
 "nbformat_minor": 2
}

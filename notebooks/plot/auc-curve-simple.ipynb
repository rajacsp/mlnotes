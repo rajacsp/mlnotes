{
 "cells": [
  {
   "cell_type": "raw",
   "metadata": {},
   "source": [
    "---\n",
    "title: \"AUC Curve Simple\"\n",
    "author: \"Rj\"\n",
    "date: 2019-04-20\n",
    "description: \"List Test\"\n",
    "type: technical_note\n",
    "draft: false\n",
    "---"
   ]
  },
  {
   "cell_type": "code",
   "execution_count": 1,
   "metadata": {},
   "outputs": [],
   "source": [
    "import matplotlib.pyplot as plt\n",
    "import numpy as np"
   ]
  },
  {
   "cell_type": "code",
   "execution_count": 3,
   "metadata": {},
   "outputs": [
    {
     "data": {
      "image/png": "[encoded data removed]",
      "text/plain": [
       "<Figure size 432x288 with 1 Axes>"
      ]
     },
     "metadata": {},
     "output_type": "display_data"
    }
   ],
   "source": [
    "score = np.array([0.9, 0.8, 0.7, 0.6, 0.55, 0.54, 0.53, 0.52, 0.51, 0.505, 0.4, 0.39, 0.38, 0.37, 0.36, 0.35, 0.34, 0.33, 0.30, 0.1])\n",
    "y = np.array([1,1,0, 1, 1, 1, 0, 0, 1, 0, 1,0, 1, 0, 0, 0, 1 , 0, 1, 0])\n",
    "\n",
    "roc_x = []\n",
    "roc_y = []\n",
    "min_score = min(score)\n",
    "max_score = max(score)\n",
    "thr = np.linspace(min_score, max_score, 30)\n",
    "\n",
    "FP=0\n",
    "TP=0\n",
    "\n",
    "N = sum(y)\n",
    "P = len(y) - N\n",
    "\n",
    "for (i, T) in enumerate(thr):\n",
    "    for i in range(0, len(score)):\n",
    "        if (score[i] > T):\n",
    "            if (y[i]==1):\n",
    "                TP = TP + 1\n",
    "            if (y[i]==0):\n",
    "                FP = FP + 1\n",
    "    roc_x.append(FP/float(N))\n",
    "    roc_y.append(TP/float(P))\n",
    "    FP=0\n",
    "    TP=0\n",
    "\n",
    "plt.scatter(roc_x, roc_y)\n",
    "plt.show()"
   ]
  },
  {
   "cell_type": "code",
   "execution_count": null,
   "metadata": {},
   "outputs": [],
   "source": []
  }
 ],
 "metadata": {
  "kernelspec": {
   "display_name": "Python 3",
   "language": "python",
   "name": "python3"
  },
  "language_info": {
   "codemirror_mode": {
    "name": "ipython",
    "version": 3
   },
   "file_extension": ".py",
   "mimetype": "text/x-python",
   "name": "python",
   "nbconvert_exporter": "python",
   "pygments_lexer": "ipython3",
   "version": "3.6.8"
  }
 },
 "nbformat": 4,
 "nbformat_minor": 2
}

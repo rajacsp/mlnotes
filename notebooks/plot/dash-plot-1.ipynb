{
 "cells": [
  {
   "cell_type": "code",
   "execution_count": null,
   "id": "fd2e4375-24ef-4d54-823e-39356a6378cf",
   "metadata": {},
   "outputs": [],
   "source": []
  },
  {
   "cell_type": "code",
   "execution_count": 5,
   "id": "cae2cc96-bee3-42d4-ace7-f2d83a6c097d",
   "metadata": {},
   "outputs": [
    {
     "name": "stdout",
     "output_type": "stream",
     "text": [
      "# conda environments:\n",
      "#\n",
      "base                     /home/rajaraman/miniconda3\n",
      "app-ml-services          /home/rajaraman/miniconda3/envs/app-ml-services\n",
      "evidently312             /home/rajaraman/miniconda3/envs/evidently312\n",
      "f2                       /home/rajaraman/miniconda3/envs/f2\n",
      "mai311                   /home/rajaraman/miniconda3/envs/mai311\n",
      "ml310                    /home/rajaraman/miniconda3/envs/ml310\n",
      "ml3105                   /home/rajaraman/miniconda3/envs/ml3105\n",
      "ml311                    /home/rajaraman/miniconda3/envs/ml311\n",
      "ml312                    /home/rajaraman/miniconda3/envs/ml312\n",
      "ml312-2024            *  /home/rajaraman/miniconda3/envs/ml312-2024\n",
      "ml397                    /home/rajaraman/miniconda3/envs/ml397\n",
      "mlapi312                 /home/rajaraman/miniconda3/envs/mlapi312\n",
      "mlapi312-test            /home/rajaraman/miniconda3/envs/mlapi312-test\n",
      "mlapi312-updated         /home/rajaraman/miniconda3/envs/mlapi312-updated\n",
      "ner39                    /home/rajaraman/miniconda3/envs/ner39\n",
      "\n"
     ]
    }
   ],
   "source": [
    "!conda env list"
   ]
  },
  {
   "cell_type": "code",
   "execution_count": 2,
   "id": "54c5bee5-4b77-4217-97b6-81d976e1b0a4",
   "metadata": {},
   "outputs": [
    {
     "name": "stdout",
     "output_type": "stream",
     "text": [
      "\u001b[33mWARNING: Package(s) not found: dash\u001b[0m\u001b[33m\n",
      "\u001b[0m"
     ]
    }
   ],
   "source": [
    "!pip show dash | grep \"Version:\""
   ]
  },
  {
   "cell_type": "code",
   "execution_count": 4,
   "id": "e67f97a1-321e-4f19-bde2-48f7bb1ed776",
   "metadata": {},
   "outputs": [],
   "source": [
    "# !pip install dash"
   ]
  },
  {
   "cell_type": "code",
   "execution_count": null,
   "id": "faa66295-2683-4e66-819b-bc4d6c44156c",
   "metadata": {},
   "outputs": [],
   "source": []
  }
 ],
 "metadata": {
  "kernelspec": {
   "display_name": "Python 3 (ipykernel)",
   "language": "python",
   "name": "python3"
  },
  "language_info": {
   "codemirror_mode": {
    "name": "ipython",
    "version": 3
   },
   "file_extension": ".py",
   "mimetype": "text/x-python",
   "name": "python",
   "nbconvert_exporter": "python",
   "pygments_lexer": "ipython3",
   "version": "3.12.7"
  }
 },
 "nbformat": 4,
 "nbformat_minor": 5
}

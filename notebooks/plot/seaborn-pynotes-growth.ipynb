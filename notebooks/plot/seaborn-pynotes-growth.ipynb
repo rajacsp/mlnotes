{
 "cells": [
  {
   "cell_type": "code",
   "execution_count": null,
   "id": "d940c6df-51a0-4052-856e-edb4f5dcf6f8",
   "metadata": {},
   "outputs": [],
   "source": []
  },
  {
   "cell_type": "code",
   "execution_count": null,
   "id": "031ddd59-0627-42e6-93a1-7906b0cd2277",
   "metadata": {},
   "outputs": [],
   "source": []
  },
  {
   "cell_type": "code",
   "execution_count": null,
   "id": "cfaf780a-d35a-4016-b9f2-dbf8797d94c2",
   "metadata": {},
   "outputs": [],
   "source": [
    "# https://seaborn.pydata.org/installing.html\n",
    "# https://stackabuse.com/seaborn-line-plot-tutorial-and-examples/"
   ]
  },
  {
   "cell_type": "code",
   "execution_count": 5,
   "id": "75e9f9f4-e7ce-4626-984e-3cb3f8693965",
   "metadata": {},
   "outputs": [
    {
     "name": "stdout",
     "output_type": "stream",
     "text": [
      "Version: 0.13.2\n"
     ]
    }
   ],
   "source": [
    "!pip show seaborn | grep \"Version:\""
   ]
  },
  {
   "cell_type": "code",
   "execution_count": 4,
   "id": "83e46f9f-e43e-4ffc-86cc-ee7baa7ea902",
   "metadata": {},
   "outputs": [],
   "source": [
    "# !pip install seaborn"
   ]
  },
  {
   "cell_type": "code",
   "execution_count": 10,
   "id": "d2e28d93-76db-4ec1-8280-39c0466f4e04",
   "metadata": {},
   "outputs": [
    {
     "data": {
      "image/png": "[encoded data removed]",
      "text/plain": [
       "<Figure size 640x480 with 1 Axes>"
      ]
     },
     "metadata": {},
     "output_type": "display_data"
    }
   ],
   "source": [
    "import matplotlib.pyplot as plt\n",
    "import seaborn as sns\n",
    "\n",
    "sns.set_theme(style=\"darkgrid\")\n",
    "\n",
    "x = [\n",
    "    0,\n",
    "    220,\n",
    "    380,\n",
    "    500,\n",
    "    540,\n",
    "    540,\n",
    "    590\n",
    "]\n",
    "\n",
    "sns.lineplot(x)\n",
    "plt.show()"
   ]
  },
  {
   "cell_type": "code",
   "execution_count": null,
   "id": "c4980a27-5f9a-4cb1-8544-60f284c5f729",
   "metadata": {},
   "outputs": [],
   "source": []
  },
  {
   "cell_type": "code",
   "execution_count": null,
   "id": "db73f8c7-4dcd-40d8-a1f0-5b11d6f6d277",
   "metadata": {},
   "outputs": [],
   "source": []
  },
  {
   "cell_type": "code",
   "execution_count": 13,
   "id": "d5bf35e7-de6b-48cf-816b-313738237323",
   "metadata": {},
   "outputs": [],
   "source": [
    "import pandas as pd"
   ]
  },
  {
   "cell_type": "code",
   "execution_count": 29,
   "id": "b996e4ac-c499-4b91-943f-251f6bde699a",
   "metadata": {},
   "outputs": [],
   "source": [
    "days_list = [\n",
    "    1, 1, 1, \n",
    "    2, 2, 2,\n",
    "    3, 3, 3\n",
    "]"
   ]
  },
  {
   "cell_type": "code",
   "execution_count": 30,
   "id": "1c7cb04d-1f92-4a89-aefd-bd22b6a72d22",
   "metadata": {},
   "outputs": [],
   "source": [
    "learners_list = [\n",
    "    'raja', 'hari', 'steve', \n",
    "    'raja', 'hari', 'steve',\n",
    "    'raja', 'hari', 'steve'\n",
    "]"
   ]
  },
  {
   "cell_type": "code",
   "execution_count": 31,
   "id": "19c76f34-07b5-4665-be43-1b4833e0a5fa",
   "metadata": {},
   "outputs": [],
   "source": [
    "score_list = [\n",
    "    0, 0, 0, \n",
    "    50, 40, 60,\n",
    "    60, 45, 60\n",
    "]"
   ]
  },
  {
   "cell_type": "code",
   "execution_count": 32,
   "id": "1852c1fd-5793-4ef3-8a06-32b4f75ce8a9",
   "metadata": {},
   "outputs": [],
   "source": [
    "data = {\n",
    "    'days' : days_list,\n",
    "    'learners' : learners_list,\n",
    "    'score' : score_list\n",
    "}\n",
    "\n",
    "# 1949 Jan 112\n",
    "# day:1 hari 0\n",
    "# day:1 steve 0"
   ]
  },
  {
   "cell_type": "code",
   "execution_count": 33,
   "id": "2f6c8124-beef-4848-a947-cc8a885f23bc",
   "metadata": {},
   "outputs": [],
   "source": [
    "df = pd.DataFrame(data)"
   ]
  },
  {
   "cell_type": "code",
   "execution_count": 34,
   "id": "0af04ff3-211f-4ce5-bedd-00358ea0b6d4",
   "metadata": {},
   "outputs": [
    {
     "data": {
      "text/html": [
       "<div>\n",
       "<style scoped>\n",
       "    .dataframe tbody tr th:only-of-type {\n",
       "        vertical-align: middle;\n",
       "    }\n",
       "\n",
       "    .dataframe tbody tr th {\n",
       "        vertical-align: top;\n",
       "    }\n",
       "\n",
       "    .dataframe thead th {\n",
       "        text-align: right;\n",
       "    }\n",
       "</style>\n",
       "<table border=\"1\" class=\"dataframe\">\n",
       "  <thead>\n",
       "    <tr style=\"text-align: right;\">\n",
       "      <th></th>\n",
       "      <th>days</th>\n",
       "      <th>learners</th>\n",
       "      <th>score</th>\n",
       "    </tr>\n",
       "  </thead>\n",
       "  <tbody>\n",
       "    <tr>\n",
       "      <th>0</th>\n",
       "      <td>1</td>\n",
       "      <td>raja</td>\n",
       "      <td>0</td>\n",
       "    </tr>\n",
       "    <tr>\n",
       "      <th>1</th>\n",
       "      <td>1</td>\n",
       "      <td>hari</td>\n",
       "      <td>0</td>\n",
       "    </tr>\n",
       "    <tr>\n",
       "      <th>2</th>\n",
       "      <td>1</td>\n",
       "      <td>steve</td>\n",
       "      <td>0</td>\n",
       "    </tr>\n",
       "    <tr>\n",
       "      <th>3</th>\n",
       "      <td>2</td>\n",
       "      <td>raja</td>\n",
       "      <td>50</td>\n",
       "    </tr>\n",
       "    <tr>\n",
       "      <th>4</th>\n",
       "      <td>2</td>\n",
       "      <td>hari</td>\n",
       "      <td>40</td>\n",
       "    </tr>\n",
       "    <tr>\n",
       "      <th>5</th>\n",
       "      <td>2</td>\n",
       "      <td>steve</td>\n",
       "      <td>60</td>\n",
       "    </tr>\n",
       "    <tr>\n",
       "      <th>6</th>\n",
       "      <td>3</td>\n",
       "      <td>raja</td>\n",
       "      <td>60</td>\n",
       "    </tr>\n",
       "    <tr>\n",
       "      <th>7</th>\n",
       "      <td>3</td>\n",
       "      <td>hari</td>\n",
       "      <td>45</td>\n",
       "    </tr>\n",
       "    <tr>\n",
       "      <th>8</th>\n",
       "      <td>3</td>\n",
       "      <td>steve</td>\n",
       "      <td>60</td>\n",
       "    </tr>\n",
       "  </tbody>\n",
       "</table>\n",
       "</div>"
      ],
      "text/plain": [
       "   days learners  score\n",
       "0     1     raja      0\n",
       "1     1     hari      0\n",
       "2     1    steve      0\n",
       "3     2     raja     50\n",
       "4     2     hari     40\n",
       "5     2    steve     60\n",
       "6     3     raja     60\n",
       "7     3     hari     45\n",
       "8     3    steve     60"
      ]
     },
     "execution_count": 34,
     "metadata": {},
     "output_type": "execute_result"
    }
   ],
   "source": [
    "df"
   ]
  },
  {
   "cell_type": "code",
   "execution_count": 35,
   "id": "824a23b0-ce66-44f9-a6ec-c144e0c56214",
   "metadata": {},
   "outputs": [
    {
     "data": {
      "text/html": [
       "<div>\n",
       "<style scoped>\n",
       "    .dataframe tbody tr th:only-of-type {\n",
       "        vertical-align: middle;\n",
       "    }\n",
       "\n",
       "    .dataframe tbody tr th {\n",
       "        vertical-align: top;\n",
       "    }\n",
       "\n",
       "    .dataframe thead th {\n",
       "        text-align: right;\n",
       "    }\n",
       "</style>\n",
       "<table border=\"1\" class=\"dataframe\">\n",
       "  <thead>\n",
       "    <tr style=\"text-align: right;\">\n",
       "      <th>learners</th>\n",
       "      <th>hari</th>\n",
       "      <th>raja</th>\n",
       "      <th>steve</th>\n",
       "    </tr>\n",
       "    <tr>\n",
       "      <th>days</th>\n",
       "      <th></th>\n",
       "      <th></th>\n",
       "      <th></th>\n",
       "    </tr>\n",
       "  </thead>\n",
       "  <tbody>\n",
       "    <tr>\n",
       "      <th>1</th>\n",
       "      <td>0</td>\n",
       "      <td>0</td>\n",
       "      <td>0</td>\n",
       "    </tr>\n",
       "    <tr>\n",
       "      <th>2</th>\n",
       "      <td>40</td>\n",
       "      <td>50</td>\n",
       "      <td>60</td>\n",
       "    </tr>\n",
       "    <tr>\n",
       "      <th>3</th>\n",
       "      <td>45</td>\n",
       "      <td>60</td>\n",
       "      <td>60</td>\n",
       "    </tr>\n",
       "  </tbody>\n",
       "</table>\n",
       "</div>"
      ],
      "text/plain": [
       "learners  hari  raja  steve\n",
       "days                       \n",
       "1            0     0      0\n",
       "2           40    50     60\n",
       "3           45    60     60"
      ]
     },
     "execution_count": 35,
     "metadata": {},
     "output_type": "execute_result"
    }
   ],
   "source": [
    "df_wide = df.pivot(index=\"days\", columns=\"learners\", values=\"score\")\n",
    "df_wide.head()"
   ]
  },
  {
   "cell_type": "code",
   "execution_count": 36,
   "id": "fb4f7aaf-e8c6-44f0-878a-bbb95c48fed0",
   "metadata": {},
   "outputs": [],
   "source": [
    "import seaborn as sns"
   ]
  },
  {
   "cell_type": "code",
   "execution_count": 37,
   "id": "d56b3e96-26b9-4f00-9e62-3f3955df09df",
   "metadata": {},
   "outputs": [
    {
     "data": {
      "text/plain": [
       "<Axes: xlabel='days'>"
      ]
     },
     "execution_count": 37,
     "metadata": {},
     "output_type": "execute_result"
    },
    {
     "data": {
      "image/png": "[encoded data removed]",
      "text/plain": [
       "<Figure size 640x480 with 1 Axes>"
      ]
     },
     "metadata": {},
     "output_type": "display_data"
    }
   ],
   "source": [
    "sns.lineplot(data=df_wide)"
   ]
  },
  {
   "cell_type": "code",
   "execution_count": null,
   "id": "b7f2d10e-3092-44fa-96cb-f519e10c1c1e",
   "metadata": {},
   "outputs": [],
   "source": []
  },
  {
   "cell_type": "code",
   "execution_count": null,
   "id": "81bd3816-74a3-4935-8e96-2167adaeff8d",
   "metadata": {},
   "outputs": [],
   "source": []
  }
 ],
 "metadata": {
  "kernelspec": {
   "display_name": "Python 3 (ipykernel)",
   "language": "python",
   "name": "python3"
  },
  "language_info": {
   "codemirror_mode": {
    "name": "ipython",
    "version": 3
   },
   "file_extension": ".py",
   "mimetype": "text/x-python",
   "name": "python",
   "nbconvert_exporter": "python",
   "pygments_lexer": "ipython3",
   "version": "3.12.7"
  }
 },
 "nbformat": 4,
 "nbformat_minor": 5
}

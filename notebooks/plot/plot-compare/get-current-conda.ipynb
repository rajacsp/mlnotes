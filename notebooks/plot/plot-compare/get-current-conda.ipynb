{
 "cells": [
  {
   "cell_type": "code",
   "execution_count": 12,
   "id": "872a07f3-eaf7-419a-a7d1-5791a9c752ed",
   "metadata": {},
   "outputs": [
    {
     "data": {
      "text/plain": [
       "'ml312-2024'"
      ]
     },
     "execution_count": 12,
     "metadata": {},
     "output_type": "execute_result"
    }
   ],
   "source": [
    "import sys\n",
    "import os\n",
    "\n",
    "# Get the parent directory of the current notebook\n",
    "current_dir = os.path.dirname(os.path.abspath(__file__)) if \"__file__\" in globals() else os.getcwd()\n",
    "parent_dir = os.path.abspath(os.path.join(current_dir, \"../../\"))  # Adjust the path to reach the `notebooks` folder\n",
    "\n",
    "# Add the parent directory to sys.path\n",
    "if parent_dir not in sys.path:\n",
    "    sys.path.append(parent_dir)\n",
    "\n",
    "# Now you can import pyutil\n",
    "import pyutil\n",
    "\n",
    "# Example usage of pyutil\n",
    "pyutil.get_myenv()  # Replace with actual function name"
   ]
  },
  {
   "cell_type": "code",
   "execution_count": 7,
   "id": "c3e1f4bc-272f-4cb5-b371-485287a4ddfe",
   "metadata": {},
   "outputs": [
    {
     "name": "stdout",
     "output_type": "stream",
     "text": [
      "ml312-2024\n"
     ]
    }
   ],
   "source": []
  },
  {
   "cell_type": "code",
   "execution_count": null,
   "id": "2989e518-7f86-4a03-ac5b-542e084c5ee4",
   "metadata": {},
   "outputs": [],
   "source": []
  }
 ],
 "metadata": {
  "kernelspec": {
   "display_name": "Python 3 (ipykernel)",
   "language": "python",
   "name": "python3"
  },
  "language_info": {
   "codemirror_mode": {
    "name": "ipython",
    "version": 3
   },
   "file_extension": ".py",
   "mimetype": "text/x-python",
   "name": "python",
   "nbconvert_exporter": "python",
   "pygments_lexer": "ipython3",
   "version": "3.12.7"
  }
 },
 "nbformat": 4,
 "nbformat_minor": 5
}

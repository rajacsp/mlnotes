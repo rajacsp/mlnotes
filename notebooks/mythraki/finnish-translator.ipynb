{
 "cells": [
  {
   "cell_type": "code",
   "execution_count": null,
   "id": "db25c914-1252-4bae-8dbe-3a20e361bd73",
   "metadata": {},
   "outputs": [],
   "source": []
  },
  {
   "cell_type": "code",
   "execution_count": 50,
   "id": "0c10588e-e9e7-4b8c-b92b-91104a273df0",
   "metadata": {},
   "outputs": [
    {
     "data": {
      "text/plain": [
       "'conda env: ml311; pyv: 3.11.10 (main, Oct  3 2024, 07:29:13) [GCC 11.2.0]'"
      ]
     },
     "execution_count": 50,
     "metadata": {},
     "output_type": "execute_result"
    }
   ],
   "source": [
    "import pyutil as pyu\n",
    "pyu.get_local_pyinfo()"
   ]
  },
  {
   "cell_type": "code",
   "execution_count": 51,
   "id": "c2ccb592-b983-4856-a241-5898cab06699",
   "metadata": {},
   "outputs": [
    {
     "name": "stdout",
     "output_type": "stream",
     "text": [
      "translate==3.6.1\n",
      "\n"
     ]
    }
   ],
   "source": [
    "print(pyu.ps2(\"translate\"))"
   ]
  },
  {
   "cell_type": "code",
   "execution_count": 52,
   "id": "e290a4be-0793-4902-b10b-44429cb937f9",
   "metadata": {},
   "outputs": [],
   "source": [
    "# !pip install translate==3.6.1"
   ]
  },
  {
   "cell_type": "code",
   "execution_count": 53,
   "id": "a6054244-33a5-4281-87ea-96886c564a86",
   "metadata": {},
   "outputs": [
    {
     "name": "stdout",
     "output_type": "stream",
     "text": [
      "Original: Hello, how are you?\n",
      "Translated: Hei, mitä kuuluu?\n",
      "\n",
      "Original: I am doing well, thank you.\n",
      "Translated: Minulla menee hyvin, kiitos.\n",
      "\n"
     ]
    }
   ],
   "source": [
    "from translate import Translator\n",
    "\n",
    "# Your contents\n",
    "contents = [\n",
    "    \"Hello, how are you?\",\n",
    "    \"I am doing well, thank you.\"\n",
    "]\n",
    "\n",
    "# Initialize the Translator\n",
    "translator = Translator(to_lang=\"fi\")  # \"fi\" is the language code for Finnish\n",
    "\n",
    "# Translate the contents\n",
    "translated_contents = [translator.translate(text) for text in contents]\n",
    "\n",
    "# Print the results\n",
    "for original, translated in zip(contents, translated_contents):\n",
    "    print(f\"Original: {original}\\nTranslated: {translated}\\n\")"
   ]
  },
  {
   "cell_type": "code",
   "execution_count": 54,
   "id": "931f669e-6a44-4c12-bf53-138ff5386f2a",
   "metadata": {},
   "outputs": [],
   "source": [
    "def tranlsate_to(language, text):\n",
    "\n",
    "    translator = Translator(to_lang=\"fi\")\n",
    "\n",
    "    translated_content = translator.translate(text)\n",
    "\n",
    "    return translated_content"
   ]
  },
  {
   "cell_type": "code",
   "execution_count": 55,
   "id": "7ea13407-50e3-480f-a27c-de4fec4e576f",
   "metadata": {},
   "outputs": [],
   "source": [
    "class CustomTranslator():\n",
    "\n",
    "    def __init__(self, language):\n",
    "        self.translator = Translator(to_lang=language)\n",
    "\n",
    "    def translate(self, text):\n",
    "        return self.translator.translate(text)\n",
    "\n",
    "    def separate_index(self, line):\n",
    "\n",
    "        if \". \" in line:\n",
    "            number, text = line.split(\". \", 1)  # Split by the first occurrence of \". \"\n",
    "        else:\n",
    "            number, text = None, line\n",
    "    \n",
    "        return number, text"
   ]
  },
  {
   "cell_type": "code",
   "execution_count": 56,
   "id": "77e7b5d3-496a-4481-ba7a-5d17a817d2ea",
   "metadata": {},
   "outputs": [],
   "source": [
    "translator = CustomTranslator(\"fi\")"
   ]
  },
  {
   "cell_type": "code",
   "execution_count": 57,
   "id": "6dc7e5b3-09e1-4f97-a172-c5dc5d5b3ab4",
   "metadata": {},
   "outputs": [
    {
     "data": {
      "text/plain": [
       "'Hei'"
      ]
     },
     "execution_count": 57,
     "metadata": {},
     "output_type": "execute_result"
    }
   ],
   "source": [
    "translator.translate(\"hello\")"
   ]
  },
  {
   "cell_type": "code",
   "execution_count": 58,
   "id": "7ecf03bb-c66a-4461-a842-2d195ff7c0c6",
   "metadata": {},
   "outputs": [],
   "source": [
    "# tranlsate_to(\"fi\")"
   ]
  },
  {
   "cell_type": "code",
   "execution_count": 59,
   "id": "5ea8d1e9-cca0-4faf-8117-c28170175550",
   "metadata": {},
   "outputs": [],
   "source": [
    "def separate_index(line):\n",
    "\n",
    "    if \". \" in line:\n",
    "        number, text = line.split(\". \", 1)  # Split by the first occurrence of \". \"\n",
    "    else:\n",
    "        number, text = None, line\n",
    "\n",
    "    return number, text"
   ]
  },
  {
   "cell_type": "code",
   "execution_count": 60,
   "id": "a4dd0bc5-d5a6-4aaa-8b23-042715b159b1",
   "metadata": {},
   "outputs": [],
   "source": [
    "def read_lines_from_file(file):\n",
    "\n",
    "    content = None\n",
    "    with open(file) as f:\n",
    "        content = f.readlines()\n",
    "\n",
    "    #print(content)\n",
    "    #print(type(content))\n",
    "\n",
    "    return content"
   ]
  },
  {
   "cell_type": "code",
   "execution_count": 61,
   "id": "a6e72096-b913-44dc-84a0-628eac802c46",
   "metadata": {},
   "outputs": [],
   "source": [
    "elines = read_lines_from_file('english.txt')"
   ]
  },
  {
   "cell_type": "code",
   "execution_count": 62,
   "id": "79d11cb1-86b6-4c54-99e4-ad51b9c1b840",
   "metadata": {},
   "outputs": [
    {
     "data": {
      "text/plain": [
       "['91. I am waiting for the bus.\\n',\n",
       " '92. The train is delayed.\\n',\n",
       " '93. Where can I get a taxi?\\n',\n",
       " '94. The traffic is very bad today.\\n',\n",
       " '95. How long will it take to get there?\\n',\n",
       " '96. Can you give me directions?\\n',\n",
       " '97. This is my stop.\\n',\n",
       " '98. I prefer to walk.\\n',\n",
       " '99. Is it far from here?\\n',\n",
       " '100. I need to rent a car.']"
      ]
     },
     "execution_count": 62,
     "metadata": {},
     "output_type": "execute_result"
    }
   ],
   "source": [
    "elines"
   ]
  },
  {
   "cell_type": "code",
   "execution_count": 30,
   "id": "129f9262-7f59-4baa-a598-e900ccf426a9",
   "metadata": {},
   "outputs": [],
   "source": [
    "translator = CustomTranslator(\"fi\")"
   ]
  },
  {
   "cell_type": "code",
   "execution_count": 66,
   "id": "90d51d47-0ccd-4d5b-bdf9-148ee6c753a0",
   "metadata": {},
   "outputs": [
    {
     "name": "stdout",
     "output_type": "stream",
     "text": [
      "91. I am waiting for the bus.\n",
      "\n",
      "Odotan bussia.\n",
      "--------------------------------------------------\n",
      "92. The train is delayed.\n",
      "\n",
      "Juna on myöhässä.\n",
      "--------------------------------------------------\n",
      "93. Where can I get a taxi?\n",
      "\n",
      "Mistä voin saada taksin?\n",
      "--------------------------------------------------\n",
      "94. The traffic is very bad today.\n",
      "\n",
      "Liikenne on erittäin huonoa tänään.\n",
      "--------------------------------------------------\n",
      "95. How long will it take to get there?\n",
      "\n",
      "Kuinka kauan perille pääseminen kestää?\n",
      "--------------------------------------------------\n",
      "96. Can you give me directions?\n",
      "\n",
      "Voitko antaa minulle ajo-ohjeet?\n",
      "--------------------------------------------------\n",
      "97. This is my stop.\n",
      "\n",
      "Tämä on pysäkkini.\n",
      "--------------------------------------------------\n",
      "98. I prefer to walk.\n",
      "\n",
      "Kävelen mieluummin.\n",
      "--------------------------------------------------\n",
      "99. Is it far from here?\n",
      "\n",
      "Onko se kaukana täältä?\n",
      "--------------------------------------------------\n",
      "100. I need to rent a car.\n",
      "Minun täytyy vuokrata auto.\n",
      "--------------------------------------------------\n"
     ]
    }
   ],
   "source": [
    "for line in elines:\n",
    "\n",
    "    _, cline = translator.separate_index(line)\n",
    "\n",
    "    translated = translator.translate(cline)\n",
    "\n",
    "    print(f\"{line}\")\n",
    "    print(f\"{translated}\")\n",
    "    print(\"-\"*50)\n",
    "    # print(\"\\n\")"
   ]
  },
  {
   "cell_type": "code",
   "execution_count": null,
   "id": "b5fa083d-c6f2-4d6d-a87b-3443d8d55ff1",
   "metadata": {},
   "outputs": [],
   "source": []
  }
 ],
 "metadata": {
  "kernelspec": {
   "display_name": "Python 3 (ipykernel)",
   "language": "python",
   "name": "python3"
  },
  "language_info": {
   "codemirror_mode": {
    "name": "ipython",
    "version": 3
   },
   "file_extension": ".py",
   "mimetype": "text/x-python",
   "name": "python",
   "nbconvert_exporter": "python",
   "pygments_lexer": "ipython3",
   "version": "3.11.10"
  }
 },
 "nbformat": 4,
 "nbformat_minor": 5
}

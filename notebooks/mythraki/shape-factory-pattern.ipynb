{
 "cells": [
  {
   "cell_type": "code",
   "execution_count": null,
   "id": "db25c914-1252-4bae-8dbe-3a20e361bd73",
   "metadata": {},
   "outputs": [],
   "source": []
  },
  {
   "cell_type": "code",
   "execution_count": 9,
   "id": "0c10588e-e9e7-4b8c-b92b-91104a273df0",
   "metadata": {},
   "outputs": [
    {
     "data": {
      "text/plain": [
       "'conda env: ml311; pyv: 3.11.10 (main, Oct  3 2024, 07:29:13) [GCC 11.2.0]'"
      ]
     },
     "execution_count": 9,
     "metadata": {},
     "output_type": "execute_result"
    }
   ],
   "source": [
    "import pyutil as pyu\n",
    "pyu.get_local_pyinfo()"
   ]
  },
  {
   "cell_type": "code",
   "execution_count": 2,
   "id": "c2ccb592-b983-4856-a241-5898cab06699",
   "metadata": {},
   "outputs": [
    {
     "name": "stdout",
     "output_type": "stream",
     "text": [
      "haystack-ai==2.8.0\n",
      "ollama-haystack is not installed in the current environment.\n",
      "python-dotenv==0.21.0\n",
      "\n"
     ]
    }
   ],
   "source": [
    "print(pyu.ps2(\"haystack-ai ollama-haystack python-dotenv\"))"
   ]
  },
  {
   "cell_type": "code",
   "execution_count": null,
   "id": "e290a4be-0793-4902-b10b-44429cb937f9",
   "metadata": {},
   "outputs": [],
   "source": []
  },
  {
   "cell_type": "code",
   "execution_count": 4,
   "id": "a6054244-33a5-4281-87ea-96886c564a86",
   "metadata": {},
   "outputs": [
    {
     "name": "stdout",
     "output_type": "stream",
     "text": [
      "Drawing a Circle\n",
      "Drawing a Square\n",
      "Drawing a Rectangle\n"
     ]
    }
   ],
   "source": [
    "from abc import ABC, abstractmethod\n",
    "\n",
    "# Step 1: Define an abstract base class (interface)\n",
    "class Shape(ABC):\n",
    "    @abstractmethod\n",
    "    def draw(self):\n",
    "        pass\n",
    "\n",
    "# Step 2: Create concrete implementations of the Shape interface\n",
    "class Circle(Shape):\n",
    "    def draw(self):\n",
    "        return \"Drawing a Circle\"\n",
    "\n",
    "class Square(Shape):\n",
    "    def draw(self):\n",
    "        return \"Drawing a Square\"\n",
    "\n",
    "class Rectangle(Shape):\n",
    "    def draw(self):\n",
    "        return \"Drawing a Rectangle\"\n",
    "\n",
    "# Step 3: Create a Factory class to generate objects\n",
    "class ShapeFactory:\n",
    "    @staticmethod\n",
    "    def get_shape(shape_type):\n",
    "        if shape_type == \"circle\":\n",
    "            return Circle()\n",
    "        elif shape_type == \"square\":\n",
    "            return Square()\n",
    "        elif shape_type == \"rectangle\":\n",
    "            return Rectangle()\n",
    "        else:\n",
    "            raise ValueError(f\"Unknown shape type: {shape_type}\")\n",
    "\n",
    "# Client Code\n",
    "if __name__ == \"__main__\":\n",
    "    # Use the factory to create shapes\n",
    "    factory = ShapeFactory()\n",
    "    \n",
    "    shape1 = factory.get_shape(\"circle\")\n",
    "    print(shape1.draw())  # Output: Drawing a Circle\n",
    "    \n",
    "    shape2 = factory.get_shape(\"square\")\n",
    "    print(shape2.draw())  # Output: Drawing a Square\n",
    "    \n",
    "    shape3 = factory.get_shape(\"rectangle\")\n",
    "    print(shape3.draw())  # Output: Drawing a Rectangle"
   ]
  },
  {
   "cell_type": "code",
   "execution_count": null,
   "id": "aaf84ab2-8f5b-4055-bb99-320af00fa22f",
   "metadata": {},
   "outputs": [],
   "source": []
  },
  {
   "cell_type": "code",
   "execution_count": 8,
   "id": "3b65144f-e57d-4adf-97ce-8e89a7decf8c",
   "metadata": {},
   "outputs": [
    {
     "name": "stdout",
     "output_type": "stream",
     "text": [
      "Initializing Circle...\n",
      "Drawing a Circle\n",
      "Drawing a Circle\n",
      "Initializing Square...\n",
      "Drawing a Square\n",
      "Drawing a Square\n",
      "False\n"
     ]
    }
   ],
   "source": [
    "# Singleton + Factory\n",
    "\n",
    "from abc import ABC, abstractmethod\n",
    "\n",
    "# Abstract Base Class\n",
    "class Shape(ABC):\n",
    "    @abstractmethod\n",
    "    def draw(self):\n",
    "        pass\n",
    "\n",
    "# Concrete Implementation: Circle\n",
    "class Circle(Shape):\n",
    "    _instance = None  # Class-level variable to store the singleton instance\n",
    "\n",
    "    def __new__(cls, *args, **kwargs):\n",
    "        if not cls._instance:\n",
    "            cls._instance = super().__new__(cls)\n",
    "        return cls._instance\n",
    "\n",
    "    def __init__(self):\n",
    "        if not hasattr(self, \"initialized\"):  # To prevent reinitialization\n",
    "            print(\"Initializing Circle...\")\n",
    "            self.initialized = True\n",
    "\n",
    "    def draw(self):\n",
    "        return \"Drawing a Circle\"\n",
    "\n",
    "# Concrete Implementation: Square\n",
    "class Square(Shape):\n",
    "    _instance = None  # Class-level variable to store the singleton instance\n",
    "\n",
    "    def __new__(cls, *args, **kwargs):\n",
    "        if not cls._instance:\n",
    "            cls._instance = super().__new__(cls)\n",
    "        return cls._instance\n",
    "\n",
    "    def __init__(self):\n",
    "        if not hasattr(self, \"initialized\"):  # To prevent reinitialization\n",
    "            print(\"Initializing Square...\")\n",
    "            self.initialized = True\n",
    "\n",
    "    def draw(self):\n",
    "        return \"Drawing a Square\"\n",
    "\n",
    "# Factory Class\n",
    "class ShapeFactory:\n",
    "    @staticmethod\n",
    "    def get_shape(shape_type):\n",
    "        if shape_type == \"circle\":\n",
    "            return Circle()  # Singleton behavior for Circle\n",
    "        elif shape_type == \"square\":\n",
    "            return Square()\n",
    "        else:\n",
    "            raise ValueError(f\"Unknown shape type: {shape_type}\")\n",
    "\n",
    "# Client Code\n",
    "if __name__ == \"__main__\":\n",
    "    factory = ShapeFactory()\n",
    "\n",
    "    # First time creating Circle\n",
    "    shape1 = factory.get_shape(\"circle\")\n",
    "    print(shape1.draw())  # Output: Drawing a Circle\n",
    "\n",
    "    # Reusing the same Circle instance\n",
    "    shape2 = factory.get_shape(\"circle\")\n",
    "    print(shape2.draw())  # Output: Drawing a Circle\n",
    "\n",
    "    # Reusing the same Circle instance\n",
    "    shape2 = factory.get_shape(\"square\")\n",
    "    print(shape2.draw())  # Output: Drawing a Circle\n",
    "\n",
    "    # Reusing the same Circle instance\n",
    "    shape2 = factory.get_shape(\"square\")\n",
    "    print(shape2.draw())  # Output: Drawing a Circle\n",
    "\n",
    "    # Verifying both instances are the same\n",
    "    print(shape1 is shape2)  # Output: True"
   ]
  },
  {
   "cell_type": "code",
   "execution_count": null,
   "id": "fb79269c-a2cd-456b-8d6c-14d182b4500f",
   "metadata": {},
   "outputs": [],
   "source": []
  },
  {
   "cell_type": "code",
   "execution_count": null,
   "id": "0b09b76d-d044-4844-a2c0-6c4e794de498",
   "metadata": {},
   "outputs": [],
   "source": []
  },
  {
   "cell_type": "markdown",
   "id": "30066871-5d07-4bd5-811b-98eb71ad65d4",
   "metadata": {},
   "source": [
    "## Decorator"
   ]
  },
  {
   "cell_type": "code",
   "execution_count": 1,
   "id": "ed1faeec-7dfd-469b-a4a3-b8b1dca589ca",
   "metadata": {},
   "outputs": [
    {
     "name": "stdout",
     "output_type": "stream",
     "text": [
      "draw executed in 0.000000 seconds\n",
      "('Drawing a Circle', '0.000000')\n",
      "draw executed in 0.000000 seconds\n",
      "('Drawing a Square', '0.000000')\n",
      "draw executed in 0.000000 seconds\n",
      "('Drawing a Rectangle', '0.000000')\n"
     ]
    }
   ],
   "source": [
    "import time\n",
    "from abc import ABC, abstractmethod\n",
    "\n",
    "# Step 1: Define an abstract base class (interface)\n",
    "class Shape(ABC):\n",
    "    @abstractmethod\n",
    "    def draw(self):\n",
    "        pass\n",
    "\n",
    "# Step 2: Create concrete implementations of the Shape interface\n",
    "class Circle(Shape):\n",
    "    def draw(self):\n",
    "        return \"Drawing a Circle\"\n",
    "\n",
    "class Square(Shape):\n",
    "    def draw(self):\n",
    "        return \"Drawing a Square\"\n",
    "\n",
    "class Rectangle(Shape):\n",
    "    def draw(self):\n",
    "        return \"Drawing a Rectangle\"\n",
    "\n",
    "# Decorator for measuring execution time\n",
    "def execution_time_wrapper(original_method):\n",
    "    def wrapper(*args, **kwargs):\n",
    "        start_time = time.time()\n",
    "        result = original_method(*args, **kwargs)\n",
    "        end_time = time.time()\n",
    "\n",
    "        execution_time = end_time - start_time\n",
    "        formatted_execution_time = f\"{execution_time:.6f}\"\n",
    "        print(f\"{original_method.__name__} executed in {formatted_execution_time} seconds\")\n",
    "        return result, formatted_execution_time\n",
    "        \n",
    "    return wrapper\n",
    "\n",
    "# Step 3: Create a Factory class to generate objects\n",
    "class ShapeFactory:\n",
    "    @staticmethod\n",
    "    def get_shape(shape_type):\n",
    "        if shape_type == \"circle\":\n",
    "            shape = Circle()\n",
    "        elif shape_type == \"square\":\n",
    "            shape = Square()\n",
    "        elif shape_type == \"rectangle\":\n",
    "            shape = Rectangle()\n",
    "        else:\n",
    "            raise ValueError(f\"Unknown shape type: {shape_type}\")\n",
    "        \n",
    "        # Dynamically wrap the draw method\n",
    "        shape.draw = execution_time_wrapper(shape.draw)\n",
    "        return shape\n",
    "\n",
    "# Client Code\n",
    "if __name__ == \"__main__\":\n",
    "    # Use the factory to create shapes\n",
    "    factory = ShapeFactory()\n",
    "    \n",
    "    shape1 = factory.get_shape(\"circle\")\n",
    "    print(shape1.draw())  # Output: Drawing a Circle with execution time\n",
    "    \n",
    "    shape2 = factory.get_shape(\"square\")\n",
    "    print(shape2.draw())  # Output: Drawing a Square with execution time\n",
    "    \n",
    "    shape3 = factory.get_shape(\"rectangle\")\n",
    "    print(shape3.draw())  # Output: Drawing a Rectangle with execution time"
   ]
  },
  {
   "cell_type": "code",
   "execution_count": null,
   "id": "452f7f53-0594-4e67-8481-5b9dd2fdcad7",
   "metadata": {},
   "outputs": [],
   "source": []
  }
 ],
 "metadata": {
  "kernelspec": {
   "display_name": "Python 3 (ipykernel)",
   "language": "python",
   "name": "python3"
  },
  "language_info": {
   "codemirror_mode": {
    "name": "ipython",
    "version": 3
   },
   "file_extension": ".py",
   "mimetype": "text/x-python",
   "name": "python",
   "nbconvert_exporter": "python",
   "pygments_lexer": "ipython3",
   "version": "3.11.10"
  }
 },
 "nbformat": 4,
 "nbformat_minor": 5
}

{
 "cells": [
  {
   "cell_type": "code",
   "execution_count": 3,
   "id": "db25c914-1252-4bae-8dbe-3a20e361bd73",
   "metadata": {},
   "outputs": [],
   "source": [
    "# https://chatgpt.com/share/6767b5fc-cc44-8002-a0f1-68f486d27d9a"
   ]
  },
  {
   "cell_type": "code",
   "execution_count": 1,
   "id": "0c10588e-e9e7-4b8c-b92b-91104a273df0",
   "metadata": {},
   "outputs": [
    {
     "data": {
      "text/plain": [
       "'conda env: ml311; pyv: 3.11.10 (main, Oct  3 2024, 07:29:13) [GCC 11.2.0]'"
      ]
     },
     "execution_count": 1,
     "metadata": {},
     "output_type": "execute_result"
    }
   ],
   "source": [
    "import pyutil as pyu\n",
    "pyu.get_local_pyinfo()"
   ]
  },
  {
   "cell_type": "code",
   "execution_count": 2,
   "id": "8b880ffc-ec51-4677-a757-75d22a1c8791",
   "metadata": {},
   "outputs": [],
   "source": [
    "# !pip install sacremoses"
   ]
  },
  {
   "cell_type": "code",
   "execution_count": 3,
   "id": "c2ccb592-b983-4856-a241-5898cab06699",
   "metadata": {},
   "outputs": [
    {
     "name": "stdout",
     "output_type": "stream",
     "text": [
      "transformers==4.47.0\n",
      "torch==2.5.1\n",
      "sacremoses==0.0.53\n",
      "\n"
     ]
    }
   ],
   "source": [
    "print(pyu.ps2(\"transformers torch sacremoses\"))"
   ]
  },
  {
   "cell_type": "code",
   "execution_count": null,
   "id": "e290a4be-0793-4902-b10b-44429cb937f9",
   "metadata": {},
   "outputs": [],
   "source": []
  },
  {
   "cell_type": "code",
   "execution_count": 5,
   "id": "a6054244-33a5-4281-87ea-96886c564a86",
   "metadata": {},
   "outputs": [
    {
     "name": "stdout",
     "output_type": "stream",
     "text": [
      "Original: Hello, how are you?\n",
      "Translated: Hei, mitä kuuluu?\n"
     ]
    }
   ],
   "source": [
    "from transformers import AutoModelForSeq2SeqLM, AutoTokenizer\n",
    "\n",
    "# Load a multilingual model (use a Mistral-based model if available)\n",
    "model_name = \"Helsinki-NLP/opus-mt-en-fi\"  # Example model for English to Finnish translation\n",
    "tokenizer = AutoTokenizer.from_pretrained(model_name)\n",
    "model = AutoModelForSeq2SeqLM.from_pretrained(model_name)\n",
    "\n",
    "# Translate a single line\n",
    "english_text = \"Hello, how are you?\"\n",
    "\n",
    "# Tokenize the input\n",
    "inputs = tokenizer.encode(english_text, return_tensors=\"pt\", truncation=True)\n",
    "\n",
    "# Generate translation\n",
    "outputs = model.generate(inputs, max_length=40, num_beams=4, early_stopping=True)\n",
    "finnish_translation = tokenizer.decode(outputs[0], skip_special_tokens=True)\n",
    "\n",
    "# Print the result\n",
    "print(f\"Original: {english_text}\")\n",
    "print(f\"Translated: {finnish_translation}\")"
   ]
  },
  {
   "cell_type": "code",
   "execution_count": null,
   "id": "72a87b87-fa0f-44ff-bab4-5607a15464f2",
   "metadata": {},
   "outputs": [],
   "source": []
  },
  {
   "cell_type": "code",
   "execution_count": null,
   "id": "12a0aee3-3d69-4da8-a4c5-3cea2e07dd92",
   "metadata": {},
   "outputs": [],
   "source": []
  },
  {
   "cell_type": "code",
   "execution_count": null,
   "id": "fe95cbac-9175-4691-952f-441e39259442",
   "metadata": {},
   "outputs": [],
   "source": []
  },
  {
   "cell_type": "code",
   "execution_count": 8,
   "id": "ea2f907c-563e-4b17-89dd-06b5463fe223",
   "metadata": {},
   "outputs": [],
   "source": [
    "from transformers import AutoModelForSeq2SeqLM, AutoTokenizer\n",
    "\n",
    "class CustomTranslatorWithLLM():\n",
    "\n",
    "    def __init__(self, language_code):\n",
    "        model_name = f\"Helsinki-NLP/opus-mt-en-{language_code}\"  # Example model for English to Finnish translation\n",
    "        \n",
    "        self.tokenizer = AutoTokenizer.from_pretrained(model_name)\n",
    "        self.model = AutoModelForSeq2SeqLM.from_pretrained(model_name)\n",
    "\n",
    "    def translate(self, text):\n",
    "\n",
    "        # Tokenize the input\n",
    "        inputs = self.tokenizer.encode(text, return_tensors=\"pt\", truncation=True)\n",
    "        \n",
    "        # Generate translation\n",
    "        outputs = self.model.generate(inputs, max_length=40, num_beams=4, early_stopping=True)\n",
    "        return self.tokenizer.decode(outputs[0], skip_special_tokens=True)\n",
    "\n",
    "    def separate_index(self, line):\n",
    "\n",
    "        if \". \" in line:\n",
    "            number, text = line.split(\". \", 1)  # Split by the first occurrence of \". \"\n",
    "        else:\n",
    "            number, text = None, line\n",
    "    \n",
    "        return number, text"
   ]
  },
  {
   "cell_type": "code",
   "execution_count": null,
   "id": "d872c03c-5d2f-4a04-95d7-5649585df307",
   "metadata": {},
   "outputs": [],
   "source": []
  },
  {
   "cell_type": "code",
   "execution_count": 9,
   "id": "f2eaa479-4eeb-45a9-aff0-4691d770e5b2",
   "metadata": {},
   "outputs": [
    {
     "name": "stderr",
     "output_type": "stream",
     "text": [
      "/home/rajaraman/miniconda3/envs/ml311/lib/python3.11/site-packages/transformers/models/marian/tokenization_marian.py:175: UserWarning: Recommended: pip install sacremoses.\n",
      "  warnings.warn(\"Recommended: pip install sacremoses.\")\n"
     ]
    }
   ],
   "source": [
    "translator = CustomTranslatorWithLLM(\"fi\")"
   ]
  },
  {
   "cell_type": "code",
   "execution_count": 13,
   "id": "ddeadacf-0b96-454e-b7a0-76bd466b0936",
   "metadata": {},
   "outputs": [
    {
     "data": {
      "text/plain": [
       "'Mistä saan taksin?'"
      ]
     },
     "execution_count": 13,
     "metadata": {},
     "output_type": "execute_result"
    }
   ],
   "source": [
    "translator.translate(\"Where can I get a taxi?\")"
   ]
  },
  {
   "cell_type": "code",
   "execution_count": null,
   "id": "1782ce90-ba37-42e6-9f43-5213ce6f378c",
   "metadata": {},
   "outputs": [],
   "source": [
    "contents = \"\"\"\n",
    "1. Hello, how are you?\n",
    "2. I am doing well, thank you.\n",
    "3. What is your name?\n",
    "4. My name is Sarah.\n",
    "\"\"\""
   ]
  }
 ],
 "metadata": {
  "kernelspec": {
   "display_name": "Python 3 (ipykernel)",
   "language": "python",
   "name": "python3"
  },
  "language_info": {
   "codemirror_mode": {
    "name": "ipython",
    "version": 3
   },
   "file_extension": ".py",
   "mimetype": "text/x-python",
   "name": "python",
   "nbconvert_exporter": "python",
   "pygments_lexer": "ipython3",
   "version": "3.11.10"
  }
 },
 "nbformat": 4,
 "nbformat_minor": 5
}

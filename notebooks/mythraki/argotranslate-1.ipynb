{
 "cells": [
  {
   "cell_type": "code",
   "execution_count": null,
   "id": "db25c914-1252-4bae-8dbe-3a20e361bd73",
   "metadata": {},
   "outputs": [],
   "source": []
  },
  {
   "cell_type": "code",
   "execution_count": 1,
   "id": "0c10588e-e9e7-4b8c-b92b-91104a273df0",
   "metadata": {},
   "outputs": [
    {
     "data": {
      "text/plain": [
       "'conda env: ml311; pyv: 3.11.10 (main, Oct  3 2024, 07:29:13) [GCC 11.2.0]'"
      ]
     },
     "execution_count": 1,
     "metadata": {},
     "output_type": "execute_result"
    }
   ],
   "source": [
    "import pyutil as pyu\n",
    "pyu.get_local_pyinfo()"
   ]
  },
  {
   "cell_type": "code",
   "execution_count": 3,
   "id": "58536e55-8b5c-46c0-9e9d-7e23d2d7b942",
   "metadata": {},
   "outputs": [],
   "source": [
    "# !pip install argostranslate"
   ]
  },
  {
   "cell_type": "code",
   "execution_count": 4,
   "id": "c2ccb592-b983-4856-a241-5898cab06699",
   "metadata": {},
   "outputs": [
    {
     "name": "stdout",
     "output_type": "stream",
     "text": [
      "argostranslate==1.9.6\n",
      "\n"
     ]
    }
   ],
   "source": [
    "print(pyu.ps2(\"argostranslate\"))"
   ]
  },
  {
   "cell_type": "code",
   "execution_count": null,
   "id": "e290a4be-0793-4902-b10b-44429cb937f9",
   "metadata": {},
   "outputs": [],
   "source": []
  },
  {
   "cell_type": "code",
   "execution_count": 5,
   "id": "a6054244-33a5-4281-87ea-96886c564a86",
   "metadata": {},
   "outputs": [
    {
     "name": "stderr",
     "output_type": "stream",
     "text": [
      "/home/rajaraman/miniconda3/envs/ml311/lib/python3.11/site-packages/torch/cuda/__init__.py:129: UserWarning: CUDA initialization: CUDA unknown error - this may be due to an incorrectly set up environment, e.g. changing env variable CUDA_VISIBLE_DEVICES after program start. Setting the available devices to be zero. (Triggered internally at ../c10/cuda/CUDAFunctions.cpp:108.)\n",
      "  return torch._C._cuda_getDeviceCount() > 0\n",
      "/home/rajaraman/miniconda3/envs/ml311/lib/python3.11/site-packages/stanza/models/tokenize/trainer.py:85: FutureWarning: You are using `torch.load` with `weights_only=False` (the current default value), which uses the default pickle module implicitly. It is possible to construct malicious pickle data which will execute arbitrary code during unpickling (See https://github.com/pytorch/pytorch/blob/main/SECURITY.md#untrusted-models for more details). In a future release, the default value for `weights_only` will be flipped to `True`. This limits the functions that could be executed during unpickling. Arbitrary objects will no longer be allowed to be loaded via this mode unless they are explicitly allowlisted by the user via `torch.serialization.add_safe_globals`. We recommend you start setting `weights_only=True` for any use case where you don't have full control of the loaded file. Please open an issue on GitHub for any issues related to this experimental feature.\n",
      "  checkpoint = torch.load(filename, lambda storage, loc: storage)\n"
     ]
    },
    {
     "name": "stdout",
     "output_type": "stream",
     "text": [
      "Original: Hello, how are you?\n",
      "Translated: Hei, mitä kuuluu?\n",
      "\n",
      "Original: I am doing well, thank you.\n",
      "Translated: Pärjään hyvin, kiitos.\n",
      "\n",
      "Original: What is your name?\n",
      "Translated: Mikä sinun nimesi on?\n",
      "\n",
      "Original: My name is Sarah.\n",
      "Translated: Nimeni on Sarah.\n",
      "\n",
      "Original: Where are you from?\n",
      "Translated: Mistä olet kotoisin?\n",
      "\n"
     ]
    },
    {
     "name": "stderr",
     "output_type": "stream",
     "text": [
      "/home/rajaraman/miniconda3/envs/ml311/lib/python3.11/site-packages/stanza/models/tokenize/trainer.py:85: FutureWarning: You are using `torch.load` with `weights_only=False` (the current default value), which uses the default pickle module implicitly. It is possible to construct malicious pickle data which will execute arbitrary code during unpickling (See https://github.com/pytorch/pytorch/blob/main/SECURITY.md#untrusted-models for more details). In a future release, the default value for `weights_only` will be flipped to `True`. This limits the functions that could be executed during unpickling. Arbitrary objects will no longer be allowed to be loaded via this mode unless they are explicitly allowlisted by the user via `torch.serialization.add_safe_globals`. We recommend you start setting `weights_only=True` for any use case where you don't have full control of the loaded file. Please open an issue on GitHub for any issues related to this experimental feature.\n",
      "  checkpoint = torch.load(filename, lambda storage, loc: storage)\n"
     ]
    }
   ],
   "source": [
    "import argostranslate.package\n",
    "import argostranslate.translate\n",
    "\n",
    "# Download and install the Finnish language package\n",
    "from_code = \"en\"\n",
    "to_code = \"fi\"\n",
    "argostranslate.package.update_package_index()\n",
    "available_packages = argostranslate.package.get_available_packages()\n",
    "package_to_install = next(\n",
    "    filter(\n",
    "        lambda x: x.from_code == from_code and x.to_code == to_code,\n",
    "        available_packages\n",
    "    )\n",
    ")\n",
    "argostranslate.package.install_from_path(package_to_install.download())\n",
    "\n",
    "# Your contents\n",
    "contents = [\n",
    "    \"Hello, how are you?\",\n",
    "    \"I am doing well, thank you.\",\n",
    "    \"What is your name?\",\n",
    "    \"My name is Sarah.\",\n",
    "    \"Where are you from?\"\n",
    "]\n",
    "\n",
    "# Translate the contents\n",
    "translated_contents = [\n",
    "    argostranslate.translate.translate(text, from_code, to_code)\n",
    "    for text in contents\n",
    "]\n",
    "\n",
    "# Print the results\n",
    "for original, translated in zip(contents, translated_contents):\n",
    "    print(f\"Original: {original}\\nTranslated: {translated}\\n\")"
   ]
  },
  {
   "cell_type": "code",
   "execution_count": null,
   "id": "a56ff5c1-be6f-45eb-a195-a624163ad7e3",
   "metadata": {},
   "outputs": [],
   "source": []
  }
 ],
 "metadata": {
  "kernelspec": {
   "display_name": "Python 3 (ipykernel)",
   "language": "python",
   "name": "python3"
  },
  "language_info": {
   "codemirror_mode": {
    "name": "ipython",
    "version": 3
   },
   "file_extension": ".py",
   "mimetype": "text/x-python",
   "name": "python",
   "nbconvert_exporter": "python",
   "pygments_lexer": "ipython3",
   "version": "3.11.10"
  }
 },
 "nbformat": 4,
 "nbformat_minor": 5
}

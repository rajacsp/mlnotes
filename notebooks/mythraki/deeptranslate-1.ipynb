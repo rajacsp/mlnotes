{
 "cells": [
  {
   "cell_type": "code",
   "execution_count": null,
   "id": "db25c914-1252-4bae-8dbe-3a20e361bd73",
   "metadata": {},
   "outputs": [],
   "source": []
  },
  {
   "cell_type": "code",
   "execution_count": 1,
   "id": "0c10588e-e9e7-4b8c-b92b-91104a273df0",
   "metadata": {},
   "outputs": [
    {
     "data": {
      "text/plain": [
       "'conda env: ml311; pyv: 3.11.10 (main, Oct  3 2024, 07:29:13) [GCC 11.2.0]'"
      ]
     },
     "execution_count": 1,
     "metadata": {},
     "output_type": "execute_result"
    }
   ],
   "source": [
    "import pyutil as pyu\n",
    "pyu.get_local_pyinfo()"
   ]
  },
  {
   "cell_type": "code",
   "execution_count": 4,
   "id": "c043fb7f-c761-478a-bd1f-5478a33b239a",
   "metadata": {},
   "outputs": [],
   "source": [
    "# !pip install deep-translator"
   ]
  },
  {
   "cell_type": "code",
   "execution_count": 7,
   "id": "c2ccb592-b983-4856-a241-5898cab06699",
   "metadata": {},
   "outputs": [
    {
     "name": "stdout",
     "output_type": "stream",
     "text": [
      "deep-translator==1.11.4\n",
      "faker==33.1.0\n",
      "\n"
     ]
    }
   ],
   "source": [
    "print(pyu.ps2(\"deep-translator faker\"))"
   ]
  },
  {
   "cell_type": "code",
   "execution_count": null,
   "id": "e290a4be-0793-4902-b10b-44429cb937f9",
   "metadata": {},
   "outputs": [],
   "source": []
  },
  {
   "cell_type": "code",
   "execution_count": 6,
   "id": "a6054244-33a5-4281-87ea-96886c564a86",
   "metadata": {},
   "outputs": [
    {
     "name": "stdout",
     "output_type": "stream",
     "text": [
      "Original: Hello, how are you?\n",
      "Translated: Hei, kuinka voit?\n",
      "\n",
      "Original: I am doing well, thank you.\n",
      "Translated: Voin hyvin, kiitos.\n",
      "\n",
      "Original: What is your name?\n",
      "Translated: Mikä sinun nimesi on?\n",
      "\n",
      "Original: My name is Sarah.\n",
      "Translated: Nimeni on Sarah.\n",
      "\n",
      "Original: Where are you from?\n",
      "Translated: Mistä olet kotoisin?\n",
      "\n"
     ]
    }
   ],
   "source": [
    "from deep_translator import GoogleTranslator\n",
    "\n",
    "# Your contents\n",
    "contents = [\n",
    "    \"Hello, how are you?\",\n",
    "    \"I am doing well, thank you.\",\n",
    "    \"What is your name?\",\n",
    "    \"My name is Sarah.\",\n",
    "    \"Where are you from?\"\n",
    "]\n",
    "\n",
    "# Initialize the translator\n",
    "translator = GoogleTranslator(source='auto', target='fi')  # 'fi' is the language code for Finnish\n",
    "\n",
    "# Translate the contents\n",
    "translated_contents = [translator.translate(text) for text in contents]\n",
    "\n",
    "# Print the results\n",
    "for original, translated in zip(contents, translated_contents):\n",
    "    print(f\"Original: {original}\\nTranslated: {translated}\\n\")"
   ]
  },
  {
   "cell_type": "code",
   "execution_count": null,
   "id": "6f10bb7d-eb8d-48d3-8114-71471b76662d",
   "metadata": {},
   "outputs": [],
   "source": []
  }
 ],
 "metadata": {
  "kernelspec": {
   "display_name": "Python 3 (ipykernel)",
   "language": "python",
   "name": "python3"
  },
  "language_info": {
   "codemirror_mode": {
    "name": "ipython",
    "version": 3
   },
   "file_extension": ".py",
   "mimetype": "text/x-python",
   "name": "python",
   "nbconvert_exporter": "python",
   "pygments_lexer": "ipython3",
   "version": "3.11.10"
  }
 },
 "nbformat": 4,
 "nbformat_minor": 5
}

{
 "cells": [
  {
   "cell_type": "code",
   "execution_count": null,
   "id": "db25c914-1252-4bae-8dbe-3a20e361bd73",
   "metadata": {},
   "outputs": [],
   "source": []
  },
  {
   "cell_type": "code",
   "execution_count": 13,
   "id": "0c10588e-e9e7-4b8c-b92b-91104a273df0",
   "metadata": {},
   "outputs": [
    {
     "data": {
      "text/plain": [
       "'conda env: ml311; pyv: 3.11.10 (main, Oct  3 2024, 07:29:13) [GCC 11.2.0]'"
      ]
     },
     "execution_count": 13,
     "metadata": {},
     "output_type": "execute_result"
    }
   ],
   "source": [
    "import pyutil as pyu\n",
    "pyu.get_local_pyinfo()"
   ]
  },
  {
   "cell_type": "code",
   "execution_count": 14,
   "id": "c2ccb592-b983-4856-a241-5898cab06699",
   "metadata": {},
   "outputs": [
    {
     "name": "stdout",
     "output_type": "stream",
     "text": [
      "haystack-ai==2.8.0\n",
      "ollama-haystack is not installed in the current environment.\n",
      "python-dotenv==0.21.0\n",
      "\n"
     ]
    }
   ],
   "source": [
    "print(pyu.ps2(\"haystack-ai ollama-haystack python-dotenv\"))"
   ]
  },
  {
   "cell_type": "code",
   "execution_count": null,
   "id": "e290a4be-0793-4902-b10b-44429cb937f9",
   "metadata": {},
   "outputs": [],
   "source": []
  },
  {
   "cell_type": "code",
   "execution_count": 15,
   "id": "a6054244-33a5-4281-87ea-96886c564a86",
   "metadata": {},
   "outputs": [],
   "source": [
    "from abc import ABC, abstractmethod\n",
    "from translate import Translator\n",
    "from transformers import AutoModelForSeq2SeqLM, AutoTokenizer\n",
    "\n",
    "# Step 1: Define an abstract base class (interface)\n",
    "class CustomTranslator(ABC):\n",
    "    @abstractmethod\n",
    "    def translate(self):\n",
    "        pass"
   ]
  },
  {
   "cell_type": "code",
   "execution_count": 16,
   "id": "e2128d9d-0bda-4d29-af4a-40618e539015",
   "metadata": {},
   "outputs": [],
   "source": [
    "class CTranslatorVanilla(CustomTranslator):\n",
    "\n",
    "    _instance = None\n",
    "\n",
    "    def __new__(cls, *args, **kwargs):\n",
    "        if not cls._instance:\n",
    "            cls._instance = super().__new__(cls)\n",
    "        return cls._instance\n",
    "\n",
    "    def __init__(self, language_code):\n",
    "\n",
    "        if not hasattr(self, \"initialized\"):  # To prevent reinitialization\n",
    "            print(\"vanilla init called\")\n",
    "            self.initialized = True\n",
    "            self.translator = Translator(to_lang=language_code)\n",
    "        \n",
    "    def translate(self, text):\n",
    "        return self.translator.translate(text)"
   ]
  },
  {
   "cell_type": "code",
   "execution_count": 20,
   "id": "1308c307-e381-40dd-b7f1-ca471271e161",
   "metadata": {},
   "outputs": [],
   "source": [
    "class CTranslatorLLM(CustomTranslator):\n",
    "\n",
    "    _instance = None\n",
    "\n",
    "    def __new__(cls, *args, **kwargs):\n",
    "        if not cls._instance:\n",
    "            cls._instance = super().__new__(cls)\n",
    "        return cls._instance\n",
    "\n",
    "    def __init__(self, language_code):\n",
    "\n",
    "        if not hasattr(self, \"initialized\"):  # To prevent reinitialization\n",
    "            print(\"llm init called\")\n",
    "            self.initialized = True\n",
    "            \n",
    "            model_name = f\"Helsinki-NLP/opus-mt-en-{language_code}\"\n",
    "    \n",
    "            self.tokenizer = AutoTokenizer.from_pretrained(model_name)\n",
    "            self.model = AutoModelForSeq2SeqLM.from_pretrained(model_name)\n",
    "        \n",
    "    def translate(self, text):\n",
    "\n",
    "        # Tokenize the input\n",
    "        inputs = self.tokenizer.encode(text, return_tensors=\"pt\", truncation=True)\n",
    "        \n",
    "        # Generate translation\n",
    "        outputs = self.model.generate(inputs, max_length=40, num_beams=4, early_stopping=True)\n",
    "        return self.tokenizer.decode(outputs[0], skip_special_tokens=True)"
   ]
  },
  {
   "cell_type": "code",
   "execution_count": 21,
   "id": "509ba35d-b7e3-432e-9557-92c0151ba892",
   "metadata": {},
   "outputs": [],
   "source": [
    "current_language_code = \"fi\"\n",
    "\n",
    "# Step 3: Create a Factory class to generate objects\n",
    "class CustomTranslatorFactory:\n",
    "    @staticmethod\n",
    "    def get_custom_translator(translator_type):\n",
    "        if translator_type == \"vanilla\":\n",
    "            return CTranslatorVanilla(current_language_code)\n",
    "        elif translator_type == \"llm\":\n",
    "            return CTranslatorLLM(current_language_code)\n",
    "        else:\n",
    "            raise ValueError(f\"Unknown shape type: {shape_type}\")"
   ]
  },
  {
   "cell_type": "code",
   "execution_count": 22,
   "id": "77b0bdaa-d41c-4d4d-bd63-10f39aabaf3f",
   "metadata": {},
   "outputs": [
    {
     "name": "stdout",
     "output_type": "stream",
     "text": [
      "Miten voit?\n",
      "llm init called\n",
      "Mitä kuuluu?\n",
      "Missä olet?\n"
     ]
    }
   ],
   "source": [
    "# Client Code\n",
    "if __name__ == \"__main__\":\n",
    "    # Use the factory to create shapes\n",
    "    ctranslator_factory = CustomTranslatorFactory()\n",
    "    \n",
    "    shape1 = ctranslator_factory.get_custom_translator(\"vanilla\")\n",
    "    print(shape1.translate(\"how are you?\"))\n",
    "\n",
    "    shape2 = ctranslator_factory.get_custom_translator(\"llm\")\n",
    "    print(shape2.translate(\"how are you?\"))\n",
    "\n",
    "    shape2 = ctranslator_factory.get_custom_translator(\"llm\")\n",
    "    print(shape2.translate(\"where are you?\"))"
   ]
  },
  {
   "cell_type": "code",
   "execution_count": null,
   "id": "e48a4612-2705-4c29-8b8b-823755c8aa09",
   "metadata": {},
   "outputs": [],
   "source": []
  },
  {
   "cell_type": "code",
   "execution_count": null,
   "id": "4a40d348-ac30-4801-a984-ba43a5f10daa",
   "metadata": {},
   "outputs": [],
   "source": []
  }
 ],
 "metadata": {
  "kernelspec": {
   "display_name": "Python 3 (ipykernel)",
   "language": "python",
   "name": "python3"
  },
  "language_info": {
   "codemirror_mode": {
    "name": "ipython",
    "version": 3
   },
   "file_extension": ".py",
   "mimetype": "text/x-python",
   "name": "python",
   "nbconvert_exporter": "python",
   "pygments_lexer": "ipython3",
   "version": "3.11.10"
  }
 },
 "nbformat": 4,
 "nbformat_minor": 5
}

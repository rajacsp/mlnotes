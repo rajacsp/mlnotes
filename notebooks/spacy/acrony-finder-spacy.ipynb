{
 "cells": [
  {
   "cell_type": "code",
   "execution_count": null,
   "id": "cda607c1-b713-4d7b-b3ea-99368654947e",
   "metadata": {},
   "outputs": [],
   "source": []
  },
  {
   "cell_type": "code",
   "execution_count": 3,
   "id": "05c0aec5-6385-4e91-8e88-f17a321fcbac",
   "metadata": {},
   "outputs": [],
   "source": [
    "# !pip install spacy"
   ]
  },
  {
   "cell_type": "code",
   "execution_count": 9,
   "id": "43c69324-9c02-4150-8d88-c1273e6a462b",
   "metadata": {},
   "outputs": [],
   "source": [
    "import spacy"
   ]
  },
  {
   "cell_type": "code",
   "execution_count": 10,
   "id": "a46b99b4-c0f3-4521-af4c-22569c566a01",
   "metadata": {},
   "outputs": [
    {
     "data": {
      "text/plain": [
       "'3.8.2'"
      ]
     },
     "execution_count": 10,
     "metadata": {},
     "output_type": "execute_result"
    }
   ],
   "source": [
    "spacy.__version__"
   ]
  },
  {
   "cell_type": "code",
   "execution_count": 15,
   "id": "9948924c-5ee8-4dfa-baf0-21b207193068",
   "metadata": {},
   "outputs": [],
   "source": [
    "# !python -m spacy download en_core_web_sm"
   ]
  },
  {
   "cell_type": "code",
   "execution_count": 16,
   "id": "b04b1143-64d8-4269-80c6-6845cc003ba0",
   "metadata": {},
   "outputs": [],
   "source": [
    "import re"
   ]
  },
  {
   "cell_type": "code",
   "execution_count": 17,
   "id": "2ad85111-47ea-46d5-a001-7d43e84b8cf8",
   "metadata": {},
   "outputs": [],
   "source": [
    "# Load the spaCy model\n",
    "nlp = spacy.load(\"en_core_web_sm\")"
   ]
  },
  {
   "cell_type": "code",
   "execution_count": 24,
   "id": "5b7b4a67-6f21-4a38-9c21-9a19d6de2583",
   "metadata": {},
   "outputs": [],
   "source": [
    "# Sample text\n",
    "text = \"California Xgb is a great tool for machine learning. Another example is AI. NTLK is very slow and not recommended high speed ML scenarios\""
   ]
  },
  {
   "cell_type": "code",
   "execution_count": 25,
   "id": "b6fec4c5-1706-47ef-9456-fe3515ed621a",
   "metadata": {},
   "outputs": [],
   "source": [
    "# Tokenize and process the text\n",
    "doc = nlp(text)"
   ]
  },
  {
   "cell_type": "code",
   "execution_count": 26,
   "id": "91980abc-cdf8-401b-b7d5-fdb42026470a",
   "metadata": {},
   "outputs": [],
   "source": [
    "# Define a function to extract acronyms\n",
    "def find_acronyms(text):\n",
    "    # Match patterns for acronyms: Uppercase words or mixed case like \"Xgb\"\n",
    "    pattern = re.compile(r'\\b[A-Z]{2,5}\\b|\\b[A-Z][a-zA-Z0-9]{2,4}\\b')\n",
    "    return pattern.findall(text)"
   ]
  },
  {
   "cell_type": "code",
   "execution_count": 27,
   "id": "1976735e-87df-4ecf-8b20-94aae4c7afb7",
   "metadata": {},
   "outputs": [],
   "source": [
    "# Extract acronyms\n",
    "acronyms = find_acronyms(text)"
   ]
  },
  {
   "cell_type": "code",
   "execution_count": 28,
   "id": "6d2b4f3a-963a-481f-affb-2f5b3a085c02",
   "metadata": {},
   "outputs": [
    {
     "name": "stdout",
     "output_type": "stream",
     "text": [
      "Acronyms found: ['Xgb', 'AI', 'NTLK', 'ML']\n"
     ]
    }
   ],
   "source": [
    "print(\"Acronyms found:\", acronyms)"
   ]
  },
  {
   "cell_type": "code",
   "execution_count": null,
   "id": "4ecd562e-a3b9-41fc-92aa-b9c920ace3d7",
   "metadata": {},
   "outputs": [],
   "source": []
  }
 ],
 "metadata": {
  "kernelspec": {
   "display_name": "Python 3 (ipykernel)",
   "language": "python",
   "name": "python3"
  },
  "language_info": {
   "codemirror_mode": {
    "name": "ipython",
    "version": 3
   },
   "file_extension": ".py",
   "mimetype": "text/x-python",
   "name": "python",
   "nbconvert_exporter": "python",
   "pygments_lexer": "ipython3",
   "version": "3.12.4"
  }
 },
 "nbformat": 4,
 "nbformat_minor": 5
}

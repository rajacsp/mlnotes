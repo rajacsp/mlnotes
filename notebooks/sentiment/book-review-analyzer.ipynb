{
 "cells": [
  {
   "cell_type": "raw",
   "metadata": {},
   "source": [
    "---\n",
    "title: \"Book Review Analyzer\"\n",
    "author: \"Rj\"\n",
    "date: 2019-04-20\n",
    "description: \"List Test\"\n",
    "type: technical_note\n",
    "draft: false\n",
    "---"
   ]
  },
  {
   "cell_type": "code",
   "execution_count": 1,
   "metadata": {},
   "outputs": [],
   "source": [
    "import json\n",
    "from pprint import pprint\n",
    "from nltk.sentiment.vader import SentimentIntensityAnalyzer\n",
    "import numpy as np\n",
    "import matplotlib.pyplot as plt\n",
    "import pandas as pd"
   ]
  },
  {
   "cell_type": "code",
   "execution_count": 2,
   "metadata": {},
   "outputs": [],
   "source": [
    "data = json.load(open('book-review.json'))"
   ]
  },
  {
   "cell_type": "code",
   "execution_count": 6,
   "metadata": {},
   "outputs": [],
   "source": [
    "twt = data['reviews'][1]['text']"
   ]
  },
  {
   "cell_type": "code",
   "execution_count": 7,
   "metadata": {},
   "outputs": [
    {
     "data": {
      "text/plain": [
       "'the text reveals the mentality of the CIA so that it reveals the group think which is necessary for understanding its philosophical shallowness'"
      ]
     },
     "execution_count": 7,
     "metadata": {},
     "output_type": "execute_result"
    }
   ],
   "source": [
    "twt"
   ]
  },
  {
   "cell_type": "code",
   "execution_count": 8,
   "metadata": {},
   "outputs": [],
   "source": [
    "tweet_index = []\n",
    "tweet_date = []\n",
    "positive_reviews = []\n",
    "negative_reviews = []"
   ]
  },
  {
   "cell_type": "code",
   "execution_count": 9,
   "metadata": {},
   "outputs": [],
   "source": [
    "tw_counter = 0\n",
    "def analyze_local(sentence, tw_date):\n",
    "    sid = SentimentIntensityAnalyzer()\n",
    "    \n",
    "    print(sentence)\n",
    "    global tw_counter\n",
    "    tw_counter += 1\n",
    "    ss = sid.polarity_scores(sentence)\n",
    "    print(ss['pos'])\n",
    "    positive_reviews.append(ss['pos'])\n",
    "    negative_reviews.append(-ss['neg'])    \n",
    "    tweet_index.append(tw_counter)\n",
    "    current_date = pd.to_datetime(tw_date).date()\n",
    "    #print(current_date)\n",
    "    tweet_date.append(current_date)\n",
    "    \n",
    "    '''\n",
    "    for k in sorted(ss):\n",
    "        #print(ss)\n",
    "        print('{0}: {1}, '.format(k, ss[k]), end = '')\n",
    "    '''"
   ]
  },
  {
   "cell_type": "code",
   "execution_count": 10,
   "metadata": {},
   "outputs": [],
   "source": [
    "def plot_data():\n",
    "    # evenly sampled time at 200ms intervals\n",
    "    \n",
    "    #myneglist = [ -x for x in negative_reviews]\n",
    "\n",
    "    # red dashes, blue squares and green triangles\n",
    "    plt.title('Sentiment Analysis : Positive (blue) and Negative (red)')\n",
    "    plt.plot(tweet_date, positive_reviews, 'b--', tweet_date, negative_reviews, 'r--')\n",
    "    #plt.plot(tweet_date, negative_reviews, 'r--')\n",
    "    plt.show()"
   ]
  },
  {
   "cell_type": "code",
   "execution_count": 11,
   "metadata": {},
   "outputs": [
    {
     "name": "stdout",
     "output_type": "stream",
     "text": [
      "{'text': 'Much too concerned with the structure and functions of the CIA and not with the crentral theme suggested by the title.', 'created_at': 'Mon Jan 01 13:37:52 +0000 2018'}\n",
      "Much too concerned with the structure and functions of the CIA and not with the crentral theme suggested by the title.\n",
      "0.0\n",
      "the text reveals the mentality of the CIA so that it reveals the group think which is necessary for understanding its philosophical shallowness\n",
      "0.0\n",
      "The book is what I expected to be and more....now I have confirmation. Should I believe what I read........this is another question which the reader can only answer for his / her self. The world which we all live in has many twists on the truth and lies about everything....obviously our actions may they be positive or negative will be definitely affecting the out come of our lives. The book is worth reading as far has I'm concerned.\n",
      "0.125\n",
      "I guess a gag order is a gag order. I was disappointed with this book. There wasn't anything in it that you couldn't find on line with browser search. It seemed to be more pro Cia then his video's that talked about what his family was put through. Which only a couple of pages at the end spoke about in heavy blanked out sections. I would not buy any more of his other books if they are going to be like this one. He may have put his heart and soul into it but having the Cia approve everything that was written just doesn't cut it for me. Get books that aren't censored by Cia if you want real information. Like one reviewer said, this is not a whistle blower book.\n",
      "0.078\n",
      "The book is easy to read and follow. It is very understandable along with a lot of intrigue on the workings of the CIA. It's difficult to understand the treatment by the CIA of one of their officials and long time employee. His treatment by them was off the charts and some ot his co-workers, superiors and others were off the reservation. I recommend for anyone interested in how our loyal, patriotic public servants are treated when they don't adhere to a direction that is contrary to our Country.\n",
      "0.138\n",
      "Excellent source of information about our government and how corruption take s hold when we as citizens and political oversight management fail to pay attention.\n",
      "0.125\n",
      "Lots of info.Goes in line with other books I have read.This will open your eyes to what the gov is doing that the media will not tell you.\n",
      "0.0\n",
      "The detail of what an agent goes through was intriguing. The problem is, a lot of stuff he talked about regarding 9/11 and the Iraq war was regurgitated mainstream media talking points. He really didn't expose what really went on behind the scenes like real whistleblower agents already have. Very disappointing in that sense.\n",
      "0.068\n"
     ]
    },
    {
     "name": "stderr",
     "output_type": "stream",
     "text": [
      "/Users/rajacsp/anaconda3/envs/py36/lib/python3.6/site-packages/pandas/plotting/_converter.py:129: FutureWarning: Using an implicitly registered datetime converter for a matplotlib plotting method. The converter was registered by pandas on import. Future versions of pandas will require you to explicitly register matplotlib converters.\n",
      "\n",
      "To register the converters:\n",
      "\t>>> from pandas.plotting import register_matplotlib_converters\n",
      "\t>>> register_matplotlib_converters()\n",
      "  warnings.warn(msg, FutureWarning)\n"
     ]
    },
    {
     "data": {
      "image/png": "[encoded data removed]",
      "text/plain": [
       "<Figure size 432x288 with 1 Axes>"
      ]
     },
     "metadata": {},
     "output_type": "display_data"
    }
   ],
   "source": [
    "print(data['reviews'][0])    \n",
    "\n",
    "total_reviews = len(data['reviews'])\n",
    "for x in range(total_reviews):\n",
    "    analyze_local(data['reviews'][x]['text'], data['reviews'][x]['created_at'])\n",
    "\n",
    "plot_data() "
   ]
  },
  {
   "cell_type": "code",
   "execution_count": null,
   "metadata": {},
   "outputs": [],
   "source": []
  }
 ],
 "metadata": {
  "kernelspec": {
   "display_name": "Python 3",
   "language": "python",
   "name": "python3"
  },
  "language_info": {
   "codemirror_mode": {
    "name": "ipython",
    "version": 3
   },
   "file_extension": ".py",
   "mimetype": "text/x-python",
   "name": "python",
   "nbconvert_exporter": "python",
   "pygments_lexer": "ipython3",
   "version": "3.6.8"
  }
 },
 "nbformat": 4,
 "nbformat_minor": 2
}
